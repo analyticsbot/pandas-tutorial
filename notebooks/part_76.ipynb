{
 "cells": [
  {
   "cell_type": "markdown",
   "metadata": {},
   "source": [
    "# Pandas Part 76: More Index Methods and IntervalIndex\n",
    "\n",
    "This notebook explores additional Index methods and the IntervalIndex class."
   ]
  },
  {
   "cell_type": "code",
   "execution_count": null,
   "metadata": {},
   "outputs": [],
   "source": [
    "import pandas as pd\n",
    "import numpy as np"
   ]
  },
  {
   "cell_type": "markdown",
   "metadata": {},
   "source": [
    "## 1. Additional Index Methods\n",
    "\n",
    "Let's explore more methods available on pandas Index objects."
   ]
  },
  {
   "cell_type": "markdown",
   "metadata": {},
   "source": [
    "### to_series Method\n",
    "\n",
    "The `to_series` method creates a Series with both index and values equal to the index keys."
   ]
  },
  {
   "cell_type": "code",
   "execution_count": null,
   "metadata": {},
   "outputs": [],
   "source": [
    "# Create an Index\n",
    "idx = pd.Index(['a', 'b', 'c', 'd'])\n",
    "print(f\"Index: {idx}\")\n",
    "\n",
    "# Convert to Series\n",
    "series = idx.to_series()\n",
    "print(\"\\nSeries with default parameters:\")\n",
    "print(series)\n",
    "\n",
    "# Convert to Series with custom index\n",
    "series = idx.to_series(index=[10, 20, 30, 40])\n",
    "print(\"\\nSeries with custom index:\")\n",
    "print(series)\n",
    "\n",
    "# Convert to Series with custom name\n",
    "series = idx.to_series(name='letters')\n",
    "print(\"\\nSeries with custom name:\")\n",
    "print(series)"
   ]
  },
  {
   "cell_type": "markdown",
   "metadata": {},
   "source": [
    "### tolist Method\n",
    "\n",
    "The `tolist` method returns a list of the values in the Index."
   ]
  },
  {
   "cell_type": "code",
   "execution_count": null,
   "metadata": {},
   "outputs": [],
   "source": [
    "# Create different types of indices\n",
    "str_idx = pd.Index(['a', 'b', 'c'])\n",
    "int_idx = pd.Index([1, 2, 3])\n",
    "float_idx = pd.Index([1.1, 2.2, 3.3])\n",
    "date_idx = pd.date_range('2023-01-01', periods=3)\n",
    "\n",
    "# Convert to lists\n",
    "str_list = str_idx.tolist()\n",
    "int_list = int_idx.tolist()\n",
    "float_list = float_idx.tolist()\n",
    "date_list = date_idx.tolist()\n",
    "\n",
    "print(f\"String index to list: {str_list}, type: {type(str_list[0])}\")\n",
    "print(f\"Integer index to list: {int_list}, type: {type(int_list[0])}\")\n",
    "print(f\"Float index to list: {float_list}, type: {type(float_list[0])}\")\n",
    "print(f\"Date index to list: {date_list}, type: {type(date_list[0])}\")"
   ]
  },
  {
   "cell_type": "markdown",
   "metadata": {},
   "source": [
    "### transpose Method\n",
    "\n",
    "The `transpose` method returns the transpose, which for an Index is just itself."
   ]
  },
  {
   "cell_type": "code",
   "execution_count": null,
   "metadata": {},
   "outputs": [],
   "source": [
    "# Create an Index\n",
    "idx = pd.Index(['a', 'b', 'c'])\n",
    "print(f\"Original index: {idx}\")\n",
    "\n",
    "# Get the transpose\n",
    "transposed = idx.transpose()\n",
    "print(f\"Transposed index: {transposed}\")\n",
    "\n",
    "# Check if they are the same object\n",
    "print(f\"Are they the same object? {idx is transposed}\")"
   ]
  },
  {
   "cell_type": "markdown",
   "metadata": {},
   "source": [
    "### union Method\n",
    "\n",
    "The `union` method forms the union of two Index objects."
   ]
  },
  {
   "cell_type": "code",
   "execution_count": null,
   "metadata": {},
   "outputs": [],
   "source": [
    "# Create two indices with matching dtypes\n",
    "idx1 = pd.Index([1, 2, 3, 4])\n",
    "idx2 = pd.Index([3, 4, 5, 6])\n",
    "print(f\"idx1: {idx1}\")\n",
    "print(f\"idx2: {idx2}\")\n",
    "\n",
    "# Find the union\n",
    "union = idx1.union(idx2)\n",
    "print(f\"\\nUnion: {union}\")"
   ]
  },
  {
   "cell_type": "code",
   "execution_count": null,
   "metadata": {},
   "outputs": [],
   "source": [
    "# Create two indices with mismatched dtypes\n",
    "idx1 = pd.Index(['a', 'b', 'c', 'd'])\n",
    "idx2 = pd.Index([1, 2, 3, 4])\n",
    "print(f\"idx1: {idx1}, dtype: {idx1.dtype}\")\n",
    "print(f\"idx2: {idx2}, dtype: {idx2.dtype}\")\n",
    "\n",
    "# Find the union\n",
    "union = idx1.union(idx2)\n",
    "print(f\"\\nUnion: {union}\")\n",
    "print(f\"Union dtype: {union.dtype}\")"
   ]
  },
  {
   "cell_type": "code",
   "execution_count": null,
   "metadata": {},
   "outputs": [],
   "source": [
    "# Union with sort parameter\n",
    "idx1 = pd.Index([5, 3, 1, 4, 2])\n",
    "idx2 = pd.Index([4, 3, 6, 5])\n",
    "print(f\"idx1: {idx1}\")\n",
    "print(f\"idx2: {idx2}\")\n",
    "\n",
    "# Default: sort=None\n",
    "union = idx1.union(idx2)\n",
    "print(f\"\\nUnion (sort=None): {union}\")\n",
    "\n",
    "# With sort=False\n",
    "union = idx1.union(idx2, sort=False)\n",
    "print(f\"Union (sort=False): {union}\")"
   ]
  },
  {
   "cell_type": "markdown",
   "metadata": {},
   "source": [
    "### unique Method\n",
    "\n",
    "The `unique` method returns unique values in the index in order of appearance."
   ]
  },
  {
   "cell_type": "code",
   "execution_count": null,
   "metadata": {},
   "outputs": [],
   "source": [
    "# Create an Index with duplicates\n",
    "idx = pd.Index(['a', 'b', 'c', 'a', 'b', 'd'])\n",
    "print(f\"Index with duplicates: {idx}\")\n",
    "\n",
    "# Get unique values\n",
    "unique_idx = idx.unique()\n",
    "print(f\"\\nUnique values: {unique_idx}\")"
   ]
  },
  {
   "cell_type": "markdown",
   "metadata": {},
   "source": [
    "## 2. IntervalIndex\n",
    "\n",
    "The IntervalIndex is an Index of Interval objects, representing a range between two values."
   ]
  },
  {
   "cell_type": "markdown",
   "metadata": {},
   "source": [
    "### Creating IntervalIndex"
   ]
  },
  {
   "cell_type": "code",
   "execution_count": null,
   "metadata": {},
   "outputs": [],
   "source": [
    "# Create an IntervalIndex from a list of Interval objects\n",
    "intervals = [pd.Interval(0, 1), pd.Interval(1, 2), pd.Interval(2, 3)]\n",
    "interval_idx = pd.IntervalIndex(intervals)\n",
    "print(f\"IntervalIndex from list of Intervals: {interval_idx}\")\n",
    "\n",
    "# Create an IntervalIndex from arrays\n",
    "left = [0, 1, 2]\n",
    "right = [1, 2, 3]\n",
    "interval_idx = pd.IntervalIndex.from_arrays(left, right)\n",
    "print(f\"\\nIntervalIndex from arrays: {interval_idx}\")\n",
    "\n",
    "# Create an IntervalIndex from breaks\n",
    "breaks = [0, 1, 2, 3]\n",
    "interval_idx = pd.IntervalIndex.from_breaks(breaks)\n",
    "print(f\"\\nIntervalIndex from breaks: {interval_idx}\")"
   ]
  },
  {
   "cell_type": "markdown",
   "metadata": {},
   "source": [
    "### IntervalIndex Properties\n",
    "\n",
    "IntervalIndex provides various properties to access its components."
   ]
  },
  {
   "cell_type": "code",
   "execution_count": null,
   "metadata": {},
   "outputs": [],
   "source": [
    "# Create an IntervalIndex\n",
    "interval_idx = pd.IntervalIndex.from_breaks([0, 1, 2, 3])\n",
    "print(f\"IntervalIndex: {interval_idx}\")\n",
    "\n",
    "# Get left endpoints\n",
    "left = interval_idx.left\n",
    "print(f\"\\nLeft endpoints: {left}\")\n",
    "\n",
    "# Get right endpoints\n",
    "right = interval_idx.right\n",
    "print(f\"Right endpoints: {right}\")\n",
    "\n",
    "# Get closed attribute\n",
    "closed = interval_idx.closed\n",
    "print(f\"Closed: {closed}\")\n",
    "\n",
    "# Get midpoints\n",
    "mid = interval_idx.mid\n",
    "print(f\"Midpoints: {mid}\")\n",
    "\n",
    "# Get lengths\n",
    "length = interval_idx.length\n",
    "print(f\"Lengths: {length}\")"
   ]
  },
  {
   "cell_type": "markdown",
   "metadata": {},
   "source": [
    "### is_empty Property\n",
    "\n",
    "The `is_empty` property indicates if an interval is empty, meaning it contains no points."
   ]
  },
  {
   "cell_type": "code",
   "execution_count": null,
   "metadata": {},
   "outputs": [],
   "source": [
    "# Create intervals with different closed options\n",
    "intervals = [\n",
    "    pd.Interval(0, 1, closed='right'),  # Not empty\n",
    "    pd.Interval(0, 0, closed='right'),  # Empty\n",
    "    pd.Interval(0, 0, closed='left'),   # Empty\n",
    "    pd.Interval(0, 0, closed='neither'), # Empty\n",
    "    pd.Interval(0, 0, closed='both')    # Not empty (contains the point 0)\n",
    "]\n",
    "interval_idx = pd.IntervalIndex(intervals)\n",
    "print(f\"IntervalIndex: {interval_idx}\")\n",
    "\n",
    "# Check if intervals are empty\n",
    "is_empty = interval_idx.is_empty\n",
    "print(f\"\\nis_empty: {is_empty}\")"
   ]
  },
  {
   "cell_type": "code",
   "execution_count": null,
   "metadata": {},
   "outputs": [],
   "source": [
    "# IntervalIndex with NaN\n",
    "intervals = [pd.Interval(0, 0, closed='neither'), np.nan]\n",
    "interval_idx = pd.IntervalIndex(intervals)\n",
    "print(f\"IntervalIndex with NaN: {interval_idx}\")\n",
    "print(f\"is_empty: {interval_idx.is_empty}\")"
   ]
  },
  {
   "cell_type": "markdown",
   "metadata": {},
   "source": [
    "### is_non_overlapping_monotonic Property\n",
    "\n",
    "The `is_non_overlapping_monotonic` property returns True if the IntervalIndex is non-overlapping and monotonic."
   ]
  },
  {
   "cell_type": "code",
   "execution_count": null,
   "metadata": {},
   "outputs": [],
   "source": [
    "# Create a non-overlapping monotonic IntervalIndex\n",
    "non_overlapping = pd.IntervalIndex.from_breaks([0, 1, 2, 3])\n",
    "print(f\"Non-overlapping monotonic IntervalIndex: {non_overlapping}\")\n",
    "print(f\"is_non_overlapping_monotonic: {non_overlapping.is_non_overlapping_monotonic}\")\n",
    "\n",
    "# Create an overlapping IntervalIndex\n",
    "overlapping = pd.IntervalIndex([\n",
    "    pd.Interval(0, 2),\n",
    "    pd.Interval(1, 3),\n",
    "    pd.Interval(2, 4)\n",
    "])\n",
    "print(f\"\\nOverlapping IntervalIndex: {overlapping}\")\n",
    "print(f\"is_non_overlapping_monotonic: {overlapping.is_non_overlapping_monotonic}\")\n",
    "\n",
    "# Create a non-monotonic IntervalIndex\n",
    "non_monotonic = pd.IntervalIndex([\n",
    "    pd.Interval(0, 1),\n",
    "    pd.Interval(2, 3),\n",
    "    pd.Interval(1, 2)\n",
    "])\n",
    "print(f\"\\nNon-monotonic IntervalIndex: {non_monotonic}\")\n",
    "print(f\"is_non_overlapping_monotonic: {non_monotonic.is_non_overlapping_monotonic}\")"
   ]
  },
  {
   "cell_type": "markdown",
   "metadata": {},
   "source": [
    "### is_overlapping Property\n",
    "\n",
    "The `is_overlapping` property returns True if the IntervalIndex has overlapping intervals."
   ]
  },
  {
   "cell_type": "code",
   "execution_count": null,
   "metadata": {},
   "outputs": [],
   "source": [
    "# Create a non-overlapping IntervalIndex\n",
    "non_overlapping = pd.IntervalIndex.from_breaks([0, 1, 2, 3])\n",
    "print(f\"Non-overlapping IntervalIndex: {non_overlapping}\")\n",
    "print(f\"is_overlapping: {non_overlapping.is_overlapping}\")\n",
    "\n",
    "# Create an overlapping IntervalIndex\n",
    "overlapping = pd.IntervalIndex([\n",
    "    pd.Interval(0, 2),\n",
    "    pd.Interval(1, 3),\n",
    "    pd.Interval(2, 4)\n",
    "])\n",
    "print(f\"\\nOverlapping IntervalIndex: {overlapping}\")\n",
    "print(f\"is_overlapping: {overlapping.is_overlapping}\")"
   ]
  },
  {
   "cell_type": "code",
   "execution_count": null,
   "metadata": {},
   "outputs": [],
   "source": [
    "# Intervals that share closed endpoints overlap\n",
    "closed_endpoints = pd.IntervalIndex([\n",
    "    pd.Interval(0, 1, closed='right'),\n",
    "    pd.Interval(1, 2, closed='left')\n",
    "])\n",
    "print(f\"IntervalIndex with shared closed endpoints: {closed_endpoints}\")\n",
    "print(f\"is_overlapping: {closed_endpoints.is_overlapping}\")\n",
    "\n",
    "# Intervals that only share open endpoints do not overlap\n",
    "open_endpoints = pd.IntervalIndex([\n",
    "    pd.Interval(0, 1, closed='left'),\n",
    "    pd.Interval(1, 2, closed='right')\n",
    "])\n",
    "print(f\"\\nIntervalIndex with shared open endpoints: {open_endpoints}\")\n",
    "print(f\"is_overlapping: {open_endpoints.is_overlapping}\")"
   ]
  }
 ],
 "metadata": {
  "kernelspec": {
   "display_name": "Python 3",
   "language": "python",
   "name": "python3"
  },
  "language_info": {
   "codemirror_mode": {
    "name": "ipython",
    "version": 3
   },
   "file_extension": ".py",
   "mimetype": "text/x-python",
   "name": "python",
   "nbconvert_exporter": "python",
   "pygments_lexer": "ipython3",
   "version": "3.8.5"
  }
 },
 "nbformat": 4,
 "nbformat_minor": 4
}
