{
 "cells": [
  {
   "cell_type": "markdown",
   "metadata": {},
   "source": [
    "#### Pandas Date Offsets and Rolling Window Functions - Part 86\n",
    "\n",
    "This notebook covers important date offset classes like `BMonthEnd` and `BMonthBegin`, as well as rolling window statistical functions like correlation, covariance, skewness, and kurtosis."
   ]
  },
  {
   "cell_type": "code",
   "execution_count": 1,
   "metadata": {},
   "outputs": [],
   "source": [
    "import pandas as pd\n",
    "import numpy as np\n",
    "from pandas.tseries.offsets import BMonthEnd, BMonthBegin\n",
    "from datetime import datetime"
   ]
  },
  {
   "cell_type": "markdown",
   "metadata": {},
   "source": [
    "##### Date Offsets\n",
    "\n",
    "### BMonthEnd and BMonthBegin\n",
    "\n",
    "`BMonthEnd` is an alias for `BusinessMonthEnd` and `BMonthBegin` is an alias for `BusinessMonthBegin`. These are date offsets that represent the last and first business day of the month, respectively."
   ]
  },
  {
   "cell_type": "code",
   "execution_count": 2,
   "metadata": {},
   "outputs": [
    {
     "name": "stdout",
     "output_type": "stream",
     "text": [
      "BMonthEnd: <BusinessMonthEnd>\n",
      "BMonthBegin: <BusinessMonthBegin>\n"
     ]
    }
   ],
   "source": [
    "# Create BMonthEnd offset\n",
    "bme = BMonthEnd()\n",
    "print(f\"BMonthEnd: {bme}\")\n",
    "\n",
    "# Create BMonthBegin offset\n",
    "bmb = BMonthBegin()\n",
    "print(f\"BMonthBegin: {bmb}\")"
   ]
  },
  {
   "cell_type": "code",
   "execution_count": 3,
   "metadata": {},
   "outputs": [
    {
     "name": "stdout",
     "output_type": "stream",
     "text": [
      "Original date: 2023-01-15 00:00:00\n"
     ]
    }
   ],
   "source": [
    "# Create a sample date\n",
    "dt = datetime(2023, 1, 15)\n",
    "print(f\"Original date: {dt}\")"
   ]
  },
  {
   "cell_type": "code",
   "execution_count": 4,
   "metadata": {},
   "outputs": [
    {
     "name": "stdout",
     "output_type": "stream",
     "text": [
      "Next business month end: 2023-01-31 00:00:00\n"
     ]
    }
   ],
   "source": [
    "# Apply BMonthEnd offset\n",
    "next_bme = bme + dt\n",
    "print(f\"Next business month end: {next_bme}\")"
   ]
  },
  {
   "cell_type": "code",
   "execution_count": 5,
   "metadata": {},
   "outputs": [
    {
     "name": "stdout",
     "output_type": "stream",
     "text": [
      "Next business month begin: 2023-02-01 00:00:00\n"
     ]
    }
   ],
   "source": [
    "# Apply BMonthBegin offset\n",
    "next_bmb = bmb + dt\n",
    "print(f\"Next business month begin: {next_bmb}\")"
   ]
  },
  {
   "cell_type": "markdown",
   "metadata": {},
   "source": [
    "### rollforward() and rollback() Methods\n",
    "\n",
    "Both `BMonthEnd` and `BMonthBegin` have `rollforward()` and `rollback()` methods that adjust dates to the next or previous offset date."
   ]
  },
  {
   "cell_type": "code",
   "execution_count": 6,
   "metadata": {},
   "outputs": [
    {
     "name": "stdout",
     "output_type": "stream",
     "text": [
      "Rolled forward to business month end: 2023-01-31 00:00:00\n"
     ]
    }
   ],
   "source": [
    "# Roll forward to the next business month end\n",
    "rolled_forward_bme = bme.rollforward(dt)\n",
    "print(f\"Rolled forward to business month end: {rolled_forward_bme}\")"
   ]
  },
  {
   "cell_type": "code",
   "execution_count": 7,
   "metadata": {},
   "outputs": [
    {
     "name": "stdout",
     "output_type": "stream",
     "text": [
      "Rolled back to business month end: 2022-12-30 00:00:00\n"
     ]
    }
   ],
   "source": [
    "# Roll backward to the previous business month end\n",
    "rolled_back_bme = bme.rollback(dt)\n",
    "print(f\"Rolled back to business month end: {rolled_back_bme}\")"
   ]
  },
  {
   "cell_type": "code",
   "execution_count": 8,
   "metadata": {},
   "outputs": [
    {
     "name": "stdout",
     "output_type": "stream",
     "text": [
      "Rolled forward to business month begin: 2023-02-01 00:00:00\n"
     ]
    }
   ],
   "source": [
    "# Roll forward to the next business month begin\n",
    "rolled_forward_bmb = bmb.rollforward(dt)\n",
    "print(f\"Rolled forward to business month begin: {rolled_forward_bmb}\")"
   ]
  },
  {
   "cell_type": "code",
   "execution_count": 9,
   "metadata": {},
   "outputs": [
    {
     "name": "stdout",
     "output_type": "stream",
     "text": [
      "Rolled back to business month begin: 2023-01-02 00:00:00\n"
     ]
    }
   ],
   "source": [
    "# Roll backward to the previous business month begin\n",
    "rolled_back_bmb = bmb.rollback(dt)\n",
    "print(f\"Rolled back to business month begin: {rolled_back_bmb}\")"
   ]
  },
  {
   "cell_type": "markdown",
   "metadata": {},
   "source": [
    "### Properties of Date Offsets\n",
    "\n",
    "Let's explore some properties of these date offsets."
   ]
  },
  {
   "cell_type": "code",
   "execution_count": 10,
   "metadata": {},
   "outputs": [
    {
     "name": "stdout",
     "output_type": "stream",
     "text": [
      "Is BMonthEnd anchored? True\n",
      "Is BMonthBegin anchored? True\n"
     ]
    },
    {
     "name": "stderr",
     "output_type": "stream",
     "text": [
      "/var/folders/7y/fzwln1_93mn3js3wyk61_6xm0000gn/T/ipykernel_92055/848731607.py:2: FutureWarning: BusinessMonthEnd.is_anchored is deprecated and will be removed in a future version, please use 'obj.n == 1' instead.\n",
      "  print(f\"Is BMonthEnd anchored? {bme.is_anchored()}\")\n",
      "/var/folders/7y/fzwln1_93mn3js3wyk61_6xm0000gn/T/ipykernel_92055/848731607.py:3: FutureWarning: BusinessMonthBegin.is_anchored is deprecated and will be removed in a future version, please use 'obj.n == 1' instead.\n",
      "  print(f\"Is BMonthBegin anchored? {bmb.is_anchored()}\")\n"
     ]
    }
   ],
   "source": [
    "# Check if the offset is anchored\n",
    "print(f\"Is BMonthEnd anchored? {bme.is_anchored()}\")\n",
    "print(f\"Is BMonthBegin anchored? {bmb.is_anchored()}\")"
   ]
  },
  {
   "cell_type": "code",
   "execution_count": 11,
   "metadata": {},
   "outputs": [
    {
     "name": "stdout",
     "output_type": "stream",
     "text": [
      "BMonthEnd frequency string: BME\n",
      "BMonthBegin frequency string: BMS\n"
     ]
    }
   ],
   "source": [
    "# Get the frequency string\n",
    "print(f\"BMonthEnd frequency string: {bme.freqstr}\")\n",
    "print(f\"BMonthBegin frequency string: {bmb.freqstr}\")"
   ]
  },
  {
   "cell_type": "code",
   "execution_count": 12,
   "metadata": {},
   "outputs": [
    {
     "name": "stdout",
     "output_type": "stream",
     "text": [
      "BMonthEnd name: BME\n",
      "BMonthBegin name: BMS\n"
     ]
    }
   ],
   "source": [
    "# Get the name of the offset\n",
    "print(f\"BMonthEnd name: {bme.name}\")\n",
    "print(f\"BMonthBegin name: {bmb.name}\")"
   ]
  },
  {
   "cell_type": "code",
   "execution_count": 13,
   "metadata": {},
   "outputs": [
    {
     "name": "stdout",
     "output_type": "stream",
     "text": [
      "Is 2023-01-31 00:00:00 on BMonthEnd offset? True\n",
      "Is 2023-01-02 00:00:00 on BMonthBegin offset? True\n"
     ]
    }
   ],
   "source": [
    "# Check if a date is on the offset\n",
    "dt_end = datetime(2023, 1, 31)  # Assuming this is a business day\n",
    "dt_begin = datetime(2023, 1, 2)  # Assuming this is a business day (first Monday of the month)\n",
    "\n",
    "print(f\"Is {dt_end} on BMonthEnd offset? {bme.is_on_offset(dt_end)}\")\n",
    "print(f\"Is {dt_begin} on BMonthBegin offset? {bmb.is_on_offset(dt_begin)}\")"
   ]
  },
  {
   "cell_type": "markdown",
   "metadata": {},
   "source": [
    "##### Rolling Window Functions\n",
    "\n",
    "Pandas provides several rolling window statistical functions that are useful for time series analysis."
   ]
  },
  {
   "cell_type": "markdown",
   "metadata": {},
   "source": [
    "### Rolling.corr() - Rolling Correlation\n",
    "\n",
    "The `corr()` method calculates the rolling correlation between two time series."
   ]
  },
  {
   "cell_type": "code",
   "execution_count": 14,
   "metadata": {},
   "outputs": [
    {
     "name": "stdout",
     "output_type": "stream",
     "text": [
      "Series 1:\n",
      "0     7\n",
      "1     8\n",
      "2    10\n",
      "3    11\n",
      "4    13\n",
      "dtype: int64\n",
      "\n",
      "Series 2:\n",
      "0     8\n",
      "1     9\n",
      "2    10\n",
      "3     9\n",
      "4     8\n",
      "dtype: int64\n"
     ]
    }
   ],
   "source": [
    "# Create two sample series\n",
    "v1 = [7, 8, 10, 11, 13]\n",
    "v2 = [8, 9, 10, 9, 8]\n",
    "s1 = pd.Series(v1)\n",
    "s2 = pd.Series(v2)\n",
    "\n",
    "print(\"Series 1:\")\n",
    "print(s1)\n",
    "print(\"\\nSeries 2:\")\n",
    "print(s2)"
   ]
  },
  {
   "cell_type": "code",
   "execution_count": 15,
   "metadata": {},
   "outputs": [
    {
     "name": "stdout",
     "output_type": "stream",
     "text": [
      "Rolling correlation with window size 4:\n",
      "0         NaN\n",
      "1         NaN\n",
      "2         NaN\n",
      "3    0.670820\n",
      "4   -0.588348\n",
      "dtype: float64\n"
     ]
    }
   ],
   "source": [
    "# Calculate rolling correlation with window size 4\n",
    "rolling_corr = s1.rolling(4).corr(s2)\n",
    "print(\"Rolling correlation with window size 4:\")\n",
    "print(rolling_corr)"
   ]
  },
  {
   "cell_type": "code",
   "execution_count": 16,
   "metadata": {},
   "outputs": [
    {
     "name": "stdout",
     "output_type": "stream",
     "text": [
      "DataFrame:\n",
      "      X     Y\n",
      "0  51.0  35.0\n",
      "1  49.0  30.0\n",
      "2  47.0  32.0\n",
      "3  46.0  31.0\n",
      "4  50.0  36.0\n"
     ]
    }
   ],
   "source": [
    "# Example with DataFrame and pairwise correlation\n",
    "matrix = np.array([[51., 35.], [49., 30.], [47., 32.], [46., 31.], [50., 36.]])\n",
    "df = pd.DataFrame(matrix, columns=['X', 'Y'])\n",
    "\n",
    "print(\"DataFrame:\")\n",
    "print(df)"
   ]
  },
  {
   "cell_type": "code",
   "execution_count": 17,
   "metadata": {},
   "outputs": [
    {
     "name": "stdout",
     "output_type": "stream",
     "text": [
      "\n",
      "Pairwise rolling correlation with window size 4:\n",
      "            X         Y\n",
      "0 X       NaN       NaN\n",
      "  Y       NaN       NaN\n",
      "1 X       NaN       NaN\n",
      "  Y       NaN       NaN\n",
      "2 X       NaN       NaN\n",
      "  Y       NaN       NaN\n",
      "3 X  1.000000  0.626300\n",
      "  Y  0.626300  1.000000\n",
      "4 X  1.000000  0.555368\n",
      "  Y  0.555368  1.000000\n"
     ]
    }
   ],
   "source": [
    "# Calculate pairwise rolling correlation with window size 4\n",
    "pairwise_corr = df.rolling(4).corr(pairwise=True)\n",
    "print(\"\\nPairwise rolling correlation with window size 4:\")\n",
    "print(pairwise_corr)"
   ]
  },
  {
   "cell_type": "markdown",
   "metadata": {},
   "source": [
    "### Rolling.cov() - Rolling Covariance\n",
    "\n",
    "The `cov()` method calculates the rolling sample covariance."
   ]
  },
  {
   "cell_type": "code",
   "execution_count": 18,
   "metadata": {},
   "outputs": [
    {
     "name": "stdout",
     "output_type": "stream",
     "text": [
      "Rolling covariance with window size 4:\n",
      "0    NaN\n",
      "1    NaN\n",
      "2    NaN\n",
      "3    1.0\n",
      "4   -1.0\n",
      "dtype: float64\n"
     ]
    }
   ],
   "source": [
    "# Calculate rolling covariance with window size 4\n",
    "rolling_cov = s1.rolling(4).cov(s2)\n",
    "print(\"Rolling covariance with window size 4:\")\n",
    "print(rolling_cov)"
   ]
  },
  {
   "cell_type": "code",
   "execution_count": 19,
   "metadata": {},
   "outputs": [
    {
     "name": "stdout",
     "output_type": "stream",
     "text": [
      "Pairwise rolling covariance with window size 4:\n",
      "            X         Y\n",
      "0 X       NaN       NaN\n",
      "  Y       NaN       NaN\n",
      "1 X       NaN       NaN\n",
      "  Y       NaN       NaN\n",
      "2 X       NaN       NaN\n",
      "  Y       NaN       NaN\n",
      "3 X  4.916667  3.000000\n",
      "  Y  3.000000  4.666667\n",
      "4 X  3.333333  2.666667\n",
      "  Y  2.666667  6.916667\n"
     ]
    }
   ],
   "source": [
    "# Calculate pairwise rolling covariance with window size 4\n",
    "pairwise_cov = df.rolling(4).cov(pairwise=True)\n",
    "print(\"Pairwise rolling covariance with window size 4:\")\n",
    "print(pairwise_cov)"
   ]
  },
  {
   "cell_type": "markdown",
   "metadata": {},
   "source": [
    "### Rolling.skew() - Rolling Skewness\n",
    "\n",
    "The `skew()` method calculates the unbiased rolling skewness."
   ]
  },
  {
   "cell_type": "code",
   "execution_count": 20,
   "metadata": {},
   "outputs": [
    {
     "name": "stdout",
     "output_type": "stream",
     "text": [
      "Skewed data:\n",
      "0     1\n",
      "1     2\n",
      "2     2\n",
      "3     3\n",
      "4     3\n",
      "5     3\n",
      "6     4\n",
      "7     4\n",
      "8     5\n",
      "9    10\n",
      "dtype: int64\n"
     ]
    }
   ],
   "source": [
    "# Create a sample series with skewed data\n",
    "skewed_data = [1, 2, 2, 3, 3, 3, 4, 4, 5, 10]\n",
    "s_skew = pd.Series(skewed_data)\n",
    "print(\"Skewed data:\")\n",
    "print(s_skew)"
   ]
  },
  {
   "cell_type": "code",
   "execution_count": 21,
   "metadata": {},
   "outputs": [
    {
     "name": "stdout",
     "output_type": "stream",
     "text": [
      "\n",
      "Rolling skewness with window size 5:\n",
      "0             NaN\n",
      "1             NaN\n",
      "2             NaN\n",
      "3             NaN\n",
      "4   -5.122408e-01\n",
      "5   -6.085806e-01\n",
      "6   -2.616821e-15\n",
      "7    6.085806e-01\n",
      "8    5.122408e-01\n",
      "9    1.881438e+00\n",
      "dtype: float64\n"
     ]
    }
   ],
   "source": [
    "# Calculate rolling skewness with window size 5\n",
    "rolling_skew = s_skew.rolling(5).skew()\n",
    "print(\"\\nRolling skewness with window size 5:\")\n",
    "print(rolling_skew)"
   ]
  },
  {
   "cell_type": "markdown",
   "metadata": {},
   "source": [
    "### Rolling.kurt() - Rolling Kurtosis\n",
    "\n",
    "The `kurt()` method calculates the unbiased rolling kurtosis using Fisher's definition without bias."
   ]
  },
  {
   "cell_type": "code",
   "execution_count": 22,
   "metadata": {},
   "outputs": [
    {
     "name": "stdout",
     "output_type": "stream",
     "text": [
      "Rolling kurtosis with window size 5:\n",
      "0         NaN\n",
      "1         NaN\n",
      "2         NaN\n",
      "3         NaN\n",
      "4   -0.612245\n",
      "5   -3.333333\n",
      "6    2.000000\n",
      "7   -3.333333\n",
      "8   -0.612245\n",
      "9    3.772980\n",
      "dtype: float64\n"
     ]
    }
   ],
   "source": [
    "# Calculate rolling kurtosis with window size 5\n",
    "rolling_kurt = s_skew.rolling(5).kurt()\n",
    "print(\"Rolling kurtosis with window size 5:\")\n",
    "print(rolling_kurt)"
   ]
  },
  {
   "cell_type": "markdown",
   "metadata": {},
   "source": [
    "### Practical Example: Financial Time Series Analysis"
   ]
  },
  {
   "cell_type": "code",
   "execution_count": 23,
   "metadata": {},
   "outputs": [
    {
     "name": "stdout",
     "output_type": "stream",
     "text": [
      "Stock prices:\n",
      "               Stock A     Stock B\n",
      "2023-01-02   99.266755  100.646799\n",
      "2023-01-03  100.664722  100.759597\n",
      "2023-01-04   99.886200  100.350196\n",
      "2023-01-05   98.605267  100.541921\n",
      "2023-01-06  100.206699  101.473162\n",
      "2023-01-09  101.245148  101.868295\n",
      "2023-01-10  101.934026  103.477827\n",
      "2023-01-11  102.486398  104.352196\n",
      "2023-01-12  104.059369  103.664553\n",
      "2023-01-13  103.813358  103.974600\n",
      "2023-01-16  104.239601  105.620649\n",
      "2023-01-17  106.719552  106.686935\n",
      "2023-01-18  105.448800  107.714787\n",
      "2023-01-19  103.742421  109.860119\n",
      "2023-01-20  103.575340  109.189631\n",
      "2023-01-23  104.955519  108.128086\n",
      "2023-01-24  105.179655  107.672762\n",
      "2023-01-25  105.812074  106.913300\n",
      "2023-01-26  105.811136  107.593612\n",
      "2023-01-27  106.311846  106.455295\n"
     ]
    }
   ],
   "source": [
    "# Create a sample financial time series\n",
    "dates = pd.date_range(start='2023-01-01', periods=20, freq='B')\n",
    "stock_a = pd.Series(np.random.normal(0, 1, 20).cumsum() + 100, index=dates, name='Stock A')\n",
    "stock_b = pd.Series(np.random.normal(0, 1, 20).cumsum() + 100, index=dates, name='Stock B')\n",
    "\n",
    "stocks = pd.DataFrame({'Stock A': stock_a, 'Stock B': stock_b})\n",
    "print(\"Stock prices:\")\n",
    "print(stocks)"
   ]
  },
  {
   "cell_type": "code",
   "execution_count": 24,
   "metadata": {},
   "outputs": [
    {
     "name": "stdout",
     "output_type": "stream",
     "text": [
      "\n",
      "5-day Rolling Correlation:\n",
      "2023-01-02         NaN\n",
      "2023-01-03         NaN\n",
      "2023-01-04         NaN\n",
      "2023-01-05         NaN\n",
      "2023-01-06    0.413749\n",
      "2023-01-09    0.677794\n",
      "2023-01-10    0.881006\n",
      "2023-01-11    0.940237\n",
      "2023-01-12    0.786143\n",
      "2023-01-13    0.643019\n",
      "2023-01-16    0.477054\n",
      "2023-01-17    0.774686\n",
      "2023-01-18    0.770556\n",
      "2023-01-19    0.052044\n",
      "2023-01-20   -0.524309\n",
      "2023-01-23   -0.969094\n",
      "2023-01-24   -0.942724\n",
      "2023-01-25   -0.963108\n",
      "2023-01-26   -0.952152\n",
      "2023-01-27   -0.909905\n",
      "Freq: B, dtype: float64\n"
     ]
    }
   ],
   "source": [
    "# Calculate 5-day rolling statistics\n",
    "window_size = 5\n",
    "\n",
    "# Rolling correlation\n",
    "rolling_corr = stocks['Stock A'].rolling(window_size).corr(stocks['Stock B'])\n",
    "print(f\"\\n{window_size}-day Rolling Correlation:\")\n",
    "print(rolling_corr)"
   ]
  },
  {
   "cell_type": "code",
   "execution_count": 25,
   "metadata": {},
   "outputs": [
    {
     "name": "stdout",
     "output_type": "stream",
     "text": [
      "\n",
      "5-day Rolling Covariance:\n",
      "2023-01-02         NaN\n",
      "2023-01-03         NaN\n",
      "2023-01-04         NaN\n",
      "2023-01-05         NaN\n",
      "2023-01-06    0.143295\n",
      "2023-01-09    0.433208\n",
      "2023-01-10    1.416485\n",
      "2023-01-11    2.233257\n",
      "2023-01-12    1.396212\n",
      "2023-01-13    0.740544\n",
      "2023-01-16    0.418646\n",
      "2023-01-17    1.503468\n",
      "2023-01-18    1.625768\n",
      "2023-01-19    0.146923\n",
      "2023-01-20   -1.211793\n",
      "2023-01-23   -1.562314\n",
      "2023-01-24   -0.787496\n",
      "2023-01-25   -1.092241\n",
      "2023-01-26   -0.734469\n",
      "2023-01-27   -0.328846\n",
      "Freq: B, dtype: float64\n"
     ]
    }
   ],
   "source": [
    "# Rolling covariance\n",
    "rolling_cov = stocks['Stock A'].rolling(window_size).cov(stocks['Stock B'])\n",
    "print(f\"\\n{window_size}-day Rolling Covariance:\")\n",
    "print(rolling_cov)"
   ]
  },
  {
   "cell_type": "code",
   "execution_count": 26,
   "metadata": {},
   "outputs": [
    {
     "name": "stdout",
     "output_type": "stream",
     "text": [
      "\n",
      "5-day Rolling Skewness:\n",
      "Stock A:\n",
      "2023-01-02         NaN\n",
      "2023-01-03         NaN\n",
      "2023-01-04         NaN\n",
      "2023-01-05         NaN\n",
      "2023-01-06   -0.445270\n",
      "2023-01-09   -0.825033\n",
      "2023-01-10   -0.241615\n",
      "2023-01-11   -0.820284\n",
      "2023-01-12    0.419381\n",
      "2023-01-13    0.051881\n",
      "2023-01-16   -0.672534\n",
      "2023-01-17    1.046523\n",
      "2023-01-18    1.110177\n",
      "2023-01-19    1.036884\n",
      "2023-01-20    0.950511\n",
      "2023-01-23    0.488937\n",
      "2023-01-24   -0.443914\n",
      "2023-01-25   -0.128954\n",
      "2023-01-26   -1.348596\n",
      "2023-01-27   -0.031806\n",
      "Freq: B, Name: Stock A, dtype: float64\n",
      "\n",
      "Stock B:\n",
      "2023-01-02         NaN\n",
      "2023-01-03         NaN\n",
      "2023-01-04         NaN\n",
      "2023-01-05         NaN\n",
      "2023-01-06    1.552808\n",
      "2023-01-09    0.592818\n",
      "2023-01-10    0.972472\n",
      "2023-01-11    0.335862\n",
      "2023-01-12   -0.338779\n",
      "2023-01-13   -1.566864\n",
      "2023-01-16    1.467500\n",
      "2023-01-17    0.827746\n",
      "2023-01-18    0.131221\n",
      "2023-01-19    0.265554\n",
      "2023-01-20   -0.065200\n",
      "2023-01-23   -0.042593\n",
      "2023-01-24    0.727984\n",
      "2023-01-25    0.178686\n",
      "2023-01-26    0.810378\n",
      "2023-01-27   -0.419861\n",
      "Freq: B, Name: Stock B, dtype: float64\n"
     ]
    }
   ],
   "source": [
    "# Rolling skewness\n",
    "rolling_skew_a = stocks['Stock A'].rolling(window_size).skew()\n",
    "rolling_skew_b = stocks['Stock B'].rolling(window_size).skew()\n",
    "print(f\"\\n{window_size}-day Rolling Skewness:\")\n",
    "print(\"Stock A:\")\n",
    "print(rolling_skew_a)\n",
    "print(\"\\nStock B:\")\n",
    "print(rolling_skew_b)"
   ]
  },
  {
   "cell_type": "code",
   "execution_count": 27,
   "metadata": {},
   "outputs": [
    {
     "name": "stdout",
     "output_type": "stream",
     "text": [
      "\n",
      "5-day Rolling Kurtosis:\n",
      "Stock A:\n",
      "2023-01-02         NaN\n",
      "2023-01-03         NaN\n",
      "2023-01-04         NaN\n",
      "2023-01-05         NaN\n",
      "2023-01-06   -0.771178\n",
      "2023-01-09    1.075636\n",
      "2023-01-10   -0.463170\n",
      "2023-01-11   -0.091854\n",
      "2023-01-12    0.447088\n",
      "2023-01-13   -2.263818\n",
      "2023-01-16   -2.303379\n",
      "2023-01-17    2.423932\n",
      "2023-01-18   -0.077609\n",
      "2023-01-19   -0.358430\n",
      "2023-01-20   -0.542434\n",
      "2023-01-23   -0.872906\n",
      "2023-01-24   -2.929367\n",
      "2023-01-25   -2.272632\n",
      "2023-01-26    1.861453\n",
      "2023-01-27   -1.420098\n",
      "Freq: B, Name: Stock A, dtype: float64\n",
      "\n",
      "Stock B:\n",
      "2023-01-02         NaN\n",
      "2023-01-03         NaN\n",
      "2023-01-04         NaN\n",
      "2023-01-05         NaN\n",
      "2023-01-06    2.900346\n",
      "2023-01-09   -1.914222\n",
      "2023-01-10    0.657385\n",
      "2023-01-11   -1.618307\n",
      "2023-01-12   -2.405927\n",
      "2023-01-13    2.922170\n",
      "2023-01-16    2.160031\n",
      "2023-01-17   -1.037677\n",
      "2023-01-18   -2.112828\n",
      "2023-01-19    0.069785\n",
      "2023-01-20   -1.806121\n",
      "2023-01-23   -1.001985\n",
      "2023-01-24   -1.747716\n",
      "2023-01-25   -1.418922\n",
      "2023-01-26    1.287957\n",
      "2023-01-27   -1.149942\n",
      "Freq: B, Name: Stock B, dtype: float64\n"
     ]
    }
   ],
   "source": [
    "# Rolling kurtosis\n",
    "rolling_kurt_a = stocks['Stock A'].rolling(window_size).kurt()\n",
    "rolling_kurt_b = stocks['Stock B'].rolling(window_size).kurt()\n",
    "print(f\"\\n{window_size}-day Rolling Kurtosis:\")\n",
    "print(\"Stock A:\")\n",
    "print(rolling_kurt_a)\n",
    "print(\"\\nStock B:\")\n",
    "print(rolling_kurt_b)"
   ]
  },
  {
   "cell_type": "code",
   "execution_count": 28,
   "metadata": {},
   "outputs": [
    {
     "data": {
      "image/png": "[encoded data removed]",
      "text/plain": [
       "<Figure size 1200x1200 with 3 Axes>"
      ]
     },
     "metadata": {},
     "output_type": "display_data"
    }
   ],
   "source": [
    "# Visualize the results\n",
    "import matplotlib.pyplot as plt\n",
    "\n",
    "fig, axes = plt.subplots(3, 1, figsize=(12, 12))\n",
    "\n",
    "# Plot stock prices\n",
    "stocks.plot(ax=axes[0], title='Stock Prices')\n",
    "axes[0].set_ylabel('Price')\n",
    "\n",
    "# Plot rolling correlation\n",
    "rolling_corr.plot(ax=axes[1], title=f'{window_size}-day Rolling Correlation')\n",
    "axes[1].set_ylabel('Correlation')\n",
    "\n",
    "# Plot rolling skewness\n",
    "rolling_skew_a.plot(ax=axes[2], label='Stock A')\n",
    "rolling_skew_b.plot(ax=axes[2], label='Stock B')\n",
    "axes[2].set_title(f'{window_size}-day Rolling Skewness')\n",
    "axes[2].set_ylabel('Skewness')\n",
    "axes[2].legend()\n",
    "\n",
    "plt.tight_layout()\n",
    "plt.show()"
   ]
  }
 ],
 "metadata": {
  "kernelspec": {
   "display_name": "venv",
   "language": "python",
   "name": "python3"
  },
  "language_info": {
   "codemirror_mode": {
    "name": "ipython",
    "version": 3
   },
   "file_extension": ".py",
   "mimetype": "text/x-python",
   "name": "python",
   "nbconvert_exporter": "python",
   "pygments_lexer": "ipython3",
   "version": "3.13.2"
  }
 },
 "nbformat": 4,
 "nbformat_minor": 4
}
