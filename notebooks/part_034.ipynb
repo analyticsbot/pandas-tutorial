{
 "cells": [
  {
   "cell_type": "markdown",
   "metadata": {},
   "source": [
    "#### Pandas Tutorial - Part 34\n",
    "\n",
    "This notebook covers:\n",
    "- More on Pandas options and settings\n",
    "- Enhancing performance with pandas.eval()"
   ]
  },
  {
   "cell_type": "code",
   "execution_count": 1,
   "metadata": {},
   "outputs": [],
   "source": [
    "import pandas as pd\n",
    "import numpy as np\n",
    "import time\n",
    "\n",
    "%matplotlib inline"
   ]
  },
  {
   "cell_type": "markdown",
   "metadata": {},
   "source": [
    "##### Pandas Options and Settings (Continued)\n",
    "\n",
    "Continuing from Part 33, let's explore more about pandas options and settings."
   ]
  },
  {
   "cell_type": "code",
   "execution_count": 2,
   "metadata": {},
   "outputs": [],
   "source": [
    "# Reset all display options\n",
    "pd.reset_option(\"^display\")"
   ]
  },
  {
   "cell_type": "markdown",
   "metadata": {},
   "source": [
    "### Using option_context\n",
    "\n",
    "The `option_context` context manager allows you to execute code with given option values. Option values are restored automatically when you exit the with block."
   ]
  },
  {
   "cell_type": "code",
   "execution_count": 3,
   "metadata": {},
   "outputs": [
    {
     "name": "stdout",
     "output_type": "stream",
     "text": [
      "10\n",
      "5\n",
      "60\n",
      "20\n"
     ]
    }
   ],
   "source": [
    "# Using option_context to temporarily change options\n",
    "with pd.option_context(\"display.max_rows\", 10, \"display.max_columns\", 5):\n",
    "    print(pd.get_option(\"display.max_rows\"))\n",
    "    print(pd.get_option(\"display.max_columns\"))\n",
    "\n",
    "# Options are restored to their previous values\n",
    "print(pd.get_option(\"display.max_rows\"))\n",
    "print(pd.get_option(\"display.max_columns\"))"
   ]
  },
  {
   "cell_type": "markdown",
   "metadata": {},
   "source": [
    "### Setting Startup Options\n",
    "\n",
    "You can set startup options in Python/IPython environment by creating a `.py` or `.ipy` script in the startup directory of the desired profile. For example, in a default ipython profile, the startup folder is at `$IPYTHONDIR/profile_default/startup`.\n",
    "\n",
    "An example startup script for pandas might look like:\n",
    "\n",
    "```python\n",
    "import pandas as pd\n",
    "pd.set_option('display.max_rows', 999)\n",
    "pd.set_option('precision', 5)\n",
    "```"
   ]
  },
  {
   "cell_type": "markdown",
   "metadata": {},
   "source": [
    "### Frequently Used Options\n",
    "\n",
    "Let's explore some of the most frequently used display options."
   ]
  },
  {
   "cell_type": "markdown",
   "metadata": {},
   "source": [
    "#### display.max_rows and display.max_columns\n",
    "\n",
    "These options set the maximum number of rows and columns displayed when a frame is pretty-printed. Truncated lines are replaced by an ellipsis."
   ]
  },
  {
   "cell_type": "code",
   "execution_count": 7,
   "metadata": {},
   "outputs": [
    {
     "name": "stdout",
     "output_type": "stream",
     "text": [
      "Original DataFrame:\n",
      "          0         1\n",
      "0 -0.927496  0.139893\n",
      "1  1.574129  0.640052\n",
      "2 -0.407168 -0.342235\n",
      "3  0.019597  1.042983\n",
      "4 -1.126250  0.768523\n",
      "5  0.842572 -1.299073\n",
      "6  1.449984  1.521035\n",
      "\n",
      "Setting display.max_rows to 7:\n",
      "          0         1\n",
      "0 -0.927496  0.139893\n",
      "1  1.574129  0.640052\n",
      "2 -0.407168 -0.342235\n",
      "3  0.019597  1.042983\n",
      "4 -1.126250  0.768523\n",
      "5  0.842572 -1.299073\n",
      "6  1.449984  1.521035\n",
      "\n",
      "Setting display.max_columns to 2:\n",
      "          0         1\n",
      "0 -0.927496  0.139893\n",
      "1  1.574129  0.640052\n",
      "2 -0.407168 -0.342235\n",
      "3  0.019597  1.042983\n",
      "4 -1.126250  0.768523\n",
      "5  0.842572 -1.299073\n",
      "6  1.449984  1.521035\n",
      "\n",
      "Resetting to defaults:\n",
      "          0         1\n",
      "0 -0.927496  0.139893\n",
      "1  1.574129  0.640052\n",
      "2 -0.407168 -0.342235\n",
      "3  0.019597  1.042983\n",
      "4 -1.126250  0.768523\n",
      "5  0.842572 -1.299073\n",
      "6  1.449984  1.521035\n",
      "\n",
      "Current value of display.max_rows: 60\n",
      "\n",
      "Some common display options:\n",
      "- display.max_rows: Maximum number of rows to display\n",
      "- display.max_columns: Maximum number of columns to display\n",
      "- display.precision: Floating point output precision in terms of number of places after the decimal\n",
      "- display.float_format: Formatter for floating point numbers\n",
      "- display.width: Width of the display in characters\n",
      "- display.expand_frame_repr: Whether to print dataframes to fill the display width\n",
      "- display.colheader_justify: Alignment of column headers\n",
      "- display.notebook_repr_html: Whether to use HTML representation for DataFrame in IPython notebook\n"
     ]
    }
   ],
   "source": [
    "import pandas as pd\n",
    "import numpy as np\n",
    "\n",
    "# Create a sample DataFrame\n",
    "df = pd.DataFrame(np.random.randn(7, 2))\n",
    "print(\"Original DataFrame:\")\n",
    "print(df)\n",
    "\n",
    "# Use the fully qualified option name\n",
    "print(\"\\nSetting display.max_rows to 7:\")\n",
    "pd.set_option('display.max_rows', 7)\n",
    "print(df)\n",
    "\n",
    "# Let's also demonstrate some other common display options\n",
    "print(\"\\nSetting display.max_columns to 2:\")\n",
    "pd.set_option('display.max_columns', 2)\n",
    "print(df)\n",
    "\n",
    "# Reset to defaults\n",
    "print(\"\\nResetting to defaults:\")\n",
    "pd.reset_option('display.max_rows')\n",
    "pd.reset_option('display.max_columns')\n",
    "print(df)\n",
    "\n",
    "# Get current value of an option\n",
    "print(\"\\nCurrent value of display.max_rows:\", pd.get_option('display.max_rows'))\n",
    "\n",
    "# List some common display options manually\n",
    "print(\"\\nSome common display options:\")\n",
    "print(\"- display.max_rows: Maximum number of rows to display\")\n",
    "print(\"- display.max_columns: Maximum number of columns to display\")\n",
    "print(\"- display.precision: Floating point output precision in terms of number of places after the decimal\")\n",
    "print(\"- display.float_format: Formatter for floating point numbers\")\n",
    "print(\"- display.width: Width of the display in characters\")\n",
    "print(\"- display.expand_frame_repr: Whether to print dataframes to fill the display width\")\n",
    "print(\"- display.colheader_justify: Alignment of column headers\")\n",
    "print(\"- display.notebook_repr_html: Whether to use HTML representation for DataFrame in IPython notebook\")"
   ]
  },
  {
   "cell_type": "code",
   "execution_count": 9,
   "metadata": {},
   "outputs": [
    {
     "name": "stdout",
     "output_type": "stream",
     "text": [
      "Original DataFrame with 7 rows:\n",
      "          0         1\n",
      "0  0.793831 -2.044238\n",
      "1 -0.441312 -1.527862\n",
      "2 -2.451083  2.006875\n",
      "3  0.875346  0.138094\n",
      "4  0.851321 -0.043500\n",
      "5 -1.240881  0.321155\n",
      "6  0.024097 -0.361155\n",
      "\n",
      "Setting display.max_rows to 5 (truncate display):\n",
      "           0         1\n",
      "0   0.793831 -2.044238\n",
      "1  -0.441312 -1.527862\n",
      "..       ...       ...\n",
      "5  -1.240881  0.321155\n",
      "6   0.024097 -0.361155\n",
      "\n",
      "[7 rows x 2 columns]\n",
      "\n",
      "Notice that the middle row is replaced with '...' when display.max_rows=5\n",
      "\n",
      "Resetting to show all rows:\n",
      "          0         1\n",
      "0  0.793831 -2.044238\n",
      "1 -0.441312 -1.527862\n",
      "2 -2.451083  2.006875\n",
      "3  0.875346  0.138094\n",
      "4  0.851321 -0.043500\n",
      "5 -1.240881  0.321155\n",
      "6  0.024097 -0.361155\n",
      "\n",
      "Setting display.min_rows to 3:\n",
      "          0         1\n",
      "0  0.793831 -2.044238\n",
      "1 -0.441312 -1.527862\n",
      "2 -2.451083  2.006875\n",
      "3  0.875346  0.138094\n",
      "4  0.851321 -0.043500\n",
      "5 -1.240881  0.321155\n",
      "6  0.024097 -0.361155\n",
      "\n",
      "Resetting all options to defaults:\n",
      "          0         1\n",
      "0  0.793831 -2.044238\n",
      "1 -0.441312 -1.527862\n",
      "2 -2.451083  2.006875\n",
      "3  0.875346  0.138094\n",
      "4  0.851321 -0.043500\n",
      "5 -1.240881  0.321155\n",
      "6  0.024097 -0.361155\n"
     ]
    },
    {
     "name": "stderr",
     "output_type": "stream",
     "text": [
      "/var/folders/7y/fzwln1_93mn3js3wyk61_6xm0000gn/T/ipykernel_96611/3621840060.py:29: FutureWarning: data_manager option is deprecated and will be removed in a future version. Only the BlockManager will be available.\n",
      "  pd.reset_option('all')\n",
      "/var/folders/7y/fzwln1_93mn3js3wyk61_6xm0000gn/T/ipykernel_96611/3621840060.py:29: FutureWarning: use_inf_as_na option is deprecated and will be removed in a future version. Convert inf values to NaN before operating instead.\n",
      "  pd.reset_option('all')\n"
     ]
    }
   ],
   "source": [
    "import pandas as pd\n",
    "import numpy as np\n",
    "\n",
    "# Create a sample DataFrame\n",
    "df = pd.DataFrame(np.random.randn(7, 2))\n",
    "print(\"Original DataFrame with 7 rows:\")\n",
    "print(df)\n",
    "\n",
    "# Use the fully qualified option name\n",
    "print(\"\\nSetting display.max_rows to 5 (truncate display):\")\n",
    "pd.set_option('display.max_rows', 5)\n",
    "print(df)\n",
    "\n",
    "# Verify that the display is truncated\n",
    "print(\"\\nNotice that the middle row is replaced with '...' when display.max_rows=5\")\n",
    "\n",
    "# Reset to show all rows\n",
    "print(\"\\nResetting to show all rows:\")\n",
    "pd.set_option('display.max_rows', 7)\n",
    "print(df)\n",
    "\n",
    "# Demonstrate min_rows option\n",
    "print(\"\\nSetting display.min_rows to 3:\")\n",
    "pd.set_option('display.min_rows', 3)\n",
    "print(df)\n",
    "\n",
    "# Reset all options to defaults\n",
    "print(\"\\nResetting all options to defaults:\")\n",
    "pd.reset_option('all')\n",
    "print(df)"
   ]
  },
  {
   "cell_type": "code",
   "execution_count": 10,
   "metadata": {},
   "outputs": [],
   "source": [
    "# Reset to default\n",
    "pd.reset_option('max_rows')"
   ]
  },
  {
   "cell_type": "markdown",
   "metadata": {},
   "source": [
    "#### display.min_rows\n",
    "\n",
    "Once the `display.max_rows` is exceeded, the `display.min_rows` option determines how many rows are shown in the truncated representation."
   ]
  },
  {
   "cell_type": "code",
   "execution_count": 12,
   "metadata": {},
   "outputs": [
    {
     "name": "stdout",
     "output_type": "stream",
     "text": [
      "DataFrame with 7 rows (below max_rows of 8, all rows shown):\n",
      "          0         1\n",
      "0 -1.544378 -0.800139\n",
      "1 -1.663644 -0.438397\n",
      "2 -0.050639  0.809520\n",
      "3 -0.462558 -1.415430\n",
      "4  0.083647 -2.220747\n",
      "5 -1.282211 -0.865768\n",
      "6 -1.364048  0.195216\n",
      "\n",
      "DataFrame with 10 rows (above max_rows of 8, truncated display):\n",
      "           0         1\n",
      "0   0.337388 -0.087717\n",
      "1  -0.273936  0.749711\n",
      "..       ...       ...\n",
      "8  -0.725696  0.894212\n",
      "9   1.768393  0.941977\n",
      "\n",
      "[10 rows x 2 columns]\n",
      "\n",
      "DataFrame with 3 rows (below min_rows of 4, min_rows enforced):\n",
      "          0         1\n",
      "0  0.006476  0.098658\n",
      "1  1.064371  2.522334\n",
      "2  0.690075  0.371259\n",
      "\n",
      "Resetting options to defaults:\n"
     ]
    }
   ],
   "source": [
    "import pandas as pd\n",
    "import numpy as np\n",
    "\n",
    "# Set max_rows and min_rows using fully qualified option names\n",
    "pd.set_option('display.max_rows', 8)\n",
    "pd.set_option('display.min_rows', 4)\n",
    "\n",
    "# Below max_rows -> all rows shown\n",
    "df = pd.DataFrame(np.random.randn(7, 2))\n",
    "print(\"DataFrame with 7 rows (below max_rows of 8, all rows shown):\")\n",
    "print(df)\n",
    "\n",
    "# Above max_rows -> truncated display\n",
    "df_large = pd.DataFrame(np.random.randn(10, 2))\n",
    "print(\"\\nDataFrame with 10 rows (above max_rows of 8, truncated display):\")\n",
    "print(df_large)\n",
    "\n",
    "# Small DataFrame -> min_rows enforced\n",
    "df_small = pd.DataFrame(np.random.randn(3, 2))\n",
    "print(\"\\nDataFrame with 3 rows (below min_rows of 4, min_rows enforced):\")\n",
    "print(df_small)\n",
    "\n",
    "# Reset options to defaults\n",
    "print(\"\\nResetting options to defaults:\")\n",
    "pd.reset_option('display.max_rows')\n",
    "pd.reset_option('display.min_rows')"
   ]
  },
  {
   "cell_type": "code",
   "execution_count": 13,
   "metadata": {},
   "outputs": [
    {
     "data": {
      "text/html": [
       "<div>\n",
       "<style scoped>\n",
       "    .dataframe tbody tr th:only-of-type {\n",
       "        vertical-align: middle;\n",
       "    }\n",
       "\n",
       "    .dataframe tbody tr th {\n",
       "        vertical-align: top;\n",
       "    }\n",
       "\n",
       "    .dataframe thead th {\n",
       "        text-align: right;\n",
       "    }\n",
       "</style>\n",
       "<table border=\"1\" class=\"dataframe\">\n",
       "  <thead>\n",
       "    <tr style=\"text-align: right;\">\n",
       "      <th></th>\n",
       "      <th>0</th>\n",
       "      <th>1</th>\n",
       "    </tr>\n",
       "  </thead>\n",
       "  <tbody>\n",
       "    <tr>\n",
       "      <th>0</th>\n",
       "      <td>-0.243665</td>\n",
       "      <td>-1.689881</td>\n",
       "    </tr>\n",
       "    <tr>\n",
       "      <th>1</th>\n",
       "      <td>2.196061</td>\n",
       "      <td>0.596462</td>\n",
       "    </tr>\n",
       "    <tr>\n",
       "      <th>2</th>\n",
       "      <td>-0.876289</td>\n",
       "      <td>1.129470</td>\n",
       "    </tr>\n",
       "    <tr>\n",
       "      <th>3</th>\n",
       "      <td>-2.249422</td>\n",
       "      <td>0.616063</td>\n",
       "    </tr>\n",
       "    <tr>\n",
       "      <th>4</th>\n",
       "      <td>-1.337313</td>\n",
       "      <td>-0.433469</td>\n",
       "    </tr>\n",
       "    <tr>\n",
       "      <th>5</th>\n",
       "      <td>0.284723</td>\n",
       "      <td>-0.128869</td>\n",
       "    </tr>\n",
       "    <tr>\n",
       "      <th>6</th>\n",
       "      <td>1.953385</td>\n",
       "      <td>1.471074</td>\n",
       "    </tr>\n",
       "    <tr>\n",
       "      <th>7</th>\n",
       "      <td>-0.194825</td>\n",
       "      <td>0.639690</td>\n",
       "    </tr>\n",
       "    <tr>\n",
       "      <th>8</th>\n",
       "      <td>0.908440</td>\n",
       "      <td>-0.184461</td>\n",
       "    </tr>\n",
       "  </tbody>\n",
       "</table>\n",
       "</div>"
      ],
      "text/plain": [
       "          0         1\n",
       "0 -0.243665 -1.689881\n",
       "1  2.196061  0.596462\n",
       "2 -0.876289  1.129470\n",
       "3 -2.249422  0.616063\n",
       "4 -1.337313 -0.433469\n",
       "5  0.284723 -0.128869\n",
       "6  1.953385  1.471074\n",
       "7 -0.194825  0.639690\n",
       "8  0.908440 -0.184461"
      ]
     },
     "execution_count": 13,
     "metadata": {},
     "output_type": "execute_result"
    }
   ],
   "source": [
    "# Above max_rows -> only min_rows (4) rows shown\n",
    "df = pd.DataFrame(np.random.randn(9, 2))\n",
    "df"
   ]
  },
  {
   "cell_type": "code",
   "execution_count": 14,
   "metadata": {},
   "outputs": [],
   "source": [
    "# Reset options\n",
    "pd.reset_option('max_rows')\n",
    "pd.reset_option('min_rows')"
   ]
  },
  {
   "cell_type": "markdown",
   "metadata": {},
   "source": [
    "#### display.expand_frame_repr\n",
    "\n",
    "This option allows for the representation of dataframes to stretch across pages, wrapped over the full column vs row-wise."
   ]
  },
  {
   "cell_type": "code",
   "execution_count": 15,
   "metadata": {},
   "outputs": [
    {
     "data": {
      "text/html": [
       "<div>\n",
       "<style scoped>\n",
       "    .dataframe tbody tr th:only-of-type {\n",
       "        vertical-align: middle;\n",
       "    }\n",
       "\n",
       "    .dataframe tbody tr th {\n",
       "        vertical-align: top;\n",
       "    }\n",
       "\n",
       "    .dataframe thead th {\n",
       "        text-align: right;\n",
       "    }\n",
       "</style>\n",
       "<table border=\"1\" class=\"dataframe\">\n",
       "  <thead>\n",
       "    <tr style=\"text-align: right;\">\n",
       "      <th></th>\n",
       "      <th>0</th>\n",
       "      <th>1</th>\n",
       "      <th>2</th>\n",
       "      <th>3</th>\n",
       "      <th>4</th>\n",
       "      <th>5</th>\n",
       "      <th>6</th>\n",
       "      <th>7</th>\n",
       "      <th>8</th>\n",
       "      <th>9</th>\n",
       "    </tr>\n",
       "  </thead>\n",
       "  <tbody>\n",
       "    <tr>\n",
       "      <th>0</th>\n",
       "      <td>0.711213</td>\n",
       "      <td>0.716578</td>\n",
       "      <td>0.348995</td>\n",
       "      <td>-0.107725</td>\n",
       "      <td>0.017254</td>\n",
       "      <td>0.959268</td>\n",
       "      <td>-0.315211</td>\n",
       "      <td>0.115822</td>\n",
       "      <td>0.049168</td>\n",
       "      <td>0.798565</td>\n",
       "    </tr>\n",
       "    <tr>\n",
       "      <th>1</th>\n",
       "      <td>-0.059231</td>\n",
       "      <td>0.358736</td>\n",
       "      <td>1.019495</td>\n",
       "      <td>-0.308093</td>\n",
       "      <td>1.776857</td>\n",
       "      <td>-1.087037</td>\n",
       "      <td>-0.918249</td>\n",
       "      <td>-0.316566</td>\n",
       "      <td>-1.261562</td>\n",
       "      <td>-0.673513</td>\n",
       "    </tr>\n",
       "    <tr>\n",
       "      <th>2</th>\n",
       "      <td>0.195051</td>\n",
       "      <td>1.027643</td>\n",
       "      <td>-0.876066</td>\n",
       "      <td>0.690749</td>\n",
       "      <td>1.130593</td>\n",
       "      <td>-0.749288</td>\n",
       "      <td>0.630534</td>\n",
       "      <td>-0.235007</td>\n",
       "      <td>-0.924213</td>\n",
       "      <td>-1.767366</td>\n",
       "    </tr>\n",
       "    <tr>\n",
       "      <th>3</th>\n",
       "      <td>1.296595</td>\n",
       "      <td>-0.449367</td>\n",
       "      <td>0.364136</td>\n",
       "      <td>1.122711</td>\n",
       "      <td>1.749654</td>\n",
       "      <td>-0.647843</td>\n",
       "      <td>-0.702419</td>\n",
       "      <td>-0.228711</td>\n",
       "      <td>2.391075</td>\n",
       "      <td>0.090017</td>\n",
       "    </tr>\n",
       "    <tr>\n",
       "      <th>4</th>\n",
       "      <td>0.521081</td>\n",
       "      <td>-0.661773</td>\n",
       "      <td>0.217504</td>\n",
       "      <td>0.403717</td>\n",
       "      <td>-1.348578</td>\n",
       "      <td>0.328468</td>\n",
       "      <td>-0.287249</td>\n",
       "      <td>1.333994</td>\n",
       "      <td>-1.123520</td>\n",
       "      <td>0.687911</td>\n",
       "    </tr>\n",
       "  </tbody>\n",
       "</table>\n",
       "</div>"
      ],
      "text/plain": [
       "          0         1         2         3         4         5         6  \\\n",
       "0  0.711213  0.716578  0.348995 -0.107725  0.017254  0.959268 -0.315211   \n",
       "1 -0.059231  0.358736  1.019495 -0.308093  1.776857 -1.087037 -0.918249   \n",
       "2  0.195051  1.027643 -0.876066  0.690749  1.130593 -0.749288  0.630534   \n",
       "3  1.296595 -0.449367  0.364136  1.122711  1.749654 -0.647843 -0.702419   \n",
       "4  0.521081 -0.661773  0.217504  0.403717 -1.348578  0.328468 -0.287249   \n",
       "\n",
       "          7         8         9  \n",
       "0  0.115822  0.049168  0.798565  \n",
       "1 -0.316566 -1.261562 -0.673513  \n",
       "2 -0.235007 -0.924213 -1.767366  \n",
       "3 -0.228711  2.391075  0.090017  \n",
       "4  1.333994 -1.123520  0.687911  "
      ]
     },
     "execution_count": 15,
     "metadata": {},
     "output_type": "execute_result"
    }
   ],
   "source": [
    "# Create a wider DataFrame\n",
    "df = pd.DataFrame(np.random.randn(5, 10))\n",
    "\n",
    "# Set expand_frame_repr to True\n",
    "pd.set_option('expand_frame_repr', True)\n",
    "df"
   ]
  },
  {
   "cell_type": "markdown",
   "metadata": {},
   "source": [
    "##### Enhancing Performance with pandas.eval()\n",
    "\n",
    "Pandas provides the `eval()` function which allows you to evaluate a string describing operations on pandas objects. This can lead to improved performance for certain types of operations."
   ]
  },
  {
   "cell_type": "code",
   "execution_count": 16,
   "metadata": {},
   "outputs": [],
   "source": [
    "# Create some large DataFrames for demonstration\n",
    "nrows, ncols = 20000, 100\n",
    "df1, df2, df3, df4 = [pd.DataFrame(np.random.randn(nrows, ncols)) for _ in range(4)]"
   ]
  },
  {
   "cell_type": "markdown",
   "metadata": {},
   "source": [
    "### Basic Usage of pandas.eval()\n",
    "\n",
    "The `eval()` function evaluates a string describing operations on pandas objects."
   ]
  },
  {
   "cell_type": "code",
   "execution_count": 17,
   "metadata": {},
   "outputs": [
    {
     "data": {
      "text/plain": [
       "np.int64(3)"
      ]
     },
     "execution_count": 17,
     "metadata": {},
     "output_type": "execute_result"
    }
   ],
   "source": [
    "# Using variables in the current namespace\n",
    "a, b = 1, 2\n",
    "pd.eval('a + b')"
   ]
  },
  {
   "cell_type": "code",
   "execution_count": 18,
   "metadata": {},
   "outputs": [
    {
     "name": "stdout",
     "output_type": "stream",
     "text": [
      "The '@' prefix is not allowed in top-level eval calls.\n",
      "please refer to your variables by name without the '@' prefix.\n"
     ]
    }
   ],
   "source": [
    "# The @ prefix is not allowed in top-level eval calls\n",
    "try:\n",
    "    pd.eval('@a + b')\n",
    "except SyntaxError as e:\n",
    "    print(e)"
   ]
  },
  {
   "cell_type": "markdown",
   "metadata": {},
   "source": [
    "### pandas.eval() Parsers\n",
    "\n",
    "There are two different parsers you can use as the backend:\n",
    "- The default 'pandas' parser allows a more intuitive syntax for expressing query-like operations\n",
    "- The 'python' parser enforces strict Python semantics"
   ]
  },
  {
   "cell_type": "code",
   "execution_count": 19,
   "metadata": {},
   "outputs": [
    {
     "data": {
      "text/plain": [
       "np.True_"
      ]
     },
     "execution_count": 19,
     "metadata": {},
     "output_type": "execute_result"
    }
   ],
   "source": [
    "# Using the 'python' parser with parentheses\n",
    "expr = '(df1 > 0) & (df2 > 0) & (df3 > 0) & (df4 > 0)'\n",
    "x = pd.eval(expr, parser='python')\n",
    "\n",
    "# Using the 'pandas' parser without parentheses\n",
    "expr_no_parens = 'df1 > 0 & df2 > 0 & df3 > 0 & df4 > 0'\n",
    "y = pd.eval(expr_no_parens, parser='pandas')\n",
    "\n",
    "# Check if results are the same\n",
    "np.all(x == y)"
   ]
  },
  {
   "cell_type": "code",
   "execution_count": 20,
   "metadata": {},
   "outputs": [
    {
     "data": {
      "text/plain": [
       "np.True_"
      ]
     },
     "execution_count": 20,
     "metadata": {},
     "output_type": "execute_result"
    }
   ],
   "source": [
    "# Using 'and' instead of '&'\n",
    "expr = '(df1 > 0) & (df2 > 0) & (df3 > 0) & (df4 > 0)'\n",
    "x = pd.eval(expr, parser='python')\n",
    "\n",
    "expr_with_ands = 'df1 > 0 and df2 > 0 and df3 > 0 and df4 > 0'\n",
    "y = pd.eval(expr_with_ands, parser='pandas')\n",
    "\n",
    "# Check if results are the same\n",
    "np.all(x == y)"
   ]
  },
  {
   "cell_type": "markdown",
   "metadata": {},
   "source": [
    "### pandas.eval() Backends\n",
    "\n",
    "There's also the option to make `eval()` operate identical to plain Python using the 'python' engine. However, this generally provides no performance benefits and may even be slower."
   ]
  },
  {
   "cell_type": "code",
   "execution_count": 21,
   "metadata": {},
   "outputs": [
    {
     "name": "stdout",
     "output_type": "stream",
     "text": [
      "2.72 ms ± 191 μs per loop (mean ± std. dev. of 7 runs, 100 loops each)\n",
      "2.92 ms ± 371 μs per loop (mean ± std. dev. of 7 runs, 100 loops each)\n"
     ]
    }
   ],
   "source": [
    "# Compare performance\n",
    "%timeit df1 + df2 + df3 + df4\n",
    "%timeit pd.eval('df1 + df2 + df3 + df4', engine='python')"
   ]
  },
  {
   "cell_type": "markdown",
   "metadata": {},
   "source": [
    "### pandas.eval() Performance\n",
    "\n",
    "`eval()` is intended to speed up certain kinds of operations, particularly those involving complex expressions with large DataFrame/Series objects. Let's compare the performance of regular Python operations versus using `eval()`."
   ]
  },
  {
   "cell_type": "code",
   "execution_count": 22,
   "metadata": {},
   "outputs": [
    {
     "name": "stdout",
     "output_type": "stream",
     "text": [
      "Regular Python operation: 0.003755 seconds\n",
      "eval with 'numexpr' engine: 0.003193 seconds\n",
      "Results are equal: True\n"
     ]
    }
   ],
   "source": [
    "# Regular Python operation\n",
    "start = time.time()\n",
    "result1 = df1 + df2 + df3 + df4\n",
    "end = time.time()\n",
    "print(f\"Regular Python operation: {end - start:.6f} seconds\")\n",
    "\n",
    "# Using eval with 'numexpr' engine (default)\n",
    "start = time.time()\n",
    "result2 = pd.eval('df1 + df2 + df3 + df4')\n",
    "end = time.time()\n",
    "print(f\"eval with 'numexpr' engine: {end - start:.6f} seconds\")\n",
    "\n",
    "# Verify results are the same\n",
    "print(f\"Results are equal: {result1.equals(result2)}\")"
   ]
  },
  {
   "cell_type": "markdown",
   "metadata": {},
   "source": [
    "##### Conclusion\n",
    "\n",
    "In this notebook, we've explored:\n",
    "\n",
    "1. More pandas options and settings, including:\n",
    "   - Using the `option_context` context manager\n",
    "   - Setting startup options\n",
    "   - Frequently used display options like `max_rows`, `min_rows`, and `expand_frame_repr`\n",
    "\n",
    "2. Enhancing performance with `pandas.eval()`, including:\n",
    "   - Basic usage\n",
    "   - Different parsers ('pandas' vs 'python')\n",
    "   - Different backends and their performance implications\n",
    "\n",
    "These features provide powerful tools for customizing pandas behavior and improving performance for complex operations on large datasets."
   ]
  },
  {
   "cell_type": "markdown",
   "metadata": {},
   "source": []
  }
 ],
 "metadata": {
  "kernelspec": {
   "display_name": "venv",
   "language": "python",
   "name": "python3"
  },
  "language_info": {
   "codemirror_mode": {
    "name": "ipython",
    "version": 3
   },
   "file_extension": ".py",
   "mimetype": "text/x-python",
   "name": "python",
   "nbconvert_exporter": "python",
   "pygments_lexer": "ipython3",
   "version": "3.13.2"
  }
 },
 "nbformat": 4,
 "nbformat_minor": 4
}
