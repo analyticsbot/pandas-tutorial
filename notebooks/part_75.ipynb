{
 "cells": [
  {
   "cell_type": "markdown",
   "metadata": {},
   "source": [
    "# Pandas Part 75: More Index Methods\n",
    "\n",
    "This notebook explores additional methods available on pandas Index objects."
   ]
  },
  {
   "cell_type": "code",
   "execution_count": null,
   "metadata": {},
   "outputs": [],
   "source": [
    "import pandas as pd\n",
    "import numpy as np"
   ]
  },
  {
   "cell_type": "markdown",
   "metadata": {},
   "source": [
    "## 1. Index Groupby Method\n",
    "\n",
    "The `groupby` method groups the index labels by a given array of values."
   ]
  },
  {
   "cell_type": "code",
   "execution_count": null,
   "metadata": {},
   "outputs": [],
   "source": [
    "# Create an Index\n",
    "idx = pd.Index(['apple', 'banana', 'cherry', 'date', 'elderberry'])\n",
    "print(f\"Index: {idx}\")\n",
    "\n",
    "# Group by first letter\n",
    "groups = idx.groupby([x[0] for x in idx])\n",
    "print(\"\\nGroups by first letter:\")\n",
    "for group_name, group_indices in groups.items():\n",
    "    print(f\"Group '{group_name}': {idx[group_indices]}\")"
   ]
  },
  {
   "cell_type": "code",
   "execution_count": null,
   "metadata": {},
   "outputs": [],
   "source": [
    "# Group by length of string\n",
    "groups = idx.groupby([len(x) for x in idx])\n",
    "print(\"Groups by string length:\")\n",
    "for group_name, group_indices in groups.items():\n",
    "    print(f\"Group {group_name}: {idx[group_indices]}\")"
   ]
  },
  {
   "cell_type": "markdown",
   "metadata": {},
   "source": [
    "## 2. holds_integer Method\n",
    "\n",
    "The `holds_integer` method checks whether the index type is an integer type."
   ]
  },
  {
   "cell_type": "code",
   "execution_count": null,
   "metadata": {},
   "outputs": [],
   "source": [
    "# Create different types of indices\n",
    "int_idx = pd.Index([1, 2, 3, 4, 5])\n",
    "float_idx = pd.Index([1.0, 2.0, 3.0, 4.0, 5.0])\n",
    "str_idx = pd.Index(['a', 'b', 'c', 'd', 'e'])\n",
    "\n",
    "print(f\"Integer index: {int_idx}\")\n",
    "print(f\"holds_integer: {int_idx.holds_integer()}\")\n",
    "\n",
    "print(f\"\\nFloat index: {float_idx}\")\n",
    "print(f\"holds_integer: {float_idx.holds_integer()}\")\n",
    "\n",
    "print(f\"\\nString index: {str_idx}\")\n",
    "print(f\"holds_integer: {str_idx.holds_integer()}\")"
   ]
  },
  {
   "cell_type": "markdown",
   "metadata": {},
   "source": [
    "## 3. identical Method\n",
    "\n",
    "The `identical` method checks if two Index objects have equal elements and the same type."
   ]
  },
  {
   "cell_type": "code",
   "execution_count": null,
   "metadata": {},
   "outputs": [],
   "source": [
    "# Create indices\n",
    "idx1 = pd.Index([1, 2, 3])\n",
    "idx2 = pd.Index([1, 2, 3])\n",
    "idx3 = pd.Index([1, 2, 3], name='numbers')\n",
    "idx4 = pd.Index([1.0, 2.0, 3.0])\n",
    "\n",
    "print(f\"idx1: {idx1}, type: {type(idx1)}\")\n",
    "print(f\"idx2: {idx2}, type: {type(idx2)}\")\n",
    "print(f\"idx3: {idx3}, type: {type(idx3)}\")\n",
    "print(f\"idx4: {idx4}, type: {type(idx4)}\")\n",
    "\n",
    "# Check if indices are identical\n",
    "print(f\"\\nidx1.identical(idx2): {idx1.identical(idx2)}\")\n",
    "print(f\"idx1.identical(idx3): {idx1.identical(idx3)}\")\n",
    "print(f\"idx1.identical(idx4): {idx1.identical(idx4)}\")"
   ]
  },
  {
   "cell_type": "markdown",
   "metadata": {},
   "source": [
    "## 4. insert Method\n",
    "\n",
    "The `insert` method creates a new Index by inserting a new item at a specified location."
   ]
  },
  {
   "cell_type": "code",
   "execution_count": null,
   "metadata": {},
   "outputs": [],
   "source": [
    "# Create an Index\n",
    "idx = pd.Index(['a', 'b', 'd', 'e'])\n",
    "print(f\"Original index: {idx}\")\n",
    "\n",
    "# Insert an item\n",
    "new_idx = idx.insert(2, 'c')\n",
    "print(f\"After inserting 'c' at position 2: {new_idx}\")\n",
    "\n",
    "# Insert at the beginning\n",
    "new_idx = idx.insert(0, 'start')\n",
    "print(f\"After inserting 'start' at position 0: {new_idx}\")\n",
    "\n",
    "# Insert at the end\n",
    "new_idx = idx.insert(len(idx), 'end')\n",
    "print(f\"After inserting 'end' at the end: {new_idx}\")\n",
    "\n",
    "# Insert with negative index\n",
    "new_idx = idx.insert(-1, 'before_last')\n",
    "print(f\"After inserting 'before_last' at position -1: {new_idx}\")"
   ]
  },
  {
   "cell_type": "markdown",
   "metadata": {},
   "source": [
    "## 5. intersection Method\n",
    "\n",
    "The `intersection` method forms the intersection of two Index objects, returning a new Index with elements common to both."
   ]
  },
  {
   "cell_type": "code",
   "execution_count": null,
   "metadata": {},
   "outputs": [],
   "source": [
    "# Create two indices\n",
    "idx1 = pd.Index([1, 2, 3, 4])\n",
    "idx2 = pd.Index([3, 4, 5, 6])\n",
    "print(f\"idx1: {idx1}\")\n",
    "print(f\"idx2: {idx2}\")\n",
    "\n",
    "# Find the intersection\n",
    "intersection = idx1.intersection(idx2)\n",
    "print(f\"\\nIntersection: {intersection}\")"
   ]
  },
  {
   "cell_type": "code",
   "execution_count": null,
   "metadata": {},
   "outputs": [],
   "source": [
    "# Create indices with different types\n",
    "idx1 = pd.Index(['a', 'b', 'c', 'd'])\n",
    "idx2 = pd.Index(['c', 'd', 'e', 'f'])\n",
    "print(f\"idx1: {idx1}\")\n",
    "print(f\"idx2: {idx2}\")\n",
    "\n",
    "# Find the intersection\n",
    "intersection = idx1.intersection(idx2)\n",
    "print(f\"\\nIntersection: {intersection}\")"
   ]
  },
  {
   "cell_type": "code",
   "execution_count": null,
   "metadata": {},
   "outputs": [],
   "source": [
    "# Intersection with sort parameter\n",
    "idx1 = pd.Index([5, 3, 1, 4, 2])\n",
    "idx2 = pd.Index([4, 3, 6, 5])\n",
    "print(f\"idx1: {idx1}\")\n",
    "print(f\"idx2: {idx2}\")\n",
    "\n",
    "# Default: sort=False\n",
    "intersection = idx1.intersection(idx2)\n",
    "print(f\"\\nIntersection (sort=False): {intersection}\")\n",
    "\n",
    "# With sort=None\n",
    "intersection = idx1.intersection(idx2, sort=None)\n",
    "print(f\"Intersection (sort=None): {intersection}\")"
   ]
  },
  {
   "cell_type": "markdown",
   "metadata": {},
   "source": [
    "## 6. is_ Method\n",
    "\n",
    "The `is_` method provides a more flexible, faster check like the Python `is` operator but works through views."
   ]
  },
  {
   "cell_type": "code",
   "execution_count": null,
   "metadata": {},
   "outputs": [],
   "source": [
    "# Create an Index\n",
    "idx1 = pd.Index([1, 2, 3])\n",
    "print(f\"idx1: {idx1}\")\n",
    "\n",
    "# Create a reference to the same Index\n",
    "idx2 = idx1\n",
    "print(f\"idx2 (reference to idx1): {idx2}\")\n",
    "\n",
    "# Create a copy of the Index\n",
    "idx3 = idx1.copy()\n",
    "print(f\"idx3 (copy of idx1): {idx3}\")\n",
    "\n",
    "# Check using is_\n",
    "print(f\"\\nidx1.is_(idx2): {idx1.is_(idx2)}\")\n",
    "print(f\"idx1.is_(idx3): {idx1.is_(idx3)}\")\n",
    "\n",
    "# Compare with Python's is operator\n",
    "print(f\"idx1 is idx2: {idx1 is idx2}\")\n",
    "print(f\"idx1 is idx3: {idx1 is idx3}\")"
   ]
  },
  {
   "cell_type": "markdown",
   "metadata": {},
   "source": [
    "## 7. is_categorical Method\n",
    "\n",
    "The `is_categorical` method checks if the Index holds categorical data."
   ]
  },
  {
   "cell_type": "code",
   "execution_count": null,
   "metadata": {},
   "outputs": [],
   "source": [
    "# Create a regular Index\n",
    "idx1 = pd.Index([\"Watermelon\", \"Orange\", \"Apple\", \"Watermelon\"])\n",
    "print(f\"Regular index: {idx1}\")\n",
    "print(f\"is_categorical: {idx1.is_categorical()}\")\n",
    "\n",
    "# Convert to categorical\n",
    "idx2 = pd.Index([\"Watermelon\", \"Orange\", \"Apple\", \"Watermelon\"]).astype(\"category\")\n",
    "print(f\"\\nCategorical index: {idx2}\")\n",
    "print(f\"is_categorical: {idx2.is_categorical()}\")\n",
    "\n",
    "# Create a numeric Index\n",
    "idx3 = pd.Index([1, 3, 5, 7])\n",
    "print(f\"\\nNumeric index: {idx3}\")\n",
    "print(f\"is_categorical: {idx3.is_categorical()}\")"
   ]
  },
  {
   "cell_type": "markdown",
   "metadata": {},
   "source": [
    "## 8. to_numpy Method\n",
    "\n",
    "The `to_numpy` method converts the Index to a NumPy array."
   ]
  },
  {
   "cell_type": "code",
   "execution_count": null,
   "metadata": {},
   "outputs": [],
   "source": [
    "# Create different types of indices\n",
    "int_idx = pd.Index([1, 2, 3, 4, 5])\n",
    "float_idx = pd.Index([1.0, 2.0, 3.0, 4.0, 5.0])\n",
    "str_idx = pd.Index(['a', 'b', 'c', 'd', 'e'])\n",
    "cat_idx = pd.Index(['a', 'b', 'a', 'c']).astype('category')\n",
    "\n",
    "# Convert to NumPy arrays\n",
    "int_array = int_idx.to_numpy()\n",
    "print(f\"Integer index to NumPy: {int_array}\")\n",
    "print(f\"Type: {type(int_array)}, dtype: {int_array.dtype}\")\n",
    "\n",
    "float_array = float_idx.to_numpy()\n",
    "print(f\"\\nFloat index to NumPy: {float_array}\")\n",
    "print(f\"Type: {type(float_array)}, dtype: {float_array.dtype}\")\n",
    "\n",
    "str_array = str_idx.to_numpy()\n",
    "print(f\"\\nString index to NumPy: {str_array}\")\n",
    "print(f\"Type: {type(str_array)}, dtype: {str_array.dtype}\")\n",
    "\n",
    "cat_array = cat_idx.to_numpy()\n",
    "print(f\"\\nCategorical index to NumPy: {cat_array}\")\n",
    "print(f\"Type: {type(cat_array)}, dtype: {cat_array.dtype}\")"
   ]
  },
  {
   "cell_type": "markdown",
   "metadata": {},
   "source": [
    "### to_numpy with copy Parameter"
   ]
  },
  {
   "cell_type": "code",
   "execution_count": null,
   "metadata": {},
   "outputs": [],
   "source": [
    "# Create an Index\n",
    "idx = pd.Index([1, 2, 3, 4, 5])\n",
    "\n",
    "# Convert to NumPy array with copy=False (default)\n",
    "array1 = idx.to_numpy(copy=False)\n",
    "print(f\"Array with copy=False: {array1}\")\n",
    "\n",
    "# Convert to NumPy array with copy=True\n",
    "array2 = idx.to_numpy(copy=True)\n",
    "print(f\"Array with copy=True: {array2}\")\n",
    "\n",
    "# Check if they're the same object\n",
    "print(f\"\\narray1 is array2: {array1 is array2}\")"
   ]
  },
  {
   "cell_type": "markdown",
   "metadata": {},
   "source": [
    "### to_numpy with na_value Parameter"
   ]
  },
  {
   "cell_type": "code",
   "execution_count": null,
   "metadata": {},
   "outputs": [],
   "source": [
    "# Create an Index with missing values\n",
    "idx = pd.Index([1, 2, None, 4, 5])\n",
    "print(f\"Index with None: {idx}\")\n",
    "\n",
    "# Convert to NumPy array with default na_value\n",
    "array1 = idx.to_numpy()\n",
    "print(f\"\\nArray with default na_value: {array1}\")\n",
    "\n",
    "# Convert to NumPy array with custom na_value\n",
    "array2 = idx.to_numpy(na_value=-999)\n",
    "print(f\"Array with na_value=-999: {array2}\")"
   ]
  },
  {
   "cell_type": "markdown",
   "metadata": {},
   "source": [
    "### to_numpy with Different dtypes"
   ]
  },
  {
   "cell_type": "code",
   "execution_count": null,
   "metadata": {},
   "outputs": [],
   "source": [
    "# Create a datetime Index\n",
    "date_idx = pd.date_range('2023-01-01', periods=3, tz=\"CET\")\n",
    "print(f\"Datetime index: {date_idx}\")\n",
    "\n",
    "# Convert to NumPy array with default dtype\n",
    "array1 = date_idx.to_numpy()\n",
    "print(f\"\\nArray with default dtype: {array1}\")\n",
    "print(f\"Type: {type(array1)}, dtype: {array1.dtype}\")\n",
    "\n",
    "# Convert to NumPy array with object dtype\n",
    "array2 = date_idx.to_numpy(dtype=object)\n",
    "print(f\"\\nArray with dtype=object: {array2}\")\n",
    "print(f\"Type: {type(array2)}, dtype: {array2.dtype}\")\n",
    "print(f\"First element type: {type(array2[0])}\")\n",
    "\n",
    "# Convert to NumPy array with datetime64[ns] dtype\n",
    "array3 = date_idx.to_numpy(dtype=\"datetime64[ns]\")\n",
    "print(f\"\\nArray with dtype=datetime64[ns]: {array3}\")\n",
    "print(f\"Type: {type(array3)}, dtype: {array3.dtype}\")"
   ]
  }
 ],
 "metadata": {
  "kernelspec": {
   "display_name": "Python 3",
   "language": "python",
   "name": "python3"
  },
  "language_info": {
   "codemirror_mode": {
    "name": "ipython",
    "version": 3
   },
   "file_extension": ".py",
   "mimetype": "text/x-python",
   "name": "python",
   "nbconvert_exporter": "python",
   "pygments_lexer": "ipython3",
   "version": "3.8.5"
  }
 },
 "nbformat": 4,
 "nbformat_minor": 4
}
