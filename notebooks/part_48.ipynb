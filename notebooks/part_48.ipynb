{
 "cells": [
  {
   "cell_type": "markdown",
   "metadata": {},
   "source": [
    "# Pandas Tutorial - Part 48\n",
    "\n",
    "This notebook covers various Series methods including:\n",
    "- Calculating skewness with `skew()`\n",
    "- Shifting data without copying with `slice_shift()`\n",
    "- Converting Series to JSON with `to_json()`"
   ]
  },
  {
   "cell_type": "code",
   "execution_count": null,
   "metadata": {},
   "outputs": [],
   "source": [
    "import pandas as pd\n",
    "import numpy as np\n",
    "import matplotlib.pyplot as plt\n",
    "import json\n",
    "from scipy import stats\n",
    "\n",
    "%matplotlib inline"
   ]
  },
  {
   "cell_type": "markdown",
   "metadata": {},
   "source": [
    "## Calculating Skewness\n",
    "\n",
    "The `skew()` method calculates the unbiased skewness of a Series. Skewness is a measure of the asymmetry of the probability distribution of a random variable about its mean."
   ]
  },
  {
   "cell_type": "code",
   "execution_count": null,
   "metadata": {},
   "outputs": [],
   "source": [
    "# Create a Series with a normal distribution\n",
    "np.random.seed(42)\n",
    "normal_data = pd.Series(np.random.normal(0, 1, 1000))\n",
    "\n",
    "# Calculate skewness\n",
    "normal_skew = normal_data.skew()\n",
    "print(f\"Skewness of normal distribution: {normal_skew}\")"
   ]
  },
  {
   "cell_type": "code",
   "execution_count": null,
   "metadata": {},
   "outputs": [],
   "source": [
    "# Create a Series with a right-skewed distribution\n",
    "right_skewed = pd.Series(np.random.exponential(1, 1000))\n",
    "\n",
    "# Calculate skewness\n",
    "right_skew = right_skewed.skew()\n",
    "print(f\"Skewness of right-skewed distribution: {right_skew}\")"
   ]
  },
  {
   "cell_type": "code",
   "execution_count": null,
   "metadata": {},
   "outputs": [],
   "source": [
    "# Create a Series with a left-skewed distribution\n",
    "left_skewed = pd.Series(10 - np.random.exponential(1, 1000))\n",
    "\n",
    "# Calculate skewness\n",
    "left_skew = left_skewed.skew()\n",
    "print(f\"Skewness of left-skewed distribution: {left_skew}\")"
   ]
  },
  {
   "cell_type": "code",
   "execution_count": null,
   "metadata": {},
   "outputs": [],
   "source": [
    "# Visualize the distributions\n",
    "fig, axes = plt.subplots(3, 1, figsize=(10, 12))\n",
    "\n",
    "# Normal distribution\n",
    "axes[0].hist(normal_data, bins=30, alpha=0.7)\n",
    "axes[0].set_title(f'Normal Distribution (Skewness: {normal_skew:.4f})')\n",
    "axes[0].axvline(normal_data.mean(), color='r', linestyle='dashed', linewidth=2)\n",
    "\n",
    "# Right-skewed distribution\n",
    "axes[1].hist(right_skewed, bins=30, alpha=0.7)\n",
    "axes[1].set_title(f'Right-Skewed Distribution (Skewness: {right_skew:.4f})')\n",
    "axes[1].axvline(right_skewed.mean(), color='r', linestyle='dashed', linewidth=2)\n",
    "\n",
    "# Left-skewed distribution\n",
    "axes[2].hist(left_skewed, bins=30, alpha=0.7)\n",
    "axes[2].set_title(f'Left-Skewed Distribution (Skewness: {left_skew:.4f})')\n",
    "axes[2].axvline(left_skewed.mean(), color='r', linestyle='dashed', linewidth=2)\n",
    "\n",
    "plt.tight_layout()\n",
    "plt.show()"
   ]
  },
  {
   "cell_type": "code",
   "execution_count": null,
   "metadata": {},
   "outputs": [],
   "source": [
    "# Create a Series with missing values\n",
    "data_with_nan = pd.Series([1, 2, 3, np.nan, 5, 6, np.nan, 8, 9, 10])\n",
    "print(\"Series with missing values:\")\n",
    "print(data_with_nan)"
   ]
  },
  {
   "cell_type": "code",
   "execution_count": null,
   "metadata": {},
   "outputs": [],
   "source": [
    "# Calculate skewness with skipna=True (default)\n",
    "skew_skipna = data_with_nan.skew()\n",
    "print(f\"Skewness with skipna=True: {skew_skipna}\")"
   ]
  },
  {
   "cell_type": "code",
   "execution_count": null,
   "metadata": {},
   "outputs": [],
   "source": [
    "# Calculate skewness with skipna=False\n",
    "skew_no_skipna = data_with_nan.skew(skipna=False)\n",
    "print(f\"Skewness with skipna=False: {skew_no_skipna}\")"
   ]
  },
  {
   "cell_type": "markdown",
   "metadata": {},
   "source": [
    "## Shifting Data Without Copying\n",
    "\n",
    "The `slice_shift()` method shifts the data without copying. Unlike `shift()`, which returns a Series of the same length with NaN values, `slice_shift()` returns a smaller Series without the dropped periods."
   ]
  },
  {
   "cell_type": "code",
   "execution_count": null,
   "metadata": {},
   "outputs": [],
   "source": [
    "# Create a Series\n",
    "s = pd.Series([1, 2, 3, 4, 5])\n",
    "print(\"Original Series:\")\n",
    "print(s)"
   ]
  },
  {
   "cell_type": "code",
   "execution_count": null,
   "metadata": {},
   "outputs": [],
   "source": [
    "# Shift using shift() method\n",
    "s_shift = s.shift(periods=2)\n",
    "print(\"Series shifted by 2 periods using shift():\")\n",
    "print(s_shift)"
   ]
  },
  {
   "cell_type": "code",
   "execution_count": null,
   "metadata": {},
   "outputs": [],
   "source": [
    "# Shift using slice_shift() method\n",
    "s_slice_shift = s.slice_shift(periods=2)\n",
    "print(\"Series shifted by 2 periods using slice_shift():\")\n",
    "print(s_slice_shift)"
   ]
  },
  {
   "cell_type": "code",
   "execution_count": null,
   "metadata": {},
   "outputs": [],
   "source": [
    "# Negative shift using shift() method\n",
    "s_neg_shift = s.shift(periods=-2)\n",
    "print(\"Series shifted by -2 periods using shift():\")\n",
    "print(s_neg_shift)"
   ]
  },
  {
   "cell_type": "code",
   "execution_count": null,
   "metadata": {},
   "outputs": [],
   "source": [
    "# Negative shift using slice_shift() method\n",
    "s_neg_slice_shift = s.slice_shift(periods=-2)\n",
    "print(\"Series shifted by -2 periods using slice_shift():\")\n",
    "print(s_neg_slice_shift)"
   ]
  },
  {
   "cell_type": "code",
   "execution_count": null,
   "metadata": {},
   "outputs": [],
   "source": [
    "# Create a DataFrame\n",
    "df = pd.DataFrame({'A': [1, 2, 3, 4, 5], 'B': [10, 20, 30, 40, 50]})\n",
    "print(\"Original DataFrame:\")\n",
    "print(df)"
   ]
  },
  {
   "cell_type": "code",
   "execution_count": null,
   "metadata": {},
   "outputs": [],
   "source": [
    "# Shift DataFrame using slice_shift()\n",
    "df_slice_shift = df.slice_shift(periods=2)\n",
    "print(\"DataFrame shifted by 2 periods using slice_shift():\")\n",
    "print(df_slice_shift)"
   ]
  },
  {
   "cell_type": "markdown",
   "metadata": {},
   "source": [
    "## Converting Series to JSON\n",
    "\n",
    "The `to_json()` method converts a Series to a JSON string."
   ]
  },
  {
   "cell_type": "code",
   "execution_count": null,
   "metadata": {},
   "outputs": [],
   "source": [
    "# Create a Series\n",
    "s = pd.Series(['a', 'b', 'c', 'd'], index=['w', 'x', 'y', 'z'])\n",
    "print(\"Original Series:\")\n",
    "print(s)"
   ]
  },
  {
   "cell_type": "code",
   "execution_count": null,
   "metadata": {},
   "outputs": [],
   "source": [
    "# Convert to JSON (default orient='index')\n",
    "json_index = s.to_json()\n",
    "print(\"JSON with orient='index' (default):\")\n",
    "print(json_index)\n",
    "\n",
    "# Pretty print the JSON\n",
    "print(\"\\nPretty printed JSON:\")\n",
    "print(json.dumps(json.loads(json_index), indent=4))"
   ]
  },
  {
   "cell_type": "code",
   "execution_count": null,
   "metadata": {},
   "outputs": [],
   "source": [
    "# Convert to JSON with orient='split'\n",
    "json_split = s.to_json(orient='split')\n",
    "print(\"JSON with orient='split':\")\n",
    "print(json_split)\n",
    "\n",
    "# Pretty print the JSON\n",
    "print(\"\\nPretty printed JSON:\")\n",
    "print(json.dumps(json.loads(json_split), indent=4))"
   ]
  },
  {
   "cell_type": "code",
   "execution_count": null,
   "metadata": {},
   "outputs": [],
   "source": [
    "# Convert to JSON with orient='records'\n",
    "json_records = s.to_json(orient='records')\n",
    "print(\"JSON with orient='records':\")\n",
    "print(json_records)\n",
    "\n",
    "# Pretty print the JSON\n",
    "print(\"\\nPretty printed JSON:\")\n",
    "print(json.dumps(json.loads(json_records), indent=4))"
   ]
  },
  {
   "cell_type": "code",
   "execution_count": null,
   "metadata": {},
   "outputs": [],
   "source": [
    "# Convert to JSON with orient='values'\n",
    "json_values = s.to_json(orient='values')\n",
    "print(\"JSON with orient='values':\")\n",
    "print(json_values)\n",
    "\n",
    "# Pretty print the JSON\n",
    "print(\"\\nPretty printed JSON:\")\n",
    "print(json.dumps(json.loads(json_values), indent=4))"
   ]
  },
  {
   "cell_type": "code",
   "execution_count": null,
   "metadata": {},
   "outputs": [],
   "source": [
    "# Convert to JSON with orient='table'\n",
    "json_table = s.to_json(orient='table')\n",
    "print(\"JSON with orient='table':\")\n",
    "print(json_table)\n",
    "\n",
    "# Pretty print the JSON\n",
    "print(\"\\nPretty printed JSON:\")\n",
    "print(json.dumps(json.loads(json_table), indent=4))"
   ]
  },
  {
   "cell_type": "code",
   "execution_count": null,
   "metadata": {},
   "outputs": [],
   "source": [
    "# Create a Series with different data types\n",
    "s_mixed = pd.Series([1, 2.5, 'a', True, pd.Timestamp('2023-01-01')])\n",
    "print(\"Series with mixed data types:\")\n",
    "print(s_mixed)"
   ]
  },
  {
   "cell_type": "code",
   "execution_count": null,
   "metadata": {},
   "outputs": [],
   "source": [
    "# Convert to JSON\n",
    "json_mixed = s_mixed.to_json()\n",
    "print(\"JSON for Series with mixed data types:\")\n",
    "print(json_mixed)\n",
    "\n",
    "# Pretty print the JSON\n",
    "print(\"\\nPretty printed JSON:\")\n",
    "print(json.dumps(json.loads(json_mixed), indent=4))"
   ]
  },
  {
   "cell_type": "code",
   "execution_count": null,
   "metadata": {},
   "outputs": [],
   "source": [
    "# Create a Series with datetime index\n",
    "date_s = pd.Series([1, 2, 3, 4], index=pd.date_range('2023-01-01', periods=4))\n",
    "print(\"Series with datetime index:\")\n",
    "print(date_s)"
   ]
  },
  {
   "cell_type": "code",
   "execution_count": null,
   "metadata": {},
   "outputs": [],
   "source": [
    "# Convert to JSON with default date_format ('epoch')\n",
    "json_date_epoch = date_s.to_json()\n",
    "print(\"JSON with default date_format ('epoch'):\")\n",
    "print(json_date_epoch)\n",
    "\n",
    "# Pretty print the JSON\n",
    "print(\"\\nPretty printed JSON:\")\n",
    "print(json.dumps(json.loads(json_date_epoch), indent=4))"
   ]
  },
  {
   "cell_type": "code",
   "execution_count": null,
   "metadata": {},
   "outputs": [],
   "source": [
    "# Convert to JSON with date_format='iso'\n",
    "json_date_iso = date_s.to_json(date_format='iso')\n",
    "print(\"JSON with date_format='iso':\")\n",
    "print(json_date_iso)\n",
    "\n",
    "# Pretty print the JSON\n",
    "print(\"\\nPretty printed JSON:\")\n",
    "print(json.dumps(json.loads(json_date_iso), indent=4))"
   ]
  },
  {
   "cell_type": "code",
   "execution_count": null,
   "metadata": {},
   "outputs": [],
   "source": [
    "# Convert to JSON with different date_unit\n",
    "json_date_s = date_s.to_json(date_unit='s')\n",
    "json_date_ms = date_s.to_json(date_unit='ms')  # default\n",
    "json_date_us = date_s.to_json(date_unit='us')\n",
    "json_date_ns = date_s.to_json(date_unit='ns')\n",
    "\n",
    "print(\"JSON with date_unit='s':\")\n",
    "print(json_date_s)\n",
    "print(\"\\nJSON with date_unit='ms' (default):\")\n",
    "print(json_date_ms)\n",
    "print(\"\\nJSON with date_unit='us':\")\n",
    "print(json_date_us)\n",
    "print(\"\\nJSON with date_unit='ns':\")\n",
    "print(json_date_ns)"
   ]
  },
  {
   "cell_type": "code",
   "execution_count": null,
   "metadata": {},
   "outputs": [],
   "source": [
    "# Convert to JSON with indent\n",
    "json_indent = s.to_json(indent=4)\n",
    "print(\"JSON with indent=4:\")\n",
    "print(json_indent)"
   ]
  },
  {
   "cell_type": "markdown",
   "metadata": {},
   "source": [
    "## Conclusion\n",
    "\n",
    "In this notebook, we've explored various Series methods in pandas:\n",
    "\n",
    "1. Calculating skewness with `skew()`, which measures the asymmetry of the probability distribution of a Series.\n",
    "2. Shifting data without copying with `slice_shift()`, which returns a smaller Series without the dropped periods.\n",
    "3. Converting Series to JSON with `to_json()`, which provides various options for formatting and encoding.\n",
    "\n",
    "These methods are essential tools for data manipulation, analysis, and serialization in pandas, allowing for flexible and powerful operations on your data."
   ]
  }
 ],
 "metadata": {
  "kernelspec": {
   "display_name": "Python 3",
   "language": "python",
   "name": "python3"
  },
  "language_info": {
   "codemirror_mode": {
    "name": "ipython",
    "version": 3
   },
   "file_extension": ".py",
   "mimetype": "text/x-python",
   "name": "python",
   "nbconvert_exporter": "python",
   "pygments_lexer": "ipython3",
   "version": "3.8.5"
  }
 },
 "nbformat": 4,
 "nbformat_minor": 4
}
