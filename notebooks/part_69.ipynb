{
 "cells": [
  {
   "cell_type": "markdown",
   "metadata": {},
   "source": [
    "#### Pandas Part 69: Advanced DataFrame Operations\n",
    "\n",
    "This notebook covers various advanced DataFrame operations including reshaping, combining/joining/merging, time series operations, and kernel density estimation (KDE) plotting."
   ]
  },
  {
   "cell_type": "code",
   "execution_count": null,
   "metadata": {},
   "outputs": [],
   "source": [
    "import pandas as pd\n",
    "import numpy as np\n",
    "import matplotlib.pyplot as plt\n",
    "\n",
    "%matplotlib inline"
   ]
  },
  {
   "cell_type": "markdown",
   "metadata": {},
   "source": [
    "##### 1. Reshaping and Pivot Operations\n",
    "\n",
    "Pandas provides several methods to reshape DataFrames:"
   ]
  },
  {
   "cell_type": "code",
   "execution_count": null,
   "metadata": {},
   "outputs": [],
   "source": [
    "# Create a sample DataFrame with MultiIndex\n",
    "arrays = [\n",
    "    ['A', 'A', 'B', 'B'],\n",
    "    [1, 2, 1, 2]\n",
    "]\n",
    "index = pd.MultiIndex.from_arrays(arrays, names=('first', 'second'))\n",
    "df = pd.DataFrame({'value': [1, 2, 3, 4]}, index=index)\n",
    "df"
   ]
  },
  {
   "cell_type": "markdown",
   "metadata": {},
   "source": [
    "### Stack and Unstack\n",
    "\n",
    "Stack moves data from columns to index levels, while unstack does the opposite."
   ]
  },
  {
   "cell_type": "code",
   "execution_count": null,
   "metadata": {},
   "outputs": [],
   "source": [
    "# Create a simple DataFrame\n",
    "df2 = pd.DataFrame({\n",
    "    'A': ['a', 'b', 'a', 'b'],\n",
    "    'B': [1, 2, 3, 4],\n",
    "    'C': [10, 20, 30, 40]\n",
    "})\n",
    "df2"
   ]
  },
  {
   "cell_type": "code",
   "execution_count": null,
   "metadata": {},
   "outputs": [],
   "source": [
    "# Set 'A' as index\n",
    "df2_indexed = df2.set_index('A')\n",
    "df2_indexed"
   ]
  },
  {
   "cell_type": "code",
   "execution_count": null,
   "metadata": {},
   "outputs": [],
   "source": [
    "# Stack the DataFrame\n",
    "stacked = df2_indexed.stack()\n",
    "stacked"
   ]
  },
  {
   "cell_type": "code",
   "execution_count": null,
   "metadata": {},
   "outputs": [],
   "source": [
    "# Unstack the stacked DataFrame\n",
    "stacked.unstack()"
   ]
  },
  {
   "cell_type": "markdown",
   "metadata": {},
   "source": [
    "### Melt\n",
    "\n",
    "Melt transforms a DataFrame from wide to long format."
   ]
  },
  {
   "cell_type": "code",
   "execution_count": null,
   "metadata": {},
   "outputs": [],
   "source": [
    "# Create a wide format DataFrame\n",
    "wide_df = pd.DataFrame({\n",
    "    'name': ['John', 'Mary', 'Bob'],\n",
    "    'math': [90, 85, 92],\n",
    "    'science': [88, 95, 85],\n",
    "    'history': [76, 82, 89]\n",
    "})\n",
    "wide_df"
   ]
  },
  {
   "cell_type": "code",
   "execution_count": null,
   "metadata": {},
   "outputs": [],
   "source": [
    "# Melt the DataFrame to long format\n",
    "melted_df = wide_df.melt(id_vars=['name'], value_vars=['math', 'science', 'history'],\n",
    "                         var_name='subject', value_name='score')\n",
    "melted_df"
   ]
  },
  {
   "cell_type": "markdown",
   "metadata": {},
   "source": [
    "### Explode\n",
    "\n",
    "Explode transforms each element of a list-like to a row."
   ]
  },
  {
   "cell_type": "code",
   "execution_count": null,
   "metadata": {},
   "outputs": [],
   "source": [
    "# Create a DataFrame with list values\n",
    "df_list = pd.DataFrame({\n",
    "    'A': [[1, 2, 3], [4, 5], [6]],\n",
    "    'B': 1\n",
    "})\n",
    "df_list"
   ]
  },
  {
   "cell_type": "code",
   "execution_count": null,
   "metadata": {},
   "outputs": [],
   "source": [
    "# Explode column A\n",
    "df_list.explode('A')"
   ]
  },
  {
   "cell_type": "markdown",
   "metadata": {},
   "source": [
    "##### 2. Combining/Joining/Merging\n",
    "\n",
    "Pandas provides several methods to combine DataFrames:"
   ]
  },
  {
   "cell_type": "code",
   "execution_count": null,
   "metadata": {},
   "outputs": [],
   "source": [
    "# Create two sample DataFrames\n",
    "df1 = pd.DataFrame({\n",
    "    'id': [1, 2, 3, 4],\n",
    "    'name': ['Alice', 'Bob', 'Charlie', 'David']\n",
    "})\n",
    "\n",
    "df2 = pd.DataFrame({\n",
    "    'id': [1, 2, 3, 5],\n",
    "    'salary': [50000, 60000, 70000, 80000]\n",
    "})\n",
    "\n",
    "print(\"DataFrame 1:\")\n",
    "print(df1)\n",
    "print(\"\\nDataFrame 2:\")\n",
    "print(df2)"
   ]
  },
  {
   "cell_type": "markdown",
   "metadata": {},
   "source": [
    "### Merge\n",
    "\n",
    "Merge combines DataFrames based on common columns or indices."
   ]
  },
  {
   "cell_type": "code",
   "execution_count": null,
   "metadata": {},
   "outputs": [],
   "source": [
    "# Inner merge\n",
    "pd.merge(df1, df2, on='id', how='inner')"
   ]
  },
  {
   "cell_type": "code",
   "execution_count": null,
   "metadata": {},
   "outputs": [],
   "source": [
    "# Left merge\n",
    "pd.merge(df1, df2, on='id', how='left')"
   ]
  },
  {
   "cell_type": "code",
   "execution_count": null,
   "metadata": {},
   "outputs": [],
   "source": [
    "# Right merge\n",
    "pd.merge(df1, df2, on='id', how='right')"
   ]
  },
  {
   "cell_type": "code",
   "execution_count": null,
   "metadata": {},
   "outputs": [],
   "source": [
    "# Outer merge\n",
    "pd.merge(df1, df2, on='id', how='outer')"
   ]
  },
  {
   "cell_type": "markdown",
   "metadata": {},
   "source": [
    "### Join\n",
    "\n",
    "Join combines columns from another DataFrame."
   ]
  },
  {
   "cell_type": "code",
   "execution_count": null,
   "metadata": {},
   "outputs": [],
   "source": [
    "# Set index for both DataFrames\n",
    "df1_indexed = df1.set_index('id')\n",
    "df2_indexed = df2.set_index('id')\n",
    "\n",
    "# Join the DataFrames\n",
    "df1_indexed.join(df2_indexed)"
   ]
  },
  {
   "cell_type": "markdown",
   "metadata": {},
   "source": [
    "### Append\n",
    "\n",
    "Append adds rows from another DataFrame."
   ]
  },
  {
   "cell_type": "code",
   "execution_count": null,
   "metadata": {},
   "outputs": [],
   "source": [
    "# Create two DataFrames with the same columns\n",
    "df_a = pd.DataFrame({'A': [1, 2], 'B': [3, 4]})\n",
    "df_b = pd.DataFrame({'A': [5, 6], 'B': [7, 8]})\n",
    "\n",
    "# Append df_b to df_a\n",
    "df_a.append(df_b)"
   ]
  },
  {
   "cell_type": "markdown",
   "metadata": {},
   "source": [
    "##### 3. Time Series Operations\n",
    "\n",
    "Pandas provides several methods for time series data:"
   ]
  },
  {
   "cell_type": "code",
   "execution_count": null,
   "metadata": {},
   "outputs": [],
   "source": [
    "# Create a time series DataFrame\n",
    "dates = pd.date_range('2023-01-01', periods=6)\n",
    "ts_df = pd.DataFrame(np.random.randn(6, 4), index=dates, columns=list('ABCD'))\n",
    "ts_df"
   ]
  },
  {
   "cell_type": "markdown",
   "metadata": {},
   "source": [
    "### Shift\n",
    "\n",
    "Shift moves data forward or backward by a specified number of periods."
   ]
  },
  {
   "cell_type": "code",
   "execution_count": null,
   "metadata": {},
   "outputs": [],
   "source": [
    "# Shift data forward by 2 periods\n",
    "ts_df.shift(2)"
   ]
  },
  {
   "cell_type": "code",
   "execution_count": null,
   "metadata": {},
   "outputs": [],
   "source": [
    "# Shift data backward by 1 period\n",
    "ts_df.shift(-1)"
   ]
  },
  {
   "cell_type": "markdown",
   "metadata": {},
   "source": [
    "### Resample\n",
    "\n",
    "Resample changes the frequency of time series data."
   ]
  },
  {
   "cell_type": "code",
   "execution_count": null,
   "metadata": {},
   "outputs": [],
   "source": [
    "# Resample to 2-day frequency\n",
    "ts_df.resample('2D').mean()"
   ]
  },
  {
   "cell_type": "code",
   "execution_count": null,
   "metadata": {},
   "outputs": [],
   "source": [
    "# Resample to month-end frequency\n",
    "ts_df.resample('M').sum()"
   ]
  },
  {
   "cell_type": "markdown",
   "metadata": {},
   "source": [
    "### asfreq\n",
    "\n",
    "asfreq converts a time series to a specified frequency."
   ]
  },
  {
   "cell_type": "code",
   "execution_count": null,
   "metadata": {},
   "outputs": [],
   "source": [
    "# Convert to business day frequency\n",
    "ts_df.asfreq('B')"
   ]
  },
  {
   "cell_type": "markdown",
   "metadata": {},
   "source": [
    "##### 4. Kernel Density Estimation (KDE) Plotting\n",
    "\n",
    "KDE is a non-parametric way to estimate the probability density function of a random variable."
   ]
  },
  {
   "cell_type": "code",
   "execution_count": null,
   "metadata": {},
   "outputs": [],
   "source": [
    "# Create a Series for KDE plotting\n",
    "s = pd.Series([1, 2, 2.5, 3, 3.5, 4, 5])\n",
    "s"
   ]
  },
  {
   "cell_type": "code",
   "execution_count": null,
   "metadata": {},
   "outputs": [],
   "source": [
    "# Plot KDE with default settings\n",
    "ax = s.plot.kde()\n",
    "plt.title('KDE Plot with Default Bandwidth')"
   ]
  },
  {
   "cell_type": "code",
   "execution_count": null,
   "metadata": {},
   "outputs": [],
   "source": [
    "# Plot KDE with small bandwidth (potential over-fitting)\n",
    "ax = s.plot.kde(bw_method=0.3)\n",
    "plt.title('KDE Plot with Small Bandwidth (0.3)')"
   ]
  },
  {
   "cell_type": "code",
   "execution_count": null,
   "metadata": {},
   "outputs": [],
   "source": [
    "# Plot KDE with large bandwidth (potential under-fitting)\n",
    "ax = s.plot.kde(bw_method=3)\n",
    "plt.title('KDE Plot with Large Bandwidth (3)')"
   ]
  },
  {
   "cell_type": "code",
   "execution_count": null,
   "metadata": {},
   "outputs": [],
   "source": [
    "# Plot KDE with specific evaluation points\n",
    "ax = s.plot.kde(ind=[1, 2, 3, 4, 5])\n",
    "plt.title('KDE Plot with Specific Evaluation Points')"
   ]
  },
  {
   "cell_type": "markdown",
   "metadata": {},
   "source": [
    "### KDE with DataFrame"
   ]
  },
  {
   "cell_type": "code",
   "execution_count": null,
   "metadata": {},
   "outputs": [],
   "source": [
    "# Create a DataFrame for KDE plotting\n",
    "df_kde = pd.DataFrame({\n",
    "    'x': [1, 2, 2.5, 3, 3.5, 4, 5],\n",
    "    'y': [4, 4, 4.5, 5, 5.5, 6, 6],\n",
    "})\n",
    "df_kde"
   ]
  },
  {
   "cell_type": "code",
   "execution_count": null,
   "metadata": {},
   "outputs": [],
   "source": [
    "# Plot KDE for DataFrame with default settings\n",
    "ax = df_kde.plot.kde()\n",
    "plt.title('KDE Plot for DataFrame with Default Bandwidth')"
   ]
  },
  {
   "cell_type": "code",
   "execution_count": null,
   "metadata": {},
   "outputs": [],
   "source": [
    "# Plot KDE for DataFrame with small bandwidth\n",
    "ax = df_kde.plot.kde(bw_method=0.3)\n",
    "plt.title('KDE Plot for DataFrame with Small Bandwidth (0.3)')"
   ]
  },
  {
   "cell_type": "code",
   "execution_count": null,
   "metadata": {},
   "outputs": [],
   "source": [
    "# Plot KDE for DataFrame with large bandwidth\n",
    "ax = df_kde.plot.kde(bw_method=3)\n",
    "plt.title('KDE Plot for DataFrame with Large Bandwidth (3)')"
   ]
  },
  {
   "cell_type": "code",
   "execution_count": null,
   "metadata": {},
   "outputs": [],
   "source": [
    "# Plot KDE for DataFrame with specific evaluation points\n",
    "ax = df_kde.plot.kde(ind=[1, 2, 3, 4, 5, 6])\n",
    "plt.title('KDE Plot for DataFrame with Specific Evaluation Points')"
   ]
  }
 ],
 "metadata": {
  "kernelspec": {
   "display_name": "Python 3",
   "language": "python",
   "name": "python3"
  },
  "language_info": {
   "codemirror_mode": {
    "name": "ipython",
    "version": 3
   },
   "file_extension": ".py",
   "mimetype": "text/x-python",
   "name": "python",
   "nbconvert_exporter": "python",
   "pygments_lexer": "ipython3",
   "version": "3.8.5"
  }
 },
 "nbformat": 4,
 "nbformat_minor": 4
}