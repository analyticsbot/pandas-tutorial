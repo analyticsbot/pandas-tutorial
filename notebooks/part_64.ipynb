{
 "cells": [
  {
   "cell_type": "markdown",
   "metadata": {},
   "source": [
    "# Pandas Tutorial - Part 64: DataFrame Methods (rdiv, reset_index, rfloordiv)\n",
    "\n",
    "This notebook covers three important DataFrame methods:\n",
    "- `rdiv()` - Get Floating division of dataframe and other, element-wise (binary operator rtruediv)\n",
    "- `reset_index()` - Reset the index of the DataFrame\n",
    "- `rfloordiv()` - Get Integer division of dataframe and other, element-wise (binary operator rfloordiv)"
   ]
  },
  {
   "cell_type": "code",
   "execution_count": null,
   "metadata": {},
   "outputs": [],
   "source": [
    "import pandas as pd\n",
    "import numpy as np\n",
    "import matplotlib.pyplot as plt\n",
    "\n",
    "# Set display options\n",
    "pd.set_option('display.max_columns', None)\n",
    "pd.set_option('display.expand_frame_repr', False)"
   ]
  },
  {
   "cell_type": "markdown",
   "metadata": {},
   "source": [
    "## 1. DataFrame.rdiv()\n",
    "\n",
    "The `rdiv()` method performs floating division of other by dataframe, element-wise. It's equivalent to `other / dataframe`. This is the reverse version of `div()` or `truediv()`."
   ]
  },
  {
   "cell_type": "code",
   "execution_count": null,
   "metadata": {},
   "outputs": [],
   "source": [
    "# Create a DataFrame\n",
    "df = pd.DataFrame({\n",
    "    'angles': [0, 3, 4],\n",
    "    'degrees': [360, 180, 360]\n",
    "}, index=['circle', 'triangle', 'rectangle'])\n",
    "\n",
    "print(\"Original DataFrame:\")\n",
    "df"
   ]
  },
  {
   "cell_type": "code",
   "execution_count": null,
   "metadata": {},
   "outputs": [],
   "source": [
    "# Regular division (df / 10)\n",
    "print(\"Regular division (df / 10):\")\n",
    "df.div(10)"
   ]
  },
  {
   "cell_type": "code",
   "execution_count": null,
   "metadata": {},
   "outputs": [],
   "source": [
    "# Reverse division (10 / df)\n",
    "print(\"Reverse division (10 / df):\")\n",
    "df.rdiv(10)"
   ]
  },
  {
   "cell_type": "code",
   "execution_count": null,
   "metadata": {},
   "outputs": [],
   "source": [
    "# Equivalent operation using the division operator\n",
    "print(\"Equivalent operation (10 / df):\")\n",
    "10 / df"
   ]
  },
  {
   "cell_type": "code",
   "execution_count": null,
   "metadata": {},
   "outputs": [],
   "source": [
    "# Create a DataFrame with NaN values\n",
    "df_with_nan = pd.DataFrame({\n",
    "    'A': [1, 2, np.nan],\n",
    "    'B': [np.nan, 5, 6]\n",
    "})\n",
    "\n",
    "print(\"DataFrame with NaN values:\")\n",
    "df_with_nan"
   ]
  },
  {
   "cell_type": "code",
   "execution_count": null,
   "metadata": {},
   "outputs": [],
   "source": [
    "# Reverse division with fill_value\n",
    "print(\"Reverse division with fill_value=1:\")\n",
    "df_with_nan.rdiv(10, fill_value=1)"
   ]
  },
  {
   "cell_type": "code",
   "execution_count": null,
   "metadata": {},
   "outputs": [],
   "source": [
    "# Division with another DataFrame\n",
    "other_df = pd.DataFrame({\n",
    "    'A': [10, 20, 30],\n",
    "    'B': [40, 50, 60]\n",
    "})\n",
    "\n",
    "print(\"Other DataFrame:\")\n",
    "print(other_df)\n",
    "\n",
    "print(\"\\nReverse division (other_df / df_with_nan):\")\n",
    "df_with_nan.rdiv(other_df)"
   ]
  },
  {
   "cell_type": "code",
   "execution_count": null,
   "metadata": {},
   "outputs": [],
   "source": [
    "# Division with Series\n",
    "s = pd.Series([10, 20, 30])\n",
    "print(\"Series:\")\n",
    "print(s)\n",
    "\n",
    "print(\"\\nReverse division along index (s / df_with_nan):\")\n",
    "df_with_nan.rdiv(s, axis=0)"
   ]
  },
  {
   "cell_type": "markdown",
   "metadata": {},
   "source": [
    "## 2. DataFrame.reset_index()\n",
    "\n",
    "The `reset_index()` method resets the index of the DataFrame, and uses the default one instead. If the DataFrame has a MultiIndex, this method can remove one or more levels."
   ]
  },
  {
   "cell_type": "code",
   "execution_count": null,
   "metadata": {},
   "outputs": [],
   "source": [
    "# Create a DataFrame with a simple index\n",
    "df = pd.DataFrame({\n",
    "    'A': [1, 2, 3, 4],\n",
    "    'B': ['a', 'b', 'c', 'd']\n",
    "}, index=['w', 'x', 'y', 'z'])\n",
    "\n",
    "print(\"DataFrame with simple index:\")\n",
    "df"
   ]
  },
  {
   "cell_type": "code",
   "execution_count": null,
   "metadata": {},
   "outputs": [],
   "source": [
    "# Reset index (default: drop=False)\n",
    "print(\"Reset index (drop=False):\")\n",
    "df.reset_index()"
   ]
  },
  {
   "cell_type": "code",
   "execution_count": null,
   "metadata": {},
   "outputs": [],
   "source": [
    "# Reset index with drop=True\n",
    "print(\"Reset index (drop=True):\")\n",
    "df.reset_index(drop=True)"
   ]
  },
  {
   "cell_type": "code",
   "execution_count": null,
   "metadata": {},
   "outputs": [],
   "source": [
    "# Create a DataFrame with MultiIndex\n",
    "index = pd.MultiIndex.from_tuples([\n",
    "    ('bird', 'falcon'),\n",
    "    ('bird', 'parrot'),\n",
    "    ('mammal', 'lion'),\n",
    "    ('mammal', 'monkey')\n",
    "], names=['class', 'name'])\n",
    "\n",
    "columns = pd.MultiIndex.from_tuples([\n",
    "    ('speed', 'max'),\n",
    "    ('species', 'type')\n",
    "])\n",
    "\n",
    "df_multi = pd.DataFrame([\n",
    "    [389.0, 'fly'],\n",
    "    [24.0, 'fly'],\n",
    "    [80.5, 'run'],\n",
    "    [np.nan, 'jump']\n",
    "], index=index, columns=columns)\n",
    "\n",
    "print(\"DataFrame with MultiIndex:\")\n",
    "df_multi"
   ]
  },
  {
   "cell_type": "code",
   "execution_count": null,
   "metadata": {},
   "outputs": [],
   "source": [
    "# Reset all levels of the index\n",
    "print(\"Reset all levels of the index:\")\n",
    "df_multi.reset_index()"
   ]
  },
  {
   "cell_type": "code",
   "execution_count": null,
   "metadata": {},
   "outputs": [],
   "source": [
    "# Reset a specific level of the index\n",
    "print(\"Reset only the 'class' level:\")\n",
    "df_multi.reset_index(level='class')"
   ]
  },
  {
   "cell_type": "code",
   "execution_count": null,
   "metadata": {},
   "outputs": [],
   "source": [
    "# Reset a specific level with col_level\n",
    "print(\"Reset 'class' level with col_level=1:\")\n",
    "df_multi.reset_index(level='class', col_level=1)"
   ]
  },
  {
   "cell_type": "code",
   "execution_count": null,
   "metadata": {},
   "outputs": [],
   "source": [
    "# Reset a specific level with col_level and col_fill\n",
    "print(\"Reset 'class' level with col_level=1 and col_fill='species':\")\n",
    "df_multi.reset_index(level='class', col_level=1, col_fill='species')"
   ]
  },
  {
   "cell_type": "code",
   "execution_count": null,
   "metadata": {},
   "outputs": [],
   "source": [
    "# Reset a specific level with a nonexistent col_fill\n",
    "print(\"Reset 'class' level with col_level=1 and nonexistent col_fill='genus':\")\n",
    "df_multi.reset_index(level='class', col_level=1, col_fill='genus')"
   ]
  },
  {
   "cell_type": "code",
   "execution_count": null,
   "metadata": {},
   "outputs": [],
   "source": [
    "# Reset index with a custom name\n",
    "print(\"Reset index with a custom name:\")\n",
    "df.reset_index(name='letter')"
   ]
  },
  {
   "cell_type": "markdown",
   "metadata": {},
   "source": [
    "## 3. DataFrame.rfloordiv()\n",
    "\n",
    "The `rfloordiv()` method performs integer division of other by dataframe, element-wise. It's equivalent to `other // dataframe`. This is the reverse version of `floordiv()`."
   ]
  },
  {
   "cell_type": "code",
   "execution_count": null,
   "metadata": {},
   "outputs": [],
   "source": [
    "# Create a DataFrame\n",
    "df = pd.DataFrame({\n",
    "    'A': [10, 20, 30],\n",
    "    'B': [3, 5, 7]\n",
    "})\n",
    "\n",
    "print(\"Original DataFrame:\")\n",
    "df"
   ]
  },
  {
   "cell_type": "code",
   "execution_count": null,
   "metadata": {},
   "outputs": [],
   "source": [
    "# Regular integer division (df // 3)\n",
    "print(\"Regular integer division (df // 3):\")\n",
    "df.floordiv(3)"
   ]
  },
  {
   "cell_type": "code",
   "execution_count": null,
   "metadata": {},
   "outputs": [],
   "source": [
    "# Reverse integer division (100 // df)\n",
    "print(\"Reverse integer division (100 // df):\")\n",
    "df.rfloordiv(100)"
   ]
  },
  {
   "cell_type": "code",
   "execution_count": null,
   "metadata": {},
   "outputs": [],
   "source": [
    "# Equivalent operation using the floor division operator\n",
    "print(\"Equivalent operation (100 // df):\")\n",
    "100 // df"
   ]
  },
  {
   "cell_type": "code",
   "execution_count": null,
   "metadata": {},
   "outputs": [],
   "source": [
    "# Create a DataFrame with NaN values\n",
    "df_with_nan = pd.DataFrame({\n",
    "    'A': [10, 20, np.nan],\n",
    "    'B': [np.nan, 5, 7]\n",
    "})\n",
    "\n",
    "print(\"DataFrame with NaN values:\")\n",
    "df_with_nan"
   ]
  },
  {
   "cell_type": "code",
   "execution_count": null,
   "metadata": {},
   "outputs": [],
   "source": [
    "# Reverse integer division with fill_value\n",
    "print(\"Reverse integer division with fill_value=1:\")\n",
    "df_with_nan.rfloordiv(100, fill_value=1)"
   ]
  },
  {
   "cell_type": "code",
   "execution_count": null,
   "metadata": {},
   "outputs": [],
   "source": [
    "# Integer division with another DataFrame\n",
    "other_df = pd.DataFrame({\n",
    "    'A': [100, 200, 300],\n",
    "    'B': [400, 500, 600]\n",
    "})\n",
    "\n",
    "print(\"Other DataFrame:\")\n",
    "print(other_df)\n",
    "\n",
    "print(\"\\nReverse integer division (other_df // df_with_nan):\")\n",
    "df_with_nan.rfloordiv(other_df)"
   ]
  },
  {
   "cell_type": "code",
   "execution_count": null,
   "metadata": {},
   "outputs": [],
   "source": [
    "# Compare rdiv and rfloordiv\n",
    "value = 100\n",
    "print(f\"Comparing rdiv and rfloordiv with {value}:\")\n",
    "print(f\"\\nrdiv ({value} / df):\")\n",
    "print(df.rdiv(value))\n",
    "print(f\"\\nrfloordiv ({value} // df):\")\n",
    "print(df.rfloordiv(value))"
   ]
  },
  {
   "cell_type": "markdown",
   "metadata": {},
   "source": [
    "## Summary\n",
    "\n",
    "In this notebook, we've explored three important DataFrame methods:\n",
    "\n",
    "1. **rdiv()**: Performs floating division of other by dataframe, element-wise. It's equivalent to `other / dataframe`. This is the reverse version of `div()` or `truediv()`. The method supports filling missing values with the `fill_value` parameter.\n",
    "\n",
    "2. **reset_index()**: Resets the index of the DataFrame, and uses the default one instead. If the DataFrame has a MultiIndex, this method can remove one or more levels. Key parameters include:\n",
    "   - `drop`: Whether to drop the index columns or insert them into the DataFrame\n",
    "   - `level`: Only remove the given levels from the index\n",
    "   - `col_level`: If the columns have multiple levels, determines which level the labels are inserted into\n",
    "   - `col_fill`: If the columns have multiple levels, determines how the other levels are named\n",
    "\n",
    "3. **rfloordiv()**: Performs integer division of other by dataframe, element-wise. It's equivalent to `other // dataframe`. This is the reverse version of `floordiv()`. Like `rdiv()`, it supports filling missing values with the `fill_value` parameter.\n",
    "\n",
    "These methods are essential for various data manipulation tasks in pandas, including arithmetic operations and index management."
   ]
  }
 ],
 "metadata": {
  "kernelspec": {
   "display_name": "Python 3",
   "language": "python",
   "name": "python3"
  },
  "language_info": {
   "codemirror_mode": {
    "name": "ipython",
    "version": 3
   },
   "file_extension": ".py",
   "mimetype": "text/x-python",
   "name": "python",
   "nbconvert_exporter": "python",
   "pygments_lexer": "ipython3",
   "version": "3.8.5"
  }
 },
 "nbformat": 4,
 "nbformat_minor": 4
}
