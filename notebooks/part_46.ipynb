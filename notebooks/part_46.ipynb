{
 "cells": [
  {
   "cell_type": "markdown",
   "metadata": {},
   "source": [
    "#### Pandas Tutorial - Part 46\n",
    "\n",
    "This notebook covers various Series methods including:\n",
    "- Finding smallest values with `nsmallest()`\n",
    "- Counting unique values with `nunique()`\n",
    "- Calculating percentage change with `pct_change()`\n",
    "- Reordering index levels with `reorder_levels()`\n",
    "- Repeating elements with `repeat()`\n",
    "- Replacing values with `replace()`"
   ]
  },
  {
   "cell_type": "code",
   "execution_count": null,
   "metadata": {},
   "outputs": [],
   "source": [
    "import pandas as pd\n",
    "import numpy as np\n",
    "import matplotlib.pyplot as plt\n",
    "\n",
    "%matplotlib inline"
   ]
  },
  {
   "cell_type": "markdown",
   "metadata": {},
   "source": [
    "##### Finding Smallest Values\n",
    "\n",
    "The `nsmallest()` method returns the smallest n elements of a Series."
   ]
  },
  {
   "cell_type": "code",
   "execution_count": null,
   "metadata": {},
   "outputs": [],
   "source": [
    "# Create a Series with population data\n",
    "countries_population = {\"Italy\": 59000000, \"France\": 65000000,\n",
    "                       \"Brunei\": 434000, \"Malta\": 434000,\n",
    "                       \"Maldives\": 434000, \"Iceland\": 337000,\n",
    "                       \"Nauru\": 11300, \"Tuvalu\": 11300,\n",
    "                       \"Anguilla\": 11300, \"Monserat\": 5200}\n",
    "s = pd.Series(countries_population)\n",
    "print(\"Countries population:\")\n",
    "print(s)"
   ]
  },
  {
   "cell_type": "code",
   "execution_count": null,
   "metadata": {},
   "outputs": [],
   "source": [
    "# Get the 5 smallest values (default)\n",
    "print(\"The 5 smallest populations:\")\n",
    "print(s.nsmallest())"
   ]
  },
  {
   "cell_type": "code",
   "execution_count": null,
   "metadata": {},
   "outputs": [],
   "source": [
    "# Get the 3 smallest values\n",
    "print(\"The 3 smallest populations (keep='first'):\")\n",
    "print(s.nsmallest(3))"
   ]
  },
  {
   "cell_type": "code",
   "execution_count": null,
   "metadata": {},
   "outputs": [],
   "source": [
    "# Get the 3 smallest values, keeping the last duplicates\n",
    "print(\"The 3 smallest populations (keep='last'):\")\n",
    "print(s.nsmallest(3, keep='last'))"
   ]
  },
  {
   "cell_type": "code",
   "execution_count": null,
   "metadata": {},
   "outputs": [],
   "source": [
    "# Get the 3 smallest values, keeping all duplicates\n",
    "print(\"The 3 smallest populations (keep='all'):\")\n",
    "print(s.nsmallest(3, keep='all'))"
   ]
  },
  {
   "cell_type": "markdown",
   "metadata": {},
   "source": [
    "##### Counting Unique Values\n",
    "\n",
    "The `nunique()` method returns the number of unique elements in a Series."
   ]
  },
  {
   "cell_type": "code",
   "execution_count": null,
   "metadata": {},
   "outputs": [],
   "source": [
    "# Create a Series with some duplicates\n",
    "s = pd.Series([1, 3, 5, 7, 7])\n",
    "print(\"Series:\")\n",
    "print(s)"
   ]
  },
  {
   "cell_type": "code",
   "execution_count": null,
   "metadata": {},
   "outputs": [],
   "source": [
    "# Count unique values\n",
    "print(f\"Number of unique values: {s.nunique()}\")"
   ]
  },
  {
   "cell_type": "code",
   "execution_count": null,
   "metadata": {},
   "outputs": [],
   "source": [
    "# Create a Series with NaN values\n",
    "s_with_nan = pd.Series([1, 3, 5, 7, 7, np.nan, np.nan])\n",
    "print(\"Series with NaN values:\")\n",
    "print(s_with_nan)"
   ]
  },
  {
   "cell_type": "code",
   "execution_count": null,
   "metadata": {},
   "outputs": [],
   "source": [
    "# Count unique values, excluding NaN (default)\n",
    "print(f\"Number of unique values (excluding NaN): {s_with_nan.nunique()}\")"
   ]
  },
  {
   "cell_type": "code",
   "execution_count": null,
   "metadata": {},
   "outputs": [],
   "source": [
    "# Count unique values, including NaN\n",
    "print(f\"Number of unique values (including NaN): {s_with_nan.nunique(dropna=False)}\")"
   ]
  },
  {
   "cell_type": "markdown",
   "metadata": {},
   "source": [
    "##### Calculating Percentage Change\n",
    "\n",
    "The `pct_change()` method calculates the percentage change between the current and a prior element."
   ]
  },
  {
   "cell_type": "code",
   "execution_count": null,
   "metadata": {},
   "outputs": [],
   "source": [
    "# Create a Series with stock prices\n",
    "stock_prices = pd.Series([100, 102, 99, 101, 105, 110, 108], \n",
    "                         index=pd.date_range('2023-01-01', periods=7))\n",
    "print(\"Stock prices:\")\n",
    "print(stock_prices)"
   ]
  },
  {
   "cell_type": "code",
   "execution_count": null,
   "metadata": {},
   "outputs": [],
   "source": [
    "# Calculate percentage change (default: 1 period)\n",
    "print(\"Percentage change (1 period):\")\n",
    "print(stock_prices.pct_change())"
   ]
  },
  {
   "cell_type": "code",
   "execution_count": null,
   "metadata": {},
   "outputs": [],
   "source": [
    "# Calculate percentage change over 2 periods\n",
    "print(\"Percentage change (2 periods):\")\n",
    "print(stock_prices.pct_change(periods=2))"
   ]
  },
  {
   "cell_type": "code",
   "execution_count": null,
   "metadata": {},
   "outputs": [],
   "source": [
    "# Create a Series with missing values\n",
    "stock_prices_with_nan = pd.Series([100, np.nan, 99, 101, np.nan, 110, 108], \n",
    "                                 index=pd.date_range('2023-01-01', periods=7))\n",
    "print(\"Stock prices with missing values:\")\n",
    "print(stock_prices_with_nan)"
   ]
  },
  {
   "cell_type": "code",
   "execution_count": null,
   "metadata": {},
   "outputs": [],
   "source": [
    "# Calculate percentage change with fill_method='pad' (default)\n",
    "print(\"Percentage change with fill_method='pad':\")\n",
    "print(stock_prices_with_nan.pct_change(fill_method='pad'))"
   ]
  },
  {
   "cell_type": "code",
   "execution_count": null,
   "metadata": {},
   "outputs": [],
   "source": [
    "# Calculate percentage change with fill_method='ffill'\n",
    "print(\"Percentage change with fill_method='ffill':\")\n",
    "print(stock_prices_with_nan.pct_change(fill_method='ffill'))"
   ]
  },
  {
   "cell_type": "code",
   "execution_count": null,
   "metadata": {},
   "outputs": [],
   "source": [
    "# Calculate percentage change with fill_method='bfill'\n",
    "print(\"Percentage change with fill_method='bfill':\")\n",
    "print(stock_prices_with_nan.pct_change(fill_method='bfill'))"
   ]
  },
  {
   "cell_type": "markdown",
   "metadata": {},
   "source": [
    "##### Reordering Index Levels\n",
    "\n",
    "The `reorder_levels()` method rearranges the levels of a MultiIndex."
   ]
  },
  {
   "cell_type": "code",
   "execution_count": null,
   "metadata": {},
   "outputs": [],
   "source": [
    "# Create a Series with MultiIndex\n",
    "midx = pd.MultiIndex.from_tuples([('a', 'one'), ('a', 'two'), ('b', 'one'), ('b', 'two')],\n",
    "                                names=['letter', 'number'])\n",
    "s = pd.Series([1, 2, 3, 4], index=midx)\n",
    "print(\"Series with MultiIndex:\")\n",
    "print(s)"
   ]
  },
  {
   "cell_type": "code",
   "execution_count": null,
   "metadata": {},
   "outputs": [],
   "source": [
    "# Reorder levels\n",
    "s_reordered = s.reorder_levels([1, 0])\n",
    "print(\"Series with reordered levels:\")\n",
    "print(s_reordered)"
   ]
  },
  {
   "cell_type": "code",
   "execution_count": null,
   "metadata": {},
   "outputs": [],
   "source": [
    "# Create a DataFrame with MultiIndex\n",
    "df = pd.DataFrame({'A': [1, 2, 3, 4], 'B': [5, 6, 7, 8]},\n",
    "                 index=midx)\n",
    "print(\"DataFrame with MultiIndex:\")\n",
    "print(df)"
   ]
  },
  {
   "cell_type": "code",
   "execution_count": null,
   "metadata": {},
   "outputs": [],
   "source": [
    "# Reorder levels in DataFrame\n",
    "df_reordered = df.reorder_levels([1, 0])\n",
    "print(\"DataFrame with reordered levels:\")\n",
    "print(df_reordered)"
   ]
  },
  {
   "cell_type": "markdown",
   "metadata": {},
   "source": [
    "##### Repeating Elements\n",
    "\n",
    "The `repeat()` method repeats elements of a Series."
   ]
  },
  {
   "cell_type": "code",
   "execution_count": null,
   "metadata": {},
   "outputs": [],
   "source": [
    "# Create a simple Series\n",
    "s = pd.Series(['a', 'b', 'c'])\n",
    "print(\"Original Series:\")\n",
    "print(s)"
   ]
  },
  {
   "cell_type": "code",
   "execution_count": null,
   "metadata": {},
   "outputs": [],
   "source": [
    "# Repeat each element twice\n",
    "s_repeated = s.repeat(2)\n",
    "print(\"Series with each element repeated twice:\")\n",
    "print(s_repeated)"
   ]
  },
  {
   "cell_type": "code",
   "execution_count": null,
   "metadata": {},
   "outputs": [],
   "source": [
    "# Repeat elements a different number of times\n",
    "s_varied = s.repeat([1, 2, 3])\n",
    "print(\"Series with elements repeated [1, 2, 3] times:\")\n",
    "print(s_varied)"
   ]
  },
  {
   "cell_type": "code",
   "execution_count": null,
   "metadata": {},
   "outputs": [],
   "source": [
    "# Repeat with 0 times\n",
    "s_zero = s.repeat(0)\n",
    "print(\"Series with elements repeated 0 times:\")\n",
    "print(s_zero)"
   ]
  },
  {
   "cell_type": "markdown",
   "metadata": {},
   "source": [
    "##### Replacing Values\n",
    "\n",
    "The `replace()` method replaces values in a Series."
   ]
  },
  {
   "cell_type": "code",
   "execution_count": null,
   "metadata": {},
   "outputs": [],
   "source": [
    "# Create a Series\n",
    "s = pd.Series(['apple', 'banana', 'carrot', 'apple', 'banana'])\n",
    "print(\"Original Series:\")\n",
    "print(s)"
   ]
  },
  {
   "cell_type": "code",
   "execution_count": null,
   "metadata": {},
   "outputs": [],
   "source": [
    "# Replace a single value\n",
    "s_replaced = s.replace('apple', 'orange')\n",
    "print(\"Series with 'apple' replaced by 'orange':\")\n",
    "print(s_replaced)"
   ]
  },
  {
   "cell_type": "code",
   "execution_count": null,
   "metadata": {},
   "outputs": [],
   "source": [
    "# Replace multiple values\n",
    "s_multi_replaced = s.replace(['apple', 'banana'], ['orange', 'grape'])\n",
    "print(\"Series with multiple replacements:\")\n",
    "print(s_multi_replaced)"
   ]
  },
  {
   "cell_type": "code",
   "execution_count": null,
   "metadata": {},
   "outputs": [],
   "source": [
    "# Replace using a dictionary\n",
    "s_dict_replaced = s.replace({'apple': 'orange', 'banana': 'grape'})\n",
    "print(\"Series with dictionary replacements:\")\n",
    "print(s_dict_replaced)"
   ]
  },
  {
   "cell_type": "code",
   "execution_count": null,
   "metadata": {},
   "outputs": [],
   "source": [
    "# Replace using regex\n",
    "s_regex = pd.Series(['apple', 'banana', 'carrot', 'pineapple', 'strawberry'])\n",
    "s_regex_replaced = s_regex.replace(r'^a.*', 'fruit', regex=True)\n",
    "print(\"Original Series:\")\n",
    "print(s_regex)\n",
    "print(\"\\nSeries with regex replacement:\")\n",
    "print(s_regex_replaced)"
   ]
  },
  {
   "cell_type": "code",
   "execution_count": null,
   "metadata": {},
   "outputs": [],
   "source": [
    "# Replace in-place\n",
    "s_inplace = s.copy()\n",
    "s_inplace.replace('apple', 'orange', inplace=True)\n",
    "print(\"Series after in-place replacement:\")\n",
    "print(s_inplace)"
   ]
  },
  {
   "cell_type": "code",
   "execution_count": null,
   "metadata": {},
   "outputs": [],
   "source": [
    "# Replace with numeric values\n",
    "s_num = pd.Series([1, 2, 3, 4, 5])\n",
    "s_num_replaced = s_num.replace(1, 10)\n",
    "print(\"Original numeric Series:\")\n",
    "print(s_num)\n",
    "print(\"\\nSeries with numeric replacement:\")\n",
    "print(s_num_replaced)"
   ]
  },
  {
   "cell_type": "markdown",
   "metadata": {},
   "source": [
    "##### Conclusion\n",
    "\n",
    "In this notebook, we've explored various Series methods in pandas:\n",
    "\n",
    "1. Finding smallest values with `nsmallest()`, which returns the n smallest elements in a Series with options for handling duplicates.\n",
    "2. Counting unique values with `nunique()`, which returns the number of unique elements in a Series with options for handling NaN values.\n",
    "3. Calculating percentage change with `pct_change()`, which computes the percentage change between elements with options for handling missing values.\n",
    "4. Reordering index levels with `reorder_levels()`, which rearranges the levels of a MultiIndex.\n",
    "5. Repeating elements with `repeat()`, which creates a new Series with repeated elements.\n",
    "6. Replacing values with `replace()`, which substitutes values in a Series with other values.\n",
    "\n",
    "These methods are essential tools for data manipulation and analysis in pandas, allowing for flexible and powerful operations on your data."
   ]
  }
 ],
 "metadata": {
  "kernelspec": {
   "display_name": "Python 3",
   "language": "python",
   "name": "python3"
  },
  "language_info": {
   "codemirror_mode": {
    "name": "ipython",
    "version": 3
   },
   "file_extension": ".py",
   "mimetype": "text/x-python",
   "name": "python",
   "nbconvert_exporter": "python",
   "pygments_lexer": "ipython3",
   "version": "3.8.5"
  }
 },
 "nbformat": 4,
 "nbformat_minor": 4
}