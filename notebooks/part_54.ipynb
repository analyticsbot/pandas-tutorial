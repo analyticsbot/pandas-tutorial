{
 "cells": [
  {
   "cell_type": "markdown",
   "metadata": {},
   "source": [
    "#### Pandas Tutorial - Part 54\n",
    "\n",
    "This notebook covers:\n",
    "- Creating dummy variables with `str.get_dummies()`\n",
    "- Plotting with pandas: bar and barh plots"
   ]
  },
  {
   "cell_type": "code",
   "execution_count": null,
   "metadata": {},
   "outputs": [],
   "source": [
    "import pandas as pd\n",
    "import numpy as np\n",
    "import matplotlib.pyplot as plt\n",
    "\n",
    "%matplotlib inline"
   ]
  },
  {
   "cell_type": "markdown",
   "metadata": {},
   "source": [
    "##### Creating Dummy Variables with `str.get_dummies()`\n",
    "\n",
    "The `str.get_dummies()` method splits each string in the Series by a separator and returns a DataFrame of dummy/indicator variables."
   ]
  },
  {
   "cell_type": "code",
   "execution_count": null,
   "metadata": {},
   "outputs": [],
   "source": [
    "# Create a Series with pipe-separated values\n",
    "s = pd.Series(['a|b', 'a', 'a|c'])\n",
    "print(\"Original Series:\")\n",
    "print(s)"
   ]
  },
  {
   "cell_type": "code",
   "execution_count": null,
   "metadata": {},
   "outputs": [],
   "source": [
    "# Convert to dummy variables\n",
    "dummies = s.str.get_dummies()\n",
    "print(\"Result of get_dummies():\")\n",
    "print(dummies)"
   ]
  },
  {
   "cell_type": "code",
   "execution_count": null,
   "metadata": {},
   "outputs": [],
   "source": [
    "# Create a Series with comma-separated values\n",
    "s_comma = pd.Series(['red,blue', 'green', 'yellow,orange,purple', 'blue,green'])\n",
    "print(\"Series with comma-separated values:\")\n",
    "print(s_comma)"
   ]
  },
  {
   "cell_type": "code",
   "execution_count": null,
   "metadata": {},
   "outputs": [],
   "source": [
    "# Convert to dummy variables with custom separator\n",
    "dummies_comma = s_comma.str.get_dummies(sep=',')\n",
    "print(\"Result of get_dummies(sep=','):\")\n",
    "print(dummies_comma)"
   ]
  },
  {
   "cell_type": "code",
   "execution_count": null,
   "metadata": {},
   "outputs": [],
   "source": [
    "# Create a Series with missing values\n",
    "s_missing = pd.Series(['a|b', np.nan, 'a|c'])\n",
    "print(\"Series with missing values:\")\n",
    "print(s_missing)"
   ]
  },
  {
   "cell_type": "code",
   "execution_count": null,
   "metadata": {},
   "outputs": [],
   "source": [
    "# Convert to dummy variables\n",
    "dummies_missing = s_missing.str.get_dummies()\n",
    "print(\"Result of get_dummies() with missing values:\")\n",
    "print(dummies_missing)"
   ]
  },
  {
   "cell_type": "markdown",
   "metadata": {},
   "source": [
    "### Practical Example: Analyzing Movie Genres"
   ]
  },
  {
   "cell_type": "code",
   "execution_count": null,
   "metadata": {},
   "outputs": [],
   "source": [
    "# Create a DataFrame with movie data\n",
    "movies = pd.DataFrame({\n",
    "    'title': ['The Shawshank Redemption', 'The Godfather', 'Pulp Fiction', 'The Dark Knight', 'Forrest Gump'],\n",
    "    'year': [1994, 1972, 1994, 2008, 1994],\n",
    "    'genres': ['Drama', 'Crime|Drama', 'Crime|Drama|Thriller', 'Action|Crime|Drama|Thriller', 'Drama|Romance']\n",
    "})\n",
    "print(\"Movies DataFrame:\")\n",
    "print(movies)"
   ]
  },
  {
   "cell_type": "code",
   "execution_count": null,
   "metadata": {},
   "outputs": [],
   "source": [
    "# Convert genres to dummy variables\n",
    "genre_dummies = movies['genres'].str.get_dummies(sep='|')\n",
    "print(\"Genre dummy variables:\")\n",
    "print(genre_dummies)"
   ]
  },
  {
   "cell_type": "code",
   "execution_count": null,
   "metadata": {},
   "outputs": [],
   "source": [
    "# Combine the original DataFrame with the dummy variables\n",
    "movies_with_dummies = pd.concat([movies, genre_dummies], axis=1)\n",
    "print(\"Movies DataFrame with dummy variables:\")\n",
    "print(movies_with_dummies)"
   ]
  },
  {
   "cell_type": "code",
   "execution_count": null,
   "metadata": {},
   "outputs": [],
   "source": [
    "# Count the number of movies in each genre\n",
    "genre_counts = genre_dummies.sum().sort_values(ascending=False)\n",
    "print(\"Genre counts:\")\n",
    "print(genre_counts)"
   ]
  },
  {
   "cell_type": "markdown",
   "metadata": {},
   "source": [
    "##### Plotting with Pandas: Bar and Barh Plots\n",
    "\n",
    "Pandas provides convenient plotting methods that are built on top of matplotlib. Let's explore bar and horizontal bar plots."
   ]
  },
  {
   "cell_type": "markdown",
   "metadata": {},
   "source": [
    "### Bar Plots"
   ]
  },
  {
   "cell_type": "code",
   "execution_count": null,
   "metadata": {},
   "outputs": [],
   "source": [
    "# Create a simple DataFrame for plotting\n",
    "df = pd.DataFrame({\n",
    "    'lab': ['A', 'B', 'C'], \n",
    "    'val': [10, 30, 20]\n",
    "})\n",
    "print(\"Simple DataFrame:\")\n",
    "print(df)"
   ]
  },
  {
   "cell_type": "code",
   "execution_count": null,
   "metadata": {},
   "outputs": [],
   "source": [
    "# Create a basic bar plot\n",
    "ax = df.plot.bar(x='lab', y='val', rot=0, title='Basic Bar Plot')\n",
    "plt.show()"
   ]
  },
  {
   "cell_type": "code",
   "execution_count": null,
   "metadata": {},
   "outputs": [],
   "source": [
    "# Create a DataFrame with animal data\n",
    "speed = [0.1, 17.5, 40, 48, 52, 69, 88]\n",
    "lifespan = [2, 8, 70, 1.5, 25, 12, 28]\n",
    "index = ['snail', 'pig', 'elephant', 'rabbit', 'giraffe', 'coyote', 'horse']\n",
    "df_animals = pd.DataFrame({\n",
    "    'speed': speed,\n",
    "    'lifespan': lifespan\n",
    "}, index=index)\n",
    "print(\"Animals DataFrame:\")\n",
    "print(df_animals)"
   ]
  },
  {
   "cell_type": "code",
   "execution_count": null,
   "metadata": {},
   "outputs": [],
   "source": [
    "# Plot the entire DataFrame as a bar plot\n",
    "ax = df_animals.plot.bar(rot=0, title='Animal Speed and Lifespan')\n",
    "plt.xlabel('Animal')\n",
    "plt.ylabel('Value')\n",
    "plt.show()"
   ]
  },
  {
   "cell_type": "code",
   "execution_count": null,
   "metadata": {},
   "outputs": [],
   "source": [
    "# Plot a single column\n",
    "ax = df_animals.plot.bar(y='speed', rot=0, title='Animal Speed', color='green')\n",
    "plt.xlabel('Animal')\n",
    "plt.ylabel('Speed')\n",
    "plt.show()"
   ]
  },
  {
   "cell_type": "code",
   "execution_count": null,
   "metadata": {},
   "outputs": [],
   "source": [
    "# Plot with subplots\n",
    "axes = df_animals.plot.bar(rot=0, subplots=True, figsize=(10, 8), layout=(2, 1))\n",
    "axes[0].set_title('Animal Speed')\n",
    "axes[1].set_title('Animal Lifespan')\n",
    "plt.tight_layout()\n",
    "plt.show()"
   ]
  },
  {
   "cell_type": "markdown",
   "metadata": {},
   "source": [
    "### Horizontal Bar Plots"
   ]
  },
  {
   "cell_type": "code",
   "execution_count": null,
   "metadata": {},
   "outputs": [],
   "source": [
    "# Create a basic horizontal bar plot\n",
    "ax = df.plot.barh(x='lab', y='val', title='Basic Horizontal Bar Plot')\n",
    "plt.show()"
   ]
  },
  {
   "cell_type": "code",
   "execution_count": null,
   "metadata": {},
   "outputs": [],
   "source": [
    "# Plot the entire DataFrame as a horizontal bar plot\n",
    "ax = df_animals.plot.barh(title='Animal Speed and Lifespan')\n",
    "plt.xlabel('Value')\n",
    "plt.ylabel('Animal')\n",
    "plt.show()"
   ]
  },
  {
   "cell_type": "code",
   "execution_count": null,
   "metadata": {},
   "outputs": [],
   "source": [
    "# Plot a single column\n",
    "ax = df_animals.plot.barh(y='lifespan', title='Animal Lifespan', color='purple')\n",
    "plt.xlabel('Lifespan (years)')\n",
    "plt.ylabel('Animal')\n",
    "plt.show()"
   ]
  },
  {
   "cell_type": "code",
   "execution_count": null,
   "metadata": {},
   "outputs": [],
   "source": [
    "# Plot with subplots\n",
    "axes = df_animals.plot.barh(subplots=True, figsize=(10, 8), layout=(2, 1))\n",
    "axes[0].set_title('Animal Speed')\n",
    "axes[1].set_title('Animal Lifespan')\n",
    "plt.tight_layout()\n",
    "plt.show()"
   ]
  },
  {
   "cell_type": "markdown",
   "metadata": {},
   "source": [
    "### Customizing Bar Plots"
   ]
  },
  {
   "cell_type": "code",
   "execution_count": null,
   "metadata": {},
   "outputs": [],
   "source": [
    "# Customized bar plot\n",
    "ax = df_animals['speed'].plot.bar(\n",
    "    rot=45,\n",
    "    title='Animal Speed (Customized)',\n",
    "    figsize=(10, 6),\n",
    "    color='skyblue',\n",
    "    edgecolor='black',\n",
    "    alpha=0.7\n",
    ")\n",
    "plt.xlabel('Animal', fontsize=12)\n",
    "plt.ylabel('Speed (km/h)', fontsize=12)\n",
    "plt.grid(axis='y', linestyle='--', alpha=0.7)\n",
    "plt.tight_layout()\n",
    "plt.show()"
   ]
  },
  {
   "cell_type": "code",
   "execution_count": null,
   "metadata": {},
   "outputs": [],
   "source": [
    "# Customized horizontal bar plot\n",
    "ax = df_animals['lifespan'].plot.barh(\n",
    "    title='Animal Lifespan (Customized)',\n",
    "    figsize=(10, 6),\n",
    "    color='salmon',\n",
    "    edgecolor='black',\n",
    "    alpha=0.7\n",
    ")\n",
    "plt.xlabel('Lifespan (years)', fontsize=12)\n",
    "plt.ylabel('Animal', fontsize=12)\n",
    "plt.grid(axis='x', linestyle='--', alpha=0.7)\n",
    "plt.tight_layout()\n",
    "plt.show()"
   ]
  },
  {
   "cell_type": "markdown",
   "metadata": {},
   "source": [
    "### Practical Example: Visualizing Genre Counts"
   ]
  },
  {
   "cell_type": "code",
   "execution_count": null,
   "metadata": {},
   "outputs": [],
   "source": [
    "# Plot genre counts as a bar plot\n",
    "ax = genre_counts.plot.bar(\n",
    "    title='Movie Genre Counts',\n",
    "    figsize=(10, 6),\n",
    "    color='lightgreen',\n",
    "    edgecolor='black',\n",
    "    alpha=0.7\n",
    ")\n",
    "plt.xlabel('Genre', fontsize=12)\n",
    "plt.ylabel('Count', fontsize=12)\n",
    "plt.grid(axis='y', linestyle='--', alpha=0.7)\n",
    "plt.tight_layout()\n",
    "plt.show()"
   ]
  },
  {
   "cell_type": "code",
   "execution_count": null,
   "metadata": {},
   "outputs": [],
   "source": [
    "# Plot genre counts as a horizontal bar plot\n",
    "ax = genre_counts.plot.barh(\n",
    "    title='Movie Genre Counts',\n",
    "    figsize=(10, 6),\n",
    "    color='lightblue',\n",
    "    edgecolor='black',\n",
    "    alpha=0.7\n",
    ")\n",
    "plt.xlabel('Count', fontsize=12)\n",
    "plt.ylabel('Genre', fontsize=12)\n",
    "plt.grid(axis='x', linestyle='--', alpha=0.7)\n",
    "plt.tight_layout()\n",
    "plt.show()"
   ]
  },
  {
   "cell_type": "markdown",
   "metadata": {},
   "source": [
    "##### Conclusion\n",
    "\n",
    "In this notebook, we've explored:\n",
    "\n",
    "1. `str.get_dummies()`: A powerful method for converting categorical string data with separators into dummy/indicator variables, which is useful for:\n",
    "   - One-hot encoding of categorical variables\n",
    "   - Handling multi-label data where each observation can belong to multiple categories\n",
    "   - Preparing data for machine learning models\n",
    "\n",
    "2. Pandas plotting capabilities, specifically bar and horizontal bar plots:\n",
    "   - Creating basic bar plots with `plot.bar()`\n",
    "   - Creating horizontal bar plots with `plot.barh()`\n",
    "   - Customizing plots with various parameters\n",
    "   - Creating subplots for multiple columns\n",
    "   - Practical applications for data visualization\n",
    "\n",
    "These tools are essential for data preprocessing and visualization in pandas, allowing for flexible and powerful operations on your data."
   ]
  }
 ],
 "metadata": {
  "kernelspec": {
   "display_name": "Python 3",
   "language": "python",
   "name": "python3"
  },
  "language_info": {
   "codemirror_mode": {
    "name": "ipython",
    "version": 3
   },
   "file_extension": ".py",
   "mimetype": "text/x-python",
   "name": "python",
   "nbconvert_exporter": "python",
   "pygments_lexer": "ipython3",
   "version": "3.8.5"
  }
 },
 "nbformat": 4,
 "nbformat_minor": 4
}