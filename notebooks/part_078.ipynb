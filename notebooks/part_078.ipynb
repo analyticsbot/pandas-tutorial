{
 "cells": [
  {
   "cell_type": "markdown",
   "metadata": {},
   "source": [
    "#### Pandas Part 78: DatetimeIndex\n",
    "\n",
    "This notebook explores the DatetimeIndex class, which is an immutable ndarray of datetime64 data that can be used for indexing in pandas."
   ]
  },
  {
   "cell_type": "code",
   "execution_count": 1,
   "metadata": {},
   "outputs": [],
   "source": [
    "import pandas as pd\n",
    "import numpy as np\n",
    "from datetime import datetime, time"
   ]
  },
  {
   "cell_type": "markdown",
   "metadata": {},
   "source": [
    "##### 1. Creating DatetimeIndex\n",
    "\n",
    "There are several ways to create a DatetimeIndex:"
   ]
  },
  {
   "cell_type": "code",
   "execution_count": 2,
   "metadata": {},
   "outputs": [
    {
     "name": "stdout",
     "output_type": "stream",
     "text": [
      "DatetimeIndex from strings: DatetimeIndex(['2023-01-01', '2023-01-02', '2023-01-03', '2023-01-04'], dtype='datetime64[ns]', freq=None)\n",
      "\n",
      "DatetimeIndex from datetime objects: DatetimeIndex(['2023-01-01', '2023-01-02', '2023-01-03'], dtype='datetime64[ns]', freq=None)\n",
      "\n",
      "DatetimeIndex from date_range (daily): DatetimeIndex(['2023-01-01', '2023-01-02', '2023-01-03', '2023-01-04',\n",
      "               '2023-01-05'],\n",
      "              dtype='datetime64[ns]', freq='D')\n",
      "\n",
      "DatetimeIndex with monthly frequency: DatetimeIndex(['2023-01-31', '2023-02-28', '2023-03-31', '2023-04-30',\n",
      "               '2023-05-31'],\n",
      "              dtype='datetime64[ns]', freq='ME')\n"
     ]
    },
    {
     "name": "stderr",
     "output_type": "stream",
     "text": [
      "/var/folders/7y/fzwln1_93mn3js3wyk61_6xm0000gn/T/ipykernel_90173/2276888085.py:16: FutureWarning: 'M' is deprecated and will be removed in a future version, please use 'ME' instead.\n",
      "  dt_idx = pd.date_range(start='2023-01-01', periods=5, freq='M')  # Monthly frequency\n"
     ]
    }
   ],
   "source": [
    "# Create DatetimeIndex from a list of datetime-like strings\n",
    "dates = ['2023-01-01', '2023-01-02', '2023-01-03', '2023-01-04']\n",
    "dt_idx = pd.DatetimeIndex(dates)\n",
    "print(f\"DatetimeIndex from strings: {dt_idx}\")\n",
    "\n",
    "# Create DatetimeIndex from datetime objects\n",
    "dates = [datetime(2023, 1, 1), datetime(2023, 1, 2), datetime(2023, 1, 3)]\n",
    "dt_idx = pd.DatetimeIndex(dates)\n",
    "print(f\"\\nDatetimeIndex from datetime objects: {dt_idx}\")\n",
    "\n",
    "# Create DatetimeIndex using date_range\n",
    "dt_idx = pd.date_range(start='2023-01-01', periods=5)\n",
    "print(f\"\\nDatetimeIndex from date_range (daily): {dt_idx}\")\n",
    "\n",
    "# Create DatetimeIndex with a specific frequency\n",
    "dt_idx = pd.date_range(start='2023-01-01', periods=5, freq='M')  # Monthly frequency\n",
    "print(f\"\\nDatetimeIndex with monthly frequency: {dt_idx}\")"
   ]
  },
  {
   "cell_type": "markdown",
   "metadata": {},
   "source": [
    "### Creating DatetimeIndex with Time Zone"
   ]
  },
  {
   "cell_type": "code",
   "execution_count": 3,
   "metadata": {},
   "outputs": [
    {
     "name": "stdout",
     "output_type": "stream",
     "text": [
      "DatetimeIndex with UTC timezone: DatetimeIndex(['2023-01-01 00:00:00+00:00', '2023-01-02 00:00:00+00:00',\n",
      "               '2023-01-03 00:00:00+00:00'],\n",
      "              dtype='datetime64[ns, UTC]', freq=None)\n",
      "\n",
      "DatetimeIndex with US/Eastern timezone: DatetimeIndex(['2023-01-01 00:00:00-05:00', '2023-01-02 00:00:00-05:00',\n",
      "               '2023-01-03 00:00:00-05:00'],\n",
      "              dtype='datetime64[ns, US/Eastern]', freq='D')\n",
      "\n",
      "Converted to US/Pacific timezone: DatetimeIndex(['2022-12-31 21:00:00-08:00', '2023-01-01 21:00:00-08:00',\n",
      "               '2023-01-02 21:00:00-08:00'],\n",
      "              dtype='datetime64[ns, US/Pacific]', freq='D')\n"
     ]
    }
   ],
   "source": [
    "# Create DatetimeIndex with timezone\n",
    "dt_idx = pd.DatetimeIndex(['2023-01-01', '2023-01-02', '2023-01-03'], tz='UTC')\n",
    "print(f\"DatetimeIndex with UTC timezone: {dt_idx}\")\n",
    "\n",
    "# Create DatetimeIndex with a different timezone\n",
    "dt_idx = pd.date_range(start='2023-01-01', periods=3, tz='US/Eastern')\n",
    "print(f\"\\nDatetimeIndex with US/Eastern timezone: {dt_idx}\")\n",
    "\n",
    "# Convert timezone\n",
    "dt_idx_pst = dt_idx.tz_convert('US/Pacific')\n",
    "print(f\"\\nConverted to US/Pacific timezone: {dt_idx_pst}\")"
   ]
  },
  {
   "cell_type": "markdown",
   "metadata": {},
   "source": [
    "### Handling Ambiguous Times"
   ]
  },
  {
   "cell_type": "code",
   "execution_count": 7,
   "metadata": {},
   "outputs": [
    {
     "name": "stdout",
     "output_type": "stream",
     "text": [
      "Error: Cannot infer dst time from 2023-10-29 02:00:00, try using the 'ambiguous' argument\n",
      "\n",
      "Handling ambiguous times with 'NaT': DatetimeIndex(['NaT', 'NaT'], dtype='datetime64[ns, Europe/Berlin]', freq=None)\n",
      "\n",
      "Handling ambiguous times with boolean array: DatetimeIndex(['2023-10-29 02:00:00+02:00', '2023-10-29 02:30:00+01:00'], dtype='datetime64[ns, Europe/Berlin]', freq=None)\n",
      "\n",
      "Handling ambiguous times with True (all DST): DatetimeIndex(['2023-10-29 02:00:00+02:00', '2023-10-29 02:30:00+02:00'], dtype='datetime64[ns, Europe/Berlin]', freq=None)\n"
     ]
    }
   ],
   "source": [
    "# Create a DatetimeIndex that includes a DST transition\n",
    "# In most of Europe, clocks go back 1 hour on the last Sunday of October\n",
    "# The ambiguous hour is typically 2:00-3:00 AM\n",
    "try:\n",
    "    # This will raise an exception for ambiguous times\n",
    "    dt_idx = pd.DatetimeIndex(['2023-10-29 02:00:00', '2023-10-29 02:30:00'], tz='Europe/Berlin')\n",
    "    print(f\"DatetimeIndex with DST transition: {dt_idx}\")\n",
    "except Exception as e:\n",
    "    print(f\"Error: {e}\")\n",
    "    \n",
    "# Handle ambiguous times with 'NaT'\n",
    "dt_idx = pd.DatetimeIndex(['2023-10-29 02:00:00', '2023-10-29 02:30:00'], \n",
    "                          tz='Europe/Berlin', \n",
    "                          ambiguous='NaT')\n",
    "print(f\"\\nHandling ambiguous times with 'NaT': {dt_idx}\")\n",
    "\n",
    "# Handle ambiguous times with boolean array\n",
    "dt_idx = pd.DatetimeIndex(['2023-10-29 02:00:00', '2023-10-29 02:30:00'], \n",
    "                          tz='Europe/Berlin', \n",
    "                          ambiguous=[True, False])  # True for DST, False for non-DST\n",
    "print(f\"\\nHandling ambiguous times with boolean array: {dt_idx}\")\n",
    "\n",
    "# Handle ambiguous times with a single boolean\n",
    "dt_idx = pd.DatetimeIndex(['2023-10-29 02:00:00', '2023-10-29 02:30:00'], \n",
    "                          tz='Europe/Berlin', \n",
    "                          ambiguous=True)  # All times are DST\n",
    "print(f\"\\nHandling ambiguous times with True (all DST): {dt_idx}\")"
   ]
  },
  {
   "cell_type": "markdown",
   "metadata": {},
   "source": [
    "##### 2. DatetimeIndex Attributes\n",
    "\n",
    "DatetimeIndex provides various attributes to access datetime components:"
   ]
  },
  {
   "cell_type": "code",
   "execution_count": 8,
   "metadata": {},
   "outputs": [
    {
     "name": "stdout",
     "output_type": "stream",
     "text": [
      "DatetimeIndex: DatetimeIndex(['2023-01-01 12:30:45.123456', '2023-01-02 12:30:45.123456',\n",
      "               '2023-01-03 12:30:45.123456'],\n",
      "              dtype='datetime64[ns]', freq='D')\n",
      "\n",
      "Year: Index([2023, 2023, 2023], dtype='int32')\n",
      "Month: Index([1, 1, 1], dtype='int32')\n",
      "Day: Index([1, 2, 3], dtype='int32')\n",
      "Hour: Index([12, 12, 12], dtype='int32')\n",
      "Minute: Index([30, 30, 30], dtype='int32')\n",
      "Second: Index([45, 45, 45], dtype='int32')\n",
      "Microsecond: Index([123456, 123456, 123456], dtype='int32')\n",
      "Nanosecond: Index([0, 0, 0], dtype='int32')\n"
     ]
    }
   ],
   "source": [
    "# Create a DatetimeIndex\n",
    "dt_idx = pd.date_range(start='2023-01-01 12:30:45.123456', periods=3, freq='D')\n",
    "print(f\"DatetimeIndex: {dt_idx}\")\n",
    "\n",
    "# Access year component\n",
    "print(f\"\\nYear: {dt_idx.year}\")\n",
    "\n",
    "# Access month component\n",
    "print(f\"Month: {dt_idx.month}\")\n",
    "\n",
    "# Access day component\n",
    "print(f\"Day: {dt_idx.day}\")\n",
    "\n",
    "# Access hour component\n",
    "print(f\"Hour: {dt_idx.hour}\")\n",
    "\n",
    "# Access minute component\n",
    "print(f\"Minute: {dt_idx.minute}\")\n",
    "\n",
    "# Access second component\n",
    "print(f\"Second: {dt_idx.second}\")\n",
    "\n",
    "# Access microsecond component\n",
    "print(f\"Microsecond: {dt_idx.microsecond}\")\n",
    "\n",
    "# Access nanosecond component\n",
    "print(f\"Nanosecond: {dt_idx.nanosecond}\")"
   ]
  },
  {
   "cell_type": "markdown",
   "metadata": {},
   "source": [
    "### Date and Time Components"
   ]
  },
  {
   "cell_type": "code",
   "execution_count": 9,
   "metadata": {},
   "outputs": [
    {
     "name": "stdout",
     "output_type": "stream",
     "text": [
      "DatetimeIndex: DatetimeIndex(['2023-01-01 12:30:45', '2023-01-02 12:30:45',\n",
      "               '2023-01-03 12:30:45'],\n",
      "              dtype='datetime64[ns]', freq='D')\n",
      "\n",
      "Date component: [datetime.date(2023, 1, 1) datetime.date(2023, 1, 2)\n",
      " datetime.date(2023, 1, 3)]\n",
      "Type of first element: <class 'datetime.date'>\n",
      "\n",
      "Time component: [datetime.time(12, 30, 45) datetime.time(12, 30, 45)\n",
      " datetime.time(12, 30, 45)]\n",
      "Type of first element: <class 'datetime.time'>\n"
     ]
    }
   ],
   "source": [
    "# Create a DatetimeIndex\n",
    "dt_idx = pd.date_range(start='2023-01-01 12:30:45', periods=3, freq='D')\n",
    "print(f\"DatetimeIndex: {dt_idx}\")\n",
    "\n",
    "# Get date component (returns numpy array of datetime.date objects)\n",
    "dates = dt_idx.date\n",
    "print(f\"\\nDate component: {dates}\")\n",
    "print(f\"Type of first element: {type(dates[0])}\")\n",
    "\n",
    "# Get time component (returns numpy array of datetime.time objects)\n",
    "times = dt_idx.time\n",
    "print(f\"\\nTime component: {times}\")\n",
    "print(f\"Type of first element: {type(times[0])}\")"
   ]
  },
  {
   "cell_type": "code",
   "execution_count": 10,
   "metadata": {},
   "outputs": [
    {
     "name": "stdout",
     "output_type": "stream",
     "text": [
      "DatetimeIndex with timezone: DatetimeIndex(['2023-01-01 12:30:45+00:00', '2023-01-02 12:30:45+00:00',\n",
      "               '2023-01-03 12:30:45+00:00'],\n",
      "              dtype='datetime64[ns, UTC]', freq='D')\n",
      "\n",
      "Time with timezone component: [datetime.time(12, 30, 45, tzinfo=datetime.timezone.utc)\n",
      " datetime.time(12, 30, 45, tzinfo=datetime.timezone.utc)\n",
      " datetime.time(12, 30, 45, tzinfo=datetime.timezone.utc)]\n",
      "Type of first element: <class 'datetime.time'>\n",
      "Timezone of first element: UTC\n"
     ]
    }
   ],
   "source": [
    "# Create a DatetimeIndex with timezone\n",
    "dt_idx = pd.date_range(start='2023-01-01 12:30:45', periods=3, freq='D', tz='UTC')\n",
    "print(f\"DatetimeIndex with timezone: {dt_idx}\")\n",
    "\n",
    "# Get time with timezone component\n",
    "timetz = dt_idx.timetz\n",
    "print(f\"\\nTime with timezone component: {timetz}\")\n",
    "print(f\"Type of first element: {type(timetz[0])}\")\n",
    "print(f\"Timezone of first element: {timetz[0].tzname()}\")"
   ]
  },
  {
   "cell_type": "markdown",
   "metadata": {},
   "source": [
    "### Calendar-Related Attributes"
   ]
  },
  {
   "cell_type": "code",
   "execution_count": 12,
   "metadata": {},
   "outputs": [
    {
     "name": "stdout",
     "output_type": "stream",
     "text": [
      "DatetimeIndex: DatetimeIndex(['2023-01-01', '2023-01-02', '2023-01-03', '2023-01-04',\n",
      "               '2023-01-05', '2023-01-06', '2023-01-07', '2023-01-08',\n",
      "               '2023-01-09', '2023-01-10', '2023-01-11', '2023-01-12',\n",
      "               '2023-01-13', '2023-01-14', '2023-01-15', '2023-01-16',\n",
      "               '2023-01-17', '2023-01-18', '2023-01-19', '2023-01-20',\n",
      "               '2023-01-21', '2023-01-22', '2023-01-23', '2023-01-24',\n",
      "               '2023-01-25', '2023-01-26', '2023-01-27', '2023-01-28',\n",
      "               '2023-01-29', '2023-01-30', '2023-01-31', '2023-02-01',\n",
      "               '2023-02-02', '2023-02-03', '2023-02-04', '2023-02-05',\n",
      "               '2023-02-06', '2023-02-07', '2023-02-08', '2023-02-09',\n",
      "               '2023-02-10', '2023-02-11', '2023-02-12', '2023-02-13',\n",
      "               '2023-02-14', '2023-02-15', '2023-02-16', '2023-02-17',\n",
      "               '2023-02-18', '2023-02-19', '2023-02-20', '2023-02-21',\n",
      "               '2023-02-22', '2023-02-23', '2023-02-24', '2023-02-25',\n",
      "               '2023-02-26', '2023-02-27', '2023-02-28', '2023-03-01',\n",
      "               '2023-03-02', '2023-03-03', '2023-03-04', '2023-03-05',\n",
      "               '2023-03-06', '2023-03-07', '2023-03-08', '2023-03-09',\n",
      "               '2023-03-10', '2023-03-11', '2023-03-12', '2023-03-13',\n",
      "               '2023-03-14', '2023-03-15', '2023-03-16', '2023-03-17',\n",
      "               '2023-03-18', '2023-03-19', '2023-03-20', '2023-03-21',\n",
      "               '2023-03-22', '2023-03-23', '2023-03-24', '2023-03-25',\n",
      "               '2023-03-26', '2023-03-27', '2023-03-28', '2023-03-29',\n",
      "               '2023-03-30', '2023-03-31'],\n",
      "              dtype='datetime64[ns]', freq='D')\n",
      "\n",
      "Day of year for first 5 dates: Index([1, 2, 3, 4, 5], dtype='int32')\n",
      "Week of year for first 5 dates: 2023-01-01    52\n",
      "2023-01-02     1\n",
      "2023-01-03     1\n",
      "2023-01-04     1\n",
      "2023-01-05     1\n",
      "Freq: D, Name: week, dtype: UInt32\n",
      "Day of week for first 5 dates: Index([6, 0, 1, 2, 3], dtype='int32')\n",
      "Quarter for first 5 dates: Index([1, 1, 1, 1, 1], dtype='int32')\n"
     ]
    }
   ],
   "source": [
    "# Create a DatetimeIndex spanning multiple months\n",
    "dt_idx = pd.date_range(start='2023-01-01', end='2023-03-31', freq='D')\n",
    "print(f\"DatetimeIndex: {dt_idx}\")\n",
    "\n",
    "# Get day of year\n",
    "print(f\"\\nDay of year for first 5 dates: {dt_idx.dayofyear[:5]}\")\n",
    "\n",
    "# Get week of year using isocalendar()\n",
    "print(f\"Week of year for first 5 dates: {dt_idx.isocalendar().week[:5]}\")\n",
    "\n",
    "# Get day of week (0=Monday, 6=Sunday)\n",
    "print(f\"Day of week for first 5 dates: {dt_idx.dayofweek[:5]}\")\n",
    "\n",
    "# Get quarter\n",
    "print(f\"Quarter for first 5 dates: {dt_idx.quarter[:5]}\")"
   ]
  },
  {
   "cell_type": "markdown",
   "metadata": {},
   "source": [
    "##### 3. DatetimeIndex Methods\n",
    "\n",
    "DatetimeIndex provides various methods for working with datetime data:"
   ]
  },
  {
   "cell_type": "markdown",
   "metadata": {},
   "source": [
    "### month_name and day_name Methods"
   ]
  },
  {
   "cell_type": "code",
   "execution_count": 13,
   "metadata": {},
   "outputs": [
    {
     "name": "stdout",
     "output_type": "stream",
     "text": [
      "Monthly DatetimeIndex: DatetimeIndex(['2023-01-31', '2023-02-28', '2023-03-31'], dtype='datetime64[ns]', freq='ME')\n",
      "\n",
      "Month names: Index(['January', 'February', 'March'], dtype='object')\n",
      "Month names (French): Index(['Janvier', 'Février', 'Mars'], dtype='object')\n"
     ]
    },
    {
     "name": "stderr",
     "output_type": "stream",
     "text": [
      "/var/folders/7y/fzwln1_93mn3js3wyk61_6xm0000gn/T/ipykernel_90173/3874445963.py:2: FutureWarning: 'M' is deprecated and will be removed in a future version, please use 'ME' instead.\n",
      "  monthly_idx = pd.date_range(start='2023-01-31', freq='M', periods=3)\n"
     ]
    }
   ],
   "source": [
    "# Create a DatetimeIndex for monthly data\n",
    "monthly_idx = pd.date_range(start='2023-01-31', freq='M', periods=3)\n",
    "print(f\"Monthly DatetimeIndex: {monthly_idx}\")\n",
    "\n",
    "# Get month names\n",
    "month_names = monthly_idx.month_name()\n",
    "print(f\"\\nMonth names: {month_names}\")\n",
    "\n",
    "# Get month names in a different locale\n",
    "try:\n",
    "    month_names_fr = monthly_idx.month_name(locale='fr_FR')\n",
    "    print(f\"Month names (French): {month_names_fr}\")\n",
    "except ImportError:\n",
    "    print(\"French locale not available. Make sure you have the 'babel' package installed.\")"
   ]
  },
  {
   "cell_type": "code",
   "execution_count": 14,
   "metadata": {},
   "outputs": [
    {
     "name": "stdout",
     "output_type": "stream",
     "text": [
      "Daily DatetimeIndex: DatetimeIndex(['2023-01-01', '2023-01-02', '2023-01-03'], dtype='datetime64[ns]', freq='D')\n",
      "\n",
      "Day names: Index(['Sunday', 'Monday', 'Tuesday'], dtype='object')\n",
      "Day names (Spanish): Index(['Domingo', 'Lunes', 'Martes'], dtype='object')\n"
     ]
    }
   ],
   "source": [
    "# Create a DatetimeIndex for daily data\n",
    "daily_idx = pd.date_range(start='2023-01-01', freq='D', periods=3)\n",
    "print(f\"Daily DatetimeIndex: {daily_idx}\")\n",
    "\n",
    "# Get day names\n",
    "day_names = daily_idx.day_name()\n",
    "print(f\"\\nDay names: {day_names}\")\n",
    "\n",
    "# Get day names in a different locale\n",
    "try:\n",
    "    day_names_es = daily_idx.day_name(locale='es_ES')\n",
    "    print(f\"Day names (Spanish): {day_names_es}\")\n",
    "except ImportError:\n",
    "    print(\"Spanish locale not available. Make sure you have the 'babel' package installed.\")"
   ]
  },
  {
   "cell_type": "markdown",
   "metadata": {},
   "source": [
    "### mean Method"
   ]
  },
  {
   "cell_type": "code",
   "execution_count": 15,
   "metadata": {},
   "outputs": [
    {
     "name": "stdout",
     "output_type": "stream",
     "text": [
      "DatetimeIndex: DatetimeIndex(['2023-01-01', '2023-01-03', '2023-01-05'], dtype='datetime64[ns]', freq=None)\n",
      "\n",
      "Mean date: 2023-01-03 00:00:00\n",
      "Type: <class 'pandas._libs.tslibs.timestamps.Timestamp'>\n"
     ]
    }
   ],
   "source": [
    "# Create a DatetimeIndex\n",
    "dt_idx = pd.DatetimeIndex(['2023-01-01', '2023-01-03', '2023-01-05'])\n",
    "print(f\"DatetimeIndex: {dt_idx}\")\n",
    "\n",
    "# Calculate the mean\n",
    "mean_date = dt_idx.mean()\n",
    "print(f\"\\nMean date: {mean_date}\")\n",
    "print(f\"Type: {type(mean_date)}\")"
   ]
  },
  {
   "cell_type": "code",
   "execution_count": 16,
   "metadata": {},
   "outputs": [
    {
     "name": "stdout",
     "output_type": "stream",
     "text": [
      "DatetimeIndex with NaT: DatetimeIndex(['2023-01-01', '2023-01-03', 'NaT', '2023-01-05'], dtype='datetime64[ns]', freq=None)\n",
      "\n",
      "Mean date (skipna=True): 2023-01-03 00:00:00\n",
      "Mean date (skipna=False): NaT\n"
     ]
    }
   ],
   "source": [
    "# Create a DatetimeIndex with NaT (Not a Time)\n",
    "dt_idx = pd.DatetimeIndex(['2023-01-01', '2023-01-03', 'NaT', '2023-01-05'])\n",
    "print(f\"DatetimeIndex with NaT: {dt_idx}\")\n",
    "\n",
    "# Calculate the mean (skipna=True by default)\n",
    "mean_date = dt_idx.mean()\n",
    "print(f\"\\nMean date (skipna=True): {mean_date}\")\n",
    "\n",
    "# Calculate the mean with skipna=False\n",
    "try:\n",
    "    mean_date = dt_idx.mean(skipna=False)\n",
    "    print(f\"Mean date (skipna=False): {mean_date}\")\n",
    "except ValueError as e:\n",
    "    print(f\"Error with skipna=False: {e}\")"
   ]
  },
  {
   "cell_type": "markdown",
   "metadata": {},
   "source": [
    "##### 4. Using DatetimeIndex with Series and DataFrame"
   ]
  },
  {
   "cell_type": "code",
   "execution_count": 17,
   "metadata": {},
   "outputs": [
    {
     "name": "stdout",
     "output_type": "stream",
     "text": [
      "Series with DatetimeIndex:\n",
      "2023-01-01    0\n",
      "2023-01-02    1\n",
      "2023-01-03    2\n",
      "2023-01-04    3\n",
      "2023-01-05    4\n",
      "Freq: D, dtype: int64\n",
      "\n",
      "DataFrame with DatetimeIndex:\n",
      "            A  B\n",
      "2023-01-01  0  5\n",
      "2023-01-02  1  6\n",
      "2023-01-03  2  7\n",
      "2023-01-04  3  8\n",
      "2023-01-05  4  9\n"
     ]
    }
   ],
   "source": [
    "# Create a Series with DatetimeIndex\n",
    "dates = pd.date_range('2023-01-01', periods=5, freq='D')\n",
    "s = pd.Series(range(5), index=dates)\n",
    "print(\"Series with DatetimeIndex:\")\n",
    "print(s)\n",
    "\n",
    "# Create a DataFrame with DatetimeIndex\n",
    "df = pd.DataFrame({'A': range(5), 'B': range(5, 10)}, index=dates)\n",
    "print(\"\\nDataFrame with DatetimeIndex:\")\n",
    "print(df)"
   ]
  },
  {
   "cell_type": "markdown",
   "metadata": {},
   "source": [
    "### Selecting Data with DatetimeIndex"
   ]
  },
  {
   "cell_type": "code",
   "execution_count": 18,
   "metadata": {},
   "outputs": [
    {
     "name": "stdout",
     "output_type": "stream",
     "text": [
      "DataFrame with DatetimeIndex:\n",
      "                   A         B\n",
      "2023-01-01  1.278621  0.927983\n",
      "2023-01-02 -1.283737  0.029830\n",
      "2023-01-03  0.932724  0.384208\n",
      "2023-01-04  2.177500 -0.138966\n",
      "2023-01-05  2.759423  0.180388\n",
      "\n",
      "Data for 2023-01-05:\n",
      "A    2.759423\n",
      "B    0.180388\n",
      "Name: 2023-01-05 00:00:00, dtype: float64\n",
      "\n",
      "Data for January 2023:\n",
      "                   A         B\n",
      "2023-01-01  1.278621  0.927983\n",
      "2023-01-02 -1.283737  0.029830\n",
      "2023-01-03  0.932724  0.384208\n",
      "2023-01-04  2.177500 -0.138966\n",
      "2023-01-05  2.759423  0.180388\n",
      "\n",
      "Data from 2023-01-15 to 2023-01-20:\n",
      "                   A         B\n",
      "2023-01-15  0.572640  1.842491\n",
      "2023-01-16  0.094303 -0.273746\n",
      "2023-01-17  0.256379  0.245919\n",
      "2023-01-18 -2.009780 -1.274692\n",
      "2023-01-19  1.180384  0.422269\n",
      "2023-01-20 -0.109700  0.970320\n"
     ]
    }
   ],
   "source": [
    "# Create a DataFrame with DatetimeIndex spanning multiple months\n",
    "dates = pd.date_range('2023-01-01', periods=100, freq='D')\n",
    "df = pd.DataFrame({'A': np.random.randn(100), 'B': np.random.randn(100)}, index=dates)\n",
    "print(\"DataFrame with DatetimeIndex:\")\n",
    "print(df.head())\n",
    "\n",
    "# Select data for a specific date\n",
    "print(\"\\nData for 2023-01-05:\")\n",
    "print(df.loc['2023-01-05'])\n",
    "\n",
    "# Select data for a specific month\n",
    "print(\"\\nData for January 2023:\")\n",
    "print(df.loc['2023-01'].head())\n",
    "\n",
    "# Select data for a date range\n",
    "print(\"\\nData from 2023-01-15 to 2023-01-20:\")\n",
    "print(df.loc['2023-01-15':'2023-01-20'])"
   ]
  },
  {
   "cell_type": "markdown",
   "metadata": {},
   "source": [
    "### Resampling with DatetimeIndex"
   ]
  },
  {
   "cell_type": "code",
   "execution_count": 19,
   "metadata": {},
   "outputs": [
    {
     "name": "stdout",
     "output_type": "stream",
     "text": [
      "Original DataFrame (daily data):\n",
      "                   A         B\n",
      "2023-01-01  0.503237 -0.698871\n",
      "2023-01-02 -0.794171  0.380415\n",
      "2023-01-03  0.121533  1.342268\n",
      "2023-01-04 -0.726076 -1.603510\n",
      "2023-01-05 -0.002185  0.481766\n",
      "\n",
      "Resampled to monthly frequency:\n",
      "                   A         B\n",
      "2023-01-31 -0.029624  0.142338\n",
      "2023-02-28 -0.178096  0.105550\n",
      "2023-03-31 -0.202149  0.850325\n",
      "2023-04-30  0.216158  0.164368\n",
      "\n",
      "Resampled to weekly frequency:\n",
      "                   A         B\n",
      "2023-01-01  0.503237 -0.698871\n",
      "2023-01-08 -0.363987  0.241916\n",
      "2023-01-15  0.069081 -0.014906\n",
      "2023-01-22  0.108073 -0.304444\n",
      "2023-01-29 -0.246854  0.740585\n"
     ]
    },
    {
     "name": "stderr",
     "output_type": "stream",
     "text": [
      "/var/folders/7y/fzwln1_93mn3js3wyk61_6xm0000gn/T/ipykernel_90173/2318616142.py:8: FutureWarning: 'M' is deprecated and will be removed in a future version, please use 'ME' instead.\n",
      "  monthly = df.resample('M').mean()\n"
     ]
    }
   ],
   "source": [
    "# Create a DataFrame with DatetimeIndex\n",
    "dates = pd.date_range('2023-01-01', periods=100, freq='D')\n",
    "df = pd.DataFrame({'A': np.random.randn(100), 'B': np.random.randn(100)}, index=dates)\n",
    "print(\"Original DataFrame (daily data):\")\n",
    "print(df.head())\n",
    "\n",
    "# Resample to monthly frequency\n",
    "monthly = df.resample('M').mean()\n",
    "print(\"\\nResampled to monthly frequency:\")\n",
    "print(monthly)\n",
    "\n",
    "# Resample to weekly frequency\n",
    "weekly = df.resample('W').mean()\n",
    "print(\"\\nResampled to weekly frequency:\")\n",
    "print(weekly.head())"
   ]
  },
  {
   "cell_type": "code",
   "execution_count": null,
   "metadata": {},
   "outputs": [],
   "source": []
  },
  {
   "cell_type": "code",
   "execution_count": null,
   "metadata": {},
   "outputs": [],
   "source": []
  }
 ],
 "metadata": {
  "kernelspec": {
   "display_name": "venv",
   "language": "python",
   "name": "python3"
  },
  "language_info": {
   "codemirror_mode": {
    "name": "ipython",
    "version": 3
   },
   "file_extension": ".py",
   "mimetype": "text/x-python",
   "name": "python",
   "nbconvert_exporter": "python",
   "pygments_lexer": "ipython3",
   "version": "3.13.2"
  }
 },
 "nbformat": 4,
 "nbformat_minor": 4
}
