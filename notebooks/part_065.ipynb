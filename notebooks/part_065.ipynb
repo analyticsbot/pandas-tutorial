{
 "cells": [
  {
   "cell_type": "markdown",
   "metadata": {},
   "source": [
    "#### Pandas Tutorial - Part 65: DataFrame Methods (select_dtypes, sem, set_axis)\n",
    "\n",
    "This notebook covers three important DataFrame methods:\n",
    "- `select_dtypes()` - Return a subset of the DataFrame's columns based on the column dtypes\n",
    "- `sem()` - Return unbiased standard error of the mean over requested axis\n",
    "- `set_axis()` - Assign desired index to given axis"
   ]
  },
  {
   "cell_type": "code",
   "execution_count": null,
   "metadata": {},
   "outputs": [],
   "source": [
    "import pandas as pd\n",
    "import numpy as np\n",
    "import matplotlib.pyplot as plt\n",
    "\n",
    "# Set display options\n",
    "pd.set_option('display.max_columns', None)\n",
    "pd.set_option('display.expand_frame_repr', False)"
   ]
  },
  {
   "cell_type": "markdown",
   "metadata": {},
   "source": [
    "##### 1. DataFrame.select_dtypes()\n",
    "\n",
    "The `select_dtypes()` method returns a subset of the DataFrame's columns based on the column dtypes. You can include or exclude specific data types."
   ]
  },
  {
   "cell_type": "code",
   "execution_count": null,
   "metadata": {},
   "outputs": [],
   "source": [
    "# Create a DataFrame with different data types\n",
    "df = pd.DataFrame({\n",
    "    'a': [1, 2] * 3,                      # int64\n",
    "    'b': [True, False] * 3,               # bool\n",
    "    'c': [1.0, 2.0] * 3,                  # float64\n",
    "    'd': ['a', 'b'] * 3,                  # object (string)\n",
    "    'e': pd.Series([1, 2] * 3).astype('category'),  # category\n",
    "    'f': pd.date_range('20210101', periods=6),      # datetime64[ns]\n",
    "    'g': pd.Series([pd.Timedelta(days=i) for i in range(6)])  # timedelta64[ns]\n",
    "})\n",
    "\n",
    "print(\"DataFrame with different data types:\")\n",
    "df"
   ]
  },
  {
   "cell_type": "code",
   "execution_count": null,
   "metadata": {},
   "outputs": [],
   "source": [
    "# Display the data types of each column\n",
    "print(\"Data types of each column:\")\n",
    "df.dtypes"
   ]
  },
  {
   "cell_type": "code",
   "execution_count": null,
   "metadata": {},
   "outputs": [],
   "source": [
    "# Select boolean columns\n",
    "print(\"Select boolean columns:\")\n",
    "df.select_dtypes(include='bool')"
   ]
  },
  {
   "cell_type": "code",
   "execution_count": null,
   "metadata": {},
   "outputs": [],
   "source": [
    "# Select float columns\n",
    "print(\"Select float columns:\")\n",
    "df.select_dtypes(include=['float64'])"
   ]
  },
  {
   "cell_type": "code",
   "execution_count": null,
   "metadata": {},
   "outputs": [],
   "source": [
    "# Select integer columns\n",
    "print(\"Select integer columns:\")\n",
    "df.select_dtypes(include=['int64'])"
   ]
  },
  {
   "cell_type": "code",
   "execution_count": null,
   "metadata": {},
   "outputs": [],
   "source": [
    "# Select string (object) columns\n",
    "print(\"Select string (object) columns:\")\n",
    "df.select_dtypes(include=['object'])"
   ]
  },
  {
   "cell_type": "code",
   "execution_count": null,
   "metadata": {},
   "outputs": [],
   "source": [
    "# Select category columns\n",
    "print(\"Select category columns:\")\n",
    "df.select_dtypes(include=['category'])"
   ]
  },
  {
   "cell_type": "code",
   "execution_count": null,
   "metadata": {},
   "outputs": [],
   "source": [
    "# Select datetime columns\n",
    "print(\"Select datetime columns:\")\n",
    "df.select_dtypes(include=['datetime64'])"
   ]
  },
  {
   "cell_type": "code",
   "execution_count": null,
   "metadata": {},
   "outputs": [],
   "source": [
    "# Select timedelta columns\n",
    "print(\"Select timedelta columns:\")\n",
    "df.select_dtypes(include=['timedelta64'])"
   ]
  },
  {
   "cell_type": "code",
   "execution_count": null,
   "metadata": {},
   "outputs": [],
   "source": [
    "# Select numeric columns (int, float)\n",
    "print(\"Select numeric columns:\")\n",
    "df.select_dtypes(include=['number'])"
   ]
  },
  {
   "cell_type": "code",
   "execution_count": null,
   "metadata": {},
   "outputs": [],
   "source": [
    "# Exclude integer columns\n",
    "print(\"Exclude integer columns:\")\n",
    "df.select_dtypes(exclude=['int64'])"
   ]
  },
  {
   "cell_type": "code",
   "execution_count": null,
   "metadata": {},
   "outputs": [],
   "source": [
    "# Include float and exclude object columns\n",
    "print(\"Include float and exclude object columns:\")\n",
    "df.select_dtypes(include=['float64'], exclude=['object'])"
   ]
  },
  {
   "cell_type": "code",
   "execution_count": null,
   "metadata": {},
   "outputs": [],
   "source": [
    "# Select all columns except numeric ones\n",
    "print(\"Select all columns except numeric ones:\")\n",
    "df.select_dtypes(exclude=['number'])"
   ]
  },
  {
   "cell_type": "markdown",
   "metadata": {},
   "source": [
    "##### 2. DataFrame.sem()\n",
    "\n",
    "The `sem()` method returns the unbiased standard error of the mean over the requested axis. It's normalized by N-1 by default, which can be changed using the `ddof` parameter."
   ]
  },
  {
   "cell_type": "code",
   "execution_count": null,
   "metadata": {},
   "outputs": [],
   "source": [
    "# Create a DataFrame with numeric data\n",
    "df_numeric = pd.DataFrame({\n",
    "    'A': [1, 2, 3, 4, 5],\n",
    "    'B': [10, 20, 30, 40, 50],\n",
    "    'C': [100, 50, 10, 20, 30]\n",
    "})\n",
    "\n",
    "print(\"DataFrame with numeric data:\")\n",
    "df_numeric"
   ]
  },
  {
   "cell_type": "code",
   "execution_count": null,
   "metadata": {},
   "outputs": [],
   "source": [
    "# Calculate the standard error of the mean for each column\n",
    "print(\"Standard error of the mean for each column:\")\n",
    "df_numeric.sem()"
   ]
  },
  {
   "cell_type": "code",
   "execution_count": null,
   "metadata": {},
   "outputs": [],
   "source": [
    "# Calculate the standard error of the mean for each row\n",
    "print(\"Standard error of the mean for each row:\")\n",
    "df_numeric.sem(axis=1)"
   ]
  },
  {
   "cell_type": "code",
   "execution_count": null,
   "metadata": {},
   "outputs": [],
   "source": [
    "# Create a DataFrame with NaN values\n",
    "df_with_nan = pd.DataFrame({\n",
    "    'A': [1, 2, np.nan, 4, 5],\n",
    "    'B': [10, np.nan, 30, 40, 50],\n",
    "    'C': [100, 50, 10, np.nan, 30]\n",
    "})\n",
    "\n",
    "print(\"DataFrame with NaN values:\")\n",
    "df_with_nan"
   ]
  },
  {
   "cell_type": "code",
   "execution_count": null,
   "metadata": {},
   "outputs": [],
   "source": [
    "# Calculate the standard error of the mean with skipna=True (default)\n",
    "print(\"Standard error of the mean with skipna=True (default):\")\n",
    "df_with_nan.sem()"
   ]
  },
  {
   "cell_type": "code",
   "execution_count": null,
   "metadata": {},
   "outputs": [],
   "source": [
    "# Calculate the standard error of the mean with skipna=False\n",
    "print(\"Standard error of the mean with skipna=False:\")\n",
    "df_with_nan.sem(skipna=False)"
   ]
  },
  {
   "cell_type": "code",
   "execution_count": null,
   "metadata": {},
   "outputs": [],
   "source": [
    "# Create a DataFrame with different ddof values\n",
    "print(\"Standard error of the mean with different ddof values:\")\n",
    "for ddof in [0, 1, 2]:\n",
    "    print(f\"\\nddof={ddof}:\")\n",
    "    print(df_numeric.sem(ddof=ddof))"
   ]
  },
  {
   "cell_type": "code",
   "execution_count": null,
   "metadata": {},
   "outputs": [],
   "source": [
    "# Create a DataFrame with a MultiIndex\n",
    "index = pd.MultiIndex.from_tuples([\n",
    "    ('A', 1), ('A', 2), ('A', 3),\n",
    "    ('B', 1), ('B', 2), ('B', 3)\n",
    "], names=['group', 'subgroup'])\n",
    "\n",
    "df_multi = pd.DataFrame({\n",
    "    'X': [1, 2, 3, 4, 5, 6],\n",
    "    'Y': [10, 20, 30, 40, 50, 60]\n",
    "}, index=index)\n",
    "\n",
    "print(\"DataFrame with MultiIndex:\")\n",
    "df_multi"
   ]
  },
  {
   "cell_type": "code",
   "execution_count": null,
   "metadata": {},
   "outputs": [],
   "source": [
    "# Calculate the standard error of the mean by level\n",
    "print(\"Standard error of the mean by level 'group':\")\n",
    "df_multi.sem(level='group')"
   ]
  },
  {
   "cell_type": "markdown",
   "metadata": {},
   "source": [
    "##### 3. DataFrame.set_axis()\n",
    "\n",
    "The `set_axis()` method assigns desired index to a given axis. Indexes for column or row labels can be changed by assigning a list-like or Index."
   ]
  },
  {
   "cell_type": "code",
   "execution_count": null,
   "metadata": {},
   "outputs": [],
   "source": [
    "# Create a simple DataFrame\n",
    "df = pd.DataFrame({\n",
    "    'A': [1, 2, 3],\n",
    "    'B': [4, 5, 6],\n",
    "    'C': [7, 8, 9]\n",
    "})\n",
    "\n",
    "print(\"Original DataFrame:\")\n",
    "df"
   ]
  },
  {
   "cell_type": "code",
   "execution_count": null,
   "metadata": {},
   "outputs": [],
   "source": [
    "# Set new row labels (axis=0)\n",
    "print(\"DataFrame with new row labels:\")\n",
    "df.set_axis(['X', 'Y', 'Z'], axis=0)"
   ]
  },
  {
   "cell_type": "code",
   "execution_count": null,
   "metadata": {},
   "outputs": [],
   "source": [
    "# Set new column labels (axis=1)\n",
    "print(\"DataFrame with new column labels:\")\n",
    "df.set_axis(['P', 'Q', 'R'], axis=1)"
   ]
  },
  {
   "cell_type": "code",
   "execution_count": null,
   "metadata": {},
   "outputs": [],
   "source": [
    "# Modify the DataFrame inplace\n",
    "print(\"Before inplace modification:\")\n",
    "print(df)\n",
    "\n",
    "df.set_axis(['X', 'Y', 'Z'], axis=0, inplace=True)\n",
    "print(\"\\nAfter inplace modification of row labels:\")\n",
    "print(df)\n",
    "\n",
    "df.set_axis(['P', 'Q', 'R'], axis=1, inplace=True)\n",
    "print(\"\\nAfter inplace modification of column labels:\")\n",
    "print(df)"
   ]
  },
  {
   "cell_type": "code",
   "execution_count": null,
   "metadata": {},
   "outputs": [],
   "source": [
    "# Create a DataFrame with MultiIndex\n",
    "df_multi = pd.DataFrame(\n",
    "    np.random.randn(3, 3),\n",
    "    index=pd.MultiIndex.from_tuples([('A', 1), ('A', 2), ('B', 1)])\n",
    ")\n",
    "\n",
    "print(\"DataFrame with MultiIndex:\")\n",
    "df_multi"
   ]
  },
  {
   "cell_type": "code",
   "execution_count": null,
   "metadata": {},
   "outputs": [],
   "source": [
    "# Set new MultiIndex\n",
    "new_index = pd.MultiIndex.from_tuples([('X', 1), ('X', 2), ('Y', 1)])\n",
    "print(\"DataFrame with new MultiIndex:\")\n",
    "df_multi.set_axis(new_index, axis=0)"
   ]
  },
  {
   "cell_type": "code",
   "execution_count": null,
   "metadata": {},
   "outputs": [],
   "source": [
    "# Using set_axis with a Series index\n",
    "s = pd.Series(['a', 'b', 'c'])\n",
    "print(\"Using Series index:\")\n",
    "df.set_axis(s.index, axis=0)"
   ]
  },
  {
   "cell_type": "code",
   "execution_count": null,
   "metadata": {},
   "outputs": [],
   "source": [
    "# Compare set_axis with other index setting methods\n",
    "df_original = pd.DataFrame({\n",
    "    'A': [1, 2, 3],\n",
    "    'B': [4, 5, 6],\n",
    "    'C': [7, 8, 9]\n",
    "})\n",
    "\n",
    "# Using set_axis\n",
    "df1 = df_original.copy()\n",
    "df1 = df1.set_axis(['X', 'Y', 'Z'], axis=0)\n",
    "\n",
    "# Using index property\n",
    "df2 = df_original.copy()\n",
    "df2.index = ['X', 'Y', 'Z']\n",
    "\n",
    "# Using rename\n",
    "df3 = df_original.copy()\n",
    "df3 = df3.rename(index={0: 'X', 1: 'Y', 2: 'Z'})\n",
    "\n",
    "print(\"Using set_axis:\")\n",
    "print(df1)\n",
    "print(\"\\nUsing index property:\")\n",
    "print(df2)\n",
    "print(\"\\nUsing rename:\")\n",
    "print(df3)\n",
    "\n",
    "print(\"\\nAre df1 and df2 equal?\", df1.equals(df2))\n",
    "print(\"Are df1 and df3 equal?\", df1.equals(df3))"
   ]
  },
  {
   "cell_type": "markdown",
   "metadata": {},
   "source": [
    "##### Summary\n",
    "\n",
    "In this notebook, we've explored three important DataFrame methods:\n",
    "\n",
    "1. **select_dtypes()**: Returns a subset of the DataFrame's columns based on the column dtypes. This method is useful for filtering columns by their data types. You can include or exclude specific data types using the `include` and `exclude` parameters. Common data types include 'number', 'bool', 'object', 'category', 'datetime64', and 'timedelta64'.\n",
    "\n",
    "2. **sem()**: Returns the unbiased standard error of the mean over the requested axis. It's normalized by N-1 by default, which can be changed using the `ddof` parameter. This method is useful for statistical analysis, particularly when you want to estimate the standard error of a sample mean.\n",
    "\n",
    "3. **set_axis()**: Assigns desired index to a given axis. Indexes for column or row labels can be changed by assigning a list-like or Index. This method is an alternative to directly assigning to the `index` or `columns` attributes, or using the `rename` method.\n",
    "\n",
    "These methods are essential for data manipulation, statistical analysis, and index management in pandas."
   ]
  }
 ],
 "metadata": {
  "kernelspec": {
   "display_name": "Python 3",
   "language": "python",
   "name": "python3"
  },
  "language_info": {
   "codemirror_mode": {
    "name": "ipython",
    "version": 3
   },
   "file_extension": ".py",
   "mimetype": "text/x-python",
   "name": "python",
   "nbconvert_exporter": "python",
   "pygments_lexer": "ipython3",
   "version": "3.8.5"
  }
 },
 "nbformat": 4,
 "nbformat_minor": 4
}