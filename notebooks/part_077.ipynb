{
 "cells": [
  {
   "cell_type": "markdown",
   "metadata": {},
   "source": [
    "#### Pandas Part 77: IntervalIndex Methods and MultiIndex\n",
    "\n",
    "This notebook explores methods of IntervalIndex and introduces the MultiIndex class."
   ]
  },
  {
   "cell_type": "code",
   "execution_count": 1,
   "metadata": {},
   "outputs": [],
   "source": [
    "import pandas as pd\n",
    "import numpy as np"
   ]
  },
  {
   "cell_type": "markdown",
   "metadata": {},
   "source": [
    "##### 1. IntervalIndex Methods\n",
    "\n",
    "Let's explore methods available on the IntervalIndex class."
   ]
  },
  {
   "cell_type": "markdown",
   "metadata": {},
   "source": [
    "### values Property\n",
    "\n",
    "The `values` property returns the IntervalIndex's data as an IntervalArray."
   ]
  },
  {
   "cell_type": "code",
   "execution_count": 2,
   "metadata": {},
   "outputs": [
    {
     "name": "stdout",
     "output_type": "stream",
     "text": [
      "IntervalIndex: IntervalIndex([(0, 1], (1, 2], (2, 3]], dtype='interval[int64, right]')\n",
      "Type: <class 'pandas.core.indexes.interval.IntervalIndex'>\n",
      "\n",
      "Values: <IntervalArray>\n",
      "[(0, 1], (1, 2], (2, 3]]\n",
      "Length: 3, dtype: interval[int64, right]\n",
      "Type: <class 'pandas.core.arrays.interval.IntervalArray'>\n"
     ]
    }
   ],
   "source": [
    "# Create an IntervalIndex\n",
    "interval_idx = pd.IntervalIndex.from_breaks([0, 1, 2, 3])\n",
    "print(f\"IntervalIndex: {interval_idx}\")\n",
    "print(f\"Type: {type(interval_idx)}\")\n",
    "\n",
    "# Get values\n",
    "values = interval_idx.values\n",
    "print(f\"\\nValues: {values}\")\n",
    "print(f\"Type: {type(values)}\")"
   ]
  },
  {
   "cell_type": "markdown",
   "metadata": {},
   "source": [
    "### from_arrays Method\n",
    "\n",
    "The `from_arrays` class method constructs an IntervalIndex from two arrays defining the left and right bounds."
   ]
  },
  {
   "cell_type": "code",
   "execution_count": 3,
   "metadata": {},
   "outputs": [
    {
     "name": "stdout",
     "output_type": "stream",
     "text": [
      "IntervalIndex (closed='right'): IntervalIndex([(0, 1], (1, 2], (2, 3]], dtype='interval[int64, right]')\n",
      "\n",
      "IntervalIndex (closed='left'): IntervalIndex([[0, 1), [1, 2), [2, 3)], dtype='interval[int64, left]')\n",
      "\n",
      "IntervalIndex (closed='both'): IntervalIndex([[0, 1], [1, 2], [2, 3]], dtype='interval[int64, both]')\n",
      "\n",
      "IntervalIndex (closed='neither'): IntervalIndex([(0, 1), (1, 2), (2, 3)], dtype='interval[int64, neither]')\n"
     ]
    }
   ],
   "source": [
    "# Create arrays for left and right bounds\n",
    "left = [0, 1, 2]\n",
    "right = [1, 2, 3]\n",
    "\n",
    "# Create IntervalIndex with default closed='right'\n",
    "interval_idx = pd.IntervalIndex.from_arrays(left, right)\n",
    "print(f\"IntervalIndex (closed='right'): {interval_idx}\")\n",
    "\n",
    "# Create IntervalIndex with closed='left'\n",
    "interval_idx = pd.IntervalIndex.from_arrays(left, right, closed='left')\n",
    "print(f\"\\nIntervalIndex (closed='left'): {interval_idx}\")\n",
    "\n",
    "# Create IntervalIndex with closed='both'\n",
    "interval_idx = pd.IntervalIndex.from_arrays(left, right, closed='both')\n",
    "print(f\"\\nIntervalIndex (closed='both'): {interval_idx}\")\n",
    "\n",
    "# Create IntervalIndex with closed='neither'\n",
    "interval_idx = pd.IntervalIndex.from_arrays(left, right, closed='neither')\n",
    "print(f\"\\nIntervalIndex (closed='neither'): {interval_idx}\")"
   ]
  },
  {
   "cell_type": "code",
   "execution_count": 4,
   "metadata": {},
   "outputs": [
    {
     "name": "stdout",
     "output_type": "stream",
     "text": [
      "IntervalIndex with name: IntervalIndex([(0, 1], (1, 2], (2, 3]], dtype='interval[int64, right]', name='intervals')\n",
      "Name: intervals\n"
     ]
    }
   ],
   "source": [
    "# Create IntervalIndex with a name\n",
    "interval_idx = pd.IntervalIndex.from_arrays(left, right, name='intervals')\n",
    "print(f\"IntervalIndex with name: {interval_idx}\")\n",
    "print(f\"Name: {interval_idx.name}\")"
   ]
  },
  {
   "cell_type": "markdown",
   "metadata": {},
   "source": [
    "### from_tuples Method\n",
    "\n",
    "The `from_tuples` class method constructs an IntervalIndex from an array-like of tuples."
   ]
  },
  {
   "cell_type": "code",
   "execution_count": 5,
   "metadata": {},
   "outputs": [
    {
     "name": "stdout",
     "output_type": "stream",
     "text": [
      "IntervalIndex from tuples: IntervalIndex([(0, 1], (1, 2], (2, 3]], dtype='interval[int64, right]')\n",
      "\n",
      "IntervalIndex from tuples (closed='both'): IntervalIndex([[0, 1], [1, 2], [2, 3]], dtype='interval[int64, both]')\n"
     ]
    }
   ],
   "source": [
    "# Create tuples for intervals\n",
    "tuples = [(0, 1), (1, 2), (2, 3)]\n",
    "\n",
    "# Create IntervalIndex from tuples\n",
    "interval_idx = pd.IntervalIndex.from_tuples(tuples)\n",
    "print(f\"IntervalIndex from tuples: {interval_idx}\")\n",
    "\n",
    "# Create IntervalIndex with closed='both'\n",
    "interval_idx = pd.IntervalIndex.from_tuples(tuples, closed='both')\n",
    "print(f\"\\nIntervalIndex from tuples (closed='both'): {interval_idx}\")"
   ]
  },
  {
   "cell_type": "markdown",
   "metadata": {},
   "source": [
    "### from_breaks Method\n",
    "\n",
    "The `from_breaks` class method constructs an IntervalIndex from an array of splits."
   ]
  },
  {
   "cell_type": "code",
   "execution_count": 6,
   "metadata": {},
   "outputs": [
    {
     "name": "stdout",
     "output_type": "stream",
     "text": [
      "IntervalIndex from breaks: IntervalIndex([(0, 1], (1, 2], (2, 3]], dtype='interval[int64, right]')\n",
      "\n",
      "IntervalIndex from breaks (closed='left'): IntervalIndex([[0, 1), [1, 2), [2, 3)], dtype='interval[int64, left]')\n"
     ]
    }
   ],
   "source": [
    "# Create breaks\n",
    "breaks = [0, 1, 2, 3]\n",
    "\n",
    "# Create IntervalIndex from breaks\n",
    "interval_idx = pd.IntervalIndex.from_breaks(breaks)\n",
    "print(f\"IntervalIndex from breaks: {interval_idx}\")\n",
    "\n",
    "# Create IntervalIndex with closed='left'\n",
    "interval_idx = pd.IntervalIndex.from_breaks(breaks, closed='left')\n",
    "print(f\"\\nIntervalIndex from breaks (closed='left'): {interval_idx}\")"
   ]
  },
  {
   "cell_type": "markdown",
   "metadata": {},
   "source": [
    "### contains Method\n",
    "\n",
    "The `contains` method checks elementwise if the Intervals contain a value."
   ]
  },
  {
   "cell_type": "code",
   "execution_count": 7,
   "metadata": {},
   "outputs": [
    {
     "name": "stdout",
     "output_type": "stream",
     "text": [
      "IntervalIndex: IntervalIndex([(0, 1], (1, 2], (2, 3]], dtype='interval[int64, right]')\n",
      "\n",
      "Contains 0.5: [ True False False]\n",
      "Contains 1: [ True False False]\n",
      "Contains 3: [False False  True]\n"
     ]
    }
   ],
   "source": [
    "# Create an IntervalIndex\n",
    "interval_idx = pd.IntervalIndex.from_breaks([0, 1, 2, 3])\n",
    "print(f\"IntervalIndex: {interval_idx}\")\n",
    "\n",
    "# Check if intervals contain specific values\n",
    "contains_0_5 = interval_idx.contains(0.5)\n",
    "print(f\"\\nContains 0.5: {contains_0_5}\")\n",
    "\n",
    "contains_1 = interval_idx.contains(1)\n",
    "print(f\"Contains 1: {contains_1}\")\n",
    "\n",
    "contains_3 = interval_idx.contains(3)\n",
    "print(f\"Contains 3: {contains_3}\")"
   ]
  },
  {
   "cell_type": "markdown",
   "metadata": {},
   "source": [
    "### overlaps Method\n",
    "\n",
    "The `overlaps` method checks elementwise if an Interval overlaps the values in the IntervalArray."
   ]
  },
  {
   "cell_type": "code",
   "execution_count": 8,
   "metadata": {},
   "outputs": [
    {
     "name": "stdout",
     "output_type": "stream",
     "text": [
      "IntervalIndex: IntervalIndex([(0, 1], (1, 2], (2, 3]], dtype='interval[int64, right]')\n",
      "\n",
      "Overlaps with (0.5, 1.5]: [ True  True False]\n",
      "Overlaps with (1, 2]: [False  True False]\n",
      "Overlaps with (10, 20]: [False False False]\n"
     ]
    }
   ],
   "source": [
    "# Create an IntervalIndex\n",
    "interval_idx = pd.IntervalIndex.from_breaks([0, 1, 2, 3])\n",
    "print(f\"IntervalIndex: {interval_idx}\")\n",
    "\n",
    "# Check if intervals overlap with other intervals\n",
    "other = pd.Interval(0.5, 1.5)\n",
    "overlaps = interval_idx.overlaps(other)\n",
    "print(f\"\\nOverlaps with {other}: {overlaps}\")\n",
    "\n",
    "other = pd.Interval(1, 2)\n",
    "overlaps = interval_idx.overlaps(other)\n",
    "print(f\"Overlaps with {other}: {overlaps}\")\n",
    "\n",
    "other = pd.Interval(10, 20)\n",
    "overlaps = interval_idx.overlaps(other)\n",
    "print(f\"Overlaps with {other}: {overlaps}\")"
   ]
  },
  {
   "cell_type": "markdown",
   "metadata": {},
   "source": [
    "### set_closed Method\n",
    "\n",
    "The `set_closed` method returns an IntervalArray identical to the current one, but closed on the specified side."
   ]
  },
  {
   "cell_type": "code",
   "execution_count": 9,
   "metadata": {},
   "outputs": [
    {
     "name": "stdout",
     "output_type": "stream",
     "text": [
      "Original IntervalIndex (closed='right'): IntervalIndex([(0, 1], (1, 2], (2, 3]], dtype='interval[int64, right]')\n",
      "\n",
      "Closed='left': IntervalIndex([[0, 1), [1, 2), [2, 3)], dtype='interval[int64, left]')\n",
      "\n",
      "Closed='both': IntervalIndex([[0, 1], [1, 2], [2, 3]], dtype='interval[int64, both]')\n",
      "\n",
      "Closed='neither': IntervalIndex([(0, 1), (1, 2), (2, 3)], dtype='interval[int64, neither]')\n"
     ]
    }
   ],
   "source": [
    "# Create an IntervalIndex\n",
    "interval_idx = pd.IntervalIndex.from_breaks([0, 1, 2, 3])\n",
    "print(f\"Original IntervalIndex (closed='right'): {interval_idx}\")\n",
    "\n",
    "# Change closed to 'left'\n",
    "left_closed = interval_idx.set_closed('left')\n",
    "print(f\"\\nClosed='left': {left_closed}\")\n",
    "\n",
    "# Change closed to 'both'\n",
    "both_closed = interval_idx.set_closed('both')\n",
    "print(f\"\\nClosed='both': {both_closed}\")\n",
    "\n",
    "# Change closed to 'neither'\n",
    "neither_closed = interval_idx.set_closed('neither')\n",
    "print(f\"\\nClosed='neither': {neither_closed}\")"
   ]
  },
  {
   "cell_type": "markdown",
   "metadata": {},
   "source": [
    "### to_tuples Method\n",
    "\n",
    "The `to_tuples` method returns an ndarray of tuples of the form (left, right)."
   ]
  },
  {
   "cell_type": "code",
   "execution_count": 10,
   "metadata": {},
   "outputs": [
    {
     "name": "stdout",
     "output_type": "stream",
     "text": [
      "IntervalIndex: IntervalIndex([(0, 1], (1, 2], (2, 3]], dtype='interval[int64, right]')\n",
      "\n",
      "Tuples: Index([(0, 1), (1, 2), (2, 3)], dtype='object')\n",
      "Type: <class 'pandas.core.indexes.base.Index'>\n",
      "First tuple: (np.int64(0), np.int64(1)), type: <class 'tuple'>\n"
     ]
    }
   ],
   "source": [
    "# Create an IntervalIndex\n",
    "interval_idx = pd.IntervalIndex.from_breaks([0, 1, 2, 3])\n",
    "print(f\"IntervalIndex: {interval_idx}\")\n",
    "\n",
    "# Convert to tuples\n",
    "tuples = interval_idx.to_tuples()\n",
    "print(f\"\\nTuples: {tuples}\")\n",
    "print(f\"Type: {type(tuples)}\")\n",
    "print(f\"First tuple: {tuples[0]}, type: {type(tuples[0])}\")"
   ]
  },
  {
   "cell_type": "markdown",
   "metadata": {},
   "source": [
    "##### 2. MultiIndex\n",
    "\n",
    "MultiIndex is a hierarchical index object for pandas objects. It represents a multi-level, or hierarchical, index for an axis of a DataFrame or Series."
   ]
  },
  {
   "cell_type": "markdown",
   "metadata": {},
   "source": [
    "### Creating MultiIndex"
   ]
  },
  {
   "cell_type": "code",
   "execution_count": 11,
   "metadata": {},
   "outputs": [
    {
     "name": "stdout",
     "output_type": "stream",
     "text": [
      "MultiIndex from arrays: MultiIndex([('a', 'one'),\n",
      "            ('a', 'two'),\n",
      "            ('b', 'one'),\n",
      "            ('b', 'two')],\n",
      "           names=['first', 'second'])\n",
      "\n",
      "MultiIndex from tuples: MultiIndex([('a', 'one'),\n",
      "            ('a', 'two'),\n",
      "            ('b', 'one'),\n",
      "            ('b', 'two')],\n",
      "           names=['first', 'second'])\n",
      "\n",
      "MultiIndex from product: MultiIndex([('a', 'one'),\n",
      "            ('a', 'two'),\n",
      "            ('b', 'one'),\n",
      "            ('b', 'two')],\n",
      "           names=['first', 'second'])\n"
     ]
    }
   ],
   "source": [
    "# Create a MultiIndex from arrays\n",
    "arrays = [[\"a\", \"a\", \"b\", \"b\"], [\"one\", \"two\", \"one\", \"two\"]]\n",
    "multi_idx = pd.MultiIndex.from_arrays(arrays, names=[\"first\", \"second\"])\n",
    "print(f\"MultiIndex from arrays: {multi_idx}\")\n",
    "\n",
    "# Create a MultiIndex from tuples\n",
    "tuples = [(\"a\", \"one\"), (\"a\", \"two\"), (\"b\", \"one\"), (\"b\", \"two\")]\n",
    "multi_idx = pd.MultiIndex.from_tuples(tuples, names=[\"first\", \"second\"])\n",
    "print(f\"\\nMultiIndex from tuples: {multi_idx}\")\n",
    "\n",
    "# Create a MultiIndex from product\n",
    "iterables = [[\"a\", \"b\"], [\"one\", \"two\"]]\n",
    "multi_idx = pd.MultiIndex.from_product(iterables, names=[\"first\", \"second\"])\n",
    "print(f\"\\nMultiIndex from product: {multi_idx}\")"
   ]
  },
  {
   "cell_type": "markdown",
   "metadata": {},
   "source": [
    "### Using MultiIndex with Series and DataFrame"
   ]
  },
  {
   "cell_type": "code",
   "execution_count": 12,
   "metadata": {},
   "outputs": [
    {
     "name": "stdout",
     "output_type": "stream",
     "text": [
      "Series with MultiIndex:\n",
      "first  second\n",
      "a      one       0\n",
      "       two       1\n",
      "b      one       2\n",
      "       two       3\n",
      "dtype: int64\n",
      "\n",
      "DataFrame with MultiIndex:\n",
      "              A  B\n",
      "first second      \n",
      "a     one     0  4\n",
      "      two     1  5\n",
      "b     one     2  6\n",
      "      two     3  7\n"
     ]
    }
   ],
   "source": [
    "# Create a Series with MultiIndex\n",
    "multi_idx = pd.MultiIndex.from_product([[\"a\", \"b\"], [\"one\", \"two\"]], names=[\"first\", \"second\"])\n",
    "s = pd.Series(range(4), index=multi_idx)\n",
    "print(\"Series with MultiIndex:\")\n",
    "print(s)\n",
    "\n",
    "# Create a DataFrame with MultiIndex\n",
    "df = pd.DataFrame({\"A\": range(4), \"B\": range(4, 8)}, index=multi_idx)\n",
    "print(\"\\nDataFrame with MultiIndex:\")\n",
    "print(df)"
   ]
  },
  {
   "cell_type": "markdown",
   "metadata": {},
   "source": [
    "### get_loc_level Method\n",
    "\n",
    "The `get_loc_level` method gets the location for a label/slice/list/mask or a sequence of such at the specified level."
   ]
  },
  {
   "cell_type": "code",
   "execution_count": 13,
   "metadata": {},
   "outputs": [
    {
     "name": "stdout",
     "output_type": "stream",
     "text": [
      "MultiIndex: MultiIndex([('a', 'd'),\n",
      "            ('b', 'e'),\n",
      "            ('b', 'f')],\n",
      "           names=['A', 'B'])\n",
      "\n",
      "Location of 'b': slice(np.int64(1), np.int64(3), None)\n",
      "Remaining index: Index(['e', 'f'], dtype='object', name='B')\n",
      "\n",
      "Location of 'e' at level 'B': [False  True False]\n",
      "Remaining index: Index(['b'], dtype='object', name='A')\n",
      "\n",
      "Location of ['b', 'e']: 1\n",
      "Remaining index: None\n"
     ]
    }
   ],
   "source": [
    "# Create a MultiIndex\n",
    "mi = pd.MultiIndex.from_arrays([list('abb'), list('def')], names=['A', 'B'])\n",
    "print(f\"MultiIndex: {mi}\")\n",
    "\n",
    "# Get location for a label at the first level\n",
    "loc, idx = mi.get_loc_level('b')\n",
    "print(f\"\\nLocation of 'b': {loc}\")\n",
    "print(f\"Remaining index: {idx}\")\n",
    "\n",
    "# Get location for a label at the second level\n",
    "loc, idx = mi.get_loc_level('e', level='B')\n",
    "print(f\"\\nLocation of 'e' at level 'B': {loc}\")\n",
    "print(f\"Remaining index: {idx}\")\n",
    "\n",
    "# Get location for a complete label\n",
    "loc, idx = mi.get_loc_level(['b', 'e'])\n",
    "print(f\"\\nLocation of ['b', 'e']: {loc}\")\n",
    "print(f\"Remaining index: {idx}\")"
   ]
  },
  {
   "cell_type": "markdown",
   "metadata": {},
   "source": [
    "### get_indexer Method\n",
    "\n",
    "The `get_indexer` method computes the indexer and mask for a new index given the current index."
   ]
  },
  {
   "cell_type": "code",
   "execution_count": 14,
   "metadata": {},
   "outputs": [
    {
     "name": "stdout",
     "output_type": "stream",
     "text": [
      "MultiIndex: MultiIndex([('a', 1),\n",
      "            ('b', 2),\n",
      "            ('c', 3)],\n",
      "           )\n",
      "\n",
      "Indexer for [('b', 2), ('c', 3), ('x', 1)]: [ 1  2 -1]\n",
      "\n",
      "Indexer for [('a', 3), ('d', 1)] with method='pad': [0 2]\n",
      "Values at these locations: [('a', np.int64(1)), ('c', np.int64(3))]\n"
     ]
    }
   ],
   "source": [
    "# Create a MultiIndex\n",
    "mi = pd.MultiIndex.from_tuples([('a', 1), ('b', 2), ('c', 3)])\n",
    "print(f\"MultiIndex: {mi}\")\n",
    "\n",
    "# Get indexer for exact matches\n",
    "target = [('b', 2), ('c', 3), ('x', 1)]\n",
    "indexer = mi.get_indexer(target)\n",
    "print(f\"\\nIndexer for {target}: {indexer}\")\n",
    "\n",
    "# Get indexer with method='pad'\n",
    "target = [('a', 3), ('d', 1)]\n",
    "indexer = mi.get_indexer(target, method='pad')\n",
    "print(f\"\\nIndexer for {target} with method='pad': {indexer}\")\n",
    "print(f\"Values at these locations: {[mi[i] if i != -1 else None for i in indexer]}\")"
   ]
  },
  {
   "cell_type": "markdown",
   "metadata": {},
   "source": [
    "### get_level_values Method\n",
    "\n",
    "The `get_level_values` method returns a vector of label values for the requested level."
   ]
  },
  {
   "cell_type": "code",
   "execution_count": 15,
   "metadata": {},
   "outputs": [
    {
     "name": "stdout",
     "output_type": "stream",
     "text": [
      "MultiIndex: MultiIndex([('a', 'd'),\n",
      "            ('b', 'e'),\n",
      "            ('c', 'f')],\n",
      "           names=['level_1', 'level_2'])\n",
      "\n",
      "Level 0 values: Index(['a', 'b', 'c'], dtype='object', name='level_1')\n",
      "Level 'level_2' values: Index(['d', 'e', 'f'], dtype='object', name='level_2')\n"
     ]
    }
   ],
   "source": [
    "# Create a MultiIndex\n",
    "mi = pd.MultiIndex.from_arrays((list('abc'), list('def')))\n",
    "mi.names = ['level_1', 'level_2']\n",
    "print(f\"MultiIndex: {mi}\")\n",
    "\n",
    "# Get level values by level number\n",
    "level_0_values = mi.get_level_values(0)\n",
    "print(f\"\\nLevel 0 values: {level_0_values}\")\n",
    "\n",
    "# Get level values by level name\n",
    "level_2_values = mi.get_level_values('level_2')\n",
    "print(f\"Level 'level_2' values: {level_2_values}\")"
   ]
  },
  {
   "cell_type": "code",
   "execution_count": 16,
   "metadata": {},
   "outputs": [
    {
     "name": "stdout",
     "output_type": "stream",
     "text": [
      "DataFrame with MultiIndex:\n",
      "               value\n",
      "letter number       \n",
      "A      one         1\n",
      "       two         2\n",
      "B      one         3\n",
      "       two         4\n",
      "\n",
      "Level 'letter' values:\n",
      "Index(['A', 'A', 'B', 'B'], dtype='object', name='letter')\n",
      "\n",
      "Level 'number' values:\n",
      "Index(['one', 'two', 'one', 'two'], dtype='object', name='number')\n"
     ]
    }
   ],
   "source": [
    "# Create a DataFrame with MultiIndex\n",
    "index = pd.MultiIndex.from_product([['A', 'B'], ['one', 'two']], names=['letter', 'number'])\n",
    "df = pd.DataFrame({'value': [1, 2, 3, 4]}, index=index)\n",
    "print(\"DataFrame with MultiIndex:\")\n",
    "print(df)\n",
    "\n",
    "# Get level values\n",
    "print(\"\\nLevel 'letter' values:\")\n",
    "print(df.index.get_level_values('letter'))\n",
    "\n",
    "print(\"\\nLevel 'number' values:\")\n",
    "print(df.index.get_level_values('number'))"
   ]
  }
 ],
 "metadata": {
  "kernelspec": {
   "display_name": "venv",
   "language": "python",
   "name": "python3"
  },
  "language_info": {
   "codemirror_mode": {
    "name": "ipython",
    "version": 3
   },
   "file_extension": ".py",
   "mimetype": "text/x-python",
   "name": "python",
   "nbconvert_exporter": "python",
   "pygments_lexer": "ipython3",
   "version": "3.13.2"
  }
 },
 "nbformat": 4,
 "nbformat_minor": 4
}
