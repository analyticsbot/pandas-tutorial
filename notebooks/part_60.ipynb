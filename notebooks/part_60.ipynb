{
 "cells": [
  {
   "cell_type": "markdown",
   "metadata": {},
   "source": [
    "#### Pandas DataFrame Methods - Part 60\n",
    "\n",
    "This notebook covers several important DataFrame methods including `eval()`, `ewm()`, `hist()`, `idxmax()`, `idxmin()`, and `infer_objects()`."
   ]
  },
  {
   "cell_type": "code",
   "execution_count": null,
   "metadata": {},
   "source": [
    "import pandas as pd\n",
    "import numpy as np\n",
    "import matplotlib.pyplot as plt"
   ]
  },
  {
   "cell_type": "markdown",
   "metadata": {},
   "source": [
    "##### DataFrame.eval()\n",
    "\n",
    "The `eval()` method evaluates a string describing operations on DataFrame columns. It can be used for computational efficiency when evaluating multiple operations."
   ]
  },
  {
   "cell_type": "code",
   "execution_count": null,
   "metadata": {},
   "source": [
    "# Create a sample DataFrame\n",
    "df = pd.DataFrame({'A': range(1, 6), 'B': range(10, 0, -2)})\n",
    "df"
   ]
  },
  {
   "cell_type": "code",
   "execution_count": null,
   "metadata": {},
   "source": [
    "# Using eval to perform operations\n",
    "df.eval('A + B')"
   ]
  },
  {
   "cell_type": "code",
   "execution_count": null,
   "metadata": {},
   "source": [
    "# Assignment is allowed though by default the original DataFrame is not modified\n",
    "df.eval('C = A + B')"
   ]
  },
  {
   "cell_type": "code",
   "execution_count": null,
   "metadata": {},
   "source": [
    "# Original DataFrame remains unchanged\n",
    "df"
   ]
  },
  {
   "cell_type": "code",
   "execution_count": null,
   "metadata": {},
   "source": [
    "# Use inplace=True to modify the original DataFrame\n",
    "df.eval('C = A + B', inplace=True)\n",
    "df"
   ]
  },
  {
   "cell_type": "markdown",
   "metadata": {},
   "source": [
    "##### DataFrame.ewm()\n",
    "\n",
    "The `ewm()` method provides exponential weighted functions. This is useful for time series analysis."
   ]
  },
  {
   "cell_type": "code",
   "execution_count": null,
   "metadata": {},
   "source": [
    "# Create a sample DataFrame for ewm\n",
    "df_ewm = pd.DataFrame({'Value': [1, 2, 3, 4, 5]})\n",
    "df_ewm"
   ]
  },
  {
   "cell_type": "code",
   "execution_count": null,
   "metadata": {},
   "source": [
    "# Calculate exponential weighted mean with com parameter\n",
    "# com: Specify decay in terms of center of mass, \u03b1 = 1/(1 + com), for com \u2265 0\n",
    "df_ewm.ewm(com=0.5).mean()"
   ]
  },
  {
   "cell_type": "code",
   "execution_count": null,
   "metadata": {},
   "source": [
    "# Calculate exponential weighted mean with span parameter\n",
    "# span: Specify decay in terms of span, \u03b1 = 2/(span+1), for span \u2265 1\n",
    "df_ewm.ewm(span=2).mean()"
   ]
  },
  {
   "cell_type": "code",
   "execution_count": null,
   "metadata": {},
   "source": [
    "# Calculate exponential weighted mean with halflife parameter\n",
    "# halflife: Specify decay in terms of half-life\n",
    "df_ewm.ewm(halflife=1).mean()"
   ]
  },
  {
   "cell_type": "code",
   "execution_count": null,
   "metadata": {},
   "source": [
    "# Calculate exponential weighted mean with alpha parameter\n",
    "# alpha: Specify smoothing factor \u03b1 directly, 0 < \u03b1 \u2264 1\n",
    "df_ewm.ewm(alpha=0.3).mean()"
   ]
  },
  {
   "cell_type": "markdown",
   "metadata": {},
   "source": [
    "##### DataFrame.hist()\n",
    "\n",
    "The `hist()` method makes histograms of the DataFrame's columns."
   ]
  },
  {
   "cell_type": "code",
   "execution_count": null,
   "metadata": {},
   "source": [
    "# Create a sample DataFrame for histogram\n",
    "df_hist = pd.DataFrame({\n",
    "    'length': [1.5, 0.5, 1.2, 0.9, 3],\n",
    "    'width': [0.7, 0.2, 0.15, 0.2, 1.1]\n",
    "}, index=['pig', 'rabbit', 'duck', 'chicken', 'horse'])\n",
    "df_hist"
   ]
  },
  {
   "cell_type": "code",
   "execution_count": null,
   "metadata": {},
   "source": [
    "# Create a histogram with 3 bins\n",
    "hist = df_hist.hist(bins=3)\n",
    "plt.tight_layout()"
   ]
  },
  {
   "cell_type": "markdown",
   "metadata": {},
   "source": [
    "##### DataFrame.idxmax() and DataFrame.idxmin()\n",
    "\n",
    "The `idxmax()` method returns the index of the first occurrence of the maximum value over the requested axis.\n",
    "The `idxmin()` method returns the index of the first occurrence of the minimum value over the requested axis."
   ]
  },
  {
   "cell_type": "code",
   "execution_count": null,
   "metadata": {},
   "source": [
    "# Create a sample DataFrame\n",
    "df_idx = pd.DataFrame({\n",
    "    'A': [1, 2, 3, 4, 5],\n",
    "    'B': [10, 8, 6, 4, 2],\n",
    "    'C': [5, 3, 8, 2, 1]\n",
    "})\n",
    "df_idx"
   ]
  },
  {
   "cell_type": "code",
   "execution_count": null,
   "metadata": {},
   "source": [
    "# Find index of maximum value in each column\n",
    "df_idx.idxmax(axis=0)"
   ]
  },
  {
   "cell_type": "code",
   "execution_count": null,
   "metadata": {},
   "source": [
    "# Find index of maximum value in each row\n",
    "df_idx.idxmax(axis=1)"
   ]
  },
  {
   "cell_type": "code",
   "execution_count": null,
   "metadata": {},
   "source": [
    "# Find index of minimum value in each column\n",
    "df_idx.idxmin(axis=0)"
   ]
  },
  {
   "cell_type": "code",
   "execution_count": null,
   "metadata": {},
   "source": [
    "# Find index of minimum value in each row\n",
    "df_idx.idxmin(axis=1)"
   ]
  },
  {
   "cell_type": "markdown",
   "metadata": {},
   "source": [
    "##### DataFrame.infer_objects()\n",
    "\n",
    "The `infer_objects()` method attempts to infer better dtypes for object columns."
   ]
  },
  {
   "cell_type": "code",
   "execution_count": null,
   "metadata": {},
   "source": [
    "# Create a DataFrame with mixed types\n",
    "df_infer = pd.DataFrame({\"A\": [\"a\", 1, 2, 3]})\n",
    "df_infer"
   ]
  },
  {
   "cell_type": "code",
   "execution_count": null,
   "metadata": {},
   "source": [
    "# Check the data types\n",
    "df_infer.dtypes"
   ]
  },
  {
   "cell_type": "code",
   "execution_count": null,
   "metadata": {},
   "source": [
    "# Remove the string value\n",
    "df_infer = df_infer.iloc[1:]\n",
    "df_infer"
   ]
  },
  {
   "cell_type": "code",
   "execution_count": null,
   "metadata": {},
   "source": [
    "# Check the data types - still object\n",
    "df_infer.dtypes"
   ]
  },
  {
   "cell_type": "code",
   "execution_count": null,
   "metadata": {},
   "source": [
    "# Use infer_objects to convert to better dtypes\n",
    "df_infer_converted = df_infer.infer_objects()\n",
    "df_infer_converted.dtypes"
   ]
  }
 ],
 "metadata": {
  "kernelspec": {
   "display_name": "Python 3",
   "language": "python",
   "name": "python3"
  },
  "language_info": {
   "codemirror_mode": {
    "name": "ipython",
    "version": 3
   },
   "file_extension": ".py",
   "mimetype": "text/x-python",
   "name": "python",
   "nbconvert_exporter": "python",
   "pygments_lexer": "ipython3",
   "version": "3.8.5"
  }
 },
 "nbformat": 4,
 "nbformat_minor": 4
}