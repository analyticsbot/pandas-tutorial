{
 "cells": [
  {
   "cell_type": "markdown",
   "metadata": {},
   "source": [
    "##### Data Types and Column Operations"
   ]
  },
  {
   "cell_type": "code",
   "execution_count": 1,
   "metadata": {},
   "outputs": [],
   "source": [
    "import pandas as pd\n",
    "import numpy as np"
   ]
  },
  {
   "cell_type": "markdown",
   "metadata": {},
   "source": [
    "##### Data Type Handling\n",
    "Working with different data types in pandas"
   ]
  },
  {
   "cell_type": "code",
   "execution_count": 2,
   "metadata": {},
   "outputs": [
    {
     "name": "stdout",
     "output_type": "stream",
     "text": [
      "DataFrame with multiple types:\n",
      "          A  B    C          D    E      F  G\n",
      "0  0.073607  1  foo 2001-01-02  1.0  False  1\n",
      "1  0.046409  1  foo 2001-01-02  1.0  False  1\n",
      "2  0.941641  1  foo 2001-01-02  1.0  False  1\n",
      "\n",
      "Data types of each column:\n",
      "A          float64\n",
      "B            int64\n",
      "C           object\n",
      "D    datetime64[s]\n",
      "E          float32\n",
      "F             bool\n",
      "G             int8\n",
      "dtype: object\n"
     ]
    }
   ],
   "source": [
    "# Create DataFrame with multiple types\n",
    "dft = pd.DataFrame({\n",
    "    'A': np.random.rand(3),\n",
    "    'B': 1,\n",
    "    'C': 'foo',\n",
    "    'D': pd.Timestamp('20010102'),\n",
    "    'E': pd.Series([1.0] * 3).astype('float32'),\n",
    "    'F': False,\n",
    "    'G': pd.Series([1] * 3, dtype='int8')\n",
    "})\n",
    "\n",
    "print(\"DataFrame with multiple types:\")\n",
    "print(dft)\n",
    "print(\"\\nData types of each column:\")\n",
    "print(dft.dtypes)"
   ]
  },
  {
   "cell_type": "code",
   "execution_count": 3,
   "metadata": {},
   "outputs": [
    {
     "name": "stdout",
     "output_type": "stream",
     "text": [
      "Integers coerced to floats:\n",
      "0    1.0\n",
      "1    2.0\n",
      "2    3.0\n",
      "3    4.0\n",
      "4    5.0\n",
      "5    6.0\n",
      "dtype: float64\n",
      "\n",
      "Mixed types coerced to object:\n",
      "0      1\n",
      "1      2\n",
      "2      3\n",
      "3    6.0\n",
      "4    foo\n",
      "dtype: object\n"
     ]
    }
   ],
   "source": [
    "# Type coercion examples\n",
    "print(\"Integers coerced to floats:\")\n",
    "print(pd.Series([1, 2, 3, 4, 5, 6.]))\n",
    "\n",
    "print(\"\\nMixed types coerced to object:\")\n",
    "print(pd.Series([1, 2, 3, 6., 'foo']))"
   ]
  },
  {
   "cell_type": "code",
   "execution_count": 4,
   "metadata": {},
   "outputs": [
    {
     "name": "stdout",
     "output_type": "stream",
     "text": [
      "Count of each dtype:\n",
      "float64          1\n",
      "int64            1\n",
      "object           1\n",
      "datetime64[s]    1\n",
      "float32          1\n",
      "bool             1\n",
      "int8             1\n",
      "Name: count, dtype: int64\n"
     ]
    }
   ],
   "source": [
    "# Count of each dtype\n",
    "print(\"Count of each dtype:\")\n",
    "print(dft.dtypes.value_counts())"
   ]
  },
  {
   "cell_type": "markdown",
   "metadata": {},
   "source": [
    "##### Numeric Type Operations\n",
    "Working with different numeric types"
   ]
  },
  {
   "cell_type": "code",
   "execution_count": 5,
   "metadata": {},
   "outputs": [
    {
     "name": "stdout",
     "output_type": "stream",
     "text": [
      "DataFrame 1 (float32):\n",
      "          A\n",
      "0 -1.023313\n",
      "1  1.029768\n",
      "2  0.939275\n",
      "3 -1.034283\n",
      "4  0.462525\n",
      "5  0.255806\n",
      "6  0.064092\n",
      "7 -0.101829\n",
      "\n",
      "DataFrame 2 (mixed types):\n",
      "          A         B    C\n",
      "0 -0.036194 -0.049705    0\n",
      "1 -1.514648  0.472076  255\n",
      "2 -0.057983 -1.115859    1\n",
      "3 -1.268555 -0.219221    0\n",
      "4 -0.221802 -0.658629    0\n",
      "5 -0.327393  1.265951    1\n",
      "6 -1.211914 -0.389601    0\n",
      "7  0.654785 -0.207451    0\n"
     ]
    },
    {
     "name": "stderr",
     "output_type": "stream",
     "text": [
      "/Users/neo/Downloads/Personal/Projects/pandas-tutorial/venv/lib/python3.13/site-packages/pandas/io/formats/format.py:1458: RuntimeWarning: overflow encountered in cast\n",
      "  has_large_values = (abs_vals > 1e6).any()\n"
     ]
    }
   ],
   "source": [
    "# Create DataFrames with different numeric types\n",
    "df1 = pd.DataFrame(np.random.randn(8, 1), columns=['A'], dtype='float32')\n",
    "df2 = pd.DataFrame({\n",
    "    'A': pd.Series(np.random.randn(8), dtype='float16'),\n",
    "    'B': pd.Series(np.random.randn(8)),\n",
    "    'C': pd.Series(np.array(np.random.randn(8), dtype='uint8'))\n",
    "})\n",
    "\n",
    "print(\"DataFrame 1 (float32):\")\n",
    "print(df1)\n",
    "print(\"\\nDataFrame 2 (mixed types):\")\n",
    "print(df2)"
   ]
  },
  {
   "cell_type": "code",
   "execution_count": 6,
   "metadata": {},
   "outputs": [
    {
     "name": "stdout",
     "output_type": "stream",
     "text": [
      "Result of operation (note dtype changes):\n",
      "          A         B      C\n",
      "0 -1.059507 -0.049705    0.0\n",
      "1 -0.484880  0.472076  255.0\n",
      "2  0.881291 -1.115859    1.0\n",
      "3 -2.302837 -0.219221    0.0\n",
      "4  0.240724 -0.658629    0.0\n",
      "5 -0.071586  1.265951    1.0\n",
      "6 -1.147822 -0.389601    0.0\n",
      "7  0.552956 -0.207451    0.0\n",
      "\n",
      "Resulting dtypes:\n",
      "A    float32\n",
      "B    float64\n",
      "C    float64\n",
      "dtype: object\n"
     ]
    }
   ],
   "source": [
    "# Upcasting example\n",
    "df3 = df1.reindex_like(df2).fillna(value=0.0) + df2\n",
    "print(\"Result of operation (note dtype changes):\")\n",
    "print(df3)\n",
    "print(\"\\nResulting dtypes:\")\n",
    "print(df3.dtypes)"
   ]
  },
  {
   "cell_type": "markdown",
   "metadata": {},
   "source": [
    "##### Column Operations\n",
    "Adding and manipulating columns"
   ]
  },
  {
   "cell_type": "code",
   "execution_count": 7,
   "metadata": {},
   "outputs": [
    {
     "name": "stdout",
     "output_type": "stream",
     "text": [
      "Original DataFrame:\n",
      "   one flag  foo\n",
      "a  NaN  NaN  bar\n",
      "b  NaN  NaN  bar\n",
      "c  NaN  NaN  bar\n",
      "d  NaN  NaN  bar\n"
     ]
    }
   ],
   "source": [
    "# Create sample DataFrame\n",
    "df = pd.DataFrame({\n",
    "    'one': pd.Series([1., 2., 3., np.nan]),\n",
    "    'flag': pd.Series([False, False, True, False]),\n",
    "    'foo': 'bar'\n",
    "}, index=['a', 'b', 'c', 'd'])\n",
    "\n",
    "print(\"Original DataFrame:\")\n",
    "print(df)"
   ]
  },
  {
   "cell_type": "code",
   "execution_count": 8,
   "metadata": {},
   "outputs": [
    {
     "name": "stdout",
     "output_type": "stream",
     "text": [
      "After adding truncated column:\n",
      "   one flag  foo  one_trunc\n",
      "a  NaN  NaN  bar        NaN\n",
      "b  NaN  NaN  bar        NaN\n",
      "c  NaN  NaN  bar        NaN\n",
      "d  NaN  NaN  bar        NaN\n"
     ]
    }
   ],
   "source": [
    "# Add truncated column\n",
    "df['one_trunc'] = df['one'][:2]\n",
    "print(\"After adding truncated column:\")\n",
    "print(df)"
   ]
  },
  {
   "cell_type": "code",
   "execution_count": 9,
   "metadata": {},
   "outputs": [
    {
     "name": "stdout",
     "output_type": "stream",
     "text": [
      "After inserting column:\n",
      "   one  bar flag  foo  one_trunc\n",
      "a  NaN  NaN  NaN  bar        NaN\n",
      "b  NaN  NaN  NaN  bar        NaN\n",
      "c  NaN  NaN  NaN  bar        NaN\n",
      "d  NaN  NaN  NaN  bar        NaN\n"
     ]
    }
   ],
   "source": [
    "# Insert column at specific location\n",
    "df.insert(1, 'bar', df['one'])\n",
    "print(\"After inserting column:\")\n",
    "print(df)"
   ]
  },
  {
   "cell_type": "markdown",
   "metadata": {},
   "source": [
    "##### Column Assignment with assign()\n",
    "Creating new columns in method chains"
   ]
  },
  {
   "cell_type": "code",
   "execution_count": 17,
   "metadata": {},
   "outputs": [
    {
     "name": "stdout",
     "output_type": "stream",
     "text": [
      "Iris dataset:\n",
      "    SepalLength   SepalWidth   PetalLength   PetalWidth     Name\n",
      "0  sepal.length  sepal.width  petal.length  petal.width  variety\n",
      "1           5.1          3.5           1.4           .2   Setosa\n",
      "2           4.9            3           1.4           .2   Setosa\n",
      "3           4.7          3.2           1.3           .2   Setosa\n",
      "4           4.6          3.1           1.5           .2   Setosa\n"
     ]
    }
   ],
   "source": [
    "# Load iris dataset\n",
    "# Option 1: Try with latin-1 encoding (most permissive)\n",
    "iris = pd.read_csv('data/iris.data', \n",
    "                  names=['SepalLength', 'SepalWidth', 'PetalLength', 'PetalWidth', 'Name'])\n",
    "print(\"Iris dataset:\")\n",
    "print(iris.head())"
   ]
  },
  {
   "cell_type": "code",
   "execution_count": 20,
   "metadata": {},
   "outputs": [],
   "source": [
    "# convert to int\n",
    "iris[['SepalLength', 'SepalWidth', 'PetalLength', 'PetalWidth']] = iris[['SepalLength', 'SepalWidth', 'PetalLength', 'PetalWidth']].apply(pd.to_numeric, errors='coerce')"
   ]
  },
  {
   "cell_type": "code",
   "execution_count": 21,
   "metadata": {},
   "outputs": [
    {
     "name": "stdout",
     "output_type": "stream",
     "text": [
      "With sepal ratio:\n",
      "   SepalLength  SepalWidth  PetalLength  PetalWidth     Name  sepal_ratio\n",
      "0          NaN         NaN          NaN         NaN  variety          NaN\n",
      "1          5.1         3.5          1.4         0.2   Setosa     0.686275\n",
      "2          4.9         3.0          1.4         0.2   Setosa     0.612245\n",
      "3          4.7         3.2          1.3         0.2   Setosa     0.680851\n",
      "4          4.6         3.1          1.5         0.2   Setosa     0.673913\n"
     ]
    }
   ],
   "source": [
    "# Add new column using assign\n",
    "print(\"With sepal ratio:\")\n",
    "print(iris.assign(\n",
    "    sepal_ratio=lambda x: x['SepalWidth'] / x['SepalLength']\n",
    ").head())"
   ]
  },
  {
   "cell_type": "code",
   "execution_count": 22,
   "metadata": {},
   "outputs": [
    {
     "name": "stdout",
     "output_type": "stream",
     "text": [
      "Filtered data with ratios:\n",
      "    SepalLength  SepalWidth  PetalLength  PetalWidth    Name  SepalRatio  \\\n",
      "1           5.1         3.5          1.4         0.2  Setosa    0.686275   \n",
      "6           5.4         3.9          1.7         0.4  Setosa    0.722222   \n",
      "11          5.4         3.7          1.5         0.2  Setosa    0.685185   \n",
      "15          5.8         4.0          1.2         0.2  Setosa    0.689655   \n",
      "16          5.7         4.4          1.5         0.4  Setosa    0.771930   \n",
      "\n",
      "    PetalRatio  \n",
      "1     0.142857  \n",
      "6     0.235294  \n",
      "11    0.133333  \n",
      "15    0.166667  \n",
      "16    0.266667  \n"
     ]
    }
   ],
   "source": [
    "# Multiple assignments in chain\n",
    "result = (iris.query('SepalLength > 5')\n",
    "          .assign(\n",
    "              SepalRatio=lambda x: x.SepalWidth / x.SepalLength,\n",
    "              PetalRatio=lambda x: x.PetalWidth / x.PetalLength\n",
    "          ))\n",
    "\n",
    "print(\"Filtered data with ratios:\")\n",
    "print(result.head())"
   ]
  },
  {
   "cell_type": "code",
   "execution_count": null,
   "metadata": {},
   "outputs": [],
   "source": []
  }
 ],
 "metadata": {
  "kernelspec": {
   "display_name": "venv",
   "language": "python",
   "name": "python3"
  },
  "language_info": {
   "codemirror_mode": {
    "name": "ipython",
    "version": 3
   },
   "file_extension": ".py",
   "mimetype": "text/x-python",
   "name": "python",
   "nbconvert_exporter": "python",
   "pygments_lexer": "ipython3",
   "version": "3.13.2"
  }
 },
 "nbformat": 4,
 "nbformat_minor": 4
}
