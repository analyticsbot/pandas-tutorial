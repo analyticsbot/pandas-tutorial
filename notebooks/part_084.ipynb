{
 "cells": [
  {
   "cell_type": "markdown",
   "metadata": {},
   "source": [
    "#### Pandas Part 84: Time-Based DateOffset Classes\n",
    "\n",
    "This notebook explores time-based DateOffset classes in pandas, including Hour and Minute."
   ]
  },
  {
   "cell_type": "code",
   "execution_count": 1,
   "metadata": {},
   "outputs": [],
   "source": [
    "import pandas as pd\n",
    "import numpy as np\n",
    "from datetime import datetime, time, timedelta\n",
    "from pandas.tseries.offsets import (\n",
    "    Hour, Minute, Second, Milli, Micro, Nano\n",
    ")"
   ]
  },
  {
   "cell_type": "markdown",
   "metadata": {},
   "source": [
    "##### 1. Hour\n",
    "\n",
    "The `Hour` class is a DateOffset subclass representing an hourly offset."
   ]
  },
  {
   "cell_type": "code",
   "execution_count": 2,
   "metadata": {},
   "outputs": [
    {
     "name": "stdout",
     "output_type": "stream",
     "text": [
      "Hour: <Hour>\n",
      "Original datetime: 2023-01-01 12:00:00\n",
      "After adding 1 hour: 2023-01-01 13:00:00\n",
      "\n",
      "Hour(n=3): <3 * Hours>\n",
      "After adding 3 hours: 2023-01-01 15:00:00\n",
      "\n",
      "Hour(n=-2): <-2 * Hours>\n",
      "After subtracting 2 hours: 2023-01-01 10:00:00\n"
     ]
    }
   ],
   "source": [
    "# Create an Hour offset\n",
    "hour = Hour()\n",
    "print(f\"Hour: {hour}\")\n",
    "\n",
    "# Apply to a datetime\n",
    "dt = datetime(2023, 1, 1, 12, 0)  # 12:00 PM\n",
    "print(f\"Original datetime: {dt}\")\n",
    "print(f\"After adding 1 hour: {dt + hour}\")\n",
    "\n",
    "# Create an Hour offset with n=3\n",
    "hour3 = Hour(n=3)\n",
    "print(f\"\\nHour(n=3): {hour3}\")\n",
    "print(f\"After adding 3 hours: {dt + hour3}\")\n",
    "\n",
    "# Create an Hour offset with negative n\n",
    "hour_neg = Hour(n=-2)\n",
    "print(f\"\\nHour(n=-2): {hour_neg}\")\n",
    "print(f\"After subtracting 2 hours: {dt + hour_neg}\")"
   ]
  },
  {
   "cell_type": "markdown",
   "metadata": {},
   "source": [
    "### Hour Properties and Methods"
   ]
  },
  {
   "cell_type": "code",
   "execution_count": 3,
   "metadata": {},
   "outputs": [
    {
     "name": "stdout",
     "output_type": "stream",
     "text": [
      "Hour(n=2): <2 * Hours>\n",
      "Delta: 0 days 02:00:00\n",
      "Frequency string: 2h\n",
      "Name: h\n",
      "Rule code: h\n"
     ]
    },
    {
     "name": "stderr",
     "output_type": "stream",
     "text": [
      "/var/folders/7y/fzwln1_93mn3js3wyk61_6xm0000gn/T/ipykernel_91717/3900676140.py:6: FutureWarning: Hour.delta is deprecated and will be removed in a future version. Use pd.Timedelta(obj) instead\n",
      "  print(f\"Delta: {hour.delta}\")\n"
     ]
    }
   ],
   "source": [
    "# Create an Hour offset\n",
    "hour = Hour(n=2)\n",
    "print(f\"Hour(n=2): {hour}\")\n",
    "\n",
    "# Get the delta (timedelta)\n",
    "print(f\"Delta: {hour.delta}\")\n",
    "\n",
    "# Get the frequency string\n",
    "print(f\"Frequency string: {hour.freqstr}\")\n",
    "\n",
    "# Get the name\n",
    "print(f\"Name: {hour.name}\")\n",
    "\n",
    "# Get the rule code\n",
    "print(f\"Rule code: {hour.rule_code}\")"
   ]
  },
  {
   "cell_type": "code",
   "execution_count": 4,
   "metadata": {},
   "outputs": [
    {
     "name": "stdout",
     "output_type": "stream",
     "text": [
      "Original datetime: 2023-01-01 12:30:00\n",
      "Roll forward: 2023-01-01 12:30:00\n",
      "Roll back: 2023-01-01 12:30:00\n",
      "\n",
      "Is Hour anchored? False\n"
     ]
    },
    {
     "name": "stderr",
     "output_type": "stream",
     "text": [
      "/var/folders/7y/fzwln1_93mn3js3wyk61_6xm0000gn/T/ipykernel_91717/1079481276.py:10: FutureWarning: Hour.is_anchored is deprecated and will be removed in a future version, please use False instead.\n",
      "  print(f\"\\nIs Hour anchored? {hour.is_anchored()}\")\n"
     ]
    }
   ],
   "source": [
    "# Roll forward and backward\n",
    "dt = datetime(2023, 1, 1, 12, 30)  # 12:30 PM\n",
    "print(f\"Original datetime: {dt}\")\n",
    "\n",
    "# Since Hour is not anchored (not tied to a specific time), rollforward and rollback return the original datetime\n",
    "print(f\"Roll forward: {hour.rollforward(dt)}\")\n",
    "print(f\"Roll back: {hour.rollback(dt)}\")\n",
    "\n",
    "# Check if the offset is anchored\n",
    "print(f\"\\nIs Hour anchored? {hour.is_anchored()}\")"
   ]
  },
  {
   "cell_type": "code",
   "execution_count": 6,
   "metadata": {},
   "outputs": [
    {
     "name": "stdout",
     "output_type": "stream",
     "text": [
      "Original dates: DatetimeIndex(['2023-01-01 12:00:00', '2023-01-01 13:00:00',\n",
      "               '2023-01-01 14:00:00'],\n",
      "              dtype='datetime64[ns]', freq=None)\n",
      "After applying Hour(n=2): DatetimeIndex(['2023-01-01 14:00:00', '2023-01-01 15:00:00',\n",
      "               '2023-01-01 16:00:00'],\n",
      "              dtype='datetime64[ns]', freq=None)\n",
      "\n",
      "Date range with 2-hour frequency:\n",
      "2023-01-01 12:00:00\n",
      "2023-01-01 14:00:00\n",
      "2023-01-01 16:00:00\n",
      "2023-01-01 18:00:00\n",
      "2023-01-01 20:00:00\n"
     ]
    },
    {
     "name": "stderr",
     "output_type": "stream",
     "text": [
      "/var/folders/7y/fzwln1_93mn3js3wyk61_6xm0000gn/T/ipykernel_91717/2711167499.py:14: FutureWarning: 'H' is deprecated and will be removed in a future version, please use 'h' instead.\n",
      "  hour_range = pd.date_range(start='2023-01-01 12:00', periods=5, freq='2H')\n"
     ]
    }
   ],
   "source": [
    "# Import Hour if not already imported\n",
    "from pandas.tseries.offsets import Hour\n",
    "import pandas as pd\n",
    "\n",
    "# Create an Hour offset\n",
    "hour = Hour(n=2)\n",
    "\n",
    "# Apply to a DatetimeIndex using addition\n",
    "dates = pd.DatetimeIndex(['2023-01-01 12:00', '2023-01-01 13:00', '2023-01-01 14:00'])\n",
    "print(f\"Original dates: {dates}\")\n",
    "print(f\"After applying Hour(n=2): {dates + hour}\")\n",
    "\n",
    "# Create a date range with Hour frequency\n",
    "hour_range = pd.date_range(start='2023-01-01 12:00', periods=5, freq='2H')\n",
    "print(f\"\\nDate range with 2-hour frequency:\")\n",
    "for date in hour_range:\n",
    "    print(f\"{date}\")"
   ]
  },
  {
   "cell_type": "markdown",
   "metadata": {},
   "source": [
    "### Using Hour with date_range"
   ]
  },
  {
   "cell_type": "code",
   "execution_count": 7,
   "metadata": {},
   "outputs": [
    {
     "name": "stdout",
     "output_type": "stream",
     "text": [
      "Date range with hourly frequency:\n",
      "2023-01-01 00:00:00\n",
      "2023-01-01 04:00:00\n",
      "2023-01-01 08:00:00\n",
      "2023-01-01 12:00:00\n",
      "2023-01-01 16:00:00\n",
      "2023-01-01 20:00:00\n",
      "\n",
      "Date range with bi-hourly frequency:\n",
      "2023-01-01 00:00:00\n",
      "2023-01-01 02:00:00\n",
      "2023-01-01 04:00:00\n",
      "2023-01-01 06:00:00\n",
      "2023-01-01 08:00:00\n",
      "2023-01-01 10:00:00\n",
      "2023-01-01 12:00:00\n",
      "2023-01-01 14:00:00\n",
      "2023-01-01 16:00:00\n",
      "2023-01-01 18:00:00\n",
      "2023-01-01 20:00:00\n",
      "2023-01-01 22:00:00\n"
     ]
    },
    {
     "name": "stderr",
     "output_type": "stream",
     "text": [
      "/var/folders/7y/fzwln1_93mn3js3wyk61_6xm0000gn/T/ipykernel_91717/878866737.py:2: FutureWarning: 'H' is deprecated and will be removed in a future version, please use 'h' instead.\n",
      "  dates = pd.date_range(start='2023-01-01 00:00', periods=24, freq='H')\n",
      "/var/folders/7y/fzwln1_93mn3js3wyk61_6xm0000gn/T/ipykernel_91717/878866737.py:9: FutureWarning: 'H' is deprecated and will be removed in a future version, please use 'h' instead.\n",
      "  dates = pd.date_range(start='2023-01-01 00:00', periods=12, freq='2H')\n"
     ]
    }
   ],
   "source": [
    "# Create a date range with hourly frequency\n",
    "dates = pd.date_range(start='2023-01-01 00:00', periods=24, freq='H')\n",
    "print(f\"Date range with hourly frequency:\")\n",
    "for i, date in enumerate(dates):\n",
    "    if i % 4 == 0:  # Print every 4 hours to keep output manageable\n",
    "        print(f\"{date}\")\n",
    "\n",
    "# Create a date range with bi-hourly frequency\n",
    "dates = pd.date_range(start='2023-01-01 00:00', periods=12, freq='2H')\n",
    "print(f\"\\nDate range with bi-hourly frequency:\")\n",
    "for date in dates:\n",
    "    print(f\"{date}\")"
   ]
  },
  {
   "cell_type": "markdown",
   "metadata": {},
   "source": [
    "##### 2. Minute\n",
    "\n",
    "The `Minute` class is a DateOffset subclass representing a minute offset."
   ]
  },
  {
   "cell_type": "code",
   "execution_count": 8,
   "metadata": {},
   "outputs": [
    {
     "name": "stdout",
     "output_type": "stream",
     "text": [
      "Minute: <Minute>\n",
      "Original datetime: 2023-01-01 12:00:00\n",
      "After adding 1 minute: 2023-01-01 12:01:00\n",
      "\n",
      "Minute(n=15): <15 * Minutes>\n",
      "After adding 15 minutes: 2023-01-01 12:15:00\n",
      "\n",
      "Minute(n=-30): <-30 * Minutes>\n",
      "After subtracting 30 minutes: 2023-01-01 11:30:00\n"
     ]
    }
   ],
   "source": [
    "# Create a Minute offset\n",
    "minute = Minute()\n",
    "print(f\"Minute: {minute}\")\n",
    "\n",
    "# Apply to a datetime\n",
    "dt = datetime(2023, 1, 1, 12, 0)  # 12:00 PM\n",
    "print(f\"Original datetime: {dt}\")\n",
    "print(f\"After adding 1 minute: {dt + minute}\")\n",
    "\n",
    "# Create a Minute offset with n=15\n",
    "minute15 = Minute(n=15)\n",
    "print(f\"\\nMinute(n=15): {minute15}\")\n",
    "print(f\"After adding 15 minutes: {dt + minute15}\")\n",
    "\n",
    "# Create a Minute offset with negative n\n",
    "minute_neg = Minute(n=-30)\n",
    "print(f\"\\nMinute(n=-30): {minute_neg}\")\n",
    "print(f\"After subtracting 30 minutes: {dt + minute_neg}\")"
   ]
  },
  {
   "cell_type": "markdown",
   "metadata": {},
   "source": [
    "### Minute Properties and Methods"
   ]
  },
  {
   "cell_type": "code",
   "execution_count": 9,
   "metadata": {},
   "outputs": [
    {
     "name": "stdout",
     "output_type": "stream",
     "text": [
      "Minute(n=5): <5 * Minutes>\n",
      "Delta: 0 days 00:05:00\n",
      "Frequency string: 5min\n",
      "Name: min\n",
      "Rule code: min\n"
     ]
    },
    {
     "name": "stderr",
     "output_type": "stream",
     "text": [
      "/var/folders/7y/fzwln1_93mn3js3wyk61_6xm0000gn/T/ipykernel_91717/2080110806.py:6: FutureWarning: Minute.delta is deprecated and will be removed in a future version. Use pd.Timedelta(obj) instead\n",
      "  print(f\"Delta: {minute.delta}\")\n"
     ]
    }
   ],
   "source": [
    "# Create a Minute offset\n",
    "minute = Minute(n=5)\n",
    "print(f\"Minute(n=5): {minute}\")\n",
    "\n",
    "# Get the delta (timedelta)\n",
    "print(f\"Delta: {minute.delta}\")\n",
    "\n",
    "# Get the frequency string\n",
    "print(f\"Frequency string: {minute.freqstr}\")\n",
    "\n",
    "# Get the name\n",
    "print(f\"Name: {minute.name}\")\n",
    "\n",
    "# Get the rule code\n",
    "print(f\"Rule code: {minute.rule_code}\")"
   ]
  },
  {
   "cell_type": "code",
   "execution_count": 11,
   "metadata": {},
   "outputs": [
    {
     "name": "stdout",
     "output_type": "stream",
     "text": [
      "Original dates: DatetimeIndex(['2023-01-01 12:00:00', '2023-01-01 12:05:00',\n",
      "               '2023-01-01 12:10:00'],\n",
      "              dtype='datetime64[ns]', freq=None)\n",
      "After applying Minute(n=5): DatetimeIndex(['2023-01-01 12:05:00', '2023-01-01 12:10:00',\n",
      "               '2023-01-01 12:15:00'],\n",
      "              dtype='datetime64[ns]', freq=None)\n",
      "\n",
      "Date range with 5-minute frequency:\n",
      "2023-01-01 12:00:00\n",
      "2023-01-01 12:05:00\n",
      "2023-01-01 12:10:00\n",
      "2023-01-01 12:15:00\n",
      "2023-01-01 12:20:00\n"
     ]
    }
   ],
   "source": [
    "# Import Minute if not already imported\n",
    "from pandas.tseries.offsets import Minute\n",
    "import pandas as pd\n",
    "\n",
    "# Create a Minute offset\n",
    "minute = Minute(n=5)\n",
    "\n",
    "# Apply to a DatetimeIndex using addition\n",
    "dates = pd.DatetimeIndex(['2023-01-01 12:00', '2023-01-01 12:05', '2023-01-01 12:10'])\n",
    "print(f\"Original dates: {dates}\")\n",
    "print(f\"After applying Minute(n=5): {dates + minute}\")\n",
    "\n",
    "# Create a date range with Minute frequency\n",
    "minute_range = pd.date_range(start='2023-01-01 12:00', periods=5, freq='5min')\n",
    "print(f\"\\nDate range with 5-minute frequency:\")\n",
    "for date in minute_range:\n",
    "    print(f\"{date}\")"
   ]
  },
  {
   "cell_type": "markdown",
   "metadata": {},
   "source": [
    "### Using Minute with date_range"
   ]
  },
  {
   "cell_type": "code",
   "execution_count": 12,
   "metadata": {},
   "outputs": [
    {
     "name": "stdout",
     "output_type": "stream",
     "text": [
      "Date range with minute frequency:\n",
      "2023-01-01 12:00:00\n",
      "2023-01-01 12:10:00\n",
      "2023-01-01 12:20:00\n",
      "2023-01-01 12:30:00\n",
      "2023-01-01 12:40:00\n",
      "2023-01-01 12:50:00\n",
      "\n",
      "Date range with 5-minute frequency:\n",
      "2023-01-01 12:00:00\n",
      "2023-01-01 12:05:00\n",
      "2023-01-01 12:10:00\n",
      "2023-01-01 12:15:00\n",
      "2023-01-01 12:20:00\n",
      "2023-01-01 12:25:00\n",
      "2023-01-01 12:30:00\n",
      "2023-01-01 12:35:00\n",
      "2023-01-01 12:40:00\n",
      "2023-01-01 12:45:00\n",
      "2023-01-01 12:50:00\n",
      "2023-01-01 12:55:00\n"
     ]
    },
    {
     "name": "stderr",
     "output_type": "stream",
     "text": [
      "/var/folders/7y/fzwln1_93mn3js3wyk61_6xm0000gn/T/ipykernel_91717/846036898.py:2: FutureWarning: 'T' is deprecated and will be removed in a future version, please use 'min' instead.\n",
      "  dates = pd.date_range(start='2023-01-01 12:00', periods=60, freq='T')  # T is alias for minute\n",
      "/var/folders/7y/fzwln1_93mn3js3wyk61_6xm0000gn/T/ipykernel_91717/846036898.py:9: FutureWarning: 'T' is deprecated and will be removed in a future version, please use 'min' instead.\n",
      "  dates = pd.date_range(start='2023-01-01 12:00', periods=12, freq='5T')\n"
     ]
    }
   ],
   "source": [
    "# Create a date range with minute frequency\n",
    "dates = pd.date_range(start='2023-01-01 12:00', periods=60, freq='T')  # T is alias for minute\n",
    "print(f\"Date range with minute frequency:\")\n",
    "for i, date in enumerate(dates):\n",
    "    if i % 10 == 0:  # Print every 10 minutes to keep output manageable\n",
    "        print(f\"{date}\")\n",
    "\n",
    "# Create a date range with 5-minute frequency\n",
    "dates = pd.date_range(start='2023-01-01 12:00', periods=12, freq='5T')\n",
    "print(f\"\\nDate range with 5-minute frequency:\")\n",
    "for date in dates:\n",
    "    print(f\"{date}\")"
   ]
  },
  {
   "cell_type": "markdown",
   "metadata": {},
   "source": [
    "##### 3. Second, Milli, Micro, and Nano\n",
    "\n",
    "Pandas also provides DateOffset classes for smaller time units: Second, Milli (millisecond), Micro (microsecond), and Nano (nanosecond)."
   ]
  },
  {
   "cell_type": "code",
   "execution_count": 13,
   "metadata": {},
   "outputs": [
    {
     "name": "stdout",
     "output_type": "stream",
     "text": [
      "Second: <Second>\n",
      "Milli: <Milli>\n",
      "Micro: <Micro>\n",
      "Nano: <Nano>\n",
      "\n",
      "Original datetime: 2023-01-01 12:00:00\n",
      "After adding 1 second: 2023-01-01 12:00:01\n",
      "After adding 1 millisecond: 2023-01-01 12:00:00.001000\n",
      "After adding 1 microsecond: 2023-01-01 12:00:00.000001\n",
      "After adding 1 nanosecond: 2023-01-01 12:00:00.000000001\n"
     ]
    }
   ],
   "source": [
    "# Create offsets for smaller time units\n",
    "second = Second()\n",
    "milli = Milli()\n",
    "micro = Micro()\n",
    "nano = Nano()\n",
    "print(f\"Second: {second}\")\n",
    "print(f\"Milli: {milli}\")\n",
    "print(f\"Micro: {micro}\")\n",
    "print(f\"Nano: {nano}\")\n",
    "\n",
    "# Apply to a datetime\n",
    "dt = datetime(2023, 1, 1, 12, 0, 0, 0)  # 12:00:00.000000\n",
    "print(f\"\\nOriginal datetime: {dt}\")\n",
    "print(f\"After adding 1 second: {dt + second}\")\n",
    "print(f\"After adding 1 millisecond: {dt + milli}\")\n",
    "print(f\"After adding 1 microsecond: {dt + micro}\")\n",
    "print(f\"After adding 1 nanosecond: {dt + nano}\")"
   ]
  },
  {
   "cell_type": "markdown",
   "metadata": {},
   "source": [
    "### Using Second with date_range"
   ]
  },
  {
   "cell_type": "code",
   "execution_count": 14,
   "metadata": {},
   "outputs": [
    {
     "name": "stdout",
     "output_type": "stream",
     "text": [
      "Date range with second frequency:\n",
      "2023-01-01 12:00:00\n",
      "2023-01-01 12:00:10\n",
      "2023-01-01 12:00:20\n",
      "2023-01-01 12:00:30\n",
      "2023-01-01 12:00:40\n",
      "2023-01-01 12:00:50\n",
      "\n",
      "Date range with millisecond frequency:\n",
      "2023-01-01 12:00:00\n",
      "2023-01-01 12:00:00.001000\n",
      "2023-01-01 12:00:00.002000\n",
      "2023-01-01 12:00:00.003000\n",
      "2023-01-01 12:00:00.004000\n",
      "2023-01-01 12:00:00.005000\n",
      "2023-01-01 12:00:00.006000\n",
      "2023-01-01 12:00:00.007000\n",
      "2023-01-01 12:00:00.008000\n",
      "2023-01-01 12:00:00.009000\n"
     ]
    },
    {
     "name": "stderr",
     "output_type": "stream",
     "text": [
      "/var/folders/7y/fzwln1_93mn3js3wyk61_6xm0000gn/T/ipykernel_91717/1585272319.py:2: FutureWarning: 'S' is deprecated and will be removed in a future version, please use 's' instead.\n",
      "  dates = pd.date_range(start='2023-01-01 12:00:00', periods=60, freq='S')  # S is alias for second\n",
      "/var/folders/7y/fzwln1_93mn3js3wyk61_6xm0000gn/T/ipykernel_91717/1585272319.py:9: FutureWarning: 'L' is deprecated and will be removed in a future version, please use 'ms' instead.\n",
      "  dates = pd.date_range(start='2023-01-01 12:00:00', periods=10, freq='L')  # L is alias for millisecond\n"
     ]
    }
   ],
   "source": [
    "# Create a date range with second frequency\n",
    "dates = pd.date_range(start='2023-01-01 12:00:00', periods=60, freq='S')  # S is alias for second\n",
    "print(f\"Date range with second frequency:\")\n",
    "for i, date in enumerate(dates):\n",
    "    if i % 10 == 0:  # Print every 10 seconds to keep output manageable\n",
    "        print(f\"{date}\")\n",
    "\n",
    "# Create a date range with millisecond frequency\n",
    "dates = pd.date_range(start='2023-01-01 12:00:00', periods=10, freq='L')  # L is alias for millisecond\n",
    "print(f\"\\nDate range with millisecond frequency:\")\n",
    "for date in dates:\n",
    "    print(f\"{date}\")"
   ]
  },
  {
   "cell_type": "markdown",
   "metadata": {},
   "source": [
    "##### 4. Combining Time-Based DateOffset Classes\n",
    "\n",
    "You can combine different DateOffset classes to create complex time operations."
   ]
  },
  {
   "cell_type": "code",
   "execution_count": 15,
   "metadata": {},
   "outputs": [
    {
     "name": "stdout",
     "output_type": "stream",
     "text": [
      "Hour + Minute(n=30): <90 * Minutes>\n",
      "Original datetime: 2023-01-01 12:00:00\n",
      "After applying combined offset: 2023-01-01 13:30:00\n",
      "\n",
      "Complex offset: <8130 * Seconds>\n",
      "After applying complex offset: 2023-01-01 14:15:30\n"
     ]
    }
   ],
   "source": [
    "# Combine Hour and Minute\n",
    "hour_plus_minute = Hour() + Minute(n=30)\n",
    "print(f\"Hour + Minute(n=30): {hour_plus_minute}\")\n",
    "\n",
    "# Apply to a datetime\n",
    "dt = datetime(2023, 1, 1, 12, 0)  # 12:00 PM\n",
    "print(f\"Original datetime: {dt}\")\n",
    "print(f\"After applying combined offset: {dt + hour_plus_minute}\")\n",
    "\n",
    "# Combine multiple time-based offsets\n",
    "complex_offset = Hour(n=2) + Minute(n=15) + Second(n=30)\n",
    "print(f\"\\nComplex offset: {complex_offset}\")\n",
    "print(f\"After applying complex offset: {dt + complex_offset}\")"
   ]
  },
  {
   "cell_type": "markdown",
   "metadata": {},
   "source": [
    "##### 5. Combining Time-Based and Calendar-Based DateOffset Classes\n",
    "\n",
    "You can also combine time-based DateOffset classes with calendar-based ones."
   ]
  },
  {
   "cell_type": "code",
   "execution_count": 17,
   "metadata": {},
   "outputs": [
    {
     "name": "stdout",
     "output_type": "stream",
     "text": [
      "Original datetime: 2023-01-01 12:00:00\n",
      "After applying Day then Hour(n=12): 2023-01-03 00:00:00\n",
      "\n",
      "After applying MonthEnd then Hour(n=-1): 2023-01-31 11:00:00\n",
      "\n",
      "Combined DateOffset (days=1, hours=12): <DateOffset: days=1, hours=12>\n",
      "After applying combined DateOffset: 2023-01-03 00:00:00\n",
      "\n",
      "Date range with 1 day 12 hour frequency:\n",
      "2023-01-01 12:00:00\n",
      "2023-01-03 00:00:00\n",
      "2023-01-04 12:00:00\n",
      "2023-01-06 00:00:00\n",
      "2023-01-07 12:00:00\n"
     ]
    },
    {
     "name": "stderr",
     "output_type": "stream",
     "text": [
      "/var/folders/7y/fzwln1_93mn3js3wyk61_6xm0000gn/T/ipykernel_91717/3271571663.py:33: FutureWarning: 'H' is deprecated and will be removed in a future version, please use 'h' instead.\n",
      "  hour_range = pd.date_range(start='2023-01-01 12:00', periods=5, freq='1D12H')\n"
     ]
    }
   ],
   "source": [
    "from pandas.tseries.offsets import Day, Hour, MonthEnd\n",
    "from datetime import datetime\n",
    "\n",
    "# Create individual offsets\n",
    "day = Day()\n",
    "hour_12 = Hour(n=12)\n",
    "month_end = MonthEnd()\n",
    "hour_neg_1 = Hour(n=-1)\n",
    "\n",
    "# Apply offsets sequentially\n",
    "dt = datetime(2023, 1, 1, 12, 0)  # 12:00 PM\n",
    "print(f\"Original datetime: {dt}\")\n",
    "\n",
    "# Apply Day followed by Hour(n=12)\n",
    "result1 = dt + day\n",
    "result1 = result1 + hour_12\n",
    "print(f\"After applying Day then Hour(n=12): {result1}\")\n",
    "\n",
    "# Apply MonthEnd followed by Hour(n=-1)\n",
    "result2 = dt + month_end\n",
    "result2 = result2 + hour_neg_1\n",
    "print(f\"\\nAfter applying MonthEnd then Hour(n=-1): {result2}\")\n",
    "\n",
    "# Alternative: use DateOffset for more flexibility\n",
    "from pandas import DateOffset\n",
    "\n",
    "# Create a combined offset using DateOffset for Day + 12 hours\n",
    "combined_offset1 = DateOffset(days=1, hours=12)\n",
    "print(f\"\\nCombined DateOffset (days=1, hours=12): {combined_offset1}\")\n",
    "print(f\"After applying combined DateOffset: {dt + combined_offset1}\")\n",
    "\n",
    "# Create a date range with a specific frequency\n",
    "hour_range = pd.date_range(start='2023-01-01 12:00', periods=5, freq='1D12H')\n",
    "print(f\"\\nDate range with 1 day 12 hour frequency:\")\n",
    "for date in hour_range:\n",
    "    print(f\"{date}\")"
   ]
  },
  {
   "cell_type": "markdown",
   "metadata": {},
   "source": [
    "##### 6. Using Time-Based DateOffset Classes with Time Series Data"
   ]
  },
  {
   "cell_type": "code",
   "execution_count": 18,
   "metadata": {},
   "outputs": [
    {
     "name": "stdout",
     "output_type": "stream",
     "text": [
      "Time series with hourly frequency:\n",
      "2023-01-01 00:00:00   -0.724712\n",
      "2023-01-01 01:00:00    0.422732\n",
      "2023-01-01 02:00:00   -0.053485\n",
      "2023-01-01 03:00:00    1.440231\n",
      "2023-01-01 04:00:00    0.895985\n",
      "Freq: h, dtype: float64\n",
      "\n",
      "Resampled to 4-hour frequency:\n",
      "2023-01-01 00:00:00    0.271192\n",
      "2023-01-01 04:00:00   -0.269446\n",
      "2023-01-01 08:00:00    0.086960\n",
      "2023-01-01 12:00:00    0.054054\n",
      "2023-01-01 16:00:00    0.643111\n",
      "2023-01-01 20:00:00   -0.084392\n",
      "Freq: 4h, dtype: float64\n",
      "\n",
      "Shifted by 2 hours:\n",
      "2023-01-01 02:00:00   -0.724712\n",
      "2023-01-01 03:00:00    0.422732\n",
      "2023-01-01 04:00:00   -0.053485\n",
      "2023-01-01 05:00:00    1.440231\n",
      "2023-01-01 06:00:00    0.895985\n",
      "Freq: h, dtype: float64\n"
     ]
    },
    {
     "name": "stderr",
     "output_type": "stream",
     "text": [
      "/var/folders/7y/fzwln1_93mn3js3wyk61_6xm0000gn/T/ipykernel_91717/2366334246.py:2: FutureWarning: 'H' is deprecated and will be removed in a future version, please use 'h' instead.\n",
      "  dates = pd.date_range(start='2023-01-01 00:00', periods=24, freq='H')\n",
      "/var/folders/7y/fzwln1_93mn3js3wyk61_6xm0000gn/T/ipykernel_91717/2366334246.py:9: FutureWarning: 'H' is deprecated and will be removed in a future version, please use 'h' instead.\n",
      "  ts_4h = ts.resample('4H').mean()\n",
      "/var/folders/7y/fzwln1_93mn3js3wyk61_6xm0000gn/T/ipykernel_91717/2366334246.py:14: FutureWarning: 'H' is deprecated and will be removed in a future version, please use 'h' instead.\n",
      "  ts_shifted = ts.shift(freq='2H')\n"
     ]
    }
   ],
   "source": [
    "# Create a time series with hourly frequency\n",
    "dates = pd.date_range(start='2023-01-01 00:00', periods=24, freq='H')\n",
    "values = np.random.randn(24)\n",
    "ts = pd.Series(values, index=dates)\n",
    "print(f\"Time series with hourly frequency:\")\n",
    "print(ts.head())\n",
    "\n",
    "# Resample to 4-hour frequency\n",
    "ts_4h = ts.resample('4H').mean()\n",
    "print(f\"\\nResampled to 4-hour frequency:\")\n",
    "print(ts_4h)\n",
    "\n",
    "# Shift the time series by 2 hours\n",
    "ts_shifted = ts.shift(freq='2H')\n",
    "print(f\"\\nShifted by 2 hours:\")\n",
    "print(ts_shifted.head())"
   ]
  },
  {
   "cell_type": "code",
   "execution_count": null,
   "metadata": {},
   "outputs": [],
   "source": []
  },
  {
   "cell_type": "code",
   "execution_count": null,
   "metadata": {},
   "outputs": [],
   "source": []
  }
 ],
 "metadata": {
  "kernelspec": {
   "display_name": "venv",
   "language": "python",
   "name": "python3"
  },
  "language_info": {
   "codemirror_mode": {
    "name": "ipython",
    "version": 3
   },
   "file_extension": ".py",
   "mimetype": "text/x-python",
   "name": "python",
   "nbconvert_exporter": "python",
   "pygments_lexer": "ipython3",
   "version": "3.13.2"
  }
 },
 "nbformat": 4,
 "nbformat_minor": 4
}
