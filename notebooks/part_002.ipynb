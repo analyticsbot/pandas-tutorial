{
 "cells": [
  {
   "cell_type": "markdown",
   "metadata": {},
   "source": [
    "#### Data Creation"
   ]
  },
  {
   "cell_type": "code",
   "execution_count": 1,
   "metadata": {},
   "outputs": [
    {
     "name": "stdout",
     "output_type": "stream",
     "text": [
      "0    1.0\n",
      "1    3.0\n",
      "2    5.0\n",
      "3    NaN\n",
      "4    6.0\n",
      "dtype: float64\n"
     ]
    }
   ],
   "source": [
    "## pd.Series(): Create a Series from an array, list, or dictionary.\n",
    "\n",
    "import pandas as pd\n",
    "s = pd.Series([1, 3, 5, None, 6])\n",
    "print(s)\n"
   ]
  },
  {
   "cell_type": "code",
   "execution_count": 2,
   "metadata": {},
   "outputs": [
    {
     "name": "stdout",
     "output_type": "stream",
     "text": [
      "   A  B\n",
      "0  1  3\n",
      "1  2  4\n"
     ]
    }
   ],
   "source": [
    "## pd.DataFrame(): Create a DataFrame from structured data like dictionaries or NumPy arrays.\n",
    "\n",
    "df = pd.DataFrame({'A': [1, 2], 'B': [3, 4]})\n",
    "print(df)\n"
   ]
  },
  {
   "cell_type": "code",
   "execution_count": 3,
   "metadata": {},
   "outputs": [
    {
     "name": "stdout",
     "output_type": "stream",
     "text": [
      "DatetimeIndex(['2023-01-01', '2023-01-02', '2023-01-03', '2023-01-04',\n",
      "               '2023-01-05'],\n",
      "              dtype='datetime64[ns]', freq='D')\n"
     ]
    }
   ],
   "source": [
    "## pd.date_range(): Create a range of dates.\n",
    "\n",
    "dates = pd.date_range(\"2023-01-01\", periods=5)\n",
    "print(dates)\n"
   ]
  },
  {
   "cell_type": "markdown",
   "metadata": {},
   "source": [
    "#### Viewing Data"
   ]
  },
  {
   "cell_type": "code",
   "execution_count": 4,
   "metadata": {},
   "outputs": [
    {
     "name": "stdout",
     "output_type": "stream",
     "text": [
      "   A  B\n",
      "0  1  3\n",
      "1  2  4\n",
      "   A  B\n",
      "1  2  4\n"
     ]
    }
   ],
   "source": [
    "## head() / tail(): View the first or last n rows of a DataFrame.\n",
    "\n",
    "print(df.head(2))\n",
    "print(df.tail(1))\n"
   ]
  },
  {
   "cell_type": "code",
   "execution_count": 5,
   "metadata": {},
   "outputs": [
    {
     "name": "stdout",
     "output_type": "stream",
     "text": [
      "RangeIndex(start=0, stop=2, step=1)\n",
      "Index(['A', 'B'], dtype='object')\n"
     ]
    }
   ],
   "source": [
    "## index / columns: Access the index and column labels.\n",
    "\n",
    "print(df.index)\n",
    "print(df.columns)\n"
   ]
  },
  {
   "cell_type": "code",
   "execution_count": 6,
   "metadata": {},
   "outputs": [
    {
     "name": "stdout",
     "output_type": "stream",
     "text": [
      "[[1 3]\n",
      " [2 4]]\n"
     ]
    }
   ],
   "source": [
    "## to_numpy(): Convert the DataFrame to a NumPy array.\n",
    "\n",
    "print(df.to_numpy())"
   ]
  },
  {
   "cell_type": "markdown",
   "metadata": {},
   "source": [
    "#### Descriptive Statistics"
   ]
  },
  {
   "cell_type": "code",
   "execution_count": 7,
   "metadata": {},
   "outputs": [
    {
     "name": "stdout",
     "output_type": "stream",
     "text": [
      "              A         B\n",
      "count  2.000000  2.000000\n",
      "mean   1.500000  3.500000\n",
      "std    0.707107  0.707107\n",
      "min    1.000000  3.000000\n",
      "25%    1.250000  3.250000\n",
      "50%    1.500000  3.500000\n",
      "75%    1.750000  3.750000\n",
      "max    2.000000  4.000000\n"
     ]
    }
   ],
   "source": [
    "## describe(): Get a statistical summary of numerical columns.\n",
    "\n",
    "print(df.describe())"
   ]
  },
  {
   "cell_type": "code",
   "execution_count": 8,
   "metadata": {},
   "outputs": [
    {
     "name": "stdout",
     "output_type": "stream",
     "text": [
      "A    1.5\n",
      "B    3.5\n",
      "dtype: float64\n",
      "A    3\n",
      "B    7\n",
      "dtype: int64\n"
     ]
    }
   ],
   "source": [
    "## mean() / sum(): Perform aggregation on numerical columns.\n",
    "\n",
    "print(df.mean())\n",
    "print(df.sum())"
   ]
  },
  {
   "cell_type": "markdown",
   "metadata": {},
   "source": [
    "#### Selection and Indexing"
   ]
  },
  {
   "cell_type": "code",
   "execution_count": 9,
   "metadata": {},
   "outputs": [
    {
     "name": "stdout",
     "output_type": "stream",
     "text": [
      "1\n",
      "1\n"
     ]
    }
   ],
   "source": [
    "## loc[] / iloc[]: Access data by label or integer position.\n",
    "\n",
    "print(df.loc[0, 'A'])\n",
    "print(df.iloc[0, 0])\n"
   ]
  },
  {
   "cell_type": "code",
   "execution_count": 10,
   "metadata": {},
   "outputs": [
    {
     "name": "stdout",
     "output_type": "stream",
     "text": [
      "1\n",
      "1\n"
     ]
    }
   ],
   "source": [
    "## at[] / iat[]: Fast access to a single value.\n",
    "print(df.at[0, 'A'])\n",
    "print(df.iat[0, 0])\n"
   ]
  },
  {
   "cell_type": "code",
   "execution_count": 11,
   "metadata": {},
   "outputs": [
    {
     "name": "stdout",
     "output_type": "stream",
     "text": [
      "   A  B\n",
      "1  2  4\n"
     ]
    }
   ],
   "source": [
    "## query(): Query the DataFrame using string expressions.\n",
    "filtered = df.query(\"A > 1\")\n",
    "print(filtered)\n"
   ]
  },
  {
   "cell_type": "code",
   "execution_count": 12,
   "metadata": {},
   "outputs": [
    {
     "name": "stdout",
     "output_type": "stream",
     "text": [
      "   A  B\n",
      "0  1  3\n",
      "1  2  4\n"
     ]
    }
   ],
   "source": [
    "## isin(): Filter rows based on membership.\n",
    "\n",
    "print(df[df['A'].isin([1, 2])])\n"
   ]
  },
  {
   "cell_type": "markdown",
   "metadata": {},
   "source": [
    "#### Handling Missing Data"
   ]
  },
  {
   "cell_type": "code",
   "execution_count": 13,
   "metadata": {},
   "outputs": [],
   "source": [
    "## dropna() / fillna(): Drop or fill missing values.\n",
    "\n",
    "df.dropna(inplace=True)\n",
    "df.fillna(0, inplace=True)\n"
   ]
  },
  {
   "cell_type": "code",
   "execution_count": 14,
   "metadata": {},
   "outputs": [
    {
     "name": "stdout",
     "output_type": "stream",
     "text": [
      "       A      B\n",
      "0  False  False\n",
      "1  False  False\n"
     ]
    }
   ],
   "source": [
    "## isna(): Identify missing values.\n",
    "\n",
    "print(df.isna())\n"
   ]
  },
  {
   "cell_type": "markdown",
   "metadata": {},
   "source": [
    "#### Data Manipulation"
   ]
  },
  {
   "cell_type": "code",
   "execution_count": 15,
   "metadata": {},
   "outputs": [
    {
     "name": "stdout",
     "output_type": "stream",
     "text": [
      "   A  B\n",
      "0  1  3\n",
      "1  2  4\n"
     ]
    }
   ],
   "source": [
    "## sort_values(): Sort rows by a column.\n",
    "\n",
    "df_sorted = df.sort_values(by='A')\n",
    "print(df_sorted)\n"
   ]
  },
  {
   "cell_type": "code",
   "execution_count": 16,
   "metadata": {},
   "outputs": [
    {
     "name": "stdout",
     "output_type": "stream",
     "text": [
      "   A  B  C\n",
      "0  1  3  1\n",
      "1  2  4  4\n"
     ]
    }
   ],
   "source": [
    "## apply(): Apply a function to each column or row.\n",
    "\n",
    "df['C'] = df['A'].apply(lambda x: x**2)\n",
    "print(df)\n"
   ]
  },
  {
   "cell_type": "code",
   "execution_count": 17,
   "metadata": {},
   "outputs": [
    {
     "name": "stdout",
     "output_type": "stream",
     "text": [
      "   B  C\n",
      "A      \n",
      "1  3  1\n",
      "2  4  4\n"
     ]
    }
   ],
   "source": [
    "## groupby(): Group data for aggregation.\n",
    "\n",
    "grouped = df.groupby('A').sum()\n",
    "print(grouped)\n"
   ]
  },
  {
   "cell_type": "markdown",
   "metadata": {},
   "source": [
    "#### Reshaping and Pivoting"
   ]
  },
  {
   "cell_type": "code",
   "execution_count": 18,
   "metadata": {},
   "outputs": [
    {
     "name": "stdout",
     "output_type": "stream",
     "text": [
      "B    3    4\n",
      "A          \n",
      "1  1.0  NaN\n",
      "2  NaN  4.0\n"
     ]
    }
   ],
   "source": [
    "## pivot() / pivot_table(): Reshape data based on column values.\n",
    "pivoted = df.pivot(index='A', columns='B', values='C')\n",
    "print(pivoted)\n"
   ]
  },
  {
   "cell_type": "code",
   "execution_count": 19,
   "metadata": {},
   "outputs": [
    {
     "name": "stdout",
     "output_type": "stream",
     "text": [
      "   A variable  value\n",
      "0  1        B      3\n",
      "1  2        B      4\n",
      "2  1        C      1\n",
      "3  2        C      4\n"
     ]
    }
   ],
   "source": [
    "## melt(): Transform wide data to long format.\n",
    "melted = df.melt(id_vars='A', value_vars=['B', 'C'])\n",
    "print(melted)\n"
   ]
  },
  {
   "cell_type": "code",
   "execution_count": 20,
   "metadata": {},
   "outputs": [],
   "source": [
    "## stack() / unstack(): Stack or unstack a DataFrame.\n",
    "stacked = df.stack()\n",
    "unstacked = stacked.unstack()\n"
   ]
  },
  {
   "cell_type": "markdown",
   "metadata": {},
   "source": [
    "#### Time Series"
   ]
  },
  {
   "cell_type": "code",
   "execution_count": 21,
   "metadata": {},
   "outputs": [
    {
     "name": "stdout",
     "output_type": "stream",
     "text": [
      "2023-01-01    1\n",
      "2023-01-03    5\n",
      "2023-01-05    9\n",
      "Freq: 2D, dtype: int64\n"
     ]
    }
   ],
   "source": [
    "## resample(): Aggregate data based on a new frequency.\n",
    "\n",
    "ts = pd.Series(range(6), index=pd.date_range(\"2023-01-01\", periods=6))\n",
    "resampled = ts.resample('2D').sum()\n",
    "print(resampled)\n"
   ]
  },
  {
   "cell_type": "code",
   "execution_count": 22,
   "metadata": {},
   "outputs": [
    {
     "name": "stdout",
     "output_type": "stream",
     "text": [
      "2022-12-31 19:00:00-05:00    0\n",
      "2023-01-01 19:00:00-05:00    1\n",
      "2023-01-02 19:00:00-05:00    2\n",
      "2023-01-03 19:00:00-05:00    3\n",
      "2023-01-04 19:00:00-05:00    4\n",
      "2023-01-05 19:00:00-05:00    5\n",
      "Freq: D, dtype: int64\n"
     ]
    }
   ],
   "source": [
    "## tz_localize() / tz_convert(): Manage time zones.\n",
    "\n",
    "ts = ts.tz_localize('UTC').tz_convert('US/Eastern')\n",
    "print(ts)\n"
   ]
  },
  {
   "cell_type": "markdown",
   "metadata": {},
   "source": [
    "#### Visualization"
   ]
  },
  {
   "cell_type": "code",
   "execution_count": 23,
   "metadata": {},
   "outputs": [
    {
     "data": {
      "text/plain": [
       "<Axes: >"
      ]
     },
     "execution_count": 23,
     "metadata": {},
     "output_type": "execute_result"
    },
    {
     "data": {
      "image/png": "[encoded data removed]",
      "text/plain": [
       "<Figure size 640x480 with 1 Axes>"
      ]
     },
     "metadata": {},
     "output_type": "display_data"
    }
   ],
   "source": [
    "## plot(): Create basic visualizations.\n",
    "\n",
    "df.plot(kind='line')\n"
   ]
  },
  {
   "cell_type": "code",
   "execution_count": null,
   "metadata": {},
   "outputs": [],
   "source": []
  }
 ],
 "metadata": {
  "kernelspec": {
   "display_name": "venv",
   "language": "python",
   "name": "python3"
  },
  "language_info": {
   "codemirror_mode": {
    "name": "ipython",
    "version": 3
   },
   "file_extension": ".py",
   "mimetype": "text/x-python",
   "name": "python",
   "nbconvert_exporter": "python",
   "pygments_lexer": "ipython3",
   "version": "3.13.2"
  }
 },
 "nbformat": 4,
 "nbformat_minor": 2
}
