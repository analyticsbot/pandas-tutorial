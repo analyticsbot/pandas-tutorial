{
 "cells": [
  {
   "cell_type": "markdown",
   "metadata": {},
   "source": [
    "#### Pandas Part 85: DateOffset Aliases\n",
    "\n",
    "This notebook explores DateOffset aliases in pandas, which provide convenient shortcuts for commonly used DateOffset classes."
   ]
  },
  {
   "cell_type": "code",
   "execution_count": 1,
   "metadata": {},
   "outputs": [],
   "source": [
    "import pandas as pd\n",
    "import numpy as np\n",
    "from datetime import datetime, time, timedelta\n",
    "from pandas.tseries.offsets import (\n",
    "    BDay, BMonthEnd, BMonthBegin,\n",
    "    BQuarterEnd, BQuarterBegin,\n",
    "    BYearEnd, BYearBegin\n",
    ")"
   ]
  },
  {
   "cell_type": "markdown",
   "metadata": {},
   "source": [
    "##### 1. Introduction to DateOffset Aliases\n",
    "\n",
    "DateOffset aliases are shorthand strings that represent specific DateOffset classes. These aliases make it easier to specify frequency strings in pandas time series functions like `date_range()`, `resample()`, and `asfreq()`."
   ]
  },
  {
   "cell_type": "code",
   "execution_count": 2,
   "metadata": {},
   "outputs": [
    {
     "name": "stdout",
     "output_type": "stream",
     "text": [
      "Common DateOffset Aliases:\n",
      "B: business day frequency (weekdays)\n",
      "D: calendar day frequency\n",
      "W: weekly frequency\n",
      "M: month end frequency\n",
      "BM: business month end frequency\n",
      "MS: month start frequency\n",
      "BMS: business month start frequency\n",
      "Q: quarter end frequency\n",
      "BQ: business quarter end frequency\n",
      "QS: quarter start frequency\n",
      "BQS: business quarter start frequency\n",
      "A: year end frequency\n",
      "BA: business year end frequency\n",
      "AS: year start frequency\n",
      "BAS: business year start frequency\n",
      "H: hourly frequency\n",
      "T: minutely frequency\n",
      "S: secondly frequency\n",
      "L: milliseconds\n",
      "U: microseconds\n",
      "N: nanoseconds\n"
     ]
    }
   ],
   "source": [
    "# Display some common DateOffset aliases\n",
    "aliases = {\n",
    "    'B': 'business day frequency (weekdays)',\n",
    "    'D': 'calendar day frequency',\n",
    "    'W': 'weekly frequency',\n",
    "    'M': 'month end frequency',\n",
    "    'BM': 'business month end frequency',\n",
    "    'MS': 'month start frequency',\n",
    "    'BMS': 'business month start frequency',\n",
    "    'Q': 'quarter end frequency',\n",
    "    'BQ': 'business quarter end frequency',\n",
    "    'QS': 'quarter start frequency',\n",
    "    'BQS': 'business quarter start frequency',\n",
    "    'A': 'year end frequency',\n",
    "    'BA': 'business year end frequency',\n",
    "    'AS': 'year start frequency',\n",
    "    'BAS': 'business year start frequency',\n",
    "    'H': 'hourly frequency',\n",
    "    'T': 'minutely frequency',\n",
    "    'S': 'secondly frequency',\n",
    "    'L': 'milliseconds',\n",
    "    'U': 'microseconds',\n",
    "    'N': 'nanoseconds'\n",
    "}\n",
    "\n",
    "print(\"Common DateOffset Aliases:\")\n",
    "for alias, description in aliases.items():\n",
    "    print(f\"{alias}: {description}\")"
   ]
  },
  {
   "cell_type": "markdown",
   "metadata": {},
   "source": [
    "##### 2. Business Day Alias (B)\n",
    "\n",
    "The `B` alias represents business days (weekdays). It is an alias for the `BDay` class."
   ]
  },
  {
   "cell_type": "code",
   "execution_count": 3,
   "metadata": {},
   "outputs": [
    {
     "name": "stdout",
     "output_type": "stream",
     "text": [
      "BDay: <BusinessDay>\n",
      "Original datetime: 2023-01-01 00:00:00 (Sunday)\n",
      "After adding 1 business day: 2023-01-02 00:00:00 (Monday)\n",
      "\n",
      "Date range with business day frequency (B):\n",
      "2023-01-02 00:00:00 (Monday)\n",
      "2023-01-03 00:00:00 (Tuesday)\n",
      "2023-01-04 00:00:00 (Wednesday)\n",
      "2023-01-05 00:00:00 (Thursday)\n",
      "2023-01-06 00:00:00 (Friday)\n"
     ]
    }
   ],
   "source": [
    "# Create a BDay offset\n",
    "bday = BDay()\n",
    "print(f\"BDay: {bday}\")\n",
    "\n",
    "# Apply to a datetime\n",
    "dt = datetime(2023, 1, 1)  # Sunday\n",
    "print(f\"Original datetime: {dt} ({dt.strftime('%A')})\")\n",
    "print(f\"After adding 1 business day: {dt + bday} ({(dt + bday).strftime('%A')})\")\n",
    "\n",
    "# Create a date range with business day frequency using the 'B' alias\n",
    "dates = pd.date_range(start='2023-01-01', periods=5, freq='B')\n",
    "print(f\"\\nDate range with business day frequency (B):\")\n",
    "for date in dates:\n",
    "    print(f\"{date} ({date.strftime('%A')})\")"
   ]
  },
  {
   "cell_type": "code",
   "execution_count": 4,
   "metadata": {},
   "outputs": [
    {
     "name": "stdout",
     "output_type": "stream",
     "text": [
      "Date range with 2 business days frequency (2B):\n",
      "2023-01-02 00:00:00 (Monday)\n",
      "2023-01-04 00:00:00 (Wednesday)\n",
      "2023-01-06 00:00:00 (Friday)\n",
      "2023-01-10 00:00:00 (Tuesday)\n",
      "2023-01-12 00:00:00 (Thursday)\n"
     ]
    }
   ],
   "source": [
    "# Create a date range with 2 business days frequency\n",
    "dates = pd.date_range(start='2023-01-01', periods=5, freq='2B')\n",
    "print(f\"Date range with 2 business days frequency (2B):\")\n",
    "for date in dates:\n",
    "    print(f\"{date} ({date.strftime('%A')})\")"
   ]
  },
  {
   "cell_type": "markdown",
   "metadata": {},
   "source": [
    "##### 3. Business Month Aliases (BM and BMS)\n",
    "\n",
    "The `BM` alias represents business month end, and `BMS` represents business month start. They are aliases for the `BMonthEnd` and `BMonthBegin` classes, respectively."
   ]
  },
  {
   "cell_type": "code",
   "execution_count": 5,
   "metadata": {},
   "outputs": [
    {
     "name": "stdout",
     "output_type": "stream",
     "text": [
      "BMonthEnd: <BusinessMonthEnd>\n",
      "BMonthBegin: <BusinessMonthBegin>\n",
      "\n",
      "Original datetime: 2023-01-15 00:00:00\n",
      "After adding BMonthEnd: 2023-01-31 00:00:00\n",
      "After adding BMonthBegin: 2023-02-01 00:00:00\n",
      "\n",
      "Date range with business month end frequency (BM):\n",
      "2023-01-31 00:00:00 (Tuesday)\n",
      "2023-02-28 00:00:00 (Tuesday)\n",
      "2023-03-31 00:00:00 (Friday)\n",
      "2023-04-28 00:00:00 (Friday)\n",
      "2023-05-31 00:00:00 (Wednesday)\n",
      "\n",
      "Date range with business month start frequency (BMS):\n",
      "2023-02-01 00:00:00 (Wednesday)\n",
      "2023-03-01 00:00:00 (Wednesday)\n",
      "2023-04-03 00:00:00 (Monday)\n",
      "2023-05-01 00:00:00 (Monday)\n",
      "2023-06-01 00:00:00 (Thursday)\n"
     ]
    },
    {
     "name": "stderr",
     "output_type": "stream",
     "text": [
      "/var/folders/7y/fzwln1_93mn3js3wyk61_6xm0000gn/T/ipykernel_92024/3811488733.py:14: FutureWarning: 'BM' is deprecated and will be removed in a future version, please use 'BME' instead.\n",
      "  dates_bm = pd.date_range(start='2023-01-15', periods=5, freq='BM')\n"
     ]
    }
   ],
   "source": [
    "# Create BMonthEnd and BMonthBegin offsets\n",
    "bmonth_end = BMonthEnd()\n",
    "bmonth_begin = BMonthBegin()\n",
    "print(f\"BMonthEnd: {bmonth_end}\")\n",
    "print(f\"BMonthBegin: {bmonth_begin}\")\n",
    "\n",
    "# Apply to a datetime\n",
    "dt = datetime(2023, 1, 15)  # Middle of the month\n",
    "print(f\"\\nOriginal datetime: {dt}\")\n",
    "print(f\"After adding BMonthEnd: {dt + bmonth_end}\")\n",
    "print(f\"After adding BMonthBegin: {dt + bmonth_begin}\")\n",
    "\n",
    "# Create date ranges with business month frequency using aliases\n",
    "dates_bm = pd.date_range(start='2023-01-15', periods=5, freq='BM')\n",
    "print(f\"\\nDate range with business month end frequency (BM):\")\n",
    "for date in dates_bm:\n",
    "    print(f\"{date} ({date.strftime('%A')})\")\n",
    "\n",
    "dates_bms = pd.date_range(start='2023-01-15', periods=5, freq='BMS')\n",
    "print(f\"\\nDate range with business month start frequency (BMS):\")\n",
    "for date in dates_bms:\n",
    "    print(f\"{date} ({date.strftime('%A')})\")"
   ]
  },
  {
   "cell_type": "markdown",
   "metadata": {},
   "source": [
    "##### 4. Business Quarter Aliases (BQ and BQS)\n",
    "\n",
    "The `BQ` alias represents business quarter end, and `BQS` represents business quarter start. They are aliases for the `BQuarterEnd` and `BQuarterBegin` classes, respectively."
   ]
  },
  {
   "cell_type": "code",
   "execution_count": 6,
   "metadata": {},
   "outputs": [
    {
     "name": "stdout",
     "output_type": "stream",
     "text": [
      "BQuarterEnd: <BusinessQuarterEnd: startingMonth=3>\n",
      "BQuarterBegin: <BusinessQuarterBegin: startingMonth=3>\n",
      "\n",
      "Original datetime: 2023-02-15 00:00:00\n",
      "After adding BQuarterEnd: 2023-03-31 00:00:00\n",
      "After adding BQuarterBegin: 2023-03-01 00:00:00\n",
      "\n",
      "Date range with business quarter end frequency (BQ):\n",
      "2023-03-31 00:00:00 (Friday)\n",
      "2023-06-30 00:00:00 (Friday)\n",
      "2023-09-29 00:00:00 (Friday)\n",
      "2023-12-29 00:00:00 (Friday)\n",
      "\n",
      "Date range with business quarter start frequency (BQS):\n",
      "2023-04-03 00:00:00 (Monday)\n",
      "2023-07-03 00:00:00 (Monday)\n",
      "2023-10-02 00:00:00 (Monday)\n",
      "2024-01-01 00:00:00 (Monday)\n"
     ]
    },
    {
     "name": "stderr",
     "output_type": "stream",
     "text": [
      "/var/folders/7y/fzwln1_93mn3js3wyk61_6xm0000gn/T/ipykernel_92024/3440747895.py:14: FutureWarning: 'BQ' is deprecated and will be removed in a future version, please use 'BQE' instead.\n",
      "  dates_bq = pd.date_range(start='2023-01-15', periods=4, freq='BQ')\n"
     ]
    }
   ],
   "source": [
    "# Create BQuarterEnd and BQuarterBegin offsets\n",
    "bquarter_end = BQuarterEnd()\n",
    "bquarter_begin = BQuarterBegin()\n",
    "print(f\"BQuarterEnd: {bquarter_end}\")\n",
    "print(f\"BQuarterBegin: {bquarter_begin}\")\n",
    "\n",
    "# Apply to a datetime\n",
    "dt = datetime(2023, 2, 15)  # Middle of Q1\n",
    "print(f\"\\nOriginal datetime: {dt}\")\n",
    "print(f\"After adding BQuarterEnd: {dt + bquarter_end}\")\n",
    "print(f\"After adding BQuarterBegin: {dt + bquarter_begin}\")\n",
    "\n",
    "# Create date ranges with business quarter frequency using aliases\n",
    "dates_bq = pd.date_range(start='2023-01-15', periods=4, freq='BQ')\n",
    "print(f\"\\nDate range with business quarter end frequency (BQ):\")\n",
    "for date in dates_bq:\n",
    "    print(f\"{date} ({date.strftime('%A')})\")\n",
    "\n",
    "dates_bqs = pd.date_range(start='2023-01-15', periods=4, freq='BQS')\n",
    "print(f\"\\nDate range with business quarter start frequency (BQS):\")\n",
    "for date in dates_bqs:\n",
    "    print(f\"{date} ({date.strftime('%A')})\")"
   ]
  },
  {
   "cell_type": "markdown",
   "metadata": {},
   "source": [
    "##### 5. Business Year Aliases (BA and BAS)\n",
    "\n",
    "The `BA` alias represents business year end, and `BAS` represents business year start. They are aliases for the `BYearEnd` and `BYearBegin` classes, respectively."
   ]
  },
  {
   "cell_type": "code",
   "execution_count": 7,
   "metadata": {},
   "outputs": [
    {
     "name": "stdout",
     "output_type": "stream",
     "text": [
      "BYearEnd: <BYearEnd: month=12>\n",
      "BYearBegin: <BYearBegin: month=1>\n",
      "\n",
      "Original datetime: 2023-06-15 00:00:00\n",
      "After adding BYearEnd: 2023-12-29 00:00:00\n",
      "After adding BYearBegin: 2024-01-01 00:00:00\n",
      "\n",
      "Date range with business year end frequency (BA):\n",
      "2020-12-31 00:00:00 (Thursday)\n",
      "2021-12-31 00:00:00 (Friday)\n",
      "2022-12-30 00:00:00 (Friday)\n",
      "\n",
      "Date range with business year start frequency (BAS):\n",
      "2021-01-01 00:00:00 (Friday)\n",
      "2022-01-03 00:00:00 (Monday)\n",
      "2023-01-02 00:00:00 (Monday)\n"
     ]
    },
    {
     "name": "stderr",
     "output_type": "stream",
     "text": [
      "/var/folders/7y/fzwln1_93mn3js3wyk61_6xm0000gn/T/ipykernel_92024/478158721.py:14: FutureWarning: 'BA' is deprecated and will be removed in a future version, please use 'BYE' instead.\n",
      "  dates_ba = pd.date_range(start='2020-06-15', periods=3, freq='BA')\n",
      "/var/folders/7y/fzwln1_93mn3js3wyk61_6xm0000gn/T/ipykernel_92024/478158721.py:19: FutureWarning: 'BAS' is deprecated and will be removed in a future version, please use 'BYS' instead.\n",
      "  dates_bas = pd.date_range(start='2020-06-15', periods=3, freq='BAS')\n"
     ]
    }
   ],
   "source": [
    "# Create BYearEnd and BYearBegin offsets\n",
    "byear_end = BYearEnd()\n",
    "byear_begin = BYearBegin()\n",
    "print(f\"BYearEnd: {byear_end}\")\n",
    "print(f\"BYearBegin: {byear_begin}\")\n",
    "\n",
    "# Apply to a datetime\n",
    "dt = datetime(2023, 6, 15)  # Middle of the year\n",
    "print(f\"\\nOriginal datetime: {dt}\")\n",
    "print(f\"After adding BYearEnd: {dt + byear_end}\")\n",
    "print(f\"After adding BYearBegin: {dt + byear_begin}\")\n",
    "\n",
    "# Create date ranges with business year frequency using aliases\n",
    "dates_ba = pd.date_range(start='2020-06-15', periods=3, freq='BA')\n",
    "print(f\"\\nDate range with business year end frequency (BA):\")\n",
    "for date in dates_ba:\n",
    "    print(f\"{date} ({date.strftime('%A')})\")\n",
    "\n",
    "dates_bas = pd.date_range(start='2020-06-15', periods=3, freq='BAS')\n",
    "print(f\"\\nDate range with business year start frequency (BAS):\")\n",
    "for date in dates_bas:\n",
    "    print(f\"{date} ({date.strftime('%A')})\")"
   ]
  },
  {
   "cell_type": "markdown",
   "metadata": {},
   "source": [
    "##### 6. Time-Based Aliases (H, T, S, L, U, N)\n",
    "\n",
    "Pandas provides aliases for time-based DateOffset classes:\n",
    "- `H`: Hour\n",
    "- `T`: Minute (T stands for \"time\")\n",
    "- `S`: Second\n",
    "- `L`: Millisecond\n",
    "- `U`: Microsecond\n",
    "- `N`: Nanosecond"
   ]
  },
  {
   "cell_type": "code",
   "execution_count": 8,
   "metadata": {},
   "outputs": [
    {
     "name": "stdout",
     "output_type": "stream",
     "text": [
      "Date range with hourly frequency (H):\n",
      "2023-01-01 12:00:00\n",
      "2023-01-01 13:00:00\n",
      "2023-01-01 14:00:00\n",
      "2023-01-01 15:00:00\n",
      "2023-01-01 16:00:00\n",
      "\n",
      "Date range with minutely frequency (T):\n",
      "2023-01-01 12:00:00\n",
      "2023-01-01 12:01:00\n",
      "2023-01-01 12:02:00\n",
      "2023-01-01 12:03:00\n",
      "2023-01-01 12:04:00\n",
      "\n",
      "Date range with secondly frequency (S):\n",
      "2023-01-01 12:00:00\n",
      "2023-01-01 12:00:01\n",
      "2023-01-01 12:00:02\n",
      "2023-01-01 12:00:03\n",
      "2023-01-01 12:00:04\n",
      "\n",
      "Date range with millisecond frequency (L):\n",
      "2023-01-01 12:00:00\n",
      "2023-01-01 12:00:00.001000\n",
      "2023-01-01 12:00:00.002000\n",
      "2023-01-01 12:00:00.003000\n",
      "2023-01-01 12:00:00.004000\n"
     ]
    },
    {
     "name": "stderr",
     "output_type": "stream",
     "text": [
      "/var/folders/7y/fzwln1_93mn3js3wyk61_6xm0000gn/T/ipykernel_92024/96092646.py:5: FutureWarning: 'H' is deprecated and will be removed in a future version, please use 'h' instead.\n",
      "  dates_h = pd.date_range(start=dt, periods=5, freq='H')\n",
      "/var/folders/7y/fzwln1_93mn3js3wyk61_6xm0000gn/T/ipykernel_92024/96092646.py:11: FutureWarning: 'T' is deprecated and will be removed in a future version, please use 'min' instead.\n",
      "  dates_t = pd.date_range(start=dt, periods=5, freq='T')\n",
      "/var/folders/7y/fzwln1_93mn3js3wyk61_6xm0000gn/T/ipykernel_92024/96092646.py:17: FutureWarning: 'S' is deprecated and will be removed in a future version, please use 's' instead.\n",
      "  dates_s = pd.date_range(start=dt, periods=5, freq='S')\n",
      "/var/folders/7y/fzwln1_93mn3js3wyk61_6xm0000gn/T/ipykernel_92024/96092646.py:23: FutureWarning: 'L' is deprecated and will be removed in a future version, please use 'ms' instead.\n",
      "  dates_l = pd.date_range(start=dt, periods=5, freq='L')\n"
     ]
    }
   ],
   "source": [
    "# Create date ranges with time-based frequency using aliases\n",
    "dt = datetime(2023, 1, 1, 12, 0, 0)\n",
    "\n",
    "# Hourly frequency\n",
    "dates_h = pd.date_range(start=dt, periods=5, freq='H')\n",
    "print(f\"Date range with hourly frequency (H):\")\n",
    "for date in dates_h:\n",
    "    print(f\"{date}\")\n",
    "\n",
    "# Minutely frequency\n",
    "dates_t = pd.date_range(start=dt, periods=5, freq='T')\n",
    "print(f\"\\nDate range with minutely frequency (T):\")\n",
    "for date in dates_t:\n",
    "    print(f\"{date}\")\n",
    "\n",
    "# Secondly frequency\n",
    "dates_s = pd.date_range(start=dt, periods=5, freq='S')\n",
    "print(f\"\\nDate range with secondly frequency (S):\")\n",
    "for date in dates_s:\n",
    "    print(f\"{date}\")\n",
    "\n",
    "# Millisecond frequency\n",
    "dates_l = pd.date_range(start=dt, periods=5, freq='L')\n",
    "print(f\"\\nDate range with millisecond frequency (L):\")\n",
    "for date in dates_l:\n",
    "    print(f\"{date}\")"
   ]
  },
  {
   "cell_type": "markdown",
   "metadata": {},
   "source": [
    "##### 7. Calendar Day vs. Business Day Aliases\n",
    "\n",
    "It's important to understand the difference between calendar day and business day aliases."
   ]
  },
  {
   "cell_type": "code",
   "execution_count": 9,
   "metadata": {},
   "outputs": [
    {
     "name": "stdout",
     "output_type": "stream",
     "text": [
      "Date range with calendar day frequency (D):\n",
      "2023-01-01 00:00:00 (Sunday)\n",
      "2023-01-02 00:00:00 (Monday)\n",
      "2023-01-03 00:00:00 (Tuesday)\n",
      "2023-01-04 00:00:00 (Wednesday)\n",
      "2023-01-05 00:00:00 (Thursday)\n",
      "2023-01-06 00:00:00 (Friday)\n",
      "2023-01-07 00:00:00 (Saturday)\n",
      "2023-01-08 00:00:00 (Sunday)\n",
      "2023-01-09 00:00:00 (Monday)\n",
      "2023-01-10 00:00:00 (Tuesday)\n",
      "\n",
      "Date range with business day frequency (B):\n",
      "2023-01-02 00:00:00 (Monday)\n",
      "2023-01-03 00:00:00 (Tuesday)\n",
      "2023-01-04 00:00:00 (Wednesday)\n",
      "2023-01-05 00:00:00 (Thursday)\n",
      "2023-01-06 00:00:00 (Friday)\n",
      "2023-01-09 00:00:00 (Monday)\n",
      "2023-01-10 00:00:00 (Tuesday)\n"
     ]
    }
   ],
   "source": [
    "# Calendar day frequency (D)\n",
    "dates_d = pd.date_range(start='2023-01-01', periods=10, freq='D')\n",
    "print(f\"Date range with calendar day frequency (D):\")\n",
    "for date in dates_d:\n",
    "    print(f\"{date} ({date.strftime('%A')})\")\n",
    "\n",
    "# Business day frequency (B)\n",
    "dates_b = pd.date_range(start='2023-01-01', periods=7, freq='B')\n",
    "print(f\"\\nDate range with business day frequency (B):\")\n",
    "for date in dates_b:\n",
    "    print(f\"{date} ({date.strftime('%A')})\")"
   ]
  },
  {
   "cell_type": "markdown",
   "metadata": {},
   "source": [
    "##### 8. Using Aliases in Time Series Analysis"
   ]
  },
  {
   "cell_type": "code",
   "execution_count": 10,
   "metadata": {},
   "outputs": [
    {
     "name": "stdout",
     "output_type": "stream",
     "text": [
      "Time series with daily data:\n",
      "2023-01-01   -0.226162\n",
      "2023-01-02   -0.583318\n",
      "2023-01-03    1.403182\n",
      "2023-01-04    0.834199\n",
      "2023-01-05    0.119789\n",
      "Freq: D, dtype: float64\n",
      "\n",
      "Resampled to business day frequency (B):\n",
      "2022-12-30   -0.226162\n",
      "2023-01-02   -0.583318\n",
      "2023-01-03    1.403182\n",
      "2023-01-04    0.834199\n",
      "2023-01-05    0.119789\n",
      "Freq: B, dtype: float64\n",
      "\n",
      "Resampled to weekly frequency (W):\n",
      "2023-01-01   -0.226162\n",
      "2023-01-08    0.263532\n",
      "2023-01-15    0.373402\n",
      "2023-01-22    0.217045\n",
      "2023-01-29    0.044548\n",
      "Freq: W-SUN, dtype: float64\n",
      "\n",
      "Resampled to monthly frequency (M):\n",
      "2023-01-31    0.212445\n",
      "Freq: ME, dtype: float64\n"
     ]
    },
    {
     "name": "stderr",
     "output_type": "stream",
     "text": [
      "/var/folders/7y/fzwln1_93mn3js3wyk61_6xm0000gn/T/ipykernel_92024/3813490281.py:19: FutureWarning: 'M' is deprecated and will be removed in a future version, please use 'ME' instead.\n",
      "  ts_m = ts.resample('M').mean()\n"
     ]
    }
   ],
   "source": [
    "# Create a time series with daily data\n",
    "dates = pd.date_range(start='2023-01-01', periods=30, freq='D')\n",
    "values = np.random.randn(30)\n",
    "ts = pd.Series(values, index=dates)\n",
    "print(f\"Time series with daily data:\")\n",
    "print(ts.head())\n",
    "\n",
    "# Resample to business day frequency\n",
    "ts_b = ts.resample('B').mean()\n",
    "print(f\"\\nResampled to business day frequency (B):\")\n",
    "print(ts_b.head())\n",
    "\n",
    "# Resample to weekly frequency\n",
    "ts_w = ts.resample('W').mean()\n",
    "print(f\"\\nResampled to weekly frequency (W):\")\n",
    "print(ts_w.head())\n",
    "\n",
    "# Resample to monthly frequency\n",
    "ts_m = ts.resample('M').mean()\n",
    "print(f\"\\nResampled to monthly frequency (M):\")\n",
    "print(ts_m.head())"
   ]
  },
  {
   "cell_type": "markdown",
   "metadata": {},
   "source": [
    "##### 9. Combining Aliases with Multipliers"
   ]
  },
  {
   "cell_type": "code",
   "execution_count": 11,
   "metadata": {},
   "outputs": [
    {
     "name": "stdout",
     "output_type": "stream",
     "text": [
      "Date range with 2 business days frequency (2B):\n",
      "2023-01-02 00:00:00 (Monday)\n",
      "2023-01-04 00:00:00 (Wednesday)\n",
      "2023-01-06 00:00:00 (Friday)\n",
      "2023-01-10 00:00:00 (Tuesday)\n",
      "2023-01-12 00:00:00 (Thursday)\n",
      "\n",
      "Date range with 3 hours frequency (3H):\n",
      "2023-01-01 00:00:00\n",
      "2023-01-01 03:00:00\n",
      "2023-01-01 06:00:00\n",
      "2023-01-01 09:00:00\n",
      "2023-01-01 12:00:00\n",
      "\n",
      "Date range with 15 minutes frequency (15T):\n",
      "2023-01-01 00:00:00\n",
      "2023-01-01 00:15:00\n",
      "2023-01-01 00:30:00\n",
      "2023-01-01 00:45:00\n",
      "2023-01-01 01:00:00\n"
     ]
    },
    {
     "name": "stderr",
     "output_type": "stream",
     "text": [
      "/var/folders/7y/fzwln1_93mn3js3wyk61_6xm0000gn/T/ipykernel_92024/2325480171.py:9: FutureWarning: 'H' is deprecated and will be removed in a future version, please use 'h' instead.\n",
      "  dates_3h = pd.date_range(start='2023-01-01 00:00', periods=5, freq='3H')\n",
      "/var/folders/7y/fzwln1_93mn3js3wyk61_6xm0000gn/T/ipykernel_92024/2325480171.py:15: FutureWarning: 'T' is deprecated and will be removed in a future version, please use 'min' instead.\n",
      "  dates_15t = pd.date_range(start='2023-01-01 00:00', periods=5, freq='15T')\n"
     ]
    }
   ],
   "source": [
    "# Create date ranges with multipliers\n",
    "# 2 business days\n",
    "dates_2b = pd.date_range(start='2023-01-01', periods=5, freq='2B')\n",
    "print(f\"Date range with 2 business days frequency (2B):\")\n",
    "for date in dates_2b:\n",
    "    print(f\"{date} ({date.strftime('%A')})\")\n",
    "\n",
    "# 3 hours\n",
    "dates_3h = pd.date_range(start='2023-01-01 00:00', periods=5, freq='3H')\n",
    "print(f\"\\nDate range with 3 hours frequency (3H):\")\n",
    "for date in dates_3h:\n",
    "    print(f\"{date}\")\n",
    "\n",
    "# 15 minutes\n",
    "dates_15t = pd.date_range(start='2023-01-01 00:00', periods=5, freq='15T')\n",
    "print(f\"\\nDate range with 15 minutes frequency (15T):\")\n",
    "for date in dates_15t:\n",
    "    print(f\"{date}\")"
   ]
  },
  {
   "cell_type": "markdown",
   "metadata": {},
   "source": [
    "##### 10. Using Aliases with asfreq() Method"
   ]
  },
  {
   "cell_type": "code",
   "execution_count": 12,
   "metadata": {},
   "outputs": [
    {
     "name": "stdout",
     "output_type": "stream",
     "text": [
      "Time series with daily data:\n",
      "2023-01-01   -0.329065\n",
      "2023-01-02   -0.699027\n",
      "2023-01-03   -0.243415\n",
      "2023-01-04    1.061025\n",
      "2023-01-05    2.060354\n",
      "2023-01-06    0.121644\n",
      "2023-01-07    0.885435\n",
      "2023-01-08   -0.680722\n",
      "2023-01-09    0.881148\n",
      "2023-01-10    0.324018\n",
      "Freq: D, dtype: float64\n",
      "\n",
      "Converted to business day frequency (B):\n",
      "2023-01-02   -0.699027\n",
      "2023-01-03   -0.243415\n",
      "2023-01-04    1.061025\n",
      "2023-01-05    2.060354\n",
      "2023-01-06    0.121644\n",
      "2023-01-09    0.881148\n",
      "2023-01-10    0.324018\n",
      "Freq: B, dtype: float64\n",
      "\n",
      "Converted to business day frequency (B) with forward filling:\n",
      "2023-01-02   -0.699027\n",
      "2023-01-03   -0.243415\n",
      "2023-01-04    1.061025\n",
      "2023-01-05    2.060354\n",
      "2023-01-06    0.121644\n",
      "2023-01-09    0.881148\n",
      "2023-01-10    0.324018\n",
      "Freq: B, dtype: float64\n"
     ]
    }
   ],
   "source": [
    "# Create a time series with daily data\n",
    "dates = pd.date_range(start='2023-01-01', periods=10, freq='D')\n",
    "values = np.random.randn(10)\n",
    "ts = pd.Series(values, index=dates)\n",
    "print(f\"Time series with daily data:\")\n",
    "print(ts)\n",
    "\n",
    "# Convert to business day frequency\n",
    "ts_b = ts.asfreq('B')\n",
    "print(f\"\\nConverted to business day frequency (B):\")\n",
    "print(ts_b)\n",
    "\n",
    "# Convert to business day frequency with forward filling\n",
    "ts_b_ffill = ts.asfreq('B', method='ffill')\n",
    "print(f\"\\nConverted to business day frequency (B) with forward filling:\")\n",
    "print(ts_b_ffill)"
   ]
  }
 ],
 "metadata": {
  "kernelspec": {
   "display_name": "venv",
   "language": "python",
   "name": "python3"
  },
  "language_info": {
   "codemirror_mode": {
    "name": "ipython",
    "version": 3
   },
   "file_extension": ".py",
   "mimetype": "text/x-python",
   "name": "python",
   "nbconvert_exporter": "python",
   "pygments_lexer": "ipython3",
   "version": "3.13.2"
  }
 },
 "nbformat": 4,
 "nbformat_minor": 4
}
