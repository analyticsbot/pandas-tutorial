{
 "cells": [
  {
   "cell_type": "markdown",
   "metadata": {},
   "source": [
    "# Part 30: Advanced GroupBy and Time Series Operations\n",
    "\n",
    "In this notebook, we'll explore:\n",
    "- Grouping with ordered factors\n",
    "- Using pd.Grouper for time-based grouping\n",
    "- Taking specific rows from each group\n",
    "- Time series partial string indexing\n",
    "\n",
    "## Setup\n",
    "First, let's import the necessary libraries:"
   ]
  },
  {
   "cell_type": "code",
   "execution_count": null,
   "metadata": {},
   "outputs": [],
   "source": [
    "import pandas as pd\n",
    "import numpy as np\n",
    "import matplotlib.pyplot as plt\n",
    "import datetime\n",
    "\n",
    "# Set the plotting style\n",
    "plt.style.use('ggplot')\n",
    "\n",
    "# Make plots appear in the notebook\n",
    "%matplotlib inline"
   ]
  },
  {
   "cell_type": "markdown",
   "metadata": {},
   "source": [
    "## 1. Grouping with Ordered Factors\n",
    "\n",
    "Categorical variables represented as instances of pandas's Categorical class can be used as group keys. If so, the order of the levels will be preserved:"
   ]
  },
  {
   "cell_type": "code",
   "execution_count": null,
   "metadata": {},
   "outputs": [],
   "source": [
    "# Create a Series of random data\n",
    "data = pd.Series(np.random.randn(100))\n",
    "\n",
    "# Create quartiles as an ordered categorical\n",
    "factor = pd.qcut(data, [0, .25, .5, .75, 1.])\n",
    "\n",
    "# Group by the factor and compute the mean\n",
    "data.groupby(factor).mean()"
   ]
  },
  {
   "cell_type": "markdown",
   "metadata": {},
   "source": [
    "## 2. Grouping with a Grouper Specification\n",
    "\n",
    "You may need to specify a bit more data to properly group. You can use the `pd.Grouper` to provide this local control, especially for time-based grouping."
   ]
  },
  {
   "cell_type": "code",
   "execution_count": null,
   "metadata": {},
   "outputs": [],
   "source": [
    "# Create a DataFrame with date information\n",
    "df = pd.DataFrame({\n",
    "    'Branch': 'A A A A A A A B'.split(),\n",
    "    'Buyer': 'Carl Mark Carl Carl Joe Joe Joe Carl'.split(),\n",
    "    'Quantity': [1, 3, 5, 1, 8, 1, 9, 3],\n",
    "    'Date': [\n",
    "        datetime.datetime(2013, 1, 1, 13, 0),\n",
    "        datetime.datetime(2013, 1, 1, 13, 5),\n",
    "        datetime.datetime(2013, 10, 1, 20, 0),\n",
    "        datetime.datetime(2013, 10, 2, 10, 0),\n",
    "        datetime.datetime(2013, 10, 1, 20, 0),\n",
    "        datetime.datetime(2013, 10, 2, 10, 0),\n",
    "        datetime.datetime(2013, 12, 2, 12, 0),\n",
    "        datetime.datetime(2013, 12, 2, 14, 0)\n",
    "    ]\n",
    "})\n",
    "df"
   ]
  },
  {
   "cell_type": "markdown",
   "metadata": {},
   "source": [
    "### 2.1 Groupby a Specific Column with the Desired Frequency\n",
    "\n",
    "This is similar to resampling, but within the groupby framework:"
   ]
  },
  {
   "cell_type": "code",
   "execution_count": null,
   "metadata": {},
   "outputs": [],
   "source": [
    "# Group by month and buyer\n",
    "df.groupby([pd.Grouper(freq='1M', key='Date'), 'Buyer']).sum()"
   ]
  },
  {
   "cell_type": "markdown",
   "metadata": {},
   "source": [
    "### 2.2 Working with a DatetimeIndex"
   ]
  },
  {
   "cell_type": "code",
   "execution_count": null,
   "metadata": {},
   "outputs": [],
   "source": [
    "# Set the Date column as index\n",
    "df = df.set_index('Date')\n",
    "\n",
    "# Create a new Date column that's the index plus 2 months\n",
    "df['Date'] = df.index + pd.offsets.MonthEnd(2)\n",
    "df"
   ]
  },
  {
   "cell_type": "code",
   "execution_count": null,
   "metadata": {},
   "outputs": [],
   "source": [
    "# Group by the Date column with a 6-month frequency\n",
    "df.groupby([pd.Grouper(freq='6M', key='Date'), 'Buyer']).sum()"
   ]
  },
  {
   "cell_type": "code",
   "execution_count": null,
   "metadata": {},
   "outputs": [],
   "source": [
    "# Group by the index with a 6-month frequency\n",
    "df.groupby([pd.Grouper(freq='6M', level='Date'), 'Buyer']).sum()"
   ]
  },
  {
   "cell_type": "markdown",
   "metadata": {},
   "source": [
    "## 3. Taking the First Rows of Each Group\n",
    "\n",
    "Just like for a DataFrame or Series, you can call `head` and `tail` on a groupby:"
   ]
  },
  {
   "cell_type": "code",
   "execution_count": null,
   "metadata": {},
   "outputs": [],
   "source": [
    "# Create a simple DataFrame\n",
    "df = pd.DataFrame([[1, 2], [1, 4], [5, 6]], columns=['A', 'B'])\n",
    "df"
   ]
  },
  {
   "cell_type": "code",
   "execution_count": null,
   "metadata": {},
   "outputs": [],
   "source": [
    "# Group by column A\n",
    "g = df.groupby('A')\n",
    "\n",
    "# Get the first row of each group\n",
    "g.head(1)"
   ]
  },
  {
   "cell_type": "code",
   "execution_count": null,
   "metadata": {},
   "outputs": [],
   "source": [
    "# Get the last row of each group\n",
    "g.tail(1)"
   ]
  },
  {
   "cell_type": "markdown",
   "metadata": {},
   "source": [
    "## 4. Taking the nth Row of Each Group\n",
    "\n",
    "To select from a DataFrame or Series the nth item, use `nth()`. This is a reduction method, and will return a single row (or no row) per group if you pass an int for n:"
   ]
  },
  {
   "cell_type": "code",
   "execution_count": null,
   "metadata": {},
   "outputs": [],
   "source": [
    "# Create a DataFrame with some NaN values\n",
    "df = pd.DataFrame([[1, np.nan], [1, 4], [5, 6]], columns=['A', 'B'])\n",
    "df"
   ]
  },
  {
   "cell_type": "code",
   "execution_count": null,
   "metadata": {},
   "outputs": [],
   "source": [
    "# Group by column A\n",
    "g = df.groupby('A')\n",
    "\n",
    "# Get the first row (index 0) of each group\n",
    "g.nth(0)"
   ]
  },
  {
   "cell_type": "markdown",
   "metadata": {},
   "source": [
    "## 5. Time Series Operations\n",
    "\n",
    "Let's explore some time series operations, particularly partial string indexing."
   ]
  },
  {
   "cell_type": "code",
   "execution_count": null,
   "metadata": {},
   "outputs": [],
   "source": [
    "# Create a time series\n",
    "ts = pd.Series(np.random.randn(12),\n",
    "              index=pd.date_range('1/31/2011', periods=12, freq='BM'))\n",
    "ts"
   ]
  },
  {
   "cell_type": "markdown",
   "metadata": {},
   "source": [
    "### 5.1 Partial String Indexing\n",
    "\n",
    "Dates and strings that parse to timestamps can be passed as indexing parameters:"
   ]
  },
  {
   "cell_type": "code",
   "execution_count": null,
   "metadata": {},
   "outputs": [],
   "source": [
    "# Access by date string\n",
    "ts['1/31/2011']"
   ]
  },
  {
   "cell_type": "code",
   "execution_count": null,
   "metadata": {},
   "outputs": [],
   "source": [
    "# Access by datetime object\n",
    "ts[datetime.datetime(2011, 12, 25):]"
   ]
  },
  {
   "cell_type": "code",
   "execution_count": null,
   "metadata": {},
   "outputs": [],
   "source": [
    "# Access by date range\n",
    "ts['10/31/2011':'12/31/2011']"
   ]
  },
  {
   "cell_type": "markdown",
   "metadata": {},
   "source": [
    "To provide convenience for accessing longer time series, you can also pass in the year or year and month as strings:"
   ]
  },
  {
   "cell_type": "code",
   "execution_count": null,
   "metadata": {},
   "outputs": [],
   "source": [
    "# Access all data for 2011\n",
    "ts['2011']"
   ]
  },
  {
   "cell_type": "code",
   "execution_count": null,
   "metadata": {},
   "outputs": [],
   "source": [
    "# Access data for June 2011\n",
    "ts['2011-6']"
   ]
  },
  {
   "cell_type": "markdown",
   "metadata": {},
   "source": [
    "### 5.2 Partial String Indexing with DataFrames\n",
    "\n",
    "This type of slicing will work on a DataFrame with a DatetimeIndex as well. Since the partial string selection is a form of label slicing, the endpoints will be included."
   ]
  },
  {
   "cell_type": "code",
   "execution_count": null,
   "metadata": {},
   "outputs": [],
   "source": [
    "# Create a DataFrame with a DatetimeIndex\n",
    "dft = pd.DataFrame(np.random.randn(100000, 1), columns=['A'],\n",
    "                  index=pd.date_range('20130101', periods=100000, freq='T'))\n",
    "dft.head()"
   ]
  },
  {
   "cell_type": "code",
   "execution_count": null,
   "metadata": {},
   "outputs": [],
   "source": [
    "# Access all data for 2013\n",
    "dft['2013'].head()"
   ]
  },
  {
   "cell_type": "code",
   "execution_count": null,
   "metadata": {},
   "outputs": [],
   "source": [
    "# This starts on the very first time in the month, and includes the last date and time for the month\n",
    "dft['2013-1':'2013-2'].head()"
   ]
  },
  {
   "cell_type": "markdown",
   "metadata": {},
   "source": [
    "## 6. Practical Examples\n",
    "\n",
    "Let's put these concepts together in some practical examples:"
   ]
  },
  {
   "cell_type": "code",
   "execution_count": null,
   "metadata": {},
   "outputs": [],
   "source": [
    "# Create a DataFrame with sales data\n",
    "dates = pd.date_range('2022-01-01', periods=365)\n",
    "sales = pd.DataFrame({\n",
    "    'date': dates,\n",
    "    'product': np.random.choice(['A', 'B', 'C'], size=365),\n",
    "    'store': np.random.choice(['North', 'South', 'East', 'West'], size=365),\n",
    "    'sales': np.random.randint(100, 1000, size=365),\n",
    "    'units': np.random.randint(1, 20, size=365)\n",
    "})\n",
    "sales.head()"
   ]
  },
  {
   "cell_type": "code",
   "execution_count": null,
   "metadata": {},
   "outputs": [],
   "source": [
    "# Set the date as index\n",
    "sales = sales.set_index('date')\n",
    "sales.head()"
   ]
  },
  {
   "cell_type": "code",
   "execution_count": null,
   "metadata": {},
   "outputs": [],
   "source": [
    "# Group by month and product\n",
    "monthly_product_sales = sales.groupby([pd.Grouper(freq='M'), 'product']).agg({\n",
    "    'sales': 'sum',\n",
    "    'units': 'sum'\n",
    "})\n",
    "monthly_product_sales.head(10)"
   ]
  },
  {
   "cell_type": "code",
   "execution_count": null,
   "metadata": {},
   "outputs": [],
   "source": [
    "# Visualize monthly sales by product\n",
    "monthly_sales_by_product = sales.groupby([pd.Grouper(freq='M'), 'product'])['sales'].sum().unstack()\n",
    "monthly_sales_by_product.plot(figsize=(12, 6), title='Monthly Sales by Product')"
   ]
  },
  {
   "cell_type": "code",
   "execution_count": null,
   "metadata": {},
   "outputs": [],
   "source": [
    "# Get the top-selling store for each month\n",
    "monthly_store_sales = sales.groupby([pd.Grouper(freq='M'), 'store'])['sales'].sum().reset_index()\n",
    "top_stores = monthly_store_sales.sort_values(['date', 'sales'], ascending=[True, False]).groupby('date').head(1)\n",
    "top_stores"
   ]
  },
  {
   "cell_type": "code",
   "execution_count": null,
   "metadata": {},
   "outputs": [],
   "source": [
    "# Find the best-selling product for each quarter\n",
    "quarterly_product_sales = sales.groupby([pd.Grouper(freq='Q'), 'product'])['sales'].sum().reset_index()\n",
    "top_products = quarterly_product_sales.sort_values(['date', 'sales'], ascending=[True, False]).groupby('date').head(1)\n",
    "top_products"
   ]
  },
  {
   "cell_type": "markdown",
   "metadata": {},
   "source": [
    "## Summary\n",
    "\n",
    "In this notebook, we've explored:\n",
    "\n",
    "1. Grouping with ordered factors using categorical data\n",
    "2. Using pd.Grouper for time-based grouping\n",
    "   - Grouping by specific columns with desired frequencies\n",
    "   - Working with DatetimeIndex\n",
    "3. Taking specific rows from each group\n",
    "   - Using head() and tail() on groupby objects\n",
    "   - Using nth() to select specific rows\n",
    "4. Time series partial string indexing\n",
    "   - Accessing data by date strings\n",
    "   - Accessing data by year or year-month\n",
    "   - Working with DataFrames with DatetimeIndex\n",
    "5. Practical examples combining these concepts\n",
    "\n",
    "These techniques provide powerful tools for time-based analysis and grouping in pandas."
   ]
  }
 ],
 "metadata": {
  "kernelspec": {
   "display_name": "Python 3",
   "language": "python",
   "name": "python3"
  },
  "language_info": {
   "codemirror_mode": {
    "name": "ipython",
    "version": 3
   },
   "file_extension": ".py",
   "mimetype": "text/x-python",
   "name": "python",
   "nbconvert_exporter": "python",
   "pygments_lexer": "ipython3",
   "version": "3.8.5"
  }
 },
 "nbformat": 4,
 "nbformat_minor": 4
}
