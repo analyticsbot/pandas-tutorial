{
 "cells": [
  {
   "cell_type": "markdown",
   "metadata": {},
   "source": [
    "# Pandas Functions and Commands - Part 93\n",
    "\n",
    "This notebook documents pandas functions and commands with examples."
   ]
  },
  {
   "cell_type": "markdown",
   "metadata": {},
   "source": [
    "## Type Checking Functions (continued)"
   ]
  },
  {
   "cell_type": "code",
   "execution_count": null,
   "metadata": {},
   "outputs": [],
   "source": [
    "import pandas as pd\n",
    "import numpy as np"
   ]
  },
  {
   "cell_type": "markdown",
   "metadata": {},
   "source": [
    "### is_datetime64_any_dtype\n",
    "\n",
    "Checks whether the provided array or dtype is of any datetime64 dtype."
   ]
  },
  {
   "cell_type": "code",
   "execution_count": null,
   "metadata": {},
   "outputs": [],
   "source": [
    "# Examples\n",
    "print(pd.api.types.is_datetime64_any_dtype(str))\n",
    "print(pd.api.types.is_datetime64_any_dtype(int))\n",
    "print(pd.api.types.is_datetime64_any_dtype(np.datetime64))\n",
    "print(pd.api.types.is_datetime64_any_dtype(pd.DatetimeTZDtype(\"ns\", \"US/Eastern\")))\n",
    "print(pd.api.types.is_datetime64_any_dtype(np.array(['a', 'b'])))\n",
    "print(pd.api.types.is_datetime64_any_dtype(np.array([], dtype=np.datetime64)))\n",
    "print(pd.api.types.is_datetime64_any_dtype(pd.DatetimeIndex([1, 2, 3], dtype=np.datetime64)))"
   ]
  },
  {
   "cell_type": "markdown",
   "metadata": {},
   "source": [
    "### is_datetime64_dtype\n",
    "\n",
    "Checks whether an array-like or dtype is of the datetime64 dtype."
   ]
  },
  {
   "cell_type": "code",
   "execution_count": null,
   "metadata": {},
   "outputs": [],
   "source": [
    "# Examples\n",
    "print(pd.api.types.is_datetime64_dtype(object))\n",
    "print(pd.api.types.is_datetime64_dtype(np.datetime64))\n",
    "print(pd.api.types.is_datetime64_dtype(np.array([], dtype=int)))\n",
    "print(pd.api.types.is_datetime64_dtype(np.array([], dtype=np.datetime64)))\n",
    "print(pd.api.types.is_datetime64_dtype([1, 2, 3]))"
   ]
  },
  {
   "cell_type": "markdown",
   "metadata": {},
   "source": [
    "### is_datetime64_ns_dtype\n",
    "\n",
    "Checks whether the provided array or dtype is of the datetime64[ns] dtype specifically."
   ]
  },
  {
   "cell_type": "code",
   "execution_count": null,
   "metadata": {},
   "outputs": [],
   "source": [
    "# Examples\n",
    "print(pd.api.types.is_datetime64_ns_dtype(str))\n",
    "print(pd.api.types.is_datetime64_ns_dtype(int))\n",
    "print(pd.api.types.is_datetime64_ns_dtype(np.datetime64))  # no unit\n",
    "print(pd.api.types.is_datetime64_ns_dtype(pd.DatetimeTZDtype(\"ns\", \"US/Eastern\")))\n",
    "print(pd.api.types.is_datetime64_ns_dtype(np.array([], dtype=np.datetime64)))  # no unit\n",
    "print(pd.api.types.is_datetime64_ns_dtype(np.array([], dtype=\"datetime64[ps]\")))\n",
    "print(pd.api.types.is_datetime64_ns_dtype(pd.DatetimeIndex([1, 2, 3], dtype=np.datetime64)))"
   ]
  },
  {
   "cell_type": "markdown",
   "metadata": {},
   "source": [
    "### is_datetime64tz_dtype\n",
    "\n",
    "Checks whether an array-like or dtype is of a DatetimeTZDtype dtype (timezone-aware datetime)."
   ]
  },
  {
   "cell_type": "code",
   "execution_count": null,
   "metadata": {},
   "outputs": [],
   "source": [
    "# Examples\n",
    "print(pd.api.types.is_datetime64tz_dtype(object))\n",
    "print(pd.api.types.is_datetime64tz_dtype([1, 2, 3]))\n",
    "print(pd.api.types.is_datetime64tz_dtype(pd.DatetimeIndex([1, 2, 3])))  # tz-naive\n",
    "print(pd.api.types.is_datetime64tz_dtype(pd.DatetimeIndex([1, 2, 3], tz=\"US/Eastern\")))\n",
    "\n",
    "dtype = pd.DatetimeTZDtype(\"ns\", tz=\"US/Eastern\")\n",
    "s = pd.Series([], dtype=dtype)\n",
    "print(pd.api.types.is_datetime64tz_dtype(dtype))\n",
    "print(pd.api.types.is_datetime64tz_dtype(s))"
   ]
  },
  {
   "cell_type": "markdown",
   "metadata": {},
   "source": [
    "### is_extension_type\n",
    "\n",
    "Check whether an array-like is of a pandas extension class instance.\n",
    "\n",
    "**Note:** Deprecated since version 1.0.0: Use is_extension_array_dtype instead."
   ]
  },
  {
   "cell_type": "code",
   "execution_count": null,
   "metadata": {},
   "outputs": [],
   "source": [
    "# This function is deprecated, use is_extension_array_dtype instead\n",
    "# Example of the recommended function\n",
    "cat_series = pd.Series(pd.Categorical([1, 2, 3]))\n",
    "print(pd.api.types.is_extension_array_dtype(cat_series))"
   ]
  },
  {
   "cell_type": "markdown",
   "metadata": {},
   "source": [
    "## Extension API\n",
    "\n",
    "Pandas provides an extension API that allows you to create custom data types and accessors."
   ]
  },
  {
   "cell_type": "markdown",
   "metadata": {},
   "source": [
    "### register_dataframe_accessor\n",
    "\n",
    "A decorator for registering custom accessors for pandas DataFrames."
   ]
  },
  {
   "cell_type": "code",
   "execution_count": null,
   "metadata": {},
   "outputs": [],
   "source": [
    "# Example of creating a custom DataFrame accessor\n",
    "\n",
    "@pd.api.extensions.register_dataframe_accessor(\"geo\")\n",
    "class GeoAccessor:\n",
    "    def __init__(self, pandas_obj):\n",
    "        self._obj = pandas_obj\n",
    "        \n",
    "    @property\n",
    "    def center(self):\n",
    "        # Return the geographic center point of this DataFrame\n",
    "        lat = self._obj.latitude\n",
    "        lon = self._obj.longitude\n",
    "        return (float(lon.mean()), float(lat.mean()))\n",
    "    \n",
    "    def plot(self):\n",
    "        # This would plot the data on a map (implementation not shown)\n",
    "        print(\"Plotting geographic data...\")\n",
    "        \n",
    "# Create a sample DataFrame with geographic data\n",
    "ds = pd.DataFrame({\n",
    "    'longitude': np.linspace(0, 10, 5),\n",
    "    'latitude': np.linspace(0, 20, 5)\n",
    "})\n",
    "\n",
    "# Use the custom accessor\n",
    "print(ds.geo.center)\n",
    "ds.geo.plot()"
   ]
  },
  {
   "cell_type": "markdown",
   "metadata": {},
   "source": [
    "### ExtensionDtype\n",
    "\n",
    "A base class for creating custom data types to be paired with an ExtensionArray."
   ]
  },
  {
   "cell_type": "code",
   "execution_count": null,
   "metadata": {},
   "outputs": [],
   "source": [
    "# Example of a simple custom ExtensionDtype\n",
    "from pandas.api.extensions import ExtensionDtype, ExtensionArray\n",
    "import numpy as np\n",
    "\n",
    "class MyStringDtype(ExtensionDtype):\n",
    "    name = 'my_string'\n",
    "    type = str\n",
    "    na_value = None\n",
    "    \n",
    "    def construct_from_string(self, string):\n",
    "        if string == self.name:\n",
    "            return self\n",
    "        else:\n",
    "            raise TypeError(f\"Cannot construct {self.name} from {string}\")\n",
    "    \n",
    "    @classmethod\n",
    "    def construct_array_type(cls):\n",
    "        return MyStringArray\n",
    "\n",
    "# This is a simplified example and would need more implementation\n",
    "# to be fully functional as an ExtensionArray\n",
    "class MyStringArray(ExtensionArray):\n",
    "    pass\n",
    "\n",
    "# Print information about our custom dtype\n",
    "my_dtype = MyStringDtype()\n",
    "print(f\"Name: {my_dtype.name}\")\n",
    "print(f\"Type: {my_dtype.type}\")\n",
    "print(f\"NA value: {my_dtype.na_value}\")"
   ]
  },
  {
   "cell_type": "markdown",
   "metadata": {},
   "source": [
    "## Practical Applications\n",
    "\n",
    "Let's see how these type checking functions can be used in real-world scenarios:"
   ]
  },
  {
   "cell_type": "code",
   "execution_count": null,
   "metadata": {},
   "outputs": [],
   "source": [
    "# Create a DataFrame with various column types\n",
    "df = pd.DataFrame({\n",
    "    'A': [1, 2, 3],\n",
    "    'B': pd.date_range('20210101', periods=3),\n",
    "    'C': pd.date_range('20210101', periods=3, tz='US/Eastern'),\n",
    "    'D': pd.Series([1, 2, 3], dtype='category'),\n",
    "    'E': [True, False, True]\n",
    "})\n",
    "\n",
    "# Function to describe column types\n",
    "def describe_column_type(series):\n",
    "    if pd.api.types.is_numeric_dtype(series):\n",
    "        return \"Numeric\"\n",
    "    elif pd.api.types.is_datetime64_any_dtype(series):\n",
    "        if pd.api.types.is_datetime64tz_dtype(series):\n",
    "            return f\"Datetime with timezone: {series.dt.tz}\"\n",
    "        else:\n",
    "            return \"Datetime (timezone naive)\"\n",
    "    elif pd.api.types.is_categorical_dtype(series):\n",
    "        return f\"Categorical with {series.nunique()} unique values\"\n",
    "    elif pd.api.types.is_bool_dtype(series):\n",
    "        return \"Boolean\"\n",
    "    else:\n",
    "        return \"Other type\"\n",
    "\n",
    "# Apply the function to each column\n",
    "for col in df.columns:\n",
    "    print(f\"Column {col}: {describe_column_type(df[col])}\")"
   ]
  }
 ],
 "metadata": {
  "kernelspec": {
   "display_name": "Python 3",
   "language": "python",
   "name": "python3"
  },
  "language_info": {
   "codemirror_mode": {
    "name": "ipython",
    "version": 3
   },
   "file_extension": ".py",
   "mimetype": "text/x-python",
   "name": "python",
   "nbconvert_exporter": "python",
   "pygments_lexer": "ipython3",
   "version": "3.8.5"
  }
 },
 "nbformat": 4,
 "nbformat_minor": 4
}
