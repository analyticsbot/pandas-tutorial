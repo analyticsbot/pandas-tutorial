{
 "cells": [
  {
   "cell_type": "markdown",
   "metadata": {},
   "source": [
    "#### Pandas Rolling Window Functions and GroupBy - Part 87\n",
    "\n",
    "This notebook covers advanced rolling window functions like `kurt()` and `apply()`, as well as the basics of GroupBy objects and their methods."
   ]
  },
  {
   "cell_type": "code",
   "execution_count": 1,
   "metadata": {},
   "outputs": [],
   "source": [
    "import pandas as pd\n",
    "import numpy as np\n",
    "import scipy.stats"
   ]
  },
  {
   "cell_type": "markdown",
   "metadata": {},
   "source": [
    "##### Rolling Window Functions\n",
    "\n",
    "### Rolling.kurt() - Rolling Kurtosis\n",
    "\n",
    "The `kurt()` method calculates the unbiased rolling kurtosis using Fisher's definition without bias."
   ]
  },
  {
   "cell_type": "code",
   "execution_count": 2,
   "metadata": {},
   "outputs": [
    {
     "name": "stdout",
     "output_type": "stream",
     "text": [
      "Series:\n",
      "0      1\n",
      "1      2\n",
      "2      3\n",
      "3      4\n",
      "4    999\n",
      "dtype: int64\n"
     ]
    }
   ],
   "source": [
    "# Create a sample series\n",
    "arr = [1, 2, 3, 4, 999]\n",
    "s = pd.Series(arr)\n",
    "print(\"Series:\")\n",
    "print(s)"
   ]
  },
  {
   "cell_type": "code",
   "execution_count": 3,
   "metadata": {},
   "outputs": [
    {
     "name": "stdout",
     "output_type": "stream",
     "text": [
      "\n",
      "Rolling kurtosis with window size 4:\n",
      "0         NaN\n",
      "1         NaN\n",
      "2         NaN\n",
      "3   -1.200000\n",
      "4    3.999946\n",
      "dtype: float64\n"
     ]
    }
   ],
   "source": [
    "# Calculate rolling kurtosis with window size 4\n",
    "rolling_kurt = s.rolling(4).kurt()\n",
    "print(\"\\nRolling kurtosis with window size 4:\")\n",
    "print(rolling_kurt)"
   ]
  },
  {
   "cell_type": "code",
   "execution_count": 4,
   "metadata": {},
   "outputs": [
    {
     "name": "stdout",
     "output_type": "stream",
     "text": [
      "\n",
      "SciPy kurtosis for first 4 values: -1.200000\n",
      "SciPy kurtosis for last 4 values: 3.999946\n"
     ]
    }
   ],
   "source": [
    "# Compare with scipy.stats.kurtosis\n",
    "print(f\"\\nSciPy kurtosis for first 4 values: {scipy.stats.kurtosis(arr[:-1], bias=False):.6f}\")\n",
    "print(f\"SciPy kurtosis for last 4 values: {scipy.stats.kurtosis(arr[1:], bias=False):.6f}\")"
   ]
  },
  {
   "cell_type": "markdown",
   "metadata": {},
   "source": [
    "### Rolling.apply() - Custom Rolling Window Function\n",
    "\n",
    "The `apply()` method allows you to apply a custom function to each window of data."
   ]
  },
  {
   "cell_type": "code",
   "execution_count": 5,
   "metadata": {},
   "outputs": [
    {
     "name": "stdout",
     "output_type": "stream",
     "text": [
      "DataFrame:\n",
      "   A  B\n",
      "0  1  5\n",
      "1  2  4\n",
      "2  3  3\n",
      "3  4  2\n",
      "4  5  1\n"
     ]
    }
   ],
   "source": [
    "# Create a sample DataFrame\n",
    "df = pd.DataFrame({\n",
    "    'A': [1, 2, 3, 4, 5],\n",
    "    'B': [5, 4, 3, 2, 1]\n",
    "})\n",
    "print(\"DataFrame:\")\n",
    "print(df)"
   ]
  },
  {
   "cell_type": "code",
   "execution_count": 6,
   "metadata": {},
   "outputs": [
    {
     "name": "stdout",
     "output_type": "stream",
     "text": [
      "\n",
      "Rolling range with window size 3:\n",
      "     A    B\n",
      "0  NaN  NaN\n",
      "1  NaN  NaN\n",
      "2  2.0  2.0\n",
      "3  2.0  2.0\n",
      "4  2.0  2.0\n"
     ]
    }
   ],
   "source": [
    "# Define a custom function to calculate the range (max - min) of each window\n",
    "def window_range(x):\n",
    "    return x.max() - x.min()\n",
    "\n",
    "# Apply the custom function to each window\n",
    "rolling_range = df.rolling(window=3).apply(window_range)\n",
    "print(\"\\nRolling range with window size 3:\")\n",
    "print(rolling_range)"
   ]
  },
  {
   "cell_type": "code",
   "execution_count": 7,
   "metadata": {},
   "outputs": [
    {
     "name": "stdout",
     "output_type": "stream",
     "text": [
      "\n",
      "Rolling range with window size 3 using raw=True:\n",
      "     A    B\n",
      "0  NaN  NaN\n",
      "1  NaN  NaN\n",
      "2  2.0  2.0\n",
      "3  2.0  2.0\n",
      "4  2.0  2.0\n"
     ]
    }
   ],
   "source": [
    "# Using raw=True for better performance with NumPy functions\n",
    "def numpy_range(x):\n",
    "    return np.max(x) - np.min(x)\n",
    "\n",
    "rolling_range_raw = df.rolling(window=3).apply(numpy_range, raw=True)\n",
    "print(\"\\nRolling range with window size 3 using raw=True:\")\n",
    "print(rolling_range_raw)"
   ]
  },
  {
   "cell_type": "markdown",
   "metadata": {},
   "source": [
    "### Rolling.aggregate() - Multiple Aggregations\n",
    "\n",
    "The `aggregate()` (or `agg()`) method allows you to apply multiple aggregation functions to each window."
   ]
  },
  {
   "cell_type": "code",
   "execution_count": 8,
   "metadata": {},
   "outputs": [
    {
     "name": "stdout",
     "output_type": "stream",
     "text": [
      "Rolling aggregation with window size 3:\n",
      "     A                   B               \n",
      "  mean  std  min  max mean  std  min  max\n",
      "0  NaN  NaN  NaN  NaN  NaN  NaN  NaN  NaN\n",
      "1  NaN  NaN  NaN  NaN  NaN  NaN  NaN  NaN\n",
      "2  2.0  1.0  1.0  3.0  4.0  1.0  3.0  5.0\n",
      "3  3.0  1.0  2.0  4.0  3.0  1.0  2.0  4.0\n",
      "4  4.0  1.0  3.0  5.0  2.0  1.0  1.0  3.0\n"
     ]
    }
   ],
   "source": [
    "# Apply multiple aggregation functions\n",
    "rolling_agg = df.rolling(window=3).agg(['mean', 'std', 'min', 'max'])\n",
    "print(\"Rolling aggregation with window size 3:\")\n",
    "print(rolling_agg)"
   ]
  },
  {
   "cell_type": "code",
   "execution_count": 9,
   "metadata": {},
   "outputs": [
    {
     "name": "stdout",
     "output_type": "stream",
     "text": [
      "\n",
      "Rolling aggregation with different functions per column:\n",
      "     A         B     \n",
      "  mean  max  min  std\n",
      "0  NaN  NaN  NaN  NaN\n",
      "1  NaN  NaN  NaN  NaN\n",
      "2  2.0  3.0  3.0  1.0\n",
      "3  3.0  4.0  2.0  1.0\n",
      "4  4.0  5.0  1.0  1.0\n"
     ]
    }
   ],
   "source": [
    "# Apply different functions to different columns\n",
    "rolling_agg_dict = df.rolling(window=3).agg({\n",
    "    'A': ['mean', 'max'],\n",
    "    'B': ['min', 'std']\n",
    "})\n",
    "print(\"\\nRolling aggregation with different functions per column:\")\n",
    "print(rolling_agg_dict)"
   ]
  },
  {
   "cell_type": "markdown",
   "metadata": {},
   "source": [
    "##### Custom Window Indexer\n",
    "\n",
    "Pandas provides the `BaseIndexer` class for defining custom window boundaries."
   ]
  },
  {
   "cell_type": "code",
   "execution_count": 14,
   "metadata": {},
   "outputs": [
    {
     "name": "stdout",
     "output_type": "stream",
     "text": [
      "Original Series:\n",
      "0    0\n",
      "1    1\n",
      "2    2\n",
      "3    3\n",
      "4    4\n",
      "5    5\n",
      "6    6\n",
      "7    7\n",
      "8    8\n",
      "9    9\n",
      "dtype: int64\n",
      "\n",
      "Variable window mean (manual calculation):\n",
      "0    0.0\n",
      "1    0.5\n",
      "2    1.0\n",
      "3    1.5\n",
      "4    2.0\n",
      "5    2.5\n",
      "6    3.0\n",
      "7    3.5\n",
      "8    4.0\n",
      "9    4.5\n",
      "dtype: float64\n",
      "\n",
      "Expanding window mean (built-in):\n",
      "0    0.0\n",
      "1    0.5\n",
      "2    1.0\n",
      "3    1.5\n",
      "4    2.0\n",
      "5    2.5\n",
      "6    3.0\n",
      "7    3.5\n",
      "8    4.0\n",
      "9    4.5\n",
      "dtype: float64\n",
      "\n",
      "Custom variable window mean:\n",
      "0    0.0\n",
      "1    1.0\n",
      "2    2.0\n",
      "3    3.0\n",
      "4    4.0\n",
      "5    4.5\n",
      "6    5.0\n",
      "7    5.5\n",
      "8    6.0\n",
      "9    6.5\n",
      "dtype: float64\n"
     ]
    }
   ],
   "source": [
    "import pandas as pd\n",
    "import numpy as np\n",
    "\n",
    "# Create a Series\n",
    "s = pd.Series(range(10))\n",
    "print(\"Original Series:\")\n",
    "print(s)\n",
    "\n",
    "# Create variable window means manually\n",
    "variable_window_means = []\n",
    "for i in range(len(s)):\n",
    "    # Window size increases with index: window size = index + 1\n",
    "    window_size = i + 1\n",
    "    window_values = s.iloc[max(0, i - window_size + 1):i + 1]\n",
    "    variable_window_means.append(window_values.mean())\n",
    "\n",
    "variable_window_result = pd.Series(variable_window_means, index=s.index)\n",
    "print(\"\\nVariable window mean (manual calculation):\")\n",
    "print(variable_window_result)\n",
    "\n",
    "# Alternative: Use expanding window\n",
    "expanding_mean = s.expanding().mean()\n",
    "print(\"\\nExpanding window mean (built-in):\")\n",
    "print(expanding_mean)\n",
    "\n",
    "# Create a custom variable window calculation\n",
    "# For example, window size = 2*i + 1 (centered window that grows with index)\n",
    "custom_window_means = []\n",
    "for i in range(len(s)):\n",
    "    window_size = min(2*i + 1, len(s))\n",
    "    start = max(0, i - window_size//2)\n",
    "    end = min(len(s), start + window_size)\n",
    "    window_values = s.iloc[start:end]\n",
    "    custom_window_means.append(window_values.mean())\n",
    "\n",
    "custom_window_result = pd.Series(custom_window_means, index=s.index)\n",
    "print(\"\\nCustom variable window mean:\")\n",
    "print(custom_window_result)"
   ]
  },
  {
   "cell_type": "code",
   "execution_count": 11,
   "metadata": {},
   "outputs": [
    {
     "name": "stdout",
     "output_type": "stream",
     "text": [
      "Series:\n",
      "0    1\n",
      "1    2\n",
      "2    3\n",
      "3    4\n",
      "4    5\n",
      "dtype: int64\n"
     ]
    }
   ],
   "source": [
    "# Create a sample series\n",
    "s = pd.Series([1, 2, 3, 4, 5])\n",
    "print(\"Series:\")\n",
    "print(s)"
   ]
  },
  {
   "cell_type": "markdown",
   "metadata": {},
   "source": [
    "##### GroupBy Objects\n",
    "\n",
    "GroupBy objects are returned by `groupby()` calls and provide methods for aggregating and transforming data by groups."
   ]
  },
  {
   "cell_type": "code",
   "execution_count": 16,
   "metadata": {},
   "outputs": [
    {
     "name": "stdout",
     "output_type": "stream",
     "text": [
      "DataFrame:\n",
      "     A      B  C   D\n",
      "0  foo    one  1  10\n",
      "1  bar    one  2  20\n",
      "2  foo    two  3  30\n",
      "3  bar  three  4  40\n",
      "4  foo    two  5  50\n",
      "5  bar    two  6  60\n"
     ]
    }
   ],
   "source": [
    "# Create a sample DataFrame\n",
    "df = pd.DataFrame({\n",
    "    'A': ['foo', 'bar', 'foo', 'bar', 'foo', 'bar'],\n",
    "    'B': ['one', 'one', 'two', 'three', 'two', 'two'],\n",
    "    'C': [1, 2, 3, 4, 5, 6],\n",
    "    'D': [10, 20, 30, 40, 50, 60]\n",
    "})\n",
    "print(\"DataFrame:\")\n",
    "print(df)"
   ]
  },
  {
   "cell_type": "code",
   "execution_count": 17,
   "metadata": {},
   "outputs": [
    {
     "name": "stdout",
     "output_type": "stream",
     "text": [
      "\n",
      "Grouped by column 'A':\n",
      "<pandas.core.groupby.generic.DataFrameGroupBy object at 0x11655a7b0>\n"
     ]
    }
   ],
   "source": [
    "# Group by column 'A'\n",
    "grouped = df.groupby('A')\n",
    "print(\"\\nGrouped by column 'A':\")\n",
    "print(grouped)"
   ]
  },
  {
   "cell_type": "markdown",
   "metadata": {},
   "source": [
    "### GroupBy.__iter__() - Iterating Over Groups\n",
    "\n",
    "The `__iter__()` method allows you to iterate over each group in a GroupBy object."
   ]
  },
  {
   "cell_type": "code",
   "execution_count": 18,
   "metadata": {},
   "outputs": [
    {
     "name": "stdout",
     "output_type": "stream",
     "text": [
      "Iterating over groups:\n",
      "\n",
      "Group name: bar\n",
      "     A      B  C   D\n",
      "1  bar    one  2  20\n",
      "3  bar  three  4  40\n",
      "5  bar    two  6  60\n",
      "\n",
      "Group name: foo\n",
      "     A    B  C   D\n",
      "0  foo  one  1  10\n",
      "2  foo  two  3  30\n",
      "4  foo  two  5  50\n"
     ]
    }
   ],
   "source": [
    "# Iterate over groups\n",
    "print(\"Iterating over groups:\")\n",
    "for name, group in grouped:\n",
    "    print(f\"\\nGroup name: {name}\")\n",
    "    print(group)"
   ]
  },
  {
   "cell_type": "markdown",
   "metadata": {},
   "source": [
    "### GroupBy.groups - Group Labels\n",
    "\n",
    "The `groups` property returns a dictionary mapping group names to group labels."
   ]
  },
  {
   "cell_type": "code",
   "execution_count": 19,
   "metadata": {},
   "outputs": [
    {
     "name": "stdout",
     "output_type": "stream",
     "text": [
      "Group labels:\n",
      "{'bar': [1, 3, 5], 'foo': [0, 2, 4]}\n"
     ]
    }
   ],
   "source": [
    "# Get group labels\n",
    "print(\"Group labels:\")\n",
    "print(grouped.groups)"
   ]
  },
  {
   "cell_type": "markdown",
   "metadata": {},
   "source": [
    "### GroupBy.indices - Group Indices\n",
    "\n",
    "The `indices` property returns a dictionary mapping group names to group indices."
   ]
  },
  {
   "cell_type": "code",
   "execution_count": 20,
   "metadata": {},
   "outputs": [
    {
     "name": "stdout",
     "output_type": "stream",
     "text": [
      "Group indices:\n",
      "{'bar': array([1, 3, 5]), 'foo': array([0, 2, 4])}\n"
     ]
    }
   ],
   "source": [
    "# Get group indices\n",
    "print(\"Group indices:\")\n",
    "print(grouped.indices)"
   ]
  },
  {
   "cell_type": "markdown",
   "metadata": {},
   "source": [
    "### GroupBy.get_group() - Get a Specific Group\n",
    "\n",
    "The `get_group()` method allows you to retrieve a specific group by its name."
   ]
  },
  {
   "cell_type": "code",
   "execution_count": 21,
   "metadata": {},
   "outputs": [
    {
     "name": "stdout",
     "output_type": "stream",
     "text": [
      "Group 'foo':\n",
      "     A    B  C   D\n",
      "0  foo  one  1  10\n",
      "2  foo  two  3  30\n",
      "4  foo  two  5  50\n"
     ]
    }
   ],
   "source": [
    "# Get a specific group\n",
    "foo_group = grouped.get_group('foo')\n",
    "print(\"Group 'foo':\")\n",
    "print(foo_group)"
   ]
  },
  {
   "cell_type": "markdown",
   "metadata": {},
   "source": [
    "### Groupby with Multiple Columns"
   ]
  },
  {
   "cell_type": "code",
   "execution_count": 22,
   "metadata": {},
   "outputs": [
    {
     "name": "stdout",
     "output_type": "stream",
     "text": [
      "Grouped by columns 'A' and 'B':\n",
      "{('bar', 'one'): [1], ('bar', 'three'): [3], ('bar', 'two'): [5], ('foo', 'one'): [0], ('foo', 'two'): [2, 4]}\n"
     ]
    }
   ],
   "source": [
    "# Group by multiple columns\n",
    "multi_grouped = df.groupby(['A', 'B'])\n",
    "print(\"Grouped by columns 'A' and 'B':\")\n",
    "print(multi_grouped.groups)"
   ]
  },
  {
   "cell_type": "code",
   "execution_count": 23,
   "metadata": {},
   "outputs": [
    {
     "name": "stdout",
     "output_type": "stream",
     "text": [
      "\n",
      "Group ('foo', 'one'):\n",
      "     A    B  C   D\n",
      "0  foo  one  1  10\n"
     ]
    }
   ],
   "source": [
    "# Get a specific group from multi-level groupby\n",
    "foo_one_group = multi_grouped.get_group(('foo', 'one'))\n",
    "print(\"\\nGroup ('foo', 'one'):\")\n",
    "print(foo_one_group)"
   ]
  },
  {
   "cell_type": "markdown",
   "metadata": {},
   "source": [
    "### Using Grouper for Time-Based Grouping"
   ]
  },
  {
   "cell_type": "code",
   "execution_count": 24,
   "metadata": {},
   "outputs": [
    {
     "name": "stdout",
     "output_type": "stream",
     "text": [
      "DataFrame with date index:\n",
      "                   A         B\n",
      "2023-01-01  0.586904  0.184969\n",
      "2023-01-02 -0.693773 -0.320836\n",
      "2023-01-03  0.707814 -1.138140\n",
      "2023-01-04  0.283349 -1.001564\n",
      "2023-01-05 -0.684784 -2.687766\n",
      "2023-01-06 -0.050595 -0.382989\n",
      "2023-01-07 -0.415895  0.334467\n",
      "2023-01-08  1.645673  0.296072\n",
      "2023-01-09  0.740126  0.778631\n",
      "2023-01-10  1.085102 -0.418603\n"
     ]
    }
   ],
   "source": [
    "# Create a DataFrame with date index\n",
    "dates = pd.date_range('2023-01-01', periods=10)\n",
    "df_dates = pd.DataFrame({\n",
    "    'A': np.random.randn(10),\n",
    "    'B': np.random.randn(10)\n",
    "}, index=dates)\n",
    "print(\"DataFrame with date index:\")\n",
    "print(df_dates)"
   ]
  },
  {
   "cell_type": "code",
   "execution_count": 25,
   "metadata": {},
   "outputs": [
    {
     "name": "stdout",
     "output_type": "stream",
     "text": [
      "\n",
      "Monthly groups:\n",
      "\n",
      "Month: 2023-01-31 00:00:00\n",
      "                   A         B\n",
      "2023-01-01  0.586904  0.184969\n",
      "2023-01-02 -0.693773 -0.320836\n",
      "2023-01-03  0.707814 -1.138140\n",
      "2023-01-04  0.283349 -1.001564\n",
      "2023-01-05 -0.684784 -2.687766\n",
      "2023-01-06 -0.050595 -0.382989\n",
      "2023-01-07 -0.415895  0.334467\n",
      "2023-01-08  1.645673  0.296072\n",
      "2023-01-09  0.740126  0.778631\n",
      "2023-01-10  1.085102 -0.418603\n"
     ]
    },
    {
     "name": "stderr",
     "output_type": "stream",
     "text": [
      "/var/folders/7y/fzwln1_93mn3js3wyk61_6xm0000gn/T/ipykernel_92084/1158123330.py:2: FutureWarning: 'M' is deprecated and will be removed in a future version, please use 'ME' instead.\n",
      "  monthly_grouped = df_dates.groupby(pd.Grouper(freq='M'))\n"
     ]
    }
   ],
   "source": [
    "# Group by month using Grouper\n",
    "monthly_grouped = df_dates.groupby(pd.Grouper(freq='M'))\n",
    "print(\"\\nMonthly groups:\")\n",
    "for name, group in monthly_grouped:\n",
    "    print(f\"\\nMonth: {name}\")\n",
    "    print(group)"
   ]
  },
  {
   "cell_type": "code",
   "execution_count": 26,
   "metadata": {},
   "outputs": [
    {
     "name": "stdout",
     "output_type": "stream",
     "text": [
      "\n",
      "Monthly statistics:\n",
      "                   A                                      B           \\\n",
      "                mean      std       min       max      mean      std   \n",
      "2023-01-31  0.320392  0.77878 -0.693773  1.645673 -0.435576  0.99388   \n",
      "\n",
      "                                \n",
      "                 min       max  \n",
      "2023-01-31 -2.687766  0.778631  \n"
     ]
    }
   ],
   "source": [
    "# Calculate monthly statistics\n",
    "monthly_stats = monthly_grouped.agg(['mean', 'std', 'min', 'max'])\n",
    "print(\"\\nMonthly statistics:\")\n",
    "print(monthly_stats)"
   ]
  },
  {
   "cell_type": "markdown",
   "metadata": {},
   "source": [
    "### Practical Example: Sales Data Analysis"
   ]
  },
  {
   "cell_type": "code",
   "execution_count": 27,
   "metadata": {},
   "outputs": [
    {
     "name": "stdout",
     "output_type": "stream",
     "text": [
      "Sales data:\n",
      "        date product region  sales  quantity\n",
      "0 2023-01-01       A   East    108         8\n",
      "1 2023-01-02       B   East    704         9\n",
      "2 2023-01-03       A   West    350         5\n",
      "3 2023-01-04       B   West    815         1\n",
      "4 2023-01-05       A   East    115         5\n"
     ]
    }
   ],
   "source": [
    "# Create a sample sales DataFrame\n",
    "sales_data = pd.DataFrame({\n",
    "    'date': pd.date_range('2023-01-01', periods=20),\n",
    "    'product': ['A', 'B', 'A', 'B', 'A', 'B', 'A', 'B', 'A', 'B', 'A', 'B', 'A', 'B', 'A', 'B', 'A', 'B', 'A', 'B'],\n",
    "    'region': ['East', 'East', 'West', 'West', 'East', 'East', 'West', 'West', 'East', 'East', \n",
    "               'West', 'West', 'East', 'East', 'West', 'West', 'East', 'East', 'West', 'West'],\n",
    "    'sales': np.random.randint(100, 1000, 20),\n",
    "    'quantity': np.random.randint(1, 10, 20)\n",
    "})\n",
    "print(\"Sales data:\")\n",
    "print(sales_data.head())"
   ]
  },
  {
   "cell_type": "code",
   "execution_count": 28,
   "metadata": {},
   "outputs": [
    {
     "name": "stdout",
     "output_type": "stream",
     "text": [
      "\n",
      "Sales summary by product and region:\n",
      "                sales  quantity\n",
      "product region                 \n",
      "A       East     1833       6.2\n",
      "        West     2064       3.6\n",
      "B       East     2801       5.2\n",
      "        West     2512       3.6\n"
     ]
    }
   ],
   "source": [
    "# Group by product and region\n",
    "product_region_grouped = sales_data.groupby(['product', 'region'])\n",
    "\n",
    "# Calculate total sales and average quantity by product and region\n",
    "sales_summary = product_region_grouped.agg({\n",
    "    'sales': 'sum',\n",
    "    'quantity': 'mean'\n",
    "})\n",
    "print(\"\\nSales summary by product and region:\")\n",
    "print(sales_summary)"
   ]
  },
  {
   "cell_type": "code",
   "execution_count": 29,
   "metadata": {},
   "outputs": [
    {
     "name": "stdout",
     "output_type": "stream",
     "text": [
      "\n",
      "Weekly sales by product:\n",
      "product          A       B\n",
      "date                      \n",
      "2023-01-01   108.0     NaN\n",
      "2023-01-08   567.0  2415.0\n",
      "2023-01-15  1511.0  1287.0\n",
      "2023-01-22  1711.0  1611.0\n"
     ]
    }
   ],
   "source": [
    "# Group by date (weekly) and product\n",
    "weekly_product_grouped = sales_data.groupby([pd.Grouper(key='date', freq='W'), 'product'])\n",
    "\n",
    "# Calculate weekly sales by product\n",
    "weekly_sales = weekly_product_grouped['sales'].sum().unstack()\n",
    "print(\"\\nWeekly sales by product:\")\n",
    "print(weekly_sales)"
   ]
  },
  {
   "cell_type": "code",
   "execution_count": 30,
   "metadata": {},
   "outputs": [
    {
     "data": {
      "image/png": "[encoded data removed]",
      "text/plain": [
       "<Figure size 1200x600 with 1 Axes>"
      ]
     },
     "metadata": {},
     "output_type": "display_data"
    }
   ],
   "source": [
    "# Visualize weekly sales by product\n",
    "import matplotlib.pyplot as plt\n",
    "\n",
    "weekly_sales.plot(kind='bar', figsize=(12, 6))\n",
    "plt.title('Weekly Sales by Product')\n",
    "plt.xlabel('Week')\n",
    "plt.ylabel('Sales')\n",
    "plt.tight_layout()\n",
    "plt.show()"
   ]
  },
  {
   "cell_type": "code",
   "execution_count": null,
   "metadata": {},
   "outputs": [],
   "source": []
  },
  {
   "cell_type": "code",
   "execution_count": null,
   "metadata": {},
   "outputs": [],
   "source": []
  }
 ],
 "metadata": {
  "kernelspec": {
   "display_name": "venv",
   "language": "python",
   "name": "python3"
  },
  "language_info": {
   "codemirror_mode": {
    "name": "ipython",
    "version": 3
   },
   "file_extension": ".py",
   "mimetype": "text/x-python",
   "name": "python",
   "nbconvert_exporter": "python",
   "pygments_lexer": "ipython3",
   "version": "3.13.2"
  }
 },
 "nbformat": 4,
 "nbformat_minor": 4
}
