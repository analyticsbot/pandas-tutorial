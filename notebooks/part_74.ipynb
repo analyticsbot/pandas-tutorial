{
 "cells": [
  {
   "cell_type": "markdown",
   "metadata": {},
   "source": [
    "#### Pandas Part 74: Boolean Data Types and Index Objects\n",
    "\n",
    "This notebook explores boolean data types with missing values and various Index object methods."
   ]
  },
  {
   "cell_type": "code",
   "execution_count": null,
   "metadata": {},
   "outputs": [],
   "source": [
    "import pandas as pd\n",
    "import numpy as np"
   ]
  },
  {
   "cell_type": "markdown",
   "metadata": {},
   "source": [
    "##### 1. Boolean Data with Missing Values\n",
    "\n",
    "The boolean dtype (with the alias \"boolean\") provides support for storing boolean data (True, False values) with missing values, which is not possible with a standard NumPy boolean array."
   ]
  },
  {
   "cell_type": "markdown",
   "metadata": {},
   "source": [
    "### Creating BooleanArray\n",
    "\n",
    "You can create a BooleanArray using `pd.array()` with dtype=\"boolean\"."
   ]
  },
  {
   "cell_type": "code",
   "execution_count": null,
   "metadata": {},
   "outputs": [],
   "source": [
    "# Create a BooleanArray\n",
    "bool_array = pd.array([True, False, None], dtype=\"boolean\")\n",
    "print(f\"BooleanArray: {bool_array}\")\n",
    "print(f\"Type: {type(bool_array)}\")\n",
    "print(f\"Dtype: {bool_array.dtype}\")"
   ]
  },
  {
   "cell_type": "markdown",
   "metadata": {},
   "source": [
    "### BooleanArray vs NumPy Boolean Array\n",
    "\n",
    "Let's compare BooleanArray with a standard NumPy boolean array."
   ]
  },
  {
   "cell_type": "code",
   "execution_count": null,
   "metadata": {},
   "outputs": [],
   "source": [
    "# Create a NumPy boolean array\n",
    "try:\n",
    "    np_bool_array = np.array([True, False, None], dtype=bool)\n",
    "    print(f\"NumPy boolean array: {np_bool_array}\")\n",
    "except Exception as e:\n",
    "    print(f\"Error: {e}\")\n",
    "    \n",
    "# NumPy converts None to False\n",
    "np_bool_array = np.array([True, False, None])\n",
    "print(f\"NumPy array with None: {np_bool_array}\")\n",
    "print(f\"Dtype: {np_bool_array.dtype}\")\n",
    "\n",
    "# Convert to boolean\n",
    "np_bool_array = np_bool_array.astype(bool)\n",
    "print(f\"Converted to boolean: {np_bool_array}\")\n",
    "print(f\"Dtype: {np_bool_array.dtype}\")"
   ]
  },
  {
   "cell_type": "markdown",
   "metadata": {},
   "source": [
    "### Creating Series with Boolean Dtype"
   ]
  },
  {
   "cell_type": "code",
   "execution_count": null,
   "metadata": {},
   "outputs": [],
   "source": [
    "# Create a Series with boolean dtype\n",
    "s = pd.Series([True, False, None], dtype=\"boolean\")\n",
    "print(s)\n",
    "print(f\"Dtype: {s.dtype}\")"
   ]
  },
  {
   "cell_type": "markdown",
   "metadata": {},
   "source": [
    "### Kleene Logic for Boolean Operations\n",
    "\n",
    "BooleanArray implements Kleene logic (three-value logic) for logical operations."
   ]
  },
  {
   "cell_type": "code",
   "execution_count": null,
   "metadata": {},
   "outputs": [],
   "source": [
    "# Create two Series with boolean dtype\n",
    "s1 = pd.Series([True, False, True, None], dtype=\"boolean\")\n",
    "s2 = pd.Series([True, False, None, None], dtype=\"boolean\")\n",
    "print(\"s1:\")\n",
    "print(s1)\n",
    "print(\"\\ns2:\")\n",
    "print(s2)"
   ]
  },
  {
   "cell_type": "code",
   "execution_count": null,
   "metadata": {},
   "outputs": [],
   "source": [
    "# Logical operations with Kleene logic\n",
    "print(\"s1 & s2 (AND):\")\n",
    "print(s1 & s2)\n",
    "\n",
    "print(\"\\ns1 | s2 (OR):\")\n",
    "print(s1 | s2)\n",
    "\n",
    "print(\"\\n~s1 (NOT):\")\n",
    "print(~s1)"
   ]
  },
  {
   "cell_type": "markdown",
   "metadata": {},
   "source": [
    "### Kleene Logic Truth Tables\n",
    "\n",
    "Let's demonstrate the truth tables for Kleene logic."
   ]
  },
  {
   "cell_type": "code",
   "execution_count": null,
   "metadata": {},
   "outputs": [],
   "source": [
    "# Create all possible combinations for AND operation\n",
    "values = [True, False, None]\n",
    "print(\"AND Truth Table (Kleene Logic):\")\n",
    "print(\"   | True  | False | None  \")\n",
    "print(\"---+-------+-------+-------\")\n",
    "for a in values:\n",
    "    row = f\"{a} | \"\n",
    "    for b in values:\n",
    "        result = pd.array([a], dtype=\"boolean\") & pd.array([b], dtype=\"boolean\")\n",
    "        row += f\"{result[0]:<5} | \"\n",
    "    print(row)"
   ]
  },
  {
   "cell_type": "code",
   "execution_count": null,
   "metadata": {},
   "outputs": [],
   "source": [
    "# Create all possible combinations for OR operation\n",
    "print(\"OR Truth Table (Kleene Logic):\")\n",
    "print(\"   | True  | False | None  \")\n",
    "print(\"---+-------+-------+-------\")\n",
    "for a in values:\n",
    "    row = f\"{a} | \"\n",
    "    for b in values:\n",
    "        result = pd.array([a], dtype=\"boolean\") | pd.array([b], dtype=\"boolean\")\n",
    "        row += f\"{result[0]:<5} | \"\n",
    "    print(row)"
   ]
  },
  {
   "cell_type": "markdown",
   "metadata": {},
   "source": [
    "### Comparison Operations with BooleanArray"
   ]
  },
  {
   "cell_type": "code",
   "execution_count": null,
   "metadata": {},
   "outputs": [],
   "source": [
    "# Create a BooleanArray\n",
    "bool_arr = pd.array([True, False, None], dtype=\"boolean\")\n",
    "print(f\"BooleanArray: {bool_arr}\")\n",
    "\n",
    "# Compare with a boolean\n",
    "result = bool_arr == True\n",
    "print(f\"Result of bool_arr == True: {result}\")\n",
    "print(f\"Result type: {type(result)}\")\n",
    "print(f\"Result dtype: {result.dtype}\")"
   ]
  },
  {
   "cell_type": "markdown",
   "metadata": {},
   "source": [
    "##### 2. Index Objects\n",
    "\n",
    "Index objects are immutable arrays that implement various methods for data indexing and alignment."
   ]
  },
  {
   "cell_type": "markdown",
   "metadata": {},
   "source": [
    "### Creating Index Objects"
   ]
  },
  {
   "cell_type": "code",
   "execution_count": null,
   "metadata": {},
   "outputs": [],
   "source": [
    "# Create an Index\n",
    "idx = pd.Index(['a', 'b', 'c'])\n",
    "print(f\"Index: {idx}\")\n",
    "print(f\"Type: {type(idx)}\")\n",
    "print(f\"Dtype: {idx.dtype}\")"
   ]
  },
  {
   "cell_type": "markdown",
   "metadata": {},
   "source": [
    "### get_level_values Method\n",
    "\n",
    "The `get_level_values` method returns an Index of values for the requested level. This is primarily useful for MultiIndex, but is also available on Index for compatibility."
   ]
  },
  {
   "cell_type": "code",
   "execution_count": null,
   "metadata": {},
   "outputs": [],
   "source": [
    "# Get level values\n",
    "level_values = idx.get_level_values(0)\n",
    "print(f\"Level values: {level_values}\")"
   ]
  },
  {
   "cell_type": "markdown",
   "metadata": {},
   "source": [
    "### get_loc Method\n",
    "\n",
    "The `get_loc` method gets the integer location, slice, or boolean mask for the requested label."
   ]
  },
  {
   "cell_type": "code",
   "execution_count": null,
   "metadata": {},
   "outputs": [],
   "source": [
    "# Get location for a unique index\n",
    "unique_index = pd.Index(['a', 'b', 'c'])\n",
    "loc = unique_index.get_loc('b')\n",
    "print(f\"Location of 'b' in unique_index: {loc}\")"
   ]
  },
  {
   "cell_type": "code",
   "execution_count": null,
   "metadata": {},
   "outputs": [],
   "source": [
    "# Get location for a monotonic index with duplicates\n",
    "monotonic_index = pd.Index(['a', 'b', 'b', 'c'])\n",
    "loc = monotonic_index.get_loc('b')\n",
    "print(f\"Location of 'b' in monotonic_index: {loc}\")\n",
    "print(f\"Type of location: {type(loc)}\")"
   ]
  },
  {
   "cell_type": "code",
   "execution_count": null,
   "metadata": {},
   "outputs": [],
   "source": [
    "# Get location for a non-monotonic index with duplicates\n",
    "non_monotonic_index = pd.Index(['a', 'b', 'c', 'b'])\n",
    "loc = non_monotonic_index.get_loc('b')\n",
    "print(f\"Location of 'b' in non_monotonic_index: {loc}\")\n",
    "print(f\"Type of location: {type(loc)}\")"
   ]
  },
  {
   "cell_type": "markdown",
   "metadata": {},
   "source": [
    "### get_loc with Method Parameter\n",
    "\n",
    "The `get_loc` method can use different methods for inexact matches."
   ]
  },
  {
   "cell_type": "code",
   "execution_count": null,
   "metadata": {},
   "outputs": [],
   "source": [
    "# Create a numeric index\n",
    "num_index = pd.Index([1, 3, 5, 7, 9])\n",
    "print(f\"Numeric index: {num_index}\")\n",
    "\n",
    "# Exact match\n",
    "try:\n",
    "    loc = num_index.get_loc(4)\n",
    "    print(f\"Location of 4: {loc}\")\n",
    "except KeyError as e:\n",
    "    print(f\"Error: {e}\")"
   ]
  },
  {
   "cell_type": "code",
   "execution_count": null,
   "metadata": {},
   "outputs": [],
   "source": [
    "# Using 'pad'/'ffill' method (find the previous index value)\n",
    "loc = num_index.get_loc(4, method='pad')\n",
    "print(f\"Location of 4 using 'pad' method: {loc}\")\n",
    "print(f\"Value at this location: {num_index[loc]}\")\n",
    "\n",
    "# Using 'backfill'/'bfill' method (use next index value)\n",
    "loc = num_index.get_loc(4, method='backfill')\n",
    "print(f\"\\nLocation of 4 using 'backfill' method: {loc}\")\n",
    "print(f\"Value at this location: {num_index[loc]}\")\n",
    "\n",
    "# Using 'nearest' method\n",
    "loc = num_index.get_loc(4, method='nearest')\n",
    "print(f\"\\nLocation of 4 using 'nearest' method: {loc}\")\n",
    "print(f\"Value at this location: {num_index[loc]}\")\n",
    "\n",
    "# Using 'nearest' method with a tie\n",
    "loc = num_index.get_loc(6, method='nearest')\n",
    "print(f\"\\nLocation of 6 using 'nearest' method: {loc}\")\n",
    "print(f\"Value at this location: {num_index[loc]}\")"
   ]
  },
  {
   "cell_type": "markdown",
   "metadata": {},
   "source": [
    "### get_loc with Tolerance Parameter\n",
    "\n",
    "The `tolerance` parameter specifies the maximum distance from the index value for inexact matches."
   ]
  },
  {
   "cell_type": "code",
   "execution_count": null,
   "metadata": {},
   "outputs": [],
   "source": [
    "# Using 'pad' method with tolerance\n",
    "try:\n",
    "    loc = num_index.get_loc(4, method='pad', tolerance=0.5)\n",
    "    print(f\"Location of 4 using 'pad' method with tolerance 0.5: {loc}\")\n",
    "except KeyError as e:\n",
    "    print(f\"Error: {e}\")\n",
    "\n",
    "# Using 'pad' method with larger tolerance\n",
    "loc = num_index.get_loc(4, method='pad', tolerance=1.0)\n",
    "print(f\"Location of 4 using 'pad' method with tolerance 1.0: {loc}\")\n",
    "print(f\"Value at this location: {num_index[loc]}\")"
   ]
  },
  {
   "cell_type": "markdown",
   "metadata": {},
   "source": [
    "### get_slice_bound Method\n",
    "\n",
    "The `get_slice_bound` method calculates the slice bound that corresponds to a given label."
   ]
  },
  {
   "cell_type": "code",
   "execution_count": null,
   "metadata": {},
   "outputs": [],
   "source": [
    "# Create an index\n",
    "idx = pd.Index(['a', 'b', 'c', 'd', 'e'])\n",
    "print(f\"Index: {idx}\")\n",
    "\n",
    "# Get left slice bound\n",
    "left_bound = idx.get_slice_bound('c', side='left', kind='loc')\n",
    "print(f\"Left slice bound for 'c': {left_bound}\")\n",
    "\n",
    "# Get right slice bound\n",
    "right_bound = idx.get_slice_bound('c', side='right', kind='loc')\n",
    "print(f\"Right slice bound for 'c': {right_bound}\")\n",
    "\n",
    "# Create a slice using these bounds\n",
    "sliced_idx = idx[left_bound:right_bound]\n",
    "print(f\"Sliced index: {sliced_idx}\")"
   ]
  },
  {
   "cell_type": "markdown",
   "metadata": {},
   "source": [
    "### get_value Method\n",
    "\n",
    "The `get_value` method provides a fast lookup of a value from a 1-dimensional ndarray."
   ]
  },
  {
   "cell_type": "code",
   "execution_count": null,
   "metadata": {},
   "outputs": [],
   "source": [
    "# Create a Series\n",
    "s = pd.Series([10, 20, 30], index=['a', 'b', 'c'])\n",
    "print(s)\n",
    "\n",
    "# Get value using get_value\n",
    "value = s.index.get_value(s, 'b')\n",
    "print(f\"\\nValue for 'b': {value}\")"
   ]
  }
 ],
 "metadata": {
  "kernelspec": {
   "display_name": "Python 3",
   "language": "python",
   "name": "python3"
  },
  "language_info": {
   "codemirror_mode": {
    "name": "ipython",
    "version": 3
   },
   "file_extension": ".py",
   "mimetype": "text/x-python",
   "name": "python",
   "nbconvert_exporter": "python",
   "pygments_lexer": "ipython3",
   "version": "3.8.5"
  }
 },
 "nbformat": 4,
 "nbformat_minor": 4
}