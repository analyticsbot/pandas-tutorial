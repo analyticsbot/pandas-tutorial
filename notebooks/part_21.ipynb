{
 "cells": [
  {
   "cell_type": "markdown",
   "metadata": {},
   "source": [
    "#### Part 21: Pivot Tables and Text Processing in Pandas\n",
    "\n",
    "In this notebook, we'll explore:\n",
    "- Advanced pivot table operations\n",
    "- Working with text data in pandas\n",
    "- String methods and pattern matching\n",
    "\n",
    "##### Setup\n",
    "First, let's import the necessary libraries:"
   ]
  },
  {
   "cell_type": "code",
   "execution_count": null,
   "metadata": {},
   "outputs": [],
   "source": [
    "import pandas as pd\n",
    "import numpy as np"
   ]
  },
  {
   "cell_type": "markdown",
   "metadata": {},
   "source": [
    "##### 1. Advanced Pivot Table Operations\n",
    "\n",
    "Let's create a sample DataFrame to demonstrate pivot table operations:"
   ]
  },
  {
   "cell_type": "code",
   "execution_count": null,
   "metadata": {},
   "outputs": [],
   "source": [
    "# Set a random seed for reproducibility\n",
    "np.random.seed([3, 1415])\n",
    "n = 20\n",
    "\n",
    "# Create column names\n",
    "cols = np.array(['key', 'row', 'item', 'col'])\n",
    "\n",
    "# Create a DataFrame with random data\n",
    "df = cols + pd.DataFrame((np.random.randint(5, size=(n, 4)) // [2, 1, 2, 1]).astype(str))\n",
    "df.columns = cols\n",
    "df = df.join(pd.DataFrame(np.random.rand(n, 2).round(2)).add_prefix('val'))\n",
    "\n",
    "df"
   ]
  },
  {
   "cell_type": "markdown",
   "metadata": {},
   "source": [
    "### 1.1 Pivoting with Single Aggregations\n",
    "\n",
    "Let's pivot the DataFrame so that 'col' values become columns, 'row' values become the index, and the mean of 'val0' are the values:"
   ]
  },
  {
   "cell_type": "code",
   "execution_count": null,
   "metadata": {},
   "outputs": [],
   "source": [
    "# Basic pivot table with mean aggregation (default)\n",
    "df.pivot_table(values='val0', index='row', columns='col', aggfunc='mean')"
   ]
  },
  {
   "cell_type": "markdown",
   "metadata": {},
   "source": [
    "We can replace missing values using the `fill_value` parameter:"
   ]
  },
  {
   "cell_type": "code",
   "execution_count": null,
   "metadata": {},
   "outputs": [],
   "source": [
    "# Pivot table with fill_value\n",
    "df.pivot_table(values='val0', index='row', columns='col', aggfunc='mean', fill_value=0)"
   ]
  },
  {
   "cell_type": "markdown",
   "metadata": {},
   "source": [
    "We can use other aggregation functions as well, such as sum:"
   ]
  },
  {
   "cell_type": "code",
   "execution_count": null,
   "metadata": {},
   "outputs": [],
   "source": [
    "# Pivot table with sum aggregation\n",
    "df.pivot_table(values='val0', index='row', columns='col', aggfunc='sum', fill_value=0)"
   ]
  },
  {
   "cell_type": "markdown",
   "metadata": {},
   "source": [
    "We can also calculate the frequency in which columns and rows occur together (cross tabulation) by using 'size' as the aggregation function:"
   ]
  },
  {
   "cell_type": "code",
   "execution_count": null,
   "metadata": {},
   "outputs": [],
   "source": [
    "# Cross tabulation using size\n",
    "df.pivot_table(index='row', columns='col', fill_value=0, aggfunc='size')"
   ]
  },
  {
   "cell_type": "markdown",
   "metadata": {},
   "source": [
    "### 1.2 Pivoting with Multiple Aggregations\n",
    "\n",
    "We can perform multiple aggregations by passing a list to the `aggfunc` parameter:"
   ]
  },
  {
   "cell_type": "code",
   "execution_count": null,
   "metadata": {},
   "outputs": [],
   "source": [
    "# Pivot table with multiple aggregations\n",
    "df.pivot_table(values='val0', index='row', columns='col', aggfunc=['mean', 'sum'])"
   ]
  },
  {
   "cell_type": "markdown",
   "metadata": {},
   "source": [
    "##### 2. Working with Text Data\n",
    "\n",
    "Pandas provides a wide range of string methods through the `.str` accessor. Let's explore some of these methods."
   ]
  },
  {
   "cell_type": "markdown",
   "metadata": {},
   "source": [
    "### 2.1 Testing for Strings that Match or Contain a Pattern\n",
    "\n",
    "You can check whether elements contain a pattern using `str.contains()`:"
   ]
  },
  {
   "cell_type": "code",
   "execution_count": null,
   "metadata": {},
   "outputs": [],
   "source": [
    "# Define a pattern\n",
    "pattern = r'[0-9][a-z]'\n",
    "\n",
    "# Check if elements contain the pattern\n",
    "pd.Series(['1', '2', '3a', '3b', '03c'], dtype=\"string\").str.contains(pattern)"
   ]
  },
  {
   "cell_type": "markdown",
   "metadata": {},
   "source": [
    "Or whether elements match a pattern using `str.match()`:"
   ]
  },
  {
   "cell_type": "code",
   "execution_count": null,
   "metadata": {},
   "outputs": [],
   "source": [
    "# Check if elements match the pattern\n",
    "pd.Series(['1', '2', '3a', '3b', '03c'], dtype=\"string\").str.match(pattern)"
   ]
  },
  {
   "cell_type": "markdown",
   "metadata": {},
   "source": [
    "The distinction between `match` and `contains` is strictness: \n",
    "- `match` relies on strict `re.match` (matches from the beginning of the string)\n",
    "- `contains` relies on `re.search` (matches anywhere in the string)\n",
    "\n",
    "Methods like `match`, `contains`, `startswith`, and `endswith` take an extra `na` argument so missing values can be considered True or False:"
   ]
  },
  {
   "cell_type": "code",
   "execution_count": null,
   "metadata": {},
   "outputs": [],
   "source": [
    "# Create a Series with NaN\n",
    "s4 = pd.Series(['A', 'B', 'C', 'Aaba', 'Baca', np.nan, 'CABA', 'dog', 'cat'], dtype=\"string\")\n",
    "\n",
    "# Check if elements contain 'A', treating NaN as False\n",
    "s4.str.contains('A', na=False)"
   ]
  },
  {
   "cell_type": "markdown",
   "metadata": {},
   "source": [
    "### 2.2 Creating Indicator Variables\n",
    "\n",
    "You can extract dummy variables from string columns. For example, if values are separated by a '|':"
   ]
  },
  {
   "cell_type": "code",
   "execution_count": null,
   "metadata": {},
   "outputs": [],
   "source": [
    "# Create a Series with pipe-separated values\n",
    "s = pd.Series(['a', 'a|b', np.nan, 'a|c'], dtype=\"string\")\n",
    "\n",
    "# Get dummy variables\n",
    "s.str.get_dummies(sep='|')"
   ]
  },
  {
   "cell_type": "markdown",
   "metadata": {},
   "source": [
    "String Index also supports `get_dummies` which returns a MultiIndex:"
   ]
  },
  {
   "cell_type": "code",
   "execution_count": null,
   "metadata": {},
   "outputs": [],
   "source": [
    "# Create an Index with pipe-separated values\n",
    "idx = pd.Index(['a', 'a|b', np.nan, 'a|c'])\n",
    "\n",
    "# Get dummy variables from Index\n",
    "idx.str.get_dummies(sep='|')"
   ]
  },
  {
   "cell_type": "markdown",
   "metadata": {},
   "source": [
    "### 2.3 Extracting Patterns from Strings\n",
    "\n",
    "Let's demonstrate how to extract patterns from strings using regular expressions:"
   ]
  },
  {
   "cell_type": "code",
   "execution_count": null,
   "metadata": {},
   "outputs": [],
   "source": [
    "# Define a pattern with two capture groups\n",
    "two_groups = r'([a-z])([0-9])'\n",
    "\n",
    "# Extract all occurrences of the pattern\n",
    "pd.Series([\"a1a2\", \"b1\", \"c1\"], dtype=\"string\").str.extractall(two_groups)"
   ]
  },
  {
   "cell_type": "markdown",
   "metadata": {},
   "source": [
    "### 2.4 String Method Summary\n",
    "\n",
    "Here's a summary of some common string methods available in pandas:\n",
    "\n",
    "- `cat()`: Concatenate strings\n",
    "- `split()`: Split strings on delimiter\n",
    "- `rsplit()`: Split strings on delimiter working from the end of the string\n",
    "- `get()`: Index into each element (retrieve i-th element)\n",
    "- `join()`: Join strings in each element of the Series with passed separator\n",
    "- `get_dummies()`: Split strings on the delimiter returning DataFrame of dummy variables\n",
    "- `contains()`: Return boolean array if each string contains pattern/regex\n",
    "- `replace()`: Replace occurrences of pattern/regex/string with some other string\n",
    "- `repeat()`: Duplicate values (s.str.repeat(3) equivalent to x * 3)\n",
    "- `pad()`: Add whitespace to left, right, or both sides of strings\n",
    "- `center()`: Equivalent to str.center\n",
    "- `ljust()`: Equivalent to str.ljust\n",
    "- `rjust()`: Equivalent to str.rjust\n",
    "- `zfill()`: Equivalent to str.zfill\n",
    "- `wrap()`: Split long strings into lines with length less than a given width\n",
    "- `slice()`: Slice each string in the Series\n",
    "- `slice_replace()`: Replace slice in each string with passed value\n",
    "- `count()`: Count occurrences of pattern\n",
    "- `startswith()`: Equivalent to str.startswith(pat) for each element\n",
    "- `endswith()`: Equivalent to str.endswith(pat) for each element"
   ]
  },
  {
   "cell_type": "markdown",
   "metadata": {},
   "source": [
    "Let's demonstrate a few of these methods:"
   ]
  },
  {
   "cell_type": "code",
   "execution_count": null,
   "metadata": {},
   "outputs": [],
   "source": [
    "# Create a sample Series\n",
    "s = pd.Series(['A', 'B', 'C', 'Aaba', 'Baca', 'CABA', 'dog', 'cat'], dtype=\"string\")\n",
    "\n",
    "# Lowercase\n",
    "print(\"Lowercase:\")\n",
    "print(s.str.lower())\n",
    "\n",
    "# Uppercase\n",
    "print(\"\\nUppercase:\")\n",
    "print(s.str.upper())\n",
    "\n",
    "# Length of each string\n",
    "print(\"\\nLength:\")\n",
    "print(s.str.len())\n",
    "\n",
    "# Count occurrences of 'a'\n",
    "print(\"\\nCount 'a':\")\n",
    "print(s.str.count('a'))"
   ]
  },
  {
   "cell_type": "markdown",
   "metadata": {},
   "source": [
    "##### Summary\n",
    "\n",
    "In this notebook, we've explored:\n",
    "\n",
    "1. Advanced pivot table operations in pandas, including:\n",
    "   - Single and multiple aggregations\n",
    "   - Handling missing values\n",
    "   - Cross tabulation\n",
    "\n",
    "2. Working with text data in pandas, including:\n",
    "   - Pattern matching with `contains()` and `match()`\n",
    "   - Creating indicator variables with `get_dummies()`\n",
    "   - Extracting patterns from strings\n",
    "   - Various string manipulation methods\n",
    "\n",
    "These techniques are essential for data preprocessing, transformation, and analysis in pandas."
   ]
  }
 ],
 "metadata": {
  "kernelspec": {
   "display_name": "Python 3",
   "language": "python",
   "name": "python3"
  },
  "language_info": {
   "codemirror_mode": {
    "name": "ipython",
    "version": 3
   },
   "file_extension": ".py",
   "mimetype": "text/x-python",
   "name": "python",
   "nbconvert_exporter": "python",
   "pygments_lexer": "ipython3",
   "version": "3.8.5"
  }
 },
 "nbformat": 4,
 "nbformat_minor": 4
}