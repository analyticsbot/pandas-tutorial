{
 "cells": [
  {
   "cell_type": "markdown",
   "metadata": {},
   "source": [
    "# Pandas Tutorial - Part 50\n",
    "\n",
    "This notebook covers various Series methods including:\n",
    "- Cross-sectioning with `xs()`\n",
    "- Working with timezones using `dt.tz_localize()` and `dt.tz_convert()`"
   ]
  },
  {
   "cell_type": "code",
   "execution_count": null,
   "metadata": {},
   "outputs": [],
   "source": [
    "import pandas as pd\n",
    "import numpy as np\n",
    "import matplotlib.pyplot as plt\n",
    "import pytz\n",
    "\n",
    "%matplotlib inline"
   ]
  },
  {
   "cell_type": "markdown",
   "metadata": {},
   "source": [
    "## Cross-sectioning with `xs()`\n",
    "\n",
    "The `xs()` method returns a cross-section from a Series or DataFrame with a MultiIndex."
   ]
  },
  {
   "cell_type": "code",
   "execution_count": null,
   "metadata": {},
   "outputs": [],
   "source": [
    "# Create a DataFrame with MultiIndex\n",
    "d = {'num_legs': [4, 4, 2, 2],\n",
    "     'num_wings': [0, 0, 2, 2],\n",
    "     'class': ['mammal', 'mammal', 'mammal', 'bird'],\n",
    "     'animal': ['cat', 'dog', 'bat', 'penguin'],\n",
    "     'locomotion': ['walks', 'walks', 'flies', 'walks']}\n",
    "df = pd.DataFrame(data=d)\n",
    "df = df.set_index(['class', 'animal', 'locomotion'])\n",
    "print(\"DataFrame with MultiIndex:\")\n",
    "print(df)"
   ]
  },
  {
   "cell_type": "code",
   "execution_count": null,
   "metadata": {},
   "outputs": [],
   "source": [
    "# Get values at specified index\n",
    "print(\"Cross-section for 'mammal':\")\n",
    "print(df.xs('mammal'))"
   ]
  },
  {
   "cell_type": "code",
   "execution_count": null,
   "metadata": {},
   "outputs": [],
   "source": [
    "# Get values at several indexes\n",
    "print(\"Cross-section for ('mammal', 'dog'):\")\n",
    "print(df.xs(('mammal', 'dog')))"
   ]
  },
  {
   "cell_type": "code",
   "execution_count": null,
   "metadata": {},
   "outputs": [],
   "source": [
    "# Get values at specified index and level\n",
    "print(\"Cross-section for 'cat' at level 1:\")\n",
    "print(df.xs('cat', level=1))"
   ]
  },
  {
   "cell_type": "code",
   "execution_count": null,
   "metadata": {},
   "outputs": [],
   "source": [
    "# Get values at specified index and level with drop_level=False\n",
    "print(\"Cross-section for 'cat' at level 1 with drop_level=False:\")\n",
    "print(df.xs('cat', level=1, drop_level=False))"
   ]
  },
  {
   "cell_type": "code",
   "execution_count": null,
   "metadata": {},
   "outputs": [],
   "source": [
    "# Get values at specified index and level by position\n",
    "print(\"Cross-section for 'walks' at level 2:\")\n",
    "print(df.xs('walks', level=2))"
   ]
  },
  {
   "cell_type": "code",
   "execution_count": null,
   "metadata": {},
   "outputs": [],
   "source": [
    "# Create a Series with MultiIndex\n",
    "s = pd.Series([1, 2, 3, 4], \n",
    "              index=pd.MultiIndex.from_tuples([('a', 'one'), ('a', 'two'), \n",
    "                                              ('b', 'one'), ('b', 'two')],\n",
    "                                             names=['letter', 'number']))\n",
    "print(\"Series with MultiIndex:\")\n",
    "print(s)"
   ]
  },
  {
   "cell_type": "code",
   "execution_count": null,
   "metadata": {},
   "outputs": [],
   "source": [
    "# Get values at specified index\n",
    "print(\"Cross-section for 'a':\")\n",
    "print(s.xs('a'))"
   ]
  },
  {
   "cell_type": "code",
   "execution_count": null,
   "metadata": {},
   "outputs": [],
   "source": [
    "# Get values at specified index and level\n",
    "print(\"Cross-section for 'one' at level 'number':\")\n",
    "print(s.xs('one', level='number'))"
   ]
  },
  {
   "cell_type": "markdown",
   "metadata": {},
   "source": [
    "## Working with Timezones\n",
    "\n",
    "Pandas provides methods for working with timezones in datetime Series."
   ]
  },
  {
   "cell_type": "markdown",
   "metadata": {},
   "source": [
    "### Localizing Timezones with `dt.tz_localize()`\n",
    "\n",
    "The `dt.tz_localize()` method localizes tz-naive datetime Series to a given timezone."
   ]
  },
  {
   "cell_type": "code",
   "execution_count": null,
   "metadata": {},
   "outputs": [],
   "source": [
    "# Create a datetime Series\n",
    "s = pd.Series(pd.date_range('2023-01-01', periods=5))\n",
    "print(\"Original datetime Series (tz-naive):\")\n",
    "print(s)"
   ]
  },
  {
   "cell_type": "code",
   "execution_count": null,
   "metadata": {},
   "outputs": [],
   "source": [
    "# Localize to UTC\n",
    "s_utc = s.dt.tz_localize('UTC')\n",
    "print(\"Datetime Series localized to UTC:\")\n",
    "print(s_utc)"
   ]
  },
  {
   "cell_type": "code",
   "execution_count": null,
   "metadata": {},
   "outputs": [],
   "source": [
    "# Localize to US/Eastern\n",
    "s_eastern = s.dt.tz_localize('US/Eastern')\n",
    "print(\"Datetime Series localized to US/Eastern:\")\n",
    "print(s_eastern)"
   ]
  },
  {
   "cell_type": "code",
   "execution_count": null,
   "metadata": {},
   "outputs": [],
   "source": [
    "# Localize to Europe/London\n",
    "s_london = s.dt.tz_localize('Europe/London')\n",
    "print(\"Datetime Series localized to Europe/London:\")\n",
    "print(s_london)"
   ]
  },
  {
   "cell_type": "code",
   "execution_count": null,
   "metadata": {},
   "outputs": [],
   "source": [
    "# Create a datetime Series during DST transition\n",
    "s_dst = pd.to_datetime(pd.Series(['2018-10-28 01:30:00',\n",
    "                                 '2018-10-28 02:00:00',\n",
    "                                 '2018-10-28 02:30:00',\n",
    "                                 '2018-10-28 02:00:00',\n",
    "                                 '2018-10-28 02:30:00',\n",
    "                                 '2018-10-28 03:00:00',\n",
    "                                 '2018-10-28 03:30:00']))\n",
    "print(\"Datetime Series during DST transition:\")\n",
    "print(s_dst)"
   ]
  },
  {
   "cell_type": "code",
   "execution_count": null,
   "metadata": {},
   "outputs": [],
   "source": [
    "# Localize with ambiguous='infer'\n",
    "s_dst_cet = s_dst.dt.tz_localize('CET', ambiguous='infer')\n",
    "print(\"Datetime Series localized to CET with ambiguous='infer':\")\n",
    "print(s_dst_cet)"
   ]
  },
  {
   "cell_type": "code",
   "execution_count": null,
   "metadata": {},
   "outputs": [],
   "source": [
    "# Localize with explicit ambiguous array\n",
    "s_ambiguous = pd.to_datetime(pd.Series(['2018-10-28 01:20:00',\n",
    "                                       '2018-10-28 02:36:00',\n",
    "                                       '2018-10-28 03:46:00']))\n",
    "s_ambiguous_cet = s_ambiguous.dt.tz_localize('CET', ambiguous=np.array([True, True, False]))\n",
    "print(\"Datetime Series localized to CET with explicit ambiguous array:\")\n",
    "print(s_ambiguous_cet)"
   ]
  },
  {
   "cell_type": "code",
   "execution_count": null,
   "metadata": {},
   "outputs": [],
   "source": [
    "# Create a datetime Series with nonexistent times (during DST spring forward)\n",
    "s_nonexistent = pd.to_datetime(pd.Series(['2015-03-29 02:30:00',\n",
    "                                         '2015-03-29 03:30:00']))\n",
    "print(\"Datetime Series with nonexistent times:\")\n",
    "print(s_nonexistent)"
   ]
  },
  {
   "cell_type": "code",
   "execution_count": null,
   "metadata": {},
   "outputs": [],
   "source": [
    "# Localize with nonexistent='shift_forward'\n",
    "s_nonexistent_forward = s_nonexistent.dt.tz_localize('Europe/Warsaw', nonexistent='shift_forward')\n",
    "print(\"Datetime Series localized with nonexistent='shift_forward':\")\n",
    "print(s_nonexistent_forward)"
   ]
  },
  {
   "cell_type": "code",
   "execution_count": null,
   "metadata": {},
   "outputs": [],
   "source": [
    "# Localize with nonexistent='shift_backward'\n",
    "s_nonexistent_backward = s_nonexistent.dt.tz_localize('Europe/Warsaw', nonexistent='shift_backward')\n",
    "print(\"Datetime Series localized with nonexistent='shift_backward':\")\n",
    "print(s_nonexistent_backward)"
   ]
  },
  {
   "cell_type": "code",
   "execution_count": null,
   "metadata": {},
   "outputs": [],
   "source": [
    "# Localize with nonexistent=Timedelta\n",
    "s_nonexistent_timedelta = s_nonexistent.dt.tz_localize('Europe/Warsaw', nonexistent=pd.Timedelta('1H'))\n",
    "print(\"Datetime Series localized with nonexistent=Timedelta('1H'):\")\n",
    "print(s_nonexistent_timedelta)"
   ]
  },
  {
   "cell_type": "markdown",
   "metadata": {},
   "source": [
    "### Converting Timezones with `dt.tz_convert()`\n",
    "\n",
    "The `dt.tz_convert()` method converts tz-aware datetime Series from one timezone to another."
   ]
  },
  {
   "cell_type": "code",
   "execution_count": null,
   "metadata": {},
   "outputs": [],
   "source": [
    "# Create a tz-aware datetime Series\n",
    "dti = pd.date_range(start='2014-08-01 09:00', freq='H', periods=3, tz='Europe/Berlin')\n",
    "s = pd.Series(dti)\n",
    "print(\"Original tz-aware datetime Series (Europe/Berlin):\")\n",
    "print(s)"
   ]
  },
  {
   "cell_type": "code",
   "execution_count": null,
   "metadata": {},
   "outputs": [],
   "source": [
    "# Convert to US/Eastern\n",
    "s_eastern = s.dt.tz_convert('US/Eastern')\n",
    "print(\"Datetime Series converted to US/Eastern:\")\n",
    "print(s_eastern)"
   ]
  },
  {
   "cell_type": "code",
   "execution_count": null,
   "metadata": {},
   "outputs": [],
   "source": [
    "# Convert to Asia/Tokyo\n",
    "s_tokyo = s.dt.tz_convert('Asia/Tokyo')\n",
    "print(\"Datetime Series converted to Asia/Tokyo:\")\n",
    "print(s_tokyo)"
   ]
  },
  {
   "cell_type": "code",
   "execution_count": null,
   "metadata": {},
   "outputs": [],
   "source": [
    "# Convert to UTC\n",
    "s_utc = s.dt.tz_convert('UTC')\n",
    "print(\"Datetime Series converted to UTC:\")\n",
    "print(s_utc)"
   ]
  },
  {
   "cell_type": "code",
   "execution_count": null,
   "metadata": {},
   "outputs": [],
   "source": [
    "# Remove timezone information\n",
    "s_naive = s.dt.tz_convert(None)\n",
    "print(\"Datetime Series with timezone information removed:\")\n",
    "print(s_naive)"
   ]
  },
  {
   "cell_type": "code",
   "execution_count": null,
   "metadata": {},
   "outputs": [],
   "source": [
    "# Try to convert a tz-naive Series\n",
    "s_naive = pd.Series(pd.date_range('2023-01-01', periods=3))\n",
    "print(\"Tz-naive datetime Series:\")\n",
    "print(s_naive)\n",
    "\n",
    "try:\n",
    "    s_naive.dt.tz_convert('UTC')\n",
    "except TypeError as e:\n",
    "    print(f\"\\nError: {e}\")"
   ]
  },
  {
   "cell_type": "markdown",
   "metadata": {},
   "source": [
    "## Practical Applications of Timezone Handling"
   ]
  },
  {
   "cell_type": "code",
   "execution_count": null,
   "metadata": {},
   "outputs": [],
   "source": [
    "# Create a datetime Series with timestamps from different timezones\n",
    "timestamps = [\n",
    "    '2023-01-01 08:00:00',  # New York\n",
    "    '2023-01-01 14:00:00',  # London\n",
    "    '2023-01-01 23:00:00',  # Tokyo\n",
    "]\n",
    "locations = ['New York', 'London', 'Tokyo']\n",
    "timezones = ['US/Eastern', 'Europe/London', 'Asia/Tokyo']\n",
    "\n",
    "# Create a DataFrame\n",
    "df = pd.DataFrame({\n",
    "    'timestamp': pd.to_datetime(timestamps),\n",
    "    'location': locations,\n",
    "    'timezone': timezones\n",
    "})\n",
    "print(\"Original DataFrame:\")\n",
    "print(df)"
   ]
  },
  {
   "cell_type": "code",
   "execution_count": null,
   "metadata": {},
   "outputs": [],
   "source": [
    "# Localize each timestamp to its corresponding timezone\n",
    "for i, row in df.iterrows():\n",
    "    df.loc[i, 'localized_timestamp'] = row['timestamp'].tz_localize(row['timezone'])\n",
    "\n",
    "print(\"DataFrame with localized timestamps:\")\n",
    "print(df)"
   ]
  },
  {
   "cell_type": "code",
   "execution_count": null,
   "metadata": {},
   "outputs": [],
   "source": [
    "# Convert all timestamps to UTC\n",
    "df['utc_timestamp'] = df['localized_timestamp'].apply(lambda x: x.tz_convert('UTC'))\n",
    "print(\"DataFrame with UTC timestamps:\")\n",
    "print(df)"
   ]
  },
  {
   "cell_type": "code",
   "execution_count": null,
   "metadata": {},
   "outputs": [],
   "source": [
    "# Check if all timestamps are at the same UTC time\n",
    "utc_times = df['utc_timestamp'].dt.strftime('%Y-%m-%d %H:%M:%S')\n",
    "print(\"UTC times:\")\n",
    "print(utc_times)\n",
    "print(f\"\\nAll timestamps are at the same UTC time: {utc_times.nunique() == 1}\")"
   ]
  },
  {
   "cell_type": "markdown",
   "metadata": {},
   "source": [
    "## Conclusion\n",
    "\n",
    "In this notebook, we've explored various Series methods in pandas:\n",
    "\n",
    "1. Cross-sectioning with `xs()`, which returns a cross-section from a Series or DataFrame with a MultiIndex, allowing for flexible data selection at different levels.\n",
    "2. Working with timezones using `dt.tz_localize()` and `dt.tz_convert()`, which provide powerful tools for handling datetime data across different timezones.\n",
    "\n",
    "These methods are essential tools for data manipulation and analysis in pandas, allowing for flexible and powerful operations on your data, especially when working with hierarchical indexes and time series data across different timezones."
   ]
  }
 ],
 "metadata": {
  "kernelspec": {
   "display_name": "Python 3",
   "language": "python",
   "name": "python3"
  },
  "language_info": {
   "codemirror_mode": {
    "name": "ipython",
    "version": 3
   },
   "file_extension": ".py",
   "mimetype": "text/x-python",
   "name": "python",
   "nbconvert_exporter": "python",
   "pygments_lexer": "ipython3",
   "version": "3.8.5"
  }
 },
 "nbformat": 4,
 "nbformat_minor": 4
}
