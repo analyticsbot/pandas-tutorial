{
 "cells": [
  {
   "cell_type": "markdown",
   "metadata": {},
   "source": [
    "##### Indexing and Data Alignment"
   ]
  },
  {
   "cell_type": "code",
   "execution_count": null,
   "metadata": {},
   "outputs": [],
   "source": [
    "import pandas as pd\n",
    "import numpy as np"
   ]
  },
  {
   "cell_type": "markdown",
   "metadata": {},
   "source": [
    "##### Basic Indexing Operations\n",
    "Different ways to select data"
   ]
  },
  {
   "cell_type": "code",
   "execution_count": null,
   "metadata": {},
   "outputs": [],
   "source": [
    "# Create sample DataFrame\n",
    "df = pd.DataFrame({\n",
    "    'one': pd.Series([1., 2., 3., np.nan]),\n",
    "    'flag': pd.Series([False, False, True, False]),\n",
    "    'foo': 'bar'\n",
    "}, index=['a', 'b', 'c', 'd'])\n",
    "\n",
    "print(\"Original DataFrame:\")\n",
    "print(df)\n",
    "\n",
    "print(\"\\nSelect row by label:\")\n",
    "print(df.loc['b'])\n",
    "\n",
    "print(\"\\nSelect row by integer location:\")\n",
    "print(df.iloc[2])"
   ]
  },
  {
   "cell_type": "markdown",
   "metadata": {},
   "source": [
    "##### Data Alignment\n",
    "Automatic alignment of DataFrame objects"
   ]
  },
  {
   "cell_type": "code",
   "execution_count": null,
   "metadata": {},
   "outputs": [],
   "source": [
    "# Create two DataFrames with different shapes\n",
    "df1 = pd.DataFrame(np.random.randn(10, 4), columns=['A', 'B', 'C', 'D'])\n",
    "df2 = pd.DataFrame(np.random.randn(7, 3), columns=['A', 'B', 'C'])\n",
    "\n",
    "print(\"DataFrame 1:\")\n",
    "print(df1.head())\n",
    "print(\"\\nDataFrame 2:\")\n",
    "print(df2.head())\n",
    "\n",
    "print(\"\\nResult of addition (note NaN values):\")\n",
    "print((df1 + df2).head())"
   ]
  },
  {
   "cell_type": "code",
   "execution_count": null,
   "metadata": {},
   "outputs": [],
   "source": [
    "# Time series data alignment\n",
    "index = pd.date_range('1/1/2000', periods=8)\n",
    "df_time = pd.DataFrame(np.random.randn(8, 3), index=index, columns=list('ABC'))\n",
    "\n",
    "print(\"Time series DataFrame:\")\n",
    "print(df_time)\n",
    "\n",
    "print(\"\\nSubtract column A using proper axis alignment:\")\n",
    "print(df_time.sub(df_time['A'], axis=0))"
   ]
  },
  {
   "cell_type": "markdown",
   "metadata": {},
   "source": [
    "##### SQL-like Operations\n",
    "Filtering and grouping data"
   ]
  },
  {
   "cell_type": "code",
   "execution_count": null,
   "metadata": {},
   "outputs": [],
   "source": [
    "# Load tips dataset\n",
    "tips = pd.read_csv('data/tips.csv')\n",
    "print(\"Tips dataset:\")\n",
    "print(tips.head())"
   ]
  },
  {
   "cell_type": "code",
   "execution_count": null,
   "metadata": {},
   "outputs": [],
   "source": [
    "# WHERE clause equivalent\n",
    "print(\"Dinner tips:\")\n",
    "print(tips[tips['time'] == 'Dinner'].head())\n",
    "\n",
    "print(\"\\nDinner tips over $5.00:\")\n",
    "print(tips[(tips['time'] == 'Dinner') & (tips['tip'] > 5.00)])"
   ]
  },
  {
   "cell_type": "code",
   "execution_count": null,
   "metadata": {},
   "outputs": [],
   "source": [
    "# NULL checking\n",
    "frame = pd.DataFrame({\n",
    "    'col1': ['A', 'B', np.NaN, 'C', 'D'],\n",
    "    'col2': ['F', np.NaN, 'G', 'H', 'I']\n",
    "})\n",
    "\n",
    "print(\"Original DataFrame:\")\n",
    "print(frame)\n",
    "\n",
    "print(\"\\nRows where col2 is NULL:\")\n",
    "print(frame[frame['col2'].isna()])\n",
    "\n",
    "print(\"\\nRows where col1 is NOT NULL:\")\n",
    "print(frame[frame['col1'].notna()])"
   ]
  },
  {
   "cell_type": "code",
   "execution_count": null,
   "metadata": {},
   "outputs": [],
   "source": [
    "# GROUP BY operations\n",
    "print(\"Count of tips by sex:\")\n",
    "print(tips.groupby('sex').size())\n",
    "\n",
    "print(\"\\nAverage tip by sex and time:\")\n",
    "print(tips.groupby(['sex', 'time'])['tip'].mean())"
   ]
  }
 ],
 "metadata": {
  "kernelspec": {
   "display_name": "Python 3",
   "language": "python",
   "name": "python3"
  },
  "language_info": {
   "codemirror_mode": {
    "name": "ipython",
    "version": 3
   },
   "file_extension": ".py",
   "mimetype": "text/x-python",
   "name": "python",
   "nbconvert_exporter": "python",
   "pygments_lexer": "ipython3",
   "version": "3.8.0"
  }
 },
 "nbformat": 4,
 "nbformat_minor": 4
}