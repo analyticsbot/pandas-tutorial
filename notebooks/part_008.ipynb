{
 "cells": [
  {
   "cell_type": "markdown",
   "metadata": {},
   "source": [
    "##### Indexing and Data Alignment"
   ]
  },
  {
   "cell_type": "code",
   "execution_count": 1,
   "metadata": {},
   "outputs": [],
   "source": [
    "import pandas as pd\n",
    "import numpy as np"
   ]
  },
  {
   "cell_type": "markdown",
   "metadata": {},
   "source": [
    "##### Basic Indexing Operations\n",
    "Different ways to select data"
   ]
  },
  {
   "cell_type": "code",
   "execution_count": 2,
   "metadata": {},
   "outputs": [
    {
     "name": "stdout",
     "output_type": "stream",
     "text": [
      "Original DataFrame:\n",
      "   one flag  foo\n",
      "a  NaN  NaN  bar\n",
      "b  NaN  NaN  bar\n",
      "c  NaN  NaN  bar\n",
      "d  NaN  NaN  bar\n",
      "\n",
      "Select row by label:\n",
      "one     NaN\n",
      "flag    NaN\n",
      "foo     bar\n",
      "Name: b, dtype: object\n",
      "\n",
      "Select row by integer location:\n",
      "one     NaN\n",
      "flag    NaN\n",
      "foo     bar\n",
      "Name: c, dtype: object\n"
     ]
    }
   ],
   "source": [
    "# Create sample DataFrame\n",
    "df = pd.DataFrame({\n",
    "    'one': pd.Series([1., 2., 3., np.nan]),\n",
    "    'flag': pd.Series([False, False, True, False]),\n",
    "    'foo': 'bar'\n",
    "}, index=['a', 'b', 'c', 'd'])\n",
    "\n",
    "print(\"Original DataFrame:\")\n",
    "print(df)\n",
    "\n",
    "print(\"\\nSelect row by label:\")\n",
    "print(df.loc['b'])\n",
    "\n",
    "print(\"\\nSelect row by integer location:\")\n",
    "print(df.iloc[2])"
   ]
  },
  {
   "cell_type": "markdown",
   "metadata": {},
   "source": [
    "##### Data Alignment\n",
    "Automatic alignment of DataFrame objects"
   ]
  },
  {
   "cell_type": "code",
   "execution_count": 3,
   "metadata": {},
   "outputs": [
    {
     "name": "stdout",
     "output_type": "stream",
     "text": [
      "DataFrame 1:\n",
      "          A         B         C         D\n",
      "0  1.567921 -0.600520  0.564308 -0.030036\n",
      "1  0.031780 -0.990990  0.851764 -0.024936\n",
      "2  0.572579  1.058543 -1.403617 -0.795455\n",
      "3 -0.345817 -2.169294 -0.825950  0.853941\n",
      "4  1.997710  0.295261  0.083457  1.352197\n",
      "\n",
      "DataFrame 2:\n",
      "          A         B         C\n",
      "0 -0.911836 -1.013608 -0.188633\n",
      "1 -0.580276 -0.956758  0.777768\n",
      "2 -1.958341 -0.972582  0.262211\n",
      "3  1.642854  1.383643  0.302067\n",
      "4 -0.882981 -0.339678  2.253424\n",
      "\n",
      "Result of addition (note NaN values):\n",
      "          A         B         C   D\n",
      "0  0.656085 -1.614128  0.375676 NaN\n",
      "1 -0.548497 -1.947748  1.629532 NaN\n",
      "2 -1.385763  0.085962 -1.141405 NaN\n",
      "3  1.297037 -0.785651 -0.523883 NaN\n",
      "4  1.114729 -0.044417  2.336881 NaN\n"
     ]
    }
   ],
   "source": [
    "# Create two DataFrames with different shapes\n",
    "df1 = pd.DataFrame(np.random.randn(10, 4), columns=['A', 'B', 'C', 'D'])\n",
    "df2 = pd.DataFrame(np.random.randn(7, 3), columns=['A', 'B', 'C'])\n",
    "\n",
    "print(\"DataFrame 1:\")\n",
    "print(df1.head())\n",
    "print(\"\\nDataFrame 2:\")\n",
    "print(df2.head())\n",
    "\n",
    "print(\"\\nResult of addition (note NaN values):\")\n",
    "print((df1 + df2).head())"
   ]
  },
  {
   "cell_type": "code",
   "execution_count": 4,
   "metadata": {},
   "outputs": [
    {
     "name": "stdout",
     "output_type": "stream",
     "text": [
      "Time series DataFrame:\n",
      "                   A         B         C\n",
      "2000-01-01  0.450239  0.703165  0.469230\n",
      "2000-01-02  0.745005 -0.548308  0.762866\n",
      "2000-01-03 -0.351441  1.086420  0.278941\n",
      "2000-01-04 -0.505850  2.643367  0.004853\n",
      "2000-01-05  1.643875  0.918085  0.599805\n",
      "2000-01-06 -1.199307  0.473668  1.027259\n",
      "2000-01-07  0.960449 -0.275233  2.097684\n",
      "2000-01-08 -0.708572 -0.974419  0.468220\n",
      "\n",
      "Subtract column A using proper axis alignment:\n",
      "              A         B         C\n",
      "2000-01-01  0.0  0.252926  0.018990\n",
      "2000-01-02  0.0 -1.293313  0.017861\n",
      "2000-01-03  0.0  1.437862  0.630382\n",
      "2000-01-04  0.0  3.149217  0.510704\n",
      "2000-01-05  0.0 -0.725789 -1.044070\n",
      "2000-01-06  0.0  1.672975  2.226566\n",
      "2000-01-07  0.0 -1.235682  1.137235\n",
      "2000-01-08  0.0 -0.265847  1.176792\n"
     ]
    }
   ],
   "source": [
    "# Time series data alignment\n",
    "index = pd.date_range('1/1/2000', periods=8)\n",
    "df_time = pd.DataFrame(np.random.randn(8, 3), index=index, columns=list('ABC'))\n",
    "\n",
    "print(\"Time series DataFrame:\")\n",
    "print(df_time)\n",
    "\n",
    "print(\"\\nSubtract column A using proper axis alignment:\")\n",
    "print(df_time.sub(df_time['A'], axis=0))"
   ]
  },
  {
   "cell_type": "markdown",
   "metadata": {},
   "source": [
    "##### SQL-like Operations\n",
    "Filtering and grouping data"
   ]
  },
  {
   "cell_type": "code",
   "execution_count": 6,
   "metadata": {},
   "outputs": [
    {
     "name": "stdout",
     "output_type": "stream",
     "text": [
      "Tips dataset:\n",
      "   total_bill   tip     sex smoker  day    time  size\n",
      "0       16.99  1.01  Female     No  Sun  Dinner     2\n",
      "1       10.34  1.66    Male     No  Sun  Dinner     3\n",
      "2       21.01  3.50    Male     No  Sun  Dinner     3\n",
      "3       23.68  3.31    Male     No  Sun  Dinner     2\n",
      "4       24.59  3.61  Female     No  Sun  Dinner     4\n"
     ]
    }
   ],
   "source": [
    "# Load tips dataset\n",
    "tips = pd.read_csv('data/tips.csv')\n",
    "print(\"Tips dataset:\")\n",
    "print(tips.head())"
   ]
  },
  {
   "cell_type": "code",
   "execution_count": 7,
   "metadata": {},
   "outputs": [
    {
     "name": "stdout",
     "output_type": "stream",
     "text": [
      "Dinner tips:\n",
      "   total_bill   tip     sex smoker  day    time  size\n",
      "0       16.99  1.01  Female     No  Sun  Dinner     2\n",
      "1       10.34  1.66    Male     No  Sun  Dinner     3\n",
      "2       21.01  3.50    Male     No  Sun  Dinner     3\n",
      "3       23.68  3.31    Male     No  Sun  Dinner     2\n",
      "4       24.59  3.61  Female     No  Sun  Dinner     4\n",
      "\n",
      "Dinner tips over $5.00:\n",
      "     total_bill    tip     sex smoker  day    time  size\n",
      "23        39.42   7.58    Male     No  Sat  Dinner     4\n",
      "44        30.40   5.60    Male     No  Sun  Dinner     4\n",
      "47        32.40   6.00    Male     No  Sun  Dinner     4\n",
      "52        34.81   5.20  Female     No  Sun  Dinner     4\n",
      "59        48.27   6.73    Male     No  Sat  Dinner     4\n",
      "116       29.93   5.07    Male     No  Sun  Dinner     4\n",
      "155       29.85   5.14  Female     No  Sun  Dinner     5\n",
      "170       50.81  10.00    Male    Yes  Sat  Dinner     3\n",
      "172        7.25   5.15    Male    Yes  Sun  Dinner     2\n",
      "181       23.33   5.65    Male    Yes  Sun  Dinner     2\n",
      "183       23.17   6.50    Male    Yes  Sun  Dinner     4\n",
      "211       25.89   5.16    Male    Yes  Sat  Dinner     4\n",
      "212       48.33   9.00    Male     No  Sat  Dinner     4\n",
      "214       28.17   6.50  Female    Yes  Sat  Dinner     3\n",
      "239       29.03   5.92    Male     No  Sat  Dinner     3\n"
     ]
    }
   ],
   "source": [
    "# WHERE clause equivalent\n",
    "print(\"Dinner tips:\")\n",
    "print(tips[tips['time'] == 'Dinner'].head())\n",
    "\n",
    "print(\"\\nDinner tips over $5.00:\")\n",
    "print(tips[(tips['time'] == 'Dinner') & (tips['tip'] > 5.00)])"
   ]
  },
  {
   "cell_type": "code",
   "execution_count": 9,
   "metadata": {},
   "outputs": [
    {
     "name": "stdout",
     "output_type": "stream",
     "text": [
      "Original DataFrame:\n",
      "  col1 col2\n",
      "0    A    F\n",
      "1    B  NaN\n",
      "2  NaN    G\n",
      "3    C    H\n",
      "4    D    I\n",
      "\n",
      "Rows where col2 is NULL:\n",
      "  col1 col2\n",
      "1    B  NaN\n",
      "\n",
      "Rows where col1 is NOT NULL:\n",
      "  col1 col2\n",
      "0    A    F\n",
      "1    B  NaN\n",
      "3    C    H\n",
      "4    D    I\n"
     ]
    }
   ],
   "source": [
    "# NULL checking\n",
    "frame = pd.DataFrame({\n",
    "    'col1': ['A', 'B', np.nan, 'C', 'D'],\n",
    "    'col2': ['F', np.nan, 'G', 'H', 'I']\n",
    "})\n",
    "\n",
    "print(\"Original DataFrame:\")\n",
    "print(frame)\n",
    "\n",
    "print(\"\\nRows where col2 is NULL:\")\n",
    "print(frame[frame['col2'].isna()])\n",
    "\n",
    "print(\"\\nRows where col1 is NOT NULL:\")\n",
    "print(frame[frame['col1'].notna()])"
   ]
  },
  {
   "cell_type": "code",
   "execution_count": 10,
   "metadata": {},
   "outputs": [
    {
     "name": "stdout",
     "output_type": "stream",
     "text": [
      "Count of tips by sex:\n",
      "sex\n",
      "Female     87\n",
      "Male      157\n",
      "dtype: int64\n",
      "\n",
      "Average tip by sex and time:\n",
      "sex     time  \n",
      "Female  Dinner    3.002115\n",
      "        Lunch     2.582857\n",
      "Male    Dinner    3.144839\n",
      "        Lunch     2.882121\n",
      "Name: tip, dtype: float64\n"
     ]
    }
   ],
   "source": [
    "# GROUP BY operations\n",
    "print(\"Count of tips by sex:\")\n",
    "print(tips.groupby('sex').size())\n",
    "\n",
    "print(\"\\nAverage tip by sex and time:\")\n",
    "print(tips.groupby(['sex', 'time'])['tip'].mean())"
   ]
  },
  {
   "cell_type": "code",
   "execution_count": null,
   "metadata": {},
   "outputs": [],
   "source": []
  }
 ],
 "metadata": {
  "kernelspec": {
   "display_name": "venv",
   "language": "python",
   "name": "python3"
  },
  "language_info": {
   "codemirror_mode": {
    "name": "ipython",
    "version": 3
   },
   "file_extension": ".py",
   "mimetype": "text/x-python",
   "name": "python",
   "nbconvert_exporter": "python",
   "pygments_lexer": "ipython3",
   "version": "3.13.2"
  }
 },
 "nbformat": 4,
 "nbformat_minor": 4
}
