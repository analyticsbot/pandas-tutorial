{
 "cells": [
  {
   "cell_type": "markdown",
   "metadata": {},
   "source": [
    "# Pandas Tutorial - Part 36\n",
    "\n",
    "This notebook covers:\n",
    "- More on NA values and NumPy differences\n",
    "- Thread-safety and byte-ordering issues\n",
    "- Pandas cookbook examples for time series operations"
   ]
  },
  {
   "cell_type": "code",
   "execution_count": null,
   "metadata": {},
   "outputs": [],
   "source": [
    "import pandas as pd\n",
    "import numpy as np\n",
    "import matplotlib.pyplot as plt\n",
    "\n",
    "%matplotlib inline"
   ]
  },
  {
   "cell_type": "markdown",
   "metadata": {},
   "source": [
    "## More on NA Values and NumPy Differences\n",
    "\n",
    "Continuing from Part 35, let's explore more about NA values in pandas and how pandas differs from NumPy."
   ]
  },
  {
   "cell_type": "markdown",
   "metadata": {},
   "source": [
    "### Why Not Make NumPy Like R?\n",
    "\n",
    "Many people have suggested that NumPy should emulate the NA support present in R. However, there are significant differences in the type hierarchies between NumPy and R:\n",
    "\n",
    "| Typeclass (NumPy) | Dtypes |\n",
    "|-------------------|--------|\n",
    "| numpy.floating | float16, float32, float64, float128 |\n",
    "| numpy.integer | int8, int16, int32, int64 |\n",
    "| numpy.unsignedinteger | uint8, uint16, uint32, uint64 |\n",
    "| numpy.object_ | object_ |\n",
    "| numpy.bool_ | bool_ |\n",
    "| numpy.character | string_, unicode_ |\n",
    "\n",
    "The R language, by contrast, only has a handful of built-in data types: integer, numeric (floating-point), character, and boolean. R implements NA types by reserving special bit patterns for each type to be used as the missing value.\n",
    "\n",
    "Pandas has chosen a more Pythonic approach by using NaN for floating-point and object arrays to denote NA, and promoting integer arrays to floating when NAs must be introduced."
   ]
  },
  {
   "cell_type": "markdown",
   "metadata": {},
   "source": [
    "### Differences with NumPy\n",
    "\n",
    "For Series and DataFrame objects, `var()` normalizes by N-1 to produce unbiased estimates of the sample variance, while NumPy's `var` normalizes by N, which measures the variance of the sample. Note that `cov()` normalizes by N-1 in both pandas and NumPy."
   ]
  },
  {
   "cell_type": "code",
   "execution_count": null,
   "metadata": {},
   "outputs": [],
   "source": [
    "# Create a sample Series\n",
    "s = pd.Series([1, 2, 3, 4, 5])\n",
    "\n",
    "# Compare variance calculation in pandas vs NumPy\n",
    "print(f\"Pandas var (normalized by N-1): {s.var()}\")\n",
    "print(f\"NumPy var (normalized by N): {np.var(s)}\")\n",
    "print(f\"NumPy var with ddof=1 (normalized by N-1): {np.var(s, ddof=1)}\")"
   ]
  },
  {
   "cell_type": "markdown",
   "metadata": {},
   "source": [
    "## Thread-Safety\n",
    "\n",
    "As of pandas 1.0.5, pandas is not 100% thread safe. The known issues relate to the `copy()` method. If you are doing a lot of copying of DataFrame objects shared among threads, it's recommended to hold locks inside the threads where the data copying occurs."
   ]
  },
  {
   "cell_type": "markdown",
   "metadata": {},
   "source": [
    "## Byte-Ordering Issues\n",
    "\n",
    "Occasionally you may have to deal with data that were created on a machine with a different byte order than the one on which you are running Python. A common symptom of this issue is an error like:\n",
    "\n",
    "```\n",
    "ValueError: Big-endian buffer not supported on little-endian compiler\n",
    "```\n",
    "\n",
    "To deal with this issue, you should convert the underlying NumPy array to the native system byte order before passing it to Series or DataFrame constructors."
   ]
  },
  {
   "cell_type": "code",
   "execution_count": null,
   "metadata": {},
   "outputs": [],
   "source": [
    "# Create a big-endian array\n",
    "x = np.array(list(range(10)), '>i4')  # big endian\n",
    "\n",
    "# Convert to native byte order\n",
    "newx = x.byteswap().newbyteorder()  # force native byteorder\n",
    "\n",
    "# Now we can create a Series\n",
    "s = pd.Series(newx)\n",
    "s"
   ]
  },
  {
   "cell_type": "markdown",
   "metadata": {},
   "source": [
    "## Pandas Cookbook: Time Series Operations\n",
    "\n",
    "The pandas cookbook provides many useful examples for working with time series data. Let's explore some of these examples."
   ]
  },
  {
   "cell_type": "markdown",
   "metadata": {},
   "source": [
    "### Rolling Apply with a DataFrame Returning a Scalar\n",
    "\n",
    "Let's implement a Volume Weighted Average Price (VWAP) calculation using rolling apply on multiple columns."
   ]
  },
  {
   "cell_type": "code",
   "execution_count": null,
   "metadata": {},
   "outputs": [],
   "source": [
    "# Create a sample DataFrame with price and volume data\n",
    "rng = pd.date_range(start='2014-01-01', periods=100)\n",
    "df = pd.DataFrame({\n",
    "    'Open': np.random.randn(len(rng)),\n",
    "    'Close': np.random.randn(len(rng)),\n",
    "    'Volume': np.random.randint(100, 2000, len(rng))\n",
    "}, index=rng)\n",
    "\n",
    "df.head()"
   ]
  },
  {
   "cell_type": "code",
   "execution_count": null,
   "metadata": {},
   "outputs": [],
   "source": [
    "# Define VWAP function\n",
    "def vwap(bars):\n",
    "    return ((bars.Close * bars.Volume).sum() / bars.Volume.sum())\n",
    "\n",
    "# Set window size\n",
    "window = 5\n",
    "\n",
    "# Calculate VWAP for each window\n",
    "s = pd.concat([\n",
    "    pd.Series(\n",
    "        vwap(df.iloc[i:i + window]),\n",
    "        index=[df.index[i + window]]\n",
    "    )\n",
    "    for i in range(len(df) - window)\n",
    "])\n",
    "\n",
    "# Display the results\n",
    "s.round(2).head(10)"
   ]
  },
  {
   "cell_type": "markdown",
   "metadata": {},
   "source": [
    "### Working with DatetimeIndex\n",
    "\n",
    "Let's explore some useful operations with DatetimeIndex."
   ]
  },
  {
   "cell_type": "markdown",
   "metadata": {},
   "source": [
    "#### Calculate the First Day of the Month for Each Entry in a DatetimeIndex"
   ]
  },
  {
   "cell_type": "code",
   "execution_count": null,
   "metadata": {},
   "outputs": [],
   "source": [
    "# Create a sample DatetimeIndex\n",
    "dates = pd.date_range('2000-01-01', periods=5)\n",
    "dates"
   ]
  },
  {
   "cell_type": "code",
   "execution_count": null,
   "metadata": {},
   "outputs": [],
   "source": [
    "# Convert to period with month frequency, then back to timestamp\n",
    "# This gives the first day of the month for each date\n",
    "dates.to_period(freq='M').to_timestamp()"
   ]
  },
  {
   "cell_type": "markdown",
   "metadata": {},
   "source": [
    "### Resampling Time Series Data\n",
    "\n",
    "Resampling is a common operation with time series data. Let's explore some examples."
   ]
  },
  {
   "cell_type": "code",
   "execution_count": null,
   "metadata": {},
   "outputs": [],
   "source": [
    "# Create a sample time series\n",
    "ts = pd.Series(np.random.randn(1000), \n",
    "               index=pd.date_range('1/1/2000', periods=1000))\n",
    "\n",
    "# Resample to monthly frequency\n",
    "monthly = ts.resample('M').mean()\n",
    "monthly.head()"
   ]
  },
  {
   "cell_type": "code",
   "execution_count": null,
   "metadata": {},
   "outputs": [],
   "source": [
    "# Resample to business month end frequency\n",
    "business_monthly = ts.resample('BM').mean()\n",
    "business_monthly.head()"
   ]
  },
  {
   "cell_type": "code",
   "execution_count": null,
   "metadata": {},
   "outputs": [],
   "source": [
    "# Plot the resampled time series\n",
    "fig, ax = plt.subplots(figsize=(10, 6))\n",
    "monthly.plot(ax=ax, label='Monthly')\n",
    "business_monthly.plot(ax=ax, label='Business Monthly')\n",
    "ax.legend()\n",
    "plt.title('Resampled Time Series')\n",
    "plt.show()"
   ]
  },
  {
   "cell_type": "markdown",
   "metadata": {},
   "source": [
    "### Merging Time Series Data\n",
    "\n",
    "Let's explore how to merge time series data in pandas."
   ]
  },
  {
   "cell_type": "code",
   "execution_count": null,
   "metadata": {},
   "outputs": [],
   "source": [
    "# Create two DataFrames with overlapping index\n",
    "rng = pd.date_range('2000-01-01', periods=6)\n",
    "df1 = pd.DataFrame(np.random.randn(6, 3), index=rng, columns=['A', 'B', 'C'])\n",
    "df2 = df1.copy()\n",
    "\n",
    "# Display the DataFrames\n",
    "print(\"DataFrame 1:\")\n",
    "print(df1)\n",
    "print(\"\\nDataFrame 2:\")\n",
    "print(df2)"
   ]
  },
  {
   "cell_type": "code",
   "execution_count": null,
   "metadata": {},
   "outputs": [],
   "source": [
    "# Append the DataFrames\n",
    "appended = df1.append(df2)\n",
    "appended"
   ]
  },
  {
   "cell_type": "code",
   "execution_count": null,
   "metadata": {},
   "outputs": [],
   "source": [
    "# Check for duplicate index values\n",
    "appended.index.duplicated().any()"
   ]
  },
  {
   "cell_type": "code",
   "execution_count": null,
   "metadata": {},
   "outputs": [],
   "source": [
    "# Reset the index to avoid duplicates\n",
    "appended_reset = appended.reset_index()\n",
    "appended_reset.head()"
   ]
  },
  {
   "cell_type": "markdown",
   "metadata": {},
   "source": [
    "## Conclusion\n",
    "\n",
    "In this notebook, we've explored:\n",
    "\n",
    "1. More details about NA values in pandas and differences with NumPy, including:\n",
    "   - Why pandas chose a different approach than R for handling NA values\n",
    "   - Differences in variance calculation between pandas and NumPy\n",
    "\n",
    "2. Thread-safety considerations in pandas\n",
    "\n",
    "3. How to handle byte-ordering issues when working with data from different systems\n",
    "\n",
    "4. Practical examples from the pandas cookbook for time series operations, including:\n",
    "   - Rolling apply with a DataFrame returning a scalar (VWAP calculation)\n",
    "   - Working with DatetimeIndex to find the first day of the month\n",
    "   - Resampling time series data to different frequencies\n",
    "   - Merging time series data with overlapping indices\n",
    "\n",
    "These concepts and examples provide valuable tools for working with time series data in pandas."
   ]
  }
 ],
 "metadata": {
  "kernelspec": {
   "display_name": "Python 3",
   "language": "python",
   "name": "python3"
  },
  "language_info": {
   "codemirror_mode": {
    "name": "ipython",
    "version": 3
   },
   "file_extension": ".py",
   "mimetype": "text/x-python",
   "name": "python",
   "nbconvert_exporter": "python",
   "pygments_lexer": "ipython3",
   "version": "3.8.5"
  }
 },
 "nbformat": 4,
 "nbformat_minor": 4
}
