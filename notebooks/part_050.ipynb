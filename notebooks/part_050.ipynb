{
 "cells": [
  {
   "cell_type": "markdown",
   "metadata": {},
   "source": [
    "#### Pandas Tutorial - Part 50\n",
    "\n",
    "This notebook covers various Series methods including:\n",
    "- Cross-sectioning with `xs()`\n",
    "- Working with timezones using `dt.tz_localize()` and `dt.tz_convert()`"
   ]
  },
  {
   "cell_type": "code",
   "execution_count": 1,
   "metadata": {},
   "outputs": [],
   "source": [
    "import pandas as pd\n",
    "import numpy as np\n",
    "import matplotlib.pyplot as plt\n",
    "import pytz\n",
    "\n",
    "%matplotlib inline"
   ]
  },
  {
   "cell_type": "markdown",
   "metadata": {},
   "source": [
    "##### Cross-sectioning with `xs()`\n",
    "\n",
    "The `xs()` method returns a cross-section from a Series or DataFrame with a MultiIndex."
   ]
  },
  {
   "cell_type": "code",
   "execution_count": 2,
   "metadata": {},
   "outputs": [
    {
     "name": "stdout",
     "output_type": "stream",
     "text": [
      "DataFrame with MultiIndex:\n",
      "                           num_legs  num_wings\n",
      "class  animal  locomotion                     \n",
      "mammal cat     walks              4          0\n",
      "       dog     walks              4          0\n",
      "       bat     flies              2          2\n",
      "bird   penguin walks              2          2\n"
     ]
    }
   ],
   "source": [
    "# Create a DataFrame with MultiIndex\n",
    "d = {'num_legs': [4, 4, 2, 2],\n",
    "     'num_wings': [0, 0, 2, 2],\n",
    "     'class': ['mammal', 'mammal', 'mammal', 'bird'],\n",
    "     'animal': ['cat', 'dog', 'bat', 'penguin'],\n",
    "     'locomotion': ['walks', 'walks', 'flies', 'walks']}\n",
    "df = pd.DataFrame(data=d)\n",
    "df = df.set_index(['class', 'animal', 'locomotion'])\n",
    "print(\"DataFrame with MultiIndex:\")\n",
    "print(df)"
   ]
  },
  {
   "cell_type": "code",
   "execution_count": 3,
   "metadata": {},
   "outputs": [
    {
     "name": "stdout",
     "output_type": "stream",
     "text": [
      "Cross-section for 'mammal':\n",
      "                   num_legs  num_wings\n",
      "animal locomotion                     \n",
      "cat    walks              4          0\n",
      "dog    walks              4          0\n",
      "bat    flies              2          2\n"
     ]
    }
   ],
   "source": [
    "# Get values at specified index\n",
    "print(\"Cross-section for 'mammal':\")\n",
    "print(df.xs('mammal'))"
   ]
  },
  {
   "cell_type": "code",
   "execution_count": 4,
   "metadata": {},
   "outputs": [
    {
     "name": "stdout",
     "output_type": "stream",
     "text": [
      "Cross-section for ('mammal', 'dog'):\n",
      "            num_legs  num_wings\n",
      "locomotion                     \n",
      "walks              4          0\n"
     ]
    },
    {
     "name": "stderr",
     "output_type": "stream",
     "text": [
      "/var/folders/7y/fzwln1_93mn3js3wyk61_6xm0000gn/T/ipykernel_83881/3411561103.py:3: PerformanceWarning: indexing past lexsort depth may impact performance.\n",
      "  print(df.xs(('mammal', 'dog')))\n"
     ]
    }
   ],
   "source": [
    "# Get values at several indexes\n",
    "print(\"Cross-section for ('mammal', 'dog'):\")\n",
    "print(df.xs(('mammal', 'dog')))"
   ]
  },
  {
   "cell_type": "code",
   "execution_count": 5,
   "metadata": {},
   "outputs": [
    {
     "name": "stdout",
     "output_type": "stream",
     "text": [
      "Cross-section for 'cat' at level 1:\n",
      "                   num_legs  num_wings\n",
      "class  locomotion                     \n",
      "mammal walks              4          0\n"
     ]
    }
   ],
   "source": [
    "# Get values at specified index and level\n",
    "print(\"Cross-section for 'cat' at level 1:\")\n",
    "print(df.xs('cat', level=1))"
   ]
  },
  {
   "cell_type": "code",
   "execution_count": 6,
   "metadata": {},
   "outputs": [
    {
     "name": "stdout",
     "output_type": "stream",
     "text": [
      "Cross-section for 'cat' at level 1 with drop_level=False:\n",
      "                          num_legs  num_wings\n",
      "class  animal locomotion                     \n",
      "mammal cat    walks              4          0\n"
     ]
    }
   ],
   "source": [
    "# Get values at specified index and level with drop_level=False\n",
    "print(\"Cross-section for 'cat' at level 1 with drop_level=False:\")\n",
    "print(df.xs('cat', level=1, drop_level=False))"
   ]
  },
  {
   "cell_type": "code",
   "execution_count": 7,
   "metadata": {},
   "outputs": [
    {
     "name": "stdout",
     "output_type": "stream",
     "text": [
      "Cross-section for 'walks' at level 2:\n",
      "                num_legs  num_wings\n",
      "class  animal                      \n",
      "mammal cat             4          0\n",
      "       dog             4          0\n",
      "bird   penguin         2          2\n"
     ]
    }
   ],
   "source": [
    "# Get values at specified index and level by position\n",
    "print(\"Cross-section for 'walks' at level 2:\")\n",
    "print(df.xs('walks', level=2))"
   ]
  },
  {
   "cell_type": "code",
   "execution_count": 8,
   "metadata": {},
   "outputs": [
    {
     "name": "stdout",
     "output_type": "stream",
     "text": [
      "Series with MultiIndex:\n",
      "letter  number\n",
      "a       one       1\n",
      "        two       2\n",
      "b       one       3\n",
      "        two       4\n",
      "dtype: int64\n"
     ]
    }
   ],
   "source": [
    "# Create a Series with MultiIndex\n",
    "s = pd.Series([1, 2, 3, 4], \n",
    "              index=pd.MultiIndex.from_tuples([('a', 'one'), ('a', 'two'), \n",
    "                                              ('b', 'one'), ('b', 'two')],\n",
    "                                             names=['letter', 'number']))\n",
    "print(\"Series with MultiIndex:\")\n",
    "print(s)"
   ]
  },
  {
   "cell_type": "code",
   "execution_count": 9,
   "metadata": {},
   "outputs": [
    {
     "name": "stdout",
     "output_type": "stream",
     "text": [
      "Cross-section for 'a':\n",
      "number\n",
      "one    1\n",
      "two    2\n",
      "dtype: int64\n"
     ]
    }
   ],
   "source": [
    "# Get values at specified index\n",
    "print(\"Cross-section for 'a':\")\n",
    "print(s.xs('a'))"
   ]
  },
  {
   "cell_type": "code",
   "execution_count": 10,
   "metadata": {},
   "outputs": [
    {
     "name": "stdout",
     "output_type": "stream",
     "text": [
      "Cross-section for 'one' at level 'number':\n",
      "letter\n",
      "a    1\n",
      "b    3\n",
      "dtype: int64\n"
     ]
    }
   ],
   "source": [
    "# Get values at specified index and level\n",
    "print(\"Cross-section for 'one' at level 'number':\")\n",
    "print(s.xs('one', level='number'))"
   ]
  },
  {
   "cell_type": "markdown",
   "metadata": {},
   "source": [
    "##### Working with Timezones\n",
    "\n",
    "Pandas provides methods for working with timezones in datetime Series."
   ]
  },
  {
   "cell_type": "markdown",
   "metadata": {},
   "source": [
    "### Localizing Timezones with `dt.tz_localize()`\n",
    "\n",
    "The `dt.tz_localize()` method localizes tz-naive datetime Series to a given timezone."
   ]
  },
  {
   "cell_type": "code",
   "execution_count": 11,
   "metadata": {},
   "outputs": [
    {
     "name": "stdout",
     "output_type": "stream",
     "text": [
      "Original datetime Series (tz-naive):\n",
      "0   2023-01-01\n",
      "1   2023-01-02\n",
      "2   2023-01-03\n",
      "3   2023-01-04\n",
      "4   2023-01-05\n",
      "dtype: datetime64[ns]\n"
     ]
    }
   ],
   "source": [
    "# Create a datetime Series\n",
    "s = pd.Series(pd.date_range('2023-01-01', periods=5))\n",
    "print(\"Original datetime Series (tz-naive):\")\n",
    "print(s)"
   ]
  },
  {
   "cell_type": "code",
   "execution_count": 12,
   "metadata": {},
   "outputs": [
    {
     "name": "stdout",
     "output_type": "stream",
     "text": [
      "Datetime Series localized to UTC:\n",
      "0   2023-01-01 00:00:00+00:00\n",
      "1   2023-01-02 00:00:00+00:00\n",
      "2   2023-01-03 00:00:00+00:00\n",
      "3   2023-01-04 00:00:00+00:00\n",
      "4   2023-01-05 00:00:00+00:00\n",
      "dtype: datetime64[ns, UTC]\n"
     ]
    }
   ],
   "source": [
    "# Localize to UTC\n",
    "s_utc = s.dt.tz_localize('UTC')\n",
    "print(\"Datetime Series localized to UTC:\")\n",
    "print(s_utc)"
   ]
  },
  {
   "cell_type": "code",
   "execution_count": 13,
   "metadata": {},
   "outputs": [
    {
     "name": "stdout",
     "output_type": "stream",
     "text": [
      "Datetime Series localized to US/Eastern:\n",
      "0   2023-01-01 00:00:00-05:00\n",
      "1   2023-01-02 00:00:00-05:00\n",
      "2   2023-01-03 00:00:00-05:00\n",
      "3   2023-01-04 00:00:00-05:00\n",
      "4   2023-01-05 00:00:00-05:00\n",
      "dtype: datetime64[ns, US/Eastern]\n"
     ]
    }
   ],
   "source": [
    "# Localize to US/Eastern\n",
    "s_eastern = s.dt.tz_localize('US/Eastern')\n",
    "print(\"Datetime Series localized to US/Eastern:\")\n",
    "print(s_eastern)"
   ]
  },
  {
   "cell_type": "code",
   "execution_count": 14,
   "metadata": {},
   "outputs": [
    {
     "name": "stdout",
     "output_type": "stream",
     "text": [
      "Datetime Series localized to Europe/London:\n",
      "0   2023-01-01 00:00:00+00:00\n",
      "1   2023-01-02 00:00:00+00:00\n",
      "2   2023-01-03 00:00:00+00:00\n",
      "3   2023-01-04 00:00:00+00:00\n",
      "4   2023-01-05 00:00:00+00:00\n",
      "dtype: datetime64[ns, Europe/London]\n"
     ]
    }
   ],
   "source": [
    "# Localize to Europe/London\n",
    "s_london = s.dt.tz_localize('Europe/London')\n",
    "print(\"Datetime Series localized to Europe/London:\")\n",
    "print(s_london)"
   ]
  },
  {
   "cell_type": "code",
   "execution_count": 15,
   "metadata": {},
   "outputs": [
    {
     "name": "stdout",
     "output_type": "stream",
     "text": [
      "Datetime Series during DST transition:\n",
      "0   2018-10-28 01:30:00\n",
      "1   2018-10-28 02:00:00\n",
      "2   2018-10-28 02:30:00\n",
      "3   2018-10-28 02:00:00\n",
      "4   2018-10-28 02:30:00\n",
      "5   2018-10-28 03:00:00\n",
      "6   2018-10-28 03:30:00\n",
      "dtype: datetime64[ns]\n"
     ]
    }
   ],
   "source": [
    "# Create a datetime Series during DST transition\n",
    "s_dst = pd.to_datetime(pd.Series(['2018-10-28 01:30:00',\n",
    "                                 '2018-10-28 02:00:00',\n",
    "                                 '2018-10-28 02:30:00',\n",
    "                                 '2018-10-28 02:00:00',\n",
    "                                 '2018-10-28 02:30:00',\n",
    "                                 '2018-10-28 03:00:00',\n",
    "                                 '2018-10-28 03:30:00']))\n",
    "print(\"Datetime Series during DST transition:\")\n",
    "print(s_dst)"
   ]
  },
  {
   "cell_type": "code",
   "execution_count": 16,
   "metadata": {},
   "outputs": [
    {
     "name": "stdout",
     "output_type": "stream",
     "text": [
      "Datetime Series localized to CET with ambiguous='infer':\n",
      "0   2018-10-28 01:30:00+02:00\n",
      "1   2018-10-28 02:00:00+02:00\n",
      "2   2018-10-28 02:30:00+02:00\n",
      "3   2018-10-28 02:00:00+01:00\n",
      "4   2018-10-28 02:30:00+01:00\n",
      "5   2018-10-28 03:00:00+01:00\n",
      "6   2018-10-28 03:30:00+01:00\n",
      "dtype: datetime64[ns, CET]\n"
     ]
    }
   ],
   "source": [
    "# Localize with ambiguous='infer'\n",
    "s_dst_cet = s_dst.dt.tz_localize('CET', ambiguous='infer')\n",
    "print(\"Datetime Series localized to CET with ambiguous='infer':\")\n",
    "print(s_dst_cet)"
   ]
  },
  {
   "cell_type": "code",
   "execution_count": 17,
   "metadata": {},
   "outputs": [
    {
     "name": "stdout",
     "output_type": "stream",
     "text": [
      "Datetime Series localized to CET with explicit ambiguous array:\n",
      "0   2018-10-28 01:20:00+02:00\n",
      "1   2018-10-28 02:36:00+02:00\n",
      "2   2018-10-28 03:46:00+01:00\n",
      "dtype: datetime64[ns, CET]\n"
     ]
    }
   ],
   "source": [
    "# Localize with explicit ambiguous array\n",
    "s_ambiguous = pd.to_datetime(pd.Series(['2018-10-28 01:20:00',\n",
    "                                       '2018-10-28 02:36:00',\n",
    "                                       '2018-10-28 03:46:00']))\n",
    "s_ambiguous_cet = s_ambiguous.dt.tz_localize('CET', ambiguous=np.array([True, True, False]))\n",
    "print(\"Datetime Series localized to CET with explicit ambiguous array:\")\n",
    "print(s_ambiguous_cet)"
   ]
  },
  {
   "cell_type": "code",
   "execution_count": 18,
   "metadata": {},
   "outputs": [
    {
     "name": "stdout",
     "output_type": "stream",
     "text": [
      "Datetime Series with nonexistent times:\n",
      "0   2015-03-29 02:30:00\n",
      "1   2015-03-29 03:30:00\n",
      "dtype: datetime64[ns]\n"
     ]
    }
   ],
   "source": [
    "# Create a datetime Series with nonexistent times (during DST spring forward)\n",
    "s_nonexistent = pd.to_datetime(pd.Series(['2015-03-29 02:30:00',\n",
    "                                         '2015-03-29 03:30:00']))\n",
    "print(\"Datetime Series with nonexistent times:\")\n",
    "print(s_nonexistent)"
   ]
  },
  {
   "cell_type": "code",
   "execution_count": 19,
   "metadata": {},
   "outputs": [
    {
     "name": "stdout",
     "output_type": "stream",
     "text": [
      "Datetime Series localized with nonexistent='shift_forward':\n",
      "0   2015-03-29 03:00:00+02:00\n",
      "1   2015-03-29 03:30:00+02:00\n",
      "dtype: datetime64[ns, Europe/Warsaw]\n"
     ]
    }
   ],
   "source": [
    "# Localize with nonexistent='shift_forward'\n",
    "s_nonexistent_forward = s_nonexistent.dt.tz_localize('Europe/Warsaw', nonexistent='shift_forward')\n",
    "print(\"Datetime Series localized with nonexistent='shift_forward':\")\n",
    "print(s_nonexistent_forward)"
   ]
  },
  {
   "cell_type": "code",
   "execution_count": 20,
   "metadata": {},
   "outputs": [
    {
     "name": "stdout",
     "output_type": "stream",
     "text": [
      "Datetime Series localized with nonexistent='shift_backward':\n",
      "0   2015-03-29 01:59:59.999999999+01:00\n",
      "1             2015-03-29 03:30:00+02:00\n",
      "dtype: datetime64[ns, Europe/Warsaw]\n"
     ]
    }
   ],
   "source": [
    "# Localize with nonexistent='shift_backward'\n",
    "s_nonexistent_backward = s_nonexistent.dt.tz_localize('Europe/Warsaw', nonexistent='shift_backward')\n",
    "print(\"Datetime Series localized with nonexistent='shift_backward':\")\n",
    "print(s_nonexistent_backward)"
   ]
  },
  {
   "cell_type": "code",
   "execution_count": 21,
   "metadata": {},
   "outputs": [
    {
     "name": "stdout",
     "output_type": "stream",
     "text": [
      "Datetime Series localized with nonexistent=Timedelta('1H'):\n",
      "0   2015-03-29 03:30:00+02:00\n",
      "1   2015-03-29 03:30:00+02:00\n",
      "dtype: datetime64[ns, Europe/Warsaw]\n"
     ]
    },
    {
     "name": "stderr",
     "output_type": "stream",
     "text": [
      "/var/folders/7y/fzwln1_93mn3js3wyk61_6xm0000gn/T/ipykernel_83881/3287427869.py:2: FutureWarning: 'H' is deprecated and will be removed in a future version. Please use 'h' instead of 'H'.\n",
      "  s_nonexistent_timedelta = s_nonexistent.dt.tz_localize('Europe/Warsaw', nonexistent=pd.Timedelta('1H'))\n"
     ]
    }
   ],
   "source": [
    "# Localize with nonexistent=Timedelta\n",
    "s_nonexistent_timedelta = s_nonexistent.dt.tz_localize('Europe/Warsaw', nonexistent=pd.Timedelta('1H'))\n",
    "print(\"Datetime Series localized with nonexistent=Timedelta('1H'):\")\n",
    "print(s_nonexistent_timedelta)"
   ]
  },
  {
   "cell_type": "markdown",
   "metadata": {},
   "source": [
    "### Converting Timezones with `dt.tz_convert()`\n",
    "\n",
    "The `dt.tz_convert()` method converts tz-aware datetime Series from one timezone to another."
   ]
  },
  {
   "cell_type": "code",
   "execution_count": 22,
   "metadata": {},
   "outputs": [
    {
     "name": "stdout",
     "output_type": "stream",
     "text": [
      "Original tz-aware datetime Series (Europe/Berlin):\n",
      "0   2014-08-01 09:00:00+02:00\n",
      "1   2014-08-01 10:00:00+02:00\n",
      "2   2014-08-01 11:00:00+02:00\n",
      "dtype: datetime64[ns, Europe/Berlin]\n"
     ]
    },
    {
     "name": "stderr",
     "output_type": "stream",
     "text": [
      "/var/folders/7y/fzwln1_93mn3js3wyk61_6xm0000gn/T/ipykernel_83881/1917611423.py:2: FutureWarning: 'H' is deprecated and will be removed in a future version, please use 'h' instead.\n",
      "  dti = pd.date_range(start='2014-08-01 09:00', freq='H', periods=3, tz='Europe/Berlin')\n"
     ]
    }
   ],
   "source": [
    "# Create a tz-aware datetime Series\n",
    "dti = pd.date_range(start='2014-08-01 09:00', freq='H', periods=3, tz='Europe/Berlin')\n",
    "s = pd.Series(dti)\n",
    "print(\"Original tz-aware datetime Series (Europe/Berlin):\")\n",
    "print(s)"
   ]
  },
  {
   "cell_type": "code",
   "execution_count": 23,
   "metadata": {},
   "outputs": [
    {
     "name": "stdout",
     "output_type": "stream",
     "text": [
      "Datetime Series converted to US/Eastern:\n",
      "0   2014-08-01 03:00:00-04:00\n",
      "1   2014-08-01 04:00:00-04:00\n",
      "2   2014-08-01 05:00:00-04:00\n",
      "dtype: datetime64[ns, US/Eastern]\n"
     ]
    }
   ],
   "source": [
    "# Convert to US/Eastern\n",
    "s_eastern = s.dt.tz_convert('US/Eastern')\n",
    "print(\"Datetime Series converted to US/Eastern:\")\n",
    "print(s_eastern)"
   ]
  },
  {
   "cell_type": "code",
   "execution_count": 24,
   "metadata": {},
   "outputs": [
    {
     "name": "stdout",
     "output_type": "stream",
     "text": [
      "Datetime Series converted to Asia/Tokyo:\n",
      "0   2014-08-01 16:00:00+09:00\n",
      "1   2014-08-01 17:00:00+09:00\n",
      "2   2014-08-01 18:00:00+09:00\n",
      "dtype: datetime64[ns, Asia/Tokyo]\n"
     ]
    }
   ],
   "source": [
    "# Convert to Asia/Tokyo\n",
    "s_tokyo = s.dt.tz_convert('Asia/Tokyo')\n",
    "print(\"Datetime Series converted to Asia/Tokyo:\")\n",
    "print(s_tokyo)"
   ]
  },
  {
   "cell_type": "code",
   "execution_count": 25,
   "metadata": {},
   "outputs": [
    {
     "name": "stdout",
     "output_type": "stream",
     "text": [
      "Datetime Series converted to UTC:\n",
      "0   2014-08-01 07:00:00+00:00\n",
      "1   2014-08-01 08:00:00+00:00\n",
      "2   2014-08-01 09:00:00+00:00\n",
      "dtype: datetime64[ns, UTC]\n"
     ]
    }
   ],
   "source": [
    "# Convert to UTC\n",
    "s_utc = s.dt.tz_convert('UTC')\n",
    "print(\"Datetime Series converted to UTC:\")\n",
    "print(s_utc)"
   ]
  },
  {
   "cell_type": "code",
   "execution_count": 26,
   "metadata": {},
   "outputs": [
    {
     "name": "stdout",
     "output_type": "stream",
     "text": [
      "Datetime Series with timezone information removed:\n",
      "0   2014-08-01 07:00:00\n",
      "1   2014-08-01 08:00:00\n",
      "2   2014-08-01 09:00:00\n",
      "dtype: datetime64[ns]\n"
     ]
    }
   ],
   "source": [
    "# Remove timezone information\n",
    "s_naive = s.dt.tz_convert(None)\n",
    "print(\"Datetime Series with timezone information removed:\")\n",
    "print(s_naive)"
   ]
  },
  {
   "cell_type": "code",
   "execution_count": 27,
   "metadata": {},
   "outputs": [
    {
     "name": "stdout",
     "output_type": "stream",
     "text": [
      "Tz-naive datetime Series:\n",
      "0   2023-01-01\n",
      "1   2023-01-02\n",
      "2   2023-01-03\n",
      "dtype: datetime64[ns]\n",
      "\n",
      "Error: Cannot convert tz-naive timestamps, use tz_localize to localize\n"
     ]
    }
   ],
   "source": [
    "# Try to convert a tz-naive Series\n",
    "s_naive = pd.Series(pd.date_range('2023-01-01', periods=3))\n",
    "print(\"Tz-naive datetime Series:\")\n",
    "print(s_naive)\n",
    "\n",
    "try:\n",
    "    s_naive.dt.tz_convert('UTC')\n",
    "except TypeError as e:\n",
    "    print(f\"\\nError: {e}\")"
   ]
  },
  {
   "cell_type": "markdown",
   "metadata": {},
   "source": [
    "##### Practical Applications of Timezone Handling"
   ]
  },
  {
   "cell_type": "code",
   "execution_count": 28,
   "metadata": {},
   "outputs": [
    {
     "name": "stdout",
     "output_type": "stream",
     "text": [
      "Original DataFrame:\n",
      "            timestamp  location       timezone\n",
      "0 2023-01-01 08:00:00  New York     US/Eastern\n",
      "1 2023-01-01 14:00:00    London  Europe/London\n",
      "2 2023-01-01 23:00:00     Tokyo     Asia/Tokyo\n"
     ]
    }
   ],
   "source": [
    "# Create a datetime Series with timestamps from different timezones\n",
    "timestamps = [\n",
    "    '2023-01-01 08:00:00',  # New York\n",
    "    '2023-01-01 14:00:00',  # London\n",
    "    '2023-01-01 23:00:00',  # Tokyo\n",
    "]\n",
    "locations = ['New York', 'London', 'Tokyo']\n",
    "timezones = ['US/Eastern', 'Europe/London', 'Asia/Tokyo']\n",
    "\n",
    "# Create a DataFrame\n",
    "df = pd.DataFrame({\n",
    "    'timestamp': pd.to_datetime(timestamps),\n",
    "    'location': locations,\n",
    "    'timezone': timezones\n",
    "})\n",
    "print(\"Original DataFrame:\")\n",
    "print(df)"
   ]
  },
  {
   "cell_type": "code",
   "execution_count": 29,
   "metadata": {},
   "outputs": [
    {
     "name": "stdout",
     "output_type": "stream",
     "text": [
      "DataFrame with localized timestamps:\n",
      "            timestamp  location       timezone       localized_timestamp\n",
      "0 2023-01-01 08:00:00  New York     US/Eastern 2023-01-01 08:00:00-05:00\n",
      "1 2023-01-01 14:00:00    London  Europe/London 2023-01-01 09:00:00-05:00\n",
      "2 2023-01-01 23:00:00     Tokyo     Asia/Tokyo 2023-01-01 09:00:00-05:00\n"
     ]
    }
   ],
   "source": [
    "# Localize each timestamp to its corresponding timezone\n",
    "for i, row in df.iterrows():\n",
    "    df.loc[i, 'localized_timestamp'] = row['timestamp'].tz_localize(row['timezone'])\n",
    "\n",
    "print(\"DataFrame with localized timestamps:\")\n",
    "print(df)"
   ]
  },
  {
   "cell_type": "code",
   "execution_count": 30,
   "metadata": {},
   "outputs": [
    {
     "name": "stdout",
     "output_type": "stream",
     "text": [
      "DataFrame with UTC timestamps:\n",
      "            timestamp  location       timezone       localized_timestamp  \\\n",
      "0 2023-01-01 08:00:00  New York     US/Eastern 2023-01-01 08:00:00-05:00   \n",
      "1 2023-01-01 14:00:00    London  Europe/London 2023-01-01 09:00:00-05:00   \n",
      "2 2023-01-01 23:00:00     Tokyo     Asia/Tokyo 2023-01-01 09:00:00-05:00   \n",
      "\n",
      "              utc_timestamp  \n",
      "0 2023-01-01 13:00:00+00:00  \n",
      "1 2023-01-01 14:00:00+00:00  \n",
      "2 2023-01-01 14:00:00+00:00  \n"
     ]
    }
   ],
   "source": [
    "# Convert all timestamps to UTC\n",
    "df['utc_timestamp'] = df['localized_timestamp'].apply(lambda x: x.tz_convert('UTC'))\n",
    "print(\"DataFrame with UTC timestamps:\")\n",
    "print(df)"
   ]
  },
  {
   "cell_type": "code",
   "execution_count": 31,
   "metadata": {},
   "outputs": [
    {
     "name": "stdout",
     "output_type": "stream",
     "text": [
      "UTC times:\n",
      "0    2023-01-01 13:00:00\n",
      "1    2023-01-01 14:00:00\n",
      "2    2023-01-01 14:00:00\n",
      "Name: utc_timestamp, dtype: object\n",
      "\n",
      "All timestamps are at the same UTC time: False\n"
     ]
    }
   ],
   "source": [
    "# Check if all timestamps are at the same UTC time\n",
    "utc_times = df['utc_timestamp'].dt.strftime('%Y-%m-%d %H:%M:%S')\n",
    "print(\"UTC times:\")\n",
    "print(utc_times)\n",
    "print(f\"\\nAll timestamps are at the same UTC time: {utc_times.nunique() == 1}\")"
   ]
  },
  {
   "cell_type": "markdown",
   "metadata": {},
   "source": [
    "##### Conclusion\n",
    "\n",
    "In this notebook, we've explored various Series methods in pandas:\n",
    "\n",
    "1. Cross-sectioning with `xs()`, which returns a cross-section from a Series or DataFrame with a MultiIndex, allowing for flexible data selection at different levels.\n",
    "2. Working with timezones using `dt.tz_localize()` and `dt.tz_convert()`, which provide powerful tools for handling datetime data across different timezones.\n",
    "\n",
    "These methods are essential tools for data manipulation and analysis in pandas, allowing for flexible and powerful operations on your data, especially when working with hierarchical indexes and time series data across different timezones."
   ]
  }
 ],
 "metadata": {
  "kernelspec": {
   "display_name": "venv",
   "language": "python",
   "name": "python3"
  },
  "language_info": {
   "codemirror_mode": {
    "name": "ipython",
    "version": 3
   },
   "file_extension": ".py",
   "mimetype": "text/x-python",
   "name": "python",
   "nbconvert_exporter": "python",
   "pygments_lexer": "ipython3",
   "version": "3.13.2"
  }
 },
 "nbformat": 4,
 "nbformat_minor": 4
}
