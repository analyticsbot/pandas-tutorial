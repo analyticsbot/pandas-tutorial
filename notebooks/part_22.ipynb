{
 "cells": [
  {
   "cell_type": "markdown",
   "metadata": {},
   "source": [
    "#### Part 22: Working with Missing Data in Pandas\n",
    "\n",
    "In this notebook, we'll explore:\n",
    "- Additional string methods in pandas\n",
    "- Working with missing data (NA values)\n",
    "- Handling, detecting, and replacing missing values\n",
    "\n",
    "##### Setup\n",
    "First, let's import the necessary libraries:"
   ]
  },
  {
   "cell_type": "code",
   "execution_count": null,
   "metadata": {},
   "outputs": [],
   "source": [
    "import pandas as pd\n",
    "import numpy as np"
   ]
  },
  {
   "cell_type": "markdown",
   "metadata": {},
   "source": [
    "##### 1. Additional String Methods\n",
    "\n",
    "Let's first look at some additional string methods that were not covered in the previous notebook:"
   ]
  },
  {
   "cell_type": "code",
   "execution_count": null,
   "metadata": {},
   "outputs": [],
   "source": [
    "# Create a sample Series\n",
    "s = pd.Series(['A', 'B', 'C', 'Aaba', 'Baca', 'CABA', 'dog', 'cat'], dtype=\"string\")\n",
    "\n",
    "# Capitalize\n",
    "print(\"Capitalize:\")\n",
    "print(s.str.capitalize())\n",
    "\n",
    "# Find the position of a substring\n",
    "print(\"\\nFind 'a':\")\n",
    "print(s.str.find('a'))\n",
    "\n",
    "# Check if strings are alphanumeric\n",
    "print(\"\\nIs alphanumeric:\")\n",
    "print(s.str.isalnum())\n",
    "\n",
    "# Check if strings are alphabetic\n",
    "print(\"\\nIs alphabetic:\")\n",
    "print(s.str.isalpha())"
   ]
  },
  {
   "cell_type": "markdown",
   "metadata": {},
   "source": [
    "##### 2. Working with Missing Data\n",
    "\n",
    "### 2.1 Values Considered \"Missing\"\n",
    "\n",
    "In pandas, several values are treated as missing:\n",
    "- `NaN` (Not a Number): Default missing value marker for computational speed and convenience\n",
    "- `None`: Python's built-in null object\n",
    "- `NaT` (Not a Time): Missing value for datetime data\n",
    "\n",
    "Let's create a DataFrame with some missing values:"
   ]
  },
  {
   "cell_type": "code",
   "execution_count": null,
   "metadata": {},
   "outputs": [],
   "source": [
    "# Create a DataFrame with random values\n",
    "df = pd.DataFrame(np.random.randn(5, 3), \n",
    "                 index=['a', 'c', 'e', 'f', 'h'],\n",
    "                 columns=['one', 'two', 'three'])\n",
    "\n",
    "# Add some non-numeric columns\n",
    "df['four'] = 'bar'\n",
    "df['five'] = df['one'] > 0\n",
    "\n",
    "# Display the DataFrame\n",
    "df"
   ]
  },
  {
   "cell_type": "markdown",
   "metadata": {},
   "source": [
    "Now, let's reindex the DataFrame to introduce missing values:"
   ]
  },
  {
   "cell_type": "code",
   "execution_count": null,
   "metadata": {},
   "outputs": [],
   "source": [
    "# Reindex to introduce missing values\n",
    "df2 = df.reindex(['a', 'b', 'c', 'd', 'e', 'f', 'g', 'h'])\n",
    "df2"
   ]
  },
  {
   "cell_type": "markdown",
   "metadata": {},
   "source": [
    "### 2.2 Detecting Missing Values\n",
    "\n",
    "To detect missing values, we can use the `isna()` and `notna()` methods:"
   ]
  },
  {
   "cell_type": "code",
   "execution_count": null,
   "metadata": {},
   "outputs": [],
   "source": [
    "# Detect missing values\n",
    "print(\"Missing values (isna):\")\n",
    "print(df2.isna())\n",
    "\n",
    "# Detect non-missing values\n",
    "print(\"\\nNon-missing values (notna):\")\n",
    "print(df2.notna())"
   ]
  },
  {
   "cell_type": "markdown",
   "metadata": {},
   "source": [
    "We can also check if any or all values in a Series or DataFrame are missing:"
   ]
  },
  {
   "cell_type": "code",
   "execution_count": null,
   "metadata": {},
   "outputs": [],
   "source": [
    "# Check if any values are missing in each column\n",
    "print(\"Any missing values per column:\")\n",
    "print(df2.isna().any())\n",
    "\n",
    "# Check if all values are missing in each column\n",
    "print(\"\\nAll missing values per column:\")\n",
    "print(df2.isna().all())\n",
    "\n",
    "# Count the number of missing values in each column\n",
    "print(\"\\nCount of missing values per column:\")\n",
    "print(df2.isna().sum())"
   ]
  },
  {
   "cell_type": "markdown",
   "metadata": {},
   "source": [
    "### 2.3 Filling Missing Values\n",
    "\n",
    "There are several ways to fill missing values in pandas:"
   ]
  },
  {
   "cell_type": "code",
   "execution_count": null,
   "metadata": {},
   "outputs": [],
   "source": [
    "# Fill missing values with a scalar value\n",
    "print(\"Fill with scalar:\")\n",
    "print(df2['one'].fillna(0))\n",
    "\n",
    "# Fill missing values with the mean of the column\n",
    "print(\"\\nFill with mean:\")\n",
    "print(df2['one'].fillna(df2['one'].mean()))"
   ]
  },
  {
   "cell_type": "markdown",
   "metadata": {},
   "source": [
    "We can also fill missing values using different methods like forward fill (`ffill`) or backward fill (`bfill`):"
   ]
  },
  {
   "cell_type": "code",
   "execution_count": null,
   "metadata": {},
   "outputs": [],
   "source": [
    "# Forward fill (propagate last valid observation forward)\n",
    "print(\"Forward fill:\")\n",
    "print(df2.fillna(method='ffill'))\n",
    "\n",
    "# Backward fill (use next valid observation to fill gap)\n",
    "print(\"\\nBackward fill:\")\n",
    "print(df2.fillna(method='bfill'))"
   ]
  },
  {
   "cell_type": "markdown",
   "metadata": {},
   "source": [
    "### 2.4 Dropping Missing Values\n",
    "\n",
    "We can drop rows or columns with missing values using the `dropna()` method:"
   ]
  },
  {
   "cell_type": "code",
   "execution_count": null,
   "metadata": {},
   "outputs": [],
   "source": [
    "# Drop rows with any missing values\n",
    "print(\"Drop rows with any missing values:\")\n",
    "print(df2.dropna())\n",
    "\n",
    "# Drop rows with all missing values\n",
    "print(\"\\nDrop rows with all missing values:\")\n",
    "print(df2.dropna(how='all'))\n",
    "\n",
    "# Drop columns with any missing values\n",
    "print(\"\\nDrop columns with any missing values:\")\n",
    "print(df2.dropna(axis=1))"
   ]
  },
  {
   "cell_type": "markdown",
   "metadata": {},
   "source": [
    "### 2.5 Replacing Values\n",
    "\n",
    "We can replace specific values in a DataFrame using the `replace()` method:"
   ]
  },
  {
   "cell_type": "code",
   "execution_count": null,
   "metadata": {},
   "outputs": [],
   "source": [
    "# Create a DataFrame with some values to replace\n",
    "df = pd.DataFrame(np.random.randn(10, 2))\n",
    "\n",
    "# Replace some values with 1.5\n",
    "df[np.random.rand(df.shape[0]) > 0.5] = 1.5\n",
    "print(\"Original DataFrame:\")\n",
    "print(df)\n",
    "\n",
    "# Replace 1.5 with NaN\n",
    "print(\"\\nReplace 1.5 with NaN:\")\n",
    "print(df.replace(1.5, np.nan))"
   ]
  },
  {
   "cell_type": "markdown",
   "metadata": {},
   "source": [
    "We can replace multiple values at once by passing lists:"
   ]
  },
  {
   "cell_type": "code",
   "execution_count": null,
   "metadata": {},
   "outputs": [],
   "source": [
    "# Get the value at position (0, 0)\n",
    "df00 = df.iloc[0, 0]\n",
    "\n",
    "# Replace 1.5 with NaN and df00 with 'a'\n",
    "print(\"Replace multiple values:\")\n",
    "print(df.replace([1.5, df00], [np.nan, 'a']))\n",
    "\n",
    "# Check the data type of column 1\n",
    "print(\"\\nData type of column 1:\")\n",
    "print(df[1].dtype)"
   ]
  },
  {
   "cell_type": "markdown",
   "metadata": {},
   "source": [
    "### 2.6 Missing Data Casting Rules and Indexing\n",
    "\n",
    "When a reindexing operation introduces missing data, the Series will be cast according to specific rules:"
   ]
  },
  {
   "cell_type": "code",
   "execution_count": null,
   "metadata": {},
   "outputs": [],
   "source": [
    "# Create a Series with random values\n",
    "s = pd.Series(np.random.randn(5), index=[0, 2, 4, 6, 7])\n",
    "print(\"Original Series:\")\n",
    "print(s)\n",
    "\n",
    "# Create a boolean Series\n",
    "bool_series = s > 0\n",
    "print(\"\\nBoolean Series:\")\n",
    "print(bool_series)\n",
    "print(\"Data type:\", bool_series.dtype)\n",
    "\n",
    "# Reindex the boolean Series to introduce missing values\n",
    "crit = bool_series.reindex(list(range(8)))\n",
    "print(\"\\nReindexed Boolean Series:\")\n",
    "print(crit)\n",
    "print(\"Data type:\", crit.dtype)"
   ]
  },
  {
   "cell_type": "markdown",
   "metadata": {},
   "source": [
    "Notice that the data type changed from `bool` to `object` when missing values were introduced. This is because boolean arrays in NumPy cannot store missing values.\n",
    "\n",
    "Here's a summary of the casting rules when missing values are introduced:\n",
    "\n",
    "| Data Type | Cast To |\n",
    "|-----------|--------|\n",
    "| integer   | float  |\n",
    "| boolean   | object |\n",
    "| float     | no cast |\n",
    "| object    | no cast |"
   ]
  },
  {
   "cell_type": "markdown",
   "metadata": {},
   "source": [
    "##### Summary\n",
    "\n",
    "In this notebook, we've explored:\n",
    "\n",
    "1. Additional string methods in pandas\n",
    "2. Working with missing data in pandas, including:\n",
    "   - Detecting missing values with `isna()` and `notna()`\n",
    "   - Filling missing values with `fillna()`\n",
    "   - Dropping missing values with `dropna()`\n",
    "   - Replacing values with `replace()`\n",
    "3. Understanding the casting rules when missing values are introduced\n",
    "\n",
    "These techniques are essential for data cleaning and preprocessing in pandas."
   ]
  }
 ],
 "metadata": {
  "kernelspec": {
   "display_name": "Python 3",
   "language": "python",
   "name": "python3"
  },
  "language_info": {
   "codemirror_mode": {
    "name": "ipython",
    "version": 3
   },
   "file_extension": ".py",
   "mimetype": "text/x-python",
   "name": "python",
   "nbconvert_exporter": "python",
   "pygments_lexer": "ipython3",
   "version": "3.8.5"
  }
 },
 "nbformat": 4,
 "nbformat_minor": 4
}