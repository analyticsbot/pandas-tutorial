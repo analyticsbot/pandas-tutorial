{
 "cells": [
  {
   "cell_type": "markdown",
   "metadata": {},
   "source": [
    "#### Pandas Tutorial - Part 52\n",
    "\n",
    "This notebook covers various Series string methods including:\n",
    "- Extracting elements with `str.get()`\n",
    "- Finding substrings with `str.index()`\n",
    "- Joining strings with `str.join()`\n",
    "- Removing characters with `str.strip()`\n",
    "- Changing case with `str.swapcase()`"
   ]
  },
  {
   "cell_type": "code",
   "execution_count": 1,
   "metadata": {},
   "outputs": [],
   "source": [
    "import pandas as pd\n",
    "import numpy as np\n",
    "import matplotlib.pyplot as plt\n",
    "\n",
    "%matplotlib inline"
   ]
  },
  {
   "cell_type": "markdown",
   "metadata": {},
   "source": [
    "##### Extracting Elements with `str.get()`\n",
    "\n",
    "The `str.get()` method extracts an element from each component at a specified position."
   ]
  },
  {
   "cell_type": "code",
   "execution_count": 2,
   "metadata": {},
   "outputs": [
    {
     "name": "stdout",
     "output_type": "stream",
     "text": [
      "Original Series:\n",
      "0                        String\n",
      "1                     (1, 2, 3)\n",
      "2                     [a, b, c]\n",
      "3                           123\n",
      "4                          -456\n",
      "5    {1: 'Hello', '2': 'World'}\n",
      "dtype: object\n"
     ]
    }
   ],
   "source": [
    "# Create a Series with different types of elements\n",
    "s = pd.Series([\"String\",\n",
    "               (1, 2, 3),\n",
    "               [\"a\", \"b\", \"c\"],\n",
    "               123,\n",
    "               -456,\n",
    "               {1: \"Hello\", \"2\": \"World\"}])\n",
    "print(\"Original Series:\")\n",
    "print(s)"
   ]
  },
  {
   "cell_type": "code",
   "execution_count": 3,
   "metadata": {},
   "outputs": [
    {
     "name": "stdout",
     "output_type": "stream",
     "text": [
      "Result of get(1):\n",
      "0        t\n",
      "1        2\n",
      "2        b\n",
      "3      NaN\n",
      "4      NaN\n",
      "5    Hello\n",
      "dtype: object\n"
     ]
    }
   ],
   "source": [
    "# Extract element at position 1\n",
    "result = s.str.get(1)\n",
    "print(\"Result of get(1):\")\n",
    "print(result)"
   ]
  },
  {
   "cell_type": "code",
   "execution_count": 4,
   "metadata": {},
   "outputs": [
    {
     "name": "stdout",
     "output_type": "stream",
     "text": [
      "Result of get(-1):\n",
      "0       g\n",
      "1       3\n",
      "2       c\n",
      "3     NaN\n",
      "4     NaN\n",
      "5    None\n",
      "dtype: object\n"
     ]
    }
   ],
   "source": [
    "# Extract element at position -1 (last element)\n",
    "result_last = s.str.get(-1)\n",
    "print(\"Result of get(-1):\")\n",
    "print(result_last)"
   ]
  },
  {
   "cell_type": "code",
   "execution_count": 5,
   "metadata": {},
   "outputs": [
    {
     "name": "stdout",
     "output_type": "stream",
     "text": [
      "Series with strings:\n",
      "0     apple\n",
      "1    banana\n",
      "2    cherry\n",
      "dtype: object\n"
     ]
    }
   ],
   "source": [
    "# Create a Series with strings only\n",
    "s_strings = pd.Series(['apple', 'banana', 'cherry'])\n",
    "print(\"Series with strings:\")\n",
    "print(s_strings)"
   ]
  },
  {
   "cell_type": "code",
   "execution_count": 6,
   "metadata": {},
   "outputs": [
    {
     "name": "stdout",
     "output_type": "stream",
     "text": [
      "First character of each string:\n",
      "0    a\n",
      "1    b\n",
      "2    c\n",
      "dtype: object\n"
     ]
    }
   ],
   "source": [
    "# Extract first character\n",
    "first_char = s_strings.str.get(0)\n",
    "print(\"First character of each string:\")\n",
    "print(first_char)"
   ]
  },
  {
   "cell_type": "code",
   "execution_count": 7,
   "metadata": {},
   "outputs": [
    {
     "name": "stdout",
     "output_type": "stream",
     "text": [
      "Third character of each string:\n",
      "0    p\n",
      "1    n\n",
      "2    e\n",
      "dtype: object\n"
     ]
    }
   ],
   "source": [
    "# Extract third character\n",
    "third_char = s_strings.str.get(2)\n",
    "print(\"Third character of each string:\")\n",
    "print(third_char)"
   ]
  },
  {
   "cell_type": "code",
   "execution_count": 8,
   "metadata": {},
   "outputs": [
    {
     "name": "stdout",
     "output_type": "stream",
     "text": [
      "Series with lists:\n",
      "0           [1, 2, 3, 4]\n",
      "1              [a, b, c]\n",
      "2    [True, False, True]\n",
      "dtype: object\n"
     ]
    }
   ],
   "source": [
    "# Create a Series with lists\n",
    "s_lists = pd.Series([\n",
    "    [1, 2, 3, 4],\n",
    "    ['a', 'b', 'c'],\n",
    "    [True, False, True]\n",
    "])\n",
    "print(\"Series with lists:\")\n",
    "print(s_lists)"
   ]
  },
  {
   "cell_type": "code",
   "execution_count": 9,
   "metadata": {},
   "outputs": [
    {
     "name": "stdout",
     "output_type": "stream",
     "text": [
      "Second element from each list:\n",
      "0        2\n",
      "1        b\n",
      "2    False\n",
      "dtype: object\n"
     ]
    }
   ],
   "source": [
    "# Extract second element from each list\n",
    "second_elem = s_lists.str.get(1)\n",
    "print(\"Second element from each list:\")\n",
    "print(second_elem)"
   ]
  },
  {
   "cell_type": "markdown",
   "metadata": {},
   "source": [
    "##### Finding Substrings with `str.index()`\n",
    "\n",
    "The `str.index()` method returns the lowest index where the substring is found. Raises a ValueError if not found."
   ]
  },
  {
   "cell_type": "code",
   "execution_count": 10,
   "metadata": {},
   "outputs": [
    {
     "name": "stdout",
     "output_type": "stream",
     "text": [
      "Original Series:\n",
      "0     apple\n",
      "1    banana\n",
      "2    cherry\n",
      "dtype: object\n"
     ]
    }
   ],
   "source": [
    "# Create a Series with strings\n",
    "s = pd.Series(['apple', 'banana', 'cherry'])\n",
    "print(\"Original Series:\")\n",
    "print(s)"
   ]
  },
  {
   "cell_type": "code",
   "execution_count": 11,
   "metadata": {},
   "outputs": [
    {
     "name": "stdout",
     "output_type": "stream",
     "text": [
      "Error: substring not found\n"
     ]
    }
   ],
   "source": [
    "# Find index of substring 'a'\n",
    "try:\n",
    "    result = s.str.index('a')\n",
    "    print(\"Result of index('a'):\")\n",
    "    print(result)\n",
    "except ValueError as e:\n",
    "    print(f\"Error: {e}\")"
   ]
  },
  {
   "cell_type": "code",
   "execution_count": 12,
   "metadata": {},
   "outputs": [
    {
     "name": "stdout",
     "output_type": "stream",
     "text": [
      "Error: substring not found\n"
     ]
    }
   ],
   "source": [
    "# Find index of substring 'an'\n",
    "try:\n",
    "    result_an = s.str.index('an')\n",
    "    print(\"Result of index('an'):\")\n",
    "    print(result_an)\n",
    "except ValueError as e:\n",
    "    print(f\"Error: {e}\")"
   ]
  },
  {
   "cell_type": "code",
   "execution_count": 13,
   "metadata": {},
   "outputs": [
    {
     "name": "stdout",
     "output_type": "stream",
     "text": [
      "Error: substring not found\n"
     ]
    }
   ],
   "source": [
    "# Find index of substring 'z'\n",
    "try:\n",
    "    result_z = s.str.index('z')\n",
    "    print(\"Result of index('z'):\")\n",
    "    print(result_z)\n",
    "except ValueError as e:\n",
    "    print(f\"Error: {e}\")"
   ]
  },
  {
   "cell_type": "code",
   "execution_count": 14,
   "metadata": {},
   "outputs": [
    {
     "name": "stdout",
     "output_type": "stream",
     "text": [
      "Error: substring not found\n"
     ]
    }
   ],
   "source": [
    "# Find index of substring 'a' with start index\n",
    "try:\n",
    "    result_start = s.str.index('a', 1)\n",
    "    print(\"Result of index('a', 1):\")\n",
    "    print(result_start)\n",
    "except ValueError as e:\n",
    "    print(f\"Error: {e}\")"
   ]
  },
  {
   "cell_type": "code",
   "execution_count": 15,
   "metadata": {},
   "outputs": [
    {
     "name": "stdout",
     "output_type": "stream",
     "text": [
      "Error: substring not found\n"
     ]
    }
   ],
   "source": [
    "# Find index of substring 'a' with start and end indices\n",
    "try:\n",
    "    result_start_end = s.str.index('a', 1, 3)\n",
    "    print(\"Result of index('a', 1, 3):\")\n",
    "    print(result_start_end)\n",
    "except ValueError as e:\n",
    "    print(f\"Error: {e}\")"
   ]
  },
  {
   "cell_type": "markdown",
   "metadata": {},
   "source": [
    "##### Joining Strings with `str.join()`\n",
    "\n",
    "The `str.join()` method joins lists contained as elements in the Series with the passed delimiter."
   ]
  },
  {
   "cell_type": "code",
   "execution_count": 16,
   "metadata": {},
   "outputs": [
    {
     "name": "stdout",
     "output_type": "stream",
     "text": [
      "Original Series:\n",
      "0    [lion, elephant, zebra]\n",
      "1          [cat, dog, mouse]\n",
      "2    [apple, banana, cherry]\n",
      "dtype: object\n"
     ]
    }
   ],
   "source": [
    "# Create a Series with lists of strings\n",
    "s = pd.Series([\n",
    "    ['lion', 'elephant', 'zebra'],\n",
    "    ['cat', 'dog', 'mouse'],\n",
    "    ['apple', 'banana', 'cherry']\n",
    "])\n",
    "print(\"Original Series:\")\n",
    "print(s)"
   ]
  },
  {
   "cell_type": "code",
   "execution_count": 17,
   "metadata": {},
   "outputs": [
    {
     "name": "stdout",
     "output_type": "stream",
     "text": [
      "Result of join(', '):\n",
      "0    lion, elephant, zebra\n",
      "1          cat, dog, mouse\n",
      "2    apple, banana, cherry\n",
      "dtype: object\n"
     ]
    }
   ],
   "source": [
    "# Join with comma\n",
    "result = s.str.join(', ')\n",
    "print(\"Result of join(', '):\")\n",
    "print(result)"
   ]
  },
  {
   "cell_type": "code",
   "execution_count": 18,
   "metadata": {},
   "outputs": [
    {
     "name": "stdout",
     "output_type": "stream",
     "text": [
      "Result of join('-'):\n",
      "0    lion-elephant-zebra\n",
      "1          cat-dog-mouse\n",
      "2    apple-banana-cherry\n",
      "dtype: object\n"
     ]
    }
   ],
   "source": [
    "# Join with hyphen\n",
    "result_hyphen = s.str.join('-')\n",
    "print(\"Result of join('-'):\")\n",
    "print(result_hyphen)"
   ]
  },
  {
   "cell_type": "code",
   "execution_count": 19,
   "metadata": {},
   "outputs": [
    {
     "name": "stdout",
     "output_type": "stream",
     "text": [
      "Result of join(''):\n",
      "0    lionelephantzebra\n",
      "1          catdogmouse\n",
      "2    applebananacherry\n",
      "dtype: object\n"
     ]
    }
   ],
   "source": [
    "# Join with empty string\n",
    "result_empty = s.str.join('')\n",
    "print(\"Result of join(''):\")\n",
    "print(result_empty)"
   ]
  },
  {
   "cell_type": "code",
   "execution_count": 20,
   "metadata": {},
   "outputs": [
    {
     "name": "stdout",
     "output_type": "stream",
     "text": [
      "Series with mixed element types:\n",
      "0    [lion, elephant, zebra]\n",
      "1            [1.1, 2.2, 3.3]\n",
      "2    [apple, banana, cherry]\n",
      "dtype: object\n"
     ]
    }
   ],
   "source": [
    "# Create a Series with lists that contain non-string elements\n",
    "s_mixed = pd.Series([\n",
    "    ['lion', 'elephant', 'zebra'],\n",
    "    [1.1, 2.2, 3.3],\n",
    "    ['apple', 'banana', 'cherry']\n",
    "])\n",
    "print(\"Series with mixed element types:\")\n",
    "print(s_mixed)"
   ]
  },
  {
   "cell_type": "code",
   "execution_count": 21,
   "metadata": {},
   "outputs": [
    {
     "name": "stdout",
     "output_type": "stream",
     "text": [
      "Result of join(', ') with mixed types:\n",
      "0    lion, elephant, zebra\n",
      "1                      NaN\n",
      "2    apple, banana, cherry\n",
      "dtype: object\n"
     ]
    }
   ],
   "source": [
    "# Join with comma\n",
    "result_mixed = s_mixed.str.join(', ')\n",
    "print(\"Result of join(', ') with mixed types:\")\n",
    "print(result_mixed)"
   ]
  },
  {
   "cell_type": "markdown",
   "metadata": {},
   "source": [
    "##### Removing Characters with `str.strip()`\n",
    "\n",
    "The `str.strip()` method removes leading and trailing characters from each string in the Series."
   ]
  },
  {
   "cell_type": "code",
   "execution_count": 22,
   "metadata": {},
   "outputs": [
    {
     "name": "stdout",
     "output_type": "stream",
     "text": [
      "Original Series:\n",
      "0    1. Ant.             \n",
      "1               2. Bee!\\n\n",
      "2               3. Cat?\\t\n",
      "3                     NaN\n",
      "dtype: object\n"
     ]
    }
   ],
   "source": [
    "# Create a Series with strings that have whitespace and special characters\n",
    "s = pd.Series(['1. Ant.             ', '2. Bee!\\n', '3. Cat?\\t', np.nan])\n",
    "print(\"Original Series:\")\n",
    "print(s)"
   ]
  },
  {
   "cell_type": "code",
   "execution_count": 23,
   "metadata": {},
   "outputs": [
    {
     "name": "stdout",
     "output_type": "stream",
     "text": [
      "Result of strip():\n",
      "0    1. Ant.\n",
      "1    2. Bee!\n",
      "2    3. Cat?\n",
      "3        NaN\n",
      "dtype: object\n"
     ]
    }
   ],
   "source": [
    "# Strip whitespace\n",
    "result = s.str.strip()\n",
    "print(\"Result of strip():\")\n",
    "print(result)"
   ]
  },
  {
   "cell_type": "code",
   "execution_count": 24,
   "metadata": {},
   "outputs": [
    {
     "name": "stdout",
     "output_type": "stream",
     "text": [
      "Result of lstrip('123.'):\n",
      "0     Ant.             \n",
      "1                Bee!\\n\n",
      "2                Cat?\\t\n",
      "3                   NaN\n",
      "dtype: object\n"
     ]
    }
   ],
   "source": [
    "# Strip specific characters from the left\n",
    "result_lstrip = s.str.lstrip('123.')\n",
    "print(\"Result of lstrip('123.'):\")\n",
    "print(result_lstrip)"
   ]
  },
  {
   "cell_type": "code",
   "execution_count": 25,
   "metadata": {},
   "outputs": [
    {
     "name": "stdout",
     "output_type": "stream",
     "text": [
      "Result of rstrip('.!? \\n\\t'):\n",
      "0    1. Ant\n",
      "1    2. Bee\n",
      "2    3. Cat\n",
      "3       NaN\n",
      "dtype: object\n"
     ]
    }
   ],
   "source": [
    "# Strip specific characters from the right\n",
    "result_rstrip = s.str.rstrip('.!? \\n\\t')\n",
    "print(\"Result of rstrip('.!? \\\\n\\\\t'):\")\n",
    "print(result_rstrip)"
   ]
  },
  {
   "cell_type": "code",
   "execution_count": 26,
   "metadata": {},
   "outputs": [
    {
     "name": "stdout",
     "output_type": "stream",
     "text": [
      "Result of strip('123.!? \\n\\t'):\n",
      "0    Ant\n",
      "1    Bee\n",
      "2    Cat\n",
      "3    NaN\n",
      "dtype: object\n"
     ]
    }
   ],
   "source": [
    "# Strip specific characters from both sides\n",
    "result_both = s.str.strip('123.!? \\n\\t')\n",
    "print(\"Result of strip('123.!? \\\\n\\\\t'):\")\n",
    "print(result_both)"
   ]
  },
  {
   "cell_type": "code",
   "execution_count": 27,
   "metadata": {},
   "outputs": [
    {
     "name": "stdout",
     "output_type": "stream",
     "text": [
      "Series with special characters:\n",
      "0     ###hello###\n",
      "1     ***world***\n",
      "2    ===python===\n",
      "dtype: object\n"
     ]
    }
   ],
   "source": [
    "# Create a Series with strings that have specific characters to strip\n",
    "s_special = pd.Series(['###hello###', '***world***', '===python==='])\n",
    "print(\"Series with special characters:\")\n",
    "print(s_special)"
   ]
  },
  {
   "cell_type": "code",
   "execution_count": 28,
   "metadata": {},
   "outputs": [
    {
     "name": "stdout",
     "output_type": "stream",
     "text": [
      "Result of strip('#*='):\n",
      "0     hello\n",
      "1     world\n",
      "2    python\n",
      "dtype: object\n"
     ]
    }
   ],
   "source": [
    "# Strip specific characters\n",
    "result_special = s_special.str.strip('#*=')\n",
    "print(\"Result of strip('#*='):\")\n",
    "print(result_special)"
   ]
  },
  {
   "cell_type": "markdown",
   "metadata": {},
   "source": [
    "##### Changing Case with `str.swapcase()`\n",
    "\n",
    "The `str.swapcase()` method converts uppercase characters to lowercase and lowercase characters to uppercase."
   ]
  },
  {
   "cell_type": "code",
   "execution_count": 29,
   "metadata": {},
   "outputs": [
    {
     "name": "stdout",
     "output_type": "stream",
     "text": [
      "Original Series:\n",
      "0                 lower\n",
      "1              CAPITALS\n",
      "2    this is a sentence\n",
      "3              SwApCaSe\n",
      "dtype: object\n"
     ]
    }
   ],
   "source": [
    "# Create a Series with strings of different cases\n",
    "s = pd.Series(['lower', 'CAPITALS', 'this is a sentence', 'SwApCaSe'])\n",
    "print(\"Original Series:\")\n",
    "print(s)"
   ]
  },
  {
   "cell_type": "code",
   "execution_count": 30,
   "metadata": {},
   "outputs": [
    {
     "name": "stdout",
     "output_type": "stream",
     "text": [
      "Result of lower():\n",
      "0                 lower\n",
      "1              capitals\n",
      "2    this is a sentence\n",
      "3              swapcase\n",
      "dtype: object\n"
     ]
    }
   ],
   "source": [
    "# Convert to lowercase\n",
    "result_lower = s.str.lower()\n",
    "print(\"Result of lower():\")\n",
    "print(result_lower)"
   ]
  },
  {
   "cell_type": "code",
   "execution_count": 31,
   "metadata": {},
   "outputs": [
    {
     "name": "stdout",
     "output_type": "stream",
     "text": [
      "Result of upper():\n",
      "0                 LOWER\n",
      "1              CAPITALS\n",
      "2    THIS IS A SENTENCE\n",
      "3              SWAPCASE\n",
      "dtype: object\n"
     ]
    }
   ],
   "source": [
    "# Convert to uppercase\n",
    "result_upper = s.str.upper()\n",
    "print(\"Result of upper():\")\n",
    "print(result_upper)"
   ]
  },
  {
   "cell_type": "code",
   "execution_count": 32,
   "metadata": {},
   "outputs": [
    {
     "name": "stdout",
     "output_type": "stream",
     "text": [
      "Result of title():\n",
      "0                 Lower\n",
      "1              Capitals\n",
      "2    This Is A Sentence\n",
      "3              Swapcase\n",
      "dtype: object\n"
     ]
    }
   ],
   "source": [
    "# Convert to title case\n",
    "result_title = s.str.title()\n",
    "print(\"Result of title():\")\n",
    "print(result_title)"
   ]
  },
  {
   "cell_type": "code",
   "execution_count": 33,
   "metadata": {},
   "outputs": [
    {
     "name": "stdout",
     "output_type": "stream",
     "text": [
      "Result of capitalize():\n",
      "0                 Lower\n",
      "1              Capitals\n",
      "2    This is a sentence\n",
      "3              Swapcase\n",
      "dtype: object\n"
     ]
    }
   ],
   "source": [
    "# Capitalize (first character uppercase, rest lowercase)\n",
    "result_capitalize = s.str.capitalize()\n",
    "print(\"Result of capitalize():\")\n",
    "print(result_capitalize)"
   ]
  },
  {
   "cell_type": "code",
   "execution_count": 34,
   "metadata": {},
   "outputs": [
    {
     "name": "stdout",
     "output_type": "stream",
     "text": [
      "Result of swapcase():\n",
      "0                 LOWER\n",
      "1              capitals\n",
      "2    THIS IS A SENTENCE\n",
      "3              sWaPcAsE\n",
      "dtype: object\n"
     ]
    }
   ],
   "source": [
    "# Swap case\n",
    "result_swapcase = s.str.swapcase()\n",
    "print(\"Result of swapcase():\")\n",
    "print(result_swapcase)"
   ]
  },
  {
   "cell_type": "code",
   "execution_count": 35,
   "metadata": {},
   "outputs": [
    {
     "name": "stdout",
     "output_type": "stream",
     "text": [
      "Series with mixed case strings:\n",
      "0      Hello World\n",
      "1    Python IS Fun\n",
      "2           123ABC\n",
      "3           aBcDeF\n",
      "dtype: object\n"
     ]
    }
   ],
   "source": [
    "# Create a Series with mixed case strings\n",
    "s_mixed = pd.Series(['Hello World', 'Python IS Fun', '123ABC', 'aBcDeF'])\n",
    "print(\"Series with mixed case strings:\")\n",
    "print(s_mixed)"
   ]
  },
  {
   "cell_type": "code",
   "execution_count": 36,
   "metadata": {},
   "outputs": [
    {
     "name": "stdout",
     "output_type": "stream",
     "text": [
      "Result of swapcase():\n",
      "0      hELLO wORLD\n",
      "1    pYTHON is fUN\n",
      "2           123abc\n",
      "3           AbCdEf\n",
      "dtype: object\n"
     ]
    }
   ],
   "source": [
    "# Swap case\n",
    "result_mixed = s_mixed.str.swapcase()\n",
    "print(\"Result of swapcase():\")\n",
    "print(result_mixed)"
   ]
  },
  {
   "cell_type": "markdown",
   "metadata": {},
   "source": [
    "##### Conclusion\n",
    "\n",
    "In this notebook, we've explored various Series string methods in pandas:\n",
    "\n",
    "1. `str.get()`: Extracts an element from each component at a specified position, useful for working with strings, lists, tuples, and dictionaries.\n",
    "2. `str.index()`: Returns the lowest index where the substring is found, raising a ValueError if not found, providing a more strict alternative to `str.find()`.\n",
    "3. `str.join()`: Joins lists contained as elements in the Series with the passed delimiter, allowing for flexible string concatenation.\n",
    "4. `str.strip()`, `str.lstrip()`, and `str.rstrip()`: Remove leading and trailing characters from each string in the Series, useful for cleaning text data.\n",
    "5. `str.swapcase()` and other case conversion methods: Change the case of characters in strings, providing various options for text transformation.\n",
    "\n",
    "These methods are essential tools for string manipulation and text processing in pandas, allowing for flexible and powerful operations on your data."
   ]
  }
 ],
 "metadata": {
  "kernelspec": {
   "display_name": "venv",
   "language": "python",
   "name": "python3"
  },
  "language_info": {
   "codemirror_mode": {
    "name": "ipython",
    "version": 3
   },
   "file_extension": ".py",
   "mimetype": "text/x-python",
   "name": "python",
   "nbconvert_exporter": "python",
   "pygments_lexer": "ipython3",
   "version": "3.13.2"
  }
 },
 "nbformat": 4,
 "nbformat_minor": 4
}
