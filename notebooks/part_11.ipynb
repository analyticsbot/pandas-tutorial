{
 "cells": [
  {
   "cell_type": "markdown",
   "metadata": {},
   "source": [
    "# Part 11: Filtering Columns, Comments and JSON in Pandas\n",
    "\n",
    "In this notebook, we'll explore:\n",
    "- Filtering columns using `usecols` parameter\n",
    "- Handling comments and empty lines\n",
    "- Working with JSON data\n",
    "\n",
    "## Setup\n",
    "First, let's import the necessary libraries:"
   ]
  },
  {
   "cell_type": "code",
   "execution_count": null,
   "metadata": {},
   "outputs": [],
   "source": [
    "import pandas as pd\n",
    "import numpy as np\n",
    "from io import StringIO"
   ]
  },
  {
   "cell_type": "markdown",
   "metadata": {},
   "source": [
    "## 1. Filtering Columns (usecols)\n",
    "\n",
    "The `usecols` argument allows you to select any subset of the columns in a file, either using the column names, position numbers or a callable."
   ]
  },
  {
   "cell_type": "code",
   "execution_count": null,
   "metadata": {},
   "outputs": [],
   "source": [
    "data = 'a,b,c,d\\n1,2,3,foo\\n4,5,6,bar\\n7,8,9,baz'\n",
    "\n",
    "pd.read_csv(StringIO(data))"
   ]
  },
  {
   "cell_type": "code",
   "execution_count": null,
   "metadata": {},
   "outputs": [],
   "source": [
    "pd.read_csv(StringIO(data), usecols=['b', 'd'])"
   ]
  },
  {
   "cell_type": "code",
   "execution_count": null,
   "metadata": {},
   "outputs": [],
   "source": [
    "pd.read_csv(StringIO(data), usecols=[0, 2, 3])"
   ]
  },
  {
   "cell_type": "code",
   "execution_count": null,
   "metadata": {},
   "outputs": [],
   "source": [
    "pd.read_csv(StringIO(data), usecols=lambda x: x.upper() in ['A', 'C'])"
   ]
  },
  {
   "cell_type": "markdown",
   "metadata": {},
   "source": [
    "The `usecols` argument can also be used to specify which columns not to use in the final result:"
   ]
  },
  {
   "cell_type": "code",
   "execution_count": null,
   "metadata": {},
   "outputs": [],
   "source": [
    "pd.read_csv(StringIO(data), usecols=lambda x: x not in ['a', 'c'])"
   ]
  },
  {
   "cell_type": "markdown",
   "metadata": {},
   "source": [
    "## 2. Comments and Empty Lines\n",
    "\n",
    "### 2.1 Ignoring Line Comments and Empty Lines\n",
    "\n",
    "If the `comment` parameter is specified, then completely commented lines will be ignored. By default, completely blank lines will be ignored as well."
   ]
  },
  {
   "cell_type": "code",
   "execution_count": null,
   "metadata": {},
   "outputs": [],
   "source": [
    "data = ('\\n'\n",
    "        'a,b,c\\n'\n",
    "        ' \\n'\n",
    "        '# commented line\\n'\n",
    "        '1,2,3\\n'\n",
    "        '\\n'\n",
    "        '4,5,6')\n",
    "\n",
    "print(data)"
   ]
  },
  {
   "cell_type": "code",
   "execution_count": null,
   "metadata": {},
   "outputs": [],
   "source": [
    "pd.read_csv(StringIO(data), comment='#')"
   ]
  },
  {
   "cell_type": "markdown",
   "metadata": {},
   "source": [
    "If `skip_blank_lines=False`, then `read_csv` will not ignore blank lines:"
   ]
  },
  {
   "cell_type": "code",
   "execution_count": null,
   "metadata": {},
   "outputs": [],
   "source": [
    "data = ('a,b,c\\n'\n",
    "        '\\n'\n",
    "        '1,2,3\\n'\n",
    "        '\\n'\n",
    "        '\\n'\n",
    "        '4,5,6')\n",
    "\n",
    "pd.read_csv(StringIO(data), skip_blank_lines=False)"
   ]
  },
  {
   "cell_type": "markdown",
   "metadata": {},
   "source": [
    "### 2.2 Line Numbers and Headers with Comments\n",
    "\n",
    "The presence of ignored lines might create ambiguities involving line numbers; the parameter `header` uses row numbers (ignoring commented/empty lines), while `skiprows` uses line numbers (including commented/empty lines):"
   ]
  },
  {
   "cell_type": "code",
   "execution_count": null,
   "metadata": {},
   "outputs": [],
   "source": [
    "data = ('#comment\\n'\n",
    "        'a,b,c\\n'\n",
    "        'A,B,C\\n'\n",
    "        '1,2,3')\n",
    "\n",
    "pd.read_csv(StringIO(data), comment='#', header=1)"
   ]
  },
  {
   "cell_type": "code",
   "execution_count": null,
   "metadata": {},
   "outputs": [],
   "source": [
    "data = ('A,B,C\\n'\n",
    "        '#comment\\n'\n",
    "        'a,b,c\\n'\n",
    "        '1,2,3')\n",
    "\n",
    "pd.read_csv(StringIO(data), comment='#', skiprows=2)"
   ]
  },
  {
   "cell_type": "markdown",
   "metadata": {},
   "source": [
    "If both `header` and `skiprows` are specified, `header` will be relative to the end of `skiprows`:"
   ]
  },
  {
   "cell_type": "code",
   "execution_count": null,
   "metadata": {},
   "outputs": [],
   "source": [
    "data = ('# empty\\n'\n",
    "        '# second empty line\\n'\n",
    "        '# third emptyline\\n'\n",
    "        'X,Y,Z\\n'\n",
    "        '1,2,3\\n'\n",
    "        'A,B,C\\n'\n",
    "        '1,2.,4.\\n'\n",
    "        '5.,NaN,10.0\\n')\n",
    "\n",
    "print(data)"
   ]
  },
  {
   "cell_type": "code",
   "execution_count": null,
   "metadata": {},
   "outputs": [],
   "source": [
    "pd.read_csv(StringIO(data), comment='#', skiprows=4, header=1)"
   ]
  },
  {
   "cell_type": "markdown",
   "metadata": {},
   "source": [
    "## 3. Writing Formatted Strings\n",
    "\n",
    "The DataFrame object has an instance method `to_string` which allows control over the string representation of the object. All arguments are optional:\n",
    "- `buf` default None, for example a StringIO object\n",
    "- `columns` default None, which columns to write\n",
    "- `col_space` default None, minimum width of each column\n",
    "- `na_rep` default NaN, representation of NA value\n",
    "- `formatters` default None, a dictionary (by column) of functions each of which takes a single argument and returns a formatted string\n",
    "- `float_format` default None, a function which takes a single (float) argument and returns a formatted string; to be applied to floats in the DataFrame\n",
    "- `sparsify` default True, set to False for a DataFrame with a hierarchical index to print every MultiIndex key at each row\n",
    "- `index_names` default True, will print the names of the indices\n",
    "- `index` default True, will print the index (ie, row labels)\n",
    "- `header` default True, will print the column labels\n",
    "- `justify` default left, will print column headers left- or right-justified"
   ]
  },
  {
   "cell_type": "code",
   "execution_count": null,
   "metadata": {},
   "outputs": [],
   "source": [
    "# Create a sample DataFrame\n",
    "df = pd.DataFrame({\n",
    "    'A': [1, 2, 3],\n",
    "    'B': [1.234, 5.678, 9.101],\n",
    "    'C': ['foo', 'bar', 'baz']\n",
    "})\n",
    "\n",
    "# Default string representation\n",
    "print(df.to_string())"
   ]
  },
  {
   "cell_type": "code",
   "execution_count": null,
   "metadata": {},
   "outputs": [],
   "source": [
    "# With float formatting\n",
    "print(df.to_string(float_format=lambda x: f'{x:.1f}'))"
   ]
  },
  {
   "cell_type": "code",
   "execution_count": null,
   "metadata": {},
   "outputs": [],
   "source": [
    "# With column selection\n",
    "print(df.to_string(columns=['A', 'C']))"
   ]
  },
  {
   "cell_type": "markdown",
   "metadata": {},
   "source": [
    "The Series object also has a `to_string` method, but with only the `buf`, `na_rep`, `float_format` arguments. There is also a `length` argument which, if set to True, will additionally output the length of the Series."
   ]
  },
  {
   "cell_type": "code",
   "execution_count": null,
   "metadata": {},
   "outputs": [],
   "source": [
    "# Series to_string example\n",
    "s = pd.Series([1, 2, 3, np.nan])\n",
    "print(s.to_string())\n",
    "print(\"\\nWith length:\")\n",
    "print(s.to_string(length=True))"
   ]
  },
  {
   "cell_type": "markdown",
   "metadata": {},
   "source": [
    "## 4. JSON\n",
    "\n",
    "### 4.1 Writing JSON\n",
    "\n",
    "A Series or DataFrame can be converted to a valid JSON string using `to_json` with optional parameters:\n",
    "- `path_or_buf`: the pathname or buffer to write the output (None returns a JSON string)\n",
    "- `orient`: format of the JSON string\n",
    "  - Series: default is 'index', allowed values are {'split', 'records', 'index'}\n",
    "  - DataFrame: default is 'columns', allowed values are {'split', 'records', 'index', 'columns', 'values', 'table'}\n",
    "- `date_format`: string, type of date conversion, 'epoch' for timestamp, 'iso' for ISO8601\n",
    "- `double_precision`: decimal places for floating point values, default 10\n",
    "- `force_ascii`: force encoded string to be ASCII, default True\n",
    "- `date_unit`: time unit to encode to ('s', 'ms', 'us', 'ns'), default 'ms'\n",
    "- `default_handler`: handler for objects that can't be converted to JSON\n",
    "- `lines`: if records orient, write each record per line as JSON"
   ]
  },
  {
   "cell_type": "code",
   "execution_count": null,
   "metadata": {},
   "outputs": [],
   "source": [
    "# DataFrame to JSON examples\n",
    "df = pd.DataFrame({\n",
    "    'A': [1, 2, 3],\n",
    "    'B': ['foo', 'bar', 'baz'],\n",
    "    'C': pd.date_range('2021-01-01', periods=3)\n",
    "})\n",
    "\n",
    "# Default orientation (columns)\n",
    "print(df.to_json())"
   ]
  },
  {
   "cell_type": "code",
   "execution_count": null,
   "metadata": {},
   "outputs": [],
   "source": [
    "# Records orientation\n",
    "print(df.to_json(orient='records'))"
   ]
  },
  {
   "cell_type": "code",
   "execution_count": null,
   "metadata": {},
   "outputs": [],
   "source": [
    "# Split orientation\n",
    "print(df.to_json(orient='split'))"
   ]
  },
  {
   "cell_type": "code",
   "execution_count": null,
   "metadata": {},
   "outputs": [],
   "source": [
    "# Series to JSON\n",
    "s = pd.Series([1, 2, 3])\n",
    "print(s.to_json())"
   ]
  }
 ],
 "metadata": {
  "kernelspec": {
   "display_name": "Python 3",
   "language": "python",
   "name": "python3"
  },
  "language_info": {
   "codemirror_mode": {
    "name": "ipython",
    "version": 3
   },
   "file_extension": ".py",
   "mimetype": "text/x-python",
   "name": "python",
   "nbconvert_exporter": "python",
   "pygments_lexer": "ipython3",
   "version": "3.8.5"
  }
 },
 "nbformat": 4,
 "nbformat_minor": 4
}
