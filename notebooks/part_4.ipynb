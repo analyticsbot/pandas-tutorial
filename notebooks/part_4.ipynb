{
 "cells": [
  {
   "cell_type": "markdown",
   "metadata": {},
   "source": [
    "##### Data Reshaping and Binary Operations"
   ]
  },
  {
   "cell_type": "code",
   "execution_count": null,
   "metadata": {},
   "outputs": [],
   "source": [
    "import pandas as pd\n",
    "import numpy as np"
   ]
  },
  {
   "cell_type": "markdown",
   "metadata": {},
   "source": [
    "##### Loading Sample Data\n",
    "We'll use the air quality and titanic datasets"
   ]
  },
  {
   "cell_type": "code",
   "execution_count": null,
   "metadata": {},
   "outputs": [],
   "source": [
    "# Air quality data with datetime index\n",
    "air_quality = pd.read_csv(\"data/air_quality_long.csv\",\n",
    "                         index_col=\"date.utc\", parse_dates=True)\n",
    "\n",
    "print(\"Air quality data sample:\")\n",
    "print(air_quality.head())"
   ]
  },
  {
   "cell_type": "code",
   "execution_count": null,
   "metadata": {},
   "outputs": [],
   "source": [
    "# Titanic dataset\n",
    "titanic = pd.read_csv(\"data/titanic.csv\")\n",
    "\n",
    "print(\"\\nTitanic data sample:\")\n",
    "print(titanic.head())"
   ]
  },
  {
   "cell_type": "markdown",
   "metadata": {},
   "source": [
    "##### Sorting Data\n",
    "Sort DataFrame rows by one or multiple columns"
   ]
  },
  {
   "cell_type": "code",
   "execution_count": null,
   "metadata": {},
   "outputs": [],
   "source": [
    "# Sort by single column (Age)\n",
    "print(\"Sorted by age:\")\n",
    "print(titanic.sort_values(by=\"Age\").head())"
   ]
  },
  {
   "cell_type": "code",
   "execution_count": null,
   "metadata": {},
   "outputs": [],
   "source": [
    "# Sort by multiple columns (Pclass, Age) in descending order\n",
    "print(\"Sorted by class and age (descending):\")\n",
    "print(titanic.sort_values(by=['Pclass', 'Age'], ascending=False).head())"
   ]
  },
  {
   "cell_type": "markdown",
   "metadata": {},
   "source": [
    "##### Reshaping Data: Long to Wide Format\n",
    "Transform data layout using pivot operations"
   ]
  },
  {
   "cell_type": "code",
   "execution_count": null,
   "metadata": {},
   "outputs": [],
   "source": [
    "# Create NO2 subset\n",
    "no2 = air_quality[air_quality[\"parameter\"] == \"no2\"]\n",
    "no2_subset = no2.sort_index().groupby([\"location\"]).head(2)\n",
    "\n",
    "print(\"NO2 measurements subset:\")\n",
    "print(no2_subset)"
   ]
  },
  {
   "cell_type": "code",
   "execution_count": null,
   "metadata": {},
   "outputs": [],
   "source": [
    "# Pivot data to wide format\n",
    "print(\"NO2 data in wide format:\")\n",
    "print(no2_subset.pivot(columns=\"location\", values=\"value\"))"
   ]
  },
  {
   "cell_type": "markdown",
   "metadata": {},
   "source": [
    "##### Binary Operations\n",
    "Perform operations between DataFrames and Series"
   ]
  },
  {
   "cell_type": "code",
   "execution_count": null,
   "metadata": {},
   "outputs": [],
   "source": [
    "# Create sample DataFrame\n",
    "df = pd.DataFrame({\n",
    "    'one': pd.Series(np.random.randn(3), index=['a', 'b', 'c']),\n",
    "    'two': pd.Series(np.random.randn(4), index=['a', 'b', 'c', 'd']),\n",
    "    'three': pd.Series(np.random.randn(3), index=['b', 'c', 'd'])\n",
    "})\n",
    "\n",
    "print(\"Sample DataFrame:\")\n",
    "print(df)"
   ]
  },
  {
   "cell_type": "code",
   "execution_count": null,
   "metadata": {},
   "outputs": [],
   "source": [
    "# Subtract row from DataFrame\n",
    "row = df.iloc[1]\n",
    "print(\"Subtracting row from DataFrame:\")\n",
    "print(df.sub(row, axis='columns'))"
   ]
  },
  {
   "cell_type": "code",
   "execution_count": null,
   "metadata": {},
   "outputs": [],
   "source": [
    "# Subtract column from DataFrame\n",
    "column = df['two']\n",
    "print(\"Subtracting column from DataFrame:\")\n",
    "print(df.sub(column, axis='index'))"
   ]
  },
  {
   "cell_type": "markdown",
   "metadata": {},
   "source": [
    "##### Advanced Operations\n",
    "Using divmod with Series"
   ]
  },
  {
   "cell_type": "code",
   "execution_count": null,
   "metadata": {},
   "outputs": [],
   "source": [
    "# Create sample Series\n",
    "s = pd.Series(np.arange(10))\n",
    "print(\"Original Series:\")\n",
    "print(s)\n",
    "\n",
    "# Perform divmod operation\n",
    "div, rem = divmod(s, 3)\n",
    "print(\"\\nDivision result:\")\n",
    "print(div)\n",
    "print(\"\\nRemainder:\")\n",
    "print(rem)"
   ]
  }
 ],
 "metadata": {
  "kernelspec": {
   "display_name": "Python 3",
   "language": "python",
   "name": "python3"
  },
  "language_info": {
   "codemirror_mode": {
    "name": "ipython",
    "version": 3
   },
   "file_extension": ".py",
   "mimetype": "text/x-python",
   "name": "python",
   "nbconvert_exporter": "python",
   "pygments_lexer": "ipython3",
   "version": "3.8.0"
  }
 },
 "nbformat": 4,
 "nbformat_minor": 4
}
