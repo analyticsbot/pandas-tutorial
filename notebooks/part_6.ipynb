{
 "cells": [
  {
   "cell_type": "markdown",
   "metadata": {},
   "source": [
    "##### Data Manipulation and Types"
   ]
  },
  {
   "cell_type": "code",
   "execution_count": null,
   "metadata": {},
   "outputs": [],
   "source": [
    "import pandas as pd\n",
    "import numpy as np"
   ]
  },
  {
   "cell_type": "markdown",
   "metadata": {},
   "source": [
    "##### Elementwise Functions\n",
    "Apply functions to individual elements"
   ]
  },
  {
   "cell_type": "code",
   "execution_count": null,
   "metadata": {},
   "outputs": [],
   "source": [
    "# Create sample DataFrame\n",
    "df = pd.DataFrame({\n",
    "    'one': [1.39, 0.34, 0.69, np.nan],\n",
    "    'two': [1.77, 1.91, 1.47, 0.27],\n",
    "    'three': [np.nan, -0.05, 1.22, -0.61]\n",
    "}, index=['a', 'b', 'c', 'd'])\n",
    "\n",
    "print(\"Sample DataFrame:\")\n",
    "print(df)"
   ]
  },
  {
   "cell_type": "code",
   "execution_count": null,
   "metadata": {},
   "outputs": [],
   "source": [
    "# Apply custom function to each element\n",
    "def get_str_length(x):\n",
    "    return len(str(x))\n",
    "\n",
    "print(\"String lengths of 'one' column:\")\n",
    "print(df['one'].map(get_str_length))\n",
    "\n",
    "print(\"\\nString lengths of all elements:\")\n",
    "print(df.applymap(get_str_length))"
   ]
  },
  {
   "cell_type": "code",
   "execution_count": null,
   "metadata": {},
   "outputs": [],
   "source": [
    "# Map values using another Series\n",
    "s1 = pd.Series(['six', 'seven', 'six', 'seven', 'six'],\n",
    "               index=['a', 'b', 'c', 'd', 'e'])\n",
    "s2 = pd.Series({'six': 6., 'seven': 7.})\n",
    "\n",
    "print(\"Original Series:\")\n",
    "print(s1)\n",
    "print(\"\\nMapped values:\")\n",
    "print(s1.map(s2))"
   ]
  },
  {
   "cell_type": "markdown",
   "metadata": {},
   "source": [
    "##### Reindexing\n",
    "Conform data to match new labels"
   ]
  },
  {
   "cell_type": "code",
   "execution_count": null,
   "metadata": {},
   "outputs": [],
   "source": [
    "# Create sample Series\n",
    "s = pd.Series(np.random.randn(5), index=['a', 'b', 'c', 'd', 'e'])\n",
    "print(\"Original Series:\")\n",
    "print(s)\n",
    "\n",
    "print(\"\\nReindexed Series:\")\n",
    "print(s.reindex(['e', 'b', 'f', 'd']))"
   ]
  },
  {
   "cell_type": "code",
   "execution_count": null,
   "metadata": {},
   "outputs": [],
   "source": [
    "# Reindex DataFrame (both index and columns)\n",
    "print(\"Original DataFrame:\")\n",
    "print(df)\n",
    "\n",
    "print(\"\\nReindexed DataFrame:\")\n",
    "print(df.reindex(index=['c', 'f', 'b'], columns=['three', 'two', 'one']))"
   ]
  },
  {
   "cell_type": "markdown",
   "metadata": {},
   "source": [
    "##### Sorting\n",
    "Sort by values or index"
   ]
  },
  {
   "cell_type": "code",
   "execution_count": null,
   "metadata": {},
   "outputs": [],
   "source": [
    "# Create sample DataFrame with MultiIndex\n",
    "df_multi = pd.DataFrame({\n",
    "    ('a', 'one'): [2, 1, 1, 1],\n",
    "    ('a', 'two'): [1, 2, 3, 4],\n",
    "    ('b', 'three'): [5, 3, 4, 2]\n",
    "})\n",
    "\n",
    "print(\"DataFrame with MultiIndex columns:\")\n",
    "print(df_multi)"
   ]
  },
  {
   "cell_type": "code",
   "execution_count": null,
   "metadata": {},
   "outputs": [],
   "source": [
    "# Sort by MultiIndex column\n",
    "print(\"Sorted by ('a', 'two'):\")\n",
    "print(df_multi.sort_values(by=('a', 'two')))"
   ]
  },
  {
   "cell_type": "markdown",
   "metadata": {},
   "source": [
    "##### Data Types\n",
    "Understanding pandas dtypes"
   ]
  },
  {
   "cell_type": "code",
   "execution_count": null,
   "metadata": {},
   "outputs": [],
   "source": [
    "# Create DataFrame with different types\n",
    "df_types = pd.DataFrame({\n",
    "    'integers': [1, 2, 3],\n",
    "    'floats': [1.1, 2.2, 3.3],\n",
    "    'strings': ['a', 'b', 'c'],\n",
    "    'booleans': [True, False, True],\n",
    "    'dates': pd.date_range('20250219', periods=3)\n",
    "})\n",
    "\n",
    "print(\"DataFrame with different types:\")\n",
    "print(df_types)\n",
    "print(\"\\nData types of each column:\")\n",
    "print(df_types.dtypes)"
   ]
  },
  {
   "cell_type": "code",
   "execution_count": null,
   "metadata": {},
   "outputs": [],
   "source": [
    "# Create Series with categorical data\n",
    "cat_series = pd.Series(['a', 'b', 'a', 'c'], dtype='category')\n",
    "print(\"Categorical Series:\")\n",
    "print(cat_series)\n",
    "print(\"\\nCategories:\")\n",
    "print(cat_series.cat.categories)"
   ]
  },
  {
   "cell_type": "code",
   "execution_count": null,
   "metadata": {},
   "outputs": [],
   "source": [
    "# String operations with StringDtype\n",
    "str_series = pd.Series(['apple', 'banana', 'cherry'], dtype='string')\n",
    "print(\"String Series:\")\n",
    "print(str_series)\n",
    "print(\"\\nUppercase:\")\n",
    "print(str_series.str.upper())"
   ]
  }
 ],
 "metadata": {
  "kernelspec": {
   "display_name": "Python 3",
   "language": "python",
   "name": "python3"
  },
  "language_info": {
   "codemirror_mode": {
    "name": "ipython",
    "version": 3
   },
   "file_extension": ".py",
   "mimetype": "text/x-python",
   "name": "python",
   "nbconvert_exporter": "python",
   "pygments_lexer": "ipython3",
   "version": "3.8.0"
  }
 },
 "nbformat": 4,
 "nbformat_minor": 4
}