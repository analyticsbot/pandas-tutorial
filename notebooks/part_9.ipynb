{
 "cells": [
  {
   "cell_type": "markdown",
   "metadata": {},
   "source": [
    "##### SQL-like Operations and Data I/O"
   ]
  },
  {
   "cell_type": "code",
   "execution_count": null,
   "metadata": {},
   "outputs": [],
   "source": [
    "import pandas as pd\n",
    "import numpy as np"
   ]
  },
  {
   "cell_type": "markdown",
   "metadata": {},
   "source": [
    "##### Advanced GROUP BY Operations\n",
    "Multiple aggregations and complex grouping"
   ]
  },
  {
   "cell_type": "code",
   "execution_count": null,
   "metadata": {},
   "outputs": [],
   "source": [
    "# Load tips dataset\n",
    "tips = pd.read_csv('data/tips.csv')\n",
    "\n",
    "# Multiple aggregations\n",
    "print(\"Tips summary by day:\")\n",
    "print(tips.groupby('day').agg({\n",
    "    'tip': [np.mean, np.size],\n",
    "    'total_bill': [np.sum, np.mean]\n",
    "}))"
   ]
  },
  {
   "cell_type": "code",
   "execution_count": null,
   "metadata": {},
   "outputs": [],
   "source": [
    "# Group by multiple columns\n",
    "print(\"Tips summary by smoker and day:\")\n",
    "print(tips.groupby(['smoker', 'day']).agg({\n",
    "    'tip': [np.size, np.mean]\n",
    "}))"
   ]
  },
  {
   "cell_type": "markdown",
   "metadata": {},
   "source": [
    "##### JOIN Operations\n",
    "Different types of joins in pandas"
   ]
  },
  {
   "cell_type": "code",
   "execution_count": null,
   "metadata": {},
   "outputs": [],
   "source": [
    "# Create sample DataFrames\n",
    "df1 = pd.DataFrame({\n",
    "    'key': ['A', 'B', 'C', 'D'],\n",
    "    'value': np.random.randn(4)\n",
    "})\n",
    "\n",
    "df2 = pd.DataFrame({\n",
    "    'key': ['B', 'D', 'D', 'E'],\n",
    "    'value': np.random.randn(4)\n",
    "})\n",
    "\n",
    "print(\"DataFrame 1:\")\n",
    "print(df1)\n",
    "print(\"\\nDataFrame 2:\")\n",
    "print(df2)"
   ]
  },
  {
   "cell_type": "code",
   "execution_count": null,
   "metadata": {},
   "outputs": [],
   "source": [
    "# Inner join\n",
    "print(\"Inner join:\")\n",
    "print(pd.merge(df1, df2, on='key'))\n",
    "\n",
    "# Left join\n",
    "print(\"\\nLeft join:\")\n",
    "print(pd.merge(df1, df2, on='key', how='left'))\n",
    "\n",
    "# Right join\n",
    "print(\"\\nRight join:\")\n",
    "print(pd.merge(df1, df2, on='key', how='right'))"
   ]
  },
  {
   "cell_type": "code",
   "execution_count": null,
   "metadata": {},
   "outputs": [],
   "source": [
    "# Join with index\n",
    "indexed_df2 = df2.set_index('key')\n",
    "print(\"Join DataFrame with indexed DataFrame:\")\n",
    "print(pd.merge(df1, indexed_df2, left_on='key', right_index=True))"
   ]
  },
  {
   "cell_type": "markdown",
   "metadata": {},
   "source": [
    "##### Data Input/Output\n",
    "Reading and writing data in different formats"
   ]
  },
  {
   "cell_type": "code",
   "execution_count": null,
   "metadata": {},
   "outputs": [],
   "source": [
    "# Create DataFrame from values\n",
    "df = pd.DataFrame({\n",
    "    'x': [1, 3, 5],\n",
    "    'y': [2, 4, 6]\n",
    "})\n",
    "\n",
    "print(\"DataFrame from dictionary:\")\n",
    "print(df)"
   ]
  },
  {
   "cell_type": "code",
   "execution_count": null,
   "metadata": {},
   "outputs": [],
   "source": [
    "# Write DataFrame to CSV\n",
    "df.to_csv('sample.csv', index=False)\n",
    "\n",
    "# Read CSV file\n",
    "df_read = pd.read_csv('sample.csv')\n",
    "print(\"\\nDataFrame read from CSV:\")\n",
    "print(df_read)"
   ]
  },
  {
   "cell_type": "markdown",
   "metadata": {},
   "source": [
    "##### Column Operations\n",
    "Manipulating columns in pandas"
   ]
  },
  {
   "cell_type": "code",
   "execution_count": null,
   "metadata": {},
   "outputs": [],
   "source": [
    "# Load tips data\n",
    "print(\"Original tips data:\")\n",
    "print(tips.head())\n",
    "\n",
    "# Modify existing column\n",
    "tips['total_bill'] = tips['total_bill'] - 2\n",
    "\n",
    "# Create new column\n",
    "tips['new_bill'] = tips['total_bill'] / 2\n",
    "\n",
    "print(\"\\nModified tips data:\")\n",
    "print(tips.head())\n",
    "\n",
    "# Drop column\n",
    "tips = tips.drop('new_bill', axis=1)\n",
    "\n",
    "print(\"\\nAfter dropping new_bill:\")\n",
    "print(tips.head())"
   ]
  }
 ],
 "metadata": {
  "kernelspec": {
   "display_name": "Python 3",
   "language": "python",
   "name": "python3"
  },
  "language_info": {
   "codemirror_mode": {
    "name": "ipython",
    "version": 3
   },
   "file_extension": ".py",
   "mimetype": "text/x-python",
   "name": "python",
   "nbconvert_exporter": "python",
   "pygments_lexer": "ipython3",
   "version": "3.8.0"
  }
 },
 "nbformat": 4,
 "nbformat_minor": 4
}
