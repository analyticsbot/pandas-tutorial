{
 "cells": [
  {
   "cell_type": "markdown",
   "metadata": {},
   "source": [
    "# Pandas Tutorial - Part 53\n",
    "\n",
    "This notebook covers various Series string methods including:\n",
    "- Converting to title case with `str.title()`\n",
    "- Translating characters with `str.translate()`\n",
    "- Converting to uppercase with `str.upper()`\n",
    "- String validation methods like `str.isdecimal()`, `str.isdigit()`, `str.isnumeric()`, `str.isspace()`, `str.islower()`, `str.isupper()`, and `str.istitle()`"
   ]
  },
  {
   "cell_type": "code",
   "execution_count": null,
   "metadata": {},
   "outputs": [],
   "source": [
    "import pandas as pd\n",
    "import numpy as np\n",
    "import matplotlib.pyplot as plt\n",
    "\n",
    "%matplotlib inline"
   ]
  },
  {
   "cell_type": "markdown",
   "metadata": {},
   "source": [
    "## Converting to Title Case with `str.title()`\n",
    "\n",
    "The `str.title()` method converts the first character of each word to uppercase and the remaining characters to lowercase."
   ]
  },
  {
   "cell_type": "code",
   "execution_count": null,
   "metadata": {},
   "outputs": [],
   "source": [
    "# Create a Series with strings of different cases\n",
    "s = pd.Series(['lower', 'CAPITALS', 'this is a sentence', 'SwApCaSe'])\n",
    "print(\"Original Series:\")\n",
    "print(s)"
   ]
  },
  {
   "cell_type": "code",
   "execution_count": null,
   "metadata": {},
   "outputs": [],
   "source": [
    "# Convert to title case\n",
    "result = s.str.title()\n",
    "print(\"Result of title():\")\n",
    "print(result)"
   ]
  },
  {
   "cell_type": "code",
   "execution_count": null,
   "metadata": {},
   "outputs": [],
   "source": [
    "# Create a Series with more complex strings\n",
    "s_complex = pd.Series([\n",
    "    'the quick brown fox',\n",
    "    'HELLO WORLD',\n",
    "    'python is fun',\n",
    "    'data-science and machine-learning'\n",
    "])\n",
    "print(\"Series with complex strings:\")\n",
    "print(s_complex)"
   ]
  },
  {
   "cell_type": "code",
   "execution_count": null,
   "metadata": {},
   "outputs": [],
   "source": [
    "# Convert to title case\n",
    "result_complex = s_complex.str.title()\n",
    "print(\"Result of title():\")\n",
    "print(result_complex)"
   ]
  },
  {
   "cell_type": "markdown",
   "metadata": {},
   "source": [
    "## Translating Characters with `str.translate()`\n",
    "\n",
    "The `str.translate()` method maps characters in the string through a given mapping table."
   ]
  },
  {
   "cell_type": "code",
   "execution_count": null,
   "metadata": {},
   "outputs": [],
   "source": [
    "# Create a Series with strings\n",
    "s = pd.Series(['hello', 'world', 'python'])\n",
    "print(\"Original Series:\")\n",
    "print(s)"
   ]
  },
  {
   "cell_type": "code",
   "execution_count": null,
   "metadata": {},
   "outputs": [],
   "source": [
    "# Create a translation table to replace 'o' with '0' and 'l' with '1'\n",
    "translation_table = str.maketrans({'o': '0', 'l': '1'})\n",
    "result = s.str.translate(translation_table)\n",
    "print(\"Result of translate():\")\n",
    "print(result)"
   ]
  },
  {
   "cell_type": "code",
   "execution_count": null,
   "metadata": {},
   "outputs": [],
   "source": [
    "# Create a translation table to delete 'o' and 'l'\n",
    "delete_table = str.maketrans('', '', 'ol')\n",
    "result_delete = s.str.translate(delete_table)\n",
    "print(\"Result of translate() with deletion:\")\n",
    "print(result_delete)"
   ]
  },
  {
   "cell_type": "code",
   "execution_count": null,
   "metadata": {},
   "outputs": [],
   "source": [
    "# Create a translation table to replace multiple characters\n",
    "complex_table = str.maketrans({\n",
    "    'h': 'H',\n",
    "    'e': 'E',\n",
    "    'l': 'L',\n",
    "    'o': 'O',\n",
    "    'w': 'W',\n",
    "    'r': 'R',\n",
    "    'd': 'D',\n",
    "    'p': 'P',\n",
    "    'y': 'Y',\n",
    "    't': 'T',\n",
    "    'n': 'N'\n",
    "})\n",
    "result_complex = s.str.translate(complex_table)\n",
    "print(\"Result of translate() with complex mapping:\")\n",
    "print(result_complex)"
   ]
  },
  {
   "cell_type": "markdown",
   "metadata": {},
   "source": [
    "## Converting to Uppercase with `str.upper()`\n",
    "\n",
    "The `str.upper()` method converts all characters in the string to uppercase."
   ]
  },
  {
   "cell_type": "code",
   "execution_count": null,
   "metadata": {},
   "outputs": [],
   "source": [
    "# Create a Series with strings of different cases\n",
    "s = pd.Series(['lower', 'CAPITALS', 'this is a sentence', 'SwApCaSe'])\n",
    "print(\"Original Series:\")\n",
    "print(s)"
   ]
  },
  {
   "cell_type": "code",
   "execution_count": null,
   "metadata": {},
   "outputs": [],
   "source": [
    "# Convert to uppercase\n",
    "result = s.str.upper()\n",
    "print(\"Result of upper():\")\n",
    "print(result)"
   ]
  },
  {
   "cell_type": "code",
   "execution_count": null,
   "metadata": {},
   "outputs": [],
   "source": [
    "# Create a Series with mixed strings and non-strings\n",
    "s_mixed = pd.Series(['hello', 123, 'world', np.nan])\n",
    "print(\"Series with mixed types:\")\n",
    "print(s_mixed)"
   ]
  },
  {
   "cell_type": "code",
   "execution_count": null,
   "metadata": {},
   "outputs": [],
   "source": [
    "# Convert to uppercase\n",
    "result_mixed = s_mixed.str.upper()\n",
    "print(\"Result of upper() with mixed types:\")\n",
    "print(result_mixed)"
   ]
  },
  {
   "cell_type": "markdown",
   "metadata": {},
   "source": [
    "## String Validation Methods\n",
    "\n",
    "Pandas provides various methods to validate and check properties of strings."
   ]
  },
  {
   "cell_type": "markdown",
   "metadata": {},
   "source": [
    "### Checking for Numeric Characters\n",
    "\n",
    "Let's explore the differences between `isdecimal()`, `isdigit()`, and `isnumeric()`."
   ]
  },
  {
   "cell_type": "code",
   "execution_count": null,
   "metadata": {},
   "outputs": [],
   "source": [
    "# Create a Series with various numeric strings\n",
    "s = pd.Series(['23', '3 ', '²', '½', '三', ''])\n",
    "print(\"Original Series:\")\n",
    "print(s)"
   ]
  },
  {
   "cell_type": "code",
   "execution_count": null,
   "metadata": {},
   "outputs": [],
   "source": [
    "# Check if strings are decimal (base 10 digits)\n",
    "result_decimal = s.str.isdecimal()\n",
    "print(\"Result of isdecimal():\")\n",
    "print(result_decimal)"
   ]
  },
  {
   "cell_type": "code",
   "execution_count": null,
   "metadata": {},
   "outputs": [],
   "source": [
    "# Check if strings are digits (includes superscripts and subscripts)\n",
    "result_digit = s.str.isdigit()\n",
    "print(\"Result of isdigit():\")\n",
    "print(result_digit)"
   ]
  },
  {
   "cell_type": "code",
   "execution_count": null,
   "metadata": {},
   "outputs": [],
   "source": [
    "# Check if strings are numeric (includes digits, fractions, and other numeric symbols)\n",
    "result_numeric = s.str.isnumeric()\n",
    "print(\"Result of isnumeric():\")\n",
    "print(result_numeric)"
   ]
  },
  {
   "cell_type": "markdown",
   "metadata": {},
   "source": [
    "### Checking for Whitespace"
   ]
  },
  {
   "cell_type": "code",
   "execution_count": null,
   "metadata": {},
   "outputs": [],
   "source": [
    "# Create a Series with various whitespace strings\n",
    "s = pd.Series([' ', '\\t\\r\\n ', '', 'a ', ' b'])\n",
    "print(\"Original Series:\")\n",
    "print(s)"
   ]
  },
  {
   "cell_type": "code",
   "execution_count": null,
   "metadata": {},
   "outputs": [],
   "source": [
    "# Check if strings are whitespace\n",
    "result = s.str.isspace()\n",
    "print(\"Result of isspace():\")\n",
    "print(result)"
   ]
  },
  {
   "cell_type": "markdown",
   "metadata": {},
   "source": [
    "### Checking for Character Case"
   ]
  },
  {
   "cell_type": "code",
   "execution_count": null,
   "metadata": {},
   "outputs": [],
   "source": [
    "# Create a Series with strings of different cases\n",
    "s = pd.Series(['leopard', 'Golden Eagle', 'SNAKE', ''])\n",
    "print(\"Original Series:\")\n",
    "print(s)"
   ]
  },
  {
   "cell_type": "code",
   "execution_count": null,
   "metadata": {},
   "outputs": [],
   "source": [
    "# Check if strings are lowercase\n",
    "result_lower = s.str.islower()\n",
    "print(\"Result of islower():\")\n",
    "print(result_lower)"
   ]
  },
  {
   "cell_type": "code",
   "execution_count": null,
   "metadata": {},
   "outputs": [],
   "source": [
    "# Check if strings are uppercase\n",
    "result_upper = s.str.isupper()\n",
    "print(\"Result of isupper():\")\n",
    "print(result_upper)"
   ]
  },
  {
   "cell_type": "code",
   "execution_count": null,
   "metadata": {},
   "outputs": [],
   "source": [
    "# Check if strings are titlecase\n",
    "result_title = s.str.istitle()\n",
    "print(\"Result of istitle():\")\n",
    "print(result_title)"
   ]
  },
  {
   "cell_type": "markdown",
   "metadata": {},
   "source": [
    "### Checking for Alphanumeric Characters"
   ]
  },
  {
   "cell_type": "code",
   "execution_count": null,
   "metadata": {},
   "outputs": [],
   "source": [
    "# Create a Series with various strings\n",
    "s = pd.Series(['abc123', 'abc', '123', 'abc_123', 'abc 123'])\n",
    "print(\"Original Series:\")\n",
    "print(s)"
   ]
  },
  {
   "cell_type": "code",
   "execution_count": null,
   "metadata": {},
   "outputs": [],
   "source": [
    "# Check if strings are alphabetic\n",
    "result_alpha = s.str.isalpha()\n",
    "print(\"Result of isalpha():\")\n",
    "print(result_alpha)"
   ]
  },
  {
   "cell_type": "code",
   "execution_count": null,
   "metadata": {},
   "outputs": [],
   "source": [
    "# Check if strings are alphanumeric\n",
    "result_alnum = s.str.isalnum()\n",
    "print(\"Result of isalnum():\")\n",
    "print(result_alnum)"
   ]
  },
  {
   "cell_type": "markdown",
   "metadata": {},
   "source": [
    "## Practical Applications"
   ]
  },
  {
   "cell_type": "code",
   "execution_count": null,
   "metadata": {},
   "outputs": [],
   "source": [
    "# Create a DataFrame with customer data\n",
    "data = {\n",
    "    'name': ['John Smith', 'JANE DOE', 'robert johnson', 'Emily Wilson'],\n",
    "    'phone': ['123-456-7890', '(987) 654-3210', '555.123.4567', '123 456 7890'],\n",
    "    'email': ['john@example.com', 'JANE@EXAMPLE.COM', 'robert.johnson@example.com', 'emily_wilson@example.com'],\n",
    "    'age': ['25', '30', '35', 'forty']\n",
    "}\n",
    "df = pd.DataFrame(data)\n",
    "print(\"Original DataFrame:\")\n",
    "print(df)"
   ]
  },
  {
   "cell_type": "code",
   "execution_count": null,
   "metadata": {},
   "outputs": [],
   "source": [
    "# Standardize names to title case\n",
    "df['name'] = df['name'].str.title()\n",
    "print(\"DataFrame with standardized names:\")\n",
    "print(df)"
   ]
  },
  {
   "cell_type": "code",
   "execution_count": null,
   "metadata": {},
   "outputs": [],
   "source": [
    "# Standardize emails to lowercase\n",
    "df['email'] = df['email'].str.lower()\n",
    "print(\"DataFrame with standardized emails:\")\n",
    "print(df)"
   ]
  },
  {
   "cell_type": "code",
   "execution_count": null,
   "metadata": {},
   "outputs": [],
   "source": [
    "# Clean phone numbers by removing non-numeric characters\n",
    "df['clean_phone'] = df['phone'].str.translate(str.maketrans('', '', '()-. '))\n",
    "print(\"DataFrame with cleaned phone numbers:\")\n",
    "print(df)"
   ]
  },
  {
   "cell_type": "code",
   "execution_count": null,
   "metadata": {},
   "outputs": [],
   "source": [
    "# Validate age as numeric\n",
    "df['is_valid_age'] = df['age'].str.isdecimal()\n",
    "print(\"DataFrame with age validation:\")\n",
    "print(df)"
   ]
  },
  {
   "cell_type": "code",
   "execution_count": null,
   "metadata": {},
   "outputs": [],
   "source": [
    "# Filter DataFrame to only include rows with valid ages\n",
    "valid_df = df[df['is_valid_age']]\n",
    "print(\"DataFrame with only valid ages:\")\n",
    "print(valid_df)"
   ]
  },
  {
   "cell_type": "markdown",
   "metadata": {},
   "source": [
    "## Conclusion\n",
    "\n",
    "In this notebook, we've explored various Series string methods in pandas:\n",
    "\n",
    "1. `str.title()`: Converts the first character of each word to uppercase and the remaining characters to lowercase.\n",
    "2. `str.translate()`: Maps characters in the string through a given mapping table, allowing for character replacement and deletion.\n",
    "3. `str.upper()`: Converts all characters in the string to uppercase.\n",
    "4. String validation methods:\n",
    "   - `str.isdecimal()`, `str.isdigit()`, and `str.isnumeric()`: Check for different types of numeric characters.\n",
    "   - `str.isspace()`: Checks if all characters are whitespace.\n",
    "   - `str.islower()`, `str.isupper()`, and `str.istitle()`: Check for character case.\n",
    "   - `str.isalpha()` and `str.isalnum()`: Check for alphabetic and alphanumeric characters.\n",
    "\n",
    "These methods are essential tools for string manipulation, text processing, and data cleaning in pandas, allowing for flexible and powerful operations on your data."
   ]
  }
 ],
 "metadata": {
  "kernelspec": {
   "display_name": "Python 3",
   "language": "python",
   "name": "python3"
  },
  "language_info": {
   "codemirror_mode": {
    "name": "ipython",
    "version": 3
   },
   "file_extension": ".py",
   "mimetype": "text/x-python",
   "name": "python",
   "nbconvert_exporter": "python",
   "pygments_lexer": "ipython3",
   "version": "3.8.5"
  }
 },
 "nbformat": 4,
 "nbformat_minor": 4
}
