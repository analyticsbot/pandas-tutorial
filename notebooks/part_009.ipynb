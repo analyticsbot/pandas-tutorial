{
 "cells": [
  {
   "cell_type": "markdown",
   "metadata": {},
   "source": [
    "##### SQL-like Operations and Data I/O"
   ]
  },
  {
   "cell_type": "code",
   "execution_count": 1,
   "metadata": {},
   "outputs": [],
   "source": [
    "import pandas as pd\n",
    "import numpy as np"
   ]
  },
  {
   "cell_type": "markdown",
   "metadata": {},
   "source": [
    "##### Advanced GROUP BY Operations\n",
    "Multiple aggregations and complex grouping"
   ]
  },
  {
   "cell_type": "code",
   "execution_count": 2,
   "metadata": {},
   "outputs": [
    {
     "name": "stdout",
     "output_type": "stream",
     "text": [
      "Tips summary by day:\n",
      "           tip      total_bill           \n",
      "          mean size        sum       mean\n",
      "day                                      \n",
      "Fri   2.734737   19     325.88  17.151579\n",
      "Sat   2.993103   87    1778.40  20.441379\n",
      "Sun   3.255132   76    1627.16  21.410000\n",
      "Thur  2.771452   62    1096.33  17.682742\n"
     ]
    },
    {
     "name": "stderr",
     "output_type": "stream",
     "text": [
      "/var/folders/7y/fzwln1_93mn3js3wyk61_6xm0000gn/T/ipykernel_71595/2855229918.py:6: FutureWarning: The provided callable <function mean at 0x106c5cf40> is currently using SeriesGroupBy.mean. In a future version of pandas, the provided callable will be used directly. To keep current behavior pass the string \"mean\" instead.\n",
      "  print(tips.groupby('day').agg({\n",
      "/var/folders/7y/fzwln1_93mn3js3wyk61_6xm0000gn/T/ipykernel_71595/2855229918.py:6: FutureWarning: The provided callable <function sum at 0x106c2fb00> is currently using SeriesGroupBy.sum. In a future version of pandas, the provided callable will be used directly. To keep current behavior pass the string \"sum\" instead.\n",
      "  print(tips.groupby('day').agg({\n",
      "/var/folders/7y/fzwln1_93mn3js3wyk61_6xm0000gn/T/ipykernel_71595/2855229918.py:6: FutureWarning: The provided callable <function mean at 0x106c5cf40> is currently using SeriesGroupBy.mean. In a future version of pandas, the provided callable will be used directly. To keep current behavior pass the string \"mean\" instead.\n",
      "  print(tips.groupby('day').agg({\n"
     ]
    }
   ],
   "source": [
    "# Load tips dataset\n",
    "tips = pd.read_csv('data/tips.csv')\n",
    "\n",
    "# Multiple aggregations\n",
    "print(\"Tips summary by day:\")\n",
    "print(tips.groupby('day').agg({\n",
    "    'tip': [np.mean, np.size],\n",
    "    'total_bill': [np.sum, np.mean]\n",
    "}))"
   ]
  },
  {
   "cell_type": "code",
   "execution_count": 3,
   "metadata": {},
   "outputs": [
    {
     "name": "stdout",
     "output_type": "stream",
     "text": [
      "Tips summary by smoker and day:\n",
      "             tip          \n",
      "            size      mean\n",
      "smoker day                \n",
      "No     Fri     4  2.812500\n",
      "       Sat    45  3.102889\n",
      "       Sun    57  3.167895\n",
      "       Thur   45  2.673778\n",
      "Yes    Fri    15  2.714000\n",
      "       Sat    42  2.875476\n",
      "       Sun    19  3.516842\n",
      "       Thur   17  3.030000\n"
     ]
    },
    {
     "name": "stderr",
     "output_type": "stream",
     "text": [
      "/var/folders/7y/fzwln1_93mn3js3wyk61_6xm0000gn/T/ipykernel_71595/1901242416.py:3: FutureWarning: The provided callable <function mean at 0x106c5cf40> is currently using SeriesGroupBy.mean. In a future version of pandas, the provided callable will be used directly. To keep current behavior pass the string \"mean\" instead.\n",
      "  print(tips.groupby(['smoker', 'day']).agg({\n"
     ]
    }
   ],
   "source": [
    "# Group by multiple columns\n",
    "print(\"Tips summary by smoker and day:\")\n",
    "print(tips.groupby(['smoker', 'day']).agg({\n",
    "    'tip': [np.size, np.mean]\n",
    "}))"
   ]
  },
  {
   "cell_type": "markdown",
   "metadata": {},
   "source": [
    "##### JOIN Operations\n",
    "Different types of joins in pandas"
   ]
  },
  {
   "cell_type": "code",
   "execution_count": 4,
   "metadata": {},
   "outputs": [
    {
     "name": "stdout",
     "output_type": "stream",
     "text": [
      "DataFrame 1:\n",
      "  key     value\n",
      "0   A  0.886876\n",
      "1   B  0.585386\n",
      "2   C  1.022575\n",
      "3   D  0.006838\n",
      "\n",
      "DataFrame 2:\n",
      "  key     value\n",
      "0   B  0.993532\n",
      "1   D  1.063438\n",
      "2   D -0.860047\n",
      "3   E -0.204878\n"
     ]
    }
   ],
   "source": [
    "# Create sample DataFrames\n",
    "df1 = pd.DataFrame({\n",
    "    'key': ['A', 'B', 'C', 'D'],\n",
    "    'value': np.random.randn(4)\n",
    "})\n",
    "\n",
    "df2 = pd.DataFrame({\n",
    "    'key': ['B', 'D', 'D', 'E'],\n",
    "    'value': np.random.randn(4)\n",
    "})\n",
    "\n",
    "print(\"DataFrame 1:\")\n",
    "print(df1)\n",
    "print(\"\\nDataFrame 2:\")\n",
    "print(df2)"
   ]
  },
  {
   "cell_type": "code",
   "execution_count": 5,
   "metadata": {},
   "outputs": [
    {
     "name": "stdout",
     "output_type": "stream",
     "text": [
      "Inner join:\n",
      "  key   value_x   value_y\n",
      "0   B  0.585386  0.993532\n",
      "1   D  0.006838  1.063438\n",
      "2   D  0.006838 -0.860047\n",
      "\n",
      "Left join:\n",
      "  key   value_x   value_y\n",
      "0   A  0.886876       NaN\n",
      "1   B  0.585386  0.993532\n",
      "2   C  1.022575       NaN\n",
      "3   D  0.006838  1.063438\n",
      "4   D  0.006838 -0.860047\n",
      "\n",
      "Right join:\n",
      "  key   value_x   value_y\n",
      "0   B  0.585386  0.993532\n",
      "1   D  0.006838  1.063438\n",
      "2   D  0.006838 -0.860047\n",
      "3   E       NaN -0.204878\n"
     ]
    }
   ],
   "source": [
    "# Inner join\n",
    "print(\"Inner join:\")\n",
    "print(pd.merge(df1, df2, on='key'))\n",
    "\n",
    "# Left join\n",
    "print(\"\\nLeft join:\")\n",
    "print(pd.merge(df1, df2, on='key', how='left'))\n",
    "\n",
    "# Right join\n",
    "print(\"\\nRight join:\")\n",
    "print(pd.merge(df1, df2, on='key', how='right'))"
   ]
  },
  {
   "cell_type": "code",
   "execution_count": 6,
   "metadata": {},
   "outputs": [
    {
     "name": "stdout",
     "output_type": "stream",
     "text": [
      "Join DataFrame with indexed DataFrame:\n",
      "  key   value_x   value_y\n",
      "1   B  0.585386  0.993532\n",
      "3   D  0.006838  1.063438\n",
      "3   D  0.006838 -0.860047\n"
     ]
    }
   ],
   "source": [
    "# Join with index\n",
    "indexed_df2 = df2.set_index('key')\n",
    "print(\"Join DataFrame with indexed DataFrame:\")\n",
    "print(pd.merge(df1, indexed_df2, left_on='key', right_index=True))"
   ]
  },
  {
   "cell_type": "markdown",
   "metadata": {},
   "source": [
    "##### Data Input/Output\n",
    "Reading and writing data in different formats"
   ]
  },
  {
   "cell_type": "code",
   "execution_count": 7,
   "metadata": {},
   "outputs": [
    {
     "name": "stdout",
     "output_type": "stream",
     "text": [
      "DataFrame from dictionary:\n",
      "   x  y\n",
      "0  1  2\n",
      "1  3  4\n",
      "2  5  6\n"
     ]
    }
   ],
   "source": [
    "# Create DataFrame from values\n",
    "df = pd.DataFrame({\n",
    "    'x': [1, 3, 5],\n",
    "    'y': [2, 4, 6]\n",
    "})\n",
    "\n",
    "print(\"DataFrame from dictionary:\")\n",
    "print(df)"
   ]
  },
  {
   "cell_type": "code",
   "execution_count": 8,
   "metadata": {},
   "outputs": [
    {
     "name": "stdout",
     "output_type": "stream",
     "text": [
      "\n",
      "DataFrame read from CSV:\n",
      "   x  y\n",
      "0  1  2\n",
      "1  3  4\n",
      "2  5  6\n"
     ]
    }
   ],
   "source": [
    "# Write DataFrame to CSV\n",
    "df.to_csv('sample.csv', index=False)\n",
    "\n",
    "# Read CSV file\n",
    "df_read = pd.read_csv('sample.csv')\n",
    "print(\"\\nDataFrame read from CSV:\")\n",
    "print(df_read)"
   ]
  },
  {
   "cell_type": "markdown",
   "metadata": {},
   "source": [
    "##### Column Operations\n",
    "Manipulating columns in pandas"
   ]
  },
  {
   "cell_type": "code",
   "execution_count": 9,
   "metadata": {},
   "outputs": [
    {
     "name": "stdout",
     "output_type": "stream",
     "text": [
      "Original tips data:\n",
      "   total_bill   tip     sex smoker  day    time  size\n",
      "0       16.99  1.01  Female     No  Sun  Dinner     2\n",
      "1       10.34  1.66    Male     No  Sun  Dinner     3\n",
      "2       21.01  3.50    Male     No  Sun  Dinner     3\n",
      "3       23.68  3.31    Male     No  Sun  Dinner     2\n",
      "4       24.59  3.61  Female     No  Sun  Dinner     4\n",
      "\n",
      "Modified tips data:\n",
      "   total_bill   tip     sex smoker  day    time  size  new_bill\n",
      "0       14.99  1.01  Female     No  Sun  Dinner     2     7.495\n",
      "1        8.34  1.66    Male     No  Sun  Dinner     3     4.170\n",
      "2       19.01  3.50    Male     No  Sun  Dinner     3     9.505\n",
      "3       21.68  3.31    Male     No  Sun  Dinner     2    10.840\n",
      "4       22.59  3.61  Female     No  Sun  Dinner     4    11.295\n",
      "\n",
      "After dropping new_bill:\n",
      "   total_bill   tip     sex smoker  day    time  size\n",
      "0       14.99  1.01  Female     No  Sun  Dinner     2\n",
      "1        8.34  1.66    Male     No  Sun  Dinner     3\n",
      "2       19.01  3.50    Male     No  Sun  Dinner     3\n",
      "3       21.68  3.31    Male     No  Sun  Dinner     2\n",
      "4       22.59  3.61  Female     No  Sun  Dinner     4\n"
     ]
    }
   ],
   "source": [
    "# Load tips data\n",
    "print(\"Original tips data:\")\n",
    "print(tips.head())\n",
    "\n",
    "# Modify existing column\n",
    "tips['total_bill'] = tips['total_bill'] - 2\n",
    "\n",
    "# Create new column\n",
    "tips['new_bill'] = tips['total_bill'] / 2\n",
    "\n",
    "print(\"\\nModified tips data:\")\n",
    "print(tips.head())\n",
    "\n",
    "# Drop column\n",
    "tips = tips.drop('new_bill', axis=1)\n",
    "\n",
    "print(\"\\nAfter dropping new_bill:\")\n",
    "print(tips.head())"
   ]
  }
 ],
 "metadata": {
  "kernelspec": {
   "display_name": "venv",
   "language": "python",
   "name": "python3"
  },
  "language_info": {
   "codemirror_mode": {
    "name": "ipython",
    "version": 3
   },
   "file_extension": ".py",
   "mimetype": "text/x-python",
   "name": "python",
   "nbconvert_exporter": "python",
   "pygments_lexer": "ipython3",
   "version": "3.13.2"
  }
 },
 "nbformat": 4,
 "nbformat_minor": 4
}
