{
 "cells": [
  {
   "cell_type": "markdown",
   "metadata": {},
   "source": [
    "#### Pandas Part 79: DatetimeIndex Operations and DateOffset\n",
    "\n",
    "This notebook explores additional operations with DatetimeIndex and introduces DateOffset classes."
   ]
  },
  {
   "cell_type": "code",
   "execution_count": 1,
   "metadata": {},
   "outputs": [],
   "source": [
    "import pandas as pd\n",
    "import numpy as np\n",
    "from datetime import datetime, time, timedelta"
   ]
  },
  {
   "cell_type": "markdown",
   "metadata": {},
   "source": [
    "##### 1. Additional DatetimeIndex Properties\n",
    "\n",
    "Let's explore more properties available on DatetimeIndex objects."
   ]
  },
  {
   "cell_type": "code",
   "execution_count": 2,
   "metadata": {},
   "outputs": [
    {
     "name": "stdout",
     "output_type": "stream",
     "text": [
      "DatetimeIndex: DatetimeIndex(['2023-01-31', '2023-02-28', '2023-03-31', '2023-04-30',\n",
      "               '2023-05-31', '2023-06-30', '2023-07-31', '2023-08-31',\n",
      "               '2023-09-30', '2023-10-31', '2023-11-30', '2023-12-31'],\n",
      "              dtype='datetime64[ns]', freq='ME')\n",
      "\n",
      "Is month start: [False False False False False False False False False False False False]\n",
      "Is month end: [ True  True  True  True  True  True  True  True  True  True  True  True]\n",
      "Is quarter start: [False False False False False False False False False False False False]\n",
      "Is quarter end: [False False  True False False  True False False  True False False  True]\n",
      "Is year start: [False False False False False False False False False False False False]\n",
      "Is year end: [False False False False False False False False False False False  True]\n",
      "Is leap year: [False False False False False False False False False False False False]\n"
     ]
    },
    {
     "name": "stderr",
     "output_type": "stream",
     "text": [
      "/var/folders/7y/fzwln1_93mn3js3wyk61_6xm0000gn/T/ipykernel_90545/3927273610.py:2: FutureWarning: 'M' is deprecated and will be removed in a future version, please use 'ME' instead.\n",
      "  dates = pd.date_range(start='2023-01-01', end='2023-12-31', freq='M')\n"
     ]
    }
   ],
   "source": [
    "# Create a DatetimeIndex\n",
    "dates = pd.date_range(start='2023-01-01', end='2023-12-31', freq='M')\n",
    "print(f\"DatetimeIndex: {dates}\")\n",
    "\n",
    "# Check if dates are month start\n",
    "print(f\"\\nIs month start: {dates.is_month_start}\")\n",
    "\n",
    "# Check if dates are month end\n",
    "print(f\"Is month end: {dates.is_month_end}\")\n",
    "\n",
    "# Check if dates are quarter start\n",
    "print(f\"Is quarter start: {dates.is_quarter_start}\")\n",
    "\n",
    "# Check if dates are quarter end\n",
    "print(f\"Is quarter end: {dates.is_quarter_end}\")\n",
    "\n",
    "# Check if dates are year start\n",
    "print(f\"Is year start: {dates.is_year_start}\")\n",
    "\n",
    "# Check if dates are year end\n",
    "print(f\"Is year end: {dates.is_year_end}\")\n",
    "\n",
    "# Check if dates belong to leap year\n",
    "print(f\"Is leap year: {dates.is_leap_year}\")"
   ]
  },
  {
   "cell_type": "code",
   "execution_count": 3,
   "metadata": {},
   "outputs": [
    {
     "name": "stdout",
     "output_type": "stream",
     "text": [
      "DatetimeIndex: DatetimeIndex(['2023-01-01', '2023-01-02', '2023-01-03', '2023-01-04',\n",
      "               '2023-01-05'],\n",
      "              dtype='datetime64[ns]', freq='D')\n",
      "\n",
      "Frequency: <Day>\n",
      "Frequency as string: D\n",
      "\n",
      "DatetimeIndex without explicit frequency: DatetimeIndex(['2023-01-01', '2023-01-02', '2023-01-04', '2023-01-07'], dtype='datetime64[ns]', freq=None)\n",
      "Frequency: None\n",
      "Inferred frequency: None\n"
     ]
    }
   ],
   "source": [
    "# Create a DatetimeIndex with a specific frequency\n",
    "dates = pd.date_range(start='2023-01-01', periods=5, freq='D')\n",
    "print(f\"DatetimeIndex: {dates}\")\n",
    "\n",
    "# Get the frequency\n",
    "print(f\"\\nFrequency: {dates.freq}\")\n",
    "print(f\"Frequency as string: {dates.freqstr}\")\n",
    "\n",
    "# Create a DatetimeIndex without a specific frequency\n",
    "dates = pd.DatetimeIndex(['2023-01-01', '2023-01-02', '2023-01-04', '2023-01-07'])\n",
    "print(f\"\\nDatetimeIndex without explicit frequency: {dates}\")\n",
    "print(f\"Frequency: {dates.freq}\")\n",
    "\n",
    "# Try to infer the frequency\n",
    "print(f\"Inferred frequency: {dates.inferred_freq}\")"
   ]
  },
  {
   "cell_type": "markdown",
   "metadata": {},
   "source": [
    "##### 2. Time-Specific Selection Methods\n",
    "\n",
    "DatetimeIndex provides methods for selecting data at specific times of day."
   ]
  },
  {
   "cell_type": "markdown",
   "metadata": {},
   "source": [
    "### indexer_at_time Method\n",
    "\n",
    "The `indexer_at_time` method returns index locations of index values at a particular time of day."
   ]
  },
  {
   "cell_type": "code",
   "execution_count": 4,
   "metadata": {},
   "outputs": [
    {
     "name": "stdout",
     "output_type": "stream",
     "text": [
      "DatetimeIndex with hourly data:\n",
      "DatetimeIndex(['2023-01-01 00:00:00', '2023-01-01 01:00:00',\n",
      "               '2023-01-01 02:00:00', '2023-01-01 03:00:00',\n",
      "               '2023-01-01 04:00:00', '2023-01-01 05:00:00',\n",
      "               '2023-01-01 06:00:00', '2023-01-01 07:00:00',\n",
      "               '2023-01-01 08:00:00', '2023-01-01 09:00:00',\n",
      "               '2023-01-01 10:00:00', '2023-01-01 11:00:00',\n",
      "               '2023-01-01 12:00:00', '2023-01-01 13:00:00',\n",
      "               '2023-01-01 14:00:00', '2023-01-01 15:00:00',\n",
      "               '2023-01-01 16:00:00', '2023-01-01 17:00:00',\n",
      "               '2023-01-01 18:00:00', '2023-01-01 19:00:00',\n",
      "               '2023-01-01 20:00:00', '2023-01-01 21:00:00',\n",
      "               '2023-01-01 22:00:00', '2023-01-01 23:00:00'],\n",
      "              dtype='datetime64[ns]', freq='h')\n",
      "\n",
      "Indices for 9:00 AM: [9]\n",
      "Values at 9:00 AM: DatetimeIndex(['2023-01-01 09:00:00'], dtype='datetime64[ns]', freq=None)\n",
      "\n",
      "Indices for 12:00 PM: [12]\n",
      "Values at 12:00 PM: DatetimeIndex(['2023-01-01 12:00:00'], dtype='datetime64[ns]', freq=None)\n"
     ]
    },
    {
     "name": "stderr",
     "output_type": "stream",
     "text": [
      "/var/folders/7y/fzwln1_93mn3js3wyk61_6xm0000gn/T/ipykernel_90545/496860764.py:2: FutureWarning: 'H' is deprecated and will be removed in a future version, please use 'h' instead.\n",
      "  dates = pd.date_range(start='2023-01-01 00:00:00', periods=24, freq='H')\n"
     ]
    }
   ],
   "source": [
    "# Create a DatetimeIndex with different times\n",
    "dates = pd.date_range(start='2023-01-01 00:00:00', periods=24, freq='H')\n",
    "print(f\"DatetimeIndex with hourly data:\")\n",
    "print(dates)\n",
    "\n",
    "# Get indices for a specific time\n",
    "indices = dates.indexer_at_time(time(9, 0))  # 9:00 AM\n",
    "print(f\"\\nIndices for 9:00 AM: {indices}\")\n",
    "print(f\"Values at 9:00 AM: {dates[indices]}\")\n",
    "\n",
    "# Get indices using string format\n",
    "indices = dates.indexer_at_time('12:00')\n",
    "print(f\"\\nIndices for 12:00 PM: {indices}\")\n",
    "print(f\"Values at 12:00 PM: {dates[indices]}\")"
   ]
  },
  {
   "cell_type": "code",
   "execution_count": 5,
   "metadata": {},
   "outputs": [
    {
     "name": "stdout",
     "output_type": "stream",
     "text": [
      "DataFrame with hourly data:\n",
      "                        value\n",
      "2023-01-01 00:00:00  0.230188\n",
      "2023-01-01 01:00:00 -0.858739\n",
      "2023-01-01 02:00:00  0.174149\n",
      "2023-01-01 03:00:00 -1.828037\n",
      "2023-01-01 04:00:00  0.549088\n",
      "\n",
      "Data at 9:00 AM:\n",
      "                        value\n",
      "2023-01-01 09:00:00 -1.360933\n",
      "2023-01-02 09:00:00  1.225335\n"
     ]
    },
    {
     "name": "stderr",
     "output_type": "stream",
     "text": [
      "/var/folders/7y/fzwln1_93mn3js3wyk61_6xm0000gn/T/ipykernel_90545/773850566.py:2: FutureWarning: 'H' is deprecated and will be removed in a future version, please use 'h' instead.\n",
      "  dates = pd.date_range(start='2023-01-01 00:00:00', periods=48, freq='H')\n"
     ]
    }
   ],
   "source": [
    "# Create a DataFrame with hourly data\n",
    "dates = pd.date_range(start='2023-01-01 00:00:00', periods=48, freq='H')\n",
    "df = pd.DataFrame({'value': np.random.randn(48)}, index=dates)\n",
    "print(\"DataFrame with hourly data:\")\n",
    "print(df.head())\n",
    "\n",
    "# Select data at 9:00 AM\n",
    "indices = dates.indexer_at_time('9:00')\n",
    "at_9am = df.iloc[indices]\n",
    "print(\"\\nData at 9:00 AM:\")\n",
    "print(at_9am)"
   ]
  },
  {
   "cell_type": "markdown",
   "metadata": {},
   "source": [
    "### indexer_between_time Method\n",
    "\n",
    "The `indexer_between_time` method returns index locations of values between particular times of day."
   ]
  },
  {
   "cell_type": "code",
   "execution_count": 6,
   "metadata": {},
   "outputs": [
    {
     "name": "stdout",
     "output_type": "stream",
     "text": [
      "DatetimeIndex with hourly data:\n",
      "DatetimeIndex(['2023-01-01 00:00:00', '2023-01-01 01:00:00',\n",
      "               '2023-01-01 02:00:00', '2023-01-01 03:00:00',\n",
      "               '2023-01-01 04:00:00', '2023-01-01 05:00:00',\n",
      "               '2023-01-01 06:00:00', '2023-01-01 07:00:00',\n",
      "               '2023-01-01 08:00:00', '2023-01-01 09:00:00',\n",
      "               '2023-01-01 10:00:00', '2023-01-01 11:00:00',\n",
      "               '2023-01-01 12:00:00', '2023-01-01 13:00:00',\n",
      "               '2023-01-01 14:00:00', '2023-01-01 15:00:00',\n",
      "               '2023-01-01 16:00:00', '2023-01-01 17:00:00',\n",
      "               '2023-01-01 18:00:00', '2023-01-01 19:00:00',\n",
      "               '2023-01-01 20:00:00', '2023-01-01 21:00:00',\n",
      "               '2023-01-01 22:00:00', '2023-01-01 23:00:00'],\n",
      "              dtype='datetime64[ns]', freq='h')\n",
      "\n",
      "Indices between 9:00 AM and 12:00 PM: [ 9 10 11 12]\n",
      "Values between 9:00 AM and 12:00 PM: DatetimeIndex(['2023-01-01 09:00:00', '2023-01-01 10:00:00',\n",
      "               '2023-01-01 11:00:00', '2023-01-01 12:00:00'],\n",
      "              dtype='datetime64[ns]', freq=None)\n",
      "\n",
      "Indices between 1:00 PM and 5:00 PM (excluding 5:00 PM): [13 14 15 16]\n",
      "Values between 1:00 PM and 5:00 PM (excluding 5:00 PM): DatetimeIndex(['2023-01-01 13:00:00', '2023-01-01 14:00:00',\n",
      "               '2023-01-01 15:00:00', '2023-01-01 16:00:00'],\n",
      "              dtype='datetime64[ns]', freq=None)\n"
     ]
    },
    {
     "name": "stderr",
     "output_type": "stream",
     "text": [
      "/var/folders/7y/fzwln1_93mn3js3wyk61_6xm0000gn/T/ipykernel_90545/2491086173.py:2: FutureWarning: 'H' is deprecated and will be removed in a future version, please use 'h' instead.\n",
      "  dates = pd.date_range(start='2023-01-01 00:00:00', periods=24, freq='H')\n"
     ]
    }
   ],
   "source": [
    "# Create a DatetimeIndex with different times\n",
    "dates = pd.date_range(start='2023-01-01 00:00:00', periods=24, freq='H')\n",
    "print(f\"DatetimeIndex with hourly data:\")\n",
    "print(dates)\n",
    "\n",
    "# Get indices for times between 9:00 AM and 12:00 PM\n",
    "indices = dates.indexer_between_time(time(9, 0), time(12, 0))\n",
    "print(f\"\\nIndices between 9:00 AM and 12:00 PM: {indices}\")\n",
    "print(f\"Values between 9:00 AM and 12:00 PM: {dates[indices]}\")\n",
    "\n",
    "# Get indices using string format, excluding end time\n",
    "indices = dates.indexer_between_time('13:00', '17:00', include_end=False)\n",
    "print(f\"\\nIndices between 1:00 PM and 5:00 PM (excluding 5:00 PM): {indices}\")\n",
    "print(f\"Values between 1:00 PM and 5:00 PM (excluding 5:00 PM): {dates[indices]}\")"
   ]
  },
  {
   "cell_type": "code",
   "execution_count": 7,
   "metadata": {},
   "outputs": [
    {
     "name": "stdout",
     "output_type": "stream",
     "text": [
      "DataFrame with hourly data:\n",
      "                        value\n",
      "2023-01-01 00:00:00 -1.021891\n",
      "2023-01-01 01:00:00 -2.162403\n",
      "2023-01-01 02:00:00  0.493956\n",
      "2023-01-01 03:00:00  0.621144\n",
      "2023-01-01 04:00:00 -0.224221\n",
      "\n",
      "Data during business hours (9:00 AM - 5:00 PM):\n",
      "                        value\n",
      "2023-01-01 09:00:00 -1.932653\n",
      "2023-01-01 10:00:00 -0.401240\n",
      "2023-01-01 11:00:00 -0.346060\n",
      "2023-01-01 12:00:00 -0.018563\n",
      "2023-01-01 13:00:00  2.716673\n"
     ]
    },
    {
     "name": "stderr",
     "output_type": "stream",
     "text": [
      "/var/folders/7y/fzwln1_93mn3js3wyk61_6xm0000gn/T/ipykernel_90545/3185831231.py:2: FutureWarning: 'H' is deprecated and will be removed in a future version, please use 'h' instead.\n",
      "  dates = pd.date_range(start='2023-01-01 00:00:00', periods=72, freq='H')\n"
     ]
    }
   ],
   "source": [
    "# Create a DataFrame with hourly data for multiple days\n",
    "dates = pd.date_range(start='2023-01-01 00:00:00', periods=72, freq='H')\n",
    "df = pd.DataFrame({'value': np.random.randn(72)}, index=dates)\n",
    "print(\"DataFrame with hourly data:\")\n",
    "print(df.head())\n",
    "\n",
    "# Select data between 9:00 AM and 5:00 PM (business hours)\n",
    "indices = dates.indexer_between_time('9:00', '17:00')\n",
    "business_hours = df.iloc[indices]\n",
    "print(\"\\nData during business hours (9:00 AM - 5:00 PM):\")\n",
    "print(business_hours.head())"
   ]
  },
  {
   "cell_type": "markdown",
   "metadata": {},
   "source": [
    "##### 3. Time-Specific Operations\n",
    "\n",
    "DatetimeIndex provides methods for manipulating datetime values."
   ]
  },
  {
   "cell_type": "markdown",
   "metadata": {},
   "source": [
    "### normalize Method\n",
    "\n",
    "The `normalize` method converts times to midnight."
   ]
  },
  {
   "cell_type": "code",
   "execution_count": 8,
   "metadata": {},
   "outputs": [
    {
     "name": "stdout",
     "output_type": "stream",
     "text": [
      "Original DatetimeIndex: DatetimeIndex(['2023-01-01 12:30:45', '2023-01-02 09:15:30',\n",
      "               '2023-01-03 18:45:15'],\n",
      "              dtype='datetime64[ns]', freq=None)\n",
      "\n",
      "Normalized DatetimeIndex: DatetimeIndex(['2023-01-01', '2023-01-02', '2023-01-03'], dtype='datetime64[ns]', freq='D')\n"
     ]
    }
   ],
   "source": [
    "# Create a DatetimeIndex with different times\n",
    "dates = pd.DatetimeIndex(['2023-01-01 12:30:45', '2023-01-02 09:15:30', '2023-01-03 18:45:15'])\n",
    "print(f\"Original DatetimeIndex: {dates}\")\n",
    "\n",
    "# Normalize to midnight\n",
    "normalized = dates.normalize()\n",
    "print(f\"\\nNormalized DatetimeIndex: {normalized}\")"
   ]
  },
  {
   "cell_type": "markdown",
   "metadata": {},
   "source": [
    "### strftime Method\n",
    "\n",
    "The `strftime` method converts datetime values to strings using a specified format."
   ]
  },
  {
   "cell_type": "code",
   "execution_count": 9,
   "metadata": {},
   "outputs": [
    {
     "name": "stdout",
     "output_type": "stream",
     "text": [
      "DatetimeIndex: DatetimeIndex(['2023-01-01 12:30:45', '2023-01-02 09:15:30',\n",
      "               '2023-01-03 18:45:15'],\n",
      "              dtype='datetime64[ns]', freq=None)\n",
      "\n",
      "Formatted as YYYY-MM-DD: Index(['2023-01-01', '2023-01-02', '2023-01-03'], dtype='object')\n",
      "\n",
      "Formatted as MM/DD/YYYY HH:MM:SS: Index(['01/01/2023 12:30:45', '01/02/2023 09:15:30', '01/03/2023 18:45:15'], dtype='object')\n",
      "\n",
      "Formatted with day and month names: Index(['Sunday, January 01, 2023', 'Monday, January 02, 2023',\n",
      "       'Tuesday, January 03, 2023'],\n",
      "      dtype='object')\n"
     ]
    }
   ],
   "source": [
    "# Create a DatetimeIndex\n",
    "dates = pd.DatetimeIndex(['2023-01-01 12:30:45', '2023-01-02 09:15:30', '2023-01-03 18:45:15'])\n",
    "print(f\"DatetimeIndex: {dates}\")\n",
    "\n",
    "# Format as YYYY-MM-DD\n",
    "formatted = dates.strftime('%Y-%m-%d')\n",
    "print(f\"\\nFormatted as YYYY-MM-DD: {formatted}\")\n",
    "\n",
    "# Format as MM/DD/YYYY HH:MM:SS\n",
    "formatted = dates.strftime('%m/%d/%Y %H:%M:%S')\n",
    "print(f\"\\nFormatted as MM/DD/YYYY HH:MM:SS: {formatted}\")\n",
    "\n",
    "# Format with day name and month name\n",
    "formatted = dates.strftime('%A, %B %d, %Y')\n",
    "print(f\"\\nFormatted with day and month names: {formatted}\")"
   ]
  },
  {
   "cell_type": "markdown",
   "metadata": {},
   "source": [
    "##### 4. DateOffset\n",
    "\n",
    "DateOffset is a class for representing date offsets in pandas. It's similar to datetime.timedelta but more flexible for calendar-based operations."
   ]
  },
  {
   "cell_type": "code",
   "execution_count": 10,
   "metadata": {},
   "outputs": [
    {
     "name": "stdout",
     "output_type": "stream",
     "text": [
      "DateOffset: <DateOffset: days=1>\n",
      "Original datetime: 2023-01-01 00:00:00\n",
      "After adding offset: 2023-01-02 00:00:00\n",
      "\n",
      "Complex DateOffset: <DateOffset: days=3, hours=4, minutes=5, months=2, seconds=6, years=1>\n",
      "After adding complex offset: 2024-03-04 04:05:06\n"
     ]
    }
   ],
   "source": [
    "# Import DateOffset\n",
    "from pandas.tseries.offsets import DateOffset\n",
    "\n",
    "# Create a DateOffset\n",
    "offset = DateOffset(days=1)\n",
    "print(f\"DateOffset: {offset}\")\n",
    "\n",
    "# Apply to a datetime\n",
    "dt = datetime(2023, 1, 1)\n",
    "print(f\"Original datetime: {dt}\")\n",
    "print(f\"After adding offset: {dt + offset}\")\n",
    "\n",
    "# Create a more complex DateOffset\n",
    "offset = DateOffset(years=1, months=2, days=3, hours=4, minutes=5, seconds=6)\n",
    "print(f\"\\nComplex DateOffset: {offset}\")\n",
    "print(f\"After adding complex offset: {dt + offset}\")"
   ]
  },
  {
   "cell_type": "markdown",
   "metadata": {},
   "source": [
    "### DateOffset Methods"
   ]
  },
  {
   "cell_type": "code",
   "execution_count": 14,
   "metadata": {},
   "outputs": [
    {
     "name": "stdout",
     "output_type": "stream",
     "text": [
      "DateOffset: <DateOffset: months=3>\n",
      "\n",
      "Original datetime: 2023-01-01 00:00:00\n",
      "After applying offset: 2023-04-01 00:00:00\n",
      "The apply method is not available in this pandas version\n"
     ]
    }
   ],
   "source": [
    "# Import DateOffset if not already imported\n",
    "from pandas.tseries.offsets import DateOffset\n",
    "from datetime import datetime\n",
    "\n",
    "# Create a DateOffset\n",
    "offset = DateOffset(months=3)\n",
    "print(f\"DateOffset: {offset}\")\n",
    "\n",
    "# Apply offset by adding it to the datetime\n",
    "dt = datetime(2023, 1, 1)\n",
    "print(f\"\\nOriginal datetime: {dt}\")\n",
    "print(f\"After applying offset: {dt + offset}\")\n",
    "\n",
    "# Alternative: use the apply method if available\n",
    "try:\n",
    "    print(f\"Using apply method: {offset.apply(dt)}\")\n",
    "except AttributeError:\n",
    "    print(\"The apply method is not available in this pandas version\")"
   ]
  },
  {
   "cell_type": "markdown",
   "metadata": {},
   "source": [
    "##### 5. BusinessDay\n",
    "\n",
    "BusinessDay is a DateOffset subclass representing business days (Monday through Friday, excluding holidays)."
   ]
  },
  {
   "cell_type": "code",
   "execution_count": 15,
   "metadata": {},
   "outputs": [
    {
     "name": "stdout",
     "output_type": "stream",
     "text": [
      "BusinessDay: <BusinessDay>\n",
      "Original datetime: 2023-01-01 00:00:00 (Sunday)\n",
      "After adding 1 business day: 2023-01-02 00:00:00 (Monday)\n",
      "\n",
      "After adding 5 business days: 2023-01-06 00:00:00 (Friday)\n"
     ]
    }
   ],
   "source": [
    "# Import BusinessDay\n",
    "from pandas.tseries.offsets import BusinessDay\n",
    "\n",
    "# Create a BusinessDay offset\n",
    "bday = BusinessDay()\n",
    "print(f\"BusinessDay: {bday}\")\n",
    "\n",
    "# Apply to a datetime\n",
    "dt = datetime(2023, 1, 1)  # Sunday\n",
    "print(f\"Original datetime: {dt} ({dt.strftime('%A')})\")\n",
    "print(f\"After adding 1 business day: {dt + bday} ({(dt + bday).strftime('%A')})\")\n",
    "\n",
    "# Add multiple business days\n",
    "bday5 = BusinessDay(n=5)\n",
    "print(f\"\\nAfter adding 5 business days: {dt + bday5} ({(dt + bday5).strftime('%A')})\")"
   ]
  },
  {
   "cell_type": "markdown",
   "metadata": {},
   "source": [
    "### BusinessDay Properties and Methods"
   ]
  },
  {
   "cell_type": "code",
   "execution_count": 16,
   "metadata": {},
   "outputs": [
    {
     "name": "stdout",
     "output_type": "stream",
     "text": [
      "BusinessDay: <2 * BusinessDays>\n",
      "Base: <BusinessDay>\n",
      "Frequency string: 2B\n",
      "Name: B\n"
     ]
    }
   ],
   "source": [
    "# Create a BusinessDay offset\n",
    "bday = BusinessDay(n=2)\n",
    "print(f\"BusinessDay: {bday}\")\n",
    "\n",
    "# Get the base (n=1)\n",
    "base = bday.base\n",
    "print(f\"Base: {base}\")\n",
    "\n",
    "# Get frequency string\n",
    "print(f\"Frequency string: {bday.freqstr}\")\n",
    "\n",
    "# Get name\n",
    "print(f\"Name: {bday.name}\")"
   ]
  },
  {
   "cell_type": "code",
   "execution_count": 17,
   "metadata": {},
   "outputs": [
    {
     "name": "stdout",
     "output_type": "stream",
     "text": [
      "Original datetime: 2023-01-01 00:00:00 (Sunday)\n",
      "After rollback: 2022-12-30 00:00:00 (Friday)\n",
      "After rollforward: 2023-01-02 00:00:00 (Monday)\n",
      "\n",
      "Original datetime (business day): 2023-01-02 00:00:00 (Monday)\n",
      "After rollback: 2023-01-02 00:00:00 (Monday)\n",
      "After rollforward: 2023-01-02 00:00:00 (Monday)\n"
     ]
    }
   ],
   "source": [
    "# Create a BusinessDay offset\n",
    "bday = BusinessDay()\n",
    "\n",
    "# Test rollback method\n",
    "dt = datetime(2023, 1, 1)  # Sunday\n",
    "print(f\"Original datetime: {dt} ({dt.strftime('%A')})\")\n",
    "print(f\"After rollback: {bday.rollback(dt)} ({bday.rollback(dt).strftime('%A')})\")\n",
    "\n",
    "# Test rollforward method\n",
    "print(f\"After rollforward: {bday.rollforward(dt)} ({bday.rollforward(dt).strftime('%A')})\")\n",
    "\n",
    "# Test with a business day\n",
    "dt = datetime(2023, 1, 2)  # Monday\n",
    "print(f\"\\nOriginal datetime (business day): {dt} ({dt.strftime('%A')})\")\n",
    "print(f\"After rollback: {bday.rollback(dt)} ({bday.rollback(dt).strftime('%A')})\")\n",
    "print(f\"After rollforward: {bday.rollforward(dt)} ({bday.rollforward(dt).strftime('%A')})\")"
   ]
  },
  {
   "cell_type": "markdown",
   "metadata": {},
   "source": [
    "### Using BusinessDay with date_range"
   ]
  },
  {
   "cell_type": "code",
   "execution_count": 18,
   "metadata": {},
   "outputs": [
    {
     "name": "stdout",
     "output_type": "stream",
     "text": [
      "Date range with business day frequency:\n",
      "2023-01-02 00:00:00 (Monday)\n",
      "2023-01-03 00:00:00 (Tuesday)\n",
      "2023-01-04 00:00:00 (Wednesday)\n",
      "2023-01-05 00:00:00 (Thursday)\n",
      "2023-01-06 00:00:00 (Friday)\n",
      "2023-01-09 00:00:00 (Monday)\n",
      "2023-01-10 00:00:00 (Tuesday)\n",
      "2023-01-11 00:00:00 (Wednesday)\n",
      "2023-01-12 00:00:00 (Thursday)\n",
      "2023-01-13 00:00:00 (Friday)\n"
     ]
    }
   ],
   "source": [
    "# Create a date range with business day frequency\n",
    "dates = pd.date_range(start='2023-01-01', periods=10, freq='B')\n",
    "print(f\"Date range with business day frequency:\")\n",
    "for date in dates:\n",
    "    print(f\"{date} ({date.strftime('%A')})\")"
   ]
  },
  {
   "cell_type": "code",
   "execution_count": null,
   "metadata": {},
   "outputs": [],
   "source": []
  },
  {
   "cell_type": "code",
   "execution_count": null,
   "metadata": {},
   "outputs": [],
   "source": []
  }
 ],
 "metadata": {
  "kernelspec": {
   "display_name": "venv",
   "language": "python",
   "name": "python3"
  },
  "language_info": {
   "codemirror_mode": {
    "name": "ipython",
    "version": 3
   },
   "file_extension": ".py",
   "mimetype": "text/x-python",
   "name": "python",
   "nbconvert_exporter": "python",
   "pygments_lexer": "ipython3",
   "version": "3.13.2"
  }
 },
 "nbformat": 4,
 "nbformat_minor": 4
}
