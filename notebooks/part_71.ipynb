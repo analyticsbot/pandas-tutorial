{
 "cells": [
  {
   "cell_type": "markdown",
   "metadata": {},
   "source": [
    "# Pandas Part 71: Pandas Arrays and Timedelta\n",
    "\n",
    "This notebook explores pandas arrays in more detail and focuses on the Timedelta class for representing durations."
   ]
  },
  {
   "cell_type": "code",
   "execution_count": null,
   "metadata": {},
   "outputs": [],
   "source": [
    "import pandas as pd\n",
    "import numpy as np\n",
    "import datetime"
   ]
  },
  {
   "cell_type": "markdown",
   "metadata": {},
   "source": [
    "## 1. Pandas Arrays\n",
    "\n",
    "The `pandas.array()` function creates arrays with specific data types. Pandas can infer the appropriate array type based on the input data, or you can explicitly specify the dtype."
   ]
  },
  {
   "cell_type": "markdown",
   "metadata": {},
   "source": [
    "### Array Type Inference\n",
    "\n",
    "Pandas will infer an extension dtype for sequences of specific scalar types:"
   ]
  },
  {
   "cell_type": "code",
   "execution_count": null,
   "metadata": {},
   "outputs": [],
   "source": [
    "# Integer array (inferred as Int64)\n",
    "int_array = pd.array([1, 2, 3, None, 5])\n",
    "print(f\"Integer array: {int_array}\")\n",
    "print(f\"Dtype: {int_array.dtype}\")"
   ]
  },
  {
   "cell_type": "code",
   "execution_count": null,
   "metadata": {},
   "outputs": [],
   "source": [
    "# String array\n",
    "str_array = pd.array(['a', 'b', None, 'd'])\n",
    "print(f\"String array: {str_array}\")\n",
    "print(f\"Dtype: {str_array.dtype}\")"
   ]
  },
  {
   "cell_type": "code",
   "execution_count": null,
   "metadata": {},
   "outputs": [],
   "source": [
    "# Boolean array\n",
    "bool_array = pd.array([True, False, None, True])\n",
    "print(f\"Boolean array: {bool_array}\")\n",
    "print(f\"Dtype: {bool_array.dtype}\")"
   ]
  },
  {
   "cell_type": "code",
   "execution_count": null,
   "metadata": {},
   "outputs": [],
   "source": [
    "# Datetime array\n",
    "dt_array = pd.array([datetime.datetime(2023, 1, 1), datetime.datetime(2023, 1, 2), None])\n",
    "print(f\"Datetime array: {dt_array}\")\n",
    "print(f\"Dtype: {dt_array.dtype}\")"
   ]
  },
  {
   "cell_type": "code",
   "execution_count": null,
   "metadata": {},
   "outputs": [],
   "source": [
    "# Timedelta array\n",
    "td_array = pd.array([datetime.timedelta(days=1), datetime.timedelta(hours=5), None])\n",
    "print(f\"Timedelta array: {td_array}\")\n",
    "print(f\"Dtype: {td_array.dtype}\")"
   ]
  },
  {
   "cell_type": "markdown",
   "metadata": {},
   "source": [
    "### Explicitly Specifying dtype"
   ]
  },
  {
   "cell_type": "code",
   "execution_count": null,
   "metadata": {},
   "outputs": [],
   "source": [
    "# Create an integer array with explicit dtype\n",
    "int_array_explicit = pd.array([1, 2, 3, None, 5], dtype='Int32')\n",
    "print(f\"Integer array (Int32): {int_array_explicit}\")\n",
    "print(f\"Dtype: {int_array_explicit.dtype}\")"
   ]
  },
  {
   "cell_type": "code",
   "execution_count": null,
   "metadata": {},
   "outputs": [],
   "source": [
    "# Create a string array with explicit dtype\n",
    "str_array_explicit = pd.array(['a', 'b', None, 'd'], dtype='string')\n",
    "print(f\"String array (string): {str_array_explicit}\")\n",
    "print(f\"Dtype: {str_array_explicit.dtype}\")"
   ]
  },
  {
   "cell_type": "markdown",
   "metadata": {},
   "source": [
    "### Creating Series and DataFrames from Arrays"
   ]
  },
  {
   "cell_type": "code",
   "execution_count": null,
   "metadata": {},
   "outputs": [],
   "source": [
    "# Create a Series from an array\n",
    "s = pd.Series(int_array)\n",
    "print(\"Series from integer array:\")\n",
    "print(s)\n",
    "print(f\"Dtype: {s.dtype}\")"
   ]
  },
  {
   "cell_type": "code",
   "execution_count": null,
   "metadata": {},
   "outputs": [],
   "source": [
    "# Create a DataFrame from arrays\n",
    "df = pd.DataFrame({\n",
    "    'integers': int_array,\n",
    "    'strings': str_array,\n",
    "    'booleans': bool_array\n",
    "})\n",
    "print(\"DataFrame from arrays:\")\n",
    "print(df)\n",
    "print(\"\\nDtypes:\")\n",
    "print(df.dtypes)"
   ]
  },
  {
   "cell_type": "markdown",
   "metadata": {},
   "source": [
    "### Extracting Arrays from Series"
   ]
  },
  {
   "cell_type": "code",
   "execution_count": null,
   "metadata": {},
   "outputs": [],
   "source": [
    "# Create a Series\n",
    "s = pd.Series([1, 2, 3, None, 5], dtype='Int64')\n",
    "\n",
    "# Extract the array from the Series\n",
    "arr = s.array\n",
    "print(f\"Array extracted from Series: {arr}\")\n",
    "print(f\"Dtype: {arr.dtype}\")"
   ]
  },
  {
   "cell_type": "markdown",
   "metadata": {},
   "source": [
    "## 2. Timedelta in Pandas\n",
    "\n",
    "Pandas `Timedelta` represents a duration, the difference between two dates or times. It's the pandas equivalent of Python's `datetime.timedelta` and is interchangeable with it in most cases."
   ]
  },
  {
   "cell_type": "markdown",
   "metadata": {},
   "source": [
    "### Creating Timedeltas"
   ]
  },
  {
   "cell_type": "code",
   "execution_count": null,
   "metadata": {},
   "outputs": [],
   "source": [
    "# Create Timedeltas using different constructors\n",
    "\n",
    "# From a string\n",
    "td1 = pd.Timedelta('1 days 2 hours 3 minutes 4 seconds')\n",
    "print(f\"From string: {td1}\")\n",
    "\n",
    "# From keyword arguments\n",
    "td2 = pd.Timedelta(days=1, hours=2, minutes=3, seconds=4)\n",
    "print(f\"From kwargs: {td2}\")\n",
    "\n",
    "# From an integer with a unit\n",
    "td3 = pd.Timedelta(86400, unit='s')  # 1 day in seconds\n",
    "print(f\"From integer with unit: {td3}\")\n",
    "\n",
    "# From a Python datetime.timedelta\n",
    "td4 = pd.Timedelta(datetime.timedelta(days=1, hours=2))\n",
    "print(f\"From datetime.timedelta: {td4}\")"
   ]
  },
  {
   "cell_type": "markdown",
   "metadata": {},
   "source": [
    "### Timedelta Properties and Attributes"
   ]
  },
  {
   "cell_type": "code",
   "execution_count": null,
   "metadata": {},
   "outputs": [],
   "source": [
    "# Create a Timedelta for demonstration\n",
    "td = pd.Timedelta('1 days 2 min 3 us 42 ns')\n",
    "\n",
    "# Access various attributes\n",
    "print(f\"Timedelta: {td}\")\n",
    "print(f\"Days: {td.days}\")\n",
    "print(f\"Seconds: {td.seconds}\")\n",
    "print(f\"Microseconds: {td.microseconds}\")\n",
    "print(f\"Nanoseconds: {td.nanoseconds}\")\n",
    "\n",
    "# Access components as a named tuple\n",
    "components = td.components\n",
    "print(\"\\nComponents:\")\n",
    "print(f\"Days: {components.days}\")\n",
    "print(f\"Hours: {components.hours}\")\n",
    "print(f\"Minutes: {components.minutes}\")\n",
    "print(f\"Seconds: {components.seconds}\")\n",
    "print(f\"Milliseconds: {components.milliseconds}\")\n",
    "print(f\"Microseconds: {components.microseconds}\")\n",
    "print(f\"Nanoseconds: {components.nanoseconds}\")"
   ]
  },
  {
   "cell_type": "markdown",
   "metadata": {},
   "source": [
    "### NumPy Representation (asm8)"
   ]
  },
  {
   "cell_type": "code",
   "execution_count": null,
   "metadata": {},
   "outputs": [],
   "source": [
    "# Access the NumPy timedelta64 array scalar view\n",
    "td1 = pd.Timedelta('1 days 2 min 3 us 42 ns')\n",
    "print(f\"Timedelta: {td1}\")\n",
    "print(f\"asm8: {td1.asm8}\")\n",
    "\n",
    "td2 = pd.Timedelta('2 min 3 s')\n",
    "print(f\"\\nTimedelta: {td2}\")\n",
    "print(f\"asm8: {td2.asm8}\")\n",
    "\n",
    "td3 = pd.Timedelta('3 ms 5 us')\n",
    "print(f\"\\nTimedelta: {td3}\")\n",
    "print(f\"asm8: {td3.asm8}\")\n",
    "\n",
    "td4 = pd.Timedelta(42, unit='ns')\n",
    "print(f\"\\nTimedelta: {td4}\")\n",
    "print(f\"asm8: {td4.asm8}\")"
   ]
  },
  {
   "cell_type": "markdown",
   "metadata": {},
   "source": [
    "### Timedelta Arithmetic"
   ]
  },
  {
   "cell_type": "code",
   "execution_count": null,
   "metadata": {},
   "outputs": [],
   "source": [
    "# Timedelta addition\n",
    "td1 = pd.Timedelta(days=1)\n",
    "td2 = pd.Timedelta(hours=12)\n",
    "print(f\"td1 + td2 = {td1 + td2}\")\n",
    "\n",
    "# Timedelta subtraction\n",
    "print(f\"td1 - td2 = {td1 - td2}\")\n",
    "\n",
    "# Timedelta multiplication\n",
    "print(f\"td1 * 2 = {td1 * 2}\")\n",
    "\n",
    "# Timedelta division\n",
    "print(f\"td1 / 2 = {td1 / 2}\")\n",
    "print(f\"td1 / td2 = {td1 / td2}\")  # Returns a float"
   ]
  },
  {
   "cell_type": "markdown",
   "metadata": {},
   "source": [
    "### Timedelta with Datetime"
   ]
  },
  {
   "cell_type": "code",
   "execution_count": null,
   "metadata": {},
   "outputs": [],
   "source": [
    "# Create a datetime\n",
    "dt = pd.Timestamp('2023-01-01 12:00:00')\n",
    "print(f\"Datetime: {dt}\")\n",
    "\n",
    "# Add a Timedelta to a datetime\n",
    "td = pd.Timedelta(days=2, hours=6)\n",
    "print(f\"Timedelta: {td}\")\n",
    "print(f\"dt + td = {dt + td}\")\n",
    "\n",
    "# Subtract a Timedelta from a datetime\n",
    "print(f\"dt - td = {dt - td}\")"
   ]
  },
  {
   "cell_type": "markdown",
   "metadata": {},
   "source": [
    "### Timedelta Series and DataFrames"
   ]
  },
  {
   "cell_type": "code",
   "execution_count": null,
   "metadata": {},
   "outputs": [],
   "source": [
    "# Create a Series of Timedeltas\n",
    "td_series = pd.Series([\n",
    "    pd.Timedelta(days=1),\n",
    "    pd.Timedelta(hours=12),\n",
    "    pd.Timedelta(minutes=30),\n",
    "    pd.Timedelta(seconds=45)\n",
    "])\n",
    "print(\"Timedelta Series:\")\n",
    "print(td_series)\n",
    "print(f\"Dtype: {td_series.dtype}\")"
   ]
  },
  {
   "cell_type": "code",
   "execution_count": null,
   "metadata": {},
   "outputs": [],
   "source": [
    "# Operations on Timedelta Series\n",
    "print(\"2 * td_series:\")\n",
    "print(2 * td_series)\n",
    "\n",
    "print(\"\\ntd_series.mean():\")\n",
    "print(td_series.mean())"
   ]
  },
  {
   "cell_type": "code",
   "execution_count": null,
   "metadata": {},
   "outputs": [],
   "source": [
    "# Create a DataFrame with Timedeltas\n",
    "df = pd.DataFrame({\n",
    "    'td1': [pd.Timedelta(days=1), pd.Timedelta(hours=12), pd.Timedelta(minutes=30)],\n",
    "    'td2': [pd.Timedelta(hours=2), pd.Timedelta(minutes=15), pd.Timedelta(seconds=45)]\n",
    "})\n",
    "print(\"DataFrame with Timedeltas:\")\n",
    "print(df)\n",
    "\n",
    "# Sum Timedeltas across columns\n",
    "print(\"\\nSum across columns:\")\n",
    "print(df.sum(axis=1))"
   ]
  },
  {
   "cell_type": "markdown",
   "metadata": {},
   "source": [
    "### Timedelta Range"
   ]
  },
  {
   "cell_type": "code",
   "execution_count": null,
   "metadata": {},
   "outputs": [],
   "source": [
    "# Create a range of Timedeltas\n",
    "td_range = pd.timedelta_range(start='1 day', end='5 days', freq='1D')\n",
    "print(\"Timedelta range (daily):\")\n",
    "print(td_range)\n",
    "\n",
    "# Create a range with a specific number of periods\n",
    "td_range2 = pd.timedelta_range(start='1 hour', periods=5, freq='30min')\n",
    "print(\"\\nTimedelta range (30 minutes):\")\n",
    "print(td_range2)"
   ]
  },
  {
   "cell_type": "markdown",
   "metadata": {},
   "source": [
    "### Practical Example: Calculating Time Differences"
   ]
  },
  {
   "cell_type": "code",
   "execution_count": null,
   "metadata": {},
   "outputs": [],
   "source": [
    "# Create a DataFrame with start and end times\n",
    "df = pd.DataFrame({\n",
    "    'start_time': pd.to_datetime(['2023-01-01 08:00:00', '2023-01-01 09:30:00', '2023-01-01 13:45:00']),\n",
    "    'end_time': pd.to_datetime(['2023-01-01 10:15:00', '2023-01-01 11:00:00', '2023-01-01 17:30:00'])\n",
    "})\n",
    "print(\"DataFrame with start and end times:\")\n",
    "print(df)\n",
    "\n",
    "# Calculate duration\n",
    "df['duration'] = df['end_time'] - df['start_time']\n",
    "print(\"\\nWith duration:\")\n",
    "print(df)\n",
    "\n",
    "# Extract hours and minutes\n",
    "df['hours'] = df['duration'].dt.components.hours\n",
    "df['minutes'] = df['duration'].dt.components.minutes\n",
    "print(\"\\nWith hours and minutes:\")\n",
    "print(df)"
   ]
  }
 ],
 "metadata": {
  "kernelspec": {
   "display_name": "Python 3",
   "language": "python",
   "name": "python3"
  },
  "language_info": {
   "codemirror_mode": {
    "name": "ipython",
    "version": 3
   },
   "file_extension": ".py",
   "mimetype": "text/x-python",
   "name": "python",
   "nbconvert_exporter": "python",
   "pygments_lexer": "ipython3",
   "version": "3.8.5"
  }
 },
 "nbformat": 4,
 "nbformat_minor": 4
}
