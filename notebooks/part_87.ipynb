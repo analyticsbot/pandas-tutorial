{
 "cells": [
  {
   "cell_type": "markdown",
   "metadata": {},
   "source": [
    "#### Pandas Rolling Window Functions and GroupBy - Part 87\n",
    "\n",
    "This notebook covers advanced rolling window functions like `kurt()` and `apply()`, as well as the basics of GroupBy objects and their methods."
   ]
  },
  {
   "cell_type": "code",
   "execution_count": null,
   "metadata": {},
   "source": [
    "import pandas as pd\n",
    "import numpy as np\n",
    "import scipy.stats"
   ]
  },
  {
   "cell_type": "markdown",
   "metadata": {},
   "source": [
    "##### Rolling Window Functions\n",
    "\n",
    "### Rolling.kurt() - Rolling Kurtosis\n",
    "\n",
    "The `kurt()` method calculates the unbiased rolling kurtosis using Fisher's definition without bias."
   ]
  },
  {
   "cell_type": "code",
   "execution_count": null,
   "metadata": {},
   "source": [
    "# Create a sample series\n",
    "arr = [1, 2, 3, 4, 999]\n",
    "s = pd.Series(arr)\n",
    "print(\"Series:\")\n",
    "print(s)"
   ]
  },
  {
   "cell_type": "code",
   "execution_count": null,
   "metadata": {},
   "source": [
    "# Calculate rolling kurtosis with window size 4\n",
    "rolling_kurt = s.rolling(4).kurt()\n",
    "print(\"\\nRolling kurtosis with window size 4:\")\n",
    "print(rolling_kurt)"
   ]
  },
  {
   "cell_type": "code",
   "execution_count": null,
   "metadata": {},
   "source": [
    "# Compare with scipy.stats.kurtosis\n",
    "print(f\"\\nSciPy kurtosis for first 4 values: {scipy.stats.kurtosis(arr[:-1], bias=False):.6f}\")\n",
    "print(f\"SciPy kurtosis for last 4 values: {scipy.stats.kurtosis(arr[1:], bias=False):.6f}\")"
   ]
  },
  {
   "cell_type": "markdown",
   "metadata": {},
   "source": [
    "### Rolling.apply() - Custom Rolling Window Function\n",
    "\n",
    "The `apply()` method allows you to apply a custom function to each window of data."
   ]
  },
  {
   "cell_type": "code",
   "execution_count": null,
   "metadata": {},
   "source": [
    "# Create a sample DataFrame\n",
    "df = pd.DataFrame({\n",
    "    'A': [1, 2, 3, 4, 5],\n",
    "    'B': [5, 4, 3, 2, 1]\n",
    "})\n",
    "print(\"DataFrame:\")\n",
    "print(df)"
   ]
  },
  {
   "cell_type": "code",
   "execution_count": null,
   "metadata": {},
   "source": [
    "# Define a custom function to calculate the range (max - min) of each window\n",
    "def window_range(x):\n",
    "    return x.max() - x.min()\n",
    "\n",
    "# Apply the custom function to each window\n",
    "rolling_range = df.rolling(window=3).apply(window_range)\n",
    "print(\"\\nRolling range with window size 3:\")\n",
    "print(rolling_range)"
   ]
  },
  {
   "cell_type": "code",
   "execution_count": null,
   "metadata": {},
   "source": [
    "# Using raw=True for better performance with NumPy functions\n",
    "def numpy_range(x):\n",
    "    return np.max(x) - np.min(x)\n",
    "\n",
    "rolling_range_raw = df.rolling(window=3).apply(numpy_range, raw=True)\n",
    "print(\"\\nRolling range with window size 3 using raw=True:\")\n",
    "print(rolling_range_raw)"
   ]
  },
  {
   "cell_type": "markdown",
   "metadata": {},
   "source": [
    "### Rolling.aggregate() - Multiple Aggregations\n",
    "\n",
    "The `aggregate()` (or `agg()`) method allows you to apply multiple aggregation functions to each window."
   ]
  },
  {
   "cell_type": "code",
   "execution_count": null,
   "metadata": {},
   "source": [
    "# Apply multiple aggregation functions\n",
    "rolling_agg = df.rolling(window=3).agg(['mean', 'std', 'min', 'max'])\n",
    "print(\"Rolling aggregation with window size 3:\")\n",
    "print(rolling_agg)"
   ]
  },
  {
   "cell_type": "code",
   "execution_count": null,
   "metadata": {},
   "source": [
    "# Apply different functions to different columns\n",
    "rolling_agg_dict = df.rolling(window=3).agg({\n",
    "    'A': ['mean', 'max'],\n",
    "    'B': ['min', 'std']\n",
    "})\n",
    "print(\"\\nRolling aggregation with different functions per column:\")\n",
    "print(rolling_agg_dict)"
   ]
  },
  {
   "cell_type": "markdown",
   "metadata": {},
   "source": [
    "##### Custom Window Indexer\n",
    "\n",
    "Pandas provides the `BaseIndexer` class for defining custom window boundaries."
   ]
  },
  {
   "cell_type": "code",
   "execution_count": null,
   "metadata": {},
   "source": [
    "from pandas.api.indexers import BaseIndexer\n",
    "\n",
    "# Define a custom indexer that uses variable window sizes\n",
    "class VariableWindowIndexer(BaseIndexer):\n",
    "    def __init__(self, index_array=None):\n",
    "        super().__init__(index_array=index_array)\n",
    "        \n",
    "    def get_window_bounds(self, num_values, min_periods, center, closed):\n",
    "        # This creates windows with sizes 1, 2, 3, 4, 5, etc.\n",
    "        start = np.zeros(num_values, dtype=np.int64)\n",
    "        end = np.array(range(1, num_values + 1), dtype=np.int64)\n",
    "        return start, end"
   ]
  },
  {
   "cell_type": "code",
   "execution_count": null,
   "metadata": {},
   "source": [
    "# Create a sample series\n",
    "s = pd.Series([1, 2, 3, 4, 5])\n",
    "print(\"Series:\")\n",
    "print(s)"
   ]
  },
  {
   "cell_type": "code",
   "execution_count": null,
   "metadata": {},
   "source": [
    "# Apply the custom indexer\n",
    "indexer = VariableWindowIndexer()\n",
    "variable_window_mean = s.rolling(window=indexer).mean()\n",
    "print(\"\\nVariable window mean:\")\n",
    "print(variable_window_mean)"
   ]
  },
  {
   "cell_type": "markdown",
   "metadata": {},
   "source": [
    "##### GroupBy Objects\n",
    "\n",
    "GroupBy objects are returned by `groupby()` calls and provide methods for aggregating and transforming data by groups."
   ]
  },
  {
   "cell_type": "code",
   "execution_count": null,
   "metadata": {},
   "source": [
    "# Create a sample DataFrame\n",
    "df = pd.DataFrame({\n",
    "    'A': ['foo', 'bar', 'foo', 'bar', 'foo', 'bar'],\n",
    "    'B': ['one', 'one', 'two', 'three', 'two', 'two'],\n",
    "    'C': [1, 2, 3, 4, 5, 6],\n",
    "    'D': [10, 20, 30, 40, 50, 60]\n",
    "})\n",
    "print(\"DataFrame:\")\n",
    "print(df)"
   ]
  },
  {
   "cell_type": "code",
   "execution_count": null,
   "metadata": {},
   "source": [
    "# Group by column 'A'\n",
    "grouped = df.groupby('A')\n",
    "print(\"\\nGrouped by column 'A':\")\n",
    "print(grouped)"
   ]
  },
  {
   "cell_type": "markdown",
   "metadata": {},
   "source": [
    "### GroupBy.__iter__() - Iterating Over Groups\n",
    "\n",
    "The `__iter__()` method allows you to iterate over each group in a GroupBy object."
   ]
  },
  {
   "cell_type": "code",
   "execution_count": null,
   "metadata": {},
   "source": [
    "# Iterate over groups\n",
    "print(\"Iterating over groups:\")\n",
    "for name, group in grouped:\n",
    "    print(f\"\\nGroup name: {name}\")\n",
    "    print(group)"
   ]
  },
  {
   "cell_type": "markdown",
   "metadata": {},
   "source": [
    "### GroupBy.groups - Group Labels\n",
    "\n",
    "The `groups` property returns a dictionary mapping group names to group labels."
   ]
  },
  {
   "cell_type": "code",
   "execution_count": null,
   "metadata": {},
   "source": [
    "# Get group labels\n",
    "print(\"Group labels:\")\n",
    "print(grouped.groups)"
   ]
  },
  {
   "cell_type": "markdown",
   "metadata": {},
   "source": [
    "### GroupBy.indices - Group Indices\n",
    "\n",
    "The `indices` property returns a dictionary mapping group names to group indices."
   ]
  },
  {
   "cell_type": "code",
   "execution_count": null,
   "metadata": {},
   "source": [
    "# Get group indices\n",
    "print(\"Group indices:\")\n",
    "print(grouped.indices)"
   ]
  },
  {
   "cell_type": "markdown",
   "metadata": {},
   "source": [
    "### GroupBy.get_group() - Get a Specific Group\n",
    "\n",
    "The `get_group()` method allows you to retrieve a specific group by its name."
   ]
  },
  {
   "cell_type": "code",
   "execution_count": null,
   "metadata": {},
   "source": [
    "# Get a specific group\n",
    "foo_group = grouped.get_group('foo')\n",
    "print(\"Group 'foo':\")\n",
    "print(foo_group)"
   ]
  },
  {
   "cell_type": "markdown",
   "metadata": {},
   "source": [
    "### Groupby with Multiple Columns"
   ]
  },
  {
   "cell_type": "code",
   "execution_count": null,
   "metadata": {},
   "source": [
    "# Group by multiple columns\n",
    "multi_grouped = df.groupby(['A', 'B'])\n",
    "print(\"Grouped by columns 'A' and 'B':\")\n",
    "print(multi_grouped.groups)"
   ]
  },
  {
   "cell_type": "code",
   "execution_count": null,
   "metadata": {},
   "source": [
    "# Get a specific group from multi-level groupby\n",
    "foo_one_group = multi_grouped.get_group(('foo', 'one'))\n",
    "print(\"\\nGroup ('foo', 'one'):\")\n",
    "print(foo_one_group)"
   ]
  },
  {
   "cell_type": "markdown",
   "metadata": {},
   "source": [
    "### Using Grouper for Time-Based Grouping"
   ]
  },
  {
   "cell_type": "code",
   "execution_count": null,
   "metadata": {},
   "source": [
    "# Create a DataFrame with date index\n",
    "dates = pd.date_range('2023-01-01', periods=10)\n",
    "df_dates = pd.DataFrame({\n",
    "    'A': np.random.randn(10),\n",
    "    'B': np.random.randn(10)\n",
    "}, index=dates)\n",
    "print(\"DataFrame with date index:\")\n",
    "print(df_dates)"
   ]
  },
  {
   "cell_type": "code",
   "execution_count": null,
   "metadata": {},
   "source": [
    "# Group by month using Grouper\n",
    "monthly_grouped = df_dates.groupby(pd.Grouper(freq='M'))\n",
    "print(\"\\nMonthly groups:\")\n",
    "for name, group in monthly_grouped:\n",
    "    print(f\"\\nMonth: {name}\")\n",
    "    print(group)"
   ]
  },
  {
   "cell_type": "code",
   "execution_count": null,
   "metadata": {},
   "source": [
    "# Calculate monthly statistics\n",
    "monthly_stats = monthly_grouped.agg(['mean', 'std', 'min', 'max'])\n",
    "print(\"\\nMonthly statistics:\")\n",
    "print(monthly_stats)"
   ]
  },
  {
   "cell_type": "markdown",
   "metadata": {},
   "source": [
    "### Practical Example: Sales Data Analysis"
   ]
  },
  {
   "cell_type": "code",
   "execution_count": null,
   "metadata": {},
   "source": [
    "# Create a sample sales DataFrame\n",
    "sales_data = pd.DataFrame({\n",
    "    'date': pd.date_range('2023-01-01', periods=20),\n",
    "    'product': ['A', 'B', 'A', 'B', 'A', 'B', 'A', 'B', 'A', 'B', 'A', 'B', 'A', 'B', 'A', 'B', 'A', 'B', 'A', 'B'],\n",
    "    'region': ['East', 'East', 'West', 'West', 'East', 'East', 'West', 'West', 'East', 'East', \n",
    "               'West', 'West', 'East', 'East', 'West', 'West', 'East', 'East', 'West', 'West'],\n",
    "    'sales': np.random.randint(100, 1000, 20),\n",
    "    'quantity': np.random.randint(1, 10, 20)\n",
    "})\n",
    "print(\"Sales data:\")\n",
    "print(sales_data.head())"
   ]
  },
  {
   "cell_type": "code",
   "execution_count": null,
   "metadata": {},
   "source": [
    "# Group by product and region\n",
    "product_region_grouped = sales_data.groupby(['product', 'region'])\n",
    "\n",
    "# Calculate total sales and average quantity by product and region\n",
    "sales_summary = product_region_grouped.agg({\n",
    "    'sales': 'sum',\n",
    "    'quantity': 'mean'\n",
    "})\n",
    "print(\"\\nSales summary by product and region:\")\n",
    "print(sales_summary)"
   ]
  },
  {
   "cell_type": "code",
   "execution_count": null,
   "metadata": {},
   "source": [
    "# Group by date (weekly) and product\n",
    "weekly_product_grouped = sales_data.groupby([pd.Grouper(key='date', freq='W'), 'product'])\n",
    "\n",
    "# Calculate weekly sales by product\n",
    "weekly_sales = weekly_product_grouped['sales'].sum().unstack()\n",
    "print(\"\\nWeekly sales by product:\")\n",
    "print(weekly_sales)"
   ]
  },
  {
   "cell_type": "code",
   "execution_count": null,
   "metadata": {},
   "source": [
    "# Visualize weekly sales by product\n",
    "import matplotlib.pyplot as plt\n",
    "\n",
    "weekly_sales.plot(kind='bar', figsize=(12, 6))\n",
    "plt.title('Weekly Sales by Product')\n",
    "plt.xlabel('Week')\n",
    "plt.ylabel('Sales')\n",
    "plt.tight_layout()\n",
    "plt.show()"
   ]
  }
 ],
 "metadata": {
  "kernelspec": {
   "display_name": "Python 3",
   "language": "python",
   "name": "python3"
  },
  "language_info": {
   "codemirror_mode": {
    "name": "ipython",
    "version": 3
   },
   "file_extension": ".py",
   "mimetype": "text/x-python",
   "name": "python",
   "nbconvert_exporter": "python",
   "pygments_lexer": "ipython3",
   "version": "3.8.5"
  }
 },
 "nbformat": 4,
 "nbformat_minor": 4
}