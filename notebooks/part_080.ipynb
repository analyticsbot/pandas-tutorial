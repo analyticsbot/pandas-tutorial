{
 "cells": [
  {
   "cell_type": "markdown",
   "metadata": {},
   "source": [
    "#### Pandas Part 80: More DateOffset Classes\n",
    "\n",
    "This notebook explores additional DateOffset classes in pandas, including BusinessHour, MonthBegin, and BusinessMonthEnd."
   ]
  },
  {
   "cell_type": "code",
   "execution_count": null,
   "metadata": {},
   "outputs": [],
   "source": [
    "import pandas as pd\n",
    "import numpy as np\n",
    "from datetime import datetime, time, timedelta\n",
    "from pandas.tseries.offsets import (\n",
    "    BusinessDay, BusinessHour, \n",
    "    MonthBegin, MonthEnd, \n",
    "    BusinessMonthBegin, BusinessMonthEnd\n",
    ")"
   ]
  },
  {
   "cell_type": "markdown",
   "metadata": {},
   "source": [
    "##### 1. More BusinessDay Methods\n",
    "\n",
    "Let's explore additional methods available on the BusinessDay class."
   ]
  },
  {
   "cell_type": "code",
   "execution_count": null,
   "metadata": {},
   "outputs": [],
   "source": [
    "# Create a BusinessDay offset\n",
    "bday = BusinessDay(n=2)\n",
    "print(f\"BusinessDay: {bday}\")\n",
    "\n",
    "# Apply to a datetime\n",
    "dt = datetime(2023, 1, 1)  # Sunday\n",
    "print(f\"Original datetime: {dt} ({dt.strftime('%A')})\")\n",
    "print(f\"After applying offset: {bday.apply(dt)} ({bday.apply(dt).strftime('%A')})\")\n",
    "\n",
    "# Check if a date is on a business day\n",
    "print(f\"\\nIs Sunday a business day? {bday.is_on_offset(dt)}\")\n",
    "monday = datetime(2023, 1, 2)  # Monday\n",
    "print(f\"Is Monday a business day? {bday.is_on_offset(monday)}\")"
   ]
  },
  {
   "cell_type": "code",
   "execution_count": null,
   "metadata": {},
   "outputs": [],
   "source": [
    "# Apply to a DatetimeIndex\n",
    "dates = pd.DatetimeIndex(['2023-01-01', '2023-01-02', '2023-01-03'])\n",
    "print(f\"Original dates: {dates}\")\n",
    "print(f\"After applying offset: {bday.apply_index(dates)}\")\n",
    "\n",
    "# Create a copy of the offset\n",
    "bday_copy = bday.copy()\n",
    "print(f\"\\nOriginal offset: {bday}\")\n",
    "print(f\"Copy of offset: {bday_copy}\")"
   ]
  },
  {
   "cell_type": "markdown",
   "metadata": {},
   "source": [
    "##### 2. BusinessHour\n",
    "\n",
    "BusinessHour is a DateOffset subclass representing business hours (typically 9:00 AM to 5:00 PM on business days)."
   ]
  },
  {
   "cell_type": "code",
   "execution_count": null,
   "metadata": {},
   "outputs": [],
   "source": [
    "# Create a BusinessHour offset\n",
    "bhour = BusinessHour()\n",
    "print(f\"BusinessHour: {bhour}\")\n",
    "\n",
    "# Apply to a datetime during business hours\n",
    "dt = datetime(2023, 1, 2, 10, 0)  # Monday, 10:00 AM\n",
    "print(f\"Original datetime: {dt} ({dt.strftime('%A %H:%M')})\")\n",
    "print(f\"After adding 1 business hour: {dt + bhour} ({(dt + bhour).strftime('%A %H:%M')})\")\n",
    "\n",
    "# Apply to a datetime outside business hours\n",
    "dt = datetime(2023, 1, 2, 17, 0)  # Monday, 5:00 PM (end of business hours)\n",
    "print(f\"\\nOriginal datetime: {dt} ({dt.strftime('%A %H:%M')})\")\n",
    "print(f\"After adding 1 business hour: {dt + bhour} ({(dt + bhour).strftime('%A %H:%M')})\")\n",
    "\n",
    "# Apply to a datetime on a weekend\n",
    "dt = datetime(2023, 1, 1, 12, 0)  # Sunday, 12:00 PM\n",
    "print(f\"\\nOriginal datetime: {dt} ({dt.strftime('%A %H:%M')})\")\n",
    "print(f\"After adding 1 business hour: {dt + bhour} ({(dt + bhour).strftime('%A %H:%M')})\")"
   ]
  },
  {
   "cell_type": "markdown",
   "metadata": {},
   "source": [
    "### Custom Business Hours"
   ]
  },
  {
   "cell_type": "code",
   "execution_count": null,
   "metadata": {},
   "outputs": [],
   "source": [
    "# Create a BusinessHour with custom hours (8:00 AM to 4:00 PM)\n",
    "custom_bhour = BusinessHour(start='8:00', end='16:00')\n",
    "print(f\"Custom BusinessHour: {custom_bhour}\")\n",
    "\n",
    "# Apply to a datetime during custom business hours\n",
    "dt = datetime(2023, 1, 2, 9, 0)  # Monday, 9:00 AM\n",
    "print(f\"Original datetime: {dt} ({dt.strftime('%A %H:%M')})\")\n",
    "print(f\"After adding 1 custom business hour: {dt + custom_bhour} ({(dt + custom_bhour).strftime('%A %H:%M')})\")\n",
    "\n",
    "# Apply to a datetime outside custom business hours\n",
    "dt = datetime(2023, 1, 2, 16, 0)  # Monday, 4:00 PM (end of custom business hours)\n",
    "print(f\"\\nOriginal datetime: {dt} ({dt.strftime('%A %H:%M')})\")\n",
    "print(f\"After adding 1 custom business hour: {dt + custom_bhour} ({(dt + custom_bhour).strftime('%A %H:%M')})\")"
   ]
  },
  {
   "cell_type": "markdown",
   "metadata": {},
   "source": [
    "### BusinessHour Properties"
   ]
  },
  {
   "cell_type": "code",
   "execution_count": null,
   "metadata": {},
   "outputs": [],
   "source": [
    "# Create a BusinessHour offset\n",
    "bhour = BusinessHour(n=2)\n",
    "print(f\"BusinessHour: {bhour}\")\n",
    "\n",
    "# Get the base (n=1)\n",
    "base = bhour.base\n",
    "print(f\"Base: {base}\")\n",
    "\n",
    "# Get the next business day offset\n",
    "next_bday = bhour.next_bday\n",
    "print(f\"Next business day offset: {next_bday}\")\n",
    "\n",
    "# Get frequency string\n",
    "print(f\"Frequency string: {bhour.freqstr}\")\n",
    "\n",
    "# Get name\n",
    "print(f\"Name: {bhour.name}\")"
   ]
  },
  {
   "cell_type": "markdown",
   "metadata": {},
   "source": [
    "### Using BusinessHour with date_range"
   ]
  },
  {
   "cell_type": "code",
   "execution_count": null,
   "metadata": {},
   "outputs": [],
   "source": [
    "# Create a date range with business hour frequency\n",
    "dates = pd.date_range(start='2023-01-02 9:00', periods=8, freq='BH')\n",
    "print(f\"Date range with business hour frequency:\")\n",
    "for date in dates:\n",
    "    print(f\"{date} ({date.strftime('%A %H:%M')})\")\n",
    "\n",
    "# Create a date range with custom business hour frequency\n",
    "custom_bhour = BusinessHour(start='8:00', end='16:00')\n",
    "dates = pd.date_range(start='2023-01-02 8:00', periods=8, freq=custom_bhour)\n",
    "print(f\"\\nDate range with custom business hour frequency:\")\n",
    "for date in dates:\n",
    "    print(f\"{date} ({date.strftime('%A %H:%M')})\")"
   ]
  },
  {
   "cell_type": "markdown",
   "metadata": {},
   "source": [
    "##### 3. MonthBegin and MonthEnd\n",
    "\n",
    "MonthBegin and MonthEnd are DateOffset subclasses representing the beginning and end of a month, respectively."
   ]
  },
  {
   "cell_type": "code",
   "execution_count": null,
   "metadata": {},
   "outputs": [],
   "source": [
    "# Create MonthBegin and MonthEnd offsets\n",
    "month_begin = MonthBegin()\n",
    "month_end = MonthEnd()\n",
    "print(f\"MonthBegin: {month_begin}\")\n",
    "print(f\"MonthEnd: {month_end}\")\n",
    "\n",
    "# Apply to a datetime\n",
    "dt = datetime(2023, 1, 15)  # Middle of the month\n",
    "print(f\"\\nOriginal datetime: {dt}\")\n",
    "print(f\"After adding MonthBegin: {dt + month_begin}\")\n",
    "print(f\"After adding MonthEnd: {dt + month_end}\")\n",
    "\n",
    "# Apply to the beginning of a month\n",
    "dt = datetime(2023, 1, 1)  # Beginning of the month\n",
    "print(f\"\\nOriginal datetime (beginning of month): {dt}\")\n",
    "print(f\"After adding MonthBegin: {dt + month_begin}\")\n",
    "print(f\"After adding MonthEnd: {dt + month_end}\")\n",
    "\n",
    "# Apply to the end of a month\n",
    "dt = datetime(2023, 1, 31)  # End of the month\n",
    "print(f\"\\nOriginal datetime (end of month): {dt}\")\n",
    "print(f\"After adding MonthBegin: {dt + month_begin}\")\n",
    "print(f\"After adding MonthEnd: {dt + month_end}\")"
   ]
  },
  {
   "cell_type": "markdown",
   "metadata": {},
   "source": [
    "### MonthBegin Methods"
   ]
  },
  {
   "cell_type": "code",
   "execution_count": null,
   "metadata": {},
   "outputs": [],
   "source": [
    "# Create a MonthBegin offset\n",
    "month_begin = MonthBegin(n=2)\n",
    "print(f\"MonthBegin: {month_begin}\")\n",
    "\n",
    "# Apply to a datetime\n",
    "dt = datetime(2023, 1, 15)\n",
    "print(f\"Original datetime: {dt}\")\n",
    "print(f\"After applying offset: {month_begin.apply(dt)}\")\n",
    "\n",
    "# Check if a date is on the beginning of a month\n",
    "print(f\"\\nIs January 15 the beginning of a month? {month_begin.is_on_offset(dt)}\")\n",
    "first_day = datetime(2023, 1, 1)\n",
    "print(f\"Is January 1 the beginning of a month? {month_begin.is_on_offset(first_day)}\")"
   ]
  },
  {
   "cell_type": "code",
   "execution_count": null,
   "metadata": {},
   "outputs": [],
   "source": [
    "# Apply to a DatetimeIndex\n",
    "dates = pd.DatetimeIndex(['2023-01-15', '2023-02-01', '2023-03-10'])\n",
    "print(f\"Original dates: {dates}\")\n",
    "print(f\"After applying offset: {month_begin.apply_index(dates)}\")\n",
    "\n",
    "# Check if the offset is anchored\n",
    "print(f\"\\nIs MonthBegin anchored? {month_begin.is_anchored()}\")"
   ]
  },
  {
   "cell_type": "markdown",
   "metadata": {},
   "source": [
    "### Using MonthBegin and MonthEnd with date_range"
   ]
  },
  {
   "cell_type": "code",
   "execution_count": null,
   "metadata": {},
   "outputs": [],
   "source": [
    "# Create a date range with month begin frequency\n",
    "dates = pd.date_range(start='2023-01-01', periods=5, freq='MS')  # Month start\n",
    "print(f\"Date range with month start frequency:\")\n",
    "for date in dates:\n",
    "    print(f\"{date}\")\n",
    "\n",
    "# Create a date range with month end frequency\n",
    "dates = pd.date_range(start='2023-01-31', periods=5, freq='M')  # Month end\n",
    "print(f\"\\nDate range with month end frequency:\")\n",
    "for date in dates:\n",
    "    print(f\"{date}\")"
   ]
  },
  {
   "cell_type": "markdown",
   "metadata": {},
   "source": [
    "##### 4. BusinessMonthBegin and BusinessMonthEnd\n",
    "\n",
    "BusinessMonthBegin and BusinessMonthEnd are DateOffset subclasses representing the first and last business day of a month, respectively."
   ]
  },
  {
   "cell_type": "code",
   "execution_count": null,
   "metadata": {},
   "outputs": [],
   "source": [
    "# Create BusinessMonthBegin and BusinessMonthEnd offsets\n",
    "bmonth_begin = BusinessMonthBegin()\n",
    "bmonth_end = BusinessMonthEnd()\n",
    "print(f\"BusinessMonthBegin: {bmonth_begin}\")\n",
    "print(f\"BusinessMonthEnd: {bmonth_end}\")\n",
    "\n",
    "# Apply to a datetime\n",
    "dt = datetime(2023, 1, 15)  # Middle of the month\n",
    "print(f\"\\nOriginal datetime: {dt}\")\n",
    "print(f\"After adding BusinessMonthBegin: {dt + bmonth_begin}\")\n",
    "print(f\"After adding BusinessMonthEnd: {dt + bmonth_end}\")"
   ]
  },
  {
   "cell_type": "code",
   "execution_count": null,
   "metadata": {},
   "outputs": [],
   "source": [
    "# Handle cases where the first/last day of the month is a weekend\n",
    "# January 1, 2023 is a Sunday\n",
    "dt = datetime(2023, 1, 1)\n",
    "print(f\"Original datetime: {dt} ({dt.strftime('%A')})\")\n",
    "print(f\"After adding BusinessMonthBegin: {dt + bmonth_begin} ({(dt + bmonth_begin).strftime('%A')})\")\n",
    "\n",
    "# December 31, 2023 is a Sunday\n",
    "dt = datetime(2023, 12, 31)\n",
    "print(f\"\\nOriginal datetime: {dt} ({dt.strftime('%A')})\")\n",
    "print(f\"After adding BusinessMonthEnd: {dt + bmonth_end} ({(dt + bmonth_end).strftime('%A')})\")"
   ]
  },
  {
   "cell_type": "markdown",
   "metadata": {},
   "source": [
    "### Using BusinessMonthBegin and BusinessMonthEnd with date_range"
   ]
  },
  {
   "cell_type": "code",
   "execution_count": null,
   "metadata": {},
   "outputs": [],
   "source": [
    "# Create a date range with business month begin frequency\n",
    "dates = pd.date_range(start='2023-01-01', periods=5, freq='BMS')  # Business month start\n",
    "print(f\"Date range with business month start frequency:\")\n",
    "for date in dates:\n",
    "    print(f\"{date} ({date.strftime('%A')})\")\n",
    "\n",
    "# Create a date range with business month end frequency\n",
    "dates = pd.date_range(start='2023-01-31', periods=5, freq='BM')  # Business month end\n",
    "print(f\"\\nDate range with business month end frequency:\")\n",
    "for date in dates:\n",
    "    print(f\"{date} ({date.strftime('%A')})\")"
   ]
  },
  {
   "cell_type": "markdown",
   "metadata": {},
   "source": [
    "##### 5. Combining Different DateOffset Classes\n",
    "\n",
    "You can combine different DateOffset classes to create complex date operations."
   ]
  },
  {
   "cell_type": "code",
   "execution_count": null,
   "metadata": {},
   "outputs": [],
   "source": [
    "# Combine MonthEnd and BusinessDay\n",
    "month_end_plus_day = MonthEnd() + BusinessDay()\n",
    "print(f\"MonthEnd + BusinessDay: {month_end_plus_day}\")\n",
    "\n",
    "# Apply to a datetime\n",
    "dt = datetime(2023, 1, 15)\n",
    "print(f\"Original datetime: {dt}\")\n",
    "print(f\"After applying combined offset: {dt + month_end_plus_day}\")\n",
    "\n",
    "# Combine multiple offsets\n",
    "complex_offset = MonthBegin() + BusinessDay(n=2) + BusinessHour(n=3)\n",
    "print(f\"\\nComplex offset: {complex_offset}\")\n",
    "print(f\"After applying complex offset: {dt + complex_offset}\")"
   ]
  },
  {
   "cell_type": "markdown",
   "metadata": {},
   "source": [
    "### Using Combined Offsets with date_range"
   ]
  },
  {
   "cell_type": "code",
   "execution_count": null,
   "metadata": {},
   "outputs": [],
   "source": [
    "# Create a date range with a combined offset\n",
    "combined_offset = MonthBegin() + BusinessDay()\n",
    "dates = pd.date_range(start='2023-01-01', periods=5, freq=combined_offset)\n",
    "print(f\"Date range with combined offset:\")\n",
    "for date in dates:\n",
    "    print(f\"{date} ({date.strftime('%A')})\")"
   ]
  }
 ],
 "metadata": {
  "kernelspec": {
   "display_name": "Python 3",
   "language": "python",
   "name": "python3"
  },
  "language_info": {
   "codemirror_mode": {
    "name": "ipython",
    "version": 3
   },
   "file_extension": ".py",
   "mimetype": "text/x-python",
   "name": "python",
   "nbconvert_exporter": "python",
   "pygments_lexer": "ipython3",
   "version": "3.8.5"
  }
 },
 "nbformat": 4,
 "nbformat_minor": 4
}