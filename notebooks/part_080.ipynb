{
 "cells": [
  {
   "cell_type": "markdown",
   "metadata": {},
   "source": [
    "#### Pandas Part 80: More DateOffset Classes\n",
    "\n",
    "This notebook explores additional DateOffset classes in pandas, including BusinessHour, MonthBegin, and BusinessMonthEnd."
   ]
  },
  {
   "cell_type": "code",
   "execution_count": 1,
   "metadata": {},
   "outputs": [],
   "source": [
    "import pandas as pd\n",
    "import numpy as np\n",
    "from datetime import datetime, time, timedelta\n",
    "from pandas.tseries.offsets import (\n",
    "    BusinessDay, BusinessHour, \n",
    "    MonthBegin, MonthEnd, \n",
    "    BusinessMonthBegin, BusinessMonthEnd\n",
    ")"
   ]
  },
  {
   "cell_type": "markdown",
   "metadata": {},
   "source": [
    "##### 1. More BusinessDay Methods\n",
    "\n",
    "Let's explore additional methods available on the BusinessDay class."
   ]
  },
  {
   "cell_type": "code",
   "execution_count": 3,
   "metadata": {},
   "outputs": [
    {
     "name": "stdout",
     "output_type": "stream",
     "text": [
      "BusinessDay: <2 * BusinessDays>\n",
      "Original datetime: 2023-01-01 00:00:00 (Sunday)\n",
      "After applying offset: 2023-01-03 00:00:00 (Tuesday)\n",
      "\n",
      "Is Sunday a business day? False\n",
      "Is Monday a business day? True\n"
     ]
    }
   ],
   "source": [
    "# Import BusinessDay if not already imported\n",
    "from pandas.tseries.offsets import BusinessDay\n",
    "from datetime import datetime\n",
    "\n",
    "# Create a BusinessDay offset\n",
    "bday = BusinessDay(n=2)\n",
    "print(f\"BusinessDay: {bday}\")\n",
    "\n",
    "# Apply to a datetime using addition\n",
    "dt = datetime(2023, 1, 1)  # Sunday\n",
    "print(f\"Original datetime: {dt} ({dt.strftime('%A')})\")\n",
    "print(f\"After applying offset: {dt + bday} ({(dt + bday).strftime('%A')})\")\n",
    "\n",
    "# Check if a date is on a business day\n",
    "print(f\"\\nIs Sunday a business day? {bday.is_on_offset(dt)}\")\n",
    "monday = datetime(2023, 1, 2)  # Monday\n",
    "print(f\"Is Monday a business day? {bday.is_on_offset(monday)}\")"
   ]
  },
  {
   "cell_type": "code",
   "execution_count": 5,
   "metadata": {},
   "outputs": [
    {
     "name": "stdout",
     "output_type": "stream",
     "text": [
      "Original dates: DatetimeIndex(['2023-01-01', '2023-01-02', '2023-01-03'], dtype='datetime64[ns]', freq=None)\n",
      "After applying offset: DatetimeIndex(['2023-01-03', '2023-01-04', '2023-01-05'], dtype='datetime64[ns]', freq=None)\n",
      "\n",
      "Original offset: <2 * BusinessDays>\n",
      "Copy of offset: <2 * BusinessDays>\n"
     ]
    }
   ],
   "source": [
    "# Apply to a DatetimeIndex using addition\n",
    "dates = pd.DatetimeIndex(['2023-01-01', '2023-01-02', '2023-01-03'])\n",
    "print(f\"Original dates: {dates}\")\n",
    "print(f\"After applying offset: {dates + bday}\")\n",
    "\n",
    "# Create a copy of the offset\n",
    "bday_copy = bday.copy()\n",
    "print(f\"\\nOriginal offset: {bday}\")\n",
    "print(f\"Copy of offset: {bday_copy}\")"
   ]
  },
  {
   "cell_type": "markdown",
   "metadata": {},
   "source": [
    "##### 2. BusinessHour\n",
    "\n",
    "BusinessHour is a DateOffset subclass representing business hours (typically 9:00 AM to 5:00 PM on business days)."
   ]
  },
  {
   "cell_type": "code",
   "execution_count": 6,
   "metadata": {},
   "outputs": [
    {
     "name": "stdout",
     "output_type": "stream",
     "text": [
      "BusinessHour: <BusinessHour: bh=09:00-17:00>\n",
      "Original datetime: 2023-01-02 10:00:00 (Monday 10:00)\n",
      "After adding 1 business hour: 2023-01-02 11:00:00 (Monday 11:00)\n",
      "\n",
      "Original datetime: 2023-01-02 17:00:00 (Monday 17:00)\n",
      "After adding 1 business hour: 2023-01-03 10:00:00 (Tuesday 10:00)\n",
      "\n",
      "Original datetime: 2023-01-01 12:00:00 (Sunday 12:00)\n",
      "After adding 1 business hour: 2023-01-02 10:00:00 (Monday 10:00)\n"
     ]
    }
   ],
   "source": [
    "# Create a BusinessHour offset\n",
    "bhour = BusinessHour()\n",
    "print(f\"BusinessHour: {bhour}\")\n",
    "\n",
    "# Apply to a datetime during business hours\n",
    "dt = datetime(2023, 1, 2, 10, 0)  # Monday, 10:00 AM\n",
    "print(f\"Original datetime: {dt} ({dt.strftime('%A %H:%M')})\")\n",
    "print(f\"After adding 1 business hour: {dt + bhour} ({(dt + bhour).strftime('%A %H:%M')})\")\n",
    "\n",
    "# Apply to a datetime outside business hours\n",
    "dt = datetime(2023, 1, 2, 17, 0)  # Monday, 5:00 PM (end of business hours)\n",
    "print(f\"\\nOriginal datetime: {dt} ({dt.strftime('%A %H:%M')})\")\n",
    "print(f\"After adding 1 business hour: {dt + bhour} ({(dt + bhour).strftime('%A %H:%M')})\")\n",
    "\n",
    "# Apply to a datetime on a weekend\n",
    "dt = datetime(2023, 1, 1, 12, 0)  # Sunday, 12:00 PM\n",
    "print(f\"\\nOriginal datetime: {dt} ({dt.strftime('%A %H:%M')})\")\n",
    "print(f\"After adding 1 business hour: {dt + bhour} ({(dt + bhour).strftime('%A %H:%M')})\")"
   ]
  },
  {
   "cell_type": "markdown",
   "metadata": {},
   "source": [
    "### Custom Business Hours"
   ]
  },
  {
   "cell_type": "code",
   "execution_count": 7,
   "metadata": {},
   "outputs": [
    {
     "name": "stdout",
     "output_type": "stream",
     "text": [
      "Custom BusinessHour: <BusinessHour: bh=08:00-16:00>\n",
      "Original datetime: 2023-01-02 09:00:00 (Monday 09:00)\n",
      "After adding 1 custom business hour: 2023-01-02 10:00:00 (Monday 10:00)\n",
      "\n",
      "Original datetime: 2023-01-02 16:00:00 (Monday 16:00)\n",
      "After adding 1 custom business hour: 2023-01-03 09:00:00 (Tuesday 09:00)\n"
     ]
    }
   ],
   "source": [
    "# Create a BusinessHour with custom hours (8:00 AM to 4:00 PM)\n",
    "custom_bhour = BusinessHour(start='8:00', end='16:00')\n",
    "print(f\"Custom BusinessHour: {custom_bhour}\")\n",
    "\n",
    "# Apply to a datetime during custom business hours\n",
    "dt = datetime(2023, 1, 2, 9, 0)  # Monday, 9:00 AM\n",
    "print(f\"Original datetime: {dt} ({dt.strftime('%A %H:%M')})\")\n",
    "print(f\"After adding 1 custom business hour: {dt + custom_bhour} ({(dt + custom_bhour).strftime('%A %H:%M')})\")\n",
    "\n",
    "# Apply to a datetime outside custom business hours\n",
    "dt = datetime(2023, 1, 2, 16, 0)  # Monday, 4:00 PM (end of custom business hours)\n",
    "print(f\"\\nOriginal datetime: {dt} ({dt.strftime('%A %H:%M')})\")\n",
    "print(f\"After adding 1 custom business hour: {dt + custom_bhour} ({(dt + custom_bhour).strftime('%A %H:%M')})\")"
   ]
  },
  {
   "cell_type": "markdown",
   "metadata": {},
   "source": [
    "### BusinessHour Properties"
   ]
  },
  {
   "cell_type": "code",
   "execution_count": 8,
   "metadata": {},
   "outputs": [
    {
     "name": "stdout",
     "output_type": "stream",
     "text": [
      "BusinessHour: <2 * BusinessHours: bh=09:00-17:00>\n",
      "Base: <BusinessHour: bh=09:00-17:00>\n",
      "Next business day offset: <BusinessDay>\n",
      "Frequency string: 2bh\n",
      "Name: bh\n"
     ]
    }
   ],
   "source": [
    "# Create a BusinessHour offset\n",
    "bhour = BusinessHour(n=2)\n",
    "print(f\"BusinessHour: {bhour}\")\n",
    "\n",
    "# Get the base (n=1)\n",
    "base = bhour.base\n",
    "print(f\"Base: {base}\")\n",
    "\n",
    "# Get the next business day offset\n",
    "next_bday = bhour.next_bday\n",
    "print(f\"Next business day offset: {next_bday}\")\n",
    "\n",
    "# Get frequency string\n",
    "print(f\"Frequency string: {bhour.freqstr}\")\n",
    "\n",
    "# Get name\n",
    "print(f\"Name: {bhour.name}\")"
   ]
  },
  {
   "cell_type": "markdown",
   "metadata": {},
   "source": [
    "### Using BusinessHour with date_range"
   ]
  },
  {
   "cell_type": "code",
   "execution_count": 9,
   "metadata": {},
   "outputs": [
    {
     "name": "stdout",
     "output_type": "stream",
     "text": [
      "Date range with business hour frequency:\n",
      "2023-01-02 09:00:00 (Monday 09:00)\n",
      "2023-01-02 10:00:00 (Monday 10:00)\n",
      "2023-01-02 11:00:00 (Monday 11:00)\n",
      "2023-01-02 12:00:00 (Monday 12:00)\n",
      "2023-01-02 13:00:00 (Monday 13:00)\n",
      "2023-01-02 14:00:00 (Monday 14:00)\n",
      "2023-01-02 15:00:00 (Monday 15:00)\n",
      "2023-01-02 16:00:00 (Monday 16:00)\n",
      "\n",
      "Date range with custom business hour frequency:\n",
      "2023-01-02 08:00:00 (Monday 08:00)\n",
      "2023-01-02 09:00:00 (Monday 09:00)\n",
      "2023-01-02 10:00:00 (Monday 10:00)\n",
      "2023-01-02 11:00:00 (Monday 11:00)\n",
      "2023-01-02 12:00:00 (Monday 12:00)\n",
      "2023-01-02 13:00:00 (Monday 13:00)\n",
      "2023-01-02 14:00:00 (Monday 14:00)\n",
      "2023-01-02 15:00:00 (Monday 15:00)\n"
     ]
    },
    {
     "name": "stderr",
     "output_type": "stream",
     "text": [
      "/var/folders/7y/fzwln1_93mn3js3wyk61_6xm0000gn/T/ipykernel_90687/4023854412.py:2: FutureWarning: 'BH' is deprecated and will be removed in a future version, please use 'bh' instead.\n",
      "  dates = pd.date_range(start='2023-01-02 9:00', periods=8, freq='BH')\n"
     ]
    }
   ],
   "source": [
    "# Create a date range with business hour frequency\n",
    "dates = pd.date_range(start='2023-01-02 9:00', periods=8, freq='BH')\n",
    "print(f\"Date range with business hour frequency:\")\n",
    "for date in dates:\n",
    "    print(f\"{date} ({date.strftime('%A %H:%M')})\")\n",
    "\n",
    "# Create a date range with custom business hour frequency\n",
    "custom_bhour = BusinessHour(start='8:00', end='16:00')\n",
    "dates = pd.date_range(start='2023-01-02 8:00', periods=8, freq=custom_bhour)\n",
    "print(f\"\\nDate range with custom business hour frequency:\")\n",
    "for date in dates:\n",
    "    print(f\"{date} ({date.strftime('%A %H:%M')})\")"
   ]
  },
  {
   "cell_type": "markdown",
   "metadata": {},
   "source": [
    "##### 3. MonthBegin and MonthEnd\n",
    "\n",
    "MonthBegin and MonthEnd are DateOffset subclasses representing the beginning and end of a month, respectively."
   ]
  },
  {
   "cell_type": "code",
   "execution_count": 10,
   "metadata": {},
   "outputs": [
    {
     "name": "stdout",
     "output_type": "stream",
     "text": [
      "MonthBegin: <MonthBegin>\n",
      "MonthEnd: <MonthEnd>\n",
      "\n",
      "Original datetime: 2023-01-15 00:00:00\n",
      "After adding MonthBegin: 2023-02-01 00:00:00\n",
      "After adding MonthEnd: 2023-01-31 00:00:00\n",
      "\n",
      "Original datetime (beginning of month): 2023-01-01 00:00:00\n",
      "After adding MonthBegin: 2023-02-01 00:00:00\n",
      "After adding MonthEnd: 2023-01-31 00:00:00\n",
      "\n",
      "Original datetime (end of month): 2023-01-31 00:00:00\n",
      "After adding MonthBegin: 2023-02-01 00:00:00\n",
      "After adding MonthEnd: 2023-02-28 00:00:00\n"
     ]
    }
   ],
   "source": [
    "# Create MonthBegin and MonthEnd offsets\n",
    "month_begin = MonthBegin()\n",
    "month_end = MonthEnd()\n",
    "print(f\"MonthBegin: {month_begin}\")\n",
    "print(f\"MonthEnd: {month_end}\")\n",
    "\n",
    "# Apply to a datetime\n",
    "dt = datetime(2023, 1, 15)  # Middle of the month\n",
    "print(f\"\\nOriginal datetime: {dt}\")\n",
    "print(f\"After adding MonthBegin: {dt + month_begin}\")\n",
    "print(f\"After adding MonthEnd: {dt + month_end}\")\n",
    "\n",
    "# Apply to the beginning of a month\n",
    "dt = datetime(2023, 1, 1)  # Beginning of the month\n",
    "print(f\"\\nOriginal datetime (beginning of month): {dt}\")\n",
    "print(f\"After adding MonthBegin: {dt + month_begin}\")\n",
    "print(f\"After adding MonthEnd: {dt + month_end}\")\n",
    "\n",
    "# Apply to the end of a month\n",
    "dt = datetime(2023, 1, 31)  # End of the month\n",
    "print(f\"\\nOriginal datetime (end of month): {dt}\")\n",
    "print(f\"After adding MonthBegin: {dt + month_begin}\")\n",
    "print(f\"After adding MonthEnd: {dt + month_end}\")"
   ]
  },
  {
   "cell_type": "markdown",
   "metadata": {},
   "source": [
    "### MonthBegin Methods"
   ]
  },
  {
   "cell_type": "code",
   "execution_count": 13,
   "metadata": {},
   "outputs": [
    {
     "name": "stdout",
     "output_type": "stream",
     "text": [
      "MonthBegin: <2 * MonthBegins>\n",
      "Original datetime: 2023-01-15 00:00:00\n",
      "After applying offset: 2023-03-01 00:00:00\n",
      "\n",
      "Is January 15 the beginning of a month? False\n",
      "Is January 1 the beginning of a month? True\n"
     ]
    }
   ],
   "source": [
    "# Import MonthBegin if not already imported\n",
    "from pandas.tseries.offsets import MonthBegin\n",
    "from datetime import datetime\n",
    "\n",
    "# Create a MonthBegin offset\n",
    "month_begin = MonthBegin(n=2)\n",
    "print(f\"MonthBegin: {month_begin}\")\n",
    "\n",
    "# Apply to a datetime using addition\n",
    "dt = datetime(2023, 1, 15)\n",
    "print(f\"Original datetime: {dt}\")\n",
    "print(f\"After applying offset: {dt + month_begin}\")\n",
    "\n",
    "# Check if a date is on the beginning of a month\n",
    "print(f\"\\nIs January 15 the beginning of a month? {month_begin.is_on_offset(dt)}\")\n",
    "first_day = datetime(2023, 1, 1)\n",
    "print(f\"Is January 1 the beginning of a month? {month_begin.is_on_offset(first_day)}\")"
   ]
  },
  {
   "cell_type": "code",
   "execution_count": 15,
   "metadata": {},
   "outputs": [
    {
     "name": "stdout",
     "output_type": "stream",
     "text": [
      "Original dates: DatetimeIndex(['2023-01-15', '2023-02-01', '2023-03-10'], dtype='datetime64[ns]', freq=None)\n",
      "After applying offset: DatetimeIndex(['2023-03-01', '2023-04-01', '2023-05-01'], dtype='datetime64[ns]', freq=None)\n",
      "\n",
      "Is MonthBegin anchored? <bound method BaseOffset.is_anchored of <2 * MonthBegins>>\n"
     ]
    }
   ],
   "source": [
    "# Apply to a DatetimeIndex using addition\n",
    "dates = pd.DatetimeIndex(['2023-01-15', '2023-02-01', '2023-03-10'])\n",
    "print(f\"Original dates: {dates}\")\n",
    "print(f\"After applying offset: {dates + month_begin}\")\n",
    "\n",
    "# Check if the offset is anchored\n",
    "# Try different approaches for checking if anchored\n",
    "try:\n",
    "    # Try the property first (newer versions)\n",
    "    print(f\"\\nIs MonthBegin anchored? {month_begin.is_anchored}\")\n",
    "except AttributeError:\n",
    "    try:\n",
    "        # Try the method (older versions)\n",
    "        print(f\"\\nIs MonthBegin anchored? {month_begin.is_anchored()}\")\n",
    "    except AttributeError:\n",
    "        print(\"\\nCannot determine if offset is anchored - method not available\")"
   ]
  },
  {
   "cell_type": "markdown",
   "metadata": {},
   "source": [
    "### Using MonthBegin and MonthEnd with date_range"
   ]
  },
  {
   "cell_type": "code",
   "execution_count": 16,
   "metadata": {},
   "outputs": [
    {
     "name": "stdout",
     "output_type": "stream",
     "text": [
      "Date range with month start frequency:\n",
      "2023-01-01 00:00:00\n",
      "2023-02-01 00:00:00\n",
      "2023-03-01 00:00:00\n",
      "2023-04-01 00:00:00\n",
      "2023-05-01 00:00:00\n",
      "\n",
      "Date range with month end frequency:\n",
      "2023-01-31 00:00:00\n",
      "2023-02-28 00:00:00\n",
      "2023-03-31 00:00:00\n",
      "2023-04-30 00:00:00\n",
      "2023-05-31 00:00:00\n"
     ]
    },
    {
     "name": "stderr",
     "output_type": "stream",
     "text": [
      "/var/folders/7y/fzwln1_93mn3js3wyk61_6xm0000gn/T/ipykernel_90687/518892569.py:8: FutureWarning: 'M' is deprecated and will be removed in a future version, please use 'ME' instead.\n",
      "  dates = pd.date_range(start='2023-01-31', periods=5, freq='M')  # Month end\n"
     ]
    }
   ],
   "source": [
    "# Create a date range with month begin frequency\n",
    "dates = pd.date_range(start='2023-01-01', periods=5, freq='MS')  # Month start\n",
    "print(f\"Date range with month start frequency:\")\n",
    "for date in dates:\n",
    "    print(f\"{date}\")\n",
    "\n",
    "# Create a date range with month end frequency\n",
    "dates = pd.date_range(start='2023-01-31', periods=5, freq='M')  # Month end\n",
    "print(f\"\\nDate range with month end frequency:\")\n",
    "for date in dates:\n",
    "    print(f\"{date}\")"
   ]
  },
  {
   "cell_type": "markdown",
   "metadata": {},
   "source": [
    "##### 4. BusinessMonthBegin and BusinessMonthEnd\n",
    "\n",
    "BusinessMonthBegin and BusinessMonthEnd are DateOffset subclasses representing the first and last business day of a month, respectively."
   ]
  },
  {
   "cell_type": "code",
   "execution_count": 17,
   "metadata": {},
   "outputs": [
    {
     "name": "stdout",
     "output_type": "stream",
     "text": [
      "BusinessMonthBegin: <BusinessMonthBegin>\n",
      "BusinessMonthEnd: <BusinessMonthEnd>\n",
      "\n",
      "Original datetime: 2023-01-15 00:00:00\n",
      "After adding BusinessMonthBegin: 2023-02-01 00:00:00\n",
      "After adding BusinessMonthEnd: 2023-01-31 00:00:00\n"
     ]
    }
   ],
   "source": [
    "# Create BusinessMonthBegin and BusinessMonthEnd offsets\n",
    "bmonth_begin = BusinessMonthBegin()\n",
    "bmonth_end = BusinessMonthEnd()\n",
    "print(f\"BusinessMonthBegin: {bmonth_begin}\")\n",
    "print(f\"BusinessMonthEnd: {bmonth_end}\")\n",
    "\n",
    "# Apply to a datetime\n",
    "dt = datetime(2023, 1, 15)  # Middle of the month\n",
    "print(f\"\\nOriginal datetime: {dt}\")\n",
    "print(f\"After adding BusinessMonthBegin: {dt + bmonth_begin}\")\n",
    "print(f\"After adding BusinessMonthEnd: {dt + bmonth_end}\")"
   ]
  },
  {
   "cell_type": "code",
   "execution_count": 18,
   "metadata": {},
   "outputs": [
    {
     "name": "stdout",
     "output_type": "stream",
     "text": [
      "Original datetime: 2023-01-01 00:00:00 (Sunday)\n",
      "After adding BusinessMonthBegin: 2023-01-02 00:00:00 (Monday)\n",
      "\n",
      "Original datetime: 2023-12-31 00:00:00 (Sunday)\n",
      "After adding BusinessMonthEnd: 2024-01-31 00:00:00 (Wednesday)\n"
     ]
    }
   ],
   "source": [
    "# Handle cases where the first/last day of the month is a weekend\n",
    "# January 1, 2023 is a Sunday\n",
    "dt = datetime(2023, 1, 1)\n",
    "print(f\"Original datetime: {dt} ({dt.strftime('%A')})\")\n",
    "print(f\"After adding BusinessMonthBegin: {dt + bmonth_begin} ({(dt + bmonth_begin).strftime('%A')})\")\n",
    "\n",
    "# December 31, 2023 is a Sunday\n",
    "dt = datetime(2023, 12, 31)\n",
    "print(f\"\\nOriginal datetime: {dt} ({dt.strftime('%A')})\")\n",
    "print(f\"After adding BusinessMonthEnd: {dt + bmonth_end} ({(dt + bmonth_end).strftime('%A')})\")"
   ]
  },
  {
   "cell_type": "markdown",
   "metadata": {},
   "source": [
    "### Using BusinessMonthBegin and BusinessMonthEnd with date_range"
   ]
  },
  {
   "cell_type": "code",
   "execution_count": 19,
   "metadata": {},
   "outputs": [
    {
     "name": "stdout",
     "output_type": "stream",
     "text": [
      "Date range with business month start frequency:\n",
      "2023-01-02 00:00:00 (Monday)\n",
      "2023-02-01 00:00:00 (Wednesday)\n",
      "2023-03-01 00:00:00 (Wednesday)\n",
      "2023-04-03 00:00:00 (Monday)\n",
      "2023-05-01 00:00:00 (Monday)\n",
      "\n",
      "Date range with business month end frequency:\n",
      "2023-01-31 00:00:00 (Tuesday)\n",
      "2023-02-28 00:00:00 (Tuesday)\n",
      "2023-03-31 00:00:00 (Friday)\n",
      "2023-04-28 00:00:00 (Friday)\n",
      "2023-05-31 00:00:00 (Wednesday)\n"
     ]
    },
    {
     "name": "stderr",
     "output_type": "stream",
     "text": [
      "/var/folders/7y/fzwln1_93mn3js3wyk61_6xm0000gn/T/ipykernel_90687/2706031698.py:8: FutureWarning: 'BM' is deprecated and will be removed in a future version, please use 'BME' instead.\n",
      "  dates = pd.date_range(start='2023-01-31', periods=5, freq='BM')  # Business month end\n"
     ]
    }
   ],
   "source": [
    "# Create a date range with business month begin frequency\n",
    "dates = pd.date_range(start='2023-01-01', periods=5, freq='BMS')  # Business month start\n",
    "print(f\"Date range with business month start frequency:\")\n",
    "for date in dates:\n",
    "    print(f\"{date} ({date.strftime('%A')})\")\n",
    "\n",
    "# Create a date range with business month end frequency\n",
    "dates = pd.date_range(start='2023-01-31', periods=5, freq='BM')  # Business month end\n",
    "print(f\"\\nDate range with business month end frequency:\")\n",
    "for date in dates:\n",
    "    print(f\"{date} ({date.strftime('%A')})\")"
   ]
  },
  {
   "cell_type": "markdown",
   "metadata": {},
   "source": [
    "##### 5. Combining Different DateOffset Classes\n",
    "\n",
    "You can combine different DateOffset classes to create complex date operations."
   ]
  },
  {
   "cell_type": "code",
   "execution_count": 21,
   "metadata": {},
   "outputs": [
    {
     "name": "stdout",
     "output_type": "stream",
     "text": [
      "Original datetime: 2023-01-15 00:00:00\n",
      "After applying MonthEnd then BusinessDay: 2023-02-01 00:00:00\n",
      "\n",
      "After applying complex sequence: 2023-02-03 12:00:00\n",
      "\n",
      "Combined DateOffset: <DateOffset: days=1, months=1>\n",
      "After applying combined DateOffset: 2023-02-16 00:00:00\n"
     ]
    }
   ],
   "source": [
    "# Import necessary offsets if not already imported\n",
    "from pandas.tseries.offsets import MonthEnd, MonthBegin, BusinessDay, BusinessHour\n",
    "from datetime import datetime\n",
    "\n",
    "# Create individual offsets\n",
    "month_end = MonthEnd()\n",
    "business_day = BusinessDay()\n",
    "month_begin = MonthBegin()\n",
    "business_hour = BusinessHour(n=3)\n",
    "\n",
    "# Apply offsets sequentially\n",
    "dt = datetime(2023, 1, 15)\n",
    "print(f\"Original datetime: {dt}\")\n",
    "\n",
    "# Apply MonthEnd followed by BusinessDay\n",
    "result = dt + month_end\n",
    "result = result + business_day\n",
    "print(f\"After applying MonthEnd then BusinessDay: {result}\")\n",
    "\n",
    "# Apply multiple offsets sequentially\n",
    "complex_result = dt + month_begin\n",
    "complex_result = complex_result + BusinessDay(n=2)\n",
    "complex_result = complex_result + business_hour\n",
    "print(f\"\\nAfter applying complex sequence: {complex_result}\")\n",
    "\n",
    "# Alternative: use pd.DateOffset for more flexibility\n",
    "from pandas import DateOffset\n",
    "\n",
    "# Create a combined offset using DateOffset\n",
    "combined_offset = DateOffset(months=1, days=1, normalize=True)\n",
    "print(f\"\\nCombined DateOffset: {combined_offset}\")\n",
    "print(f\"After applying combined DateOffset: {dt + combined_offset}\")"
   ]
  },
  {
   "cell_type": "markdown",
   "metadata": {},
   "source": [
    "### Using Combined Offsets with date_range"
   ]
  },
  {
   "cell_type": "code",
   "execution_count": 24,
   "metadata": {},
   "outputs": [
    {
     "name": "stdout",
     "output_type": "stream",
     "text": [
      "Date range with sequentially applied offsets:\n",
      "2023-01-01 00:00:00 (Sunday)\n",
      "2023-02-02 00:00:00 (Thursday)\n",
      "2023-03-02 00:00:00 (Thursday)\n",
      "2023-04-03 00:00:00 (Monday)\n",
      "2023-05-02 00:00:00 (Tuesday)\n",
      "\n",
      "Date range with months DateOffset:\n",
      "2023-01-01 00:00:00 (Sunday)\n",
      "2023-02-01 00:00:00 (Wednesday)\n",
      "2023-03-01 00:00:00 (Wednesday)\n",
      "2023-04-01 00:00:00 (Saturday)\n",
      "2023-05-01 00:00:00 (Monday)\n",
      "\n",
      "Date range with days DateOffset:\n",
      "2023-01-01 00:00:00 (Sunday)\n",
      "2023-01-31 00:00:00 (Tuesday)\n",
      "2023-03-02 00:00:00 (Thursday)\n",
      "2023-04-01 00:00:00 (Saturday)\n",
      "2023-05-01 00:00:00 (Monday)\n"
     ]
    }
   ],
   "source": [
    "# Import necessary offsets if not already imported\n",
    "from pandas.tseries.offsets import MonthBegin, BusinessDay\n",
    "import pandas as pd\n",
    "from datetime import datetime\n",
    "\n",
    "# Approach 1: Create a custom date range by applying offsets sequentially\n",
    "start_date = datetime(2023, 1, 1)\n",
    "dates = []\n",
    "\n",
    "for i in range(5):\n",
    "    if i == 0:\n",
    "        current_date = start_date\n",
    "    else:\n",
    "        # Apply MonthBegin first, then BusinessDay\n",
    "        current_date = current_date + MonthBegin()\n",
    "        current_date = current_date + BusinessDay()\n",
    "    dates.append(current_date)\n",
    "\n",
    "# Convert to DatetimeIndex\n",
    "dt_idx = pd.DatetimeIndex(dates)\n",
    "print(f\"Date range with sequentially applied offsets:\")\n",
    "for date in dt_idx:\n",
    "    print(f\"{date} ({date.strftime('%A')})\")\n",
    "\n",
    "# Approach 2: Use simpler DateOffset parameters\n",
    "from pandas import DateOffset\n",
    "\n",
    "# Create a date range with DateOffset (months only)\n",
    "custom_offset = DateOffset(months=1)\n",
    "dates2 = pd.date_range(start='2023-01-01', periods=5, freq=custom_offset)\n",
    "print(f\"\\nDate range with months DateOffset:\")\n",
    "for date in dates2:\n",
    "    print(f\"{date} ({date.strftime('%A')})\")\n",
    "\n",
    "# Create a date range with a different DateOffset combination\n",
    "custom_offset2 = DateOffset(days=30)\n",
    "dates3 = pd.date_range(start='2023-01-01', periods=5, freq=custom_offset2)\n",
    "print(f\"\\nDate range with days DateOffset:\")\n",
    "for date in dates3:\n",
    "    print(f\"{date} ({date.strftime('%A')})\")"
   ]
  },
  {
   "cell_type": "code",
   "execution_count": null,
   "metadata": {},
   "outputs": [],
   "source": []
  }
 ],
 "metadata": {
  "kernelspec": {
   "display_name": "venv",
   "language": "python",
   "name": "python3"
  },
  "language_info": {
   "codemirror_mode": {
    "name": "ipython",
    "version": 3
   },
   "file_extension": ".py",
   "mimetype": "text/x-python",
   "name": "python",
   "nbconvert_exporter": "python",
   "pygments_lexer": "ipython3",
   "version": "3.13.2"
  }
 },
 "nbformat": 4,
 "nbformat_minor": 4
}
