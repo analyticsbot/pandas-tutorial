{
 "cells": [
  {
   "cell_type": "markdown",
   "metadata": {},
   "source": [
    "# Pandas Part 73: Interval Methods and String Data Types\n",
    "\n",
    "This notebook explores more details about the Interval class methods and introduces pandas string data types."
   ]
  },
  {
   "cell_type": "code",
   "execution_count": null,
   "metadata": {},
   "outputs": [],
   "source": [
    "import pandas as pd\n",
    "import numpy as np"
   ]
  },
  {
   "cell_type": "markdown",
   "metadata": {},
   "source": [
    "## 1. More on Intervals\n",
    "\n",
    "Let's explore more features of the Interval class."
   ]
  },
  {
   "cell_type": "markdown",
   "metadata": {},
   "source": [
    "### Empty Intervals\n",
    "\n",
    "An interval is considered empty if it doesn't contain any points."
   ]
  },
  {
   "cell_type": "code",
   "execution_count": null,
   "metadata": {},
   "outputs": [],
   "source": [
    "# An interval that contains points is not empty\n",
    "iv1 = pd.Interval(0, 1, closed='right')\n",
    "print(f\"Interval: {iv1}, is_empty: {iv1.is_empty}\")\n",
    "\n",
    "# Intervals with the same start and end point are empty unless closed on both sides\n",
    "iv2 = pd.Interval(0, 0, closed='right')\n",
    "print(f\"Interval: {iv2}, is_empty: {iv2.is_empty}\")\n",
    "\n",
    "iv3 = pd.Interval(0, 0, closed='left')\n",
    "print(f\"Interval: {iv3}, is_empty: {iv3.is_empty}\")\n",
    "\n",
    "iv4 = pd.Interval(0, 0, closed='neither')\n",
    "print(f\"Interval: {iv4}, is_empty: {iv4.is_empty}\")\n",
    "\n",
    "# An interval that contains a single point is not empty\n",
    "iv5 = pd.Interval(0, 0, closed='both')\n",
    "print(f\"Interval: {iv5}, is_empty: {iv5.is_empty}\")"
   ]
  },
  {
   "cell_type": "markdown",
   "metadata": {},
   "source": [
    "### IntervalArray and IntervalIndex with Empty Intervals"
   ]
  },
  {
   "cell_type": "code",
   "execution_count": null,
   "metadata": {},
   "outputs": [],
   "source": [
    "# Create an IntervalArray with empty and non-empty intervals\n",
    "ivs = [pd.Interval(0, 0, closed='neither'), pd.Interval(1, 2, closed='neither')]\n",
    "iv_array = pd.arrays.IntervalArray(ivs)\n",
    "print(f\"IntervalArray: {iv_array}\")\n",
    "print(f\"is_empty: {iv_array.is_empty}\")"
   ]
  },
  {
   "cell_type": "code",
   "execution_count": null,
   "metadata": {},
   "outputs": [],
   "source": [
    "# Create an IntervalIndex with empty intervals and NaN\n",
    "ivs = [pd.Interval(0, 0, closed='neither'), np.nan]\n",
    "iv_index = pd.IntervalIndex(ivs)\n",
    "print(f\"IntervalIndex: {iv_index}\")\n",
    "print(f\"is_empty: {iv_index.is_empty}\")"
   ]
  },
  {
   "cell_type": "markdown",
   "metadata": {},
   "source": [
    "### Overlapping Intervals\n",
    "\n",
    "The `overlaps` method checks whether two Interval objects overlap."
   ]
  },
  {
   "cell_type": "code",
   "execution_count": null,
   "metadata": {},
   "outputs": [],
   "source": [
    "# Create intervals to check for overlap\n",
    "i1 = pd.Interval(0, 2)\n",
    "i2 = pd.Interval(1, 3)\n",
    "i3 = pd.Interval(4, 5)\n",
    "\n",
    "# Check if intervals overlap\n",
    "print(f\"i1: {i1}, i2: {i2}, overlaps: {i1.overlaps(i2)}\")\n",
    "print(f\"i1: {i1}, i3: {i3}, overlaps: {i1.overlaps(i3)}\")"
   ]
  },
  {
   "cell_type": "code",
   "execution_count": null,
   "metadata": {},
   "outputs": [],
   "source": [
    "# Intervals that share closed endpoints overlap\n",
    "i4 = pd.Interval(0, 1, closed='both')\n",
    "i5 = pd.Interval(1, 2, closed='both')\n",
    "print(f\"i4: {i4}, i5: {i5}, overlaps: {i4.overlaps(i5)}\")\n",
    "\n",
    "# Intervals that only share an open endpoint do not overlap\n",
    "i6 = pd.Interval(0, 1, closed='left')\n",
    "i7 = pd.Interval(1, 2, closed='right')\n",
    "print(f\"i6: {i6}, i7: {i7}, overlaps: {i6.overlaps(i7)}\")"
   ]
  },
  {
   "cell_type": "markdown",
   "metadata": {},
   "source": [
    "## 2. String Data Types in Pandas\n",
    "\n",
    "Pandas provides specialized data types for working with text data. The recommended type is `StringDtype` (with the alias \"string\")."
   ]
  },
  {
   "cell_type": "markdown",
   "metadata": {},
   "source": [
    "### Creating StringArray\n",
    "\n",
    "The `StringArray` is an extension array for string data."
   ]
  },
  {
   "cell_type": "code",
   "execution_count": null,
   "metadata": {},
   "outputs": [],
   "source": [
    "# Create a StringArray using pd.array with dtype=\"string\"\n",
    "string_array = pd.array(['This is', 'some text', None, 'data.'], dtype=\"string\")\n",
    "print(f\"StringArray: {string_array}\")\n",
    "print(f\"Type: {type(string_array)}\")\n",
    "print(f\"Dtype: {string_array.dtype}\")"
   ]
  },
  {
   "cell_type": "markdown",
   "metadata": {},
   "source": [
    "### StringArray vs Object Dtype\n",
    "\n",
    "Unlike object dtype arrays, StringArray doesn't allow non-string values."
   ]
  },
  {
   "cell_type": "code",
   "execution_count": null,
   "metadata": {},
   "outputs": [],
   "source": [
    "# Create an object dtype array with mixed types\n",
    "obj_array = np.array(['1', 1, 2.5, None], dtype=object)\n",
    "print(f\"Object array: {obj_array}\")\n",
    "print(f\"Dtype: {obj_array.dtype}\")"
   ]
  },
  {
   "cell_type": "code",
   "execution_count": null,
   "metadata": {},
   "outputs": [],
   "source": [
    "# Try to create a StringArray with mixed types (this will raise an error)\n",
    "try:\n",
    "    pd.array(['1', 1], dtype=\"string\")\n",
    "except ValueError as e:\n",
    "    print(f\"Error: {e}\")"
   ]
  },
  {
   "cell_type": "markdown",
   "metadata": {},
   "source": [
    "### Comparison Operations with StringArray\n",
    "\n",
    "For comparison methods, StringArray returns a BooleanArray."
   ]
  },
  {
   "cell_type": "code",
   "execution_count": null,
   "metadata": {},
   "outputs": [],
   "source": [
    "# Create a StringArray\n",
    "str_arr = pd.array([\"a\", None, \"c\"], dtype=\"string\")\n",
    "print(f\"StringArray: {str_arr}\")\n",
    "\n",
    "# Compare with a string\n",
    "result = str_arr == \"a\"\n",
    "print(f\"Result of str_arr == 'a': {result}\")\n",
    "print(f\"Result type: {type(result)}\")\n",
    "print(f\"Result dtype: {result.dtype}\")"
   ]
  },
  {
   "cell_type": "markdown",
   "metadata": {},
   "source": [
    "### Creating Series with StringDtype"
   ]
  },
  {
   "cell_type": "code",
   "execution_count": null,
   "metadata": {},
   "outputs": [],
   "source": [
    "# Create a Series with StringDtype\n",
    "s = pd.Series(['This is', 'some text', None, 'data.'], dtype=\"string\")\n",
    "print(s)\n",
    "print(f\"Dtype: {s.dtype}\")"
   ]
  },
  {
   "cell_type": "markdown",
   "metadata": {},
   "source": [
    "### String Methods with StringDtype\n",
    "\n",
    "Series backed by a StringArray support the usual string methods."
   ]
  },
  {
   "cell_type": "code",
   "execution_count": null,
   "metadata": {},
   "outputs": [],
   "source": [
    "# Apply string methods\n",
    "print(\"Upper case:\")\n",
    "print(s.str.upper())\n",
    "\n",
    "print(\"\\nLength:\")\n",
    "print(s.str.len())\n",
    "\n",
    "print(\"\\nContains 'text':\")\n",
    "print(s.str.contains('text'))"
   ]
  },
  {
   "cell_type": "markdown",
   "metadata": {},
   "source": [
    "### Converting Between String Types"
   ]
  },
  {
   "cell_type": "code",
   "execution_count": null,
   "metadata": {},
   "outputs": [],
   "source": [
    "# Create a Series with object dtype containing strings\n",
    "s_obj = pd.Series(['This is', 'some text', None, 'data.'])\n",
    "print(\"Series with object dtype:\")\n",
    "print(s_obj)\n",
    "print(f\"Dtype: {s_obj.dtype}\")\n",
    "\n",
    "# Convert to StringDtype\n",
    "s_str = s_obj.astype(\"string\")\n",
    "print(\"\\nConverted to StringDtype:\")\n",
    "print(s_str)\n",
    "print(f\"Dtype: {s_str.dtype}\")\n",
    "\n",
    "# Convert back to object dtype\n",
    "s_obj_again = s_str.astype(\"object\")\n",
    "print(\"\\nConverted back to object dtype:\")\n",
    "print(s_obj_again)\n",
    "print(f\"Dtype: {s_obj_again.dtype}\")"
   ]
  },
  {
   "cell_type": "markdown",
   "metadata": {},
   "source": [
    "### Benefits of StringDtype\n",
    "\n",
    "1. Type safety: Only strings and missing values are allowed\n",
    "2. Better handling of missing values with pd.NA\n",
    "3. Potential for future optimizations"
   ]
  },
  {
   "cell_type": "code",
   "execution_count": null,
   "metadata": {},
   "outputs": [],
   "source": [
    "# Create a DataFrame with a string column\n",
    "df = pd.DataFrame({\n",
    "    'string_col': pd.Series(['a', 'b', None, 'd'], dtype='string'),\n",
    "    'object_col': pd.Series(['a', 'b', None, 'd']),\n",
    "})\n",
    "print(df)\n",
    "print(\"\\nDtypes:\")\n",
    "print(df.dtypes)"
   ]
  },
  {
   "cell_type": "code",
   "execution_count": null,
   "metadata": {},
   "outputs": [],
   "source": [
    "# Check null values\n",
    "print(\"isna() for string_col:\")\n",
    "print(df['string_col'].isna())\n",
    "\n",
    "print(\"\\nisna() for object_col:\")\n",
    "print(df['object_col'].isna())"
   ]
  },
  {
   "cell_type": "markdown",
   "metadata": {},
   "source": [
    "### SparseDtype\n",
    "\n",
    "The PDF also briefly mentions SparseDtype, which is used for data stored in SparseArray. This is useful for data with many repeated values."
   ]
  },
  {
   "cell_type": "code",
   "execution_count": null,
   "metadata": {},
   "outputs": [],
   "source": [
    "# Create a SparseArray\n",
    "sparse_array = pd.arrays.SparseArray([0, 0, 1, 0, 0, 2, 0, 0, 0])\n",
    "print(f\"SparseArray: {sparse_array}\")\n",
    "print(f\"Dtype: {sparse_array.dtype}\")\n",
    "\n",
    "# Create a SparseArray with a specified fill_value\n",
    "sparse_array_custom = pd.arrays.SparseArray([1, 1, 0, 1, 1, 0, 1, 1, 1], fill_value=1)\n",
    "print(f\"\\nSparseArray with fill_value=1: {sparse_array_custom}\")\n",
    "print(f\"Dtype: {sparse_array_custom.dtype}\")"
   ]
  },
  {
   "cell_type": "code",
   "execution_count": null,
   "metadata": {},
   "outputs": [],
   "source": [
    "# Create a Series with sparse values\n",
    "s_sparse = pd.Series([0, 0, 1, 0, 0, 2, 0, 0, 0], dtype=\"Sparse\")\n",
    "print(s_sparse)\n",
    "print(f\"Dtype: {s_sparse.dtype}\")\n",
    "\n",
    "# Memory usage comparison\n",
    "s_regular = pd.Series([0, 0, 1, 0, 0, 2, 0, 0, 0])\n",
    "print(f\"\\nMemory usage of sparse Series: {s_sparse.memory_usage()} bytes\")\n",
    "print(f\"Memory usage of regular Series: {s_regular.memory_usage()} bytes\")"
   ]
  }
 ],
 "metadata": {
  "kernelspec": {
   "display_name": "Python 3",
   "language": "python",
   "name": "python3"
  },
  "language_info": {
   "codemirror_mode": {
    "name": "ipython",
    "version": 3
   },
   "file_extension": ".py",
   "mimetype": "text/x-python",
   "name": "python",
   "nbconvert_exporter": "python",
   "pygments_lexer": "ipython3",
   "version": "3.8.5"
  }
 },
 "nbformat": 4,
 "nbformat_minor": 4
}
