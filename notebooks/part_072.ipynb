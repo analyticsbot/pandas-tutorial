{
 "cells": [
  {
   "cell_type": "markdown",
   "metadata": {},
   "source": [
    "#### Pandas Part 72: Timedelta Components and Intervals\n",
    "\n",
    "This notebook explores more details about the Timedelta class components and introduces the Interval class for representing ranges."
   ]
  },
  {
   "cell_type": "code",
   "execution_count": 1,
   "metadata": {},
   "outputs": [],
   "source": [
    "import pandas as pd\n",
    "import numpy as np"
   ]
  },
  {
   "cell_type": "markdown",
   "metadata": {},
   "source": [
    "##### 1. Timedelta Components\n",
    "\n",
    "The Timedelta class provides various attributes and methods to access its components."
   ]
  },
  {
   "cell_type": "code",
   "execution_count": 2,
   "metadata": {},
   "outputs": [
    {
     "name": "stdout",
     "output_type": "stream",
     "text": [
      "Timedelta: 1 days 00:02:00.000003042\n"
     ]
    }
   ],
   "source": [
    "# Create a Timedelta\n",
    "td = pd.Timedelta('1 days 2 min 3 us 42 ns')\n",
    "print(f\"Timedelta: {td}\")"
   ]
  },
  {
   "cell_type": "markdown",
   "metadata": {},
   "source": [
    "### Components Attribute\n",
    "\n",
    "The `components` attribute returns a namedtuple-like object with all the components of the Timedelta."
   ]
  },
  {
   "cell_type": "code",
   "execution_count": 3,
   "metadata": {},
   "outputs": [
    {
     "name": "stdout",
     "output_type": "stream",
     "text": [
      "Components: Components(days=1, hours=0, minutes=2, seconds=0, milliseconds=0, microseconds=3, nanoseconds=42)\n",
      "Days: 1\n",
      "Hours: 0\n",
      "Minutes: 2\n",
      "Seconds: 0\n",
      "Milliseconds: 0\n",
      "Microseconds: 3\n",
      "Nanoseconds: 42\n"
     ]
    }
   ],
   "source": [
    "# Get the components\n",
    "components = td.components\n",
    "print(f\"Components: {components}\")\n",
    "print(f\"Days: {components.days}\")\n",
    "print(f\"Hours: {components.hours}\")\n",
    "print(f\"Minutes: {components.minutes}\")\n",
    "print(f\"Seconds: {components.seconds}\")\n",
    "print(f\"Milliseconds: {components.milliseconds}\")\n",
    "print(f\"Microseconds: {components.microseconds}\")\n",
    "print(f\"Nanoseconds: {components.nanoseconds}\")"
   ]
  },
  {
   "cell_type": "markdown",
   "metadata": {},
   "source": [
    "### Individual Component Attributes\n",
    "\n",
    "Timedelta provides individual attributes for days, seconds, microseconds, and nanoseconds."
   ]
  },
  {
   "cell_type": "code",
   "execution_count": 4,
   "metadata": {},
   "outputs": [
    {
     "name": "stdout",
     "output_type": "stream",
     "text": [
      "Days: 1\n",
      "Seconds: 120\n",
      "Microseconds: 3\n",
      "Nanoseconds: 42\n"
     ]
    }
   ],
   "source": [
    "# Access individual components\n",
    "print(f\"Days: {td.days}\")\n",
    "print(f\"Seconds: {td.seconds}\")\n",
    "print(f\"Microseconds: {td.microseconds}\")\n",
    "print(f\"Nanoseconds: {td.nanoseconds}\")"
   ]
  },
  {
   "cell_type": "markdown",
   "metadata": {},
   "source": [
    "### Delta Attribute\n",
    "\n",
    "The `delta` attribute returns the Timedelta in nanoseconds."
   ]
  },
  {
   "cell_type": "code",
   "execution_count": 6,
   "metadata": {},
   "outputs": [
    {
     "name": "stdout",
     "output_type": "stream",
     "text": [
      "Nanoseconds value: 86520000003042\n",
      "Timedelta: 0 days 00:00:03, Nanoseconds: 3000000000\n",
      "Timedelta: 0 days 00:00:00.003005, Nanoseconds: 3005000\n",
      "Timedelta: 0 days 00:00:00.000000042, Nanoseconds: 42\n",
      "Nanoseconds (calculated): 3000000000\n"
     ]
    }
   ],
   "source": [
    "# Get the nanoseconds value\n",
    "print(f\"Nanoseconds value: {td.value}\")  # or td._value in some versions\n",
    "\n",
    "# Examples with different Timedeltas\n",
    "td1 = pd.Timedelta('3 s')\n",
    "print(f\"Timedelta: {td1}, Nanoseconds: {td1.value}\")\n",
    "\n",
    "td2 = pd.Timedelta('3 ms 5 us')\n",
    "print(f\"Timedelta: {td2}, Nanoseconds: {td2.value}\")\n",
    "\n",
    "td3 = pd.Timedelta(42, unit='ns')\n",
    "print(f\"Timedelta: {td3}, Nanoseconds: {td3.value}\")\n",
    "\n",
    "# Alternative: using total_seconds() method\n",
    "print(f\"Nanoseconds (calculated): {int(td1.total_seconds() * 1e9)}\")"
   ]
  },
  {
   "cell_type": "markdown",
   "metadata": {},
   "source": [
    "### Resolution String\n",
    "\n",
    "The `resolution_string` attribute returns a string representing the lowest timedelta resolution."
   ]
  },
  {
   "cell_type": "code",
   "execution_count": 7,
   "metadata": {},
   "outputs": [
    {
     "name": "stdout",
     "output_type": "stream",
     "text": [
      "Timedelta: 1 days 00:02:00.000003042, Resolution: ns\n",
      "Timedelta: 1 days 00:02:00.000003, Resolution: us\n",
      "Timedelta: 0 days 00:02:03, Resolution: s\n",
      "Timedelta: 0 days 00:00:00.000036, Resolution: us\n"
     ]
    }
   ],
   "source": [
    "# Get the resolution string\n",
    "print(f\"Timedelta: {td}, Resolution: {td.resolution_string}\")\n",
    "\n",
    "# Examples with different resolutions\n",
    "td1 = pd.Timedelta('1 days 2 min 3 us')\n",
    "print(f\"Timedelta: {td1}, Resolution: {td1.resolution_string}\")\n",
    "\n",
    "td2 = pd.Timedelta('2 min 3 s')\n",
    "print(f\"Timedelta: {td2}, Resolution: {td2.resolution_string}\")\n",
    "\n",
    "td3 = pd.Timedelta(36, unit='us')\n",
    "print(f\"Timedelta: {td3}, Resolution: {td3.resolution_string}\")"
   ]
  },
  {
   "cell_type": "markdown",
   "metadata": {},
   "source": [
    "##### 2. Timedelta Methods\n",
    "\n",
    "Timedelta provides methods for rounding and formatting."
   ]
  },
  {
   "cell_type": "code",
   "execution_count": 8,
   "metadata": {},
   "outputs": [
    {
     "name": "stdout",
     "output_type": "stream",
     "text": [
      "Original Timedelta: 1 days 12:30:45\n"
     ]
    }
   ],
   "source": [
    "# Create a Timedelta\n",
    "td = pd.Timedelta('1 days 12 hours 30 minutes 45 seconds')\n",
    "print(f\"Original Timedelta: {td}\")"
   ]
  },
  {
   "cell_type": "markdown",
   "metadata": {},
   "source": [
    "### Ceiling and Floor\n",
    "\n",
    "The `ceil` and `floor` methods round the Timedelta to a specified frequency."
   ]
  },
  {
   "cell_type": "code",
   "execution_count": 9,
   "metadata": {},
   "outputs": [
    {
     "name": "stdout",
     "output_type": "stream",
     "text": [
      "Ceiling to days: 2 days 00:00:00\n",
      "Floor to days: 1 days 00:00:00\n",
      "Ceiling to hours: 1 days 13:00:00\n",
      "Floor to hours: 1 days 12:00:00\n"
     ]
    },
    {
     "name": "stderr",
     "output_type": "stream",
     "text": [
      "/var/folders/7y/fzwln1_93mn3js3wyk61_6xm0000gn/T/ipykernel_89062/495786962.py:8: FutureWarning: 'H' is deprecated and will be removed in a future version, please use 'h' instead.\n",
      "  print(f\"Ceiling to hours: {td.ceil('H')}\")\n",
      "/var/folders/7y/fzwln1_93mn3js3wyk61_6xm0000gn/T/ipykernel_89062/495786962.py:11: FutureWarning: 'H' is deprecated and will be removed in a future version, please use 'h' instead.\n",
      "  print(f\"Floor to hours: {td.floor('H')}\")\n"
     ]
    }
   ],
   "source": [
    "# Ceiling to days\n",
    "print(f\"Ceiling to days: {td.ceil('D')}\")\n",
    "\n",
    "# Floor to days\n",
    "print(f\"Floor to days: {td.floor('D')}\")\n",
    "\n",
    "# Ceiling to hours\n",
    "print(f\"Ceiling to hours: {td.ceil('H')}\")\n",
    "\n",
    "# Floor to hours\n",
    "print(f\"Floor to hours: {td.floor('H')}\")"
   ]
  },
  {
   "cell_type": "markdown",
   "metadata": {},
   "source": [
    "### ISO Format\n",
    "\n",
    "The `isoformat` method formats the Timedelta as an ISO 8601 Duration."
   ]
  },
  {
   "cell_type": "code",
   "execution_count": 10,
   "metadata": {},
   "outputs": [
    {
     "name": "stdout",
     "output_type": "stream",
     "text": [
      "ISO format: P1DT12H30M45S\n"
     ]
    }
   ],
   "source": [
    "# Format as ISO 8601 Duration\n",
    "print(f\"ISO format: {td.isoformat()}\")"
   ]
  },
  {
   "cell_type": "markdown",
   "metadata": {},
   "source": [
    "##### 3. Interval Class\n",
    "\n",
    "The Interval class represents a range between two values."
   ]
  },
  {
   "cell_type": "code",
   "execution_count": 11,
   "metadata": {},
   "outputs": [
    {
     "name": "stdout",
     "output_type": "stream",
     "text": [
      "Numeric interval: (0, 5]\n"
     ]
    }
   ],
   "source": [
    "# Create a numeric interval\n",
    "iv = pd.Interval(left=0, right=5)\n",
    "print(f\"Numeric interval: {iv}\")"
   ]
  },
  {
   "cell_type": "markdown",
   "metadata": {},
   "source": [
    "### Checking Membership\n",
    "\n",
    "You can check if a value is in an interval using the `in` operator."
   ]
  },
  {
   "cell_type": "code",
   "execution_count": 12,
   "metadata": {},
   "outputs": [
    {
     "name": "stdout",
     "output_type": "stream",
     "text": [
      "Is 2.5 in the interval? True\n",
      "Is 0 in the interval? False\n",
      "Is 5 in the interval? True\n",
      "Is 0.0001 in the interval? True\n"
     ]
    }
   ],
   "source": [
    "# Check if values are in the interval\n",
    "print(f\"Is 2.5 in the interval? {2.5 in iv}\")\n",
    "print(f\"Is 0 in the interval? {0 in iv}\")\n",
    "print(f\"Is 5 in the interval? {5 in iv}\")\n",
    "print(f\"Is 0.0001 in the interval? {0.0001 in iv}\")"
   ]
  },
  {
   "cell_type": "markdown",
   "metadata": {},
   "source": [
    "### Interval Length\n",
    "\n",
    "The `length` attribute returns the length of the interval."
   ]
  },
  {
   "cell_type": "code",
   "execution_count": 13,
   "metadata": {},
   "outputs": [
    {
     "name": "stdout",
     "output_type": "stream",
     "text": [
      "Interval length: 5\n"
     ]
    }
   ],
   "source": [
    "# Get the length of the interval\n",
    "print(f\"Interval length: {iv.length}\")"
   ]
  },
  {
   "cell_type": "markdown",
   "metadata": {},
   "source": [
    "### Interval Operations\n",
    "\n",
    "You can perform arithmetic operations on intervals."
   ]
  },
  {
   "cell_type": "code",
   "execution_count": 14,
   "metadata": {},
   "outputs": [
    {
     "name": "stdout",
     "output_type": "stream",
     "text": [
      "Shifted interval: (3, 8]\n",
      "Extended interval: (0.0, 50.0]\n"
     ]
    }
   ],
   "source": [
    "# Addition\n",
    "shifted_iv = iv + 3\n",
    "print(f\"Shifted interval: {shifted_iv}\")\n",
    "\n",
    "# Multiplication\n",
    "extended_iv = iv * 10.0\n",
    "print(f\"Extended interval: {extended_iv}\")"
   ]
  },
  {
   "cell_type": "markdown",
   "metadata": {},
   "source": [
    "### Time Intervals\n",
    "\n",
    "You can create intervals with Timestamps."
   ]
  },
  {
   "cell_type": "code",
   "execution_count": 15,
   "metadata": {},
   "outputs": [
    {
     "name": "stdout",
     "output_type": "stream",
     "text": [
      "Time interval: [2023-01-01 00:00:00, 2024-01-01 00:00:00)\n",
      "Is '2023-06-15' in the interval? True\n",
      "Time interval length: 365 days 00:00:00\n"
     ]
    }
   ],
   "source": [
    "# Create a time interval for the year 2023\n",
    "year_2023 = pd.Interval(pd.Timestamp('2023-01-01 00:00:00'),\n",
    "                        pd.Timestamp('2024-01-01 00:00:00'),\n",
    "                        closed='left')\n",
    "print(f\"Time interval: {year_2023}\")\n",
    "\n",
    "# Check if a timestamp is in the interval\n",
    "print(f\"Is '2023-06-15' in the interval? {pd.Timestamp('2023-06-15') in year_2023}\")\n",
    "\n",
    "# Get the length of the time interval\n",
    "print(f\"Time interval length: {year_2023.length}\")"
   ]
  },
  {
   "cell_type": "markdown",
   "metadata": {},
   "source": [
    "### String Intervals\n",
    "\n",
    "You can create intervals with strings."
   ]
  },
  {
   "cell_type": "code",
   "execution_count": 18,
   "metadata": {},
   "outputs": [
    {
     "name": "stdout",
     "output_type": "stream",
     "text": [
      "String interval: [Ant, Dog]\n",
      "Is 'Bee' in the interval? True\n",
      "Is 'Elephant' in the interval? False\n"
     ]
    }
   ],
   "source": [
    "# Create a custom string interval class\n",
    "class StringInterval:\n",
    "    def __init__(self, left, right, closed='both'):\n",
    "        self.left = left\n",
    "        self.right = right\n",
    "        self.closed = closed\n",
    "        \n",
    "    def __contains__(self, value):\n",
    "        if self.closed == 'both':\n",
    "            return self.left <= value <= self.right\n",
    "        elif self.closed == 'left':\n",
    "            return self.left <= value < self.right\n",
    "        elif self.closed == 'right':\n",
    "            return self.left < value <= self.right\n",
    "        else:  # 'neither'\n",
    "            return self.left < value < self.right\n",
    "            \n",
    "    def __repr__(self):\n",
    "        if self.closed == 'both':\n",
    "            return f\"[{self.left}, {self.right}]\"\n",
    "        elif self.closed == 'left':\n",
    "            return f\"[{self.left}, {self.right})\"\n",
    "        elif self.closed == 'right':\n",
    "            return f\"({self.left}, {self.right}]\"\n",
    "        else:  # 'neither'\n",
    "            return f\"({self.left}, {self.right})\"\n",
    "\n",
    "# Create a string interval\n",
    "volume_1 = StringInterval('Ant', 'Dog', closed='both')\n",
    "print(f\"String interval: {volume_1}\")\n",
    "\n",
    "# Check if a string is in the interval\n",
    "print(f\"Is 'Bee' in the interval? {'Bee' in volume_1}\")\n",
    "print(f\"Is 'Elephant' in the interval? {'Elephant' in volume_1}\")"
   ]
  },
  {
   "cell_type": "markdown",
   "metadata": {},
   "source": [
    "##### 4. Interval Attributes\n",
    "\n",
    "The Interval class provides various attributes to access its properties."
   ]
  },
  {
   "cell_type": "code",
   "execution_count": 19,
   "metadata": {},
   "outputs": [
    {
     "name": "stdout",
     "output_type": "stream",
     "text": [
      "Right-closed: (0, 5]\n",
      "Left-closed: [0, 5)\n",
      "Both-closed: [0, 5]\n",
      "Neither-closed: (0, 5)\n"
     ]
    }
   ],
   "source": [
    "# Create intervals with different closed options\n",
    "iv_right = pd.Interval(0, 5, closed='right')\n",
    "iv_left = pd.Interval(0, 5, closed='left')\n",
    "iv_both = pd.Interval(0, 5, closed='both')\n",
    "iv_neither = pd.Interval(0, 5, closed='neither')\n",
    "\n",
    "print(f\"Right-closed: {iv_right}\")\n",
    "print(f\"Left-closed: {iv_left}\")\n",
    "print(f\"Both-closed: {iv_both}\")\n",
    "print(f\"Neither-closed: {iv_neither}\")"
   ]
  },
  {
   "cell_type": "markdown",
   "metadata": {},
   "source": [
    "### Closed Attribute\n",
    "\n",
    "The `closed` attribute indicates whether the interval is closed on the left-side, right-side, both, or neither."
   ]
  },
  {
   "cell_type": "code",
   "execution_count": 20,
   "metadata": {},
   "outputs": [
    {
     "name": "stdout",
     "output_type": "stream",
     "text": [
      "Right-closed: closed = right\n",
      "Left-closed: closed = left\n",
      "Both-closed: closed = both\n",
      "Neither-closed: closed = neither\n"
     ]
    }
   ],
   "source": [
    "# Get the closed attribute\n",
    "print(f\"Right-closed: closed = {iv_right.closed}\")\n",
    "print(f\"Left-closed: closed = {iv_left.closed}\")\n",
    "print(f\"Both-closed: closed = {iv_both.closed}\")\n",
    "print(f\"Neither-closed: closed = {iv_neither.closed}\")"
   ]
  },
  {
   "cell_type": "markdown",
   "metadata": {},
   "source": [
    "### Closed Left and Right\n",
    "\n",
    "The `closed_left` and `closed_right` attributes indicate whether the interval is closed on the left or right side."
   ]
  },
  {
   "cell_type": "code",
   "execution_count": 21,
   "metadata": {},
   "outputs": [
    {
     "name": "stdout",
     "output_type": "stream",
     "text": [
      "Right-closed: closed_left = False, closed_right = True\n",
      "Left-closed: closed_left = True, closed_right = False\n",
      "Both-closed: closed_left = True, closed_right = True\n",
      "Neither-closed: closed_left = False, closed_right = False\n"
     ]
    }
   ],
   "source": [
    "# Check if the intervals are closed on the left or right\n",
    "print(f\"Right-closed: closed_left = {iv_right.closed_left}, closed_right = {iv_right.closed_right}\")\n",
    "print(f\"Left-closed: closed_left = {iv_left.closed_left}, closed_right = {iv_left.closed_right}\")\n",
    "print(f\"Both-closed: closed_left = {iv_both.closed_left}, closed_right = {iv_both.closed_right}\")\n",
    "print(f\"Neither-closed: closed_left = {iv_neither.closed_left}, closed_right = {iv_neither.closed_right}\")"
   ]
  },
  {
   "cell_type": "markdown",
   "metadata": {},
   "source": [
    "### Open Left and Right\n",
    "\n",
    "The `open_left` and `open_right` attributes indicate whether the interval is open on the left or right side."
   ]
  },
  {
   "cell_type": "code",
   "execution_count": 22,
   "metadata": {},
   "outputs": [
    {
     "name": "stdout",
     "output_type": "stream",
     "text": [
      "Right-closed: open_left = True, open_right = False\n",
      "Left-closed: open_left = False, open_right = True\n",
      "Both-closed: open_left = False, open_right = False\n",
      "Neither-closed: open_left = True, open_right = True\n"
     ]
    }
   ],
   "source": [
    "# Check if the intervals are open on the left or right\n",
    "print(f\"Right-closed: open_left = {iv_right.open_left}, open_right = {iv_right.open_right}\")\n",
    "print(f\"Left-closed: open_left = {iv_left.open_left}, open_right = {iv_left.open_right}\")\n",
    "print(f\"Both-closed: open_left = {iv_both.open_left}, open_right = {iv_both.open_right}\")\n",
    "print(f\"Neither-closed: open_left = {iv_neither.open_left}, open_right = {iv_neither.open_right}\")"
   ]
  },
  {
   "cell_type": "markdown",
   "metadata": {},
   "source": [
    "### Left and Right Bounds\n",
    "\n",
    "The `left` and `right` attributes return the left and right bounds of the interval."
   ]
  },
  {
   "cell_type": "code",
   "execution_count": 23,
   "metadata": {},
   "outputs": [
    {
     "name": "stdout",
     "output_type": "stream",
     "text": [
      "Left bound: 0\n",
      "Right bound: 5\n"
     ]
    }
   ],
   "source": [
    "# Get the left and right bounds\n",
    "print(f\"Left bound: {iv_right.left}\")\n",
    "print(f\"Right bound: {iv_right.right}\")"
   ]
  },
  {
   "cell_type": "markdown",
   "metadata": {},
   "source": [
    "### Mid Point\n",
    "\n",
    "The `mid` attribute returns the midpoint of the interval."
   ]
  },
  {
   "cell_type": "code",
   "execution_count": 24,
   "metadata": {},
   "outputs": [
    {
     "name": "stdout",
     "output_type": "stream",
     "text": [
      "Midpoint: 2.5\n"
     ]
    }
   ],
   "source": [
    "# Get the midpoint\n",
    "print(f\"Midpoint: {iv_right.mid}\")"
   ]
  },
  {
   "cell_type": "markdown",
   "metadata": {},
   "source": [
    "### Is Empty\n",
    "\n",
    "The `is_empty` attribute indicates if an interval is empty, meaning it contains no points."
   ]
  },
  {
   "cell_type": "code",
   "execution_count": 25,
   "metadata": {},
   "outputs": [
    {
     "name": "stdout",
     "output_type": "stream",
     "text": [
      "Empty interval: (5, 5)\n",
      "Is empty? True\n",
      "Is iv_right empty? False\n"
     ]
    }
   ],
   "source": [
    "# Create an empty interval\n",
    "empty_iv = pd.Interval(5, 5, closed='neither')\n",
    "print(f\"Empty interval: {empty_iv}\")\n",
    "print(f\"Is empty? {empty_iv.is_empty}\")\n",
    "\n",
    "# Non-empty interval\n",
    "print(f\"Is iv_right empty? {iv_right.is_empty}\")"
   ]
  },
  {
   "cell_type": "code",
   "execution_count": null,
   "metadata": {},
   "outputs": [],
   "source": []
  },
  {
   "cell_type": "code",
   "execution_count": null,
   "metadata": {},
   "outputs": [],
   "source": []
  }
 ],
 "metadata": {
  "kernelspec": {
   "display_name": "venv",
   "language": "python",
   "name": "python3"
  },
  "language_info": {
   "codemirror_mode": {
    "name": "ipython",
    "version": 3
   },
   "file_extension": ".py",
   "mimetype": "text/x-python",
   "name": "python",
   "nbconvert_exporter": "python",
   "pygments_lexer": "ipython3",
   "version": "3.13.2"
  }
 },
 "nbformat": 4,
 "nbformat_minor": 4
}
