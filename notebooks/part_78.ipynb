{
 "cells": [
  {
   "cell_type": "markdown",
   "metadata": {},
   "source": [
    "# Pandas Part 78: DatetimeIndex\n",
    "\n",
    "This notebook explores the DatetimeIndex class, which is an immutable ndarray of datetime64 data that can be used for indexing in pandas."
   ]
  },
  {
   "cell_type": "code",
   "execution_count": null,
   "metadata": {},
   "outputs": [],
   "source": [
    "import pandas as pd\n",
    "import numpy as np\n",
    "from datetime import datetime, time"
   ]
  },
  {
   "cell_type": "markdown",
   "metadata": {},
   "source": [
    "## 1. Creating DatetimeIndex\n",
    "\n",
    "There are several ways to create a DatetimeIndex:"
   ]
  },
  {
   "cell_type": "code",
   "execution_count": null,
   "metadata": {},
   "outputs": [],
   "source": [
    "# Create DatetimeIndex from a list of datetime-like strings\n",
    "dates = ['2023-01-01', '2023-01-02', '2023-01-03', '2023-01-04']\n",
    "dt_idx = pd.DatetimeIndex(dates)\n",
    "print(f\"DatetimeIndex from strings: {dt_idx}\")\n",
    "\n",
    "# Create DatetimeIndex from datetime objects\n",
    "dates = [datetime(2023, 1, 1), datetime(2023, 1, 2), datetime(2023, 1, 3)]\n",
    "dt_idx = pd.DatetimeIndex(dates)\n",
    "print(f\"\\nDatetimeIndex from datetime objects: {dt_idx}\")\n",
    "\n",
    "# Create DatetimeIndex using date_range\n",
    "dt_idx = pd.date_range(start='2023-01-01', periods=5)\n",
    "print(f\"\\nDatetimeIndex from date_range (daily): {dt_idx}\")\n",
    "\n",
    "# Create DatetimeIndex with a specific frequency\n",
    "dt_idx = pd.date_range(start='2023-01-01', periods=5, freq='M')  # Monthly frequency\n",
    "print(f\"\\nDatetimeIndex with monthly frequency: {dt_idx}\")"
   ]
  },
  {
   "cell_type": "markdown",
   "metadata": {},
   "source": [
    "### Creating DatetimeIndex with Time Zone"
   ]
  },
  {
   "cell_type": "code",
   "execution_count": null,
   "metadata": {},
   "outputs": [],
   "source": [
    "# Create DatetimeIndex with timezone\n",
    "dt_idx = pd.DatetimeIndex(['2023-01-01', '2023-01-02', '2023-01-03'], tz='UTC')\n",
    "print(f\"DatetimeIndex with UTC timezone: {dt_idx}\")\n",
    "\n",
    "# Create DatetimeIndex with a different timezone\n",
    "dt_idx = pd.date_range(start='2023-01-01', periods=3, tz='US/Eastern')\n",
    "print(f\"\\nDatetimeIndex with US/Eastern timezone: {dt_idx}\")\n",
    "\n",
    "# Convert timezone\n",
    "dt_idx_pst = dt_idx.tz_convert('US/Pacific')\n",
    "print(f\"\\nConverted to US/Pacific timezone: {dt_idx_pst}\")"
   ]
  },
  {
   "cell_type": "markdown",
   "metadata": {},
   "source": [
    "### Handling Ambiguous Times"
   ]
  },
  {
   "cell_type": "code",
   "execution_count": null,
   "metadata": {},
   "outputs": [],
   "source": [
    "# Create a DatetimeIndex that includes a DST transition\n",
    "# In most of Europe, clocks go back 1 hour on the last Sunday of October\n",
    "try:\n",
    "    # This might raise an AmbiguousTimeError\n",
    "    dt_idx = pd.DatetimeIndex(['2023-10-29 01:30:00', '2023-10-29 02:30:00'], tz='Europe/Berlin')\n",
    "    print(f\"DatetimeIndex with DST transition: {dt_idx}\")\n",
    "except pd.errors.OutOfBoundsDatetime:\n",
    "    print(\"Error: Ambiguous times detected during DST transition\")\n",
    "    \n",
    "# Handle ambiguous times with 'NaT'\n",
    "dt_idx = pd.DatetimeIndex(['2023-10-29 01:30:00', '2023-10-29 02:30:00'], \n",
    "                          tz='Europe/Berlin', \n",
    "                          ambiguous='NaT')\n",
    "print(f\"\\nHandling ambiguous times with 'NaT': {dt_idx}\")\n",
    "\n",
    "# Handle ambiguous times with boolean array\n",
    "dt_idx = pd.DatetimeIndex(['2023-10-29 01:30:00', '2023-10-29 02:30:00'], \n",
    "                          tz='Europe/Berlin', \n",
    "                          ambiguous=[True, False])  # True for DST, False for non-DST\n",
    "print(f\"\\nHandling ambiguous times with boolean array: {dt_idx}\")"
   ]
  },
  {
   "cell_type": "markdown",
   "metadata": {},
   "source": [
    "## 2. DatetimeIndex Attributes\n",
    "\n",
    "DatetimeIndex provides various attributes to access datetime components:"
   ]
  },
  {
   "cell_type": "code",
   "execution_count": null,
   "metadata": {},
   "outputs": [],
   "source": [
    "# Create a DatetimeIndex\n",
    "dt_idx = pd.date_range(start='2023-01-01 12:30:45.123456', periods=3, freq='D')\n",
    "print(f\"DatetimeIndex: {dt_idx}\")\n",
    "\n",
    "# Access year component\n",
    "print(f\"\\nYear: {dt_idx.year}\")\n",
    "\n",
    "# Access month component\n",
    "print(f\"Month: {dt_idx.month}\")\n",
    "\n",
    "# Access day component\n",
    "print(f\"Day: {dt_idx.day}\")\n",
    "\n",
    "# Access hour component\n",
    "print(f\"Hour: {dt_idx.hour}\")\n",
    "\n",
    "# Access minute component\n",
    "print(f\"Minute: {dt_idx.minute}\")\n",
    "\n",
    "# Access second component\n",
    "print(f\"Second: {dt_idx.second}\")\n",
    "\n",
    "# Access microsecond component\n",
    "print(f\"Microsecond: {dt_idx.microsecond}\")\n",
    "\n",
    "# Access nanosecond component\n",
    "print(f\"Nanosecond: {dt_idx.nanosecond}\")"
   ]
  },
  {
   "cell_type": "markdown",
   "metadata": {},
   "source": [
    "### Date and Time Components"
   ]
  },
  {
   "cell_type": "code",
   "execution_count": null,
   "metadata": {},
   "outputs": [],
   "source": [
    "# Create a DatetimeIndex\n",
    "dt_idx = pd.date_range(start='2023-01-01 12:30:45', periods=3, freq='D')\n",
    "print(f\"DatetimeIndex: {dt_idx}\")\n",
    "\n",
    "# Get date component (returns numpy array of datetime.date objects)\n",
    "dates = dt_idx.date\n",
    "print(f\"\\nDate component: {dates}\")\n",
    "print(f\"Type of first element: {type(dates[0])}\")\n",
    "\n",
    "# Get time component (returns numpy array of datetime.time objects)\n",
    "times = dt_idx.time\n",
    "print(f\"\\nTime component: {times}\")\n",
    "print(f\"Type of first element: {type(times[0])}\")"
   ]
  },
  {
   "cell_type": "code",
   "execution_count": null,
   "metadata": {},
   "outputs": [],
   "source": [
    "# Create a DatetimeIndex with timezone\n",
    "dt_idx = pd.date_range(start='2023-01-01 12:30:45', periods=3, freq='D', tz='UTC')\n",
    "print(f\"DatetimeIndex with timezone: {dt_idx}\")\n",
    "\n",
    "# Get time with timezone component\n",
    "timetz = dt_idx.timetz\n",
    "print(f\"\\nTime with timezone component: {timetz}\")\n",
    "print(f\"Type of first element: {type(timetz[0])}\")\n",
    "print(f\"Timezone of first element: {timetz[0].tzname()}\")"
   ]
  },
  {
   "cell_type": "markdown",
   "metadata": {},
   "source": [
    "### Calendar-Related Attributes"
   ]
  },
  {
   "cell_type": "code",
   "execution_count": null,
   "metadata": {},
   "outputs": [],
   "source": [
    "# Create a DatetimeIndex spanning multiple months\n",
    "dt_idx = pd.date_range(start='2023-01-01', end='2023-03-31', freq='D')\n",
    "print(f\"DatetimeIndex: {dt_idx}\")\n",
    "\n",
    "# Get day of year\n",
    "print(f\"\\nDay of year for first 5 dates: {dt_idx.dayofyear[:5]}\")\n",
    "\n",
    "# Get week of year\n",
    "print(f\"Week of year for first 5 dates: {dt_idx.weekofyear[:5]}\")\n",
    "\n",
    "# Get day of week (0=Monday, 6=Sunday)\n",
    "print(f\"Day of week for first 5 dates: {dt_idx.dayofweek[:5]}\")\n",
    "\n",
    "# Get quarter\n",
    "print(f\"Quarter for first 5 dates: {dt_idx.quarter[:5]}\")"
   ]
  },
  {
   "cell_type": "markdown",
   "metadata": {},
   "source": [
    "## 3. DatetimeIndex Methods\n",
    "\n",
    "DatetimeIndex provides various methods for working with datetime data:"
   ]
  },
  {
   "cell_type": "markdown",
   "metadata": {},
   "source": [
    "### month_name and day_name Methods"
   ]
  },
  {
   "cell_type": "code",
   "execution_count": null,
   "metadata": {},
   "outputs": [],
   "source": [
    "# Create a DatetimeIndex for monthly data\n",
    "monthly_idx = pd.date_range(start='2023-01-31', freq='M', periods=3)\n",
    "print(f\"Monthly DatetimeIndex: {monthly_idx}\")\n",
    "\n",
    "# Get month names\n",
    "month_names = monthly_idx.month_name()\n",
    "print(f\"\\nMonth names: {month_names}\")\n",
    "\n",
    "# Get month names in a different locale\n",
    "try:\n",
    "    month_names_fr = monthly_idx.month_name(locale='fr_FR')\n",
    "    print(f\"Month names (French): {month_names_fr}\")\n",
    "except ImportError:\n",
    "    print(\"French locale not available. Make sure you have the 'babel' package installed.\")"
   ]
  },
  {
   "cell_type": "code",
   "execution_count": null,
   "metadata": {},
   "outputs": [],
   "source": [
    "# Create a DatetimeIndex for daily data\n",
    "daily_idx = pd.date_range(start='2023-01-01', freq='D', periods=3)\n",
    "print(f\"Daily DatetimeIndex: {daily_idx}\")\n",
    "\n",
    "# Get day names\n",
    "day_names = daily_idx.day_name()\n",
    "print(f\"\\nDay names: {day_names}\")\n",
    "\n",
    "# Get day names in a different locale\n",
    "try:\n",
    "    day_names_es = daily_idx.day_name(locale='es_ES')\n",
    "    print(f\"Day names (Spanish): {day_names_es}\")\n",
    "except ImportError:\n",
    "    print(\"Spanish locale not available. Make sure you have the 'babel' package installed.\")"
   ]
  },
  {
   "cell_type": "markdown",
   "metadata": {},
   "source": [
    "### mean Method"
   ]
  },
  {
   "cell_type": "code",
   "execution_count": null,
   "metadata": {},
   "outputs": [],
   "source": [
    "# Create a DatetimeIndex\n",
    "dt_idx = pd.DatetimeIndex(['2023-01-01', '2023-01-03', '2023-01-05'])\n",
    "print(f\"DatetimeIndex: {dt_idx}\")\n",
    "\n",
    "# Calculate the mean\n",
    "mean_date = dt_idx.mean()\n",
    "print(f\"\\nMean date: {mean_date}\")\n",
    "print(f\"Type: {type(mean_date)}\")"
   ]
  },
  {
   "cell_type": "code",
   "execution_count": null,
   "metadata": {},
   "outputs": [],
   "source": [
    "# Create a DatetimeIndex with NaT (Not a Time)\n",
    "dt_idx = pd.DatetimeIndex(['2023-01-01', '2023-01-03', 'NaT', '2023-01-05'])\n",
    "print(f\"DatetimeIndex with NaT: {dt_idx}\")\n",
    "\n",
    "# Calculate the mean (skipna=True by default)\n",
    "mean_date = dt_idx.mean()\n",
    "print(f\"\\nMean date (skipna=True): {mean_date}\")\n",
    "\n",
    "# Calculate the mean with skipna=False\n",
    "try:\n",
    "    mean_date = dt_idx.mean(skipna=False)\n",
    "    print(f\"Mean date (skipna=False): {mean_date}\")\n",
    "except ValueError as e:\n",
    "    print(f\"Error with skipna=False: {e}\")"
   ]
  },
  {
   "cell_type": "markdown",
   "metadata": {},
   "source": [
    "## 4. Using DatetimeIndex with Series and DataFrame"
   ]
  },
  {
   "cell_type": "code",
   "execution_count": null,
   "metadata": {},
   "outputs": [],
   "source": [
    "# Create a Series with DatetimeIndex\n",
    "dates = pd.date_range('2023-01-01', periods=5, freq='D')\n",
    "s = pd.Series(range(5), index=dates)\n",
    "print(\"Series with DatetimeIndex:\")\n",
    "print(s)\n",
    "\n",
    "# Create a DataFrame with DatetimeIndex\n",
    "df = pd.DataFrame({'A': range(5), 'B': range(5, 10)}, index=dates)\n",
    "print(\"\\nDataFrame with DatetimeIndex:\")\n",
    "print(df)"
   ]
  },
  {
   "cell_type": "markdown",
   "metadata": {},
   "source": [
    "### Selecting Data with DatetimeIndex"
   ]
  },
  {
   "cell_type": "code",
   "execution_count": null,
   "metadata": {},
   "outputs": [],
   "source": [
    "# Create a DataFrame with DatetimeIndex spanning multiple months\n",
    "dates = pd.date_range('2023-01-01', periods=100, freq='D')\n",
    "df = pd.DataFrame({'A': np.random.randn(100), 'B': np.random.randn(100)}, index=dates)\n",
    "print(\"DataFrame with DatetimeIndex:\")\n",
    "print(df.head())\n",
    "\n",
    "# Select data for a specific date\n",
    "print(\"\\nData for 2023-01-05:\")\n",
    "print(df.loc['2023-01-05'])\n",
    "\n",
    "# Select data for a specific month\n",
    "print(\"\\nData for January 2023:\")\n",
    "print(df.loc['2023-01'].head())\n",
    "\n",
    "# Select data for a date range\n",
    "print(\"\\nData from 2023-01-15 to 2023-01-20:\")\n",
    "print(df.loc['2023-01-15':'2023-01-20'])"
   ]
  },
  {
   "cell_type": "markdown",
   "metadata": {},
   "source": [
    "### Resampling with DatetimeIndex"
   ]
  },
  {
   "cell_type": "code",
   "execution_count": null,
   "metadata": {},
   "outputs": [],
   "source": [
    "# Create a DataFrame with DatetimeIndex\n",
    "dates = pd.date_range('2023-01-01', periods=100, freq='D')\n",
    "df = pd.DataFrame({'A': np.random.randn(100), 'B': np.random.randn(100)}, index=dates)\n",
    "print(\"Original DataFrame (daily data):\")\n",
    "print(df.head())\n",
    "\n",
    "# Resample to monthly frequency\n",
    "monthly = df.resample('M').mean()\n",
    "print(\"\\nResampled to monthly frequency:\")\n",
    "print(monthly)\n",
    "\n",
    "# Resample to weekly frequency\n",
    "weekly = df.resample('W').mean()\n",
    "print(\"\\nResampled to weekly frequency:\")\n",
    "print(weekly.head())"
   ]
  }
 ],
 "metadata": {
  "kernelspec": {
   "display_name": "Python 3",
   "language": "python",
   "name": "python3"
  },
  "language_info": {
   "codemirror_mode": {
    "name": "ipython",
    "version": 3
   },
   "file_extension": ".py",
   "mimetype": "text/x-python",
   "name": "python",
   "nbconvert_exporter": "python",
   "pygments_lexer": "ipython3",
   "version": "3.8.5"
  }
 },
 "nbformat": 4,
 "nbformat_minor": 4
}
