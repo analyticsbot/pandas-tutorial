{
 "cells": [
  {
   "cell_type": "markdown",
   "metadata": {},
   "source": [
    "# Pandas Tutorial - Part 66: DataFrame Methods (set_index, to_csv)\n",
    "\n",
    "This notebook covers two important DataFrame methods:\n",
    "- `set_index()` - Set the DataFrame index using existing columns\n",
    "- `to_csv()` - Write object to a comma-separated values (csv) file"
   ]
  },
  {
   "cell_type": "code",
   "execution_count": null,
   "metadata": {},
   "outputs": [],
   "source": [
    "import pandas as pd\n",
    "import numpy as np\n",
    "import matplotlib.pyplot as plt\n",
    "import os\n",
    "import tempfile\n",
    "\n",
    "# Set display options\n",
    "pd.set_option('display.max_columns', None)\n",
    "pd.set_option('display.expand_frame_repr', False)"
   ]
  },
  {
   "cell_type": "markdown",
   "metadata": {},
   "source": [
    "## 1. DataFrame.set_index()\n",
    "\n",
    "The `set_index()` method sets the DataFrame index (row labels) using one or more existing columns or arrays. The index can replace the existing index or expand on it."
   ]
  },
  {
   "cell_type": "code",
   "execution_count": null,
   "metadata": {},
   "outputs": [],
   "source": [
    "# Create a sample DataFrame\n",
    "df = pd.DataFrame({\n",
    "    'month': [1, 4, 7, 10],\n",
    "    'year': [2012, 2014, 2013, 2014],\n",
    "    'sale': [55, 40, 84, 31]\n",
    "})\n",
    "\n",
    "print(\"Original DataFrame:\")\n",
    "df"
   ]
  },
  {
   "cell_type": "code",
   "execution_count": null,
   "metadata": {},
   "outputs": [],
   "source": [
    "# Set the index to become the 'month' column\n",
    "print(\"Set 'month' as index:\")\n",
    "df.set_index('month')"
   ]
  },
  {
   "cell_type": "code",
   "execution_count": null,
   "metadata": {},
   "outputs": [],
   "source": [
    "# Create a MultiIndex using columns 'year' and 'month'\n",
    "print(\"Set MultiIndex using 'year' and 'month':\")\n",
    "df.set_index(['year', 'month'])"
   ]
  },
  {
   "cell_type": "code",
   "execution_count": null,
   "metadata": {},
   "outputs": [],
   "source": [
    "# Set index without dropping the columns\n",
    "print(\"Set 'month' as index without dropping the column:\")\n",
    "df.set_index('month', drop=False)"
   ]
  },
  {
   "cell_type": "code",
   "execution_count": null,
   "metadata": {},
   "outputs": [],
   "source": [
    "# Append to the existing index\n",
    "# First, set 'year' as index\n",
    "df_year_index = df.set_index('year')\n",
    "print(\"DataFrame with 'year' as index:\")\n",
    "print(df_year_index)\n",
    "\n",
    "# Then, append 'month' to the index\n",
    "print(\"\\nAppend 'month' to the existing index:\")\n",
    "df_year_index.set_index('month', append=True)"
   ]
  },
  {
   "cell_type": "code",
   "execution_count": null,
   "metadata": {},
   "outputs": [],
   "source": [
    "# Set index inplace\n",
    "print(\"Before inplace operation:\")\n",
    "print(df)\n",
    "\n",
    "df.set_index('month', inplace=True)\n",
    "print(\"\\nAfter inplace operation:\")\n",
    "print(df)"
   ]
  },
  {
   "cell_type": "code",
   "execution_count": null,
   "metadata": {},
   "outputs": [],
   "source": [
    "# Reset the DataFrame for further examples\n",
    "df = pd.DataFrame({\n",
    "    'month': [1, 4, 7, 10],\n",
    "    'year': [2012, 2014, 2013, 2014],\n",
    "    'sale': [55, 40, 84, 31]\n",
    "})"
   ]
  },
  {
   "cell_type": "code",
   "execution_count": null,
   "metadata": {},
   "outputs": [],
   "source": [
    "# Using an array as index\n",
    "new_index = ['a', 'b', 'c', 'd']\n",
    "print(\"Set index using an array:\")\n",
    "df.set_index(new_index)"
   ]
  },
  {
   "cell_type": "code",
   "execution_count": null,
   "metadata": {},
   "outputs": [],
   "source": [
    "# Using a Series as index\n",
    "new_index_series = pd.Series(['w', 'x', 'y', 'z'])\n",
    "print(\"Set index using a Series:\")\n",
    "df.set_index(new_index_series)"
   ]
  },
  {
   "cell_type": "code",
   "execution_count": null,
   "metadata": {},
   "outputs": [],
   "source": [
    "# Create a DataFrame with duplicate values\n",
    "df_dup = pd.DataFrame({\n",
    "    'month': [1, 1, 7, 10],\n",
    "    'year': [2012, 2012, 2013, 2014],\n",
    "    'sale': [55, 40, 84, 31]\n",
    "})\n",
    "\n",
    "print(\"DataFrame with duplicate values:\")\n",
    "print(df_dup)"
   ]
  },
  {
   "cell_type": "code",
   "execution_count": null,
   "metadata": {},
   "outputs": [],
   "source": [
    "# Set index with verify_integrity=True\n",
    "try:\n",
    "    df_dup.set_index('month', verify_integrity=True)\n",
    "except ValueError as e:\n",
    "    print(f\"Error: {e}\")"
   ]
  },
  {
   "cell_type": "code",
   "execution_count": null,
   "metadata": {},
   "outputs": [],
   "source": [
    "# Set index with verify_integrity=False (default)\n",
    "print(\"Set index with verify_integrity=False (default):\")\n",
    "df_dup.set_index('month', verify_integrity=False)"
   ]
  },
  {
   "cell_type": "code",
   "execution_count": null,
   "metadata": {},
   "outputs": [],
   "source": [
    "# Create a MultiIndex with duplicate values\n",
    "print(\"Set MultiIndex with duplicate values:\")\n",
    "df_dup.set_index(['year', 'month'])"
   ]
  },
  {
   "cell_type": "markdown",
   "metadata": {},
   "source": [
    "## 2. DataFrame.to_csv()\n",
    "\n",
    "The `to_csv()` method writes the DataFrame to a comma-separated values (CSV) file. It provides many options for customizing the output format."
   ]
  },
  {
   "cell_type": "code",
   "execution_count": null,
   "metadata": {},
   "outputs": [],
   "source": [
    "# Create a sample DataFrame\n",
    "df = pd.DataFrame({\n",
    "    'name': ['Alice', 'Bob', 'Charlie', 'David'],\n",
    "    'age': [25, 30, 35, 40],\n",
    "    'salary': [50000, 60000, np.nan, 80000],\n",
    "    'department': ['HR', 'IT', 'Finance', 'Marketing']\n",
    "})\n",
    "\n",
    "print(\"Sample DataFrame:\")\n",
    "df"
   ]
  },
  {
   "cell_type": "code",
   "execution_count": null,
   "metadata": {},
   "outputs": [],
   "source": [
    "# Basic usage - write to a file\n",
    "temp_file = tempfile.NamedTemporaryFile(suffix='.csv', delete=False)\n",
    "temp_file.close()\n",
    "\n",
    "df.to_csv(temp_file.name)\n",
    "\n",
    "# Read the file back to see what was written\n",
    "print(\"Contents of the CSV file:\")\n",
    "with open(temp_file.name, 'r') as f:\n",
    "    print(f.read())\n",
    "\n",
    "# Clean up\n",
    "os.unlink(temp_file.name)"
   ]
  },
  {
   "cell_type": "code",
   "execution_count": null,
   "metadata": {},
   "outputs": [],
   "source": [
    "# Return as string instead of writing to a file\n",
    "csv_string = df.to_csv()\n",
    "print(\"CSV as string:\")\n",
    "print(csv_string)"
   ]
  },
  {
   "cell_type": "code",
   "execution_count": null,
   "metadata": {},
   "outputs": [],
   "source": [
    "# Customize the separator\n",
    "csv_string = df.to_csv(sep='|')\n",
    "print(\"CSV with pipe separator:\")\n",
    "print(csv_string)"
   ]
  },
  {
   "cell_type": "code",
   "execution_count": null,
   "metadata": {},
   "outputs": [],
   "source": [
    "# Customize how missing values are represented\n",
    "csv_string = df.to_csv(na_rep='MISSING')\n",
    "print(\"CSV with custom NA representation:\")\n",
    "print(csv_string)"
   ]
  },
  {
   "cell_type": "code",
   "execution_count": null,
   "metadata": {},
   "outputs": [],
   "source": [
    "# Format floating point numbers\n",
    "df_float = pd.DataFrame({\n",
    "    'A': [1.123456, 2.123456],\n",
    "    'B': [3.123456, 4.123456]\n",
    "})\n",
    "\n",
    "csv_string = df_float.to_csv(float_format='%.2f')\n",
    "print(\"CSV with formatted float values:\")\n",
    "print(csv_string)"
   ]
  },
  {
   "cell_type": "code",
   "execution_count": null,
   "metadata": {},
   "outputs": [],
   "source": [
    "# Select specific columns to write\n",
    "csv_string = df.to_csv(columns=['name', 'age'])\n",
    "print(\"CSV with selected columns:\")\n",
    "print(csv_string)"
   ]
  },
  {
   "cell_type": "code",
   "execution_count": null,
   "metadata": {},
   "outputs": [],
   "source": [
    "# Control header output\n",
    "# No header\n",
    "csv_string = df.to_csv(header=False)\n",
    "print(\"CSV without header:\")\n",
    "print(csv_string)\n",
    "\n",
    "# Custom header names\n",
    "csv_string = df.to_csv(header=['Name', 'Age', 'Salary', 'Department'])\n",
    "print(\"\\nCSV with custom header names:\")\n",
    "print(csv_string)"
   ]
  },
  {
   "cell_type": "code",
   "execution_count": null,
   "metadata": {},
   "outputs": [],
   "source": [
    "# Control index output\n",
    "# No index\n",
    "csv_string = df.to_csv(index=False)\n",
    "print(\"CSV without index:\")\n",
    "print(csv_string)\n",
    "\n",
    "# Custom index label\n",
    "csv_string = df.to_csv(index_label='ID')\n",
    "print(\"\\nCSV with custom index label:\")\n",
    "print(csv_string)"
   ]
  },
  {
   "cell_type": "code",
   "execution_count": null,
   "metadata": {},
   "outputs": [],
   "source": [
    "# Create a DataFrame with MultiIndex\n",
    "df_multi = pd.DataFrame(\n",
    "    np.random.randn(4, 2),\n",
    "    index=pd.MultiIndex.from_tuples([('A', 1), ('A', 2), ('B', 1), ('B', 2)]),\n",
    "    columns=['C1', 'C2']\n",
    ")\n",
    "\n",
    "print(\"DataFrame with MultiIndex:\")\n",
    "print(df_multi)\n",
    "\n",
    "# Write to CSV\n",
    "csv_string = df_multi.to_csv()\n",
    "print(\"\\nMultiIndex DataFrame as CSV:\")\n",
    "print(csv_string)\n",
    "\n",
    "# With custom index labels\n",
    "csv_string = df_multi.to_csv(index_label=['Group', 'Number'])\n",
    "print(\"\\nMultiIndex DataFrame as CSV with custom index labels:\")\n",
    "print(csv_string)"
   ]
  },
  {
   "cell_type": "code",
   "execution_count": null,
   "metadata": {},
   "outputs": [],
   "source": [
    "# Write to compressed file\n",
    "temp_file_gz = tempfile.NamedTemporaryFile(suffix='.csv.gz', delete=False)\n",
    "temp_file_gz.close()\n",
    "\n",
    "df.to_csv(temp_file_gz.name, compression='gzip')\n",
    "\n",
    "# Check that the file exists and has content\n",
    "print(f\"Compressed file size: {os.path.getsize(temp_file_gz.name)} bytes\")\n",
    "\n",
    "# Read the compressed file back\n",
    "df_read = pd.read_csv(temp_file_gz.name, compression='gzip')\n",
    "print(\"\\nDataFrame read from compressed CSV:\")\n",
    "print(df_read)\n",
    "\n",
    "# Clean up\n",
    "os.unlink(temp_file_gz.name)"
   ]
  },
  {
   "cell_type": "code",
   "execution_count": null,
   "metadata": {},
   "outputs": [],
   "source": [
    "# Write with different encoding\n",
    "df_encoding = pd.DataFrame({\n",
    "    'name': ['José', 'María', 'João', 'François'],\n",
    "    'country': ['Spain', 'Mexico', 'Brazil', 'France']\n",
    "})\n",
    "\n",
    "print(\"DataFrame with non-ASCII characters:\")\n",
    "print(df_encoding)\n",
    "\n",
    "# Write with UTF-8 encoding (default)\n",
    "temp_file_utf8 = tempfile.NamedTemporaryFile(suffix='.csv', delete=False)\n",
    "temp_file_utf8.close()\n",
    "\n",
    "df_encoding.to_csv(temp_file_utf8.name, encoding='utf-8')\n",
    "\n",
    "# Read the file back\n",
    "with open(temp_file_utf8.name, 'r', encoding='utf-8') as f:\n",
    "    print(\"\\nCSV with UTF-8 encoding:\")\n",
    "    print(f.read())\n",
    "\n",
    "# Clean up\n",
    "os.unlink(temp_file_utf8.name)"
   ]
  },
  {
   "cell_type": "markdown",
   "metadata": {},
   "source": [
    "## Summary\n",
    "\n",
    "In this notebook, we've explored two important DataFrame methods:\n",
    "\n",
    "1. **set_index()**: Sets the DataFrame index (row labels) using one or more existing columns or arrays. Key parameters include:\n",
    "   - `keys`: Column name(s) or array(s) to use as the new index\n",
    "   - `drop`: Whether to delete the column(s) used as the new index\n",
    "   - `append`: Whether to append columns to the existing index\n",
    "   - `inplace`: Whether to modify the DataFrame in place\n",
    "   - `verify_integrity`: Whether to check the new index for duplicates\n",
    "\n",
    "2. **to_csv()**: Writes the DataFrame to a comma-separated values (CSV) file. This method provides many options for customizing the output format, including:\n",
    "   - `path_or_buf`: File path or object to write to\n",
    "   - `sep`: Field delimiter (default is ',')\n",
    "   - `na_rep`: How to represent missing values\n",
    "   - `float_format`: Format string for floating point numbers\n",
    "   - `columns`: Which columns to write\n",
    "   - `header`: Whether to write column names and what to call them\n",
    "   - `index`: Whether to write row names (index)\n",
    "   - `index_label`: Column label for index column(s)\n",
    "   - `encoding`: Character encoding for the output\n",
    "   - `compression`: Compression mode for the output file\n",
    "\n",
    "These methods are essential for data manipulation and exporting data from pandas to CSV files for sharing or further processing."
   ]
  }
 ],
 "metadata": {
  "kernelspec": {
   "display_name": "Python 3",
   "language": "python",
   "name": "python3"
  },
  "language_info": {
   "codemirror_mode": {
    "name": "ipython",
    "version": 3
   },
   "file_extension": ".py",
   "mimetype": "text/x-python",
   "name": "python",
   "nbconvert_exporter": "python",
   "pygments_lexer": "ipython3",
   "version": "3.8.5"
  }
 },
 "nbformat": 4,
 "nbformat_minor": 4
}
