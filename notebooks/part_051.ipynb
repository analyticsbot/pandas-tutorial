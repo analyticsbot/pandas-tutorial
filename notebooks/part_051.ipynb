{
 "cells": [
  {
   "cell_type": "markdown",
   "metadata": {},
   "source": [
    "#### Pandas Tutorial - Part 51\n",
    "\n",
    "This notebook covers various Series methods including:\n",
    "- Normalizing datetime values with `dt.normalize()`\n",
    "- Formatting datetime values with `dt.strftime()`\n",
    "- String extraction methods: `str.extractall()`, `str.find()`, and `str.findall()`"
   ]
  },
  {
   "cell_type": "code",
   "execution_count": null,
   "metadata": {},
   "outputs": [],
   "source": [
    "import pandas as pd\n",
    "import numpy as np\n",
    "import matplotlib.pyplot as plt\n",
    "import re\n",
    "\n",
    "%matplotlib inline"
   ]
  },
  {
   "cell_type": "markdown",
   "metadata": {},
   "source": [
    "##### Normalizing Datetime Values with `dt.normalize()`\n",
    "\n",
    "The `dt.normalize()` method converts times to midnight (00:00:00). This is useful when the time component doesn't matter."
   ]
  },
  {
   "cell_type": "code",
   "execution_count": null,
   "metadata": {},
   "outputs": [],
   "source": [
    "# Create a datetime Series\n",
    "idx = pd.date_range(start='2023-01-01 10:00', freq='H', periods=5)\n",
    "s = pd.Series(idx)\n",
    "print(\"Original datetime Series:\")\n",
    "print(s)"
   ]
  },
  {
   "cell_type": "code",
   "execution_count": null,
   "metadata": {},
   "outputs": [],
   "source": [
    "# Normalize the datetime values\n",
    "s_normalized = s.dt.normalize()\n",
    "print(\"Normalized datetime Series:\")\n",
    "print(s_normalized)"
   ]
  },
  {
   "cell_type": "code",
   "execution_count": null,
   "metadata": {},
   "outputs": [],
   "source": [
    "# Create a datetime Series with timezone\n",
    "idx_tz = pd.date_range(start='2023-01-01 10:00', freq='H', periods=5, tz='Asia/Calcutta')\n",
    "s_tz = pd.Series(idx_tz)\n",
    "print(\"Original datetime Series with timezone:\")\n",
    "print(s_tz)"
   ]
  },
  {
   "cell_type": "code",
   "execution_count": null,
   "metadata": {},
   "outputs": [],
   "source": [
    "# Normalize the datetime values with timezone\n",
    "s_tz_normalized = s_tz.dt.normalize()\n",
    "print(\"Normalized datetime Series with timezone:\")\n",
    "print(s_tz_normalized)"
   ]
  },
  {
   "cell_type": "code",
   "execution_count": null,
   "metadata": {},
   "outputs": [],
   "source": [
    "# Create a datetime Series with different dates\n",
    "dates = ['2023-01-01 10:30:45', '2023-01-02 12:15:30', '2023-01-03 18:45:00']\n",
    "s_mixed = pd.Series(pd.to_datetime(dates))\n",
    "print(\"Original datetime Series with different dates:\")\n",
    "print(s_mixed)"
   ]
  },
  {
   "cell_type": "code",
   "execution_count": null,
   "metadata": {},
   "outputs": [],
   "source": [
    "# Normalize the datetime values\n",
    "s_mixed_normalized = s_mixed.dt.normalize()\n",
    "print(\"Normalized datetime Series with different dates:\")\n",
    "print(s_mixed_normalized)"
   ]
  },
  {
   "cell_type": "markdown",
   "metadata": {},
   "source": [
    "##### Formatting Datetime Values with `dt.strftime()`\n",
    "\n",
    "The `dt.strftime()` method converts datetime values to strings using a specified format."
   ]
  },
  {
   "cell_type": "code",
   "execution_count": null,
   "metadata": {},
   "outputs": [],
   "source": [
    "# Create a datetime Series\n",
    "rng = pd.date_range(pd.Timestamp(\"2023-01-01 09:00\"), periods=5, freq='H')\n",
    "s = pd.Series(rng)\n",
    "print(\"Original datetime Series:\")\n",
    "print(s)"
   ]
  },
  {
   "cell_type": "code",
   "execution_count": null,
   "metadata": {},
   "outputs": [],
   "source": [
    "# Format datetime values with strftime\n",
    "s_formatted = s.dt.strftime(\"%Y-%m-%d %H:%M:%S\")\n",
    "print(\"Formatted datetime Series:\")\n",
    "print(s_formatted)"
   ]
  },
  {
   "cell_type": "code",
   "execution_count": null,
   "metadata": {},
   "outputs": [],
   "source": [
    "# Format datetime values with different format\n",
    "s_formatted_short = s.dt.strftime(\"%d/%m/%Y\")\n",
    "print(\"Formatted datetime Series (short format):\")\n",
    "print(s_formatted_short)"
   ]
  },
  {
   "cell_type": "code",
   "execution_count": null,
   "metadata": {},
   "outputs": [],
   "source": [
    "# Format datetime values with day name\n",
    "s_formatted_day = s.dt.strftime(\"%A, %B %d, %Y\")\n",
    "print(\"Formatted datetime Series with day name:\")\n",
    "print(s_formatted_day)"
   ]
  },
  {
   "cell_type": "code",
   "execution_count": null,
   "metadata": {},
   "outputs": [],
   "source": [
    "# Format datetime values with time only\n",
    "s_formatted_time = s.dt.strftime(\"%I:%M %p\")\n",
    "print(\"Formatted datetime Series with time only:\")\n",
    "print(s_formatted_time)"
   ]
  },
  {
   "cell_type": "code",
   "execution_count": null,
   "metadata": {},
   "outputs": [],
   "source": [
    "# Create a datetime Series with timezone\n",
    "rng_tz = pd.date_range(pd.Timestamp(\"2023-01-01 09:00\"), periods=5, freq='H', tz='Europe/Berlin')\n",
    "s_tz = pd.Series(rng_tz)\n",
    "print(\"Original datetime Series with timezone:\")\n",
    "print(s_tz)"
   ]
  },
  {
   "cell_type": "code",
   "execution_count": null,
   "metadata": {},
   "outputs": [],
   "source": [
    "# Format datetime values with timezone\n",
    "s_tz_formatted = s_tz.dt.strftime(\"%Y-%m-%d %H:%M:%S %Z\")\n",
    "print(\"Formatted datetime Series with timezone:\")\n",
    "print(s_tz_formatted)"
   ]
  },
  {
   "cell_type": "markdown",
   "metadata": {},
   "source": [
    "##### String Extraction Methods\n",
    "\n",
    "Pandas provides several methods for extracting and finding patterns in strings."
   ]
  },
  {
   "cell_type": "markdown",
   "metadata": {},
   "source": [
    "### Extracting All Matches with `str.extractall()`\n",
    "\n",
    "The `str.extractall()` method extracts groups from all matches of a regular expression pattern."
   ]
  },
  {
   "cell_type": "code",
   "execution_count": null,
   "metadata": {},
   "outputs": [],
   "source": [
    "# Create a Series with strings\n",
    "s = pd.Series([\"a1a2\", \"b1\", \"c1\"], index=[\"A\", \"B\", \"C\"])\n",
    "print(\"Original Series:\")\n",
    "print(s)"
   ]
  },
  {
   "cell_type": "code",
   "execution_count": null,
   "metadata": {},
   "outputs": [],
   "source": [
    "# Extract all matches with one group\n",
    "result = s.str.extractall(r\"[ab](\\d)\")\n",
    "print(\"Result of extractall with one group:\")\n",
    "print(result)"
   ]
  },
  {
   "cell_type": "code",
   "execution_count": null,
   "metadata": {},
   "outputs": [],
   "source": [
    "# Extract all matches with named group\n",
    "result_named = s.str.extractall(r\"[ab](?P<digit>\\d)\")\n",
    "print(\"Result of extractall with named group:\")\n",
    "print(result_named)"
   ]
  },
  {
   "cell_type": "code",
   "execution_count": null,
   "metadata": {},
   "outputs": [],
   "source": [
    "# Extract all matches with two groups\n",
    "result_two_groups = s.str.extractall(r\"(?P<letter>[ab])(?P<digit>\\d)\")\n",
    "print(\"Result of extractall with two groups:\")\n",
    "print(result_two_groups)"
   ]
  },
  {
   "cell_type": "code",
   "execution_count": null,
   "metadata": {},
   "outputs": [],
   "source": [
    "# Extract all matches with optional group\n",
    "result_optional = s.str.extractall(r\"(?P<letter>[ab])?(?P<digit>\\d)\")\n",
    "print(\"Result of extractall with optional group:\")\n",
    "print(result_optional)"
   ]
  },
  {
   "cell_type": "code",
   "execution_count": null,
   "metadata": {},
   "outputs": [],
   "source": [
    "# Create a Series with more complex strings\n",
    "s_complex = pd.Series(['foo 123 bar 456', 'bar 789 foo', 'foo 123 456'])\n",
    "print(\"Original Series with complex strings:\")\n",
    "print(s_complex)"
   ]
  },
  {
   "cell_type": "code",
   "execution_count": null,
   "metadata": {},
   "outputs": [],
   "source": [
    "# Extract all numbers\n",
    "result_complex = s_complex.str.extractall(r'(\\d+)')\n",
    "print(\"Result of extractall for numbers:\")\n",
    "print(result_complex)"
   ]
  },
  {
   "cell_type": "code",
   "execution_count": null,
   "metadata": {},
   "outputs": [],
   "source": [
    "# Extract words and numbers\n",
    "result_complex_words = s_complex.str.extractall(r'(?P<word>foo|bar) (?P<number>\\d+)')\n",
    "print(\"Result of extractall for words and numbers:\")\n",
    "print(result_complex_words)"
   ]
  },
  {
   "cell_type": "markdown",
   "metadata": {},
   "source": [
    "### Finding Substrings with `str.find()`\n",
    "\n",
    "The `str.find()` method returns the lowest index where the substring is found. Returns -1 if not found."
   ]
  },
  {
   "cell_type": "code",
   "execution_count": null,
   "metadata": {},
   "outputs": [],
   "source": [
    "# Create a Series with strings\n",
    "s = pd.Series(['apple', 'banana', 'cherry'])\n",
    "print(\"Original Series:\")\n",
    "print(s)"
   ]
  },
  {
   "cell_type": "code",
   "execution_count": null,
   "metadata": {},
   "outputs": [],
   "source": [
    "# Find substring 'a'\n",
    "result = s.str.find('a')\n",
    "print(\"Result of find('a'):\")\n",
    "print(result)"
   ]
  },
  {
   "cell_type": "code",
   "execution_count": null,
   "metadata": {},
   "outputs": [],
   "source": [
    "# Find substring 'an'\n",
    "result_an = s.str.find('an')\n",
    "print(\"Result of find('an'):\")\n",
    "print(result_an)"
   ]
  },
  {
   "cell_type": "code",
   "execution_count": null,
   "metadata": {},
   "outputs": [],
   "source": [
    "# Find substring 'z'\n",
    "result_z = s.str.find('z')\n",
    "print(\"Result of find('z'):\")\n",
    "print(result_z)"
   ]
  },
  {
   "cell_type": "code",
   "execution_count": null,
   "metadata": {},
   "outputs": [],
   "source": [
    "# Find substring 'a' with start index\n",
    "result_start = s.str.find('a', 1)\n",
    "print(\"Result of find('a', 1):\")\n",
    "print(result_start)"
   ]
  },
  {
   "cell_type": "code",
   "execution_count": null,
   "metadata": {},
   "outputs": [],
   "source": [
    "# Find substring 'a' with start and end indices\n",
    "result_start_end = s.str.find('a', 1, 3)\n",
    "print(\"Result of find('a', 1, 3):\")\n",
    "print(result_start_end)"
   ]
  },
  {
   "cell_type": "markdown",
   "metadata": {},
   "source": [
    "### Finding All Occurrences with `str.findall()`\n",
    "\n",
    "The `str.findall()` method finds all occurrences of a pattern or regular expression."
   ]
  },
  {
   "cell_type": "code",
   "execution_count": null,
   "metadata": {},
   "outputs": [],
   "source": [
    "# Create a Series with strings\n",
    "s = pd.Series(['Lion', 'Monkey', 'Rabbit'])\n",
    "print(\"Original Series:\")\n",
    "print(s)"
   ]
  },
  {
   "cell_type": "code",
   "execution_count": null,
   "metadata": {},
   "outputs": [],
   "source": [
    "# Find all occurrences of 'Monkey'\n",
    "result = s.str.findall('Monkey')\n",
    "print(\"Result of findall('Monkey'):\")\n",
    "print(result)"
   ]
  },
  {
   "cell_type": "code",
   "execution_count": null,
   "metadata": {},
   "outputs": [],
   "source": [
    "# Find all occurrences of 'MONKEY'\n",
    "result_upper = s.str.findall('MONKEY')\n",
    "print(\"Result of findall('MONKEY'):\")\n",
    "print(result_upper)"
   ]
  },
  {
   "cell_type": "code",
   "execution_count": null,
   "metadata": {},
   "outputs": [],
   "source": [
    "# Find all occurrences of 'MONKEY' with case-insensitive flag\n",
    "result_ignore_case = s.str.findall('MONKEY', flags=re.IGNORECASE)\n",
    "print(\"Result of findall('MONKEY', flags=re.IGNORECASE):\")\n",
    "print(result_ignore_case)"
   ]
  },
  {
   "cell_type": "code",
   "execution_count": null,
   "metadata": {},
   "outputs": [],
   "source": [
    "# Create a Series with more complex strings\n",
    "s_complex = pd.Series(['apple and banana', 'orange, apple and pear', 'apple, orange'])\n",
    "print(\"Original Series with complex strings:\")\n",
    "print(s_complex)"
   ]
  },
  {
   "cell_type": "code",
   "execution_count": null,
   "metadata": {},
   "outputs": [],
   "source": [
    "# Find all occurrences of fruits\n",
    "result_complex = s_complex.str.findall(r'apple|banana|orange|pear')\n",
    "print(\"Result of findall for fruits:\")\n",
    "print(result_complex)"
   ]
  },
  {
   "cell_type": "code",
   "execution_count": null,
   "metadata": {},
   "outputs": [],
   "source": [
    "# Find all words\n",
    "result_words = s_complex.str.findall(r'\\w+')\n",
    "print(\"Result of findall for words:\")\n",
    "print(result_words)"
   ]
  },
  {
   "cell_type": "markdown",
   "metadata": {},
   "source": [
    "##### Conclusion\n",
    "\n",
    "In this notebook, we've explored various Series methods in pandas:\n",
    "\n",
    "1. `dt.normalize()`: Converts times to midnight (00:00:00), which is useful when the time component doesn't matter.\n",
    "2. `dt.strftime()`: Formats datetime values to strings using a specified format, allowing for customized date and time representations.\n",
    "3. String extraction methods:\n",
    "   - `str.extractall()`: Extracts groups from all matches of a regular expression pattern, returning a DataFrame with one row for each match and one column for each group.\n",
    "   - `str.find()`: Returns the lowest index where the substring is found, or -1 if not found.\n",
    "   - `str.findall()`: Finds all occurrences of a pattern or regular expression, returning a list of matches for each string.\n",
    "\n",
    "These methods are essential tools for working with datetime data and string manipulation in pandas, allowing for flexible and powerful operations on your data."
   ]
  }
 ],
 "metadata": {
  "kernelspec": {
   "display_name": "Python 3",
   "language": "python",
   "name": "python3"
  },
  "language_info": {
   "codemirror_mode": {
    "name": "ipython",
    "version": 3
   },
   "file_extension": ".py",
   "mimetype": "text/x-python",
   "name": "python",
   "nbconvert_exporter": "python",
   "pygments_lexer": "ipython3",
   "version": "3.8.5"
  }
 },
 "nbformat": 4,
 "nbformat_minor": 4
}