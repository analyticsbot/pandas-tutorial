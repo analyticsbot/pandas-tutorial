{
 "cells": [
  {
   "cell_type": "markdown",
   "metadata": {},
   "source": [
    "#### Key Pandas Functions and Features\n",
    "\n",
    "Here's a breakdown of key pandas functions and features, categorized for clarity:\n",
    "\n",
    "#### Data Manipulation\n",
    "\n",
    "*   `merge()`: Combine datasets based on common columns or indices.\n",
    "*   `concat()`: Concatenate datasets along rows or columns.\n",
    "*   `join()`: Merge datasets with index alignment.\n",
    "*   `pivot()`: Reshape data using unique column values as rows and columns.\n",
    "*   `melt()`: Convert wide-format data to long-format.\n",
    "\n",
    "#### Handling Missing Data\n",
    "\n",
    "*   `isnull()`: Detect missing values.\n",
    "*   `fillna()`: Fill missing values with a specified value or method.\n",
    "*   `dropna()`: Remove rows or columns containing missing values.\n",
    "*   `interpolate()`: Estimate missing values using interpolation techniques.\n",
    "\n",
    "#### Descriptive Statistics\n",
    "\n",
    "*   `mean()`, `median()`, `std()`, `sum()`: Basic statistical calculations.\n",
    "*   `describe()`: Generate descriptive statistics of a dataset.\n",
    "*   `corr()`: Compute pairwise correlation of columns.\n",
    "\n",
    "#### Indexing and Iteration\n",
    "\n",
    "*   `.loc[]`: Label-based indexing to select rows/columns.\n",
    "*   `.iloc[]`: Position-based indexing for selection.\n",
    "*   `.iterrows()`: Iterate over rows as `(index, Series)` pairs.\n",
    "\n",
    "#### Reshaping and Sorting\n",
    "\n",
    "*   `sort_values()`: Sort values by a specific column or index.\n",
    "*   `sort_index()`: Sort a dataset by its index.\n",
    "*   `transpose()`: Transpose rows and columns.\n",
    "\n",
    "#### Input/Output (I/O)\n",
    "\n",
    "*   `read_csv()`, `to_csv()`: Read/write data to CSV files.\n",
    "*   `read_excel()`, `to_excel()`: Read/write data to Excel files.\n",
    "*   `read_sql()`, `to_sql()`: Interact with SQL databases.\n",
    "*   `read_json()`, `to_json()`: Read/write JSON data.\n",
    "\n",
    "#### Time Series Analysis\n",
    "\n",
    "*   `date_range()`: Generate date ranges.\n",
    "*   `resample()`: Group data by a new time frequency.\n",
    "*   `shift()`: Shift data by a specified time or period.\n",
    "\n",
    "#### Plotting\n",
    "\n",
    "*   `.plot()`: Visualize data using built-in Matplotlib integration.\n",
    "*   `.hist()`: Generate histograms for columns.\n",
    "*   `.boxplot()`: Create boxplots to visualize data distribution.\n",
    "\n",
    "#### General Utilities\n",
    "\n",
    "*   `astype()`: Convert data types.\n",
    "*   `duplicated()`: Find duplicate rows.\n",
    "*   `unique()`: Get unique values from a column.\n",
    "*   `apply()`: Apply custom functions to rows or columns."
   ]
  },
  {
   "cell_type": "code",
   "execution_count": 2,
   "metadata": {},
   "outputs": [
    {
     "name": "stdout",
     "output_type": "stream",
     "text": [
      "      Name   Age  Score Department\n",
      "0    Alice  25.0   85.5         HR\n",
      "1      Bob  30.0   88.0         IT\n",
      "2  Charlie  35.0   92.0    Finance\n",
      "3    David  40.0   76.5         IT\n",
      "4      Eve   NaN   88.0         HR\n"
     ]
    }
   ],
   "source": [
    "## Sample Dataset\n",
    "\n",
    "import pandas as pd\n",
    "\n",
    "data = {\n",
    "    \"Name\": [\"Alice\", \"Bob\", \"Charlie\", \"David\", \"Eve\"],\n",
    "    \"Age\": [25, 30, 35, 40, None],\n",
    "    \"Score\": [85.5, 88.0, 92.0, 76.5, 88.0],\n",
    "    \"Department\": [\"HR\", \"IT\", \"Finance\", \"IT\", \"HR\"],\n",
    "}\n",
    "\n",
    "df = pd.DataFrame(data)\n",
    "print(df)"
   ]
  },
  {
   "cell_type": "markdown",
   "metadata": {},
   "source": [
    "#### Data Manipulation"
   ]
  },
  {
   "cell_type": "code",
   "execution_count": 3,
   "metadata": {},
   "outputs": [
    {
     "name": "stdout",
     "output_type": "stream",
     "text": [
      "      Name   Age  Score Department   Head\n",
      "0    Alice  25.0   85.5         HR  Sarah\n",
      "1      Bob  30.0   88.0         IT    Tom\n",
      "2  Charlie  35.0   92.0    Finance   Mike\n",
      "3    David  40.0   76.5         IT    Tom\n",
      "4      Eve   NaN   88.0         HR  Sarah\n"
     ]
    }
   ],
   "source": [
    "## merge()\n",
    "## Combines datasets based on common columns or indices.\n",
    "\n",
    "dept_data = {\"Department\": [\"HR\", \"IT\", \"Finance\"], \"Head\": [\"Sarah\", \"Tom\", \"Mike\"]}\n",
    "dept_df = pd.DataFrame(dept_data)\n",
    "\n",
    "merged_df = df.merge(dept_df, on=\"Department\")\n",
    "print(merged_df)\n",
    "\n",
    "## Explanation: Merges df with dept_df on the Department column, adding the Head column."
   ]
  },
  {
   "cell_type": "code",
   "execution_count": 4,
   "metadata": {},
   "outputs": [
    {
     "name": "stdout",
     "output_type": "stream",
     "text": [
      "      Name   Age  Score Department\n",
      "0    Alice  25.0   85.5         HR\n",
      "1      Bob  30.0   88.0         IT\n",
      "2  Charlie  35.0   92.0    Finance\n",
      "3    David  40.0   76.5         IT\n",
      "4      Eve   NaN   88.0         HR\n",
      "5    Frank  50.0   90.0      Legal\n"
     ]
    }
   ],
   "source": [
    "## concat()\n",
    "## Concatenates datasets along rows or columns.\n",
    "\n",
    "extra_data = pd.DataFrame({\"Name\": [\"Frank\"], \"Age\": [50], \"Score\": [90], \"Department\": [\"Legal\"]})\n",
    "concat_df = pd.concat([df, extra_data], ignore_index=True)\n",
    "print(concat_df)\n",
    "\n",
    "\n",
    "## Explanation: Adds extra_data as new rows to df."
   ]
  },
  {
   "cell_type": "code",
   "execution_count": 5,
   "metadata": {},
   "outputs": [
    {
     "name": "stdout",
     "output_type": "stream",
     "text": [
      "      Name   Age  Score Department   Head\n",
      "0    Alice  25.0   85.5         HR  Sarah\n",
      "1      Bob  30.0   88.0         IT    Tom\n",
      "2  Charlie  35.0   92.0    Finance   Mike\n",
      "3    David  40.0   76.5         IT    Tom\n",
      "4      Eve   NaN   88.0         HR  Sarah\n"
     ]
    }
   ],
   "source": [
    "## join()\n",
    "## Merges datasets using the index.\n",
    "\n",
    "index_df = dept_df.set_index(\"Department\")\n",
    "joined_df = df.join(index_df, on=\"Department\")\n",
    "print(joined_df)\n",
    "\n",
    "## Explanation: Joins dept_df (with Department as the index) to df."
   ]
  },
  {
   "cell_type": "code",
   "execution_count": 6,
   "metadata": {},
   "outputs": [
    {
     "name": "stdout",
     "output_type": "stream",
     "text": [
      "Department  Finance    HR    IT\n",
      "Name                           \n",
      "Alice           NaN  85.5   NaN\n",
      "Bob             NaN   NaN  88.0\n",
      "Charlie        92.0   NaN   NaN\n",
      "David           NaN   NaN  76.5\n",
      "Eve             NaN  88.0   NaN\n"
     ]
    }
   ],
   "source": [
    "## pivot()\n",
    "## Reshapes data using unique values as rows/columns.\n",
    "\n",
    "pivoted = df.pivot(index=\"Name\", columns=\"Department\", values=\"Score\")\n",
    "print(pivoted)\n",
    "\n",
    "## Explanation: Creates a table with names as rows, departments as columns, and scores as values."
   ]
  },
  {
   "cell_type": "code",
   "execution_count": 7,
   "metadata": {},
   "outputs": [
    {
     "name": "stdout",
     "output_type": "stream",
     "text": [
      "      Name variable  value\n",
      "0    Alice      Age   25.0\n",
      "1      Bob      Age   30.0\n",
      "2  Charlie      Age   35.0\n",
      "3    David      Age   40.0\n",
      "4      Eve      Age    NaN\n",
      "5    Alice    Score   85.5\n",
      "6      Bob    Score   88.0\n",
      "7  Charlie    Score   92.0\n",
      "8    David    Score   76.5\n",
      "9      Eve    Score   88.0\n"
     ]
    }
   ],
   "source": [
    "## melt()\n",
    "## Converts wide-format data to long-format.\n",
    "\n",
    "melted = df.melt(id_vars=[\"Name\"], value_vars=[\"Age\", \"Score\"])\n",
    "print(melted)\n",
    "\n",
    "## Explanation: Converts Age and Score into key-value pairs."
   ]
  },
  {
   "cell_type": "markdown",
   "metadata": {},
   "source": [
    "#### Handling Missing Data"
   ]
  },
  {
   "cell_type": "code",
   "execution_count": 8,
   "metadata": {},
   "outputs": [
    {
     "name": "stdout",
     "output_type": "stream",
     "text": [
      "    Name    Age  Score  Department\n",
      "0  False  False  False       False\n",
      "1  False  False  False       False\n",
      "2  False  False  False       False\n",
      "3  False  False  False       False\n",
      "4  False   True  False       False\n"
     ]
    }
   ],
   "source": [
    "## isnull()\n",
    "## Detects missing values.\n",
    "\n",
    "print(df.isnull())\n",
    "\n",
    "## Explanation: Identifies missing values (True for missing, False otherwise)."
   ]
  },
  {
   "cell_type": "code",
   "execution_count": 9,
   "metadata": {},
   "outputs": [
    {
     "name": "stdout",
     "output_type": "stream",
     "text": [
      "      Name   Age  Score Department\n",
      "0    Alice  25.0   85.5         HR\n",
      "1      Bob  30.0   88.0         IT\n",
      "2  Charlie  35.0   92.0    Finance\n",
      "3    David  40.0   76.5         IT\n",
      "4      Eve   0.0   88.0         HR\n"
     ]
    }
   ],
   "source": [
    "## fillna()\n",
    "## Fills missing values with a specific value.\n",
    "\n",
    "filled = df.fillna(0)\n",
    "print(filled)\n",
    "\n",
    "## Explanation: Replaces NaN in Age with 0.\n"
   ]
  },
  {
   "cell_type": "code",
   "execution_count": 10,
   "metadata": {},
   "outputs": [
    {
     "name": "stdout",
     "output_type": "stream",
     "text": [
      "      Name   Age  Score Department\n",
      "0    Alice  25.0   85.5         HR\n",
      "1      Bob  30.0   88.0         IT\n",
      "2  Charlie  35.0   92.0    Finance\n",
      "3    David  40.0   76.5         IT\n"
     ]
    }
   ],
   "source": [
    "## dropna()\n",
    "## Removes rows or columns with missing values.\n",
    "\n",
    "dropped = df.dropna()\n",
    "print(dropped)\n",
    "\n",
    "## Explanation: Drops rows where any column contains NaN."
   ]
  },
  {
   "cell_type": "code",
   "execution_count": 11,
   "metadata": {},
   "outputs": [
    {
     "name": "stdout",
     "output_type": "stream",
     "text": [
      "      Name   Age  Score Department\n",
      "0    Alice  25.0   85.5         HR\n",
      "1      Bob  30.0   88.0         IT\n",
      "2  Charlie  35.0   92.0    Finance\n",
      "3    David  40.0   76.5         IT\n",
      "4      Eve  40.0   88.0         HR\n"
     ]
    },
    {
     "name": "stderr",
     "output_type": "stream",
     "text": [
      "/var/folders/7y/fzwln1_93mn3js3wyk61_6xm0000gn/T/ipykernel_67827/3471553180.py:4: FutureWarning: DataFrame.interpolate with object dtype is deprecated and will raise in a future version. Call obj.infer_objects(copy=False) before interpolating instead.\n",
      "  interpolated = df.interpolate()\n"
     ]
    }
   ],
   "source": [
    "## interpolate()\n",
    "## Estimates missing values by interpolation.\n",
    "\n",
    "interpolated = df.interpolate()\n",
    "print(interpolated)\n",
    "\n",
    "## Explanation: Fills missing Age based on linear interpolation."
   ]
  },
  {
   "cell_type": "markdown",
   "metadata": {},
   "source": [
    "#### Descriptive Statistics"
   ]
  },
  {
   "cell_type": "code",
   "execution_count": 12,
   "metadata": {},
   "outputs": [
    {
     "name": "stdout",
     "output_type": "stream",
     "text": [
      "86.0\n"
     ]
    }
   ],
   "source": [
    "## mean()\n",
    "## Computes the average of values.\n",
    "\n",
    "print(df[\"Score\"].mean())\n",
    "\n",
    "## Explanation: Calculates the mean score."
   ]
  },
  {
   "cell_type": "code",
   "execution_count": 13,
   "metadata": {},
   "outputs": [
    {
     "name": "stdout",
     "output_type": "stream",
     "text": [
      "             Age      Score\n",
      "count   4.000000   5.000000\n",
      "mean   32.500000  86.000000\n",
      "std     6.454972   5.798707\n",
      "min    25.000000  76.500000\n",
      "25%    28.750000  85.500000\n",
      "50%    32.500000  88.000000\n",
      "75%    36.250000  88.000000\n",
      "max    40.000000  92.000000\n"
     ]
    }
   ],
   "source": [
    "## describe()\n",
    "## Summarizes statistics for numerical columns.\n",
    "\n",
    "print(df.describe())\n",
    "\n",
    "## Explanation: Provides a summary (mean, min, max, etc.) for Age and Score.\n"
   ]
  },
  {
   "cell_type": "markdown",
   "metadata": {},
   "source": [
    "#### Indexing and Iteration"
   ]
  },
  {
   "cell_type": "code",
   "execution_count": 14,
   "metadata": {},
   "outputs": [
    {
     "name": "stdout",
     "output_type": "stream",
     "text": [
      "Alice\n"
     ]
    }
   ],
   "source": [
    "## .loc[]\n",
    "## Selects rows/columns by label.\n",
    "\n",
    "print(df.loc[0, \"Name\"])\n",
    "\n",
    "## Explanation: Retrieves Name from the first row."
   ]
  },
  {
   "cell_type": "code",
   "execution_count": 15,
   "metadata": {},
   "outputs": [
    {
     "name": "stdout",
     "output_type": "stream",
     "text": [
      "92.0\n"
     ]
    }
   ],
   "source": [
    "## .iloc[]\n",
    "## Selects rows/columns by position.\n",
    "\n",
    "print(df.iloc[2, 2])\n",
    "\n",
    "## Explanation: Retrieves Score from the third row."
   ]
  },
  {
   "cell_type": "markdown",
   "metadata": {},
   "source": [
    "#### Reshaping and Sorting\n"
   ]
  },
  {
   "cell_type": "code",
   "execution_count": 16,
   "metadata": {},
   "outputs": [
    {
     "name": "stdout",
     "output_type": "stream",
     "text": [
      "      Name   Age  Score Department\n",
      "2  Charlie  35.0   92.0    Finance\n",
      "1      Bob  30.0   88.0         IT\n",
      "4      Eve   NaN   88.0         HR\n",
      "0    Alice  25.0   85.5         HR\n",
      "3    David  40.0   76.5         IT\n"
     ]
    }
   ],
   "source": [
    "## sort_values()\n",
    "## Sorts rows by values in a column.\n",
    "\n",
    "sorted_df = df.sort_values(by=\"Score\", ascending=False)\n",
    "print(sorted_df)\n",
    "\n",
    "## Explanation: Sorts rows by Score in descending order.\n"
   ]
  },
  {
   "cell_type": "code",
   "execution_count": 17,
   "metadata": {},
   "outputs": [
    {
     "name": "stdout",
     "output_type": "stream",
     "text": [
      "                0     1        2      3     4\n",
      "Name        Alice   Bob  Charlie  David   Eve\n",
      "Age          25.0  30.0     35.0   40.0   NaN\n",
      "Score        85.5  88.0     92.0   76.5  88.0\n",
      "Department     HR    IT  Finance     IT    HR\n"
     ]
    }
   ],
   "source": [
    "## transpose()\n",
    "## Swaps rows and columns.\n",
    "\n",
    "print(df.transpose())\n",
    "\n",
    "## Explanation: Transposes the DataFrame."
   ]
  },
  {
   "cell_type": "markdown",
   "metadata": {},
   "source": [
    "#### I/O Functions"
   ]
  },
  {
   "cell_type": "code",
   "execution_count": 18,
   "metadata": {},
   "outputs": [],
   "source": [
    "## read_csv() / to_csv()\n",
    "## Reads/writes CSV files.\n",
    "\n",
    "df.to_csv(\"output.csv\", index=False)\n",
    "\n",
    "## Explanation: Saves df to a file named output.csv."
   ]
  },
  {
   "cell_type": "code",
   "execution_count": 19,
   "metadata": {},
   "outputs": [],
   "source": [
    "## read_json() / to_json()\n",
    "## Reads/writes JSON files.\n",
    "\n",
    "df.to_json(\"output.json\", orient=\"records\")\n",
    "\n",
    "## Explanation: Saves df as a JSON file."
   ]
  },
  {
   "cell_type": "code",
   "execution_count": 20,
   "metadata": {},
   "outputs": [
    {
     "name": "stdout",
     "output_type": "stream",
     "text": [
      "      Name   Age  Score Department\n",
      "0    Alice  25.0   85.5         HR\n",
      "1      Bob  30.0   88.0         IT\n",
      "2  Charlie  35.0   92.0    Finance\n",
      "3    David  40.0   76.5         IT\n",
      "4      Eve   NaN   88.0         HR\n"
     ]
    }
   ],
   "source": [
    "## read_sql() / to_sql()\n",
    "## Reads/writes data to a SQL database.\n",
    "\n",
    "import sqlite3\n",
    "conn = sqlite3.connect(\":memory:\")\n",
    "df.to_sql(\"table_name\", conn, index=False)\n",
    "read_sql_df = pd.read_sql(\"SELECT * FROM table_name\", conn)\n",
    "print(read_sql_df)\n",
    "\n",
    "## Explanation: Saves df to a SQL table and reads it back.\n"
   ]
  },
  {
   "cell_type": "code",
   "execution_count": 22,
   "metadata": {},
   "outputs": [],
   "source": [
    "## read_excel() / to_excel()\n",
    "## Reads/writes Excel files.\n",
    "\n",
    "df.to_excel(\"output.xlsx\", index=False)\n",
    "\n",
    "## Explanation: Exports df to an Excel file named output.xlsx."
   ]
  },
  {
   "cell_type": "markdown",
   "metadata": {},
   "source": [
    "#### Time Series Analysis"
   ]
  },
  {
   "cell_type": "code",
   "execution_count": 23,
   "metadata": {},
   "outputs": [
    {
     "name": "stdout",
     "output_type": "stream",
     "text": [
      "DatetimeIndex(['2023-01-01', '2023-01-02', '2023-01-03', '2023-01-04',\n",
      "               '2023-01-05', '2023-01-06', '2023-01-07'],\n",
      "              dtype='datetime64[ns]', freq='D')\n"
     ]
    }
   ],
   "source": [
    "## date_range()\n",
    "## Generates a range of dates.\n",
    "\n",
    "dates = pd.date_range(start=\"2023-01-01\", end=\"2023-01-07\")\n",
    "print(dates)\n",
    "\n",
    "## Explanation: Creates a range of daily timestamps from January 1 to January 7, 2023"
   ]
  },
  {
   "cell_type": "code",
   "execution_count": 24,
   "metadata": {},
   "outputs": [
    {
     "name": "stdout",
     "output_type": "stream",
     "text": [
      "            Value\n",
      "Date             \n",
      "2023-01-01   20.0\n",
      "2023-01-04   50.0\n"
     ]
    }
   ],
   "source": [
    "## resample()\n",
    "## Groups data by a new time frequency.\n",
    "\n",
    "time_data = pd.DataFrame({\n",
    "    \"Date\": pd.date_range(start=\"2023-01-01\", periods=6, freq=\"D\"),\n",
    "    \"Value\": [10, 20, 30, 40, 50, 60],\n",
    "}).set_index(\"Date\")\n",
    "resampled = time_data.resample(\"3D\").mean()\n",
    "print(resampled)\n",
    "\n",
    "## Explanation: Groups the data by 3-day intervals and calculates the mean for each group."
   ]
  },
  {
   "cell_type": "code",
   "execution_count": 26,
   "metadata": {},
   "outputs": [
    {
     "name": "stdout",
     "output_type": "stream",
     "text": [
      "Date\n",
      "2023-01-01     NaN\n",
      "2023-01-02    10.0\n",
      "2023-01-03    20.0\n",
      "2023-01-04    30.0\n",
      "2023-01-05    40.0\n",
      "2023-01-06    50.0\n",
      "Name: Value, dtype: float64\n"
     ]
    }
   ],
   "source": [
    "## shift()\n",
    "## Shifts data by a specified time period.\n",
    "\n",
    "shifted = time_data[\"Value\"].shift(1)\n",
    "print(shifted)\n",
    "\n",
    "## Explanation: Moves data down by one row, introducing a lag."
   ]
  },
  {
   "cell_type": "markdown",
   "metadata": {},
   "source": [
    "#### Plotting"
   ]
  },
  {
   "cell_type": "code",
   "execution_count": 27,
   "metadata": {},
   "outputs": [
    {
     "data": {
      "text/plain": [
       "<Axes: title={'center': 'Scores Over Index'}>"
      ]
     },
     "execution_count": 27,
     "metadata": {},
     "output_type": "execute_result"
    },
    {
     "data": {
      "image/png": "[encoded data removed]",
      "text/plain": [
       "<Figure size 640x480 with 1 Axes>"
      ]
     },
     "metadata": {},
     "output_type": "display_data"
    }
   ],
   "source": [
    "## .plot()\n",
    "## Visualizes data using Matplotlib.\n",
    "\n",
    "df[\"Score\"].plot(kind=\"line\", title=\"Scores Over Index\")\n",
    "\n",
    "## Explanation: Plots a line graph of Score values."
   ]
  },
  {
   "cell_type": "code",
   "execution_count": 28,
   "metadata": {},
   "outputs": [
    {
     "data": {
      "text/plain": [
       "<Axes: title={'center': 'Score Distribution'}, ylabel='Frequency'>"
      ]
     },
     "execution_count": 28,
     "metadata": {},
     "output_type": "execute_result"
    },
    {
     "data": {
      "image/png": "[encoded data removed]",
      "text/plain": [
       "<Figure size 640x480 with 1 Axes>"
      ]
     },
     "metadata": {},
     "output_type": "display_data"
    }
   ],
   "source": [
    "## .hist()\n",
    "## Creates a histogram.\n",
    "\n",
    "df[\"Score\"].plot(kind=\"hist\", title=\"Score Distribution\")\n",
    "\n",
    "## Explanation: Displays a histogram of Score values."
   ]
  },
  {
   "cell_type": "code",
   "execution_count": 29,
   "metadata": {},
   "outputs": [
    {
     "data": {
      "text/plain": [
       "<Axes: >"
      ]
     },
     "execution_count": 29,
     "metadata": {},
     "output_type": "execute_result"
    },
    {
     "data": {
      "image/png": "[encoded data removed]",
      "text/plain": [
       "<Figure size 640x480 with 1 Axes>"
      ]
     },
     "metadata": {},
     "output_type": "display_data"
    }
   ],
   "source": [
    "## .boxplot()\n",
    "## Creates a boxplot.\n",
    "\n",
    "df.boxplot(column=[\"Score\"], grid=False)\n",
    "\n",
    "## Explanation: Shows the distribution of Score with a boxplot.\n",
    "\n"
   ]
  },
  {
   "cell_type": "markdown",
   "metadata": {},
   "source": [
    "#### General Utilities\n"
   ]
  },
  {
   "cell_type": "code",
   "execution_count": 30,
   "metadata": {},
   "outputs": [
    {
     "name": "stdout",
     "output_type": "stream",
     "text": [
      "Name           object\n",
      "Age           float64\n",
      "Score         float64\n",
      "Department     object\n",
      "dtype: object\n"
     ]
    }
   ],
   "source": [
    "## astype()\n",
    "## Converts data types.\n",
    "\n",
    "df[\"Age\"] = df[\"Age\"].astype(int, errors=\"ignore\")\n",
    "print(df.dtypes)\n",
    "\n",
    "## Explanation: Converts the Age column to integers, ignoring errors."
   ]
  },
  {
   "cell_type": "code",
   "execution_count": 31,
   "metadata": {},
   "outputs": [
    {
     "name": "stdout",
     "output_type": "stream",
     "text": [
      "0    False\n",
      "1    False\n",
      "2    False\n",
      "3    False\n",
      "4    False\n",
      "dtype: bool\n"
     ]
    }
   ],
   "source": [
    "## duplicated()\n",
    "## Identifies duplicate rows.\n",
    "\n",
    "print(df.duplicated())\n",
    "\n",
    "## Explanation: Returns a boolean series indicating duplicate rows."
   ]
  },
  {
   "cell_type": "code",
   "execution_count": 32,
   "metadata": {},
   "outputs": [
    {
     "name": "stdout",
     "output_type": "stream",
     "text": [
      "['HR' 'IT' 'Finance']\n"
     ]
    }
   ],
   "source": [
    "## unique()\n",
    "## Finds unique values in a column.\n",
    "\n",
    "print(df[\"Department\"].unique())\n",
    "\n",
    "## Explanation: Lists unique department names."
   ]
  },
  {
   "cell_type": "code",
   "execution_count": 33,
   "metadata": {},
   "outputs": [
    {
     "name": "stdout",
     "output_type": "stream",
     "text": [
      "      Name   Age  Score Department  Score_Percentage\n",
      "0    Alice  25.0   85.5         HR             0.855\n",
      "1      Bob  30.0   88.0         IT             0.880\n",
      "2  Charlie  35.0   92.0    Finance             0.920\n",
      "3    David  40.0   76.5         IT             0.765\n",
      "4      Eve   NaN   88.0         HR             0.880\n"
     ]
    }
   ],
   "source": [
    "## apply()\n",
    "## Applies a custom function to rows or columns.\n",
    "\n",
    "df[\"Score_Percentage\"] = df[\"Score\"].apply(lambda x: x / 100)\n",
    "print(df)\n",
    "\n",
    "## Explanation: Adds a new column by dividing each Score value by 100."
   ]
  },
  {
   "cell_type": "markdown",
   "metadata": {},
   "source": [
    "#### Reshaping and Sorting (Continued)\n"
   ]
  },
  {
   "cell_type": "code",
   "execution_count": 34,
   "metadata": {},
   "outputs": [
    {
     "name": "stdout",
     "output_type": "stream",
     "text": [
      "      Name   Age  Score Department  Score_Percentage\n",
      "4      Eve   NaN   88.0         HR             0.880\n",
      "3    David  40.0   76.5         IT             0.765\n",
      "2  Charlie  35.0   92.0    Finance             0.920\n",
      "1      Bob  30.0   88.0         IT             0.880\n",
      "0    Alice  25.0   85.5         HR             0.855\n"
     ]
    }
   ],
   "source": [
    "## sort_index()\n",
    "## Sorts a DataFrame by its index.\n",
    "\n",
    "sorted_by_index = df.sort_index(ascending=False)\n",
    "print(sorted_by_index)\n",
    "\n",
    "## Explanation: Rearranges rows in reverse index order.\n",
    "\n"
   ]
  },
  {
   "cell_type": "markdown",
   "metadata": {},
   "source": [
    "#### Data Cleaning and Transformation"
   ]
  },
  {
   "cell_type": "code",
   "execution_count": 35,
   "metadata": {},
   "outputs": [
    {
     "name": "stdout",
     "output_type": "stream",
     "text": [
      "      Name   Age  Score       Department  Score_Percentage\n",
      "0    Alice  25.0   85.5  Human Resources             0.855\n",
      "1      Bob  30.0   88.0               IT             0.880\n",
      "2  Charlie  35.0   92.0          Finance             0.920\n",
      "3    David  40.0   76.5               IT             0.765\n",
      "4      Eve   NaN   88.0  Human Resources             0.880\n"
     ]
    }
   ],
   "source": [
    "## replace()\n",
    "## Replace specific values in a DataFrame.\n",
    "\n",
    "df[\"Department\"] = df[\"Department\"].replace(\"HR\", \"Human Resources\")\n",
    "print(df)\n",
    "\n",
    "## Explanation: Replaces \"HR\" with \"Human Resources\" in the Department column."
   ]
  },
  {
   "cell_type": "code",
   "execution_count": 36,
   "metadata": {},
   "outputs": [
    {
     "name": "stdout",
     "output_type": "stream",
     "text": [
      "      Name   Age  Score       Department  Score_Percentage  Name_Length\n",
      "0    Alice  25.0   85.5  Human Resources             0.855            5\n",
      "1      Bob  30.0   88.0               IT             0.880            3\n",
      "2  Charlie  35.0   92.0          Finance             0.920            7\n",
      "3    David  40.0   76.5               IT             0.765            5\n",
      "4      Eve   NaN   88.0  Human Resources             0.880            3\n"
     ]
    }
   ],
   "source": [
    "## map()\n",
    "## Apply a function to each element of a Series.\n",
    "\n",
    "df[\"Name_Length\"] = df[\"Name\"].map(len)\n",
    "print(df)\n",
    "\n",
    "## Explanation: Adds a new column with the length of each name."
   ]
  },
  {
   "cell_type": "code",
   "execution_count": 37,
   "metadata": {},
   "outputs": [
    {
     "name": "stdout",
     "output_type": "stream",
     "text": [
      "      Name   Age  Score       Department  Score_Percentage  Name_Length\n",
      "0    Alice  25.0   85.5  Human Resources             0.855            5\n",
      "1      Bob  30.0   88.0               IT             0.880            3\n",
      "2  Charlie  35.0   92.0          Finance             0.920            7\n",
      "4      Eve   NaN   88.0  Human Resources             0.880            3\n"
     ]
    }
   ],
   "source": [
    "## query()\n",
    "## Query the DataFrame with a string expression.\n",
    "\n",
    "filtered_df = df.query(\"Score > 85\")\n",
    "print(filtered_df)\n",
    "\n",
    "## Explanation: Filters rows where the Score is greater than 85.\n"
   ]
  },
  {
   "cell_type": "code",
   "execution_count": 38,
   "metadata": {},
   "outputs": [
    {
     "name": "stdout",
     "output_type": "stream",
     "text": [
      "      Name   Age  Score       Department  Score_Percentage  Name_Length  \\\n",
      "0    Alice  25.0   85.5  Human Resources             0.855            5   \n",
      "1      Bob  30.0   88.0               IT             0.880            3   \n",
      "2  Charlie  35.0   92.0          Finance             0.920            7   \n",
      "3    David  40.0   76.5               IT             0.765            5   \n",
      "4      Eve   NaN   88.0  Human Resources             0.880            3   \n",
      "\n",
      "  Score_Bins  \n",
      "0     Medium  \n",
      "1     Medium  \n",
      "2       High  \n",
      "3        Low  \n",
      "4     Medium  \n"
     ]
    }
   ],
   "source": [
    "# cut()\n",
    "# Bin continuous data into discrete intervals.\n",
    "\n",
    "df[\"Score_Bins\"] = pd.cut(df[\"Score\"], bins=[0, 80, 90, 100], labels=[\"Low\", \"Medium\", \"High\"])\n",
    "print(df)\n",
    "\n",
    "# Explanation: Groups Score into bins labeled \"Low,\" \"Medium,\" and \"High.\""
   ]
  },
  {
   "cell_type": "code",
   "execution_count": 39,
   "metadata": {},
   "outputs": [
    {
     "name": "stdout",
     "output_type": "stream",
     "text": [
      "      Name   Age  Score       Department  Score_Percentage  Name_Length  \\\n",
      "0    Alice  25.0   85.5  Human Resources             0.855            5   \n",
      "1      Bob  30.0   88.0               IT             0.880            3   \n",
      "2  Charlie  35.0   92.0          Finance             0.920            7   \n",
      "3    David  40.0   76.5               IT             0.765            5   \n",
      "4      Eve   NaN   88.0  Human Resources             0.880            3   \n",
      "\n",
      "  Score_Bins Score_Quantiles  \n",
      "0     Medium             Low  \n",
      "1     Medium          Medium  \n",
      "2       High            High  \n",
      "3        Low             Low  \n",
      "4     Medium          Medium  \n"
     ]
    }
   ],
   "source": [
    "# qcut()\n",
    "# Quantile-based discretization.\n",
    "\n",
    "df[\"Score_Quantiles\"] = pd.qcut(df[\"Score\"], q=3, labels=[\"Low\", \"Medium\", \"High\"])\n",
    "print(df)\n",
    "\n",
    "# Explanation: Divides Score into quantiles."
   ]
  },
  {
   "cell_type": "markdown",
   "metadata": {},
   "source": [
    "#### Data Aggregation"
   ]
  },
  {
   "cell_type": "code",
   "execution_count": 40,
   "metadata": {},
   "outputs": [
    {
     "name": "stdout",
     "output_type": "stream",
     "text": [
      "Department\n",
      "Finance            92.00\n",
      "Human Resources    86.75\n",
      "IT                 82.25\n",
      "Name: Score, dtype: float64\n"
     ]
    }
   ],
   "source": [
    "# groupby()\n",
    "# Group data for aggregation or transformation.\n",
    "    \n",
    "grouped = df.groupby(\"Department\")[\"Score\"].mean()\n",
    "print(grouped)\n",
    "\n",
    "# Explanation: Calculates the mean Score for each Department."
   ]
  },
  {
   "cell_type": "code",
   "execution_count": 41,
   "metadata": {},
   "outputs": [
    {
     "name": "stdout",
     "output_type": "stream",
     "text": [
      "      Score   Age\n",
      "mean   86.0   NaN\n",
      "max    92.0  40.0\n",
      "min     NaN  25.0\n"
     ]
    }
   ],
   "source": [
    "# agg()\n",
    "# Perform multiple aggregation operations.\n",
    "\n",
    "summary = df.agg({\"Score\": [\"mean\", \"max\"], \"Age\": [\"min\", \"max\"]})\n",
    "print(summary)\n",
    "\n",
    "# Explanation: Computes multiple aggregations for selected columns."
   ]
  },
  {
   "cell_type": "code",
   "execution_count": 42,
   "metadata": {},
   "outputs": [
    {
     "name": "stdout",
     "output_type": "stream",
     "text": [
      "Score            False  True \n",
      "Department                   \n",
      "Finance              0      1\n",
      "Human Resources      0      2\n",
      "IT                   1      1\n"
     ]
    }
   ],
   "source": [
    "# crosstab()\n",
    "# Compute a cross-tabulation of two columns.\n",
    "\n",
    "cross = pd.crosstab(df[\"Department\"], df[\"Score\"] > 85)\n",
    "print(cross)\n",
    "\n",
    "# Explanation: Creates a contingency table of Department and high Score.\n"
   ]
  },
  {
   "cell_type": "markdown",
   "metadata": {},
   "source": [
    "#### Index Handling"
   ]
  },
  {
   "cell_type": "code",
   "execution_count": 43,
   "metadata": {},
   "outputs": [
    {
     "name": "stdout",
     "output_type": "stream",
     "text": [
      "          Age  Score       Department  Score_Percentage  Name_Length  \\\n",
      "Name                                                                   \n",
      "Alice    25.0   85.5  Human Resources             0.855            5   \n",
      "Bob      30.0   88.0               IT             0.880            3   \n",
      "Charlie  35.0   92.0          Finance             0.920            7   \n",
      "David    40.0   76.5               IT             0.765            5   \n",
      "Eve       NaN   88.0  Human Resources             0.880            3   \n",
      "\n",
      "        Score_Bins Score_Quantiles  \n",
      "Name                                \n",
      "Alice       Medium             Low  \n",
      "Bob         Medium          Medium  \n",
      "Charlie       High            High  \n",
      "David          Low             Low  \n",
      "Eve         Medium          Medium  \n"
     ]
    }
   ],
   "source": [
    "# set_index()\n",
    "# Set a column as the DataFrame index.\n",
    "\n",
    "indexed_df = df.set_index(\"Name\")\n",
    "print(indexed_df)\n",
    "\n",
    "# Explanation: Uses the Name column as the DataFrame index."
   ]
  },
  {
   "cell_type": "code",
   "execution_count": 44,
   "metadata": {},
   "outputs": [
    {
     "name": "stdout",
     "output_type": "stream",
     "text": [
      "      Name   Age  Score       Department  Score_Percentage  Name_Length  \\\n",
      "0    Alice  25.0   85.5  Human Resources             0.855            5   \n",
      "1      Bob  30.0   88.0               IT             0.880            3   \n",
      "2  Charlie  35.0   92.0          Finance             0.920            7   \n",
      "3    David  40.0   76.5               IT             0.765            5   \n",
      "4      Eve   NaN   88.0  Human Resources             0.880            3   \n",
      "\n",
      "  Score_Bins Score_Quantiles  \n",
      "0     Medium             Low  \n",
      "1     Medium          Medium  \n",
      "2       High            High  \n",
      "3        Low             Low  \n",
      "4     Medium          Medium  \n"
     ]
    }
   ],
   "source": [
    "# reset_index()\n",
    "# Reset the index of the DataFrame.\n",
    "\n",
    "reset_df = indexed_df.reset_index()\n",
    "print(reset_df)\n",
    "\n",
    "# Explanation: Converts the index back into a regular column."
   ]
  },
  {
   "cell_type": "markdown",
   "metadata": {},
   "source": [
    "#### String Operations\n"
   ]
  },
  {
   "cell_type": "code",
   "execution_count": 45,
   "metadata": {},
   "outputs": [
    {
     "name": "stdout",
     "output_type": "stream",
     "text": [
      "    Name   Age  Score       Department  Score_Percentage  Name_Length  \\\n",
      "0  Alice  25.0   85.5  Human Resources             0.855            5   \n",
      "\n",
      "  Score_Bins Score_Quantiles  \n",
      "0     Medium             Low  \n"
     ]
    }
   ],
   "source": [
    "# str.contains()\n",
    "# Filter rows based on substrings.\n",
    "\n",
    "filtered = df[df[\"Name\"].str.contains(\"A\")]\n",
    "print(filtered)\n",
    "\n",
    "# Explanation: Selects rows where Name contains \"A.\""
   ]
  },
  {
   "cell_type": "code",
   "execution_count": 46,
   "metadata": {},
   "outputs": [
    {
     "name": "stdout",
     "output_type": "stream",
     "text": [
      "      Name   Age  Score       Department  Score_Percentage  Name_Length  \\\n",
      "0    Alice  25.0   85.5  Human Resources             0.855            5   \n",
      "1      Bob  30.0   88.0               IT             0.880            3   \n",
      "2  Charlie  35.0   92.0          Finance             0.920            7   \n",
      "3    David  40.0   76.5               IT             0.765            5   \n",
      "4      Eve   NaN   88.0  Human Resources             0.880            3   \n",
      "\n",
      "  Score_Bins Score_Quantiles Split_Name  \n",
      "0     Medium             Low    [Alice]  \n",
      "1     Medium          Medium      [Bob]  \n",
      "2       High            High  [Charlie]  \n",
      "3        Low             Low    [David]  \n",
      "4     Medium          Medium      [Eve]  \n"
     ]
    }
   ],
   "source": [
    "# str.split()\n",
    "# Split strings into lists or columns.\n",
    "\n",
    "df[\"Split_Name\"] = df[\"Name\"].str.split(\" \")\n",
    "print(df)\n",
    "\n",
    "# Explanation: Splits Name values into parts."
   ]
  },
  {
   "cell_type": "markdown",
   "metadata": {},
   "source": [
    "#### Memory Optimization\n"
   ]
  },
  {
   "cell_type": "code",
   "execution_count": 47,
   "metadata": {},
   "outputs": [
    {
     "name": "stdout",
     "output_type": "stream",
     "text": [
      "Index               132\n",
      "Name                 40\n",
      "Age                  40\n",
      "Score                40\n",
      "Department           40\n",
      "Score_Percentage     40\n",
      "Name_Length          40\n",
      "Score_Bins          137\n",
      "Score_Quantiles     137\n",
      "Split_Name           40\n",
      "dtype: int64\n"
     ]
    }
   ],
   "source": [
    "# memory_usage()\n",
    "# Get the memory usage of each column.\n",
    "\n",
    "print(df.memory_usage())\n",
    "\n",
    "# Explanation: Shows the memory footprint of the DataFrame.\n"
   ]
  },
  {
   "cell_type": "code",
   "execution_count": 48,
   "metadata": {},
   "outputs": [
    {
     "name": "stdout",
     "output_type": "stream",
     "text": [
      "Name                  object\n",
      "Age                  float64\n",
      "Score                float32\n",
      "Department            object\n",
      "Score_Percentage     float64\n",
      "Name_Length            int64\n",
      "Score_Bins          category\n",
      "Score_Quantiles     category\n",
      "Split_Name            object\n",
      "dtype: object\n"
     ]
    }
   ],
   "source": [
    "# downcast()\n",
    "# Reduce memory usage by downcasting numeric types.\n",
    "\n",
    "df[\"Score\"] = pd.to_numeric(df[\"Score\"], downcast=\"float\")\n",
    "print(df.dtypes)\n",
    "\n",
    "# Explanation: Converts Score to a smaller memory float type.\n",
    "\n"
   ]
  }
 ],
 "metadata": {
  "kernelspec": {
   "display_name": "venv",
   "language": "python",
   "name": "python3"
  },
  "language_info": {
   "codemirror_mode": {
    "name": "ipython",
    "version": 3
   },
   "file_extension": ".py",
   "mimetype": "text/x-python",
   "name": "python",
   "nbconvert_exporter": "python",
   "pygments_lexer": "ipython3",
   "version": "3.13.2"
  }
 },
 "nbformat": 4,
 "nbformat_minor": 2
}
