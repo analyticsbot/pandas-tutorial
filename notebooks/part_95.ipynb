{
 "cells": [
  {
   "cell_type": "markdown",
   "metadata": {},
   "source": [
    "#### Pandas Development and Documentation - Part 95\n",
    "\n",
    "This notebook covers pandas development practices, documentation standards, and type hinting."
   ]
  },
  {
   "cell_type": "markdown",
   "metadata": {},
   "source": [
    "##### Git Workflow for Contributing\n",
    "\n",
    "When contributing to pandas, it's important to follow proper Git workflow practices:"
   ]
  },
  {
   "cell_type": "markdown",
   "metadata": {},
   "source": [
    "```bash\n",
    "# Create and switch to a feature branch\n",
    "git checkout -b shiny-new-feature\n",
    "\n",
    "# Keep your master branch up to date\n",
    "git checkout master\n",
    "git pull upstream master --ff-only\n",
    "\n",
    "# Switch back to your feature branch\n",
    "git checkout shiny-new-feature\n",
    "```"
   ]
  },
  {
   "cell_type": "markdown",
   "metadata": {},
   "source": [
    "##### Documentation Standards\n",
    "\n",
    "Pandas documentation is written in reStructuredText (reST) and built using Sphinx. The documentation consists of two parts:\n",
    "\n",
    "1. Docstrings in the code itself\n",
    "2. Documentation in the `doc/` folder (tutorials, overviews, etc.)"
   ]
  },
  {
   "cell_type": "markdown",
   "metadata": {},
   "source": [
    "### Docstring Example\n",
    "\n",
    "Pandas follows a convention based on the NumPy Docstring Standard. Here's an example of a properly formatted docstring:"
   ]
  },
  {
   "cell_type": "code",
   "execution_count": null,
   "metadata": {},
   "outputs": [],
   "source": [
    "def add(num1, num2):\n",
    "    \"\"\"\n",
    "    Add up two integer numbers.\n",
    "\n",
    "    This function simply wraps the `+` operator, and does not\n",
    "    do anything interesting, except for illustrating what is\n",
    "    the docstring of a very simple function.\n",
    "\n",
    "    Parameters\n",
    "    ----------\n",
    "    num1 : int\n",
    "        First number to add\n",
    "    num2 : int\n",
    "        Second number to add\n",
    "\n",
    "    Returns\n",
    "    -------\n",
    "    int\n",
    "        The sum of `num1` and `num2`\n",
    "\n",
    "    See Also\n",
    "    --------\n",
    "    subtract : Subtract one integer from another\n",
    "\n",
    "    Examples\n",
    "    --------\n",
    "    >>> add(2, 2)\n",
    "    4\n",
    "    >>> add(25, 0)\n",
    "    25\n",
    "    >>> add(10, -10)\n",
    "    0\n",
    "    \"\"\"\n",
    "    return num1 + num2"
   ]
  },
  {
   "cell_type": "markdown",
   "metadata": {},
   "source": [
    "##### Type Hinting in Pandas\n",
    "\n",
    "Pandas uses type hints to improve code readability and enable static type checking. Here are some best practices for type hinting in pandas:"
   ]
  },
  {
   "cell_type": "markdown",
   "metadata": {},
   "source": [
    "### Using Standard Type Hints"
   ]
  },
  {
   "cell_type": "code",
   "execution_count": null,
   "metadata": {},
   "outputs": [],
   "source": [
    "from typing import List, Optional, Union\n",
    "\n",
    "# Good practice\n",
    "primes: List[int] = []\n",
    "\n",
    "# Use Optional for values that might be None\n",
    "# Instead of: maybe_primes: List[Union[int, None]] = []\n",
    "maybe_primes: List[Optional[int]] = []"
   ]
  },
  {
   "cell_type": "markdown",
   "metadata": {},
   "source": [
    "### Handling Shadowed Builtins\n",
    "\n",
    "When a class variable shadows a builtin, create an unambiguous alias:"
   ]
  },
  {
   "cell_type": "code",
   "execution_count": null,
   "metadata": {},
   "outputs": [],
   "source": [
    "# Create an alias for the builtin\n",
    "str_type = str\n",
    "\n",
    "class SomeClass:\n",
    "    str: str_type = None"
   ]
  },
  {
   "cell_type": "markdown",
   "metadata": {},
   "source": [
    "### Avoiding Type Casting\n",
    "\n",
    "Using `cast` from the typing module is discouraged. Instead, refactor code to make type checking clearer:"
   ]
  },
  {
   "cell_type": "code",
   "execution_count": null,
   "metadata": {},
   "outputs": [],
   "source": [
    "from typing import Union\n",
    "\n",
    "# Discouraged approach\n",
    "'''\n",
    "from typing import cast\n",
    "from pandas.core.dtypes.common import is_number\n",
    "\n",
    "def cannot_infer_bad(obj: Union[str, int, float]):\n",
    "    if is_number(obj):\n",
    "        ...\n",
    "    else:\n",
    "        obj = cast(str, obj)  # Mypy complains without this!\n",
    "        return obj.upper()\n",
    "'''\n",
    "\n",
    "# Preferred approach\n",
    "def cannot_infer_good(obj: Union[str, int, float]):\n",
    "    if isinstance(obj, str):\n",
    "        return obj.upper()\n",
    "    else:\n",
    "        # Handle numeric types\n",
    "        pass"
   ]
  },
  {
   "cell_type": "markdown",
   "metadata": {},
   "source": [
    "### Pandas-specific Types\n",
    "\n",
    "Pandas provides custom types in the `pandas._typing` module for common patterns:"
   ]
  },
  {
   "cell_type": "code",
   "execution_count": null,
   "metadata": {},
   "outputs": [],
   "source": [
    "# Example of using pandas-specific types\n",
    "import pandas as pd\n",
    "import numpy as np\n",
    "\n",
    "# This is conceptual code showing how pandas types would be used\n",
    "# The actual _typing module is private and may change\n",
    "\n",
    "'''\n",
    "from pandas._typing import Dtype\n",
    "\n",
    "def as_type(dtype: Dtype):\n",
    "    # This function accepts various dtype formats:\n",
    "    # - String like \"object\"\n",
    "    # - NumPy dtype like np.int64\n",
    "    # - Pandas ExtensionDtype like pd.CategoricalDtype\n",
    "    pass\n",
    "'''\n",
    "\n",
    "# Example of different dtype formats that would be accepted\n",
    "string_dtype = \"object\"\n",
    "numpy_dtype = np.int64\n",
    "pandas_dtype = pd.CategoricalDtype()"
   ]
  },
  {
   "cell_type": "markdown",
   "metadata": {},
   "source": [
    "### Validating Type Hints\n",
    "\n",
    "Pandas uses mypy to statically analyze the code base and type hints. After making changes, you can validate your type hints by running:"
   ]
  },
  {
   "cell_type": "markdown",
   "metadata": {},
   "source": [
    "```bash\n",
    "mypy pandas\n",
    "```"
   ]
  },
  {
   "cell_type": "markdown",
   "metadata": {},
   "source": [
    "##### Continuous Integration\n",
    "\n",
    "Pandas uses Travis-CI and Azure Pipelines for continuous integration testing. Pull requests are considered for merging when they have an all 'green' build, indicating that all tests have passed."
   ]
  },
  {
   "cell_type": "markdown",
   "metadata": {},
   "source": [
    "##### Practical Example: Creating a Function with Type Hints and Documentation"
   ]
  },
  {
   "cell_type": "code",
   "execution_count": null,
   "metadata": {},
   "outputs": [],
   "source": [
    "from typing import List, Union, Optional\n",
    "import pandas as pd\n",
    "import numpy as np\n",
    "\n",
    "def filter_dataframe(df: pd.DataFrame, \n",
    "                     column: str, \n",
    "                     values: List[Union[str, int, float]], \n",
    "                     keep_na: Optional[bool] = False) -> pd.DataFrame:\n",
    "    \"\"\"\n",
    "    Filter a DataFrame to include only rows where the specified column values are in the given list.\n",
    "    \n",
    "    Parameters\n",
    "    ----------\n",
    "    df : pd.DataFrame\n",
    "        The DataFrame to filter\n",
    "    column : str\n",
    "        The column name to filter on\n",
    "    values : List[Union[str, int, float]]\n",
    "        List of values to include\n",
    "    keep_na : bool, optional\n",
    "        Whether to keep NA values in the filtered result, by default False\n",
    "    \n",
    "    Returns\n",
    "    -------\n",
    "    pd.DataFrame\n",
    "        Filtered DataFrame containing only rows where the column value is in the values list\n",
    "        \n",
    "    Examples\n",
    "    --------\n",
    "    >>> df = pd.DataFrame({'A': [1, 2, 3, None], 'B': ['a', 'b', 'c', 'd']})\n",
    "    >>> filter_dataframe(df, 'A', [1, 3])\n",
    "       A  B\n",
    "    0  1  a\n",
    "    2  3  c\n",
    "    \n",
    "    >>> filter_dataframe(df, 'A', [1, 3], keep_na=True)\n",
    "        A  B\n",
    "    0   1  a\n",
    "    2   3  c\n",
    "    3  None  d\n",
    "    \"\"\"\n",
    "    if keep_na:\n",
    "        return df[df[column].isin(values) | df[column].isna()]\n",
    "    else:\n",
    "        return df[df[column].isin(values)]\n",
    "\n",
    "# Example usage\n",
    "df = pd.DataFrame({\n",
    "    'A': [1, 2, 3, None], \n",
    "    'B': ['a', 'b', 'c', 'd']\n",
    "})\n",
    "\n",
    "print(\"Original DataFrame:\")\n",
    "print(df)\n",
    "print(\"\\nFiltered DataFrame (without NAs):\")\n",
    "print(filter_dataframe(df, 'A', [1, 3]))\n",
    "print(\"\\nFiltered DataFrame (with NAs):\")\n",
    "print(filter_dataframe(df, 'A', [1, 3], keep_na=True))"
   ]
  }
 ],
 "metadata": {
  "kernelspec": {
   "display_name": "Python 3",
   "language": "python",
   "name": "python3"
  },
  "language_info": {
   "codemirror_mode": {
    "name": "ipython",
    "version": 3
   },
   "file_extension": ".py",
   "mimetype": "text/x-python",
   "name": "python",
   "nbconvert_exporter": "python",
   "pygments_lexer": "ipython3",
   "version": "3.8.5"
  }
 },
 "nbformat": 4,
 "nbformat_minor": 4
}