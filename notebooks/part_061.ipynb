{
 "cells": [
  {
   "cell_type": "markdown",
   "metadata": {},
   "source": [
    "#### Pandas Tutorial - Part 61: DataFrame Methods (info, mask)\n",
    "\n",
    "This notebook covers important DataFrame methods including:\n",
    "- `info()` - Print a concise summary of a DataFrame\n",
    "- `mask()` - Replace values where the condition is True"
   ]
  },
  {
   "cell_type": "code",
   "execution_count": 1,
   "metadata": {},
   "outputs": [],
   "source": [
    "import pandas as pd\n",
    "import numpy as np\n",
    "import matplotlib.pyplot as plt\n",
    "\n",
    "# Set display options\n",
    "pd.set_option('display.max_columns', None)\n",
    "pd.set_option('display.expand_frame_repr', False)"
   ]
  },
  {
   "cell_type": "markdown",
   "metadata": {},
   "source": [
    "##### 1. DataFrame.info()\n",
    "\n",
    "The `info()` method prints a concise summary of a DataFrame, including the index dtype, column dtypes, non-null values, and memory usage."
   ]
  },
  {
   "cell_type": "code",
   "execution_count": 2,
   "metadata": {},
   "outputs": [
    {
     "name": "stdout",
     "output_type": "stream",
     "text": [
      "DataFrame:\n"
     ]
    },
    {
     "data": {
      "text/html": [
       "<div>\n",
       "<style scoped>\n",
       "    .dataframe tbody tr th:only-of-type {\n",
       "        vertical-align: middle;\n",
       "    }\n",
       "\n",
       "    .dataframe tbody tr th {\n",
       "        vertical-align: top;\n",
       "    }\n",
       "\n",
       "    .dataframe thead th {\n",
       "        text-align: right;\n",
       "    }\n",
       "</style>\n",
       "<table border=\"1\" class=\"dataframe\">\n",
       "  <thead>\n",
       "    <tr style=\"text-align: right;\">\n",
       "      <th></th>\n",
       "      <th>int_col</th>\n",
       "      <th>text_col</th>\n",
       "      <th>float_col</th>\n",
       "    </tr>\n",
       "  </thead>\n",
       "  <tbody>\n",
       "    <tr>\n",
       "      <th>0</th>\n",
       "      <td>1</td>\n",
       "      <td>alpha</td>\n",
       "      <td>0.00</td>\n",
       "    </tr>\n",
       "    <tr>\n",
       "      <th>1</th>\n",
       "      <td>2</td>\n",
       "      <td>beta</td>\n",
       "      <td>0.25</td>\n",
       "    </tr>\n",
       "    <tr>\n",
       "      <th>2</th>\n",
       "      <td>3</td>\n",
       "      <td>gamma</td>\n",
       "      <td>0.50</td>\n",
       "    </tr>\n",
       "    <tr>\n",
       "      <th>3</th>\n",
       "      <td>4</td>\n",
       "      <td>delta</td>\n",
       "      <td>0.75</td>\n",
       "    </tr>\n",
       "    <tr>\n",
       "      <th>4</th>\n",
       "      <td>5</td>\n",
       "      <td>epsilon</td>\n",
       "      <td>1.00</td>\n",
       "    </tr>\n",
       "  </tbody>\n",
       "</table>\n",
       "</div>"
      ],
      "text/plain": [
       "   int_col text_col  float_col\n",
       "0        1    alpha       0.00\n",
       "1        2     beta       0.25\n",
       "2        3    gamma       0.50\n",
       "3        4    delta       0.75\n",
       "4        5  epsilon       1.00"
      ]
     },
     "execution_count": 2,
     "metadata": {},
     "output_type": "execute_result"
    }
   ],
   "source": [
    "# Create a DataFrame with different data types\n",
    "int_values = [1, 2, 3, 4, 5]\n",
    "text_values = ['alpha', 'beta', 'gamma', 'delta', 'epsilon']\n",
    "float_values = [0.0, 0.25, 0.5, 0.75, 1.0]\n",
    "df = pd.DataFrame({\n",
    "    \"int_col\": int_values, \n",
    "    \"text_col\": text_values,\n",
    "    \"float_col\": float_values\n",
    "})\n",
    "\n",
    "print(\"DataFrame:\")\n",
    "df"
   ]
  },
  {
   "cell_type": "code",
   "execution_count": 3,
   "metadata": {},
   "outputs": [
    {
     "name": "stdout",
     "output_type": "stream",
     "text": [
      "DataFrame info:\n",
      "<class 'pandas.core.frame.DataFrame'>\n",
      "RangeIndex: 5 entries, 0 to 4\n",
      "Data columns (total 3 columns):\n",
      " #   Column     Non-Null Count  Dtype  \n",
      "---  ------     --------------  -----  \n",
      " 0   int_col    5 non-null      int64  \n",
      " 1   text_col   5 non-null      object \n",
      " 2   float_col  5 non-null      float64\n",
      "dtypes: float64(1), int64(1), object(1)\n",
      "memory usage: 252.0+ bytes\n"
     ]
    }
   ],
   "source": [
    "# Print information about the DataFrame\n",
    "print(\"DataFrame info:\")\n",
    "df.info(verbose=True)"
   ]
  },
  {
   "cell_type": "code",
   "execution_count": 4,
   "metadata": {},
   "outputs": [
    {
     "name": "stdout",
     "output_type": "stream",
     "text": [
      "DataFrame with missing values:\n"
     ]
    },
    {
     "data": {
      "text/html": [
       "<div>\n",
       "<style scoped>\n",
       "    .dataframe tbody tr th:only-of-type {\n",
       "        vertical-align: middle;\n",
       "    }\n",
       "\n",
       "    .dataframe tbody tr th {\n",
       "        vertical-align: top;\n",
       "    }\n",
       "\n",
       "    .dataframe thead th {\n",
       "        text-align: right;\n",
       "    }\n",
       "</style>\n",
       "<table border=\"1\" class=\"dataframe\">\n",
       "  <thead>\n",
       "    <tr style=\"text-align: right;\">\n",
       "      <th></th>\n",
       "      <th>A</th>\n",
       "      <th>B</th>\n",
       "      <th>C</th>\n",
       "    </tr>\n",
       "  </thead>\n",
       "  <tbody>\n",
       "    <tr>\n",
       "      <th>0</th>\n",
       "      <td>1.0</td>\n",
       "      <td>NaN</td>\n",
       "      <td>1.0</td>\n",
       "    </tr>\n",
       "    <tr>\n",
       "      <th>1</th>\n",
       "      <td>2.0</td>\n",
       "      <td>2.0</td>\n",
       "      <td>2.0</td>\n",
       "    </tr>\n",
       "    <tr>\n",
       "      <th>2</th>\n",
       "      <td>NaN</td>\n",
       "      <td>3.0</td>\n",
       "      <td>3.0</td>\n",
       "    </tr>\n",
       "    <tr>\n",
       "      <th>3</th>\n",
       "      <td>4.0</td>\n",
       "      <td>4.0</td>\n",
       "      <td>NaN</td>\n",
       "    </tr>\n",
       "    <tr>\n",
       "      <th>4</th>\n",
       "      <td>5.0</td>\n",
       "      <td>5.0</td>\n",
       "      <td>NaN</td>\n",
       "    </tr>\n",
       "  </tbody>\n",
       "</table>\n",
       "</div>"
      ],
      "text/plain": [
       "     A    B    C\n",
       "0  1.0  NaN  1.0\n",
       "1  2.0  2.0  2.0\n",
       "2  NaN  3.0  3.0\n",
       "3  4.0  4.0  NaN\n",
       "4  5.0  5.0  NaN"
      ]
     },
     "execution_count": 4,
     "metadata": {},
     "output_type": "execute_result"
    }
   ],
   "source": [
    "# Create a DataFrame with missing values\n",
    "df_with_na = pd.DataFrame({\n",
    "    \"A\": [1, 2, np.nan, 4, 5],\n",
    "    \"B\": [np.nan, 2, 3, 4, 5],\n",
    "    \"C\": [1, 2, 3, np.nan, np.nan]\n",
    "})\n",
    "\n",
    "print(\"DataFrame with missing values:\")\n",
    "df_with_na"
   ]
  },
  {
   "cell_type": "code",
   "execution_count": 5,
   "metadata": {},
   "outputs": [
    {
     "name": "stdout",
     "output_type": "stream",
     "text": [
      "DataFrame with missing values info:\n",
      "<class 'pandas.core.frame.DataFrame'>\n",
      "RangeIndex: 5 entries, 0 to 4\n",
      "Data columns (total 3 columns):\n",
      " #   Column  Non-Null Count  Dtype  \n",
      "---  ------  --------------  -----  \n",
      " 0   A       4 non-null      float64\n",
      " 1   B       4 non-null      float64\n",
      " 2   C       3 non-null      float64\n",
      "dtypes: float64(3)\n",
      "memory usage: 252.0 bytes\n"
     ]
    }
   ],
   "source": [
    "# Print information about the DataFrame with missing values\n",
    "print(\"DataFrame with missing values info:\")\n",
    "df_with_na.info()"
   ]
  },
  {
   "cell_type": "code",
   "execution_count": 6,
   "metadata": {},
   "outputs": [
    {
     "name": "stdout",
     "output_type": "stream",
     "text": [
      "Large DataFrame info:\n",
      "<class 'pandas.core.frame.DataFrame'>\n",
      "RangeIndex: 1000 entries, 0 to 999\n",
      "Data columns (total 20 columns):\n",
      " #   Column  Non-Null Count  Dtype  \n",
      "---  ------  --------------  -----  \n",
      " 0   col_0   1000 non-null   float64\n",
      " 1   col_1   1000 non-null   float64\n",
      " 2   col_2   1000 non-null   float64\n",
      " 3   col_3   1000 non-null   float64\n",
      " 4   col_4   1000 non-null   float64\n",
      " 5   col_5   1000 non-null   float64\n",
      " 6   col_6   1000 non-null   float64\n",
      " 7   col_7   1000 non-null   float64\n",
      " 8   col_8   1000 non-null   float64\n",
      " 9   col_9   1000 non-null   float64\n",
      " 10  col_10  1000 non-null   float64\n",
      " 11  col_11  1000 non-null   float64\n",
      " 12  col_12  1000 non-null   float64\n",
      " 13  col_13  1000 non-null   float64\n",
      " 14  col_14  1000 non-null   float64\n",
      " 15  col_15  1000 non-null   float64\n",
      " 16  col_16  1000 non-null   float64\n",
      " 17  col_17  1000 non-null   float64\n",
      " 18  col_18  1000 non-null   float64\n",
      " 19  col_19  1000 non-null   float64\n",
      "dtypes: float64(20)\n",
      "memory usage: 156.4 KB\n"
     ]
    }
   ],
   "source": [
    "# Create a larger DataFrame\n",
    "large_df = pd.DataFrame({\n",
    "    f\"col_{i}\": np.random.rand(1000) for i in range(20)\n",
    "})\n",
    "\n",
    "print(\"Large DataFrame info:\")\n",
    "large_df.info()"
   ]
  },
  {
   "cell_type": "code",
   "execution_count": 7,
   "metadata": {},
   "outputs": [
    {
     "name": "stdout",
     "output_type": "stream",
     "text": [
      "Memory usage with deep introspection:\n",
      "<class 'pandas.core.frame.DataFrame'>\n",
      "RangeIndex: 5 entries, 0 to 4\n",
      "Data columns (total 3 columns):\n",
      " #   Column     Non-Null Count  Dtype  \n",
      "---  ------     --------------  -----  \n",
      " 0   int_col    5 non-null      int64  \n",
      " 1   text_col   5 non-null      object \n",
      " 2   float_col  5 non-null      float64\n",
      "dtypes: float64(1), int64(1), object(1)\n",
      "memory usage: 483.0 bytes\n"
     ]
    }
   ],
   "source": [
    "# Show memory usage with deep introspection\n",
    "print(\"Memory usage with deep introspection:\")\n",
    "df.info(memory_usage='deep')"
   ]
  },
  {
   "cell_type": "code",
   "execution_count": 8,
   "metadata": {},
   "outputs": [
    {
     "name": "stdout",
     "output_type": "stream",
     "text": [
      "Info with max_cols=2:\n",
      "<class 'pandas.core.frame.DataFrame'>\n",
      "RangeIndex: 1000 entries, 0 to 999\n",
      "Columns: 20 entries, col_0 to col_19\n",
      "dtypes: float64(20)\n",
      "memory usage: 156.4 KB\n"
     ]
    }
   ],
   "source": [
    "# Customize max_cols parameter\n",
    "print(\"Info with max_cols=2:\")\n",
    "large_df.info(max_cols=2)"
   ]
  },
  {
   "cell_type": "markdown",
   "metadata": {},
   "source": [
    "##### 2. DataFrame.mask()\n",
    "\n",
    "The `mask()` method replaces values where the condition is True. It's the opposite of `where()` method."
   ]
  },
  {
   "cell_type": "code",
   "execution_count": 9,
   "metadata": {},
   "outputs": [
    {
     "name": "stdout",
     "output_type": "stream",
     "text": [
      "Original Series:\n",
      "0    0\n",
      "1    1\n",
      "2    2\n",
      "3    3\n",
      "4    4\n",
      "dtype: int64\n"
     ]
    }
   ],
   "source": [
    "# Create a Series\n",
    "s = pd.Series(range(5))\n",
    "print(\"Original Series:\")\n",
    "print(s)"
   ]
  },
  {
   "cell_type": "code",
   "execution_count": 10,
   "metadata": {},
   "outputs": [
    {
     "name": "stdout",
     "output_type": "stream",
     "text": [
      "\n",
      "where(s > 0) - keep values where s > 0:\n",
      "0    NaN\n",
      "1    1.0\n",
      "2    2.0\n",
      "3    3.0\n",
      "4    4.0\n",
      "dtype: float64\n"
     ]
    }
   ],
   "source": [
    "# Using where() - keep values where condition is True\n",
    "print(\"\\nwhere(s > 0) - keep values where s > 0:\")\n",
    "print(s.where(s > 0))"
   ]
  },
  {
   "cell_type": "code",
   "execution_count": 11,
   "metadata": {},
   "outputs": [
    {
     "name": "stdout",
     "output_type": "stream",
     "text": [
      "\n",
      "mask(s > 0) - replace values where s > 0:\n",
      "0    0.0\n",
      "1    NaN\n",
      "2    NaN\n",
      "3    NaN\n",
      "4    NaN\n",
      "dtype: float64\n"
     ]
    }
   ],
   "source": [
    "# Using mask() - replace values where condition is True\n",
    "print(\"\\nmask(s > 0) - replace values where s > 0:\")\n",
    "print(s.mask(s > 0))"
   ]
  },
  {
   "cell_type": "code",
   "execution_count": 12,
   "metadata": {},
   "outputs": [
    {
     "name": "stdout",
     "output_type": "stream",
     "text": [
      "\n",
      "where(s > 1, 10) - replace values where s <= 1 with 10:\n",
      "0    10\n",
      "1    10\n",
      "2     2\n",
      "3     3\n",
      "4     4\n",
      "dtype: int64\n"
     ]
    }
   ],
   "source": [
    "# Using where() with a replacement value\n",
    "print(\"\\nwhere(s > 1, 10) - replace values where s <= 1 with 10:\")\n",
    "print(s.where(s > 1, 10))"
   ]
  },
  {
   "cell_type": "code",
   "execution_count": 13,
   "metadata": {},
   "outputs": [
    {
     "name": "stdout",
     "output_type": "stream",
     "text": [
      "\n",
      "mask(s > 1, 10) - replace values where s > 1 with 10:\n",
      "0     0\n",
      "1     1\n",
      "2    10\n",
      "3    10\n",
      "4    10\n",
      "dtype: int64\n"
     ]
    }
   ],
   "source": [
    "# Using mask() with a replacement value\n",
    "print(\"\\nmask(s > 1, 10) - replace values where s > 1 with 10:\")\n",
    "print(s.mask(s > 1, 10))"
   ]
  },
  {
   "cell_type": "code",
   "execution_count": 14,
   "metadata": {},
   "outputs": [
    {
     "name": "stdout",
     "output_type": "stream",
     "text": [
      "Original DataFrame:\n",
      "   A  B\n",
      "0  0  1\n",
      "1  2  3\n",
      "2  4  5\n",
      "3  6  7\n",
      "4  8  9\n"
     ]
    }
   ],
   "source": [
    "# Create a DataFrame\n",
    "df = pd.DataFrame(np.arange(10).reshape(-1, 2), columns=['A', 'B'])\n",
    "print(\"Original DataFrame:\")\n",
    "print(df)"
   ]
  },
  {
   "cell_type": "code",
   "execution_count": 15,
   "metadata": {},
   "outputs": [
    {
     "name": "stdout",
     "output_type": "stream",
     "text": [
      "Condition (m = df % 3 == 0):\n",
      "       A      B\n",
      "0   True  False\n",
      "1  False   True\n",
      "2  False  False\n",
      "3   True  False\n",
      "4  False   True\n"
     ]
    }
   ],
   "source": [
    "# Create a condition\n",
    "m = df % 3 == 0\n",
    "print(\"Condition (m = df % 3 == 0):\")\n",
    "print(m)"
   ]
  },
  {
   "cell_type": "code",
   "execution_count": 16,
   "metadata": {},
   "outputs": [
    {
     "name": "stdout",
     "output_type": "stream",
     "text": [
      "\n",
      "df.where(m, -df) - keep values where m is True, replace others with -df:\n",
      "   A  B\n",
      "0  0 -1\n",
      "1 -2  3\n",
      "2 -4 -5\n",
      "3  6 -7\n",
      "4 -8  9\n"
     ]
    }
   ],
   "source": [
    "# Using where() with the condition\n",
    "print(\"\\ndf.where(m, -df) - keep values where m is True, replace others with -df:\")\n",
    "print(df.where(m, -df))"
   ]
  },
  {
   "cell_type": "code",
   "execution_count": 17,
   "metadata": {},
   "outputs": [
    {
     "name": "stdout",
     "output_type": "stream",
     "text": [
      "\n",
      "df.mask(m, -df) - replace values where m is True with -df:\n",
      "   A  B\n",
      "0  0  1\n",
      "1  2 -3\n",
      "2  4  5\n",
      "3 -6  7\n",
      "4  8 -9\n"
     ]
    }
   ],
   "source": [
    "# Using mask() with the condition\n",
    "print(\"\\ndf.mask(m, -df) - replace values where m is True with -df:\")\n",
    "print(df.mask(m, -df))"
   ]
  },
  {
   "cell_type": "code",
   "execution_count": 18,
   "metadata": {},
   "outputs": [
    {
     "name": "stdout",
     "output_type": "stream",
     "text": [
      "\n",
      "Verify that df.where(m, -df) == df.mask(~m, -df):\n",
      "      A     B\n",
      "0  True  True\n",
      "1  True  True\n",
      "2  True  True\n",
      "3  True  True\n",
      "4  True  True\n"
     ]
    }
   ],
   "source": [
    "# Verify that where(m) is equivalent to mask(~m)\n",
    "print(\"\\nVerify that df.where(m, -df) == df.mask(~m, -df):\")\n",
    "print(df.where(m, -df) == df.mask(~m, -df))"
   ]
  },
  {
   "cell_type": "code",
   "execution_count": 19,
   "metadata": {},
   "outputs": [
    {
     "name": "stdout",
     "output_type": "stream",
     "text": [
      "\n",
      "Using a callable for the condition:\n",
      "   A  B\n",
      "0  0  1\n",
      "1  2  3\n",
      "2  4  5\n",
      "3  0  0\n",
      "4  0  0\n"
     ]
    }
   ],
   "source": [
    "# Using mask() with a callable for the condition\n",
    "print(\"\\nUsing a callable for the condition:\")\n",
    "print(df.mask(lambda x: x > 5, 0))"
   ]
  },
  {
   "cell_type": "code",
   "execution_count": 20,
   "metadata": {},
   "outputs": [
    {
     "name": "stdout",
     "output_type": "stream",
     "text": [
      "\n",
      "Using a callable for the replacement:\n",
      "    A   B\n",
      "0   0   1\n",
      "1   2  30\n",
      "2   4   5\n",
      "3  60   7\n",
      "4   8  90\n"
     ]
    }
   ],
   "source": [
    "# Using mask() with a callable for the replacement\n",
    "print(\"\\nUsing a callable for the replacement:\")\n",
    "print(df.mask(m, lambda x: x * 10))"
   ]
  },
  {
   "cell_type": "code",
   "execution_count": 21,
   "metadata": {},
   "outputs": [
    {
     "name": "stdout",
     "output_type": "stream",
     "text": [
      "\n",
      "Before mask() with inplace=True:\n",
      "   A  B\n",
      "0  0  1\n",
      "1  2  3\n",
      "2  4  5\n",
      "3  6  7\n",
      "4  8  9\n",
      "\n",
      "After mask() with inplace=True:\n",
      "   A  B\n",
      "0  0  1\n",
      "1  2 -3\n",
      "2  4  5\n",
      "3 -6  7\n",
      "4  8 -9\n"
     ]
    }
   ],
   "source": [
    "# Using mask() with inplace=True\n",
    "df_copy = df.copy()\n",
    "print(\"\\nBefore mask() with inplace=True:\")\n",
    "print(df_copy)\n",
    "\n",
    "df_copy.mask(m, -df, inplace=True)\n",
    "print(\"\\nAfter mask() with inplace=True:\")\n",
    "print(df_copy)"
   ]
  },
  {
   "cell_type": "markdown",
   "metadata": {},
   "source": [
    "##### Summary\n",
    "\n",
    "In this notebook, we've explored two important DataFrame methods:\n",
    "\n",
    "1. **info()**: Prints a concise summary of a DataFrame, including the index dtype, column dtypes, non-null values, and memory usage. This is useful for quickly understanding the structure and content of a DataFrame.\n",
    "\n",
    "2. **mask()**: Replaces values where the condition is True. It's the opposite of the `where()` method, which keeps values where the condition is True. The `mask()` method is useful for data cleaning and transformation tasks.\n",
    "\n",
    "These methods are essential for data exploration, understanding DataFrame structure, and data manipulation in pandas."
   ]
  }
 ],
 "metadata": {
  "kernelspec": {
   "display_name": "venv",
   "language": "python",
   "name": "python3"
  },
  "language_info": {
   "codemirror_mode": {
    "name": "ipython",
    "version": 3
   },
   "file_extension": ".py",
   "mimetype": "text/x-python",
   "name": "python",
   "nbconvert_exporter": "python",
   "pygments_lexer": "ipython3",
   "version": "3.13.2"
  }
 },
 "nbformat": 4,
 "nbformat_minor": 4
}
