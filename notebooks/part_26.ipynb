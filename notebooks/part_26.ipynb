{
 "cells": [
  {
   "cell_type": "markdown",
   "metadata": {},
   "source": [
    "# Part 26: More Visualization Techniques in Pandas\n",
    "\n",
    "In this notebook, we'll explore additional visualization techniques in pandas, including:\n",
    "- Hexagonal bin plots with custom aggregation\n",
    "- Pie charts\n",
    "- Working with multiple axes\n",
    "- Time series plotting customizations\n",
    "\n",
    "## Setup\n",
    "First, let's import the necessary libraries:"
   ]
  },
  {
   "cell_type": "code",
   "execution_count": null,
   "metadata": {},
   "outputs": [],
   "source": [
    "import pandas as pd\n",
    "import numpy as np\n",
    "import matplotlib.pyplot as plt\n",
    "\n",
    "# Set the plotting style\n",
    "plt.style.use('ggplot')\n",
    "\n",
    "# Make plots appear in the notebook\n",
    "%matplotlib inline"
   ]
  },
  {
   "cell_type": "markdown",
   "metadata": {},
   "source": [
    "## 1. Hexagonal Bin Plots with Custom Aggregation\n",
    "\n",
    "Hexagonal bin plots are useful for visualizing the density of points in a scatter plot, especially when there are many points. You can customize the aggregation function used for the bins:"
   ]
  },
  {
   "cell_type": "code",
   "execution_count": null,
   "metadata": {},
   "outputs": [],
   "source": [
    "# Create a DataFrame for hexbin plot\n",
    "df = pd.DataFrame(np.random.randn(1000, 2), columns=['a', 'b'])\n",
    "df['b'] = df['b'] + np.arange(1000)  # Add a trend to 'b'\n",
    "df['z'] = np.random.uniform(0, 3, 1000)  # Add a column for color mapping\n",
    "\n",
    "# Create a hexbin plot with custom aggregation\n",
    "df.plot.hexbin(x='a', y='b', C='z', reduce_C_function=np.max, gridsize=25, \n",
    "               figsize=(10, 6), title='Hexbin with Custom Aggregation (Max)')"
   ]
  },
  {
   "cell_type": "code",
   "execution_count": null,
   "metadata": {},
   "outputs": [],
   "source": [
    "# Try different aggregation functions\n",
    "fig, axes = plt.subplots(2, 2, figsize=(12, 10))\n",
    "df.plot.hexbin(x='a', y='b', C='z', reduce_C_function=np.mean, gridsize=25, \n",
    "               title='Mean', ax=axes[0, 0])\n",
    "df.plot.hexbin(x='a', y='b', C='z', reduce_C_function=np.median, gridsize=25, \n",
    "               title='Median', ax=axes[0, 1])\n",
    "df.plot.hexbin(x='a', y='b', C='z', reduce_C_function=np.min, gridsize=25, \n",
    "               title='Min', ax=axes[1, 0])\n",
    "df.plot.hexbin(x='a', y='b', C='z', reduce_C_function=np.std, gridsize=25, \n",
    "               title='Standard Deviation', ax=axes[1, 1])\n",
    "plt.tight_layout()"
   ]
  },
  {
   "cell_type": "markdown",
   "metadata": {},
   "source": [
    "## 2. Pie Charts\n",
    "\n",
    "Pie charts are useful for showing the proportion of categories in a dataset:"
   ]
  },
  {
   "cell_type": "code",
   "execution_count": null,
   "metadata": {},
   "outputs": [],
   "source": [
    "# Create a Series for a pie chart\n",
    "series = pd.Series(3 * np.random.rand(4), \n",
    "                  index=['a', 'b', 'c', 'd'], \n",
    "                  name='series')\n",
    "\n",
    "# Create a pie chart\n",
    "series.plot.pie(figsize=(8, 8), autopct='%.2f%%', title='Pie Chart from Series')"
   ]
  },
  {
   "cell_type": "markdown",
   "metadata": {},
   "source": [
    "For pie plots, it's best to use square figures, i.e., a figure with an aspect ratio of 1. You can create the figure with equal width and height, or force the aspect ratio to be equal after plotting by calling `ax.set_aspect('equal')` on the returned axes object.\n",
    "\n",
    "When creating pie charts from a DataFrame, you need to either specify a target column with the `y` argument or set `subplots=True` to create multiple pie charts:"
   ]
  },
  {
   "cell_type": "code",
   "execution_count": null,
   "metadata": {},
   "outputs": [],
   "source": [
    "# Create a DataFrame for pie charts\n",
    "df = pd.DataFrame(3 * np.random.rand(4, 2),\n",
    "                 index=['a', 'b', 'c', 'd'], \n",
    "                 columns=['x', 'y'])\n",
    "\n",
    "# Create pie charts as subplots\n",
    "fig, axes = plt.subplots(1, 2, figsize=(12, 6))\n",
    "df.plot.pie(y='x', ax=axes[0], autopct='%.2f%%', title='Column x')\n",
    "df.plot.pie(y='y', ax=axes[1], autopct='%.2f%%', title='Column y')\n",
    "plt.tight_layout()"
   ]
  },
  {
   "cell_type": "code",
   "execution_count": null,
   "metadata": {},
   "outputs": [],
   "source": [
    "# Alternative: Create pie charts with subplots=True\n",
    "df.plot.pie(subplots=True, figsize=(12, 6), autopct='%.2f%%')"
   ]
  },
  {
   "cell_type": "markdown",
   "metadata": {},
   "source": [
    "## 3. Working with Multiple Axes\n",
    "\n",
    "When you have variables with different scales, it can be useful to plot them on different y-axes:"
   ]
  },
  {
   "cell_type": "code",
   "execution_count": null,
   "metadata": {},
   "outputs": [],
   "source": [
    "# Create a DataFrame for multiple axes\n",
    "ts = pd.Series(np.random.randn(1000), index=pd.date_range('1/1/2000', periods=1000))\n",
    "df = pd.DataFrame({\n",
    "    'A': ts.cumsum(),  # Cumulative sum - will have larger values\n",
    "    'B': ts.cumsum() * 10,  # Even larger values\n",
    "    'C': np.random.randn(1000)  # Small values around 0\n",
    "})\n",
    "\n",
    "# Plot with secondary y-axis\n",
    "ax = df.plot(secondary_y=['B'], figsize=(10, 6), title='Plot with Secondary Y-Axis')\n",
    "ax.set_ylabel('A and C')\n",
    "ax.right_ax.set_ylabel('B')"
   ]
  },
  {
   "cell_type": "markdown",
   "metadata": {},
   "source": [
    "You can specify multiple columns to be plotted on the secondary y-axis:"
   ]
  },
  {
   "cell_type": "code",
   "execution_count": null,
   "metadata": {},
   "outputs": [],
   "source": [
    "# Plot with multiple columns on secondary y-axis\n",
    "ax = df.plot(secondary_y=['A', 'B'], figsize=(10, 6), \n",
    "             title='Multiple Columns on Secondary Y-Axis')\n",
    "ax.set_ylabel('C')\n",
    "ax.right_ax.set_ylabel('A and B')"
   ]
  },
  {
   "cell_type": "markdown",
   "metadata": {},
   "source": [
    "By default, the secondary y-axis has a label with the suffix \"(right)\", but you can turn it off:"
   ]
  },
  {
   "cell_type": "code",
   "execution_count": null,
   "metadata": {},
   "outputs": [],
   "source": [
    "# Plot without the \"(right)\" suffix\n",
    "df.plot(secondary_y=['A', 'B'], mark_right=False, figsize=(10, 6), \n",
    "        title='Without \"(right)\" Suffix')"
   ]
  },
  {
   "cell_type": "markdown",
   "metadata": {},
   "source": [
    "## 4. Time Series Plotting Customizations\n",
    "\n",
    "Pandas provides custom formatters for time series plots. These change the formatting of the axis labels for dates and times.\n",
    "\n",
    "### 4.1 Suppressing Tick Resolution Adjustment\n",
    "\n",
    "Pandas includes automatic tick resolution adjustment for regular frequency time-series data. You can suppress this behavior using the `x_compat` parameter:"
   ]
  },
  {
   "cell_type": "code",
   "execution_count": null,
   "metadata": {},
   "outputs": [],
   "source": [
    "# Create a time series DataFrame\n",
    "ts = pd.Series(np.random.randn(1000), index=pd.date_range('1/1/2000', periods=1000))\n",
    "df = pd.DataFrame({\n",
    "    'A': ts.cumsum(),\n",
    "    'B': ts.cumsum() + 10,\n",
    "    'C': ts.cumsum() - 10\n",
    "})\n",
    "\n",
    "# Default behavior\n",
    "plt.figure(figsize=(10, 6))\n",
    "df['A'].plot(title='Default Time Series Plot')"
   ]
  },
  {
   "cell_type": "code",
   "execution_count": null,
   "metadata": {},
   "outputs": [],
   "source": [
    "# Suppress tick resolution adjustment\n",
    "plt.figure(figsize=(10, 6))\n",
    "df['A'].plot(x_compat=True, title='Time Series Plot with x_compat=True')"
   ]
  },
  {
   "cell_type": "markdown",
   "metadata": {},
   "source": [
    "If you have more than one plot that needs to be suppressed, you can use the `use` method in `pandas.plotting.plot_params` with a `with` statement:"
   ]
  },
  {
   "cell_type": "code",
   "execution_count": null,
   "metadata": {},
   "outputs": [],
   "source": [
    "# Suppress tick resolution adjustment for multiple plots\n",
    "plt.figure(figsize=(10, 6))\n",
    "with pd.plotting.plot_params.use('x_compat', True):\n",
    "    df['A'].plot(color='r', label='A')\n",
    "    df['B'].plot(color='g', label='B')\n",
    "    df['C'].plot(color='b', label='C')\n",
    "plt.legend()\n",
    "plt.title('Multiple Time Series with Suppressed Tick Resolution')"
   ]
  },
  {
   "cell_type": "markdown",
   "metadata": {},
   "source": [
    "### 4.2 Automatic Date Tick Adjustment\n",
    "\n",
    "For time series plots with overlapping tick labels, you can use matplotlib's `autofmt_xdate` method to automatically format the x-axis date ticks:"
   ]
  },
  {
   "cell_type": "code",
   "execution_count": null,
   "metadata": {},
   "outputs": [],
   "source": [
    "# Create a time series with daily data\n",
    "daily = pd.Series(np.random.randn(30), \n",
    "                 index=pd.date_range('1/1/2020', periods=30, freq='D'))\n",
    "daily = daily.cumsum()\n",
    "\n",
    "# Create a figure and plot\n",
    "fig, ax = plt.subplots(figsize=(10, 6))\n",
    "daily.plot(ax=ax, title='Time Series with Automatic Date Tick Adjustment')\n",
    "\n",
    "# Automatically format the x-axis date ticks\n",
    "fig.autofmt_xdate()"
   ]
  },
  {
   "cell_type": "markdown",
   "metadata": {},
   "source": [
    "## 5. Creating Custom Plots\n",
    "\n",
    "You can create custom plots by combining pandas plotting with matplotlib's object-oriented interface:"
   ]
  },
  {
   "cell_type": "code",
   "execution_count": null,
   "metadata": {},
   "outputs": [],
   "source": [
    "# Create a custom plot with a line plot and a scatter plot\n",
    "fig, ax = plt.subplots(figsize=(10, 6))\n",
    "\n",
    "# Plot a line\n",
    "df['A'].plot(ax=ax, style='b-', label='Line')\n",
    "\n",
    "# Add a scatter plot on the same axes\n",
    "ax.scatter(df.index[::50], df['B'][::50], color='r', s=50, label='Points')\n",
    "\n",
    "# Customize the plot\n",
    "ax.set_title('Custom Plot: Line and Scatter')\n",
    "ax.set_xlabel('Date')\n",
    "ax.set_ylabel('Value')\n",
    "ax.grid(True, alpha=0.3)\n",
    "ax.legend()\n",
    "\n",
    "plt.tight_layout()"
   ]
  },
  {
   "cell_type": "markdown",
   "metadata": {},
   "source": [
    "## Summary\n",
    "\n",
    "In this notebook, we've explored additional visualization techniques in pandas, including:\n",
    "\n",
    "1. Hexagonal bin plots with custom aggregation functions\n",
    "2. Pie charts for both Series and DataFrame data\n",
    "3. Working with multiple axes for variables with different scales\n",
    "4. Time series plotting customizations, including:\n",
    "   - Suppressing tick resolution adjustment\n",
    "   - Automatic date tick adjustment\n",
    "5. Creating custom plots by combining pandas plotting with matplotlib\n",
    "\n",
    "These visualization techniques provide powerful tools for exploring and presenting your data effectively."
   ]
  }
 ],
 "metadata": {
  "kernelspec": {
   "display_name": "Python 3",
   "language": "python",
   "name": "python3"
  },
  "language_info": {
   "codemirror_mode": {
    "name": "ipython",
    "version": 3
   },
   "file_extension": ".py",
   "mimetype": "text/x-python",
   "name": "python",
   "nbconvert_exporter": "python",
   "pygments_lexer": "ipython3",
   "version": "3.8.5"
  }
 },
 "nbformat": 4,
 "nbformat_minor": 4
}
