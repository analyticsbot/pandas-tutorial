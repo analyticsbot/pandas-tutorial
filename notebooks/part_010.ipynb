{
 "cells": [
  {
   "cell_type": "markdown",
   "metadata": {},
   "source": [
    "#### Part 10: Advanced Data Operations in Pandas\n",
    "\n",
    "In this notebook, we'll explore advanced data operations in pandas, including:\n",
    "- Hierarchical indexing (MultiIndex)\n",
    "- Advanced grouping operations\n",
    "- Complex data transformations\n",
    "- Performance optimization techniques\n",
    "\n",
    "##### Setup\n",
    "First, let's import the necessary libraries:"
   ]
  },
  {
   "cell_type": "code",
   "execution_count": null,
   "metadata": {},
   "source": [
    "import pandas as pd\n",
    "import numpy as np\n",
    "\n",
    "# Set display options for better visualization\n",
    "pd.set_option('display.max_rows', 10)\n",
    "pd.set_option('display.max_columns', 10)\n",
    "pd.set_option('display.precision', 3)"
   ]
  },
  {
   "cell_type": "markdown",
   "metadata": {},
   "source": [
    "##### 1. Hierarchical Indexing (MultiIndex)\n",
    "\n",
    "Hierarchical indexing is a powerful feature that allows you to have multiple levels of indexing on both rows and columns."
   ]
  },
  {
   "cell_type": "code",
   "execution_count": null,
   "metadata": {},
   "source": [
    "# Create a MultiIndex DataFrame\n",
    "arrays = [\n",
    "    ['A', 'A', 'B', 'B'],\n",
    "    [1, 2, 1, 2]\n",
    "]\n",
    "index = pd.MultiIndex.from_arrays(arrays, names=('letter', 'number'))\n",
    "df = pd.DataFrame({'value': [100, 200, 300, 400]}, index=index)\n",
    "df"
   ]
  },
  {
   "cell_type": "markdown",
   "metadata": {},
   "source": [
    "### 1.1 Accessing Data in MultiIndex"
   ]
  },
  {
   "cell_type": "code",
   "execution_count": null,
   "metadata": {},
   "source": [
    "# Different ways to access data\n",
    "print(\"Accessing level 'A':\")\n",
    "print(df.loc['A'])\n",
    "\n",
    "print(\"\\nAccessing specific value:\")\n",
    "print(df.loc[('A', 1)])"
   ]
  },
  {
   "cell_type": "markdown",
   "metadata": {},
   "source": [
    "##### 2. Advanced Grouping Operations"
   ]
  },
  {
   "cell_type": "code",
   "execution_count": null,
   "metadata": {},
   "source": [
    "# Create sample data\n",
    "df = pd.DataFrame({\n",
    "    'A': ['foo', 'bar', 'foo', 'bar', 'foo', 'bar'],\n",
    "    'B': ['one', 'one', 'two', 'three', 'two', 'two'],\n",
    "    'C': [1, 2, 3, 4, 5, 6],\n",
    "    'D': [10, 20, 30, 40, 50, 60]\n",
    "})\n",
    "\n",
    "# Group by multiple columns\n",
    "grouped = df.groupby(['A', 'B']).sum()\n",
    "grouped"
   ]
  },
  {
   "cell_type": "markdown",
   "metadata": {},
   "source": [
    "### 2.1 Advanced Aggregation"
   ]
  },
  {
   "cell_type": "code",
   "execution_count": null,
   "metadata": {},
   "source": [
    "# Multiple aggregation functions\n",
    "agg_funcs = {\n",
    "    'C': ['sum', 'mean', 'std'],\n",
    "    'D': ['min', 'max']\n",
    "}\n",
    "df.groupby('A').agg(agg_funcs)"
   ]
  },
  {
   "cell_type": "markdown",
   "metadata": {},
   "source": [
    "##### 3. Complex Data Transformations"
   ]
  },
  {
   "cell_type": "code",
   "execution_count": null,
   "metadata": {},
   "source": [
    "# Create sample time series data\n",
    "dates = pd.date_range('2023-01-01', periods=6)\n",
    "df = pd.DataFrame({\n",
    "    'date': dates,\n",
    "    'value': [100, 102, 98, 97, 103, 105]\n",
    "})\n",
    "\n",
    "# Calculate rolling mean\n",
    "df['rolling_mean'] = df['value'].rolling(window=3).mean()\n",
    "\n",
    "# Calculate percent change\n",
    "df['pct_change'] = df['value'].pct_change()\n",
    "\n",
    "df"
   ]
  },
  {
   "cell_type": "markdown",
   "metadata": {},
   "source": [
    "##### 4. Performance Optimization\n",
    "\n",
    "Let's look at some techniques to optimize pandas operations:"
   ]
  },
  {
   "cell_type": "code",
   "execution_count": null,
   "metadata": {},
   "source": [
    "# Create a large DataFrame\n",
    "n = 1000000\n",
    "df = pd.DataFrame({\n",
    "    'A': np.random.randn(n),\n",
    "    'B': np.random.randn(n),\n",
    "    'C': np.random.randn(n)\n",
    "})\n",
    "\n",
    "# Time different operations\n",
    "import time\n",
    "\n",
    "# Using iterrows (slow)\n",
    "start = time.time()\n",
    "result1 = []\n",
    "for idx, row in df.iterrows():\n",
    "    result1.append(row['A'] + row['B'])\n",
    "print(f\"iterrows time: {time.time() - start:.2f} seconds\")\n",
    "\n",
    "# Using vectorization (fast)\n",
    "start = time.time()\n",
    "result2 = df['A'] + df['B']\n",
    "print(f\"vectorized time: {time.time() - start:.2f} seconds\")"
   ]
  },
  {
   "cell_type": "markdown",
   "metadata": {},
   "source": [
    "### 4.1 Memory Optimization Tips\n",
    "\n",
    "1. Use appropriate data types (e.g., categories for string columns with few unique values)\n",
    "2. Use chunking for large files\n",
    "3. Remove unnecessary columns\n",
    "4. Use inplace operations when possible"
   ]
  },
  {
   "cell_type": "code",
   "execution_count": null,
   "metadata": {},
   "source": [
    "# Example of memory optimization\n",
    "df = pd.DataFrame({\n",
    "    'id': range(1000000),\n",
    "    'category': np.random.choice(['A', 'B', 'C'], 1000000)\n",
    "})\n",
    "\n",
    "print(f\"Memory usage before: {df.memory_usage().sum() / 1024**2:.2f} MB\")\n",
    "\n",
    "# Convert to category\n",
    "df['category'] = df['category'].astype('category')\n",
    "\n",
    "print(f\"Memory usage after: {df.memory_usage().sum() / 1024**2:.2f} MB\")"
   ]
  }
 ],
 "metadata": {
  "kernelspec": {
   "display_name": "Python 3",
   "language": "python",
   "name": "python3"
  },
  "language_info": {
   "codemirror_mode": {
    "name": "ipython",
    "version": 3
   },
   "file_extension": ".py",
   "mimetype": "text/x-python",
   "name": "python",
   "nbconvert_exporter": "python",
   "pygments_lexer": "ipython3",
   "version": "3.8.0"
  }
 },
 "nbformat": 4,
 "nbformat_minor": 4
}