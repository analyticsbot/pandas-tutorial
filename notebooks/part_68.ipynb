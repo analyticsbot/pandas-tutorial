{
 "cells": [
  {
   "cell_type": "markdown",
   "metadata": {},
   "source": [
    "# Pandas Tutorial - Part 68: DataFrame Methods (to_timestamp and to_xarray)\n",
    "\n",
    "This notebook covers two important DataFrame methods:\n",
    "- `to_timestamp()` - Cast a PeriodIndex to DatetimeIndex of timestamps\n",
    "- `to_xarray()` - Convert pandas DataFrame to xarray Dataset"
   ]
  },
  {
   "cell_type": "code",
   "execution_count": null,
   "metadata": {},
   "outputs": [],
   "source": [
    "import pandas as pd\n",
    "import numpy as np\n",
    "import matplotlib.pyplot as plt\n",
    "\n",
    "# Set display options\n",
    "pd.set_option('display.max_columns', None)\n",
    "pd.set_option('display.expand_frame_repr', False)"
   ]
  },
  {
   "cell_type": "markdown",
   "metadata": {},
   "source": [
    "## 1. DataFrame.to_timestamp()\n",
    "\n",
    "The `to_timestamp()` method casts a DataFrame with a PeriodIndex to a DataFrame with a DatetimeIndex of timestamps, at the beginning or end of the period.\n",
    "\n",
    "This method is particularly useful when you have data indexed by periods (like months, quarters, years) and you want to convert them to specific timestamps."
   ]
  },
  {
   "cell_type": "code",
   "execution_count": null,
   "metadata": {},
   "outputs": [],
   "source": [
    "# Create a DataFrame with a PeriodIndex\n",
    "periods = pd.period_range('2020-01', '2020-12', freq='M')\n",
    "df_period = pd.DataFrame({\n",
    "    'value': np.random.randn(len(periods)),\n",
    "    'category': np.random.choice(['A', 'B', 'C'], len(periods))\n",
    "}, index=periods)\n",
    "\n",
    "print(\"DataFrame with PeriodIndex:\")\n",
    "print(df_period.head())\n",
    "print(\"\\nIndex type:\", type(df_period.index))"
   ]
  },
  {
   "cell_type": "code",
   "execution_count": null,
   "metadata": {},
   "outputs": [],
   "source": [
    "# Convert to DatetimeIndex with timestamps at the start of each period\n",
    "df_timestamp_start = df_period.to_timestamp(how='start')\n",
    "\n",
    "print(\"DataFrame with DatetimeIndex (start of period):\")\n",
    "print(df_timestamp_start.head())\n",
    "print(\"\\nIndex type:\", type(df_timestamp_start.index))"
   ]
  },
  {
   "cell_type": "code",
   "execution_count": null,
   "metadata": {},
   "outputs": [],
   "source": [
    "# Convert to DatetimeIndex with timestamps at the end of each period\n",
    "df_timestamp_end = df_period.to_timestamp(how='end')\n",
    "\n",
    "print(\"DataFrame with DatetimeIndex (end of period):\")\n",
    "print(df_timestamp_end.head())\n",
    "print(\"\\nIndex type:\", type(df_timestamp_end.index))"
   ]
  },
  {
   "cell_type": "code",
   "execution_count": null,
   "metadata": {},
   "outputs": [],
   "source": [
    "# Create a DataFrame with a quarterly PeriodIndex\n",
    "quarters = pd.period_range('2020Q1', '2021Q4', freq='Q')\n",
    "df_quarter = pd.DataFrame({\n",
    "    'sales': np.random.randint(100, 1000, len(quarters)),\n",
    "    'expenses': np.random.randint(50, 500, len(quarters))\n",
    "}, index=quarters)\n",
    "\n",
    "print(\"DataFrame with quarterly PeriodIndex:\")\n",
    "print(df_quarter)"
   ]
  },
  {
   "cell_type": "code",
   "execution_count": null,
   "metadata": {},
   "outputs": [],
   "source": [
    "# Convert to DatetimeIndex with timestamps at the start of each quarter\n",
    "df_quarter_start = df_quarter.to_timestamp(how='start')\n",
    "\n",
    "print(\"DataFrame with DatetimeIndex (start of quarter):\")\n",
    "print(df_quarter_start)"
   ]
  },
  {
   "cell_type": "code",
   "execution_count": null,
   "metadata": {},
   "outputs": [],
   "source": [
    "# Convert to DatetimeIndex with timestamps at the end of each quarter\n",
    "df_quarter_end = df_quarter.to_timestamp(how='end')\n",
    "\n",
    "print(\"DataFrame with DatetimeIndex (end of quarter):\")\n",
    "print(df_quarter_end)"
   ]
  },
  {
   "cell_type": "code",
   "execution_count": null,
   "metadata": {},
   "outputs": [],
   "source": [
    "# Change the frequency when converting to timestamp\n",
    "# For example, convert quarterly periods to monthly timestamps\n",
    "df_quarter_monthly = df_quarter.to_timestamp(freq='M', how='start')\n",
    "\n",
    "print(\"DataFrame with monthly DatetimeIndex (from quarterly periods):\")\n",
    "print(df_quarter_monthly)"
   ]
  },
  {
   "cell_type": "code",
   "execution_count": null,
   "metadata": {},
   "outputs": [],
   "source": [
    "# Create a DataFrame with a PeriodIndex in the columns\n",
    "periods = pd.period_range('2020-01', '2020-06', freq='M')\n",
    "df_period_cols = pd.DataFrame(np.random.randn(3, len(periods)), \n",
    "                             index=['A', 'B', 'C'],\n",
    "                             columns=periods)\n",
    "\n",
    "print(\"DataFrame with PeriodIndex in columns:\")\n",
    "print(df_period_cols)"
   ]
  },
  {
   "cell_type": "code",
   "execution_count": null,
   "metadata": {},
   "outputs": [],
   "source": [
    "# Convert column PeriodIndex to DatetimeIndex\n",
    "df_timestamp_cols = df_period_cols.to_timestamp(axis=1)\n",
    "\n",
    "print(\"DataFrame with DatetimeIndex in columns:\")\n",
    "print(df_timestamp_cols)"
   ]
  },
  {
   "cell_type": "markdown",
   "metadata": {},
   "source": [
    "## 2. DataFrame.to_xarray()\n",
    "\n",
    "The `to_xarray()` method converts a pandas DataFrame to an xarray Dataset. xarray is a library for working with labeled multi-dimensional arrays, particularly for working with NetCDF data and other gridded datasets common in geoscience and other scientific fields.\n",
    "\n",
    "Note: To use this method, you need to have the xarray package installed. If you don't have it installed, you can install it with `pip install xarray`."
   ]
  },
  {
   "cell_type": "code",
   "execution_count": null,
   "metadata": {},
   "outputs": [],
   "source": [
    "# Try to import xarray\n",
    "try:\n",
    "    import xarray as xr\n",
    "    xarray_available = True\n",
    "except ImportError:\n",
    "    print(\"xarray is not installed. Install it with 'pip install xarray' to use DataFrame.to_xarray()\")\n",
    "    xarray_available = False"
   ]
  },
  {
   "cell_type": "code",
   "execution_count": null,
   "metadata": {},
   "outputs": [],
   "source": [
    "# Create a sample DataFrame\n",
    "df = pd.DataFrame([('falcon', 'bird', 389.0, 2),\n",
    "                   ('parrot', 'bird', 24.0, 2),\n",
    "                   ('lion', 'mammal', 80.5, 4),\n",
    "                   ('monkey', 'mammal', np.nan, 4)],\n",
    "                  columns=['name', 'class', 'max_speed', 'num_legs'])\n",
    "\n",
    "print(\"Sample DataFrame:\")\n",
    "print(df)"
   ]
  },
  {
   "cell_type": "code",
   "execution_count": null,
   "metadata": {},
   "outputs": [],
   "source": [
    "# Convert DataFrame to xarray Dataset\n",
    "if xarray_available:\n",
    "    ds = df.to_xarray()\n",
    "    print(\"xarray Dataset:\")\n",
    "    print(ds)\n",
    "else:\n",
    "    print(\"xarray is not available. Skipping conversion.\")"
   ]
  },
  {
   "cell_type": "code",
   "execution_count": null,
   "metadata": {},
   "outputs": [],
   "source": [
    "# Convert a Series to xarray DataArray\n",
    "if xarray_available:\n",
    "    da = df['max_speed'].to_xarray()\n",
    "    print(\"xarray DataArray from Series:\")\n",
    "    print(da)\n",
    "else:\n",
    "    print(\"xarray is not available. Skipping conversion.\")"
   ]
  },
  {
   "cell_type": "code",
   "execution_count": null,
   "metadata": {},
   "outputs": [],
   "source": [
    "# Create a DataFrame with MultiIndex\n",
    "dates = pd.to_datetime(['2018-01-01', '2018-01-01', '2018-01-02', '2018-01-02'])\n",
    "df_multiindex = pd.DataFrame({\n",
    "    'date': dates,\n",
    "    'animal': ['falcon', 'parrot', 'falcon', 'parrot'],\n",
    "    'speed': [350, 18, 361, 15]\n",
    "})\n",
    "df_multiindex = df_multiindex.set_index(['date', 'animal'])\n",
    "\n",
    "print(\"DataFrame with MultiIndex:\")\n",
    "print(df_multiindex)"
   ]
  },
  {
   "cell_type": "code",
   "execution_count": null,
   "metadata": {},
   "outputs": [],
   "source": [
    "# Convert MultiIndex DataFrame to xarray Dataset\n",
    "if xarray_available:\n",
    "    ds_multi = df_multiindex.to_xarray()\n",
    "    print(\"xarray Dataset from MultiIndex DataFrame:\")\n",
    "    print(ds_multi)\n",
    "else:\n",
    "    print(\"xarray is not available. Skipping conversion.\")"
   ]
  },
  {
   "cell_type": "code",
   "execution_count": null,
   "metadata": {},
   "outputs": [],
   "source": [
    "# Create a DataFrame with datetime index\n",
    "dates = pd.date_range('2020-01-01', periods=6, freq='D')\n",
    "df_time = pd.DataFrame({\n",
    "    'temperature': np.random.uniform(15, 25, 6),\n",
    "    'humidity': np.random.uniform(40, 70, 6)\n",
    "}, index=dates)\n",
    "\n",
    "print(\"DataFrame with DatetimeIndex:\")\n",
    "print(df_time)"
   ]
  },
  {
   "cell_type": "code",
   "execution_count": null,
   "metadata": {},
   "outputs": [],
   "source": [
    "# Convert DataFrame with DatetimeIndex to xarray Dataset\n",
    "if xarray_available:\n",
    "    ds_time = df_time.to_xarray()\n",
    "    print(\"xarray Dataset from DataFrame with DatetimeIndex:\")\n",
    "    print(ds_time)\n",
    "else:\n",
    "    print(\"xarray is not available. Skipping conversion.\")"
   ]
  },
  {
   "cell_type": "markdown",
   "metadata": {},
   "source": [
    "## Advantages of xarray\n",
    "\n",
    "If xarray is available, here are some advantages of using xarray over pandas for certain types of data:\n",
    "\n",
    "1. **N-dimensional data**: xarray is designed to handle N-dimensional data, while pandas is primarily for 1D (Series) and 2D (DataFrame) data.\n",
    "\n",
    "2. **Named dimensions**: In xarray, dimensions have names, making it easier to understand what each dimension represents.\n",
    "\n",
    "3. **Coordinate-based indexing**: xarray allows indexing by coordinate values rather than just integer positions.\n",
    "\n",
    "4. **NetCDF compatibility**: xarray has excellent support for NetCDF files, a common format in scientific computing.\n",
    "\n",
    "5. **Vectorized operations**: xarray supports vectorized operations along named dimensions.\n",
    "\n",
    "Let's demonstrate some of these advantages if xarray is available:"
   ]
  },
  {
   "cell_type": "code",
   "execution_count": null,
   "metadata": {},
   "outputs": [],
   "source": [
    "if xarray_available:\n",
    "    # Create a 3D xarray Dataset\n",
    "    # Dimensions: time, latitude, longitude\n",
    "    times = pd.date_range('2020-01-01', periods=3)\n",
    "    lats = [0, 1, 2]  # latitude values\n",
    "    lons = [10, 20, 30]  # longitude values\n",
    "    \n",
    "    # Create random data with shape (time, lat, lon)\n",
    "    data = np.random.rand(len(times), len(lats), len(lons))\n",
    "    \n",
    "    # Create xarray Dataset\n",
    "    ds_3d = xr.Dataset(\n",
    "        data_vars={\n",
    "            'temperature': (['time', 'lat', 'lon'], data)\n",
    "        },\n",
    "        coords={\n",
    "            'time': times,\n",
    "            'lat': lats,\n",
    "            'lon': lons\n",
    "        }\n",
    "    )\n",
    "    \n",
    "    print(\"3D xarray Dataset:\")\n",
    "    print(ds_3d)\n",
    "    \n",
    "    # Select data for a specific time\n",
    "    print(\"\\nData for 2020-01-01:\")\n",
    "    print(ds_3d.sel(time='2020-01-01'))\n",
    "    \n",
    "    # Calculate mean across time dimension\n",
    "    print(\"\\nMean temperature across time:\")\n",
    "    print(ds_3d.temperature.mean(dim='time'))\n",
    "else:\n",
    "    print(\"xarray is not available. Skipping demonstration.\")"
   ]
  },
  {
   "cell_type": "markdown",
   "metadata": {},
   "source": [
    "## Summary\n",
    "\n",
    "In this notebook, we've explored two important DataFrame methods:\n",
    "\n",
    "1. **to_timestamp()**: Converts a DataFrame with a PeriodIndex to a DataFrame with a DatetimeIndex. This method is useful when you need to convert period-based data (like months, quarters, years) to specific timestamps. Key parameters include:\n",
    "   - `freq`: Desired frequency for the timestamps\n",
    "   - `how`: Convention for converting period to timestamp ('start' or 'end')\n",
    "   - `axis`: The axis to convert (0 for index, 1 for columns)\n",
    "   - `copy`: Whether to copy the underlying data\n",
    "\n",
    "2. **to_xarray()**: Converts a pandas DataFrame to an xarray Dataset or a pandas Series to an xarray DataArray. This method is particularly useful for working with multi-dimensional labeled data, especially in scientific computing and data analysis. xarray provides:\n",
    "   - Support for N-dimensional data\n",
    "   - Named dimensions\n",
    "   - Coordinate-based indexing\n",
    "   - NetCDF compatibility\n",
    "   - Vectorized operations along named dimensions\n",
    "\n",
    "These methods extend pandas' functionality by providing interoperability with other data structures and formats, making it easier to work with different types of data and perform specialized analyses."
   ]
  }
 ],
 "metadata": {
  "kernelspec": {
   "display_name": "Python 3",
   "language": "python",
   "name": "python3"
  },
  "language_info": {
   "codemirror_mode": {
    "name": "ipython",
    "version": 3
   },
   "file_extension": ".py",
   "mimetype": "text/x-python",
   "name": "python",
   "nbconvert_exporter": "python",
   "pygments_lexer": "ipython3",
   "version": "3.8.5"
  }
 },
 "nbformat": 4,
 "nbformat_minor": 4
}
