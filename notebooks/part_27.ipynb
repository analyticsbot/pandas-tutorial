{
 "cells": [
  {
   "cell_type": "markdown",
   "metadata": {},
   "source": [
    "# Part 27: Subplots and Rolling Windows in Pandas\n",
    "\n",
    "In this notebook, we'll explore:\n",
    "- Creating subplots with pandas\n",
    "- Customizing subplot layouts\n",
    "- Working with rolling windows for time series analysis\n",
    "\n",
    "## Setup\n",
    "First, let's import the necessary libraries:"
   ]
  },
  {
   "cell_type": "code",
   "execution_count": null,
   "metadata": {},
   "outputs": [],
   "source": [
    "import pandas as pd\n",
    "import numpy as np\n",
    "import matplotlib.pyplot as plt\n",
    "\n",
    "# Set the plotting style\n",
    "plt.style.use('ggplot')\n",
    "\n",
    "# Make plots appear in the notebook\n",
    "%matplotlib inline"
   ]
  },
  {
   "cell_type": "markdown",
   "metadata": {},
   "source": [
    "## 1. Creating Subplots\n",
    "\n",
    "Subplots allow you to display multiple plots in a single figure. Let's create a sample DataFrame for our examples:"
   ]
  },
  {
   "cell_type": "code",
   "execution_count": null,
   "metadata": {},
   "outputs": [],
   "source": [
    "# Create a DataFrame with time series data\n",
    "ts = pd.Series(np.random.randn(1000), index=pd.date_range('1/1/2000', periods=1000))\n",
    "df = pd.DataFrame({\n",
    "    'A': ts.cumsum(),\n",
    "    'B': ts.cumsum() + 10,\n",
    "    'C': ts.cumsum() - 10,\n",
    "    'D': np.random.randn(1000).cumsum()\n",
    "})\n",
    "\n",
    "# Display the first few rows\n",
    "df.head()"
   ]
  },
  {
   "cell_type": "markdown",
   "metadata": {},
   "source": [
    "### 1.1 Basic Subplots\n",
    "\n",
    "You can create subplots by setting the `subplots` parameter to `True`:"
   ]
  },
  {
   "cell_type": "code",
   "execution_count": null,
   "metadata": {},
   "outputs": [],
   "source": [
    "# Create subplots for each column\n",
    "df.plot(subplots=True, figsize=(10, 8), title='Basic Subplots')"
   ]
  },
  {
   "cell_type": "markdown",
   "metadata": {},
   "source": [
    "### 1.2 Customizing Subplot Layout\n",
    "\n",
    "You can customize the layout of subplots using the `layout` parameter, which accepts a tuple of (rows, columns):"
   ]
  },
  {
   "cell_type": "code",
   "execution_count": null,
   "metadata": {},
   "outputs": [],
   "source": [
    "# Create subplots with a 2x2 layout\n",
    "df.plot(subplots=True, layout=(2, 2), figsize=(10, 8), sharex=False, title='Custom Layout (2x2)')"
   ]
  },
  {
   "cell_type": "code",
   "execution_count": null,
   "metadata": {},
   "outputs": [],
   "source": [
    "# Create subplots with a 2x3 layout (with empty subplots)\n",
    "df.plot(subplots=True, layout=(2, 3), figsize=(12, 8), sharex=False, title='Custom Layout (2x3)')"
   ]
  },
  {
   "cell_type": "markdown",
   "metadata": {},
   "source": [
    "You can use `-1` for one dimension to automatically calculate the number of rows or columns needed:"
   ]
  },
  {
   "cell_type": "code",
   "execution_count": null,
   "metadata": {},
   "outputs": [],
   "source": [
    "# Automatically calculate the number of columns\n",
    "df.plot(subplots=True, layout=(2, -1), figsize=(12, 8), sharex=False, title='Auto-calculated Columns')"
   ]
  },
  {
   "cell_type": "markdown",
   "metadata": {},
   "source": [
    "### 1.3 Using Custom Axes\n",
    "\n",
    "You can pass multiple axes created beforehand as a list via the `ax` parameter. This allows for more complex layouts:"
   ]
  },
  {
   "cell_type": "code",
   "execution_count": null,
   "metadata": {},
   "outputs": [],
   "source": [
    "# Create a 4x4 grid of subplots\n",
    "fig, axes = plt.subplots(4, 4, figsize=(12, 12))\n",
    "plt.subplots_adjust(wspace=0.5, hspace=0.5)\n",
    "\n",
    "# Define target axes for the plots\n",
    "target1 = [axes[0][0], axes[1][1], axes[2][2], axes[3][3]]  # Diagonal from top-left to bottom-right\n",
    "target2 = [axes[3][0], axes[2][1], axes[1][2], axes[0][3]]  # Diagonal from bottom-left to top-right\n",
    "\n",
    "# Plot on the first set of axes\n",
    "df.plot(subplots=True, ax=target1, legend=False, sharex=False, sharey=False)\n",
    "\n",
    "# Plot the negative values on the second set of axes\n",
    "(-df).plot(subplots=True, ax=target2, legend=False, sharex=False, sharey=False)\n",
    "\n",
    "# Add a title to the figure\n",
    "fig.suptitle('Custom Axes Layout', fontsize=16)\n",
    "plt.tight_layout(rect=[0, 0, 1, 0.95])  # Adjust layout to make room for the title"
   ]
  },
  {
   "cell_type": "markdown",
   "metadata": {},
   "source": [
    "### 1.4 Plotting on Specific Axes\n",
    "\n",
    "You can also plot individual Series on specific axes:"
   ]
  },
  {
   "cell_type": "code",
   "execution_count": null,
   "metadata": {},
   "outputs": [],
   "source": [
    "# Create a 2x2 grid of subplots\n",
    "fig, axes = plt.subplots(nrows=2, ncols=2, figsize=(10, 8))\n",
    "\n",
    "# Plot each column on a different axis\n",
    "df['A'].plot(ax=axes[0, 0])\n",
    "axes[0, 0].set_title('A')\n",
    "\n",
    "df['B'].plot(ax=axes[0, 1])\n",
    "axes[0, 1].set_title('B')\n",
    "\n",
    "df['C'].plot(ax=axes[1, 0])\n",
    "axes[1, 0].set_title('C')\n",
    "\n",
    "df['D'].plot(ax=axes[1, 1])\n",
    "axes[1, 1].set_title('D')\n",
    "\n",
    "# Adjust layout\n",
    "plt.tight_layout()"
   ]
  },
  {
   "cell_type": "markdown",
   "metadata": {},
   "source": [
    "## 2. Rolling Windows\n",
    "\n",
    "Rolling windows are a powerful tool for time series analysis. They allow you to compute statistics over a sliding window of data points.\n",
    "\n",
    "### 2.1 Creating Rolling Windows"
   ]
  },
  {
   "cell_type": "code",
   "execution_count": null,
   "metadata": {},
   "outputs": [],
   "source": [
    "# Create a Series for rolling window examples\n",
    "s = pd.Series(np.random.randn(1000), index=pd.date_range('1/1/2000', periods=1000))\n",
    "s = s.cumsum()\n",
    "\n",
    "# Create a rolling window object\n",
    "r = s.rolling(window=60)\n",
    "print(f\"Rolling window object: {r}\")"
   ]
  },
  {
   "cell_type": "markdown",
   "metadata": {},
   "source": [
    "### 2.2 Computing Rolling Statistics\n",
    "\n",
    "Once you have a rolling window object, you can compute various statistics:"
   ]
  },
  {
   "cell_type": "code",
   "execution_count": null,
   "metadata": {},
   "outputs": [],
   "source": [
    "# Compute rolling mean\n",
    "rolling_mean = r.mean()\n",
    "print(\"First few values of rolling mean:\")\n",
    "print(rolling_mean.head())\n",
    "print(\"\\nLast few values of rolling mean:\")\n",
    "print(rolling_mean.tail())"
   ]
  },
  {
   "cell_type": "markdown",
   "metadata": {},
   "source": [
    "Let's visualize the original series and its rolling mean:"
   ]
  },
  {
   "cell_type": "code",
   "execution_count": null,
   "metadata": {},
   "outputs": [],
   "source": [
    "# Plot the original series and its rolling mean\n",
    "plt.figure(figsize=(12, 6))\n",
    "s.plot(style='k--', label='Original')\n",
    "r.mean().plot(style='k', label='Rolling Mean (60 days)')\n",
    "plt.legend()\n",
    "plt.title('Original Series vs. Rolling Mean')\n",
    "plt.xlabel('Date')\n",
    "plt.ylabel('Value')"
   ]
  },
  {
   "cell_type": "markdown",
   "metadata": {},
   "source": [
    "### 2.3 Rolling Windows with DataFrames\n",
    "\n",
    "Rolling windows can also be applied to DataFrames. This applies the rolling window operation to all columns:"
   ]
  },
  {
   "cell_type": "code",
   "execution_count": null,
   "metadata": {},
   "outputs": [],
   "source": [
    "# Create a new DataFrame for rolling window examples\n",
    "df_roll = pd.DataFrame(np.random.randn(1000, 4),\n",
    "                      index=pd.date_range('1/1/2000', periods=1000),\n",
    "                      columns=['A', 'B', 'C', 'D'])\n",
    "df_roll = df_roll.cumsum()\n",
    "\n",
    "# Compute rolling sum with a 60-day window and plot\n",
    "df_roll.rolling(window=60).sum().plot(subplots=True, figsize=(12, 10), \n",
    "                                     title='60-Day Rolling Sum for Each Column')"
   ]
  },
  {
   "cell_type": "markdown",
   "metadata": {},
   "source": [
    "### 2.4 Common Rolling Window Methods\n",
    "\n",
    "Pandas provides a number of common statistical functions for rolling windows:"
   ]
  },
  {
   "cell_type": "code",
   "execution_count": null,
   "metadata": {},
   "outputs": [],
   "source": [
    "# Create a figure with multiple subplots\n",
    "fig, axes = plt.subplots(3, 2, figsize=(12, 12))\n",
    "\n",
    "# Plot original data\n",
    "df_roll['A'].plot(ax=axes[0, 0], title='Original Series (A)')\n",
    "\n",
    "# Plot various rolling statistics\n",
    "df_roll['A'].rolling(window=60).mean().plot(ax=axes[0, 1], title='Rolling Mean')\n",
    "df_roll['A'].rolling(window=60).std().plot(ax=axes[1, 0], title='Rolling Standard Deviation')\n",
    "df_roll['A'].rolling(window=60).max().plot(ax=axes[1, 1], title='Rolling Maximum')\n",
    "df_roll['A'].rolling(window=60).min().plot(ax=axes[2, 0], title='Rolling Minimum')\n",
    "df_roll['A'].rolling(window=60).median().plot(ax=axes[2, 1], title='Rolling Median')\n",
    "\n",
    "plt.tight_layout()"
   ]
  },
  {
   "cell_type": "markdown",
   "metadata": {},
   "source": [
    "### 2.5 Rolling Window Parameters\n",
    "\n",
    "Rolling window functions accept several important parameters:\n",
    "\n",
    "- `window`: Size of the moving window\n",
    "- `min_periods`: Minimum number of observations required to have a value\n",
    "- `center`: Whether to set the labels at the center of the window\n",
    "\n",
    "Let's explore these parameters:"
   ]
  },
  {
   "cell_type": "code",
   "execution_count": null,
   "metadata": {},
   "outputs": [],
   "source": [
    "# Create a Series with some missing values\n",
    "s_missing = pd.Series(np.random.randn(20))\n",
    "s_missing[[5, 10, 15]] = np.nan  # Set some values to NaN\n",
    "print(\"Series with missing values:\")\n",
    "print(s_missing)"
   ]
  },
  {
   "cell_type": "code",
   "execution_count": null,
   "metadata": {},
   "outputs": [],
   "source": [
    "# Effect of min_periods\n",
    "fig, axes = plt.subplots(2, 1, figsize=(10, 8))\n",
    "\n",
    "# Default min_periods (window size)\n",
    "s_missing.rolling(window=5).mean().plot(ax=axes[0], title='Rolling Mean (min_periods=None)')\n",
    "axes[0].set_ylabel('Value')\n",
    "\n",
    "# Custom min_periods\n",
    "s_missing.rolling(window=5, min_periods=1).mean().plot(ax=axes[1], title='Rolling Mean (min_periods=1)')\n",
    "axes[1].set_ylabel('Value')\n",
    "\n",
    "plt.tight_layout()"
   ]
  },
  {
   "cell_type": "code",
   "execution_count": null,
   "metadata": {},
   "outputs": [],
   "source": [
    "# Effect of center parameter\n",
    "fig, axes = plt.subplots(2, 1, figsize=(10, 8))\n",
    "\n",
    "# Default center (False)\n",
    "s_missing.rolling(window=5, min_periods=1).mean().plot(ax=axes[0], title='Rolling Mean (center=False)')\n",
    "axes[0].set_ylabel('Value')\n",
    "\n",
    "# Center=True\n",
    "s_missing.rolling(window=5, min_periods=1, center=True).mean().plot(ax=axes[1], title='Rolling Mean (center=True)')\n",
    "axes[1].set_ylabel('Value')\n",
    "\n",
    "plt.tight_layout()"
   ]
  },
  {
   "cell_type": "markdown",
   "metadata": {},
   "source": [
    "## Summary\n",
    "\n",
    "In this notebook, we've explored:\n",
    "\n",
    "1. Creating and customizing subplots in pandas:\n",
    "   - Basic subplots\n",
    "   - Customizing subplot layouts\n",
    "   - Using custom axes\n",
    "   - Plotting on specific axes\n",
    "\n",
    "2. Working with rolling windows for time series analysis:\n",
    "   - Creating rolling window objects\n",
    "   - Computing rolling statistics\n",
    "   - Applying rolling windows to DataFrames\n",
    "   - Common rolling window methods\n",
    "   - Understanding rolling window parameters\n",
    "\n",
    "These techniques are essential for effective data visualization and time series analysis in pandas."
   ]
  }
 ],
 "metadata": {
  "kernelspec": {
   "display_name": "Python 3",
   "language": "python",
   "name": "python3"
  },
  "language_info": {
   "codemirror_mode": {
    "name": "ipython",
    "version": 3
   },
   "file_extension": ".py",
   "mimetype": "text/x-python",
   "name": "python",
   "nbconvert_exporter": "python",
   "pygments_lexer": "ipython3",
   "version": "3.8.5"
  }
 },
 "nbformat": 4,
 "nbformat_minor": 4
}
