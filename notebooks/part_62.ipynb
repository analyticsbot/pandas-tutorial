{
 "cells": [
  {
   "cell_type": "markdown",
   "metadata": {},
   "source": [
    "# Pandas Tutorial - Part 62: DataFrame Methods (max, mean, nlargest, notna, notnull)\n",
    "\n",
    "This notebook covers several important DataFrame methods including:\n",
    "- `max()` - Return the maximum of the values for the requested axis\n",
    "- `mean()` - Return the mean of the values for the requested axis\n",
    "- `nlargest()` - Return the first n rows ordered by columns in descending order\n",
    "- `notna()` - Detect existing (non-missing) values\n",
    "- `notnull()` - Alias of notna()"
   ]
  },
  {
   "cell_type": "code",
   "execution_count": null,
   "metadata": {},
   "outputs": [],
   "source": [
    "import pandas as pd\n",
    "import numpy as np\n",
    "import matplotlib.pyplot as plt\n",
    "\n",
    "# Set display options\n",
    "pd.set_option('display.max_columns', None)\n",
    "pd.set_option('display.expand_frame_repr', False)"
   ]
  },
  {
   "cell_type": "markdown",
   "metadata": {},
   "source": [
    "## 1. DataFrame.max()\n",
    "\n",
    "The `max()` method returns the maximum of the values for the requested axis."
   ]
  },
  {
   "cell_type": "code",
   "execution_count": null,
   "metadata": {},
   "outputs": [],
   "source": [
    "# Create a Series with MultiIndex\n",
    "idx = pd.MultiIndex.from_arrays([\n",
    "    ['warm', 'warm', 'cold', 'cold'],\n",
    "    ['dog', 'falcon', 'fish', 'spider']\n",
    "], names=['blooded', 'animal'])\n",
    "\n",
    "s = pd.Series([4, 2, 0, 8], name='legs', index=idx)\n",
    "print(\"Series with MultiIndex:\")\n",
    "s"
   ]
  },
  {
   "cell_type": "code",
   "execution_count": null,
   "metadata": {},
   "outputs": [],
   "source": [
    "# Find the maximum value\n",
    "print(\"Maximum value:\")\n",
    "s.max()"
   ]
  },
  {
   "cell_type": "code",
   "execution_count": null,
   "metadata": {},
   "outputs": [],
   "source": [
    "# Find the maximum value by level\n",
    "print(\"Maximum value by level 'blooded':\")\n",
    "s.max(level='blooded')"
   ]
  },
  {
   "cell_type": "code",
   "execution_count": null,
   "metadata": {},
   "outputs": [],
   "source": [
    "# Find the maximum value by level index\n",
    "print(\"Maximum value by level 0:\")\n",
    "s.max(level=0)"
   ]
  },
  {
   "cell_type": "code",
   "execution_count": null,
   "metadata": {},
   "outputs": [],
   "source": [
    "# Create a DataFrame\n",
    "df = pd.DataFrame({\n",
    "    'A': [1, 2, 3, 4, 5],\n",
    "    'B': [10, 20, 30, 40, 50],\n",
    "    'C': [100, 50, 10, 20, 30]\n",
    "})\n",
    "print(\"DataFrame:\")\n",
    "df"
   ]
  },
  {
   "cell_type": "code",
   "execution_count": null,
   "metadata": {},
   "outputs": [],
   "source": [
    "# Find the maximum value for each column\n",
    "print(\"Maximum value for each column:\")\n",
    "df.max()"
   ]
  },
  {
   "cell_type": "code",
   "execution_count": null,
   "metadata": {},
   "outputs": [],
   "source": [
    "# Find the maximum value for each row\n",
    "print(\"Maximum value for each row:\")\n",
    "df.max(axis=1)"
   ]
  },
  {
   "cell_type": "code",
   "execution_count": null,
   "metadata": {},
   "outputs": [],
   "source": [
    "# Create a DataFrame with NaN values\n",
    "df_with_na = pd.DataFrame({\n",
    "    'A': [1, 2, np.nan, 4, 5],\n",
    "    'B': [10, np.nan, 30, 40, 50],\n",
    "    'C': [100, 50, 10, np.nan, 30]\n",
    "})\n",
    "print(\"DataFrame with NaN values:\")\n",
    "df_with_na"
   ]
  },
  {
   "cell_type": "code",
   "execution_count": null,
   "metadata": {},
   "outputs": [],
   "source": [
    "# Find the maximum value for each column (skipna=True by default)\n",
    "print(\"Maximum value for each column (skipna=True):\")\n",
    "df_with_na.max()"
   ]
  },
  {
   "cell_type": "code",
   "execution_count": null,
   "metadata": {},
   "outputs": [],
   "source": [
    "# Find the maximum value for each column (skipna=False)\n",
    "print(\"Maximum value for each column (skipna=False):\")\n",
    "df_with_na.max(skipna=False)"
   ]
  },
  {
   "cell_type": "markdown",
   "metadata": {},
   "source": [
    "## 2. DataFrame.mean()\n",
    "\n",
    "The `mean()` method returns the mean of the values for the requested axis."
   ]
  },
  {
   "cell_type": "code",
   "execution_count": null,
   "metadata": {},
   "outputs": [],
   "source": [
    "# Using the same DataFrame\n",
    "print(\"DataFrame:\")\n",
    "df"
   ]
  },
  {
   "cell_type": "code",
   "execution_count": null,
   "metadata": {},
   "outputs": [],
   "source": [
    "# Calculate the mean for each column\n",
    "print(\"Mean for each column:\")\n",
    "df.mean()"
   ]
  },
  {
   "cell_type": "code",
   "execution_count": null,
   "metadata": {},
   "outputs": [],
   "source": [
    "# Calculate the mean for each row\n",
    "print(\"Mean for each row:\")\n",
    "df.mean(axis=1)"
   ]
  },
  {
   "cell_type": "code",
   "execution_count": null,
   "metadata": {},
   "outputs": [],
   "source": [
    "# Using the DataFrame with NaN values\n",
    "print(\"DataFrame with NaN values:\")\n",
    "df_with_na"
   ]
  },
  {
   "cell_type": "code",
   "execution_count": null,
   "metadata": {},
   "outputs": [],
   "source": [
    "# Calculate the mean for each column (skipna=True by default)\n",
    "print(\"Mean for each column (skipna=True):\")\n",
    "df_with_na.mean()"
   ]
  },
  {
   "cell_type": "code",
   "execution_count": null,
   "metadata": {},
   "outputs": [],
   "source": [
    "# Calculate the mean for each column (skipna=False)\n",
    "print(\"Mean for each column (skipna=False):\")\n",
    "df_with_na.mean(skipna=False)"
   ]
  },
  {
   "cell_type": "code",
   "execution_count": null,
   "metadata": {},
   "outputs": [],
   "source": [
    "# Create a DataFrame with mixed data types\n",
    "df_mixed = pd.DataFrame({\n",
    "    'A': [1, 2, 3, 4, 5],\n",
    "    'B': ['a', 'b', 'c', 'd', 'e'],\n",
    "    'C': [True, False, True, True, False]\n",
    "})\n",
    "print(\"DataFrame with mixed data types:\")\n",
    "df_mixed"
   ]
  },
  {
   "cell_type": "code",
   "execution_count": null,
   "metadata": {},
   "outputs": [],
   "source": [
    "# Calculate the mean (numeric_only=None by default)\n",
    "print(\"Mean (numeric_only=None):\")\n",
    "df_mixed.mean()"
   ]
  },
  {
   "cell_type": "code",
   "execution_count": null,
   "metadata": {},
   "outputs": [],
   "source": [
    "# Calculate the mean (numeric_only=True)\n",
    "print(\"Mean (numeric_only=True):\")\n",
    "df_mixed.mean(numeric_only=True)"
   ]
  },
  {
   "cell_type": "markdown",
   "metadata": {},
   "source": [
    "## 3. DataFrame.nlargest()\n",
    "\n",
    "The `nlargest()` method returns the first n rows ordered by columns in descending order."
   ]
  },
  {
   "cell_type": "code",
   "execution_count": null,
   "metadata": {},
   "outputs": [],
   "source": [
    "# Create a DataFrame for countries\n",
    "df = pd.DataFrame({\n",
    "    'population': [59000000, 65000000, 434000, 434000, 37800000],\n",
    "    'GDP': [1937894, 2583560, 12128, 17036, 1493000],\n",
    "    'alpha-2': ['IT', 'FR', 'BN', 'TL', 'CA']\n",
    "}, index=['Italy', 'France', 'Brunei', 'Timor-Leste', 'Canada'])\n",
    "\n",
    "print(\"Countries DataFrame:\")\n",
    "df"
   ]
  },
  {
   "cell_type": "code",
   "execution_count": null,
   "metadata": {},
   "outputs": [],
   "source": [
    "# Get the 3 largest countries by population\n",
    "print(\"3 largest countries by population:\")\n",
    "df.nlargest(3, 'population')"
   ]
  },
  {
   "cell_type": "code",
   "execution_count": null,
   "metadata": {},
   "outputs": [],
   "source": [
    "# Get the 3 largest countries by GDP\n",
    "print(\"3 largest countries by GDP:\")\n",
    "df.nlargest(3, 'GDP')"
   ]
  },
  {
   "cell_type": "code",
   "execution_count": null,
   "metadata": {},
   "outputs": [],
   "source": [
    "# Get the 3 largest countries by multiple columns\n",
    "print(\"3 largest countries by population and GDP:\")\n",
    "df.nlargest(3, ['population', 'GDP'])"
   ]
  },
  {
   "cell_type": "code",
   "execution_count": null,
   "metadata": {},
   "outputs": [],
   "source": [
    "# Get the 3 largest countries by GDP and population\n",
    "print(\"3 largest countries by GDP and population:\")\n",
    "df.nlargest(3, ['GDP', 'population'])"
   ]
  },
  {
   "cell_type": "code",
   "execution_count": null,
   "metadata": {},
   "outputs": [],
   "source": [
    "# Create a Series\n",
    "s = pd.Series([3, 2, 1, 5, 4])\n",
    "print(\"Series:\")\n",
    "print(s)\n",
    "\n",
    "# Get the 3 largest values\n",
    "print(\"\\n3 largest values:\")\n",
    "print(s.nlargest(3))"
   ]
  },
  {
   "cell_type": "markdown",
   "metadata": {},
   "source": [
    "## 4. DataFrame.notna() and DataFrame.notnull()\n",
    "\n",
    "The `notna()` and `notnull()` methods detect existing (non-missing) values. `notnull()` is an alias of `notna()`."
   ]
  },
  {
   "cell_type": "code",
   "execution_count": null,
   "metadata": {},
   "outputs": [],
   "source": [
    "# Create a DataFrame with missing values\n",
    "df = pd.DataFrame({\n",
    "    'age': [5, 6, np.nan],\n",
    "    'born': [pd.NaT, pd.Timestamp('1939-05-27'), pd.Timestamp('1940-04-25')],\n",
    "    'name': ['Alfred', 'Batman', ''],\n",
    "    'toy': [None, 'Batmobile', 'Joker']\n",
    "})\n",
    "\n",
    "print(\"DataFrame with missing values:\")\n",
    "df"
   ]
  },
  {
   "cell_type": "code",
   "execution_count": null,
   "metadata": {},
   "outputs": [],
   "source": [
    "# Detect non-missing values using notna()\n",
    "print(\"Non-missing values (notna):\")\n",
    "df.notna()"
   ]
  },
  {
   "cell_type": "code",
   "execution_count": null,
   "metadata": {},
   "outputs": [],
   "source": [
    "# Detect non-missing values using notnull()\n",
    "print(\"Non-missing values (notnull):\")\n",
    "df.notnull()"
   ]
  },
  {
   "cell_type": "code",
   "execution_count": null,
   "metadata": {},
   "outputs": [],
   "source": [
    "# Verify that notna() and notnull() return the same result\n",
    "print(\"Are notna() and notnull() results equal?\")\n",
    "print(df.notna().equals(df.notnull()))"
   ]
  },
  {
   "cell_type": "code",
   "execution_count": null,
   "metadata": {},
   "outputs": [],
   "source": [
    "# Create a Series with missing values\n",
    "ser = pd.Series([5, 6, np.nan])\n",
    "print(\"Series with missing values:\")\n",
    "print(ser)"
   ]
  },
  {
   "cell_type": "code",
   "execution_count": null,
   "metadata": {},
   "outputs": [],
   "source": [
    "# Detect non-missing values in the Series\n",
    "print(\"\\nNon-missing values in Series:\")\n",
    "print(ser.notna())"
   ]
  },
  {
   "cell_type": "code",
   "execution_count": null,
   "metadata": {},
   "outputs": [],
   "source": [
    "# Use notna() to filter a DataFrame\n",
    "print(\"Filtering DataFrame to keep only rows where 'age' is not NA:\")\n",
    "df[df['age'].notna()]"
   ]
  },
  {
   "cell_type": "code",
   "execution_count": null,
   "metadata": {},
   "outputs": [],
   "source": [
    "# Count non-missing values in each column\n",
    "print(\"Count of non-missing values in each column:\")\n",
    "df.notna().sum()"
   ]
  },
  {
   "cell_type": "code",
   "execution_count": null,
   "metadata": {},
   "outputs": [],
   "source": [
    "# Check if all values in a row are non-missing\n",
    "print(\"Rows where all values are non-missing:\")\n",
    "df[df.notna().all(axis=1)]"
   ]
  },
  {
   "cell_type": "markdown",
   "metadata": {},
   "source": [
    "## Summary\n",
    "\n",
    "In this notebook, we've explored several important DataFrame methods:\n",
    "\n",
    "1. **max()**: Returns the maximum of the values for the requested axis. It can be used with the `level` parameter for hierarchical indices.\n",
    "\n",
    "2. **mean()**: Returns the mean of the values for the requested axis. It can be used with the `skipna` parameter to control how missing values are handled.\n",
    "\n",
    "3. **nlargest()**: Returns the first n rows ordered by columns in descending order. It's useful for quickly finding the largest values in a DataFrame.\n",
    "\n",
    "4. **notna()** and **notnull()**: Detect existing (non-missing) values in a DataFrame or Series. `notnull()` is an alias of `notna()`. These methods are essential for identifying and handling missing data.\n",
    "\n",
    "These methods are essential for data analysis, statistical calculations, and handling missing data in pandas."
   ]
  }
 ],
 "metadata": {
  "kernelspec": {
   "display_name": "Python 3",
   "language": "python",
   "name": "python3"
  },
  "language_info": {
   "codemirror_mode": {
    "name": "ipython",
    "version": 3
   },
   "file_extension": ".py",
   "mimetype": "text/x-python",
   "name": "python",
   "nbconvert_exporter": "python",
   "pygments_lexer": "ipython3",
   "version": "3.8.5"
  }
 },
 "nbformat": 4,
 "nbformat_minor": 4
}
