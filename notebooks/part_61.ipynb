{
 "cells": [
  {
   "cell_type": "markdown",
   "metadata": {},
   "source": [
    "# Pandas Tutorial - Part 61: DataFrame Methods (info, mask)\n",
    "\n",
    "This notebook covers important DataFrame methods including:\n",
    "- `info()` - Print a concise summary of a DataFrame\n",
    "- `mask()` - Replace values where the condition is True"
   ]
  },
  {
   "cell_type": "code",
   "execution_count": null,
   "metadata": {},
   "outputs": [],
   "source": [
    "import pandas as pd\n",
    "import numpy as np\n",
    "import matplotlib.pyplot as plt\n",
    "\n",
    "# Set display options\n",
    "pd.set_option('display.max_columns', None)\n",
    "pd.set_option('display.expand_frame_repr', False)"
   ]
  },
  {
   "cell_type": "markdown",
   "metadata": {},
   "source": [
    "## 1. DataFrame.info()\n",
    "\n",
    "The `info()` method prints a concise summary of a DataFrame, including the index dtype, column dtypes, non-null values, and memory usage."
   ]
  },
  {
   "cell_type": "code",
   "execution_count": null,
   "metadata": {},
   "outputs": [],
   "source": [
    "# Create a DataFrame with different data types\n",
    "int_values = [1, 2, 3, 4, 5]\n",
    "text_values = ['alpha', 'beta', 'gamma', 'delta', 'epsilon']\n",
    "float_values = [0.0, 0.25, 0.5, 0.75, 1.0]\n",
    "df = pd.DataFrame({\n",
    "    \"int_col\": int_values, \n",
    "    \"text_col\": text_values,\n",
    "    \"float_col\": float_values\n",
    "})\n",
    "\n",
    "print(\"DataFrame:\")\n",
    "df"
   ]
  },
  {
   "cell_type": "code",
   "execution_count": null,
   "metadata": {},
   "outputs": [],
   "source": [
    "# Print information about the DataFrame\n",
    "print(\"DataFrame info:\")\n",
    "df.info(verbose=True)"
   ]
  },
  {
   "cell_type": "code",
   "execution_count": null,
   "metadata": {},
   "outputs": [],
   "source": [
    "# Create a DataFrame with missing values\n",
    "df_with_na = pd.DataFrame({\n",
    "    \"A\": [1, 2, np.nan, 4, 5],\n",
    "    \"B\": [np.nan, 2, 3, 4, 5],\n",
    "    \"C\": [1, 2, 3, np.nan, np.nan]\n",
    "})\n",
    "\n",
    "print(\"DataFrame with missing values:\")\n",
    "df_with_na"
   ]
  },
  {
   "cell_type": "code",
   "execution_count": null,
   "metadata": {},
   "outputs": [],
   "source": [
    "# Print information about the DataFrame with missing values\n",
    "print(\"DataFrame with missing values info:\")\n",
    "df_with_na.info()"
   ]
  },
  {
   "cell_type": "code",
   "execution_count": null,
   "metadata": {},
   "outputs": [],
   "source": [
    "# Create a larger DataFrame\n",
    "large_df = pd.DataFrame({\n",
    "    f\"col_{i}\": np.random.rand(1000) for i in range(20)\n",
    "})\n",
    "\n",
    "print(\"Large DataFrame info:\")\n",
    "large_df.info()"
   ]
  },
  {
   "cell_type": "code",
   "execution_count": null,
   "metadata": {},
   "outputs": [],
   "source": [
    "# Show memory usage with deep introspection\n",
    "print(\"Memory usage with deep introspection:\")\n",
    "df.info(memory_usage='deep')"
   ]
  },
  {
   "cell_type": "code",
   "execution_count": null,
   "metadata": {},
   "outputs": [],
   "source": [
    "# Customize max_cols parameter\n",
    "print(\"Info with max_cols=2:\")\n",
    "large_df.info(max_cols=2)"
   ]
  },
  {
   "cell_type": "markdown",
   "metadata": {},
   "source": [
    "## 2. DataFrame.mask()\n",
    "\n",
    "The `mask()` method replaces values where the condition is True. It's the opposite of `where()` method."
   ]
  },
  {
   "cell_type": "code",
   "execution_count": null,
   "metadata": {},
   "outputs": [],
   "source": [
    "# Create a Series\n",
    "s = pd.Series(range(5))\n",
    "print(\"Original Series:\")\n",
    "print(s)"
   ]
  },
  {
   "cell_type": "code",
   "execution_count": null,
   "metadata": {},
   "outputs": [],
   "source": [
    "# Using where() - keep values where condition is True\n",
    "print(\"\\nwhere(s > 0) - keep values where s > 0:\")\n",
    "print(s.where(s > 0))"
   ]
  },
  {
   "cell_type": "code",
   "execution_count": null,
   "metadata": {},
   "outputs": [],
   "source": [
    "# Using mask() - replace values where condition is True\n",
    "print(\"\\nmask(s > 0) - replace values where s > 0:\")\n",
    "print(s.mask(s > 0))"
   ]
  },
  {
   "cell_type": "code",
   "execution_count": null,
   "metadata": {},
   "outputs": [],
   "source": [
    "# Using where() with a replacement value\n",
    "print(\"\\nwhere(s > 1, 10) - replace values where s <= 1 with 10:\")\n",
    "print(s.where(s > 1, 10))"
   ]
  },
  {
   "cell_type": "code",
   "execution_count": null,
   "metadata": {},
   "outputs": [],
   "source": [
    "# Using mask() with a replacement value\n",
    "print(\"\\nmask(s > 1, 10) - replace values where s > 1 with 10:\")\n",
    "print(s.mask(s > 1, 10))"
   ]
  },
  {
   "cell_type": "code",
   "execution_count": null,
   "metadata": {},
   "outputs": [],
   "source": [
    "# Create a DataFrame\n",
    "df = pd.DataFrame(np.arange(10).reshape(-1, 2), columns=['A', 'B'])\n",
    "print(\"Original DataFrame:\")\n",
    "print(df)"
   ]
  },
  {
   "cell_type": "code",
   "execution_count": null,
   "metadata": {},
   "outputs": [],
   "source": [
    "# Create a condition\n",
    "m = df % 3 == 0\n",
    "print(\"Condition (m = df % 3 == 0):\")\n",
    "print(m)"
   ]
  },
  {
   "cell_type": "code",
   "execution_count": null,
   "metadata": {},
   "outputs": [],
   "source": [
    "# Using where() with the condition\n",
    "print(\"\\ndf.where(m, -df) - keep values where m is True, replace others with -df:\")\n",
    "print(df.where(m, -df))"
   ]
  },
  {
   "cell_type": "code",
   "execution_count": null,
   "metadata": {},
   "outputs": [],
   "source": [
    "# Using mask() with the condition\n",
    "print(\"\\ndf.mask(m, -df) - replace values where m is True with -df:\")\n",
    "print(df.mask(m, -df))"
   ]
  },
  {
   "cell_type": "code",
   "execution_count": null,
   "metadata": {},
   "outputs": [],
   "source": [
    "# Verify that where(m) is equivalent to mask(~m)\n",
    "print(\"\\nVerify that df.where(m, -df) == df.mask(~m, -df):\")\n",
    "print(df.where(m, -df) == df.mask(~m, -df))"
   ]
  },
  {
   "cell_type": "code",
   "execution_count": null,
   "metadata": {},
   "outputs": [],
   "source": [
    "# Using mask() with a callable for the condition\n",
    "print(\"\\nUsing a callable for the condition:\")\n",
    "print(df.mask(lambda x: x > 5, 0))"
   ]
  },
  {
   "cell_type": "code",
   "execution_count": null,
   "metadata": {},
   "outputs": [],
   "source": [
    "# Using mask() with a callable for the replacement\n",
    "print(\"\\nUsing a callable for the replacement:\")\n",
    "print(df.mask(m, lambda x: x * 10))"
   ]
  },
  {
   "cell_type": "code",
   "execution_count": null,
   "metadata": {},
   "outputs": [],
   "source": [
    "# Using mask() with inplace=True\n",
    "df_copy = df.copy()\n",
    "print(\"\\nBefore mask() with inplace=True:\")\n",
    "print(df_copy)\n",
    "\n",
    "df_copy.mask(m, -df, inplace=True)\n",
    "print(\"\\nAfter mask() with inplace=True:\")\n",
    "print(df_copy)"
   ]
  },
  {
   "cell_type": "markdown",
   "metadata": {},
   "source": [
    "## Summary\n",
    "\n",
    "In this notebook, we've explored two important DataFrame methods:\n",
    "\n",
    "1. **info()**: Prints a concise summary of a DataFrame, including the index dtype, column dtypes, non-null values, and memory usage. This is useful for quickly understanding the structure and content of a DataFrame.\n",
    "\n",
    "2. **mask()**: Replaces values where the condition is True. It's the opposite of the `where()` method, which keeps values where the condition is True. The `mask()` method is useful for data cleaning and transformation tasks.\n",
    "\n",
    "These methods are essential for data exploration, understanding DataFrame structure, and data manipulation in pandas."
   ]
  }
 ],
 "metadata": {
  "kernelspec": {
   "display_name": "Python 3",
   "language": "python",
   "name": "python3"
  },
  "language_info": {
   "codemirror_mode": {
    "name": "ipython",
    "version": 3
   },
   "file_extension": ".py",
   "mimetype": "text/x-python",
   "name": "python",
   "nbconvert_exporter": "python",
   "pygments_lexer": "ipython3",
   "version": "3.8.5"
  }
 },
 "nbformat": 4,
 "nbformat_minor": 4
}
