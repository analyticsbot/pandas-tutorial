{
 "cells": [
  {
   "cell_type": "markdown",
   "metadata": {},
   "source": [
    "# Pandas Date Offsets - Part 81\n",
    "\n",
    "This notebook covers several important date offset classes and methods in pandas, focusing on `BusinessMonthEnd` and `SemiMonthBegin` offsets."
   ]
  },
  {
   "cell_type": "code",
   "execution_count": null,
   "metadata": {},
   "source": [
    "import pandas as pd\n",
    "import numpy as np\n",
    "from pandas.tseries.offsets import BusinessMonthEnd, SemiMonthEnd, SemiMonthBegin\n",
    "from datetime import datetime"
   ]
  },
  {
   "cell_type": "markdown",
   "metadata": {},
   "source": [
    "## BusinessMonthEnd Offset\n",
    "\n",
    "The `BusinessMonthEnd` offset represents the last business day of the month. It's useful for financial calculations and business date manipulations."
   ]
  },
  {
   "cell_type": "code",
   "execution_count": null,
   "metadata": {},
   "source": [
    "# Create a BusinessMonthEnd offset\n",
    "bme = BusinessMonthEnd()\n",
    "bme"
   ]
  },
  {
   "cell_type": "code",
   "execution_count": null,
   "metadata": {},
   "source": [
    "# Create a sample date\n",
    "dt = datetime(2023, 1, 15)\n",
    "print(f\"Original date: {dt}\")"
   ]
  },
  {
   "cell_type": "code",
   "execution_count": null,
   "metadata": {},
   "source": [
    "# Apply the offset to move to the next business month end\n",
    "next_bme = bme + dt\n",
    "print(f\"Next business month end: {next_bme}\")"
   ]
  },
  {
   "cell_type": "markdown",
   "metadata": {},
   "source": [
    "### BusinessMonthEnd Methods\n",
    "\n",
    "#### rollback()\n",
    "\n",
    "The `rollback()` method rolls the provided date backward to the next offset only if not on offset."
   ]
  },
  {
   "cell_type": "code",
   "execution_count": null,
   "metadata": {},
   "source": [
    "# Create a date that is not on a business month end\n",
    "dt1 = datetime(2023, 1, 15)\n",
    "print(f\"Original date: {dt1}\")\n",
    "\n",
    "# Roll back to the previous business month end\n",
    "rolled_back = bme.rollback(dt1)\n",
    "print(f\"Rolled back date: {rolled_back}\")"
   ]
  },
  {
   "cell_type": "code",
   "execution_count": null,
   "metadata": {},
   "source": [
    "# Create a date that is on a business month end\n",
    "dt2 = datetime(2023, 1, 31)  # Assuming this is a business day\n",
    "print(f\"Original date: {dt2}\")\n",
    "\n",
    "# If the date is already on a business month end, it should remain unchanged\n",
    "rolled_back2 = bme.rollback(dt2)\n",
    "print(f\"Rolled back date: {rolled_back2}\")"
   ]
  },
  {
   "cell_type": "markdown",
   "metadata": {},
   "source": [
    "#### rollforward()\n",
    "\n",
    "The `rollforward()` method rolls the provided date forward to the next offset only if not on offset."
   ]
  },
  {
   "cell_type": "code",
   "execution_count": null,
   "metadata": {},
   "source": [
    "# Create a date that is not on a business month end\n",
    "dt3 = datetime(2023, 1, 15)\n",
    "print(f\"Original date: {dt3}\")\n",
    "\n",
    "# Roll forward to the next business month end\n",
    "rolled_forward = bme.rollforward(dt3)\n",
    "print(f\"Rolled forward date: {rolled_forward}\")"
   ]
  },
  {
   "cell_type": "code",
   "execution_count": null,
   "metadata": {},
   "source": [
    "# Create a date that is on a business month end\n",
    "dt4 = datetime(2023, 1, 31)  # Assuming this is a business day\n",
    "print(f\"Original date: {dt4}\")\n",
    "\n",
    "# If the date is already on a business month end, it should remain unchanged\n",
    "rolled_forward2 = bme.rollforward(dt4)\n",
    "print(f\"Rolled forward date: {rolled_forward2}\")"
   ]
  },
  {
   "cell_type": "markdown",
   "metadata": {},
   "source": [
    "### BusinessMonthEnd Properties\n",
    "\n",
    "Let's explore some of the properties of the BusinessMonthEnd class."
   ]
  },
  {
   "cell_type": "code",
   "execution_count": null,
   "metadata": {},
   "source": [
    "# Check if the offset is anchored\n",
    "print(f\"Is anchored: {bme.is_anchored()}\")"
   ]
  },
  {
   "cell_type": "code",
   "execution_count": null,
   "metadata": {},
   "source": [
    "# Get the frequency string\n",
    "print(f\"Frequency string: {bme.freqstr}\")"
   ]
  },
  {
   "cell_type": "code",
   "execution_count": null,
   "metadata": {},
   "source": [
    "# Get the name of the offset\n",
    "print(f\"Name: {bme.name}\")"
   ]
  },
  {
   "cell_type": "code",
   "execution_count": null,
   "metadata": {},
   "source": [
    "# Check if a date is on the offset\n",
    "dt5 = datetime(2023, 1, 31)  # Assuming this is a business day\n",
    "print(f\"Is {dt5} on offset? {bme.is_on_offset(dt5)}\")\n",
    "\n",
    "dt6 = datetime(2023, 1, 15)\n",
    "print(f\"Is {dt6} on offset? {bme.is_on_offset(dt6)}\")"
   ]
  },
  {
   "cell_type": "markdown",
   "metadata": {},
   "source": [
    "## SemiMonthEnd Offset\n",
    "\n",
    "The `SemiMonthEnd` offset represents the 15th and the last day of each month. It's useful for semi-monthly calculations."
   ]
  },
  {
   "cell_type": "code",
   "execution_count": null,
   "metadata": {},
   "source": [
    "# Create a SemiMonthEnd offset\n",
    "sme = SemiMonthEnd()\n",
    "sme"
   ]
  },
  {
   "cell_type": "code",
   "execution_count": null,
   "metadata": {},
   "source": [
    "# Create a sample date\n",
    "dt7 = datetime(2023, 1, 10)\n",
    "print(f\"Original date: {dt7}\")\n",
    "\n",
    "# Apply the offset to move to the next semi-month end (15th or end of month)\n",
    "next_sme = sme + dt7\n",
    "print(f\"Next semi-month end: {next_sme}\")"
   ]
  },
  {
   "cell_type": "markdown",
   "metadata": {},
   "source": [
    "## SemiMonthBegin Offset\n",
    "\n",
    "The `SemiMonthBegin` offset represents the 1st and the 15th day of each month. It's useful for semi-monthly calculations starting from the beginning of periods."
   ]
  },
  {
   "cell_type": "code",
   "execution_count": null,
   "metadata": {},
   "source": [
    "# Create a SemiMonthBegin offset\n",
    "smb = SemiMonthBegin()\n",
    "smb"
   ]
  },
  {
   "cell_type": "code",
   "execution_count": null,
   "metadata": {},
   "source": [
    "# Create a sample date\n",
    "dt8 = datetime(2023, 1, 10)\n",
    "print(f\"Original date: {dt8}\")\n",
    "\n",
    "# Apply the offset to move to the next semi-month begin (1st or 15th)\n",
    "next_smb = smb + dt8\n",
    "print(f\"Next semi-month begin: {next_smb}\")"
   ]
  },
  {
   "cell_type": "markdown",
   "metadata": {},
   "source": [
    "### SemiMonthBegin Methods\n",
    "\n",
    "#### rollback()\n",
    "\n",
    "The `rollback()` method rolls the provided date backward to the next offset only if not on offset."
   ]
  },
  {
   "cell_type": "code",
   "execution_count": null,
   "metadata": {},
   "source": [
    "# Create a date that is not on a semi-month begin\n",
    "dt9 = datetime(2023, 1, 10)\n",
    "print(f\"Original date: {dt9}\")\n",
    "\n",
    "# Roll back to the previous semi-month begin\n",
    "rolled_back_smb = smb.rollback(dt9)\n",
    "print(f\"Rolled back date: {rolled_back_smb}\")"
   ]
  },
  {
   "cell_type": "markdown",
   "metadata": {},
   "source": [
    "#### rollforward()\n",
    "\n",
    "The `rollforward()` method rolls the provided date forward to the next offset only if not on offset."
   ]
  },
  {
   "cell_type": "code",
   "execution_count": null,
   "metadata": {},
   "source": [
    "# Create a date that is not on a semi-month begin\n",
    "dt10 = datetime(2023, 1, 10)\n",
    "print(f\"Original date: {dt10}\")\n",
    "\n",
    "# Roll forward to the next semi-month begin\n",
    "rolled_forward_smb = smb.rollforward(dt10)\n",
    "print(f\"Rolled forward date: {rolled_forward_smb}\")"
   ]
  },
  {
   "cell_type": "markdown",
   "metadata": {},
   "source": [
    "### Practical Example: Creating a Date Range with Offsets"
   ]
  },
  {
   "cell_type": "code",
   "execution_count": null,
   "metadata": {},
   "source": [
    "# Create a date range with BusinessMonthEnd\n",
    "date_range_bme = pd.date_range(start='2023-01-01', periods=6, freq=BusinessMonthEnd())\n",
    "print(\"Date range with BusinessMonthEnd:\")\n",
    "print(date_range_bme)"
   ]
  },
  {
   "cell_type": "code",
   "execution_count": null,
   "metadata": {},
   "source": [
    "# Create a date range with SemiMonthBegin\n",
    "date_range_smb = pd.date_range(start='2023-01-01', periods=6, freq=SemiMonthBegin())\n",
    "print(\"Date range with SemiMonthBegin:\")\n",
    "print(date_range_smb)"
   ]
  },
  {
   "cell_type": "code",
   "execution_count": null,
   "metadata": {},
   "source": [
    "# Create a date range with SemiMonthEnd\n",
    "date_range_sme = pd.date_range(start='2023-01-01', periods=6, freq=SemiMonthEnd())\n",
    "print(\"Date range with SemiMonthEnd:\")\n",
    "print(date_range_sme)"
   ]
  }
 ],
 "metadata": {
  "kernelspec": {
   "display_name": "Python 3",
   "language": "python",
   "name": "python3"
  },
  "language_info": {
   "codemirror_mode": {
    "name": "ipython",
    "version": 3
   },
   "file_extension": ".py",
   "mimetype": "text/x-python",
   "name": "python",
   "nbconvert_exporter": "python",
   "pygments_lexer": "ipython3",
   "version": "3.8.5"
  }
 },
 "nbformat": 4,
 "nbformat_minor": 4
}
