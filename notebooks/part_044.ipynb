{
 "cells": [
  {
   "cell_type": "markdown",
   "metadata": {},
   "source": [
    "#### Pandas Tutorial - Part 44\n",
    "\n",
    "This notebook covers various Series methods including:\n",
    "- Dropping levels with `droplevel()`\n",
    "- Handling missing values with `dropna()`\n",
    "- Interpolating missing values with `interpolate()`"
   ]
  },
  {
   "cell_type": "code",
   "execution_count": 1,
   "metadata": {},
   "outputs": [],
   "source": [
    "import pandas as pd\n",
    "import numpy as np\n",
    "import matplotlib.pyplot as plt\n",
    "\n",
    "%matplotlib inline"
   ]
  },
  {
   "cell_type": "markdown",
   "metadata": {},
   "source": [
    "##### Working with MultiIndex Levels\n",
    "\n",
    "MultiIndex (hierarchical index) allows for multiple levels of indexing in pandas objects."
   ]
  },
  {
   "cell_type": "markdown",
   "metadata": {},
   "source": [
    "### The `droplevel()` Method\n",
    "\n",
    "The `droplevel()` method removes specified levels from a MultiIndex."
   ]
  },
  {
   "cell_type": "code",
   "execution_count": 2,
   "metadata": {},
   "outputs": [
    {
     "name": "stdout",
     "output_type": "stream",
     "text": [
      "DataFrame with MultiIndex:\n",
      "level_1   c   d\n",
      "level_2   e   f\n",
      "a b            \n",
      "1 2       3   4\n",
      "5 6       7   8\n",
      "9 10     11  12\n"
     ]
    }
   ],
   "source": [
    "# Create a DataFrame with MultiIndex\n",
    "df = pd.DataFrame([\n",
    "    [1, 2, 3, 4],\n",
    "    [5, 6, 7, 8],\n",
    "    [9, 10, 11, 12]\n",
    "]).set_index([0, 1]).rename_axis(['a', 'b'])\n",
    "\n",
    "# Set MultiIndex for columns\n",
    "df.columns = pd.MultiIndex.from_tuples([\n",
    "   ('c', 'e'), ('d', 'f')\n",
    "], names=['level_1', 'level_2'])\n",
    "\n",
    "print(\"DataFrame with MultiIndex:\")\n",
    "print(df)"
   ]
  },
  {
   "cell_type": "code",
   "execution_count": 3,
   "metadata": {},
   "outputs": [
    {
     "name": "stdout",
     "output_type": "stream",
     "text": [
      "DataFrame after dropping level 'a' from index:\n",
      "level_1   c   d\n",
      "level_2   e   f\n",
      "b              \n",
      "2         3   4\n",
      "6         7   8\n",
      "10       11  12\n"
     ]
    }
   ],
   "source": [
    "# Drop level from index\n",
    "df_drop_a = df.droplevel('a')\n",
    "print(\"DataFrame after dropping level 'a' from index:\")\n",
    "print(df_drop_a)"
   ]
  },
  {
   "cell_type": "code",
   "execution_count": 4,
   "metadata": {},
   "outputs": [
    {
     "name": "stdout",
     "output_type": "stream",
     "text": [
      "DataFrame after dropping level 'level_2' from columns:\n",
      "level_1   c   d\n",
      "a b            \n",
      "1 2       3   4\n",
      "5 6       7   8\n",
      "9 10     11  12\n"
     ]
    }
   ],
   "source": [
    "# Drop level from columns\n",
    "df_drop_level2 = df.droplevel('level_2', axis=1)\n",
    "print(\"DataFrame after dropping level 'level_2' from columns:\")\n",
    "print(df_drop_level2)"
   ]
  },
  {
   "cell_type": "code",
   "execution_count": 5,
   "metadata": {},
   "outputs": [
    {
     "name": "stdout",
     "output_type": "stream",
     "text": [
      "Series with MultiIndex:\n",
      "level_1  level_2\n",
      "a        x          1\n",
      "         y          2\n",
      "b        x          3\n",
      "         y          4\n",
      "dtype: int64\n"
     ]
    }
   ],
   "source": [
    "# Create a Series with MultiIndex\n",
    "midx = pd.MultiIndex.from_tuples([('a', 'x'), ('a', 'y'), ('b', 'x'), ('b', 'y')],\n",
    "                                names=['level_1', 'level_2'])\n",
    "s = pd.Series([1, 2, 3, 4], index=midx)\n",
    "print(\"Series with MultiIndex:\")\n",
    "print(s)"
   ]
  },
  {
   "cell_type": "code",
   "execution_count": 6,
   "metadata": {},
   "outputs": [
    {
     "name": "stdout",
     "output_type": "stream",
     "text": [
      "Series after dropping level 'level_1':\n",
      "level_2\n",
      "x    1\n",
      "y    2\n",
      "x    3\n",
      "y    4\n",
      "dtype: int64\n"
     ]
    }
   ],
   "source": [
    "# Drop level from Series index\n",
    "s_drop_level1 = s.droplevel('level_1')\n",
    "print(\"Series after dropping level 'level_1':\")\n",
    "print(s_drop_level1)"
   ]
  },
  {
   "cell_type": "code",
   "execution_count": 7,
   "metadata": {},
   "outputs": [
    {
     "name": "stdout",
     "output_type": "stream",
     "text": [
      "Series after dropping level at position 0:\n",
      "level_2\n",
      "x    1\n",
      "y    2\n",
      "x    3\n",
      "y    4\n",
      "dtype: int64\n"
     ]
    }
   ],
   "source": [
    "# Drop level by position\n",
    "s_drop_pos = s.droplevel(0)\n",
    "print(\"Series after dropping level at position 0:\")\n",
    "print(s_drop_pos)"
   ]
  },
  {
   "cell_type": "markdown",
   "metadata": {},
   "source": [
    "##### Handling Missing Values\n",
    "\n",
    "Pandas provides methods to handle missing values (NaN) in a Series."
   ]
  },
  {
   "cell_type": "markdown",
   "metadata": {},
   "source": [
    "### The `dropna()` Method\n",
    "\n",
    "The `dropna()` method removes missing values from a Series."
   ]
  },
  {
   "cell_type": "code",
   "execution_count": 8,
   "metadata": {},
   "outputs": [
    {
     "name": "stdout",
     "output_type": "stream",
     "text": [
      "Series with missing values:\n",
      "0    1.0\n",
      "1    2.0\n",
      "2    NaN\n",
      "3    4.0\n",
      "4    NaN\n",
      "5    6.0\n",
      "dtype: float64\n"
     ]
    }
   ],
   "source": [
    "# Create a Series with missing values\n",
    "ser = pd.Series([1., 2., np.nan, 4., np.nan, 6.])\n",
    "print(\"Series with missing values:\")\n",
    "print(ser)"
   ]
  },
  {
   "cell_type": "code",
   "execution_count": 9,
   "metadata": {},
   "outputs": [
    {
     "name": "stdout",
     "output_type": "stream",
     "text": [
      "Series with NA values dropped:\n",
      "0    1.0\n",
      "1    2.0\n",
      "3    4.0\n",
      "5    6.0\n",
      "dtype: float64\n"
     ]
    }
   ],
   "source": [
    "# Drop NA values\n",
    "ser_no_na = ser.dropna()\n",
    "print(\"Series with NA values dropped:\")\n",
    "print(ser_no_na)"
   ]
  },
  {
   "cell_type": "code",
   "execution_count": 10,
   "metadata": {},
   "outputs": [
    {
     "name": "stdout",
     "output_type": "stream",
     "text": [
      "Series after in-place dropping NA values:\n",
      "0    1.0\n",
      "1    2.0\n",
      "3    4.0\n",
      "5    6.0\n",
      "dtype: float64\n"
     ]
    }
   ],
   "source": [
    "# Drop NA values in-place\n",
    "ser_inplace = ser.copy()\n",
    "ser_inplace.dropna(inplace=True)\n",
    "print(\"Series after in-place dropping NA values:\")\n",
    "print(ser_inplace)"
   ]
  },
  {
   "cell_type": "code",
   "execution_count": 11,
   "metadata": {},
   "outputs": [
    {
     "name": "stdout",
     "output_type": "stream",
     "text": [
      "DataFrame with missing values:\n",
      "     A    B    C\n",
      "0  1.0  NaN  1.0\n",
      "1  2.0  2.0  2.0\n",
      "2  NaN  3.0  3.0\n",
      "3  4.0  4.0  NaN\n"
     ]
    }
   ],
   "source": [
    "# Create a DataFrame with missing values\n",
    "df = pd.DataFrame({\n",
    "    'A': [1, 2, np.nan, 4],\n",
    "    'B': [np.nan, 2, 3, 4],\n",
    "    'C': [1, 2, 3, np.nan]\n",
    "})\n",
    "print(\"DataFrame with missing values:\")\n",
    "print(df)"
   ]
  },
  {
   "cell_type": "code",
   "execution_count": 12,
   "metadata": {},
   "outputs": [
    {
     "name": "stdout",
     "output_type": "stream",
     "text": [
      "DataFrame with rows containing any NA values dropped:\n",
      "     A    B    C\n",
      "1  2.0  2.0  2.0\n"
     ]
    }
   ],
   "source": [
    "# Drop rows with any NA values\n",
    "df_no_na = df.dropna()\n",
    "print(\"DataFrame with rows containing any NA values dropped:\")\n",
    "print(df_no_na)"
   ]
  },
  {
   "cell_type": "code",
   "execution_count": 13,
   "metadata": {},
   "outputs": [
    {
     "name": "stdout",
     "output_type": "stream",
     "text": [
      "DataFrame with rows containing all NA values dropped:\n",
      "     A    B    C\n",
      "0  1.0  NaN  1.0\n",
      "1  2.0  2.0  2.0\n",
      "2  NaN  3.0  3.0\n",
      "3  4.0  4.0  NaN\n"
     ]
    }
   ],
   "source": [
    "# Drop rows with all NA values\n",
    "df_all_na = df.dropna(how='all')\n",
    "print(\"DataFrame with rows containing all NA values dropped:\")\n",
    "print(df_all_na)"
   ]
  },
  {
   "cell_type": "code",
   "execution_count": 14,
   "metadata": {},
   "outputs": [
    {
     "name": "stdout",
     "output_type": "stream",
     "text": [
      "DataFrame with columns containing any NA values dropped:\n",
      "Empty DataFrame\n",
      "Columns: []\n",
      "Index: [0, 1, 2, 3]\n"
     ]
    }
   ],
   "source": [
    "# Drop columns with any NA values\n",
    "df_cols_na = df.dropna(axis=1)\n",
    "print(\"DataFrame with columns containing any NA values dropped:\")\n",
    "print(df_cols_na)"
   ]
  },
  {
   "cell_type": "markdown",
   "metadata": {},
   "source": [
    "##### Interpolating Missing Values\n",
    "\n",
    "Pandas provides methods to interpolate missing values in a Series."
   ]
  },
  {
   "cell_type": "markdown",
   "metadata": {},
   "source": [
    "### The `interpolate()` Method\n",
    "\n",
    "The `interpolate()` method fills missing values using various interpolation methods."
   ]
  },
  {
   "cell_type": "code",
   "execution_count": 15,
   "metadata": {},
   "outputs": [
    {
     "name": "stdout",
     "output_type": "stream",
     "text": [
      "Series with missing values:\n",
      "0    0.0\n",
      "1    1.0\n",
      "2    NaN\n",
      "3    3.0\n",
      "dtype: float64\n"
     ]
    }
   ],
   "source": [
    "# Create a Series with missing values\n",
    "s = pd.Series([0, 1, np.nan, 3])\n",
    "print(\"Series with missing values:\")\n",
    "print(s)"
   ]
  },
  {
   "cell_type": "code",
   "execution_count": 16,
   "metadata": {},
   "outputs": [
    {
     "name": "stdout",
     "output_type": "stream",
     "text": [
      "Series with linear interpolation:\n",
      "0    0.0\n",
      "1    1.0\n",
      "2    2.0\n",
      "3    3.0\n",
      "dtype: float64\n"
     ]
    }
   ],
   "source": [
    "# Linear interpolation (default)\n",
    "s_linear = s.interpolate()\n",
    "print(\"Series with linear interpolation:\")\n",
    "print(s_linear)"
   ]
  },
  {
   "cell_type": "code",
   "execution_count": 17,
   "metadata": {},
   "outputs": [
    {
     "name": "stdout",
     "output_type": "stream",
     "text": [
      "Series with multiple missing values:\n",
      "0    0.0\n",
      "1    1.0\n",
      "2    NaN\n",
      "3    NaN\n",
      "4    4.0\n",
      "5    5.0\n",
      "6    NaN\n",
      "7    7.0\n",
      "dtype: float64\n"
     ]
    }
   ],
   "source": [
    "# Create a Series with multiple missing values\n",
    "s_multi = pd.Series([0, 1, np.nan, np.nan, 4, 5, np.nan, 7])\n",
    "print(\"Series with multiple missing values:\")\n",
    "print(s_multi)"
   ]
  },
  {
   "cell_type": "code",
   "execution_count": 18,
   "metadata": {},
   "outputs": [
    {
     "name": "stdout",
     "output_type": "stream",
     "text": [
      "Series with linear interpolation:\n",
      "0    0.0\n",
      "1    1.0\n",
      "2    2.0\n",
      "3    3.0\n",
      "4    4.0\n",
      "5    5.0\n",
      "6    6.0\n",
      "7    7.0\n",
      "dtype: float64\n"
     ]
    }
   ],
   "source": [
    "# Linear interpolation\n",
    "s_multi_linear = s_multi.interpolate()\n",
    "print(\"Series with linear interpolation:\")\n",
    "print(s_multi_linear)"
   ]
  },
  {
   "cell_type": "code",
   "execution_count": 19,
   "metadata": {},
   "outputs": [
    {
     "name": "stdout",
     "output_type": "stream",
     "text": [
      "\n",
      "Interpolation method: linear\n",
      "0    0.0\n",
      "1    1.0\n",
      "2    2.0\n",
      "3    3.0\n",
      "4    4.0\n",
      "5    5.0\n",
      "6    6.0\n",
      "7    7.0\n",
      "dtype: float64\n",
      "\n",
      "Interpolation method: nearest\n",
      "0    0.0\n",
      "1    1.0\n",
      "2    1.0\n",
      "3    4.0\n",
      "4    4.0\n",
      "5    5.0\n",
      "6    5.0\n",
      "7    7.0\n",
      "dtype: float64\n",
      "\n",
      "Interpolation method: zero\n",
      "0    0.0\n",
      "1    1.0\n",
      "2    1.0\n",
      "3    1.0\n",
      "4    4.0\n",
      "5    5.0\n",
      "6    5.0\n",
      "7    7.0\n",
      "dtype: float64\n",
      "\n",
      "Interpolation method: slinear\n",
      "0    0.0\n",
      "1    1.0\n",
      "2    2.0\n",
      "3    3.0\n",
      "4    4.0\n",
      "5    5.0\n",
      "6    6.0\n",
      "7    7.0\n",
      "dtype: float64\n",
      "\n",
      "Interpolation method: quadratic\n",
      "0    0.0\n",
      "1    1.0\n",
      "2    2.0\n",
      "3    3.0\n",
      "4    4.0\n",
      "5    5.0\n",
      "6    6.0\n",
      "7    7.0\n",
      "dtype: float64\n",
      "\n",
      "Interpolation method: cubic\n",
      "0    0.0\n",
      "1    1.0\n",
      "2    2.0\n",
      "3    3.0\n",
      "4    4.0\n",
      "5    5.0\n",
      "6    6.0\n",
      "7    7.0\n",
      "dtype: float64\n"
     ]
    }
   ],
   "source": [
    "# Different interpolation methods\n",
    "methods = ['linear', 'nearest', 'zero', 'slinear', 'quadratic', 'cubic']\n",
    "for method in methods:\n",
    "    try:\n",
    "        s_interp = s_multi.interpolate(method=method)\n",
    "        print(f\"\\nInterpolation method: {method}\")\n",
    "        print(s_interp)\n",
    "    except:\n",
    "        print(f\"\\nMethod {method} requires scipy\")"
   ]
  },
  {
   "cell_type": "code",
   "execution_count": 20,
   "metadata": {},
   "outputs": [
    {
     "name": "stdout",
     "output_type": "stream",
     "text": [
      "Series with interpolation limited to 1 consecutive NaN:\n",
      "0    0.0\n",
      "1    1.0\n",
      "2    2.0\n",
      "3    NaN\n",
      "4    4.0\n",
      "5    5.0\n",
      "6    6.0\n",
      "7    7.0\n",
      "dtype: float64\n"
     ]
    }
   ],
   "source": [
    "# Limit the number of consecutive NaNs to fill\n",
    "s_limit = s_multi.interpolate(limit=1)\n",
    "print(\"Series with interpolation limited to 1 consecutive NaN:\")\n",
    "print(s_limit)"
   ]
  },
  {
   "cell_type": "code",
   "execution_count": 21,
   "metadata": {},
   "outputs": [
    {
     "name": "stdout",
     "output_type": "stream",
     "text": [
      "Series with forward interpolation:\n",
      "0    0.0\n",
      "1    1.0\n",
      "2    2.0\n",
      "3    NaN\n",
      "4    4.0\n",
      "5    5.0\n",
      "6    6.0\n",
      "7    7.0\n",
      "dtype: float64\n",
      "\n",
      "Series with backward interpolation:\n",
      "0    0.0\n",
      "1    1.0\n",
      "2    NaN\n",
      "3    3.0\n",
      "4    4.0\n",
      "5    5.0\n",
      "6    6.0\n",
      "7    7.0\n",
      "dtype: float64\n",
      "\n",
      "Series with both-direction interpolation:\n",
      "0    0.0\n",
      "1    1.0\n",
      "2    2.0\n",
      "3    3.0\n",
      "4    4.0\n",
      "5    5.0\n",
      "6    6.0\n",
      "7    7.0\n",
      "dtype: float64\n"
     ]
    }
   ],
   "source": [
    "# Limit direction\n",
    "s_forward = s_multi.interpolate(limit=1, limit_direction='forward')\n",
    "print(\"Series with forward interpolation:\")\n",
    "print(s_forward)\n",
    "\n",
    "s_backward = s_multi.interpolate(limit=1, limit_direction='backward')\n",
    "print(\"\\nSeries with backward interpolation:\")\n",
    "print(s_backward)\n",
    "\n",
    "s_both = s_multi.interpolate(limit=1, limit_direction='both')\n",
    "print(\"\\nSeries with both-direction interpolation:\")\n",
    "print(s_both)"
   ]
  },
  {
   "cell_type": "code",
   "execution_count": 22,
   "metadata": {},
   "outputs": [
    {
     "name": "stdout",
     "output_type": "stream",
     "text": [
      "Series with interpolation limited to inside:\n",
      "0    0.0\n",
      "1    1.0\n",
      "2    2.0\n",
      "3    NaN\n",
      "4    4.0\n",
      "5    5.0\n",
      "6    6.0\n",
      "7    7.0\n",
      "dtype: float64\n",
      "\n",
      "Series with interpolation limited to outside:\n",
      "0    0.0\n",
      "1    1.0\n",
      "2    NaN\n",
      "3    NaN\n",
      "4    4.0\n",
      "5    5.0\n",
      "6    NaN\n",
      "7    7.0\n",
      "dtype: float64\n"
     ]
    }
   ],
   "source": [
    "# Limit area\n",
    "s_inside = s_multi.interpolate(limit=1, limit_area='inside')\n",
    "print(\"Series with interpolation limited to inside:\")\n",
    "print(s_inside)\n",
    "\n",
    "s_outside = s_multi.interpolate(limit=1, limit_area='outside')\n",
    "print(\"\\nSeries with interpolation limited to outside:\")\n",
    "print(s_outside)"
   ]
  },
  {
   "cell_type": "code",
   "execution_count": 23,
   "metadata": {},
   "outputs": [
    {
     "name": "stdout",
     "output_type": "stream",
     "text": [
      "Series after in-place interpolation:\n",
      "0    0.0\n",
      "1    1.0\n",
      "2    2.0\n",
      "3    3.0\n",
      "4    4.0\n",
      "5    5.0\n",
      "6    6.0\n",
      "7    7.0\n",
      "dtype: float64\n"
     ]
    }
   ],
   "source": [
    "# Interpolate in-place\n",
    "s_inplace = s_multi.copy()\n",
    "s_inplace.interpolate(inplace=True)\n",
    "print(\"Series after in-place interpolation:\")\n",
    "print(s_inplace)"
   ]
  },
  {
   "cell_type": "code",
   "execution_count": 24,
   "metadata": {},
   "outputs": [
    {
     "name": "stdout",
     "output_type": "stream",
     "text": [
      "DataFrame with missing values:\n",
      "     A    B    C\n",
      "0  1.0  NaN  1.0\n",
      "1  2.0  2.0  2.0\n",
      "2  NaN  3.0  3.0\n",
      "3  4.0  4.0  NaN\n"
     ]
    }
   ],
   "source": [
    "# Create a DataFrame with missing values\n",
    "df = pd.DataFrame({\n",
    "    'A': [1, 2, np.nan, 4],\n",
    "    'B': [np.nan, 2, 3, 4],\n",
    "    'C': [1, 2, 3, np.nan]\n",
    "})\n",
    "print(\"DataFrame with missing values:\")\n",
    "print(df)"
   ]
  },
  {
   "cell_type": "code",
   "execution_count": 25,
   "metadata": {},
   "outputs": [
    {
     "name": "stdout",
     "output_type": "stream",
     "text": [
      "DataFrame with interpolated values:\n",
      "     A    B    C\n",
      "0  1.0  NaN  1.0\n",
      "1  2.0  2.0  2.0\n",
      "2  3.0  3.0  3.0\n",
      "3  4.0  4.0  3.0\n"
     ]
    }
   ],
   "source": [
    "# Interpolate DataFrame\n",
    "df_interp = df.interpolate()\n",
    "print(\"DataFrame with interpolated values:\")\n",
    "print(df_interp)"
   ]
  },
  {
   "cell_type": "markdown",
   "metadata": {},
   "source": [
    "##### Conclusion\n",
    "\n",
    "In this notebook, we've explored various Series methods in pandas:\n",
    "\n",
    "1. Working with MultiIndex levels using `droplevel()` to remove specific levels from a MultiIndex.\n",
    "2. Handling missing values with `dropna()` to remove rows or columns with missing values.\n",
    "3. Interpolating missing values with `interpolate()` using various methods and options.\n",
    "\n",
    "These methods are essential tools for data manipulation and cleaning in pandas, allowing for flexible and powerful operations on your data."
   ]
  }
 ],
 "metadata": {
  "kernelspec": {
   "display_name": "venv",
   "language": "python",
   "name": "python3"
  },
  "language_info": {
   "codemirror_mode": {
    "name": "ipython",
    "version": 3
   },
   "file_extension": ".py",
   "mimetype": "text/x-python",
   "name": "python",
   "nbconvert_exporter": "python",
   "pygments_lexer": "ipython3",
   "version": "3.13.2"
  }
 },
 "nbformat": 4,
 "nbformat_minor": 4
}
