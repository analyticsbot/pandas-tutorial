{
 "cells": [
  {
   "cell_type": "markdown",
   "metadata": {},
   "source": [
    "#### Pandas Part 75: More Index Methods\n",
    "\n",
    "This notebook explores additional methods available on pandas Index objects."
   ]
  },
  {
   "cell_type": "code",
   "execution_count": 1,
   "metadata": {},
   "outputs": [],
   "source": [
    "import pandas as pd\n",
    "import numpy as np"
   ]
  },
  {
   "cell_type": "markdown",
   "metadata": {},
   "source": [
    "##### 1. Index Groupby Method\n",
    "\n",
    "The `groupby` method groups the index labels by a given array of values."
   ]
  },
  {
   "cell_type": "code",
   "execution_count": 3,
   "metadata": {},
   "outputs": [
    {
     "name": "stdout",
     "output_type": "stream",
     "text": [
      "Index: Index(['apple', 'banana', 'cherry', 'date', 'elderberry'], dtype='object')\n",
      "\n",
      "Groups by first letter:\n",
      "Group 'a': ['apple']\n",
      "Group 'b': ['banana']\n",
      "Group 'c': ['cherry']\n",
      "Group 'd': ['date']\n",
      "Group 'e': ['elderberry']\n"
     ]
    }
   ],
   "source": [
    "# Create an Index\n",
    "idx = pd.Index(['apple', 'banana', 'cherry', 'date', 'elderberry'])\n",
    "print(f\"Index: {idx}\")\n",
    "\n",
    "# Group by first letter\n",
    "first_letters = [x[0] for x in idx]\n",
    "groups = pd.Series(idx).groupby(first_letters)\n",
    "\n",
    "print(\"\\nGroups by first letter:\")\n",
    "for group_name, group_values in groups:\n",
    "    print(f\"Group '{group_name}': {group_values.values}\")"
   ]
  },
  {
   "cell_type": "code",
   "execution_count": 6,
   "metadata": {},
   "outputs": [
    {
     "name": "stdout",
     "output_type": "stream",
     "text": [
      "Groups by string length:\n",
      "Group 4: ['date']\n",
      "Group 5: ['apple']\n",
      "Group 6: ['banana' 'cherry']\n",
      "Group 10: ['elderberry']\n"
     ]
    }
   ],
   "source": [
    "# Group by length of string using Series\n",
    "s = pd.Series(idx)\n",
    "groups = s.groupby([len(x) for x in idx])\n",
    "print(\"Groups by string length:\")\n",
    "for group_name, group_values in groups:\n",
    "    print(f\"Group {group_name}: {group_values.values}\")"
   ]
  },
  {
   "cell_type": "markdown",
   "metadata": {},
   "source": [
    "##### 2. holds_integer Method\n",
    "\n",
    "The `holds_integer` method checks whether the index type is an integer type."
   ]
  },
  {
   "cell_type": "code",
   "execution_count": 7,
   "metadata": {},
   "outputs": [
    {
     "name": "stdout",
     "output_type": "stream",
     "text": [
      "Integer index: Index([1, 2, 3, 4, 5], dtype='int64')\n",
      "holds_integer: True\n",
      "\n",
      "Float index: Index([1.0, 2.0, 3.0, 4.0, 5.0], dtype='float64')\n",
      "holds_integer: False\n",
      "\n",
      "String index: Index(['a', 'b', 'c', 'd', 'e'], dtype='object')\n",
      "holds_integer: False\n"
     ]
    },
    {
     "name": "stderr",
     "output_type": "stream",
     "text": [
      "/var/folders/7y/fzwln1_93mn3js3wyk61_6xm0000gn/T/ipykernel_89687/3031370287.py:7: FutureWarning: Index.holds_integer is deprecated. Use pandas.api.types.infer_dtype instead.\n",
      "  print(f\"holds_integer: {int_idx.holds_integer()}\")\n",
      "/var/folders/7y/fzwln1_93mn3js3wyk61_6xm0000gn/T/ipykernel_89687/3031370287.py:10: FutureWarning: Index.holds_integer is deprecated. Use pandas.api.types.infer_dtype instead.\n",
      "  print(f\"holds_integer: {float_idx.holds_integer()}\")\n",
      "/var/folders/7y/fzwln1_93mn3js3wyk61_6xm0000gn/T/ipykernel_89687/3031370287.py:13: FutureWarning: Index.holds_integer is deprecated. Use pandas.api.types.infer_dtype instead.\n",
      "  print(f\"holds_integer: {str_idx.holds_integer()}\")\n"
     ]
    }
   ],
   "source": [
    "# Create different types of indices\n",
    "int_idx = pd.Index([1, 2, 3, 4, 5])\n",
    "float_idx = pd.Index([1.0, 2.0, 3.0, 4.0, 5.0])\n",
    "str_idx = pd.Index(['a', 'b', 'c', 'd', 'e'])\n",
    "\n",
    "print(f\"Integer index: {int_idx}\")\n",
    "print(f\"holds_integer: {int_idx.holds_integer()}\")\n",
    "\n",
    "print(f\"\\nFloat index: {float_idx}\")\n",
    "print(f\"holds_integer: {float_idx.holds_integer()}\")\n",
    "\n",
    "print(f\"\\nString index: {str_idx}\")\n",
    "print(f\"holds_integer: {str_idx.holds_integer()}\")"
   ]
  },
  {
   "cell_type": "markdown",
   "metadata": {},
   "source": [
    "##### 3. identical Method\n",
    "\n",
    "The `identical` method checks if two Index objects have equal elements and the same type."
   ]
  },
  {
   "cell_type": "code",
   "execution_count": 8,
   "metadata": {},
   "outputs": [
    {
     "name": "stdout",
     "output_type": "stream",
     "text": [
      "idx1: Index([1, 2, 3], dtype='int64'), type: <class 'pandas.core.indexes.base.Index'>\n",
      "idx2: Index([1, 2, 3], dtype='int64'), type: <class 'pandas.core.indexes.base.Index'>\n",
      "idx3: Index([1, 2, 3], dtype='int64', name='numbers'), type: <class 'pandas.core.indexes.base.Index'>\n",
      "idx4: Index([1.0, 2.0, 3.0], dtype='float64'), type: <class 'pandas.core.indexes.base.Index'>\n",
      "\n",
      "idx1.identical(idx2): True\n",
      "idx1.identical(idx3): False\n",
      "idx1.identical(idx4): False\n"
     ]
    }
   ],
   "source": [
    "# Create indices\n",
    "idx1 = pd.Index([1, 2, 3])\n",
    "idx2 = pd.Index([1, 2, 3])\n",
    "idx3 = pd.Index([1, 2, 3], name='numbers')\n",
    "idx4 = pd.Index([1.0, 2.0, 3.0])\n",
    "\n",
    "print(f\"idx1: {idx1}, type: {type(idx1)}\")\n",
    "print(f\"idx2: {idx2}, type: {type(idx2)}\")\n",
    "print(f\"idx3: {idx3}, type: {type(idx3)}\")\n",
    "print(f\"idx4: {idx4}, type: {type(idx4)}\")\n",
    "\n",
    "# Check if indices are identical\n",
    "print(f\"\\nidx1.identical(idx2): {idx1.identical(idx2)}\")\n",
    "print(f\"idx1.identical(idx3): {idx1.identical(idx3)}\")\n",
    "print(f\"idx1.identical(idx4): {idx1.identical(idx4)}\")"
   ]
  },
  {
   "cell_type": "markdown",
   "metadata": {},
   "source": [
    "##### 4. insert Method\n",
    "\n",
    "The `insert` method creates a new Index by inserting a new item at a specified location."
   ]
  },
  {
   "cell_type": "code",
   "execution_count": 9,
   "metadata": {},
   "outputs": [
    {
     "name": "stdout",
     "output_type": "stream",
     "text": [
      "Original index: Index(['a', 'b', 'd', 'e'], dtype='object')\n",
      "After inserting 'c' at position 2: Index(['a', 'b', 'c', 'd', 'e'], dtype='object')\n",
      "After inserting 'start' at position 0: Index(['start', 'a', 'b', 'd', 'e'], dtype='object')\n",
      "After inserting 'end' at the end: Index(['a', 'b', 'd', 'e', 'end'], dtype='object')\n",
      "After inserting 'before_last' at position -1: Index(['a', 'b', 'd', 'before_last', 'e'], dtype='object')\n"
     ]
    }
   ],
   "source": [
    "# Create an Index\n",
    "idx = pd.Index(['a', 'b', 'd', 'e'])\n",
    "print(f\"Original index: {idx}\")\n",
    "\n",
    "# Insert an item\n",
    "new_idx = idx.insert(2, 'c')\n",
    "print(f\"After inserting 'c' at position 2: {new_idx}\")\n",
    "\n",
    "# Insert at the beginning\n",
    "new_idx = idx.insert(0, 'start')\n",
    "print(f\"After inserting 'start' at position 0: {new_idx}\")\n",
    "\n",
    "# Insert at the end\n",
    "new_idx = idx.insert(len(idx), 'end')\n",
    "print(f\"After inserting 'end' at the end: {new_idx}\")\n",
    "\n",
    "# Insert with negative index\n",
    "new_idx = idx.insert(-1, 'before_last')\n",
    "print(f\"After inserting 'before_last' at position -1: {new_idx}\")"
   ]
  },
  {
   "cell_type": "markdown",
   "metadata": {},
   "source": [
    "##### 5. intersection Method\n",
    "\n",
    "The `intersection` method forms the intersection of two Index objects, returning a new Index with elements common to both."
   ]
  },
  {
   "cell_type": "code",
   "execution_count": 10,
   "metadata": {},
   "outputs": [
    {
     "name": "stdout",
     "output_type": "stream",
     "text": [
      "idx1: Index([1, 2, 3, 4], dtype='int64')\n",
      "idx2: Index([3, 4, 5, 6], dtype='int64')\n",
      "\n",
      "Intersection: Index([3, 4], dtype='int64')\n"
     ]
    }
   ],
   "source": [
    "# Create two indices\n",
    "idx1 = pd.Index([1, 2, 3, 4])\n",
    "idx2 = pd.Index([3, 4, 5, 6])\n",
    "print(f\"idx1: {idx1}\")\n",
    "print(f\"idx2: {idx2}\")\n",
    "\n",
    "# Find the intersection\n",
    "intersection = idx1.intersection(idx2)\n",
    "print(f\"\\nIntersection: {intersection}\")"
   ]
  },
  {
   "cell_type": "code",
   "execution_count": 11,
   "metadata": {},
   "outputs": [
    {
     "name": "stdout",
     "output_type": "stream",
     "text": [
      "idx1: Index(['a', 'b', 'c', 'd'], dtype='object')\n",
      "idx2: Index(['c', 'd', 'e', 'f'], dtype='object')\n",
      "\n",
      "Intersection: Index(['c', 'd'], dtype='object')\n"
     ]
    }
   ],
   "source": [
    "# Create indices with different types\n",
    "idx1 = pd.Index(['a', 'b', 'c', 'd'])\n",
    "idx2 = pd.Index(['c', 'd', 'e', 'f'])\n",
    "print(f\"idx1: {idx1}\")\n",
    "print(f\"idx2: {idx2}\")\n",
    "\n",
    "# Find the intersection\n",
    "intersection = idx1.intersection(idx2)\n",
    "print(f\"\\nIntersection: {intersection}\")"
   ]
  },
  {
   "cell_type": "code",
   "execution_count": 12,
   "metadata": {},
   "outputs": [
    {
     "name": "stdout",
     "output_type": "stream",
     "text": [
      "idx1: Index([5, 3, 1, 4, 2], dtype='int64')\n",
      "idx2: Index([4, 3, 6, 5], dtype='int64')\n",
      "\n",
      "Intersection (sort=False): Index([5, 3, 4], dtype='int64')\n",
      "Intersection (sort=None): Index([3, 4, 5], dtype='int64')\n"
     ]
    }
   ],
   "source": [
    "# Intersection with sort parameter\n",
    "idx1 = pd.Index([5, 3, 1, 4, 2])\n",
    "idx2 = pd.Index([4, 3, 6, 5])\n",
    "print(f\"idx1: {idx1}\")\n",
    "print(f\"idx2: {idx2}\")\n",
    "\n",
    "# Default: sort=False\n",
    "intersection = idx1.intersection(idx2)\n",
    "print(f\"\\nIntersection (sort=False): {intersection}\")\n",
    "\n",
    "# With sort=None\n",
    "intersection = idx1.intersection(idx2, sort=None)\n",
    "print(f\"Intersection (sort=None): {intersection}\")"
   ]
  },
  {
   "cell_type": "markdown",
   "metadata": {},
   "source": [
    "##### 6. is_ Method\n",
    "\n",
    "The `is_` method provides a more flexible, faster check like the Python `is` operator but works through views."
   ]
  },
  {
   "cell_type": "code",
   "execution_count": 13,
   "metadata": {},
   "outputs": [
    {
     "name": "stdout",
     "output_type": "stream",
     "text": [
      "idx1: Index([1, 2, 3], dtype='int64')\n",
      "idx2 (reference to idx1): Index([1, 2, 3], dtype='int64')\n",
      "idx3 (copy of idx1): Index([1, 2, 3], dtype='int64')\n",
      "\n",
      "idx1.is_(idx2): True\n",
      "idx1.is_(idx3): False\n",
      "idx1 is idx2: True\n",
      "idx1 is idx3: False\n"
     ]
    }
   ],
   "source": [
    "# Create an Index\n",
    "idx1 = pd.Index([1, 2, 3])\n",
    "print(f\"idx1: {idx1}\")\n",
    "\n",
    "# Create a reference to the same Index\n",
    "idx2 = idx1\n",
    "print(f\"idx2 (reference to idx1): {idx2}\")\n",
    "\n",
    "# Create a copy of the Index\n",
    "idx3 = idx1.copy()\n",
    "print(f\"idx3 (copy of idx1): {idx3}\")\n",
    "\n",
    "# Check using is_\n",
    "print(f\"\\nidx1.is_(idx2): {idx1.is_(idx2)}\")\n",
    "print(f\"idx1.is_(idx3): {idx1.is_(idx3)}\")\n",
    "\n",
    "# Compare with Python's is operator\n",
    "print(f\"idx1 is idx2: {idx1 is idx2}\")\n",
    "print(f\"idx1 is idx3: {idx1 is idx3}\")"
   ]
  },
  {
   "cell_type": "markdown",
   "metadata": {},
   "source": [
    "##### 7. is_categorical Method\n",
    "\n",
    "The `is_categorical` method checks if the Index holds categorical data."
   ]
  },
  {
   "cell_type": "code",
   "execution_count": 14,
   "metadata": {},
   "outputs": [
    {
     "name": "stdout",
     "output_type": "stream",
     "text": [
      "Regular index: Index(['Watermelon', 'Orange', 'Apple', 'Watermelon'], dtype='object')\n",
      "is_categorical: False\n",
      "\n",
      "Categorical index: CategoricalIndex(['Watermelon', 'Orange', 'Apple', 'Watermelon'], categories=['Apple', 'Orange', 'Watermelon'], ordered=False, dtype='category')\n",
      "is_categorical: True\n",
      "\n",
      "Numeric index: Index([1, 3, 5, 7], dtype='int64')\n",
      "is_categorical: False\n"
     ]
    },
    {
     "name": "stderr",
     "output_type": "stream",
     "text": [
      "/var/folders/7y/fzwln1_93mn3js3wyk61_6xm0000gn/T/ipykernel_89687/4261083564.py:4: FutureWarning: Index.is_categorical is deprecated.Use pandas.api.types.is_categorical_dtype instead\n",
      "  print(f\"is_categorical: {idx1.is_categorical()}\")\n",
      "/var/folders/7y/fzwln1_93mn3js3wyk61_6xm0000gn/T/ipykernel_89687/4261083564.py:9: FutureWarning: CategoricalIndex.is_categorical is deprecated.Use pandas.api.types.is_categorical_dtype instead\n",
      "  print(f\"is_categorical: {idx2.is_categorical()}\")\n",
      "/var/folders/7y/fzwln1_93mn3js3wyk61_6xm0000gn/T/ipykernel_89687/4261083564.py:14: FutureWarning: Index.is_categorical is deprecated.Use pandas.api.types.is_categorical_dtype instead\n",
      "  print(f\"is_categorical: {idx3.is_categorical()}\")\n"
     ]
    }
   ],
   "source": [
    "# Create a regular Index\n",
    "idx1 = pd.Index([\"Watermelon\", \"Orange\", \"Apple\", \"Watermelon\"])\n",
    "print(f\"Regular index: {idx1}\")\n",
    "print(f\"is_categorical: {idx1.is_categorical()}\")\n",
    "\n",
    "# Convert to categorical\n",
    "idx2 = pd.Index([\"Watermelon\", \"Orange\", \"Apple\", \"Watermelon\"]).astype(\"category\")\n",
    "print(f\"\\nCategorical index: {idx2}\")\n",
    "print(f\"is_categorical: {idx2.is_categorical()}\")\n",
    "\n",
    "# Create a numeric Index\n",
    "idx3 = pd.Index([1, 3, 5, 7])\n",
    "print(f\"\\nNumeric index: {idx3}\")\n",
    "print(f\"is_categorical: {idx3.is_categorical()}\")"
   ]
  },
  {
   "cell_type": "markdown",
   "metadata": {},
   "source": [
    "##### 8. to_numpy Method\n",
    "\n",
    "The `to_numpy` method converts the Index to a NumPy array."
   ]
  },
  {
   "cell_type": "code",
   "execution_count": 15,
   "metadata": {},
   "outputs": [
    {
     "name": "stdout",
     "output_type": "stream",
     "text": [
      "Integer index to NumPy: [1 2 3 4 5]\n",
      "Type: <class 'numpy.ndarray'>, dtype: int64\n",
      "\n",
      "Float index to NumPy: [1. 2. 3. 4. 5.]\n",
      "Type: <class 'numpy.ndarray'>, dtype: float64\n",
      "\n",
      "String index to NumPy: ['a' 'b' 'c' 'd' 'e']\n",
      "Type: <class 'numpy.ndarray'>, dtype: object\n",
      "\n",
      "Categorical index to NumPy: ['a' 'b' 'a' 'c']\n",
      "Type: <class 'numpy.ndarray'>, dtype: object\n"
     ]
    }
   ],
   "source": [
    "# Create different types of indices\n",
    "int_idx = pd.Index([1, 2, 3, 4, 5])\n",
    "float_idx = pd.Index([1.0, 2.0, 3.0, 4.0, 5.0])\n",
    "str_idx = pd.Index(['a', 'b', 'c', 'd', 'e'])\n",
    "cat_idx = pd.Index(['a', 'b', 'a', 'c']).astype('category')\n",
    "\n",
    "# Convert to NumPy arrays\n",
    "int_array = int_idx.to_numpy()\n",
    "print(f\"Integer index to NumPy: {int_array}\")\n",
    "print(f\"Type: {type(int_array)}, dtype: {int_array.dtype}\")\n",
    "\n",
    "float_array = float_idx.to_numpy()\n",
    "print(f\"\\nFloat index to NumPy: {float_array}\")\n",
    "print(f\"Type: {type(float_array)}, dtype: {float_array.dtype}\")\n",
    "\n",
    "str_array = str_idx.to_numpy()\n",
    "print(f\"\\nString index to NumPy: {str_array}\")\n",
    "print(f\"Type: {type(str_array)}, dtype: {str_array.dtype}\")\n",
    "\n",
    "cat_array = cat_idx.to_numpy()\n",
    "print(f\"\\nCategorical index to NumPy: {cat_array}\")\n",
    "print(f\"Type: {type(cat_array)}, dtype: {cat_array.dtype}\")"
   ]
  },
  {
   "cell_type": "markdown",
   "metadata": {},
   "source": [
    "### to_numpy with copy Parameter"
   ]
  },
  {
   "cell_type": "code",
   "execution_count": 16,
   "metadata": {},
   "outputs": [
    {
     "name": "stdout",
     "output_type": "stream",
     "text": [
      "Array with copy=False: [1 2 3 4 5]\n",
      "Array with copy=True: [1 2 3 4 5]\n",
      "\n",
      "array1 is array2: False\n"
     ]
    }
   ],
   "source": [
    "# Create an Index\n",
    "idx = pd.Index([1, 2, 3, 4, 5])\n",
    "\n",
    "# Convert to NumPy array with copy=False (default)\n",
    "array1 = idx.to_numpy(copy=False)\n",
    "print(f\"Array with copy=False: {array1}\")\n",
    "\n",
    "# Convert to NumPy array with copy=True\n",
    "array2 = idx.to_numpy(copy=True)\n",
    "print(f\"Array with copy=True: {array2}\")\n",
    "\n",
    "# Check if they're the same object\n",
    "print(f\"\\narray1 is array2: {array1 is array2}\")"
   ]
  },
  {
   "cell_type": "markdown",
   "metadata": {},
   "source": [
    "### to_numpy with na_value Parameter"
   ]
  },
  {
   "cell_type": "code",
   "execution_count": 17,
   "metadata": {},
   "outputs": [
    {
     "name": "stdout",
     "output_type": "stream",
     "text": [
      "Index with None: Index([1.0, 2.0, nan, 4.0, 5.0], dtype='float64')\n",
      "\n",
      "Array with default na_value: [ 1.  2. nan  4.  5.]\n",
      "Array with na_value=-999: [   1.    2. -999.    4.    5.]\n"
     ]
    }
   ],
   "source": [
    "# Create an Index with missing values\n",
    "idx = pd.Index([1, 2, None, 4, 5])\n",
    "print(f\"Index with None: {idx}\")\n",
    "\n",
    "# Convert to NumPy array with default na_value\n",
    "array1 = idx.to_numpy()\n",
    "print(f\"\\nArray with default na_value: {array1}\")\n",
    "\n",
    "# Convert to NumPy array with custom na_value\n",
    "array2 = idx.to_numpy(na_value=-999)\n",
    "print(f\"Array with na_value=-999: {array2}\")"
   ]
  },
  {
   "cell_type": "markdown",
   "metadata": {},
   "source": [
    "### to_numpy with Different dtypes"
   ]
  },
  {
   "cell_type": "code",
   "execution_count": 18,
   "metadata": {},
   "outputs": [
    {
     "name": "stdout",
     "output_type": "stream",
     "text": [
      "Datetime index: DatetimeIndex(['2023-01-01 00:00:00+01:00', '2023-01-02 00:00:00+01:00',\n",
      "               '2023-01-03 00:00:00+01:00'],\n",
      "              dtype='datetime64[ns, CET]', freq='D')\n",
      "\n",
      "Array with default dtype: [Timestamp('2023-01-01 00:00:00+0100', tz='CET')\n",
      " Timestamp('2023-01-02 00:00:00+0100', tz='CET')\n",
      " Timestamp('2023-01-03 00:00:00+0100', tz='CET')]\n",
      "Type: <class 'numpy.ndarray'>, dtype: object\n",
      "\n",
      "Array with dtype=object: [Timestamp('2023-01-01 00:00:00+0100', tz='CET')\n",
      " Timestamp('2023-01-02 00:00:00+0100', tz='CET')\n",
      " Timestamp('2023-01-03 00:00:00+0100', tz='CET')]\n",
      "Type: <class 'numpy.ndarray'>, dtype: object\n",
      "First element type: <class 'pandas._libs.tslibs.timestamps.Timestamp'>\n",
      "\n",
      "Array with dtype=datetime64[ns]: ['2022-12-31T23:00:00.000000000' '2023-01-01T23:00:00.000000000'\n",
      " '2023-01-02T23:00:00.000000000']\n",
      "Type: <class 'numpy.ndarray'>, dtype: datetime64[ns]\n"
     ]
    }
   ],
   "source": [
    "# Create a datetime Index\n",
    "date_idx = pd.date_range('2023-01-01', periods=3, tz=\"CET\")\n",
    "print(f\"Datetime index: {date_idx}\")\n",
    "\n",
    "# Convert to NumPy array with default dtype\n",
    "array1 = date_idx.to_numpy()\n",
    "print(f\"\\nArray with default dtype: {array1}\")\n",
    "print(f\"Type: {type(array1)}, dtype: {array1.dtype}\")\n",
    "\n",
    "# Convert to NumPy array with object dtype\n",
    "array2 = date_idx.to_numpy(dtype=object)\n",
    "print(f\"\\nArray with dtype=object: {array2}\")\n",
    "print(f\"Type: {type(array2)}, dtype: {array2.dtype}\")\n",
    "print(f\"First element type: {type(array2[0])}\")\n",
    "\n",
    "# Convert to NumPy array with datetime64[ns] dtype\n",
    "array3 = date_idx.to_numpy(dtype=\"datetime64[ns]\")\n",
    "print(f\"\\nArray with dtype=datetime64[ns]: {array3}\")\n",
    "print(f\"Type: {type(array3)}, dtype: {array3.dtype}\")"
   ]
  },
  {
   "cell_type": "code",
   "execution_count": null,
   "metadata": {},
   "outputs": [],
   "source": []
  }
 ],
 "metadata": {
  "kernelspec": {
   "display_name": "venv",
   "language": "python",
   "name": "python3"
  },
  "language_info": {
   "codemirror_mode": {
    "name": "ipython",
    "version": 3
   },
   "file_extension": ".py",
   "mimetype": "text/x-python",
   "name": "python",
   "nbconvert_exporter": "python",
   "pygments_lexer": "ipython3",
   "version": "3.13.2"
  }
 },
 "nbformat": 4,
 "nbformat_minor": 4
}
