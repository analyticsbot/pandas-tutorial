{
 "cells": [
  {
   "cell_type": "markdown",
   "metadata": {},
   "source": [
    "#### Pandas Part 82: Week and Quarter DateOffset Classes\n",
    "\n",
    "This notebook explores Week and Quarter DateOffset classes in pandas, including their methods and properties."
   ]
  },
  {
   "cell_type": "code",
   "execution_count": 1,
   "metadata": {},
   "outputs": [],
   "source": [
    "import pandas as pd\n",
    "import numpy as np\n",
    "from datetime import datetime, time, timedelta\n",
    "from pandas.tseries.offsets import (\n",
    "    Week, WeekOfMonth,\n",
    "    QuarterBegin, QuarterEnd,\n",
    "    BQuarterBegin, BQuarterEnd\n",
    ")"
   ]
  },
  {
   "cell_type": "markdown",
   "metadata": {},
   "source": [
    "##### 1. Week\n",
    "\n",
    "The `Week` class is a DateOffset subclass representing a weekly offset."
   ]
  },
  {
   "cell_type": "code",
   "execution_count": 2,
   "metadata": {},
   "outputs": [
    {
     "name": "stdout",
     "output_type": "stream",
     "text": [
      "Week: <Week: weekday=None>\n",
      "Original datetime: 2023-01-01 00:00:00 (Sunday)\n",
      "After adding 1 week: 2023-01-08 00:00:00 (Sunday)\n",
      "\n",
      "Week with Monday as weekday: <Week: weekday=0>\n",
      "Original datetime: 2023-01-01 00:00:00 (Sunday)\n",
      "After adding Week(weekday=0): 2023-01-02 00:00:00 (Monday)\n",
      "\n",
      "Week with n=2 and Friday as weekday: <2 * Weeks: weekday=4>\n",
      "Original datetime: 2023-01-01 00:00:00 (Sunday)\n",
      "After adding Week(n=2, weekday=4): 2023-01-13 00:00:00 (Friday)\n"
     ]
    }
   ],
   "source": [
    "# Create a Week offset\n",
    "week = Week()\n",
    "print(f\"Week: {week}\")\n",
    "\n",
    "# Apply to a datetime\n",
    "dt = datetime(2023, 1, 1)  # Sunday\n",
    "print(f\"Original datetime: {dt} ({dt.strftime('%A')})\")\n",
    "print(f\"After adding 1 week: {dt + week} ({(dt + week).strftime('%A')})\")\n",
    "\n",
    "# Create a Week offset with a specific weekday\n",
    "monday = Week(weekday=0)  # 0 for Monday\n",
    "print(f\"\\nWeek with Monday as weekday: {monday}\")\n",
    "print(f\"Original datetime: {dt} ({dt.strftime('%A')})\")\n",
    "print(f\"After adding Week(weekday=0): {dt + monday} ({(dt + monday).strftime('%A')})\")\n",
    "\n",
    "# Create a Week offset with a specific weekday and n\n",
    "friday_2 = Week(n=2, weekday=4)  # 4 for Friday\n",
    "print(f\"\\nWeek with n=2 and Friday as weekday: {friday_2}\")\n",
    "print(f\"Original datetime: {dt} ({dt.strftime('%A')})\")\n",
    "print(f\"After adding Week(n=2, weekday=4): {dt + friday_2} ({(dt + friday_2).strftime('%A')})\")"
   ]
  },
  {
   "cell_type": "markdown",
   "metadata": {},
   "source": [
    "### Week Methods"
   ]
  },
  {
   "cell_type": "code",
   "execution_count": 3,
   "metadata": {},
   "outputs": [
    {
     "name": "stdout",
     "output_type": "stream",
     "text": [
      "Week: <2 * Weeks: weekday=None>\n",
      "Base: <Week: weekday=None>\n",
      "\n",
      "Original datetime: 2023-01-04 00:00:00 (Wednesday)\n",
      "Roll forward to Monday: 2023-01-09 00:00:00 (Monday)\n",
      "Roll back to Saturday: 2022-12-31 00:00:00 (Saturday)\n"
     ]
    }
   ],
   "source": [
    "# Create a Week offset\n",
    "week = Week(n=2)\n",
    "print(f\"Week: {week}\")\n",
    "\n",
    "# Get the base (n=1)\n",
    "base = week.base\n",
    "print(f\"Base: {base}\")\n",
    "\n",
    "# Roll forward and backward\n",
    "dt = datetime(2023, 1, 4)  # Wednesday\n",
    "print(f\"\\nOriginal datetime: {dt} ({dt.strftime('%A')})\")\n",
    "\n",
    "# If we specify weekday=0 (Monday), rollforward will go to the next Monday\n",
    "monday = Week(weekday=0)\n",
    "print(f\"Roll forward to Monday: {monday.rollforward(dt)} ({monday.rollforward(dt).strftime('%A')})\")\n",
    "\n",
    "# If we specify weekday=5 (Saturday), rollback will go to the previous Saturday\n",
    "saturday = Week(weekday=5)\n",
    "print(f\"Roll back to Saturday: {saturday.rollback(dt)} ({saturday.rollback(dt).strftime('%A')})\")"
   ]
  },
  {
   "cell_type": "code",
   "execution_count": 5,
   "metadata": {},
   "outputs": [
    {
     "name": "stdout",
     "output_type": "stream",
     "text": [
      "Is Monday on Monday offset? True\n",
      "Is Tuesday on Monday offset? False\n",
      "\n",
      "Original dates: DatetimeIndex(['2023-01-01', '2023-01-02', '2023-01-03'], dtype='datetime64[ns]', freq=None)\n",
      "After applying Week(weekday=0): DatetimeIndex(['2023-01-02', '2023-01-09', '2023-01-09'], dtype='datetime64[ns]', freq=None)\n",
      "\n",
      "Date range with Week(weekday=0) frequency:\n",
      "2023-01-02 00:00:00 (Monday)\n",
      "2023-01-09 00:00:00 (Monday)\n",
      "2023-01-16 00:00:00 (Monday)\n",
      "2023-01-23 00:00:00 (Monday)\n",
      "2023-01-30 00:00:00 (Monday)\n"
     ]
    }
   ],
   "source": [
    "# Import Week if not already imported\n",
    "from pandas.tseries.offsets import Week\n",
    "from datetime import datetime\n",
    "import pandas as pd\n",
    "\n",
    "# Check if a date is on a specific weekday\n",
    "monday = Week(weekday=0)\n",
    "dt_monday = datetime(2023, 1, 2)  # Monday\n",
    "dt_tuesday = datetime(2023, 1, 3)  # Tuesday\n",
    "print(f\"Is {dt_monday.strftime('%A')} on Monday offset? {monday.is_on_offset(dt_monday)}\")\n",
    "print(f\"Is {dt_tuesday.strftime('%A')} on Monday offset? {monday.is_on_offset(dt_tuesday)}\")\n",
    "\n",
    "# Apply to a DatetimeIndex using addition\n",
    "dates = pd.DatetimeIndex(['2023-01-01', '2023-01-02', '2023-01-03'])\n",
    "print(f\"\\nOriginal dates: {dates}\")\n",
    "print(f\"After applying Week(weekday=0): {dates + monday}\")\n",
    "\n",
    "# Create a date range with Week frequency\n",
    "week_range = pd.date_range(start='2023-01-01', periods=5, freq=monday)\n",
    "print(f\"\\nDate range with Week(weekday=0) frequency:\")\n",
    "for date in week_range:\n",
    "    print(f\"{date} ({date.strftime('%A')})\")"
   ]
  },
  {
   "cell_type": "markdown",
   "metadata": {},
   "source": [
    "### Using Week with date_range"
   ]
  },
  {
   "cell_type": "code",
   "execution_count": 6,
   "metadata": {},
   "outputs": [
    {
     "name": "stdout",
     "output_type": "stream",
     "text": [
      "Date range with weekly frequency:\n",
      "2023-01-01 00:00:00 (Sunday)\n",
      "2023-01-08 00:00:00 (Sunday)\n",
      "2023-01-15 00:00:00 (Sunday)\n",
      "2023-01-22 00:00:00 (Sunday)\n",
      "2023-01-29 00:00:00 (Sunday)\n",
      "\n",
      "Date range with weekly frequency starting on Monday:\n",
      "2023-01-02 00:00:00 (Monday)\n",
      "2023-01-09 00:00:00 (Monday)\n",
      "2023-01-16 00:00:00 (Monday)\n",
      "2023-01-23 00:00:00 (Monday)\n",
      "2023-01-30 00:00:00 (Monday)\n",
      "\n",
      "Date range with bi-weekly frequency:\n",
      "2023-01-01 00:00:00 (Sunday)\n",
      "2023-01-15 00:00:00 (Sunday)\n",
      "2023-01-29 00:00:00 (Sunday)\n",
      "2023-02-12 00:00:00 (Sunday)\n",
      "2023-02-26 00:00:00 (Sunday)\n"
     ]
    }
   ],
   "source": [
    "# Create a date range with weekly frequency\n",
    "dates = pd.date_range(start='2023-01-01', periods=5, freq='W')\n",
    "print(f\"Date range with weekly frequency:\")\n",
    "for date in dates:\n",
    "    print(f\"{date} ({date.strftime('%A')})\")\n",
    "\n",
    "# Create a date range with weekly frequency starting on Monday\n",
    "dates = pd.date_range(start='2023-01-01', periods=5, freq='W-MON')\n",
    "print(f\"\\nDate range with weekly frequency starting on Monday:\")\n",
    "for date in dates:\n",
    "    print(f\"{date} ({date.strftime('%A')})\")\n",
    "\n",
    "# Create a date range with bi-weekly frequency\n",
    "dates = pd.date_range(start='2023-01-01', periods=5, freq='2W')\n",
    "print(f\"\\nDate range with bi-weekly frequency:\")\n",
    "for date in dates:\n",
    "    print(f\"{date} ({date.strftime('%A')})\")"
   ]
  },
  {
   "cell_type": "markdown",
   "metadata": {},
   "source": [
    "##### 2. Quarter DateOffset Classes\n",
    "\n",
    "Pandas provides several quarter-related DateOffset classes:\n",
    "- `QuarterBegin`: Dates at the beginning of each quarter\n",
    "- `QuarterEnd`: Dates at the end of each quarter\n",
    "- `BQuarterBegin`: Business quarter beginning\n",
    "- `BQuarterEnd`: Business quarter ending"
   ]
  },
  {
   "cell_type": "markdown",
   "metadata": {},
   "source": [
    "### QuarterBegin and QuarterEnd"
   ]
  },
  {
   "cell_type": "code",
   "execution_count": 7,
   "metadata": {},
   "outputs": [
    {
     "name": "stdout",
     "output_type": "stream",
     "text": [
      "QuarterBegin: <QuarterBegin: startingMonth=3>\n",
      "QuarterEnd: <QuarterEnd: startingMonth=3>\n",
      "\n",
      "Original datetime: 2023-02-15 00:00:00\n",
      "After adding QuarterBegin: 2023-03-01 00:00:00\n",
      "After adding QuarterEnd: 2023-03-31 00:00:00\n",
      "\n",
      "Original datetime (beginning of Q1): 2023-01-01 00:00:00\n",
      "After adding QuarterBegin: 2023-03-01 00:00:00\n",
      "After adding QuarterEnd: 2023-03-31 00:00:00\n",
      "\n",
      "Original datetime (end of Q1): 2023-03-31 00:00:00\n",
      "After adding QuarterBegin: 2023-06-01 00:00:00\n",
      "After adding QuarterEnd: 2023-06-30 00:00:00\n"
     ]
    }
   ],
   "source": [
    "# Create QuarterBegin and QuarterEnd offsets\n",
    "quarter_begin = QuarterBegin()\n",
    "quarter_end = QuarterEnd()\n",
    "print(f\"QuarterBegin: {quarter_begin}\")\n",
    "print(f\"QuarterEnd: {quarter_end}\")\n",
    "\n",
    "# Apply to a datetime\n",
    "dt = datetime(2023, 2, 15)  # Middle of Q1\n",
    "print(f\"\\nOriginal datetime: {dt}\")\n",
    "print(f\"After adding QuarterBegin: {dt + quarter_begin}\")\n",
    "print(f\"After adding QuarterEnd: {dt + quarter_end}\")\n",
    "\n",
    "# Apply to the beginning of a quarter\n",
    "dt = datetime(2023, 1, 1)  # Beginning of Q1\n",
    "print(f\"\\nOriginal datetime (beginning of Q1): {dt}\")\n",
    "print(f\"After adding QuarterBegin: {dt + quarter_begin}\")\n",
    "print(f\"After adding QuarterEnd: {dt + quarter_end}\")\n",
    "\n",
    "# Apply to the end of a quarter\n",
    "dt = datetime(2023, 3, 31)  # End of Q1\n",
    "print(f\"\\nOriginal datetime (end of Q1): {dt}\")\n",
    "print(f\"After adding QuarterBegin: {dt + quarter_begin}\")\n",
    "print(f\"After adding QuarterEnd: {dt + quarter_end}\")"
   ]
  },
  {
   "cell_type": "markdown",
   "metadata": {},
   "source": [
    "### Custom Starting Month for Quarters"
   ]
  },
  {
   "cell_type": "code",
   "execution_count": 8,
   "metadata": {},
   "outputs": [
    {
     "name": "stdout",
     "output_type": "stream",
     "text": [
      "QuarterBegin (starting in March): <QuarterBegin: startingMonth=3>\n",
      "QuarterEnd (starting in March): <QuarterEnd: startingMonth=3>\n",
      "\n",
      "Original datetime: 2023-04-15 00:00:00\n",
      "After adding QuarterBegin (March): 2023-06-01 00:00:00\n",
      "After adding QuarterEnd (March): 2023-06-30 00:00:00\n",
      "\n",
      "Quarter beginnings for fiscal year starting in March:\n",
      "Q1: 2023-03-01 00:00:00\n",
      "Q2: 2023-06-01 00:00:00\n",
      "Q3: 2023-09-01 00:00:00\n",
      "Q4: 2023-12-01 00:00:00\n",
      "\n",
      "Quarter endings for fiscal year starting in March:\n",
      "Q1: 2023-06-30 00:00:00\n",
      "Q2: 2023-06-30 00:00:00\n",
      "Q3: 2023-09-30 00:00:00\n",
      "Q4: 2023-12-31 00:00:00\n"
     ]
    }
   ],
   "source": [
    "# Create QuarterBegin and QuarterEnd with custom starting month\n",
    "# startingMonth=3 means the quarters start in March, June, September, and December\n",
    "quarter_begin_mar = QuarterBegin(startingMonth=3)\n",
    "quarter_end_mar = QuarterEnd(startingMonth=3)\n",
    "print(f\"QuarterBegin (starting in March): {quarter_begin_mar}\")\n",
    "print(f\"QuarterEnd (starting in March): {quarter_end_mar}\")\n",
    "\n",
    "# Apply to a datetime\n",
    "dt = datetime(2023, 4, 15)  # Middle of Q2 (for March fiscal year)\n",
    "print(f\"\\nOriginal datetime: {dt}\")\n",
    "print(f\"After adding QuarterBegin (March): {dt + quarter_begin_mar}\")\n",
    "print(f\"After adding QuarterEnd (March): {dt + quarter_end_mar}\")\n",
    "\n",
    "# Display all quarter beginnings and endings for a fiscal year starting in March\n",
    "print(f\"\\nQuarter beginnings for fiscal year starting in March:\")\n",
    "start_date = datetime(2023, 3, 1)\n",
    "for i in range(4):\n",
    "    print(f\"Q{i+1}: {start_date + i * QuarterBegin(startingMonth=3)}\")\n",
    "\n",
    "print(f\"\\nQuarter endings for fiscal year starting in March:\")\n",
    "start_date = datetime(2023, 5, 31)\n",
    "for i in range(4):\n",
    "    print(f\"Q{i+1}: {start_date + i * QuarterEnd(startingMonth=3)}\")"
   ]
  },
  {
   "cell_type": "markdown",
   "metadata": {},
   "source": [
    "### BQuarterBegin and BQuarterEnd"
   ]
  },
  {
   "cell_type": "code",
   "execution_count": 9,
   "metadata": {},
   "outputs": [
    {
     "name": "stdout",
     "output_type": "stream",
     "text": [
      "BQuarterBegin: <BusinessQuarterBegin: startingMonth=3>\n",
      "BQuarterEnd: <BusinessQuarterEnd: startingMonth=3>\n",
      "\n",
      "Original datetime: 2023-02-15 00:00:00\n",
      "After adding BQuarterBegin: 2023-03-01 00:00:00\n",
      "After adding BQuarterEnd: 2023-03-31 00:00:00\n",
      "\n",
      "Original datetime: 2023-01-01 00:00:00 (Sunday)\n",
      "After adding BQuarterBegin: 2023-03-01 00:00:00 (Wednesday)\n",
      "\n",
      "Original datetime: 2023-03-31 00:00:00 (Friday)\n",
      "After adding BQuarterEnd: 2023-06-30 00:00:00 (Friday)\n"
     ]
    }
   ],
   "source": [
    "# Create BQuarterBegin and BQuarterEnd offsets\n",
    "bquarter_begin = BQuarterBegin()\n",
    "bquarter_end = BQuarterEnd()\n",
    "print(f\"BQuarterBegin: {bquarter_begin}\")\n",
    "print(f\"BQuarterEnd: {bquarter_end}\")\n",
    "\n",
    "# Apply to a datetime\n",
    "dt = datetime(2023, 2, 15)  # Middle of Q1\n",
    "print(f\"\\nOriginal datetime: {dt}\")\n",
    "print(f\"After adding BQuarterBegin: {dt + bquarter_begin}\")\n",
    "print(f\"After adding BQuarterEnd: {dt + bquarter_end}\")\n",
    "\n",
    "# Handle cases where the first/last day of the quarter is a weekend\n",
    "# January 1, 2023 is a Sunday\n",
    "dt = datetime(2023, 1, 1)\n",
    "print(f\"\\nOriginal datetime: {dt} ({dt.strftime('%A')})\")\n",
    "print(f\"After adding BQuarterBegin: {dt + bquarter_begin} ({(dt + bquarter_begin).strftime('%A')})\")\n",
    "\n",
    "# March 31, 2023 is a Friday (already a business day)\n",
    "dt = datetime(2023, 3, 31)\n",
    "print(f\"\\nOriginal datetime: {dt} ({dt.strftime('%A')})\")\n",
    "print(f\"After adding BQuarterEnd: {dt + bquarter_end} ({(dt + bquarter_end).strftime('%A')})\")"
   ]
  },
  {
   "cell_type": "markdown",
   "metadata": {},
   "source": [
    "### Using Quarter DateOffset Classes with date_range"
   ]
  },
  {
   "cell_type": "code",
   "execution_count": 10,
   "metadata": {},
   "outputs": [
    {
     "name": "stdout",
     "output_type": "stream",
     "text": [
      "Date range with quarter start frequency:\n",
      "2023-01-01 00:00:00\n",
      "2023-04-01 00:00:00\n",
      "2023-07-01 00:00:00\n",
      "2023-10-01 00:00:00\n",
      "2024-01-01 00:00:00\n",
      "\n",
      "Date range with quarter end frequency:\n",
      "2023-03-31 00:00:00\n",
      "2023-06-30 00:00:00\n",
      "2023-09-30 00:00:00\n",
      "2023-12-31 00:00:00\n",
      "2024-03-31 00:00:00\n",
      "\n",
      "Date range with business quarter start frequency:\n",
      "2023-01-02 00:00:00 (Monday)\n",
      "2023-04-03 00:00:00 (Monday)\n",
      "2023-07-03 00:00:00 (Monday)\n",
      "2023-10-02 00:00:00 (Monday)\n",
      "2024-01-01 00:00:00 (Monday)\n",
      "\n",
      "Date range with business quarter end frequency:\n",
      "2023-03-31 00:00:00 (Friday)\n",
      "2023-06-30 00:00:00 (Friday)\n",
      "2023-09-29 00:00:00 (Friday)\n",
      "2023-12-29 00:00:00 (Friday)\n",
      "2024-03-29 00:00:00 (Friday)\n"
     ]
    },
    {
     "name": "stderr",
     "output_type": "stream",
     "text": [
      "/var/folders/7y/fzwln1_93mn3js3wyk61_6xm0000gn/T/ipykernel_91224/3318314218.py:8: FutureWarning: 'Q' is deprecated and will be removed in a future version, please use 'QE' instead.\n",
      "  dates = pd.date_range(start='2023-03-31', periods=5, freq='Q')  # Quarter end\n",
      "/var/folders/7y/fzwln1_93mn3js3wyk61_6xm0000gn/T/ipykernel_91224/3318314218.py:20: FutureWarning: 'BQ' is deprecated and will be removed in a future version, please use 'BQE' instead.\n",
      "  dates = pd.date_range(start='2023-03-31', periods=5, freq='BQ')  # Business quarter end\n"
     ]
    }
   ],
   "source": [
    "# Create a date range with quarter begin frequency\n",
    "dates = pd.date_range(start='2023-01-01', periods=5, freq='QS')  # Quarter start\n",
    "print(f\"Date range with quarter start frequency:\")\n",
    "for date in dates:\n",
    "    print(f\"{date}\")\n",
    "\n",
    "# Create a date range with quarter end frequency\n",
    "dates = pd.date_range(start='2023-03-31', periods=5, freq='Q')  # Quarter end\n",
    "print(f\"\\nDate range with quarter end frequency:\")\n",
    "for date in dates:\n",
    "    print(f\"{date}\")\n",
    "\n",
    "# Create a date range with business quarter begin frequency\n",
    "dates = pd.date_range(start='2023-01-01', periods=5, freq='BQS')  # Business quarter start\n",
    "print(f\"\\nDate range with business quarter start frequency:\")\n",
    "for date in dates:\n",
    "    print(f\"{date} ({date.strftime('%A')})\")\n",
    "\n",
    "# Create a date range with business quarter end frequency\n",
    "dates = pd.date_range(start='2023-03-31', periods=5, freq='BQ')  # Business quarter end\n",
    "print(f\"\\nDate range with business quarter end frequency:\")\n",
    "for date in dates:\n",
    "    print(f\"{date} ({date.strftime('%A')})\")"
   ]
  },
  {
   "cell_type": "markdown",
   "metadata": {},
   "source": [
    "### Custom Fiscal Year with Quarter DateOffset Classes"
   ]
  },
  {
   "cell_type": "code",
   "execution_count": 11,
   "metadata": {},
   "outputs": [
    {
     "name": "stdout",
     "output_type": "stream",
     "text": [
      "Date range with quarter start frequency (April fiscal year):\n",
      "2023-04-01 00:00:00\n",
      "2023-07-01 00:00:00\n",
      "2023-10-01 00:00:00\n",
      "2024-01-01 00:00:00\n",
      "2024-04-01 00:00:00\n",
      "\n",
      "Date range with quarter end frequency (April fiscal year):\n",
      "2023-07-31 00:00:00\n",
      "2023-10-31 00:00:00\n",
      "2024-01-31 00:00:00\n",
      "2024-04-30 00:00:00\n",
      "2024-07-31 00:00:00\n"
     ]
    },
    {
     "name": "stderr",
     "output_type": "stream",
     "text": [
      "/var/folders/7y/fzwln1_93mn3js3wyk61_6xm0000gn/T/ipykernel_91224/2619361944.py:8: FutureWarning: 'Q-APR' is deprecated and will be removed in a future version, please use 'QE-APR' instead.\n",
      "  dates = pd.date_range(start='2023-06-30', periods=5, freq='Q-APR')  # Quarter end (April fiscal year)\n"
     ]
    }
   ],
   "source": [
    "# Create a date range with quarter begin frequency for fiscal year starting in April\n",
    "dates = pd.date_range(start='2023-04-01', periods=5, freq='QS-APR')  # Quarter start (April fiscal year)\n",
    "print(f\"Date range with quarter start frequency (April fiscal year):\")\n",
    "for date in dates:\n",
    "    print(f\"{date}\")\n",
    "\n",
    "# Create a date range with quarter end frequency for fiscal year starting in April\n",
    "dates = pd.date_range(start='2023-06-30', periods=5, freq='Q-APR')  # Quarter end (April fiscal year)\n",
    "print(f\"\\nDate range with quarter end frequency (April fiscal year):\")\n",
    "for date in dates:\n",
    "    print(f\"{date}\")"
   ]
  },
  {
   "cell_type": "markdown",
   "metadata": {},
   "source": [
    "##### 3. Combining Week and Quarter DateOffset Classes\n",
    "\n",
    "You can combine different DateOffset classes to create complex date operations."
   ]
  },
  {
   "cell_type": "code",
   "execution_count": 13,
   "metadata": {},
   "outputs": [
    {
     "name": "stdout",
     "output_type": "stream",
     "text": [
      "Original datetime: 2023-03-31 00:00:00 (Friday)\n",
      "After applying QuarterEnd then Week: 2023-07-07 00:00:00 (Friday)\n",
      "\n",
      "After applying complex sequence: 2023-06-30 00:00:00 (Friday)\n",
      "\n",
      "Quarter end dates for 2023:\n",
      "2023-03-31 00:00:00 (Friday)\n",
      "2023-06-30 00:00:00 (Friday)\n",
      "2023-09-30 00:00:00 (Saturday)\n",
      "2023-12-31 00:00:00 (Sunday)\n"
     ]
    }
   ],
   "source": [
    "# Import necessary offsets if not already imported\n",
    "from pandas.tseries.offsets import QuarterEnd, QuarterBegin, Week, BQuarterEnd\n",
    "from datetime import datetime\n",
    "\n",
    "# Create individual offsets\n",
    "quarter_end = QuarterEnd()\n",
    "week = Week()\n",
    "quarter_begin = QuarterBegin()\n",
    "week_monday = Week(weekday=0)\n",
    "bquarter_end = BQuarterEnd()\n",
    "\n",
    "# Apply offsets sequentially\n",
    "dt = datetime(2023, 3, 31)  # End of Q1\n",
    "print(f\"Original datetime: {dt} ({dt.strftime('%A')})\")\n",
    "\n",
    "# Apply QuarterEnd followed by Week\n",
    "result = dt + quarter_end\n",
    "result = result + week\n",
    "print(f\"After applying QuarterEnd then Week: {result} ({result.strftime('%A')})\")\n",
    "\n",
    "# Apply multiple offsets sequentially\n",
    "complex_result = dt + quarter_begin\n",
    "complex_result = complex_result + week_monday\n",
    "complex_result = complex_result + bquarter_end\n",
    "print(f\"\\nAfter applying complex sequence: {complex_result} ({complex_result.strftime('%A')})\")\n",
    "\n",
    "# Alternative: create a date range with a single offset type\n",
    "quarter_range = pd.date_range(start='2023-01-01', periods=4, freq=quarter_end)\n",
    "print(f\"\\nQuarter end dates for 2023:\")\n",
    "for date in quarter_range:\n",
    "    print(f\"{date} ({date.strftime('%A')})\")"
   ]
  },
  {
   "cell_type": "code",
   "execution_count": null,
   "metadata": {},
   "outputs": [],
   "source": []
  },
  {
   "cell_type": "code",
   "execution_count": null,
   "metadata": {},
   "outputs": [],
   "source": []
  }
 ],
 "metadata": {
  "kernelspec": {
   "display_name": "venv",
   "language": "python",
   "name": "python3"
  },
  "language_info": {
   "codemirror_mode": {
    "name": "ipython",
    "version": 3
   },
   "file_extension": ".py",
   "mimetype": "text/x-python",
   "name": "python",
   "nbconvert_exporter": "python",
   "pygments_lexer": "ipython3",
   "version": "3.13.2"
  }
 },
 "nbformat": 4,
 "nbformat_minor": 4
}
