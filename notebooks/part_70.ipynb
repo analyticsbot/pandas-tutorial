{
 "cells": [
  {
   "cell_type": "markdown",
   "metadata": {},
   "source": [
    "#### Pandas Part 70: Hexbin Plotting and Pandas Arrays\n",
    "\n",
    "This notebook covers hexagonal binning plots and introduces pandas arrays and data types."
   ]
  },
  {
   "cell_type": "code",
   "execution_count": null,
   "metadata": {},
   "outputs": [],
   "source": [
    "import pandas as pd\n",
    "import numpy as np\n",
    "import matplotlib.pyplot as plt\n",
    "\n",
    "%matplotlib inline"
   ]
  },
  {
   "cell_type": "markdown",
   "metadata": {},
   "source": [
    "##### 1. Hexbin Plotting\n",
    "\n",
    "Hexagonal binning is a form of bivariate histogram that bins points into hexagonal cells. It's useful for visualizing the relationship between two continuous variables, especially when dealing with large datasets where scatter plots might become too crowded."
   ]
  },
  {
   "cell_type": "code",
   "execution_count": null,
   "metadata": {},
   "outputs": [],
   "source": [
    "# Generate random data from a normal distribution\n",
    "n = 10000\n",
    "df = pd.DataFrame({\n",
    "    'x': np.random.randn(n),\n",
    "    'y': np.random.randn(n)\n",
    "})\n",
    "\n",
    "# Display the first few rows\n",
    "df.head()"
   ]
  },
  {
   "cell_type": "code",
   "execution_count": null,
   "metadata": {},
   "outputs": [],
   "source": [
    "# Create a hexbin plot with default settings\n",
    "ax = df.plot.hexbin(x='x', y='y', gridsize=20)\n",
    "plt.title('Hexbin Plot with Default Settings')"
   ]
  },
  {
   "cell_type": "markdown",
   "metadata": {},
   "source": [
    "### Hexbin with Custom Reduce Function\n",
    "\n",
    "We can use the `C` parameter to specify values at coordinates and `reduce_C_function` to determine how these values are aggregated within each hexagonal bin."
   ]
  },
  {
   "cell_type": "code",
   "execution_count": null,
   "metadata": {},
   "outputs": [],
   "source": [
    "# Generate data with observations\n",
    "n = 500\n",
    "df2 = pd.DataFrame({\n",
    "    'coord_x': np.random.uniform(-3, 3, size=n),\n",
    "    'coord_y': np.random.uniform(30, 50, size=n),\n",
    "    'observations': np.random.randint(1, 5, size=n)\n",
    "})\n",
    "\n",
    "# Display the first few rows\n",
    "df2.head()"
   ]
  },
  {
   "cell_type": "code",
   "execution_count": null,
   "metadata": {},
   "outputs": [],
   "source": [
    "# Create a hexbin plot with sum as the reduce function\n",
    "ax = df2.plot.hexbin(\n",
    "    x='coord_x',\n",
    "    y='coord_y',\n",
    "    C='observations',\n",
    "    reduce_C_function=np.sum,\n",
    "    gridsize=10,\n",
    "    cmap=\"viridis\"\n",
    ")\n",
    "plt.title('Hexbin Plot with Sum Reduce Function')"
   ]
  },
  {
   "cell_type": "code",
   "execution_count": null,
   "metadata": {},
   "outputs": [],
   "source": [
    "# Create a hexbin plot with mean as the reduce function (default)\n",
    "ax = df2.plot.hexbin(\n",
    "    x='coord_x',\n",
    "    y='coord_y',\n",
    "    C='observations',\n",
    "    gridsize=10,\n",
    "    cmap=\"plasma\"\n",
    ")\n",
    "plt.title('Hexbin Plot with Mean Reduce Function (Default)')"
   ]
  },
  {
   "cell_type": "code",
   "execution_count": null,
   "metadata": {},
   "outputs": [],
   "source": [
    "# Create a hexbin plot with max as the reduce function\n",
    "ax = df2.plot.hexbin(\n",
    "    x='coord_x',\n",
    "    y='coord_y',\n",
    "    C='observations',\n",
    "    reduce_C_function=np.max,\n",
    "    gridsize=10,\n",
    "    cmap=\"inferno\"\n",
    ")\n",
    "plt.title('Hexbin Plot with Max Reduce Function')"
   ]
  },
  {
   "cell_type": "markdown",
   "metadata": {},
   "source": [
    "### Customizing Hexbin Plots"
   ]
  },
  {
   "cell_type": "code",
   "execution_count": null,
   "metadata": {},
   "outputs": [],
   "source": [
    "# Create a hexbin plot with custom gridsize\n",
    "fig, axes = plt.subplots(1, 3, figsize=(18, 5))\n",
    "\n",
    "df.plot.hexbin(x='x', y='y', gridsize=10, ax=axes[0])\n",
    "axes[0].set_title('Gridsize = 10')\n",
    "\n",
    "df.plot.hexbin(x='x', y='y', gridsize=20, ax=axes[1])\n",
    "axes[1].set_title('Gridsize = 20')\n",
    "\n",
    "df.plot.hexbin(x='x', y='y', gridsize=30, ax=axes[2])\n",
    "axes[2].set_title('Gridsize = 30')\n",
    "\n",
    "plt.tight_layout()"
   ]
  },
  {
   "cell_type": "code",
   "execution_count": null,
   "metadata": {},
   "outputs": [],
   "source": [
    "# Create a hexbin plot with different colormaps\n",
    "fig, axes = plt.subplots(2, 2, figsize=(12, 10))\n",
    "\n",
    "df.plot.hexbin(x='x', y='y', gridsize=20, cmap='viridis', ax=axes[0, 0])\n",
    "axes[0, 0].set_title('Colormap: viridis')\n",
    "\n",
    "df.plot.hexbin(x='x', y='y', gridsize=20, cmap='plasma', ax=axes[0, 1])\n",
    "axes[0, 1].set_title('Colormap: plasma')\n",
    "\n",
    "df.plot.hexbin(x='x', y='y', gridsize=20, cmap='inferno', ax=axes[1, 0])\n",
    "axes[1, 0].set_title('Colormap: inferno')\n",
    "\n",
    "df.plot.hexbin(x='x', y='y', gridsize=20, cmap='magma', ax=axes[1, 1])\n",
    "axes[1, 1].set_title('Colormap: magma')\n",
    "\n",
    "plt.tight_layout()"
   ]
  },
  {
   "cell_type": "markdown",
   "metadata": {},
   "source": [
    "##### 2. Pandas Arrays and Data Types\n",
    "\n",
    "Pandas extends NumPy's type system with additional data types for various kinds of data. Let's explore some of these data types."
   ]
  },
  {
   "cell_type": "markdown",
   "metadata": {},
   "source": [
    "### DatetimeTZDtype - Timezone-aware Datetime"
   ]
  },
  {
   "cell_type": "code",
   "execution_count": null,
   "metadata": {},
   "outputs": [],
   "source": [
    "# Create a Series with timezone-aware datetime\n",
    "dates = pd.date_range('2023-01-01', periods=5, tz='US/Eastern')\n",
    "s_dates = pd.Series(dates)\n",
    "s_dates"
   ]
  },
  {
   "cell_type": "code",
   "execution_count": null,
   "metadata": {},
   "outputs": [],
   "source": [
    "# Check the dtype\n",
    "s_dates.dtype"
   ]
  },
  {
   "cell_type": "markdown",
   "metadata": {},
   "source": [
    "### Timedelta Data"
   ]
  },
  {
   "cell_type": "code",
   "execution_count": null,
   "metadata": {},
   "outputs": [],
   "source": [
    "# Create a Series with timedelta data\n",
    "td = pd.Series([pd.Timedelta(days=i) for i in range(5)])\n",
    "td"
   ]
  },
  {
   "cell_type": "code",
   "execution_count": null,
   "metadata": {},
   "outputs": [],
   "source": [
    "# Check the dtype\n",
    "td.dtype"
   ]
  },
  {
   "cell_type": "markdown",
   "metadata": {},
   "source": [
    "### Period Data (Time Spans)"
   ]
  },
  {
   "cell_type": "code",
   "execution_count": null,
   "metadata": {},
   "outputs": [],
   "source": [
    "# Create a Series with period data\n",
    "periods = pd.Series(pd.period_range('2023-01', periods=5, freq='M'))\n",
    "periods"
   ]
  },
  {
   "cell_type": "code",
   "execution_count": null,
   "metadata": {},
   "outputs": [],
   "source": [
    "# Check the dtype\n",
    "periods.dtype"
   ]
  },
  {
   "cell_type": "markdown",
   "metadata": {},
   "source": [
    "### Interval Data"
   ]
  },
  {
   "cell_type": "code",
   "execution_count": null,
   "metadata": {},
   "outputs": [],
   "source": [
    "# Create a Series with interval data\n",
    "intervals = pd.Series(pd.interval_range(start=0, end=5))\n",
    "intervals"
   ]
  },
  {
   "cell_type": "code",
   "execution_count": null,
   "metadata": {},
   "outputs": [],
   "source": [
    "# Check the dtype\n",
    "intervals.dtype"
   ]
  },
  {
   "cell_type": "markdown",
   "metadata": {},
   "source": [
    "### Nullable Integer"
   ]
  },
  {
   "cell_type": "code",
   "execution_count": null,
   "metadata": {},
   "outputs": [],
   "source": [
    "# Create a Series with nullable integer data\n",
    "int_with_na = pd.Series([1, 2, None, 4, 5], dtype='Int64')\n",
    "int_with_na"
   ]
  },
  {
   "cell_type": "code",
   "execution_count": null,
   "metadata": {},
   "outputs": [],
   "source": [
    "# Check the dtype\n",
    "int_with_na.dtype"
   ]
  },
  {
   "cell_type": "markdown",
   "metadata": {},
   "source": [
    "### Categorical Data"
   ]
  },
  {
   "cell_type": "code",
   "execution_count": null,
   "metadata": {},
   "outputs": [],
   "source": [
    "# Create a Series with categorical data\n",
    "cat = pd.Series(['a', 'b', 'c', 'a', 'b'], dtype='category')\n",
    "cat"
   ]
  },
  {
   "cell_type": "code",
   "execution_count": null,
   "metadata": {},
   "outputs": [],
   "source": [
    "# Check the dtype\n",
    "cat.dtype"
   ]
  },
  {
   "cell_type": "markdown",
   "metadata": {},
   "source": [
    "### Sparse Data"
   ]
  },
  {
   "cell_type": "code",
   "execution_count": null,
   "metadata": {},
   "outputs": [],
   "source": [
    "# Create a Series with sparse data\n",
    "sparse = pd.Series([0, 0, 1, 0, 0, 2, 0, 0, 0]).astype('Sparse')\n",
    "sparse"
   ]
  },
  {
   "cell_type": "code",
   "execution_count": null,
   "metadata": {},
   "outputs": [],
   "source": [
    "# Check the dtype\n",
    "sparse.dtype"
   ]
  },
  {
   "cell_type": "markdown",
   "metadata": {},
   "source": [
    "### String Data"
   ]
  },
  {
   "cell_type": "code",
   "execution_count": null,
   "metadata": {},
   "outputs": [],
   "source": [
    "# Create a Series with string data\n",
    "strings = pd.Series(['a', 'b', None, 'd'], dtype='string')\n",
    "strings"
   ]
  },
  {
   "cell_type": "code",
   "execution_count": null,
   "metadata": {},
   "outputs": [],
   "source": [
    "# Check the dtype\n",
    "strings.dtype"
   ]
  },
  {
   "cell_type": "markdown",
   "metadata": {},
   "source": [
    "### Boolean Data with Missing Values"
   ]
  },
  {
   "cell_type": "code",
   "execution_count": null,
   "metadata": {},
   "outputs": [],
   "source": [
    "# Create a Series with boolean data including missing values\n",
    "bools = pd.Series([True, False, None, True], dtype='boolean')\n",
    "bools"
   ]
  },
  {
   "cell_type": "code",
   "execution_count": null,
   "metadata": {},
   "outputs": [],
   "source": [
    "# Check the dtype\n",
    "bools.dtype"
   ]
  },
  {
   "cell_type": "markdown",
   "metadata": {},
   "source": [
    "##### 3. Using pandas.array() Function\n",
    "\n",
    "The `pandas.array()` function can be used to create arrays with specific data types."
   ]
  },
  {
   "cell_type": "code",
   "execution_count": null,
   "metadata": {},
   "outputs": [],
   "source": [
    "# Create an integer array with missing values\n",
    "int_array = pd.array([1, 2, None, 4, 5], dtype='Int64')\n",
    "int_array"
   ]
  },
  {
   "cell_type": "code",
   "execution_count": null,
   "metadata": {},
   "outputs": [],
   "source": [
    "# Create a boolean array with missing values\n",
    "bool_array = pd.array([True, False, None, True], dtype='boolean')\n",
    "bool_array"
   ]
  },
  {
   "cell_type": "code",
   "execution_count": null,
   "metadata": {},
   "outputs": [],
   "source": [
    "# Create a string array\n",
    "string_array = pd.array(['a', 'b', None, 'd'], dtype='string')\n",
    "string_array"
   ]
  },
  {
   "cell_type": "code",
   "execution_count": null,
   "metadata": {},
   "outputs": [],
   "source": [
    "# Create a Series from the array\n",
    "s = pd.Series(int_array)\n",
    "s"
   ]
  },
  {
   "cell_type": "code",
   "execution_count": null,
   "metadata": {},
   "outputs": [],
   "source": [
    "# Create a DataFrame with arrays\n",
    "df = pd.DataFrame({\n",
    "    'integers': int_array,\n",
    "    'booleans': bool_array,\n",
    "    'strings': string_array\n",
    "})\n",
    "df"
   ]
  },
  {
   "cell_type": "code",
   "execution_count": null,
   "metadata": {},
   "outputs": [],
   "source": [
    "# Check the dtypes\n",
    "df.dtypes"
   ]
  }
 ],
 "metadata": {
  "kernelspec": {
   "display_name": "Python 3",
   "language": "python",
   "name": "python3"
  },
  "language_info": {
   "codemirror_mode": {
    "name": "ipython",
    "version": 3
   },
   "file_extension": ".py",
   "mimetype": "text/x-python",
   "name": "python",
   "nbconvert_exporter": "python",
   "pygments_lexer": "ipython3",
   "version": "3.8.5"
  }
 },
 "nbformat": 4,
 "nbformat_minor": 4
}