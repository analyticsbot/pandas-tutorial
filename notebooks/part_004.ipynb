{
 "cells": [
  {
   "cell_type": "markdown",
   "metadata": {},
   "source": [
    "##### Data Reshaping and Binary Operations"
   ]
  },
  {
   "cell_type": "code",
   "execution_count": 1,
   "metadata": {},
   "outputs": [],
   "source": [
    "import pandas as pd\n",
    "import numpy as np"
   ]
  },
  {
   "cell_type": "markdown",
   "metadata": {},
   "source": [
    "##### Loading Sample Data\n",
    "We'll use the air quality and titanic datasets"
   ]
  },
  {
   "cell_type": "code",
   "execution_count": 2,
   "metadata": {},
   "outputs": [
    {
     "name": "stdout",
     "output_type": "stream",
     "text": [
      "Air quality data sample:\n",
      "                                city country location parameter  value   unit\n",
      "date.utc                                                                     \n",
      "2019-06-18 06:00:00+00:00  Antwerpen      BE  BETR801      pm25   18.0  µg/m³\n",
      "2019-06-17 08:00:00+00:00  Antwerpen      BE  BETR801      pm25    6.5  µg/m³\n",
      "2019-06-17 07:00:00+00:00  Antwerpen      BE  BETR801      pm25   18.5  µg/m³\n",
      "2019-06-17 06:00:00+00:00  Antwerpen      BE  BETR801      pm25   16.0  µg/m³\n",
      "2019-06-17 05:00:00+00:00  Antwerpen      BE  BETR801      pm25    7.5  µg/m³\n"
     ]
    }
   ],
   "source": [
    "# Air quality data with datetime index\n",
    "air_quality = pd.read_csv(\"data/air_quality_long.csv\",\n",
    "                         index_col=\"date.utc\", parse_dates=True)\n",
    "\n",
    "print(\"Air quality data sample:\")\n",
    "print(air_quality.head())"
   ]
  },
  {
   "cell_type": "code",
   "execution_count": 3,
   "metadata": {},
   "outputs": [
    {
     "name": "stdout",
     "output_type": "stream",
     "text": [
      "\n",
      "Titanic data sample:\n",
      "   PassengerId  Survived  Pclass  \\\n",
      "0            1         0       3   \n",
      "1            2         1       1   \n",
      "2            3         1       3   \n",
      "3            4         1       1   \n",
      "4            5         0       3   \n",
      "\n",
      "                                                Name     Sex   Age  SibSp  \\\n",
      "0                            Braund, Mr. Owen Harris    male  22.0      1   \n",
      "1  Cumings, Mrs. John Bradley (Florence Briggs Th...  female  38.0      1   \n",
      "2                             Heikkinen, Miss. Laina  female  26.0      0   \n",
      "3       Futrelle, Mrs. Jacques Heath (Lily May Peel)  female  35.0      1   \n",
      "4                           Allen, Mr. William Henry    male  35.0      0   \n",
      "\n",
      "   Parch            Ticket     Fare Cabin Embarked  \n",
      "0      0         A/5 21171   7.2500   NaN        S  \n",
      "1      0          PC 17599  71.2833   C85        C  \n",
      "2      0  STON/O2. 3101282   7.9250   NaN        S  \n",
      "3      0            113803  53.1000  C123        S  \n",
      "4      0            373450   8.0500   NaN        S  \n"
     ]
    }
   ],
   "source": [
    "# Titanic dataset\n",
    "titanic = pd.read_csv(\"data/titanic.csv\")\n",
    "\n",
    "print(\"\\nTitanic data sample:\")\n",
    "print(titanic.head())"
   ]
  },
  {
   "cell_type": "markdown",
   "metadata": {},
   "source": [
    "##### Sorting Data\n",
    "Sort DataFrame rows by one or multiple columns"
   ]
  },
  {
   "cell_type": "code",
   "execution_count": 4,
   "metadata": {},
   "outputs": [
    {
     "name": "stdout",
     "output_type": "stream",
     "text": [
      "Sorted by age:\n",
      "     PassengerId  Survived  Pclass                             Name     Sex  \\\n",
      "803          804         1       3  Thomas, Master. Assad Alexander    male   \n",
      "755          756         1       2        Hamalainen, Master. Viljo    male   \n",
      "644          645         1       3           Baclini, Miss. Eugenie  female   \n",
      "469          470         1       3    Baclini, Miss. Helene Barbara  female   \n",
      "78            79         1       2    Caldwell, Master. Alden Gates    male   \n",
      "\n",
      "      Age  SibSp  Parch  Ticket     Fare Cabin Embarked  \n",
      "803  0.42      0      1    2625   8.5167   NaN        C  \n",
      "755  0.67      1      1  250649  14.5000   NaN        S  \n",
      "644  0.75      2      1    2666  19.2583   NaN        C  \n",
      "469  0.75      2      1    2666  19.2583   NaN        C  \n",
      "78   0.83      0      2  248738  29.0000   NaN        S  \n"
     ]
    }
   ],
   "source": [
    "# Sort by single column (Age)\n",
    "print(\"Sorted by age:\")\n",
    "print(titanic.sort_values(by=\"Age\").head())"
   ]
  },
  {
   "cell_type": "code",
   "execution_count": 5,
   "metadata": {},
   "outputs": [
    {
     "name": "stdout",
     "output_type": "stream",
     "text": [
      "Sorted by class and age (descending):\n",
      "     PassengerId  Survived  Pclass                       Name     Sex   Age  \\\n",
      "851          852         0       3        Svensson, Mr. Johan    male  74.0   \n",
      "116          117         0       3       Connors, Mr. Patrick    male  70.5   \n",
      "280          281         0       3           Duane, Mr. Frank    male  65.0   \n",
      "483          484         1       3     Turkula, Mrs. (Hedwig)  female  63.0   \n",
      "326          327         0       3  Nysveen, Mr. Johan Hansen    male  61.0   \n",
      "\n",
      "     SibSp  Parch  Ticket    Fare Cabin Embarked  \n",
      "851      0      0  347060  7.7750   NaN        S  \n",
      "116      0      0  370369  7.7500   NaN        Q  \n",
      "280      0      0  336439  7.7500   NaN        Q  \n",
      "483      0      0    4134  9.5875   NaN        S  \n",
      "326      0      0  345364  6.2375   NaN        S  \n"
     ]
    }
   ],
   "source": [
    "# Sort by multiple columns (Pclass, Age) in descending order\n",
    "print(\"Sorted by class and age (descending):\")\n",
    "print(titanic.sort_values(by=['Pclass', 'Age'], ascending=False).head())"
   ]
  },
  {
   "cell_type": "markdown",
   "metadata": {},
   "source": [
    "##### Reshaping Data: Long to Wide Format\n",
    "Transform data layout using pivot operations"
   ]
  },
  {
   "cell_type": "code",
   "execution_count": 6,
   "metadata": {},
   "outputs": [
    {
     "name": "stdout",
     "output_type": "stream",
     "text": [
      "NO2 measurements subset:\n",
      "                                city country            location parameter  \\\n",
      "date.utc                                                                     \n",
      "2019-04-09 01:00:00+00:00  Antwerpen      BE             BETR801       no2   \n",
      "2019-04-09 01:00:00+00:00      Paris      FR             FR04014       no2   \n",
      "2019-04-09 02:00:00+00:00     London      GB  London Westminster       no2   \n",
      "2019-04-09 02:00:00+00:00  Antwerpen      BE             BETR801       no2   \n",
      "2019-04-09 02:00:00+00:00      Paris      FR             FR04014       no2   \n",
      "2019-04-09 03:00:00+00:00     London      GB  London Westminster       no2   \n",
      "\n",
      "                           value   unit  \n",
      "date.utc                                 \n",
      "2019-04-09 01:00:00+00:00   22.5  µg/m³  \n",
      "2019-04-09 01:00:00+00:00   24.4  µg/m³  \n",
      "2019-04-09 02:00:00+00:00   67.0  µg/m³  \n",
      "2019-04-09 02:00:00+00:00   53.5  µg/m³  \n",
      "2019-04-09 02:00:00+00:00   27.4  µg/m³  \n",
      "2019-04-09 03:00:00+00:00   67.0  µg/m³  \n"
     ]
    }
   ],
   "source": [
    "# Create NO2 subset\n",
    "no2 = air_quality[air_quality[\"parameter\"] == \"no2\"]\n",
    "no2_subset = no2.sort_index().groupby([\"location\"]).head(2)\n",
    "\n",
    "print(\"NO2 measurements subset:\")\n",
    "print(no2_subset)"
   ]
  },
  {
   "cell_type": "code",
   "execution_count": 7,
   "metadata": {},
   "outputs": [
    {
     "name": "stdout",
     "output_type": "stream",
     "text": [
      "NO2 data in wide format:\n",
      "location                   BETR801  FR04014  London Westminster\n",
      "date.utc                                                       \n",
      "2019-04-09 01:00:00+00:00     22.5     24.4                 NaN\n",
      "2019-04-09 02:00:00+00:00     53.5     27.4                67.0\n",
      "2019-04-09 03:00:00+00:00      NaN      NaN                67.0\n"
     ]
    }
   ],
   "source": [
    "# Pivot data to wide format\n",
    "print(\"NO2 data in wide format:\")\n",
    "print(no2_subset.pivot(columns=\"location\", values=\"value\"))"
   ]
  },
  {
   "cell_type": "markdown",
   "metadata": {},
   "source": [
    "##### Binary Operations\n",
    "Perform operations between DataFrames and Series"
   ]
  },
  {
   "cell_type": "code",
   "execution_count": 8,
   "metadata": {},
   "outputs": [
    {
     "name": "stdout",
     "output_type": "stream",
     "text": [
      "Sample DataFrame:\n",
      "        one       two     three\n",
      "a -0.057266 -1.654092       NaN\n",
      "b -0.231980  2.450928 -0.096852\n",
      "c -0.054669  1.790320 -1.932948\n",
      "d       NaN  0.488700  0.816248\n"
     ]
    }
   ],
   "source": [
    "# Create sample DataFrame\n",
    "df = pd.DataFrame({\n",
    "    'one': pd.Series(np.random.randn(3), index=['a', 'b', 'c']),\n",
    "    'two': pd.Series(np.random.randn(4), index=['a', 'b', 'c', 'd']),\n",
    "    'three': pd.Series(np.random.randn(3), index=['b', 'c', 'd'])\n",
    "})\n",
    "\n",
    "print(\"Sample DataFrame:\")\n",
    "print(df)"
   ]
  },
  {
   "cell_type": "code",
   "execution_count": 9,
   "metadata": {},
   "outputs": [
    {
     "name": "stdout",
     "output_type": "stream",
     "text": [
      "Subtracting row from DataFrame:\n",
      "        one       two     three\n",
      "a  0.174714 -4.105019       NaN\n",
      "b  0.000000  0.000000  0.000000\n",
      "c  0.177311 -0.660608 -1.836096\n",
      "d       NaN -1.962228  0.913100\n"
     ]
    }
   ],
   "source": [
    "# Subtract row from DataFrame\n",
    "row = df.iloc[1]\n",
    "print(\"Subtracting row from DataFrame:\")\n",
    "print(df.sub(row, axis='columns'))"
   ]
  },
  {
   "cell_type": "code",
   "execution_count": 10,
   "metadata": {},
   "outputs": [
    {
     "name": "stdout",
     "output_type": "stream",
     "text": [
      "Subtracting column from DataFrame:\n",
      "        one  two     three\n",
      "a  1.596825  0.0       NaN\n",
      "b -2.682908  0.0 -2.547780\n",
      "c -1.844989  0.0 -3.723268\n",
      "d       NaN  0.0  0.327548\n"
     ]
    }
   ],
   "source": [
    "# Subtract column from DataFrame\n",
    "column = df['two']\n",
    "print(\"Subtracting column from DataFrame:\")\n",
    "print(df.sub(column, axis='index'))"
   ]
  },
  {
   "cell_type": "markdown",
   "metadata": {},
   "source": [
    "##### Advanced Operations\n",
    "Using divmod with Series"
   ]
  },
  {
   "cell_type": "code",
   "execution_count": 11,
   "metadata": {},
   "outputs": [
    {
     "name": "stdout",
     "output_type": "stream",
     "text": [
      "Original Series:\n",
      "0    0\n",
      "1    1\n",
      "2    2\n",
      "3    3\n",
      "4    4\n",
      "5    5\n",
      "6    6\n",
      "7    7\n",
      "8    8\n",
      "9    9\n",
      "dtype: int64\n",
      "\n",
      "Division result:\n",
      "0    0\n",
      "1    0\n",
      "2    0\n",
      "3    1\n",
      "4    1\n",
      "5    1\n",
      "6    2\n",
      "7    2\n",
      "8    2\n",
      "9    3\n",
      "dtype: int64\n",
      "\n",
      "Remainder:\n",
      "0    0\n",
      "1    1\n",
      "2    2\n",
      "3    0\n",
      "4    1\n",
      "5    2\n",
      "6    0\n",
      "7    1\n",
      "8    2\n",
      "9    0\n",
      "dtype: int64\n"
     ]
    }
   ],
   "source": [
    "# Create sample Series\n",
    "s = pd.Series(np.arange(10))\n",
    "print(\"Original Series:\")\n",
    "print(s)\n",
    "\n",
    "# Perform divmod operation\n",
    "div, rem = divmod(s, 3)\n",
    "print(\"\\nDivision result:\")\n",
    "print(div)\n",
    "print(\"\\nRemainder:\")\n",
    "print(rem)"
   ]
  }
 ],
 "metadata": {
  "kernelspec": {
   "display_name": "venv",
   "language": "python",
   "name": "python3"
  },
  "language_info": {
   "codemirror_mode": {
    "name": "ipython",
    "version": 3
   },
   "file_extension": ".py",
   "mimetype": "text/x-python",
   "name": "python",
   "nbconvert_exporter": "python",
   "pygments_lexer": "ipython3",
   "version": "3.13.2"
  }
 },
 "nbformat": 4,
 "nbformat_minor": 4
}
