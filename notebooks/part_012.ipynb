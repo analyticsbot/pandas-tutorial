{
 "cells": [
  {
   "cell_type": "markdown",
   "metadata": {},
   "source": [
    "#### Part 12: JSON and Excel Operations in Pandas\n",
    "\n",
    "In this notebook, we'll explore:\n",
    "- Working with JSON data in pandas\n",
    "- Different JSON orientation options\n",
    "- Date handling in JSON\n",
    "- Working with Excel files\n",
    "\n",
    "##### Setup\n",
    "First, let's import the necessary libraries:"
   ]
  },
  {
   "cell_type": "code",
   "execution_count": null,
   "metadata": {},
   "outputs": [],
   "source": [
    "import pandas as pd\n",
    "import numpy as np\n",
    "from io import StringIO"
   ]
  },
  {
   "cell_type": "markdown",
   "metadata": {},
   "source": [
    "##### 1. JSON Operations\n",
    "\n",
    "### 1.1 Basic JSON Conversion\n",
    "\n",
    "Let's start by creating a DataFrame and converting it to JSON:"
   ]
  },
  {
   "cell_type": "code",
   "execution_count": null,
   "metadata": {},
   "outputs": [],
   "source": [
    "dfj = pd.DataFrame(np.random.randn(5, 2), columns=list('AB'))\n",
    "\n",
    "json = dfj.to_json()\n",
    "\n",
    "json"
   ]
  },
  {
   "cell_type": "markdown",
   "metadata": {},
   "source": [
    "### 1.2 Orient Options\n",
    "\n",
    "There are different options for the format of the resulting JSON file/string. Let's create a DataFrame and Series to demonstrate:"
   ]
  },
  {
   "cell_type": "code",
   "execution_count": null,
   "metadata": {},
   "outputs": [],
   "source": [
    "dfjo = pd.DataFrame(dict(A=range(1, 4), B=range(4, 7), C=range(7, 10)),\n",
    "                   columns=list('ABC'), index=list('xyz'))\n",
    "\n",
    "dfjo"
   ]
  },
  {
   "cell_type": "code",
   "execution_count": null,
   "metadata": {},
   "outputs": [],
   "source": [
    "sjo = pd.Series(dict(x=15, y=16, z=17), name='D')\n",
    "\n",
    "sjo"
   ]
  },
  {
   "cell_type": "markdown",
   "metadata": {},
   "source": [
    "#### Column Oriented (default for DataFrame)\n",
    "Serializes the data as nested JSON objects with column labels acting as the primary index:"
   ]
  },
  {
   "cell_type": "code",
   "execution_count": null,
   "metadata": {},
   "outputs": [],
   "source": [
    "dfjo.to_json(orient=\"columns\")"
   ]
  },
  {
   "cell_type": "markdown",
   "metadata": {},
   "source": [
    "#### Index Oriented (default for Series)\n",
    "Similar to column oriented but the index labels are now primary:"
   ]
  },
  {
   "cell_type": "code",
   "execution_count": null,
   "metadata": {},
   "outputs": [],
   "source": [
    "dfjo.to_json(orient=\"index\")"
   ]
  },
  {
   "cell_type": "code",
   "execution_count": null,
   "metadata": {},
   "outputs": [],
   "source": [
    "sjo.to_json(orient=\"index\")"
   ]
  },
  {
   "cell_type": "markdown",
   "metadata": {},
   "source": [
    "#### Record Oriented\n",
    "Serializes the data to a JSON array of column -> value records, index labels are not included:"
   ]
  },
  {
   "cell_type": "code",
   "execution_count": null,
   "metadata": {},
   "outputs": [],
   "source": [
    "dfjo.to_json(orient=\"records\")"
   ]
  },
  {
   "cell_type": "code",
   "execution_count": null,
   "metadata": {},
   "outputs": [],
   "source": [
    "sjo.to_json(orient=\"records\")"
   ]
  },
  {
   "cell_type": "markdown",
   "metadata": {},
   "source": [
    "#### Value Oriented\n",
    "A bare-bones option which serializes to nested JSON arrays of values only, column and index labels are not included:"
   ]
  },
  {
   "cell_type": "code",
   "execution_count": null,
   "metadata": {},
   "outputs": [],
   "source": [
    "dfjo.to_json(orient=\"values\")"
   ]
  },
  {
   "cell_type": "markdown",
   "metadata": {},
   "source": [
    "#### Split Oriented\n",
    "Serializes to a JSON object containing separate entries for values, index and columns. Name is also included for Series:"
   ]
  },
  {
   "cell_type": "code",
   "execution_count": null,
   "metadata": {},
   "outputs": [],
   "source": [
    "dfjo.to_json(orient=\"split\")"
   ]
  },
  {
   "cell_type": "code",
   "execution_count": null,
   "metadata": {},
   "outputs": [],
   "source": [
    "sjo.to_json(orient=\"split\")"
   ]
  },
  {
   "cell_type": "markdown",
   "metadata": {},
   "source": [
    "### 1.3 Date Handling\n",
    "\n",
    "#### Writing in ISO date format:"
   ]
  },
  {
   "cell_type": "code",
   "execution_count": null,
   "metadata": {},
   "outputs": [],
   "source": [
    "dfd = pd.DataFrame(np.random.randn(5, 2), columns=list('AB'))\n",
    "\n",
    "dfd['date'] = pd.Timestamp('20130101')\n",
    "\n",
    "dfd = dfd.sort_index(1, ascending=False)\n",
    "\n",
    "json = dfd.to_json(date_format='iso')\n",
    "\n",
    "json"
   ]
  },
  {
   "cell_type": "markdown",
   "metadata": {},
   "source": [
    "#### Writing in ISO date format, with microseconds:"
   ]
  },
  {
   "cell_type": "code",
   "execution_count": null,
   "metadata": {},
   "outputs": [],
   "source": [
    "json = dfd.to_json(date_format='iso', date_unit='us')"
   ]
  },
  {
   "cell_type": "markdown",
   "metadata": {},
   "source": [
    "##### 2. Excel Operations\n",
    "\n",
    "### 2.1 Reading Excel Files\n",
    "\n",
    "There are multiple ways to read Excel files in pandas:"
   ]
  },
  {
   "cell_type": "code",
   "execution_count": null,
   "metadata": {},
   "outputs": [],
   "source": [
    "# This is a code example - you would need an actual Excel file to run this\n",
    "# Using the ExcelFile class\n",
    "'''\n",
    "data = {}\n",
    "with pd.ExcelFile('path_to_file.xls') as xls:\n",
    "    data['Sheet1'] = pd.read_excel(xls, 'Sheet1', index_col=None,\n",
    "                                   na_values=['NA'])\n",
    "    data['Sheet2'] = pd.read_excel(xls, 'Sheet2', index_col=None,\n",
    "                                   na_values=['NA'])\n",
    "'''"
   ]
  },
  {
   "cell_type": "code",
   "execution_count": null,
   "metadata": {},
   "outputs": [],
   "source": [
    "# Equivalent using the read_excel function\n",
    "'''\n",
    "data = pd.read_excel('path_to_file.xls', ['Sheet1', 'Sheet2'],\n",
    "                     index_col=None, na_values=['NA'])\n",
    "'''"
   ]
  },
  {
   "cell_type": "markdown",
   "metadata": {},
   "source": [
    "### 2.2 Using xlrd.book.Book Object"
   ]
  },
  {
   "cell_type": "code",
   "execution_count": null,
   "metadata": {},
   "outputs": [],
   "source": [
    "# ExcelFile can also be called with a xlrd.book.Book object\n",
    "'''\n",
    "import xlrd\n",
    "xlrd_book = xlrd.open_workbook('path_to_file.xls', on_demand=True)\n",
    "with pd.ExcelFile(xlrd_book) as xls:\n",
    "    df1 = pd.read_excel(xls, 'Sheet1')\n",
    "    df2 = pd.read_excel(xls, 'Sheet2')\n",
    "'''"
   ]
  },
  {
   "cell_type": "markdown",
   "metadata": {},
   "source": [
    "### 2.3 Specifying Sheets\n",
    "\n",
    "The `sheet_name` argument allows specifying the sheet or sheets to read:\n",
    "- Default value is 0, indicating to read the first sheet\n",
    "- Pass a string to refer to the name of a particular sheet\n",
    "- Pass an integer to refer to the index of a sheet (0-based)\n",
    "- Pass a list of strings or integers to return a dictionary of specified sheets\n",
    "- Pass None to return a dictionary of all available sheets"
   ]
  },
  {
   "cell_type": "code",
   "execution_count": null,
   "metadata": {},
   "outputs": [],
   "source": [
    "# Examples (these are code examples - you would need actual Excel files)\n",
    "'''\n",
    "# Returns a DataFrame\n",
    "pd.read_excel('path_to_file.xls', 'Sheet1', index_col=None, na_values=['NA'])\n",
    "\n",
    "# Using the sheet index\n",
    "pd.read_excel('path_to_file.xls', 0, index_col=None, na_values=['NA'])\n",
    "\n",
    "# Using all default values\n",
    "pd.read_excel('path_to_file.xls')\n",
    "\n",
    "# Using None to get all sheets\n",
    "pd.read_excel('path_to_file.xls', sheet_name=None)\n",
    "\n",
    "# Using a list to get multiple sheets\n",
    "pd.read_excel('path_to_file.xls', sheet_name=['Sheet1', 3])\n",
    "'''"
   ]
  },
  {
   "cell_type": "markdown",
   "metadata": {},
   "source": [
    "### 2.4 Reading a MultiIndex\n",
    "\n",
    "`read_excel` can read a MultiIndex index by passing a list of columns to `index_col` and a MultiIndex column by passing a list of rows to `header`."
   ]
  },
  {
   "cell_type": "code",
   "execution_count": null,
   "metadata": {},
   "outputs": [],
   "source": [
    "# Example of creating and reading a MultiIndex DataFrame with Excel\n",
    "df = pd.DataFrame({'a': [1, 2, 3, 4], 'b': [5, 6, 7, 8]},\n",
    "                 index=pd.MultiIndex.from_product([['a', 'b'], ['c', 'd']]))\n",
    "\n",
    "df"
   ]
  },
  {
   "cell_type": "code",
   "execution_count": null,
   "metadata": {},
   "outputs": [],
   "source": [
    "# This would write to an Excel file and then read it back\n",
    "'''\n",
    "df.to_excel('path_to_file.xlsx')\n",
    "df = pd.read_excel('path_to_file.xlsx', index_col=[0, 1])\n",
    "'''"
   ]
  },
  {
   "cell_type": "markdown",
   "metadata": {},
   "source": [
    "If the index has level names, they will be parsed as well:"
   ]
  },
  {
   "cell_type": "code",
   "execution_count": null,
   "metadata": {},
   "outputs": [],
   "source": [
    "df.index = df.index.set_names(['lvl1', 'lvl2'])\n",
    "df"
   ]
  },
  {
   "cell_type": "code",
   "execution_count": null,
   "metadata": {},
   "outputs": [],
   "source": [
    "# This would write to an Excel file and then read it back\n",
    "'''\n",
    "df.to_excel('path_to_file.xlsx')\n",
    "df = pd.read_excel('path_to_file.xlsx', index_col=[0, 1])\n",
    "'''"
   ]
  }
 ],
 "metadata": {
  "kernelspec": {
   "display_name": "Python 3",
   "language": "python",
   "name": "python3"
  },
  "language_info": {
   "codemirror_mode": {
    "name": "ipython",
    "version": 3
   },
   "file_extension": ".py",
   "mimetype": "text/x-python",
   "name": "python",
   "nbconvert_exporter": "python",
   "pygments_lexer": "ipython3",
   "version": "3.8.5"
  }
 },
 "nbformat": 4,
 "nbformat_minor": 4
}