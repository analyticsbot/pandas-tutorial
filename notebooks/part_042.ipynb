{
 "cells": [
  {
   "cell_type": "markdown",
   "metadata": {},
   "source": [
    "#### Pandas Tutorial - Part 42\n",
    "\n",
    "This notebook covers various Series methods including:\n",
    "- Arithmetic operations with `add()`\n",
    "- Label manipulation with `add_prefix()` and `add_suffix()`\n",
    "- Boolean operations\n",
    "- Categorical data with `cat` accessor\n",
    "- Value clipping with `clip()`"
   ]
  },
  {
   "cell_type": "code",
   "execution_count": 1,
   "metadata": {},
   "outputs": [],
   "source": [
    "import pandas as pd\n",
    "import numpy as np\n",
    "import matplotlib.pyplot as plt\n",
    "\n",
    "%matplotlib inline"
   ]
  },
  {
   "cell_type": "markdown",
   "metadata": {},
   "source": [
    "##### Arithmetic Operations with Series\n",
    "\n",
    "Pandas Series support various arithmetic operations. The `add()` method is one such operation that allows for element-wise addition with special handling for missing values."
   ]
  },
  {
   "cell_type": "markdown",
   "metadata": {},
   "source": [
    "### The `add()` Method\n",
    "\n",
    "The `add()` method performs element-wise addition between two Series objects or a Series and a scalar value. It also provides options for handling missing values."
   ]
  },
  {
   "cell_type": "code",
   "execution_count": 2,
   "metadata": {},
   "outputs": [
    {
     "name": "stdout",
     "output_type": "stream",
     "text": [
      "Series a:\n",
      "a    1.0\n",
      "b    1.0\n",
      "c    1.0\n",
      "d    NaN\n",
      "dtype: float64\n",
      "\n",
      "Series b:\n",
      "a    1.0\n",
      "b    NaN\n",
      "d    1.0\n",
      "e    NaN\n",
      "dtype: float64\n"
     ]
    }
   ],
   "source": [
    "# Create two Series with some missing values\n",
    "a = pd.Series([1, 1, 1, np.nan], index=['a', 'b', 'c', 'd'])\n",
    "b = pd.Series([1, np.nan, 1, np.nan], index=['a', 'b', 'd', 'e'])\n",
    "\n",
    "print(\"Series a:\")\n",
    "print(a)\n",
    "print(\"\\nSeries b:\")\n",
    "print(b)"
   ]
  },
  {
   "cell_type": "code",
   "execution_count": 3,
   "metadata": {},
   "outputs": [
    {
     "name": "stdout",
     "output_type": "stream",
     "text": [
      "a + b:\n",
      "a    2.0\n",
      "b    NaN\n",
      "c    NaN\n",
      "d    NaN\n",
      "e    NaN\n",
      "dtype: float64\n"
     ]
    }
   ],
   "source": [
    "# Basic addition (NaN values propagate)\n",
    "print(\"a + b:\")\n",
    "print(a + b)"
   ]
  },
  {
   "cell_type": "code",
   "execution_count": 4,
   "metadata": {},
   "outputs": [
    {
     "name": "stdout",
     "output_type": "stream",
     "text": [
      "a.add(b, fill_value=0):\n",
      "a    2.0\n",
      "b    1.0\n",
      "c    1.0\n",
      "d    1.0\n",
      "e    NaN\n",
      "dtype: float64\n"
     ]
    }
   ],
   "source": [
    "# Using add() with fill_value\n",
    "print(\"a.add(b, fill_value=0):\")\n",
    "print(a.add(b, fill_value=0))"
   ]
  },
  {
   "cell_type": "code",
   "execution_count": 5,
   "metadata": {},
   "outputs": [
    {
     "name": "stdout",
     "output_type": "stream",
     "text": [
      "a.add(10):\n",
      "a    11.0\n",
      "b    11.0\n",
      "c    11.0\n",
      "d     NaN\n",
      "dtype: float64\n"
     ]
    }
   ],
   "source": [
    "# Adding a scalar value\n",
    "print(\"a.add(10):\")\n",
    "print(a.add(10))"
   ]
  },
  {
   "cell_type": "markdown",
   "metadata": {},
   "source": [
    "### Other Arithmetic Operations\n",
    "\n",
    "Similar to `add()`, pandas Series support other arithmetic operations like subtraction, multiplication, and division."
   ]
  },
  {
   "cell_type": "code",
   "execution_count": 6,
   "metadata": {},
   "outputs": [
    {
     "name": "stdout",
     "output_type": "stream",
     "text": [
      "a.sub(b, fill_value=0):\n",
      "a    0.0\n",
      "b    1.0\n",
      "c    1.0\n",
      "d   -1.0\n",
      "e    NaN\n",
      "dtype: float64\n",
      "\n",
      "a.mul(b, fill_value=1):\n",
      "a    1.0\n",
      "b    1.0\n",
      "c    1.0\n",
      "d    1.0\n",
      "e    NaN\n",
      "dtype: float64\n",
      "\n",
      "a.div(b, fill_value=1):\n",
      "a    1.0\n",
      "b    1.0\n",
      "c    1.0\n",
      "d    1.0\n",
      "e    NaN\n",
      "dtype: float64\n"
     ]
    }
   ],
   "source": [
    "# Subtraction\n",
    "print(\"a.sub(b, fill_value=0):\")\n",
    "print(a.sub(b, fill_value=0))\n",
    "\n",
    "# Multiplication\n",
    "print(\"\\na.mul(b, fill_value=1):\")\n",
    "print(a.mul(b, fill_value=1))\n",
    "\n",
    "# Division\n",
    "print(\"\\na.div(b, fill_value=1):\")\n",
    "print(a.div(b, fill_value=1))"
   ]
  },
  {
   "cell_type": "markdown",
   "metadata": {},
   "source": [
    "##### Label Manipulation\n",
    "\n",
    "Pandas provides methods to manipulate the labels (index) of Series and DataFrame objects."
   ]
  },
  {
   "cell_type": "markdown",
   "metadata": {},
   "source": [
    "### The `add_prefix()` Method\n",
    "\n",
    "The `add_prefix()` method adds a prefix to the labels of a Series or the column names of a DataFrame."
   ]
  },
  {
   "cell_type": "code",
   "execution_count": 7,
   "metadata": {},
   "outputs": [
    {
     "name": "stdout",
     "output_type": "stream",
     "text": [
      "Original Series:\n",
      "0    1\n",
      "1    2\n",
      "2    3\n",
      "3    4\n",
      "dtype: int64\n"
     ]
    }
   ],
   "source": [
    "# Create a simple Series\n",
    "s = pd.Series([1, 2, 3, 4])\n",
    "print(\"Original Series:\")\n",
    "print(s)"
   ]
  },
  {
   "cell_type": "code",
   "execution_count": 8,
   "metadata": {},
   "outputs": [
    {
     "name": "stdout",
     "output_type": "stream",
     "text": [
      "Series with prefixed labels:\n",
      "item_0    1\n",
      "item_1    2\n",
      "item_2    3\n",
      "item_3    4\n",
      "dtype: int64\n"
     ]
    }
   ],
   "source": [
    "# Add prefix to Series labels\n",
    "s_prefixed = s.add_prefix('item_')\n",
    "print(\"Series with prefixed labels:\")\n",
    "print(s_prefixed)"
   ]
  },
  {
   "cell_type": "code",
   "execution_count": 9,
   "metadata": {},
   "outputs": [
    {
     "name": "stdout",
     "output_type": "stream",
     "text": [
      "Original DataFrame:\n",
      "   A  B\n",
      "0  1  3\n",
      "1  2  4\n",
      "2  3  5\n",
      "3  4  6\n"
     ]
    }
   ],
   "source": [
    "# Create a simple DataFrame\n",
    "df = pd.DataFrame({'A': [1, 2, 3, 4], 'B': [3, 4, 5, 6]})\n",
    "print(\"Original DataFrame:\")\n",
    "print(df)"
   ]
  },
  {
   "cell_type": "code",
   "execution_count": 10,
   "metadata": {},
   "outputs": [
    {
     "name": "stdout",
     "output_type": "stream",
     "text": [
      "DataFrame with prefixed column names:\n",
      "   col_A  col_B\n",
      "0      1      3\n",
      "1      2      4\n",
      "2      3      5\n",
      "3      4      6\n"
     ]
    }
   ],
   "source": [
    "# Add prefix to DataFrame column names\n",
    "df_prefixed = df.add_prefix('col_')\n",
    "print(\"DataFrame with prefixed column names:\")\n",
    "print(df_prefixed)"
   ]
  },
  {
   "cell_type": "markdown",
   "metadata": {},
   "source": [
    "### The `add_suffix()` Method\n",
    "\n",
    "The `add_suffix()` method adds a suffix to the labels of a Series or the column names of a DataFrame."
   ]
  },
  {
   "cell_type": "code",
   "execution_count": 11,
   "metadata": {},
   "outputs": [
    {
     "name": "stdout",
     "output_type": "stream",
     "text": [
      "Series with suffixed labels:\n",
      "0_value    1\n",
      "1_value    2\n",
      "2_value    3\n",
      "3_value    4\n",
      "dtype: int64\n"
     ]
    }
   ],
   "source": [
    "# Add suffix to Series labels\n",
    "s_suffixed = s.add_suffix('_value')\n",
    "print(\"Series with suffixed labels:\")\n",
    "print(s_suffixed)"
   ]
  },
  {
   "cell_type": "code",
   "execution_count": 12,
   "metadata": {},
   "outputs": [
    {
     "name": "stdout",
     "output_type": "stream",
     "text": [
      "DataFrame with suffixed column names:\n",
      "   A_col  B_col\n",
      "0      1      3\n",
      "1      2      4\n",
      "2      3      5\n",
      "3      4      6\n"
     ]
    }
   ],
   "source": [
    "# Add suffix to DataFrame column names\n",
    "df_suffixed = df.add_suffix('_col')\n",
    "print(\"DataFrame with suffixed column names:\")\n",
    "print(df_suffixed)"
   ]
  },
  {
   "cell_type": "markdown",
   "metadata": {},
   "source": [
    "##### Boolean Operations\n",
    "\n",
    "Pandas Series can be used in boolean contexts, but there are some special considerations."
   ]
  },
  {
   "cell_type": "markdown",
   "metadata": {},
   "source": [
    "### The `bool()` Method\n",
    "\n",
    "The `bool()` method converts a single-element Series to a boolean value. It raises a ValueError if the Series has more than one element or if the element is not boolean."
   ]
  },
  {
   "cell_type": "code",
   "execution_count": 13,
   "metadata": {},
   "outputs": [
    {
     "name": "stdout",
     "output_type": "stream",
     "text": [
      "s_true.bool(): True\n",
      "s_false.bool(): False\n"
     ]
    },
    {
     "name": "stderr",
     "output_type": "stream",
     "text": [
      "/var/folders/7y/fzwln1_93mn3js3wyk61_6xm0000gn/T/ipykernel_86034/3642967596.py:5: FutureWarning: Series.bool is now deprecated and will be removed in future version of pandas\n",
      "  print(f\"s_true.bool(): {s_true.bool()}\")\n",
      "/var/folders/7y/fzwln1_93mn3js3wyk61_6xm0000gn/T/ipykernel_86034/3642967596.py:6: FutureWarning: Series.bool is now deprecated and will be removed in future version of pandas\n",
      "  print(f\"s_false.bool(): {s_false.bool()}\")\n"
     ]
    }
   ],
   "source": [
    "# Create a single-element boolean Series\n",
    "s_true = pd.Series([True])\n",
    "s_false = pd.Series([False])\n",
    "\n",
    "print(f\"s_true.bool(): {s_true.bool()}\")\n",
    "print(f\"s_false.bool(): {s_false.bool()}\")"
   ]
  },
  {
   "cell_type": "code",
   "execution_count": 14,
   "metadata": {},
   "outputs": [
    {
     "name": "stdout",
     "output_type": "stream",
     "text": [
      "Error: The truth value of a Series is ambiguous. Use a.empty, a.bool(), a.item(), a.any() or a.all().\n"
     ]
    },
    {
     "name": "stderr",
     "output_type": "stream",
     "text": [
      "/var/folders/7y/fzwln1_93mn3js3wyk61_6xm0000gn/T/ipykernel_86034/2264849748.py:4: FutureWarning: Series.bool is now deprecated and will be removed in future version of pandas\n",
      "  s_multi.bool()\n"
     ]
    }
   ],
   "source": [
    "# Try bool() on a multi-element Series\n",
    "try:\n",
    "    s_multi = pd.Series([True, False])\n",
    "    s_multi.bool()\n",
    "except ValueError as e:\n",
    "    print(f\"Error: {e}\")"
   ]
  },
  {
   "cell_type": "code",
   "execution_count": 15,
   "metadata": {},
   "outputs": [
    {
     "name": "stdout",
     "output_type": "stream",
     "text": [
      "Error: bool cannot act on a non-boolean single element Series\n"
     ]
    },
    {
     "name": "stderr",
     "output_type": "stream",
     "text": [
      "/var/folders/7y/fzwln1_93mn3js3wyk61_6xm0000gn/T/ipykernel_86034/3084398488.py:4: FutureWarning: Series.bool is now deprecated and will be removed in future version of pandas\n",
      "  s_nonbool.bool()\n"
     ]
    }
   ],
   "source": [
    "# Try bool() on a non-boolean Series\n",
    "try:\n",
    "    s_nonbool = pd.Series([1])\n",
    "    s_nonbool.bool()\n",
    "except ValueError as e:\n",
    "    print(f\"Error: {e}\")"
   ]
  },
  {
   "cell_type": "markdown",
   "metadata": {},
   "source": [
    "### Boolean Indexing\n",
    "\n",
    "Boolean indexing is a powerful feature in pandas that allows you to filter data based on conditions."
   ]
  },
  {
   "cell_type": "code",
   "execution_count": 16,
   "metadata": {},
   "outputs": [
    {
     "name": "stdout",
     "output_type": "stream",
     "text": [
      "Boolean mask:\n",
      "0    False\n",
      "1    False\n",
      "2     True\n",
      "3     True\n",
      "4     True\n",
      "dtype: bool\n",
      "\n",
      "Filtered Series:\n",
      "2    3\n",
      "3    4\n",
      "4    5\n",
      "dtype: int64\n"
     ]
    }
   ],
   "source": [
    "# Create a Series\n",
    "s = pd.Series([1, 2, 3, 4, 5])\n",
    "\n",
    "# Filter values greater than 2\n",
    "mask = s > 2\n",
    "print(\"Boolean mask:\")\n",
    "print(mask)\n",
    "\n",
    "print(\"\\nFiltered Series:\")\n",
    "print(s[mask])"
   ]
  },
  {
   "cell_type": "code",
   "execution_count": 17,
   "metadata": {},
   "outputs": [
    {
     "name": "stdout",
     "output_type": "stream",
     "text": [
      "Values between 2 and 5 (exclusive):\n",
      "2    3\n",
      "3    4\n",
      "dtype: int64\n"
     ]
    }
   ],
   "source": [
    "# Multiple conditions\n",
    "mask = (s > 2) & (s < 5)\n",
    "print(\"Values between 2 and 5 (exclusive):\")\n",
    "print(s[mask])"
   ]
  },
  {
   "cell_type": "markdown",
   "metadata": {},
   "source": [
    "##### Categorical Data with the `cat` Accessor\n",
    "\n",
    "The `cat` accessor provides access to categorical operations for Series with categorical data."
   ]
  },
  {
   "cell_type": "code",
   "execution_count": 18,
   "metadata": {},
   "outputs": [
    {
     "name": "stdout",
     "output_type": "stream",
     "text": [
      "Categorical Series:\n",
      "0    a\n",
      "1    b\n",
      "2    c\n",
      "3    a\n",
      "4    b\n",
      "5    c\n",
      "dtype: category\n",
      "Categories (3, object): ['a', 'b', 'c']\n",
      "\n",
      "Data type: category\n"
     ]
    }
   ],
   "source": [
    "# Create a categorical Series\n",
    "s = pd.Series(['a', 'b', 'c', 'a', 'b', 'c'], dtype='category')\n",
    "print(\"Categorical Series:\")\n",
    "print(s)\n",
    "print(\"\\nData type:\", s.dtype)"
   ]
  },
  {
   "cell_type": "code",
   "execution_count": 19,
   "metadata": {},
   "outputs": [
    {
     "name": "stdout",
     "output_type": "stream",
     "text": [
      "Categories:\n",
      "Index(['a', 'b', 'c'], dtype='object')\n"
     ]
    }
   ],
   "source": [
    "# Get categories\n",
    "print(\"Categories:\")\n",
    "print(s.cat.categories)"
   ]
  },
  {
   "cell_type": "code",
   "execution_count": 20,
   "metadata": {},
   "outputs": [
    {
     "name": "stdout",
     "output_type": "stream",
     "text": [
      "Series with renamed categories:\n",
      "0    A\n",
      "1    B\n",
      "2    C\n",
      "3    A\n",
      "4    B\n",
      "5    C\n",
      "dtype: category\n",
      "Categories (3, object): ['A', 'B', 'C']\n"
     ]
    }
   ],
   "source": [
    "# Rename categories\n",
    "s_renamed = s.cat.rename_categories(['A', 'B', 'C'])\n",
    "print(\"Series with renamed categories:\")\n",
    "print(s_renamed)"
   ]
  },
  {
   "cell_type": "code",
   "execution_count": 21,
   "metadata": {},
   "outputs": [
    {
     "name": "stdout",
     "output_type": "stream",
     "text": [
      "Series with reordered categories:\n",
      "0    a\n",
      "1    b\n",
      "2    c\n",
      "3    a\n",
      "4    b\n",
      "5    c\n",
      "dtype: category\n",
      "Categories (3, object): ['c', 'b', 'a']\n"
     ]
    }
   ],
   "source": [
    "# Reorder categories\n",
    "s_reordered = s.cat.reorder_categories(['c', 'b', 'a'])\n",
    "print(\"Series with reordered categories:\")\n",
    "print(s_reordered)"
   ]
  },
  {
   "cell_type": "code",
   "execution_count": 22,
   "metadata": {},
   "outputs": [
    {
     "name": "stdout",
     "output_type": "stream",
     "text": [
      "Series with added categories:\n",
      "0    a\n",
      "1    b\n",
      "2    c\n",
      "3    a\n",
      "4    b\n",
      "5    c\n",
      "dtype: category\n",
      "Categories (5, object): ['a', 'b', 'c', 'd', 'e']\n",
      "\n",
      "New categories:\n",
      "Index(['a', 'b', 'c', 'd', 'e'], dtype='object')\n"
     ]
    }
   ],
   "source": [
    "# Add categories\n",
    "s_added = s.cat.add_categories(['d', 'e'])\n",
    "print(\"Series with added categories:\")\n",
    "print(s_added)\n",
    "print(\"\\nNew categories:\")\n",
    "print(s_added.cat.categories)"
   ]
  },
  {
   "cell_type": "code",
   "execution_count": 23,
   "metadata": {},
   "outputs": [
    {
     "name": "stdout",
     "output_type": "stream",
     "text": [
      "Series with removed categories:\n",
      "0    a\n",
      "1    b\n",
      "2    c\n",
      "3    a\n",
      "4    b\n",
      "5    c\n",
      "dtype: category\n",
      "Categories (4, object): ['a', 'b', 'c', 'e']\n",
      "\n",
      "Remaining categories:\n",
      "Index(['a', 'b', 'c', 'e'], dtype='object')\n"
     ]
    }
   ],
   "source": [
    "# Remove categories\n",
    "s_removed = s_added.cat.remove_categories(['d'])\n",
    "print(\"Series with removed categories:\")\n",
    "print(s_removed)\n",
    "print(\"\\nRemaining categories:\")\n",
    "print(s_removed.cat.categories)"
   ]
  },
  {
   "cell_type": "code",
   "execution_count": 24,
   "metadata": {},
   "outputs": [
    {
     "name": "stdout",
     "output_type": "stream",
     "text": [
      "Series with set categories:\n",
      "0    a\n",
      "1    b\n",
      "2    c\n",
      "3    a\n",
      "4    b\n",
      "5    c\n",
      "dtype: category\n",
      "Categories (5, object): ['a', 'b', 'c', 'd', 'e']\n",
      "\n",
      "Set categories:\n",
      "Index(['a', 'b', 'c', 'd', 'e'], dtype='object')\n"
     ]
    }
   ],
   "source": [
    "# Set categories\n",
    "s_set = s.cat.set_categories(['a', 'b', 'c', 'd', 'e'])\n",
    "print(\"Series with set categories:\")\n",
    "print(s_set)\n",
    "print(\"\\nSet categories:\")\n",
    "print(s_set.cat.categories)"
   ]
  },
  {
   "cell_type": "code",
   "execution_count": 25,
   "metadata": {},
   "outputs": [
    {
     "name": "stdout",
     "output_type": "stream",
     "text": [
      "Series with ordered categories:\n",
      "0    a\n",
      "1    b\n",
      "2    c\n",
      "3    a\n",
      "4    b\n",
      "5    c\n",
      "dtype: category\n",
      "Categories (3, object): ['a' < 'b' < 'c']\n",
      "\n",
      "Is ordered: True\n"
     ]
    }
   ],
   "source": [
    "# Make categories ordered\n",
    "s_ordered = s.cat.as_ordered()\n",
    "print(\"Series with ordered categories:\")\n",
    "print(s_ordered)\n",
    "print(\"\\nIs ordered:\", s_ordered.cat.ordered)"
   ]
  },
  {
   "cell_type": "code",
   "execution_count": 26,
   "metadata": {},
   "outputs": [
    {
     "name": "stdout",
     "output_type": "stream",
     "text": [
      "Series with unordered categories:\n",
      "0    a\n",
      "1    b\n",
      "2    c\n",
      "3    a\n",
      "4    b\n",
      "5    c\n",
      "dtype: category\n",
      "Categories (3, object): ['a', 'b', 'c']\n",
      "\n",
      "Is ordered: False\n"
     ]
    }
   ],
   "source": [
    "# Make categories unordered\n",
    "s_unordered = s_ordered.cat.as_unordered()\n",
    "print(\"Series with unordered categories:\")\n",
    "print(s_unordered)\n",
    "print(\"\\nIs ordered:\", s_unordered.cat.ordered)"
   ]
  },
  {
   "cell_type": "markdown",
   "metadata": {},
   "source": [
    "##### Value Clipping with `clip()`\n",
    "\n",
    "The `clip()` method trims values at specified thresholds, replacing values outside the thresholds with the threshold values."
   ]
  },
  {
   "cell_type": "code",
   "execution_count": 27,
   "metadata": {},
   "outputs": [
    {
     "name": "stdout",
     "output_type": "stream",
     "text": [
      "Original DataFrame:\n",
      "   col_0  col_1\n",
      "0      9     -2\n",
      "1     -3     -7\n",
      "2      0      6\n",
      "3     -1      8\n",
      "4      5     -5\n"
     ]
    }
   ],
   "source": [
    "# Create a DataFrame\n",
    "data = {'col_0': [9, -3, 0, -1, 5], 'col_1': [-2, -7, 6, 8, -5]}\n",
    "df = pd.DataFrame(data)\n",
    "print(\"Original DataFrame:\")\n",
    "print(df)"
   ]
  },
  {
   "cell_type": "code",
   "execution_count": 28,
   "metadata": {},
   "outputs": [
    {
     "name": "stdout",
     "output_type": "stream",
     "text": [
      "DataFrame with values clipped between -4 and 6:\n",
      "   col_0  col_1\n",
      "0      6     -2\n",
      "1     -3     -4\n",
      "2      0      6\n",
      "3     -1      6\n",
      "4      5     -4\n"
     ]
    }
   ],
   "source": [
    "# Clip values between -4 and 6\n",
    "df_clipped = df.clip(-4, 6)\n",
    "print(\"DataFrame with values clipped between -4 and 6:\")\n",
    "print(df_clipped)"
   ]
  },
  {
   "cell_type": "code",
   "execution_count": 29,
   "metadata": {},
   "outputs": [
    {
     "name": "stdout",
     "output_type": "stream",
     "text": [
      "Threshold Series:\n",
      "0    2\n",
      "1   -4\n",
      "2   -1\n",
      "3    6\n",
      "4    3\n",
      "dtype: int64\n",
      "\n",
      "DataFrame with row-specific clipping:\n",
      "   col_0  col_1\n",
      "0      6      2\n",
      "1     -3     -4\n",
      "2      0      3\n",
      "3      6      8\n",
      "4      5      3\n"
     ]
    }
   ],
   "source": [
    "# Clip using different thresholds per row\n",
    "t = pd.Series([2, -4, -1, 6, 3])\n",
    "print(\"Threshold Series:\")\n",
    "print(t)\n",
    "\n",
    "df_row_clipped = df.clip(t, t + 4, axis=0)\n",
    "print(\"\\nDataFrame with row-specific clipping:\")\n",
    "print(df_row_clipped)"
   ]
  },
  {
   "cell_type": "code",
   "execution_count": 30,
   "metadata": {},
   "outputs": [
    {
     "name": "stdout",
     "output_type": "stream",
     "text": [
      "Original Series:\n",
      "0     1\n",
      "1    10\n",
      "2    -5\n",
      "3     3\n",
      "4   -10\n",
      "5     8\n",
      "dtype: int64\n",
      "\n",
      "Series with values clipped between -3 and 7:\n",
      "0    1\n",
      "1    7\n",
      "2   -3\n",
      "3    3\n",
      "4   -3\n",
      "5    7\n",
      "dtype: int64\n"
     ]
    }
   ],
   "source": [
    "# Clip a Series\n",
    "s = pd.Series([1, 10, -5, 3, -10, 8])\n",
    "print(\"Original Series:\")\n",
    "print(s)\n",
    "\n",
    "s_clipped = s.clip(-3, 7)\n",
    "print(\"\\nSeries with values clipped between -3 and 7:\")\n",
    "print(s_clipped)"
   ]
  },
  {
   "cell_type": "code",
   "execution_count": 31,
   "metadata": {},
   "outputs": [
    {
     "name": "stdout",
     "output_type": "stream",
     "text": [
      "Series after in-place clipping:\n",
      "0    1\n",
      "1    7\n",
      "2   -3\n",
      "3    3\n",
      "4   -3\n",
      "5    7\n",
      "dtype: int64\n"
     ]
    }
   ],
   "source": [
    "# Clip in-place\n",
    "s_inplace = s.copy()\n",
    "s_inplace.clip(-3, 7, inplace=True)\n",
    "print(\"Series after in-place clipping:\")\n",
    "print(s_inplace)"
   ]
  },
  {
   "cell_type": "markdown",
   "metadata": {},
   "source": [
    "##### Conclusion\n",
    "\n",
    "In this notebook, we've explored various Series methods in pandas:\n",
    "\n",
    "1. Arithmetic operations with `add()` and similar methods, including special handling for missing values.\n",
    "2. Label manipulation with `add_prefix()` and `add_suffix()` for both Series and DataFrames.\n",
    "3. Boolean operations, including the `bool()` method for single-element Series and boolean indexing for filtering data.\n",
    "4. Categorical data operations using the `cat` accessor, including managing categories and their order.\n",
    "5. Value clipping with `clip()` to trim values at specified thresholds, with options for different thresholds per row and in-place modification.\n",
    "\n",
    "These methods are essential tools for data manipulation and analysis in pandas, allowing for flexible and powerful operations on your data."
   ]
  }
 ],
 "metadata": {
  "kernelspec": {
   "display_name": "venv",
   "language": "python",
   "name": "python3"
  },
  "language_info": {
   "codemirror_mode": {
    "name": "ipython",
    "version": 3
   },
   "file_extension": ".py",
   "mimetype": "text/x-python",
   "name": "python",
   "nbconvert_exporter": "python",
   "pygments_lexer": "ipython3",
   "version": "3.13.2"
  }
 },
 "nbformat": 4,
 "nbformat_minor": 4
}
