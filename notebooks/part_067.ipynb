{
 "cells": [
  {
   "cell_type": "markdown",
   "metadata": {},
   "source": [
    "#### Pandas Tutorial - Part 67: DataFrame.to_dict()\n",
    "\n",
    "This notebook covers the `to_dict()` method, which converts a DataFrame to a dictionary with various orientation options."
   ]
  },
  {
   "cell_type": "code",
   "execution_count": 1,
   "metadata": {},
   "outputs": [],
   "source": [
    "import pandas as pd\n",
    "import numpy as np\n",
    "from collections import defaultdict, OrderedDict\n",
    "\n",
    "# Set display options\n",
    "pd.set_option('display.max_columns', None)\n",
    "pd.set_option('display.expand_frame_repr', False)"
   ]
  },
  {
   "cell_type": "markdown",
   "metadata": {},
   "source": [
    "##### DataFrame.to_dict()\n",
    "\n",
    "The `to_dict()` method converts a DataFrame to a dictionary. The structure of the resulting dictionary depends on the `orient` parameter, which determines how the DataFrame's data is organized in the dictionary."
   ]
  },
  {
   "cell_type": "code",
   "execution_count": 2,
   "metadata": {},
   "outputs": [
    {
     "name": "stdout",
     "output_type": "stream",
     "text": [
      "Sample DataFrame:\n",
      "      col1  col2\n",
      "row1     1  0.50\n",
      "row2     2  0.75\n"
     ]
    }
   ],
   "source": [
    "# Create a sample DataFrame\n",
    "df = pd.DataFrame({\n",
    "    'col1': [1, 2],\n",
    "    'col2': [0.5, 0.75]\n",
    "}, index=['row1', 'row2'])\n",
    "\n",
    "print(\"Sample DataFrame:\")\n",
    "print(df)"
   ]
  },
  {
   "cell_type": "markdown",
   "metadata": {},
   "source": [
    "### Default orientation: 'dict'\n",
    "\n",
    "By default, `to_dict()` uses the 'dict' orientation, which creates a dictionary with column names as keys and nested dictionaries as values. The nested dictionaries have index values as keys and cell values as values."
   ]
  },
  {
   "cell_type": "code",
   "execution_count": 3,
   "metadata": {},
   "outputs": [
    {
     "name": "stdout",
     "output_type": "stream",
     "text": [
      "Default orientation ('dict'):\n",
      "{'col1': {'row1': 1, 'row2': 2}, 'col2': {'row1': 0.5, 'row2': 0.75}}\n"
     ]
    }
   ],
   "source": [
    "# Default orientation: 'dict'\n",
    "dict_default = df.to_dict()\n",
    "print(\"Default orientation ('dict'):\")\n",
    "print(dict_default)"
   ]
  },
  {
   "cell_type": "markdown",
   "metadata": {},
   "source": [
    "### Orientation: 'list'\n",
    "\n",
    "The 'list' orientation creates a dictionary with column names as keys and lists of values as values."
   ]
  },
  {
   "cell_type": "code",
   "execution_count": 4,
   "metadata": {},
   "outputs": [
    {
     "name": "stdout",
     "output_type": "stream",
     "text": [
      "Orientation 'list':\n",
      "{'col1': [1, 2], 'col2': [0.5, 0.75]}\n"
     ]
    }
   ],
   "source": [
    "# Orientation: 'list'\n",
    "dict_list = df.to_dict(orient='list')\n",
    "print(\"Orientation 'list':\")\n",
    "print(dict_list)"
   ]
  },
  {
   "cell_type": "markdown",
   "metadata": {},
   "source": [
    "### Orientation: 'series'\n",
    "\n",
    "The 'series' orientation creates a dictionary with column names as keys and Series objects as values."
   ]
  },
  {
   "cell_type": "code",
   "execution_count": 5,
   "metadata": {},
   "outputs": [
    {
     "name": "stdout",
     "output_type": "stream",
     "text": [
      "Orientation 'series':\n",
      "{'col1': row1    1\n",
      "row2    2\n",
      "Name: col1, dtype: int64, 'col2': row1    0.50\n",
      "row2    0.75\n",
      "Name: col2, dtype: float64}\n",
      "\n",
      "Type of the first value: <class 'pandas.core.series.Series'>\n",
      "\n",
      "Accessing the first Series:\n",
      "row1    1\n",
      "row2    2\n",
      "Name: col1, dtype: int64\n"
     ]
    }
   ],
   "source": [
    "# Orientation: 'series'\n",
    "dict_series = df.to_dict(orient='series')\n",
    "print(\"Orientation 'series':\")\n",
    "print(dict_series)\n",
    "\n",
    "# Demonstrate that the values are Series objects\n",
    "print(\"\\nType of the first value:\", type(dict_series['col1']))\n",
    "print(\"\\nAccessing the first Series:\")\n",
    "print(dict_series['col1'])"
   ]
  },
  {
   "cell_type": "markdown",
   "metadata": {},
   "source": [
    "### Orientation: 'split'\n",
    "\n",
    "The 'split' orientation creates a dictionary with keys 'index', 'columns', and 'data', containing the index values, column names, and data values respectively."
   ]
  },
  {
   "cell_type": "code",
   "execution_count": 6,
   "metadata": {},
   "outputs": [
    {
     "name": "stdout",
     "output_type": "stream",
     "text": [
      "Orientation 'split':\n",
      "{'index': ['row1', 'row2'], 'columns': ['col1', 'col2'], 'data': [[1, 0.5], [2, 0.75]]}\n"
     ]
    }
   ],
   "source": [
    "# Orientation: 'split'\n",
    "dict_split = df.to_dict(orient='split')\n",
    "print(\"Orientation 'split':\")\n",
    "print(dict_split)"
   ]
  },
  {
   "cell_type": "markdown",
   "metadata": {},
   "source": [
    "### Orientation: 'records'\n",
    "\n",
    "The 'records' orientation creates a list of dictionaries, where each dictionary represents a row in the DataFrame with column names as keys."
   ]
  },
  {
   "cell_type": "code",
   "execution_count": 7,
   "metadata": {},
   "outputs": [
    {
     "name": "stdout",
     "output_type": "stream",
     "text": [
      "Orientation 'records':\n",
      "[{'col1': 1, 'col2': 0.5}, {'col1': 2, 'col2': 0.75}]\n"
     ]
    }
   ],
   "source": [
    "# Orientation: 'records'\n",
    "dict_records = df.to_dict(orient='records')\n",
    "print(\"Orientation 'records':\")\n",
    "print(dict_records)"
   ]
  },
  {
   "cell_type": "markdown",
   "metadata": {},
   "source": [
    "### Orientation: 'index'\n",
    "\n",
    "The 'index' orientation creates a dictionary with index values as keys and dictionaries of column-value pairs as values."
   ]
  },
  {
   "cell_type": "code",
   "execution_count": 8,
   "metadata": {},
   "outputs": [
    {
     "name": "stdout",
     "output_type": "stream",
     "text": [
      "Orientation 'index':\n",
      "{'row1': {'col1': 1, 'col2': 0.5}, 'row2': {'col1': 2, 'col2': 0.75}}\n"
     ]
    }
   ],
   "source": [
    "# Orientation: 'index'\n",
    "dict_index = df.to_dict(orient='index')\n",
    "print(\"Orientation 'index':\")\n",
    "print(dict_index)"
   ]
  },
  {
   "cell_type": "markdown",
   "metadata": {},
   "source": [
    "### Using abbreviations for orientation\n",
    "\n",
    "Pandas allows using abbreviations for the orientation parameter. For example, 's' for 'series' and 'sp' for 'split'."
   ]
  },
  {
   "cell_type": "code",
   "execution_count": 10,
   "metadata": {},
   "outputs": [
    {
     "name": "stdout",
     "output_type": "stream",
     "text": [
      "Using orient='series':\n",
      "{'col1': row1    1\n",
      "row2    2\n",
      "Name: col1, dtype: int64, 'col2': row1    0.50\n",
      "row2    0.75\n",
      "Name: col2, dtype: float64}\n",
      "\n",
      "Using orient='split':\n",
      "{'index': ['row1', 'row2'], 'columns': ['col1', 'col2'], 'data': [[1, 0.5], [2, 0.75]]}\n"
     ]
    }
   ],
   "source": [
    "# Using full name 'series' instead of abbreviation 's'\n",
    "dict_series = df.to_dict(orient='series')\n",
    "print(\"Using orient='series':\")\n",
    "print(dict_series)\n",
    "\n",
    "# Using full name 'split' instead of abbreviation 'sp'\n",
    "dict_split = df.to_dict(orient='split')\n",
    "print(\"\\nUsing orient='split':\")\n",
    "print(dict_split)"
   ]
  },
  {
   "cell_type": "markdown",
   "metadata": {},
   "source": [
    "### Using different dictionary types with the 'into' parameter\n",
    "\n",
    "The `into` parameter allows specifying a different dictionary type to use for the result. This can be any subclass of `collections.abc.Mapping`."
   ]
  },
  {
   "cell_type": "code",
   "execution_count": 11,
   "metadata": {},
   "outputs": [
    {
     "name": "stdout",
     "output_type": "stream",
     "text": [
      "Using OrderedDict:\n",
      "OrderedDict({'col1': OrderedDict({'row1': 1, 'row2': 2}), 'col2': OrderedDict({'row1': 0.5, 'row2': 0.75})})\n",
      "Type: <class 'collections.OrderedDict'>\n"
     ]
    }
   ],
   "source": [
    "# Using OrderedDict\n",
    "dict_ordered = df.to_dict(into=OrderedDict)\n",
    "print(\"Using OrderedDict:\")\n",
    "print(dict_ordered)\n",
    "print(\"Type:\", type(dict_ordered))"
   ]
  },
  {
   "cell_type": "code",
   "execution_count": 14,
   "metadata": {},
   "outputs": [
    {
     "name": "stdout",
     "output_type": "stream",
     "text": [
      "Using initialized defaultdict:\n",
      "defaultdict(<class 'int'>, {'col1': defaultdict(<class 'int'>, {'row1': 1, 'row2': 2}), 'col2': defaultdict(<class 'int'>, {'row1': 0.5, 'row2': 0.75})})\n",
      "Type: <class 'collections.defaultdict'>\n",
      "\n",
      "Accessing a non-existent key:\n",
      "0\n"
     ]
    }
   ],
   "source": [
    "# Import defaultdict if not already imported\n",
    "from collections import defaultdict\n",
    "\n",
    "# Initialize defaultdict with a factory function\n",
    "initialized_defaultdict = defaultdict(int)\n",
    "\n",
    "# Using initialized defaultdict\n",
    "dict_default_dict = df.to_dict(into=initialized_defaultdict)\n",
    "print(\"Using initialized defaultdict:\")\n",
    "print(dict_default_dict)\n",
    "print(\"Type:\", type(dict_default_dict))\n",
    "\n",
    "# Demonstrate defaultdict behavior\n",
    "print(\"\\nAccessing a non-existent key:\")\n",
    "print(dict_default_dict.get('non_existent_key', 0))  # Safe access with get()"
   ]
  },
  {
   "cell_type": "markdown",
   "metadata": {},
   "source": [
    "### Working with a larger DataFrame"
   ]
  },
  {
   "cell_type": "code",
   "execution_count": 15,
   "metadata": {},
   "outputs": [
    {
     "name": "stdout",
     "output_type": "stream",
     "text": [
      "Larger DataFrame:\n",
      "      name  age  salary department\n",
      "0    Alice   25   50000         HR\n",
      "1      Bob   30   60000         IT\n",
      "2  Charlie   35   70000    Finance\n",
      "3    David   40   80000  Marketing\n",
      "4      Eve   45   90000      Sales\n"
     ]
    }
   ],
   "source": [
    "# Create a larger DataFrame\n",
    "df_large = pd.DataFrame({\n",
    "    'name': ['Alice', 'Bob', 'Charlie', 'David', 'Eve'],\n",
    "    'age': [25, 30, 35, 40, 45],\n",
    "    'salary': [50000, 60000, 70000, 80000, 90000],\n",
    "    'department': ['HR', 'IT', 'Finance', 'Marketing', 'Sales']\n",
    "})\n",
    "\n",
    "print(\"Larger DataFrame:\")\n",
    "print(df_large)"
   ]
  },
  {
   "cell_type": "code",
   "execution_count": 16,
   "metadata": {},
   "outputs": [
    {
     "name": "stdout",
     "output_type": "stream",
     "text": [
      "Records orientation:\n",
      "{'name': 'Alice', 'age': 25, 'salary': 50000, 'department': 'HR'}\n",
      "{'name': 'Bob', 'age': 30, 'salary': 60000, 'department': 'IT'}\n",
      "{'name': 'Charlie', 'age': 35, 'salary': 70000, 'department': 'Finance'}\n",
      "{'name': 'David', 'age': 40, 'salary': 80000, 'department': 'Marketing'}\n",
      "{'name': 'Eve', 'age': 45, 'salary': 90000, 'department': 'Sales'}\n"
     ]
    }
   ],
   "source": [
    "# Convert to dictionary with 'records' orientation\n",
    "records = df_large.to_dict(orient='records')\n",
    "print(\"Records orientation:\")\n",
    "for record in records:\n",
    "    print(record)"
   ]
  },
  {
   "cell_type": "code",
   "execution_count": 17,
   "metadata": {},
   "outputs": [
    {
     "name": "stdout",
     "output_type": "stream",
     "text": [
      "Index orientation:\n",
      "Row 0: {'name': 'Alice', 'age': 25, 'salary': 50000, 'department': 'HR'}\n",
      "Row 1: {'name': 'Bob', 'age': 30, 'salary': 60000, 'department': 'IT'}\n",
      "Row 2: {'name': 'Charlie', 'age': 35, 'salary': 70000, 'department': 'Finance'}\n",
      "Row 3: {'name': 'David', 'age': 40, 'salary': 80000, 'department': 'Marketing'}\n",
      "Row 4: {'name': 'Eve', 'age': 45, 'salary': 90000, 'department': 'Sales'}\n"
     ]
    }
   ],
   "source": [
    "# Convert to dictionary with 'index' orientation\n",
    "index_dict = df_large.to_dict(orient='index')\n",
    "print(\"Index orientation:\")\n",
    "for idx, row_dict in index_dict.items():\n",
    "    print(f\"Row {idx}: {row_dict}\")"
   ]
  },
  {
   "cell_type": "markdown",
   "metadata": {},
   "source": [
    "### Working with a DataFrame containing different data types"
   ]
  },
  {
   "cell_type": "code",
   "execution_count": 18,
   "metadata": {},
   "outputs": [
    {
     "name": "stdout",
     "output_type": "stream",
     "text": [
      "DataFrame with different data types:\n",
      "  string  integer  float  boolean   datetime category   complex    object\n",
      "0      a        1    1.1     True 2020-01-01        X  1.0+2.0j  {'a': 1}\n",
      "1      b        2    2.2    False 2020-01-02        Y  3.0+4.0j  {'b': 2}\n",
      "2      c        3    3.3     True 2020-01-03        Z  5.0+6.0j  {'c': 3}\n",
      "\n",
      "Data types:\n",
      "string              object\n",
      "integer              int64\n",
      "float              float64\n",
      "boolean               bool\n",
      "datetime    datetime64[ns]\n",
      "category          category\n",
      "complex         complex128\n",
      "object              object\n",
      "dtype: object\n"
     ]
    }
   ],
   "source": [
    "# Create a DataFrame with different data types\n",
    "df_types = pd.DataFrame({\n",
    "    'string': ['a', 'b', 'c'],\n",
    "    'integer': [1, 2, 3],\n",
    "    'float': [1.1, 2.2, 3.3],\n",
    "    'boolean': [True, False, True],\n",
    "    'datetime': pd.date_range('2020-01-01', periods=3),\n",
    "    'category': pd.Categorical(['X', 'Y', 'Z']),\n",
    "    'complex': [1+2j, 3+4j, 5+6j],\n",
    "    'object': [{'a': 1}, {'b': 2}, {'c': 3}]\n",
    "})\n",
    "\n",
    "print(\"DataFrame with different data types:\")\n",
    "print(df_types)\n",
    "print(\"\\nData types:\")\n",
    "print(df_types.dtypes)"
   ]
  },
  {
   "cell_type": "code",
   "execution_count": 19,
   "metadata": {},
   "outputs": [
    {
     "name": "stdout",
     "output_type": "stream",
     "text": [
      "Dictionary with different data types:\n",
      "string: {0: 'a', 1: 'b', 2: 'c'}\n",
      "integer: {0: 1, 1: 2, 2: 3}\n",
      "float: {0: 1.1, 1: 2.2, 2: 3.3}\n",
      "boolean: {0: True, 1: False, 2: True}\n",
      "datetime: {0: Timestamp('2020-01-01 00:00:00'), 1: Timestamp('2020-01-02 00:00:00'), 2: Timestamp('2020-01-03 00:00:00')}\n",
      "category: {0: 'X', 1: 'Y', 2: 'Z'}\n",
      "complex: {0: (1+2j), 1: (3+4j), 2: (5+6j)}\n",
      "object: {0: {'a': 1}, 1: {'b': 2}, 2: {'c': 3}}\n"
     ]
    }
   ],
   "source": [
    "# Convert to dictionary with 'dict' orientation\n",
    "types_dict = df_types.to_dict()\n",
    "print(\"Dictionary with different data types:\")\n",
    "for col, values in types_dict.items():\n",
    "    print(f\"{col}: {values}\")"
   ]
  },
  {
   "cell_type": "markdown",
   "metadata": {},
   "source": [
    "### Practical example: Converting to and from dictionary"
   ]
  },
  {
   "cell_type": "code",
   "execution_count": 20,
   "metadata": {},
   "outputs": [
    {
     "name": "stdout",
     "output_type": "stream",
     "text": [
      "Original DataFrame:\n",
      "   A  B  C\n",
      "0  1  4  7\n",
      "1  2  5  8\n",
      "2  3  6  9\n"
     ]
    }
   ],
   "source": [
    "# Create a DataFrame\n",
    "df_original = pd.DataFrame({\n",
    "    'A': [1, 2, 3],\n",
    "    'B': [4, 5, 6],\n",
    "    'C': [7, 8, 9]\n",
    "})\n",
    "\n",
    "print(\"Original DataFrame:\")\n",
    "print(df_original)"
   ]
  },
  {
   "cell_type": "code",
   "execution_count": 21,
   "metadata": {},
   "outputs": [
    {
     "name": "stdout",
     "output_type": "stream",
     "text": [
      "Dictionary with 'split' orientation:\n",
      "{'index': [0, 1, 2], 'columns': ['A', 'B', 'C'], 'data': [[1, 4, 7], [2, 5, 8], [3, 6, 9]]}\n"
     ]
    }
   ],
   "source": [
    "# Convert to dictionary with 'split' orientation\n",
    "dict_split = df_original.to_dict(orient='split')\n",
    "print(\"Dictionary with 'split' orientation:\")\n",
    "print(dict_split)"
   ]
  },
  {
   "cell_type": "code",
   "execution_count": 22,
   "metadata": {},
   "outputs": [
    {
     "name": "stdout",
     "output_type": "stream",
     "text": [
      "Reconstructed DataFrame:\n",
      "   A  B  C\n",
      "0  1  4  7\n",
      "1  2  5  8\n",
      "2  3  6  9\n",
      "\n",
      "Is the reconstructed DataFrame identical to the original?\n",
      "True\n"
     ]
    }
   ],
   "source": [
    "# Convert back to DataFrame\n",
    "df_reconstructed = pd.DataFrame(**dict_split)\n",
    "print(\"Reconstructed DataFrame:\")\n",
    "print(df_reconstructed)\n",
    "\n",
    "# Check if the reconstructed DataFrame is identical to the original\n",
    "print(\"\\nIs the reconstructed DataFrame identical to the original?\")\n",
    "print(df_original.equals(df_reconstructed))"
   ]
  },
  {
   "cell_type": "code",
   "execution_count": 23,
   "metadata": {},
   "outputs": [
    {
     "name": "stdout",
     "output_type": "stream",
     "text": [
      "Dictionary with 'records' orientation:\n",
      "[{'A': 1, 'B': 4, 'C': 7}, {'A': 2, 'B': 5, 'C': 8}, {'A': 3, 'B': 6, 'C': 9}]\n"
     ]
    }
   ],
   "source": [
    "# Convert to dictionary with 'records' orientation\n",
    "dict_records = df_original.to_dict(orient='records')\n",
    "print(\"Dictionary with 'records' orientation:\")\n",
    "print(dict_records)"
   ]
  },
  {
   "cell_type": "code",
   "execution_count": 24,
   "metadata": {},
   "outputs": [
    {
     "name": "stdout",
     "output_type": "stream",
     "text": [
      "DataFrame from records:\n",
      "   A  B  C\n",
      "0  1  4  7\n",
      "1  2  5  8\n",
      "2  3  6  9\n",
      "\n",
      "Is the reconstructed DataFrame identical to the original?\n",
      "True\n"
     ]
    }
   ],
   "source": [
    "# Convert back to DataFrame\n",
    "df_from_records = pd.DataFrame(dict_records)\n",
    "print(\"DataFrame from records:\")\n",
    "print(df_from_records)\n",
    "\n",
    "# Check if the reconstructed DataFrame is identical to the original\n",
    "print(\"\\nIs the reconstructed DataFrame identical to the original?\")\n",
    "print(df_original.equals(df_from_records))"
   ]
  },
  {
   "cell_type": "markdown",
   "metadata": {},
   "source": [
    "##### Summary\n",
    "\n",
    "In this notebook, we've explored the `to_dict()` method of pandas DataFrame, which converts a DataFrame to a dictionary. We've covered:\n",
    "\n",
    "1. **Different orientation options**:\n",
    "   - `'dict'` (default): `{column -> {index -> value}}`\n",
    "   - `'list'`: `{column -> [values]}`\n",
    "   - `'series'`: `{column -> Series(values)}`\n",
    "   - `'split'`: `{'index' -> [index], 'columns' -> [columns], 'data' -> [values]}`\n",
    "   - `'records'`: `[{column -> value}, ..., {column -> value}]`\n",
    "   - `'index'`: `{index -> {column -> value}}`\n",
    "\n",
    "2. **Using abbreviations** for orientation parameters, such as 's' for 'series' and 'sp' for 'split'.\n",
    "\n",
    "3. **Using different dictionary types** with the `into` parameter, such as `OrderedDict` and `defaultdict`.\n",
    "\n",
    "4. **Working with different data types** and how they are preserved in the resulting dictionary.\n",
    "\n",
    "5. **Converting back and forth** between DataFrames and dictionaries.\n",
    "\n",
    "The `to_dict()` method is particularly useful for:\n",
    "- Serializing DataFrames to JSON or other formats\n",
    "- Interfacing with APIs that expect dictionary data\n",
    "- Converting DataFrame data for use in other Python libraries\n",
    "- Creating custom data structures based on DataFrame data"
   ]
  },
  {
   "cell_type": "markdown",
   "metadata": {},
   "source": []
  },
  {
   "cell_type": "markdown",
   "metadata": {},
   "source": []
  }
 ],
 "metadata": {
  "kernelspec": {
   "display_name": "venv",
   "language": "python",
   "name": "python3"
  },
  "language_info": {
   "codemirror_mode": {
    "name": "ipython",
    "version": 3
   },
   "file_extension": ".py",
   "mimetype": "text/x-python",
   "name": "python",
   "nbconvert_exporter": "python",
   "pygments_lexer": "ipython3",
   "version": "3.13.2"
  }
 },
 "nbformat": 4,
 "nbformat_minor": 4
}
