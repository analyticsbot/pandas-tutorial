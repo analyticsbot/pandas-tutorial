{
 "cells": [
  {
   "cell_type": "markdown",
   "metadata": {},
   "source": [
    "#### Pandas Tutorial - Part 67: DataFrame.to_dict()\n",
    "\n",
    "This notebook covers the `to_dict()` method, which converts a DataFrame to a dictionary with various orientation options."
   ]
  },
  {
   "cell_type": "code",
   "execution_count": null,
   "metadata": {},
   "outputs": [],
   "source": [
    "import pandas as pd\n",
    "import numpy as np\n",
    "from collections import defaultdict, OrderedDict\n",
    "\n",
    "# Set display options\n",
    "pd.set_option('display.max_columns', None)\n",
    "pd.set_option('display.expand_frame_repr', False)"
   ]
  },
  {
   "cell_type": "markdown",
   "metadata": {},
   "source": [
    "##### DataFrame.to_dict()\n",
    "\n",
    "The `to_dict()` method converts a DataFrame to a dictionary. The structure of the resulting dictionary depends on the `orient` parameter, which determines how the DataFrame's data is organized in the dictionary."
   ]
  },
  {
   "cell_type": "code",
   "execution_count": null,
   "metadata": {},
   "outputs": [],
   "source": [
    "# Create a sample DataFrame\n",
    "df = pd.DataFrame({\n",
    "    'col1': [1, 2],\n",
    "    'col2': [0.5, 0.75]\n",
    "}, index=['row1', 'row2'])\n",
    "\n",
    "print(\"Sample DataFrame:\")\n",
    "print(df)"
   ]
  },
  {
   "cell_type": "markdown",
   "metadata": {},
   "source": [
    "### Default orientation: 'dict'\n",
    "\n",
    "By default, `to_dict()` uses the 'dict' orientation, which creates a dictionary with column names as keys and nested dictionaries as values. The nested dictionaries have index values as keys and cell values as values."
   ]
  },
  {
   "cell_type": "code",
   "execution_count": null,
   "metadata": {},
   "outputs": [],
   "source": [
    "# Default orientation: 'dict'\n",
    "dict_default = df.to_dict()\n",
    "print(\"Default orientation ('dict'):\")\n",
    "print(dict_default)"
   ]
  },
  {
   "cell_type": "markdown",
   "metadata": {},
   "source": [
    "### Orientation: 'list'\n",
    "\n",
    "The 'list' orientation creates a dictionary with column names as keys and lists of values as values."
   ]
  },
  {
   "cell_type": "code",
   "execution_count": null,
   "metadata": {},
   "outputs": [],
   "source": [
    "# Orientation: 'list'\n",
    "dict_list = df.to_dict(orient='list')\n",
    "print(\"Orientation 'list':\")\n",
    "print(dict_list)"
   ]
  },
  {
   "cell_type": "markdown",
   "metadata": {},
   "source": [
    "### Orientation: 'series'\n",
    "\n",
    "The 'series' orientation creates a dictionary with column names as keys and Series objects as values."
   ]
  },
  {
   "cell_type": "code",
   "execution_count": null,
   "metadata": {},
   "outputs": [],
   "source": [
    "# Orientation: 'series'\n",
    "dict_series = df.to_dict(orient='series')\n",
    "print(\"Orientation 'series':\")\n",
    "print(dict_series)\n",
    "\n",
    "# Demonstrate that the values are Series objects\n",
    "print(\"\\nType of the first value:\", type(dict_series['col1']))\n",
    "print(\"\\nAccessing the first Series:\")\n",
    "print(dict_series['col1'])"
   ]
  },
  {
   "cell_type": "markdown",
   "metadata": {},
   "source": [
    "### Orientation: 'split'\n",
    "\n",
    "The 'split' orientation creates a dictionary with keys 'index', 'columns', and 'data', containing the index values, column names, and data values respectively."
   ]
  },
  {
   "cell_type": "code",
   "execution_count": null,
   "metadata": {},
   "outputs": [],
   "source": [
    "# Orientation: 'split'\n",
    "dict_split = df.to_dict(orient='split')\n",
    "print(\"Orientation 'split':\")\n",
    "print(dict_split)"
   ]
  },
  {
   "cell_type": "markdown",
   "metadata": {},
   "source": [
    "### Orientation: 'records'\n",
    "\n",
    "The 'records' orientation creates a list of dictionaries, where each dictionary represents a row in the DataFrame with column names as keys."
   ]
  },
  {
   "cell_type": "code",
   "execution_count": null,
   "metadata": {},
   "outputs": [],
   "source": [
    "# Orientation: 'records'\n",
    "dict_records = df.to_dict(orient='records')\n",
    "print(\"Orientation 'records':\")\n",
    "print(dict_records)"
   ]
  },
  {
   "cell_type": "markdown",
   "metadata": {},
   "source": [
    "### Orientation: 'index'\n",
    "\n",
    "The 'index' orientation creates a dictionary with index values as keys and dictionaries of column-value pairs as values."
   ]
  },
  {
   "cell_type": "code",
   "execution_count": null,
   "metadata": {},
   "outputs": [],
   "source": [
    "# Orientation: 'index'\n",
    "dict_index = df.to_dict(orient='index')\n",
    "print(\"Orientation 'index':\")\n",
    "print(dict_index)"
   ]
  },
  {
   "cell_type": "markdown",
   "metadata": {},
   "source": [
    "### Using abbreviations for orientation\n",
    "\n",
    "Pandas allows using abbreviations for the orientation parameter. For example, 's' for 'series' and 'sp' for 'split'."
   ]
  },
  {
   "cell_type": "code",
   "execution_count": null,
   "metadata": {},
   "outputs": [],
   "source": [
    "# Using abbreviation 's' for 'series'\n",
    "dict_s = df.to_dict(orient='s')\n",
    "print(\"Abbreviation 's' for 'series':\")\n",
    "print(dict_s)\n",
    "\n",
    "# Using abbreviation 'sp' for 'split'\n",
    "dict_sp = df.to_dict(orient='sp')\n",
    "print(\"\\nAbbreviation 'sp' for 'split':\")\n",
    "print(dict_sp)"
   ]
  },
  {
   "cell_type": "markdown",
   "metadata": {},
   "source": [
    "### Using different dictionary types with the 'into' parameter\n",
    "\n",
    "The `into` parameter allows specifying a different dictionary type to use for the result. This can be any subclass of `collections.abc.Mapping`."
   ]
  },
  {
   "cell_type": "code",
   "execution_count": null,
   "metadata": {},
   "outputs": [],
   "source": [
    "# Using OrderedDict\n",
    "dict_ordered = df.to_dict(into=OrderedDict)\n",
    "print(\"Using OrderedDict:\")\n",
    "print(dict_ordered)\n",
    "print(\"Type:\", type(dict_ordered))"
   ]
  },
  {
   "cell_type": "code",
   "execution_count": null,
   "metadata": {},
   "outputs": [],
   "source": [
    "# Using defaultdict\n",
    "# Note: defaultdict must be initialized with a factory function\n",
    "dict_default_dict = df.to_dict(into=lambda: defaultdict(int))\n",
    "print(\"Using defaultdict:\")\n",
    "print(dict_default_dict)\n",
    "print(\"Type:\", type(dict_default_dict))\n",
    "\n",
    "# Demonstrate defaultdict behavior\n",
    "print(\"\\nAccessing a non-existent key in the first nested dictionary:\")\n",
    "print(dict_default_dict['col1']['non_existent_key'])  # Returns 0 (default value for int)"
   ]
  },
  {
   "cell_type": "markdown",
   "metadata": {},
   "source": [
    "### Working with a larger DataFrame"
   ]
  },
  {
   "cell_type": "code",
   "execution_count": null,
   "metadata": {},
   "outputs": [],
   "source": [
    "# Create a larger DataFrame\n",
    "df_large = pd.DataFrame({\n",
    "    'name': ['Alice', 'Bob', 'Charlie', 'David', 'Eve'],\n",
    "    'age': [25, 30, 35, 40, 45],\n",
    "    'salary': [50000, 60000, 70000, 80000, 90000],\n",
    "    'department': ['HR', 'IT', 'Finance', 'Marketing', 'Sales']\n",
    "})\n",
    "\n",
    "print(\"Larger DataFrame:\")\n",
    "print(df_large)"
   ]
  },
  {
   "cell_type": "code",
   "execution_count": null,
   "metadata": {},
   "outputs": [],
   "source": [
    "# Convert to dictionary with 'records' orientation\n",
    "records = df_large.to_dict(orient='records')\n",
    "print(\"Records orientation:\")\n",
    "for record in records:\n",
    "    print(record)"
   ]
  },
  {
   "cell_type": "code",
   "execution_count": null,
   "metadata": {},
   "outputs": [],
   "source": [
    "# Convert to dictionary with 'index' orientation\n",
    "index_dict = df_large.to_dict(orient='index')\n",
    "print(\"Index orientation:\")\n",
    "for idx, row_dict in index_dict.items():\n",
    "    print(f\"Row {idx}: {row_dict}\")"
   ]
  },
  {
   "cell_type": "markdown",
   "metadata": {},
   "source": [
    "### Working with a DataFrame containing different data types"
   ]
  },
  {
   "cell_type": "code",
   "execution_count": null,
   "metadata": {},
   "outputs": [],
   "source": [
    "# Create a DataFrame with different data types\n",
    "df_types = pd.DataFrame({\n",
    "    'string': ['a', 'b', 'c'],\n",
    "    'integer': [1, 2, 3],\n",
    "    'float': [1.1, 2.2, 3.3],\n",
    "    'boolean': [True, False, True],\n",
    "    'datetime': pd.date_range('2020-01-01', periods=3),\n",
    "    'category': pd.Categorical(['X', 'Y', 'Z']),\n",
    "    'complex': [1+2j, 3+4j, 5+6j],\n",
    "    'object': [{'a': 1}, {'b': 2}, {'c': 3}]\n",
    "})\n",
    "\n",
    "print(\"DataFrame with different data types:\")\n",
    "print(df_types)\n",
    "print(\"\\nData types:\")\n",
    "print(df_types.dtypes)"
   ]
  },
  {
   "cell_type": "code",
   "execution_count": null,
   "metadata": {},
   "outputs": [],
   "source": [
    "# Convert to dictionary with 'dict' orientation\n",
    "types_dict = df_types.to_dict()\n",
    "print(\"Dictionary with different data types:\")\n",
    "for col, values in types_dict.items():\n",
    "    print(f\"{col}: {values}\")"
   ]
  },
  {
   "cell_type": "markdown",
   "metadata": {},
   "source": [
    "### Practical example: Converting to and from dictionary"
   ]
  },
  {
   "cell_type": "code",
   "execution_count": null,
   "metadata": {},
   "outputs": [],
   "source": [
    "# Create a DataFrame\n",
    "df_original = pd.DataFrame({\n",
    "    'A': [1, 2, 3],\n",
    "    'B': [4, 5, 6],\n",
    "    'C': [7, 8, 9]\n",
    "})\n",
    "\n",
    "print(\"Original DataFrame:\")\n",
    "print(df_original)"
   ]
  },
  {
   "cell_type": "code",
   "execution_count": null,
   "metadata": {},
   "outputs": [],
   "source": [
    "# Convert to dictionary with 'split' orientation\n",
    "dict_split = df_original.to_dict(orient='split')\n",
    "print(\"Dictionary with 'split' orientation:\")\n",
    "print(dict_split)"
   ]
  },
  {
   "cell_type": "code",
   "execution_count": null,
   "metadata": {},
   "outputs": [],
   "source": [
    "# Convert back to DataFrame\n",
    "df_reconstructed = pd.DataFrame(**dict_split)\n",
    "print(\"Reconstructed DataFrame:\")\n",
    "print(df_reconstructed)\n",
    "\n",
    "# Check if the reconstructed DataFrame is identical to the original\n",
    "print(\"\\nIs the reconstructed DataFrame identical to the original?\")\n",
    "print(df_original.equals(df_reconstructed))"
   ]
  },
  {
   "cell_type": "code",
   "execution_count": null,
   "metadata": {},
   "outputs": [],
   "source": [
    "# Convert to dictionary with 'records' orientation\n",
    "dict_records = df_original.to_dict(orient='records')\n",
    "print(\"Dictionary with 'records' orientation:\")\n",
    "print(dict_records)"
   ]
  },
  {
   "cell_type": "code",
   "execution_count": null,
   "metadata": {},
   "outputs": [],
   "source": [
    "# Convert back to DataFrame\n",
    "df_from_records = pd.DataFrame(dict_records)\n",
    "print(\"DataFrame from records:\")\n",
    "print(df_from_records)\n",
    "\n",
    "# Check if the reconstructed DataFrame is identical to the original\n",
    "print(\"\\nIs the reconstructed DataFrame identical to the original?\")\n",
    "print(df_original.equals(df_from_records))"
   ]
  },
  {
   "cell_type": "markdown",
   "metadata": {},
   "source": [
    "##### Summary\n",
    "\n",
    "In this notebook, we've explored the `to_dict()` method of pandas DataFrame, which converts a DataFrame to a dictionary. We've covered:\n",
    "\n",
    "1. **Different orientation options**:\n",
    "   - `'dict'` (default): `{column -> {index -> value}}`\n",
    "   - `'list'`: `{column -> [values]}`\n",
    "   - `'series'`: `{column -> Series(values)}`\n",
    "   - `'split'`: `{'index' -> [index], 'columns' -> [columns], 'data' -> [values]}`\n",
    "   - `'records'`: `[{column -> value}, ..., {column -> value}]`\n",
    "   - `'index'`: `{index -> {column -> value}}`\n",
    "\n",
    "2. **Using abbreviations** for orientation parameters, such as 's' for 'series' and 'sp' for 'split'.\n",
    "\n",
    "3. **Using different dictionary types** with the `into` parameter, such as `OrderedDict` and `defaultdict`.\n",
    "\n",
    "4. **Working with different data types** and how they are preserved in the resulting dictionary.\n",
    "\n",
    "5. **Converting back and forth** between DataFrames and dictionaries.\n",
    "\n",
    "The `to_dict()` method is particularly useful for:\n",
    "- Serializing DataFrames to JSON or other formats\n",
    "- Interfacing with APIs that expect dictionary data\n",
    "- Converting DataFrame data for use in other Python libraries\n",
    "- Creating custom data structures based on DataFrame data"
   ]
  }
 ],
 "metadata": {
  "kernelspec": {
   "display_name": "Python 3",
   "language": "python",
   "name": "python3"
  },
  "language_info": {
   "codemirror_mode": {
    "name": "ipython",
    "version": 3
   },
   "file_extension": ".py",
   "mimetype": "text/x-python",
   "name": "python",
   "nbconvert_exporter": "python",
   "pygments_lexer": "ipython3",
   "version": "3.8.5"
  }
 },
 "nbformat": 4,
 "nbformat_minor": 4
}