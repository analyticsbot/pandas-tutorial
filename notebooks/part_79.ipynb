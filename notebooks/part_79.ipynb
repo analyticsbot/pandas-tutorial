{
 "cells": [
  {
   "cell_type": "markdown",
   "metadata": {},
   "source": [
    "#### Pandas Part 79: DatetimeIndex Operations and DateOffset\n",
    "\n",
    "This notebook explores additional operations with DatetimeIndex and introduces DateOffset classes."
   ]
  },
  {
   "cell_type": "code",
   "execution_count": null,
   "metadata": {},
   "outputs": [],
   "source": [
    "import pandas as pd\n",
    "import numpy as np\n",
    "from datetime import datetime, time, timedelta"
   ]
  },
  {
   "cell_type": "markdown",
   "metadata": {},
   "source": [
    "##### 1. Additional DatetimeIndex Properties\n",
    "\n",
    "Let's explore more properties available on DatetimeIndex objects."
   ]
  },
  {
   "cell_type": "code",
   "execution_count": null,
   "metadata": {},
   "outputs": [],
   "source": [
    "# Create a DatetimeIndex\n",
    "dates = pd.date_range(start='2023-01-01', end='2023-12-31', freq='M')\n",
    "print(f\"DatetimeIndex: {dates}\")\n",
    "\n",
    "# Check if dates are month start\n",
    "print(f\"\\nIs month start: {dates.is_month_start}\")\n",
    "\n",
    "# Check if dates are month end\n",
    "print(f\"Is month end: {dates.is_month_end}\")\n",
    "\n",
    "# Check if dates are quarter start\n",
    "print(f\"Is quarter start: {dates.is_quarter_start}\")\n",
    "\n",
    "# Check if dates are quarter end\n",
    "print(f\"Is quarter end: {dates.is_quarter_end}\")\n",
    "\n",
    "# Check if dates are year start\n",
    "print(f\"Is year start: {dates.is_year_start}\")\n",
    "\n",
    "# Check if dates are year end\n",
    "print(f\"Is year end: {dates.is_year_end}\")\n",
    "\n",
    "# Check if dates belong to leap year\n",
    "print(f\"Is leap year: {dates.is_leap_year}\")"
   ]
  },
  {
   "cell_type": "code",
   "execution_count": null,
   "metadata": {},
   "outputs": [],
   "source": [
    "# Create a DatetimeIndex with a specific frequency\n",
    "dates = pd.date_range(start='2023-01-01', periods=5, freq='D')\n",
    "print(f\"DatetimeIndex: {dates}\")\n",
    "\n",
    "# Get the frequency\n",
    "print(f\"\\nFrequency: {dates.freq}\")\n",
    "print(f\"Frequency as string: {dates.freqstr}\")\n",
    "\n",
    "# Create a DatetimeIndex without a specific frequency\n",
    "dates = pd.DatetimeIndex(['2023-01-01', '2023-01-02', '2023-01-04', '2023-01-07'])\n",
    "print(f\"\\nDatetimeIndex without explicit frequency: {dates}\")\n",
    "print(f\"Frequency: {dates.freq}\")\n",
    "\n",
    "# Try to infer the frequency\n",
    "print(f\"Inferred frequency: {dates.inferred_freq}\")"
   ]
  },
  {
   "cell_type": "markdown",
   "metadata": {},
   "source": [
    "##### 2. Time-Specific Selection Methods\n",
    "\n",
    "DatetimeIndex provides methods for selecting data at specific times of day."
   ]
  },
  {
   "cell_type": "markdown",
   "metadata": {},
   "source": [
    "### indexer_at_time Method\n",
    "\n",
    "The `indexer_at_time` method returns index locations of index values at a particular time of day."
   ]
  },
  {
   "cell_type": "code",
   "execution_count": null,
   "metadata": {},
   "outputs": [],
   "source": [
    "# Create a DatetimeIndex with different times\n",
    "dates = pd.date_range(start='2023-01-01 00:00:00', periods=24, freq='H')\n",
    "print(f\"DatetimeIndex with hourly data:\")\n",
    "print(dates)\n",
    "\n",
    "# Get indices for a specific time\n",
    "indices = dates.indexer_at_time(time(9, 0))  # 9:00 AM\n",
    "print(f\"\\nIndices for 9:00 AM: {indices}\")\n",
    "print(f\"Values at 9:00 AM: {dates[indices]}\")\n",
    "\n",
    "# Get indices using string format\n",
    "indices = dates.indexer_at_time('12:00')\n",
    "print(f\"\\nIndices for 12:00 PM: {indices}\")\n",
    "print(f\"Values at 12:00 PM: {dates[indices]}\")"
   ]
  },
  {
   "cell_type": "code",
   "execution_count": null,
   "metadata": {},
   "outputs": [],
   "source": [
    "# Create a DataFrame with hourly data\n",
    "dates = pd.date_range(start='2023-01-01 00:00:00', periods=48, freq='H')\n",
    "df = pd.DataFrame({'value': np.random.randn(48)}, index=dates)\n",
    "print(\"DataFrame with hourly data:\")\n",
    "print(df.head())\n",
    "\n",
    "# Select data at 9:00 AM\n",
    "indices = dates.indexer_at_time('9:00')\n",
    "at_9am = df.iloc[indices]\n",
    "print(\"\\nData at 9:00 AM:\")\n",
    "print(at_9am)"
   ]
  },
  {
   "cell_type": "markdown",
   "metadata": {},
   "source": [
    "### indexer_between_time Method\n",
    "\n",
    "The `indexer_between_time` method returns index locations of values between particular times of day."
   ]
  },
  {
   "cell_type": "code",
   "execution_count": null,
   "metadata": {},
   "outputs": [],
   "source": [
    "# Create a DatetimeIndex with different times\n",
    "dates = pd.date_range(start='2023-01-01 00:00:00', periods=24, freq='H')\n",
    "print(f\"DatetimeIndex with hourly data:\")\n",
    "print(dates)\n",
    "\n",
    "# Get indices for times between 9:00 AM and 12:00 PM\n",
    "indices = dates.indexer_between_time(time(9, 0), time(12, 0))\n",
    "print(f\"\\nIndices between 9:00 AM and 12:00 PM: {indices}\")\n",
    "print(f\"Values between 9:00 AM and 12:00 PM: {dates[indices]}\")\n",
    "\n",
    "# Get indices using string format, excluding end time\n",
    "indices = dates.indexer_between_time('13:00', '17:00', include_end=False)\n",
    "print(f\"\\nIndices between 1:00 PM and 5:00 PM (excluding 5:00 PM): {indices}\")\n",
    "print(f\"Values between 1:00 PM and 5:00 PM (excluding 5:00 PM): {dates[indices]}\")"
   ]
  },
  {
   "cell_type": "code",
   "execution_count": null,
   "metadata": {},
   "outputs": [],
   "source": [
    "# Create a DataFrame with hourly data for multiple days\n",
    "dates = pd.date_range(start='2023-01-01 00:00:00', periods=72, freq='H')\n",
    "df = pd.DataFrame({'value': np.random.randn(72)}, index=dates)\n",
    "print(\"DataFrame with hourly data:\")\n",
    "print(df.head())\n",
    "\n",
    "# Select data between 9:00 AM and 5:00 PM (business hours)\n",
    "indices = dates.indexer_between_time('9:00', '17:00')\n",
    "business_hours = df.iloc[indices]\n",
    "print(\"\\nData during business hours (9:00 AM - 5:00 PM):\")\n",
    "print(business_hours.head())"
   ]
  },
  {
   "cell_type": "markdown",
   "metadata": {},
   "source": [
    "##### 3. Time-Specific Operations\n",
    "\n",
    "DatetimeIndex provides methods for manipulating datetime values."
   ]
  },
  {
   "cell_type": "markdown",
   "metadata": {},
   "source": [
    "### normalize Method\n",
    "\n",
    "The `normalize` method converts times to midnight."
   ]
  },
  {
   "cell_type": "code",
   "execution_count": null,
   "metadata": {},
   "outputs": [],
   "source": [
    "# Create a DatetimeIndex with different times\n",
    "dates = pd.DatetimeIndex(['2023-01-01 12:30:45', '2023-01-02 09:15:30', '2023-01-03 18:45:15'])\n",
    "print(f\"Original DatetimeIndex: {dates}\")\n",
    "\n",
    "# Normalize to midnight\n",
    "normalized = dates.normalize()\n",
    "print(f\"\\nNormalized DatetimeIndex: {normalized}\")"
   ]
  },
  {
   "cell_type": "markdown",
   "metadata": {},
   "source": [
    "### strftime Method\n",
    "\n",
    "The `strftime` method converts datetime values to strings using a specified format."
   ]
  },
  {
   "cell_type": "code",
   "execution_count": null,
   "metadata": {},
   "outputs": [],
   "source": [
    "# Create a DatetimeIndex\n",
    "dates = pd.DatetimeIndex(['2023-01-01 12:30:45', '2023-01-02 09:15:30', '2023-01-03 18:45:15'])\n",
    "print(f\"DatetimeIndex: {dates}\")\n",
    "\n",
    "# Format as YYYY-MM-DD\n",
    "formatted = dates.strftime('%Y-%m-%d')\n",
    "print(f\"\\nFormatted as YYYY-MM-DD: {formatted}\")\n",
    "\n",
    "# Format as MM/DD/YYYY HH:MM:SS\n",
    "formatted = dates.strftime('%m/%d/%Y %H:%M:%S')\n",
    "print(f\"\\nFormatted as MM/DD/YYYY HH:MM:SS: {formatted}\")\n",
    "\n",
    "# Format with day name and month name\n",
    "formatted = dates.strftime('%A, %B %d, %Y')\n",
    "print(f\"\\nFormatted with day and month names: {formatted}\")"
   ]
  },
  {
   "cell_type": "markdown",
   "metadata": {},
   "source": [
    "##### 4. DateOffset\n",
    "\n",
    "DateOffset is a class for representing date offsets in pandas. It's similar to datetime.timedelta but more flexible for calendar-based operations."
   ]
  },
  {
   "cell_type": "code",
   "execution_count": null,
   "metadata": {},
   "outputs": [],
   "source": [
    "# Import DateOffset\n",
    "from pandas.tseries.offsets import DateOffset\n",
    "\n",
    "# Create a DateOffset\n",
    "offset = DateOffset(days=1)\n",
    "print(f\"DateOffset: {offset}\")\n",
    "\n",
    "# Apply to a datetime\n",
    "dt = datetime(2023, 1, 1)\n",
    "print(f\"Original datetime: {dt}\")\n",
    "print(f\"After adding offset: {dt + offset}\")\n",
    "\n",
    "# Create a more complex DateOffset\n",
    "offset = DateOffset(years=1, months=2, days=3, hours=4, minutes=5, seconds=6)\n",
    "print(f\"\\nComplex DateOffset: {offset}\")\n",
    "print(f\"After adding complex offset: {dt + offset}\")"
   ]
  },
  {
   "cell_type": "markdown",
   "metadata": {},
   "source": [
    "### DateOffset Methods"
   ]
  },
  {
   "cell_type": "code",
   "execution_count": null,
   "metadata": {},
   "outputs": [],
   "source": [
    "# Create a DateOffset\n",
    "offset = DateOffset(months=3)\n",
    "print(f\"DateOffset: {offset}\")\n",
    "\n",
    "# Check if the offset is anchored\n",
    "print(f\"Is anchored: {offset.isAnchored()}\")\n",
    "\n",
    "# Apply offset using __call__\n",
    "dt = datetime(2023, 1, 1)\n",
    "print(f\"\\nOriginal datetime: {dt}\")\n",
    "print(f\"After applying offset: {offset(dt)}\")"
   ]
  },
  {
   "cell_type": "markdown",
   "metadata": {},
   "source": [
    "##### 5. BusinessDay\n",
    "\n",
    "BusinessDay is a DateOffset subclass representing business days (Monday through Friday, excluding holidays)."
   ]
  },
  {
   "cell_type": "code",
   "execution_count": null,
   "metadata": {},
   "outputs": [],
   "source": [
    "# Import BusinessDay\n",
    "from pandas.tseries.offsets import BusinessDay\n",
    "\n",
    "# Create a BusinessDay offset\n",
    "bday = BusinessDay()\n",
    "print(f\"BusinessDay: {bday}\")\n",
    "\n",
    "# Apply to a datetime\n",
    "dt = datetime(2023, 1, 1)  # Sunday\n",
    "print(f\"Original datetime: {dt} ({dt.strftime('%A')})\")\n",
    "print(f\"After adding 1 business day: {dt + bday} ({(dt + bday).strftime('%A')})\")\n",
    "\n",
    "# Add multiple business days\n",
    "bday5 = BusinessDay(n=5)\n",
    "print(f\"\\nAfter adding 5 business days: {dt + bday5} ({(dt + bday5).strftime('%A')})\")"
   ]
  },
  {
   "cell_type": "markdown",
   "metadata": {},
   "source": [
    "### BusinessDay Properties and Methods"
   ]
  },
  {
   "cell_type": "code",
   "execution_count": null,
   "metadata": {},
   "outputs": [],
   "source": [
    "# Create a BusinessDay offset\n",
    "bday = BusinessDay(n=2)\n",
    "print(f\"BusinessDay: {bday}\")\n",
    "\n",
    "# Get the base (n=1)\n",
    "base = bday.base\n",
    "print(f\"Base: {base}\")\n",
    "\n",
    "# Get frequency string\n",
    "print(f\"Frequency string: {bday.freqstr}\")\n",
    "\n",
    "# Get name\n",
    "print(f\"Name: {bday.name}\")"
   ]
  },
  {
   "cell_type": "code",
   "execution_count": null,
   "metadata": {},
   "outputs": [],
   "source": [
    "# Create a BusinessDay offset\n",
    "bday = BusinessDay()\n",
    "\n",
    "# Test rollback method\n",
    "dt = datetime(2023, 1, 1)  # Sunday\n",
    "print(f\"Original datetime: {dt} ({dt.strftime('%A')})\")\n",
    "print(f\"After rollback: {bday.rollback(dt)} ({bday.rollback(dt).strftime('%A')})\")\n",
    "\n",
    "# Test rollforward method\n",
    "print(f\"After rollforward: {bday.rollforward(dt)} ({bday.rollforward(dt).strftime('%A')})\")\n",
    "\n",
    "# Test with a business day\n",
    "dt = datetime(2023, 1, 2)  # Monday\n",
    "print(f\"\\nOriginal datetime (business day): {dt} ({dt.strftime('%A')})\")\n",
    "print(f\"After rollback: {bday.rollback(dt)} ({bday.rollback(dt).strftime('%A')})\")\n",
    "print(f\"After rollforward: {bday.rollforward(dt)} ({bday.rollforward(dt).strftime('%A')})\")"
   ]
  },
  {
   "cell_type": "markdown",
   "metadata": {},
   "source": [
    "### Using BusinessDay with date_range"
   ]
  },
  {
   "cell_type": "code",
   "execution_count": null,
   "metadata": {},
   "outputs": [],
   "source": [
    "# Create a date range with business day frequency\n",
    "dates = pd.date_range(start='2023-01-01', periods=10, freq='B')\n",
    "print(f\"Date range with business day frequency:\")\n",
    "for date in dates:\n",
    "    print(f\"{date} ({date.strftime('%A')})\")"
   ]
  }
 ],
 "metadata": {
  "kernelspec": {
   "display_name": "Python 3",
   "language": "python",
   "name": "python3"
  },
  "language_info": {
   "codemirror_mode": {
    "name": "ipython",
    "version": 3
   },
   "file_extension": ".py",
   "mimetype": "text/x-python",
   "name": "python",
   "nbconvert_exporter": "python",
   "pygments_lexer": "ipython3",
   "version": "3.8.5"
  }
 },
 "nbformat": 4,
 "nbformat_minor": 4
}