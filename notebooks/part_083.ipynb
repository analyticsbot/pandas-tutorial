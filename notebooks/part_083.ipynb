{
 "cells": [
  {
   "cell_type": "markdown",
   "metadata": {},
   "source": [
    "#### Pandas Part 83: Year DateOffset Classes\n",
    "\n",
    "This notebook explores Year-related DateOffset classes in pandas, including YearBegin, YearEnd, and the special FY5253 class for fiscal years."
   ]
  },
  {
   "cell_type": "code",
   "execution_count": 1,
   "metadata": {},
   "outputs": [],
   "source": [
    "import pandas as pd\n",
    "import numpy as np\n",
    "from datetime import datetime, time, timedelta\n",
    "from pandas.tseries.offsets import (\n",
    "    YearBegin, YearEnd,\n",
    "    BYearBegin, BYearEnd,\n",
    "    FY5253, FY5253Quarter\n",
    ")"
   ]
  },
  {
   "cell_type": "markdown",
   "metadata": {},
   "source": [
    "##### 1. YearBegin and YearEnd\n",
    "\n",
    "The `YearBegin` and `YearEnd` classes are DateOffset subclasses representing the beginning and end of a year."
   ]
  },
  {
   "cell_type": "code",
   "execution_count": 2,
   "metadata": {},
   "outputs": [
    {
     "name": "stdout",
     "output_type": "stream",
     "text": [
      "YearBegin: <YearBegin: month=1>\n",
      "YearEnd: <YearEnd: month=12>\n",
      "\n",
      "Original datetime: 2023-06-15 00:00:00\n",
      "After adding YearBegin: 2024-01-01 00:00:00\n",
      "After adding YearEnd: 2023-12-31 00:00:00\n",
      "\n",
      "Original datetime (beginning of year): 2023-01-01 00:00:00\n",
      "After adding YearBegin: 2024-01-01 00:00:00\n",
      "After adding YearEnd: 2023-12-31 00:00:00\n",
      "\n",
      "Original datetime (end of year): 2023-12-31 00:00:00\n",
      "After adding YearBegin: 2024-01-01 00:00:00\n",
      "After adding YearEnd: 2024-12-31 00:00:00\n"
     ]
    }
   ],
   "source": [
    "# Create YearBegin and YearEnd offsets\n",
    "year_begin = YearBegin()\n",
    "year_end = YearEnd()\n",
    "print(f\"YearBegin: {year_begin}\")\n",
    "print(f\"YearEnd: {year_end}\")\n",
    "\n",
    "# Apply to a datetime\n",
    "dt = datetime(2023, 6, 15)  # Middle of the year\n",
    "print(f\"\\nOriginal datetime: {dt}\")\n",
    "print(f\"After adding YearBegin: {dt + year_begin}\")\n",
    "print(f\"After adding YearEnd: {dt + year_end}\")\n",
    "\n",
    "# Apply to the beginning of a year\n",
    "dt = datetime(2023, 1, 1)  # Beginning of the year\n",
    "print(f\"\\nOriginal datetime (beginning of year): {dt}\")\n",
    "print(f\"After adding YearBegin: {dt + year_begin}\")\n",
    "print(f\"After adding YearEnd: {dt + year_end}\")\n",
    "\n",
    "# Apply to the end of a year\n",
    "dt = datetime(2023, 12, 31)  # End of the year\n",
    "print(f\"\\nOriginal datetime (end of year): {dt}\")\n",
    "print(f\"After adding YearBegin: {dt + year_begin}\")\n",
    "print(f\"After adding YearEnd: {dt + year_end}\")"
   ]
  },
  {
   "cell_type": "markdown",
   "metadata": {},
   "source": [
    "### YearBegin and YearEnd Methods"
   ]
  },
  {
   "cell_type": "code",
   "execution_count": 4,
   "metadata": {},
   "outputs": [
    {
     "name": "stdout",
     "output_type": "stream",
     "text": [
      "YearBegin(n=2): <2 * YearBegins: month=1>\n",
      "YearEnd(n=2): <2 * YearEnds: month=12>\n",
      "\n",
      "Original datetime: 2023-06-15 00:00:00\n",
      "After applying YearBegin(n=2): 2025-01-01 00:00:00\n",
      "After applying YearEnd(n=2): 2024-12-31 00:00:00\n",
      "\n",
      "Original datetime: 2023-06-15 00:00:00\n",
      "Roll forward to year begin: 2024-01-01 00:00:00\n",
      "Roll back to year begin: 2023-01-01 00:00:00\n",
      "Roll forward to year end: 2023-12-31 00:00:00\n",
      "Roll back to year end: 2022-12-31 00:00:00\n"
     ]
    }
   ],
   "source": [
    "# Import necessary offsets if not already imported\n",
    "from pandas.tseries.offsets import YearBegin, YearEnd\n",
    "from datetime import datetime\n",
    "\n",
    "# Create YearBegin and YearEnd offsets with n=2\n",
    "year_begin = YearBegin(n=2)\n",
    "year_end = YearEnd(n=2)\n",
    "print(f\"YearBegin(n=2): {year_begin}\")\n",
    "print(f\"YearEnd(n=2): {year_end}\")\n",
    "\n",
    "# Apply to a datetime using addition\n",
    "dt = datetime(2023, 6, 15)\n",
    "print(f\"\\nOriginal datetime: {dt}\")\n",
    "print(f\"After applying YearBegin(n=2): {dt + year_begin}\")\n",
    "print(f\"After applying YearEnd(n=2): {dt + year_end}\")\n",
    "\n",
    "# Roll forward and backward\n",
    "dt = datetime(2023, 6, 15)\n",
    "print(f\"\\nOriginal datetime: {dt}\")\n",
    "print(f\"Roll forward to year begin: {YearBegin().rollforward(dt)}\")\n",
    "print(f\"Roll back to year begin: {YearBegin().rollback(dt)}\")\n",
    "print(f\"Roll forward to year end: {YearEnd().rollforward(dt)}\")\n",
    "print(f\"Roll back to year end: {YearEnd().rollback(dt)}\")"
   ]
  },
  {
   "cell_type": "code",
   "execution_count": 5,
   "metadata": {},
   "outputs": [
    {
     "name": "stdout",
     "output_type": "stream",
     "text": [
      "Is January 1st the beginning of a year? True\n",
      "Is December 31st the beginning of a year? False\n",
      "Is June 15th the beginning of a year? False\n",
      "\n",
      "Is January 1st the end of a year? False\n",
      "Is December 31st the end of a year? True\n",
      "Is June 15th the end of a year? False\n"
     ]
    }
   ],
   "source": [
    "# Check if a date is on the beginning or end of a year\n",
    "year_begin = YearBegin()\n",
    "year_end = YearEnd()\n",
    "\n",
    "dt_jan1 = datetime(2023, 1, 1)  # January 1st\n",
    "dt_dec31 = datetime(2023, 12, 31)  # December 31st\n",
    "dt_mid = datetime(2023, 6, 15)  # Middle of the year\n",
    "\n",
    "print(f\"Is January 1st the beginning of a year? {year_begin.is_on_offset(dt_jan1)}\")\n",
    "print(f\"Is December 31st the beginning of a year? {year_begin.is_on_offset(dt_dec31)}\")\n",
    "print(f\"Is June 15th the beginning of a year? {year_begin.is_on_offset(dt_mid)}\")\n",
    "\n",
    "print(f\"\\nIs January 1st the end of a year? {year_end.is_on_offset(dt_jan1)}\")\n",
    "print(f\"Is December 31st the end of a year? {year_end.is_on_offset(dt_dec31)}\")\n",
    "print(f\"Is June 15th the end of a year? {year_end.is_on_offset(dt_mid)}\")"
   ]
  },
  {
   "cell_type": "markdown",
   "metadata": {},
   "source": [
    "### Using YearBegin and YearEnd with date_range"
   ]
  },
  {
   "cell_type": "code",
   "execution_count": 6,
   "metadata": {},
   "outputs": [
    {
     "name": "stdout",
     "output_type": "stream",
     "text": [
      "Date range with year begin frequency:\n",
      "2020-01-01 00:00:00\n",
      "2021-01-01 00:00:00\n",
      "2022-01-01 00:00:00\n",
      "2023-01-01 00:00:00\n",
      "2024-01-01 00:00:00\n",
      "\n",
      "Date range with year end frequency:\n",
      "2020-12-31 00:00:00\n",
      "2021-12-31 00:00:00\n",
      "2022-12-31 00:00:00\n",
      "2023-12-31 00:00:00\n",
      "2024-12-31 00:00:00\n",
      "\n",
      "Date range with every 2 years frequency (year begin):\n",
      "2020-01-01 00:00:00\n",
      "2022-01-01 00:00:00\n",
      "2024-01-01 00:00:00\n",
      "2026-01-01 00:00:00\n",
      "2028-01-01 00:00:00\n"
     ]
    },
    {
     "name": "stderr",
     "output_type": "stream",
     "text": [
      "/var/folders/7y/fzwln1_93mn3js3wyk61_6xm0000gn/T/ipykernel_91427/1192044391.py:2: FutureWarning: 'AS' is deprecated and will be removed in a future version, please use 'YS' instead.\n",
      "  dates = pd.date_range(start='2020-01-01', periods=5, freq='AS')  # Annual start (year begin)\n",
      "/var/folders/7y/fzwln1_93mn3js3wyk61_6xm0000gn/T/ipykernel_91427/1192044391.py:8: FutureWarning: 'A' is deprecated and will be removed in a future version, please use 'YE' instead.\n",
      "  dates = pd.date_range(start='2020-12-31', periods=5, freq='A')  # Annual end (year end)\n",
      "/var/folders/7y/fzwln1_93mn3js3wyk61_6xm0000gn/T/ipykernel_91427/1192044391.py:14: FutureWarning: 'AS' is deprecated and will be removed in a future version, please use 'YS' instead.\n",
      "  dates = pd.date_range(start='2020-01-01', periods=5, freq='2AS')  # Every 2 years (year begin)\n"
     ]
    }
   ],
   "source": [
    "# Create a date range with year begin frequency\n",
    "dates = pd.date_range(start='2020-01-01', periods=5, freq='AS')  # Annual start (year begin)\n",
    "print(f\"Date range with year begin frequency:\")\n",
    "for date in dates:\n",
    "    print(f\"{date}\")\n",
    "\n",
    "# Create a date range with year end frequency\n",
    "dates = pd.date_range(start='2020-12-31', periods=5, freq='A')  # Annual end (year end)\n",
    "print(f\"\\nDate range with year end frequency:\")\n",
    "for date in dates:\n",
    "    print(f\"{date}\")\n",
    "\n",
    "# Create a date range with multiple years frequency\n",
    "dates = pd.date_range(start='2020-01-01', periods=5, freq='2AS')  # Every 2 years (year begin)\n",
    "print(f\"\\nDate range with every 2 years frequency (year begin):\")\n",
    "for date in dates:\n",
    "    print(f\"{date}\")"
   ]
  },
  {
   "cell_type": "markdown",
   "metadata": {},
   "source": [
    "##### 2. BYearBegin and BYearEnd\n",
    "\n",
    "The `BYearBegin` and `BYearEnd` classes are DateOffset subclasses representing the beginning and end of a business year."
   ]
  },
  {
   "cell_type": "code",
   "execution_count": 7,
   "metadata": {},
   "outputs": [
    {
     "name": "stdout",
     "output_type": "stream",
     "text": [
      "BYearBegin: <BYearBegin: month=1>\n",
      "BYearEnd: <BYearEnd: month=12>\n",
      "\n",
      "Original datetime: 2023-06-15 00:00:00\n",
      "After adding BYearBegin: 2024-01-01 00:00:00\n",
      "After adding BYearEnd: 2023-12-29 00:00:00\n",
      "\n",
      "Original datetime: 2023-01-01 00:00:00 (Sunday)\n",
      "After adding BYearBegin: 2023-01-02 00:00:00 (Monday)\n",
      "\n",
      "Original datetime: 2023-12-31 00:00:00 (Sunday)\n",
      "After adding BYearEnd: 2024-12-31 00:00:00 (Tuesday)\n"
     ]
    }
   ],
   "source": [
    "# Create BYearBegin and BYearEnd offsets\n",
    "byear_begin = BYearBegin()\n",
    "byear_end = BYearEnd()\n",
    "print(f\"BYearBegin: {byear_begin}\")\n",
    "print(f\"BYearEnd: {byear_end}\")\n",
    "\n",
    "# Apply to a datetime\n",
    "dt = datetime(2023, 6, 15)  # Middle of the year\n",
    "print(f\"\\nOriginal datetime: {dt}\")\n",
    "print(f\"After adding BYearBegin: {dt + byear_begin}\")\n",
    "print(f\"After adding BYearEnd: {dt + byear_end}\")\n",
    "\n",
    "# Handle cases where the first/last day of the year is a weekend\n",
    "# January 1, 2023 is a Sunday\n",
    "dt = datetime(2023, 1, 1)\n",
    "print(f\"\\nOriginal datetime: {dt} ({dt.strftime('%A')})\")\n",
    "print(f\"After adding BYearBegin: {dt + byear_begin} ({(dt + byear_begin).strftime('%A')})\")\n",
    "\n",
    "# December 31, 2023 is a Sunday\n",
    "dt = datetime(2023, 12, 31)\n",
    "print(f\"\\nOriginal datetime: {dt} ({dt.strftime('%A')})\")\n",
    "print(f\"After adding BYearEnd: {dt + byear_end} ({(dt + byear_end).strftime('%A')})\")"
   ]
  },
  {
   "cell_type": "markdown",
   "metadata": {},
   "source": [
    "### Using BYearBegin and BYearEnd with date_range"
   ]
  },
  {
   "cell_type": "code",
   "execution_count": 8,
   "metadata": {},
   "outputs": [
    {
     "name": "stdout",
     "output_type": "stream",
     "text": [
      "Date range with business year begin frequency:\n",
      "2020-01-01 00:00:00 (Wednesday)\n",
      "2021-01-01 00:00:00 (Friday)\n",
      "2022-01-03 00:00:00 (Monday)\n",
      "2023-01-02 00:00:00 (Monday)\n",
      "2024-01-01 00:00:00 (Monday)\n",
      "\n",
      "Date range with business year end frequency:\n",
      "2020-12-31 00:00:00 (Thursday)\n",
      "2021-12-31 00:00:00 (Friday)\n",
      "2022-12-30 00:00:00 (Friday)\n",
      "2023-12-29 00:00:00 (Friday)\n",
      "2024-12-31 00:00:00 (Tuesday)\n"
     ]
    },
    {
     "name": "stderr",
     "output_type": "stream",
     "text": [
      "/var/folders/7y/fzwln1_93mn3js3wyk61_6xm0000gn/T/ipykernel_91427/613298956.py:2: FutureWarning: 'BAS' is deprecated and will be removed in a future version, please use 'BYS' instead.\n",
      "  dates = pd.date_range(start='2020-01-01', periods=5, freq='BAS')  # Business annual start\n",
      "/var/folders/7y/fzwln1_93mn3js3wyk61_6xm0000gn/T/ipykernel_91427/613298956.py:8: FutureWarning: 'BA' is deprecated and will be removed in a future version, please use 'BYE' instead.\n",
      "  dates = pd.date_range(start='2020-12-31', periods=5, freq='BA')  # Business annual end\n"
     ]
    }
   ],
   "source": [
    "# Create a date range with business year begin frequency\n",
    "dates = pd.date_range(start='2020-01-01', periods=5, freq='BAS')  # Business annual start\n",
    "print(f\"Date range with business year begin frequency:\")\n",
    "for date in dates:\n",
    "    print(f\"{date} ({date.strftime('%A')})\")\n",
    "\n",
    "# Create a date range with business year end frequency\n",
    "dates = pd.date_range(start='2020-12-31', periods=5, freq='BA')  # Business annual end\n",
    "print(f\"\\nDate range with business year end frequency:\")\n",
    "for date in dates:\n",
    "    print(f\"{date} ({date.strftime('%A')})\")"
   ]
  },
  {
   "cell_type": "markdown",
   "metadata": {},
   "source": [
    "##### 3. FY5253 - 52/53 Week Fiscal Year\n",
    "\n",
    "The `FY5253` class is a DateOffset subclass representing a 52-53 week fiscal year, also known as a 4-4-5 calendar. It is used by companies that desire their fiscal year to always end on the same day of the week."
   ]
  },
  {
   "cell_type": "code",
   "execution_count": 9,
   "metadata": {},
   "outputs": [
    {
     "name": "stdout",
     "output_type": "stream",
     "text": [
      "FY5253: <FY5253: startingMonth=1, variation=nearest, weekday=0>\n",
      "\n",
      "Original datetime: 2023-06-15 00:00:00\n",
      "After adding FY5253: 2024-01-29 00:00:00\n"
     ]
    }
   ],
   "source": [
    "# Create a FY5253 offset\n",
    "# weekday=0 means Monday, startingMonth=1 means January\n",
    "# variation='nearest' means the fiscal year ends on the last specified weekday closest to the last day of the specified month\n",
    "fy5253 = FY5253(weekday=0, startingMonth=1, variation='nearest')\n",
    "print(f\"FY5253: {fy5253}\")\n",
    "\n",
    "# Apply to a datetime\n",
    "dt = datetime(2023, 6, 15)\n",
    "print(f\"\\nOriginal datetime: {dt}\")\n",
    "print(f\"After adding FY5253: {dt + fy5253}\")"
   ]
  },
  {
   "cell_type": "code",
   "execution_count": 10,
   "metadata": {},
   "outputs": [
    {
     "name": "stdout",
     "output_type": "stream",
     "text": [
      "FY5253 (nearest): <FY5253: startingMonth=12, variation=nearest, weekday=4>\n",
      "FY5253 (last): <FY5253: startingMonth=12, variation=last, weekday=4>\n",
      "\n",
      "Original datetime: 2023-12-15 00:00:00\n",
      "After adding FY5253 (nearest): 2023-12-29 00:00:00\n",
      "After adding FY5253 (last): 2023-12-29 00:00:00\n"
     ]
    }
   ],
   "source": [
    "# Create FY5253 with different variations\n",
    "# variation='nearest' means the fiscal year ends on the last specified weekday closest to the last day of the specified month\n",
    "fy_nearest = FY5253(weekday=4, startingMonth=12, variation='nearest')  # Last Friday closest to December 31\n",
    "print(f\"FY5253 (nearest): {fy_nearest}\")\n",
    "\n",
    "# variation='last' means the fiscal year ends on the last specified weekday of the specified month\n",
    "fy_last = FY5253(weekday=4, startingMonth=12, variation='last')  # Last Friday of December\n",
    "print(f\"FY5253 (last): {fy_last}\")\n",
    "\n",
    "# Apply to a datetime\n",
    "dt = datetime(2023, 12, 15)\n",
    "print(f\"\\nOriginal datetime: {dt}\")\n",
    "print(f\"After adding FY5253 (nearest): {dt + fy_nearest}\")\n",
    "print(f\"After adding FY5253 (last): {dt + fy_last}\")"
   ]
  },
  {
   "cell_type": "markdown",
   "metadata": {},
   "source": [
    "### Using FY5253 with date_range"
   ]
  },
  {
   "cell_type": "code",
   "execution_count": 11,
   "metadata": {},
   "outputs": [
    {
     "name": "stdout",
     "output_type": "stream",
     "text": [
      "Date range with FY5253 frequency (nearest):\n",
      "2021-01-01 00:00:00 (Friday)\n",
      "2021-12-31 00:00:00 (Friday)\n",
      "2022-12-30 00:00:00 (Friday)\n",
      "2023-12-29 00:00:00 (Friday)\n",
      "2025-01-03 00:00:00 (Friday)\n",
      "\n",
      "Date range with FY5253 frequency (last):\n",
      "2020-12-25 00:00:00 (Friday)\n",
      "2021-12-31 00:00:00 (Friday)\n",
      "2022-12-30 00:00:00 (Friday)\n",
      "2023-12-29 00:00:00 (Friday)\n",
      "2024-12-27 00:00:00 (Friday)\n"
     ]
    }
   ],
   "source": [
    "# Create a date range with FY5253 frequency\n",
    "# Last Friday closest to December 31\n",
    "dates = pd.date_range(start='2020-12-25', periods=5, freq=fy_nearest)\n",
    "print(f\"Date range with FY5253 frequency (nearest):\")\n",
    "for date in dates:\n",
    "    print(f\"{date} ({date.strftime('%A')})\")\n",
    "\n",
    "# Last Friday of December\n",
    "dates = pd.date_range(start='2020-12-25', periods=5, freq=fy_last)\n",
    "print(f\"\\nDate range with FY5253 frequency (last):\")\n",
    "for date in dates:\n",
    "    print(f\"{date} ({date.strftime('%A')})\")"
   ]
  },
  {
   "cell_type": "markdown",
   "metadata": {},
   "source": [
    "##### 4. FY5253Quarter\n",
    "\n",
    "The `FY5253Quarter` class is a DateOffset subclass representing a quarter of a 52-53 week fiscal year."
   ]
  },
  {
   "cell_type": "code",
   "execution_count": 12,
   "metadata": {},
   "outputs": [
    {
     "name": "stdout",
     "output_type": "stream",
     "text": [
      "FY5253Quarter: <FY5253Quarter: qtr_with_extra_week=1, startingMonth=12, variation=nearest, weekday=4>\n",
      "\n",
      "Original datetime: 2023-06-15 00:00:00\n",
      "After adding FY5253Quarter: 2023-06-30 00:00:00\n"
     ]
    }
   ],
   "source": [
    "# Create a FY5253Quarter offset\n",
    "fy5253q = FY5253Quarter(weekday=4, startingMonth=12, variation='nearest', qtr_with_extra_week=1)\n",
    "print(f\"FY5253Quarter: {fy5253q}\")\n",
    "\n",
    "# Apply to a datetime\n",
    "dt = datetime(2023, 6, 15)\n",
    "print(f\"\\nOriginal datetime: {dt}\")\n",
    "print(f\"After adding FY5253Quarter: {dt + fy5253q}\")"
   ]
  },
  {
   "cell_type": "code",
   "execution_count": 13,
   "metadata": {},
   "outputs": [
    {
     "name": "stdout",
     "output_type": "stream",
     "text": [
      "FY5253Quarter (qtr_with_extra_week=1): <FY5253Quarter: qtr_with_extra_week=1, startingMonth=12, variation=nearest, weekday=4>\n",
      "FY5253Quarter (qtr_with_extra_week=4): <FY5253Quarter: qtr_with_extra_week=4, startingMonth=12, variation=nearest, weekday=4>\n",
      "\n",
      "Original datetime: 2023-12-15 00:00:00\n",
      "After adding FY5253Quarter (qtr_with_extra_week=1): 2023-12-29 00:00:00\n",
      "After adding FY5253Quarter (qtr_with_extra_week=4): 2023-12-29 00:00:00\n"
     ]
    }
   ],
   "source": [
    "# Create FY5253Quarter with different qtr_with_extra_week\n",
    "# qtr_with_extra_week specifies which quarter has the extra week in leap years\n",
    "fy5253q1 = FY5253Quarter(weekday=4, startingMonth=12, variation='nearest', qtr_with_extra_week=1)\n",
    "fy5253q4 = FY5253Quarter(weekday=4, startingMonth=12, variation='nearest', qtr_with_extra_week=4)\n",
    "print(f\"FY5253Quarter (qtr_with_extra_week=1): {fy5253q1}\")\n",
    "print(f\"FY5253Quarter (qtr_with_extra_week=4): {fy5253q4}\")\n",
    "\n",
    "# Apply to a datetime\n",
    "dt = datetime(2023, 12, 15)\n",
    "print(f\"\\nOriginal datetime: {dt}\")\n",
    "print(f\"After adding FY5253Quarter (qtr_with_extra_week=1): {dt + fy5253q1}\")\n",
    "print(f\"After adding FY5253Quarter (qtr_with_extra_week=4): {dt + fy5253q4}\")"
   ]
  },
  {
   "cell_type": "markdown",
   "metadata": {},
   "source": [
    "### Using FY5253Quarter with date_range"
   ]
  },
  {
   "cell_type": "code",
   "execution_count": 14,
   "metadata": {},
   "outputs": [
    {
     "name": "stdout",
     "output_type": "stream",
     "text": [
      "Date range with FY5253Quarter frequency (qtr_with_extra_week=1):\n",
      "2021-01-01 00:00:00 (Friday)\n",
      "2021-04-02 00:00:00 (Friday)\n",
      "2021-07-02 00:00:00 (Friday)\n",
      "2021-10-01 00:00:00 (Friday)\n",
      "2021-12-31 00:00:00 (Friday)\n",
      "2022-04-01 00:00:00 (Friday)\n",
      "2022-07-01 00:00:00 (Friday)\n",
      "2022-09-30 00:00:00 (Friday)\n"
     ]
    }
   ],
   "source": [
    "# Create a date range with FY5253Quarter frequency\n",
    "dates = pd.date_range(start='2020-12-25', periods=8, freq=fy5253q1)\n",
    "print(f\"Date range with FY5253Quarter frequency (qtr_with_extra_week=1):\")\n",
    "for date in dates:\n",
    "    print(f\"{date} ({date.strftime('%A')})\")"
   ]
  },
  {
   "cell_type": "markdown",
   "metadata": {},
   "source": [
    "##### 5. Combining Year DateOffset Classes\n",
    "\n",
    "You can combine different DateOffset classes to create complex date operations."
   ]
  },
  {
   "cell_type": "code",
   "execution_count": 16,
   "metadata": {},
   "outputs": [
    {
     "name": "stdout",
     "output_type": "stream",
     "text": [
      "Original datetime: 2023-06-15 00:00:00\n",
      "After applying YearEnd then YearBegin: 2024-01-01 00:00:00\n",
      "\n",
      "After applying complex sequence: 2025-01-03 00:00:00\n",
      "\n",
      "Year end dates:\n",
      "2023-12-31 00:00:00\n",
      "2024-12-31 00:00:00\n",
      "2025-12-31 00:00:00\n",
      "\n",
      "Year begin dates:\n",
      "2023-01-01 00:00:00\n",
      "2024-01-01 00:00:00\n",
      "2025-01-01 00:00:00\n"
     ]
    }
   ],
   "source": [
    "# Import necessary offsets if not already imported\n",
    "from pandas.tseries.offsets import YearEnd, YearBegin, BYearEnd, FY5253\n",
    "from datetime import datetime\n",
    "\n",
    "# Create individual offsets\n",
    "year_end = YearEnd()\n",
    "year_begin = YearBegin()\n",
    "byear_end = BYearEnd()\n",
    "fy5253 = FY5253(weekday=4, startingMonth=12, variation='nearest')\n",
    "\n",
    "# Apply offsets sequentially\n",
    "dt = datetime(2023, 6, 15)\n",
    "print(f\"Original datetime: {dt}\")\n",
    "\n",
    "# Apply YearEnd followed by YearBegin\n",
    "result = dt + year_end\n",
    "result = result + year_begin\n",
    "print(f\"After applying YearEnd then YearBegin: {result}\")\n",
    "\n",
    "# Apply multiple offsets sequentially\n",
    "complex_result = dt + year_begin\n",
    "complex_result = complex_result + byear_end\n",
    "complex_result = complex_result + fy5253\n",
    "print(f\"\\nAfter applying complex sequence: {complex_result}\")\n",
    "\n",
    "# Create date ranges with individual offsets\n",
    "year_end_range = pd.date_range(start='2023-01-01', periods=3, freq=year_end)\n",
    "print(f\"\\nYear end dates:\")\n",
    "for date in year_end_range:\n",
    "    print(f\"{date}\")\n",
    "\n",
    "year_begin_range = pd.date_range(start='2023-01-01', periods=3, freq=year_begin)\n",
    "print(f\"\\nYear begin dates:\")\n",
    "for date in year_begin_range:\n",
    "    print(f\"{date}\")"
   ]
  },
  {
   "cell_type": "code",
   "execution_count": null,
   "metadata": {},
   "outputs": [],
   "source": []
  },
  {
   "cell_type": "code",
   "execution_count": null,
   "metadata": {},
   "outputs": [],
   "source": []
  }
 ],
 "metadata": {
  "kernelspec": {
   "display_name": "venv",
   "language": "python",
   "name": "python3"
  },
  "language_info": {
   "codemirror_mode": {
    "name": "ipython",
    "version": 3
   },
   "file_extension": ".py",
   "mimetype": "text/x-python",
   "name": "python",
   "nbconvert_exporter": "python",
   "pygments_lexer": "ipython3",
   "version": "3.13.2"
  }
 },
 "nbformat": 4,
 "nbformat_minor": 4
}
