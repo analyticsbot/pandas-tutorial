{
 "cells": [
  {
   "cell_type": "markdown",
   "metadata": {},
   "source": [
    "##### Boolean Operations and Transformations"
   ]
  },
  {
   "cell_type": "code",
   "execution_count": 1,
   "metadata": {},
   "outputs": [],
   "source": [
    "import pandas as pd\n",
    "import numpy as np"
   ]
  },
  {
   "cell_type": "markdown",
   "metadata": {},
   "source": [
    "##### Advanced divmod Operations\n",
    "Using divmod with Series and Index objects"
   ]
  },
  {
   "cell_type": "code",
   "execution_count": 2,
   "metadata": {},
   "outputs": [
    {
     "name": "stdout",
     "output_type": "stream",
     "text": [
      "Original series:\n",
      "0    0\n",
      "1    1\n",
      "2    2\n",
      "3    3\n",
      "4    4\n",
      "5    5\n",
      "6    6\n",
      "7    7\n",
      "8    8\n",
      "9    9\n",
      "dtype: int64\n",
      "\n",
      "Division result:\n",
      "0    0\n",
      "1    0\n",
      "2    0\n",
      "3    1\n",
      "4    1\n",
      "5    1\n",
      "6    2\n",
      "7    2\n",
      "8    2\n",
      "9    3\n",
      "dtype: int64\n",
      "\n",
      "Remainder:\n",
      "0    0\n",
      "1    1\n",
      "2    2\n",
      "3    0\n",
      "4    1\n",
      "5    2\n",
      "6    0\n",
      "7    1\n",
      "8    2\n",
      "9    0\n",
      "dtype: int64\n"
     ]
    }
   ],
   "source": [
    "# Series divmod\n",
    "s = pd.Series(np.arange(10))\n",
    "div, rem = divmod(s, 3)\n",
    "\n",
    "print(\"Original series:\")\n",
    "print(s)\n",
    "print(\"\\nDivision result:\")\n",
    "print(div)\n",
    "print(\"\\nRemainder:\")\n",
    "print(rem)"
   ]
  },
  {
   "cell_type": "code",
   "execution_count": 3,
   "metadata": {},
   "outputs": [
    {
     "name": "stdout",
     "output_type": "stream",
     "text": [
      "Original index:\n",
      "Index([0, 1, 2, 3, 4, 5, 6, 7, 8, 9], dtype='int64')\n",
      "\n",
      "Division result:\n",
      "Index([0, 0, 0, 1, 1, 1, 2, 2, 2, 3], dtype='int64')\n",
      "\n",
      "Remainder:\n",
      "Index([0, 1, 2, 0, 1, 2, 0, 1, 2, 0], dtype='int64')\n"
     ]
    }
   ],
   "source": [
    "# Index divmod\n",
    "idx = pd.Index(np.arange(10))\n",
    "div, rem = divmod(idx, 3)\n",
    "\n",
    "print(\"Original index:\")\n",
    "print(idx)\n",
    "print(\"\\nDivision result:\")\n",
    "print(div)\n",
    "print(\"\\nRemainder:\")\n",
    "print(rem)"
   ]
  },
  {
   "cell_type": "code",
   "execution_count": 4,
   "metadata": {},
   "outputs": [
    {
     "name": "stdout",
     "output_type": "stream",
     "text": [
      "Elementwise division:\n",
      "0    0\n",
      "1    0\n",
      "2    0\n",
      "3    1\n",
      "4    1\n",
      "5    1\n",
      "6    1\n",
      "7    1\n",
      "8    1\n",
      "9    1\n",
      "dtype: int64\n",
      "\n",
      "Elementwise remainder:\n",
      "0    0\n",
      "1    1\n",
      "2    2\n",
      "3    0\n",
      "4    0\n",
      "5    1\n",
      "6    1\n",
      "7    2\n",
      "8    2\n",
      "9    3\n",
      "dtype: int64\n"
     ]
    }
   ],
   "source": [
    "# Elementwise divmod\n",
    "div, rem = divmod(s, [2, 2, 3, 3, 4, 4, 5, 5, 6, 6])\n",
    "print(\"Elementwise division:\")\n",
    "print(div)\n",
    "print(\"\\nElementwise remainder:\")\n",
    "print(rem)"
   ]
  },
  {
   "cell_type": "markdown",
   "metadata": {},
   "source": [
    "##### Missing Data Operations\n",
    "Handling NaN values in arithmetic operations"
   ]
  },
  {
   "cell_type": "code",
   "execution_count": 5,
   "metadata": {},
   "outputs": [
    {
     "name": "stdout",
     "output_type": "stream",
     "text": [
      "DataFrame 1:\n",
      "    one   two  three\n",
      "a  1.39  1.77    NaN\n",
      "b  0.34  1.91  -0.05\n",
      "c  0.69  1.47   1.22\n",
      "d   NaN  0.27  -0.61\n",
      "\n",
      "DataFrame 2:\n",
      "    one   two  three\n",
      "a  1.39  1.77   1.00\n",
      "b  0.34  1.91  -0.05\n",
      "c  0.69  1.47   1.22\n",
      "d   NaN  0.27  -0.61\n"
     ]
    }
   ],
   "source": [
    "# Create sample DataFrames\n",
    "df = pd.DataFrame({\n",
    "    'one': [1.39, 0.34, 0.69, np.nan],\n",
    "    'two': [1.77, 1.91, 1.47, 0.27],\n",
    "    'three': [np.nan, -0.05, 1.22, -0.61]\n",
    "}, index=['a', 'b', 'c', 'd'])\n",
    "\n",
    "df2 = df.copy()\n",
    "df2.loc['a', 'three'] = 1.0\n",
    "\n",
    "print(\"DataFrame 1:\")\n",
    "print(df)\n",
    "print(\"\\nDataFrame 2:\")\n",
    "print(df2)"
   ]
  },
  {
   "cell_type": "code",
   "execution_count": 6,
   "metadata": {},
   "outputs": [
    {
     "name": "stdout",
     "output_type": "stream",
     "text": [
      "Regular addition:\n",
      "    one   two  three\n",
      "a  2.78  3.54    NaN\n",
      "b  0.68  3.82  -0.10\n",
      "c  1.38  2.94   2.44\n",
      "d   NaN  0.54  -1.22\n"
     ]
    }
   ],
   "source": [
    "# Regular addition (NaN propagation)\n",
    "print(\"Regular addition:\")\n",
    "print(df + df2)"
   ]
  },
  {
   "cell_type": "code",
   "execution_count": 7,
   "metadata": {},
   "outputs": [
    {
     "name": "stdout",
     "output_type": "stream",
     "text": [
      "Addition with fill_value=0:\n",
      "    one   two  three\n",
      "a  2.78  3.54   1.00\n",
      "b  0.68  3.82  -0.10\n",
      "c  1.38  2.94   2.44\n",
      "d   NaN  0.54  -1.22\n"
     ]
    }
   ],
   "source": [
    "# Addition with fill value\n",
    "print(\"Addition with fill_value=0:\")\n",
    "print(df.add(df2, fill_value=0))"
   ]
  },
  {
   "cell_type": "markdown",
   "metadata": {},
   "source": [
    "##### Flexible Comparisons\n",
    "Boolean operations between DataFrames"
   ]
  },
  {
   "cell_type": "code",
   "execution_count": 8,
   "metadata": {},
   "outputs": [
    {
     "name": "stdout",
     "output_type": "stream",
     "text": [
      "df > df2:\n",
      "     one    two  three\n",
      "a  False  False  False\n",
      "b  False  False  False\n",
      "c  False  False  False\n",
      "d  False  False  False\n"
     ]
    }
   ],
   "source": [
    "# Greater than comparison\n",
    "print(\"df > df2:\")\n",
    "print(df.gt(df2))"
   ]
  },
  {
   "cell_type": "code",
   "execution_count": 9,
   "metadata": {},
   "outputs": [
    {
     "name": "stdout",
     "output_type": "stream",
     "text": [
      "df != df2:\n",
      "     one    two  three\n",
      "a  False  False   True\n",
      "b  False  False  False\n",
      "c  False  False  False\n",
      "d   True  False  False\n"
     ]
    }
   ],
   "source": [
    "# Not equal comparison\n",
    "print(\"df != df2:\")\n",
    "print(df2.ne(df))"
   ]
  },
  {
   "cell_type": "markdown",
   "metadata": {},
   "source": [
    "##### Boolean Reductions\n",
    "Summarizing boolean results"
   ]
  },
  {
   "cell_type": "code",
   "execution_count": 10,
   "metadata": {},
   "outputs": [
    {
     "name": "stdout",
     "output_type": "stream",
     "text": [
      "All positive values?\n",
      "one      False\n",
      "two       True\n",
      "three    False\n",
      "dtype: bool\n",
      "\n",
      "Any positive values?\n",
      "one      True\n",
      "two      True\n",
      "three    True\n",
      "dtype: bool\n"
     ]
    }
   ],
   "source": [
    "# Check if all values are positive\n",
    "print(\"All positive values?\")\n",
    "print((df > 0).all())\n",
    "\n",
    "print(\"\\nAny positive values?\")\n",
    "print((df > 0).any())"
   ]
  },
  {
   "cell_type": "code",
   "execution_count": 11,
   "metadata": {},
   "outputs": [
    {
     "name": "stdout",
     "output_type": "stream",
     "text": [
      "Is df empty? False\n",
      "Is empty DataFrame empty? True\n"
     ]
    }
   ],
   "source": [
    "# Check if DataFrame is empty\n",
    "print(\"Is df empty?\", df.empty)\n",
    "print(\"Is empty DataFrame empty?\", pd.DataFrame(columns=list('ABC')).empty)"
   ]
  },
  {
   "cell_type": "markdown",
   "metadata": {},
   "source": [
    "##### DataFrame Transformations\n",
    "Apply functions to transform data"
   ]
  },
  {
   "cell_type": "code",
   "execution_count": 12,
   "metadata": {},
   "outputs": [
    {
     "name": "stdout",
     "output_type": "stream",
     "text": [
      "Time series DataFrame:\n",
      "                   A         B         C\n",
      "2000-01-01 -0.086255 -0.061914  0.876074\n",
      "2000-01-02  0.427084 -0.242399 -1.062885\n",
      "2000-01-03 -0.424431  0.097712  1.036498\n",
      "2000-01-04  1.260290  1.137572 -0.088948\n",
      "2000-01-05 -0.400869 -1.942060 -0.228203\n",
      "2000-01-06 -0.282520  0.586111 -0.418950\n",
      "2000-01-07 -0.091610  0.555329 -0.176473\n",
      "2000-01-08 -0.585150 -0.898894 -0.504578\n",
      "2000-01-09 -0.530634  1.319973  0.222900\n",
      "2000-01-10 -0.427710  1.059185  1.036395\n"
     ]
    }
   ],
   "source": [
    "# Create time series DataFrame\n",
    "dates = pd.date_range('2000-01-01', periods=10)\n",
    "tsdf = pd.DataFrame(np.random.randn(10, 3), index=dates, columns=['A', 'B', 'C'])\n",
    "\n",
    "print(\"Time series DataFrame:\")\n",
    "print(tsdf)"
   ]
  },
  {
   "cell_type": "code",
   "execution_count": 13,
   "metadata": {},
   "outputs": [
    {
     "name": "stdout",
     "output_type": "stream",
     "text": [
      "Absolute values (numpy):\n",
      "                   A         B         C\n",
      "2000-01-01  0.086255  0.061914  0.876074\n",
      "2000-01-02  0.427084  0.242399  1.062885\n",
      "2000-01-03  0.424431  0.097712  1.036498\n",
      "2000-01-04  1.260290  1.137572  0.088948\n",
      "2000-01-05  0.400869  1.942060  0.228203\n",
      "2000-01-06  0.282520  0.586111  0.418950\n",
      "2000-01-07  0.091610  0.555329  0.176473\n",
      "2000-01-08  0.585150  0.898894  0.504578\n",
      "2000-01-09  0.530634  1.319973  0.222900\n",
      "2000-01-10  0.427710  1.059185  1.036395\n"
     ]
    }
   ],
   "source": [
    "# Transform using NumPy function\n",
    "print(\"Absolute values (numpy):\")\n",
    "print(tsdf.transform(np.abs))"
   ]
  },
  {
   "cell_type": "code",
   "execution_count": 14,
   "metadata": {},
   "outputs": [
    {
     "name": "stdout",
     "output_type": "stream",
     "text": [
      "Absolute values (string):\n",
      "                   A         B         C\n",
      "2000-01-01  0.086255  0.061914  0.876074\n",
      "2000-01-02  0.427084  0.242399  1.062885\n",
      "2000-01-03  0.424431  0.097712  1.036498\n",
      "2000-01-04  1.260290  1.137572  0.088948\n",
      "2000-01-05  0.400869  1.942060  0.228203\n",
      "2000-01-06  0.282520  0.586111  0.418950\n",
      "2000-01-07  0.091610  0.555329  0.176473\n",
      "2000-01-08  0.585150  0.898894  0.504578\n",
      "2000-01-09  0.530634  1.319973  0.222900\n",
      "2000-01-10  0.427710  1.059185  1.036395\n"
     ]
    }
   ],
   "source": [
    "# Transform using string function name\n",
    "print(\"Absolute values (string):\")\n",
    "print(tsdf.transform('abs'))"
   ]
  },
  {
   "cell_type": "code",
   "execution_count": 15,
   "metadata": {},
   "outputs": [
    {
     "name": "stdout",
     "output_type": "stream",
     "text": [
      "Absolute values (lambda):\n",
      "                   A         B         C\n",
      "2000-01-01  0.086255  0.061914  0.876074\n",
      "2000-01-02  0.427084  0.242399  1.062885\n",
      "2000-01-03  0.424431  0.097712  1.036498\n",
      "2000-01-04  1.260290  1.137572  0.088948\n",
      "2000-01-05  0.400869  1.942060  0.228203\n",
      "2000-01-06  0.282520  0.586111  0.418950\n",
      "2000-01-07  0.091610  0.555329  0.176473\n",
      "2000-01-08  0.585150  0.898894  0.504578\n",
      "2000-01-09  0.530634  1.319973  0.222900\n",
      "2000-01-10  0.427710  1.059185  1.036395\n"
     ]
    }
   ],
   "source": [
    "# Transform using lambda function\n",
    "print(\"Absolute values (lambda):\")\n",
    "print(tsdf.transform(lambda x: x.abs()))"
   ]
  },
  {
   "cell_type": "code",
   "execution_count": 16,
   "metadata": {},
   "outputs": [
    {
     "name": "stdout",
     "output_type": "stream",
     "text": [
      "Multiple transformations:\n",
      "                   A                   B                   C          \n",
      "            absolute  <lambda>  absolute  <lambda>  absolute  <lambda>\n",
      "2000-01-01  0.086255  0.913745  0.061914  0.938086  0.876074  1.876074\n",
      "2000-01-02  0.427084  1.427084  0.242399  0.757601  1.062885 -0.062885\n",
      "2000-01-03  0.424431  0.575569  0.097712  1.097712  1.036498  2.036498\n",
      "2000-01-04  1.260290  2.260290  1.137572  2.137572  0.088948  0.911052\n",
      "2000-01-05  0.400869  0.599131  1.942060 -0.942060  0.228203  0.771797\n",
      "2000-01-06  0.282520  0.717480  0.586111  1.586111  0.418950  0.581050\n",
      "2000-01-07  0.091610  0.908390  0.555329  1.555329  0.176473  0.823527\n",
      "2000-01-08  0.585150  0.414850  0.898894  0.101106  0.504578  0.495422\n",
      "2000-01-09  0.530634  0.469366  1.319973  2.319973  0.222900  1.222900\n",
      "2000-01-10  0.427710  0.572290  1.059185  2.059185  1.036395  2.036395\n"
     ]
    }
   ],
   "source": [
    "# Transform with multiple functions\n",
    "print(\"Multiple transformations:\")\n",
    "print(tsdf.transform([np.abs, lambda x: x + 1]))"
   ]
  },
  {
   "cell_type": "code",
   "execution_count": 17,
   "metadata": {},
   "outputs": [
    {
     "name": "stdout",
     "output_type": "stream",
     "text": [
      "Selective transformations:\n",
      "                   A         B\n",
      "2000-01-01  0.086255  0.938086\n",
      "2000-01-02  0.427084  0.757601\n",
      "2000-01-03  0.424431  1.097712\n",
      "2000-01-04  1.260290  2.137572\n",
      "2000-01-05  0.400869 -0.942060\n",
      "2000-01-06  0.282520  1.586111\n",
      "2000-01-07  0.091610  1.555329\n",
      "2000-01-08  0.585150  0.101106\n",
      "2000-01-09  0.530634  2.319973\n",
      "2000-01-10  0.427710  2.059185\n"
     ]
    }
   ],
   "source": [
    "# Transform with dictionary\n",
    "print(\"Selective transformations:\")\n",
    "print(tsdf.transform({'A': np.abs, 'B': lambda x: x + 1}))"
   ]
  }
 ],
 "metadata": {
  "kernelspec": {
   "display_name": "venv",
   "language": "python",
   "name": "python3"
  },
  "language_info": {
   "codemirror_mode": {
    "name": "ipython",
    "version": 3
   },
   "file_extension": ".py",
   "mimetype": "text/x-python",
   "name": "python",
   "nbconvert_exporter": "python",
   "pygments_lexer": "ipython3",
   "version": "3.13.2"
  }
 },
 "nbformat": 4,
 "nbformat_minor": 4
}
