{
 "cells": [
  {
   "cell_type": "markdown",
   "metadata": {},
   "source": [
    "##### Boolean Operations and Transformations"
   ]
  },
  {
   "cell_type": "code",
   "execution_count": null,
   "metadata": {},
   "outputs": [],
   "source": [
    "import pandas as pd\n",
    "import numpy as np"
   ]
  },
  {
   "cell_type": "markdown",
   "metadata": {},
   "source": [
    "##### Advanced divmod Operations\n",
    "Using divmod with Series and Index objects"
   ]
  },
  {
   "cell_type": "code",
   "execution_count": null,
   "metadata": {},
   "outputs": [],
   "source": [
    "# Series divmod\n",
    "s = pd.Series(np.arange(10))\n",
    "div, rem = divmod(s, 3)\n",
    "\n",
    "print(\"Original series:\")\n",
    "print(s)\n",
    "print(\"\\nDivision result:\")\n",
    "print(div)\n",
    "print(\"\\nRemainder:\")\n",
    "print(rem)"
   ]
  },
  {
   "cell_type": "code",
   "execution_count": null,
   "metadata": {},
   "outputs": [],
   "source": [
    "# Index divmod\n",
    "idx = pd.Index(np.arange(10))\n",
    "div, rem = divmod(idx, 3)\n",
    "\n",
    "print(\"Original index:\")\n",
    "print(idx)\n",
    "print(\"\\nDivision result:\")\n",
    "print(div)\n",
    "print(\"\\nRemainder:\")\n",
    "print(rem)"
   ]
  },
  {
   "cell_type": "code",
   "execution_count": null,
   "metadata": {},
   "outputs": [],
   "source": [
    "# Elementwise divmod\n",
    "div, rem = divmod(s, [2, 2, 3, 3, 4, 4, 5, 5, 6, 6])\n",
    "print(\"Elementwise division:\")\n",
    "print(div)\n",
    "print(\"\\nElementwise remainder:\")\n",
    "print(rem)"
   ]
  },
  {
   "cell_type": "markdown",
   "metadata": {},
   "source": [
    "##### Missing Data Operations\n",
    "Handling NaN values in arithmetic operations"
   ]
  },
  {
   "cell_type": "code",
   "execution_count": null,
   "metadata": {},
   "outputs": [],
   "source": [
    "# Create sample DataFrames\n",
    "df = pd.DataFrame({\n",
    "    'one': [1.39, 0.34, 0.69, np.nan],\n",
    "    'two': [1.77, 1.91, 1.47, 0.27],\n",
    "    'three': [np.nan, -0.05, 1.22, -0.61]\n",
    "}, index=['a', 'b', 'c', 'd'])\n",
    "\n",
    "df2 = df.copy()\n",
    "df2.loc['a', 'three'] = 1.0\n",
    "\n",
    "print(\"DataFrame 1:\")\n",
    "print(df)\n",
    "print(\"\\nDataFrame 2:\")\n",
    "print(df2)"
   ]
  },
  {
   "cell_type": "code",
   "execution_count": null,
   "metadata": {},
   "outputs": [],
   "source": [
    "# Regular addition (NaN propagation)\n",
    "print(\"Regular addition:\")\n",
    "print(df + df2)"
   ]
  },
  {
   "cell_type": "code",
   "execution_count": null,
   "metadata": {},
   "outputs": [],
   "source": [
    "# Addition with fill value\n",
    "print(\"Addition with fill_value=0:\")\n",
    "print(df.add(df2, fill_value=0))"
   ]
  },
  {
   "cell_type": "markdown",
   "metadata": {},
   "source": [
    "##### Flexible Comparisons\n",
    "Boolean operations between DataFrames"
   ]
  },
  {
   "cell_type": "code",
   "execution_count": null,
   "metadata": {},
   "outputs": [],
   "source": [
    "# Greater than comparison\n",
    "print(\"df > df2:\")\n",
    "print(df.gt(df2))"
   ]
  },
  {
   "cell_type": "code",
   "execution_count": null,
   "metadata": {},
   "outputs": [],
   "source": [
    "# Not equal comparison\n",
    "print(\"df != df2:\")\n",
    "print(df2.ne(df))"
   ]
  },
  {
   "cell_type": "markdown",
   "metadata": {},
   "source": [
    "##### Boolean Reductions\n",
    "Summarizing boolean results"
   ]
  },
  {
   "cell_type": "code",
   "execution_count": null,
   "metadata": {},
   "outputs": [],
   "source": [
    "# Check if all values are positive\n",
    "print(\"All positive values?\")\n",
    "print((df > 0).all())\n",
    "\n",
    "print(\"\\nAny positive values?\")\n",
    "print((df > 0).any())"
   ]
  },
  {
   "cell_type": "code",
   "execution_count": null,
   "metadata": {},
   "outputs": [],
   "source": [
    "# Check if DataFrame is empty\n",
    "print(\"Is df empty?\", df.empty)\n",
    "print(\"Is empty DataFrame empty?\", pd.DataFrame(columns=list('ABC')).empty)"
   ]
  },
  {
   "cell_type": "markdown",
   "metadata": {},
   "source": [
    "##### DataFrame Transformations\n",
    "Apply functions to transform data"
   ]
  },
  {
   "cell_type": "code",
   "execution_count": null,
   "metadata": {},
   "outputs": [],
   "source": [
    "# Create time series DataFrame\n",
    "dates = pd.date_range('2000-01-01', periods=10)\n",
    "tsdf = pd.DataFrame(np.random.randn(10, 3), index=dates, columns=['A', 'B', 'C'])\n",
    "\n",
    "print(\"Time series DataFrame:\")\n",
    "print(tsdf)"
   ]
  },
  {
   "cell_type": "code",
   "execution_count": null,
   "metadata": {},
   "outputs": [],
   "source": [
    "# Transform using NumPy function\n",
    "print(\"Absolute values (numpy):\")\n",
    "print(tsdf.transform(np.abs))"
   ]
  },
  {
   "cell_type": "code",
   "execution_count": null,
   "metadata": {},
   "outputs": [],
   "source": [
    "# Transform using string function name\n",
    "print(\"Absolute values (string):\")\n",
    "print(tsdf.transform('abs'))"
   ]
  },
  {
   "cell_type": "code",
   "execution_count": null,
   "metadata": {},
   "outputs": [],
   "source": [
    "# Transform using lambda function\n",
    "print(\"Absolute values (lambda):\")\n",
    "print(tsdf.transform(lambda x: x.abs()))"
   ]
  },
  {
   "cell_type": "code",
   "execution_count": null,
   "metadata": {},
   "outputs": [],
   "source": [
    "# Transform with multiple functions\n",
    "print(\"Multiple transformations:\")\n",
    "print(tsdf.transform([np.abs, lambda x: x + 1]))"
   ]
  },
  {
   "cell_type": "code",
   "execution_count": null,
   "metadata": {},
   "outputs": [],
   "source": [
    "# Transform with dictionary\n",
    "print(\"Selective transformations:\")\n",
    "print(tsdf.transform({'A': np.abs, 'B': lambda x: x + 1}))"
   ]
  }
 ],
 "metadata": {
  "kernelspec": {
   "display_name": "Python 3",
   "language": "python",
   "name": "python3"
  },
  "language_info": {
   "codemirror_mode": {
    "name": "ipython",
    "version": 3
   },
   "file_extension": ".py",
   "mimetype": "text/x-python",
   "name": "python",
   "nbconvert_exporter": "python",
   "pygments_lexer": "ipython3",
   "version": "3.8.0"
  }
 },
 "nbformat": 4,
 "nbformat_minor": 4
}