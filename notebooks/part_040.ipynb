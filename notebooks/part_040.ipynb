{
 "cells": [
  {
   "cell_type": "markdown",
   "metadata": {},
   "source": [
    "#### Pandas General Functions - Part 40\n",
    "\n",
    "This notebook covers important general functions in pandas, including `get_dummies()`, `factorize()`, `period_range()`, `timedelta_range()`, and `infer_freq()`."
   ]
  },
  {
   "cell_type": "code",
   "execution_count": 1,
   "metadata": {},
   "outputs": [],
   "source": [
    "import pandas as pd\n",
    "import numpy as np"
   ]
  },
  {
   "cell_type": "markdown",
   "metadata": {},
   "source": [
    "##### pd.get_dummies()\n",
    "\n",
    "The `get_dummies()` function converts categorical variables into dummy/indicator variables (also known as one-hot encoding). This is particularly useful for preparing data for machine learning models."
   ]
  },
  {
   "cell_type": "code",
   "execution_count": 2,
   "metadata": {},
   "outputs": [
    {
     "data": {
      "text/html": [
       "<div>\n",
       "<style scoped>\n",
       "    .dataframe tbody tr th:only-of-type {\n",
       "        vertical-align: middle;\n",
       "    }\n",
       "\n",
       "    .dataframe tbody tr th {\n",
       "        vertical-align: top;\n",
       "    }\n",
       "\n",
       "    .dataframe thead th {\n",
       "        text-align: right;\n",
       "    }\n",
       "</style>\n",
       "<table border=\"1\" class=\"dataframe\">\n",
       "  <thead>\n",
       "    <tr style=\"text-align: right;\">\n",
       "      <th></th>\n",
       "      <th>a</th>\n",
       "      <th>b</th>\n",
       "      <th>c</th>\n",
       "    </tr>\n",
       "  </thead>\n",
       "  <tbody>\n",
       "    <tr>\n",
       "      <th>0</th>\n",
       "      <td>True</td>\n",
       "      <td>False</td>\n",
       "      <td>False</td>\n",
       "    </tr>\n",
       "    <tr>\n",
       "      <th>1</th>\n",
       "      <td>False</td>\n",
       "      <td>True</td>\n",
       "      <td>False</td>\n",
       "    </tr>\n",
       "    <tr>\n",
       "      <th>2</th>\n",
       "      <td>False</td>\n",
       "      <td>False</td>\n",
       "      <td>True</td>\n",
       "    </tr>\n",
       "    <tr>\n",
       "      <th>3</th>\n",
       "      <td>True</td>\n",
       "      <td>False</td>\n",
       "      <td>False</td>\n",
       "    </tr>\n",
       "  </tbody>\n",
       "</table>\n",
       "</div>"
      ],
      "text/plain": [
       "       a      b      c\n",
       "0   True  False  False\n",
       "1  False   True  False\n",
       "2  False  False   True\n",
       "3   True  False  False"
      ]
     },
     "execution_count": 2,
     "metadata": {},
     "output_type": "execute_result"
    }
   ],
   "source": [
    "# Basic example with a Series\n",
    "s = pd.Series(list('abca'))\n",
    "pd.get_dummies(s)"
   ]
  },
  {
   "cell_type": "code",
   "execution_count": 3,
   "metadata": {},
   "outputs": [
    {
     "name": "stdout",
     "output_type": "stream",
     "text": [
      "Without dummy_na:\n",
      "       a      b\n",
      "0   True  False\n",
      "1  False   True\n",
      "2  False  False\n",
      "\n",
      "With dummy_na=True:\n",
      "       a      b    NaN\n",
      "0   True  False  False\n",
      "1  False   True  False\n",
      "2  False  False   True\n"
     ]
    }
   ],
   "source": [
    "# Handling NaN values\n",
    "s1 = ['a', 'b', np.nan]\n",
    "print(\"Without dummy_na:\")\n",
    "print(pd.get_dummies(s1))\n",
    "\n",
    "print(\"\\nWith dummy_na=True:\")\n",
    "print(pd.get_dummies(s1, dummy_na=True))"
   ]
  },
  {
   "cell_type": "code",
   "execution_count": 4,
   "metadata": {},
   "outputs": [
    {
     "data": {
      "text/html": [
       "<div>\n",
       "<style scoped>\n",
       "    .dataframe tbody tr th:only-of-type {\n",
       "        vertical-align: middle;\n",
       "    }\n",
       "\n",
       "    .dataframe tbody tr th {\n",
       "        vertical-align: top;\n",
       "    }\n",
       "\n",
       "    .dataframe thead th {\n",
       "        text-align: right;\n",
       "    }\n",
       "</style>\n",
       "<table border=\"1\" class=\"dataframe\">\n",
       "  <thead>\n",
       "    <tr style=\"text-align: right;\">\n",
       "      <th></th>\n",
       "      <th>C</th>\n",
       "      <th>col1_a</th>\n",
       "      <th>col1_b</th>\n",
       "      <th>col2_a</th>\n",
       "      <th>col2_b</th>\n",
       "      <th>col2_c</th>\n",
       "    </tr>\n",
       "  </thead>\n",
       "  <tbody>\n",
       "    <tr>\n",
       "      <th>0</th>\n",
       "      <td>1</td>\n",
       "      <td>True</td>\n",
       "      <td>False</td>\n",
       "      <td>False</td>\n",
       "      <td>True</td>\n",
       "      <td>False</td>\n",
       "    </tr>\n",
       "    <tr>\n",
       "      <th>1</th>\n",
       "      <td>2</td>\n",
       "      <td>False</td>\n",
       "      <td>True</td>\n",
       "      <td>True</td>\n",
       "      <td>False</td>\n",
       "      <td>False</td>\n",
       "    </tr>\n",
       "    <tr>\n",
       "      <th>2</th>\n",
       "      <td>3</td>\n",
       "      <td>True</td>\n",
       "      <td>False</td>\n",
       "      <td>False</td>\n",
       "      <td>False</td>\n",
       "      <td>True</td>\n",
       "    </tr>\n",
       "  </tbody>\n",
       "</table>\n",
       "</div>"
      ],
      "text/plain": [
       "   C  col1_a  col1_b  col2_a  col2_b  col2_c\n",
       "0  1    True   False   False    True   False\n",
       "1  2   False    True    True   False   False\n",
       "2  3    True   False   False   False    True"
      ]
     },
     "execution_count": 4,
     "metadata": {},
     "output_type": "execute_result"
    }
   ],
   "source": [
    "# Using with a DataFrame\n",
    "df = pd.DataFrame({\n",
    "    'A': ['a', 'b', 'a'], \n",
    "    'B': ['b', 'a', 'c'],\n",
    "    'C': [1, 2, 3]\n",
    "})\n",
    "\n",
    "# Using prefix to distinguish columns from different features\n",
    "pd.get_dummies(df, prefix=['col1', 'col2'])"
   ]
  },
  {
   "cell_type": "code",
   "execution_count": 5,
   "metadata": {},
   "outputs": [
    {
     "name": "stdout",
     "output_type": "stream",
     "text": [
      "Original dummies:\n",
      "       a      b      c\n",
      "0   True  False  False\n",
      "1  False   True  False\n",
      "2  False  False   True\n",
      "3   True  False  False\n",
      "4   True  False  False\n",
      "\n",
      "With drop_first=True:\n",
      "       b      c\n",
      "0  False  False\n",
      "1   True  False\n",
      "2  False   True\n",
      "3  False  False\n",
      "4  False  False\n"
     ]
    }
   ],
   "source": [
    "# Using drop_first to avoid the dummy variable trap\n",
    "print(\"Original dummies:\")\n",
    "print(pd.get_dummies(pd.Series(list('abcaa'))))\n",
    "\n",
    "print(\"\\nWith drop_first=True:\")\n",
    "print(pd.get_dummies(pd.Series(list('abcaa')), drop_first=True))"
   ]
  },
  {
   "cell_type": "code",
   "execution_count": 6,
   "metadata": {},
   "outputs": [
    {
     "data": {
      "text/html": [
       "<div>\n",
       "<style scoped>\n",
       "    .dataframe tbody tr th:only-of-type {\n",
       "        vertical-align: middle;\n",
       "    }\n",
       "\n",
       "    .dataframe tbody tr th {\n",
       "        vertical-align: top;\n",
       "    }\n",
       "\n",
       "    .dataframe thead th {\n",
       "        text-align: right;\n",
       "    }\n",
       "</style>\n",
       "<table border=\"1\" class=\"dataframe\">\n",
       "  <thead>\n",
       "    <tr style=\"text-align: right;\">\n",
       "      <th></th>\n",
       "      <th>a</th>\n",
       "      <th>b</th>\n",
       "      <th>c</th>\n",
       "    </tr>\n",
       "  </thead>\n",
       "  <tbody>\n",
       "    <tr>\n",
       "      <th>0</th>\n",
       "      <td>1.0</td>\n",
       "      <td>0.0</td>\n",
       "      <td>0.0</td>\n",
       "    </tr>\n",
       "    <tr>\n",
       "      <th>1</th>\n",
       "      <td>0.0</td>\n",
       "      <td>1.0</td>\n",
       "      <td>0.0</td>\n",
       "    </tr>\n",
       "    <tr>\n",
       "      <th>2</th>\n",
       "      <td>0.0</td>\n",
       "      <td>0.0</td>\n",
       "      <td>1.0</td>\n",
       "    </tr>\n",
       "  </tbody>\n",
       "</table>\n",
       "</div>"
      ],
      "text/plain": [
       "     a    b    c\n",
       "0  1.0  0.0  0.0\n",
       "1  0.0  1.0  0.0\n",
       "2  0.0  0.0  1.0"
      ]
     },
     "execution_count": 6,
     "metadata": {},
     "output_type": "execute_result"
    }
   ],
   "source": [
    "# Specifying dtype\n",
    "pd.get_dummies(pd.Series(list('abc')), dtype=float)"
   ]
  },
  {
   "cell_type": "markdown",
   "metadata": {},
   "source": [
    "##### pd.factorize()\n",
    "\n",
    "The `factorize()` function encodes the object as an enumerated type or categorical variable. It's useful for obtaining a numeric representation of an array when all that matters is identifying distinct values."
   ]
  },
  {
   "cell_type": "code",
   "execution_count": 7,
   "metadata": {},
   "outputs": [
    {
     "name": "stdout",
     "output_type": "stream",
     "text": [
      "Codes:\n",
      "[0 0 1 2 0]\n",
      "\n",
      "Uniques:\n",
      "['b' 'a' 'c']\n"
     ]
    },
    {
     "name": "stderr",
     "output_type": "stream",
     "text": [
      "/var/folders/7y/fzwln1_93mn3js3wyk61_6xm0000gn/T/ipykernel_94851/2000572269.py:2: FutureWarning: factorize with argument that is not not a Series, Index, ExtensionArray, or np.ndarray is deprecated and will raise in a future version.\n",
      "  codes, uniques = pd.factorize(['b', 'b', 'a', 'c', 'b'])\n"
     ]
    }
   ],
   "source": [
    "# Basic example\n",
    "codes, uniques = pd.factorize(['b', 'b', 'a', 'c', 'b'])\n",
    "print(\"Codes:\")\n",
    "print(codes)\n",
    "print(\"\\nUniques:\")\n",
    "print(uniques)"
   ]
  },
  {
   "cell_type": "code",
   "execution_count": 8,
   "metadata": {},
   "outputs": [
    {
     "name": "stdout",
     "output_type": "stream",
     "text": [
      "Codes (sorted):\n",
      "[1 1 0 2 1]\n",
      "\n",
      "Uniques (sorted):\n",
      "['a' 'b' 'c']\n"
     ]
    },
    {
     "name": "stderr",
     "output_type": "stream",
     "text": [
      "/var/folders/7y/fzwln1_93mn3js3wyk61_6xm0000gn/T/ipykernel_94851/3983712931.py:2: FutureWarning: factorize with argument that is not not a Series, Index, ExtensionArray, or np.ndarray is deprecated and will raise in a future version.\n",
      "  codes, uniques = pd.factorize(['b', 'b', 'a', 'c', 'b'], sort=True)\n"
     ]
    }
   ],
   "source": [
    "# With sort=True\n",
    "codes, uniques = pd.factorize(['b', 'b', 'a', 'c', 'b'], sort=True)\n",
    "print(\"Codes (sorted):\")\n",
    "print(codes)\n",
    "print(\"\\nUniques (sorted):\")\n",
    "print(uniques)"
   ]
  },
  {
   "cell_type": "code",
   "execution_count": 9,
   "metadata": {},
   "outputs": [
    {
     "name": "stdout",
     "output_type": "stream",
     "text": [
      "Codes:\n",
      "[0 0 1 2 0]\n",
      "\n",
      "Uniques:\n",
      "Index(['b', 'a', 'c'], dtype='object')\n"
     ]
    }
   ],
   "source": [
    "# With Series\n",
    "s = pd.Series(['b', 'b', 'a', 'c', 'b'])\n",
    "codes, uniques = s.factorize()\n",
    "print(\"Codes:\")\n",
    "print(codes)\n",
    "print(\"\\nUniques:\")\n",
    "print(uniques)"
   ]
  },
  {
   "cell_type": "markdown",
   "metadata": {},
   "source": [
    "##### pd.period_range()\n",
    "\n",
    "The `period_range()` function returns a fixed frequency `PeriodIndex`, which is useful for representing time spans like quarters, months, etc."
   ]
  },
  {
   "cell_type": "code",
   "execution_count": 10,
   "metadata": {},
   "outputs": [
    {
     "data": {
      "text/plain": [
       "PeriodIndex(['2020-01', '2020-02', '2020-03', '2020-04', '2020-05', '2020-06',\n",
       "             '2020-07', '2020-08', '2020-09', '2020-10', '2020-11', '2020-12'],\n",
       "            dtype='period[M]')"
      ]
     },
     "execution_count": 10,
     "metadata": {},
     "output_type": "execute_result"
    }
   ],
   "source": [
    "# Basic example\n",
    "pd.period_range(start='2020-01-01', end='2020-12-31', freq='M')"
   ]
  },
  {
   "cell_type": "code",
   "execution_count": 11,
   "metadata": {},
   "outputs": [
    {
     "data": {
      "text/plain": [
       "PeriodIndex(['2020-01', '2020-02', '2020-03', '2020-04', '2020-05', '2020-06',\n",
       "             '2020-07', '2020-08', '2020-09', '2020-10', '2020-11', '2020-12'],\n",
       "            dtype='period[M]')"
      ]
     },
     "execution_count": 11,
     "metadata": {},
     "output_type": "execute_result"
    }
   ],
   "source": [
    "# Using periods instead of end\n",
    "pd.period_range(start='2020-01-01', periods=12, freq='M')"
   ]
  },
  {
   "cell_type": "code",
   "execution_count": 12,
   "metadata": {},
   "outputs": [
    {
     "data": {
      "text/plain": [
       "PeriodIndex(['2020-03', '2020-04', '2020-05', '2020-06', '2020-07', '2020-08',\n",
       "             '2020-09', '2020-10', '2020-11', '2020-12'],\n",
       "            dtype='period[M]')"
      ]
     },
     "execution_count": 12,
     "metadata": {},
     "output_type": "execute_result"
    }
   ],
   "source": [
    "# Using Period objects as endpoints\n",
    "pd.period_range(\n",
    "    start=pd.Period('2020Q1', freq='Q'),\n",
    "    end=pd.Period('2020Q4', freq='Q'), \n",
    "    freq='M'\n",
    ")"
   ]
  },
  {
   "cell_type": "markdown",
   "metadata": {},
   "source": [
    "##### pd.timedelta_range()\n",
    "\n",
    "The `timedelta_range()` function returns a fixed frequency `TimedeltaIndex`, with day as the default frequency. This is useful for representing differences in time."
   ]
  },
  {
   "cell_type": "code",
   "execution_count": 13,
   "metadata": {},
   "outputs": [
    {
     "data": {
      "text/plain": [
       "TimedeltaIndex(['1 days', '2 days', '3 days', '4 days'], dtype='timedelta64[ns]', freq='D')"
      ]
     },
     "execution_count": 13,
     "metadata": {},
     "output_type": "execute_result"
    }
   ],
   "source": [
    "# Basic example\n",
    "pd.timedelta_range(start='1 day', periods=4)"
   ]
  },
  {
   "cell_type": "code",
   "execution_count": 14,
   "metadata": {},
   "outputs": [
    {
     "data": {
      "text/plain": [
       "TimedeltaIndex(['2 days', '3 days', '4 days'], dtype='timedelta64[ns]', freq='D')"
      ]
     },
     "execution_count": 14,
     "metadata": {},
     "output_type": "execute_result"
    }
   ],
   "source": [
    "# Using closed parameter\n",
    "pd.timedelta_range(start='1 day', periods=4, closed='right')"
   ]
  },
  {
   "cell_type": "code",
   "execution_count": 15,
   "metadata": {},
   "outputs": [
    {
     "name": "stderr",
     "output_type": "stream",
     "text": [
      "/var/folders/7y/fzwln1_93mn3js3wyk61_6xm0000gn/T/ipykernel_94851/4243068402.py:2: FutureWarning: 'H' is deprecated and will be removed in a future version, please use 'h' instead.\n",
      "  pd.timedelta_range(start='1 day', end='2 days', freq='6H')\n"
     ]
    },
    {
     "data": {
      "text/plain": [
       "TimedeltaIndex(['1 days 00:00:00', '1 days 06:00:00', '1 days 12:00:00',\n",
       "                '1 days 18:00:00', '2 days 00:00:00'],\n",
       "               dtype='timedelta64[ns]', freq='6h')"
      ]
     },
     "execution_count": 15,
     "metadata": {},
     "output_type": "execute_result"
    }
   ],
   "source": [
    "# Using a different frequency\n",
    "pd.timedelta_range(start='1 day', end='2 days', freq='6H')"
   ]
  },
  {
   "cell_type": "code",
   "execution_count": 16,
   "metadata": {},
   "outputs": [
    {
     "data": {
      "text/plain": [
       "TimedeltaIndex(['1 days 00:00:00', '2 days 08:00:00', '3 days 16:00:00',\n",
       "                '5 days 00:00:00'],\n",
       "               dtype='timedelta64[ns]', freq=None)"
      ]
     },
     "execution_count": 16,
     "metadata": {},
     "output_type": "execute_result"
    }
   ],
   "source": [
    "# Specifying start, end, and periods (linearly spaced)\n",
    "pd.timedelta_range(start='1 day', end='5 days', periods=4)"
   ]
  },
  {
   "cell_type": "markdown",
   "metadata": {},
   "source": [
    "##### pd.infer_freq()\n",
    "\n",
    "The `infer_freq()` function infers the most likely frequency given the input index. This is useful when you have a datetime index but don't know its frequency."
   ]
  },
  {
   "cell_type": "code",
   "execution_count": 17,
   "metadata": {},
   "outputs": [
    {
     "name": "stdout",
     "output_type": "stream",
     "text": [
      "Original index:\n",
      "DatetimeIndex(['2020-01-01', '2020-01-02', '2020-01-03', '2020-01-04',\n",
      "               '2020-01-05'],\n",
      "              dtype='datetime64[ns]', freq='D')\n",
      "\n",
      "Inferred frequency: D\n"
     ]
    }
   ],
   "source": [
    "# Create a DatetimeIndex with daily frequency\n",
    "dates = pd.date_range('2020-01-01', periods=5, freq='D')\n",
    "print(\"Original index:\")\n",
    "print(dates)\n",
    "\n",
    "# Infer the frequency\n",
    "freq = pd.infer_freq(dates)\n",
    "print(f\"\\nInferred frequency: {freq}\")"
   ]
  },
  {
   "cell_type": "code",
   "execution_count": 18,
   "metadata": {},
   "outputs": [
    {
     "name": "stdout",
     "output_type": "stream",
     "text": [
      "Original index:\n",
      "DatetimeIndex(['2020-01-01', '2020-01-02', '2020-01-03', '2020-01-06',\n",
      "               '2020-01-07'],\n",
      "              dtype='datetime64[ns]', freq='B')\n",
      "\n",
      "Inferred frequency: B\n"
     ]
    }
   ],
   "source": [
    "# Create a DatetimeIndex with business day frequency\n",
    "dates = pd.date_range('2020-01-01', periods=5, freq='B')\n",
    "print(\"Original index:\")\n",
    "print(dates)\n",
    "\n",
    "# Infer the frequency\n",
    "freq = pd.infer_freq(dates)\n",
    "print(f\"\\nInferred frequency: {freq}\")"
   ]
  },
  {
   "cell_type": "code",
   "execution_count": 19,
   "metadata": {},
   "outputs": [
    {
     "name": "stdout",
     "output_type": "stream",
     "text": [
      "Original index:\n",
      "TimedeltaIndex(['1 days', '3 days', '5 days', '7 days', '9 days'], dtype='timedelta64[ns]', freq='2D')\n",
      "\n",
      "Inferred frequency: 2D\n"
     ]
    }
   ],
   "source": [
    "# Create a TimedeltaIndex\n",
    "deltas = pd.timedelta_range(start='1 day', periods=5, freq='2D')\n",
    "print(\"Original index:\")\n",
    "print(deltas)\n",
    "\n",
    "# Infer the frequency\n",
    "freq = pd.infer_freq(deltas)\n",
    "print(f\"\\nInferred frequency: {freq}\")"
   ]
  },
  {
   "cell_type": "markdown",
   "metadata": {},
   "source": [
    "##### pd.interval_range()\n",
    "\n",
    "The `interval_range()` function returns a fixed frequency `IntervalIndex`. This is useful for binning data into intervals."
   ]
  },
  {
   "cell_type": "code",
   "execution_count": 20,
   "metadata": {},
   "outputs": [
    {
     "data": {
      "text/plain": [
       "IntervalIndex([(0, 1], (1, 2], (2, 3], (3, 4], (4, 5]], dtype='interval[int64, right]')"
      ]
     },
     "execution_count": 20,
     "metadata": {},
     "output_type": "execute_result"
    }
   ],
   "source": [
    "# Basic example\n",
    "pd.interval_range(start=0, end=5)"
   ]
  },
  {
   "cell_type": "code",
   "execution_count": 21,
   "metadata": {},
   "outputs": [
    {
     "data": {
      "text/plain": [
       "IntervalIndex([(0, 1], (1, 2], (2, 3], (3, 4], (4, 5]], dtype='interval[int64, right]')"
      ]
     },
     "execution_count": 21,
     "metadata": {},
     "output_type": "execute_result"
    }
   ],
   "source": [
    "# Using periods instead of end\n",
    "pd.interval_range(start=0, periods=5)"
   ]
  },
  {
   "cell_type": "code",
   "execution_count": 22,
   "metadata": {},
   "outputs": [
    {
     "data": {
      "text/plain": [
       "IntervalIndex([(0, 2], (2, 4], (4, 6], (6, 8], (8, 10]], dtype='interval[int64, right]')"
      ]
     },
     "execution_count": 22,
     "metadata": {},
     "output_type": "execute_result"
    }
   ],
   "source": [
    "# Using a different frequency\n",
    "pd.interval_range(start=0, end=10, freq=2)"
   ]
  },
  {
   "cell_type": "code",
   "execution_count": 23,
   "metadata": {},
   "outputs": [
    {
     "data": {
      "text/plain": [
       "IntervalIndex([[0, 1), [1, 2), [2, 3), [3, 4), [4, 5)], dtype='interval[int64, left]')"
      ]
     },
     "execution_count": 23,
     "metadata": {},
     "output_type": "execute_result"
    }
   ],
   "source": [
    "# Using closed parameter\n",
    "pd.interval_range(start=0, end=5, closed='left')"
   ]
  },
  {
   "cell_type": "markdown",
   "metadata": {},
   "source": [
    "##### Practical Examples\n",
    "\n",
    "Let's explore some practical examples of these functions."
   ]
  },
  {
   "cell_type": "markdown",
   "metadata": {},
   "source": [
    "### Example 1: One-hot encoding for machine learning"
   ]
  },
  {
   "cell_type": "code",
   "execution_count": 24,
   "metadata": {},
   "outputs": [
    {
     "name": "stdout",
     "output_type": "stream",
     "text": [
      "Original DataFrame:\n",
      "   id  color size  price\n",
      "0   1    red    S   10.5\n",
      "1   2   blue    M   15.0\n",
      "2   3  green    L   20.0\n",
      "3   4    red   XL   25.5\n",
      "4   5   blue    S   12.0\n"
     ]
    }
   ],
   "source": [
    "# Create a sample dataset\n",
    "data = {\n",
    "    'id': range(1, 6),\n",
    "    'color': ['red', 'blue', 'green', 'red', 'blue'],\n",
    "    'size': ['S', 'M', 'L', 'XL', 'S'],\n",
    "    'price': [10.5, 15.0, 20.0, 25.5, 12.0]\n",
    "}\n",
    "\n",
    "df = pd.DataFrame(data)\n",
    "print(\"Original DataFrame:\")\n",
    "print(df)"
   ]
  },
  {
   "cell_type": "code",
   "execution_count": 25,
   "metadata": {},
   "outputs": [
    {
     "name": "stdout",
     "output_type": "stream",
     "text": [
      "Encoded DataFrame:\n",
      "   id  price  color_green  color_red  size_M  size_S  size_XL\n",
      "0   1   10.5        False       True   False    True    False\n",
      "1   2   15.0        False      False    True   False    False\n",
      "2   3   20.0         True      False   False   False    False\n",
      "3   4   25.5        False       True   False   False     True\n",
      "4   5   12.0        False      False   False    True    False\n"
     ]
    }
   ],
   "source": [
    "# One-hot encode the categorical columns\n",
    "df_encoded = pd.get_dummies(df, columns=['color', 'size'], drop_first=True)\n",
    "print(\"Encoded DataFrame:\")\n",
    "print(df_encoded)"
   ]
  },
  {
   "cell_type": "markdown",
   "metadata": {},
   "source": [
    "### Example 2: Creating time-based features for time series analysis"
   ]
  },
  {
   "cell_type": "code",
   "execution_count": 26,
   "metadata": {},
   "outputs": [
    {
     "name": "stdout",
     "output_type": "stream",
     "text": [
      "Time Series:\n",
      "2020-01-31   -0.191536\n",
      "2020-02-29   -0.193383\n",
      "2020-03-31    1.125679\n",
      "2020-04-30    1.011478\n",
      "2020-05-31    0.239731\n",
      "2020-06-30    0.426610\n",
      "2020-07-31   -0.391490\n",
      "2020-08-31   -0.254242\n",
      "2020-09-30   -1.548778\n",
      "2020-10-31   -0.838395\n",
      "2020-11-30   -1.196775\n",
      "2020-12-31   -1.267135\n",
      "Freq: ME, dtype: float64\n"
     ]
    },
    {
     "name": "stderr",
     "output_type": "stream",
     "text": [
      "/var/folders/7y/fzwln1_93mn3js3wyk61_6xm0000gn/T/ipykernel_94851/199794648.py:2: FutureWarning: 'M' is deprecated and will be removed in a future version, please use 'ME' instead.\n",
      "  dates = pd.date_range('2020-01-01', periods=12, freq='M')\n"
     ]
    }
   ],
   "source": [
    "# Create a sample time series dataset\n",
    "dates = pd.date_range('2020-01-01', periods=12, freq='M')\n",
    "values = np.random.randn(12).cumsum()\n",
    "ts = pd.Series(values, index=dates)\n",
    "print(\"Time Series:\")\n",
    "print(ts)"
   ]
  },
  {
   "cell_type": "code",
   "execution_count": 27,
   "metadata": {},
   "outputs": [
    {
     "name": "stdout",
     "output_type": "stream",
     "text": [
      "Time Series with Features:\n",
      "        date     value  year  month  quarter  month_1  month_2  month_3  \\\n",
      "0 2020-01-31 -0.191536  2020      1        1     True    False    False   \n",
      "1 2020-02-29 -0.193383  2020      2        1    False     True    False   \n",
      "2 2020-03-31  1.125679  2020      3        1    False    False     True   \n",
      "3 2020-04-30  1.011478  2020      4        2    False    False    False   \n",
      "4 2020-05-31  0.239731  2020      5        2    False    False    False   \n",
      "\n",
      "   month_4  month_5  month_6  month_7  month_8  month_9  month_10  month_11  \\\n",
      "0    False    False    False    False    False    False     False     False   \n",
      "1    False    False    False    False    False    False     False     False   \n",
      "2    False    False    False    False    False    False     False     False   \n",
      "3     True    False    False    False    False    False     False     False   \n",
      "4    False     True    False    False    False    False     False     False   \n",
      "\n",
      "   month_12  \n",
      "0     False  \n",
      "1     False  \n",
      "2     False  \n",
      "3     False  \n",
      "4     False  \n"
     ]
    }
   ],
   "source": [
    "# Convert to DataFrame and add time-based features\n",
    "df_ts = ts.reset_index()\n",
    "df_ts.columns = ['date', 'value']\n",
    "\n",
    "# Extract time components\n",
    "df_ts['year'] = df_ts['date'].dt.year\n",
    "df_ts['month'] = df_ts['date'].dt.month\n",
    "df_ts['quarter'] = df_ts['date'].dt.quarter\n",
    "\n",
    "# One-hot encode month\n",
    "month_dummies = pd.get_dummies(df_ts['month'], prefix='month')\n",
    "df_ts = pd.concat([df_ts, month_dummies], axis=1)\n",
    "\n",
    "print(\"Time Series with Features:\")\n",
    "print(df_ts.head())"
   ]
  },
  {
   "cell_type": "markdown",
   "metadata": {},
   "source": [
    "### Example 3: Using factorize for label encoding"
   ]
  },
  {
   "cell_type": "code",
   "execution_count": 28,
   "metadata": {},
   "outputs": [
    {
     "name": "stdout",
     "output_type": "stream",
     "text": [
      "Original DataFrame:\n",
      "   id category subcategory\n",
      "0   1        A           X\n",
      "1   2        B           Y\n",
      "2   3        C           Z\n",
      "3   4        A           X\n",
      "4   5        B           Y\n",
      "5   6        A           Z\n",
      "6   7        D           X\n"
     ]
    }
   ],
   "source": [
    "# Create a sample dataset with categorical variables\n",
    "data = {\n",
    "    'id': range(1, 8),\n",
    "    'category': ['A', 'B', 'C', 'A', 'B', 'A', 'D'],\n",
    "    'subcategory': ['X', 'Y', 'Z', 'X', 'Y', 'Z', 'X']\n",
    "}\n",
    "\n",
    "df = pd.DataFrame(data)\n",
    "print(\"Original DataFrame:\")\n",
    "print(df)"
   ]
  },
  {
   "cell_type": "code",
   "execution_count": 29,
   "metadata": {},
   "outputs": [
    {
     "name": "stdout",
     "output_type": "stream",
     "text": [
      "\n",
      "Encoded DataFrame:\n",
      "   id category subcategory  category_code  subcategory_code\n",
      "0   1        A           X              0                 0\n",
      "1   2        B           Y              1                 1\n",
      "2   3        C           Z              2                 2\n",
      "3   4        A           X              0                 0\n",
      "4   5        B           Y              1                 1\n",
      "5   6        A           Z              0                 2\n",
      "6   7        D           X              3                 0\n",
      "\n",
      "Category Mapping:\n",
      "0: A\n",
      "1: B\n",
      "2: C\n",
      "3: D\n",
      "\n",
      "Subcategory Mapping:\n",
      "0: X\n",
      "1: Y\n",
      "2: Z\n"
     ]
    }
   ],
   "source": [
    "# Label encode the categorical columns\n",
    "df['category_code'], category_uniques = pd.factorize(df['category'])\n",
    "df['subcategory_code'], subcategory_uniques = pd.factorize(df['subcategory'])\n",
    "\n",
    "print(\"\\nEncoded DataFrame:\")\n",
    "print(df)\n",
    "\n",
    "print(\"\\nCategory Mapping:\")\n",
    "for i, cat in enumerate(category_uniques):\n",
    "    print(f\"{i}: {cat}\")\n",
    "\n",
    "print(\"\\nSubcategory Mapping:\")\n",
    "for i, subcat in enumerate(subcategory_uniques):\n",
    "    print(f\"{i}: {subcat}\")"
   ]
  },
  {
   "cell_type": "markdown",
   "metadata": {},
   "source": [
    "##### Summary\n",
    "\n",
    "In this notebook, we've explored several important general functions in pandas:\n",
    "\n",
    "1. **pd.get_dummies()**: Converts categorical variables into dummy/indicator variables (one-hot encoding).\n",
    "2. **pd.factorize()**: Encodes objects as enumerated types, useful for label encoding.\n",
    "3. **pd.period_range()**: Creates a fixed frequency PeriodIndex for representing time spans.\n",
    "4. **pd.timedelta_range()**: Creates a fixed frequency TimedeltaIndex for representing time differences.\n",
    "5. **pd.infer_freq()**: Infers the frequency of a DatetimeIndex or TimedeltaIndex.\n",
    "6. **pd.interval_range()**: Creates a fixed frequency IntervalIndex for representing intervals.\n",
    "\n",
    "These functions are essential tools for data preprocessing, time series analysis, and feature engineering in pandas."
   ]
  }
 ],
 "metadata": {
  "kernelspec": {
   "display_name": "venv",
   "language": "python",
   "name": "python3"
  },
  "language_info": {
   "codemirror_mode": {
    "name": "ipython",
    "version": 3
   },
   "file_extension": ".py",
   "mimetype": "text/x-python",
   "name": "python",
   "nbconvert_exporter": "python",
   "pygments_lexer": "ipython3",
   "version": "3.13.2"
  }
 },
 "nbformat": 4,
 "nbformat_minor": 4
}
