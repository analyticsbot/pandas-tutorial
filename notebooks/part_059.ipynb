{
 "cells": [
  {
   "cell_type": "markdown",
   "metadata": {},
   "source": [
    "#### Pandas Tutorial - Part 59: DataFrame Methods (cumsum, describe, equals, eval)\n",
    "\n",
    "This notebook covers several important DataFrame methods including:\n",
    "- `cumsum()` - Return cumulative sum over a DataFrame axis\n",
    "- `describe()` - Generate descriptive statistics\n",
    "- `equals()` - Test whether two objects contain the same elements\n",
    "- `eval()` - Evaluate a string describing operations on DataFrame columns"
   ]
  },
  {
   "cell_type": "code",
   "execution_count": null,
   "metadata": {},
   "outputs": [],
   "source": [
    "import pandas as pd\n",
    "import numpy as np\n",
    "import matplotlib.pyplot as plt\n",
    "\n",
    "# Set display options\n",
    "pd.set_option('display.max_columns', None)\n",
    "pd.set_option('display.expand_frame_repr', False)"
   ]
  },
  {
   "cell_type": "markdown",
   "metadata": {},
   "source": [
    "##### 1. DataFrame.cumsum()\n",
    "\n",
    "The `cumsum()` method returns the cumulative sum over a DataFrame or Series axis."
   ]
  },
  {
   "cell_type": "code",
   "execution_count": null,
   "metadata": {},
   "outputs": [],
   "source": [
    "# Create a Series with some values\n",
    "s = pd.Series([2, np.nan, 5, -1, 0])\n",
    "print(\"Original Series:\")\n",
    "s"
   ]
  },
  {
   "cell_type": "code",
   "execution_count": null,
   "metadata": {},
   "outputs": [],
   "source": [
    "# Calculate cumulative sum (by default, NA values are ignored)\n",
    "print(\"Cumulative sum (skipna=True):\")\n",
    "s.cumsum()"
   ]
  },
  {
   "cell_type": "code",
   "execution_count": null,
   "metadata": {},
   "outputs": [],
   "source": [
    "# Calculate cumulative sum including NA values\n",
    "print(\"Cumulative sum (skipna=False):\")\n",
    "s.cumsum(skipna=False)"
   ]
  },
  {
   "cell_type": "code",
   "execution_count": null,
   "metadata": {},
   "outputs": [],
   "source": [
    "# Create a DataFrame with some values\n",
    "df = pd.DataFrame([\n",
    "    [2.0, 1.0],\n",
    "    [3.0, np.nan],\n",
    "    [1.0, 0.0]\n",
    "], columns=list('AB'))\n",
    "print(\"Original DataFrame:\")\n",
    "df"
   ]
  },
  {
   "cell_type": "code",
   "execution_count": null,
   "metadata": {},
   "outputs": [],
   "source": [
    "# Calculate cumulative sum along index (rows)\n",
    "print(\"Cumulative sum along index (axis=0):\")\n",
    "df.cumsum()"
   ]
  },
  {
   "cell_type": "code",
   "execution_count": null,
   "metadata": {},
   "outputs": [],
   "source": [
    "# Calculate cumulative sum along columns\n",
    "print(\"Cumulative sum along columns (axis=1):\")\n",
    "df.cumsum(axis=1)"
   ]
  },
  {
   "cell_type": "code",
   "execution_count": null,
   "metadata": {},
   "outputs": [],
   "source": [
    "# Create a DataFrame with more data\n",
    "df2 = pd.DataFrame({\n",
    "    'A': [1, 2, 3, 4, 5],\n",
    "    'B': [10, 20, 30, 40, 50],\n",
    "    'C': [-1, -2, -3, -4, -5]\n",
    "})\n",
    "print(\"DataFrame with more data:\")\n",
    "print(df2)\n",
    "\n",
    "print(\"\\nCumulative sum along index:\")\n",
    "print(df2.cumsum())"
   ]
  },
  {
   "cell_type": "code",
   "execution_count": null,
   "metadata": {},
   "outputs": [],
   "source": [
    "# Visualize the cumulative sum\n",
    "df2.cumsum().plot(figsize=(10, 6))\n",
    "plt.title('Cumulative Sum')\n",
    "plt.xlabel('Index')\n",
    "plt.ylabel('Cumulative Sum')\n",
    "plt.grid(True)\n",
    "plt.show()"
   ]
  },
  {
   "cell_type": "markdown",
   "metadata": {},
   "source": [
    "##### 2. DataFrame.describe()\n",
    "\n",
    "The `describe()` method generates descriptive statistics that summarize the central tendency, dispersion, and shape of a dataset's distribution."
   ]
  },
  {
   "cell_type": "code",
   "execution_count": null,
   "metadata": {},
   "outputs": [],
   "source": [
    "# Create a DataFrame with numeric data\n",
    "df = pd.DataFrame({\n",
    "    'A': [1, 2, 3, 4, 5],\n",
    "    'B': [10, 20, 30, 40, 50],\n",
    "    'C': [100, 50, 10, 20, 30]\n",
    "})\n",
    "print(\"DataFrame with numeric data:\")\n",
    "df"
   ]
  },
  {
   "cell_type": "code",
   "execution_count": null,
   "metadata": {},
   "outputs": [],
   "source": [
    "# Generate descriptive statistics\n",
    "print(\"Descriptive statistics:\")\n",
    "df.describe()"
   ]
  },
  {
   "cell_type": "code",
   "execution_count": null,
   "metadata": {},
   "outputs": [],
   "source": [
    "# Create a DataFrame with mixed data types\n",
    "df_mixed = pd.DataFrame({\n",
    "    'A': [1, 2, 3, 4, 5],\n",
    "    'B': ['a', 'b', 'c', 'd', 'e'],\n",
    "    'C': [True, False, True, True, False],\n",
    "    'D': pd.date_range('20200101', periods=5)\n",
    "})\n",
    "print(\"DataFrame with mixed data types:\")\n",
    "df_mixed"
   ]
  },
  {
   "cell_type": "code",
   "execution_count": null,
   "metadata": {},
   "outputs": [],
   "source": [
    "# By default, describe() only includes numeric columns\n",
    "print(\"Default describe() (numeric columns only):\")\n",
    "df_mixed.describe()"
   ]
  },
  {
   "cell_type": "code",
   "execution_count": null,
   "metadata": {},
   "outputs": [],
   "source": [
    "# Include all columns\n",
    "print(\"describe() with include='all':\")\n",
    "df_mixed.describe(include='all')"
   ]
  },
  {
   "cell_type": "code",
   "execution_count": null,
   "metadata": {},
   "outputs": [],
   "source": [
    "# Include only object columns\n",
    "print(\"describe() with include=['object']:\")\n",
    "df_mixed.describe(include=['object'])"
   ]
  },
  {
   "cell_type": "code",
   "execution_count": null,
   "metadata": {},
   "outputs": [],
   "source": [
    "# Include only numeric columns (explicitly)\n",
    "print(\"describe() with include=[np.number]:\")\n",
    "df_mixed.describe(include=[np.number])"
   ]
  },
  {
   "cell_type": "code",
   "execution_count": null,
   "metadata": {},
   "outputs": [],
   "source": [
    "# Exclude numeric columns\n",
    "print(\"describe() with exclude=[np.number]:\")\n",
    "df_mixed.describe(exclude=[np.number])"
   ]
  },
  {
   "cell_type": "code",
   "execution_count": null,
   "metadata": {},
   "outputs": [],
   "source": [
    "# Customize percentiles\n",
    "print(\"describe() with custom percentiles:\")\n",
    "df.describe(percentiles=[0.05, 0.25, 0.5, 0.75, 0.95])"
   ]
  },
  {
   "cell_type": "markdown",
   "metadata": {},
   "source": [
    "##### 3. DataFrame.equals()\n",
    "\n",
    "The `equals()` method tests whether two objects contain the same elements."
   ]
  },
  {
   "cell_type": "code",
   "execution_count": null,
   "metadata": {},
   "outputs": [],
   "source": [
    "# Create a DataFrame\n",
    "df = pd.DataFrame({1: [10], 2: [20]})\n",
    "print(\"Original DataFrame:\")\n",
    "df"
   ]
  },
  {
   "cell_type": "code",
   "execution_count": null,
   "metadata": {},
   "outputs": [],
   "source": [
    "# Create an identical DataFrame\n",
    "exactly_equal = pd.DataFrame({1: [10], 2: [20]})\n",
    "print(\"Identical DataFrame:\")\n",
    "exactly_equal\n",
    "\n",
    "# Test equality\n",
    "print(\"\\nAre they equal?\", df.equals(exactly_equal))"
   ]
  },
  {
   "cell_type": "code",
   "execution_count": null,
   "metadata": {},
   "outputs": [],
   "source": [
    "# Create a DataFrame with different column types but same values\n",
    "different_column_type = pd.DataFrame({1.0: [10], 2.0: [20]})\n",
    "print(\"DataFrame with different column types:\")\n",
    "different_column_type\n",
    "\n",
    "# Test equality\n",
    "print(\"\\nAre they equal?\", df.equals(different_column_type))"
   ]
  },
  {
   "cell_type": "code",
   "execution_count": null,
   "metadata": {},
   "outputs": [],
   "source": [
    "# Create a DataFrame with different data types\n",
    "different_data_type = pd.DataFrame({1: [10.0], 2: [20.0]})\n",
    "print(\"DataFrame with different data types:\")\n",
    "different_data_type\n",
    "\n",
    "# Test equality\n",
    "print(\"\\nAre they equal?\", df.equals(different_data_type))"
   ]
  },
  {
   "cell_type": "code",
   "execution_count": null,
   "metadata": {},
   "outputs": [],
   "source": [
    "# Create a DataFrame with different values\n",
    "different_values = pd.DataFrame({1: [11], 2: [20]})\n",
    "print(\"DataFrame with different values:\")\n",
    "different_values\n",
    "\n",
    "# Test equality\n",
    "print(\"\\nAre they equal?\", df.equals(different_values))"
   ]
  },
  {
   "cell_type": "code",
   "execution_count": null,
   "metadata": {},
   "outputs": [],
   "source": [
    "# Create a DataFrame with different index\n",
    "different_index = pd.DataFrame({1: [10], 2: [20]}, index=[1])\n",
    "print(\"DataFrame with different index:\")\n",
    "different_index\n",
    "\n",
    "# Test equality\n",
    "print(\"\\nAre they equal?\", df.equals(different_index))"
   ]
  },
  {
   "cell_type": "code",
   "execution_count": null,
   "metadata": {},
   "outputs": [],
   "source": [
    "# Test equality with Series\n",
    "s1 = pd.Series([1, 2, 3])\n",
    "s2 = pd.Series([1, 2, 3])\n",
    "s3 = pd.Series([1, 2, 4])\n",
    "\n",
    "print(\"s1 equals s2:\", s1.equals(s2))\n",
    "print(\"s1 equals s3:\", s1.equals(s3))"
   ]
  },
  {
   "cell_type": "markdown",
   "metadata": {},
   "source": [
    "##### 4. DataFrame.eval()\n",
    "\n",
    "The `eval()` method evaluates a string describing operations on DataFrame columns."
   ]
  },
  {
   "cell_type": "code",
   "execution_count": null,
   "metadata": {},
   "outputs": [],
   "source": [
    "# Create a DataFrame\n",
    "df = pd.DataFrame({\n",
    "    'A': range(1, 6),\n",
    "    'B': range(10, 60, 10),\n",
    "    'C': range(100, 600, 100)\n",
    "})\n",
    "print(\"Original DataFrame:\")\n",
    "df"
   ]
  },
  {
   "cell_type": "code",
   "execution_count": null,
   "metadata": {},
   "outputs": [],
   "source": [
    "# Simple arithmetic expression\n",
    "print(\"A + B:\")\n",
    "df.eval('A + B')"
   ]
  },
  {
   "cell_type": "code",
   "execution_count": null,
   "metadata": {},
   "outputs": [],
   "source": [
    "# More complex expression\n",
    "print(\"A + B * C:\")\n",
    "df.eval('A + B * C')"
   ]
  },
  {
   "cell_type": "code",
   "execution_count": null,
   "metadata": {},
   "outputs": [],
   "source": [
    "# Comparison expression\n",
    "print(\"A < B:\")\n",
    "df.eval('A < B')"
   ]
  },
  {
   "cell_type": "code",
   "execution_count": null,
   "metadata": {},
   "outputs": [],
   "source": [
    "# Assignment expression (create a new column)\n",
    "print(\"Create new column 'D' = A + B:\")\n",
    "df.eval('D = A + B', inplace=True)\n",
    "df"
   ]
  },
  {
   "cell_type": "code",
   "execution_count": null,
   "metadata": {},
   "outputs": [],
   "source": [
    "# Assignment expression (modify existing column)\n",
    "print(\"Modify column 'D' = A * B:\")\n",
    "df.eval('D = A * B', inplace=True)\n",
    "df"
   ]
  },
  {
   "cell_type": "code",
   "execution_count": null,
   "metadata": {},
   "outputs": [],
   "source": [
    "# Using local variables in the expression\n",
    "x = 10\n",
    "print(f\"Using local variable x = {x}:\")\n",
    "df.eval('A + @x')"
   ]
  },
  {
   "cell_type": "code",
   "execution_count": null,
   "metadata": {},
   "outputs": [],
   "source": [
    "# Multiple expressions separated by semicolons\n",
    "print(\"Multiple expressions:\")\n",
    "df.eval(\"\"\"\n",
    "E = A + C\n",
    "F = B - A\n",
    "\"\"\", inplace=True)\n",
    "df"
   ]
  },
  {
   "cell_type": "code",
   "execution_count": null,
   "metadata": {},
   "outputs": [],
   "source": [
    "# Using boolean operators\n",
    "print(\"Boolean expression:\")\n",
    "df.eval('(A > 3) & (B < 50)')"
   ]
  },
  {
   "cell_type": "markdown",
   "metadata": {},
   "source": [
    "##### Summary\n",
    "\n",
    "In this notebook, we've explored several important DataFrame methods:\n",
    "\n",
    "1. **cumsum()**: Returns the cumulative sum over a DataFrame or Series axis\n",
    "2. **describe()**: Generates descriptive statistics summarizing the central tendency, dispersion, and shape of a dataset's distribution\n",
    "3. **equals()**: Tests whether two objects contain the same elements\n",
    "4. **eval()**: Evaluates a string describing operations on DataFrame columns\n",
    "\n",
    "These methods are essential for calculating cumulative statistics, understanding data distributions, comparing data structures, and performing operations on DataFrame columns in pandas."
   ]
  }
 ],
 "metadata": {
  "kernelspec": {
   "display_name": "Python 3",
   "language": "python",
   "name": "python3"
  },
  "language_info": {
   "codemirror_mode": {
    "name": "ipython",
    "version": 3
   },
   "file_extension": ".py",
   "mimetype": "text/x-python",
   "name": "python",
   "nbconvert_exporter": "python",
   "pygments_lexer": "ipython3",
   "version": "3.8.5"
  }
 },
 "nbformat": 4,
 "nbformat_minor": 4
}