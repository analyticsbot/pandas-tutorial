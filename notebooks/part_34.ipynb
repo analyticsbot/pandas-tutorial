{
 "cells": [
  {
   "cell_type": "markdown",
   "metadata": {},
   "source": [
    "# Pandas Tutorial - Part 34\n",
    "\n",
    "This notebook covers:\n",
    "- More on Pandas options and settings\n",
    "- Enhancing performance with pandas.eval()"
   ]
  },
  {
   "cell_type": "code",
   "execution_count": null,
   "metadata": {},
   "outputs": [],
   "source": [
    "import pandas as pd\n",
    "import numpy as np\n",
    "import time\n",
    "\n",
    "%matplotlib inline"
   ]
  },
  {
   "cell_type": "markdown",
   "metadata": {},
   "source": [
    "## Pandas Options and Settings (Continued)\n",
    "\n",
    "Continuing from Part 33, let's explore more about pandas options and settings."
   ]
  },
  {
   "cell_type": "code",
   "execution_count": null,
   "metadata": {},
   "outputs": [],
   "source": [
    "# Reset all display options\n",
    "pd.reset_option(\"^display\")"
   ]
  },
  {
   "cell_type": "markdown",
   "metadata": {},
   "source": [
    "### Using option_context\n",
    "\n",
    "The `option_context` context manager allows you to execute code with given option values. Option values are restored automatically when you exit the with block."
   ]
  },
  {
   "cell_type": "code",
   "execution_count": null,
   "metadata": {},
   "outputs": [],
   "source": [
    "# Using option_context to temporarily change options\n",
    "with pd.option_context(\"display.max_rows\", 10, \"display.max_columns\", 5):\n",
    "    print(pd.get_option(\"display.max_rows\"))\n",
    "    print(pd.get_option(\"display.max_columns\"))\n",
    "\n",
    "# Options are restored to their previous values\n",
    "print(pd.get_option(\"display.max_rows\"))\n",
    "print(pd.get_option(\"display.max_columns\"))"
   ]
  },
  {
   "cell_type": "markdown",
   "metadata": {},
   "source": [
    "### Setting Startup Options\n",
    "\n",
    "You can set startup options in Python/IPython environment by creating a `.py` or `.ipy` script in the startup directory of the desired profile. For example, in a default ipython profile, the startup folder is at `$IPYTHONDIR/profile_default/startup`.\n",
    "\n",
    "An example startup script for pandas might look like:\n",
    "\n",
    "```python\n",
    "import pandas as pd\n",
    "pd.set_option('display.max_rows', 999)\n",
    "pd.set_option('precision', 5)\n",
    "```"
   ]
  },
  {
   "cell_type": "markdown",
   "metadata": {},
   "source": [
    "### Frequently Used Options\n",
    "\n",
    "Let's explore some of the most frequently used display options."
   ]
  },
  {
   "cell_type": "markdown",
   "metadata": {},
   "source": [
    "#### display.max_rows and display.max_columns\n",
    "\n",
    "These options set the maximum number of rows and columns displayed when a frame is pretty-printed. Truncated lines are replaced by an ellipsis."
   ]
  },
  {
   "cell_type": "code",
   "execution_count": null,
   "metadata": {},
   "outputs": [],
   "source": [
    "# Create a sample DataFrame\n",
    "df = pd.DataFrame(np.random.randn(7, 2))\n",
    "\n",
    "# Set max_rows to 7 (show all rows)\n",
    "pd.set_option('max_rows', 7)\n",
    "df"
   ]
  },
  {
   "cell_type": "code",
   "execution_count": null,
   "metadata": {},
   "outputs": [],
   "source": [
    "# Set max_rows to 5 (truncate display)\n",
    "pd.set_option('max_rows', 5)\n",
    "df"
   ]
  },
  {
   "cell_type": "code",
   "execution_count": null,
   "metadata": {},
   "outputs": [],
   "source": [
    "# Reset to default\n",
    "pd.reset_option('max_rows')"
   ]
  },
  {
   "cell_type": "markdown",
   "metadata": {},
   "source": [
    "#### display.min_rows\n",
    "\n",
    "Once the `display.max_rows` is exceeded, the `display.min_rows` option determines how many rows are shown in the truncated representation."
   ]
  },
  {
   "cell_type": "code",
   "execution_count": null,
   "metadata": {},
   "outputs": [],
   "source": [
    "# Set max_rows and min_rows\n",
    "pd.set_option('max_rows', 8)\n",
    "pd.set_option('min_rows', 4)\n",
    "\n",
    "# Below max_rows -> all rows shown\n",
    "df = pd.DataFrame(np.random.randn(7, 2))\n",
    "df"
   ]
  },
  {
   "cell_type": "code",
   "execution_count": null,
   "metadata": {},
   "outputs": [],
   "source": [
    "# Above max_rows -> only min_rows (4) rows shown\n",
    "df = pd.DataFrame(np.random.randn(9, 2))\n",
    "df"
   ]
  },
  {
   "cell_type": "code",
   "execution_count": null,
   "metadata": {},
   "outputs": [],
   "source": [
    "# Reset options\n",
    "pd.reset_option('max_rows')\n",
    "pd.reset_option('min_rows')"
   ]
  },
  {
   "cell_type": "markdown",
   "metadata": {},
   "source": [
    "#### display.expand_frame_repr\n",
    "\n",
    "This option allows for the representation of dataframes to stretch across pages, wrapped over the full column vs row-wise."
   ]
  },
  {
   "cell_type": "code",
   "execution_count": null,
   "metadata": {},
   "outputs": [],
   "source": [
    "# Create a wider DataFrame\n",
    "df = pd.DataFrame(np.random.randn(5, 10))\n",
    "\n",
    "# Set expand_frame_repr to True\n",
    "pd.set_option('expand_frame_repr', True)\n",
    "df"
   ]
  },
  {
   "cell_type": "markdown",
   "metadata": {},
   "source": [
    "## Enhancing Performance with pandas.eval()\n",
    "\n",
    "Pandas provides the `eval()` function which allows you to evaluate a string describing operations on pandas objects. This can lead to improved performance for certain types of operations."
   ]
  },
  {
   "cell_type": "code",
   "execution_count": null,
   "metadata": {},
   "outputs": [],
   "source": [
    "# Create some large DataFrames for demonstration\n",
    "nrows, ncols = 20000, 100\n",
    "df1, df2, df3, df4 = [pd.DataFrame(np.random.randn(nrows, ncols)) for _ in range(4)]"
   ]
  },
  {
   "cell_type": "markdown",
   "metadata": {},
   "source": [
    "### Basic Usage of pandas.eval()\n",
    "\n",
    "The `eval()` function evaluates a string describing operations on pandas objects."
   ]
  },
  {
   "cell_type": "code",
   "execution_count": null,
   "metadata": {},
   "outputs": [],
   "source": [
    "# Using variables in the current namespace\n",
    "a, b = 1, 2\n",
    "pd.eval('a + b')"
   ]
  },
  {
   "cell_type": "code",
   "execution_count": null,
   "metadata": {},
   "outputs": [],
   "source": [
    "# The @ prefix is not allowed in top-level eval calls\n",
    "try:\n",
    "    pd.eval('@a + b')\n",
    "except SyntaxError as e:\n",
    "    print(e)"
   ]
  },
  {
   "cell_type": "markdown",
   "metadata": {},
   "source": [
    "### pandas.eval() Parsers\n",
    "\n",
    "There are two different parsers you can use as the backend:\n",
    "- The default 'pandas' parser allows a more intuitive syntax for expressing query-like operations\n",
    "- The 'python' parser enforces strict Python semantics"
   ]
  },
  {
   "cell_type": "code",
   "execution_count": null,
   "metadata": {},
   "outputs": [],
   "source": [
    "# Using the 'python' parser with parentheses\n",
    "expr = '(df1 > 0) & (df2 > 0) & (df3 > 0) & (df4 > 0)'\n",
    "x = pd.eval(expr, parser='python')\n",
    "\n",
    "# Using the 'pandas' parser without parentheses\n",
    "expr_no_parens = 'df1 > 0 & df2 > 0 & df3 > 0 & df4 > 0'\n",
    "y = pd.eval(expr_no_parens, parser='pandas')\n",
    "\n",
    "# Check if results are the same\n",
    "np.all(x == y)"
   ]
  },
  {
   "cell_type": "code",
   "execution_count": null,
   "metadata": {},
   "outputs": [],
   "source": [
    "# Using 'and' instead of '&'\n",
    "expr = '(df1 > 0) & (df2 > 0) & (df3 > 0) & (df4 > 0)'\n",
    "x = pd.eval(expr, parser='python')\n",
    "\n",
    "expr_with_ands = 'df1 > 0 and df2 > 0 and df3 > 0 and df4 > 0'\n",
    "y = pd.eval(expr_with_ands, parser='pandas')\n",
    "\n",
    "# Check if results are the same\n",
    "np.all(x == y)"
   ]
  },
  {
   "cell_type": "markdown",
   "metadata": {},
   "source": [
    "### pandas.eval() Backends\n",
    "\n",
    "There's also the option to make `eval()` operate identical to plain Python using the 'python' engine. However, this generally provides no performance benefits and may even be slower."
   ]
  },
  {
   "cell_type": "code",
   "execution_count": null,
   "metadata": {},
   "outputs": [],
   "source": [
    "# Compare performance\n",
    "%timeit df1 + df2 + df3 + df4\n",
    "%timeit pd.eval('df1 + df2 + df3 + df4', engine='python')"
   ]
  },
  {
   "cell_type": "markdown",
   "metadata": {},
   "source": [
    "### pandas.eval() Performance\n",
    "\n",
    "`eval()` is intended to speed up certain kinds of operations, particularly those involving complex expressions with large DataFrame/Series objects. Let's compare the performance of regular Python operations versus using `eval()`."
   ]
  },
  {
   "cell_type": "code",
   "execution_count": null,
   "metadata": {},
   "outputs": [],
   "source": [
    "# Regular Python operation\n",
    "start = time.time()\n",
    "result1 = df1 + df2 + df3 + df4\n",
    "end = time.time()\n",
    "print(f\"Regular Python operation: {end - start:.6f} seconds\")\n",
    "\n",
    "# Using eval with 'numexpr' engine (default)\n",
    "start = time.time()\n",
    "result2 = pd.eval('df1 + df2 + df3 + df4')\n",
    "end = time.time()\n",
    "print(f\"eval with 'numexpr' engine: {end - start:.6f} seconds\")\n",
    "\n",
    "# Verify results are the same\n",
    "print(f\"Results are equal: {result1.equals(result2)}\")"
   ]
  },
  {
   "cell_type": "markdown",
   "metadata": {},
   "source": [
    "## Conclusion\n",
    "\n",
    "In this notebook, we've explored:\n",
    "\n",
    "1. More pandas options and settings, including:\n",
    "   - Using the `option_context` context manager\n",
    "   - Setting startup options\n",
    "   - Frequently used display options like `max_rows`, `min_rows`, and `expand_frame_repr`\n",
    "\n",
    "2. Enhancing performance with `pandas.eval()`, including:\n",
    "   - Basic usage\n",
    "   - Different parsers ('pandas' vs 'python')\n",
    "   - Different backends and their performance implications\n",
    "\n",
    "These features provide powerful tools for customizing pandas behavior and improving performance for complex operations on large datasets."
   ]
  }
 ],
 "metadata": {
  "kernelspec": {
   "display_name": "Python 3",
   "language": "python",
   "name": "python3"
  },
  "language_info": {
   "codemirror_mode": {
    "name": "ipython",
    "version": 3
   },
   "file_extension": ".py",
   "mimetype": "text/x-python",
   "name": "python",
   "nbconvert_exporter": "python",
   "pygments_lexer": "ipython3",
   "version": "3.8.5"
  }
 },
 "nbformat": 4,
 "nbformat_minor": 4
}
