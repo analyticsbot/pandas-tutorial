{
 "cells": [
  {
   "cell_type": "markdown",
   "metadata": {},
   "source": [
    "#### Pandas Tutorial - Part 49\n",
    "\n",
    "This notebook covers various Series methods including:\n",
    "- Converting Series to LaTeX with `to_latex()`\n",
    "- Viewing underlying data with `view()`\n",
    "- Conditional replacement with `where()`"
   ]
  },
  {
   "cell_type": "code",
   "execution_count": 1,
   "metadata": {},
   "outputs": [],
   "source": [
    "import pandas as pd\n",
    "import numpy as np\n",
    "import matplotlib.pyplot as plt\n",
    "from IPython.display import display, Latex\n",
    "\n",
    "%matplotlib inline"
   ]
  },
  {
   "cell_type": "markdown",
   "metadata": {},
   "source": [
    "##### Converting Series to LaTeX\n",
    "\n",
    "The `to_latex()` method renders a Series to a LaTeX tabular environment."
   ]
  },
  {
   "cell_type": "code",
   "execution_count": 2,
   "metadata": {},
   "outputs": [
    {
     "name": "stdout",
     "output_type": "stream",
     "text": [
      "Original Series:\n",
      "a    1\n",
      "b    2\n",
      "c    3\n",
      "d    4\n",
      "e    5\n",
      "dtype: int64\n"
     ]
    }
   ],
   "source": [
    "# Create a Series\n",
    "s = pd.Series([1, 2, 3, 4, 5], index=['a', 'b', 'c', 'd', 'e'])\n",
    "print(\"Original Series:\")\n",
    "print(s)"
   ]
  },
  {
   "cell_type": "code",
   "execution_count": 3,
   "metadata": {},
   "outputs": [
    {
     "name": "stdout",
     "output_type": "stream",
     "text": [
      "LaTeX representation:\n",
      "\\begin{tabular}{lr}\n",
      "\\toprule\n",
      " & 0 \\\\\n",
      "\\midrule\n",
      "a & 1 \\\\\n",
      "b & 2 \\\\\n",
      "c & 3 \\\\\n",
      "d & 4 \\\\\n",
      "e & 5 \\\\\n",
      "\\bottomrule\n",
      "\\end{tabular}\n",
      "\n"
     ]
    }
   ],
   "source": [
    "# Convert to LaTeX\n",
    "latex_s = s.to_latex()\n",
    "print(\"LaTeX representation:\")\n",
    "print(latex_s)"
   ]
  },
  {
   "cell_type": "code",
   "execution_count": 4,
   "metadata": {},
   "outputs": [
    {
     "data": {
      "text/latex": [
       "\\begin{tabular}{lr}\n",
       "\\toprule\n",
       " & 0 \\\\\n",
       "\\midrule\n",
       "a & 1 \\\\\n",
       "b & 2 \\\\\n",
       "c & 3 \\\\\n",
       "d & 4 \\\\\n",
       "e & 5 \\\\\n",
       "\\bottomrule\n",
       "\\end{tabular}\n"
      ],
      "text/plain": [
       "<IPython.core.display.Latex object>"
      ]
     },
     "metadata": {},
     "output_type": "display_data"
    }
   ],
   "source": [
    "# Display the LaTeX table\n",
    "display(Latex(latex_s))"
   ]
  },
  {
   "cell_type": "code",
   "execution_count": 5,
   "metadata": {},
   "outputs": [
    {
     "name": "stdout",
     "output_type": "stream",
     "text": [
      "LaTeX representation with caption and label:\n",
      "\\begin{table}\n",
      "\\caption{Sample Series}\n",
      "\\label{tab:sample_series}\n",
      "\\begin{tabular}{lr}\n",
      "\\toprule\n",
      " & 0 \\\\\n",
      "\\midrule\n",
      "a & 1 \\\\\n",
      "b & 2 \\\\\n",
      "c & 3 \\\\\n",
      "d & 4 \\\\\n",
      "e & 5 \\\\\n",
      "\\bottomrule\n",
      "\\end{tabular}\n",
      "\\end{table}\n",
      "\n"
     ]
    }
   ],
   "source": [
    "# Convert to LaTeX with caption and label\n",
    "latex_with_caption = s.to_latex(caption=\"Sample Series\", label=\"tab:sample_series\")\n",
    "print(\"LaTeX representation with caption and label:\")\n",
    "print(latex_with_caption)"
   ]
  },
  {
   "cell_type": "code",
   "execution_count": 38,
   "metadata": {},
   "outputs": [
    {
     "data": {
      "text/latex": [
       "\\begin{table}\n",
       "\\caption{Sample Series}\n",
       "\\label{tab:sample_series}\n",
       "\\begin{tabular}{lr}\n",
       "\\toprule\n",
       " & 0 \\\\\n",
       "\\midrule\n",
       "a & 1 \\\\\n",
       "b & 2 \\\\\n",
       "c & 3 \\\\\n",
       "d & 4 \\\\\n",
       "e & 5 \\\\\n",
       "\\bottomrule\n",
       "\\end{tabular}\n",
       "\\end{table}\n"
      ],
      "text/plain": [
       "<IPython.core.display.Latex object>"
      ]
     },
     "metadata": {},
     "output_type": "display_data"
    }
   ],
   "source": [
    "# Display the LaTeX table with caption and label\n",
    "display(Latex(latex_with_caption))"
   ]
  },
  {
   "cell_type": "code",
   "execution_count": 39,
   "metadata": {},
   "outputs": [
    {
     "name": "stdout",
     "output_type": "stream",
     "text": [
      "LaTeX representation with float formatting:\n",
      "\\begin{tabular}{lr}\n",
      "\\toprule\n",
      " & 0 \\\\\n",
      "\\midrule\n",
      "a & 1.12 \\\\\n",
      "b & 2.46 \\\\\n",
      "c & 3.79 \\\\\n",
      "d & 4.01 \\\\\n",
      "e & 5.34 \\\\\n",
      "\\bottomrule\n",
      "\\end{tabular}\n",
      "\n"
     ]
    }
   ],
   "source": [
    "# Convert to LaTeX with custom formatting\n",
    "s_float = pd.Series([1.123, 2.456, 3.789, 4.012, 5.345], index=['a', 'b', 'c', 'd', 'e'])\n",
    "latex_float = s_float.to_latex(float_format=\"%.2f\")\n",
    "print(\"LaTeX representation with float formatting:\")\n",
    "print(latex_float)"
   ]
  },
  {
   "cell_type": "code",
   "execution_count": 40,
   "metadata": {},
   "outputs": [
    {
     "data": {
      "text/latex": [
       "\\begin{tabular}{lr}\n",
       "\\toprule\n",
       " & 0 \\\\\n",
       "\\midrule\n",
       "a & 1.12 \\\\\n",
       "b & 2.46 \\\\\n",
       "c & 3.79 \\\\\n",
       "d & 4.01 \\\\\n",
       "e & 5.34 \\\\\n",
       "\\bottomrule\n",
       "\\end{tabular}\n"
      ],
      "text/plain": [
       "<IPython.core.display.Latex object>"
      ]
     },
     "metadata": {},
     "output_type": "display_data"
    }
   ],
   "source": [
    "# Display the LaTeX table with float formatting\n",
    "display(Latex(latex_float))"
   ]
  },
  {
   "cell_type": "code",
   "execution_count": 41,
   "metadata": {},
   "outputs": [
    {
     "name": "stdout",
     "output_type": "stream",
     "text": [
      "LaTeX representation with bold rows:\n",
      "\\begin{tabular}{lr}\n",
      "\\toprule\n",
      " & 0 \\\\\n",
      "\\midrule\n",
      "\\textbf{0} & 0 \\\\\n",
      "\\textbf{1} & 1 \\\\\n",
      "\\textbf{2} & 2 \\\\\n",
      "\\textbf{3} & 3 \\\\\n",
      "\\textbf{4} & 4 \\\\\n",
      "\\bottomrule\n",
      "\\end{tabular}\n",
      "\n"
     ]
    }
   ],
   "source": [
    "# Convert to LaTeX with bold rows\n",
    "latex_bold = s.to_latex(bold_rows=True)\n",
    "print(\"LaTeX representation with bold rows:\")\n",
    "print(latex_bold)"
   ]
  },
  {
   "cell_type": "code",
   "execution_count": 42,
   "metadata": {},
   "outputs": [
    {
     "data": {
      "text/latex": [
       "\\begin{tabular}{lr}\n",
       "\\toprule\n",
       " & 0 \\\\\n",
       "\\midrule\n",
       "\\textbf{0} & 0 \\\\\n",
       "\\textbf{1} & 1 \\\\\n",
       "\\textbf{2} & 2 \\\\\n",
       "\\textbf{3} & 3 \\\\\n",
       "\\textbf{4} & 4 \\\\\n",
       "\\bottomrule\n",
       "\\end{tabular}\n"
      ],
      "text/plain": [
       "<IPython.core.display.Latex object>"
      ]
     },
     "metadata": {},
     "output_type": "display_data"
    }
   ],
   "source": [
    "# Display the LaTeX table with bold rows\n",
    "display(Latex(latex_bold))"
   ]
  },
  {
   "cell_type": "code",
   "execution_count": 43,
   "metadata": {},
   "outputs": [
    {
     "name": "stdout",
     "output_type": "stream",
     "text": [
      "LaTeX representation with custom column format:\n",
      "\\begin{tabular}{rc}\n",
      "\\toprule\n",
      " & 0 \\\\\n",
      "\\midrule\n",
      "0 & 0 \\\\\n",
      "1 & 1 \\\\\n",
      "2 & 2 \\\\\n",
      "3 & 3 \\\\\n",
      "4 & 4 \\\\\n",
      "\\bottomrule\n",
      "\\end{tabular}\n",
      "\n"
     ]
    }
   ],
   "source": [
    "# Convert to LaTeX with custom column format\n",
    "latex_col_format = s.to_latex(column_format=\"rc\")\n",
    "print(\"LaTeX representation with custom column format:\")\n",
    "print(latex_col_format)"
   ]
  },
  {
   "cell_type": "code",
   "execution_count": 44,
   "metadata": {},
   "outputs": [
    {
     "data": {
      "text/latex": [
       "\\begin{tabular}{rc}\n",
       "\\toprule\n",
       " & 0 \\\\\n",
       "\\midrule\n",
       "0 & 0 \\\\\n",
       "1 & 1 \\\\\n",
       "2 & 2 \\\\\n",
       "3 & 3 \\\\\n",
       "4 & 4 \\\\\n",
       "\\bottomrule\n",
       "\\end{tabular}\n"
      ],
      "text/plain": [
       "<IPython.core.display.Latex object>"
      ]
     },
     "metadata": {},
     "output_type": "display_data"
    }
   ],
   "source": [
    "# Display the LaTeX table with custom column format\n",
    "display(Latex(latex_col_format))"
   ]
  },
  {
   "cell_type": "code",
   "execution_count": 45,
   "metadata": {},
   "outputs": [
    {
     "name": "stdout",
     "output_type": "stream",
     "text": [
      "Series with missing values:\n",
      "a    1.0\n",
      "b    NaN\n",
      "c    3.0\n",
      "d    NaN\n",
      "e    5.0\n",
      "dtype: float64\n"
     ]
    }
   ],
   "source": [
    "# Create a Series with missing values\n",
    "s_with_nan = pd.Series([1, np.nan, 3, np.nan, 5], index=['a', 'b', 'c', 'd', 'e'])\n",
    "print(\"Series with missing values:\")\n",
    "print(s_with_nan)"
   ]
  },
  {
   "cell_type": "code",
   "execution_count": 46,
   "metadata": {},
   "outputs": [
    {
     "name": "stdout",
     "output_type": "stream",
     "text": [
      "LaTeX representation with custom NA representation:\n",
      "\\begin{tabular}{lr}\n",
      "\\toprule\n",
      " & 0 \\\\\n",
      "\\midrule\n",
      "a & 1.000000 \\\\\n",
      "b & -- \\\\\n",
      "c & 3.000000 \\\\\n",
      "d & -- \\\\\n",
      "e & 5.000000 \\\\\n",
      "\\bottomrule\n",
      "\\end{tabular}\n",
      "\n"
     ]
    }
   ],
   "source": [
    "# Convert to LaTeX with custom NA representation\n",
    "latex_na = s_with_nan.to_latex(na_rep=\"--\")\n",
    "print(\"LaTeX representation with custom NA representation:\")\n",
    "print(latex_na)"
   ]
  },
  {
   "cell_type": "code",
   "execution_count": 47,
   "metadata": {},
   "outputs": [
    {
     "data": {
      "text/latex": [
       "\\begin{tabular}{lr}\n",
       "\\toprule\n",
       " & 0 \\\\\n",
       "\\midrule\n",
       "a & 1.000000 \\\\\n",
       "b & -- \\\\\n",
       "c & 3.000000 \\\\\n",
       "d & -- \\\\\n",
       "e & 5.000000 \\\\\n",
       "\\bottomrule\n",
       "\\end{tabular}\n"
      ],
      "text/plain": [
       "<IPython.core.display.Latex object>"
      ]
     },
     "metadata": {},
     "output_type": "display_data"
    }
   ],
   "source": [
    "# Display the LaTeX table with custom NA representation\n",
    "display(Latex(latex_na))"
   ]
  },
  {
   "cell_type": "markdown",
   "metadata": {},
   "source": [
    "##### Viewing Underlying Data\n",
    "\n",
    "The `view()` method returns a view of the Series with a different dtype."
   ]
  },
  {
   "cell_type": "code",
   "execution_count": 48,
   "metadata": {},
   "outputs": [
    {
     "name": "stdout",
     "output_type": "stream",
     "text": [
      "Original Series:\n",
      "0   -2\n",
      "1   -1\n",
      "2    0\n",
      "3    1\n",
      "4    2\n",
      "dtype: int8\n",
      "Data type: int8\n"
     ]
    }
   ],
   "source": [
    "# Create a Series with int8 dtype\n",
    "s = pd.Series([-2, -1, 0, 1, 2], dtype='int8')\n",
    "print(\"Original Series:\")\n",
    "print(s)\n",
    "print(f\"Data type: {s.dtype}\")"
   ]
  },
  {
   "cell_type": "code",
   "execution_count": 49,
   "metadata": {},
   "outputs": [
    {
     "name": "stdout",
     "output_type": "stream",
     "text": [
      "Series viewed as uint8:\n",
      "0    254\n",
      "1    255\n",
      "2      0\n",
      "3      1\n",
      "4      2\n",
      "dtype: uint8\n",
      "Data type: uint8\n"
     ]
    },
    {
     "name": "stderr",
     "output_type": "stream",
     "text": [
      "/var/folders/7y/fzwln1_93mn3js3wyk61_6xm0000gn/T/ipykernel_83613/3334671036.py:2: FutureWarning: Series.view is deprecated and will be removed in a future version. Use ``astype`` as an alternative to change the dtype.\n",
      "  us = s.view('uint8')\n"
     ]
    }
   ],
   "source": [
    "# View as uint8\n",
    "us = s.view('uint8')\n",
    "print(\"Series viewed as uint8:\")\n",
    "print(us)\n",
    "print(f\"Data type: {us.dtype}\")"
   ]
  },
  {
   "cell_type": "code",
   "execution_count": 50,
   "metadata": {},
   "outputs": [
    {
     "name": "stdout",
     "output_type": "stream",
     "text": [
      "Modified view:\n",
      "0    128\n",
      "1    255\n",
      "2      0\n",
      "3      1\n",
      "4      2\n",
      "dtype: uint8\n",
      "\n",
      "Original Series after modifying the view:\n",
      "0   -128\n",
      "1     -1\n",
      "2      0\n",
      "3      1\n",
      "4      2\n",
      "dtype: int8\n"
     ]
    }
   ],
   "source": [
    "# Modify the view and see the effect on the original Series\n",
    "us[0] = 128\n",
    "print(\"Modified view:\")\n",
    "print(us)\n",
    "print(\"\\nOriginal Series after modifying the view:\")\n",
    "print(s)"
   ]
  },
  {
   "cell_type": "code",
   "execution_count": 51,
   "metadata": {},
   "outputs": [
    {
     "name": "stdout",
     "output_type": "stream",
     "text": [
      "Original Series:\n",
      "0    1.0\n",
      "1    2.0\n",
      "2    3.0\n",
      "3    4.0\n",
      "4    5.0\n",
      "dtype: float64\n",
      "Data type: float64\n"
     ]
    }
   ],
   "source": [
    "# Create a Series with float64 dtype\n",
    "s_float = pd.Series([1.0, 2.0, 3.0, 4.0, 5.0])\n",
    "print(\"Original Series:\")\n",
    "print(s_float)\n",
    "print(f\"Data type: {s_float.dtype}\")"
   ]
  },
  {
   "cell_type": "code",
   "execution_count": 52,
   "metadata": {},
   "outputs": [
    {
     "name": "stdout",
     "output_type": "stream",
     "text": [
      "Series viewed as int64:\n",
      "0    4607182418800017408\n",
      "1    4611686018427387904\n",
      "2    4613937818241073152\n",
      "3    4616189618054758400\n",
      "4    4617315517961601024\n",
      "dtype: int64\n",
      "Data type: int64\n"
     ]
    },
    {
     "name": "stderr",
     "output_type": "stream",
     "text": [
      "/var/folders/7y/fzwln1_93mn3js3wyk61_6xm0000gn/T/ipykernel_83613/2807991525.py:3: FutureWarning: Series.view is deprecated and will be removed in a future version. Use ``astype`` as an alternative to change the dtype.\n",
      "  s_int = s_float.view('int64')\n"
     ]
    }
   ],
   "source": [
    "# View as int64\n",
    "try:\n",
    "    s_int = s_float.view('int64')\n",
    "    print(\"Series viewed as int64:\")\n",
    "    print(s_int)\n",
    "    print(f\"Data type: {s_int.dtype}\")\n",
    "except Exception as e:\n",
    "    print(f\"Error: {e}\")"
   ]
  },
  {
   "cell_type": "code",
   "execution_count": 53,
   "metadata": {},
   "outputs": [
    {
     "name": "stdout",
     "output_type": "stream",
     "text": [
      "Original Series:\n",
      "0    1.0+2.0j\n",
      "1    3.0+4.0j\n",
      "2    5.0+6.0j\n",
      "dtype: complex128\n",
      "Data type: complex128\n"
     ]
    }
   ],
   "source": [
    "# Create a Series with complex numbers\n",
    "s_complex = pd.Series([1+2j, 3+4j, 5+6j])\n",
    "print(\"Original Series:\")\n",
    "print(s_complex)\n",
    "print(f\"Data type: {s_complex.dtype}\")"
   ]
  },
  {
   "cell_type": "code",
   "execution_count": 54,
   "metadata": {},
   "outputs": [
    {
     "name": "stdout",
     "output_type": "stream",
     "text": [
      "Error: Length of values (6) does not match length of index (3)\n"
     ]
    },
    {
     "name": "stderr",
     "output_type": "stream",
     "text": [
      "/var/folders/7y/fzwln1_93mn3js3wyk61_6xm0000gn/T/ipykernel_83613/1617651376.py:3: FutureWarning: Series.view is deprecated and will be removed in a future version. Use ``astype`` as an alternative to change the dtype.\n",
      "  s_complex_view = s_complex.view('float64')\n"
     ]
    }
   ],
   "source": [
    "# View as float64\n",
    "try:\n",
    "    s_complex_view = s_complex.view('float64')\n",
    "    print(\"Series viewed as float64:\")\n",
    "    print(s_complex_view)\n",
    "    print(f\"Data type: {s_complex_view.dtype}\")\n",
    "except Exception as e:\n",
    "    print(f\"Error: {e}\")"
   ]
  },
  {
   "cell_type": "markdown",
   "metadata": {},
   "source": [
    "##### Conditional Replacement with `where()`\n",
    "\n",
    "The `where()` method replaces values where the condition is False."
   ]
  },
  {
   "cell_type": "code",
   "execution_count": 23,
   "metadata": {},
   "outputs": [
    {
     "name": "stdout",
     "output_type": "stream",
     "text": [
      "Original Series:\n",
      "0    0\n",
      "1    1\n",
      "2    2\n",
      "3    3\n",
      "4    4\n",
      "dtype: int64\n"
     ]
    }
   ],
   "source": [
    "# Create a Series\n",
    "s = pd.Series(range(5))\n",
    "print(\"Original Series:\")\n",
    "print(s)"
   ]
  },
  {
   "cell_type": "code",
   "execution_count": 24,
   "metadata": {},
   "outputs": [
    {
     "name": "stdout",
     "output_type": "stream",
     "text": [
      "Series with values <= 0 replaced with NaN:\n",
      "0    NaN\n",
      "1    1.0\n",
      "2    2.0\n",
      "3    3.0\n",
      "4    4.0\n",
      "dtype: float64\n"
     ]
    }
   ],
   "source": [
    "# Replace values where the condition is False with NaN\n",
    "s_where = s.where(s > 0)\n",
    "print(\"Series with values <= 0 replaced with NaN:\")\n",
    "print(s_where)"
   ]
  },
  {
   "cell_type": "code",
   "execution_count": 25,
   "metadata": {},
   "outputs": [
    {
     "name": "stdout",
     "output_type": "stream",
     "text": [
      "Series with values <= 1 replaced with 10:\n",
      "0    10\n",
      "1    10\n",
      "2     2\n",
      "3     3\n",
      "4     4\n",
      "dtype: int64\n"
     ]
    }
   ],
   "source": [
    "# Replace values where the condition is False with a scalar\n",
    "s_where_scalar = s.where(s > 1, 10)\n",
    "print(\"Series with values <= 1 replaced with 10:\")\n",
    "print(s_where_scalar)"
   ]
  },
  {
   "cell_type": "code",
   "execution_count": 26,
   "metadata": {},
   "outputs": [
    {
     "name": "stdout",
     "output_type": "stream",
     "text": [
      "Original Series:\n",
      "0    0\n",
      "1    1\n",
      "2    2\n",
      "3    3\n",
      "4    4\n",
      "dtype: int64\n",
      "\n",
      "Other Series:\n",
      "0    10\n",
      "1    20\n",
      "2    30\n",
      "3    40\n",
      "4    50\n",
      "dtype: int64\n",
      "\n",
      "Series with values <= 2 replaced with values from other Series:\n",
      "0    10\n",
      "1    20\n",
      "2    30\n",
      "3     3\n",
      "4     4\n",
      "dtype: int64\n"
     ]
    }
   ],
   "source": [
    "# Replace values where the condition is False with another Series\n",
    "other = pd.Series([10, 20, 30, 40, 50])\n",
    "s_where_series = s.where(s > 2, other)\n",
    "print(\"Original Series:\")\n",
    "print(s)\n",
    "print(\"\\nOther Series:\")\n",
    "print(other)\n",
    "print(\"\\nSeries with values <= 2 replaced with values from other Series:\")\n",
    "print(s_where_series)"
   ]
  },
  {
   "cell_type": "code",
   "execution_count": 27,
   "metadata": {},
   "outputs": [
    {
     "name": "stdout",
     "output_type": "stream",
     "text": [
      "Series after in-place replacement:\n",
      "0   -1\n",
      "1   -1\n",
      "2   -1\n",
      "3   -1\n",
      "4    4\n",
      "dtype: int64\n"
     ]
    }
   ],
   "source": [
    "# Replace values in-place\n",
    "s_inplace = s.copy()\n",
    "s_inplace.where(s_inplace > 3, -1, inplace=True)\n",
    "print(\"Series after in-place replacement:\")\n",
    "print(s_inplace)"
   ]
  },
  {
   "cell_type": "code",
   "execution_count": 28,
   "metadata": {},
   "outputs": [
    {
     "name": "stdout",
     "output_type": "stream",
     "text": [
      "Series with odd values replaced with -1:\n",
      "0    0\n",
      "1   -1\n",
      "2    2\n",
      "3   -1\n",
      "4    4\n",
      "dtype: int64\n"
     ]
    }
   ],
   "source": [
    "# Use a callable for condition\n",
    "def is_even(x):\n",
    "    return x % 2 == 0\n",
    "\n",
    "s_where_callable = s.where(is_even, -1)\n",
    "print(\"Series with odd values replaced with -1:\")\n",
    "print(s_where_callable)"
   ]
  },
  {
   "cell_type": "code",
   "execution_count": 29,
   "metadata": {},
   "outputs": [
    {
     "name": "stdout",
     "output_type": "stream",
     "text": [
      "Series with values <= 2 replaced with their squares:\n",
      "0    0\n",
      "1    1\n",
      "2    4\n",
      "3    3\n",
      "4    4\n",
      "dtype: int64\n"
     ]
    }
   ],
   "source": [
    "# Use a callable for replacement\n",
    "def square(x):\n",
    "    return x ** 2\n",
    "\n",
    "s_where_callable_other = s.where(s > 2, square)\n",
    "print(\"Series with values <= 2 replaced with their squares:\")\n",
    "print(s_where_callable_other)"
   ]
  },
  {
   "cell_type": "code",
   "execution_count": 30,
   "metadata": {},
   "outputs": [
    {
     "name": "stdout",
     "output_type": "stream",
     "text": [
      "Series with missing values:\n",
      "0    1.0\n",
      "1    NaN\n",
      "2    3.0\n",
      "3    NaN\n",
      "4    5.0\n",
      "dtype: float64\n"
     ]
    }
   ],
   "source": [
    "# Create a Series with missing values\n",
    "s_with_nan = pd.Series([1, np.nan, 3, np.nan, 5])\n",
    "print(\"Series with missing values:\")\n",
    "print(s_with_nan)"
   ]
  },
  {
   "cell_type": "code",
   "execution_count": 31,
   "metadata": {},
   "outputs": [
    {
     "name": "stdout",
     "output_type": "stream",
     "text": [
      "Series with NaN values replaced with 0:\n",
      "0    1.0\n",
      "1    0.0\n",
      "2    3.0\n",
      "3    0.0\n",
      "4    5.0\n",
      "dtype: float64\n"
     ]
    }
   ],
   "source": [
    "# Replace values based on a condition involving NaN\n",
    "s_where_nan = s_with_nan.where(s_with_nan.notna(), 0)\n",
    "print(\"Series with NaN values replaced with 0:\")\n",
    "print(s_where_nan)"
   ]
  },
  {
   "cell_type": "code",
   "execution_count": 32,
   "metadata": {},
   "outputs": [
    {
     "name": "stdout",
     "output_type": "stream",
     "text": [
      "Original DataFrame:\n",
      "   A   B    C\n",
      "0  1  10  100\n",
      "1  2  20  200\n",
      "2  3  30  300\n",
      "3  4  40  400\n",
      "4  5  50  500\n"
     ]
    }
   ],
   "source": [
    "# Create a DataFrame\n",
    "df = pd.DataFrame({'A': [1, 2, 3, 4, 5],\n",
    "                   'B': [10, 20, 30, 40, 50],\n",
    "                   'C': [100, 200, 300, 400, 500]})\n",
    "print(\"Original DataFrame:\")\n",
    "print(df)"
   ]
  },
  {
   "cell_type": "code",
   "execution_count": 33,
   "metadata": {},
   "outputs": [
    {
     "name": "stdout",
     "output_type": "stream",
     "text": [
      "DataFrame with values <= 100 replaced with their negatives:\n",
      "   A   B    C\n",
      "0 -1 -10 -100\n",
      "1 -2 -20  200\n",
      "2 -3 -30  300\n",
      "3 -4 -40  400\n",
      "4 -5 -50  500\n"
     ]
    }
   ],
   "source": [
    "# Replace values in DataFrame\n",
    "df_where = df.where(df > 100, -df)\n",
    "print(\"DataFrame with values <= 100 replaced with their negatives:\")\n",
    "print(df_where)"
   ]
  },
  {
   "cell_type": "markdown",
   "metadata": {},
   "source": [
    "##### Comparison with `mask()`\n",
    "\n",
    "The `mask()` method is the inverse of `where()`. It replaces values where the condition is True."
   ]
  },
  {
   "cell_type": "code",
   "execution_count": 34,
   "metadata": {},
   "outputs": [
    {
     "name": "stdout",
     "output_type": "stream",
     "text": [
      "Original Series:\n",
      "0    0\n",
      "1    1\n",
      "2    2\n",
      "3    3\n",
      "4    4\n",
      "dtype: int64\n"
     ]
    }
   ],
   "source": [
    "# Create a Series\n",
    "s = pd.Series(range(5))\n",
    "print(\"Original Series:\")\n",
    "print(s)"
   ]
  },
  {
   "cell_type": "code",
   "execution_count": 35,
   "metadata": {},
   "outputs": [
    {
     "name": "stdout",
     "output_type": "stream",
     "text": [
      "Series.where(s > 0):\n",
      "0    NaN\n",
      "1    1.0\n",
      "2    2.0\n",
      "3    3.0\n",
      "4    4.0\n",
      "dtype: float64\n",
      "\n",
      "Series.mask(s > 0):\n",
      "0    0.0\n",
      "1    NaN\n",
      "2    NaN\n",
      "3    NaN\n",
      "4    NaN\n",
      "dtype: float64\n"
     ]
    }
   ],
   "source": [
    "# Compare where() and mask()\n",
    "s_where = s.where(s > 0)\n",
    "s_mask = s.mask(s > 0)\n",
    "\n",
    "print(\"Series.where(s > 0):\")\n",
    "print(s_where)\n",
    "print(\"\\nSeries.mask(s > 0):\")\n",
    "print(s_mask)"
   ]
  },
  {
   "cell_type": "code",
   "execution_count": 36,
   "metadata": {},
   "outputs": [
    {
     "name": "stdout",
     "output_type": "stream",
     "text": [
      "Series.where(s > 2):\n",
      "0    NaN\n",
      "1    NaN\n",
      "2    NaN\n",
      "3    3.0\n",
      "4    4.0\n",
      "dtype: float64\n",
      "\n",
      "Series.mask(s <= 2):\n",
      "0    NaN\n",
      "1    NaN\n",
      "2    NaN\n",
      "3    3.0\n",
      "4    4.0\n",
      "dtype: float64\n"
     ]
    }
   ],
   "source": [
    "# Equivalent operations\n",
    "s_where_gt2 = s.where(s > 2)\n",
    "s_mask_le2 = s.mask(s <= 2)\n",
    "\n",
    "print(\"Series.where(s > 2):\")\n",
    "print(s_where_gt2)\n",
    "print(\"\\nSeries.mask(s <= 2):\")\n",
    "print(s_mask_le2)"
   ]
  },
  {
   "cell_type": "markdown",
   "metadata": {},
   "source": [
    "##### Conclusion\n",
    "\n",
    "In this notebook, we've explored various Series methods in pandas:\n",
    "\n",
    "1. Converting Series to LaTeX with `to_latex()`, which renders a Series to a LaTeX tabular environment with various formatting options.\n",
    "2. Viewing underlying data with `view()`, which returns a view of the Series with a different dtype, allowing for low-level data manipulation.\n",
    "3. Conditional replacement with `where()`, which replaces values where the condition is False, with options for custom replacement values and in-place modification.\n",
    "\n",
    "We also compared `where()` with its inverse method `mask()`, which replaces values where the condition is True.\n",
    "\n",
    "These methods are essential tools for data manipulation, presentation, and analysis in pandas, allowing for flexible and powerful operations on your data."
   ]
  }
 ],
 "metadata": {
  "kernelspec": {
   "display_name": "venv",
   "language": "python",
   "name": "python3"
  },
  "language_info": {
   "codemirror_mode": {
    "name": "ipython",
    "version": 3
   },
   "file_extension": ".py",
   "mimetype": "text/x-python",
   "name": "python",
   "nbconvert_exporter": "python",
   "pygments_lexer": "ipython3",
   "version": "3.13.2"
  }
 },
 "nbformat": 4,
 "nbformat_minor": 4
}
