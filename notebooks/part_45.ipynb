{
 "cells": [
  {
   "cell_type": "markdown",
   "metadata": {},
   "source": [
    "# Pandas Series Methods - Part 45\n",
    "\n",
    "This notebook covers important Series methods in pandas, including `interpolate()`, `isin()`, `notna()`, `notnull()`, and `nsmallest()`."
   ]
  },
  {
   "cell_type": "code",
   "execution_count": null,
   "metadata": {},
   "outputs": [],
   "source": [
    "import pandas as pd\n",
    "import numpy as np"
   ]
  },
  {
   "cell_type": "markdown",
   "metadata": {},
   "source": [
    "## Series.interpolate()\n",
    "\n",
    "The `interpolate()` method fills NaN values in a Series or DataFrame using different interpolation methods."
   ]
  },
  {
   "cell_type": "code",
   "execution_count": null,
   "metadata": {},
   "outputs": [],
   "source": [
    "# Basic example with linear interpolation\n",
    "s = pd.Series([0, 1, np.nan, 3])\n",
    "print(\"Original Series:\")\n",
    "print(s)\n",
    "\n",
    "print(\"\\nInterpolated Series:\")\n",
    "print(s.interpolate())"
   ]
  },
  {
   "cell_type": "code",
   "execution_count": null,
   "metadata": {},
   "outputs": [],
   "source": [
    "# Pad (forward fill) with limit\n",
    "s = pd.Series([np.nan, \"single_one\", np.nan,\n",
    "              \"fill_two_more\", np.nan, np.nan, np.nan,\n",
    "              4.71, np.nan])\n",
    "print(\"Original Series:\")\n",
    "print(s)\n",
    "\n",
    "print(\"\\nInterpolated Series with pad method and limit=2:\")\n",
    "print(s.interpolate(method='pad', limit=2))"
   ]
  },
  {
   "cell_type": "code",
   "execution_count": null,
   "metadata": {},
   "outputs": [],
   "source": [
    "# Polynomial interpolation\n",
    "s = pd.Series([0, 2, np.nan, 8])\n",
    "print(\"Original Series:\")\n",
    "print(s)\n",
    "\n",
    "print(\"\\nInterpolated Series with polynomial method:\")\n",
    "print(s.interpolate(method='polynomial', order=2))"
   ]
  },
  {
   "cell_type": "code",
   "execution_count": null,
   "metadata": {},
   "outputs": [],
   "source": [
    "# Interpolation in a DataFrame\n",
    "df = pd.DataFrame([(0.0, np.nan, -1.0, 1.0),\n",
    "                   (np.nan, 2.0, np.nan, np.nan),\n",
    "                   (2.0, 3.0, np.nan, 9.0),\n",
    "                   (np.nan, 4.0, -4.0, 16.0)],\n",
    "                  columns=list('abcd'))\n",
    "print(\"Original DataFrame:\")\n",
    "print(df)\n",
    "\n",
    "print(\"\\nInterpolated DataFrame (linear, forward direction, along axis=0):\")\n",
    "print(df.interpolate(method='linear', limit_direction='forward', axis=0))"
   ]
  },
  {
   "cell_type": "code",
   "execution_count": null,
   "metadata": {},
   "outputs": [],
   "source": [
    "# Polynomial interpolation on a single column\n",
    "print(\"Original 'd' column:\")\n",
    "print(df['d'])\n",
    "\n",
    "print(\"\\nInterpolated 'd' column with polynomial method:\")\n",
    "print(df['d'].interpolate(method='polynomial', order=2))"
   ]
  },
  {
   "cell_type": "markdown",
   "metadata": {},
   "source": [
    "## Series.isin()\n",
    "\n",
    "The `isin()` method checks whether values are contained in a Series. It returns a boolean Series showing whether each element matches an element in the passed sequence of values."
   ]
  },
  {
   "cell_type": "code",
   "execution_count": null,
   "metadata": {},
   "outputs": [],
   "source": [
    "# Basic example\n",
    "s = pd.Series(['apple', 'banana', 'cherry', 'date', 'elderberry'])\n",
    "print(\"Original Series:\")\n",
    "print(s)\n",
    "\n",
    "print(\"\\nCheck if values are in ['apple', 'cherry', 'fig']:\")\n",
    "print(s.isin(['apple', 'cherry', 'fig']))"
   ]
  },
  {
   "cell_type": "code",
   "execution_count": null,
   "metadata": {},
   "outputs": [],
   "source": [
    "# Using isin() to filter a Series\n",
    "fruits = ['apple', 'cherry']\n",
    "filtered = s[s.isin(fruits)]\n",
    "print(\"Filtered Series:\")\n",
    "print(filtered)"
   ]
  },
  {
   "cell_type": "code",
   "execution_count": null,
   "metadata": {},
   "outputs": [],
   "source": [
    "# Using isin() with a set (more efficient for large collections)\n",
    "fruits_set = {'apple', 'cherry', 'fig'}\n",
    "print(\"Check if values are in a set:\")\n",
    "print(s.isin(fruits_set))"
   ]
  },
  {
   "cell_type": "markdown",
   "metadata": {},
   "source": [
    "## Series.notna() and Series.notnull()\n",
    "\n",
    "The `notna()` and `notnull()` methods detect existing (non-missing) values in a Series. They return a boolean Series indicating if the values are not NA."
   ]
  },
  {
   "cell_type": "code",
   "execution_count": null,
   "metadata": {},
   "outputs": [],
   "source": [
    "# Basic example\n",
    "s = pd.Series([5, 6, np.NaN])\n",
    "print(\"Original Series:\")\n",
    "print(s)\n",
    "\n",
    "print(\"\\nUsing notna():\")\n",
    "print(s.notna())\n",
    "\n",
    "print(\"\\nUsing notnull() (alias of notna()):\")\n",
    "print(s.notnull())"
   ]
  },
  {
   "cell_type": "code",
   "execution_count": null,
   "metadata": {},
   "outputs": [],
   "source": [
    "# Using notna() to filter a Series\n",
    "filtered = s[s.notna()]\n",
    "print(\"Filtered Series (non-NA values only):\")\n",
    "print(filtered)"
   ]
  },
  {
   "cell_type": "code",
   "execution_count": null,
   "metadata": {},
   "outputs": [],
   "source": [
    "# Using notna() with a DataFrame\n",
    "df = pd.DataFrame({\n",
    "    'age': [5, 6, np.NaN],\n",
    "    'born': [pd.NaT, pd.Timestamp('1939-05-27'), pd.Timestamp('1940-04-25')],\n",
    "    'name': ['Alfred', 'Batman', ''],\n",
    "    'toy': [None, 'Batmobile', 'Joker']\n",
    "})\n",
    "print(\"Original DataFrame:\")\n",
    "print(df)\n",
    "\n",
    "print(\"\\nUsing notna():\")\n",
    "print(df.notna())"
   ]
  },
  {
   "cell_type": "markdown",
   "metadata": {},
   "source": [
    "## Series.nsmallest()\n",
    "\n",
    "The `nsmallest()` method returns the smallest n elements in a Series."
   ]
  },
  {
   "cell_type": "code",
   "execution_count": null,
   "metadata": {},
   "outputs": [],
   "source": [
    "# Basic example\n",
    "s = pd.Series([10, 3, 8, 5, 2, 7, 1, 9, 4, 6])\n",
    "print(\"Original Series:\")\n",
    "print(s)\n",
    "\n",
    "print(\"\\nSmallest 3 elements:\")\n",
    "print(s.nsmallest(3))"
   ]
  },
  {
   "cell_type": "code",
   "execution_count": null,
   "metadata": {},
   "outputs": [],
   "source": [
    "# Handling duplicate values with different 'keep' options\n",
    "s = pd.Series([3, 5, 2, 7, 2, 9, 1, 2, 6])\n",
    "print(\"Original Series with duplicates:\")\n",
    "print(s)\n",
    "\n",
    "print(\"\\nSmallest 3 elements (keep='first'):\")\n",
    "print(s.nsmallest(3, keep='first'))\n",
    "\n",
    "print(\"\\nSmallest 3 elements (keep='last'):\")\n",
    "print(s.nsmallest(3, keep='last'))\n",
    "\n",
    "print(\"\\nSmallest 3 elements (keep='all'):\")\n",
    "print(s.nsmallest(3, keep='all'))"
   ]
  },
  {
   "cell_type": "markdown",
   "metadata": {},
   "source": [
    "## Practical Examples\n",
    "\n",
    "Let's explore some practical examples of these methods."
   ]
  },
  {
   "cell_type": "markdown",
   "metadata": {},
   "source": [
    "### Example 1: Filling Missing Values in Time Series Data"
   ]
  },
  {
   "cell_type": "code",
   "execution_count": null,
   "metadata": {},
   "outputs": [],
   "source": [
    "# Create a time series with missing values\n",
    "dates = pd.date_range('2023-01-01', periods=10, freq='D')\n",
    "values = [10, 11, np.nan, np.nan, 14, 15, np.nan, 17, np.nan, 19]\n",
    "ts = pd.Series(values, index=dates)\n",
    "print(\"Original Time Series:\")\n",
    "print(ts)"
   ]
  },
  {
   "cell_type": "code",
   "execution_count": null,
   "metadata": {},
   "outputs": [],
   "source": [
    "# Linear interpolation\n",
    "ts_linear = ts.interpolate(method='linear')\n",
    "print(\"Linear Interpolation:\")\n",
    "print(ts_linear)"
   ]
  },
  {
   "cell_type": "code",
   "execution_count": null,
   "metadata": {},
   "outputs": [],
   "source": [
    "# Polynomial interpolation\n",
    "ts_poly = ts.interpolate(method='polynomial', order=2)\n",
    "print(\"Polynomial Interpolation:\")\n",
    "print(ts_poly)"
   ]
  },
  {
   "cell_type": "code",
   "execution_count": null,
   "metadata": {},
   "outputs": [],
   "source": [
    "# Time-based interpolation (specific to time series)\n",
    "ts_time = ts.interpolate(method='time')\n",
    "print(\"Time-based Interpolation:\")\n",
    "print(ts_time)"
   ]
  },
  {
   "cell_type": "markdown",
   "metadata": {},
   "source": [
    "### Example 2: Filtering Data Based on Categories"
   ]
  },
  {
   "cell_type": "code",
   "execution_count": null,
   "metadata": {},
   "outputs": [],
   "source": [
    "# Create a DataFrame with product data\n",
    "products = pd.DataFrame({\n",
    "    'product_id': range(1, 11),\n",
    "    'product_name': ['Laptop', 'Phone', 'Tablet', 'Monitor', 'Keyboard', \n",
    "                     'Mouse', 'Headphones', 'Speaker', 'Camera', 'Printer'],\n",
    "    'category': ['Electronics', 'Electronics', 'Electronics', 'Electronics', 'Accessories',\n",
    "                'Accessories', 'Audio', 'Audio', 'Electronics', 'Office'],\n",
    "    'price': [1200, 800, 500, 300, 80, 50, 150, 200, 600, 250]\n",
    "})\n",
    "print(\"Product Data:\")\n",
    "print(products)"
   ]
  },
  {
   "cell_type": "code",
   "execution_count": null,
   "metadata": {},
   "outputs": [],
   "source": [
    "# Filter products by category\n",
    "selected_categories = ['Electronics', 'Audio']\n",
    "filtered_products = products[products['category'].isin(selected_categories)]\n",
    "print(\"Filtered Products (Electronics and Audio only):\")\n",
    "print(filtered_products)"
   ]
  },
  {
   "cell_type": "code",
   "execution_count": null,
   "metadata": {},
   "outputs": [],
   "source": [
    "# Filter products by name\n",
    "excluded_products = ['Laptop', 'Phone', 'Tablet']\n",
    "filtered_products = products[~products['product_name'].isin(excluded_products)]\n",
    "print(\"Filtered Products (excluding Laptop, Phone, and Tablet):\")\n",
    "print(filtered_products)"
   ]
  },
  {
   "cell_type": "markdown",
   "metadata": {},
   "source": [
    "### Example 3: Finding Outliers in Data"
   ]
  },
  {
   "cell_type": "code",
   "execution_count": null,
   "metadata": {},
   "outputs": [],
   "source": [
    "# Create a Series with random data\n",
    "np.random.seed(42)\n",
    "data = pd.Series(np.random.normal(100, 15, 100))\n",
    "print(\"Summary Statistics:\")\n",
    "print(data.describe())"
   ]
  },
  {
   "cell_type": "code",
   "execution_count": null,
   "metadata": {},
   "outputs": [],
   "source": [
    "# Find the 5 smallest values (potential lower outliers)\n",
    "lower_outliers = data.nsmallest(5)\n",
    "print(\"5 Smallest Values:\")\n",
    "print(lower_outliers)"
   ]
  },
  {
   "cell_type": "code",
   "execution_count": null,
   "metadata": {},
   "outputs": [],
   "source": [
    "# Find the 5 largest values (potential upper outliers)\n",
    "upper_outliers = data.nlargest(5)\n",
    "print(\"5 Largest Values:\")\n",
    "print(upper_outliers)"
   ]
  },
  {
   "cell_type": "code",
   "execution_count": null,
   "metadata": {},
   "outputs": [],
   "source": [
    "# Define outliers using IQR method\n",
    "Q1 = data.quantile(0.25)\n",
    "Q3 = data.quantile(0.75)\n",
    "IQR = Q3 - Q1\n",
    "\n",
    "lower_bound = Q1 - 1.5 * IQR\n",
    "upper_bound = Q3 + 1.5 * IQR\n",
    "\n",
    "print(f\"Lower bound: {lower_bound}\")\n",
    "print(f\"Upper bound: {upper_bound}\")\n",
    "\n",
    "# Find outliers\n",
    "outliers = data[(data < lower_bound) | (data > upper_bound)]\n",
    "print(\"\\nOutliers:\")\n",
    "print(outliers)"
   ]
  },
  {
   "cell_type": "markdown",
   "metadata": {},
   "source": [
    "## Summary\n",
    "\n",
    "In this notebook, we've explored several important Series methods in pandas:\n",
    "\n",
    "1. **Series.interpolate()**: Fills NaN values using various interpolation methods.\n",
    "2. **Series.isin()**: Checks whether values are contained in a Series.\n",
    "3. **Series.notna()** and **Series.notnull()**: Detect existing (non-missing) values.\n",
    "4. **Series.nsmallest()**: Returns the smallest n elements in a Series.\n",
    "\n",
    "These methods are essential for data cleaning, filtering, and analysis in pandas."
   ]
  }
 ],
 "metadata": {
  "kernelspec": {
   "display_name": "Python 3",
   "language": "python",
   "name": "python3"
  },
  "language_info": {
   "codemirror_mode": {
    "name": "ipython",
    "version": 3
   },
   "file_extension": ".py",
   "mimetype": "text/x-python",
   "name": "python",
   "nbconvert_exporter": "python",
   "pygments_lexer": "ipython3",
   "version": "3.8.5"
  }
 },
 "nbformat": 4,
 "nbformat_minor": 4
}
