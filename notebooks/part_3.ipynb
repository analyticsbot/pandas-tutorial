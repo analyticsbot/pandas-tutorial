{
 "cells": [
  {
   "cell_type": "code",
   "execution_count": null,
   "metadata": {},
   "outputs": [],
   "source": [
    "import pandas as pd"
   ]
  },
  {
   "cell_type": "markdown",
   "metadata": {},
   "source": [
    "##### DataFrame Basics\n",
    "A 2D data structure for different data types, similar to spreadsheets or SQL tables"
   ]
  },
  {
   "cell_type": "code",
   "execution_count": null,
   "metadata": {},
   "outputs": [],
   "source": [
    "# Create sample DataFrame\n",
    "df = pd.DataFrame({\n",
    "    \"Name\": [\"Braund, Mr. Owen Harris\",\n",
    "             \"Allen, Mr. William Henry\",\n",
    "             \"Bonnell, Miss. Elizabeth\"],\n",
    "    \"Age\": [22, 35, 58],\n",
    "    \"Sex\": [\"male\", \"male\", \"female\"]\n",
    "})"
   ]
  },
  {
   "cell_type": "code",
   "execution_count": null,
   "metadata": {},
   "outputs": [],
   "source": [
    "# Display DataFrame structure\n",
    "print(\"DataFrame:\")\n",
    "print(df)\n",
    "\n",
    "print(\"\\nDataFrame info:\")\n",
    "print(df.info())"
   ]
  },
  {
   "cell_type": "markdown",
   "metadata": {},
   "source": [
    "##### Working with Series\n",
    "Single columns from DataFrames are Series objects"
   ]
  },
  {
   "cell_type": "code",
   "execution_count": null,
   "metadata": {},
   "outputs": [],
   "source": [
    "# Extract Series from DataFrame\n",
    "age_series = df[\"Age\"]\n",
    "print(\"Age Series from DataFrame:\")\n",
    "print(age_series)"
   ]
  },
  {
   "cell_type": "code",
   "execution_count": null,
   "metadata": {},
   "outputs": [],
   "source": [
    "# Create standalone Series\n",
    "ages = pd.Series([22, 35, 58], name=\"Age\")\n",
    "print(\"Standalone Series:\")\n",
    "print(ages)"
   ]
  },
  {
   "cell_type": "markdown",
   "metadata": {},
   "source": [
    "##### Series Truth Values and Gotchas"
   ]
  },
  {
   "cell_type": "code",
   "execution_count": null,
   "metadata": {},
   "outputs": [],
   "source": [
    "# Incorrect boolean operation\n",
    "try:\n",
    "    if pd.Series([False, True, False]):\n",
    "        print(\"I was true\")\n",
    "except ValueError as e:\n",
    "    print(f\"Error: {e}\")"
   ]
  },
  {
   "cell_type": "code",
   "execution_count": null,
   "metadata": {},
   "outputs": [],
   "source": [
    "# Correct boolean operations\n",
    "s = pd.Series([False, True, False])\n",
    "print(\"Is empty?\", s.empty)\n",
    "print(\"Any True?\", s.any())\n",
    "print(\"All True?\", s.all())"
   ]
  },
  {
   "cell_type": "markdown",
   "metadata": {},
   "source": [
    "##### Basic Statistics"
   ]
  },
  {
   "cell_type": "code",
   "execution_count": null,
   "metadata": {},
   "outputs": [],
   "source": [
    "# Maximum values\n",
    "print(\"Max age (DataFrame):\", df[\"Age\"].max())\n",
    "print(\"Max age (Series):\", ages.max())"
   ]
  },
  {
   "cell_type": "code",
   "execution_count": null,
   "metadata": {},
   "outputs": [],
   "source": [
    "# Descriptive statistics\n",
    "print(\"Statistics summary:\")\n",
    "print(df.describe())"
   ]
  },
  {
   "cell_type": "markdown",
   "metadata": {},
   "source": [
    "##### Titanic Dataset Analysis"
   ]
  },
  {
   "cell_type": "code",
   "execution_count": null,
   "metadata": {},
   "outputs": [],
   "source": [
    "# Load dataset\n",
    "titanic = pd.read_csv(\"data/titanic.csv\")\n",
    "\n",
    "# View first rows\n",
    "print(\"First rows:\")\n",
    "print(titanic.head())"
   ]
  },
  {
   "cell_type": "code",
   "execution_count": null,
   "metadata": {},
   "outputs": [],
   "source": [
    "# Passenger class analysis\n",
    "print(\"Unique classes:\", titanic[\"Pclass\"].unique())\n",
    "print(\"\\nClass is categorical, not numerical\")"
   ]
  },
  {
   "cell_type": "markdown",
   "metadata": {},
   "source": [
    "##### Grouping Operations"
   ]
  },
  {
   "cell_type": "code",
   "execution_count": null,
   "metadata": {},
   "outputs": [],
   "source": [
    "# Mean fare by groups\n",
    "print(\"Mean fare by sex and class:\")\n",
    "print(titanic.groupby([\"Sex\", \"Pclass\"])[\"Fare\"].mean())"
   ]
  },
  {
   "cell_type": "code",
   "execution_count": null,
   "metadata": {},
   "outputs": [],
   "source": [
    "# Counting methods\n",
    "print(\"Using value_counts():\")\n",
    "print(titanic[\"Pclass\"].value_counts())\n",
    "\n",
    "print(\"\\nUsing groupby():\")\n",
    "print(titanic.groupby(\"Pclass\")[\"Pclass\"].count())"
   ]
  },
  {
   "cell_type": "code",
   "execution_count": null,
   "metadata": {},
   "outputs": [],
   "source": [
    "# NaN handling\n",
    "print(\"Size vs Count:\")\n",
    "print(\"With NaN:\", titanic.groupby(\"Pclass\").size())\n",
    "print(\"Without NaN:\", titanic.groupby(\"Pclass\").count())"
   ]
  },
  {
   "cell_type": "markdown",
   "metadata": {},
   "source": [
    "##### Air Quality Analysis"
   ]
  },
  {
   "cell_type": "code",
   "execution_count": null,
   "metadata": {},
   "outputs": [],
   "source": [
    "# Load data\n",
    "air_quality = pd.read_csv(\"data/air_quality_long.csv\")\n",
    "\n",
    "print(\"First rows:\")\n",
    "print(air_quality.head())"
   ]
  },
  {
   "cell_type": "code",
   "execution_count": null,
   "metadata": {},
   "outputs": [],
   "source": [
    "# City analysis\n",
    "print(\"Mean by city and parameter:\")\n",
    "print(air_quality.groupby([\"city\", \"parameter\"])[\"value\"].mean())"
   ]
  },
  {
   "cell_type": "code",
   "execution_count": null,
   "metadata": {},
   "outputs": [],
   "source": [
    "# Station analysis\n",
    "print(\"Measurements per station:\")\n",
    "print(air_quality[\"station\"].value_counts())\n",
    "\n",
    "print(\"\\nMeasurements by parameter:\")\n",
    "print(air_quality[\"parameter\"].value_counts())"
   ]
  }
 ],
 "metadata": {
  "kernelspec": {
   "display_name": "Python 3",
   "language": "python",
   "name": "python3"
  },
  "language_info": {
   "codemirror_mode": {
    "name": "ipython",
    "version": 3
   },
   "file_extension": ".py",
   "mimetype": "text/x-python",
   "name": "python",
   "nbconvert_exporter": "python",
   "pygments_lexer": "ipython3",
   "version": "3.8.0"
  }
 },
 "nbformat": 4,
 "nbformat_minor": 4
}
