{
 "cells": [
  {
   "cell_type": "markdown",
   "metadata": {},
   "source": [
    "#### Pandas Part 85: DateOffset Aliases\n",
    "\n",
    "This notebook explores DateOffset aliases in pandas, which provide convenient shortcuts for commonly used DateOffset classes."
   ]
  },
  {
   "cell_type": "code",
   "execution_count": null,
   "metadata": {},
   "outputs": [],
   "source": [
    "import pandas as pd\n",
    "import numpy as np\n",
    "from datetime import datetime, time, timedelta\n",
    "from pandas.tseries.offsets import (\n",
    "    BDay, BMonthEnd, BMonthBegin,\n",
    "    BQuarterEnd, BQuarterBegin,\n",
    "    BYearEnd, BYearBegin\n",
    ")"
   ]
  },
  {
   "cell_type": "markdown",
   "metadata": {},
   "source": [
    "##### 1. Introduction to DateOffset Aliases\n",
    "\n",
    "DateOffset aliases are shorthand strings that represent specific DateOffset classes. These aliases make it easier to specify frequency strings in pandas time series functions like `date_range()`, `resample()`, and `asfreq()`."
   ]
  },
  {
   "cell_type": "code",
   "execution_count": null,
   "metadata": {},
   "outputs": [],
   "source": [
    "# Display some common DateOffset aliases\n",
    "aliases = {\n",
    "    'B': 'business day frequency (weekdays)',\n",
    "    'D': 'calendar day frequency',\n",
    "    'W': 'weekly frequency',\n",
    "    'M': 'month end frequency',\n",
    "    'BM': 'business month end frequency',\n",
    "    'MS': 'month start frequency',\n",
    "    'BMS': 'business month start frequency',\n",
    "    'Q': 'quarter end frequency',\n",
    "    'BQ': 'business quarter end frequency',\n",
    "    'QS': 'quarter start frequency',\n",
    "    'BQS': 'business quarter start frequency',\n",
    "    'A': 'year end frequency',\n",
    "    'BA': 'business year end frequency',\n",
    "    'AS': 'year start frequency',\n",
    "    'BAS': 'business year start frequency',\n",
    "    'H': 'hourly frequency',\n",
    "    'T': 'minutely frequency',\n",
    "    'S': 'secondly frequency',\n",
    "    'L': 'milliseconds',\n",
    "    'U': 'microseconds',\n",
    "    'N': 'nanoseconds'\n",
    "}\n",
    "\n",
    "print(\"Common DateOffset Aliases:\")\n",
    "for alias, description in aliases.items():\n",
    "    print(f\"{alias}: {description}\")"
   ]
  },
  {
   "cell_type": "markdown",
   "metadata": {},
   "source": [
    "##### 2. Business Day Alias (B)\n",
    "\n",
    "The `B` alias represents business days (weekdays). It is an alias for the `BDay` class."
   ]
  },
  {
   "cell_type": "code",
   "execution_count": null,
   "metadata": {},
   "outputs": [],
   "source": [
    "# Create a BDay offset\n",
    "bday = BDay()\n",
    "print(f\"BDay: {bday}\")\n",
    "\n",
    "# Apply to a datetime\n",
    "dt = datetime(2023, 1, 1)  # Sunday\n",
    "print(f\"Original datetime: {dt} ({dt.strftime('%A')})\")\n",
    "print(f\"After adding 1 business day: {dt + bday} ({(dt + bday).strftime('%A')})\")\n",
    "\n",
    "# Create a date range with business day frequency using the 'B' alias\n",
    "dates = pd.date_range(start='2023-01-01', periods=5, freq='B')\n",
    "print(f\"\\nDate range with business day frequency (B):\")\n",
    "for date in dates:\n",
    "    print(f\"{date} ({date.strftime('%A')})\")"
   ]
  },
  {
   "cell_type": "code",
   "execution_count": null,
   "metadata": {},
   "outputs": [],
   "source": [
    "# Create a date range with 2 business days frequency\n",
    "dates = pd.date_range(start='2023-01-01', periods=5, freq='2B')\n",
    "print(f\"Date range with 2 business days frequency (2B):\")\n",
    "for date in dates:\n",
    "    print(f\"{date} ({date.strftime('%A')})\")"
   ]
  },
  {
   "cell_type": "markdown",
   "metadata": {},
   "source": [
    "##### 3. Business Month Aliases (BM and BMS)\n",
    "\n",
    "The `BM` alias represents business month end, and `BMS` represents business month start. They are aliases for the `BMonthEnd` and `BMonthBegin` classes, respectively."
   ]
  },
  {
   "cell_type": "code",
   "execution_count": null,
   "metadata": {},
   "outputs": [],
   "source": [
    "# Create BMonthEnd and BMonthBegin offsets\n",
    "bmonth_end = BMonthEnd()\n",
    "bmonth_begin = BMonthBegin()\n",
    "print(f\"BMonthEnd: {bmonth_end}\")\n",
    "print(f\"BMonthBegin: {bmonth_begin}\")\n",
    "\n",
    "# Apply to a datetime\n",
    "dt = datetime(2023, 1, 15)  # Middle of the month\n",
    "print(f\"\\nOriginal datetime: {dt}\")\n",
    "print(f\"After adding BMonthEnd: {dt + bmonth_end}\")\n",
    "print(f\"After adding BMonthBegin: {dt + bmonth_begin}\")\n",
    "\n",
    "# Create date ranges with business month frequency using aliases\n",
    "dates_bm = pd.date_range(start='2023-01-15', periods=5, freq='BM')\n",
    "print(f\"\\nDate range with business month end frequency (BM):\")\n",
    "for date in dates_bm:\n",
    "    print(f\"{date} ({date.strftime('%A')})\")\n",
    "\n",
    "dates_bms = pd.date_range(start='2023-01-15', periods=5, freq='BMS')\n",
    "print(f\"\\nDate range with business month start frequency (BMS):\")\n",
    "for date in dates_bms:\n",
    "    print(f\"{date} ({date.strftime('%A')})\")"
   ]
  },
  {
   "cell_type": "markdown",
   "metadata": {},
   "source": [
    "##### 4. Business Quarter Aliases (BQ and BQS)\n",
    "\n",
    "The `BQ` alias represents business quarter end, and `BQS` represents business quarter start. They are aliases for the `BQuarterEnd` and `BQuarterBegin` classes, respectively."
   ]
  },
  {
   "cell_type": "code",
   "execution_count": null,
   "metadata": {},
   "outputs": [],
   "source": [
    "# Create BQuarterEnd and BQuarterBegin offsets\n",
    "bquarter_end = BQuarterEnd()\n",
    "bquarter_begin = BQuarterBegin()\n",
    "print(f\"BQuarterEnd: {bquarter_end}\")\n",
    "print(f\"BQuarterBegin: {bquarter_begin}\")\n",
    "\n",
    "# Apply to a datetime\n",
    "dt = datetime(2023, 2, 15)  # Middle of Q1\n",
    "print(f\"\\nOriginal datetime: {dt}\")\n",
    "print(f\"After adding BQuarterEnd: {dt + bquarter_end}\")\n",
    "print(f\"After adding BQuarterBegin: {dt + bquarter_begin}\")\n",
    "\n",
    "# Create date ranges with business quarter frequency using aliases\n",
    "dates_bq = pd.date_range(start='2023-01-15', periods=4, freq='BQ')\n",
    "print(f\"\\nDate range with business quarter end frequency (BQ):\")\n",
    "for date in dates_bq:\n",
    "    print(f\"{date} ({date.strftime('%A')})\")\n",
    "\n",
    "dates_bqs = pd.date_range(start='2023-01-15', periods=4, freq='BQS')\n",
    "print(f\"\\nDate range with business quarter start frequency (BQS):\")\n",
    "for date in dates_bqs:\n",
    "    print(f\"{date} ({date.strftime('%A')})\")"
   ]
  },
  {
   "cell_type": "markdown",
   "metadata": {},
   "source": [
    "##### 5. Business Year Aliases (BA and BAS)\n",
    "\n",
    "The `BA` alias represents business year end, and `BAS` represents business year start. They are aliases for the `BYearEnd` and `BYearBegin` classes, respectively."
   ]
  },
  {
   "cell_type": "code",
   "execution_count": null,
   "metadata": {},
   "outputs": [],
   "source": [
    "# Create BYearEnd and BYearBegin offsets\n",
    "byear_end = BYearEnd()\n",
    "byear_begin = BYearBegin()\n",
    "print(f\"BYearEnd: {byear_end}\")\n",
    "print(f\"BYearBegin: {byear_begin}\")\n",
    "\n",
    "# Apply to a datetime\n",
    "dt = datetime(2023, 6, 15)  # Middle of the year\n",
    "print(f\"\\nOriginal datetime: {dt}\")\n",
    "print(f\"After adding BYearEnd: {dt + byear_end}\")\n",
    "print(f\"After adding BYearBegin: {dt + byear_begin}\")\n",
    "\n",
    "# Create date ranges with business year frequency using aliases\n",
    "dates_ba = pd.date_range(start='2020-06-15', periods=3, freq='BA')\n",
    "print(f\"\\nDate range with business year end frequency (BA):\")\n",
    "for date in dates_ba:\n",
    "    print(f\"{date} ({date.strftime('%A')})\")\n",
    "\n",
    "dates_bas = pd.date_range(start='2020-06-15', periods=3, freq='BAS')\n",
    "print(f\"\\nDate range with business year start frequency (BAS):\")\n",
    "for date in dates_bas:\n",
    "    print(f\"{date} ({date.strftime('%A')})\")"
   ]
  },
  {
   "cell_type": "markdown",
   "metadata": {},
   "source": [
    "##### 6. Time-Based Aliases (H, T, S, L, U, N)\n",
    "\n",
    "Pandas provides aliases for time-based DateOffset classes:\n",
    "- `H`: Hour\n",
    "- `T`: Minute (T stands for \"time\")\n",
    "- `S`: Second\n",
    "- `L`: Millisecond\n",
    "- `U`: Microsecond\n",
    "- `N`: Nanosecond"
   ]
  },
  {
   "cell_type": "code",
   "execution_count": null,
   "metadata": {},
   "outputs": [],
   "source": [
    "# Create date ranges with time-based frequency using aliases\n",
    "dt = datetime(2023, 1, 1, 12, 0, 0)\n",
    "\n",
    "# Hourly frequency\n",
    "dates_h = pd.date_range(start=dt, periods=5, freq='H')\n",
    "print(f\"Date range with hourly frequency (H):\")\n",
    "for date in dates_h:\n",
    "    print(f\"{date}\")\n",
    "\n",
    "# Minutely frequency\n",
    "dates_t = pd.date_range(start=dt, periods=5, freq='T')\n",
    "print(f\"\\nDate range with minutely frequency (T):\")\n",
    "for date in dates_t:\n",
    "    print(f\"{date}\")\n",
    "\n",
    "# Secondly frequency\n",
    "dates_s = pd.date_range(start=dt, periods=5, freq='S')\n",
    "print(f\"\\nDate range with secondly frequency (S):\")\n",
    "for date in dates_s:\n",
    "    print(f\"{date}\")\n",
    "\n",
    "# Millisecond frequency\n",
    "dates_l = pd.date_range(start=dt, periods=5, freq='L')\n",
    "print(f\"\\nDate range with millisecond frequency (L):\")\n",
    "for date in dates_l:\n",
    "    print(f\"{date}\")"
   ]
  },
  {
   "cell_type": "markdown",
   "metadata": {},
   "source": [
    "##### 7. Calendar Day vs. Business Day Aliases\n",
    "\n",
    "It's important to understand the difference between calendar day and business day aliases."
   ]
  },
  {
   "cell_type": "code",
   "execution_count": null,
   "metadata": {},
   "outputs": [],
   "source": [
    "# Calendar day frequency (D)\n",
    "dates_d = pd.date_range(start='2023-01-01', periods=10, freq='D')\n",
    "print(f\"Date range with calendar day frequency (D):\")\n",
    "for date in dates_d:\n",
    "    print(f\"{date} ({date.strftime('%A')})\")\n",
    "\n",
    "# Business day frequency (B)\n",
    "dates_b = pd.date_range(start='2023-01-01', periods=7, freq='B')\n",
    "print(f\"\\nDate range with business day frequency (B):\")\n",
    "for date in dates_b:\n",
    "    print(f\"{date} ({date.strftime('%A')})\")"
   ]
  },
  {
   "cell_type": "markdown",
   "metadata": {},
   "source": [
    "##### 8. Using Aliases in Time Series Analysis"
   ]
  },
  {
   "cell_type": "code",
   "execution_count": null,
   "metadata": {},
   "outputs": [],
   "source": [
    "# Create a time series with daily data\n",
    "dates = pd.date_range(start='2023-01-01', periods=30, freq='D')\n",
    "values = np.random.randn(30)\n",
    "ts = pd.Series(values, index=dates)\n",
    "print(f\"Time series with daily data:\")\n",
    "print(ts.head())\n",
    "\n",
    "# Resample to business day frequency\n",
    "ts_b = ts.resample('B').mean()\n",
    "print(f\"\\nResampled to business day frequency (B):\")\n",
    "print(ts_b.head())\n",
    "\n",
    "# Resample to weekly frequency\n",
    "ts_w = ts.resample('W').mean()\n",
    "print(f\"\\nResampled to weekly frequency (W):\")\n",
    "print(ts_w.head())\n",
    "\n",
    "# Resample to monthly frequency\n",
    "ts_m = ts.resample('M').mean()\n",
    "print(f\"\\nResampled to monthly frequency (M):\")\n",
    "print(ts_m.head())"
   ]
  },
  {
   "cell_type": "markdown",
   "metadata": {},
   "source": [
    "##### 9. Combining Aliases with Multipliers"
   ]
  },
  {
   "cell_type": "code",
   "execution_count": null,
   "metadata": {},
   "outputs": [],
   "source": [
    "# Create date ranges with multipliers\n",
    "# 2 business days\n",
    "dates_2b = pd.date_range(start='2023-01-01', periods=5, freq='2B')\n",
    "print(f\"Date range with 2 business days frequency (2B):\")\n",
    "for date in dates_2b:\n",
    "    print(f\"{date} ({date.strftime('%A')})\")\n",
    "\n",
    "# 3 hours\n",
    "dates_3h = pd.date_range(start='2023-01-01 00:00', periods=5, freq='3H')\n",
    "print(f\"\\nDate range with 3 hours frequency (3H):\")\n",
    "for date in dates_3h:\n",
    "    print(f\"{date}\")\n",
    "\n",
    "# 15 minutes\n",
    "dates_15t = pd.date_range(start='2023-01-01 00:00', periods=5, freq='15T')\n",
    "print(f\"\\nDate range with 15 minutes frequency (15T):\")\n",
    "for date in dates_15t:\n",
    "    print(f\"{date}\")"
   ]
  },
  {
   "cell_type": "markdown",
   "metadata": {},
   "source": [
    "##### 10. Using Aliases with asfreq() Method"
   ]
  },
  {
   "cell_type": "code",
   "execution_count": null,
   "metadata": {},
   "outputs": [],
   "source": [
    "# Create a time series with daily data\n",
    "dates = pd.date_range(start='2023-01-01', periods=10, freq='D')\n",
    "values = np.random.randn(10)\n",
    "ts = pd.Series(values, index=dates)\n",
    "print(f\"Time series with daily data:\")\n",
    "print(ts)\n",
    "\n",
    "# Convert to business day frequency\n",
    "ts_b = ts.asfreq('B')\n",
    "print(f\"\\nConverted to business day frequency (B):\")\n",
    "print(ts_b)\n",
    "\n",
    "# Convert to business day frequency with forward filling\n",
    "ts_b_ffill = ts.asfreq('B', method='ffill')\n",
    "print(f\"\\nConverted to business day frequency (B) with forward filling:\")\n",
    "print(ts_b_ffill)"
   ]
  }
 ],
 "metadata": {
  "kernelspec": {
   "display_name": "Python 3",
   "language": "python",
   "name": "python3"
  },
  "language_info": {
   "codemirror_mode": {
    "name": "ipython",
    "version": 3
   },
   "file_extension": ".py",
   "mimetype": "text/x-python",
   "name": "python",
   "nbconvert_exporter": "python",
   "pygments_lexer": "ipython3",
   "version": "3.8.5"
  }
 },
 "nbformat": 4,
 "nbformat_minor": 4
}