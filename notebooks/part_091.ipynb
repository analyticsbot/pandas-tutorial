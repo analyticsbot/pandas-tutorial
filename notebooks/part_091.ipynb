{
 "cells": [
  {
   "cell_type": "markdown",
   "metadata": {},
   "source": [
    "#### Pandas Part 91: Advanced Plotting Functions\n",
    "\n",
    "This notebook explores the advanced plotting functions available in the pandas.plotting module. These functions provide specialized visualizations beyond the basic plot types."
   ]
  },
  {
   "cell_type": "code",
   "execution_count": null,
   "metadata": {},
   "outputs": [],
   "source": [
    "import pandas as pd\n",
    "import numpy as np\n",
    "import matplotlib.pyplot as plt\n",
    "from pandas.plotting import andrews_curves, autocorrelation_plot, bootstrap_plot, \\\n",
    "                           lag_plot, parallel_coordinates, radviz, scatter_matrix\n",
    "\n",
    "# Set the style for better visualization\n",
    "plt.style.use('seaborn-v0_8-whitegrid')\n",
    "plt.rcParams['figure.figsize'] = (12, 8)"
   ]
  },
  {
   "cell_type": "markdown",
   "metadata": {},
   "source": [
    "##### 1. Creating Sample Data for Visualization"
   ]
  },
  {
   "cell_type": "code",
   "execution_count": null,
   "metadata": {},
   "outputs": [],
   "source": [
    "# Create a time series dataset\n",
    "np.random.seed(42)\n",
    "dates = pd.date_range('2023-01-01', periods=200)\n",
    "ts = pd.Series(np.cumsum(np.random.randn(200)), index=dates)\n",
    "\n",
    "# Create a multivariate dataset (similar to iris dataset)\n",
    "n_samples = 50\n",
    "# Create three clusters of points\n",
    "group1 = np.random.randn(n_samples, 4) * 0.5 + np.array([2, 2, 2, 2])\n",
    "group2 = np.random.randn(n_samples, 4) * 0.5 + np.array([6, 0, 6, 0])\n",
    "group3 = np.random.randn(n_samples, 4) * 0.5 + np.array([4, 4, 0, 4])\n",
    "\n",
    "# Combine the clusters and create a DataFrame\n",
    "data = np.vstack([group1, group2, group3])\n",
    "df = pd.DataFrame(data, columns=['Feature1', 'Feature2', 'Feature3', 'Feature4'])\n",
    "df['Class'] = ['Group1'] * n_samples + ['Group2'] * n_samples + ['Group3'] * n_samples\n",
    "\n",
    "# Display the first few rows of the multivariate dataset\n",
    "print(\"Multivariate Dataset:\")\n",
    "display(df.head())\n",
    "\n",
    "# Display the time series dataset\n",
    "print(\"\\nTime Series Dataset:\")\n",
    "display(ts.head())"
   ]
  },
  {
   "cell_type": "markdown",
   "metadata": {},
   "source": [
    "##### 2. Andrews Curves\n",
    "\n",
    "Andrews curves are a way to visualize multidimensional data by mapping each observation to a curve. Each dimension contributes to the shape of the curve, making it easier to identify clusters and patterns.\n",
    "\n",
    "The function signature is:\n",
    "```python\n",
    "pandas.plotting.andrews_curves(frame, class_column, ax=None, samples=200, color=None, colormap=None, **kwargs)\n",
    "```\n",
    "\n",
    "Andrews curves have the functional form:\n",
    "f(t) = x_1/sqrt(2) + x_2 sin(t) + x_3 cos(t) + x_4 sin(2t) + x_5 cos(2t) + ...\n",
    "\n",
    "Where x coefficients correspond to the values of each dimension and t is linearly spaced between -pi and +pi. Each row of the DataFrame corresponds to a single curve."
   ]
  },
  {
   "cell_type": "code",
   "execution_count": null,
   "metadata": {},
   "outputs": [],
   "source": [
    "plt.figure(figsize=(12, 6))\n",
    "andrews_curves(df, 'Class', colormap='viridis')\n",
    "plt.title('Andrews Curves for Multivariate Data')\n",
    "plt.grid(True)\n",
    "plt.show()"
   ]
  },
  {
   "cell_type": "markdown",
   "metadata": {},
   "source": [
    "##### 3. Autocorrelation Plot\n",
    "\n",
    "Autocorrelation plots are useful for checking randomness in time series data. This plot shows the correlation between a time series and its lagged versions.\n",
    "\n",
    "The function signature is:\n",
    "```python\n",
    "pandas.plotting.autocorrelation_plot(series, ax=None, **kwargs)\n",
    "```"
   ]
  },
  {
   "cell_type": "code",
   "execution_count": null,
   "metadata": {},
   "outputs": [],
   "source": [
    "plt.figure(figsize=(12, 6))\n",
    "autocorrelation_plot(ts)\n",
    "plt.title('Autocorrelation Plot for Time Series Data')\n",
    "plt.grid(True)\n",
    "plt.show()"
   ]
  },
  {
   "cell_type": "markdown",
   "metadata": {},
   "source": [
    "##### 4. Bootstrap Plot\n",
    "\n",
    "Bootstrap plots help estimate the uncertainty of a statistic by relying on random sampling with replacement. This function generates bootstrapping plots for mean, median, and mid-range statistics.\n",
    "\n",
    "The function signature is:\n",
    "```python\n",
    "pandas.plotting.bootstrap_plot(series, fig=None, size=50, samples=500, **kwds)\n",
    "```"
   ]
  },
  {
   "cell_type": "code",
   "execution_count": null,
   "metadata": {},
   "outputs": [],
   "source": [
    "# Create a series for bootstrap plot\n",
    "bootstrap_series = pd.Series(np.random.normal(size=100))\n",
    "\n",
    "# Generate bootstrap plot\n",
    "fig = bootstrap_plot(bootstrap_series, size=50, samples=500)\n",
    "plt.title('Bootstrap Plot for Random Data')\n",
    "plt.tight_layout()\n",
    "plt.show()"
   ]
  },
  {
   "cell_type": "markdown",
   "metadata": {},
   "source": [
    "##### 5. Box Plot\n",
    "\n",
    "Box plots (or box-and-whisker plots) show the distribution of data based on a five-number summary: minimum, first quartile, median, third quartile, and maximum.\n",
    "\n",
    "The function signature is:\n",
    "```python\n",
    "pandas.plotting.boxplot(data, column=None, by=None, ax=None, fontsize=None, rot=0, grid=True, figsize=None, layout=None, return_type=None, **kwargs)\n",
    "```"
   ]
  },
  {
   "cell_type": "code",
   "execution_count": null,
   "metadata": {},
   "outputs": [],
   "source": [
    "# Create a box plot\n",
    "plt.figure(figsize=(12, 6))\n",
    "pd.plotting.boxplot(df, column=['Feature1', 'Feature2', 'Feature3', 'Feature4'], by='Class', grid=True)\n",
    "plt.suptitle('Box Plot of Features by Class')\n",
    "plt.tight_layout()\n",
    "plt.show()"
   ]
  },
  {
   "cell_type": "markdown",
   "metadata": {},
   "source": [
    "##### 6. Lag Plot\n",
    "\n",
    "Lag plots help visualize the relationship between a time series and its lagged version. It's useful for checking randomness and identifying patterns in time series data.\n",
    "\n",
    "The function signature is:\n",
    "```python\n",
    "pandas.plotting.lag_plot(series, lag=1, ax=None, **kwds)\n",
    "```"
   ]
  },
  {
   "cell_type": "code",
   "execution_count": null,
   "metadata": {},
   "outputs": [],
   "source": [
    "plt.figure(figsize=(12, 10))\n",
    "\n",
    "# Create lag plots with different lag values\n",
    "plt.subplot(221)\n",
    "lag_plot(ts, lag=1)\n",
    "plt.title('Lag Plot (lag=1)')\n",
    "\n",
    "plt.subplot(222)\n",
    "lag_plot(ts, lag=5)\n",
    "plt.title('Lag Plot (lag=5)')\n",
    "\n",
    "plt.subplot(223)\n",
    "lag_plot(ts, lag=10)\n",
    "plt.title('Lag Plot (lag=10)')\n",
    "\n",
    "plt.subplot(224)\n",
    "lag_plot(ts, lag=20)\n",
    "plt.title('Lag Plot (lag=20)')\n",
    "\n",
    "plt.tight_layout()\n",
    "plt.show()"
   ]
  },
  {
   "cell_type": "markdown",
   "metadata": {},
   "source": [
    "##### 7. Parallel Coordinates\n",
    "\n",
    "Parallel coordinates plots are a way to visualize high-dimensional data. Each vertical line represents a dimension, and each data point is represented as a line connecting its values across all dimensions.\n",
    "\n",
    "The function signature is:\n",
    "```python\n",
    "pandas.plotting.parallel_coordinates(frame, class_column, ax=None, color=None, colormap=None, **kwds)\n",
    "```"
   ]
  },
  {
   "cell_type": "code",
   "execution_count": null,
   "metadata": {},
   "outputs": [],
   "source": [
    "plt.figure(figsize=(12, 6))\n",
    "parallel_coordinates(df, 'Class', colormap='viridis')\n",
    "plt.title('Parallel Coordinates Plot for Multivariate Data')\n",
    "plt.grid(True)\n",
    "plt.show()"
   ]
  },
  {
   "cell_type": "markdown",
   "metadata": {},
   "source": [
    "##### 8. Radviz\n",
    "\n",
    "Radviz is a way to visualize multi-dimensional data in a 2D plot. Each dimension is represented as an anchor point on the perimeter of a circle, and data points are shown as points inside the circle.\n",
    "\n",
    "The function signature is:\n",
    "```python\n",
    "pandas.plotting.radviz(frame, class_column, ax=None, color=None, colormap=None, **kwds)\n",
    "```"
   ]
  },
  {
   "cell_type": "code",
   "execution_count": null,
   "metadata": {},
   "outputs": [],
   "source": [
    "plt.figure(figsize=(10, 10))\n",
    "radviz(df, 'Class', colormap='viridis')\n",
    "plt.title('Radviz Plot for Multivariate Data')\n",
    "plt.grid(True)\n",
    "plt.show()"
   ]
  },
  {
   "cell_type": "markdown",
   "metadata": {},
   "source": [
    "##### 9. Scatter Matrix\n",
    "\n",
    "Scatter matrix (or pair plot) creates a matrix of scatter plots for all pairs of variables in a DataFrame. The diagonal can show histograms or kernel density estimates of each variable.\n",
    "\n",
    "The function signature is:\n",
    "```python\n",
    "pandas.plotting.scatter_matrix(frame, alpha=0.5, figsize=None, ax=None, grid=False, diagonal='hist', marker='.', density_kwds=None, hist_kwds=None, range_padding=0.05, **kwargs)\n",
    "```"
   ]
  },
  {
   "cell_type": "code",
   "execution_count": null,
   "metadata": {},
   "outputs": [],
   "source": [
    "# Create a scatter matrix with histograms on the diagonal\n",
    "scatter_matrix(df.drop('Class', axis=1), alpha=0.8, figsize=(12, 12), diagonal='hist')\n",
    "plt.suptitle('Scatter Matrix with Histograms on Diagonal', y=0.95)\n",
    "plt.show()\n",
    "\n",
    "# Create a scatter matrix with kernel density estimates on the diagonal\n",
    "scatter_matrix(df.drop('Class', axis=1), alpha=0.8, figsize=(12, 12), diagonal='kde')\n",
    "plt.suptitle('Scatter Matrix with KDE on Diagonal', y=0.95)\n",
    "plt.show()"
   ]
  },
  {
   "cell_type": "markdown",
   "metadata": {},
   "source": [
    "##### 10. Matplotlib Converters\n",
    "\n",
    "Pandas provides functions to register and deregister its formatters and converters with matplotlib. This is useful when working with date and time data.\n",
    "\n",
    "The functions are:\n",
    "```python\n",
    "pandas.plotting.register_matplotlib_converters()\n",
    "pandas.plotting.deregister_matplotlib_converters()\n",
    "```"
   ]
  },
  {
   "cell_type": "code",
   "execution_count": null,
   "metadata": {},
   "outputs": [],
   "source": [
    "# Register pandas formatters and converters with matplotlib\n",
    "pd.plotting.register_matplotlib_converters()\n",
    "\n",
    "# Create a plot with datetime index\n",
    "plt.figure(figsize=(12, 6))\n",
    "plt.plot(ts.index, ts.values)\n",
    "plt.title('Time Series Plot with Datetime Index')\n",
    "plt.grid(True)\n",
    "plt.tight_layout()\n",
    "plt.show()\n",
    "\n",
    "# Deregister pandas formatters and converters\n",
    "# Note: In most cases, you don't need to deregister them\n",
    "# pd.plotting.deregister_matplotlib_converters()"
   ]
  },
  {
   "cell_type": "markdown",
   "metadata": {},
   "source": [
    "##### 11. Table Visualization\n",
    "\n",
    "The `table` function helps convert DataFrame and Series to matplotlib tables.\n",
    "\n",
    "The function signature is:\n",
    "```python\n",
    "pandas.plotting.table(ax, data, rowLabels=None, colLabels=None, **kwargs)\n",
    "```"
   ]
  },
  {
   "cell_type": "code",
   "execution_count": null,
   "metadata": {},
   "outputs": [],
   "source": [
    "# Create a sample DataFrame for the table\n",
    "table_data = pd.DataFrame({\n",
    "    'Group': ['Group1', 'Group2', 'Group3'],\n",
    "    'Feature1 (Mean)': df.groupby('Class')['Feature1'].mean().values,\n",
    "    'Feature2 (Mean)': df.groupby('Class')['Feature2'].mean().values,\n",
    "    'Feature3 (Mean)': df.groupby('Class')['Feature3'].mean().values,\n",
    "    'Feature4 (Mean)': df.groupby('Class')['Feature4'].mean().values\n",
    "})\n",
    "\n",
    "# Create a figure and axis\n",
    "fig, ax = plt.subplots(figsize=(12, 4))\n",
    "ax.axis('off')\n",
    "ax.axis('tight')\n",
    "\n",
    "# Create a table\n",
    "pd.plotting.table(ax, table_data, loc='center')\n",
    "\n",
    "# Add a title\n",
    "plt.title('Mean Feature Values by Group')\n",
    "plt.tight_layout()\n",
    "plt.show()"
   ]
  },
  {
   "cell_type": "markdown",
   "metadata": {},
   "source": [
    "##### 12. Conclusion\n",
    "\n",
    "In this notebook, we've explored various advanced plotting functions available in the pandas.plotting module:\n",
    "\n",
    "1. **Andrews Curves**: For visualizing multidimensional data by mapping each observation to a curve\n",
    "2. **Autocorrelation Plot**: For checking randomness in time series data\n",
    "3. **Bootstrap Plot**: For estimating uncertainty of statistics using random sampling with replacement\n",
    "4. **Box Plot**: For showing the distribution of data based on a five-number summary\n",
    "5. **Lag Plot**: For visualizing the relationship between a time series and its lagged version\n",
    "6. **Parallel Coordinates**: For visualizing high-dimensional data\n",
    "7. **Radviz**: For visualizing multi-dimensional data in a 2D plot\n",
    "8. **Scatter Matrix**: For creating a matrix of scatter plots for all pairs of variables\n",
    "9. **Matplotlib Converters**: For registering and deregistering pandas formatters and converters with matplotlib\n",
    "10. **Table Visualization**: For converting DataFrame and Series to matplotlib tables\n",
    "\n",
    "These advanced plotting functions are powerful tools for data visualization and analysis, especially when working with complex datasets."
   ]
  }
 ],
 "metadata": {
  "kernelspec": {
   "display_name": "Python 3",
   "language": "python",
   "name": "python3"
  },
  "language_info": {
   "codemirror_mode": {
    "name": "ipython",
    "version": 3
   },
   "file_extension": ".py",
   "mimetype": "text/x-python",
   "name": "python",
   "nbconvert_exporter": "python",
   "pygments_lexer": "ipython3",
   "version": "3.8.10"
  }
 },
 "nbformat": 4,
 "nbformat_minor": 4
}