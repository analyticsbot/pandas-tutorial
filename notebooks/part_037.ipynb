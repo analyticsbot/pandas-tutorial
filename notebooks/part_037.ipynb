{
 "cells": [
  {
   "cell_type": "markdown",
   "metadata": {},
   "source": [
    "#### Pandas Tutorial - Part 37\n",
    "\n",
    "This notebook covers:\n",
    "- More on merging and joining DataFrames\n",
    "- Plotting with pandas\n",
    "- Data input/output operations"
   ]
  },
  {
   "cell_type": "code",
   "execution_count": 1,
   "metadata": {},
   "outputs": [],
   "source": [
    "import pandas as pd\n",
    "import numpy as np\n",
    "import matplotlib.pyplot as plt\n",
    "import io\n",
    "import os\n",
    "\n",
    "%matplotlib inline"
   ]
  },
  {
   "cell_type": "markdown",
   "metadata": {},
   "source": [
    "##### Merging and Joining DataFrames\n",
    "\n",
    "Continuing from Part 36, let's explore more advanced merging and joining operations."
   ]
  },
  {
   "cell_type": "markdown",
   "metadata": {},
   "source": [
    "### Appending DataFrames with ignore_index\n",
    "\n",
    "When appending DataFrames, you might want to ignore the original index values and create a new sequential index."
   ]
  },
  {
   "cell_type": "code",
   "execution_count": 2,
   "metadata": {},
   "outputs": [
    {
     "name": "stdout",
     "output_type": "stream",
     "text": [
      "DataFrame 1:\n",
      "          A         B         C\n",
      "0  0.477573 -0.159201 -0.652688\n",
      "1  1.471486  0.148042  0.484004\n",
      "2 -2.023603 -0.344210 -0.792670\n",
      "3  0.440741 -1.776537  0.064627\n",
      "4  0.150471  0.256826 -0.393907\n",
      "5  0.648419 -0.329893 -0.012842\n",
      "\n",
      "DataFrame 2:\n",
      "          A         B         C\n",
      "0  1.522446 -1.439185 -0.749458\n",
      "1 -0.787348 -0.550910 -0.420036\n",
      "2  0.994233 -0.242063  0.192479\n",
      "3  0.120642 -1.028988  0.088628\n"
     ]
    }
   ],
   "source": [
    "# Create two sample DataFrames\n",
    "df1 = pd.DataFrame(np.random.randn(6, 3), columns=['A', 'B', 'C'])\n",
    "df2 = pd.DataFrame(np.random.randn(4, 3), columns=['A', 'B', 'C'])\n",
    "\n",
    "# Display the DataFrames\n",
    "print(\"DataFrame 1:\")\n",
    "print(df1)\n",
    "print(\"\\nDataFrame 2:\")\n",
    "print(df2)"
   ]
  },
  {
   "cell_type": "code",
   "execution_count": 5,
   "metadata": {},
   "outputs": [
    {
     "data": {
      "text/html": [
       "<div>\n",
       "<style scoped>\n",
       "    .dataframe tbody tr th:only-of-type {\n",
       "        vertical-align: middle;\n",
       "    }\n",
       "\n",
       "    .dataframe tbody tr th {\n",
       "        vertical-align: top;\n",
       "    }\n",
       "\n",
       "    .dataframe thead th {\n",
       "        text-align: right;\n",
       "    }\n",
       "</style>\n",
       "<table border=\"1\" class=\"dataframe\">\n",
       "  <thead>\n",
       "    <tr style=\"text-align: right;\">\n",
       "      <th></th>\n",
       "      <th>A</th>\n",
       "      <th>B</th>\n",
       "      <th>C</th>\n",
       "    </tr>\n",
       "  </thead>\n",
       "  <tbody>\n",
       "    <tr>\n",
       "      <th>0</th>\n",
       "      <td>0.477573</td>\n",
       "      <td>-0.159201</td>\n",
       "      <td>-0.652688</td>\n",
       "    </tr>\n",
       "    <tr>\n",
       "      <th>1</th>\n",
       "      <td>1.471486</td>\n",
       "      <td>0.148042</td>\n",
       "      <td>0.484004</td>\n",
       "    </tr>\n",
       "    <tr>\n",
       "      <th>2</th>\n",
       "      <td>-2.023603</td>\n",
       "      <td>-0.344210</td>\n",
       "      <td>-0.792670</td>\n",
       "    </tr>\n",
       "    <tr>\n",
       "      <th>3</th>\n",
       "      <td>0.440741</td>\n",
       "      <td>-1.776537</td>\n",
       "      <td>0.064627</td>\n",
       "    </tr>\n",
       "    <tr>\n",
       "      <th>4</th>\n",
       "      <td>0.150471</td>\n",
       "      <td>0.256826</td>\n",
       "      <td>-0.393907</td>\n",
       "    </tr>\n",
       "    <tr>\n",
       "      <th>5</th>\n",
       "      <td>0.648419</td>\n",
       "      <td>-0.329893</td>\n",
       "      <td>-0.012842</td>\n",
       "    </tr>\n",
       "    <tr>\n",
       "      <th>6</th>\n",
       "      <td>1.522446</td>\n",
       "      <td>-1.439185</td>\n",
       "      <td>-0.749458</td>\n",
       "    </tr>\n",
       "    <tr>\n",
       "      <th>7</th>\n",
       "      <td>-0.787348</td>\n",
       "      <td>-0.550910</td>\n",
       "      <td>-0.420036</td>\n",
       "    </tr>\n",
       "    <tr>\n",
       "      <th>8</th>\n",
       "      <td>0.994233</td>\n",
       "      <td>-0.242063</td>\n",
       "      <td>0.192479</td>\n",
       "    </tr>\n",
       "    <tr>\n",
       "      <th>9</th>\n",
       "      <td>0.120642</td>\n",
       "      <td>-1.028988</td>\n",
       "      <td>0.088628</td>\n",
       "    </tr>\n",
       "  </tbody>\n",
       "</table>\n",
       "</div>"
      ],
      "text/plain": [
       "          A         B         C\n",
       "0  0.477573 -0.159201 -0.652688\n",
       "1  1.471486  0.148042  0.484004\n",
       "2 -2.023603 -0.344210 -0.792670\n",
       "3  0.440741 -1.776537  0.064627\n",
       "4  0.150471  0.256826 -0.393907\n",
       "5  0.648419 -0.329893 -0.012842\n",
       "6  1.522446 -1.439185 -0.749458\n",
       "7 -0.787348 -0.550910 -0.420036\n",
       "8  0.994233 -0.242063  0.192479\n",
       "9  0.120642 -1.028988  0.088628"
      ]
     },
     "execution_count": 5,
     "metadata": {},
     "output_type": "execute_result"
    }
   ],
   "source": [
    "# Append with ignore_index=True\n",
    "df = pd.concat([df1, df2], ignore_index=True)\n",
    "df"
   ]
  },
  {
   "cell_type": "markdown",
   "metadata": {},
   "source": [
    "### Self Join of a DataFrame\n",
    "\n",
    "Sometimes you need to join a DataFrame with itself based on certain conditions."
   ]
  },
  {
   "cell_type": "code",
   "execution_count": 6,
   "metadata": {},
   "outputs": [
    {
     "data": {
      "text/html": [
       "<div>\n",
       "<style scoped>\n",
       "    .dataframe tbody tr th:only-of-type {\n",
       "        vertical-align: middle;\n",
       "    }\n",
       "\n",
       "    .dataframe tbody tr th {\n",
       "        vertical-align: top;\n",
       "    }\n",
       "\n",
       "    .dataframe thead th {\n",
       "        text-align: right;\n",
       "    }\n",
       "</style>\n",
       "<table border=\"1\" class=\"dataframe\">\n",
       "  <thead>\n",
       "    <tr style=\"text-align: right;\">\n",
       "      <th></th>\n",
       "      <th>Area</th>\n",
       "      <th>Bins</th>\n",
       "      <th>Test_0</th>\n",
       "      <th>Data</th>\n",
       "    </tr>\n",
       "  </thead>\n",
       "  <tbody>\n",
       "    <tr>\n",
       "      <th>0</th>\n",
       "      <td>A</td>\n",
       "      <td>110</td>\n",
       "      <td>0</td>\n",
       "      <td>0.659040</td>\n",
       "    </tr>\n",
       "    <tr>\n",
       "      <th>1</th>\n",
       "      <td>A</td>\n",
       "      <td>110</td>\n",
       "      <td>1</td>\n",
       "      <td>-0.750379</td>\n",
       "    </tr>\n",
       "    <tr>\n",
       "      <th>2</th>\n",
       "      <td>A</td>\n",
       "      <td>160</td>\n",
       "      <td>0</td>\n",
       "      <td>0.653794</td>\n",
       "    </tr>\n",
       "    <tr>\n",
       "      <th>3</th>\n",
       "      <td>A</td>\n",
       "      <td>160</td>\n",
       "      <td>1</td>\n",
       "      <td>-0.092549</td>\n",
       "    </tr>\n",
       "    <tr>\n",
       "      <th>4</th>\n",
       "      <td>A</td>\n",
       "      <td>160</td>\n",
       "      <td>2</td>\n",
       "      <td>-0.305016</td>\n",
       "    </tr>\n",
       "    <tr>\n",
       "      <th>5</th>\n",
       "      <td>C</td>\n",
       "      <td>40</td>\n",
       "      <td>0</td>\n",
       "      <td>-1.025002</td>\n",
       "    </tr>\n",
       "    <tr>\n",
       "      <th>6</th>\n",
       "      <td>C</td>\n",
       "      <td>40</td>\n",
       "      <td>1</td>\n",
       "      <td>0.200227</td>\n",
       "    </tr>\n",
       "  </tbody>\n",
       "</table>\n",
       "</div>"
      ],
      "text/plain": [
       "  Area  Bins  Test_0      Data\n",
       "0    A   110       0  0.659040\n",
       "1    A   110       1 -0.750379\n",
       "2    A   160       0  0.653794\n",
       "3    A   160       1 -0.092549\n",
       "4    A   160       2 -0.305016\n",
       "5    C    40       0 -1.025002\n",
       "6    C    40       1  0.200227"
      ]
     },
     "execution_count": 6,
     "metadata": {},
     "output_type": "execute_result"
    }
   ],
   "source": [
    "# Create a sample DataFrame\n",
    "df = pd.DataFrame(data={\n",
    "    'Area': ['A'] * 5 + ['C'] * 2,\n",
    "    'Bins': [110] * 2 + [160] * 3 + [40] * 2,\n",
    "    'Test_0': [0, 1, 0, 1, 2, 0, 1],\n",
    "    'Data': np.random.randn(7)\n",
    "})\n",
    "df"
   ]
  },
  {
   "cell_type": "code",
   "execution_count": 7,
   "metadata": {},
   "outputs": [
    {
     "data": {
      "text/html": [
       "<div>\n",
       "<style scoped>\n",
       "    .dataframe tbody tr th:only-of-type {\n",
       "        vertical-align: middle;\n",
       "    }\n",
       "\n",
       "    .dataframe tbody tr th {\n",
       "        vertical-align: top;\n",
       "    }\n",
       "\n",
       "    .dataframe thead th {\n",
       "        text-align: right;\n",
       "    }\n",
       "</style>\n",
       "<table border=\"1\" class=\"dataframe\">\n",
       "  <thead>\n",
       "    <tr style=\"text-align: right;\">\n",
       "      <th></th>\n",
       "      <th>Area</th>\n",
       "      <th>Bins</th>\n",
       "      <th>Test_0</th>\n",
       "      <th>Data</th>\n",
       "      <th>Test_1</th>\n",
       "    </tr>\n",
       "  </thead>\n",
       "  <tbody>\n",
       "    <tr>\n",
       "      <th>0</th>\n",
       "      <td>A</td>\n",
       "      <td>110</td>\n",
       "      <td>0</td>\n",
       "      <td>0.659040</td>\n",
       "      <td>-1</td>\n",
       "    </tr>\n",
       "    <tr>\n",
       "      <th>1</th>\n",
       "      <td>A</td>\n",
       "      <td>110</td>\n",
       "      <td>1</td>\n",
       "      <td>-0.750379</td>\n",
       "      <td>0</td>\n",
       "    </tr>\n",
       "    <tr>\n",
       "      <th>2</th>\n",
       "      <td>A</td>\n",
       "      <td>160</td>\n",
       "      <td>0</td>\n",
       "      <td>0.653794</td>\n",
       "      <td>-1</td>\n",
       "    </tr>\n",
       "    <tr>\n",
       "      <th>3</th>\n",
       "      <td>A</td>\n",
       "      <td>160</td>\n",
       "      <td>1</td>\n",
       "      <td>-0.092549</td>\n",
       "      <td>0</td>\n",
       "    </tr>\n",
       "    <tr>\n",
       "      <th>4</th>\n",
       "      <td>A</td>\n",
       "      <td>160</td>\n",
       "      <td>2</td>\n",
       "      <td>-0.305016</td>\n",
       "      <td>1</td>\n",
       "    </tr>\n",
       "    <tr>\n",
       "      <th>5</th>\n",
       "      <td>C</td>\n",
       "      <td>40</td>\n",
       "      <td>0</td>\n",
       "      <td>-1.025002</td>\n",
       "      <td>-1</td>\n",
       "    </tr>\n",
       "    <tr>\n",
       "      <th>6</th>\n",
       "      <td>C</td>\n",
       "      <td>40</td>\n",
       "      <td>1</td>\n",
       "      <td>0.200227</td>\n",
       "      <td>0</td>\n",
       "    </tr>\n",
       "  </tbody>\n",
       "</table>\n",
       "</div>"
      ],
      "text/plain": [
       "  Area  Bins  Test_0      Data  Test_1\n",
       "0    A   110       0  0.659040      -1\n",
       "1    A   110       1 -0.750379       0\n",
       "2    A   160       0  0.653794      -1\n",
       "3    A   160       1 -0.092549       0\n",
       "4    A   160       2 -0.305016       1\n",
       "5    C    40       0 -1.025002      -1\n",
       "6    C    40       1  0.200227       0"
      ]
     },
     "execution_count": 7,
     "metadata": {},
     "output_type": "execute_result"
    }
   ],
   "source": [
    "# Add a new column Test_1 which is Test_0 - 1\n",
    "df['Test_1'] = df['Test_0'] - 1\n",
    "df"
   ]
  },
  {
   "cell_type": "code",
   "execution_count": 8,
   "metadata": {},
   "outputs": [
    {
     "data": {
      "text/html": [
       "<div>\n",
       "<style scoped>\n",
       "    .dataframe tbody tr th:only-of-type {\n",
       "        vertical-align: middle;\n",
       "    }\n",
       "\n",
       "    .dataframe tbody tr th {\n",
       "        vertical-align: top;\n",
       "    }\n",
       "\n",
       "    .dataframe thead th {\n",
       "        text-align: right;\n",
       "    }\n",
       "</style>\n",
       "<table border=\"1\" class=\"dataframe\">\n",
       "  <thead>\n",
       "    <tr style=\"text-align: right;\">\n",
       "      <th></th>\n",
       "      <th>Area</th>\n",
       "      <th>Bins</th>\n",
       "      <th>Test_0_L</th>\n",
       "      <th>Data_L</th>\n",
       "      <th>Test_1_L</th>\n",
       "      <th>Test_0_R</th>\n",
       "      <th>Data_R</th>\n",
       "      <th>Test_1_R</th>\n",
       "    </tr>\n",
       "  </thead>\n",
       "  <tbody>\n",
       "    <tr>\n",
       "      <th>0</th>\n",
       "      <td>A</td>\n",
       "      <td>110</td>\n",
       "      <td>0</td>\n",
       "      <td>0.659040</td>\n",
       "      <td>-1</td>\n",
       "      <td>1</td>\n",
       "      <td>-0.750379</td>\n",
       "      <td>0</td>\n",
       "    </tr>\n",
       "    <tr>\n",
       "      <th>1</th>\n",
       "      <td>A</td>\n",
       "      <td>160</td>\n",
       "      <td>0</td>\n",
       "      <td>0.653794</td>\n",
       "      <td>-1</td>\n",
       "      <td>1</td>\n",
       "      <td>-0.092549</td>\n",
       "      <td>0</td>\n",
       "    </tr>\n",
       "    <tr>\n",
       "      <th>2</th>\n",
       "      <td>A</td>\n",
       "      <td>160</td>\n",
       "      <td>1</td>\n",
       "      <td>-0.092549</td>\n",
       "      <td>0</td>\n",
       "      <td>2</td>\n",
       "      <td>-0.305016</td>\n",
       "      <td>1</td>\n",
       "    </tr>\n",
       "    <tr>\n",
       "      <th>3</th>\n",
       "      <td>C</td>\n",
       "      <td>40</td>\n",
       "      <td>0</td>\n",
       "      <td>-1.025002</td>\n",
       "      <td>-1</td>\n",
       "      <td>1</td>\n",
       "      <td>0.200227</td>\n",
       "      <td>0</td>\n",
       "    </tr>\n",
       "  </tbody>\n",
       "</table>\n",
       "</div>"
      ],
      "text/plain": [
       "  Area  Bins  Test_0_L    Data_L  Test_1_L  Test_0_R    Data_R  Test_1_R\n",
       "0    A   110         0  0.659040        -1         1 -0.750379         0\n",
       "1    A   160         0  0.653794        -1         1 -0.092549         0\n",
       "2    A   160         1 -0.092549         0         2 -0.305016         1\n",
       "3    C    40         0 -1.025002        -1         1  0.200227         0"
      ]
     },
     "execution_count": 8,
     "metadata": {},
     "output_type": "execute_result"
    }
   ],
   "source": [
    "# Self join: join the DataFrame with itself\n",
    "# Join where Test_0 in the left DataFrame equals Test_1 in the right DataFrame\n",
    "pd.merge(df, df, \n",
    "         left_on=['Bins', 'Area', 'Test_0'],\n",
    "         right_on=['Bins', 'Area', 'Test_1'],\n",
    "         suffixes=('_L', '_R'))"
   ]
  },
  {
   "cell_type": "markdown",
   "metadata": {},
   "source": [
    "##### Plotting with Pandas\n",
    "\n",
    "Pandas integrates with Matplotlib to provide plotting capabilities directly from DataFrames and Series."
   ]
  },
  {
   "cell_type": "markdown",
   "metadata": {},
   "source": [
    "### Boxplot for Each Quartile of a Stratifying Variable\n",
    "\n",
    "Let's create a boxplot for each quartile of a stratifying variable."
   ]
  },
  {
   "cell_type": "code",
   "execution_count": 9,
   "metadata": {},
   "outputs": [
    {
     "data": {
      "text/html": [
       "<div>\n",
       "<style scoped>\n",
       "    .dataframe tbody tr th:only-of-type {\n",
       "        vertical-align: middle;\n",
       "    }\n",
       "\n",
       "    .dataframe tbody tr th {\n",
       "        vertical-align: top;\n",
       "    }\n",
       "\n",
       "    .dataframe thead th {\n",
       "        text-align: right;\n",
       "    }\n",
       "</style>\n",
       "<table border=\"1\" class=\"dataframe\">\n",
       "  <thead>\n",
       "    <tr style=\"text-align: right;\">\n",
       "      <th></th>\n",
       "      <th>stratifying_var</th>\n",
       "      <th>price</th>\n",
       "      <th>quartiles</th>\n",
       "    </tr>\n",
       "  </thead>\n",
       "  <tbody>\n",
       "    <tr>\n",
       "      <th>0</th>\n",
       "      <td>27.833139</td>\n",
       "      <td>98.800747</td>\n",
       "      <td>0-25%</td>\n",
       "    </tr>\n",
       "    <tr>\n",
       "      <th>1</th>\n",
       "      <td>72.355418</td>\n",
       "      <td>99.427625</td>\n",
       "      <td>75-100%</td>\n",
       "    </tr>\n",
       "    <tr>\n",
       "      <th>2</th>\n",
       "      <td>29.298622</td>\n",
       "      <td>93.828685</td>\n",
       "      <td>25-50%</td>\n",
       "    </tr>\n",
       "    <tr>\n",
       "      <th>3</th>\n",
       "      <td>73.673778</td>\n",
       "      <td>97.707332</td>\n",
       "      <td>75-100%</td>\n",
       "    </tr>\n",
       "    <tr>\n",
       "      <th>4</th>\n",
       "      <td>32.591467</td>\n",
       "      <td>96.951185</td>\n",
       "      <td>25-50%</td>\n",
       "    </tr>\n",
       "  </tbody>\n",
       "</table>\n",
       "</div>"
      ],
      "text/plain": [
       "   stratifying_var      price quartiles\n",
       "0        27.833139  98.800747     0-25%\n",
       "1        72.355418  99.427625   75-100%\n",
       "2        29.298622  93.828685    25-50%\n",
       "3        73.673778  97.707332   75-100%\n",
       "4        32.591467  96.951185    25-50%"
      ]
     },
     "execution_count": 9,
     "metadata": {},
     "output_type": "execute_result"
    }
   ],
   "source": [
    "# Create a sample DataFrame\n",
    "df = pd.DataFrame({\n",
    "    'stratifying_var': np.random.uniform(0, 100, 20),\n",
    "    'price': np.random.normal(100, 5, 20)\n",
    "})\n",
    "\n",
    "# Create quartile categories\n",
    "df['quartiles'] = pd.qcut(\n",
    "    df['stratifying_var'],\n",
    "    4,\n",
    "    labels=['0-25%', '25-50%', '50-75%', '75-100%']\n",
    ")\n",
    "\n",
    "df.head()"
   ]
  },
  {
   "cell_type": "code",
   "execution_count": 10,
   "metadata": {},
   "outputs": [
    {
     "data": {
      "image/png": "[encoded data removed]",
      "text/plain": [
       "<Figure size 1000x600 with 1 Axes>"
      ]
     },
     "metadata": {},
     "output_type": "display_data"
    }
   ],
   "source": [
    "# Create a boxplot for each quartile\n",
    "df.boxplot(column='price', by='quartiles', figsize=(10, 6))\n",
    "plt.title('Price Distribution by Quartiles of Stratifying Variable')\n",
    "plt.suptitle('')  # Remove the default suptitle\n",
    "plt.ylabel('Price')\n",
    "plt.show()"
   ]
  },
  {
   "cell_type": "markdown",
   "metadata": {},
   "source": [
    "### Creating a Multi-line Plot\n",
    "\n",
    "Let's create a multi-line plot to visualize multiple time series."
   ]
  },
  {
   "cell_type": "code",
   "execution_count": 11,
   "metadata": {},
   "outputs": [
    {
     "data": {
      "text/html": [
       "<div>\n",
       "<style scoped>\n",
       "    .dataframe tbody tr th:only-of-type {\n",
       "        vertical-align: middle;\n",
       "    }\n",
       "\n",
       "    .dataframe tbody tr th {\n",
       "        vertical-align: top;\n",
       "    }\n",
       "\n",
       "    .dataframe thead th {\n",
       "        text-align: right;\n",
       "    }\n",
       "</style>\n",
       "<table border=\"1\" class=\"dataframe\">\n",
       "  <thead>\n",
       "    <tr style=\"text-align: right;\">\n",
       "      <th></th>\n",
       "      <th>Series1</th>\n",
       "      <th>Series2</th>\n",
       "      <th>Series3</th>\n",
       "    </tr>\n",
       "  </thead>\n",
       "  <tbody>\n",
       "    <tr>\n",
       "      <th>2020-01-01</th>\n",
       "      <td>-1.981351</td>\n",
       "      <td>-0.633187</td>\n",
       "      <td>0.385296</td>\n",
       "    </tr>\n",
       "    <tr>\n",
       "      <th>2020-01-02</th>\n",
       "      <td>-2.390988</td>\n",
       "      <td>-1.335706</td>\n",
       "      <td>2.223779</td>\n",
       "    </tr>\n",
       "    <tr>\n",
       "      <th>2020-01-03</th>\n",
       "      <td>-3.477841</td>\n",
       "      <td>-0.845883</td>\n",
       "      <td>2.414845</td>\n",
       "    </tr>\n",
       "    <tr>\n",
       "      <th>2020-01-04</th>\n",
       "      <td>-4.557949</td>\n",
       "      <td>-1.654762</td>\n",
       "      <td>3.742082</td>\n",
       "    </tr>\n",
       "    <tr>\n",
       "      <th>2020-01-05</th>\n",
       "      <td>-3.460474</td>\n",
       "      <td>-2.860064</td>\n",
       "      <td>3.222790</td>\n",
       "    </tr>\n",
       "  </tbody>\n",
       "</table>\n",
       "</div>"
      ],
      "text/plain": [
       "             Series1   Series2   Series3\n",
       "2020-01-01 -1.981351 -0.633187  0.385296\n",
       "2020-01-02 -2.390988 -1.335706  2.223779\n",
       "2020-01-03 -3.477841 -0.845883  2.414845\n",
       "2020-01-04 -4.557949 -1.654762  3.742082\n",
       "2020-01-05 -3.460474 -2.860064  3.222790"
      ]
     },
     "execution_count": 11,
     "metadata": {},
     "output_type": "execute_result"
    }
   ],
   "source": [
    "# Create a DataFrame with multiple time series\n",
    "dates = pd.date_range('2020-01-01', periods=100)\n",
    "df = pd.DataFrame({\n",
    "    'Series1': np.random.randn(100).cumsum(),\n",
    "    'Series2': np.random.randn(100).cumsum(),\n",
    "    'Series3': np.random.randn(100).cumsum()\n",
    "}, index=dates)\n",
    "\n",
    "df.head()"
   ]
  },
  {
   "cell_type": "code",
   "execution_count": 12,
   "metadata": {},
   "outputs": [
    {
     "data": {
      "image/png": "[encoded data removed]",
      "text/plain": [
       "<Figure size 1200x600 with 1 Axes>"
      ]
     },
     "metadata": {},
     "output_type": "display_data"
    }
   ],
   "source": [
    "# Plot all series\n",
    "ax = df.plot(figsize=(12, 6))\n",
    "ax.set_title('Multi-line Time Series Plot')\n",
    "ax.set_xlabel('Date')\n",
    "ax.set_ylabel('Value')\n",
    "plt.grid(True)\n",
    "plt.show()"
   ]
  },
  {
   "cell_type": "markdown",
   "metadata": {},
   "source": [
    "##### Data Input/Output Operations\n",
    "\n",
    "Pandas provides a wide range of functions for reading from and writing to various file formats."
   ]
  },
  {
   "cell_type": "markdown",
   "metadata": {},
   "source": [
    "### Reading and Writing CSV Files\n",
    "\n",
    "CSV (Comma-Separated Values) is one of the most common file formats for data exchange."
   ]
  },
  {
   "cell_type": "code",
   "execution_count": 13,
   "metadata": {},
   "outputs": [
    {
     "data": {
      "text/html": [
       "<div>\n",
       "<style scoped>\n",
       "    .dataframe tbody tr th:only-of-type {\n",
       "        vertical-align: middle;\n",
       "    }\n",
       "\n",
       "    .dataframe tbody tr th {\n",
       "        vertical-align: top;\n",
       "    }\n",
       "\n",
       "    .dataframe thead th {\n",
       "        text-align: right;\n",
       "    }\n",
       "</style>\n",
       "<table border=\"1\" class=\"dataframe\">\n",
       "  <thead>\n",
       "    <tr style=\"text-align: right;\">\n",
       "      <th></th>\n",
       "      <th>A</th>\n",
       "      <th>B</th>\n",
       "      <th>C</th>\n",
       "      <th>D</th>\n",
       "    </tr>\n",
       "  </thead>\n",
       "  <tbody>\n",
       "    <tr>\n",
       "      <th>0</th>\n",
       "      <td>-0.601985</td>\n",
       "      <td>0.678353</td>\n",
       "      <td>-0.075234</td>\n",
       "      <td>0.498096</td>\n",
       "    </tr>\n",
       "    <tr>\n",
       "      <th>1</th>\n",
       "      <td>0.491908</td>\n",
       "      <td>-1.330505</td>\n",
       "      <td>1.094026</td>\n",
       "      <td>0.239663</td>\n",
       "    </tr>\n",
       "    <tr>\n",
       "      <th>2</th>\n",
       "      <td>0.667466</td>\n",
       "      <td>0.555838</td>\n",
       "      <td>-1.422754</td>\n",
       "      <td>1.098387</td>\n",
       "    </tr>\n",
       "    <tr>\n",
       "      <th>3</th>\n",
       "      <td>2.086731</td>\n",
       "      <td>-0.383932</td>\n",
       "      <td>1.479282</td>\n",
       "      <td>0.352048</td>\n",
       "    </tr>\n",
       "    <tr>\n",
       "      <th>4</th>\n",
       "      <td>-0.640780</td>\n",
       "      <td>-0.413682</td>\n",
       "      <td>0.094548</td>\n",
       "      <td>1.347506</td>\n",
       "    </tr>\n",
       "  </tbody>\n",
       "</table>\n",
       "</div>"
      ],
      "text/plain": [
       "          A         B         C         D\n",
       "0 -0.601985  0.678353 -0.075234  0.498096\n",
       "1  0.491908 -1.330505  1.094026  0.239663\n",
       "2  0.667466  0.555838 -1.422754  1.098387\n",
       "3  2.086731 -0.383932  1.479282  0.352048\n",
       "4 -0.640780 -0.413682  0.094548  1.347506"
      ]
     },
     "execution_count": 13,
     "metadata": {},
     "output_type": "execute_result"
    }
   ],
   "source": [
    "# Create a sample DataFrame\n",
    "df = pd.DataFrame({\n",
    "    'A': np.random.randn(5),\n",
    "    'B': np.random.randn(5),\n",
    "    'C': np.random.randn(5),\n",
    "    'D': np.random.randn(5)\n",
    "})\n",
    "df"
   ]
  },
  {
   "cell_type": "code",
   "execution_count": 14,
   "metadata": {},
   "outputs": [
    {
     "name": "stdout",
     "output_type": "stream",
     "text": [
      "Data written to sample_data.csv\n"
     ]
    }
   ],
   "source": [
    "# Write to CSV\n",
    "csv_path = 'sample_data.csv'\n",
    "df.to_csv(csv_path, index=False)\n",
    "print(f\"Data written to {csv_path}\")"
   ]
  },
  {
   "cell_type": "code",
   "execution_count": 15,
   "metadata": {},
   "outputs": [
    {
     "data": {
      "text/html": [
       "<div>\n",
       "<style scoped>\n",
       "    .dataframe tbody tr th:only-of-type {\n",
       "        vertical-align: middle;\n",
       "    }\n",
       "\n",
       "    .dataframe tbody tr th {\n",
       "        vertical-align: top;\n",
       "    }\n",
       "\n",
       "    .dataframe thead th {\n",
       "        text-align: right;\n",
       "    }\n",
       "</style>\n",
       "<table border=\"1\" class=\"dataframe\">\n",
       "  <thead>\n",
       "    <tr style=\"text-align: right;\">\n",
       "      <th></th>\n",
       "      <th>A</th>\n",
       "      <th>B</th>\n",
       "      <th>C</th>\n",
       "      <th>D</th>\n",
       "    </tr>\n",
       "  </thead>\n",
       "  <tbody>\n",
       "    <tr>\n",
       "      <th>0</th>\n",
       "      <td>-0.601985</td>\n",
       "      <td>0.678353</td>\n",
       "      <td>-0.075234</td>\n",
       "      <td>0.498096</td>\n",
       "    </tr>\n",
       "    <tr>\n",
       "      <th>1</th>\n",
       "      <td>0.491908</td>\n",
       "      <td>-1.330505</td>\n",
       "      <td>1.094026</td>\n",
       "      <td>0.239663</td>\n",
       "    </tr>\n",
       "    <tr>\n",
       "      <th>2</th>\n",
       "      <td>0.667466</td>\n",
       "      <td>0.555838</td>\n",
       "      <td>-1.422754</td>\n",
       "      <td>1.098387</td>\n",
       "    </tr>\n",
       "    <tr>\n",
       "      <th>3</th>\n",
       "      <td>2.086731</td>\n",
       "      <td>-0.383932</td>\n",
       "      <td>1.479282</td>\n",
       "      <td>0.352048</td>\n",
       "    </tr>\n",
       "    <tr>\n",
       "      <th>4</th>\n",
       "      <td>-0.640780</td>\n",
       "      <td>-0.413682</td>\n",
       "      <td>0.094548</td>\n",
       "      <td>1.347506</td>\n",
       "    </tr>\n",
       "  </tbody>\n",
       "</table>\n",
       "</div>"
      ],
      "text/plain": [
       "          A         B         C         D\n",
       "0 -0.601985  0.678353 -0.075234  0.498096\n",
       "1  0.491908 -1.330505  1.094026  0.239663\n",
       "2  0.667466  0.555838 -1.422754  1.098387\n",
       "3  2.086731 -0.383932  1.479282  0.352048\n",
       "4 -0.640780 -0.413682  0.094548  1.347506"
      ]
     },
     "execution_count": 15,
     "metadata": {},
     "output_type": "execute_result"
    }
   ],
   "source": [
    "# Read from CSV\n",
    "df_read = pd.read_csv(csv_path)\n",
    "df_read"
   ]
  },
  {
   "cell_type": "markdown",
   "metadata": {},
   "source": [
    "### Reading CSV Chunk by Chunk\n",
    "\n",
    "For large files, you can read the data in chunks to avoid memory issues."
   ]
  },
  {
   "cell_type": "code",
   "execution_count": 16,
   "metadata": {},
   "outputs": [
    {
     "name": "stdout",
     "output_type": "stream",
     "text": [
      "Large data written to large_sample_data.csv\n"
     ]
    }
   ],
   "source": [
    "# Create a larger DataFrame for demonstration\n",
    "large_df = pd.DataFrame({\n",
    "    'A': np.random.randn(1000),\n",
    "    'B': np.random.randn(1000),\n",
    "    'C': np.random.randn(1000)\n",
    "})\n",
    "\n",
    "# Write to CSV\n",
    "large_csv_path = 'large_sample_data.csv'\n",
    "large_df.to_csv(large_csv_path, index=False)\n",
    "print(f\"Large data written to {large_csv_path}\")"
   ]
  },
  {
   "cell_type": "code",
   "execution_count": 17,
   "metadata": {},
   "outputs": [
    {
     "data": {
      "text/html": [
       "<div>\n",
       "<style scoped>\n",
       "    .dataframe tbody tr th:only-of-type {\n",
       "        vertical-align: middle;\n",
       "    }\n",
       "\n",
       "    .dataframe tbody tr th {\n",
       "        vertical-align: top;\n",
       "    }\n",
       "\n",
       "    .dataframe thead th {\n",
       "        text-align: right;\n",
       "    }\n",
       "</style>\n",
       "<table border=\"1\" class=\"dataframe\">\n",
       "  <thead>\n",
       "    <tr style=\"text-align: right;\">\n",
       "      <th></th>\n",
       "      <th>A_mean</th>\n",
       "    </tr>\n",
       "  </thead>\n",
       "  <tbody>\n",
       "    <tr>\n",
       "      <th>0</th>\n",
       "      <td>0.013139</td>\n",
       "    </tr>\n",
       "    <tr>\n",
       "      <th>0</th>\n",
       "      <td>-0.105700</td>\n",
       "    </tr>\n",
       "    <tr>\n",
       "      <th>0</th>\n",
       "      <td>0.103459</td>\n",
       "    </tr>\n",
       "    <tr>\n",
       "      <th>0</th>\n",
       "      <td>-0.050537</td>\n",
       "    </tr>\n",
       "    <tr>\n",
       "      <th>0</th>\n",
       "      <td>-0.001332</td>\n",
       "    </tr>\n",
       "  </tbody>\n",
       "</table>\n",
       "</div>"
      ],
      "text/plain": [
       "     A_mean\n",
       "0  0.013139\n",
       "0 -0.105700\n",
       "0  0.103459\n",
       "0 -0.050537\n",
       "0 -0.001332"
      ]
     },
     "execution_count": 17,
     "metadata": {},
     "output_type": "execute_result"
    }
   ],
   "source": [
    "# Read in chunks\n",
    "chunk_size = 200\n",
    "chunks = []\n",
    "\n",
    "# Read and process each chunk\n",
    "for chunk in pd.read_csv(large_csv_path, chunksize=chunk_size):\n",
    "    # Process the chunk (here we're just calculating the mean of column A)\n",
    "    processed = pd.DataFrame({'A_mean': [chunk['A'].mean()]})\n",
    "    chunks.append(processed)\n",
    "\n",
    "# Combine the processed chunks\n",
    "result = pd.concat(chunks)\n",
    "result"
   ]
  },
  {
   "cell_type": "markdown",
   "metadata": {},
   "source": [
    "### Reading from and Writing to Excel Files\n",
    "\n",
    "Pandas can read from and write to Excel files."
   ]
  },
  {
   "cell_type": "code",
   "execution_count": 18,
   "metadata": {},
   "outputs": [
    {
     "data": {
      "text/html": [
       "<div>\n",
       "<style scoped>\n",
       "    .dataframe tbody tr th:only-of-type {\n",
       "        vertical-align: middle;\n",
       "    }\n",
       "\n",
       "    .dataframe tbody tr th {\n",
       "        vertical-align: top;\n",
       "    }\n",
       "\n",
       "    .dataframe thead th {\n",
       "        text-align: right;\n",
       "    }\n",
       "</style>\n",
       "<table border=\"1\" class=\"dataframe\">\n",
       "  <thead>\n",
       "    <tr style=\"text-align: right;\">\n",
       "      <th></th>\n",
       "      <th>Name</th>\n",
       "      <th>Age</th>\n",
       "      <th>Salary</th>\n",
       "    </tr>\n",
       "  </thead>\n",
       "  <tbody>\n",
       "    <tr>\n",
       "      <th>0</th>\n",
       "      <td>John</td>\n",
       "      <td>28</td>\n",
       "      <td>50000</td>\n",
       "    </tr>\n",
       "    <tr>\n",
       "      <th>1</th>\n",
       "      <td>Jane</td>\n",
       "      <td>34</td>\n",
       "      <td>60000</td>\n",
       "    </tr>\n",
       "    <tr>\n",
       "      <th>2</th>\n",
       "      <td>Bob</td>\n",
       "      <td>42</td>\n",
       "      <td>55000</td>\n",
       "    </tr>\n",
       "    <tr>\n",
       "      <th>3</th>\n",
       "      <td>Alice</td>\n",
       "      <td>31</td>\n",
       "      <td>65000</td>\n",
       "    </tr>\n",
       "  </tbody>\n",
       "</table>\n",
       "</div>"
      ],
      "text/plain": [
       "    Name  Age  Salary\n",
       "0   John   28   50000\n",
       "1   Jane   34   60000\n",
       "2    Bob   42   55000\n",
       "3  Alice   31   65000"
      ]
     },
     "execution_count": 18,
     "metadata": {},
     "output_type": "execute_result"
    }
   ],
   "source": [
    "# Create a sample DataFrame\n",
    "df_excel = pd.DataFrame({\n",
    "    'Name': ['John', 'Jane', 'Bob', 'Alice'],\n",
    "    'Age': [28, 34, 42, 31],\n",
    "    'Salary': [50000, 60000, 55000, 65000]\n",
    "})\n",
    "df_excel"
   ]
  },
  {
   "cell_type": "code",
   "execution_count": 19,
   "metadata": {},
   "outputs": [
    {
     "name": "stdout",
     "output_type": "stream",
     "text": [
      "Data written to sample_data.xlsx\n"
     ]
    }
   ],
   "source": [
    "# Write to Excel\n",
    "excel_path = 'sample_data.xlsx'\n",
    "df_excel.to_excel(excel_path, index=False)\n",
    "print(f\"Data written to {excel_path}\")"
   ]
  },
  {
   "cell_type": "code",
   "execution_count": 20,
   "metadata": {},
   "outputs": [
    {
     "data": {
      "text/html": [
       "<div>\n",
       "<style scoped>\n",
       "    .dataframe tbody tr th:only-of-type {\n",
       "        vertical-align: middle;\n",
       "    }\n",
       "\n",
       "    .dataframe tbody tr th {\n",
       "        vertical-align: top;\n",
       "    }\n",
       "\n",
       "    .dataframe thead th {\n",
       "        text-align: right;\n",
       "    }\n",
       "</style>\n",
       "<table border=\"1\" class=\"dataframe\">\n",
       "  <thead>\n",
       "    <tr style=\"text-align: right;\">\n",
       "      <th></th>\n",
       "      <th>Name</th>\n",
       "      <th>Age</th>\n",
       "      <th>Salary</th>\n",
       "    </tr>\n",
       "  </thead>\n",
       "  <tbody>\n",
       "    <tr>\n",
       "      <th>0</th>\n",
       "      <td>John</td>\n",
       "      <td>28</td>\n",
       "      <td>50000</td>\n",
       "    </tr>\n",
       "    <tr>\n",
       "      <th>1</th>\n",
       "      <td>Jane</td>\n",
       "      <td>34</td>\n",
       "      <td>60000</td>\n",
       "    </tr>\n",
       "    <tr>\n",
       "      <th>2</th>\n",
       "      <td>Bob</td>\n",
       "      <td>42</td>\n",
       "      <td>55000</td>\n",
       "    </tr>\n",
       "    <tr>\n",
       "      <th>3</th>\n",
       "      <td>Alice</td>\n",
       "      <td>31</td>\n",
       "      <td>65000</td>\n",
       "    </tr>\n",
       "  </tbody>\n",
       "</table>\n",
       "</div>"
      ],
      "text/plain": [
       "    Name  Age  Salary\n",
       "0   John   28   50000\n",
       "1   Jane   34   60000\n",
       "2    Bob   42   55000\n",
       "3  Alice   31   65000"
      ]
     },
     "execution_count": 20,
     "metadata": {},
     "output_type": "execute_result"
    }
   ],
   "source": [
    "# Read from Excel\n",
    "df_excel_read = pd.read_excel(excel_path)\n",
    "df_excel_read"
   ]
  },
  {
   "cell_type": "markdown",
   "metadata": {},
   "source": [
    "### Reading from Clipboard\n",
    "\n",
    "Pandas can read data directly from the clipboard, which is useful for quickly importing data that you've copied from another application."
   ]
  },
  {
   "cell_type": "code",
   "execution_count": 21,
   "metadata": {},
   "outputs": [],
   "source": [
    "# Note: This requires data to be in the clipboard\n",
    "# Example usage (commented out as it depends on clipboard content):\n",
    "# df_clipboard = pd.read_clipboard()\n",
    "# df_clipboard"
   ]
  },
  {
   "cell_type": "markdown",
   "metadata": {},
   "source": [
    "### Reading Fixed-Width Files\n",
    "\n",
    "Fixed-width files have columns that are aligned by padding with spaces."
   ]
  },
  {
   "cell_type": "code",
   "execution_count": 22,
   "metadata": {},
   "outputs": [
    {
     "data": {
      "text/html": [
       "<div>\n",
       "<style scoped>\n",
       "    .dataframe tbody tr th:only-of-type {\n",
       "        vertical-align: middle;\n",
       "    }\n",
       "\n",
       "    .dataframe tbody tr th {\n",
       "        vertical-align: top;\n",
       "    }\n",
       "\n",
       "    .dataframe thead th {\n",
       "        text-align: right;\n",
       "    }\n",
       "</style>\n",
       "<table border=\"1\" class=\"dataframe\">\n",
       "  <thead>\n",
       "    <tr style=\"text-align: right;\">\n",
       "      <th></th>\n",
       "      <th>Name</th>\n",
       "      <th>Age</th>\n",
       "      <th>Salary</th>\n",
       "    </tr>\n",
       "  </thead>\n",
       "  <tbody>\n",
       "    <tr>\n",
       "      <th>0</th>\n",
       "      <td>John</td>\n",
       "      <td>28</td>\n",
       "      <td>50000</td>\n",
       "    </tr>\n",
       "    <tr>\n",
       "      <th>1</th>\n",
       "      <td>Jane</td>\n",
       "      <td>34</td>\n",
       "      <td>60000</td>\n",
       "    </tr>\n",
       "    <tr>\n",
       "      <th>2</th>\n",
       "      <td>Bob</td>\n",
       "      <td>42</td>\n",
       "      <td>55000</td>\n",
       "    </tr>\n",
       "    <tr>\n",
       "      <th>3</th>\n",
       "      <td>Alice</td>\n",
       "      <td>31</td>\n",
       "      <td>65000</td>\n",
       "    </tr>\n",
       "  </tbody>\n",
       "</table>\n",
       "</div>"
      ],
      "text/plain": [
       "    Name  Age  Salary\n",
       "0   John   28   50000\n",
       "1   Jane   34   60000\n",
       "2    Bob   42   55000\n",
       "3  Alice   31   65000"
      ]
     },
     "execution_count": 22,
     "metadata": {},
     "output_type": "execute_result"
    }
   ],
   "source": [
    "# Create a sample fixed-width file\n",
    "fixed_width_data = \"\"\"\n",
    "  Name  Age Salary\n",
    "  John   28  50000\n",
    "  Jane   34  60000\n",
    "  Bob    42  55000\n",
    "  Alice  31  65000\n",
    "\"\"\"\n",
    "\n",
    "# Write to a file\n",
    "with open('fixed_width.txt', 'w') as f:\n",
    "    f.write(fixed_width_data)\n",
    "\n",
    "# Read the fixed-width file\n",
    "df_fwf = pd.read_fwf('fixed_width.txt')\n",
    "df_fwf"
   ]
  },
  {
   "cell_type": "markdown",
   "metadata": {},
   "source": [
    "##### Conclusion\n",
    "\n",
    "In this notebook, we've explored:\n",
    "\n",
    "1. Advanced merging and joining operations in pandas, including:\n",
    "   - Appending DataFrames with ignore_index\n",
    "   - Self-joining a DataFrame\n",
    "\n",
    "2. Plotting capabilities in pandas, including:\n",
    "   - Creating boxplots for quartiles of a stratifying variable\n",
    "   - Creating multi-line time series plots\n",
    "\n",
    "3. Data input/output operations, including:\n",
    "   - Reading and writing CSV files\n",
    "   - Reading CSV files chunk by chunk\n",
    "   - Reading from and writing to Excel files\n",
    "   - Reading from clipboard\n",
    "   - Reading fixed-width files\n",
    "\n",
    "These operations are fundamental for data manipulation and analysis with pandas, allowing you to efficiently work with data from various sources and formats."
   ]
  },
  {
   "cell_type": "markdown",
   "metadata": {},
   "source": []
  },
  {
   "cell_type": "markdown",
   "metadata": {},
   "source": []
  }
 ],
 "metadata": {
  "kernelspec": {
   "display_name": "venv",
   "language": "python",
   "name": "python3"
  },
  "language_info": {
   "codemirror_mode": {
    "name": "ipython",
    "version": 3
   },
   "file_extension": ".py",
   "mimetype": "text/x-python",
   "name": "python",
   "nbconvert_exporter": "python",
   "pygments_lexer": "ipython3",
   "version": "3.13.2"
  }
 },
 "nbformat": 4,
 "nbformat_minor": 4
}
