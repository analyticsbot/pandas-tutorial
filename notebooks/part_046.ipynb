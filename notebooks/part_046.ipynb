{
 "cells": [
  {
   "cell_type": "markdown",
   "metadata": {},
   "source": [
    "#### Pandas Tutorial - Part 46\n",
    "\n",
    "This notebook covers various Series methods including:\n",
    "- Finding smallest values with `nsmallest()`\n",
    "- Counting unique values with `nunique()`\n",
    "- Calculating percentage change with `pct_change()`\n",
    "- Reordering index levels with `reorder_levels()`\n",
    "- Repeating elements with `repeat()`\n",
    "- Replacing values with `replace()`"
   ]
  },
  {
   "cell_type": "code",
   "execution_count": 1,
   "metadata": {},
   "outputs": [],
   "source": [
    "import pandas as pd\n",
    "import numpy as np\n",
    "import matplotlib.pyplot as plt\n",
    "\n",
    "%matplotlib inline"
   ]
  },
  {
   "cell_type": "markdown",
   "metadata": {},
   "source": [
    "##### Finding Smallest Values\n",
    "\n",
    "The `nsmallest()` method returns the smallest n elements of a Series."
   ]
  },
  {
   "cell_type": "code",
   "execution_count": 2,
   "metadata": {},
   "outputs": [
    {
     "name": "stdout",
     "output_type": "stream",
     "text": [
      "Countries population:\n",
      "Italy       59000000\n",
      "France      65000000\n",
      "Brunei        434000\n",
      "Malta         434000\n",
      "Maldives      434000\n",
      "Iceland       337000\n",
      "Nauru          11300\n",
      "Tuvalu         11300\n",
      "Anguilla       11300\n",
      "Monserat        5200\n",
      "dtype: int64\n"
     ]
    }
   ],
   "source": [
    "# Create a Series with population data\n",
    "countries_population = {\"Italy\": 59000000, \"France\": 65000000,\n",
    "                       \"Brunei\": 434000, \"Malta\": 434000,\n",
    "                       \"Maldives\": 434000, \"Iceland\": 337000,\n",
    "                       \"Nauru\": 11300, \"Tuvalu\": 11300,\n",
    "                       \"Anguilla\": 11300, \"Monserat\": 5200}\n",
    "s = pd.Series(countries_population)\n",
    "print(\"Countries population:\")\n",
    "print(s)"
   ]
  },
  {
   "cell_type": "code",
   "execution_count": 3,
   "metadata": {},
   "outputs": [
    {
     "name": "stdout",
     "output_type": "stream",
     "text": [
      "The 5 smallest populations:\n",
      "Monserat      5200\n",
      "Nauru        11300\n",
      "Tuvalu       11300\n",
      "Anguilla     11300\n",
      "Iceland     337000\n",
      "dtype: int64\n"
     ]
    }
   ],
   "source": [
    "# Get the 5 smallest values (default)\n",
    "print(\"The 5 smallest populations:\")\n",
    "print(s.nsmallest())"
   ]
  },
  {
   "cell_type": "code",
   "execution_count": 4,
   "metadata": {},
   "outputs": [
    {
     "name": "stdout",
     "output_type": "stream",
     "text": [
      "The 3 smallest populations (keep='first'):\n",
      "Monserat     5200\n",
      "Nauru       11300\n",
      "Tuvalu      11300\n",
      "dtype: int64\n"
     ]
    }
   ],
   "source": [
    "# Get the 3 smallest values\n",
    "print(\"The 3 smallest populations (keep='first'):\")\n",
    "print(s.nsmallest(3))"
   ]
  },
  {
   "cell_type": "code",
   "execution_count": 5,
   "metadata": {},
   "outputs": [
    {
     "name": "stdout",
     "output_type": "stream",
     "text": [
      "The 3 smallest populations (keep='last'):\n",
      "Monserat     5200\n",
      "Anguilla    11300\n",
      "Tuvalu      11300\n",
      "dtype: int64\n"
     ]
    }
   ],
   "source": [
    "# Get the 3 smallest values, keeping the last duplicates\n",
    "print(\"The 3 smallest populations (keep='last'):\")\n",
    "print(s.nsmallest(3, keep='last'))"
   ]
  },
  {
   "cell_type": "code",
   "execution_count": 6,
   "metadata": {},
   "outputs": [
    {
     "name": "stdout",
     "output_type": "stream",
     "text": [
      "The 3 smallest populations (keep='all'):\n",
      "Monserat     5200\n",
      "Nauru       11300\n",
      "Tuvalu      11300\n",
      "Anguilla    11300\n",
      "dtype: int64\n"
     ]
    }
   ],
   "source": [
    "# Get the 3 smallest values, keeping all duplicates\n",
    "print(\"The 3 smallest populations (keep='all'):\")\n",
    "print(s.nsmallest(3, keep='all'))"
   ]
  },
  {
   "cell_type": "markdown",
   "metadata": {},
   "source": [
    "##### Counting Unique Values\n",
    "\n",
    "The `nunique()` method returns the number of unique elements in a Series."
   ]
  },
  {
   "cell_type": "code",
   "execution_count": 7,
   "metadata": {},
   "outputs": [
    {
     "name": "stdout",
     "output_type": "stream",
     "text": [
      "Series:\n",
      "0    1\n",
      "1    3\n",
      "2    5\n",
      "3    7\n",
      "4    7\n",
      "dtype: int64\n"
     ]
    }
   ],
   "source": [
    "# Create a Series with some duplicates\n",
    "s = pd.Series([1, 3, 5, 7, 7])\n",
    "print(\"Series:\")\n",
    "print(s)"
   ]
  },
  {
   "cell_type": "code",
   "execution_count": 8,
   "metadata": {},
   "outputs": [
    {
     "name": "stdout",
     "output_type": "stream",
     "text": [
      "Number of unique values: 4\n"
     ]
    }
   ],
   "source": [
    "# Count unique values\n",
    "print(f\"Number of unique values: {s.nunique()}\")"
   ]
  },
  {
   "cell_type": "code",
   "execution_count": 9,
   "metadata": {},
   "outputs": [
    {
     "name": "stdout",
     "output_type": "stream",
     "text": [
      "Series with NaN values:\n",
      "0    1.0\n",
      "1    3.0\n",
      "2    5.0\n",
      "3    7.0\n",
      "4    7.0\n",
      "5    NaN\n",
      "6    NaN\n",
      "dtype: float64\n"
     ]
    }
   ],
   "source": [
    "# Create a Series with NaN values\n",
    "s_with_nan = pd.Series([1, 3, 5, 7, 7, np.nan, np.nan])\n",
    "print(\"Series with NaN values:\")\n",
    "print(s_with_nan)"
   ]
  },
  {
   "cell_type": "code",
   "execution_count": 10,
   "metadata": {},
   "outputs": [
    {
     "name": "stdout",
     "output_type": "stream",
     "text": [
      "Number of unique values (excluding NaN): 4\n"
     ]
    }
   ],
   "source": [
    "# Count unique values, excluding NaN (default)\n",
    "print(f\"Number of unique values (excluding NaN): {s_with_nan.nunique()}\")"
   ]
  },
  {
   "cell_type": "code",
   "execution_count": 11,
   "metadata": {},
   "outputs": [
    {
     "name": "stdout",
     "output_type": "stream",
     "text": [
      "Number of unique values (including NaN): 5\n"
     ]
    }
   ],
   "source": [
    "# Count unique values, including NaN\n",
    "print(f\"Number of unique values (including NaN): {s_with_nan.nunique(dropna=False)}\")"
   ]
  },
  {
   "cell_type": "markdown",
   "metadata": {},
   "source": [
    "##### Calculating Percentage Change\n",
    "\n",
    "The `pct_change()` method calculates the percentage change between the current and a prior element."
   ]
  },
  {
   "cell_type": "code",
   "execution_count": 12,
   "metadata": {},
   "outputs": [
    {
     "name": "stdout",
     "output_type": "stream",
     "text": [
      "Stock prices:\n",
      "2023-01-01    100\n",
      "2023-01-02    102\n",
      "2023-01-03     99\n",
      "2023-01-04    101\n",
      "2023-01-05    105\n",
      "2023-01-06    110\n",
      "2023-01-07    108\n",
      "Freq: D, dtype: int64\n"
     ]
    }
   ],
   "source": [
    "# Create a Series with stock prices\n",
    "stock_prices = pd.Series([100, 102, 99, 101, 105, 110, 108], \n",
    "                         index=pd.date_range('2023-01-01', periods=7))\n",
    "print(\"Stock prices:\")\n",
    "print(stock_prices)"
   ]
  },
  {
   "cell_type": "code",
   "execution_count": 13,
   "metadata": {},
   "outputs": [
    {
     "name": "stdout",
     "output_type": "stream",
     "text": [
      "Percentage change (1 period):\n",
      "2023-01-01         NaN\n",
      "2023-01-02    0.020000\n",
      "2023-01-03   -0.029412\n",
      "2023-01-04    0.020202\n",
      "2023-01-05    0.039604\n",
      "2023-01-06    0.047619\n",
      "2023-01-07   -0.018182\n",
      "Freq: D, dtype: float64\n"
     ]
    }
   ],
   "source": [
    "# Calculate percentage change (default: 1 period)\n",
    "print(\"Percentage change (1 period):\")\n",
    "print(stock_prices.pct_change())"
   ]
  },
  {
   "cell_type": "code",
   "execution_count": 14,
   "metadata": {},
   "outputs": [
    {
     "name": "stdout",
     "output_type": "stream",
     "text": [
      "Percentage change (2 periods):\n",
      "2023-01-01         NaN\n",
      "2023-01-02         NaN\n",
      "2023-01-03   -0.010000\n",
      "2023-01-04   -0.009804\n",
      "2023-01-05    0.060606\n",
      "2023-01-06    0.089109\n",
      "2023-01-07    0.028571\n",
      "Freq: D, dtype: float64\n"
     ]
    }
   ],
   "source": [
    "# Calculate percentage change over 2 periods\n",
    "print(\"Percentage change (2 periods):\")\n",
    "print(stock_prices.pct_change(periods=2))"
   ]
  },
  {
   "cell_type": "code",
   "execution_count": 15,
   "metadata": {},
   "outputs": [
    {
     "name": "stdout",
     "output_type": "stream",
     "text": [
      "Stock prices with missing values:\n",
      "2023-01-01    100.0\n",
      "2023-01-02      NaN\n",
      "2023-01-03     99.0\n",
      "2023-01-04    101.0\n",
      "2023-01-05      NaN\n",
      "2023-01-06    110.0\n",
      "2023-01-07    108.0\n",
      "Freq: D, dtype: float64\n"
     ]
    }
   ],
   "source": [
    "# Create a Series with missing values\n",
    "stock_prices_with_nan = pd.Series([100, np.nan, 99, 101, np.nan, 110, 108], \n",
    "                                 index=pd.date_range('2023-01-01', periods=7))\n",
    "print(\"Stock prices with missing values:\")\n",
    "print(stock_prices_with_nan)"
   ]
  },
  {
   "cell_type": "code",
   "execution_count": 16,
   "metadata": {},
   "outputs": [
    {
     "name": "stdout",
     "output_type": "stream",
     "text": [
      "Percentage change with fill_method='pad':\n",
      "2023-01-01         NaN\n",
      "2023-01-02    0.000000\n",
      "2023-01-03   -0.010000\n",
      "2023-01-04    0.020202\n",
      "2023-01-05    0.000000\n",
      "2023-01-06    0.089109\n",
      "2023-01-07   -0.018182\n",
      "Freq: D, dtype: float64\n"
     ]
    },
    {
     "name": "stderr",
     "output_type": "stream",
     "text": [
      "/var/folders/7y/fzwln1_93mn3js3wyk61_6xm0000gn/T/ipykernel_77753/1312777507.py:3: FutureWarning: The 'fill_method' keyword being not None and the 'limit' keyword in Series.pct_change are deprecated and will be removed in a future version. Either fill in any non-leading NA values prior to calling pct_change or specify 'fill_method=None' to not fill NA values.\n",
      "  print(stock_prices_with_nan.pct_change(fill_method='pad'))\n"
     ]
    }
   ],
   "source": [
    "# Calculate percentage change with fill_method='pad' (default)\n",
    "print(\"Percentage change with fill_method='pad':\")\n",
    "print(stock_prices_with_nan.pct_change(fill_method='pad'))"
   ]
  },
  {
   "cell_type": "code",
   "execution_count": 17,
   "metadata": {},
   "outputs": [
    {
     "name": "stdout",
     "output_type": "stream",
     "text": [
      "Percentage change with fill_method='ffill':\n",
      "2023-01-01         NaN\n",
      "2023-01-02    0.000000\n",
      "2023-01-03   -0.010000\n",
      "2023-01-04    0.020202\n",
      "2023-01-05    0.000000\n",
      "2023-01-06    0.089109\n",
      "2023-01-07   -0.018182\n",
      "Freq: D, dtype: float64\n"
     ]
    },
    {
     "name": "stderr",
     "output_type": "stream",
     "text": [
      "/var/folders/7y/fzwln1_93mn3js3wyk61_6xm0000gn/T/ipykernel_77753/427730533.py:3: FutureWarning: The 'fill_method' keyword being not None and the 'limit' keyword in Series.pct_change are deprecated and will be removed in a future version. Either fill in any non-leading NA values prior to calling pct_change or specify 'fill_method=None' to not fill NA values.\n",
      "  print(stock_prices_with_nan.pct_change(fill_method='ffill'))\n"
     ]
    }
   ],
   "source": [
    "# Calculate percentage change with fill_method='ffill'\n",
    "print(\"Percentage change with fill_method='ffill':\")\n",
    "print(stock_prices_with_nan.pct_change(fill_method='ffill'))"
   ]
  },
  {
   "cell_type": "code",
   "execution_count": 18,
   "metadata": {},
   "outputs": [
    {
     "name": "stdout",
     "output_type": "stream",
     "text": [
      "Percentage change with fill_method='bfill':\n",
      "2023-01-01         NaN\n",
      "2023-01-02   -0.010000\n",
      "2023-01-03    0.000000\n",
      "2023-01-04    0.020202\n",
      "2023-01-05    0.089109\n",
      "2023-01-06    0.000000\n",
      "2023-01-07   -0.018182\n",
      "Freq: D, dtype: float64\n"
     ]
    },
    {
     "name": "stderr",
     "output_type": "stream",
     "text": [
      "/var/folders/7y/fzwln1_93mn3js3wyk61_6xm0000gn/T/ipykernel_77753/4153957322.py:3: FutureWarning: The 'fill_method' keyword being not None and the 'limit' keyword in Series.pct_change are deprecated and will be removed in a future version. Either fill in any non-leading NA values prior to calling pct_change or specify 'fill_method=None' to not fill NA values.\n",
      "  print(stock_prices_with_nan.pct_change(fill_method='bfill'))\n"
     ]
    }
   ],
   "source": [
    "# Calculate percentage change with fill_method='bfill'\n",
    "print(\"Percentage change with fill_method='bfill':\")\n",
    "print(stock_prices_with_nan.pct_change(fill_method='bfill'))"
   ]
  },
  {
   "cell_type": "markdown",
   "metadata": {},
   "source": [
    "##### Reordering Index Levels\n",
    "\n",
    "The `reorder_levels()` method rearranges the levels of a MultiIndex."
   ]
  },
  {
   "cell_type": "code",
   "execution_count": 19,
   "metadata": {},
   "outputs": [
    {
     "name": "stdout",
     "output_type": "stream",
     "text": [
      "Series with MultiIndex:\n",
      "letter  number\n",
      "a       one       1\n",
      "        two       2\n",
      "b       one       3\n",
      "        two       4\n",
      "dtype: int64\n"
     ]
    }
   ],
   "source": [
    "# Create a Series with MultiIndex\n",
    "midx = pd.MultiIndex.from_tuples([('a', 'one'), ('a', 'two'), ('b', 'one'), ('b', 'two')],\n",
    "                                names=['letter', 'number'])\n",
    "s = pd.Series([1, 2, 3, 4], index=midx)\n",
    "print(\"Series with MultiIndex:\")\n",
    "print(s)"
   ]
  },
  {
   "cell_type": "code",
   "execution_count": 20,
   "metadata": {},
   "outputs": [
    {
     "name": "stdout",
     "output_type": "stream",
     "text": [
      "Series with reordered levels:\n",
      "number  letter\n",
      "one     a         1\n",
      "two     a         2\n",
      "one     b         3\n",
      "two     b         4\n",
      "dtype: int64\n"
     ]
    }
   ],
   "source": [
    "# Reorder levels\n",
    "s_reordered = s.reorder_levels([1, 0])\n",
    "print(\"Series with reordered levels:\")\n",
    "print(s_reordered)"
   ]
  },
  {
   "cell_type": "code",
   "execution_count": 21,
   "metadata": {},
   "outputs": [
    {
     "name": "stdout",
     "output_type": "stream",
     "text": [
      "DataFrame with MultiIndex:\n",
      "               A  B\n",
      "letter number      \n",
      "a      one     1  5\n",
      "       two     2  6\n",
      "b      one     3  7\n",
      "       two     4  8\n"
     ]
    }
   ],
   "source": [
    "# Create a DataFrame with MultiIndex\n",
    "df = pd.DataFrame({'A': [1, 2, 3, 4], 'B': [5, 6, 7, 8]},\n",
    "                 index=midx)\n",
    "print(\"DataFrame with MultiIndex:\")\n",
    "print(df)"
   ]
  },
  {
   "cell_type": "code",
   "execution_count": 22,
   "metadata": {},
   "outputs": [
    {
     "name": "stdout",
     "output_type": "stream",
     "text": [
      "DataFrame with reordered levels:\n",
      "               A  B\n",
      "number letter      \n",
      "one    a       1  5\n",
      "two    a       2  6\n",
      "one    b       3  7\n",
      "two    b       4  8\n"
     ]
    }
   ],
   "source": [
    "# Reorder levels in DataFrame\n",
    "df_reordered = df.reorder_levels([1, 0])\n",
    "print(\"DataFrame with reordered levels:\")\n",
    "print(df_reordered)"
   ]
  },
  {
   "cell_type": "markdown",
   "metadata": {},
   "source": [
    "##### Repeating Elements\n",
    "\n",
    "The `repeat()` method repeats elements of a Series."
   ]
  },
  {
   "cell_type": "code",
   "execution_count": 23,
   "metadata": {},
   "outputs": [
    {
     "name": "stdout",
     "output_type": "stream",
     "text": [
      "Original Series:\n",
      "0    a\n",
      "1    b\n",
      "2    c\n",
      "dtype: object\n"
     ]
    }
   ],
   "source": [
    "# Create a simple Series\n",
    "s = pd.Series(['a', 'b', 'c'])\n",
    "print(\"Original Series:\")\n",
    "print(s)"
   ]
  },
  {
   "cell_type": "code",
   "execution_count": 24,
   "metadata": {},
   "outputs": [
    {
     "name": "stdout",
     "output_type": "stream",
     "text": [
      "Series with each element repeated twice:\n",
      "0    a\n",
      "0    a\n",
      "1    b\n",
      "1    b\n",
      "2    c\n",
      "2    c\n",
      "dtype: object\n"
     ]
    }
   ],
   "source": [
    "# Repeat each element twice\n",
    "s_repeated = s.repeat(2)\n",
    "print(\"Series with each element repeated twice:\")\n",
    "print(s_repeated)"
   ]
  },
  {
   "cell_type": "code",
   "execution_count": 25,
   "metadata": {},
   "outputs": [
    {
     "name": "stdout",
     "output_type": "stream",
     "text": [
      "Series with elements repeated [1, 2, 3] times:\n",
      "0    a\n",
      "1    b\n",
      "1    b\n",
      "2    c\n",
      "2    c\n",
      "2    c\n",
      "dtype: object\n"
     ]
    }
   ],
   "source": [
    "# Repeat elements a different number of times\n",
    "s_varied = s.repeat([1, 2, 3])\n",
    "print(\"Series with elements repeated [1, 2, 3] times:\")\n",
    "print(s_varied)"
   ]
  },
  {
   "cell_type": "code",
   "execution_count": 26,
   "metadata": {},
   "outputs": [
    {
     "name": "stdout",
     "output_type": "stream",
     "text": [
      "Series with elements repeated 0 times:\n",
      "Series([], dtype: object)\n"
     ]
    }
   ],
   "source": [
    "# Repeat with 0 times\n",
    "s_zero = s.repeat(0)\n",
    "print(\"Series with elements repeated 0 times:\")\n",
    "print(s_zero)"
   ]
  },
  {
   "cell_type": "markdown",
   "metadata": {},
   "source": [
    "##### Replacing Values\n",
    "\n",
    "The `replace()` method replaces values in a Series."
   ]
  },
  {
   "cell_type": "code",
   "execution_count": 27,
   "metadata": {},
   "outputs": [
    {
     "name": "stdout",
     "output_type": "stream",
     "text": [
      "Original Series:\n",
      "0     apple\n",
      "1    banana\n",
      "2    carrot\n",
      "3     apple\n",
      "4    banana\n",
      "dtype: object\n"
     ]
    }
   ],
   "source": [
    "# Create a Series\n",
    "s = pd.Series(['apple', 'banana', 'carrot', 'apple', 'banana'])\n",
    "print(\"Original Series:\")\n",
    "print(s)"
   ]
  },
  {
   "cell_type": "code",
   "execution_count": 28,
   "metadata": {},
   "outputs": [
    {
     "name": "stdout",
     "output_type": "stream",
     "text": [
      "Series with 'apple' replaced by 'orange':\n",
      "0    orange\n",
      "1    banana\n",
      "2    carrot\n",
      "3    orange\n",
      "4    banana\n",
      "dtype: object\n"
     ]
    }
   ],
   "source": [
    "# Replace a single value\n",
    "s_replaced = s.replace('apple', 'orange')\n",
    "print(\"Series with 'apple' replaced by 'orange':\")\n",
    "print(s_replaced)"
   ]
  },
  {
   "cell_type": "code",
   "execution_count": 29,
   "metadata": {},
   "outputs": [
    {
     "name": "stdout",
     "output_type": "stream",
     "text": [
      "Series with multiple replacements:\n",
      "0    orange\n",
      "1     grape\n",
      "2    carrot\n",
      "3    orange\n",
      "4     grape\n",
      "dtype: object\n"
     ]
    }
   ],
   "source": [
    "# Replace multiple values\n",
    "s_multi_replaced = s.replace(['apple', 'banana'], ['orange', 'grape'])\n",
    "print(\"Series with multiple replacements:\")\n",
    "print(s_multi_replaced)"
   ]
  },
  {
   "cell_type": "code",
   "execution_count": 30,
   "metadata": {},
   "outputs": [
    {
     "name": "stdout",
     "output_type": "stream",
     "text": [
      "Series with dictionary replacements:\n",
      "0    orange\n",
      "1     grape\n",
      "2    carrot\n",
      "3    orange\n",
      "4     grape\n",
      "dtype: object\n"
     ]
    }
   ],
   "source": [
    "# Replace using a dictionary\n",
    "s_dict_replaced = s.replace({'apple': 'orange', 'banana': 'grape'})\n",
    "print(\"Series with dictionary replacements:\")\n",
    "print(s_dict_replaced)"
   ]
  },
  {
   "cell_type": "code",
   "execution_count": 31,
   "metadata": {},
   "outputs": [
    {
     "name": "stdout",
     "output_type": "stream",
     "text": [
      "Original Series:\n",
      "0         apple\n",
      "1        banana\n",
      "2        carrot\n",
      "3     pineapple\n",
      "4    strawberry\n",
      "dtype: object\n",
      "\n",
      "Series with regex replacement:\n",
      "0         fruit\n",
      "1        banana\n",
      "2        carrot\n",
      "3     pineapple\n",
      "4    strawberry\n",
      "dtype: object\n"
     ]
    }
   ],
   "source": [
    "# Replace using regex\n",
    "s_regex = pd.Series(['apple', 'banana', 'carrot', 'pineapple', 'strawberry'])\n",
    "s_regex_replaced = s_regex.replace(r'^a.*', 'fruit', regex=True)\n",
    "print(\"Original Series:\")\n",
    "print(s_regex)\n",
    "print(\"\\nSeries with regex replacement:\")\n",
    "print(s_regex_replaced)"
   ]
  },
  {
   "cell_type": "code",
   "execution_count": 32,
   "metadata": {},
   "outputs": [
    {
     "name": "stdout",
     "output_type": "stream",
     "text": [
      "Series after in-place replacement:\n",
      "0    orange\n",
      "1    banana\n",
      "2    carrot\n",
      "3    orange\n",
      "4    banana\n",
      "dtype: object\n"
     ]
    }
   ],
   "source": [
    "# Replace in-place\n",
    "s_inplace = s.copy()\n",
    "s_inplace.replace('apple', 'orange', inplace=True)\n",
    "print(\"Series after in-place replacement:\")\n",
    "print(s_inplace)"
   ]
  },
  {
   "cell_type": "code",
   "execution_count": 33,
   "metadata": {},
   "outputs": [
    {
     "name": "stdout",
     "output_type": "stream",
     "text": [
      "Original numeric Series:\n",
      "0    1\n",
      "1    2\n",
      "2    3\n",
      "3    4\n",
      "4    5\n",
      "dtype: int64\n",
      "\n",
      "Series with numeric replacement:\n",
      "0    10\n",
      "1     2\n",
      "2     3\n",
      "3     4\n",
      "4     5\n",
      "dtype: int64\n"
     ]
    }
   ],
   "source": [
    "# Replace with numeric values\n",
    "s_num = pd.Series([1, 2, 3, 4, 5])\n",
    "s_num_replaced = s_num.replace(1, 10)\n",
    "print(\"Original numeric Series:\")\n",
    "print(s_num)\n",
    "print(\"\\nSeries with numeric replacement:\")\n",
    "print(s_num_replaced)"
   ]
  },
  {
   "cell_type": "markdown",
   "metadata": {},
   "source": [
    "##### Conclusion\n",
    "\n",
    "In this notebook, we've explored various Series methods in pandas:\n",
    "\n",
    "1. Finding smallest values with `nsmallest()`, which returns the n smallest elements in a Series with options for handling duplicates.\n",
    "2. Counting unique values with `nunique()`, which returns the number of unique elements in a Series with options for handling NaN values.\n",
    "3. Calculating percentage change with `pct_change()`, which computes the percentage change between elements with options for handling missing values.\n",
    "4. Reordering index levels with `reorder_levels()`, which rearranges the levels of a MultiIndex.\n",
    "5. Repeating elements with `repeat()`, which creates a new Series with repeated elements.\n",
    "6. Replacing values with `replace()`, which substitutes values in a Series with other values.\n",
    "\n",
    "These methods are essential tools for data manipulation and analysis in pandas, allowing for flexible and powerful operations on your data."
   ]
  }
 ],
 "metadata": {
  "kernelspec": {
   "display_name": "venv",
   "language": "python",
   "name": "python3"
  },
  "language_info": {
   "codemirror_mode": {
    "name": "ipython",
    "version": 3
   },
   "file_extension": ".py",
   "mimetype": "text/x-python",
   "name": "python",
   "nbconvert_exporter": "python",
   "pygments_lexer": "ipython3",
   "version": "3.13.2"
  }
 },
 "nbformat": 4,
 "nbformat_minor": 4
}
