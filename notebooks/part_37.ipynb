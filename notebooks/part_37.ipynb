{
 "cells": [
  {
   "cell_type": "markdown",
   "metadata": {},
   "source": [
    "# Pandas Tutorial - Part 37\n",
    "\n",
    "This notebook covers:\n",
    "- More on merging and joining DataFrames\n",
    "- Plotting with pandas\n",
    "- Data input/output operations"
   ]
  },
  {
   "cell_type": "code",
   "execution_count": null,
   "metadata": {},
   "outputs": [],
   "source": [
    "import pandas as pd\n",
    "import numpy as np\n",
    "import matplotlib.pyplot as plt\n",
    "import io\n",
    "import os\n",
    "\n",
    "%matplotlib inline"
   ]
  },
  {
   "cell_type": "markdown",
   "metadata": {},
   "source": [
    "## Merging and Joining DataFrames\n",
    "\n",
    "Continuing from Part 36, let's explore more advanced merging and joining operations."
   ]
  },
  {
   "cell_type": "markdown",
   "metadata": {},
   "source": [
    "### Appending DataFrames with ignore_index\n",
    "\n",
    "When appending DataFrames, you might want to ignore the original index values and create a new sequential index."
   ]
  },
  {
   "cell_type": "code",
   "execution_count": null,
   "metadata": {},
   "outputs": [],
   "source": [
    "# Create two sample DataFrames\n",
    "df1 = pd.DataFrame(np.random.randn(6, 3), columns=['A', 'B', 'C'])\n",
    "df2 = pd.DataFrame(np.random.randn(4, 3), columns=['A', 'B', 'C'])\n",
    "\n",
    "# Display the DataFrames\n",
    "print(\"DataFrame 1:\")\n",
    "print(df1)\n",
    "print(\"\\nDataFrame 2:\")\n",
    "print(df2)"
   ]
  },
  {
   "cell_type": "code",
   "execution_count": null,
   "metadata": {},
   "outputs": [],
   "source": [
    "# Append with ignore_index=True\n",
    "df = df1.append(df2, ignore_index=True)\n",
    "df"
   ]
  },
  {
   "cell_type": "markdown",
   "metadata": {},
   "source": [
    "### Self Join of a DataFrame\n",
    "\n",
    "Sometimes you need to join a DataFrame with itself based on certain conditions."
   ]
  },
  {
   "cell_type": "code",
   "execution_count": null,
   "metadata": {},
   "outputs": [],
   "source": [
    "# Create a sample DataFrame\n",
    "df = pd.DataFrame(data={\n",
    "    'Area': ['A'] * 5 + ['C'] * 2,\n",
    "    'Bins': [110] * 2 + [160] * 3 + [40] * 2,\n",
    "    'Test_0': [0, 1, 0, 1, 2, 0, 1],\n",
    "    'Data': np.random.randn(7)\n",
    "})\n",
    "df"
   ]
  },
  {
   "cell_type": "code",
   "execution_count": null,
   "metadata": {},
   "outputs": [],
   "source": [
    "# Add a new column Test_1 which is Test_0 - 1\n",
    "df['Test_1'] = df['Test_0'] - 1\n",
    "df"
   ]
  },
  {
   "cell_type": "code",
   "execution_count": null,
   "metadata": {},
   "outputs": [],
   "source": [
    "# Self join: join the DataFrame with itself\n",
    "# Join where Test_0 in the left DataFrame equals Test_1 in the right DataFrame\n",
    "pd.merge(df, df, \n",
    "         left_on=['Bins', 'Area', 'Test_0'],\n",
    "         right_on=['Bins', 'Area', 'Test_1'],\n",
    "         suffixes=('_L', '_R'))"
   ]
  },
  {
   "cell_type": "markdown",
   "metadata": {},
   "source": [
    "## Plotting with Pandas\n",
    "\n",
    "Pandas integrates with Matplotlib to provide plotting capabilities directly from DataFrames and Series."
   ]
  },
  {
   "cell_type": "markdown",
   "metadata": {},
   "source": [
    "### Boxplot for Each Quartile of a Stratifying Variable\n",
    "\n",
    "Let's create a boxplot for each quartile of a stratifying variable."
   ]
  },
  {
   "cell_type": "code",
   "execution_count": null,
   "metadata": {},
   "outputs": [],
   "source": [
    "# Create a sample DataFrame\n",
    "df = pd.DataFrame({\n",
    "    'stratifying_var': np.random.uniform(0, 100, 20),\n",
    "    'price': np.random.normal(100, 5, 20)\n",
    "})\n",
    "\n",
    "# Create quartile categories\n",
    "df['quartiles'] = pd.qcut(\n",
    "    df['stratifying_var'],\n",
    "    4,\n",
    "    labels=['0-25%', '25-50%', '50-75%', '75-100%']\n",
    ")\n",
    "\n",
    "df.head()"
   ]
  },
  {
   "cell_type": "code",
   "execution_count": null,
   "metadata": {},
   "outputs": [],
   "source": [
    "# Create a boxplot for each quartile\n",
    "df.boxplot(column='price', by='quartiles', figsize=(10, 6))\n",
    "plt.title('Price Distribution by Quartiles of Stratifying Variable')\n",
    "plt.suptitle('')  # Remove the default suptitle\n",
    "plt.ylabel('Price')\n",
    "plt.show()"
   ]
  },
  {
   "cell_type": "markdown",
   "metadata": {},
   "source": [
    "### Creating a Multi-line Plot\n",
    "\n",
    "Let's create a multi-line plot to visualize multiple time series."
   ]
  },
  {
   "cell_type": "code",
   "execution_count": null,
   "metadata": {},
   "outputs": [],
   "source": [
    "# Create a DataFrame with multiple time series\n",
    "dates = pd.date_range('2020-01-01', periods=100)\n",
    "df = pd.DataFrame({\n",
    "    'Series1': np.random.randn(100).cumsum(),\n",
    "    'Series2': np.random.randn(100).cumsum(),\n",
    "    'Series3': np.random.randn(100).cumsum()\n",
    "}, index=dates)\n",
    "\n",
    "df.head()"
   ]
  },
  {
   "cell_type": "code",
   "execution_count": null,
   "metadata": {},
   "outputs": [],
   "source": [
    "# Plot all series\n",
    "ax = df.plot(figsize=(12, 6))\n",
    "ax.set_title('Multi-line Time Series Plot')\n",
    "ax.set_xlabel('Date')\n",
    "ax.set_ylabel('Value')\n",
    "plt.grid(True)\n",
    "plt.show()"
   ]
  },
  {
   "cell_type": "markdown",
   "metadata": {},
   "source": [
    "## Data Input/Output Operations\n",
    "\n",
    "Pandas provides a wide range of functions for reading from and writing to various file formats."
   ]
  },
  {
   "cell_type": "markdown",
   "metadata": {},
   "source": [
    "### Reading and Writing CSV Files\n",
    "\n",
    "CSV (Comma-Separated Values) is one of the most common file formats for data exchange."
   ]
  },
  {
   "cell_type": "code",
   "execution_count": null,
   "metadata": {},
   "outputs": [],
   "source": [
    "# Create a sample DataFrame\n",
    "df = pd.DataFrame({\n",
    "    'A': np.random.randn(5),\n",
    "    'B': np.random.randn(5),\n",
    "    'C': np.random.randn(5),\n",
    "    'D': np.random.randn(5)\n",
    "})\n",
    "df"
   ]
  },
  {
   "cell_type": "code",
   "execution_count": null,
   "metadata": {},
   "outputs": [],
   "source": [
    "# Write to CSV\n",
    "csv_path = 'sample_data.csv'\n",
    "df.to_csv(csv_path, index=False)\n",
    "print(f\"Data written to {csv_path}\")"
   ]
  },
  {
   "cell_type": "code",
   "execution_count": null,
   "metadata": {},
   "outputs": [],
   "source": [
    "# Read from CSV\n",
    "df_read = pd.read_csv(csv_path)\n",
    "df_read"
   ]
  },
  {
   "cell_type": "markdown",
   "metadata": {},
   "source": [
    "### Reading CSV Chunk by Chunk\n",
    "\n",
    "For large files, you can read the data in chunks to avoid memory issues."
   ]
  },
  {
   "cell_type": "code",
   "execution_count": null,
   "metadata": {},
   "outputs": [],
   "source": [
    "# Create a larger DataFrame for demonstration\n",
    "large_df = pd.DataFrame({\n",
    "    'A': np.random.randn(1000),\n",
    "    'B': np.random.randn(1000),\n",
    "    'C': np.random.randn(1000)\n",
    "})\n",
    "\n",
    "# Write to CSV\n",
    "large_csv_path = 'large_sample_data.csv'\n",
    "large_df.to_csv(large_csv_path, index=False)\n",
    "print(f\"Large data written to {large_csv_path}\")"
   ]
  },
  {
   "cell_type": "code",
   "execution_count": null,
   "metadata": {},
   "outputs": [],
   "source": [
    "# Read in chunks\n",
    "chunk_size = 200\n",
    "chunks = []\n",
    "\n",
    "# Read and process each chunk\n",
    "for chunk in pd.read_csv(large_csv_path, chunksize=chunk_size):\n",
    "    # Process the chunk (here we're just calculating the mean of column A)\n",
    "    processed = pd.DataFrame({'A_mean': [chunk['A'].mean()]})\n",
    "    chunks.append(processed)\n",
    "\n",
    "# Combine the processed chunks\n",
    "result = pd.concat(chunks)\n",
    "result"
   ]
  },
  {
   "cell_type": "markdown",
   "metadata": {},
   "source": [
    "### Reading from and Writing to Excel Files\n",
    "\n",
    "Pandas can read from and write to Excel files."
   ]
  },
  {
   "cell_type": "code",
   "execution_count": null,
   "metadata": {},
   "outputs": [],
   "source": [
    "# Create a sample DataFrame\n",
    "df_excel = pd.DataFrame({\n",
    "    'Name': ['John', 'Jane', 'Bob', 'Alice'],\n",
    "    'Age': [28, 34, 42, 31],\n",
    "    'Salary': [50000, 60000, 55000, 65000]\n",
    "})\n",
    "df_excel"
   ]
  },
  {
   "cell_type": "code",
   "execution_count": null,
   "metadata": {},
   "outputs": [],
   "source": [
    "# Write to Excel\n",
    "excel_path = 'sample_data.xlsx'\n",
    "df_excel.to_excel(excel_path, index=False)\n",
    "print(f\"Data written to {excel_path}\")"
   ]
  },
  {
   "cell_type": "code",
   "execution_count": null,
   "metadata": {},
   "outputs": [],
   "source": [
    "# Read from Excel\n",
    "df_excel_read = pd.read_excel(excel_path)\n",
    "df_excel_read"
   ]
  },
  {
   "cell_type": "markdown",
   "metadata": {},
   "source": [
    "### Reading from Clipboard\n",
    "\n",
    "Pandas can read data directly from the clipboard, which is useful for quickly importing data that you've copied from another application."
   ]
  },
  {
   "cell_type": "code",
   "execution_count": null,
   "metadata": {},
   "outputs": [],
   "source": [
    "# Note: This requires data to be in the clipboard\n",
    "# Example usage (commented out as it depends on clipboard content):\n",
    "# df_clipboard = pd.read_clipboard()\n",
    "# df_clipboard"
   ]
  },
  {
   "cell_type": "markdown",
   "metadata": {},
   "source": [
    "### Reading Fixed-Width Files\n",
    "\n",
    "Fixed-width files have columns that are aligned by padding with spaces."
   ]
  },
  {
   "cell_type": "code",
   "execution_count": null,
   "metadata": {},
   "outputs": [],
   "source": [
    "# Create a sample fixed-width file\n",
    "fixed_width_data = \"\"\"\n",
    "  Name  Age Salary\n",
    "  John   28  50000\n",
    "  Jane   34  60000\n",
    "  Bob    42  55000\n",
    "  Alice  31  65000\n",
    "\"\"\"\n",
    "\n",
    "# Write to a file\n",
    "with open('fixed_width.txt', 'w') as f:\n",
    "    f.write(fixed_width_data)\n",
    "\n",
    "# Read the fixed-width file\n",
    "df_fwf = pd.read_fwf('fixed_width.txt')\n",
    "df_fwf"
   ]
  },
  {
   "cell_type": "markdown",
   "metadata": {},
   "source": [
    "## Conclusion\n",
    "\n",
    "In this notebook, we've explored:\n",
    "\n",
    "1. Advanced merging and joining operations in pandas, including:\n",
    "   - Appending DataFrames with ignore_index\n",
    "   - Self-joining a DataFrame\n",
    "\n",
    "2. Plotting capabilities in pandas, including:\n",
    "   - Creating boxplots for quartiles of a stratifying variable\n",
    "   - Creating multi-line time series plots\n",
    "\n",
    "3. Data input/output operations, including:\n",
    "   - Reading and writing CSV files\n",
    "   - Reading CSV files chunk by chunk\n",
    "   - Reading from and writing to Excel files\n",
    "   - Reading from clipboard\n",
    "   - Reading fixed-width files\n",
    "\n",
    "These operations are fundamental for data manipulation and analysis with pandas, allowing you to efficiently work with data from various sources and formats."
   ]
  }
 ],
 "metadata": {
  "kernelspec": {
   "display_name": "Python 3",
   "language": "python",
   "name": "python3"
  },
  "language_info": {
   "codemirror_mode": {
    "name": "ipython",
    "version": 3
   },
   "file_extension": ".py",
   "mimetype": "text/x-python",
   "name": "python",
   "nbconvert_exporter": "python",
   "pygments_lexer": "ipython3",
   "version": "3.8.5"
  }
 },
 "nbformat": 4,
 "nbformat_minor": 4
}
