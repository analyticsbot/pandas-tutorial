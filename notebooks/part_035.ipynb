{
 "cells": [
  {
   "cell_type": "markdown",
   "metadata": {},
   "source": [
    "#### Pandas Tutorial - Part 35\n",
    "\n",
    "This notebook covers:\n",
    "- Performance considerations with pandas.eval()\n",
    "- Scaling to large datasets\n",
    "- Handling NaN, Integer NA values, and NA type promotions"
   ]
  },
  {
   "cell_type": "code",
   "execution_count": 1,
   "metadata": {},
   "outputs": [],
   "source": [
    "import pandas as pd\n",
    "import numpy as np\n",
    "import matplotlib.pyplot as plt\n",
    "import time\n",
    "\n",
    "%matplotlib inline"
   ]
  },
  {
   "cell_type": "markdown",
   "metadata": {},
   "source": [
    "##### Performance Considerations with pandas.eval()\n",
    "\n",
    "Continuing from Part 34, let's explore more performance considerations with pandas.eval()."
   ]
  },
  {
   "cell_type": "markdown",
   "metadata": {},
   "source": [
    "### When to Use eval()\n",
    "\n",
    "Operations with smallish objects (around 15k-20k rows) are often faster using plain Python rather than `eval()`. The real performance benefits of `eval()` are seen with larger datasets."
   ]
  },
  {
   "cell_type": "code",
   "execution_count": 2,
   "metadata": {},
   "outputs": [],
   "source": [
    "# Create small DataFrames\n",
    "small_df1 = pd.DataFrame(np.random.randn(1000, 3))\n",
    "small_df2 = pd.DataFrame(np.random.randn(1000, 3))\n",
    "\n",
    "# Create large DataFrames\n",
    "large_df1 = pd.DataFrame(np.random.randn(50000, 3))\n",
    "large_df2 = pd.DataFrame(np.random.randn(50000, 3))"
   ]
  },
  {
   "cell_type": "code",
   "execution_count": 3,
   "metadata": {},
   "outputs": [
    {
     "name": "stdout",
     "output_type": "stream",
     "text": [
      "Small DataFrame - Regular Python: 0.000521 seconds\n",
      "Small DataFrame - eval(): 0.003475 seconds\n"
     ]
    }
   ],
   "source": [
    "# Compare performance for small DataFrames\n",
    "start = time.time()\n",
    "result1 = small_df1 + small_df2\n",
    "end = time.time()\n",
    "print(f\"Small DataFrame - Regular Python: {end - start:.6f} seconds\")\n",
    "\n",
    "start = time.time()\n",
    "result2 = pd.eval('small_df1 + small_df2')\n",
    "end = time.time()\n",
    "print(f\"Small DataFrame - eval(): {end - start:.6f} seconds\")"
   ]
  },
  {
   "cell_type": "code",
   "execution_count": 4,
   "metadata": {},
   "outputs": [
    {
     "name": "stdout",
     "output_type": "stream",
     "text": [
      "Large DataFrame - Regular Python: 0.000533 seconds\n",
      "Large DataFrame - eval(): 0.000826 seconds\n"
     ]
    }
   ],
   "source": [
    "# Compare performance for large DataFrames\n",
    "start = time.time()\n",
    "result3 = large_df1 + large_df2\n",
    "end = time.time()\n",
    "print(f\"Large DataFrame - Regular Python: {end - start:.6f} seconds\")\n",
    "\n",
    "start = time.time()\n",
    "result4 = pd.eval('large_df1 + large_df2')\n",
    "end = time.time()\n",
    "print(f\"Large DataFrame - eval(): {end - start:.6f} seconds\")"
   ]
  },
  {
   "cell_type": "markdown",
   "metadata": {},
   "source": [
    "### Technical Details Regarding Expression Evaluation\n",
    "\n",
    "There are some technical details to be aware of when using `eval()`:\n",
    "\n",
    "1. Expressions that would result in an object dtype or involve datetime operations (because of NaT) must be evaluated in Python space.\n",
    "2. String comparisons must be evaluated in Python space.\n",
    "3. The numeric part of a comparison (e.g., `nums == 1`) will be evaluated by numexpr."
   ]
  },
  {
   "cell_type": "code",
   "execution_count": 5,
   "metadata": {},
   "outputs": [
    {
     "data": {
      "text/html": [
       "<div>\n",
       "<style scoped>\n",
       "    .dataframe tbody tr th:only-of-type {\n",
       "        vertical-align: middle;\n",
       "    }\n",
       "\n",
       "    .dataframe tbody tr th {\n",
       "        vertical-align: top;\n",
       "    }\n",
       "\n",
       "    .dataframe thead th {\n",
       "        text-align: right;\n",
       "    }\n",
       "</style>\n",
       "<table border=\"1\" class=\"dataframe\">\n",
       "  <thead>\n",
       "    <tr style=\"text-align: right;\">\n",
       "      <th></th>\n",
       "      <th>strings</th>\n",
       "      <th>nums</th>\n",
       "    </tr>\n",
       "  </thead>\n",
       "  <tbody>\n",
       "    <tr>\n",
       "      <th>0</th>\n",
       "      <td>c</td>\n",
       "      <td>0</td>\n",
       "    </tr>\n",
       "    <tr>\n",
       "      <th>1</th>\n",
       "      <td>c</td>\n",
       "      <td>0</td>\n",
       "    </tr>\n",
       "    <tr>\n",
       "      <th>2</th>\n",
       "      <td>c</td>\n",
       "      <td>0</td>\n",
       "    </tr>\n",
       "    <tr>\n",
       "      <th>3</th>\n",
       "      <td>b</td>\n",
       "      <td>1</td>\n",
       "    </tr>\n",
       "    <tr>\n",
       "      <th>4</th>\n",
       "      <td>b</td>\n",
       "      <td>1</td>\n",
       "    </tr>\n",
       "    <tr>\n",
       "      <th>5</th>\n",
       "      <td>b</td>\n",
       "      <td>1</td>\n",
       "    </tr>\n",
       "    <tr>\n",
       "      <th>6</th>\n",
       "      <td>a</td>\n",
       "      <td>2</td>\n",
       "    </tr>\n",
       "    <tr>\n",
       "      <th>7</th>\n",
       "      <td>a</td>\n",
       "      <td>2</td>\n",
       "    </tr>\n",
       "    <tr>\n",
       "      <th>8</th>\n",
       "      <td>a</td>\n",
       "      <td>2</td>\n",
       "    </tr>\n",
       "  </tbody>\n",
       "</table>\n",
       "</div>"
      ],
      "text/plain": [
       "  strings  nums\n",
       "0       c     0\n",
       "1       c     0\n",
       "2       c     0\n",
       "3       b     1\n",
       "4       b     1\n",
       "5       b     1\n",
       "6       a     2\n",
       "7       a     2\n",
       "8       a     2"
      ]
     },
     "execution_count": 5,
     "metadata": {},
     "output_type": "execute_result"
    }
   ],
   "source": [
    "# Create a DataFrame with strings and numbers\n",
    "df = pd.DataFrame({\n",
    "    'strings': np.repeat(list('cba'), 3),\n",
    "    'nums': np.repeat(range(3), 3)\n",
    "})\n",
    "df"
   ]
  },
  {
   "cell_type": "code",
   "execution_count": 6,
   "metadata": {},
   "outputs": [
    {
     "data": {
      "text/html": [
       "<div>\n",
       "<style scoped>\n",
       "    .dataframe tbody tr th:only-of-type {\n",
       "        vertical-align: middle;\n",
       "    }\n",
       "\n",
       "    .dataframe tbody tr th {\n",
       "        vertical-align: top;\n",
       "    }\n",
       "\n",
       "    .dataframe thead th {\n",
       "        text-align: right;\n",
       "    }\n",
       "</style>\n",
       "<table border=\"1\" class=\"dataframe\">\n",
       "  <thead>\n",
       "    <tr style=\"text-align: right;\">\n",
       "      <th></th>\n",
       "      <th>strings</th>\n",
       "      <th>nums</th>\n",
       "    </tr>\n",
       "  </thead>\n",
       "  <tbody>\n",
       "  </tbody>\n",
       "</table>\n",
       "</div>"
      ],
      "text/plain": [
       "Empty DataFrame\n",
       "Columns: [strings, nums]\n",
       "Index: []"
      ]
     },
     "execution_count": 6,
     "metadata": {},
     "output_type": "execute_result"
    }
   ],
   "source": [
    "# Query with a string comparison and a numeric comparison\n",
    "df.query('strings == \"a\" and nums == 1')"
   ]
  },
  {
   "cell_type": "markdown",
   "metadata": {},
   "source": [
    "In the above example, the string comparison (`strings == \"a\"`) is evaluated in Python space, while the numeric comparison (`nums == 1`) is evaluated by numexpr."
   ]
  },
  {
   "cell_type": "markdown",
   "metadata": {},
   "source": [
    "##### Scaling to Large Datasets\n",
    "\n",
    "Pandas provides data structures for in-memory analytics, which makes using pandas to analyze datasets that are larger than memory somewhat tricky. Here are some recommendations for scaling your analysis to larger datasets."
   ]
  },
  {
   "cell_type": "markdown",
   "metadata": {},
   "source": [
    "### Load Less Data\n",
    "\n",
    "When working with large datasets, it's often beneficial to load only the columns you need rather than the entire dataset."
   ]
  },
  {
   "cell_type": "code",
   "execution_count": 7,
   "metadata": {},
   "outputs": [],
   "source": [
    "# Example of loading specific columns from a CSV file\n",
    "# This is just an example - adjust the file path and column names as needed\n",
    "# df = pd.read_csv('large_file.csv', usecols=['timestamp', 'id', 'value'])"
   ]
  },
  {
   "cell_type": "markdown",
   "metadata": {},
   "source": [
    "### Use Chunking\n",
    "\n",
    "For very large files, you can process the data in chunks rather than loading it all at once."
   ]
  },
  {
   "cell_type": "code",
   "execution_count": 8,
   "metadata": {},
   "outputs": [
    {
     "data": {
      "text/plain": [
       "\"\\nchunk_size = 10000\\nresults = []\\n\\nfor chunk in pd.read_csv('large_file.csv', chunksize=chunk_size):\\n    # Process each chunk\\n    processed = chunk.groupby('column_name').mean()\\n    results.append(processed)\\n\\n# Combine the results\\ncombined_results = pd.concat(results)\\nfinal_result = combined_results.groupby(level=0).mean()\\n\""
      ]
     },
     "execution_count": 8,
     "metadata": {},
     "output_type": "execute_result"
    }
   ],
   "source": [
    "# Example of processing a large CSV file in chunks\n",
    "# This is just an example - adjust the file path as needed\n",
    "\"\"\"\n",
    "chunk_size = 10000\n",
    "results = []\n",
    "\n",
    "for chunk in pd.read_csv('large_file.csv', chunksize=chunk_size):\n",
    "    # Process each chunk\n",
    "    processed = chunk.groupby('column_name').mean()\n",
    "    results.append(processed)\n",
    "\n",
    "# Combine the results\n",
    "combined_results = pd.concat(results)\n",
    "final_result = combined_results.groupby(level=0).mean()\n",
    "\"\"\""
   ]
  },
  {
   "cell_type": "markdown",
   "metadata": {},
   "source": [
    "##### NaN, Integer NA Values, and NA Type Promotions\n",
    "\n",
    "Pandas has a specific way of handling missing values (NA values) which is important to understand."
   ]
  },
  {
   "cell_type": "markdown",
   "metadata": {},
   "source": [
    "### Choice of NA Representation\n",
    "\n",
    "Pandas uses the special value NaN (Not-A-Number) as the NA value for most data types. There are API functions `isna` and `notna` which can be used across the dtypes to detect NA values."
   ]
  },
  {
   "cell_type": "code",
   "execution_count": 9,
   "metadata": {},
   "outputs": [
    {
     "data": {
      "text/plain": [
       "0    1.0\n",
       "1    2.0\n",
       "2    NaN\n",
       "3    4.0\n",
       "4    5.0\n",
       "dtype: float64"
      ]
     },
     "execution_count": 9,
     "metadata": {},
     "output_type": "execute_result"
    }
   ],
   "source": [
    "# Create a Series with some NaN values\n",
    "s = pd.Series([1, 2, np.nan, 4, 5])\n",
    "s"
   ]
  },
  {
   "cell_type": "code",
   "execution_count": 10,
   "metadata": {},
   "outputs": [
    {
     "data": {
      "text/plain": [
       "0    False\n",
       "1    False\n",
       "2     True\n",
       "3    False\n",
       "4    False\n",
       "dtype: bool"
      ]
     },
     "execution_count": 10,
     "metadata": {},
     "output_type": "execute_result"
    }
   ],
   "source": [
    "# Detect NA values\n",
    "pd.isna(s)"
   ]
  },
  {
   "cell_type": "code",
   "execution_count": 11,
   "metadata": {},
   "outputs": [
    {
     "data": {
      "text/plain": [
       "0     True\n",
       "1     True\n",
       "2    False\n",
       "3     True\n",
       "4     True\n",
       "dtype: bool"
      ]
     },
     "execution_count": 11,
     "metadata": {},
     "output_type": "execute_result"
    }
   ],
   "source": [
    "# Detect non-NA values\n",
    "pd.notna(s)"
   ]
  },
  {
   "cell_type": "markdown",
   "metadata": {},
   "source": [
    "### Support for Integer NA\n",
    "\n",
    "One limitation of using NaN as the NA value is the inability to represent NAs in integer arrays. When you introduce NAs into an integer Series, it gets converted to float64."
   ]
  },
  {
   "cell_type": "code",
   "execution_count": 12,
   "metadata": {},
   "outputs": [
    {
     "data": {
      "text/plain": [
       "a    1\n",
       "b    2\n",
       "c    3\n",
       "d    4\n",
       "e    5\n",
       "dtype: int64"
      ]
     },
     "execution_count": 12,
     "metadata": {},
     "output_type": "execute_result"
    }
   ],
   "source": [
    "# Create an integer Series\n",
    "s = pd.Series([1, 2, 3, 4, 5], index=list('abcde'))\n",
    "s"
   ]
  },
  {
   "cell_type": "code",
   "execution_count": 13,
   "metadata": {},
   "outputs": [
    {
     "data": {
      "text/plain": [
       "dtype('int64')"
      ]
     },
     "execution_count": 13,
     "metadata": {},
     "output_type": "execute_result"
    }
   ],
   "source": [
    "# Check the dtype\n",
    "s.dtype"
   ]
  },
  {
   "cell_type": "code",
   "execution_count": 14,
   "metadata": {},
   "outputs": [
    {
     "data": {
      "text/plain": [
       "a    1.0\n",
       "b    2.0\n",
       "c    3.0\n",
       "f    NaN\n",
       "u    NaN\n",
       "dtype: float64"
      ]
     },
     "execution_count": 14,
     "metadata": {},
     "output_type": "execute_result"
    }
   ],
   "source": [
    "# Reindex to introduce NAs\n",
    "s2 = s.reindex(['a', 'b', 'c', 'f', 'u'])\n",
    "s2"
   ]
  },
  {
   "cell_type": "code",
   "execution_count": 15,
   "metadata": {},
   "outputs": [
    {
     "data": {
      "text/plain": [
       "dtype('float64')"
      ]
     },
     "execution_count": 15,
     "metadata": {},
     "output_type": "execute_result"
    }
   ],
   "source": [
    "# Check the dtype after reindexing\n",
    "s2.dtype"
   ]
  },
  {
   "cell_type": "markdown",
   "metadata": {},
   "source": [
    "### Nullable Integer Data Types\n",
    "\n",
    "If you need to represent integers with possibly missing values, use one of the nullable-integer extension dtypes provided by pandas:\n",
    "- Int8Dtype\n",
    "- Int16Dtype\n",
    "- Int32Dtype\n",
    "- Int64Dtype"
   ]
  },
  {
   "cell_type": "code",
   "execution_count": 16,
   "metadata": {},
   "outputs": [
    {
     "data": {
      "text/plain": [
       "a    1\n",
       "b    2\n",
       "c    3\n",
       "d    4\n",
       "e    5\n",
       "dtype: Int64"
      ]
     },
     "execution_count": 16,
     "metadata": {},
     "output_type": "execute_result"
    }
   ],
   "source": [
    "# Create an integer Series with a nullable integer dtype\n",
    "s_int = pd.Series([1, 2, 3, 4, 5], index=list('abcde'), dtype=pd.Int64Dtype())\n",
    "s_int"
   ]
  },
  {
   "cell_type": "code",
   "execution_count": 17,
   "metadata": {},
   "outputs": [
    {
     "data": {
      "text/plain": [
       "Int64Dtype()"
      ]
     },
     "execution_count": 17,
     "metadata": {},
     "output_type": "execute_result"
    }
   ],
   "source": [
    "# Check the dtype\n",
    "s_int.dtype"
   ]
  },
  {
   "cell_type": "code",
   "execution_count": 18,
   "metadata": {},
   "outputs": [
    {
     "data": {
      "text/plain": [
       "a       1\n",
       "b       2\n",
       "c       3\n",
       "f    <NA>\n",
       "u    <NA>\n",
       "dtype: Int64"
      ]
     },
     "execution_count": 18,
     "metadata": {},
     "output_type": "execute_result"
    }
   ],
   "source": [
    "# Reindex to introduce NAs\n",
    "s2_int = s_int.reindex(['a', 'b', 'c', 'f', 'u'])\n",
    "s2_int"
   ]
  },
  {
   "cell_type": "code",
   "execution_count": 19,
   "metadata": {},
   "outputs": [
    {
     "data": {
      "text/plain": [
       "Int64Dtype()"
      ]
     },
     "execution_count": 19,
     "metadata": {},
     "output_type": "execute_result"
    }
   ],
   "source": [
    "# Check the dtype after reindexing\n",
    "s2_int.dtype"
   ]
  },
  {
   "cell_type": "markdown",
   "metadata": {},
   "source": [
    "### NA Type Promotions\n",
    "\n",
    "When introducing NAs into an existing Series or DataFrame via reindex() or some other means, boolean and integer types will be promoted to a different dtype in order to store the NAs. The promotions are summarized in this table:\n",
    "\n",
    "| Typeclass | Promotion dtype for storing NAs |\n",
    "|-----------|--------------------------------|\n",
    "| floating  | no change                      |\n",
    "| object    | no change                      |\n",
    "| integer   | cast to float64                |\n",
    "| boolean   | cast to object                 |"
   ]
  },
  {
   "cell_type": "code",
   "execution_count": 20,
   "metadata": {},
   "outputs": [
    {
     "name": "stdout",
     "output_type": "stream",
     "text": [
      "Original dtype: bool\n",
      "Reindexed dtype: object\n"
     ]
    },
    {
     "data": {
      "text/plain": [
       "a     True\n",
       "b    False\n",
       "c     True\n",
       "d      NaN\n",
       "dtype: object"
      ]
     },
     "execution_count": 20,
     "metadata": {},
     "output_type": "execute_result"
    }
   ],
   "source": [
    "# Example of boolean type promotion\n",
    "bool_series = pd.Series([True, False, True], index=['a', 'b', 'c'])\n",
    "print(f\"Original dtype: {bool_series.dtype}\")\n",
    "\n",
    "# Reindex to introduce NAs\n",
    "bool_series2 = bool_series.reindex(['a', 'b', 'c', 'd'])\n",
    "print(f\"Reindexed dtype: {bool_series2.dtype}\")\n",
    "bool_series2"
   ]
  },
  {
   "cell_type": "markdown",
   "metadata": {},
   "source": [
    "##### Conclusion\n",
    "\n",
    "In this notebook, we've explored:\n",
    "\n",
    "1. Performance considerations with pandas.eval(), including when to use it and technical details about expression evaluation\n",
    "\n",
    "2. Strategies for scaling to large datasets, such as loading less data and using chunking\n",
    "\n",
    "3. Handling of NaN, Integer NA values, and NA type promotions in pandas, including:\n",
    "   - The choice of NA representation\n",
    "   - Support for integer NA values using nullable integer data types\n",
    "   - Type promotions that occur when introducing NAs into different data types\n",
    "\n",
    "These concepts are important for efficient data manipulation and analysis with pandas, especially when working with large datasets or dealing with missing values."
   ]
  }
 ],
 "metadata": {
  "kernelspec": {
   "display_name": "venv",
   "language": "python",
   "name": "python3"
  },
  "language_info": {
   "codemirror_mode": {
    "name": "ipython",
    "version": 3
   },
   "file_extension": ".py",
   "mimetype": "text/x-python",
   "name": "python",
   "nbconvert_exporter": "python",
   "pygments_lexer": "ipython3",
   "version": "3.13.2"
  }
 },
 "nbformat": 4,
 "nbformat_minor": 4
}
