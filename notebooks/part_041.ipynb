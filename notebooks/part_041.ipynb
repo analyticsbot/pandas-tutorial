{
 "cells": [
  {
   "cell_type": "markdown",
   "metadata": {},
   "source": [
    "#### Pandas Tutorial - Part 41\n",
    "\n",
    "This notebook covers:\n",
    "- Creating interval ranges with `interval_range()`\n",
    "- Series methods including `abs()` and other operations"
   ]
  },
  {
   "cell_type": "code",
   "execution_count": 1,
   "metadata": {},
   "outputs": [],
   "source": [
    "import pandas as pd\n",
    "import numpy as np\n",
    "import matplotlib.pyplot as plt\n",
    "\n",
    "%matplotlib inline"
   ]
  },
  {
   "cell_type": "markdown",
   "metadata": {},
   "source": [
    "##### Creating Interval Ranges with `interval_range()`\n",
    "\n",
    "The `interval_range()` function creates a fixed frequency `IntervalIndex`, which is useful for representing intervals of values."
   ]
  },
  {
   "cell_type": "markdown",
   "metadata": {},
   "source": [
    "### Basic Usage with Numeric Values"
   ]
  },
  {
   "cell_type": "code",
   "execution_count": 2,
   "metadata": {},
   "outputs": [
    {
     "name": "stdout",
     "output_type": "stream",
     "text": [
      "IntervalIndex([(0, 1], (1, 2], (2, 3], (3, 4], (4, 5]], dtype='interval[int64, right]')\n"
     ]
    }
   ],
   "source": [
    "# Create an interval range from 0 to 5\n",
    "interval_idx = pd.interval_range(start=0, end=5)\n",
    "print(interval_idx)"
   ]
  },
  {
   "cell_type": "code",
   "execution_count": 3,
   "metadata": {},
   "outputs": [
    {
     "name": "stdout",
     "output_type": "stream",
     "text": [
      "Type: <class 'pandas.core.indexes.interval.IntervalIndex'>\n",
      "Length: 5\n",
      "Closed on: right\n",
      "Data type: interval[int64, right]\n"
     ]
    }
   ],
   "source": [
    "# Examine the properties of the interval index\n",
    "print(f\"Type: {type(interval_idx)}\")\n",
    "print(f\"Length: {len(interval_idx)}\")\n",
    "print(f\"Closed on: {interval_idx.closed}\")\n",
    "print(f\"Data type: {interval_idx.dtype}\")"
   ]
  },
  {
   "cell_type": "markdown",
   "metadata": {},
   "source": [
    "### Using Datetime Values"
   ]
  },
  {
   "cell_type": "code",
   "execution_count": 4,
   "metadata": {},
   "outputs": [
    {
     "name": "stdout",
     "output_type": "stream",
     "text": [
      "IntervalIndex([(2023-01-01 00:00:00, 2023-01-02 00:00:00],\n",
      "               (2023-01-02 00:00:00, 2023-01-03 00:00:00],\n",
      "               (2023-01-03 00:00:00, 2023-01-04 00:00:00]],\n",
      "              dtype='interval[datetime64[ns], right]')\n"
     ]
    }
   ],
   "source": [
    "# Create an interval range with datetime values\n",
    "date_interval = pd.interval_range(\n",
    "    start=pd.Timestamp('2023-01-01'),\n",
    "    end=pd.Timestamp('2023-01-04')\n",
    ")\n",
    "print(date_interval)"
   ]
  },
  {
   "cell_type": "markdown",
   "metadata": {},
   "source": [
    "### Specifying Frequency"
   ]
  },
  {
   "cell_type": "code",
   "execution_count": 5,
   "metadata": {},
   "outputs": [
    {
     "name": "stdout",
     "output_type": "stream",
     "text": [
      "IntervalIndex([(0.0, 1.5], (1.5, 3.0], (3.0, 4.5], (4.5, 6.0]], dtype='interval[float64, right]')\n"
     ]
    }
   ],
   "source": [
    "# Create an interval range with a specific frequency\n",
    "freq_interval = pd.interval_range(start=0, periods=4, freq=1.5)\n",
    "print(freq_interval)"
   ]
  },
  {
   "cell_type": "code",
   "execution_count": 6,
   "metadata": {},
   "outputs": [
    {
     "name": "stdout",
     "output_type": "stream",
     "text": [
      "IntervalIndex([(2023-01-01 00:00:00, 2023-02-01 00:00:00],\n",
      "               (2023-02-01 00:00:00, 2023-03-01 00:00:00],\n",
      "               (2023-03-01 00:00:00, 2023-04-01 00:00:00]],\n",
      "              dtype='interval[datetime64[ns], right]')\n"
     ]
    }
   ],
   "source": [
    "# Date intervals with month frequency\n",
    "month_interval = pd.interval_range(\n",
    "    start=pd.Timestamp('2023-01-01'),\n",
    "    periods=3,\n",
    "    freq='MS'  # Month start frequency\n",
    ")\n",
    "print(month_interval)"
   ]
  },
  {
   "cell_type": "markdown",
   "metadata": {},
   "source": [
    "### Specifying the Closure of Intervals"
   ]
  },
  {
   "cell_type": "code",
   "execution_count": 7,
   "metadata": {},
   "outputs": [
    {
     "name": "stdout",
     "output_type": "stream",
     "text": [
      "Right closed intervals:\n",
      "IntervalIndex([(0, 1], (1, 2], (2, 3], (3, 4], (4, 5]], dtype='interval[int64, right]')\n"
     ]
    }
   ],
   "source": [
    "# Default is 'right' closed\n",
    "right_closed = pd.interval_range(start=0, end=5)\n",
    "print(\"Right closed intervals:\")\n",
    "print(right_closed)"
   ]
  },
  {
   "cell_type": "code",
   "execution_count": 8,
   "metadata": {},
   "outputs": [
    {
     "name": "stdout",
     "output_type": "stream",
     "text": [
      "Left closed intervals:\n",
      "IntervalIndex([[0, 1), [1, 2), [2, 3), [3, 4), [4, 5)], dtype='interval[int64, left]')\n"
     ]
    }
   ],
   "source": [
    "# Left closed intervals\n",
    "left_closed = pd.interval_range(start=0, end=5, closed='left')\n",
    "print(\"Left closed intervals:\")\n",
    "print(left_closed)"
   ]
  },
  {
   "cell_type": "code",
   "execution_count": 9,
   "metadata": {},
   "outputs": [
    {
     "name": "stdout",
     "output_type": "stream",
     "text": [
      "Both sides closed intervals:\n",
      "IntervalIndex([[0, 1], [1, 2], [2, 3], [3, 4], [4, 5]], dtype='interval[int64, both]')\n"
     ]
    }
   ],
   "source": [
    "# Both sides closed\n",
    "both_closed = pd.interval_range(start=0, end=5, closed='both')\n",
    "print(\"Both sides closed intervals:\")\n",
    "print(both_closed)"
   ]
  },
  {
   "cell_type": "code",
   "execution_count": 10,
   "metadata": {},
   "outputs": [
    {
     "name": "stdout",
     "output_type": "stream",
     "text": [
      "Neither side closed intervals:\n",
      "IntervalIndex([(0, 1), (1, 2), (2, 3), (3, 4), (4, 5)], dtype='interval[int64, neither]')\n"
     ]
    }
   ],
   "source": [
    "# Neither side closed\n",
    "neither_closed = pd.interval_range(start=0, end=5, closed='neither')\n",
    "print(\"Neither side closed intervals:\")\n",
    "print(neither_closed)"
   ]
  },
  {
   "cell_type": "markdown",
   "metadata": {},
   "source": [
    "### Using IntervalIndex with DataFrames"
   ]
  },
  {
   "cell_type": "code",
   "execution_count": 11,
   "metadata": {},
   "outputs": [
    {
     "data": {
      "text/html": [
       "<div>\n",
       "<style scoped>\n",
       "    .dataframe tbody tr th:only-of-type {\n",
       "        vertical-align: middle;\n",
       "    }\n",
       "\n",
       "    .dataframe tbody tr th {\n",
       "        vertical-align: top;\n",
       "    }\n",
       "\n",
       "    .dataframe thead th {\n",
       "        text-align: right;\n",
       "    }\n",
       "</style>\n",
       "<table border=\"1\" class=\"dataframe\">\n",
       "  <thead>\n",
       "    <tr style=\"text-align: right;\">\n",
       "      <th></th>\n",
       "      <th>value</th>\n",
       "      <th>category</th>\n",
       "    </tr>\n",
       "  </thead>\n",
       "  <tbody>\n",
       "    <tr>\n",
       "      <th>(0, 1]</th>\n",
       "      <td>0</td>\n",
       "      <td>A</td>\n",
       "    </tr>\n",
       "    <tr>\n",
       "      <th>(1, 2]</th>\n",
       "      <td>1</td>\n",
       "      <td>B</td>\n",
       "    </tr>\n",
       "    <tr>\n",
       "      <th>(2, 3]</th>\n",
       "      <td>2</td>\n",
       "      <td>C</td>\n",
       "    </tr>\n",
       "    <tr>\n",
       "      <th>(3, 4]</th>\n",
       "      <td>3</td>\n",
       "      <td>D</td>\n",
       "    </tr>\n",
       "    <tr>\n",
       "      <th>(4, 5]</th>\n",
       "      <td>4</td>\n",
       "      <td>E</td>\n",
       "    </tr>\n",
       "  </tbody>\n",
       "</table>\n",
       "</div>"
      ],
      "text/plain": [
       "        value category\n",
       "(0, 1]      0        A\n",
       "(1, 2]      1        B\n",
       "(2, 3]      2        C\n",
       "(3, 4]      3        D\n",
       "(4, 5]      4        E"
      ]
     },
     "execution_count": 11,
     "metadata": {},
     "output_type": "execute_result"
    }
   ],
   "source": [
    "# Create a DataFrame with an IntervalIndex\n",
    "intervals = pd.interval_range(start=0, end=5)\n",
    "df = pd.DataFrame({\n",
    "    'value': range(5),\n",
    "    'category': ['A', 'B', 'C', 'D', 'E']\n",
    "}, index=intervals)\n",
    "df"
   ]
  },
  {
   "cell_type": "code",
   "execution_count": 12,
   "metadata": {},
   "outputs": [
    {
     "name": "stdout",
     "output_type": "stream",
     "text": [
      "2.5 is in (2, 3], which has value 2 and category C\n"
     ]
    }
   ],
   "source": [
    "# Check if a value is contained in any interval\n",
    "value_to_check = 2.5\n",
    "for interval in df.index:\n",
    "    if value_to_check in interval:\n",
    "        print(f\"{value_to_check} is in {interval}, which has value {df.loc[interval, 'value']} and category {df.loc[interval, 'category']}\")"
   ]
  },
  {
   "cell_type": "markdown",
   "metadata": {},
   "source": [
    "##### Series Methods\n",
    "\n",
    "Pandas Series objects have many methods for data manipulation and analysis. Let's explore some of them, starting with the `abs()` method."
   ]
  },
  {
   "cell_type": "markdown",
   "metadata": {},
   "source": [
    "### The `abs()` Method\n",
    "\n",
    "The `abs()` method returns a Series with the absolute value of each element."
   ]
  },
  {
   "cell_type": "code",
   "execution_count": 13,
   "metadata": {},
   "outputs": [
    {
     "name": "stdout",
     "output_type": "stream",
     "text": [
      "Original Series:\n",
      "0   -1.10\n",
      "1    2.00\n",
      "2   -3.33\n",
      "3    4.00\n",
      "dtype: float64\n",
      "\n",
      "Absolute values:\n",
      "0    1.10\n",
      "1    2.00\n",
      "2    3.33\n",
      "3    4.00\n",
      "dtype: float64\n"
     ]
    }
   ],
   "source": [
    "# Create a Series with negative and positive values\n",
    "s = pd.Series([-1.10, 2, -3.33, 4])\n",
    "print(\"Original Series:\")\n",
    "print(s)\n",
    "\n",
    "# Get absolute values\n",
    "abs_s = s.abs()\n",
    "print(\"\\nAbsolute values:\")\n",
    "print(abs_s)"
   ]
  },
  {
   "cell_type": "code",
   "execution_count": 14,
   "metadata": {},
   "outputs": [
    {
     "name": "stdout",
     "output_type": "stream",
     "text": [
      "Complex Series:\n",
      "0    1.2+1.0j\n",
      "1    2.3-2.1j\n",
      "2   -3.4+4.2j\n",
      "dtype: complex128\n",
      "\n",
      "Absolute values:\n",
      "0    1.562050\n",
      "1    3.114482\n",
      "2    5.403702\n",
      "dtype: float64\n"
     ]
    }
   ],
   "source": [
    "# Absolute values of complex numbers\n",
    "complex_s = pd.Series([1.2 + 1j, 2.3 - 2.1j, -3.4 + 4.2j])\n",
    "print(\"Complex Series:\")\n",
    "print(complex_s)\n",
    "\n",
    "print(\"\\nAbsolute values:\")\n",
    "print(complex_s.abs())"
   ]
  },
  {
   "cell_type": "code",
   "execution_count": 15,
   "metadata": {},
   "outputs": [
    {
     "name": "stdout",
     "output_type": "stream",
     "text": [
      "Timedelta Series:\n",
      "0     1 days 00:00:00\n",
      "1   -2 days +00:00:00\n",
      "2     0 days 03:00:00\n",
      "dtype: timedelta64[ns]\n",
      "\n",
      "Absolute values:\n",
      "0   1 days 00:00:00\n",
      "1   2 days 00:00:00\n",
      "2   0 days 03:00:00\n",
      "dtype: timedelta64[ns]\n"
     ]
    }
   ],
   "source": [
    "# Absolute values of timedeltas\n",
    "td_s = pd.Series([pd.Timedelta('1 days'), pd.Timedelta('-2 days'), pd.Timedelta('3 hours')])\n",
    "print(\"Timedelta Series:\")\n",
    "print(td_s)\n",
    "\n",
    "print(\"\\nAbsolute values:\")\n",
    "print(td_s.abs())"
   ]
  },
  {
   "cell_type": "markdown",
   "metadata": {},
   "source": [
    "### Practical Example: Finding Values Closest to a Target"
   ]
  },
  {
   "cell_type": "code",
   "execution_count": 16,
   "metadata": {},
   "outputs": [
    {
     "name": "stdout",
     "output_type": "stream",
     "text": [
      "Original DataFrame:\n",
      "   a   b    c\n",
      "0  4  10  100\n",
      "1  5  20   50\n",
      "2  6  30  -30\n",
      "3  7  40  -50\n"
     ]
    }
   ],
   "source": [
    "# Create a DataFrame\n",
    "df = pd.DataFrame({\n",
    "    'a': [4, 5, 6, 7],\n",
    "    'b': [10, 20, 30, 40],\n",
    "    'c': [100, 50, -30, -50]\n",
    "})\n",
    "print(\"Original DataFrame:\")\n",
    "print(df)"
   ]
  },
  {
   "cell_type": "code",
   "execution_count": 17,
   "metadata": {},
   "outputs": [
    {
     "name": "stdout",
     "output_type": "stream",
     "text": [
      "\n",
      "Rows sorted by distance of column 'c' from 43:\n",
      "   a   b    c\n",
      "1  5  20   50\n",
      "0  4  10  100\n",
      "2  6  30  -30\n",
      "3  7  40  -50\n"
     ]
    }
   ],
   "source": [
    "# Find rows with values in column 'c' closest to 43\n",
    "target_value = 43\n",
    "distance = (df['c'] - target_value).abs()\n",
    "sorted_indices = distance.argsort()\n",
    "\n",
    "print(f\"\\nRows sorted by distance of column 'c' from {target_value}:\")\n",
    "print(df.loc[sorted_indices])"
   ]
  },
  {
   "cell_type": "markdown",
   "metadata": {},
   "source": [
    "### Other Series Methods\n",
    "\n",
    "Let's explore some other useful Series methods."
   ]
  },
  {
   "cell_type": "code",
   "execution_count": 18,
   "metadata": {},
   "outputs": [
    {
     "name": "stdout",
     "output_type": "stream",
     "text": [
      "Sample Series:\n",
      "0    1.0\n",
      "1    2.0\n",
      "2    3.0\n",
      "3    4.0\n",
      "4    5.0\n",
      "5    2.0\n",
      "6    3.0\n",
      "7    1.0\n",
      "8    NaN\n",
      "dtype: float64\n"
     ]
    }
   ],
   "source": [
    "# Create a sample Series\n",
    "s = pd.Series([1, 2, 3, 4, 5, 2, 3, 1, np.nan])\n",
    "print(\"Sample Series:\")\n",
    "print(s)"
   ]
  },
  {
   "cell_type": "code",
   "execution_count": 19,
   "metadata": {},
   "outputs": [
    {
     "name": "stdout",
     "output_type": "stream",
     "text": [
      "Mean: 2.625\n",
      "Median: 2.5\n",
      "Standard deviation: 1.407885953173359\n",
      "Minimum: 1.0\n",
      "Maximum: 5.0\n"
     ]
    }
   ],
   "source": [
    "# Basic statistics\n",
    "print(f\"Mean: {s.mean()}\")\n",
    "print(f\"Median: {s.median()}\")\n",
    "print(f\"Standard deviation: {s.std()}\")\n",
    "print(f\"Minimum: {s.min()}\")\n",
    "print(f\"Maximum: {s.max()}\")"
   ]
  },
  {
   "cell_type": "code",
   "execution_count": 20,
   "metadata": {},
   "outputs": [
    {
     "name": "stdout",
     "output_type": "stream",
     "text": [
      "Count of non-NA values: 8\n",
      "NA values: 0    False\n",
      "1    False\n",
      "2    False\n",
      "3    False\n",
      "4    False\n",
      "5    False\n",
      "6    False\n",
      "7    False\n",
      "8     True\n",
      "dtype: bool\n",
      "Count of NA values: 1\n"
     ]
    }
   ],
   "source": [
    "# Count non-NA values\n",
    "print(f\"Count of non-NA values: {s.count()}\")\n",
    "\n",
    "# Check for NA values\n",
    "print(f\"NA values: {s.isna()}\")\n",
    "print(f\"Count of NA values: {s.isna().sum()}\")"
   ]
  },
  {
   "cell_type": "code",
   "execution_count": 21,
   "metadata": {},
   "outputs": [
    {
     "name": "stdout",
     "output_type": "stream",
     "text": [
      "Value counts:\n",
      "1.0    2\n",
      "2.0    2\n",
      "3.0    2\n",
      "4.0    1\n",
      "5.0    1\n",
      "Name: count, dtype: int64\n",
      "\n",
      "Normalized value counts:\n",
      "1.0    0.250\n",
      "2.0    0.250\n",
      "3.0    0.250\n",
      "4.0    0.125\n",
      "5.0    0.125\n",
      "Name: proportion, dtype: float64\n"
     ]
    }
   ],
   "source": [
    "# Value counts\n",
    "print(\"Value counts:\")\n",
    "print(s.value_counts())\n",
    "\n",
    "# Normalized value counts (proportions)\n",
    "print(\"\\nNormalized value counts:\")\n",
    "print(s.value_counts(normalize=True))"
   ]
  },
  {
   "cell_type": "code",
   "execution_count": 22,
   "metadata": {},
   "outputs": [
    {
     "name": "stdout",
     "output_type": "stream",
     "text": [
      "Cumulative sum:\n",
      "0     1.0\n",
      "1     3.0\n",
      "2     6.0\n",
      "3    10.0\n",
      "4    15.0\n",
      "5    17.0\n",
      "6    20.0\n",
      "7    21.0\n",
      "8     NaN\n",
      "dtype: float64\n",
      "\n",
      "Cumulative product:\n",
      "0      1.0\n",
      "1      2.0\n",
      "2      6.0\n",
      "3     24.0\n",
      "4    120.0\n",
      "5    240.0\n",
      "6    720.0\n",
      "7    720.0\n",
      "8      NaN\n",
      "dtype: float64\n"
     ]
    }
   ],
   "source": [
    "# Cumulative operations\n",
    "print(\"Cumulative sum:\")\n",
    "print(s.cumsum())\n",
    "\n",
    "print(\"\\nCumulative product:\")\n",
    "print(s.cumprod())"
   ]
  },
  {
   "cell_type": "code",
   "execution_count": 23,
   "metadata": {},
   "outputs": [
    {
     "name": "stdout",
     "output_type": "stream",
     "text": [
      "Values greater than 2:\n",
      "2    3.0\n",
      "3    4.0\n",
      "4    5.0\n",
      "6    3.0\n",
      "dtype: float64\n"
     ]
    }
   ],
   "source": [
    "# Filtering\n",
    "print(\"Values greater than 2:\")\n",
    "print(s[s > 2])"
   ]
  },
  {
   "cell_type": "code",
   "execution_count": 24,
   "metadata": {},
   "outputs": [
    {
     "name": "stdout",
     "output_type": "stream",
     "text": [
      "Square of each value:\n",
      "0     1.0\n",
      "1     4.0\n",
      "2     9.0\n",
      "3    16.0\n",
      "4    25.0\n",
      "5     4.0\n",
      "6     9.0\n",
      "7     1.0\n",
      "8     NaN\n",
      "dtype: float64\n"
     ]
    }
   ],
   "source": [
    "# Applying functions\n",
    "print(\"Square of each value:\")\n",
    "print(s.apply(lambda x: x**2 if pd.notna(x) else x))"
   ]
  },
  {
   "cell_type": "code",
   "execution_count": 25,
   "metadata": {},
   "outputs": [
    {
     "name": "stdout",
     "output_type": "stream",
     "text": [
      "Sorted values:\n",
      "0    1.0\n",
      "7    1.0\n",
      "1    2.0\n",
      "5    2.0\n",
      "2    3.0\n",
      "6    3.0\n",
      "3    4.0\n",
      "4    5.0\n",
      "8    NaN\n",
      "dtype: float64\n",
      "\n",
      "Sorted values (descending):\n",
      "4    5.0\n",
      "3    4.0\n",
      "2    3.0\n",
      "6    3.0\n",
      "1    2.0\n",
      "5    2.0\n",
      "0    1.0\n",
      "7    1.0\n",
      "8    NaN\n",
      "dtype: float64\n"
     ]
    }
   ],
   "source": [
    "# Sorting\n",
    "print(\"Sorted values:\")\n",
    "print(s.sort_values())\n",
    "\n",
    "print(\"\\nSorted values (descending):\")\n",
    "print(s.sort_values(ascending=False))"
   ]
  },
  {
   "cell_type": "code",
   "execution_count": 26,
   "metadata": {},
   "outputs": [
    {
     "name": "stdout",
     "output_type": "stream",
     "text": [
      "Replace 2 with 200:\n",
      "0      1.0\n",
      "1    200.0\n",
      "2      3.0\n",
      "3      4.0\n",
      "4      5.0\n",
      "5    200.0\n",
      "6      3.0\n",
      "7      1.0\n",
      "8      NaN\n",
      "dtype: float64\n"
     ]
    }
   ],
   "source": [
    "# Replace values\n",
    "print(\"Replace 2 with 200:\")\n",
    "print(s.replace(2, 200))"
   ]
  },
  {
   "cell_type": "markdown",
   "metadata": {},
   "source": [
    "##### Conclusion\n",
    "\n",
    "In this notebook, we've explored:\n",
    "\n",
    "1. Creating interval ranges with `interval_range()`:\n",
    "   - Basic usage with numeric values\n",
    "   - Using datetime values\n",
    "   - Specifying frequency\n",
    "   - Controlling interval closure\n",
    "   - Using IntervalIndex with DataFrames\n",
    "\n",
    "2. Series methods:\n",
    "   - The `abs()` method for getting absolute values\n",
    "   - Finding values closest to a target\n",
    "   - Basic statistics methods\n",
    "   - Counting and handling NA values\n",
    "   - Value counts\n",
    "   - Cumulative operations\n",
    "   - Filtering, applying functions, sorting, and replacing values\n",
    "\n",
    "These tools are essential for data manipulation and analysis in pandas."
   ]
  }
 ],
 "metadata": {
  "kernelspec": {
   "display_name": "venv",
   "language": "python",
   "name": "python3"
  },
  "language_info": {
   "codemirror_mode": {
    "name": "ipython",
    "version": 3
   },
   "file_extension": ".py",
   "mimetype": "text/x-python",
   "name": "python",
   "nbconvert_exporter": "python",
   "pygments_lexer": "ipython3",
   "version": "3.13.2"
  }
 },
 "nbformat": 4,
 "nbformat_minor": 4
}
