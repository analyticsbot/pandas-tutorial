{
 "cells": [
  {
   "cell_type": "markdown",
   "metadata": {},
   "source": [
    "#### Pandas Tutorial - Part 41\n",
    "\n",
    "This notebook covers:\n",
    "- Creating interval ranges with `interval_range()`\n",
    "- Series methods including `abs()` and other operations"
   ]
  },
  {
   "cell_type": "code",
   "execution_count": null,
   "metadata": {},
   "outputs": [],
   "source": [
    "import pandas as pd\n",
    "import numpy as np\n",
    "import matplotlib.pyplot as plt\n",
    "\n",
    "%matplotlib inline"
   ]
  },
  {
   "cell_type": "markdown",
   "metadata": {},
   "source": [
    "##### Creating Interval Ranges with `interval_range()`\n",
    "\n",
    "The `interval_range()` function creates a fixed frequency `IntervalIndex`, which is useful for representing intervals of values."
   ]
  },
  {
   "cell_type": "markdown",
   "metadata": {},
   "source": [
    "### Basic Usage with Numeric Values"
   ]
  },
  {
   "cell_type": "code",
   "execution_count": null,
   "metadata": {},
   "outputs": [],
   "source": [
    "# Create an interval range from 0 to 5\n",
    "interval_idx = pd.interval_range(start=0, end=5)\n",
    "print(interval_idx)"
   ]
  },
  {
   "cell_type": "code",
   "execution_count": null,
   "metadata": {},
   "outputs": [],
   "source": [
    "# Examine the properties of the interval index\n",
    "print(f\"Type: {type(interval_idx)}\")\n",
    "print(f\"Length: {len(interval_idx)}\")\n",
    "print(f\"Closed on: {interval_idx.closed}\")\n",
    "print(f\"Data type: {interval_idx.dtype}\")"
   ]
  },
  {
   "cell_type": "markdown",
   "metadata": {},
   "source": [
    "### Using Datetime Values"
   ]
  },
  {
   "cell_type": "code",
   "execution_count": null,
   "metadata": {},
   "outputs": [],
   "source": [
    "# Create an interval range with datetime values\n",
    "date_interval = pd.interval_range(\n",
    "    start=pd.Timestamp('2023-01-01'),\n",
    "    end=pd.Timestamp('2023-01-04')\n",
    ")\n",
    "print(date_interval)"
   ]
  },
  {
   "cell_type": "markdown",
   "metadata": {},
   "source": [
    "### Specifying Frequency"
   ]
  },
  {
   "cell_type": "code",
   "execution_count": null,
   "metadata": {},
   "outputs": [],
   "source": [
    "# Create an interval range with a specific frequency\n",
    "freq_interval = pd.interval_range(start=0, periods=4, freq=1.5)\n",
    "print(freq_interval)"
   ]
  },
  {
   "cell_type": "code",
   "execution_count": null,
   "metadata": {},
   "outputs": [],
   "source": [
    "# Date intervals with month frequency\n",
    "month_interval = pd.interval_range(\n",
    "    start=pd.Timestamp('2023-01-01'),\n",
    "    periods=3,\n",
    "    freq='MS'  # Month start frequency\n",
    ")\n",
    "print(month_interval)"
   ]
  },
  {
   "cell_type": "markdown",
   "metadata": {},
   "source": [
    "### Specifying the Closure of Intervals"
   ]
  },
  {
   "cell_type": "code",
   "execution_count": null,
   "metadata": {},
   "outputs": [],
   "source": [
    "# Default is 'right' closed\n",
    "right_closed = pd.interval_range(start=0, end=5)\n",
    "print(\"Right closed intervals:\")\n",
    "print(right_closed)"
   ]
  },
  {
   "cell_type": "code",
   "execution_count": null,
   "metadata": {},
   "outputs": [],
   "source": [
    "# Left closed intervals\n",
    "left_closed = pd.interval_range(start=0, end=5, closed='left')\n",
    "print(\"Left closed intervals:\")\n",
    "print(left_closed)"
   ]
  },
  {
   "cell_type": "code",
   "execution_count": null,
   "metadata": {},
   "outputs": [],
   "source": [
    "# Both sides closed\n",
    "both_closed = pd.interval_range(start=0, end=5, closed='both')\n",
    "print(\"Both sides closed intervals:\")\n",
    "print(both_closed)"
   ]
  },
  {
   "cell_type": "code",
   "execution_count": null,
   "metadata": {},
   "outputs": [],
   "source": [
    "# Neither side closed\n",
    "neither_closed = pd.interval_range(start=0, end=5, closed='neither')\n",
    "print(\"Neither side closed intervals:\")\n",
    "print(neither_closed)"
   ]
  },
  {
   "cell_type": "markdown",
   "metadata": {},
   "source": [
    "### Using IntervalIndex with DataFrames"
   ]
  },
  {
   "cell_type": "code",
   "execution_count": null,
   "metadata": {},
   "outputs": [],
   "source": [
    "# Create a DataFrame with an IntervalIndex\n",
    "intervals = pd.interval_range(start=0, end=5)\n",
    "df = pd.DataFrame({\n",
    "    'value': range(5),\n",
    "    'category': ['A', 'B', 'C', 'D', 'E']\n",
    "}, index=intervals)\n",
    "df"
   ]
  },
  {
   "cell_type": "code",
   "execution_count": null,
   "metadata": {},
   "outputs": [],
   "source": [
    "# Check if a value is contained in any interval\n",
    "value_to_check = 2.5\n",
    "for interval in df.index:\n",
    "    if value_to_check in interval:\n",
    "        print(f\"{value_to_check} is in {interval}, which has value {df.loc[interval, 'value']} and category {df.loc[interval, 'category']}\")"
   ]
  },
  {
   "cell_type": "markdown",
   "metadata": {},
   "source": [
    "##### Series Methods\n",
    "\n",
    "Pandas Series objects have many methods for data manipulation and analysis. Let's explore some of them, starting with the `abs()` method."
   ]
  },
  {
   "cell_type": "markdown",
   "metadata": {},
   "source": [
    "### The `abs()` Method\n",
    "\n",
    "The `abs()` method returns a Series with the absolute value of each element."
   ]
  },
  {
   "cell_type": "code",
   "execution_count": null,
   "metadata": {},
   "outputs": [],
   "source": [
    "# Create a Series with negative and positive values\n",
    "s = pd.Series([-1.10, 2, -3.33, 4])\n",
    "print(\"Original Series:\")\n",
    "print(s)\n",
    "\n",
    "# Get absolute values\n",
    "abs_s = s.abs()\n",
    "print(\"\\nAbsolute values:\")\n",
    "print(abs_s)"
   ]
  },
  {
   "cell_type": "code",
   "execution_count": null,
   "metadata": {},
   "outputs": [],
   "source": [
    "# Absolute values of complex numbers\n",
    "complex_s = pd.Series([1.2 + 1j, 2.3 - 2.1j, -3.4 + 4.2j])\n",
    "print(\"Complex Series:\")\n",
    "print(complex_s)\n",
    "\n",
    "print(\"\\nAbsolute values:\")\n",
    "print(complex_s.abs())"
   ]
  },
  {
   "cell_type": "code",
   "execution_count": null,
   "metadata": {},
   "outputs": [],
   "source": [
    "# Absolute values of timedeltas\n",
    "td_s = pd.Series([pd.Timedelta('1 days'), pd.Timedelta('-2 days'), pd.Timedelta('3 hours')])\n",
    "print(\"Timedelta Series:\")\n",
    "print(td_s)\n",
    "\n",
    "print(\"\\nAbsolute values:\")\n",
    "print(td_s.abs())"
   ]
  },
  {
   "cell_type": "markdown",
   "metadata": {},
   "source": [
    "### Practical Example: Finding Values Closest to a Target"
   ]
  },
  {
   "cell_type": "code",
   "execution_count": null,
   "metadata": {},
   "outputs": [],
   "source": [
    "# Create a DataFrame\n",
    "df = pd.DataFrame({\n",
    "    'a': [4, 5, 6, 7],\n",
    "    'b': [10, 20, 30, 40],\n",
    "    'c': [100, 50, -30, -50]\n",
    "})\n",
    "print(\"Original DataFrame:\")\n",
    "print(df)"
   ]
  },
  {
   "cell_type": "code",
   "execution_count": null,
   "metadata": {},
   "outputs": [],
   "source": [
    "# Find rows with values in column 'c' closest to 43\n",
    "target_value = 43\n",
    "distance = (df['c'] - target_value).abs()\n",
    "sorted_indices = distance.argsort()\n",
    "\n",
    "print(f\"\\nRows sorted by distance of column 'c' from {target_value}:\")\n",
    "print(df.loc[sorted_indices])"
   ]
  },
  {
   "cell_type": "markdown",
   "metadata": {},
   "source": [
    "### Other Series Methods\n",
    "\n",
    "Let's explore some other useful Series methods."
   ]
  },
  {
   "cell_type": "code",
   "execution_count": null,
   "metadata": {},
   "outputs": [],
   "source": [
    "# Create a sample Series\n",
    "s = pd.Series([1, 2, 3, 4, 5, 2, 3, 1, np.nan])\n",
    "print(\"Sample Series:\")\n",
    "print(s)"
   ]
  },
  {
   "cell_type": "code",
   "execution_count": null,
   "metadata": {},
   "outputs": [],
   "source": [
    "# Basic statistics\n",
    "print(f\"Mean: {s.mean()}\")\n",
    "print(f\"Median: {s.median()}\")\n",
    "print(f\"Standard deviation: {s.std()}\")\n",
    "print(f\"Minimum: {s.min()}\")\n",
    "print(f\"Maximum: {s.max()}\")"
   ]
  },
  {
   "cell_type": "code",
   "execution_count": null,
   "metadata": {},
   "outputs": [],
   "source": [
    "# Count non-NA values\n",
    "print(f\"Count of non-NA values: {s.count()}\")\n",
    "\n",
    "# Check for NA values\n",
    "print(f\"NA values: {s.isna()}\")\n",
    "print(f\"Count of NA values: {s.isna().sum()}\")"
   ]
  },
  {
   "cell_type": "code",
   "execution_count": null,
   "metadata": {},
   "outputs": [],
   "source": [
    "# Value counts\n",
    "print(\"Value counts:\")\n",
    "print(s.value_counts())\n",
    "\n",
    "# Normalized value counts (proportions)\n",
    "print(\"\\nNormalized value counts:\")\n",
    "print(s.value_counts(normalize=True))"
   ]
  },
  {
   "cell_type": "code",
   "execution_count": null,
   "metadata": {},
   "outputs": [],
   "source": [
    "# Cumulative operations\n",
    "print(\"Cumulative sum:\")\n",
    "print(s.cumsum())\n",
    "\n",
    "print(\"\\nCumulative product:\")\n",
    "print(s.cumprod())"
   ]
  },
  {
   "cell_type": "code",
   "execution_count": null,
   "metadata": {},
   "outputs": [],
   "source": [
    "# Filtering\n",
    "print(\"Values greater than 2:\")\n",
    "print(s[s > 2])"
   ]
  },
  {
   "cell_type": "code",
   "execution_count": null,
   "metadata": {},
   "outputs": [],
   "source": [
    "# Applying functions\n",
    "print(\"Square of each value:\")\n",
    "print(s.apply(lambda x: x**2 if pd.notna(x) else x))"
   ]
  },
  {
   "cell_type": "code",
   "execution_count": null,
   "metadata": {},
   "outputs": [],
   "source": [
    "# Sorting\n",
    "print(\"Sorted values:\")\n",
    "print(s.sort_values())\n",
    "\n",
    "print(\"\\nSorted values (descending):\")\n",
    "print(s.sort_values(ascending=False))"
   ]
  },
  {
   "cell_type": "code",
   "execution_count": null,
   "metadata": {},
   "outputs": [],
   "source": [
    "# Replace values\n",
    "print(\"Replace 2 with 200:\")\n",
    "print(s.replace(2, 200))"
   ]
  },
  {
   "cell_type": "markdown",
   "metadata": {},
   "source": [
    "##### Conclusion\n",
    "\n",
    "In this notebook, we've explored:\n",
    "\n",
    "1. Creating interval ranges with `interval_range()`:\n",
    "   - Basic usage with numeric values\n",
    "   - Using datetime values\n",
    "   - Specifying frequency\n",
    "   - Controlling interval closure\n",
    "   - Using IntervalIndex with DataFrames\n",
    "\n",
    "2. Series methods:\n",
    "   - The `abs()` method for getting absolute values\n",
    "   - Finding values closest to a target\n",
    "   - Basic statistics methods\n",
    "   - Counting and handling NA values\n",
    "   - Value counts\n",
    "   - Cumulative operations\n",
    "   - Filtering, applying functions, sorting, and replacing values\n",
    "\n",
    "These tools are essential for data manipulation and analysis in pandas."
   ]
  }
 ],
 "metadata": {
  "kernelspec": {
   "display_name": "Python 3",
   "language": "python",
   "name": "python3"
  },
  "language_info": {
   "codemirror_mode": {
    "name": "ipython",
    "version": 3
   },
   "file_extension": ".py",
   "mimetype": "text/x-python",
   "name": "python",
   "nbconvert_exporter": "python",
   "pygments_lexer": "ipython3",
   "version": "3.8.5"
  }
 },
 "nbformat": 4,
 "nbformat_minor": 4
}