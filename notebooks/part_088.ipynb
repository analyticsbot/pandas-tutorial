{
 "cells": [
  {
   "cell_type": "markdown",
   "metadata": {},
   "source": [
    "#### Pandas Part 88: GroupBy Operations\n",
    "\n",
    "This notebook explores GroupBy operations in pandas, which allow you to split data into groups, apply functions to each group, and combine the results."
   ]
  },
  {
   "cell_type": "code",
   "execution_count": 1,
   "metadata": {},
   "outputs": [],
   "source": [
    "import pandas as pd\n",
    "import numpy as np"
   ]
  },
  {
   "cell_type": "markdown",
   "metadata": {},
   "source": [
    "##### 1. Creating a Sample DataFrame"
   ]
  },
  {
   "cell_type": "code",
   "execution_count": 2,
   "metadata": {},
   "outputs": [
    {
     "name": "stdout",
     "output_type": "stream",
     "text": [
      "Sample DataFrame:\n",
      "     A      B         C         D  E\n",
      "0  foo    one  0.764499 -0.108719  2\n",
      "1  bar    one  0.721028  1.359157  5\n",
      "2  foo    two  2.456219  1.562484  9\n",
      "3  bar  three -0.628960  1.172046  9\n",
      "4  foo    two -2.786866  0.589397  2\n",
      "5  bar    two -1.112786  0.496375  7\n",
      "6  foo    one  0.594345 -0.411109  0\n",
      "7  foo  three  1.531044  1.544284  3\n"
     ]
    }
   ],
   "source": [
    "# Create a sample DataFrame\n",
    "df = pd.DataFrame({\n",
    "    'A': ['foo', 'bar', 'foo', 'bar', 'foo', 'bar', 'foo', 'foo'],\n",
    "    'B': ['one', 'one', 'two', 'three', 'two', 'two', 'one', 'three'],\n",
    "    'C': np.random.randn(8),\n",
    "    'D': np.random.randn(8),\n",
    "    'E': np.random.randint(0, 10, 8)\n",
    "})\n",
    "\n",
    "print(\"Sample DataFrame:\")\n",
    "print(df)"
   ]
  },
  {
   "cell_type": "markdown",
   "metadata": {},
   "source": [
    "##### 2. Basic GroupBy Operations\n",
    "\n",
    "The `groupby()` method is used to split the data into groups based on some criteria."
   ]
  },
  {
   "cell_type": "code",
   "execution_count": 3,
   "metadata": {},
   "outputs": [
    {
     "name": "stdout",
     "output_type": "stream",
     "text": [
      "Groups:\n",
      "\n",
      "Group name: bar\n",
      "     A      B         C         D  E\n",
      "1  bar    one  0.721028  1.359157  5\n",
      "3  bar  three -0.628960  1.172046  9\n",
      "5  bar    two -1.112786  0.496375  7\n",
      "\n",
      "Group name: foo\n",
      "     A      B         C         D  E\n",
      "0  foo    one  0.764499 -0.108719  2\n",
      "2  foo    two  2.456219  1.562484  9\n",
      "4  foo    two -2.786866  0.589397  2\n",
      "6  foo    one  0.594345 -0.411109  0\n",
      "7  foo  three  1.531044  1.544284  3\n"
     ]
    }
   ],
   "source": [
    "# Group by column 'A'\n",
    "grouped = df.groupby('A')\n",
    "\n",
    "# Get the groups\n",
    "print(\"Groups:\")\n",
    "for name, group in grouped:\n",
    "    print(f\"\\nGroup name: {name}\")\n",
    "    print(group)"
   ]
  },
  {
   "cell_type": "code",
   "execution_count": 4,
   "metadata": {},
   "outputs": [
    {
     "name": "stdout",
     "output_type": "stream",
     "text": [
      "Group dictionary:\n",
      "{'bar': [1, 3, 5], 'foo': [0, 2, 4, 6, 7]}\n",
      "\n",
      "Group 'foo':\n",
      "     A      B         C         D  E\n",
      "0  foo    one  0.764499 -0.108719  2\n",
      "2  foo    two  2.456219  1.562484  9\n",
      "4  foo    two -2.786866  0.589397  2\n",
      "6  foo    one  0.594345 -0.411109  0\n",
      "7  foo  three  1.531044  1.544284  3\n"
     ]
    }
   ],
   "source": [
    "# Get the group dictionary\n",
    "print(\"Group dictionary:\")\n",
    "print(grouped.groups)\n",
    "\n",
    "# Get a specific group\n",
    "print(\"\\nGroup 'foo':\")\n",
    "print(grouped.get_group('foo'))"
   ]
  },
  {
   "cell_type": "markdown",
   "metadata": {},
   "source": [
    "##### 3. Aggregation Operations\n",
    "\n",
    "Aggregation operations compute a summary statistic for each group."
   ]
  },
  {
   "cell_type": "code",
   "execution_count": 7,
   "metadata": {},
   "outputs": [
    {
     "name": "stdout",
     "output_type": "stream",
     "text": [
      "Original DataFrame:\n",
      "     A  B    C\n",
      "0  foo  1  2.5\n",
      "1  bar  2  3.5\n",
      "2  foo  3  4.5\n",
      "3  bar  4  5.5\n",
      "4  foo  5  6.5\n",
      "5  bar  6  7.5\n",
      "\n",
      "Mean of each group (numeric columns only):\n",
      "       B    C\n",
      "A            \n",
      "bar  4.0  5.5\n",
      "foo  3.0  4.5\n",
      "\n",
      "Sum of each group (numeric columns only):\n",
      "      B     C\n",
      "A            \n",
      "bar  12  16.5\n",
      "foo   9  13.5\n",
      "\n",
      "Size of each group:\n",
      "A\n",
      "bar    3\n",
      "foo    3\n",
      "dtype: int64\n",
      "\n",
      "Custom aggregation for each column:\n",
      "       B        C      \n",
      "    mean sum mean   sum\n",
      "A                      \n",
      "bar  4.0  12  5.5  16.5\n",
      "foo  3.0   9  4.5  13.5\n",
      "\n",
      "Aggregation for non-numeric columns:\n",
      "    first  count\n",
      "A               \n",
      "bar   bar      3\n",
      "foo   foo      3\n"
     ]
    }
   ],
   "source": [
    "import pandas as pd\n",
    "import numpy as np\n",
    "\n",
    "# Create a DataFrame with mixed data types\n",
    "df = pd.DataFrame({\n",
    "    'A': ['foo', 'bar', 'foo', 'bar', 'foo', 'bar'],\n",
    "    'B': [1, 2, 3, 4, 5, 6],\n",
    "    'C': [2.5, 3.5, 4.5, 5.5, 6.5, 7.5]\n",
    "})\n",
    "print(\"Original DataFrame:\")\n",
    "print(df)\n",
    "\n",
    "# Group by column A\n",
    "grouped = df.groupby('A')\n",
    "\n",
    "# Compute the mean of numeric columns only\n",
    "print(\"\\nMean of each group (numeric columns only):\")\n",
    "print(grouped.mean())\n",
    "\n",
    "# Compute the sum of numeric columns only\n",
    "print(\"\\nSum of each group (numeric columns only):\")\n",
    "print(grouped.sum())\n",
    "\n",
    "# Compute the size of each group (works for all data types)\n",
    "print(\"\\nSize of each group:\")\n",
    "print(grouped.size())\n",
    "\n",
    "# Alternative: use agg with specific functions for each column\n",
    "print(\"\\nCustom aggregation for each column:\")\n",
    "result = grouped.agg({\n",
    "    'B': ['mean', 'sum'],\n",
    "    'C': ['mean', 'sum']\n",
    "})\n",
    "print(result)\n",
    "\n",
    "# For non-numeric columns, we can use different aggregation methods\n",
    "print(\"\\nAggregation for non-numeric columns:\")\n",
    "print(grouped['A'].agg(['first', 'count']))"
   ]
  },
  {
   "cell_type": "code",
   "execution_count": 8,
   "metadata": {},
   "outputs": [
    {
     "name": "stdout",
     "output_type": "stream",
     "text": [
      "Multiple aggregations:\n",
      "       B                   C                 \n",
      "    mean sum count  std mean   sum count  std\n",
      "A                                            \n",
      "bar  4.0  12     3  2.0  5.5  16.5     3  2.0\n",
      "foo  3.0   9     3  2.0  4.5  13.5     3  2.0\n"
     ]
    }
   ],
   "source": [
    "# Compute multiple aggregations at once\n",
    "print(\"Multiple aggregations:\")\n",
    "print(grouped.agg(['mean', 'sum', 'count', 'std']))"
   ]
  },
  {
   "cell_type": "code",
   "execution_count": 10,
   "metadata": {},
   "outputs": [
    {
     "name": "stdout",
     "output_type": "stream",
     "text": [
      "Original DataFrame:\n",
      "     A  B    C   D    E\n",
      "0  foo  1  2.5  10  100\n",
      "1  bar  2  3.5  20  200\n",
      "2  foo  3  4.5  30  300\n",
      "3  bar  4  5.5  40  400\n",
      "4  foo  5  6.5  50  500\n",
      "5  bar  6  7.5  60  600\n",
      "\n",
      "Different aggregations for different columns:\n",
      "        C     D    E     \n",
      "      sum  mean  min  max\n",
      "A                        \n",
      "bar  16.5  40.0  200  600\n",
      "foo  13.5  30.0  100  500\n",
      "\n",
      "Using dictionary for aggregation:\n",
      "        C     D    E     \n",
      "      sum  mean  min  max\n",
      "A                        \n",
      "bar  16.5  40.0  200  600\n",
      "foo  13.5  30.0  100  500\n",
      "\n",
      "Using named aggregations:\n",
      "     c_sum  d_mean  e_min  e_max\n",
      "A                               \n",
      "bar   16.5    40.0    200    600\n",
      "foo   13.5    30.0    100    500\n"
     ]
    }
   ],
   "source": [
    "import pandas as pd\n",
    "import numpy as np\n",
    "\n",
    "# Create a DataFrame with multiple columns\n",
    "df = pd.DataFrame({\n",
    "    'A': ['foo', 'bar', 'foo', 'bar', 'foo', 'bar'],\n",
    "    'B': [1, 2, 3, 4, 5, 6],\n",
    "    'C': [2.5, 3.5, 4.5, 5.5, 6.5, 7.5],\n",
    "    'D': [10, 20, 30, 40, 50, 60],\n",
    "    'E': [100, 200, 300, 400, 500, 600]\n",
    "})\n",
    "print(\"Original DataFrame:\")\n",
    "print(df)\n",
    "\n",
    "# Group by column A\n",
    "grouped = df.groupby('A')\n",
    "\n",
    "# Different aggregations for different columns\n",
    "print(\"\\nDifferent aggregations for different columns:\")\n",
    "print(grouped.agg({'C': 'sum', 'D': 'mean', 'E': ['min', 'max']}))\n",
    "\n",
    "# Alternative: use a dictionary with column names and functions\n",
    "agg_dict = {\n",
    "    'C': 'sum',\n",
    "    'D': 'mean',\n",
    "    'E': ['min', 'max']\n",
    "}\n",
    "print(\"\\nUsing dictionary for aggregation:\")\n",
    "print(grouped.agg(agg_dict))\n",
    "\n",
    "# You can also use named aggregations (pandas >= 0.25.0)\n",
    "try:\n",
    "    print(\"\\nUsing named aggregations:\")\n",
    "    result = grouped.agg(\n",
    "        c_sum=pd.NamedAgg(column='C', aggfunc='sum'),\n",
    "        d_mean=pd.NamedAgg(column='D', aggfunc='mean'),\n",
    "        e_min=pd.NamedAgg(column='E', aggfunc='min'),\n",
    "        e_max=pd.NamedAgg(column='E', aggfunc='max')\n",
    "    )\n",
    "    print(result)\n",
    "except Exception as e:\n",
    "    print(f\"Named aggregation not supported in this pandas version: {e}\")"
   ]
  },
  {
   "cell_type": "markdown",
   "metadata": {},
   "source": [
    "##### 4. Transformation Operations\n",
    "\n",
    "Transformation operations return an object with the same shape as the input, with values computed group-wise."
   ]
  },
  {
   "cell_type": "code",
   "execution_count": 11,
   "metadata": {},
   "outputs": [
    {
     "name": "stdout",
     "output_type": "stream",
     "text": [
      "Standardized data within each group:\n",
      "     B    C    D    E\n",
      "0 -1.0 -1.0 -1.0 -1.0\n",
      "1 -1.0 -1.0 -1.0 -1.0\n",
      "2  0.0  0.0  0.0  0.0\n",
      "3  0.0  0.0  0.0  0.0\n",
      "4  1.0  1.0  1.0  1.0\n",
      "5  1.0  1.0  1.0  1.0\n"
     ]
    }
   ],
   "source": [
    "# Standardize the data within each group\n",
    "print(\"Standardized data within each group:\")\n",
    "print(grouped.transform(lambda x: (x - x.mean()) / x.std()))"
   ]
  },
  {
   "cell_type": "code",
   "execution_count": 12,
   "metadata": {},
   "outputs": [
    {
     "name": "stdout",
     "output_type": "stream",
     "text": [
      "DataFrame with NA values:\n",
      "     A  B    C     D    E\n",
      "0  foo  1  2.5  10.0  100\n",
      "1  bar  2  NaN  20.0  200\n",
      "2  foo  3  4.5  30.0  300\n",
      "3  bar  4  5.5   NaN  400\n",
      "4  foo  5  6.5  50.0  500\n",
      "5  bar  6  7.5  60.0  600\n",
      "\n",
      "Fill NA values with group mean:\n",
      "   B    C     D    E\n",
      "0  1  2.5  10.0  100\n",
      "1  2  6.5  20.0  200\n",
      "2  3  4.5  30.0  300\n",
      "3  4  5.5  40.0  400\n",
      "4  5  6.5  50.0  500\n",
      "5  6  7.5  60.0  600\n"
     ]
    }
   ],
   "source": [
    "# Fill NA values with the group mean\n",
    "df_with_na = df.copy()\n",
    "df_with_na.loc[1, 'C'] = np.nan\n",
    "df_with_na.loc[3, 'D'] = np.nan\n",
    "print(\"DataFrame with NA values:\")\n",
    "print(df_with_na)\n",
    "\n",
    "print(\"\\nFill NA values with group mean:\")\n",
    "print(df_with_na.groupby('A').transform(lambda x: x.fillna(x.mean())))"
   ]
  },
  {
   "cell_type": "markdown",
   "metadata": {},
   "source": [
    "##### 5. Filtration Operations\n",
    "\n",
    "Filtration operations discard some groups based on a condition."
   ]
  },
  {
   "cell_type": "code",
   "execution_count": 13,
   "metadata": {},
   "outputs": [
    {
     "name": "stdout",
     "output_type": "stream",
     "text": [
      "Groups where mean of 'C' > 0:\n",
      "     A  B    C   D    E\n",
      "0  foo  1  2.5  10  100\n",
      "1  bar  2  3.5  20  200\n",
      "2  foo  3  4.5  30  300\n",
      "3  bar  4  5.5  40  400\n",
      "4  foo  5  6.5  50  500\n",
      "5  bar  6  7.5  60  600\n"
     ]
    }
   ],
   "source": [
    "# Filter groups where the mean of column 'C' is greater than 0\n",
    "print(\"Groups where mean of 'C' > 0:\")\n",
    "print(df.groupby('A').filter(lambda x: x['C'].mean() > 0))"
   ]
  },
  {
   "cell_type": "markdown",
   "metadata": {},
   "source": [
    "##### 6. The `apply()` Method\n",
    "\n",
    "The `apply()` method applies a function to each group and combines the results."
   ]
  },
  {
   "cell_type": "code",
   "execution_count": 14,
   "metadata": {},
   "outputs": [
    {
     "name": "stdout",
     "output_type": "stream",
     "text": [
      "Top 2 rows in each group by 'C' value:\n",
      "         A  B    C   D    E\n",
      "A                          \n",
      "bar 5  bar  6  7.5  60  600\n",
      "    3  bar  4  5.5  40  400\n",
      "foo 4  foo  5  6.5  50  500\n",
      "    2  foo  3  4.5  30  300\n"
     ]
    },
    {
     "name": "stderr",
     "output_type": "stream",
     "text": [
      "/var/folders/7y/fzwln1_93mn3js3wyk61_6xm0000gn/T/ipykernel_92489/959031332.py:7: DeprecationWarning: DataFrameGroupBy.apply operated on the grouping columns. This behavior is deprecated, and in a future version of pandas the grouping columns will be excluded from the operation. Either pass `include_groups=False` to exclude the groupings or explicitly select the grouping columns after groupby to silence this warning.\n",
      "  print(df.groupby('A').apply(top_n))\n"
     ]
    }
   ],
   "source": [
    "# Define a function to apply to each group\n",
    "def top_n(group, n=2, column='C'):\n",
    "    return group.sort_values(by=column, ascending=False).head(n)\n",
    "\n",
    "# Apply the function to each group\n",
    "print(\"Top 2 rows in each group by 'C' value:\")\n",
    "print(df.groupby('A').apply(top_n))"
   ]
  },
  {
   "cell_type": "markdown",
   "metadata": {},
   "source": [
    "##### 7. Grouping by Multiple Columns"
   ]
  },
  {
   "cell_type": "code",
   "execution_count": 15,
   "metadata": {},
   "outputs": [
    {
     "name": "stdout",
     "output_type": "stream",
     "text": [
      "Mean of each group (grouped by 'A' and 'B'):\n",
      "         C     D      E\n",
      "A   B                  \n",
      "bar 2  3.5  20.0  200.0\n",
      "    4  5.5  40.0  400.0\n",
      "    6  7.5  60.0  600.0\n",
      "foo 1  2.5  10.0  100.0\n",
      "    3  4.5  30.0  300.0\n",
      "    5  6.5  50.0  500.0\n",
      "\n",
      "Groups:\n",
      "\n",
      "Group name: ('bar', np.int64(2))\n",
      "     A  B    C   D    E\n",
      "1  bar  2  3.5  20  200\n",
      "\n",
      "Group name: ('bar', np.int64(4))\n",
      "     A  B    C   D    E\n",
      "3  bar  4  5.5  40  400\n",
      "\n",
      "Group name: ('bar', np.int64(6))\n",
      "     A  B    C   D    E\n",
      "5  bar  6  7.5  60  600\n",
      "\n",
      "Group name: ('foo', np.int64(1))\n",
      "     A  B    C   D    E\n",
      "0  foo  1  2.5  10  100\n",
      "\n",
      "Group name: ('foo', np.int64(3))\n",
      "     A  B    C   D    E\n",
      "2  foo  3  4.5  30  300\n",
      "\n",
      "Group name: ('foo', np.int64(5))\n",
      "     A  B    C   D    E\n",
      "4  foo  5  6.5  50  500\n"
     ]
    }
   ],
   "source": [
    "# Group by multiple columns\n",
    "grouped_multi = df.groupby(['A', 'B'])\n",
    "\n",
    "# Compute the mean of each group\n",
    "print(\"Mean of each group (grouped by 'A' and 'B'):\")\n",
    "print(grouped_multi.mean())\n",
    "\n",
    "# Get the groups\n",
    "print(\"\\nGroups:\")\n",
    "for name, group in grouped_multi:\n",
    "    print(f\"\\nGroup name: {name}\")\n",
    "    print(group)"
   ]
  },
  {
   "cell_type": "markdown",
   "metadata": {},
   "source": [
    "##### 8. The `Grouper` Object\n",
    "\n",
    "The `Grouper` object provides a flexible way to specify grouping instructions."
   ]
  },
  {
   "cell_type": "code",
   "execution_count": 20,
   "metadata": {},
   "outputs": [
    {
     "name": "stdout",
     "output_type": "stream",
     "text": [
      "DataFrame with datetime index:\n",
      "                   A         B  C\n",
      "2023-01-01  0.496714 -0.463418  Y\n",
      "2023-01-02 -0.138264 -0.465730  Y\n",
      "2023-01-03  0.647689  0.241962  Z\n",
      "2023-01-04  1.523030 -1.913280  Y\n",
      "2023-01-05 -0.234153 -1.724918  Z\n",
      "2023-01-06 -0.234137 -0.562288  Z\n",
      "2023-01-07  1.579213 -1.012831  X\n",
      "2023-01-08  0.767435  0.314247  Z\n",
      "2023-01-09 -0.469474 -0.908024  X\n",
      "2023-01-10  0.542560 -1.412304  Z\n",
      "\n",
      "1. Grouped by 2-day frequency:\n",
      "                   A         B\n",
      "2023-01-01  0.179225 -0.464574\n",
      "2023-01-03  1.085359 -0.835659\n",
      "2023-01-05 -0.234145 -1.143603\n",
      "2023-01-07  1.173324 -0.349292\n",
      "2023-01-09  0.036543 -1.160164\n",
      "\n",
      "2. Added period column:\n",
      "                   A         B  C      period\n",
      "2023-01-01  0.496714 -0.463418  Y  2023-01-01\n",
      "2023-01-02 -0.138264 -0.465730  Y  2023-01-02\n",
      "2023-01-03  0.647689  0.241962  Z  2023-01-03\n",
      "2023-01-04  1.523030 -1.913280  Y  2023-01-04\n",
      "2023-01-05 -0.234153 -1.724918  Z  2023-01-05\n",
      "2023-01-06 -0.234137 -0.562288  Z  2023-01-06\n",
      "2023-01-07  1.579213 -1.012831  X  2023-01-07\n",
      "2023-01-08  0.767435  0.314247  Z  2023-01-08\n",
      "2023-01-09 -0.469474 -0.908024  X  2023-01-09\n",
      "2023-01-10  0.542560 -1.412304  Z  2023-01-10\n",
      "\n",
      "Grouped by period:\n",
      "                   A         B\n",
      "period                        \n",
      "2023-01-01  0.496714 -0.463418\n",
      "2023-01-02 -0.138264 -0.465730\n",
      "2023-01-03  0.647689  0.241962\n",
      "2023-01-04  1.523030 -1.913280\n",
      "2023-01-05 -0.234153 -1.724918\n",
      "2023-01-06 -0.234137 -0.562288\n",
      "2023-01-07  1.579213 -1.012831\n",
      "2023-01-08  0.767435  0.314247\n",
      "2023-01-09 -0.469474 -0.908024\n",
      "2023-01-10  0.542560 -1.412304\n",
      "\n",
      "3. Grouped by categorical column 'C':\n",
      "          A         B\n",
      "C                    \n",
      "X  0.554869 -0.960428\n",
      "Y  0.627160 -0.947476\n",
      "Z  0.297879 -0.628660\n",
      "\n",
      "4. Temporary DataFrame with reset index and time group:\n",
      "       index         A         B  C      period  time_group\n",
      "0 2023-01-01  0.496714 -0.463418  Y  2023-01-01  2023-01-01\n",
      "1 2023-01-02 -0.138264 -0.465730  Y  2023-01-02  2023-01-02\n",
      "2 2023-01-03  0.647689  0.241962  Z  2023-01-03  2023-01-03\n",
      "3 2023-01-04  1.523030 -1.913280  Y  2023-01-04  2023-01-04\n",
      "4 2023-01-05 -0.234153 -1.724918  Z  2023-01-05  2023-01-05\n",
      "\n",
      "Grouped by 'C' and time group:\n",
      "                     A         B\n",
      "C time_group                    \n",
      "X 2023-01-07  1.579213 -1.012831\n",
      "  2023-01-09 -0.469474 -0.908024\n",
      "Y 2023-01-01  0.496714 -0.463418\n",
      "  2023-01-02 -0.138264 -0.465730\n",
      "  2023-01-04  1.523030 -1.913280\n",
      "Z 2023-01-03  0.647689  0.241962\n",
      "  2023-01-05 -0.234153 -1.724918\n",
      "  2023-01-06 -0.234137 -0.562288\n",
      "  2023-01-08  0.767435  0.314247\n",
      "  2023-01-10  0.542560 -1.412304\n"
     ]
    }
   ],
   "source": [
    "import pandas as pd\n",
    "import numpy as np\n",
    "\n",
    "# Set a random seed for reproducibility\n",
    "np.random.seed(42)\n",
    "\n",
    "# Create a DataFrame with datetime index\n",
    "dates = pd.date_range('2023-01-01', periods=10)\n",
    "df_dates = pd.DataFrame({\n",
    "    'A': np.random.randn(10),\n",
    "    'B': np.random.randn(10),\n",
    "    'C': np.random.choice(['X', 'Y', 'Z'], 10)\n",
    "}, index=dates)\n",
    "print(\"DataFrame with datetime index:\")\n",
    "print(df_dates)\n",
    "\n",
    "# 1. Simple grouping by time frequency\n",
    "print(\"\\n1. Grouped by 2-day frequency:\")\n",
    "grouped_by_time = df_dates[['A', 'B']].groupby(pd.Grouper(freq='2D')).mean()\n",
    "print(grouped_by_time)\n",
    "\n",
    "# 2. First convert the index to period, then group\n",
    "df_dates['period'] = df_dates.index.to_period('3D')\n",
    "print(\"\\n2. Added period column:\")\n",
    "print(df_dates)\n",
    "\n",
    "print(\"\\nGrouped by period:\")\n",
    "grouped_by_period = df_dates.groupby('period')[['A', 'B']].mean()\n",
    "print(grouped_by_period)\n",
    "\n",
    "# 3. Group by categorical column only\n",
    "print(\"\\n3. Grouped by categorical column 'C':\")\n",
    "grouped_by_cat = df_dates.groupby('C')[['A', 'B']].mean()\n",
    "print(grouped_by_cat)\n",
    "\n",
    "# 4. For combined grouping, create a temporary DataFrame with reset index\n",
    "temp_df = df_dates.reset_index()\n",
    "temp_df['time_group'] = temp_df['index'].dt.to_period('3D')\n",
    "print(\"\\n4. Temporary DataFrame with reset index and time group:\")\n",
    "print(temp_df.head())\n",
    "\n",
    "print(\"\\nGrouped by 'C' and time group:\")\n",
    "combined_group = temp_df.groupby(['C', 'time_group'])[['A', 'B']].mean()\n",
    "print(combined_group)"
   ]
  },
  {
   "cell_type": "markdown",
   "metadata": {},
   "source": [
    "##### 9. Grouping by Index Levels\n",
    "\n",
    "You can group by index levels in a MultiIndex DataFrame."
   ]
  },
  {
   "cell_type": "code",
   "execution_count": 21,
   "metadata": {},
   "outputs": [
    {
     "name": "stdout",
     "output_type": "stream",
     "text": [
      "MultiIndex DataFrame:\n",
      "                     C         D\n",
      "first second                    \n",
      "A     1      -0.525123  0.779193\n",
      "      2       1.912771 -1.101098\n",
      "B     1      -2.026720  1.130228\n",
      "      2       1.119424  0.373119\n",
      "\n",
      "Grouped by level 'first':\n",
      "              C         D\n",
      "first                    \n",
      "A      0.693824 -0.160953\n",
      "B     -0.453648  0.751674\n",
      "\n",
      "Grouped by level 'second':\n",
      "               C         D\n",
      "second                    \n",
      "1      -1.275921  0.954710\n",
      "2       1.516097 -0.363989\n",
      "\n",
      "Grouped by both levels:\n",
      "                     C         D\n",
      "first second                    \n",
      "A     1      -0.525123  0.779193\n",
      "      2       1.912771 -1.101098\n",
      "B     1      -2.026720  1.130228\n",
      "      2       1.119424  0.373119\n"
     ]
    }
   ],
   "source": [
    "# Create a MultiIndex DataFrame\n",
    "arrays = [['A', 'A', 'B', 'B'], [1, 2, 1, 2]]\n",
    "index = pd.MultiIndex.from_arrays(arrays, names=('first', 'second'))\n",
    "df_multi = pd.DataFrame({'C': np.random.randn(4), 'D': np.random.randn(4)}, index=index)\n",
    "print(\"MultiIndex DataFrame:\")\n",
    "print(df_multi)\n",
    "\n",
    "# Group by level 'first'\n",
    "print(\"\\nGrouped by level 'first':\")\n",
    "print(df_multi.groupby(level='first').mean())\n",
    "\n",
    "# Group by level 'second'\n",
    "print(\"\\nGrouped by level 'second':\")\n",
    "print(df_multi.groupby(level='second').mean())\n",
    "\n",
    "# Group by both levels\n",
    "print(\"\\nGrouped by both levels:\")\n",
    "print(df_multi.groupby(level=['first', 'second']).mean())"
   ]
  },
  {
   "cell_type": "markdown",
   "metadata": {},
   "source": [
    "##### 10. Other GroupBy Methods"
   ]
  },
  {
   "cell_type": "code",
   "execution_count": 22,
   "metadata": {},
   "outputs": [
    {
     "name": "stdout",
     "output_type": "stream",
     "text": [
      "Sample DataFrame:\n",
      "     A  B    C\n",
      "0  foo  1  2.0\n",
      "1  bar  2  5.0\n",
      "2  foo  3  8.0\n",
      "3  bar  4  1.0\n",
      "4  foo  5  2.0\n",
      "5  bar  6  9.0\n",
      "\n",
      "Cumulative sum within each group:\n",
      "    B     C\n",
      "0   1   2.0\n",
      "1   2   5.0\n",
      "2   4  10.0\n",
      "3   6   6.0\n",
      "4   9  12.0\n",
      "5  12  15.0\n",
      "\n",
      "Difference between consecutive rows within each group:\n",
      "     B    C\n",
      "0  NaN  NaN\n",
      "1  NaN  NaN\n",
      "2  2.0  6.0\n",
      "3  2.0 -4.0\n",
      "4  2.0 -6.0\n",
      "5  2.0  8.0\n",
      "\n",
      "Rank within each group:\n",
      "     B    C\n",
      "0  1.0  1.5\n",
      "1  1.0  2.0\n",
      "2  2.0  3.0\n",
      "3  2.0  1.0\n",
      "4  3.0  1.5\n",
      "5  3.0  3.0\n",
      "\n",
      "First row of each group:\n",
      "     B    C\n",
      "A          \n",
      "bar  2  5.0\n",
      "foo  1  2.0\n",
      "\n",
      "Last row of each group:\n",
      "     B    C\n",
      "A          \n",
      "bar  6  9.0\n",
      "foo  5  2.0\n"
     ]
    }
   ],
   "source": [
    "# Create a sample DataFrame\n",
    "df2 = pd.DataFrame({\n",
    "    'A': ['foo', 'bar', 'foo', 'bar', 'foo', 'bar'],\n",
    "    'B': [1, 2, 3, 4, 5, 6],\n",
    "    'C': [2.0, 5.0, 8.0, 1.0, 2.0, 9.0]\n",
    "})\n",
    "print(\"Sample DataFrame:\")\n",
    "print(df2)\n",
    "\n",
    "# Group by column 'A'\n",
    "grouped = df2.groupby('A')\n",
    "\n",
    "# Compute the cumulative sum within each group\n",
    "print(\"\\nCumulative sum within each group:\")\n",
    "print(grouped.cumsum())\n",
    "\n",
    "# Compute the difference between consecutive rows within each group\n",
    "print(\"\\nDifference between consecutive rows within each group:\")\n",
    "print(grouped.diff())\n",
    "\n",
    "# Compute the rank within each group\n",
    "print(\"\\nRank within each group:\")\n",
    "print(grouped.rank())\n",
    "\n",
    "# Compute the first and last rows of each group\n",
    "print(\"\\nFirst row of each group:\")\n",
    "print(grouped.first())\n",
    "print(\"\\nLast row of each group:\")\n",
    "print(grouped.last())"
   ]
  },
  {
   "cell_type": "markdown",
   "metadata": {},
   "source": [
    "##### 11. Groupby with Custom Aggregation Functions"
   ]
  },
  {
   "cell_type": "code",
   "execution_count": 23,
   "metadata": {},
   "outputs": [
    {
     "name": "stdout",
     "output_type": "stream",
     "text": [
      "Custom aggregation functions:\n",
      "      B                    C                       \n",
      "    sum mean range_func  min  max custom_percentile\n",
      "A                                                  \n",
      "bar  12  4.0          4  1.0  9.0               7.0\n",
      "foo   9  3.0          4  2.0  8.0               5.0\n"
     ]
    }
   ],
   "source": [
    "# Define custom aggregation functions\n",
    "def range_func(x):\n",
    "    return x.max() - x.min()\n",
    "\n",
    "def custom_percentile(x):\n",
    "    return np.percentile(x, q=75)\n",
    "\n",
    "# Apply custom aggregation functions\n",
    "print(\"Custom aggregation functions:\")\n",
    "print(df2.groupby('A').agg({\n",
    "    'B': ['sum', 'mean', range_func],\n",
    "    'C': ['min', 'max', custom_percentile]\n",
    "}))"
   ]
  },
  {
   "cell_type": "markdown",
   "metadata": {},
   "source": [
    "##### 12. Named Aggregation"
   ]
  },
  {
   "cell_type": "code",
   "execution_count": 24,
   "metadata": {},
   "outputs": [
    {
     "name": "stdout",
     "output_type": "stream",
     "text": [
      "Named aggregation:\n",
      "     b_sum  b_mean  c_min  c_max\n",
      "A                               \n",
      "bar     12     4.0    1.0    9.0\n",
      "foo      9     3.0    2.0    8.0\n"
     ]
    }
   ],
   "source": [
    "# Named aggregation\n",
    "print(\"Named aggregation:\")\n",
    "print(df2.groupby('A').agg(\n",
    "    b_sum=('B', 'sum'),\n",
    "    b_mean=('B', 'mean'),\n",
    "    c_min=('C', 'min'),\n",
    "    c_max=('C', 'max')\n",
    "))"
   ]
  },
  {
   "cell_type": "markdown",
   "metadata": {},
   "source": [
    "##### 13. The `pipe()` Method\n",
    "\n",
    "The `pipe()` method allows you to chain together functions that expect a GroupBy object."
   ]
  },
  {
   "cell_type": "code",
   "execution_count": 25,
   "metadata": {},
   "outputs": [
    {
     "name": "stdout",
     "output_type": "stream",
     "text": [
      "Using pipe to chain operations:\n",
      "       B    C\n",
      "A            \n",
      "bar  5.0  6.0\n",
      "foo  4.0  5.0\n"
     ]
    }
   ],
   "source": [
    "# Define a function that expects a GroupBy object\n",
    "def grouped_mean_plus_1(grouped):\n",
    "    return grouped.mean() + 1\n",
    "\n",
    "# Use pipe to chain operations\n",
    "print(\"Using pipe to chain operations:\")\n",
    "print(df2.groupby('A').pipe(grouped_mean_plus_1))"
   ]
  },
  {
   "cell_type": "code",
   "execution_count": null,
   "metadata": {},
   "outputs": [],
   "source": []
  },
  {
   "cell_type": "code",
   "execution_count": null,
   "metadata": {},
   "outputs": [],
   "source": []
  }
 ],
 "metadata": {
  "kernelspec": {
   "display_name": "venv",
   "language": "python",
   "name": "python3"
  },
  "language_info": {
   "codemirror_mode": {
    "name": "ipython",
    "version": 3
   },
   "file_extension": ".py",
   "mimetype": "text/x-python",
   "name": "python",
   "nbconvert_exporter": "python",
   "pygments_lexer": "ipython3",
   "version": "3.13.2"
  }
 },
 "nbformat": 4,
 "nbformat_minor": 4
}
