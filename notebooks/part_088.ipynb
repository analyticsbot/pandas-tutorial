{
 "cells": [
  {
   "cell_type": "markdown",
   "metadata": {},
   "source": [
    "#### Pandas Part 88: GroupBy Operations\n",
    "\n",
    "This notebook explores GroupBy operations in pandas, which allow you to split data into groups, apply functions to each group, and combine the results."
   ]
  },
  {
   "cell_type": "code",
   "execution_count": null,
   "metadata": {},
   "outputs": [],
   "source": [
    "import pandas as pd\n",
    "import numpy as np"
   ]
  },
  {
   "cell_type": "markdown",
   "metadata": {},
   "source": [
    "##### 1. Creating a Sample DataFrame"
   ]
  },
  {
   "cell_type": "code",
   "execution_count": null,
   "metadata": {},
   "outputs": [],
   "source": [
    "# Create a sample DataFrame\n",
    "df = pd.DataFrame({\n",
    "    'A': ['foo', 'bar', 'foo', 'bar', 'foo', 'bar', 'foo', 'foo'],\n",
    "    'B': ['one', 'one', 'two', 'three', 'two', 'two', 'one', 'three'],\n",
    "    'C': np.random.randn(8),\n",
    "    'D': np.random.randn(8),\n",
    "    'E': np.random.randint(0, 10, 8)\n",
    "})\n",
    "\n",
    "print(\"Sample DataFrame:\")\n",
    "print(df)"
   ]
  },
  {
   "cell_type": "markdown",
   "metadata": {},
   "source": [
    "##### 2. Basic GroupBy Operations\n",
    "\n",
    "The `groupby()` method is used to split the data into groups based on some criteria."
   ]
  },
  {
   "cell_type": "code",
   "execution_count": null,
   "metadata": {},
   "outputs": [],
   "source": [
    "# Group by column 'A'\n",
    "grouped = df.groupby('A')\n",
    "\n",
    "# Get the groups\n",
    "print(\"Groups:\")\n",
    "for name, group in grouped:\n",
    "    print(f\"\\nGroup name: {name}\")\n",
    "    print(group)"
   ]
  },
  {
   "cell_type": "code",
   "execution_count": null,
   "metadata": {},
   "outputs": [],
   "source": [
    "# Get the group dictionary\n",
    "print(\"Group dictionary:\")\n",
    "print(grouped.groups)\n",
    "\n",
    "# Get a specific group\n",
    "print(\"\\nGroup 'foo':\")\n",
    "print(grouped.get_group('foo'))"
   ]
  },
  {
   "cell_type": "markdown",
   "metadata": {},
   "source": [
    "##### 3. Aggregation Operations\n",
    "\n",
    "Aggregation operations compute a summary statistic for each group."
   ]
  },
  {
   "cell_type": "code",
   "execution_count": null,
   "metadata": {},
   "outputs": [],
   "source": [
    "# Compute the mean of each group\n",
    "print(\"Mean of each group:\")\n",
    "print(grouped.mean())\n",
    "\n",
    "# Compute the sum of each group\n",
    "print(\"\\nSum of each group:\")\n",
    "print(grouped.sum())\n",
    "\n",
    "# Compute the size of each group\n",
    "print(\"\\nSize of each group:\")\n",
    "print(grouped.size())"
   ]
  },
  {
   "cell_type": "code",
   "execution_count": null,
   "metadata": {},
   "outputs": [],
   "source": [
    "# Compute multiple aggregations at once\n",
    "print(\"Multiple aggregations:\")\n",
    "print(grouped.agg(['mean', 'sum', 'count', 'std']))"
   ]
  },
  {
   "cell_type": "code",
   "execution_count": null,
   "metadata": {},
   "outputs": [],
   "source": [
    "# Different aggregations for different columns\n",
    "print(\"Different aggregations for different columns:\")\n",
    "print(grouped.agg({'C': 'sum', 'D': 'mean', 'E': ['min', 'max']}))"
   ]
  },
  {
   "cell_type": "markdown",
   "metadata": {},
   "source": [
    "##### 4. Transformation Operations\n",
    "\n",
    "Transformation operations return an object with the same shape as the input, with values computed group-wise."
   ]
  },
  {
   "cell_type": "code",
   "execution_count": null,
   "metadata": {},
   "outputs": [],
   "source": [
    "# Standardize the data within each group\n",
    "print(\"Standardized data within each group:\")\n",
    "print(grouped.transform(lambda x: (x - x.mean()) / x.std()))"
   ]
  },
  {
   "cell_type": "code",
   "execution_count": null,
   "metadata": {},
   "outputs": [],
   "source": [
    "# Fill NA values with the group mean\n",
    "df_with_na = df.copy()\n",
    "df_with_na.loc[1, 'C'] = np.nan\n",
    "df_with_na.loc[3, 'D'] = np.nan\n",
    "print(\"DataFrame with NA values:\")\n",
    "print(df_with_na)\n",
    "\n",
    "print(\"\\nFill NA values with group mean:\")\n",
    "print(df_with_na.groupby('A').transform(lambda x: x.fillna(x.mean())))"
   ]
  },
  {
   "cell_type": "markdown",
   "metadata": {},
   "source": [
    "##### 5. Filtration Operations\n",
    "\n",
    "Filtration operations discard some groups based on a condition."
   ]
  },
  {
   "cell_type": "code",
   "execution_count": null,
   "metadata": {},
   "outputs": [],
   "source": [
    "# Filter groups where the mean of column 'C' is greater than 0\n",
    "print(\"Groups where mean of 'C' > 0:\")\n",
    "print(df.groupby('A').filter(lambda x: x['C'].mean() > 0))"
   ]
  },
  {
   "cell_type": "markdown",
   "metadata": {},
   "source": [
    "##### 6. The `apply()` Method\n",
    "\n",
    "The `apply()` method applies a function to each group and combines the results."
   ]
  },
  {
   "cell_type": "code",
   "execution_count": null,
   "metadata": {},
   "outputs": [],
   "source": [
    "# Define a function to apply to each group\n",
    "def top_n(group, n=2, column='C'):\n",
    "    return group.sort_values(by=column, ascending=False).head(n)\n",
    "\n",
    "# Apply the function to each group\n",
    "print(\"Top 2 rows in each group by 'C' value:\")\n",
    "print(df.groupby('A').apply(top_n))"
   ]
  },
  {
   "cell_type": "markdown",
   "metadata": {},
   "source": [
    "##### 7. Grouping by Multiple Columns"
   ]
  },
  {
   "cell_type": "code",
   "execution_count": null,
   "metadata": {},
   "outputs": [],
   "source": [
    "# Group by multiple columns\n",
    "grouped_multi = df.groupby(['A', 'B'])\n",
    "\n",
    "# Compute the mean of each group\n",
    "print(\"Mean of each group (grouped by 'A' and 'B'):\")\n",
    "print(grouped_multi.mean())\n",
    "\n",
    "# Get the groups\n",
    "print(\"\\nGroups:\")\n",
    "for name, group in grouped_multi:\n",
    "    print(f\"\\nGroup name: {name}\")\n",
    "    print(group)"
   ]
  },
  {
   "cell_type": "markdown",
   "metadata": {},
   "source": [
    "##### 8. The `Grouper` Object\n",
    "\n",
    "The `Grouper` object provides a flexible way to specify grouping instructions."
   ]
  },
  {
   "cell_type": "code",
   "execution_count": null,
   "metadata": {},
   "outputs": [],
   "source": [
    "# Create a DataFrame with datetime index\n",
    "dates = pd.date_range('2023-01-01', periods=10)\n",
    "df_dates = pd.DataFrame({\n",
    "    'A': np.random.randn(10),\n",
    "    'B': np.random.randn(10),\n",
    "    'C': np.random.choice(['X', 'Y', 'Z'], 10)\n",
    "}, index=dates)\n",
    "print(\"DataFrame with datetime index:\")\n",
    "print(df_dates)\n",
    "\n",
    "# Group by 2-day frequency\n",
    "print(\"\\nGrouped by 2-day frequency:\")\n",
    "print(df_dates.groupby(pd.Grouper(freq='2D')).mean())\n",
    "\n",
    "# Group by column 'C' and 3-day frequency\n",
    "print(\"\\nGrouped by column 'C' and 3-day frequency:\")\n",
    "print(df_dates.groupby(['C', pd.Grouper(freq='3D')]).mean())"
   ]
  },
  {
   "cell_type": "markdown",
   "metadata": {},
   "source": [
    "##### 9. Grouping by Index Levels\n",
    "\n",
    "You can group by index levels in a MultiIndex DataFrame."
   ]
  },
  {
   "cell_type": "code",
   "execution_count": null,
   "metadata": {},
   "outputs": [],
   "source": [
    "# Create a MultiIndex DataFrame\n",
    "arrays = [['A', 'A', 'B', 'B'], [1, 2, 1, 2]]\n",
    "index = pd.MultiIndex.from_arrays(arrays, names=('first', 'second'))\n",
    "df_multi = pd.DataFrame({'C': np.random.randn(4), 'D': np.random.randn(4)}, index=index)\n",
    "print(\"MultiIndex DataFrame:\")\n",
    "print(df_multi)\n",
    "\n",
    "# Group by level 'first'\n",
    "print(\"\\nGrouped by level 'first':\")\n",
    "print(df_multi.groupby(level='first').mean())\n",
    "\n",
    "# Group by level 'second'\n",
    "print(\"\\nGrouped by level 'second':\")\n",
    "print(df_multi.groupby(level='second').mean())\n",
    "\n",
    "# Group by both levels\n",
    "print(\"\\nGrouped by both levels:\")\n",
    "print(df_multi.groupby(level=['first', 'second']).mean())"
   ]
  },
  {
   "cell_type": "markdown",
   "metadata": {},
   "source": [
    "##### 10. Other GroupBy Methods"
   ]
  },
  {
   "cell_type": "code",
   "execution_count": null,
   "metadata": {},
   "outputs": [],
   "source": [
    "# Create a sample DataFrame\n",
    "df2 = pd.DataFrame({\n",
    "    'A': ['foo', 'bar', 'foo', 'bar', 'foo', 'bar'],\n",
    "    'B': [1, 2, 3, 4, 5, 6],\n",
    "    'C': [2.0, 5.0, 8.0, 1.0, 2.0, 9.0]\n",
    "})\n",
    "print(\"Sample DataFrame:\")\n",
    "print(df2)\n",
    "\n",
    "# Group by column 'A'\n",
    "grouped = df2.groupby('A')\n",
    "\n",
    "# Compute the cumulative sum within each group\n",
    "print(\"\\nCumulative sum within each group:\")\n",
    "print(grouped.cumsum())\n",
    "\n",
    "# Compute the difference between consecutive rows within each group\n",
    "print(\"\\nDifference between consecutive rows within each group:\")\n",
    "print(grouped.diff())\n",
    "\n",
    "# Compute the rank within each group\n",
    "print(\"\\nRank within each group:\")\n",
    "print(grouped.rank())\n",
    "\n",
    "# Compute the first and last rows of each group\n",
    "print(\"\\nFirst row of each group:\")\n",
    "print(grouped.first())\n",
    "print(\"\\nLast row of each group:\")\n",
    "print(grouped.last())"
   ]
  },
  {
   "cell_type": "markdown",
   "metadata": {},
   "source": [
    "##### 11. Groupby with Custom Aggregation Functions"
   ]
  },
  {
   "cell_type": "code",
   "execution_count": null,
   "metadata": {},
   "outputs": [],
   "source": [
    "# Define custom aggregation functions\n",
    "def range_func(x):\n",
    "    return x.max() - x.min()\n",
    "\n",
    "def custom_percentile(x):\n",
    "    return np.percentile(x, q=75)\n",
    "\n",
    "# Apply custom aggregation functions\n",
    "print(\"Custom aggregation functions:\")\n",
    "print(df2.groupby('A').agg({\n",
    "    'B': ['sum', 'mean', range_func],\n",
    "    'C': ['min', 'max', custom_percentile]\n",
    "}))"
   ]
  },
  {
   "cell_type": "markdown",
   "metadata": {},
   "source": [
    "##### 12. Named Aggregation"
   ]
  },
  {
   "cell_type": "code",
   "execution_count": null,
   "metadata": {},
   "outputs": [],
   "source": [
    "# Named aggregation\n",
    "print(\"Named aggregation:\")\n",
    "print(df2.groupby('A').agg(\n",
    "    b_sum=('B', 'sum'),\n",
    "    b_mean=('B', 'mean'),\n",
    "    c_min=('C', 'min'),\n",
    "    c_max=('C', 'max')\n",
    "))"
   ]
  },
  {
   "cell_type": "markdown",
   "metadata": {},
   "source": [
    "##### 13. The `pipe()` Method\n",
    "\n",
    "The `pipe()` method allows you to chain together functions that expect a GroupBy object."
   ]
  },
  {
   "cell_type": "code",
   "execution_count": null,
   "metadata": {},
   "outputs": [],
   "source": [
    "# Define a function that expects a GroupBy object\n",
    "def grouped_mean_plus_1(grouped):\n",
    "    return grouped.mean() + 1\n",
    "\n",
    "# Use pipe to chain operations\n",
    "print(\"Using pipe to chain operations:\")\n",
    "print(df2.groupby('A').pipe(grouped_mean_plus_1))"
   ]
  }
 ],
 "metadata": {
  "kernelspec": {
   "display_name": "Python 3",
   "language": "python",
   "name": "python3"
  },
  "language_info": {
   "codemirror_mode": {
    "name": "ipython",
    "version": 3
   },
   "file_extension": ".py",
   "mimetype": "text/x-python",
   "name": "python",
   "nbconvert_exporter": "python",
   "pygments_lexer": "ipython3",
   "version": "3.8.5"
  }
 },
 "nbformat": 4,
 "nbformat_minor": 4
}