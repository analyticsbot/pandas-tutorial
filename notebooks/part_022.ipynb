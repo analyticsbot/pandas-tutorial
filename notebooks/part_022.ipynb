{
 "cells": [
  {
   "cell_type": "markdown",
   "metadata": {},
   "source": [
    "#### Part 22: Working with Missing Data in Pandas\n",
    "\n",
    "In this notebook, we'll explore:\n",
    "- Additional string methods in pandas\n",
    "- Working with missing data (NA values)\n",
    "- Handling, detecting, and replacing missing values\n",
    "\n",
    "##### Setup\n",
    "First, let's import the necessary libraries:"
   ]
  },
  {
   "cell_type": "code",
   "execution_count": 1,
   "metadata": {},
   "outputs": [],
   "source": [
    "import pandas as pd\n",
    "import numpy as np"
   ]
  },
  {
   "cell_type": "markdown",
   "metadata": {},
   "source": [
    "##### 1. Additional String Methods\n",
    "\n",
    "Let's first look at some additional string methods that were not covered in the previous notebook:"
   ]
  },
  {
   "cell_type": "code",
   "execution_count": 2,
   "metadata": {},
   "outputs": [
    {
     "name": "stdout",
     "output_type": "stream",
     "text": [
      "Capitalize:\n",
      "0       A\n",
      "1       B\n",
      "2       C\n",
      "3    Aaba\n",
      "4    Baca\n",
      "5    Caba\n",
      "6     Dog\n",
      "7     Cat\n",
      "dtype: string\n",
      "\n",
      "Find 'a':\n",
      "0    -1\n",
      "1    -1\n",
      "2    -1\n",
      "3     1\n",
      "4     1\n",
      "5    -1\n",
      "6    -1\n",
      "7     1\n",
      "dtype: Int64\n",
      "\n",
      "Is alphanumeric:\n",
      "0    True\n",
      "1    True\n",
      "2    True\n",
      "3    True\n",
      "4    True\n",
      "5    True\n",
      "6    True\n",
      "7    True\n",
      "dtype: boolean\n",
      "\n",
      "Is alphabetic:\n",
      "0    True\n",
      "1    True\n",
      "2    True\n",
      "3    True\n",
      "4    True\n",
      "5    True\n",
      "6    True\n",
      "7    True\n",
      "dtype: boolean\n"
     ]
    }
   ],
   "source": [
    "# Create a sample Series\n",
    "s = pd.Series(['A', 'B', 'C', 'Aaba', 'Baca', 'CABA', 'dog', 'cat'], dtype=\"string\")\n",
    "\n",
    "# Capitalize\n",
    "print(\"Capitalize:\")\n",
    "print(s.str.capitalize())\n",
    "\n",
    "# Find the position of a substring\n",
    "print(\"\\nFind 'a':\")\n",
    "print(s.str.find('a'))\n",
    "\n",
    "# Check if strings are alphanumeric\n",
    "print(\"\\nIs alphanumeric:\")\n",
    "print(s.str.isalnum())\n",
    "\n",
    "# Check if strings are alphabetic\n",
    "print(\"\\nIs alphabetic:\")\n",
    "print(s.str.isalpha())"
   ]
  },
  {
   "cell_type": "markdown",
   "metadata": {},
   "source": [
    "##### 2. Working with Missing Data\n",
    "\n",
    "### 2.1 Values Considered \"Missing\"\n",
    "\n",
    "In pandas, several values are treated as missing:\n",
    "- `NaN` (Not a Number): Default missing value marker for computational speed and convenience\n",
    "- `None`: Python's built-in null object\n",
    "- `NaT` (Not a Time): Missing value for datetime data\n",
    "\n",
    "Let's create a DataFrame with some missing values:"
   ]
  },
  {
   "cell_type": "code",
   "execution_count": 3,
   "metadata": {},
   "outputs": [
    {
     "data": {
      "text/html": [
       "<div>\n",
       "<style scoped>\n",
       "    .dataframe tbody tr th:only-of-type {\n",
       "        vertical-align: middle;\n",
       "    }\n",
       "\n",
       "    .dataframe tbody tr th {\n",
       "        vertical-align: top;\n",
       "    }\n",
       "\n",
       "    .dataframe thead th {\n",
       "        text-align: right;\n",
       "    }\n",
       "</style>\n",
       "<table border=\"1\" class=\"dataframe\">\n",
       "  <thead>\n",
       "    <tr style=\"text-align: right;\">\n",
       "      <th></th>\n",
       "      <th>one</th>\n",
       "      <th>two</th>\n",
       "      <th>three</th>\n",
       "      <th>four</th>\n",
       "      <th>five</th>\n",
       "    </tr>\n",
       "  </thead>\n",
       "  <tbody>\n",
       "    <tr>\n",
       "      <th>a</th>\n",
       "      <td>1.447213</td>\n",
       "      <td>0.983156</td>\n",
       "      <td>0.673623</td>\n",
       "      <td>bar</td>\n",
       "      <td>True</td>\n",
       "    </tr>\n",
       "    <tr>\n",
       "      <th>c</th>\n",
       "      <td>-0.755494</td>\n",
       "      <td>0.650344</td>\n",
       "      <td>-1.073701</td>\n",
       "      <td>bar</td>\n",
       "      <td>False</td>\n",
       "    </tr>\n",
       "    <tr>\n",
       "      <th>e</th>\n",
       "      <td>0.009665</td>\n",
       "      <td>0.692197</td>\n",
       "      <td>0.858147</td>\n",
       "      <td>bar</td>\n",
       "      <td>True</td>\n",
       "    </tr>\n",
       "    <tr>\n",
       "      <th>f</th>\n",
       "      <td>1.387295</td>\n",
       "      <td>-1.342553</td>\n",
       "      <td>0.538517</td>\n",
       "      <td>bar</td>\n",
       "      <td>True</td>\n",
       "    </tr>\n",
       "    <tr>\n",
       "      <th>h</th>\n",
       "      <td>0.458777</td>\n",
       "      <td>-1.429637</td>\n",
       "      <td>-0.407609</td>\n",
       "      <td>bar</td>\n",
       "      <td>True</td>\n",
       "    </tr>\n",
       "  </tbody>\n",
       "</table>\n",
       "</div>"
      ],
      "text/plain": [
       "        one       two     three four   five\n",
       "a  1.447213  0.983156  0.673623  bar   True\n",
       "c -0.755494  0.650344 -1.073701  bar  False\n",
       "e  0.009665  0.692197  0.858147  bar   True\n",
       "f  1.387295 -1.342553  0.538517  bar   True\n",
       "h  0.458777 -1.429637 -0.407609  bar   True"
      ]
     },
     "execution_count": 3,
     "metadata": {},
     "output_type": "execute_result"
    }
   ],
   "source": [
    "# Create a DataFrame with random values\n",
    "df = pd.DataFrame(np.random.randn(5, 3), \n",
    "                 index=['a', 'c', 'e', 'f', 'h'],\n",
    "                 columns=['one', 'two', 'three'])\n",
    "\n",
    "# Add some non-numeric columns\n",
    "df['four'] = 'bar'\n",
    "df['five'] = df['one'] > 0\n",
    "\n",
    "# Display the DataFrame\n",
    "df"
   ]
  },
  {
   "cell_type": "markdown",
   "metadata": {},
   "source": [
    "Now, let's reindex the DataFrame to introduce missing values:"
   ]
  },
  {
   "cell_type": "code",
   "execution_count": 4,
   "metadata": {},
   "outputs": [
    {
     "data": {
      "text/html": [
       "<div>\n",
       "<style scoped>\n",
       "    .dataframe tbody tr th:only-of-type {\n",
       "        vertical-align: middle;\n",
       "    }\n",
       "\n",
       "    .dataframe tbody tr th {\n",
       "        vertical-align: top;\n",
       "    }\n",
       "\n",
       "    .dataframe thead th {\n",
       "        text-align: right;\n",
       "    }\n",
       "</style>\n",
       "<table border=\"1\" class=\"dataframe\">\n",
       "  <thead>\n",
       "    <tr style=\"text-align: right;\">\n",
       "      <th></th>\n",
       "      <th>one</th>\n",
       "      <th>two</th>\n",
       "      <th>three</th>\n",
       "      <th>four</th>\n",
       "      <th>five</th>\n",
       "    </tr>\n",
       "  </thead>\n",
       "  <tbody>\n",
       "    <tr>\n",
       "      <th>a</th>\n",
       "      <td>1.447213</td>\n",
       "      <td>0.983156</td>\n",
       "      <td>0.673623</td>\n",
       "      <td>bar</td>\n",
       "      <td>True</td>\n",
       "    </tr>\n",
       "    <tr>\n",
       "      <th>b</th>\n",
       "      <td>NaN</td>\n",
       "      <td>NaN</td>\n",
       "      <td>NaN</td>\n",
       "      <td>NaN</td>\n",
       "      <td>NaN</td>\n",
       "    </tr>\n",
       "    <tr>\n",
       "      <th>c</th>\n",
       "      <td>-0.755494</td>\n",
       "      <td>0.650344</td>\n",
       "      <td>-1.073701</td>\n",
       "      <td>bar</td>\n",
       "      <td>False</td>\n",
       "    </tr>\n",
       "    <tr>\n",
       "      <th>d</th>\n",
       "      <td>NaN</td>\n",
       "      <td>NaN</td>\n",
       "      <td>NaN</td>\n",
       "      <td>NaN</td>\n",
       "      <td>NaN</td>\n",
       "    </tr>\n",
       "    <tr>\n",
       "      <th>e</th>\n",
       "      <td>0.009665</td>\n",
       "      <td>0.692197</td>\n",
       "      <td>0.858147</td>\n",
       "      <td>bar</td>\n",
       "      <td>True</td>\n",
       "    </tr>\n",
       "    <tr>\n",
       "      <th>f</th>\n",
       "      <td>1.387295</td>\n",
       "      <td>-1.342553</td>\n",
       "      <td>0.538517</td>\n",
       "      <td>bar</td>\n",
       "      <td>True</td>\n",
       "    </tr>\n",
       "    <tr>\n",
       "      <th>g</th>\n",
       "      <td>NaN</td>\n",
       "      <td>NaN</td>\n",
       "      <td>NaN</td>\n",
       "      <td>NaN</td>\n",
       "      <td>NaN</td>\n",
       "    </tr>\n",
       "    <tr>\n",
       "      <th>h</th>\n",
       "      <td>0.458777</td>\n",
       "      <td>-1.429637</td>\n",
       "      <td>-0.407609</td>\n",
       "      <td>bar</td>\n",
       "      <td>True</td>\n",
       "    </tr>\n",
       "  </tbody>\n",
       "</table>\n",
       "</div>"
      ],
      "text/plain": [
       "        one       two     three four   five\n",
       "a  1.447213  0.983156  0.673623  bar   True\n",
       "b       NaN       NaN       NaN  NaN    NaN\n",
       "c -0.755494  0.650344 -1.073701  bar  False\n",
       "d       NaN       NaN       NaN  NaN    NaN\n",
       "e  0.009665  0.692197  0.858147  bar   True\n",
       "f  1.387295 -1.342553  0.538517  bar   True\n",
       "g       NaN       NaN       NaN  NaN    NaN\n",
       "h  0.458777 -1.429637 -0.407609  bar   True"
      ]
     },
     "execution_count": 4,
     "metadata": {},
     "output_type": "execute_result"
    }
   ],
   "source": [
    "# Reindex to introduce missing values\n",
    "df2 = df.reindex(['a', 'b', 'c', 'd', 'e', 'f', 'g', 'h'])\n",
    "df2"
   ]
  },
  {
   "cell_type": "markdown",
   "metadata": {},
   "source": [
    "### 2.2 Detecting Missing Values\n",
    "\n",
    "To detect missing values, we can use the `isna()` and `notna()` methods:"
   ]
  },
  {
   "cell_type": "code",
   "execution_count": 5,
   "metadata": {},
   "outputs": [
    {
     "name": "stdout",
     "output_type": "stream",
     "text": [
      "Missing values (isna):\n",
      "     one    two  three   four   five\n",
      "a  False  False  False  False  False\n",
      "b   True   True   True   True   True\n",
      "c  False  False  False  False  False\n",
      "d   True   True   True   True   True\n",
      "e  False  False  False  False  False\n",
      "f  False  False  False  False  False\n",
      "g   True   True   True   True   True\n",
      "h  False  False  False  False  False\n",
      "\n",
      "Non-missing values (notna):\n",
      "     one    two  three   four   five\n",
      "a   True   True   True   True   True\n",
      "b  False  False  False  False  False\n",
      "c   True   True   True   True   True\n",
      "d  False  False  False  False  False\n",
      "e   True   True   True   True   True\n",
      "f   True   True   True   True   True\n",
      "g  False  False  False  False  False\n",
      "h   True   True   True   True   True\n"
     ]
    }
   ],
   "source": [
    "# Detect missing values\n",
    "print(\"Missing values (isna):\")\n",
    "print(df2.isna())\n",
    "\n",
    "# Detect non-missing values\n",
    "print(\"\\nNon-missing values (notna):\")\n",
    "print(df2.notna())"
   ]
  },
  {
   "cell_type": "markdown",
   "metadata": {},
   "source": [
    "We can also check if any or all values in a Series or DataFrame are missing:"
   ]
  },
  {
   "cell_type": "code",
   "execution_count": 6,
   "metadata": {},
   "outputs": [
    {
     "name": "stdout",
     "output_type": "stream",
     "text": [
      "Any missing values per column:\n",
      "one      True\n",
      "two      True\n",
      "three    True\n",
      "four     True\n",
      "five     True\n",
      "dtype: bool\n",
      "\n",
      "All missing values per column:\n",
      "one      False\n",
      "two      False\n",
      "three    False\n",
      "four     False\n",
      "five     False\n",
      "dtype: bool\n",
      "\n",
      "Count of missing values per column:\n",
      "one      3\n",
      "two      3\n",
      "three    3\n",
      "four     3\n",
      "five     3\n",
      "dtype: int64\n"
     ]
    }
   ],
   "source": [
    "# Check if any values are missing in each column\n",
    "print(\"Any missing values per column:\")\n",
    "print(df2.isna().any())\n",
    "\n",
    "# Check if all values are missing in each column\n",
    "print(\"\\nAll missing values per column:\")\n",
    "print(df2.isna().all())\n",
    "\n",
    "# Count the number of missing values in each column\n",
    "print(\"\\nCount of missing values per column:\")\n",
    "print(df2.isna().sum())"
   ]
  },
  {
   "cell_type": "markdown",
   "metadata": {},
   "source": [
    "### 2.3 Filling Missing Values\n",
    "\n",
    "There are several ways to fill missing values in pandas:"
   ]
  },
  {
   "cell_type": "code",
   "execution_count": 7,
   "metadata": {},
   "outputs": [
    {
     "name": "stdout",
     "output_type": "stream",
     "text": [
      "Fill with scalar:\n",
      "a    1.447213\n",
      "b    0.000000\n",
      "c   -0.755494\n",
      "d    0.000000\n",
      "e    0.009665\n",
      "f    1.387295\n",
      "g    0.000000\n",
      "h    0.458777\n",
      "Name: one, dtype: float64\n",
      "\n",
      "Fill with mean:\n",
      "a    1.447213\n",
      "b    0.509491\n",
      "c   -0.755494\n",
      "d    0.509491\n",
      "e    0.009665\n",
      "f    1.387295\n",
      "g    0.509491\n",
      "h    0.458777\n",
      "Name: one, dtype: float64\n"
     ]
    }
   ],
   "source": [
    "# Fill missing values with a scalar value\n",
    "print(\"Fill with scalar:\")\n",
    "print(df2['one'].fillna(0))\n",
    "\n",
    "# Fill missing values with the mean of the column\n",
    "print(\"\\nFill with mean:\")\n",
    "print(df2['one'].fillna(df2['one'].mean()))"
   ]
  },
  {
   "cell_type": "markdown",
   "metadata": {},
   "source": [
    "We can also fill missing values using different methods like forward fill (`ffill`) or backward fill (`bfill`):"
   ]
  },
  {
   "cell_type": "code",
   "execution_count": 8,
   "metadata": {},
   "outputs": [
    {
     "name": "stdout",
     "output_type": "stream",
     "text": [
      "Forward fill:\n",
      "        one       two     three four   five\n",
      "a  1.447213  0.983156  0.673623  bar   True\n",
      "b  1.447213  0.983156  0.673623  bar   True\n",
      "c -0.755494  0.650344 -1.073701  bar  False\n",
      "d -0.755494  0.650344 -1.073701  bar  False\n",
      "e  0.009665  0.692197  0.858147  bar   True\n",
      "f  1.387295 -1.342553  0.538517  bar   True\n",
      "g  1.387295 -1.342553  0.538517  bar   True\n",
      "h  0.458777 -1.429637 -0.407609  bar   True\n",
      "\n",
      "Backward fill:\n",
      "        one       two     three four   five\n",
      "a  1.447213  0.983156  0.673623  bar   True\n",
      "b -0.755494  0.650344 -1.073701  bar  False\n",
      "c -0.755494  0.650344 -1.073701  bar  False\n",
      "d  0.009665  0.692197  0.858147  bar   True\n",
      "e  0.009665  0.692197  0.858147  bar   True\n",
      "f  1.387295 -1.342553  0.538517  bar   True\n",
      "g  0.458777 -1.429637 -0.407609  bar   True\n",
      "h  0.458777 -1.429637 -0.407609  bar   True\n"
     ]
    },
    {
     "name": "stderr",
     "output_type": "stream",
     "text": [
      "/var/folders/7y/fzwln1_93mn3js3wyk61_6xm0000gn/T/ipykernel_73913/4276817699.py:3: FutureWarning: DataFrame.fillna with 'method' is deprecated and will raise in a future version. Use obj.ffill() or obj.bfill() instead.\n",
      "  print(df2.fillna(method='ffill'))\n",
      "/var/folders/7y/fzwln1_93mn3js3wyk61_6xm0000gn/T/ipykernel_73913/4276817699.py:3: FutureWarning: Downcasting object dtype arrays on .fillna, .ffill, .bfill is deprecated and will change in a future version. Call result.infer_objects(copy=False) instead. To opt-in to the future behavior, set `pd.set_option('future.no_silent_downcasting', True)`\n",
      "  print(df2.fillna(method='ffill'))\n",
      "/var/folders/7y/fzwln1_93mn3js3wyk61_6xm0000gn/T/ipykernel_73913/4276817699.py:7: FutureWarning: DataFrame.fillna with 'method' is deprecated and will raise in a future version. Use obj.ffill() or obj.bfill() instead.\n",
      "  print(df2.fillna(method='bfill'))\n",
      "/var/folders/7y/fzwln1_93mn3js3wyk61_6xm0000gn/T/ipykernel_73913/4276817699.py:7: FutureWarning: Downcasting object dtype arrays on .fillna, .ffill, .bfill is deprecated and will change in a future version. Call result.infer_objects(copy=False) instead. To opt-in to the future behavior, set `pd.set_option('future.no_silent_downcasting', True)`\n",
      "  print(df2.fillna(method='bfill'))\n"
     ]
    }
   ],
   "source": [
    "# Forward fill (propagate last valid observation forward)\n",
    "print(\"Forward fill:\")\n",
    "print(df2.fillna(method='ffill'))\n",
    "\n",
    "# Backward fill (use next valid observation to fill gap)\n",
    "print(\"\\nBackward fill:\")\n",
    "print(df2.fillna(method='bfill'))"
   ]
  },
  {
   "cell_type": "markdown",
   "metadata": {},
   "source": [
    "### 2.4 Dropping Missing Values\n",
    "\n",
    "We can drop rows or columns with missing values using the `dropna()` method:"
   ]
  },
  {
   "cell_type": "code",
   "execution_count": 9,
   "metadata": {},
   "outputs": [
    {
     "name": "stdout",
     "output_type": "stream",
     "text": [
      "Drop rows with any missing values:\n",
      "        one       two     three four   five\n",
      "a  1.447213  0.983156  0.673623  bar   True\n",
      "c -0.755494  0.650344 -1.073701  bar  False\n",
      "e  0.009665  0.692197  0.858147  bar   True\n",
      "f  1.387295 -1.342553  0.538517  bar   True\n",
      "h  0.458777 -1.429637 -0.407609  bar   True\n",
      "\n",
      "Drop rows with all missing values:\n",
      "        one       two     three four   five\n",
      "a  1.447213  0.983156  0.673623  bar   True\n",
      "c -0.755494  0.650344 -1.073701  bar  False\n",
      "e  0.009665  0.692197  0.858147  bar   True\n",
      "f  1.387295 -1.342553  0.538517  bar   True\n",
      "h  0.458777 -1.429637 -0.407609  bar   True\n",
      "\n",
      "Drop columns with any missing values:\n",
      "Empty DataFrame\n",
      "Columns: []\n",
      "Index: [a, b, c, d, e, f, g, h]\n"
     ]
    }
   ],
   "source": [
    "# Drop rows with any missing values\n",
    "print(\"Drop rows with any missing values:\")\n",
    "print(df2.dropna())\n",
    "\n",
    "# Drop rows with all missing values\n",
    "print(\"\\nDrop rows with all missing values:\")\n",
    "print(df2.dropna(how='all'))\n",
    "\n",
    "# Drop columns with any missing values\n",
    "print(\"\\nDrop columns with any missing values:\")\n",
    "print(df2.dropna(axis=1))"
   ]
  },
  {
   "cell_type": "markdown",
   "metadata": {},
   "source": [
    "### 2.5 Replacing Values\n",
    "\n",
    "We can replace specific values in a DataFrame using the `replace()` method:"
   ]
  },
  {
   "cell_type": "code",
   "execution_count": 10,
   "metadata": {},
   "outputs": [
    {
     "name": "stdout",
     "output_type": "stream",
     "text": [
      "Original DataFrame:\n",
      "          0         1\n",
      "0  1.500000  1.500000\n",
      "1 -0.495747  1.051746\n",
      "2  1.500000  1.500000\n",
      "3  1.500000  1.500000\n",
      "4 -0.793576  0.176938\n",
      "5  1.500000  1.500000\n",
      "6  1.023569 -1.756491\n",
      "7 -0.831668 -0.058708\n",
      "8  1.500000  1.500000\n",
      "9  1.713379  0.649588\n",
      "\n",
      "Replace 1.5 with NaN:\n",
      "          0         1\n",
      "0       NaN       NaN\n",
      "1 -0.495747  1.051746\n",
      "2       NaN       NaN\n",
      "3       NaN       NaN\n",
      "4 -0.793576  0.176938\n",
      "5       NaN       NaN\n",
      "6  1.023569 -1.756491\n",
      "7 -0.831668 -0.058708\n",
      "8       NaN       NaN\n",
      "9  1.713379  0.649588\n"
     ]
    }
   ],
   "source": [
    "# Create a DataFrame with some values to replace\n",
    "df = pd.DataFrame(np.random.randn(10, 2))\n",
    "\n",
    "# Replace some values with 1.5\n",
    "df[np.random.rand(df.shape[0]) > 0.5] = 1.5\n",
    "print(\"Original DataFrame:\")\n",
    "print(df)\n",
    "\n",
    "# Replace 1.5 with NaN\n",
    "print(\"\\nReplace 1.5 with NaN:\")\n",
    "print(df.replace(1.5, np.nan))"
   ]
  },
  {
   "cell_type": "markdown",
   "metadata": {},
   "source": [
    "We can replace multiple values at once by passing lists:"
   ]
  },
  {
   "cell_type": "code",
   "execution_count": 11,
   "metadata": {},
   "outputs": [
    {
     "name": "stdout",
     "output_type": "stream",
     "text": [
      "Replace multiple values:\n",
      "          0         1\n",
      "0         a         a\n",
      "1 -0.495747  1.051746\n",
      "2         a         a\n",
      "3         a         a\n",
      "4 -0.793576  0.176938\n",
      "5         a         a\n",
      "6  1.023569 -1.756491\n",
      "7 -0.831668 -0.058708\n",
      "8         a         a\n",
      "9  1.713379  0.649588\n",
      "\n",
      "Data type of column 1:\n",
      "float64\n"
     ]
    }
   ],
   "source": [
    "# Get the value at position (0, 0)\n",
    "df00 = df.iloc[0, 0]\n",
    "\n",
    "# Replace 1.5 with NaN and df00 with 'a'\n",
    "print(\"Replace multiple values:\")\n",
    "print(df.replace([1.5, df00], [np.nan, 'a']))\n",
    "\n",
    "# Check the data type of column 1\n",
    "print(\"\\nData type of column 1:\")\n",
    "print(df[1].dtype)"
   ]
  },
  {
   "cell_type": "markdown",
   "metadata": {},
   "source": [
    "### 2.6 Missing Data Casting Rules and Indexing\n",
    "\n",
    "When a reindexing operation introduces missing data, the Series will be cast according to specific rules:"
   ]
  },
  {
   "cell_type": "code",
   "execution_count": 12,
   "metadata": {},
   "outputs": [
    {
     "name": "stdout",
     "output_type": "stream",
     "text": [
      "Original Series:\n",
      "0    0.322338\n",
      "2   -0.801383\n",
      "4   -1.920282\n",
      "6   -2.393908\n",
      "7   -1.368155\n",
      "dtype: float64\n",
      "\n",
      "Boolean Series:\n",
      "0     True\n",
      "2    False\n",
      "4    False\n",
      "6    False\n",
      "7    False\n",
      "dtype: bool\n",
      "Data type: bool\n",
      "\n",
      "Reindexed Boolean Series:\n",
      "0     True\n",
      "1      NaN\n",
      "2    False\n",
      "3      NaN\n",
      "4    False\n",
      "5      NaN\n",
      "6    False\n",
      "7    False\n",
      "dtype: object\n",
      "Data type: object\n"
     ]
    }
   ],
   "source": [
    "# Create a Series with random values\n",
    "s = pd.Series(np.random.randn(5), index=[0, 2, 4, 6, 7])\n",
    "print(\"Original Series:\")\n",
    "print(s)\n",
    "\n",
    "# Create a boolean Series\n",
    "bool_series = s > 0\n",
    "print(\"\\nBoolean Series:\")\n",
    "print(bool_series)\n",
    "print(\"Data type:\", bool_series.dtype)\n",
    "\n",
    "# Reindex the boolean Series to introduce missing values\n",
    "crit = bool_series.reindex(list(range(8)))\n",
    "print(\"\\nReindexed Boolean Series:\")\n",
    "print(crit)\n",
    "print(\"Data type:\", crit.dtype)"
   ]
  },
  {
   "cell_type": "markdown",
   "metadata": {},
   "source": [
    "Notice that the data type changed from `bool` to `object` when missing values were introduced. This is because boolean arrays in NumPy cannot store missing values.\n",
    "\n",
    "Here's a summary of the casting rules when missing values are introduced:\n",
    "\n",
    "| Data Type | Cast To |\n",
    "|-----------|--------|\n",
    "| integer   | float  |\n",
    "| boolean   | object |\n",
    "| float     | no cast |\n",
    "| object    | no cast |"
   ]
  },
  {
   "cell_type": "markdown",
   "metadata": {},
   "source": [
    "##### Summary\n",
    "\n",
    "In this notebook, we've explored:\n",
    "\n",
    "1. Additional string methods in pandas\n",
    "2. Working with missing data in pandas, including:\n",
    "   - Detecting missing values with `isna()` and `notna()`\n",
    "   - Filling missing values with `fillna()`\n",
    "   - Dropping missing values with `dropna()`\n",
    "   - Replacing values with `replace()`\n",
    "3. Understanding the casting rules when missing values are introduced\n",
    "\n",
    "These techniques are essential for data cleaning and preprocessing in pandas."
   ]
  }
 ],
 "metadata": {
  "kernelspec": {
   "display_name": "venv",
   "language": "python",
   "name": "python3"
  },
  "language_info": {
   "codemirror_mode": {
    "name": "ipython",
    "version": 3
   },
   "file_extension": ".py",
   "mimetype": "text/x-python",
   "name": "python",
   "nbconvert_exporter": "python",
   "pygments_lexer": "ipython3",
   "version": "3.13.2"
  }
 },
 "nbformat": 4,
 "nbformat_minor": 4
}
