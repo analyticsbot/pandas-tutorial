{
 "cells": [
  {
   "cell_type": "markdown",
   "metadata": {},
   "source": [
    "#### Pandas Part 90: Styling DataFrames\n",
    "\n",
    "This notebook explores the styling capabilities in pandas, which allow you to format and style DataFrames for better visualization and presentation."
   ]
  },
  {
   "cell_type": "code",
   "execution_count": null,
   "metadata": {},
   "outputs": [],
   "source": [
    "import pandas as pd\n",
    "import numpy as np\n",
    "from IPython.display import display"
   ]
  },
  {
   "cell_type": "markdown",
   "metadata": {},
   "source": [
    "##### 1. Creating Sample DataFrames"
   ]
  },
  {
   "cell_type": "code",
   "execution_count": null,
   "metadata": {},
   "outputs": [],
   "source": [
    "# Create a sample DataFrame with numeric data\n",
    "np.random.seed(42)\n",
    "df_numeric = pd.DataFrame({\n",
    "    'A': np.random.randn(5),\n",
    "    'B': np.random.randn(5),\n",
    "    'C': np.random.randn(5),\n",
    "    'D': np.random.randn(5)\n",
    "})\n",
    "\n",
    "# Create a sample DataFrame with mixed data types\n",
    "df_mixed = pd.DataFrame({\n",
    "    'Name': ['Alice', 'Bob', 'Charlie', 'David', 'Eve'],\n",
    "    'Age': [25, 30, 35, 40, 45],\n",
    "    'Salary': [50000, 60000, 75000, 90000, 100000],\n",
    "    'Department': ['HR', 'IT', 'Finance', 'Marketing', 'Operations']\n",
    "})\n",
    "\n",
    "# Display the DataFrames\n",
    "print(\"Numeric DataFrame:\")\n",
    "display(df_numeric)\n",
    "\n",
    "print(\"\\nMixed DataFrame:\")\n",
    "display(df_mixed)"
   ]
  },
  {
   "cell_type": "markdown",
   "metadata": {},
   "source": [
    "##### 2. Basic Styling\n",
    "\n",
    "The `.style` accessor returns a `Styler` object that can be used to style the DataFrame."
   ]
  },
  {
   "cell_type": "code",
   "execution_count": null,
   "metadata": {},
   "outputs": [],
   "source": [
    "# Basic styling\n",
    "styled = df_numeric.style\n",
    "display(styled)"
   ]
  },
  {
   "cell_type": "markdown",
   "metadata": {},
   "source": [
    "##### 3. Highlighting Maximum and Minimum Values\n",
    "\n",
    "The `highlight_max()` and `highlight_min()` methods highlight the maximum and minimum values in the DataFrame."
   ]
  },
  {
   "cell_type": "code",
   "execution_count": null,
   "metadata": {},
   "outputs": [],
   "source": [
    "# Highlight maximum values\n",
    "styled_max = df_numeric.style.highlight_max(color='lightgreen')\n",
    "display(styled_max)"
   ]
  },
  {
   "cell_type": "code",
   "execution_count": null,
   "metadata": {},
   "outputs": [],
   "source": [
    "# Highlight minimum values\n",
    "styled_min = df_numeric.style.highlight_min(color='lightcoral')\n",
    "display(styled_min)"
   ]
  },
  {
   "cell_type": "code",
   "execution_count": null,
   "metadata": {},
   "outputs": [],
   "source": [
    "# Highlight both maximum and minimum values\n",
    "styled_both = df_numeric.style.highlight_max(color='lightgreen').highlight_min(color='lightcoral')\n",
    "display(styled_both)"
   ]
  },
  {
   "cell_type": "code",
   "execution_count": null,
   "metadata": {},
   "outputs": [],
   "source": [
    "# Highlight max and min by row (axis=1)\n",
    "styled_row = df_numeric.style.highlight_max(color='lightgreen', axis=1).highlight_min(color='lightcoral', axis=1)\n",
    "display(styled_row)"
   ]
  },
  {
   "cell_type": "markdown",
   "metadata": {},
   "source": [
    "##### 4. Formatting Values\n",
    "\n",
    "The `format()` method allows you to format the values in the DataFrame."
   ]
  },
  {
   "cell_type": "code",
   "execution_count": null,
   "metadata": {},
   "outputs": [],
   "source": [
    "# Format all numeric values to 2 decimal places\n",
    "styled_format = df_numeric.style.format(\"{:.2f}\")\n",
    "display(styled_format)"
   ]
  },
  {
   "cell_type": "code",
   "execution_count": null,
   "metadata": {},
   "outputs": [],
   "source": [
    "# Format different columns differently\n",
    "styled_mixed_format = df_mixed.style.format({\n",
    "    'Age': '{} years',\n",
    "    'Salary': '${:,.2f}',\n",
    "    'Department': lambda x: f'Dept: {x}'\n",
    "})\n",
    "display(styled_mixed_format)"
   ]
  },
  {
   "cell_type": "markdown",
   "metadata": {},
   "source": [
    "##### 5. Applying Custom Styles with `applymap()` and `apply()`\n",
    "\n",
    "The `applymap()` method applies a function to each cell, while the `apply()` method applies a function to each row or column."
   ]
  },
  {
   "cell_type": "code",
   "execution_count": null,
   "metadata": {},
   "outputs": [],
   "source": [
    "# Define a function to color cells based on their values\n",
    "def color_negative_red(val):\n",
    "    \"\"\"\n",
    "    Takes a scalar and returns a string with\n",
    "    the css property 'color: red' for negative\n",
    "    values, black otherwise.\n",
    "    \"\"\"\n",
    "    color = 'red' if val < 0 else 'black'\n",
    "    return f'color: {color}'\n",
    "\n",
    "# Apply the function to each cell\n",
    "styled_applymap = df_numeric.style.applymap(color_negative_red)\n",
    "display(styled_applymap)"
   ]
  },
  {
   "cell_type": "code",
   "execution_count": null,
   "metadata": {},
   "outputs": [],
   "source": [
    "# Define a function to highlight the background of cells based on their values\n",
    "def highlight_greaterthan(s, threshold):\n",
    "    \"\"\"\n",
    "    Highlight values greater than threshold.\n",
    "    \"\"\"\n",
    "    is_gt = s > threshold\n",
    "    return ['background-color: yellow' if v else '' for v in is_gt]\n",
    "\n",
    "# Apply the function to each column\n",
    "styled_apply = df_numeric.style.apply(highlight_greaterthan, threshold=0.5, axis=0)\n",
    "display(styled_apply)"
   ]
  },
  {
   "cell_type": "markdown",
   "metadata": {},
   "source": [
    "##### 6. Combining Multiple Styles\n",
    "\n",
    "You can chain multiple styling methods to combine different styles."
   ]
  },
  {
   "cell_type": "code",
   "execution_count": null,
   "metadata": {},
   "outputs": [],
   "source": [
    "# Combine multiple styles\n",
    "styled_combined = df_numeric.style\\\n",
    "    .format(\"{:.2f}\")\\\n",
    "    .applymap(color_negative_red)\\\n",
    "    .highlight_max(color='lightgreen')\\\n",
    "    .highlight_min(color='lightcoral')\n",
    "    \n",
    "display(styled_combined)"
   ]
  },
  {
   "cell_type": "markdown",
   "metadata": {},
   "source": [
    "##### 7. Using `background_gradient()` for Heatmaps\n",
    "\n",
    "The `background_gradient()` method applies a color gradient to the background of cells based on their values."
   ]
  },
  {
   "cell_type": "code",
   "execution_count": null,
   "metadata": {},
   "outputs": [],
   "source": [
    "# Create a heatmap using background_gradient\n",
    "styled_heatmap = df_numeric.style.background_gradient(cmap='viridis')\n",
    "display(styled_heatmap)"
   ]
  },
  {
   "cell_type": "code",
   "execution_count": null,
   "metadata": {},
   "outputs": [],
   "source": [
    "# Apply background_gradient to specific columns\n",
    "styled_heatmap_subset = df_numeric.style.background_gradient(cmap='viridis', subset=['A', 'B'])\n",
    "display(styled_heatmap_subset)"
   ]
  },
  {
   "cell_type": "markdown",
   "metadata": {},
   "source": [
    "##### 8. Using `bar()` for Bar Charts\n",
    "\n",
    "The `bar()` method creates a bar chart within the cells of the DataFrame."
   ]
  },
  {
   "cell_type": "code",
   "execution_count": null,
   "metadata": {},
   "outputs": [],
   "source": [
    "# Create a bar chart\n",
    "styled_bar = df_numeric.style.bar(color=['lightblue', 'lightgreen'], align='mid')\n",
    "display(styled_bar)"
   ]
  },
  {
   "cell_type": "code",
   "execution_count": null,
   "metadata": {},
   "outputs": [],
   "source": [
    "# Apply bar chart to specific columns\n",
    "styled_bar_subset = df_numeric.style.bar(subset=['C', 'D'], color='lightcoral', align='zero')\n",
    "display(styled_bar_subset)"
   ]
  },
  {
   "cell_type": "markdown",
   "metadata": {},
   "source": [
    "##### 9. Hiding Index and Columns\n",
    "\n",
    "The `hide_index()` and `hide_columns()` methods allow you to hide the index and specific columns."
   ]
  },
  {
   "cell_type": "code",
   "execution_count": null,
   "metadata": {},
   "outputs": [],
   "source": [
    "# Hide the index\n",
    "styled_hide_index = df_numeric.style.hide_index()\n",
    "display(styled_hide_index)"
   ]
  },
  {
   "cell_type": "code",
   "execution_count": null,
   "metadata": {},
   "outputs": [],
   "source": [
    "# Hide specific columns\n",
    "styled_hide_columns = df_numeric.style.hide_columns(['B', 'D'])\n",
    "display(styled_hide_columns)"
   ]
  },
  {
   "cell_type": "markdown",
   "metadata": {},
   "source": [
    "##### 10. Setting Table Styles\n",
    "\n",
    "The `set_table_styles()` method allows you to set CSS styles for the entire table."
   ]
  },
  {
   "cell_type": "code",
   "execution_count": null,
   "metadata": {},
   "outputs": [],
   "source": [
    "# Set table styles\n",
    "table_styles = [\n",
    "    {'selector': 'th', 'props': [('background-color', 'lightblue'), ('color', 'black'), ('font-weight', 'bold')]},\n",
    "    {'selector': 'td', 'props': [('padding', '5px')]},\n",
    "    {'selector': 'tr:hover', 'props': [('background-color', 'lightyellow')]}\n",
    "]\n",
    "\n",
    "styled_table = df_numeric.style.set_table_styles(table_styles)\n",
    "display(styled_table)"
   ]
  },
  {
   "cell_type": "markdown",
   "metadata": {},
   "source": [
    "##### 11. Setting Properties for Specific Cells\n",
    "\n",
    "The `set_properties()` method allows you to set CSS properties for specific cells."
   ]
  },
  {
   "cell_type": "code",
   "execution_count": null,
   "metadata": {},
   "outputs": [],
   "source": [
    "# Set properties for specific cells\n",
    "styled_properties = df_numeric.style.set_properties(**{'background-color': 'lightgray', 'color': 'black', 'border': '1px solid black'})\n",
    "display(styled_properties)"
   ]
  },
  {
   "cell_type": "code",
   "execution_count": null,
   "metadata": {},
   "outputs": [],
   "source": [
    "# Set properties for specific columns\n",
    "styled_properties_subset = df_numeric.style.set_properties(subset=['A', 'C'], **{'background-color': 'lightblue'})\n",
    "display(styled_properties_subset)"
   ]
  },
  {
   "cell_type": "markdown",
   "metadata": {},
   "source": [
    "##### 12. Using `highlight_null()` to Highlight Missing Values\n",
    "\n",
    "The `highlight_null()` method highlights missing values in the DataFrame."
   ]
  },
  {
   "cell_type": "code",
   "execution_count": null,
   "metadata": {},
   "outputs": [],
   "source": [
    "# Create a DataFrame with missing values\n",
    "df_missing = df_numeric.copy()\n",
    "df_missing.iloc[0, 0] = np.nan\n",
    "df_missing.iloc[1, 2] = np.nan\n",
    "df_missing.iloc[3, 1] = np.nan\n",
    "\n",
    "# Highlight missing values\n",
    "styled_missing = df_missing.style.highlight_null(null_color='red')\n",
    "display(styled_missing)"
   ]
  },
  {
   "cell_type": "markdown",
   "metadata": {},
   "source": [
    "##### 13. Exporting Styled DataFrames\n",
    "\n",
    "You can export styled DataFrames to HTML or Excel."
   ]
  },
  {
   "cell_type": "code",
   "execution_count": null,
   "metadata": {},
   "outputs": [],
   "source": [
    "# Export to HTML\n",
    "html = styled_combined.render()\n",
    "print(\"HTML output (first 500 characters):\")\n",
    "print(html[:500])"
   ]
  },
  {
   "cell_type": "code",
   "execution_count": null,
   "metadata": {},
   "outputs": [],
   "source": [
    "# Export to Excel (commented out to avoid creating files)\n",
    "# styled_combined.to_excel('styled_dataframe.xlsx', engine='openpyxl')"
   ]
  },
  {
   "cell_type": "markdown",
   "metadata": {},
   "source": [
    "##### 14. Creating a Comprehensive Styled Dashboard\n",
    "\n",
    "Let's create a comprehensive styled dashboard by combining multiple styling techniques."
   ]
  },
  {
   "cell_type": "code",
   "execution_count": null,
   "metadata": {},
   "outputs": [],
   "source": [
    "# Create a sample sales data DataFrame\n",
    "np.random.seed(42)\n",
    "sales_data = pd.DataFrame({\n",
    "    'Product': ['Product A', 'Product B', 'Product C', 'Product D', 'Product E'],\n",
    "    'Q1_Sales': np.random.randint(100, 1000, 5),\n",
    "    'Q2_Sales': np.random.randint(100, 1000, 5),\n",
    "    'Q3_Sales': np.random.randint(100, 1000, 5),\n",
    "    'Q4_Sales': np.random.randint(100, 1000, 5),\n",
    "})\n",
    "\n",
    "# Calculate total sales\n",
    "sales_data['Total_Sales'] = sales_data[['Q1_Sales', 'Q2_Sales', 'Q3_Sales', 'Q4_Sales']].sum(axis=1)\n",
    "\n",
    "# Create a styled dashboard\n",
    "dashboard = sales_data.style\\\n",
    "    .format({'Q1_Sales': '${:,.0f}', 'Q2_Sales': '${:,.0f}', 'Q3_Sales': '${:,.0f}', 'Q4_Sales': '${:,.0f}', 'Total_Sales': '${:,.0f}'})\\\n",
    "    .background_gradient(cmap='Blues', subset=['Total_Sales'])\\\n",
    "    .bar(subset=['Q1_Sales', 'Q2_Sales', 'Q3_Sales', 'Q4_Sales'], color='lightblue', align='mid')\\\n",
    "    .highlight_max(subset=['Q1_Sales', 'Q2_Sales', 'Q3_Sales', 'Q4_Sales'], color='lightgreen')\\\n",
    "    .highlight_min(subset=['Q1_Sales', 'Q2_Sales', 'Q3_Sales', 'Q4_Sales'], color='lightcoral')\\\n",
    "    .set_table_styles([\n",
    "        {'selector': 'th', 'props': [('background-color', '#4CAF50'), ('color', 'white'), ('font-weight', 'bold')]},\n",
    "        {'selector': 'td', 'props': [('padding', '5px')]},\n",
    "        {'selector': 'caption', 'props': [('caption-side', 'top'), ('font-size', '1.5em'), ('font-weight', 'bold')]}\n",
    "    ])\\\n",
    "    .set_caption('Sales Dashboard - Quarterly Performance')\n",
    "\n",
    "display(dashboard)"
   ]
  }
 ],
 "metadata": {
  "kernelspec": {
   "display_name": "Python 3",
   "language": "python",
   "name": "python3"
  },
  "language_info": {
   "codemirror_mode": {
    "name": "ipython",
    "version": 3
   },
   "file_extension": ".py",
   "mimetype": "text/x-python",
   "name": "python",
   "nbconvert_exporter": "python",
   "pygments_lexer": "ipython3",
   "version": "3.8.5"
  }
 },
 "nbformat": 4,
 "nbformat_minor": 4
}