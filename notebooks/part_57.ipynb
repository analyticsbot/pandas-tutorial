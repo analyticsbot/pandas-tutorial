{
 "cells": [
  {
   "cell_type": "markdown",
   "metadata": {},
   "source": [
    "#### Pandas Tutorial - Part 57: DataFrame Methods (abs, add, astype, at_time, between_time)\n",
    "\n",
    "This notebook covers several important DataFrame methods including:\n",
    "- `abs()` - Get absolute values\n",
    "- `add()` - Addition operation\n",
    "- `astype()` - Convert data types\n",
    "- `at_time()` - Select values at a particular time of day\n",
    "- `between_time()` - Select values between particular times of the day"
   ]
  },
  {
   "cell_type": "code",
   "execution_count": null,
   "metadata": {},
   "outputs": [],
   "source": [
    "import pandas as pd\n",
    "import numpy as np\n",
    "import matplotlib.pyplot as plt\n",
    "\n",
    "# Set display options\n",
    "pd.set_option('display.max_columns', None)\n",
    "pd.set_option('display.expand_frame_repr', False)"
   ]
  },
  {
   "cell_type": "markdown",
   "metadata": {},
   "source": [
    "##### 1. DataFrame.abs()\n",
    "\n",
    "The `abs()` method returns a DataFrame with the absolute value of each element."
   ]
  },
  {
   "cell_type": "code",
   "execution_count": null,
   "metadata": {},
   "outputs": [],
   "source": [
    "# Create a sample DataFrame with positive and negative values\n",
    "df = pd.DataFrame({\n",
    "    'a': [4, 5, 6, 7],\n",
    "    'b': [10, 20, 30, 40],\n",
    "    'c': [100, 50, -30, -50]\n",
    "})\n",
    "print(\"Original DataFrame:\")\n",
    "df"
   ]
  },
  {
   "cell_type": "code",
   "execution_count": null,
   "metadata": {},
   "outputs": [],
   "source": [
    "# Get absolute values\n",
    "print(\"DataFrame with absolute values:\")\n",
    "df.abs()"
   ]
  },
  {
   "cell_type": "code",
   "execution_count": null,
   "metadata": {},
   "outputs": [],
   "source": [
    "# Using abs() with argsort() to sort by how close values are to a reference point\n",
    "print(\"Sorting by proximity to 43:\")\n",
    "df.loc[(df.c - 43).abs().argsort()]"
   ]
  },
  {
   "cell_type": "markdown",
   "metadata": {},
   "source": [
    "##### 2. DataFrame.add()\n",
    "\n",
    "The `add()` method performs addition of a DataFrame with another object (DataFrame, Series, or scalar) element-wise."
   ]
  },
  {
   "cell_type": "code",
   "execution_count": null,
   "metadata": {},
   "outputs": [],
   "source": [
    "# Create a sample DataFrame\n",
    "df = pd.DataFrame({\n",
    "    'angles': [0, 3, 4],\n",
    "    'degrees': [360, 180, 360]\n",
    "}, index=['circle', 'triangle', 'rectangle'])\n",
    "print(\"Original DataFrame:\")\n",
    "df"
   ]
  },
  {
   "cell_type": "code",
   "execution_count": null,
   "metadata": {},
   "outputs": [],
   "source": [
    "# Add a scalar value\n",
    "print(\"Adding 1 using operator:\")\n",
    "df + 1"
   ]
  },
  {
   "cell_type": "code",
   "execution_count": null,
   "metadata": {},
   "outputs": [],
   "source": [
    "# Add a scalar using the add() method\n",
    "print(\"Adding 1 using add() method:\")\n",
    "df.add(1)"
   ]
  },
  {
   "cell_type": "code",
   "execution_count": null,
   "metadata": {},
   "outputs": [],
   "source": [
    "# Create another DataFrame with some overlapping indices\n",
    "df2 = pd.DataFrame({\n",
    "    'angles': [1, 2],\n",
    "    'degrees': [10, 20]\n",
    "}, index=['circle', 'square'])\n",
    "print(\"Second DataFrame:\")\n",
    "df2"
   ]
  },
  {
   "cell_type": "code",
   "execution_count": null,
   "metadata": {},
   "outputs": [],
   "source": [
    "# Add two DataFrames\n",
    "print(\"Adding two DataFrames:\")\n",
    "df.add(df2)"
   ]
  },
  {
   "cell_type": "code",
   "execution_count": null,
   "metadata": {},
   "outputs": [],
   "source": [
    "# Add with fill_value to handle NaN values\n",
    "print(\"Adding with fill_value=0:\")\n",
    "df.add(df2, fill_value=0)"
   ]
  },
  {
   "cell_type": "code",
   "execution_count": null,
   "metadata": {},
   "outputs": [],
   "source": [
    "# Divide by constant\n",
    "print(\"Dividing by 10:\")\n",
    "df.div(10)"
   ]
  },
  {
   "cell_type": "code",
   "execution_count": null,
   "metadata": {},
   "outputs": [],
   "source": [
    "# Reverse division (10/df)\n",
    "print(\"Reverse division (10/df):\")\n",
    "df.rdiv(10)"
   ]
  },
  {
   "cell_type": "markdown",
   "metadata": {},
   "source": [
    "##### 3. DataFrame.astype()\n",
    "\n",
    "The `astype()` method is used to cast a pandas object to a specified dtype."
   ]
  },
  {
   "cell_type": "code",
   "execution_count": null,
   "metadata": {},
   "outputs": [],
   "source": [
    "# Create a sample DataFrame\n",
    "d = {'col1': [1, 2], 'col2': [3, 4]}\n",
    "df = pd.DataFrame(data=d)\n",
    "print(\"Original DataFrame data types:\")\n",
    "df.dtypes"
   ]
  },
  {
   "cell_type": "code",
   "execution_count": null,
   "metadata": {},
   "outputs": [],
   "source": [
    "# Cast all columns to int32\n",
    "print(\"Cast all columns to int32:\")\n",
    "df.astype('int32').dtypes"
   ]
  },
  {
   "cell_type": "code",
   "execution_count": null,
   "metadata": {},
   "outputs": [],
   "source": [
    "# Cast only col1 to int32 using a dictionary\n",
    "print(\"Cast only col1 to int32:\")\n",
    "df.astype({'col1': 'int32'}).dtypes"
   ]
  },
  {
   "cell_type": "code",
   "execution_count": null,
   "metadata": {},
   "outputs": [],
   "source": [
    "# Create a Series\n",
    "ser = pd.Series([1, 2], dtype='int32')\n",
    "print(\"Original Series:\")\n",
    "print(ser)\n",
    "print(\"\\nOriginal dtype:\")\n",
    "print(ser.dtype)"
   ]
  },
  {
   "cell_type": "code",
   "execution_count": null,
   "metadata": {},
   "outputs": [],
   "source": [
    "# Convert to int64\n",
    "print(\"Convert to int64:\")\n",
    "ser_int64 = ser.astype('int64')\n",
    "print(ser_int64)\n",
    "print(\"\\nNew dtype:\")\n",
    "print(ser_int64.dtype)"
   ]
  },
  {
   "cell_type": "code",
   "execution_count": null,
   "metadata": {},
   "outputs": [],
   "source": [
    "# Convert to categorical type\n",
    "print(\"Convert to categorical type:\")\n",
    "ser_cat = ser.astype('category')\n",
    "print(ser_cat)\n",
    "print(\"\\nCategorical dtype info:\")\n",
    "print(ser_cat.dtype)"
   ]
  },
  {
   "cell_type": "code",
   "execution_count": null,
   "metadata": {},
   "outputs": [],
   "source": [
    "# Convert to ordered categorical type with custom ordering\n",
    "print(\"Convert to ordered categorical with custom ordering:\")\n",
    "cat_dtype = pd.api.types.CategoricalDtype(categories=[2, 1], ordered=True)\n",
    "ser_ordered = ser.astype(cat_dtype)\n",
    "print(ser_ordered)\n",
    "print(\"\\nOrdered categorical dtype info:\")\n",
    "print(ser_ordered.dtype)"
   ]
  },
  {
   "cell_type": "code",
   "execution_count": null,
   "metadata": {},
   "outputs": [],
   "source": [
    "# Demonstrate copy=False behavior\n",
    "s1 = pd.Series([1, 2])\n",
    "print(\"Original Series s1:\")\n",
    "print(s1)\n",
    "\n",
    "# Convert with copy=False\n",
    "s2 = s1.astype('int64', copy=False)\n",
    "print(\"\\nConverted Series s2:\")\n",
    "print(s2)\n",
    "\n",
    "# Modify s2 and see if s1 changes\n",
    "s2[0] = 10\n",
    "print(\"\\nAfter modifying s2, s1 is:\")\n",
    "print(s1)"
   ]
  },
  {
   "cell_type": "markdown",
   "metadata": {},
   "source": [
    "##### 4. DataFrame.at_time()\n",
    "\n",
    "The `at_time()` method selects values at a particular time of day (e.g., 9:30 AM)."
   ]
  },
  {
   "cell_type": "code",
   "execution_count": null,
   "metadata": {},
   "outputs": [],
   "source": [
    "# Create a DataFrame with DatetimeIndex\n",
    "i = pd.date_range('2018-04-09', periods=4, freq='12H')\n",
    "ts = pd.DataFrame({'A': [1, 2, 3, 4]}, index=i)\n",
    "print(\"DataFrame with DatetimeIndex:\")\n",
    "ts"
   ]
  },
  {
   "cell_type": "code",
   "execution_count": null,
   "metadata": {},
   "outputs": [],
   "source": [
    "# Select values at 12:00\n",
    "print(\"Values at 12:00:\")\n",
    "ts.at_time('12:00')"
   ]
  },
  {
   "cell_type": "code",
   "execution_count": null,
   "metadata": {},
   "outputs": [],
   "source": [
    "# Create a more detailed DataFrame with different times\n",
    "i = pd.date_range('2018-04-09', periods=10, freq='3H')\n",
    "ts2 = pd.DataFrame({'A': range(10)}, index=i)\n",
    "print(\"More detailed DataFrame:\")\n",
    "ts2"
   ]
  },
  {
   "cell_type": "code",
   "execution_count": null,
   "metadata": {},
   "outputs": [],
   "source": [
    "# Select values at 00:00\n",
    "print(\"Values at 00:00:\")\n",
    "ts2.at_time('00:00')"
   ]
  },
  {
   "cell_type": "code",
   "execution_count": null,
   "metadata": {},
   "outputs": [],
   "source": [
    "# Select values at 03:00\n",
    "print(\"Values at 03:00:\")\n",
    "ts2.at_time('03:00')"
   ]
  },
  {
   "cell_type": "markdown",
   "metadata": {},
   "source": [
    "##### 5. DataFrame.between_time()\n",
    "\n",
    "The `between_time()` method selects values between particular times of the day (e.g., 9:00-9:30 AM)."
   ]
  },
  {
   "cell_type": "code",
   "execution_count": null,
   "metadata": {},
   "outputs": [],
   "source": [
    "# Using the same DataFrame as above\n",
    "print(\"Original DataFrame:\")\n",
    "ts2"
   ]
  },
  {
   "cell_type": "code",
   "execution_count": null,
   "metadata": {},
   "outputs": [],
   "source": [
    "# Select values between 00:00 and 06:00\n",
    "print(\"Values between 00:00 and 06:00:\")\n",
    "ts2.between_time('00:00', '06:00')"
   ]
  },
  {
   "cell_type": "code",
   "execution_count": null,
   "metadata": {},
   "outputs": [],
   "source": [
    "# Select values between 09:00 and 18:00\n",
    "print(\"Values between 09:00 and 18:00:\")\n",
    "ts2.between_time('09:00', '18:00')"
   ]
  },
  {
   "cell_type": "code",
   "execution_count": null,
   "metadata": {},
   "outputs": [],
   "source": [
    "# Select values NOT between 09:00 and 18:00 by reversing the order\n",
    "print(\"Values NOT between 09:00 and 18:00:\")\n",
    "ts2.between_time('18:00', '09:00')"
   ]
  },
  {
   "cell_type": "markdown",
   "metadata": {},
   "source": [
    "##### Summary\n",
    "\n",
    "In this notebook, we've explored several important DataFrame methods:\n",
    "\n",
    "1. **abs()**: Returns absolute values of DataFrame elements\n",
    "2. **add()**: Performs element-wise addition with support for filling missing values\n",
    "3. **astype()**: Converts DataFrame or Series to different data types\n",
    "4. **at_time()**: Selects values at specific times of day from a time-indexed DataFrame\n",
    "5. **between_time()**: Selects values between specific times of day from a time-indexed DataFrame\n",
    "\n",
    "These methods are essential for data manipulation, type conversion, and time-based filtering in pandas."
   ]
  }
 ],
 "metadata": {
  "kernelspec": {
   "display_name": "Python 3",
   "language": "python",
   "name": "python3"
  },
  "language_info": {
   "codemirror_mode": {
    "name": "ipython",
    "version": 3
   },
   "file_extension": ".py",
   "mimetype": "text/x-python",
   "name": "python",
   "nbconvert_exporter": "python",
   "pygments_lexer": "ipython3",
   "version": "3.8.5"
  }
 },
 "nbformat": 4,
 "nbformat_minor": 4
}