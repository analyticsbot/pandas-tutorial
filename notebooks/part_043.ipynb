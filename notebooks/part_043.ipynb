{
 "cells": [
  {
   "cell_type": "markdown",
   "metadata": {},
   "source": [
    "#### Pandas Tutorial - Part 43\n",
    "\n",
    "This notebook covers various Series methods including:\n",
    "- Combining Series with `combine()` and `combine_first()`\n",
    "- Converting data types with `convert_dtypes()`\n",
    "- Dropping elements with `drop()` and `drop_duplicates()`"
   ]
  },
  {
   "cell_type": "code",
   "execution_count": 1,
   "metadata": {},
   "outputs": [],
   "source": [
    "import pandas as pd\n",
    "import numpy as np\n",
    "import matplotlib.pyplot as plt\n",
    "\n",
    "%matplotlib inline"
   ]
  },
  {
   "cell_type": "markdown",
   "metadata": {},
   "source": [
    "##### Combining Series\n",
    "\n",
    "Pandas provides methods to combine Series objects in different ways."
   ]
  },
  {
   "cell_type": "markdown",
   "metadata": {},
   "source": [
    "### The `combine()` Method\n",
    "\n",
    "The `combine()` method combines two Series using a specified function that operates on each pair of elements."
   ]
  },
  {
   "cell_type": "code",
   "execution_count": 2,
   "metadata": {},
   "outputs": [
    {
     "name": "stdout",
     "output_type": "stream",
     "text": [
      "Series 1:\n",
      "falcon    330.0\n",
      "eagle     160.0\n",
      "dtype: float64\n",
      "\n",
      "Series 2:\n",
      "falcon    345.0\n",
      "eagle     200.0\n",
      "duck       30.0\n",
      "dtype: float64\n"
     ]
    }
   ],
   "source": [
    "# Create two Series with bird speeds\n",
    "s1 = pd.Series({'falcon': 330.0, 'eagle': 160.0})\n",
    "s2 = pd.Series({'falcon': 345.0, 'eagle': 200.0, 'duck': 30.0})\n",
    "\n",
    "print(\"Series 1:\")\n",
    "print(s1)\n",
    "print(\"\\nSeries 2:\")\n",
    "print(s2)"
   ]
  },
  {
   "cell_type": "code",
   "execution_count": 3,
   "metadata": {},
   "outputs": [
    {
     "name": "stdout",
     "output_type": "stream",
     "text": [
      "Combined Series (max):\n",
      "duck        NaN\n",
      "eagle     200.0\n",
      "falcon    345.0\n",
      "dtype: float64\n"
     ]
    }
   ],
   "source": [
    "# Combine using max function\n",
    "result = s1.combine(s2, max)\n",
    "print(\"Combined Series (max):\")\n",
    "print(result)"
   ]
  },
  {
   "cell_type": "code",
   "execution_count": 4,
   "metadata": {},
   "outputs": [
    {
     "name": "stdout",
     "output_type": "stream",
     "text": [
      "Combined Series (max) with fill_value=0:\n",
      "duck       30.0\n",
      "eagle     200.0\n",
      "falcon    345.0\n",
      "dtype: float64\n"
     ]
    }
   ],
   "source": [
    "# Combine with fill_value\n",
    "result_filled = s1.combine(s2, max, fill_value=0)\n",
    "print(\"Combined Series (max) with fill_value=0:\")\n",
    "print(result_filled)"
   ]
  },
  {
   "cell_type": "code",
   "execution_count": 5,
   "metadata": {},
   "outputs": [
    {
     "name": "stdout",
     "output_type": "stream",
     "text": [
      "Combined Series (min) with fill_value=1000:\n",
      "duck       30.0\n",
      "eagle     160.0\n",
      "falcon    330.0\n",
      "dtype: float64\n"
     ]
    }
   ],
   "source": [
    "# Combine using min function\n",
    "result_min = s1.combine(s2, min, fill_value=1000)\n",
    "print(\"Combined Series (min) with fill_value=1000:\")\n",
    "print(result_min)"
   ]
  },
  {
   "cell_type": "code",
   "execution_count": 6,
   "metadata": {},
   "outputs": [
    {
     "name": "stdout",
     "output_type": "stream",
     "text": [
      "Combined Series (average) with fill_value=0:\n",
      "duck       15.0\n",
      "eagle     180.0\n",
      "falcon    337.5\n",
      "dtype: float64\n"
     ]
    }
   ],
   "source": [
    "# Custom combining function\n",
    "def average(x, y):\n",
    "    return (x + y) / 2\n",
    "\n",
    "result_avg = s1.combine(s2, average, fill_value=0)\n",
    "print(\"Combined Series (average) with fill_value=0:\")\n",
    "print(result_avg)"
   ]
  },
  {
   "cell_type": "markdown",
   "metadata": {},
   "source": [
    "### The `combine_first()` Method\n",
    "\n",
    "The `combine_first()` method combines two Series by using values from the calling Series where available, and values from the other Series otherwise."
   ]
  },
  {
   "cell_type": "code",
   "execution_count": 7,
   "metadata": {},
   "outputs": [
    {
     "name": "stdout",
     "output_type": "stream",
     "text": [
      "Series 1:\n",
      "0    1.0\n",
      "1    NaN\n",
      "2    3.0\n",
      "3    NaN\n",
      "dtype: float64\n",
      "\n",
      "Series 2:\n",
      "0    NaN\n",
      "1    4.0\n",
      "2    5.0\n",
      "3    6.0\n",
      "dtype: float64\n"
     ]
    }
   ],
   "source": [
    "# Create two Series with some missing values\n",
    "s1 = pd.Series([1, np.nan, 3, np.nan])\n",
    "s2 = pd.Series([np.nan, 4, 5, 6])\n",
    "\n",
    "print(\"Series 1:\")\n",
    "print(s1)\n",
    "print(\"\\nSeries 2:\")\n",
    "print(s2)"
   ]
  },
  {
   "cell_type": "code",
   "execution_count": 8,
   "metadata": {},
   "outputs": [
    {
     "name": "stdout",
     "output_type": "stream",
     "text": [
      "Combined Series (s1 values prioritized):\n",
      "0    1.0\n",
      "1    4.0\n",
      "2    3.0\n",
      "3    6.0\n",
      "dtype: float64\n"
     ]
    }
   ],
   "source": [
    "# Combine first\n",
    "result = s1.combine_first(s2)\n",
    "print(\"Combined Series (s1 values prioritized):\")\n",
    "print(result)"
   ]
  },
  {
   "cell_type": "code",
   "execution_count": 9,
   "metadata": {},
   "outputs": [
    {
     "name": "stdout",
     "output_type": "stream",
     "text": [
      "Combined Series (s2 values prioritized):\n",
      "0    1.0\n",
      "1    4.0\n",
      "2    5.0\n",
      "3    6.0\n",
      "dtype: float64\n"
     ]
    }
   ],
   "source": [
    "# Reverse the order\n",
    "result_reversed = s2.combine_first(s1)\n",
    "print(\"Combined Series (s2 values prioritized):\")\n",
    "print(result_reversed)"
   ]
  },
  {
   "cell_type": "code",
   "execution_count": 10,
   "metadata": {},
   "outputs": [
    {
     "name": "stdout",
     "output_type": "stream",
     "text": [
      "Series 3:\n",
      "a    1\n",
      "b    2\n",
      "c    3\n",
      "dtype: int64\n",
      "\n",
      "Series 4:\n",
      "b    4\n",
      "c    5\n",
      "d    6\n",
      "dtype: int64\n",
      "\n",
      "Combined Series (s3 values prioritized):\n",
      "a    1\n",
      "b    2\n",
      "c    3\n",
      "d    6\n",
      "dtype: int64\n"
     ]
    }
   ],
   "source": [
    "# With different indices\n",
    "s3 = pd.Series([1, 2, 3], index=['a', 'b', 'c'])\n",
    "s4 = pd.Series([4, 5, 6], index=['b', 'c', 'd'])\n",
    "\n",
    "print(\"Series 3:\")\n",
    "print(s3)\n",
    "print(\"\\nSeries 4:\")\n",
    "print(s4)\n",
    "\n",
    "result_diff_idx = s3.combine_first(s4)\n",
    "print(\"\\nCombined Series (s3 values prioritized):\")\n",
    "print(result_diff_idx)"
   ]
  },
  {
   "cell_type": "markdown",
   "metadata": {},
   "source": [
    "##### Converting Data Types\n",
    "\n",
    "Pandas provides methods to convert data types in a Series."
   ]
  },
  {
   "cell_type": "markdown",
   "metadata": {},
   "source": [
    "### The `convert_dtypes()` Method\n",
    "\n",
    "The `convert_dtypes()` method converts columns to the best possible dtypes using dtypes supporting pandas NA values."
   ]
  },
  {
   "cell_type": "code",
   "execution_count": 11,
   "metadata": {},
   "outputs": [
    {
     "name": "stdout",
     "output_type": "stream",
     "text": [
      "Original Series:\n",
      "0        1\n",
      "1        2\n",
      "2     None\n",
      "3        a\n",
      "4        b\n",
      "5     True\n",
      "6    False\n",
      "dtype: object\n",
      "\n",
      "Data type: object\n"
     ]
    }
   ],
   "source": [
    "# Create a Series with mixed types\n",
    "s = pd.Series([1, 2, None, 'a', 'b', True, False])\n",
    "print(\"Original Series:\")\n",
    "print(s)\n",
    "print(\"\\nData type:\", s.dtype)"
   ]
  },
  {
   "cell_type": "code",
   "execution_count": 12,
   "metadata": {},
   "outputs": [
    {
     "name": "stdout",
     "output_type": "stream",
     "text": [
      "Converted Series:\n",
      "0        1\n",
      "1        2\n",
      "2     None\n",
      "3        a\n",
      "4        b\n",
      "5     True\n",
      "6    False\n",
      "dtype: object\n",
      "\n",
      "Data type: object\n"
     ]
    }
   ],
   "source": [
    "# Convert dtypes\n",
    "s_converted = s.convert_dtypes()\n",
    "print(\"Converted Series:\")\n",
    "print(s_converted)\n",
    "print(\"\\nData type:\", s_converted.dtype)"
   ]
  },
  {
   "cell_type": "code",
   "execution_count": 13,
   "metadata": {},
   "outputs": [
    {
     "name": "stdout",
     "output_type": "stream",
     "text": [
      "Original DataFrame:\n",
      "     A    B     C      D\n",
      "0  1.0  1.0     a   True\n",
      "1  2.0  2.0     b  False\n",
      "2  NaN  NaN  None   None\n",
      "\n",
      "Data types:\n",
      "A    float64\n",
      "B    float64\n",
      "C     object\n",
      "D     object\n",
      "dtype: object\n"
     ]
    }
   ],
   "source": [
    "# Create a DataFrame with mixed types\n",
    "df = pd.DataFrame({\n",
    "    'A': [1, 2, None],\n",
    "    'B': [1.0, 2.0, None],\n",
    "    'C': ['a', 'b', None],\n",
    "    'D': [True, False, None]\n",
    "})\n",
    "print(\"Original DataFrame:\")\n",
    "print(df)\n",
    "print(\"\\nData types:\")\n",
    "print(df.dtypes)"
   ]
  },
  {
   "cell_type": "code",
   "execution_count": 14,
   "metadata": {},
   "outputs": [
    {
     "name": "stdout",
     "output_type": "stream",
     "text": [
      "Converted DataFrame:\n",
      "      A     B     C      D\n",
      "0     1     1     a   True\n",
      "1     2     2     b  False\n",
      "2  <NA>  <NA>  <NA>   <NA>\n",
      "\n",
      "Data types:\n",
      "A             Int64\n",
      "B             Int64\n",
      "C    string[python]\n",
      "D           boolean\n",
      "dtype: object\n"
     ]
    }
   ],
   "source": [
    "# Convert dtypes\n",
    "df_converted = df.convert_dtypes()\n",
    "print(\"Converted DataFrame:\")\n",
    "print(df_converted)\n",
    "print(\"\\nData types:\")\n",
    "print(df_converted.dtypes)"
   ]
  },
  {
   "cell_type": "code",
   "execution_count": 15,
   "metadata": {},
   "outputs": [
    {
     "name": "stdout",
     "output_type": "stream",
     "text": [
      "Custom converted DataFrame:\n",
      "      A     B     C      D\n",
      "0   1.0   1.0     a   True\n",
      "1   2.0   2.0     b  False\n",
      "2  <NA>  <NA>  <NA>   None\n",
      "\n",
      "Data types:\n",
      "A           Float64\n",
      "B           Float64\n",
      "C    string[python]\n",
      "D            object\n",
      "dtype: object\n"
     ]
    }
   ],
   "source": [
    "# Control conversion parameters\n",
    "df_custom = df.convert_dtypes(convert_integer=False, convert_boolean=False)\n",
    "print(\"Custom converted DataFrame:\")\n",
    "print(df_custom)\n",
    "print(\"\\nData types:\")\n",
    "print(df_custom.dtypes)"
   ]
  },
  {
   "cell_type": "markdown",
   "metadata": {},
   "source": [
    "##### Dropping Elements\n",
    "\n",
    "Pandas provides methods to drop elements from a Series."
   ]
  },
  {
   "cell_type": "markdown",
   "metadata": {},
   "source": [
    "### The `drop()` Method\n",
    "\n",
    "The `drop()` method removes specified labels from a Series."
   ]
  },
  {
   "cell_type": "code",
   "execution_count": 16,
   "metadata": {},
   "outputs": [
    {
     "name": "stdout",
     "output_type": "stream",
     "text": [
      "Original Series:\n",
      "A    0\n",
      "B    1\n",
      "C    2\n",
      "dtype: int64\n"
     ]
    }
   ],
   "source": [
    "# Create a Series\n",
    "s = pd.Series(data=np.arange(3), index=['A', 'B', 'C'])\n",
    "print(\"Original Series:\")\n",
    "print(s)"
   ]
  },
  {
   "cell_type": "code",
   "execution_count": 17,
   "metadata": {},
   "outputs": [
    {
     "name": "stdout",
     "output_type": "stream",
     "text": [
      "Series after dropping labels 'B' and 'C':\n",
      "A    0\n",
      "dtype: int64\n"
     ]
    }
   ],
   "source": [
    "# Drop labels\n",
    "s_dropped = s.drop(labels=['B', 'C'])\n",
    "print(\"Series after dropping labels 'B' and 'C':\")\n",
    "print(s_dropped)"
   ]
  },
  {
   "cell_type": "code",
   "execution_count": 18,
   "metadata": {},
   "outputs": [
    {
     "name": "stdout",
     "output_type": "stream",
     "text": [
      "Series after in-place dropping label 'B':\n",
      "A    0\n",
      "C    2\n",
      "dtype: int64\n"
     ]
    }
   ],
   "source": [
    "# Drop in-place\n",
    "s_inplace = s.copy()\n",
    "s_inplace.drop(labels=['B'], inplace=True)\n",
    "print(\"Series after in-place dropping label 'B':\")\n",
    "print(s_inplace)"
   ]
  },
  {
   "cell_type": "code",
   "execution_count": 19,
   "metadata": {},
   "outputs": [
    {
     "name": "stdout",
     "output_type": "stream",
     "text": [
      "Series with MultiIndex:\n",
      "lama    speed      45.0\n",
      "        weight    200.0\n",
      "        length      1.2\n",
      "cow     speed      30.0\n",
      "        weight    250.0\n",
      "        length      1.5\n",
      "falcon  speed     320.0\n",
      "        weight      1.0\n",
      "        length      0.3\n",
      "dtype: float64\n"
     ]
    }
   ],
   "source": [
    "# Create a Series with MultiIndex\n",
    "midx = pd.MultiIndex(levels=[['lama', 'cow', 'falcon'],\n",
    "                             ['speed', 'weight', 'length']],\n",
    "                     codes=[[0, 0, 0, 1, 1, 1, 2, 2, 2],\n",
    "                            [0, 1, 2, 0, 1, 2, 0, 1, 2]])\n",
    "s_multi = pd.Series([45, 200, 1.2, 30, 250, 1.5, 320, 1, 0.3],\n",
    "                    index=midx)\n",
    "print(\"Series with MultiIndex:\")\n",
    "print(s_multi)"
   ]
  },
  {
   "cell_type": "code",
   "execution_count": 20,
   "metadata": {},
   "outputs": [
    {
     "name": "stdout",
     "output_type": "stream",
     "text": [
      "Series after dropping 'weight' at level 1:\n",
      "lama    speed      45.0\n",
      "        length      1.2\n",
      "cow     speed      30.0\n",
      "        length      1.5\n",
      "falcon  speed     320.0\n",
      "        length      0.3\n",
      "dtype: float64\n"
     ]
    }
   ],
   "source": [
    "# Drop by level\n",
    "s_dropped_level = s_multi.drop(labels='weight', level=1)\n",
    "print(\"Series after dropping 'weight' at level 1:\")\n",
    "print(s_dropped_level)"
   ]
  },
  {
   "cell_type": "code",
   "execution_count": 21,
   "metadata": {},
   "outputs": [
    {
     "name": "stdout",
     "output_type": "stream",
     "text": [
      "Series after dropping 'falcon' and 'cow' at level 0:\n",
      "lama  speed      45.0\n",
      "      weight    200.0\n",
      "      length      1.2\n",
      "dtype: float64\n"
     ]
    }
   ],
   "source": [
    "# Drop multiple labels at a specific level\n",
    "s_dropped_multi = s_multi.drop(labels=['falcon', 'cow'], level=0)\n",
    "print(\"Series after dropping 'falcon' and 'cow' at level 0:\")\n",
    "print(s_dropped_multi)"
   ]
  },
  {
   "cell_type": "markdown",
   "metadata": {},
   "source": [
    "### The `drop_duplicates()` Method\n",
    "\n",
    "The `drop_duplicates()` method removes duplicate values from a Series."
   ]
  },
  {
   "cell_type": "code",
   "execution_count": 22,
   "metadata": {},
   "outputs": [
    {
     "name": "stdout",
     "output_type": "stream",
     "text": [
      "Series with duplicates:\n",
      "0      lama\n",
      "1       cow\n",
      "2      lama\n",
      "3    beetle\n",
      "4      lama\n",
      "5     hippo\n",
      "Name: animal, dtype: object\n"
     ]
    }
   ],
   "source": [
    "# Create a Series with duplicates\n",
    "s = pd.Series(['lama', 'cow', 'lama', 'beetle', 'lama', 'hippo'],\n",
    "              name='animal')\n",
    "print(\"Series with duplicates:\")\n",
    "print(s)"
   ]
  },
  {
   "cell_type": "code",
   "execution_count": 23,
   "metadata": {},
   "outputs": [
    {
     "name": "stdout",
     "output_type": "stream",
     "text": [
      "Series with duplicates dropped (keep='first'):\n",
      "0      lama\n",
      "1       cow\n",
      "3    beetle\n",
      "5     hippo\n",
      "Name: animal, dtype: object\n"
     ]
    }
   ],
   "source": [
    "# Drop duplicates (keep first occurrence)\n",
    "s_no_dups = s.drop_duplicates()\n",
    "print(\"Series with duplicates dropped (keep='first'):\")\n",
    "print(s_no_dups)"
   ]
  },
  {
   "cell_type": "code",
   "execution_count": 24,
   "metadata": {},
   "outputs": [
    {
     "name": "stdout",
     "output_type": "stream",
     "text": [
      "Series with duplicates dropped (keep='last'):\n",
      "1       cow\n",
      "3    beetle\n",
      "4      lama\n",
      "5     hippo\n",
      "Name: animal, dtype: object\n"
     ]
    }
   ],
   "source": [
    "# Drop duplicates (keep last occurrence)\n",
    "s_keep_last = s.drop_duplicates(keep='last')\n",
    "print(\"Series with duplicates dropped (keep='last'):\")\n",
    "print(s_keep_last)"
   ]
  },
  {
   "cell_type": "code",
   "execution_count": 25,
   "metadata": {},
   "outputs": [
    {
     "name": "stdout",
     "output_type": "stream",
     "text": [
      "Series with all duplicates dropped (keep=False):\n",
      "1       cow\n",
      "3    beetle\n",
      "5     hippo\n",
      "Name: animal, dtype: object\n"
     ]
    }
   ],
   "source": [
    "# Drop all duplicates\n",
    "s_drop_all = s.drop_duplicates(keep=False)\n",
    "print(\"Series with all duplicates dropped (keep=False):\")\n",
    "print(s_drop_all)"
   ]
  },
  {
   "cell_type": "code",
   "execution_count": 26,
   "metadata": {},
   "outputs": [
    {
     "name": "stdout",
     "output_type": "stream",
     "text": [
      "Series after in-place dropping duplicates:\n",
      "0      lama\n",
      "1       cow\n",
      "3    beetle\n",
      "5     hippo\n",
      "Name: animal, dtype: object\n"
     ]
    }
   ],
   "source": [
    "# Drop duplicates in-place\n",
    "s_inplace = s.copy()\n",
    "s_inplace.drop_duplicates(inplace=True)\n",
    "print(\"Series after in-place dropping duplicates:\")\n",
    "print(s_inplace)"
   ]
  },
  {
   "cell_type": "markdown",
   "metadata": {},
   "source": [
    "##### Conclusion\n",
    "\n",
    "In this notebook, we've explored various Series methods in pandas:\n",
    "\n",
    "1. Combining Series with `combine()` and `combine_first()`, which allow for flexible ways to merge data from different Series.\n",
    "2. Converting data types with `convert_dtypes()`, which intelligently converts columns to the best possible dtypes supporting pandas NA values.\n",
    "3. Dropping elements with `drop()` and `drop_duplicates()`, which provide ways to remove specific labels or duplicate values from a Series.\n",
    "\n",
    "These methods are essential tools for data manipulation and cleaning in pandas, allowing for flexible and powerful operations on your data."
   ]
  }
 ],
 "metadata": {
  "kernelspec": {
   "display_name": "venv",
   "language": "python",
   "name": "python3"
  },
  "language_info": {
   "codemirror_mode": {
    "name": "ipython",
    "version": 3
   },
   "file_extension": ".py",
   "mimetype": "text/x-python",
   "name": "python",
   "nbconvert_exporter": "python",
   "pygments_lexer": "ipython3",
   "version": "3.13.2"
  }
 },
 "nbformat": 4,
 "nbformat_minor": 4
}
