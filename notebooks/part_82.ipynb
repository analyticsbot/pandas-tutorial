{
 "cells": [
  {
   "cell_type": "markdown",
   "metadata": {},
   "source": [
    "#### Pandas Part 82: Week and Quarter DateOffset Classes\n",
    "\n",
    "This notebook explores Week and Quarter DateOffset classes in pandas, including their methods and properties."
   ]
  },
  {
   "cell_type": "code",
   "execution_count": null,
   "metadata": {},
   "outputs": [],
   "source": [
    "import pandas as pd\n",
    "import numpy as np\n",
    "from datetime import datetime, time, timedelta\n",
    "from pandas.tseries.offsets import (\n",
    "    Week, WeekOfMonth,\n",
    "    QuarterBegin, QuarterEnd,\n",
    "    BQuarterBegin, BQuarterEnd\n",
    ")"
   ]
  },
  {
   "cell_type": "markdown",
   "metadata": {},
   "source": [
    "##### 1. Week\n",
    "\n",
    "The `Week` class is a DateOffset subclass representing a weekly offset."
   ]
  },
  {
   "cell_type": "code",
   "execution_count": null,
   "metadata": {},
   "outputs": [],
   "source": [
    "# Create a Week offset\n",
    "week = Week()\n",
    "print(f\"Week: {week}\")\n",
    "\n",
    "# Apply to a datetime\n",
    "dt = datetime(2023, 1, 1)  # Sunday\n",
    "print(f\"Original datetime: {dt} ({dt.strftime('%A')})\")\n",
    "print(f\"After adding 1 week: {dt + week} ({(dt + week).strftime('%A')})\")\n",
    "\n",
    "# Create a Week offset with a specific weekday\n",
    "monday = Week(weekday=0)  # 0 for Monday\n",
    "print(f\"\\nWeek with Monday as weekday: {monday}\")\n",
    "print(f\"Original datetime: {dt} ({dt.strftime('%A')})\")\n",
    "print(f\"After adding Week(weekday=0): {dt + monday} ({(dt + monday).strftime('%A')})\")\n",
    "\n",
    "# Create a Week offset with a specific weekday and n\n",
    "friday_2 = Week(n=2, weekday=4)  # 4 for Friday\n",
    "print(f\"\\nWeek with n=2 and Friday as weekday: {friday_2}\")\n",
    "print(f\"Original datetime: {dt} ({dt.strftime('%A')})\")\n",
    "print(f\"After adding Week(n=2, weekday=4): {dt + friday_2} ({(dt + friday_2).strftime('%A')})\")"
   ]
  },
  {
   "cell_type": "markdown",
   "metadata": {},
   "source": [
    "### Week Methods"
   ]
  },
  {
   "cell_type": "code",
   "execution_count": null,
   "metadata": {},
   "outputs": [],
   "source": [
    "# Create a Week offset\n",
    "week = Week(n=2)\n",
    "print(f\"Week: {week}\")\n",
    "\n",
    "# Get the base (n=1)\n",
    "base = week.base\n",
    "print(f\"Base: {base}\")\n",
    "\n",
    "# Roll forward and backward\n",
    "dt = datetime(2023, 1, 4)  # Wednesday\n",
    "print(f\"\\nOriginal datetime: {dt} ({dt.strftime('%A')})\")\n",
    "\n",
    "# If we specify weekday=0 (Monday), rollforward will go to the next Monday\n",
    "monday = Week(weekday=0)\n",
    "print(f\"Roll forward to Monday: {monday.rollforward(dt)} ({monday.rollforward(dt).strftime('%A')})\")\n",
    "\n",
    "# If we specify weekday=5 (Saturday), rollback will go to the previous Saturday\n",
    "saturday = Week(weekday=5)\n",
    "print(f\"Roll back to Saturday: {saturday.rollback(dt)} ({saturday.rollback(dt).strftime('%A')})\")"
   ]
  },
  {
   "cell_type": "code",
   "execution_count": null,
   "metadata": {},
   "outputs": [],
   "source": [
    "# Check if a date is on a specific weekday\n",
    "monday = Week(weekday=0)\n",
    "dt_monday = datetime(2023, 1, 2)  # Monday\n",
    "dt_tuesday = datetime(2023, 1, 3)  # Tuesday\n",
    "print(f\"Is {dt_monday.strftime('%A')} on Monday offset? {monday.is_on_offset(dt_monday)}\")\n",
    "print(f\"Is {dt_tuesday.strftime('%A')} on Monday offset? {monday.is_on_offset(dt_tuesday)}\")\n",
    "\n",
    "# Apply to a DatetimeIndex\n",
    "dates = pd.DatetimeIndex(['2023-01-01', '2023-01-02', '2023-01-03'])\n",
    "print(f\"\\nOriginal dates: {dates}\")\n",
    "print(f\"After applying Week(weekday=0): {monday.apply_index(dates)}\")"
   ]
  },
  {
   "cell_type": "markdown",
   "metadata": {},
   "source": [
    "### Using Week with date_range"
   ]
  },
  {
   "cell_type": "code",
   "execution_count": null,
   "metadata": {},
   "outputs": [],
   "source": [
    "# Create a date range with weekly frequency\n",
    "dates = pd.date_range(start='2023-01-01', periods=5, freq='W')\n",
    "print(f\"Date range with weekly frequency:\")\n",
    "for date in dates:\n",
    "    print(f\"{date} ({date.strftime('%A')})\")\n",
    "\n",
    "# Create a date range with weekly frequency starting on Monday\n",
    "dates = pd.date_range(start='2023-01-01', periods=5, freq='W-MON')\n",
    "print(f\"\\nDate range with weekly frequency starting on Monday:\")\n",
    "for date in dates:\n",
    "    print(f\"{date} ({date.strftime('%A')})\")\n",
    "\n",
    "# Create a date range with bi-weekly frequency\n",
    "dates = pd.date_range(start='2023-01-01', periods=5, freq='2W')\n",
    "print(f\"\\nDate range with bi-weekly frequency:\")\n",
    "for date in dates:\n",
    "    print(f\"{date} ({date.strftime('%A')})\")"
   ]
  },
  {
   "cell_type": "markdown",
   "metadata": {},
   "source": [
    "##### 2. Quarter DateOffset Classes\n",
    "\n",
    "Pandas provides several quarter-related DateOffset classes:\n",
    "- `QuarterBegin`: Dates at the beginning of each quarter\n",
    "- `QuarterEnd`: Dates at the end of each quarter\n",
    "- `BQuarterBegin`: Business quarter beginning\n",
    "- `BQuarterEnd`: Business quarter ending"
   ]
  },
  {
   "cell_type": "markdown",
   "metadata": {},
   "source": [
    "### QuarterBegin and QuarterEnd"
   ]
  },
  {
   "cell_type": "code",
   "execution_count": null,
   "metadata": {},
   "outputs": [],
   "source": [
    "# Create QuarterBegin and QuarterEnd offsets\n",
    "quarter_begin = QuarterBegin()\n",
    "quarter_end = QuarterEnd()\n",
    "print(f\"QuarterBegin: {quarter_begin}\")\n",
    "print(f\"QuarterEnd: {quarter_end}\")\n",
    "\n",
    "# Apply to a datetime\n",
    "dt = datetime(2023, 2, 15)  # Middle of Q1\n",
    "print(f\"\\nOriginal datetime: {dt}\")\n",
    "print(f\"After adding QuarterBegin: {dt + quarter_begin}\")\n",
    "print(f\"After adding QuarterEnd: {dt + quarter_end}\")\n",
    "\n",
    "# Apply to the beginning of a quarter\n",
    "dt = datetime(2023, 1, 1)  # Beginning of Q1\n",
    "print(f\"\\nOriginal datetime (beginning of Q1): {dt}\")\n",
    "print(f\"After adding QuarterBegin: {dt + quarter_begin}\")\n",
    "print(f\"After adding QuarterEnd: {dt + quarter_end}\")\n",
    "\n",
    "# Apply to the end of a quarter\n",
    "dt = datetime(2023, 3, 31)  # End of Q1\n",
    "print(f\"\\nOriginal datetime (end of Q1): {dt}\")\n",
    "print(f\"After adding QuarterBegin: {dt + quarter_begin}\")\n",
    "print(f\"After adding QuarterEnd: {dt + quarter_end}\")"
   ]
  },
  {
   "cell_type": "markdown",
   "metadata": {},
   "source": [
    "### Custom Starting Month for Quarters"
   ]
  },
  {
   "cell_type": "code",
   "execution_count": null,
   "metadata": {},
   "outputs": [],
   "source": [
    "# Create QuarterBegin and QuarterEnd with custom starting month\n",
    "# startingMonth=3 means the quarters start in March, June, September, and December\n",
    "quarter_begin_mar = QuarterBegin(startingMonth=3)\n",
    "quarter_end_mar = QuarterEnd(startingMonth=3)\n",
    "print(f\"QuarterBegin (starting in March): {quarter_begin_mar}\")\n",
    "print(f\"QuarterEnd (starting in March): {quarter_end_mar}\")\n",
    "\n",
    "# Apply to a datetime\n",
    "dt = datetime(2023, 4, 15)  # Middle of Q2 (for March fiscal year)\n",
    "print(f\"\\nOriginal datetime: {dt}\")\n",
    "print(f\"After adding QuarterBegin (March): {dt + quarter_begin_mar}\")\n",
    "print(f\"After adding QuarterEnd (March): {dt + quarter_end_mar}\")\n",
    "\n",
    "# Display all quarter beginnings and endings for a fiscal year starting in March\n",
    "print(f\"\\nQuarter beginnings for fiscal year starting in March:\")\n",
    "start_date = datetime(2023, 3, 1)\n",
    "for i in range(4):\n",
    "    print(f\"Q{i+1}: {start_date + i * QuarterBegin(startingMonth=3)}\")\n",
    "\n",
    "print(f\"\\nQuarter endings for fiscal year starting in March:\")\n",
    "start_date = datetime(2023, 5, 31)\n",
    "for i in range(4):\n",
    "    print(f\"Q{i+1}: {start_date + i * QuarterEnd(startingMonth=3)}\")"
   ]
  },
  {
   "cell_type": "markdown",
   "metadata": {},
   "source": [
    "### BQuarterBegin and BQuarterEnd"
   ]
  },
  {
   "cell_type": "code",
   "execution_count": null,
   "metadata": {},
   "outputs": [],
   "source": [
    "# Create BQuarterBegin and BQuarterEnd offsets\n",
    "bquarter_begin = BQuarterBegin()\n",
    "bquarter_end = BQuarterEnd()\n",
    "print(f\"BQuarterBegin: {bquarter_begin}\")\n",
    "print(f\"BQuarterEnd: {bquarter_end}\")\n",
    "\n",
    "# Apply to a datetime\n",
    "dt = datetime(2023, 2, 15)  # Middle of Q1\n",
    "print(f\"\\nOriginal datetime: {dt}\")\n",
    "print(f\"After adding BQuarterBegin: {dt + bquarter_begin}\")\n",
    "print(f\"After adding BQuarterEnd: {dt + bquarter_end}\")\n",
    "\n",
    "# Handle cases where the first/last day of the quarter is a weekend\n",
    "# January 1, 2023 is a Sunday\n",
    "dt = datetime(2023, 1, 1)\n",
    "print(f\"\\nOriginal datetime: {dt} ({dt.strftime('%A')})\")\n",
    "print(f\"After adding BQuarterBegin: {dt + bquarter_begin} ({(dt + bquarter_begin).strftime('%A')})\")\n",
    "\n",
    "# March 31, 2023 is a Friday (already a business day)\n",
    "dt = datetime(2023, 3, 31)\n",
    "print(f\"\\nOriginal datetime: {dt} ({dt.strftime('%A')})\")\n",
    "print(f\"After adding BQuarterEnd: {dt + bquarter_end} ({(dt + bquarter_end).strftime('%A')})\")"
   ]
  },
  {
   "cell_type": "markdown",
   "metadata": {},
   "source": [
    "### Using Quarter DateOffset Classes with date_range"
   ]
  },
  {
   "cell_type": "code",
   "execution_count": null,
   "metadata": {},
   "outputs": [],
   "source": [
    "# Create a date range with quarter begin frequency\n",
    "dates = pd.date_range(start='2023-01-01', periods=5, freq='QS')  # Quarter start\n",
    "print(f\"Date range with quarter start frequency:\")\n",
    "for date in dates:\n",
    "    print(f\"{date}\")\n",
    "\n",
    "# Create a date range with quarter end frequency\n",
    "dates = pd.date_range(start='2023-03-31', periods=5, freq='Q')  # Quarter end\n",
    "print(f\"\\nDate range with quarter end frequency:\")\n",
    "for date in dates:\n",
    "    print(f\"{date}\")\n",
    "\n",
    "# Create a date range with business quarter begin frequency\n",
    "dates = pd.date_range(start='2023-01-01', periods=5, freq='BQS')  # Business quarter start\n",
    "print(f\"\\nDate range with business quarter start frequency:\")\n",
    "for date in dates:\n",
    "    print(f\"{date} ({date.strftime('%A')})\")\n",
    "\n",
    "# Create a date range with business quarter end frequency\n",
    "dates = pd.date_range(start='2023-03-31', periods=5, freq='BQ')  # Business quarter end\n",
    "print(f\"\\nDate range with business quarter end frequency:\")\n",
    "for date in dates:\n",
    "    print(f\"{date} ({date.strftime('%A')})\")"
   ]
  },
  {
   "cell_type": "markdown",
   "metadata": {},
   "source": [
    "### Custom Fiscal Year with Quarter DateOffset Classes"
   ]
  },
  {
   "cell_type": "code",
   "execution_count": null,
   "metadata": {},
   "outputs": [],
   "source": [
    "# Create a date range with quarter begin frequency for fiscal year starting in April\n",
    "dates = pd.date_range(start='2023-04-01', periods=5, freq='QS-APR')  # Quarter start (April fiscal year)\n",
    "print(f\"Date range with quarter start frequency (April fiscal year):\")\n",
    "for date in dates:\n",
    "    print(f\"{date}\")\n",
    "\n",
    "# Create a date range with quarter end frequency for fiscal year starting in April\n",
    "dates = pd.date_range(start='2023-06-30', periods=5, freq='Q-APR')  # Quarter end (April fiscal year)\n",
    "print(f\"\\nDate range with quarter end frequency (April fiscal year):\")\n",
    "for date in dates:\n",
    "    print(f\"{date}\")"
   ]
  },
  {
   "cell_type": "markdown",
   "metadata": {},
   "source": [
    "##### 3. Combining Week and Quarter DateOffset Classes\n",
    "\n",
    "You can combine different DateOffset classes to create complex date operations."
   ]
  },
  {
   "cell_type": "code",
   "execution_count": null,
   "metadata": {},
   "outputs": [],
   "source": [
    "# Combine QuarterEnd and Week\n",
    "quarter_end_plus_week = QuarterEnd() + Week()\n",
    "print(f\"QuarterEnd + Week: {quarter_end_plus_week}\")\n",
    "\n",
    "# Apply to a datetime\n",
    "dt = datetime(2023, 3, 31)  # End of Q1\n",
    "print(f\"Original datetime: {dt} ({dt.strftime('%A')})\")\n",
    "print(f\"After applying combined offset: {dt + quarter_end_plus_week} ({(dt + quarter_end_plus_week).strftime('%A')})\")\n",
    "\n",
    "# Combine multiple offsets\n",
    "complex_offset = QuarterBegin() + Week(weekday=0) + BQuarterEnd()\n",
    "print(f\"\\nComplex offset: {complex_offset}\")\n",
    "print(f\"After applying complex offset: {dt + complex_offset}\")"
   ]
  }
 ],
 "metadata": {
  "kernelspec": {
   "display_name": "Python 3",
   "language": "python",
   "name": "python3"
  },
  "language_info": {
   "codemirror_mode": {
    "name": "ipython",
    "version": 3
   },
   "file_extension": ".py",
   "mimetype": "text/x-python",
   "name": "python",
   "nbconvert_exporter": "python",
   "pygments_lexer": "ipython3",
   "version": "3.8.5"
  }
 },
 "nbformat": 4,
 "nbformat_minor": 4
}