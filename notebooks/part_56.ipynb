{
 "cells": [
  {
   "cell_type": "markdown",
   "metadata": {},
   "source": [
    "# Pandas Tutorial - Part 56\n",
    "\n",
    "This notebook introduces the pandas DataFrame class and covers:\n",
    "- DataFrame constructor and basics\n",
    "- Converting Series to other formats\n",
    "- The `abs()` method for DataFrames"
   ]
  },
  {
   "cell_type": "code",
   "execution_count": null,
   "metadata": {},
   "outputs": [],
   "source": [
    "import pandas as pd\n",
    "import numpy as np\n",
    "import matplotlib.pyplot as plt\n",
    "\n",
    "%matplotlib inline"
   ]
  },
  {
   "cell_type": "markdown",
   "metadata": {},
   "source": [
    "## DataFrame Constructor and Basics\n",
    "\n",
    "A DataFrame is a two-dimensional, size-mutable, potentially heterogeneous tabular data structure with labeled axes (rows and columns). It can be thought of as a dict-like container for Series objects and is the primary pandas data structure."
   ]
  },
  {
   "cell_type": "code",
   "execution_count": null,
   "metadata": {},
   "outputs": [],
   "source": [
    "# Create a DataFrame from a dictionary of Series\n",
    "s1 = pd.Series([1, 2, 3], index=['a', 'b', 'c'])\n",
    "s2 = pd.Series([4, 5, 6], index=['a', 'b', 'c'])\n",
    "df = pd.DataFrame({'col1': s1, 'col2': s2})\n",
    "print(\"DataFrame from Series:\")\n",
    "print(df)"
   ]
  },
  {
   "cell_type": "code",
   "execution_count": null,
   "metadata": {},
   "outputs": [],
   "source": [
    "# Create a DataFrame from a dictionary of lists\n",
    "data = {\n",
    "    'name': ['John', 'Anna', 'Peter', 'Linda'],\n",
    "    'age': [28, 34, 29, 42],\n",
    "    'city': ['New York', 'Paris', 'Berlin', 'London']\n",
    "}\n",
    "df_dict = pd.DataFrame(data)\n",
    "print(\"\\nDataFrame from dictionary:\")\n",
    "print(df_dict)"
   ]
  },
  {
   "cell_type": "code",
   "execution_count": null,
   "metadata": {},
   "outputs": [],
   "source": [
    "# Create a DataFrame from a list of dictionaries\n",
    "data_list = [\n",
    "    {'name': 'John', 'age': 28, 'city': 'New York'},\n",
    "    {'name': 'Anna', 'age': 34, 'city': 'Paris'},\n",
    "    {'name': 'Peter', 'age': 29, 'city': 'Berlin'},\n",
    "    {'name': 'Linda', 'age': 42, 'city': 'London'}\n",
    "]\n",
    "df_list = pd.DataFrame(data_list)\n",
    "print(\"\\nDataFrame from list of dictionaries:\")\n",
    "print(df_list)"
   ]
  },
  {
   "cell_type": "code",
   "execution_count": null,
   "metadata": {},
   "outputs": [],
   "source": [
    "# Create a DataFrame from a NumPy array\n",
    "arr = np.array([[1, 2, 3], [4, 5, 6], [7, 8, 9]])\n",
    "df_arr = pd.DataFrame(arr, columns=['A', 'B', 'C'], index=['row1', 'row2', 'row3'])\n",
    "print(\"\\nDataFrame from NumPy array:\")\n",
    "print(df_arr)"
   ]
  },
  {
   "cell_type": "code",
   "execution_count": null,
   "metadata": {},
   "outputs": [],
   "source": [
    "# Create a DataFrame with custom index and columns\n",
    "df_custom = pd.DataFrame(\n",
    "    data=np.random.randn(3, 2),  # 3 rows, 2 columns of random data\n",
    "    index=['A', 'B', 'C'],\n",
    "    columns=['col1', 'col2']\n",
    ")\n",
    "print(\"\\nDataFrame with custom index and columns:\")\n",
    "print(df_custom)"
   ]
  },
  {
   "cell_type": "code",
   "execution_count": null,
   "metadata": {},
   "outputs": [],
   "source": [
    "# Create a DataFrame with a specific data type\n",
    "df_dtype = pd.DataFrame(\n",
    "    data={'A': [1, 2, 3], 'B': [1.0, 2.0, 3.0]},\n",
    "    dtype=np.float64\n",
    ")\n",
    "print(\"\\nDataFrame with specific dtype:\")\n",
    "print(df_dtype)\n",
    "print(\"\\nDataFrame dtypes:\")\n",
    "print(df_dtype.dtypes)"
   ]
  },
  {
   "cell_type": "code",
   "execution_count": null,
   "metadata": {},
   "outputs": [],
   "source": [
    "# Create a DataFrame with planet data\n",
    "df_planets = pd.DataFrame(\n",
    "    {'mass': [0.330, 4.87, 5.97],\n",
    "     'radius': [2439.7, 6051.8, 6378.1]},\n",
    "    index=['Mercury', 'Venus', 'Earth']\n",
    ")\n",
    "print(\"\\nPlanets DataFrame:\")\n",
    "print(df_planets)"
   ]
  },
  {
   "cell_type": "markdown",
   "metadata": {},
   "source": [
    "## Converting Series to Other Formats\n",
    "\n",
    "Pandas provides various methods to convert Series to other formats for data interchange and storage."
   ]
  },
  {
   "cell_type": "code",
   "execution_count": null,
   "metadata": {},
   "outputs": [],
   "source": [
    "# Create a Series for conversion examples\n",
    "s = pd.Series([1, 2, 3, 4], index=['a', 'b', 'c', 'd'], name='example_series')\n",
    "print(\"Original Series:\")\n",
    "print(s)"
   ]
  },
  {
   "cell_type": "code",
   "execution_count": null,
   "metadata": {},
   "outputs": [],
   "source": [
    "# Convert Series to dictionary\n",
    "s_dict = s.to_dict()\n",
    "print(\"\\nSeries to dictionary:\")\n",
    "print(s_dict)"
   ]
  },
  {
   "cell_type": "code",
   "execution_count": null,
   "metadata": {},
   "outputs": [],
   "source": [
    "# Convert Series to DataFrame\n",
    "s_frame = s.to_frame()\n",
    "print(\"\\nSeries to DataFrame:\")\n",
    "print(s_frame)"
   ]
  },
  {
   "cell_type": "code",
   "execution_count": null,
   "metadata": {},
   "outputs": [],
   "source": [
    "# Convert Series to DataFrame with custom name\n",
    "s_frame_named = s.to_frame(name='custom_name')\n",
    "print(\"\\nSeries to DataFrame with custom name:\")\n",
    "print(s_frame_named)"
   ]
  },
  {
   "cell_type": "code",
   "execution_count": null,
   "metadata": {},
   "outputs": [],
   "source": [
    "# Convert Series to string\n",
    "s_string = s.to_string()\n",
    "print(\"\\nSeries to string:\")\n",
    "print(s_string)"
   ]
  },
  {
   "cell_type": "code",
   "execution_count": null,
   "metadata": {},
   "outputs": [],
   "source": [
    "# Convert Series to JSON\n",
    "s_json = s.to_json()\n",
    "print(\"\\nSeries to JSON:\")\n",
    "print(s_json)"
   ]
  },
  {
   "cell_type": "code",
   "execution_count": null,
   "metadata": {},
   "outputs": [],
   "source": [
    "# Convert Series to CSV string\n",
    "s_csv = s.to_csv()\n",
    "print(\"\\nSeries to CSV string:\")\n",
    "print(s_csv)"
   ]
  },
  {
   "cell_type": "code",
   "execution_count": null,
   "metadata": {},
   "outputs": [],
   "source": [
    "# Convert Series to Markdown\n",
    "try:\n",
    "    s_markdown = s.to_markdown()\n",
    "    print(\"\\nSeries to Markdown:\")\n",
    "    print(s_markdown)\n",
    "except ImportError:\n",
    "    print(\"\\nMarkdown conversion requires the 'tabulate' package.\")"
   ]
  },
  {
   "cell_type": "markdown",
   "metadata": {},
   "source": [
    "## The `abs()` Method for DataFrames\n",
    "\n",
    "The `abs()` method returns a Series/DataFrame with the absolute numeric value of each element. This function only applies to elements that are all numeric."
   ]
  },
  {
   "cell_type": "code",
   "execution_count": null,
   "metadata": {},
   "outputs": [],
   "source": [
    "# Create a Series with negative values\n",
    "s_neg = pd.Series([-1.10, 2, -3.33, 4])\n",
    "print(\"Series with negative values:\")\n",
    "print(s_neg)"
   ]
  },
  {
   "cell_type": "code",
   "execution_count": null,
   "metadata": {},
   "outputs": [],
   "source": [
    "# Apply abs() to Series\n",
    "s_abs = s_neg.abs()\n",
    "print(\"\\nAbsolute values:\")\n",
    "print(s_abs)"
   ]
  },
  {
   "cell_type": "code",
   "execution_count": null,
   "metadata": {},
   "outputs": [],
   "source": [
    "# Create a Series with complex numbers\n",
    "s_complex = pd.Series([1.2 + 1j])\n",
    "print(\"\\nSeries with complex numbers:\")\n",
    "print(s_complex)"
   ]
  },
  {
   "cell_type": "code",
   "execution_count": null,
   "metadata": {},
   "outputs": [],
   "source": [
    "# Apply abs() to Series with complex numbers\n",
    "s_complex_abs = s_complex.abs()\n",
    "print(\"\\nAbsolute values of complex numbers:\")\n",
    "print(s_complex_abs)"
   ]
  },
  {
   "cell_type": "code",
   "execution_count": null,
   "metadata": {},
   "outputs": [],
   "source": [
    "# Create a Series with Timedelta\n",
    "s_timedelta = pd.Series([pd.Timedelta('1 days')])\n",
    "print(\"\\nSeries with Timedelta:\")\n",
    "print(s_timedelta)"
   ]
  },
  {
   "cell_type": "code",
   "execution_count": null,
   "metadata": {},
   "outputs": [],
   "source": [
    "# Apply abs() to Series with Timedelta\n",
    "s_timedelta_abs = s_timedelta.abs()\n",
    "print(\"\\nAbsolute values of Timedelta:\")\n",
    "print(s_timedelta_abs)"
   ]
  },
  {
   "cell_type": "code",
   "execution_count": null,
   "metadata": {},
   "outputs": [],
   "source": [
    "# Create a DataFrame with mixed positive and negative values\n",
    "df_mixed = pd.DataFrame({\n",
    "    'a': [4, 5, 6, 7],\n",
    "    'b': [10, 20, 30, 40],\n",
    "    'c': [100, 50, -30, -50]\n",
    "})\n",
    "print(\"\\nDataFrame with mixed values:\")\n",
    "print(df_mixed)"
   ]
  },
  {
   "cell_type": "code",
   "execution_count": null,
   "metadata": {},
   "outputs": [],
   "source": [
    "# Apply abs() to DataFrame\n",
    "df_abs = df_mixed.abs()\n",
    "print(\"\\nAbsolute values of DataFrame:\")\n",
    "print(df_abs)"
   ]
  },
  {
   "cell_type": "code",
   "execution_count": null,
   "metadata": {},
   "outputs": [],
   "source": [
    "# Example: Find rows with values closest to a target value\n",
    "target_value = 20\n",
    "closest_rows = (df_mixed['c'] - target_value).abs().argsort()\n",
    "print(f\"\\nRows with values in column 'c' closest to {target_value}:\")\n",
    "print(df_mixed.iloc[closest_rows])"
   ]
  },
  {
   "cell_type": "markdown",
   "metadata": {},
   "source": [
    "## Practical Example: Data Normalization and Scaling"
   ]
  },
  {
   "cell_type": "code",
   "execution_count": null,
   "metadata": {},
   "outputs": [],
   "source": [
    "# Create a DataFrame with student test scores\n",
    "np.random.seed(42)  # For reproducibility\n",
    "scores = pd.DataFrame({\n",
    "    'math': np.random.randint(-100, 100, 10),\n",
    "    'science': np.random.randint(-100, 100, 10),\n",
    "    'english': np.random.randint(-100, 100, 10)\n",
    "})\n",
    "print(\"Student test scores (with errors):\")\n",
    "print(scores)"
   ]
  },
  {
   "cell_type": "code",
   "execution_count": null,
   "metadata": {},
   "outputs": [],
   "source": [
    "# Correct the errors by taking absolute values\n",
    "corrected_scores = scores.abs()\n",
    "print(\"\\nCorrected test scores:\")\n",
    "print(corrected_scores)"
   ]
  },
  {
   "cell_type": "code",
   "execution_count": null,
   "metadata": {},
   "outputs": [],
   "source": [
    "# Calculate z-scores (standardization)\n",
    "z_scores = (corrected_scores - corrected_scores.mean()) / corrected_scores.std()\n",
    "print(\"\\nZ-scores:\")\n",
    "print(z_scores)"
   ]
  },
  {
   "cell_type": "code",
   "execution_count": null,
   "metadata": {},
   "outputs": [],
   "source": [
    "# Min-max scaling to [0, 1]\n",
    "min_max_scaled = (corrected_scores - corrected_scores.min()) / (corrected_scores.max() - corrected_scores.min())\n",
    "print(\"\\nMin-max scaled scores:\")\n",
    "print(min_max_scaled)"
   ]
  },
  {
   "cell_type": "code",
   "execution_count": null,
   "metadata": {},
   "outputs": [],
   "source": [
    "# Visualize the original and scaled data\n",
    "fig, axes = plt.subplots(3, 1, figsize=(10, 12))\n",
    "\n",
    "corrected_scores.plot(kind='bar', ax=axes[0], title='Original Scores')\n",
    "axes[0].set_ylabel('Score')\n",
    "axes[0].grid(axis='y', linestyle='--', alpha=0.7)\n",
    "\n",
    "z_scores.plot(kind='bar', ax=axes[1], title='Z-Scores')\n",
    "axes[1].set_ylabel('Z-Score')\n",
    "axes[1].grid(axis='y', linestyle='--', alpha=0.7)\n",
    "\n",
    "min_max_scaled.plot(kind='bar', ax=axes[2], title='Min-Max Scaled Scores')\n",
    "axes[2].set_ylabel('Scaled Score')\n",
    "axes[2].grid(axis='y', linestyle='--', alpha=0.7)\n",
    "\n",
    "plt.tight_layout()\n",
    "plt.show()"
   ]
  },
  {
   "cell_type": "markdown",
   "metadata": {},
   "source": [
    "## Conclusion\n",
    "\n",
    "In this notebook, we've explored:\n",
    "\n",
    "1. **DataFrame Constructor**: We've seen how to create DataFrames from various data sources, including dictionaries, lists, NumPy arrays, and Series objects. The DataFrame is the primary pandas data structure for working with tabular data.\n",
    "\n",
    "2. **Converting Series to Other Formats**: We've explored methods for converting Series to various formats, including dictionaries, DataFrames, strings, JSON, CSV, and Markdown, which are useful for data interchange and storage.\n",
    "\n",
    "3. **The `abs()` Method**: We've learned how to use the `abs()` method to get the absolute values of numeric elements in Series and DataFrames, which is useful for data cleaning, normalization, and analysis.\n",
    "\n",
    "4. **Practical Applications**: We've seen how these methods can be applied in real-world scenarios, such as data normalization, standardization, and finding values closest to a target.\n",
    "\n",
    "These tools and techniques are essential for data manipulation and analysis in pandas, providing a solid foundation for working with tabular data in Python."
   ]
  }
 ],
 "metadata": {
  "kernelspec": {
   "display_name": "Python 3",
   "language": "python",
   "name": "python3"
  },
  "language_info": {
   "codemirror_mode": {
    "name": "ipython",
    "version": 3
   },
   "file_extension": ".py",
   "mimetype": "text/x-python",
   "name": "python",
   "nbconvert_exporter": "python",
   "pygments_lexer": "ipython3",
   "version": "3.8.5"
  }
 },
 "nbformat": 4,
 "nbformat_minor": 4
}
