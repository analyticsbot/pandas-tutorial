{
 "cells": [
  {
   "cell_type": "markdown",
   "metadata": {},
   "source": [
    "# Pandas Functions and Commands - Part 92\n",
    "\n",
    "This notebook documents pandas functions and commands with examples."
   ]
  },
  {
   "cell_type": "markdown",
   "metadata": {},
   "source": [
    "## Configuration Options\n",
    "\n",
    "Key pandas configuration options:\n",
    "\n",
    "- **io.excel.xlsm.reader/writer**: Excel reader/writer engines for 'xlsm' files\n",
    "- **io.excel.xlsx.reader/writer**: Excel reader/writer engines for 'xlsx' files\n",
    "- **io.hdf.default_format**: Format settings for HDF files\n",
    "- **io.parquet.engine**: Parquet reader/writer engine options\n",
    "- **mode.chained_assignment**: Controls warnings for chained assignment\n",
    "- **mode.use_inf_as_na**: Controls how INF values are treated\n",
    "- **plotting.backend**: Sets the plotting backend"
   ]
  },
  {
   "cell_type": "code",
   "execution_count": null,
   "metadata": {},
   "outputs": [],
   "source": [
    "import pandas as pd\n",
    "\n",
    "# View current settings\n",
    "pd.get_option('mode.chained_assignment')\n",
    "\n",
    "# Change a setting\n",
    "pd.set_option('display.max_rows', 100)\n",
    "\n",
    "# Reset a setting\n",
    "pd.reset_option('display.max_rows')"
   ]
  },
  {
   "cell_type": "markdown",
   "metadata": {},
   "source": [
    "## pandas.reset_option\n",
    "\n",
    "```python\n",
    "pandas.reset_option(pat)\n",
    "```\n",
    "\n",
    "Reset one or more options to their default value. Pass \"all\" as argument to reset all options."
   ]
  },
  {
   "cell_type": "code",
   "execution_count": null,
   "metadata": {},
   "outputs": [],
   "source": [
    "# Reset a specific option\n",
    "pd.reset_option('display.max_rows')\n",
    "\n",
    "# Reset all options\n",
    "pd.reset_option('all')"
   ]
  },
  {
   "cell_type": "markdown",
   "metadata": {},
   "source": [
    "## Type Checking Functions\n",
    "\n",
    "Pandas provides a rich set of type checking functions in the `pandas.api.types` module:"
   ]
  },
  {
   "cell_type": "markdown",
   "metadata": {},
   "source": [
    "### is_bool_dtype\n",
    "\n",
    "Checks whether the provided array or dtype is of a boolean dtype."
   ]
  },
  {
   "cell_type": "code",
   "execution_count": null,
   "metadata": {},
   "outputs": [],
   "source": [
    "import pandas as pd\n",
    "import numpy as np\n",
    "\n",
    "# Examples\n",
    "print(pd.api.types.is_bool_dtype(bool))\n",
    "print(pd.api.types.is_bool_dtype(np.bool))\n",
    "print(pd.api.types.is_bool_dtype(np.array([True, False])))\n",
    "print(pd.api.types.is_bool_dtype(pd.Series([1, 2])))"
   ]
  },
  {
   "cell_type": "markdown",
   "metadata": {},
   "source": [
    "### is_categorical_dtype\n",
    "\n",
    "Checks whether an array-like or dtype is of the Categorical dtype."
   ]
  },
  {
   "cell_type": "code",
   "execution_count": null,
   "metadata": {},
   "outputs": [],
   "source": [
    "# Examples\n",
    "print(pd.api.types.is_categorical_dtype(object))\n",
    "print(pd.api.types.is_categorical_dtype(pd.CategoricalDtype()))\n",
    "print(pd.api.types.is_categorical_dtype(pd.Categorical([1, 2, 3])))\n",
    "print(pd.api.types.is_categorical_dtype(pd.CategoricalIndex([1, 2, 3])))"
   ]
  },
  {
   "cell_type": "markdown",
   "metadata": {},
   "source": [
    "### is_complex_dtype\n",
    "\n",
    "Checks whether the provided array or dtype is of a complex dtype."
   ]
  },
  {
   "cell_type": "code",
   "execution_count": null,
   "metadata": {},
   "outputs": [],
   "source": [
    "# Examples\n",
    "print(pd.api.types.is_complex_dtype(str))\n",
    "print(pd.api.types.is_complex_dtype(np.complex))\n",
    "print(pd.api.types.is_complex_dtype(np.array([1 + 1j, 5])))"
   ]
  },
  {
   "cell_type": "markdown",
   "metadata": {},
   "source": [
    "### is_datetime64_any_dtype\n",
    "\n",
    "Checks whether the provided array or dtype is of the datetime64 dtype."
   ]
  },
  {
   "cell_type": "code",
   "execution_count": null,
   "metadata": {},
   "outputs": [],
   "source": [
    "# Examples\n",
    "print(pd.api.types.is_datetime64_any_dtype(np.dtype('datetime64[ns]')))\n",
    "print(pd.api.types.is_datetime64_any_dtype(pd.Series(pd.date_range('20130101', periods=5))))\n",
    "print(pd.api.types.is_datetime64_any_dtype(pd.Series([1, 2])))"
   ]
  },
  {
   "cell_type": "markdown",
   "metadata": {},
   "source": [
    "### Additional Type-Checking Functions\n",
    "\n",
    "More useful type-checking functions:"
   ]
  },
  {
   "cell_type": "code",
   "execution_count": null,
   "metadata": {},
   "outputs": [],
   "source": [
    "# Create example data\n",
    "timedelta_series = pd.Series(pd.timedelta_range('1 day', periods=3))\n",
    "unsigned_array = np.array([1, 2, 3], dtype=np.uint8)\n",
    "sparse_array = pd.arrays.SparseArray([0, 0, 1, 0, 2])\n",
    "\n",
    "# Test the type checking functions\n",
    "print(\"is_timedelta64_dtype:\", pd.api.types.is_timedelta64_dtype(timedelta_series))\n",
    "print(\"is_timedelta64_ns_dtype:\", pd.api.types.is_timedelta64_ns_dtype(timedelta_series))\n",
    "print(\"is_unsigned_integer_dtype:\", pd.api.types.is_unsigned_integer_dtype(unsigned_array))\n",
    "print(\"is_sparse:\", pd.api.types.is_sparse(sparse_array))"
   ]
  },
  {
   "cell_type": "markdown",
   "metadata": {},
   "source": [
    "## Practical Applications\n",
    "\n",
    "These type checking functions are particularly useful when:"
   ]
  },
  {
   "cell_type": "code",
   "execution_count": null,
   "metadata": {},
   "outputs": [],
   "source": [
    "# Function that performs different operations based on column type\n",
    "def process_column(series):\n",
    "    if pd.api.types.is_numeric_dtype(series):\n",
    "        return series.mean()\n",
    "    elif pd.api.types.is_datetime64_any_dtype(series):\n",
    "        return series.max() - series.min()\n",
    "    elif pd.api.types.is_bool_dtype(series):\n",
    "        return series.sum()\n",
    "    else:\n",
    "        return series.nunique()\n",
    "\n",
    "# Create a sample DataFrame\n",
    "df = pd.DataFrame({\n",
    "    'numeric': [1, 2, 3, 4, 5],\n",
    "    'dates': pd.date_range('20210101', periods=5),\n",
    "    'boolean': [True, False, True, True, False],\n",
    "    'category': pd.Categorical(['A', 'B', 'A', 'C', 'B'])\n",
    "})\n",
    "\n",
    "# Apply the function to each column\n",
    "for col in df.columns:\n",
    "    print(f\"{col}: {process_column(df[col])}\")"
   ]
  }
 ],
 "metadata": {
  "kernelspec": {
   "display_name": "Python 3",
   "language": "python",
   "name": "python3"
  },
  "language_info": {
   "codemirror_mode": {
    "name": "ipython",
    "version": 3
   },
   "file_extension": ".py",
   "mimetype": "text/x-python",
   "name": "python",
   "nbconvert_exporter": "python",
   "pygments_lexer": "ipython3",
   "version": "3.8.5"
  }
 },
 "nbformat": 4,
 "nbformat_minor": 4
}
