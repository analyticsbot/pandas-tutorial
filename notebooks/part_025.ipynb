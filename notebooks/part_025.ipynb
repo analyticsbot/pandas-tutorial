{
 "cells": [
  {
   "cell_type": "markdown",
   "metadata": {},
   "source": [
    "#### Part 25: Advanced Data Visualization in Pandas\n",
    "\n",
    "In this notebook, we'll explore more advanced data visualization techniques in pandas, including:\n",
    "- Stacked and horizontal bar plots\n",
    "- Histograms with various options\n",
    "- Advanced scatter plots\n",
    "- Hexagonal bin plots\n",
    "\n",
    "##### Setup\n",
    "First, let's import the necessary libraries:"
   ]
  },
  {
   "cell_type": "code",
   "execution_count": null,
   "metadata": {},
   "outputs": [],
   "source": [
    "import pandas as pd\n",
    "import numpy as np\n",
    "import matplotlib.pyplot as plt\n",
    "\n",
    "# Set the plotting style\n",
    "plt.style.use('ggplot')\n",
    "\n",
    "# Make plots appear in the notebook\n",
    "%matplotlib inline"
   ]
  },
  {
   "cell_type": "markdown",
   "metadata": {},
   "source": [
    "##### 1. Bar Plots\n",
    "\n",
    "### 1.1 Stacked Bar Plots\n",
    "\n",
    "Stacked bar plots are useful for showing the composition of different categories:"
   ]
  },
  {
   "cell_type": "code",
   "execution_count": null,
   "metadata": {},
   "outputs": [],
   "source": [
    "# Create a DataFrame for bar plots\n",
    "df2 = pd.DataFrame(np.random.rand(10, 4), columns=['a', 'b', 'c', 'd'])\n",
    "\n",
    "# Create a stacked bar plot\n",
    "df2.plot.bar(stacked=True, figsize=(10, 6), title='Stacked Bar Plot')"
   ]
  },
  {
   "cell_type": "markdown",
   "metadata": {},
   "source": [
    "### 1.2 Horizontal Bar Plots\n",
    "\n",
    "Horizontal bar plots are particularly useful when you have long category names:"
   ]
  },
  {
   "cell_type": "code",
   "execution_count": null,
   "metadata": {},
   "outputs": [],
   "source": [
    "# Create a horizontal stacked bar plot\n",
    "df2.plot.barh(stacked=True, figsize=(10, 6), title='Horizontal Stacked Bar Plot')"
   ]
  },
  {
   "cell_type": "markdown",
   "metadata": {},
   "source": [
    "##### 2. Histograms\n",
    "\n",
    "Histograms are useful for visualizing the distribution of data:"
   ]
  },
  {
   "cell_type": "code",
   "execution_count": null,
   "metadata": {},
   "outputs": [],
   "source": [
    "# Create a DataFrame with different distributions\n",
    "df4 = pd.DataFrame({\n",
    "    'a': np.random.randn(1000) + 1,  # Shifted to the right\n",
    "    'b': np.random.randn(1000),      # Standard normal\n",
    "    'c': np.random.randn(1000) - 1   # Shifted to the left\n",
    "}, columns=['a', 'b', 'c'])\n",
    "\n",
    "# Create a histogram with transparency\n",
    "plt.figure(figsize=(10, 6))\n",
    "df4.plot.hist(alpha=0.5, title='Histogram with Transparency')"
   ]
  },
  {
   "cell_type": "markdown",
   "metadata": {},
   "source": [
    "### 2.1 Stacked Histograms\n",
    "\n",
    "You can also create stacked histograms:"
   ]
  },
  {
   "cell_type": "code",
   "execution_count": null,
   "metadata": {},
   "outputs": [],
   "source": [
    "# Create a stacked histogram with custom bins\n",
    "plt.figure(figsize=(10, 6))\n",
    "df4.plot.hist(stacked=True, bins=20, title='Stacked Histogram with Custom Bins')"
   ]
  },
  {
   "cell_type": "markdown",
   "metadata": {},
   "source": [
    "### 2.2 Horizontal and Cumulative Histograms\n",
    "\n",
    "You can create horizontal and cumulative histograms:"
   ]
  },
  {
   "cell_type": "code",
   "execution_count": null,
   "metadata": {},
   "outputs": [],
   "source": [
    "# Create a horizontal cumulative histogram\n",
    "plt.figure(figsize=(10, 6))\n",
    "df4['a'].plot.hist(orientation='horizontal', cumulative=True, \n",
    "                   title='Horizontal Cumulative Histogram')"
   ]
  },
  {
   "cell_type": "markdown",
   "metadata": {},
   "source": [
    "### 2.3 Using the hist Method\n",
    "\n",
    "You can also use the `hist` method directly:"
   ]
  },
  {
   "cell_type": "code",
   "execution_count": null,
   "metadata": {},
   "outputs": [],
   "source": [
    "# Create a time series\n",
    "ts = pd.Series(np.random.randn(1000), index=pd.date_range('1/1/2000', periods=1000))\n",
    "df = pd.DataFrame(np.random.randn(1000, 4), index=ts.index, columns=['A', 'B', 'C', 'D'])\n",
    "df = df.cumsum()\n",
    "\n",
    "# Create a histogram of the differences\n",
    "plt.figure(figsize=(10, 6))\n",
    "df['A'].diff().hist(title='Histogram of Differences')"
   ]
  },
  {
   "cell_type": "markdown",
   "metadata": {},
   "source": [
    "##### 3. Advanced Scatter Plots\n",
    "\n",
    "Scatter plots are useful for visualizing the relationship between two variables:"
   ]
  },
  {
   "cell_type": "code",
   "execution_count": null,
   "metadata": {},
   "outputs": [],
   "source": [
    "# Create a DataFrame for scatter plots\n",
    "df = pd.DataFrame({\n",
    "    'a': np.random.randn(100),\n",
    "    'b': np.random.randn(100),\n",
    "    'c': np.random.randn(100),\n",
    "    'd': np.random.randn(100)\n",
    "})\n",
    "\n",
    "# Create a basic scatter plot\n",
    "df.plot.scatter(x='a', y='b', figsize=(10, 6), title='Basic Scatter Plot')"
   ]
  },
  {
   "cell_type": "markdown",
   "metadata": {},
   "source": [
    "### 3.1 Multiple Scatter Plots on the Same Axes\n",
    "\n",
    "You can create multiple scatter plots on the same axes:"
   ]
  },
  {
   "cell_type": "code",
   "execution_count": null,
   "metadata": {},
   "outputs": [],
   "source": [
    "# Create multiple scatter plots on the same axes\n",
    "fig, ax = plt.subplots(figsize=(10, 6))\n",
    "df.plot.scatter(x='a', y='b', color='DarkBlue', label='Group 1', ax=ax)\n",
    "df.plot.scatter(x='c', y='d', color='DarkGreen', label='Group 2', ax=ax)\n",
    "plt.title('Multiple Scatter Plots')\n",
    "plt.legend()"
   ]
  },
  {
   "cell_type": "markdown",
   "metadata": {},
   "source": [
    "### 3.2 Colored Scatter Plots\n",
    "\n",
    "You can color the points in a scatter plot based on a column in your DataFrame:"
   ]
  },
  {
   "cell_type": "code",
   "execution_count": null,
   "metadata": {},
   "outputs": [],
   "source": [
    "# Create a colored scatter plot\n",
    "df.plot.scatter(x='a', y='b', c='c', s=50, figsize=(10, 6), \n",
    "                title='Colored Scatter Plot')"
   ]
  },
  {
   "cell_type": "markdown",
   "metadata": {},
   "source": [
    "### 3.3 Bubble Charts\n",
    "\n",
    "You can create a bubble chart by varying the size of the points:"
   ]
  },
  {
   "cell_type": "code",
   "execution_count": null,
   "metadata": {},
   "outputs": [],
   "source": [
    "# Create a bubble chart\n",
    "df.plot.scatter(x='a', y='b', s=df['c'] * 200, figsize=(10, 6), \n",
    "                title='Bubble Chart')"
   ]
  },
  {
   "cell_type": "markdown",
   "metadata": {},
   "source": [
    "##### 4. Hexagonal Bin Plots\n",
    "\n",
    "Hexagonal bin plots are useful for visualizing the density of points in a scatter plot, especially when there are many points:"
   ]
  },
  {
   "cell_type": "code",
   "execution_count": null,
   "metadata": {},
   "outputs": [],
   "source": [
    "# Create a DataFrame for hexbin plot\n",
    "df = pd.DataFrame(np.random.randn(1000, 2), columns=['a', 'b'])\n",
    "df['b'] = df['b'] + np.arange(1000)  # Add a trend to 'b'\n",
    "\n",
    "# Create a hexbin plot\n",
    "df.plot.hexbin(x='a', y='b', gridsize=25, figsize=(10, 6), \n",
    "               title='Hexagonal Bin Plot')"
   ]
  },
  {
   "cell_type": "markdown",
   "metadata": {},
   "source": [
    "### 4.1 Hexbin with Custom Aggregation\n",
    "\n",
    "You can specify alternative aggregations for the bins:"
   ]
  },
  {
   "cell_type": "code",
   "execution_count": null,
   "metadata": {},
   "outputs": [],
   "source": [
    "# Create a DataFrame with an additional column for aggregation\n",
    "df = pd.DataFrame(np.random.randn(1000, 2), columns=['a', 'b'])\n",
    "df['z'] = np.random.randn(1000) * 100\n",
    "\n",
    "# Create a hexbin plot with custom aggregation\n",
    "df.plot.hexbin(x='a', y='b', C='z', reduce_C_function=np.max, gridsize=25, \n",
    "               figsize=(10, 6), title='Hexbin with Custom Aggregation')"
   ]
  },
  {
   "cell_type": "markdown",
   "metadata": {},
   "source": [
    "##### 5. Combining Different Plot Types\n",
    "\n",
    "You can combine different plot types by using matplotlib's object-oriented interface:"
   ]
  },
  {
   "cell_type": "code",
   "execution_count": null,
   "metadata": {},
   "outputs": [],
   "source": [
    "# Create a DataFrame for combined plot\n",
    "df = pd.DataFrame({\n",
    "    'A': np.random.randn(100).cumsum(),\n",
    "    'B': np.random.randn(100).cumsum(),\n",
    "    'C': np.random.randn(100).cumsum()\n",
    "})\n",
    "\n",
    "# Create a combined plot\n",
    "fig, ax1 = plt.subplots(figsize=(10, 6))\n",
    "\n",
    "# Plot line on the first y-axis\n",
    "color = 'tab:blue'\n",
    "ax1.set_xlabel('Index')\n",
    "ax1.set_ylabel('A and B', color=color)\n",
    "ax1.plot(df.index, df['A'], color=color, label='A')\n",
    "ax1.plot(df.index, df['B'], color='tab:orange', label='B')\n",
    "ax1.tick_params(axis='y', labelcolor=color)\n",
    "ax1.legend(loc='upper left')\n",
    "\n",
    "# Create a second y-axis\n",
    "ax2 = ax1.twinx()\n",
    "color = 'tab:green'\n",
    "ax2.set_ylabel('C', color=color)\n",
    "ax2.plot(df.index, df['C'], color=color, label='C')\n",
    "ax2.tick_params(axis='y', labelcolor=color)\n",
    "ax2.legend(loc='upper right')\n",
    "\n",
    "plt.title('Combined Plot with Two Y-Axes')\n",
    "fig.tight_layout()"
   ]
  },
  {
   "cell_type": "markdown",
   "metadata": {},
   "source": [
    "##### Summary\n",
    "\n",
    "In this notebook, we've explored more advanced data visualization techniques in pandas, including:\n",
    "\n",
    "1. Bar plots:\n",
    "   - Stacked bar plots\n",
    "   - Horizontal bar plots\n",
    "\n",
    "2. Histograms:\n",
    "   - Basic histograms with transparency\n",
    "   - Stacked histograms with custom bins\n",
    "   - Horizontal and cumulative histograms\n",
    "\n",
    "3. Advanced scatter plots:\n",
    "   - Multiple scatter plots on the same axes\n",
    "   - Colored scatter plots\n",
    "   - Bubble charts\n",
    "\n",
    "4. Hexagonal bin plots:\n",
    "   - Basic hexbin plots\n",
    "   - Hexbin plots with custom aggregation\n",
    "\n",
    "5. Combining different plot types\n",
    "\n",
    "These visualization techniques are powerful tools for exploratory data analysis and presenting your findings effectively."
   ]
  }
 ],
 "metadata": {
  "kernelspec": {
   "display_name": "Python 3",
   "language": "python",
   "name": "python3"
  },
  "language_info": {
   "codemirror_mode": {
    "name": "ipython",
    "version": 3
   },
   "file_extension": ".py",
   "mimetype": "text/x-python",
   "name": "python",
   "nbconvert_exporter": "python",
   "pygments_lexer": "ipython3",
   "version": "3.8.5"
  }
 },
 "nbformat": 4,
 "nbformat_minor": 4
}