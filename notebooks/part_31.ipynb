{
 "cells": [
  {
   "cell_type": "markdown",
   "metadata": {},
   "source": [
    "#### Pandas Tutorial - Part 31\n",
    "\n",
    "This notebook covers advanced time series functionality in pandas, focusing on:\n",
    "- DatetimeIndex partial string indexing\n",
    "- Slicing with date strings in DataFrames\n",
    "- Slicing with date strings in MultiIndex DataFrames\n",
    "- Slicing with UTC offset\n",
    "- Time resampling with various parameters"
   ]
  },
  {
   "cell_type": "code",
   "execution_count": null,
   "metadata": {},
   "outputs": [],
   "source": [
    "import pandas as pd\n",
    "import numpy as np\n",
    "import matplotlib.pyplot as plt\n",
    "\n",
    "%matplotlib inline"
   ]
  },
  {
   "cell_type": "markdown",
   "metadata": {},
   "source": [
    "##### DatetimeIndex Partial String Indexing\n",
    "\n",
    "Pandas allows you to slice time series data using partial string indexing, which is a powerful and convenient way to select date ranges."
   ]
  },
  {
   "cell_type": "code",
   "execution_count": null,
   "metadata": {},
   "outputs": [],
   "source": [
    "# Create a DataFrame with DatetimeIndex\n",
    "rng = pd.date_range('2013-01-01', periods=84960, freq='1min')\n",
    "dft = pd.DataFrame({'A': np.random.randn(len(rng))}, index=rng)\n",
    "dft.head()"
   ]
  },
  {
   "cell_type": "markdown",
   "metadata": {},
   "source": [
    "### Slicing by Date Range\n",
    "\n",
    "You can slice using partial string notation to select ranges of dates."
   ]
  },
  {
   "cell_type": "code",
   "execution_count": null,
   "metadata": {},
   "outputs": [],
   "source": [
    "# This specifies a stop time that includes all of the times on the last day\n",
    "dft['2013-1':'2013-2-28']"
   ]
  },
  {
   "cell_type": "code",
   "execution_count": null,
   "metadata": {},
   "outputs": [],
   "source": [
    "# This specifies an exact stop time (and is not the same as the above)\n",
    "dft['2013-1':'2013-2-28 00:00:00']"
   ]
  },
  {
   "cell_type": "code",
   "execution_count": null,
   "metadata": {},
   "outputs": [],
   "source": [
    "# We are stopping on the included end-point as it is part of the index\n",
    "dft['2013-1-15':'2013-1-15 12:30:00']"
   ]
  },
  {
   "cell_type": "markdown",
   "metadata": {},
   "source": [
    "##### DatetimeIndex with MultiIndex\n",
    "\n",
    "DatetimeIndex partial string indexing also works on a DataFrame with a MultiIndex."
   ]
  },
  {
   "cell_type": "code",
   "execution_count": null,
   "metadata": {},
   "outputs": [],
   "source": [
    "# Create a DataFrame with a MultiIndex\n",
    "dft2 = pd.DataFrame(np.random.randn(20, 1),\n",
    "                    columns=['A'],\n",
    "                    index=pd.MultiIndex.from_product(\n",
    "                        [pd.date_range('20130101', periods=10, freq='12H'),\n",
    "                         ['a', 'b']]))\n",
    "dft2"
   ]
  },
  {
   "cell_type": "code",
   "execution_count": null,
   "metadata": {},
   "outputs": [],
   "source": [
    "# Selecting a specific date\n",
    "dft2.loc['2013-01-05']"
   ]
  },
  {
   "cell_type": "code",
   "execution_count": null,
   "metadata": {},
   "outputs": [],
   "source": [
    "# Using IndexSlice for more complex selections\n",
    "idx = pd.IndexSlice\n",
    "dft2 = dft2.swaplevel(0, 1).sort_index()\n",
    "dft2.loc[idx[:, '2013-01-05'], :]"
   ]
  },
  {
   "cell_type": "markdown",
   "metadata": {},
   "source": [
    "##### Slicing with UTC Offset\n",
    "\n",
    "Slicing with string indexing also honors UTC offset (new in pandas 0.25.0)."
   ]
  },
  {
   "cell_type": "code",
   "execution_count": null,
   "metadata": {},
   "outputs": [],
   "source": [
    "# Create a DataFrame with timezone information\n",
    "df = pd.DataFrame([0], index=pd.DatetimeIndex(['2019-01-01'], tz='US/Pacific'))\n",
    "df"
   ]
  },
  {
   "cell_type": "code",
   "execution_count": null,
   "metadata": {},
   "outputs": [],
   "source": [
    "# Slicing with timezone-aware timestamps\n",
    "df['2019-01-01 12:00:00+04:00':'2019-01-01 13:00:00+04:00']"
   ]
  },
  {
   "cell_type": "markdown",
   "metadata": {},
   "source": [
    "##### Time Resampling\n",
    "\n",
    "Resampling is a convenient way to convert time series data from one frequency to another. It can be used to:\n",
    "- Downsample: reduce the frequency (e.g., from seconds to minutes)\n",
    "- Upsample: increase the frequency (e.g., from days to hours)"
   ]
  },
  {
   "cell_type": "code",
   "execution_count": null,
   "metadata": {},
   "outputs": [],
   "source": [
    "# Create a time series\n",
    "rng = pd.date_range('1/1/2012', periods=100, freq='S')\n",
    "ts = pd.Series(np.random.randint(0, 500, len(rng)), index=rng)\n",
    "ts.head()"
   ]
  },
  {
   "cell_type": "markdown",
   "metadata": {},
   "source": [
    "### Basic Resampling Operations"
   ]
  },
  {
   "cell_type": "code",
   "execution_count": null,
   "metadata": {},
   "outputs": [],
   "source": [
    "# Resample to 5-minute frequency and compute the mean\n",
    "ts.resample('5Min').mean()"
   ]
  },
  {
   "cell_type": "code",
   "execution_count": null,
   "metadata": {},
   "outputs": [],
   "source": [
    "# Resample to 5-minute frequency and compute open, high, low, close (OHLC)\n",
    "ts.resample('5Min').ohlc()"
   ]
  },
  {
   "cell_type": "code",
   "execution_count": null,
   "metadata": {},
   "outputs": [],
   "source": [
    "# Resample to 5-minute frequency and compute the max\n",
    "ts.resample('5Min').max()"
   ]
  },
  {
   "cell_type": "markdown",
   "metadata": {},
   "source": [
    "### Downsampling with 'closed' Parameter\n",
    "\n",
    "For downsampling, the 'closed' parameter can be set to 'left' or 'right' to specify which end of the interval is closed."
   ]
  },
  {
   "cell_type": "code",
   "execution_count": null,
   "metadata": {},
   "outputs": [],
   "source": [
    "# Resample with closed='right'\n",
    "ts.resample('5Min', closed='right').mean()"
   ]
  },
  {
   "cell_type": "code",
   "execution_count": null,
   "metadata": {},
   "outputs": [],
   "source": [
    "# Resample with closed='left' (default)\n",
    "ts.resample('5Min', closed='left').mean()"
   ]
  },
  {
   "cell_type": "markdown",
   "metadata": {},
   "source": [
    "### Using 'label' and 'loffset' Parameters\n",
    "\n",
    "Parameters like 'label' and 'loffset' are used to manipulate the resulting labels:\n",
    "- 'label' specifies whether the result is labeled with the beginning or the end of the interval\n",
    "- 'loffset' performs a time adjustment on the output labels"
   ]
  },
  {
   "cell_type": "code",
   "execution_count": null,
   "metadata": {},
   "outputs": [],
   "source": [
    "# Default: label='left'\n",
    "ts.resample('5Min').mean()"
   ]
  },
  {
   "cell_type": "code",
   "execution_count": null,
   "metadata": {},
   "outputs": [],
   "source": [
    "# Explicitly setting label='left'\n",
    "ts.resample('5Min', label='left').mean()"
   ]
  },
  {
   "cell_type": "code",
   "execution_count": null,
   "metadata": {},
   "outputs": [],
   "source": [
    "# Using loffset to adjust the output labels\n",
    "ts.resample('5Min', label='left', loffset='1s').mean()"
   ]
  },
  {
   "cell_type": "markdown",
   "metadata": {},
   "source": [
    "### Warning about Default Values\n",
    "\n",
    "The default values for 'label' and 'closed' is 'left' for all frequency offsets except for 'M', 'A', 'Q', 'BM', 'BA', 'BQ', and 'W' which all have a default of 'right'. This might unintendedly lead to looking ahead."
   ]
  },
  {
   "cell_type": "code",
   "execution_count": null,
   "metadata": {},
   "outputs": [],
   "source": [
    "# Example showing how values can be pulled back\n",
    "s = pd.date_range('2000-01-01', '2000-01-05').to_series()\n",
    "s.iloc[2] = pd.NaT\n",
    "s.dt.day_name()"
   ]
  },
  {
   "cell_type": "code",
   "execution_count": null,
   "metadata": {},
   "outputs": [],
   "source": [
    "# Default: label='left', closed='left'\n",
    "s.resample('B').last().dt.day_name()"
   ]
  },
  {
   "cell_type": "code",
   "execution_count": null,
   "metadata": {},
   "outputs": [],
   "source": [
    "# Using label='right', closed='right' to push Sunday to Monday\n",
    "s.resample('B', label='right', closed='right').last().dt.day_name()"
   ]
  },
  {
   "cell_type": "markdown",
   "metadata": {},
   "source": [
    "##### Upsampling\n",
    "\n",
    "For upsampling, you can specify a way to upsample and the limit parameter to interpolate over the gaps that are created."
   ]
  },
  {
   "cell_type": "code",
   "execution_count": null,
   "metadata": {},
   "outputs": [],
   "source": [
    "# Upsampling from secondly to every 250 milliseconds with asfreq (no interpolation)\n",
    "ts[:2].resample('250L').asfreq()"
   ]
  },
  {
   "cell_type": "code",
   "execution_count": null,
   "metadata": {},
   "outputs": [],
   "source": [
    "# Upsampling with forward fill (ffill) to fill the gaps\n",
    "ts[:2].resample('250L').ffill()"
   ]
  },
  {
   "cell_type": "markdown",
   "metadata": {},
   "source": [
    "##### Conclusion\n",
    "\n",
    "In this notebook, we've explored advanced time series functionality in pandas, including:\n",
    "\n",
    "1. DatetimeIndex partial string indexing for convenient date range selection\n",
    "2. Working with DatetimeIndex in MultiIndex DataFrames\n",
    "3. Slicing with timezone-aware timestamps\n",
    "4. Time resampling with various parameters and options\n",
    "5. Downsampling with the 'closed' parameter\n",
    "6. Using 'label' and 'loffset' parameters\n",
    "7. Upsampling with different interpolation methods\n",
    "\n",
    "These features make pandas a powerful tool for time series analysis and manipulation."
   ]
  }
 ],
 "metadata": {
  "kernelspec": {
   "display_name": "Python 3",
   "language": "python",
   "name": "python3"
  },
  "language_info": {
   "codemirror_mode": {
    "name": "ipython",
    "version": 3
   },
   "file_extension": ".py",
   "mimetype": "text/x-python",
   "name": "python",
   "nbconvert_exporter": "python",
   "pygments_lexer": "ipython3",
   "version": "3.8.5"
  }
 },
 "nbformat": 4,
 "nbformat_minor": 4
}