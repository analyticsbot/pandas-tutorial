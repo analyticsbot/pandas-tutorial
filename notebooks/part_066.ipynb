{
 "cells": [
  {
   "cell_type": "markdown",
   "metadata": {},
   "source": [
    "#### Pandas Tutorial - Part 66: DataFrame Methods (set_index, to_csv)\n",
    "\n",
    "This notebook covers two important DataFrame methods:\n",
    "- `set_index()` - Set the DataFrame index using existing columns\n",
    "- `to_csv()` - Write object to a comma-separated values (csv) file"
   ]
  },
  {
   "cell_type": "code",
   "execution_count": 1,
   "metadata": {},
   "outputs": [],
   "source": [
    "import pandas as pd\n",
    "import numpy as np\n",
    "import matplotlib.pyplot as plt\n",
    "import os\n",
    "import tempfile\n",
    "\n",
    "# Set display options\n",
    "pd.set_option('display.max_columns', None)\n",
    "pd.set_option('display.expand_frame_repr', False)"
   ]
  },
  {
   "cell_type": "markdown",
   "metadata": {},
   "source": [
    "##### 1. DataFrame.set_index()\n",
    "\n",
    "The `set_index()` method sets the DataFrame index (row labels) using one or more existing columns or arrays. The index can replace the existing index or expand on it."
   ]
  },
  {
   "cell_type": "code",
   "execution_count": 2,
   "metadata": {},
   "outputs": [
    {
     "name": "stdout",
     "output_type": "stream",
     "text": [
      "Original DataFrame:\n"
     ]
    },
    {
     "data": {
      "text/html": [
       "<div>\n",
       "<style scoped>\n",
       "    .dataframe tbody tr th:only-of-type {\n",
       "        vertical-align: middle;\n",
       "    }\n",
       "\n",
       "    .dataframe tbody tr th {\n",
       "        vertical-align: top;\n",
       "    }\n",
       "\n",
       "    .dataframe thead th {\n",
       "        text-align: right;\n",
       "    }\n",
       "</style>\n",
       "<table border=\"1\" class=\"dataframe\">\n",
       "  <thead>\n",
       "    <tr style=\"text-align: right;\">\n",
       "      <th></th>\n",
       "      <th>month</th>\n",
       "      <th>year</th>\n",
       "      <th>sale</th>\n",
       "    </tr>\n",
       "  </thead>\n",
       "  <tbody>\n",
       "    <tr>\n",
       "      <th>0</th>\n",
       "      <td>1</td>\n",
       "      <td>2012</td>\n",
       "      <td>55</td>\n",
       "    </tr>\n",
       "    <tr>\n",
       "      <th>1</th>\n",
       "      <td>4</td>\n",
       "      <td>2014</td>\n",
       "      <td>40</td>\n",
       "    </tr>\n",
       "    <tr>\n",
       "      <th>2</th>\n",
       "      <td>7</td>\n",
       "      <td>2013</td>\n",
       "      <td>84</td>\n",
       "    </tr>\n",
       "    <tr>\n",
       "      <th>3</th>\n",
       "      <td>10</td>\n",
       "      <td>2014</td>\n",
       "      <td>31</td>\n",
       "    </tr>\n",
       "  </tbody>\n",
       "</table>\n",
       "</div>"
      ],
      "text/plain": [
       "   month  year  sale\n",
       "0      1  2012    55\n",
       "1      4  2014    40\n",
       "2      7  2013    84\n",
       "3     10  2014    31"
      ]
     },
     "execution_count": 2,
     "metadata": {},
     "output_type": "execute_result"
    }
   ],
   "source": [
    "# Create a sample DataFrame\n",
    "df = pd.DataFrame({\n",
    "    'month': [1, 4, 7, 10],\n",
    "    'year': [2012, 2014, 2013, 2014],\n",
    "    'sale': [55, 40, 84, 31]\n",
    "})\n",
    "\n",
    "print(\"Original DataFrame:\")\n",
    "df"
   ]
  },
  {
   "cell_type": "code",
   "execution_count": 3,
   "metadata": {},
   "outputs": [
    {
     "name": "stdout",
     "output_type": "stream",
     "text": [
      "Set 'month' as index:\n"
     ]
    },
    {
     "data": {
      "text/html": [
       "<div>\n",
       "<style scoped>\n",
       "    .dataframe tbody tr th:only-of-type {\n",
       "        vertical-align: middle;\n",
       "    }\n",
       "\n",
       "    .dataframe tbody tr th {\n",
       "        vertical-align: top;\n",
       "    }\n",
       "\n",
       "    .dataframe thead th {\n",
       "        text-align: right;\n",
       "    }\n",
       "</style>\n",
       "<table border=\"1\" class=\"dataframe\">\n",
       "  <thead>\n",
       "    <tr style=\"text-align: right;\">\n",
       "      <th></th>\n",
       "      <th>year</th>\n",
       "      <th>sale</th>\n",
       "    </tr>\n",
       "    <tr>\n",
       "      <th>month</th>\n",
       "      <th></th>\n",
       "      <th></th>\n",
       "    </tr>\n",
       "  </thead>\n",
       "  <tbody>\n",
       "    <tr>\n",
       "      <th>1</th>\n",
       "      <td>2012</td>\n",
       "      <td>55</td>\n",
       "    </tr>\n",
       "    <tr>\n",
       "      <th>4</th>\n",
       "      <td>2014</td>\n",
       "      <td>40</td>\n",
       "    </tr>\n",
       "    <tr>\n",
       "      <th>7</th>\n",
       "      <td>2013</td>\n",
       "      <td>84</td>\n",
       "    </tr>\n",
       "    <tr>\n",
       "      <th>10</th>\n",
       "      <td>2014</td>\n",
       "      <td>31</td>\n",
       "    </tr>\n",
       "  </tbody>\n",
       "</table>\n",
       "</div>"
      ],
      "text/plain": [
       "       year  sale\n",
       "month            \n",
       "1      2012    55\n",
       "4      2014    40\n",
       "7      2013    84\n",
       "10     2014    31"
      ]
     },
     "execution_count": 3,
     "metadata": {},
     "output_type": "execute_result"
    }
   ],
   "source": [
    "# Set the index to become the 'month' column\n",
    "print(\"Set 'month' as index:\")\n",
    "df.set_index('month')"
   ]
  },
  {
   "cell_type": "code",
   "execution_count": 4,
   "metadata": {},
   "outputs": [
    {
     "name": "stdout",
     "output_type": "stream",
     "text": [
      "Set MultiIndex using 'year' and 'month':\n"
     ]
    },
    {
     "data": {
      "text/html": [
       "<div>\n",
       "<style scoped>\n",
       "    .dataframe tbody tr th:only-of-type {\n",
       "        vertical-align: middle;\n",
       "    }\n",
       "\n",
       "    .dataframe tbody tr th {\n",
       "        vertical-align: top;\n",
       "    }\n",
       "\n",
       "    .dataframe thead th {\n",
       "        text-align: right;\n",
       "    }\n",
       "</style>\n",
       "<table border=\"1\" class=\"dataframe\">\n",
       "  <thead>\n",
       "    <tr style=\"text-align: right;\">\n",
       "      <th></th>\n",
       "      <th></th>\n",
       "      <th>sale</th>\n",
       "    </tr>\n",
       "    <tr>\n",
       "      <th>year</th>\n",
       "      <th>month</th>\n",
       "      <th></th>\n",
       "    </tr>\n",
       "  </thead>\n",
       "  <tbody>\n",
       "    <tr>\n",
       "      <th>2012</th>\n",
       "      <th>1</th>\n",
       "      <td>55</td>\n",
       "    </tr>\n",
       "    <tr>\n",
       "      <th>2014</th>\n",
       "      <th>4</th>\n",
       "      <td>40</td>\n",
       "    </tr>\n",
       "    <tr>\n",
       "      <th>2013</th>\n",
       "      <th>7</th>\n",
       "      <td>84</td>\n",
       "    </tr>\n",
       "    <tr>\n",
       "      <th>2014</th>\n",
       "      <th>10</th>\n",
       "      <td>31</td>\n",
       "    </tr>\n",
       "  </tbody>\n",
       "</table>\n",
       "</div>"
      ],
      "text/plain": [
       "            sale\n",
       "year month      \n",
       "2012 1        55\n",
       "2014 4        40\n",
       "2013 7        84\n",
       "2014 10       31"
      ]
     },
     "execution_count": 4,
     "metadata": {},
     "output_type": "execute_result"
    }
   ],
   "source": [
    "# Create a MultiIndex using columns 'year' and 'month'\n",
    "print(\"Set MultiIndex using 'year' and 'month':\")\n",
    "df.set_index(['year', 'month'])"
   ]
  },
  {
   "cell_type": "code",
   "execution_count": 5,
   "metadata": {},
   "outputs": [
    {
     "name": "stdout",
     "output_type": "stream",
     "text": [
      "Set 'month' as index without dropping the column:\n"
     ]
    },
    {
     "data": {
      "text/html": [
       "<div>\n",
       "<style scoped>\n",
       "    .dataframe tbody tr th:only-of-type {\n",
       "        vertical-align: middle;\n",
       "    }\n",
       "\n",
       "    .dataframe tbody tr th {\n",
       "        vertical-align: top;\n",
       "    }\n",
       "\n",
       "    .dataframe thead th {\n",
       "        text-align: right;\n",
       "    }\n",
       "</style>\n",
       "<table border=\"1\" class=\"dataframe\">\n",
       "  <thead>\n",
       "    <tr style=\"text-align: right;\">\n",
       "      <th></th>\n",
       "      <th>month</th>\n",
       "      <th>year</th>\n",
       "      <th>sale</th>\n",
       "    </tr>\n",
       "    <tr>\n",
       "      <th>month</th>\n",
       "      <th></th>\n",
       "      <th></th>\n",
       "      <th></th>\n",
       "    </tr>\n",
       "  </thead>\n",
       "  <tbody>\n",
       "    <tr>\n",
       "      <th>1</th>\n",
       "      <td>1</td>\n",
       "      <td>2012</td>\n",
       "      <td>55</td>\n",
       "    </tr>\n",
       "    <tr>\n",
       "      <th>4</th>\n",
       "      <td>4</td>\n",
       "      <td>2014</td>\n",
       "      <td>40</td>\n",
       "    </tr>\n",
       "    <tr>\n",
       "      <th>7</th>\n",
       "      <td>7</td>\n",
       "      <td>2013</td>\n",
       "      <td>84</td>\n",
       "    </tr>\n",
       "    <tr>\n",
       "      <th>10</th>\n",
       "      <td>10</td>\n",
       "      <td>2014</td>\n",
       "      <td>31</td>\n",
       "    </tr>\n",
       "  </tbody>\n",
       "</table>\n",
       "</div>"
      ],
      "text/plain": [
       "       month  year  sale\n",
       "month                   \n",
       "1          1  2012    55\n",
       "4          4  2014    40\n",
       "7          7  2013    84\n",
       "10        10  2014    31"
      ]
     },
     "execution_count": 5,
     "metadata": {},
     "output_type": "execute_result"
    }
   ],
   "source": [
    "# Set index without dropping the columns\n",
    "print(\"Set 'month' as index without dropping the column:\")\n",
    "df.set_index('month', drop=False)"
   ]
  },
  {
   "cell_type": "code",
   "execution_count": 6,
   "metadata": {},
   "outputs": [
    {
     "name": "stdout",
     "output_type": "stream",
     "text": [
      "DataFrame with 'year' as index:\n",
      "      month  sale\n",
      "year             \n",
      "2012      1    55\n",
      "2014      4    40\n",
      "2013      7    84\n",
      "2014     10    31\n",
      "\n",
      "Append 'month' to the existing index:\n"
     ]
    },
    {
     "data": {
      "text/html": [
       "<div>\n",
       "<style scoped>\n",
       "    .dataframe tbody tr th:only-of-type {\n",
       "        vertical-align: middle;\n",
       "    }\n",
       "\n",
       "    .dataframe tbody tr th {\n",
       "        vertical-align: top;\n",
       "    }\n",
       "\n",
       "    .dataframe thead th {\n",
       "        text-align: right;\n",
       "    }\n",
       "</style>\n",
       "<table border=\"1\" class=\"dataframe\">\n",
       "  <thead>\n",
       "    <tr style=\"text-align: right;\">\n",
       "      <th></th>\n",
       "      <th></th>\n",
       "      <th>sale</th>\n",
       "    </tr>\n",
       "    <tr>\n",
       "      <th>year</th>\n",
       "      <th>month</th>\n",
       "      <th></th>\n",
       "    </tr>\n",
       "  </thead>\n",
       "  <tbody>\n",
       "    <tr>\n",
       "      <th>2012</th>\n",
       "      <th>1</th>\n",
       "      <td>55</td>\n",
       "    </tr>\n",
       "    <tr>\n",
       "      <th>2014</th>\n",
       "      <th>4</th>\n",
       "      <td>40</td>\n",
       "    </tr>\n",
       "    <tr>\n",
       "      <th>2013</th>\n",
       "      <th>7</th>\n",
       "      <td>84</td>\n",
       "    </tr>\n",
       "    <tr>\n",
       "      <th>2014</th>\n",
       "      <th>10</th>\n",
       "      <td>31</td>\n",
       "    </tr>\n",
       "  </tbody>\n",
       "</table>\n",
       "</div>"
      ],
      "text/plain": [
       "            sale\n",
       "year month      \n",
       "2012 1        55\n",
       "2014 4        40\n",
       "2013 7        84\n",
       "2014 10       31"
      ]
     },
     "execution_count": 6,
     "metadata": {},
     "output_type": "execute_result"
    }
   ],
   "source": [
    "# Append to the existing index\n",
    "# First, set 'year' as index\n",
    "df_year_index = df.set_index('year')\n",
    "print(\"DataFrame with 'year' as index:\")\n",
    "print(df_year_index)\n",
    "\n",
    "# Then, append 'month' to the index\n",
    "print(\"\\nAppend 'month' to the existing index:\")\n",
    "df_year_index.set_index('month', append=True)"
   ]
  },
  {
   "cell_type": "code",
   "execution_count": 7,
   "metadata": {},
   "outputs": [
    {
     "name": "stdout",
     "output_type": "stream",
     "text": [
      "Before inplace operation:\n",
      "   month  year  sale\n",
      "0      1  2012    55\n",
      "1      4  2014    40\n",
      "2      7  2013    84\n",
      "3     10  2014    31\n",
      "\n",
      "After inplace operation:\n",
      "       year  sale\n",
      "month            \n",
      "1      2012    55\n",
      "4      2014    40\n",
      "7      2013    84\n",
      "10     2014    31\n"
     ]
    }
   ],
   "source": [
    "# Set index inplace\n",
    "print(\"Before inplace operation:\")\n",
    "print(df)\n",
    "\n",
    "df.set_index('month', inplace=True)\n",
    "print(\"\\nAfter inplace operation:\")\n",
    "print(df)"
   ]
  },
  {
   "cell_type": "code",
   "execution_count": 8,
   "metadata": {},
   "outputs": [],
   "source": [
    "# Reset the DataFrame for further examples\n",
    "df = pd.DataFrame({\n",
    "    'month': [1, 4, 7, 10],\n",
    "    'year': [2012, 2014, 2013, 2014],\n",
    "    'sale': [55, 40, 84, 31]\n",
    "})"
   ]
  },
  {
   "cell_type": "code",
   "execution_count": 10,
   "metadata": {},
   "outputs": [
    {
     "name": "stdout",
     "output_type": "stream",
     "text": [
      "Set index by direct assignment:\n",
      "   month  year  sale\n",
      "a      1  2012    55\n",
      "b      4  2014    40\n",
      "c      7  2013    84\n",
      "d     10  2014    31\n"
     ]
    }
   ],
   "source": [
    "# Using an array as index\n",
    "new_index = ['a', 'b', 'c', 'd']\n",
    "print(\"Set index by direct assignment:\")\n",
    "df_new = df.copy()\n",
    "df_new.index = new_index\n",
    "print(df_new)"
   ]
  },
  {
   "cell_type": "code",
   "execution_count": 11,
   "metadata": {},
   "outputs": [
    {
     "name": "stdout",
     "output_type": "stream",
     "text": [
      "Set index using a Series:\n"
     ]
    },
    {
     "data": {
      "text/html": [
       "<div>\n",
       "<style scoped>\n",
       "    .dataframe tbody tr th:only-of-type {\n",
       "        vertical-align: middle;\n",
       "    }\n",
       "\n",
       "    .dataframe tbody tr th {\n",
       "        vertical-align: top;\n",
       "    }\n",
       "\n",
       "    .dataframe thead th {\n",
       "        text-align: right;\n",
       "    }\n",
       "</style>\n",
       "<table border=\"1\" class=\"dataframe\">\n",
       "  <thead>\n",
       "    <tr style=\"text-align: right;\">\n",
       "      <th></th>\n",
       "      <th>month</th>\n",
       "      <th>year</th>\n",
       "      <th>sale</th>\n",
       "    </tr>\n",
       "  </thead>\n",
       "  <tbody>\n",
       "    <tr>\n",
       "      <th>w</th>\n",
       "      <td>1</td>\n",
       "      <td>2012</td>\n",
       "      <td>55</td>\n",
       "    </tr>\n",
       "    <tr>\n",
       "      <th>x</th>\n",
       "      <td>4</td>\n",
       "      <td>2014</td>\n",
       "      <td>40</td>\n",
       "    </tr>\n",
       "    <tr>\n",
       "      <th>y</th>\n",
       "      <td>7</td>\n",
       "      <td>2013</td>\n",
       "      <td>84</td>\n",
       "    </tr>\n",
       "    <tr>\n",
       "      <th>z</th>\n",
       "      <td>10</td>\n",
       "      <td>2014</td>\n",
       "      <td>31</td>\n",
       "    </tr>\n",
       "  </tbody>\n",
       "</table>\n",
       "</div>"
      ],
      "text/plain": [
       "   month  year  sale\n",
       "w      1  2012    55\n",
       "x      4  2014    40\n",
       "y      7  2013    84\n",
       "z     10  2014    31"
      ]
     },
     "execution_count": 11,
     "metadata": {},
     "output_type": "execute_result"
    }
   ],
   "source": [
    "# Using a Series as index\n",
    "new_index_series = pd.Series(['w', 'x', 'y', 'z'])\n",
    "print(\"Set index using a Series:\")\n",
    "df.set_index(new_index_series)"
   ]
  },
  {
   "cell_type": "code",
   "execution_count": 12,
   "metadata": {},
   "outputs": [
    {
     "name": "stdout",
     "output_type": "stream",
     "text": [
      "DataFrame with duplicate values:\n",
      "   month  year  sale\n",
      "0      1  2012    55\n",
      "1      1  2012    40\n",
      "2      7  2013    84\n",
      "3     10  2014    31\n"
     ]
    }
   ],
   "source": [
    "# Create a DataFrame with duplicate values\n",
    "df_dup = pd.DataFrame({\n",
    "    'month': [1, 1, 7, 10],\n",
    "    'year': [2012, 2012, 2013, 2014],\n",
    "    'sale': [55, 40, 84, 31]\n",
    "})\n",
    "\n",
    "print(\"DataFrame with duplicate values:\")\n",
    "print(df_dup)"
   ]
  },
  {
   "cell_type": "code",
   "execution_count": 13,
   "metadata": {},
   "outputs": [
    {
     "name": "stdout",
     "output_type": "stream",
     "text": [
      "Error: Index has duplicate keys: Index([1], dtype='int64', name='month')\n"
     ]
    }
   ],
   "source": [
    "# Set index with verify_integrity=True\n",
    "try:\n",
    "    df_dup.set_index('month', verify_integrity=True)\n",
    "except ValueError as e:\n",
    "    print(f\"Error: {e}\")"
   ]
  },
  {
   "cell_type": "code",
   "execution_count": 14,
   "metadata": {},
   "outputs": [
    {
     "name": "stdout",
     "output_type": "stream",
     "text": [
      "Set index with verify_integrity=False (default):\n"
     ]
    },
    {
     "data": {
      "text/html": [
       "<div>\n",
       "<style scoped>\n",
       "    .dataframe tbody tr th:only-of-type {\n",
       "        vertical-align: middle;\n",
       "    }\n",
       "\n",
       "    .dataframe tbody tr th {\n",
       "        vertical-align: top;\n",
       "    }\n",
       "\n",
       "    .dataframe thead th {\n",
       "        text-align: right;\n",
       "    }\n",
       "</style>\n",
       "<table border=\"1\" class=\"dataframe\">\n",
       "  <thead>\n",
       "    <tr style=\"text-align: right;\">\n",
       "      <th></th>\n",
       "      <th>year</th>\n",
       "      <th>sale</th>\n",
       "    </tr>\n",
       "    <tr>\n",
       "      <th>month</th>\n",
       "      <th></th>\n",
       "      <th></th>\n",
       "    </tr>\n",
       "  </thead>\n",
       "  <tbody>\n",
       "    <tr>\n",
       "      <th>1</th>\n",
       "      <td>2012</td>\n",
       "      <td>55</td>\n",
       "    </tr>\n",
       "    <tr>\n",
       "      <th>1</th>\n",
       "      <td>2012</td>\n",
       "      <td>40</td>\n",
       "    </tr>\n",
       "    <tr>\n",
       "      <th>7</th>\n",
       "      <td>2013</td>\n",
       "      <td>84</td>\n",
       "    </tr>\n",
       "    <tr>\n",
       "      <th>10</th>\n",
       "      <td>2014</td>\n",
       "      <td>31</td>\n",
       "    </tr>\n",
       "  </tbody>\n",
       "</table>\n",
       "</div>"
      ],
      "text/plain": [
       "       year  sale\n",
       "month            \n",
       "1      2012    55\n",
       "1      2012    40\n",
       "7      2013    84\n",
       "10     2014    31"
      ]
     },
     "execution_count": 14,
     "metadata": {},
     "output_type": "execute_result"
    }
   ],
   "source": [
    "# Set index with verify_integrity=False (default)\n",
    "print(\"Set index with verify_integrity=False (default):\")\n",
    "df_dup.set_index('month', verify_integrity=False)"
   ]
  },
  {
   "cell_type": "code",
   "execution_count": 15,
   "metadata": {},
   "outputs": [
    {
     "name": "stdout",
     "output_type": "stream",
     "text": [
      "Set MultiIndex with duplicate values:\n"
     ]
    },
    {
     "data": {
      "text/html": [
       "<div>\n",
       "<style scoped>\n",
       "    .dataframe tbody tr th:only-of-type {\n",
       "        vertical-align: middle;\n",
       "    }\n",
       "\n",
       "    .dataframe tbody tr th {\n",
       "        vertical-align: top;\n",
       "    }\n",
       "\n",
       "    .dataframe thead th {\n",
       "        text-align: right;\n",
       "    }\n",
       "</style>\n",
       "<table border=\"1\" class=\"dataframe\">\n",
       "  <thead>\n",
       "    <tr style=\"text-align: right;\">\n",
       "      <th></th>\n",
       "      <th></th>\n",
       "      <th>sale</th>\n",
       "    </tr>\n",
       "    <tr>\n",
       "      <th>year</th>\n",
       "      <th>month</th>\n",
       "      <th></th>\n",
       "    </tr>\n",
       "  </thead>\n",
       "  <tbody>\n",
       "    <tr>\n",
       "      <th rowspan=\"2\" valign=\"top\">2012</th>\n",
       "      <th>1</th>\n",
       "      <td>55</td>\n",
       "    </tr>\n",
       "    <tr>\n",
       "      <th>1</th>\n",
       "      <td>40</td>\n",
       "    </tr>\n",
       "    <tr>\n",
       "      <th>2013</th>\n",
       "      <th>7</th>\n",
       "      <td>84</td>\n",
       "    </tr>\n",
       "    <tr>\n",
       "      <th>2014</th>\n",
       "      <th>10</th>\n",
       "      <td>31</td>\n",
       "    </tr>\n",
       "  </tbody>\n",
       "</table>\n",
       "</div>"
      ],
      "text/plain": [
       "            sale\n",
       "year month      \n",
       "2012 1        55\n",
       "     1        40\n",
       "2013 7        84\n",
       "2014 10       31"
      ]
     },
     "execution_count": 15,
     "metadata": {},
     "output_type": "execute_result"
    }
   ],
   "source": [
    "# Create a MultiIndex with duplicate values\n",
    "print(\"Set MultiIndex with duplicate values:\")\n",
    "df_dup.set_index(['year', 'month'])"
   ]
  },
  {
   "cell_type": "markdown",
   "metadata": {},
   "source": [
    "##### 2. DataFrame.to_csv()\n",
    "\n",
    "The `to_csv()` method writes the DataFrame to a comma-separated values (CSV) file. It provides many options for customizing the output format."
   ]
  },
  {
   "cell_type": "code",
   "execution_count": 16,
   "metadata": {},
   "outputs": [
    {
     "name": "stdout",
     "output_type": "stream",
     "text": [
      "Sample DataFrame:\n"
     ]
    },
    {
     "data": {
      "text/html": [
       "<div>\n",
       "<style scoped>\n",
       "    .dataframe tbody tr th:only-of-type {\n",
       "        vertical-align: middle;\n",
       "    }\n",
       "\n",
       "    .dataframe tbody tr th {\n",
       "        vertical-align: top;\n",
       "    }\n",
       "\n",
       "    .dataframe thead th {\n",
       "        text-align: right;\n",
       "    }\n",
       "</style>\n",
       "<table border=\"1\" class=\"dataframe\">\n",
       "  <thead>\n",
       "    <tr style=\"text-align: right;\">\n",
       "      <th></th>\n",
       "      <th>name</th>\n",
       "      <th>age</th>\n",
       "      <th>salary</th>\n",
       "      <th>department</th>\n",
       "    </tr>\n",
       "  </thead>\n",
       "  <tbody>\n",
       "    <tr>\n",
       "      <th>0</th>\n",
       "      <td>Alice</td>\n",
       "      <td>25</td>\n",
       "      <td>50000.0</td>\n",
       "      <td>HR</td>\n",
       "    </tr>\n",
       "    <tr>\n",
       "      <th>1</th>\n",
       "      <td>Bob</td>\n",
       "      <td>30</td>\n",
       "      <td>60000.0</td>\n",
       "      <td>IT</td>\n",
       "    </tr>\n",
       "    <tr>\n",
       "      <th>2</th>\n",
       "      <td>Charlie</td>\n",
       "      <td>35</td>\n",
       "      <td>NaN</td>\n",
       "      <td>Finance</td>\n",
       "    </tr>\n",
       "    <tr>\n",
       "      <th>3</th>\n",
       "      <td>David</td>\n",
       "      <td>40</td>\n",
       "      <td>80000.0</td>\n",
       "      <td>Marketing</td>\n",
       "    </tr>\n",
       "  </tbody>\n",
       "</table>\n",
       "</div>"
      ],
      "text/plain": [
       "      name  age   salary department\n",
       "0    Alice   25  50000.0         HR\n",
       "1      Bob   30  60000.0         IT\n",
       "2  Charlie   35      NaN    Finance\n",
       "3    David   40  80000.0  Marketing"
      ]
     },
     "execution_count": 16,
     "metadata": {},
     "output_type": "execute_result"
    }
   ],
   "source": [
    "# Create a sample DataFrame\n",
    "df = pd.DataFrame({\n",
    "    'name': ['Alice', 'Bob', 'Charlie', 'David'],\n",
    "    'age': [25, 30, 35, 40],\n",
    "    'salary': [50000, 60000, np.nan, 80000],\n",
    "    'department': ['HR', 'IT', 'Finance', 'Marketing']\n",
    "})\n",
    "\n",
    "print(\"Sample DataFrame:\")\n",
    "df"
   ]
  },
  {
   "cell_type": "code",
   "execution_count": 17,
   "metadata": {},
   "outputs": [
    {
     "name": "stdout",
     "output_type": "stream",
     "text": [
      "Contents of the CSV file:\n",
      ",name,age,salary,department\n",
      "0,Alice,25,50000.0,HR\n",
      "1,Bob,30,60000.0,IT\n",
      "2,Charlie,35,,Finance\n",
      "3,David,40,80000.0,Marketing\n",
      "\n"
     ]
    }
   ],
   "source": [
    "# Basic usage - write to a file\n",
    "temp_file = tempfile.NamedTemporaryFile(suffix='.csv', delete=False)\n",
    "temp_file.close()\n",
    "\n",
    "df.to_csv(temp_file.name)\n",
    "\n",
    "# Read the file back to see what was written\n",
    "print(\"Contents of the CSV file:\")\n",
    "with open(temp_file.name, 'r') as f:\n",
    "    print(f.read())\n",
    "\n",
    "# Clean up\n",
    "os.unlink(temp_file.name)"
   ]
  },
  {
   "cell_type": "code",
   "execution_count": 18,
   "metadata": {},
   "outputs": [
    {
     "name": "stdout",
     "output_type": "stream",
     "text": [
      "CSV as string:\n",
      ",name,age,salary,department\n",
      "0,Alice,25,50000.0,HR\n",
      "1,Bob,30,60000.0,IT\n",
      "2,Charlie,35,,Finance\n",
      "3,David,40,80000.0,Marketing\n",
      "\n"
     ]
    }
   ],
   "source": [
    "# Return as string instead of writing to a file\n",
    "csv_string = df.to_csv()\n",
    "print(\"CSV as string:\")\n",
    "print(csv_string)"
   ]
  },
  {
   "cell_type": "code",
   "execution_count": 19,
   "metadata": {},
   "outputs": [
    {
     "name": "stdout",
     "output_type": "stream",
     "text": [
      "CSV with pipe separator:\n",
      "|name|age|salary|department\n",
      "0|Alice|25|50000.0|HR\n",
      "1|Bob|30|60000.0|IT\n",
      "2|Charlie|35||Finance\n",
      "3|David|40|80000.0|Marketing\n",
      "\n"
     ]
    }
   ],
   "source": [
    "# Customize the separator\n",
    "csv_string = df.to_csv(sep='|')\n",
    "print(\"CSV with pipe separator:\")\n",
    "print(csv_string)"
   ]
  },
  {
   "cell_type": "code",
   "execution_count": 20,
   "metadata": {},
   "outputs": [
    {
     "name": "stdout",
     "output_type": "stream",
     "text": [
      "CSV with custom NA representation:\n",
      ",name,age,salary,department\n",
      "0,Alice,25,50000.0,HR\n",
      "1,Bob,30,60000.0,IT\n",
      "2,Charlie,35,MISSING,Finance\n",
      "3,David,40,80000.0,Marketing\n",
      "\n"
     ]
    }
   ],
   "source": [
    "# Customize how missing values are represented\n",
    "csv_string = df.to_csv(na_rep='MISSING')\n",
    "print(\"CSV with custom NA representation:\")\n",
    "print(csv_string)"
   ]
  },
  {
   "cell_type": "code",
   "execution_count": 21,
   "metadata": {},
   "outputs": [
    {
     "name": "stdout",
     "output_type": "stream",
     "text": [
      "CSV with formatted float values:\n",
      ",A,B\n",
      "0,1.12,3.12\n",
      "1,2.12,4.12\n",
      "\n"
     ]
    }
   ],
   "source": [
    "# Format floating point numbers\n",
    "df_float = pd.DataFrame({\n",
    "    'A': [1.123456, 2.123456],\n",
    "    'B': [3.123456, 4.123456]\n",
    "})\n",
    "\n",
    "csv_string = df_float.to_csv(float_format='%.2f')\n",
    "print(\"CSV with formatted float values:\")\n",
    "print(csv_string)"
   ]
  },
  {
   "cell_type": "code",
   "execution_count": 22,
   "metadata": {},
   "outputs": [
    {
     "name": "stdout",
     "output_type": "stream",
     "text": [
      "CSV with selected columns:\n",
      ",name,age\n",
      "0,Alice,25\n",
      "1,Bob,30\n",
      "2,Charlie,35\n",
      "3,David,40\n",
      "\n"
     ]
    }
   ],
   "source": [
    "# Select specific columns to write\n",
    "csv_string = df.to_csv(columns=['name', 'age'])\n",
    "print(\"CSV with selected columns:\")\n",
    "print(csv_string)"
   ]
  },
  {
   "cell_type": "code",
   "execution_count": 23,
   "metadata": {},
   "outputs": [
    {
     "name": "stdout",
     "output_type": "stream",
     "text": [
      "CSV without header:\n",
      "0,Alice,25,50000.0,HR\n",
      "1,Bob,30,60000.0,IT\n",
      "2,Charlie,35,,Finance\n",
      "3,David,40,80000.0,Marketing\n",
      "\n",
      "\n",
      "CSV with custom header names:\n",
      ",Name,Age,Salary,Department\n",
      "0,Alice,25,50000.0,HR\n",
      "1,Bob,30,60000.0,IT\n",
      "2,Charlie,35,,Finance\n",
      "3,David,40,80000.0,Marketing\n",
      "\n"
     ]
    }
   ],
   "source": [
    "# Control header output\n",
    "# No header\n",
    "csv_string = df.to_csv(header=False)\n",
    "print(\"CSV without header:\")\n",
    "print(csv_string)\n",
    "\n",
    "# Custom header names\n",
    "csv_string = df.to_csv(header=['Name', 'Age', 'Salary', 'Department'])\n",
    "print(\"\\nCSV with custom header names:\")\n",
    "print(csv_string)"
   ]
  },
  {
   "cell_type": "code",
   "execution_count": 24,
   "metadata": {},
   "outputs": [
    {
     "name": "stdout",
     "output_type": "stream",
     "text": [
      "CSV without index:\n",
      "name,age,salary,department\n",
      "Alice,25,50000.0,HR\n",
      "Bob,30,60000.0,IT\n",
      "Charlie,35,,Finance\n",
      "David,40,80000.0,Marketing\n",
      "\n",
      "\n",
      "CSV with custom index label:\n",
      "ID,name,age,salary,department\n",
      "0,Alice,25,50000.0,HR\n",
      "1,Bob,30,60000.0,IT\n",
      "2,Charlie,35,,Finance\n",
      "3,David,40,80000.0,Marketing\n",
      "\n"
     ]
    }
   ],
   "source": [
    "# Control index output\n",
    "# No index\n",
    "csv_string = df.to_csv(index=False)\n",
    "print(\"CSV without index:\")\n",
    "print(csv_string)\n",
    "\n",
    "# Custom index label\n",
    "csv_string = df.to_csv(index_label='ID')\n",
    "print(\"\\nCSV with custom index label:\")\n",
    "print(csv_string)"
   ]
  },
  {
   "cell_type": "code",
   "execution_count": 25,
   "metadata": {},
   "outputs": [
    {
     "name": "stdout",
     "output_type": "stream",
     "text": [
      "DataFrame with MultiIndex:\n",
      "           C1        C2\n",
      "A 1 -1.204703  1.768568\n",
      "  2  0.146277  0.603850\n",
      "B 1 -0.600636 -0.791850\n",
      "  2  1.025082  0.665879\n",
      "\n",
      "MultiIndex DataFrame as CSV:\n",
      ",,C1,C2\n",
      "A,1,-1.2047026265130856,1.7685681900846428\n",
      "A,2,0.14627680348019342,0.6038499786063481\n",
      "B,1,-0.6006364788174945,-0.7918500539720528\n",
      "B,2,1.025081804454337,0.6658792473911631\n",
      "\n",
      "\n",
      "MultiIndex DataFrame as CSV with custom index labels:\n",
      "Group,Number,C1,C2\n",
      "A,1,-1.2047026265130856,1.7685681900846428\n",
      "A,2,0.14627680348019342,0.6038499786063481\n",
      "B,1,-0.6006364788174945,-0.7918500539720528\n",
      "B,2,1.025081804454337,0.6658792473911631\n",
      "\n"
     ]
    }
   ],
   "source": [
    "# Create a DataFrame with MultiIndex\n",
    "df_multi = pd.DataFrame(\n",
    "    np.random.randn(4, 2),\n",
    "    index=pd.MultiIndex.from_tuples([('A', 1), ('A', 2), ('B', 1), ('B', 2)]),\n",
    "    columns=['C1', 'C2']\n",
    ")\n",
    "\n",
    "print(\"DataFrame with MultiIndex:\")\n",
    "print(df_multi)\n",
    "\n",
    "# Write to CSV\n",
    "csv_string = df_multi.to_csv()\n",
    "print(\"\\nMultiIndex DataFrame as CSV:\")\n",
    "print(csv_string)\n",
    "\n",
    "# With custom index labels\n",
    "csv_string = df_multi.to_csv(index_label=['Group', 'Number'])\n",
    "print(\"\\nMultiIndex DataFrame as CSV with custom index labels:\")\n",
    "print(csv_string)"
   ]
  },
  {
   "cell_type": "code",
   "execution_count": 26,
   "metadata": {},
   "outputs": [
    {
     "name": "stdout",
     "output_type": "stream",
     "text": [
      "Compressed file size: 146 bytes\n",
      "\n",
      "DataFrame read from compressed CSV:\n",
      "   Unnamed: 0     name  age   salary department\n",
      "0           0    Alice   25  50000.0         HR\n",
      "1           1      Bob   30  60000.0         IT\n",
      "2           2  Charlie   35      NaN    Finance\n",
      "3           3    David   40  80000.0  Marketing\n"
     ]
    }
   ],
   "source": [
    "# Write to compressed file\n",
    "temp_file_gz = tempfile.NamedTemporaryFile(suffix='.csv.gz', delete=False)\n",
    "temp_file_gz.close()\n",
    "\n",
    "df.to_csv(temp_file_gz.name, compression='gzip')\n",
    "\n",
    "# Check that the file exists and has content\n",
    "print(f\"Compressed file size: {os.path.getsize(temp_file_gz.name)} bytes\")\n",
    "\n",
    "# Read the compressed file back\n",
    "df_read = pd.read_csv(temp_file_gz.name, compression='gzip')\n",
    "print(\"\\nDataFrame read from compressed CSV:\")\n",
    "print(df_read)\n",
    "\n",
    "# Clean up\n",
    "os.unlink(temp_file_gz.name)"
   ]
  },
  {
   "cell_type": "code",
   "execution_count": 27,
   "metadata": {},
   "outputs": [
    {
     "name": "stdout",
     "output_type": "stream",
     "text": [
      "DataFrame with non-ASCII characters:\n",
      "       name country\n",
      "0      José   Spain\n",
      "1     María  Mexico\n",
      "2      João  Brazil\n",
      "3  François  France\n",
      "\n",
      "CSV with UTF-8 encoding:\n",
      ",name,country\n",
      "0,José,Spain\n",
      "1,María,Mexico\n",
      "2,João,Brazil\n",
      "3,François,France\n",
      "\n"
     ]
    }
   ],
   "source": [
    "# Write with different encoding\n",
    "df_encoding = pd.DataFrame({\n",
    "    'name': ['José', 'María', 'João', 'François'],\n",
    "    'country': ['Spain', 'Mexico', 'Brazil', 'France']\n",
    "})\n",
    "\n",
    "print(\"DataFrame with non-ASCII characters:\")\n",
    "print(df_encoding)\n",
    "\n",
    "# Write with UTF-8 encoding (default)\n",
    "temp_file_utf8 = tempfile.NamedTemporaryFile(suffix='.csv', delete=False)\n",
    "temp_file_utf8.close()\n",
    "\n",
    "df_encoding.to_csv(temp_file_utf8.name, encoding='utf-8')\n",
    "\n",
    "# Read the file back\n",
    "with open(temp_file_utf8.name, 'r', encoding='utf-8') as f:\n",
    "    print(\"\\nCSV with UTF-8 encoding:\")\n",
    "    print(f.read())\n",
    "\n",
    "# Clean up\n",
    "os.unlink(temp_file_utf8.name)"
   ]
  },
  {
   "cell_type": "markdown",
   "metadata": {},
   "source": [
    "##### Summary\n",
    "\n",
    "In this notebook, we've explored two important DataFrame methods:\n",
    "\n",
    "1. **set_index()**: Sets the DataFrame index (row labels) using one or more existing columns or arrays. Key parameters include:\n",
    "   - `keys`: Column name(s) or array(s) to use as the new index\n",
    "   - `drop`: Whether to delete the column(s) used as the new index\n",
    "   - `append`: Whether to append columns to the existing index\n",
    "   - `inplace`: Whether to modify the DataFrame in place\n",
    "   - `verify_integrity`: Whether to check the new index for duplicates\n",
    "\n",
    "2. **to_csv()**: Writes the DataFrame to a comma-separated values (CSV) file. This method provides many options for customizing the output format, including:\n",
    "   - `path_or_buf`: File path or object to write to\n",
    "   - `sep`: Field delimiter (default is ',')\n",
    "   - `na_rep`: How to represent missing values\n",
    "   - `float_format`: Format string for floating point numbers\n",
    "   - `columns`: Which columns to write\n",
    "   - `header`: Whether to write column names and what to call them\n",
    "   - `index`: Whether to write row names (index)\n",
    "   - `index_label`: Column label for index column(s)\n",
    "   - `encoding`: Character encoding for the output\n",
    "   - `compression`: Compression mode for the output file\n",
    "\n",
    "These methods are essential for data manipulation and exporting data from pandas to CSV files for sharing or further processing."
   ]
  },
  {
   "cell_type": "markdown",
   "metadata": {},
   "source": []
  },
  {
   "cell_type": "markdown",
   "metadata": {},
   "source": []
  }
 ],
 "metadata": {
  "kernelspec": {
   "display_name": "venv",
   "language": "python",
   "name": "python3"
  },
  "language_info": {
   "codemirror_mode": {
    "name": "ipython",
    "version": 3
   },
   "file_extension": ".py",
   "mimetype": "text/x-python",
   "name": "python",
   "nbconvert_exporter": "python",
   "pygments_lexer": "ipython3",
   "version": "3.13.2"
  }
 },
 "nbformat": 4,
 "nbformat_minor": 4
}
