{
 "cells": [
  {
   "cell_type": "markdown",
   "metadata": {},
   "source": [
    "# Pandas Date Offsets and Rolling Window Functions - Part 86\n",
    "\n",
    "This notebook covers important date offset classes like `BMonthEnd` and `BMonthBegin`, as well as rolling window statistical functions like correlation, covariance, skewness, and kurtosis."
   ]
  },
  {
   "cell_type": "code",
   "execution_count": null,
   "metadata": {},
   "source": [
    "import pandas as pd\n",
    "import numpy as np\n",
    "from pandas.tseries.offsets import BMonthEnd, BMonthBegin\n",
    "from datetime import datetime"
   ]
  },
  {
   "cell_type": "markdown",
   "metadata": {},
   "source": [
    "## Date Offsets\n",
    "\n",
    "### BMonthEnd and BMonthBegin\n",
    "\n",
    "`BMonthEnd` is an alias for `BusinessMonthEnd` and `BMonthBegin` is an alias for `BusinessMonthBegin`. These are date offsets that represent the last and first business day of the month, respectively."
   ]
  },
  {
   "cell_type": "code",
   "execution_count": null,
   "metadata": {},
   "source": [
    "# Create BMonthEnd offset\n",
    "bme = BMonthEnd()\n",
    "print(f\"BMonthEnd: {bme}\")\n",
    "\n",
    "# Create BMonthBegin offset\n",
    "bmb = BMonthBegin()\n",
    "print(f\"BMonthBegin: {bmb}\")"
   ]
  },
  {
   "cell_type": "code",
   "execution_count": null,
   "metadata": {},
   "source": [
    "# Create a sample date\n",
    "dt = datetime(2023, 1, 15)\n",
    "print(f\"Original date: {dt}\")"
   ]
  },
  {
   "cell_type": "code",
   "execution_count": null,
   "metadata": {},
   "source": [
    "# Apply BMonthEnd offset\n",
    "next_bme = bme + dt\n",
    "print(f\"Next business month end: {next_bme}\")"
   ]
  },
  {
   "cell_type": "code",
   "execution_count": null,
   "metadata": {},
   "source": [
    "# Apply BMonthBegin offset\n",
    "next_bmb = bmb + dt\n",
    "print(f\"Next business month begin: {next_bmb}\")"
   ]
  },
  {
   "cell_type": "markdown",
   "metadata": {},
   "source": [
    "### rollforward() and rollback() Methods\n",
    "\n",
    "Both `BMonthEnd` and `BMonthBegin` have `rollforward()` and `rollback()` methods that adjust dates to the next or previous offset date."
   ]
  },
  {
   "cell_type": "code",
   "execution_count": null,
   "metadata": {},
   "source": [
    "# Roll forward to the next business month end\n",
    "rolled_forward_bme = bme.rollforward(dt)\n",
    "print(f\"Rolled forward to business month end: {rolled_forward_bme}\")"
   ]
  },
  {
   "cell_type": "code",
   "execution_count": null,
   "metadata": {},
   "source": [
    "# Roll backward to the previous business month end\n",
    "rolled_back_bme = bme.rollback(dt)\n",
    "print(f\"Rolled back to business month end: {rolled_back_bme}\")"
   ]
  },
  {
   "cell_type": "code",
   "execution_count": null,
   "metadata": {},
   "source": [
    "# Roll forward to the next business month begin\n",
    "rolled_forward_bmb = bmb.rollforward(dt)\n",
    "print(f\"Rolled forward to business month begin: {rolled_forward_bmb}\")"
   ]
  },
  {
   "cell_type": "code",
   "execution_count": null,
   "metadata": {},
   "source": [
    "# Roll backward to the previous business month begin\n",
    "rolled_back_bmb = bmb.rollback(dt)\n",
    "print(f\"Rolled back to business month begin: {rolled_back_bmb}\")"
   ]
  },
  {
   "cell_type": "markdown",
   "metadata": {},
   "source": [
    "### Properties of Date Offsets\n",
    "\n",
    "Let's explore some properties of these date offsets."
   ]
  },
  {
   "cell_type": "code",
   "execution_count": null,
   "metadata": {},
   "source": [
    "# Check if the offset is anchored\n",
    "print(f\"Is BMonthEnd anchored? {bme.is_anchored()}\")\n",
    "print(f\"Is BMonthBegin anchored? {bmb.is_anchored()}\")"
   ]
  },
  {
   "cell_type": "code",
   "execution_count": null,
   "metadata": {},
   "source": [
    "# Get the frequency string\n",
    "print(f\"BMonthEnd frequency string: {bme.freqstr}\")\n",
    "print(f\"BMonthBegin frequency string: {bmb.freqstr}\")"
   ]
  },
  {
   "cell_type": "code",
   "execution_count": null,
   "metadata": {},
   "source": [
    "# Get the name of the offset\n",
    "print(f\"BMonthEnd name: {bme.name}\")\n",
    "print(f\"BMonthBegin name: {bmb.name}\")"
   ]
  },
  {
   "cell_type": "code",
   "execution_count": null,
   "metadata": {},
   "source": [
    "# Check if a date is on the offset\n",
    "dt_end = datetime(2023, 1, 31)  # Assuming this is a business day\n",
    "dt_begin = datetime(2023, 1, 2)  # Assuming this is a business day (first Monday of the month)\n",
    "\n",
    "print(f\"Is {dt_end} on BMonthEnd offset? {bme.is_on_offset(dt_end)}\")\n",
    "print(f\"Is {dt_begin} on BMonthBegin offset? {bmb.is_on_offset(dt_begin)}\")"
   ]
  },
  {
   "cell_type": "markdown",
   "metadata": {},
   "source": [
    "## Rolling Window Functions\n",
    "\n",
    "Pandas provides several rolling window statistical functions that are useful for time series analysis."
   ]
  },
  {
   "cell_type": "markdown",
   "metadata": {},
   "source": [
    "### Rolling.corr() - Rolling Correlation\n",
    "\n",
    "The `corr()` method calculates the rolling correlation between two time series."
   ]
  },
  {
   "cell_type": "code",
   "execution_count": null,
   "metadata": {},
   "source": [
    "# Create two sample series\n",
    "v1 = [7, 8, 10, 11, 13]\n",
    "v2 = [8, 9, 10, 9, 8]\n",
    "s1 = pd.Series(v1)\n",
    "s2 = pd.Series(v2)\n",
    "\n",
    "print(\"Series 1:\")\n",
    "print(s1)\n",
    "print(\"\\nSeries 2:\")\n",
    "print(s2)"
   ]
  },
  {
   "cell_type": "code",
   "execution_count": null,
   "metadata": {},
   "source": [
    "# Calculate rolling correlation with window size 4\n",
    "rolling_corr = s1.rolling(4).corr(s2)\n",
    "print(\"Rolling correlation with window size 4:\")\n",
    "print(rolling_corr)"
   ]
  },
  {
   "cell_type": "code",
   "execution_count": null,
   "metadata": {},
   "source": [
    "# Example with DataFrame and pairwise correlation\n",
    "matrix = np.array([[51., 35.], [49., 30.], [47., 32.], [46., 31.], [50., 36.]])\n",
    "df = pd.DataFrame(matrix, columns=['X', 'Y'])\n",
    "\n",
    "print(\"DataFrame:\")\n",
    "print(df)"
   ]
  },
  {
   "cell_type": "code",
   "execution_count": null,
   "metadata": {},
   "source": [
    "# Calculate pairwise rolling correlation with window size 4\n",
    "pairwise_corr = df.rolling(4).corr(pairwise=True)\n",
    "print(\"\\nPairwise rolling correlation with window size 4:\")\n",
    "print(pairwise_corr)"
   ]
  },
  {
   "cell_type": "markdown",
   "metadata": {},
   "source": [
    "### Rolling.cov() - Rolling Covariance\n",
    "\n",
    "The `cov()` method calculates the rolling sample covariance."
   ]
  },
  {
   "cell_type": "code",
   "execution_count": null,
   "metadata": {},
   "source": [
    "# Calculate rolling covariance with window size 4\n",
    "rolling_cov = s1.rolling(4).cov(s2)\n",
    "print(\"Rolling covariance with window size 4:\")\n",
    "print(rolling_cov)"
   ]
  },
  {
   "cell_type": "code",
   "execution_count": null,
   "metadata": {},
   "source": [
    "# Calculate pairwise rolling covariance with window size 4\n",
    "pairwise_cov = df.rolling(4).cov(pairwise=True)\n",
    "print(\"Pairwise rolling covariance with window size 4:\")\n",
    "print(pairwise_cov)"
   ]
  },
  {
   "cell_type": "markdown",
   "metadata": {},
   "source": [
    "### Rolling.skew() - Rolling Skewness\n",
    "\n",
    "The `skew()` method calculates the unbiased rolling skewness."
   ]
  },
  {
   "cell_type": "code",
   "execution_count": null,
   "metadata": {},
   "source": [
    "# Create a sample series with skewed data\n",
    "skewed_data = [1, 2, 2, 3, 3, 3, 4, 4, 5, 10]\n",
    "s_skew = pd.Series(skewed_data)\n",
    "print(\"Skewed data:\")\n",
    "print(s_skew)"
   ]
  },
  {
   "cell_type": "code",
   "execution_count": null,
   "metadata": {},
   "source": [
    "# Calculate rolling skewness with window size 5\n",
    "rolling_skew = s_skew.rolling(5).skew()\n",
    "print(\"\\nRolling skewness with window size 5:\")\n",
    "print(rolling_skew)"
   ]
  },
  {
   "cell_type": "markdown",
   "metadata": {},
   "source": [
    "### Rolling.kurt() - Rolling Kurtosis\n",
    "\n",
    "The `kurt()` method calculates the unbiased rolling kurtosis using Fisher's definition without bias."
   ]
  },
  {
   "cell_type": "code",
   "execution_count": null,
   "metadata": {},
   "source": [
    "# Calculate rolling kurtosis with window size 5\n",
    "rolling_kurt = s_skew.rolling(5).kurt()\n",
    "print(\"Rolling kurtosis with window size 5:\")\n",
    "print(rolling_kurt)"
   ]
  },
  {
   "cell_type": "markdown",
   "metadata": {},
   "source": [
    "### Practical Example: Financial Time Series Analysis"
   ]
  },
  {
   "cell_type": "code",
   "execution_count": null,
   "metadata": {},
   "source": [
    "# Create a sample financial time series\n",
    "dates = pd.date_range(start='2023-01-01', periods=20, freq='B')\n",
    "stock_a = pd.Series(np.random.normal(0, 1, 20).cumsum() + 100, index=dates, name='Stock A')\n",
    "stock_b = pd.Series(np.random.normal(0, 1, 20).cumsum() + 100, index=dates, name='Stock B')\n",
    "\n",
    "stocks = pd.DataFrame({'Stock A': stock_a, 'Stock B': stock_b})\n",
    "print(\"Stock prices:\")\n",
    "print(stocks)"
   ]
  },
  {
   "cell_type": "code",
   "execution_count": null,
   "metadata": {},
   "source": [
    "# Calculate 5-day rolling statistics\n",
    "window_size = 5\n",
    "\n",
    "# Rolling correlation\n",
    "rolling_corr = stocks['Stock A'].rolling(window_size).corr(stocks['Stock B'])\n",
    "print(f\"\\n{window_size}-day Rolling Correlation:\")\n",
    "print(rolling_corr)"
   ]
  },
  {
   "cell_type": "code",
   "execution_count": null,
   "metadata": {},
   "source": [
    "# Rolling covariance\n",
    "rolling_cov = stocks['Stock A'].rolling(window_size).cov(stocks['Stock B'])\n",
    "print(f\"\\n{window_size}-day Rolling Covariance:\")\n",
    "print(rolling_cov)"
   ]
  },
  {
   "cell_type": "code",
   "execution_count": null,
   "metadata": {},
   "source": [
    "# Rolling skewness\n",
    "rolling_skew_a = stocks['Stock A'].rolling(window_size).skew()\n",
    "rolling_skew_b = stocks['Stock B'].rolling(window_size).skew()\n",
    "print(f\"\\n{window_size}-day Rolling Skewness:\")\n",
    "print(\"Stock A:\")\n",
    "print(rolling_skew_a)\n",
    "print(\"\\nStock B:\")\n",
    "print(rolling_skew_b)"
   ]
  },
  {
   "cell_type": "code",
   "execution_count": null,
   "metadata": {},
   "source": [
    "# Rolling kurtosis\n",
    "rolling_kurt_a = stocks['Stock A'].rolling(window_size).kurt()\n",
    "rolling_kurt_b = stocks['Stock B'].rolling(window_size).kurt()\n",
    "print(f\"\\n{window_size}-day Rolling Kurtosis:\")\n",
    "print(\"Stock A:\")\n",
    "print(rolling_kurt_a)\n",
    "print(\"\\nStock B:\")\n",
    "print(rolling_kurt_b)"
   ]
  },
  {
   "cell_type": "code",
   "execution_count": null,
   "metadata": {},
   "source": [
    "# Visualize the results\n",
    "import matplotlib.pyplot as plt\n",
    "\n",
    "fig, axes = plt.subplots(3, 1, figsize=(12, 12))\n",
    "\n",
    "# Plot stock prices\n",
    "stocks.plot(ax=axes[0], title='Stock Prices')\n",
    "axes[0].set_ylabel('Price')\n",
    "\n",
    "# Plot rolling correlation\n",
    "rolling_corr.plot(ax=axes[1], title=f'{window_size}-day Rolling Correlation')\n",
    "axes[1].set_ylabel('Correlation')\n",
    "\n",
    "# Plot rolling skewness\n",
    "rolling_skew_a.plot(ax=axes[2], label='Stock A')\n",
    "rolling_skew_b.plot(ax=axes[2], label='Stock B')\n",
    "axes[2].set_title(f'{window_size}-day Rolling Skewness')\n",
    "axes[2].set_ylabel('Skewness')\n",
    "axes[2].legend()\n",
    "\n",
    "plt.tight_layout()\n",
    "plt.show()"
   ]
  }
 ],
 "metadata": {
  "kernelspec": {
   "display_name": "Python 3",
   "language": "python",
   "name": "python3"
  },
  "language_info": {
   "codemirror_mode": {
    "name": "ipython",
    "version": 3
   },
   "file_extension": ".py",
   "mimetype": "text/x-python",
   "name": "python",
   "nbconvert_exporter": "python",
   "pygments_lexer": "ipython3",
   "version": "3.8.5"
  }
 },
 "nbformat": 4,
 "nbformat_minor": 4
}
