{
 "cells": [
  {
   "cell_type": "markdown",
   "metadata": {},
   "source": [
    "# Pandas Functions and Commands - Part 94\n",
    "\n",
    "This notebook documents pandas extension API and development information."
   ]
  },
  {
   "cell_type": "markdown",
   "metadata": {},
   "source": [
    "## ExtensionDtype Attributes and Methods\n",
    "\n",
    "The `ExtensionDtype` class provides a framework for creating custom data types in pandas. Here are its key attributes and methods:"
   ]
  },
  {
   "cell_type": "code",
   "execution_count": null,
   "metadata": {},
   "outputs": [],
   "source": [
    "import pandas as pd\n",
    "import numpy as np\n",
    "from pandas.api.extensions import ExtensionDtype, ExtensionArray"
   ]
  },
  {
   "cell_type": "markdown",
   "metadata": {},
   "source": [
    "### Attributes of ExtensionDtype\n",
    "\n",
    "- **kind**: A character code (one of 'biufcmMOSUV'), default 'O'. This should match the NumPy dtype when the array is converted to ndarray.\n",
    "- **na_value**: Default NA value to use for this type. This is the user-facing \"boxed\" version of the NA value.\n",
    "- **name**: A string identifying the data type. Used for display in Series.dtype.\n",
    "- **names**: Ordered list of field names, or None if there are no fields. For compatibility with NumPy arrays.\n",
    "- **type**: The scalar type for the array. ExtensionArray[item] should return an instance of this type for scalar items."
   ]
  },
  {
   "cell_type": "markdown",
   "metadata": {},
   "source": [
    "### Methods of ExtensionDtype\n",
    "\n",
    "- **construct_array_type()**: Return the array type associated with this dtype.\n",
    "- **construct_from_string(string)**: Construct this type from a string.\n",
    "- **is_dtype(dtype)**: Check if we match 'dtype'."
   ]
  },
  {
   "cell_type": "markdown",
   "metadata": {},
   "source": [
    "### Example of a Custom ExtensionDtype"
   ]
  },
  {
   "cell_type": "code",
   "execution_count": null,
   "metadata": {},
   "outputs": [],
   "source": [
    "# Example of a simple custom ExtensionDtype for money values\n",
    "class MoneyDtype(ExtensionDtype):\n",
    "    name = 'money'\n",
    "    kind = 'O'\n",
    "    type = object\n",
    "    na_value = None\n",
    "    \n",
    "    def __init__(self, currency='USD'):\n",
    "        self.currency = currency\n",
    "        self._metadata = ('currency',)\n",
    "    \n",
    "    @classmethod\n",
    "    def construct_from_string(cls, string):\n",
    "        if string == cls.name:\n",
    "            return cls()\n",
    "        elif string.startswith(cls.name):\n",
    "            # Parse 'money[EUR]' format\n",
    "            if string.endswith(']') and '[' in string:\n",
    "                currency = string[string.find('[')+1:string.find(']')]\n",
    "                return cls(currency=currency)\n",
    "        raise TypeError(f\"Cannot construct {cls.name} from {string}\")\n",
    "    \n",
    "    @classmethod\n",
    "    def construct_array_type(cls):\n",
    "        # This would normally return the associated ExtensionArray class\n",
    "        return MoneyArray\n",
    "\n",
    "# This is a simplified example and would need more implementation\n",
    "# to be fully functional as an ExtensionArray\n",
    "class MoneyArray(ExtensionArray):\n",
    "    pass\n",
    "\n",
    "# Create and display information about our custom dtype\n",
    "money_dtype = MoneyDtype(currency='EUR')\n",
    "print(f\"Name: {money_dtype.name}\")\n",
    "print(f\"Currency: {money_dtype.currency}\")\n",
    "print(f\"Kind: {money_dtype.kind}\")\n",
    "print(f\"Type: {money_dtype.type}\")\n",
    "print(f\"NA value: {money_dtype.na_value}\")"
   ]
  },
  {
   "cell_type": "markdown",
   "metadata": {},
   "source": [
    "## Pandas Development Environment Setup\n",
    "\n",
    "This section provides instructions for setting up a pandas development environment. This is useful if you want to contribute to pandas or build pandas from source."
   ]
  },
  {
   "cell_type": "markdown",
   "metadata": {},
   "source": [
    "### Prerequisites\n",
    "\n",
    "For building pandas from source, you need:\n",
    "\n",
    "1. A C compiler\n",
    "2. Python environment (3.6.1 or higher)\n",
    "\n",
    "#### Installing a C Compiler\n",
    "\n",
    "**For Debian/Ubuntu:**\n",
    "```bash\n",
    "sudo apt install build-essential\n",
    "```\n",
    "\n",
    "**For Red Hat/RHEL/CentOS/Fedora:**\n",
    "```bash\n",
    "yum groupinstall \"Development Tools\"\n",
    "```"
   ]
  },
  {
   "cell_type": "markdown",
   "metadata": {},
   "source": [
    "### Setting up with Conda\n",
    "\n",
    "```bash\n",
    "# Create and activate the build environment\n",
    "conda env create -f environment.yml\n",
    "conda activate pandas-dev\n",
    "\n",
    "# Build and install pandas\n",
    "python setup.py build_ext --inplace -j 4\n",
    "python -m pip install -e . --no-build-isolation --no-use-pep517\n",
    "```\n",
    "\n",
    "To verify the installation:\n",
    "```python\n",
    "import pandas\n",
    "print(pandas.__version__)\n",
    "```\n",
    "\n",
    "Conda environment management:\n",
    "```bash\n",
    "# View environments\n",
    "conda info -e\n",
    "\n",
    "# Return to root environment\n",
    "conda deactivate\n",
    "```"
   ]
  },
  {
   "cell_type": "markdown",
   "metadata": {},
   "source": [
    "### Setting up with pip (Unix/Mac OS)\n",
    "\n",
    "```bash\n",
    "# Create a virtual environment\n",
    "python3 -m venv ~/virtualenvs/pandas-dev\n",
    "\n",
    "# Activate the virtualenv\n",
    ". ~/virtualenvs/pandas-dev/bin/activate\n",
    "\n",
    "# Install the build dependencies\n",
    "python -m pip install -r requirements-dev.txt\n",
    "\n",
    "# Build and install pandas\n",
    "python setup.py build_ext --inplace -j 0\n",
    "python -m pip install -e . --no-build-isolation --no-use-pep517\n",
    "```"
   ]
  },
  {
   "cell_type": "markdown",
   "metadata": {},
   "source": [
    "### Setting up with pip (Windows)\n",
    "\n",
    "```powershell\n",
    "# Create a virtual environment\n",
    "python -m venv $env:USERPROFILE\\virtualenvs\\pandas-dev\n",
    "\n",
    "# Activate the virtualenv\n",
    "~\\virtualenvs\\pandas-dev\\Scripts\\Activate.ps1\n",
    "\n",
    "# Install the build dependencies\n",
    "python -m pip install -r requirements-dev.txt\n",
    "\n",
    "# Build and install pandas\n",
    "python setup.py build_ext --inplace -j 0\n",
    "python -m pip install -e . --no-build-isolation --no-use-pep517\n",
    "```"
   ]
  },
  {
   "cell_type": "markdown",
   "metadata": {},
   "source": [
    "### Git Workflow for Contributing\n",
    "\n",
    "When contributing to pandas, it's recommended to create a feature branch for your changes:\n",
    "\n",
    "```bash\n",
    "# Create and switch to a new branch\n",
    "git branch shiny-new-feature\n",
    "git checkout shiny-new-feature\n",
    "\n",
    "# Or in one command\n",
    "git checkout -b shiny-new-feature\n",
    "```"
   ]
  },
  {
   "cell_type": "markdown",
   "metadata": {},
   "source": [
    "## Practical Example: Using ExtensionDtype\n",
    "\n",
    "Let's see how we might use a custom dtype in a practical scenario:"
   ]
  },
  {
   "cell_type": "code",
   "execution_count": null,
   "metadata": {},
   "outputs": [],
   "source": [
    "# This is a simplified example showing how a custom dtype might be used\n",
    "# Note: This won't actually run without a full implementation of MoneyArray\n",
    "\n",
    "# Imagine we have a fully implemented MoneyArray class\n",
    "# We could create a Series with money values\n",
    "\n",
    "# Conceptual example (won't run):\n",
    "'''\n",
    "money_values = MoneyArray([10.50, 20.75, 30.00], dtype=MoneyDtype(currency='USD'))\n",
    "s = pd.Series(money_values)\n",
    "\n",
    "# The Series would display with currency information\n",
    "print(s)\n",
    "# 0    $10.50\n",
    "# 1    $20.75\n",
    "# 2    $30.00\n",
    "# dtype: money[USD]\n",
    "\n",
    "# And operations would respect the currency\n",
    "print(s * 2)\n",
    "# 0    $21.00\n",
    "# 1    $41.50\n",
    "# 2    $60.00\n",
    "# dtype: money[USD]\n",
    "'''"
   ]
  },
  {
   "cell_type": "markdown",
   "metadata": {},
   "source": [
    "## Using Existing Extension Arrays\n",
    "\n",
    "While creating custom extension arrays is advanced, pandas comes with several built-in extension arrays that you can use:"
   ]
  },
  {
   "cell_type": "code",
   "execution_count": null,
   "metadata": {},
   "outputs": [],
   "source": [
    "# Categorical data\n",
    "cat = pd.Categorical(['a', 'b', 'a', 'c'], categories=['a', 'b', 'c', 'd'])\n",
    "s_cat = pd.Series(cat)\n",
    "print(\"Categorical Series:\")\n",
    "print(s_cat)\n",
    "print(f\"dtype: {s_cat.dtype}\\n\")\n",
    "\n",
    "# Integer with NA support\n",
    "s_int = pd.Series([1, 2, None, 4], dtype=\"Int64\")\n",
    "print(\"Integer Series with NA:\")\n",
    "print(s_int)\n",
    "print(f\"dtype: {s_int.dtype}\\n\")\n",
    "\n",
    "# Boolean with NA support\n",
    "s_bool = pd.Series([True, False, None, True], dtype=\"boolean\")\n",
    "print(\"Boolean Series with NA:\")\n",
    "print(s_bool)\n",
    "print(f\"dtype: {s_bool.dtype}\\n\")\n",
    "\n",
    "# String data\n",
    "s_str = pd.Series(['a', 'b', None, 'd'], dtype=\"string\")\n",
    "print(\"String Series:\")\n",
    "print(s_str)\n",
    "print(f\"dtype: {s_str.dtype}\")"
   ]
  }
 ],
 "metadata": {
  "kernelspec": {
   "display_name": "Python 3",
   "language": "python",
   "name": "python3"
  },
  "language_info": {
   "codemirror_mode": {
    "name": "ipython",
    "version": 3
   },
   "file_extension": ".py",
   "mimetype": "text/x-python",
   "name": "python",
   "nbconvert_exporter": "python",
   "pygments_lexer": "ipython3",
   "version": "3.8.5"
  }
 },
 "nbformat": 4,
 "nbformat_minor": 4
}
