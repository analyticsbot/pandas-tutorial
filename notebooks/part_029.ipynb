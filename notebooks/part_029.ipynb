{
 "cells": [
  {
   "cell_type": "markdown",
   "metadata": {},
   "source": [
    "#### Part 29: Advanced GroupBy Operations\n",
    "\n",
    "In this notebook, we'll explore advanced GroupBy operations in pandas, including:\n",
    "- Working with MultiIndex\n",
    "- Grouping by index levels\n",
    "- Handling categorical data in groupby\n",
    "- Working with decimal and object columns\n",
    "\n",
    "##### Setup\n",
    "First, let's import the necessary libraries:"
   ]
  },
  {
   "cell_type": "code",
   "execution_count": null,
   "metadata": {},
   "outputs": [],
   "source": [
    "import pandas as pd\n",
    "import numpy as np\n",
    "import matplotlib.pyplot as plt\n",
    "from decimal import Decimal\n",
    "\n",
    "# Set the plotting style\n",
    "plt.style.use('ggplot')\n",
    "\n",
    "# Make plots appear in the notebook\n",
    "%matplotlib inline"
   ]
  },
  {
   "cell_type": "markdown",
   "metadata": {},
   "source": [
    "##### 1. GroupBy Tab Completion\n",
    "\n",
    "Let's first create a DataFrame with some demographic data:"
   ]
  },
  {
   "cell_type": "code",
   "execution_count": null,
   "metadata": {},
   "outputs": [],
   "source": [
    "# Create a DataFrame with a DatetimeIndex\n",
    "df = pd.DataFrame({\n",
    "    'height': np.random.normal(loc=60, scale=10, size=10),\n",
    "    'weight': np.random.normal(loc=160, scale=15, size=10),\n",
    "    'gender': np.random.choice(['male', 'female'], size=10)\n",
    "}, index=pd.date_range('1/1/2000', periods=10))\n",
    "df"
   ]
  },
  {
   "cell_type": "code",
   "execution_count": null,
   "metadata": {},
   "outputs": [],
   "source": [
    "# Create a GroupBy object\n",
    "gb = df.groupby('gender')\n",
    "gb"
   ]
  },
  {
   "cell_type": "markdown",
   "metadata": {},
   "source": [
    "The GroupBy object has many methods and attributes available. In an interactive session, you can use tab completion to see them all. Here we'll demonstrate some of the most common ones:"
   ]
  },
  {
   "cell_type": "code",
   "execution_count": null,
   "metadata": {},
   "outputs": [],
   "source": [
    "# Get the mean of each group\n",
    "gb.mean()"
   ]
  },
  {
   "cell_type": "code",
   "execution_count": null,
   "metadata": {},
   "outputs": [],
   "source": [
    "# Get the size of each group\n",
    "gb.size()"
   ]
  },
  {
   "cell_type": "code",
   "execution_count": null,
   "metadata": {},
   "outputs": [],
   "source": [
    "# Get a specific group\n",
    "gb.get_group('female')"
   ]
  },
  {
   "cell_type": "markdown",
   "metadata": {},
   "source": [
    "##### 2. GroupBy with MultiIndex\n",
    "\n",
    "With hierarchically-indexed data, it's quite natural to group by one of the levels of the hierarchy. Let's create a Series with a two-level MultiIndex:"
   ]
  },
  {
   "cell_type": "code",
   "execution_count": null,
   "metadata": {},
   "outputs": [],
   "source": [
    "# Create a Series with a two-level MultiIndex\n",
    "arrays = [['bar', 'bar', 'baz', 'baz', 'foo', 'foo', 'qux', 'qux'],\n",
    "          ['one', 'two', 'one', 'two', 'one', 'two', 'one', 'two']]\n",
    "index = pd.MultiIndex.from_arrays(arrays, names=['first', 'second'])\n",
    "s = pd.Series(np.random.randn(8), index=index)\n",
    "s"
   ]
  },
  {
   "cell_type": "markdown",
   "metadata": {},
   "source": [
    "### 2.1 Grouping by Level\n",
    "\n",
    "We can group by one of the levels in the MultiIndex:"
   ]
  },
  {
   "cell_type": "code",
   "execution_count": null,
   "metadata": {},
   "outputs": [],
   "source": [
    "# Group by the first level (level=0)\n",
    "grouped = s.groupby(level=0)\n",
    "grouped.sum()"
   ]
  },
  {
   "cell_type": "code",
   "execution_count": null,
   "metadata": {},
   "outputs": [],
   "source": [
    "# If the MultiIndex has names specified, these can be passed instead of the level number\n",
    "s.groupby(level='second').sum()"
   ]
  },
  {
   "cell_type": "code",
   "execution_count": null,
   "metadata": {},
   "outputs": [],
   "source": [
    "# The aggregation functions such as sum will take the level parameter directly\n",
    "s.sum(level='second')"
   ]
  },
  {
   "cell_type": "markdown",
   "metadata": {},
   "source": [
    "### 2.2 Grouping with Multiple Levels\n",
    "\n",
    "Grouping with multiple levels is also supported:"
   ]
  },
  {
   "cell_type": "code",
   "execution_count": null,
   "metadata": {},
   "outputs": [],
   "source": [
    "# Create a Series with a three-level MultiIndex\n",
    "arrays = [\n",
    "    ['bar', 'bar', 'baz', 'baz', 'foo', 'foo', 'qux', 'qux'],\n",
    "    ['doo', 'doo', 'bee', 'bee', 'bop', 'bop', 'bop', 'bop'],\n",
    "    ['one', 'two', 'one', 'two', 'one', 'two', 'one', 'two']\n",
    "]\n",
    "index = pd.MultiIndex.from_arrays(arrays, names=['first', 'second', 'third'])\n",
    "s = pd.Series(np.random.randn(8), index=index)\n",
    "s"
   ]
  },
  {
   "cell_type": "code",
   "execution_count": null,
   "metadata": {},
   "outputs": [],
   "source": [
    "# Group by multiple levels\n",
    "s.groupby(level=['first', 'second']).sum()"
   ]
  },
  {
   "cell_type": "code",
   "execution_count": null,
   "metadata": {},
   "outputs": [],
   "source": [
    "# Index level names may be supplied as keys\n",
    "s.groupby(['first', 'second']).sum()"
   ]
  },
  {
   "cell_type": "markdown",
   "metadata": {},
   "source": [
    "##### 3. Working with Decimal and Object Columns\n",
    "\n",
    "Any object column, even if it contains numerical values such as Decimal objects, is considered as a \"nuisance\" column. They are excluded from aggregate functions automatically in groupby."
   ]
  },
  {
   "cell_type": "code",
   "execution_count": null,
   "metadata": {},
   "outputs": [],
   "source": [
    "# Create a DataFrame with a Decimal column\n",
    "df_dec = pd.DataFrame({\n",
    "    'id': [1, 2, 1, 2],\n",
    "    'int_column': [1, 2, 3, 4],\n",
    "    'dec_column': [Decimal('0.50'), Decimal('0.15'),\n",
    "                   Decimal('0.25'), Decimal('0.40')]\n",
    "})\n",
    "df_dec"
   ]
  },
  {
   "cell_type": "code",
   "execution_count": null,
   "metadata": {},
   "outputs": [],
   "source": [
    "# Decimal columns can be sum'd explicitly by themselves\n",
    "df_dec.groupby(['id'])[['dec_column']].sum()"
   ]
  },
  {
   "cell_type": "code",
   "execution_count": null,
   "metadata": {},
   "outputs": [],
   "source": [
    "# But cannot be combined with standard data types or they will be excluded\n",
    "df_dec.groupby(['id'])[['int_column', 'dec_column']].sum()"
   ]
  },
  {
   "cell_type": "code",
   "execution_count": null,
   "metadata": {},
   "outputs": [],
   "source": [
    "# Use .agg function to aggregate over standard and \"nuisance\" data types at the same time\n",
    "df_dec.groupby(['id']).agg({'int_column': 'sum', 'dec_column': 'sum'})"
   ]
  },
  {
   "cell_type": "markdown",
   "metadata": {},
   "source": [
    "##### 4. Handling of Categorical Values in GroupBy\n",
    "\n",
    "When using a Categorical grouper, the `observed` keyword controls whether to return a cartesian product of all possible groupers values (`observed=False`) or only those that are observed groupers (`observed=True`)."
   ]
  },
  {
   "cell_type": "code",
   "execution_count": null,
   "metadata": {},
   "outputs": [],
   "source": [
    "# Create a Series with a Categorical index\n",
    "s = pd.Series([1, 1, 1])\n",
    "cat = pd.Categorical(['a', 'a', 'a'], categories=['a', 'b'])\n",
    "s"
   ]
  },
  {
   "cell_type": "code",
   "execution_count": null,
   "metadata": {},
   "outputs": [],
   "source": [
    "# Show all values (observed=False)\n",
    "s.groupby(cat, observed=False).count()"
   ]
  },
  {
   "cell_type": "code",
   "execution_count": null,
   "metadata": {},
   "outputs": [],
   "source": [
    "# Show only the observed values (observed=True)\n",
    "s.groupby(cat, observed=True).count()"
   ]
  },
  {
   "cell_type": "code",
   "execution_count": null,
   "metadata": {},
   "outputs": [],
   "source": [
    "# The returned dtype of the grouped will always include all of the categories that were grouped\n",
    "result = s.groupby(cat, observed=False).count()\n",
    "result.index.dtype"
   ]
  },
  {
   "cell_type": "markdown",
   "metadata": {},
   "source": [
    "##### 5. Grouping with Ordered Factors\n",
    "\n",
    "Categorical variables represented as instances of pandas's Categorical class can be used as group keys. If so, the order of the levels will be preserved:"
   ]
  },
  {
   "cell_type": "code",
   "execution_count": null,
   "metadata": {},
   "outputs": [],
   "source": [
    "# Create a Series of random data\n",
    "data = pd.Series(np.random.randn(100))\n",
    "\n",
    "# Create quartiles as an ordered categorical\n",
    "factor = pd.qcut(data, [0, .25, .5, .75, 1.])\n",
    "\n",
    "# Group by the factor and compute the mean\n",
    "data.groupby(factor).mean()"
   ]
  },
  {
   "cell_type": "markdown",
   "metadata": {},
   "source": [
    "##### 6. NA and NaT Group Handling\n",
    "\n",
    "If there are any NaN or NaT values in the grouping key, these will be automatically excluded. In other words, there will never be an \"NA group\" or \"NaT group\"."
   ]
  },
  {
   "cell_type": "code",
   "execution_count": null,
   "metadata": {},
   "outputs": [],
   "source": [
    "# Create a Series with NaN values in the index\n",
    "s = pd.Series([1, 2, 3, 4], index=[1, 2, np.nan, np.nan])\n",
    "s"
   ]
  },
  {
   "cell_type": "code",
   "execution_count": null,
   "metadata": {},
   "outputs": [],
   "source": [
    "# Group by index - NaN values are excluded\n",
    "s.groupby(level=0).sum()"
   ]
  },
  {
   "cell_type": "markdown",
   "metadata": {},
   "source": [
    "##### 7. Practical Examples of GroupBy Operations\n",
    "\n",
    "Let's look at some practical examples of GroupBy operations:"
   ]
  },
  {
   "cell_type": "code",
   "execution_count": null,
   "metadata": {},
   "outputs": [],
   "source": [
    "# Create a DataFrame with sales data\n",
    "sales = pd.DataFrame({\n",
    "    'date': pd.date_range('2023-01-01', periods=20),\n",
    "    'product': np.random.choice(['A', 'B', 'C'], size=20),\n",
    "    'region': np.random.choice(['North', 'South', 'East', 'West'], size=20),\n",
    "    'sales': np.random.randint(100, 1000, size=20),\n",
    "    'units': np.random.randint(1, 10, size=20)\n",
    "})\n",
    "sales.head()"
   ]
  },
  {
   "cell_type": "code",
   "execution_count": null,
   "metadata": {},
   "outputs": [],
   "source": [
    "# Group by product and calculate total sales and average units\n",
    "product_summary = sales.groupby('product').agg({\n",
    "    'sales': 'sum',\n",
    "    'units': 'mean'\n",
    "})\n",
    "product_summary"
   ]
  },
  {
   "cell_type": "code",
   "execution_count": null,
   "metadata": {},
   "outputs": [],
   "source": [
    "# Group by region and product\n",
    "region_product = sales.groupby(['region', 'product']).agg({\n",
    "    'sales': ['sum', 'mean'],\n",
    "    'units': ['sum', 'mean']\n",
    "})\n",
    "region_product"
   ]
  },
  {
   "cell_type": "code",
   "execution_count": null,
   "metadata": {},
   "outputs": [],
   "source": [
    "# Group by date (month) and calculate monthly sales\n",
    "sales['month'] = sales['date'].dt.month\n",
    "monthly_sales = sales.groupby('month')['sales'].sum()\n",
    "monthly_sales"
   ]
  },
  {
   "cell_type": "code",
   "execution_count": null,
   "metadata": {},
   "outputs": [],
   "source": [
    "# Visualize monthly sales\n",
    "monthly_sales.plot(kind='bar', figsize=(10, 6), title='Monthly Sales')\n",
    "plt.xlabel('Month')\n",
    "plt.ylabel('Total Sales')\n",
    "plt.xticks(rotation=0)"
   ]
  },
  {
   "cell_type": "markdown",
   "metadata": {},
   "source": [
    "##### Summary\n",
    "\n",
    "In this notebook, we've explored advanced GroupBy operations in pandas, including:\n",
    "\n",
    "1. GroupBy tab completion and common methods\n",
    "2. Working with MultiIndex in GroupBy operations\n",
    "   - Grouping by level\n",
    "   - Grouping with multiple levels\n",
    "3. Working with decimal and object columns in GroupBy\n",
    "4. Handling of categorical values in GroupBy with the `observed` parameter\n",
    "5. Grouping with ordered factors\n",
    "6. NA and NaT group handling\n",
    "7. Practical examples of GroupBy operations\n",
    "\n",
    "These advanced GroupBy techniques provide powerful tools for data analysis and aggregation in pandas."
   ]
  }
 ],
 "metadata": {
  "kernelspec": {
   "display_name": "Python 3",
   "language": "python",
   "name": "python3"
  },
  "language_info": {
   "codemirror_mode": {
    "name": "ipython",
    "version": 3
   },
   "file_extension": ".py",
   "mimetype": "text/x-python",
   "name": "python",
   "nbconvert_exporter": "python",
   "pygments_lexer": "ipython3",
   "version": "3.8.5"
  }
 },
 "nbformat": 4,
 "nbformat_minor": 4
}