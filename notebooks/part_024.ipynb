{
 "cells": [
  {
   "cell_type": "markdown",
   "metadata": {},
   "source": [
    "#### Part 24: Categorical Data (Continued) and Visualization in Pandas\n",
    "\n",
    "In this notebook, we'll explore:\n",
    "- More operations with categorical data\n",
    "- Introduction to data visualization with pandas\n",
    "- Various plot types and customization options\n",
    "\n",
    "##### Setup\n",
    "First, let's import the necessary libraries:"
   ]
  },
  {
   "cell_type": "code",
   "execution_count": null,
   "metadata": {},
   "outputs": [],
   "source": [
    "import pandas as pd\n",
    "import numpy as np\n",
    "import matplotlib.pyplot as plt\n",
    "\n",
    "# Set the plotting style\n",
    "plt.style.use('ggplot')\n",
    "\n",
    "# Make plots appear in the notebook\n",
    "%matplotlib inline"
   ]
  },
  {
   "cell_type": "markdown",
   "metadata": {},
   "source": [
    "##### 1. Categorical Data (Continued)\n",
    "\n",
    "### 1.1 String and Datetime Accessors with Categorical Data\n",
    "\n",
    "The accessors `.str` and `.dt` work with categorical data if the categories are of the appropriate type:"
   ]
  },
  {
   "cell_type": "code",
   "execution_count": null,
   "metadata": {},
   "outputs": [],
   "source": [
    "# Create a string Series and convert to category\n",
    "str_s = pd.Series(list('aabb'))\n",
    "str_cat = str_s.astype('category')\n",
    "print(\"Categorical string Series:\")\n",
    "print(str_cat)\n",
    "\n",
    "# Use string accessor\n",
    "print(\"\\nUsing .str.contains():\")\n",
    "print(str_cat.str.contains(\"a\"))"
   ]
  },
  {
   "cell_type": "code",
   "execution_count": null,
   "metadata": {},
   "outputs": [],
   "source": [
    "# Create a datetime Series and convert to category\n",
    "date_s = pd.Series(pd.date_range('1/1/2015', periods=5))\n",
    "date_cat = date_s.astype('category')\n",
    "print(\"Categorical datetime Series:\")\n",
    "print(date_cat)\n",
    "\n",
    "# Use datetime accessor\n",
    "print(\"\\nUsing .dt.day:\")\n",
    "print(date_cat.dt.day)"
   ]
  },
  {
   "cell_type": "markdown",
   "metadata": {},
   "source": [
    "Note that the returned Series from methods on the accessors of a categorical Series will be of the same type as if you used the method on a regular Series of that type (not of type category):"
   ]
  },
  {
   "cell_type": "code",
   "execution_count": null,
   "metadata": {},
   "outputs": [],
   "source": [
    "# Compare the results of .str.contains() on both Series types\n",
    "ret_s = str_s.str.contains(\"a\")\n",
    "ret_cat = str_cat.str.contains(\"a\")\n",
    "\n",
    "print(f\"Same dtype: {ret_s.dtype == ret_cat.dtype}\")\n",
    "print(\"\\nSame values:\")\n",
    "print(ret_s == ret_cat)"
   ]
  },
  {
   "cell_type": "markdown",
   "metadata": {},
   "source": [
    "### 1.2 Setting Values in Categorical Data\n",
    "\n",
    "Setting values in a categorical column (or Series) works as long as the value is included in the categories:"
   ]
  },
  {
   "cell_type": "code",
   "execution_count": null,
   "metadata": {},
   "outputs": [],
   "source": [
    "# Create a DataFrame with a categorical column\n",
    "idx = pd.Index([\"h\", \"i\", \"j\", \"k\", \"l\", \"m\", \"n\"])\n",
    "cats = pd.Categorical([\"a\", \"a\", \"a\", \"a\", \"a\", \"a\", \"a\"], categories=[\"a\", \"b\"])\n",
    "values = [1, 1, 1, 1, 1, 1, 1]\n",
    "df = pd.DataFrame({\"cats\": cats, \"values\": values}, index=idx)\n",
    "print(\"Original DataFrame:\")\n",
    "print(df)\n",
    "\n",
    "# Set values using .iloc\n",
    "df.iloc[2:4, :] = [[\"b\", 2], [\"b\", 2]]\n",
    "print(\"\\nAfter setting values:\")\n",
    "print(df)"
   ]
  },
  {
   "cell_type": "markdown",
   "metadata": {},
   "source": [
    "If you try to set a value that is not in the categories, you'll get an error:"
   ]
  },
  {
   "cell_type": "code",
   "execution_count": null,
   "metadata": {},
   "outputs": [],
   "source": [
    "# Try to set a value that is not in the categories\n",
    "try:\n",
    "    df.iloc[2:4, :] = [[\"c\", 3], [\"c\", 3]]\n",
    "except ValueError as e:\n",
    "    print(f\"Error: {e}\")"
   ]
  },
  {
   "cell_type": "markdown",
   "metadata": {},
   "source": [
    "Setting values by assigning categorical data will also check that the categories match:"
   ]
  },
  {
   "cell_type": "code",
   "execution_count": null,
   "metadata": {},
   "outputs": [],
   "source": [
    "# Set values using a categorical with matching categories\n",
    "df.loc[\"j\":\"k\", \"cats\"] = pd.Categorical([\"a\", \"a\"], categories=[\"a\", \"b\"])\n",
    "print(\"After setting with matching categories:\")\n",
    "print(df)\n",
    "\n",
    "# Try to set values using a categorical with different categories\n",
    "try:\n",
    "    df.loc[\"j\":\"k\", \"cats\"] = pd.Categorical([\"b\", \"b\"], categories=[\"a\", \"b\", \"c\"])\n",
    "except ValueError as e:\n",
    "    print(f\"\\nError: {e}\")"
   ]
  },
  {
   "cell_type": "markdown",
   "metadata": {},
   "source": [
    "##### 2. Data Visualization with Pandas\n",
    "\n",
    "Pandas provides a high-level interface for creating various types of plots using matplotlib. Let's explore some of the visualization capabilities.\n",
    "\n",
    "### 2.1 Basic Plotting\n",
    "\n",
    "Let's create a simple DataFrame and plot it:"
   ]
  },
  {
   "cell_type": "code",
   "execution_count": null,
   "metadata": {},
   "outputs": [],
   "source": [
    "# Create a DataFrame with time series data\n",
    "ts = pd.Series(np.random.randn(1000), index=pd.date_range('1/1/2000', periods=1000))\n",
    "df = pd.DataFrame(np.random.randn(1000, 4), index=ts.index, columns=['A', 'B', 'C', 'D'])\n",
    "df = df.cumsum()\n",
    "\n",
    "# Plot the DataFrame\n",
    "df.plot(figsize=(10, 6), title='Basic Time Series Plot')"
   ]
  },
  {
   "cell_type": "markdown",
   "metadata": {},
   "source": [
    "You can also plot specific columns:"
   ]
  },
  {
   "cell_type": "code",
   "execution_count": null,
   "metadata": {},
   "outputs": [],
   "source": [
    "# Plot specific columns\n",
    "df[['A', 'B']].plot(figsize=(10, 6), title='Columns A and B')"
   ]
  },
  {
   "cell_type": "markdown",
   "metadata": {},
   "source": [
    "### 2.2 Other Plot Types\n",
    "\n",
    "Pandas supports various plot types, which can be specified using the `kind` parameter or by using the `.plot.<kind>()` method. Some of the available plot types include:\n",
    "\n",
    "- 'line' (default): Line plot\n",
    "- 'bar' or 'barh': Bar plot (vertical or horizontal)\n",
    "- 'hist': Histogram\n",
    "- 'box': Box plot\n",
    "- 'kde' or 'density': Kernel density estimate plot\n",
    "- 'area': Area plot\n",
    "- 'scatter': Scatter plot\n",
    "- 'hexbin': Hexagonal bin plot\n",
    "- 'pie': Pie plot\n",
    "\n",
    "Let's explore some of these plot types:"
   ]
  },
  {
   "cell_type": "code",
   "execution_count": null,
   "metadata": {},
   "outputs": [],
   "source": [
    "# Bar plot of a single row\n",
    "plt.figure(figsize=(10, 6))\n",
    "df.iloc[5].plot(kind='bar', title='Bar Plot of Row 5')\n",
    "plt.axhline(0, color='k')  # Add a horizontal line at y=0"
   ]
  },
  {
   "cell_type": "code",
   "execution_count": null,
   "metadata": {},
   "outputs": [],
   "source": [
    "# Create a DataFrame for bar plot\n",
    "df2 = pd.DataFrame(np.random.rand(10, 4), columns=['a', 'b', 'c', 'd'])\n",
    "\n",
    "# Bar plot of the entire DataFrame\n",
    "df2.plot.bar(figsize=(10, 6), title='Multiple Bar Plot')"
   ]
  },
  {
   "cell_type": "code",
   "execution_count": null,
   "metadata": {},
   "outputs": [],
   "source": [
    "# Stacked bar plot\n",
    "df2.plot.bar(stacked=True, figsize=(10, 6), title='Stacked Bar Plot')"
   ]
  },
  {
   "cell_type": "code",
   "execution_count": null,
   "metadata": {},
   "outputs": [],
   "source": [
    "# Horizontal bar plot\n",
    "df2.plot.barh(figsize=(10, 6), title='Horizontal Bar Plot')"
   ]
  },
  {
   "cell_type": "markdown",
   "metadata": {},
   "source": [
    "### 2.3 Histograms and Density Plots"
   ]
  },
  {
   "cell_type": "code",
   "execution_count": null,
   "metadata": {},
   "outputs": [],
   "source": [
    "# Histogram\n",
    "df['A'].plot.hist(bins=20, figsize=(10, 6), title='Histogram of Column A')"
   ]
  },
  {
   "cell_type": "code",
   "execution_count": null,
   "metadata": {},
   "outputs": [],
   "source": [
    "# Kernel Density Estimate (KDE) plot\n",
    "df['A'].plot.kde(figsize=(10, 6), title='Density Plot of Column A')"
   ]
  },
  {
   "cell_type": "markdown",
   "metadata": {},
   "source": [
    "### 2.4 Box Plots"
   ]
  },
  {
   "cell_type": "code",
   "execution_count": null,
   "metadata": {},
   "outputs": [],
   "source": [
    "# Box plot\n",
    "df.plot.box(figsize=(10, 6), title='Box Plot')"
   ]
  },
  {
   "cell_type": "markdown",
   "metadata": {},
   "source": [
    "### 2.5 Area Plots"
   ]
  },
  {
   "cell_type": "code",
   "execution_count": null,
   "metadata": {},
   "outputs": [],
   "source": [
    "# Area plot\n",
    "df.plot.area(figsize=(10, 6), title='Area Plot')"
   ]
  },
  {
   "cell_type": "markdown",
   "metadata": {},
   "source": [
    "### 2.6 Scatter Plots"
   ]
  },
  {
   "cell_type": "code",
   "execution_count": null,
   "metadata": {},
   "outputs": [],
   "source": [
    "# Scatter plot\n",
    "df.plot.scatter(x='A', y='B', figsize=(10, 6), title='Scatter Plot of A vs B')"
   ]
  },
  {
   "cell_type": "code",
   "execution_count": null,
   "metadata": {},
   "outputs": [],
   "source": [
    "# Scatter plot with color and size\n",
    "df.plot.scatter(x='A', y='B', c='C', s=df['D'] * 100, figsize=(10, 6), \n",
    "                title='Scatter Plot with Color and Size')"
   ]
  },
  {
   "cell_type": "markdown",
   "metadata": {},
   "source": [
    "### 2.7 Pie Charts"
   ]
  },
  {
   "cell_type": "code",
   "execution_count": null,
   "metadata": {},
   "outputs": [],
   "source": [
    "# Create data for pie chart\n",
    "pie_data = pd.Series(3 * np.random.rand(4), index=['a', 'b', 'c', 'd'], name='series')\n",
    "\n",
    "# Pie chart\n",
    "pie_data.plot.pie(figsize=(10, 6), autopct='%.2f', title='Pie Chart')"
   ]
  },
  {
   "cell_type": "markdown",
   "metadata": {},
   "source": [
    "##### Summary\n",
    "\n",
    "In this notebook, we've explored:\n",
    "\n",
    "1. More operations with categorical data in pandas, including:\n",
    "   - Using string and datetime accessors with categorical data\n",
    "   - Setting values in categorical data\n",
    "\n",
    "2. Data visualization with pandas, including:\n",
    "   - Basic line plots\n",
    "   - Bar plots (vertical, horizontal, and stacked)\n",
    "   - Histograms and density plots\n",
    "   - Box plots\n",
    "   - Area plots\n",
    "   - Scatter plots\n",
    "   - Pie charts\n",
    "\n",
    "These visualization capabilities make pandas a powerful tool for exploratory data analysis, allowing you to quickly visualize your data in various ways."
   ]
  }
 ],
 "metadata": {
  "kernelspec": {
   "display_name": "Python 3",
   "language": "python",
   "name": "python3"
  },
  "language_info": {
   "codemirror_mode": {
    "name": "ipython",
    "version": 3
   },
   "file_extension": ".py",
   "mimetype": "text/x-python",
   "name": "python",
   "nbconvert_exporter": "python",
   "pygments_lexer": "ipython3",
   "version": "3.8.5"
  }
 },
 "nbformat": 4,
 "nbformat_minor": 4
}