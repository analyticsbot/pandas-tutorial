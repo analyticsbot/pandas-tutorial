{
 "cells": [
  {
   "cell_type": "markdown",
   "metadata": {},
   "source": [
    "# Pandas Tutorial - Part 33\n",
    "\n",
    "This notebook covers:\n",
    "- Advanced operations with Timedeltas\n",
    "- Timedelta reductions\n",
    "- Pandas options and settings"
   ]
  },
  {
   "cell_type": "code",
   "execution_count": null,
   "metadata": {},
   "outputs": [],
   "source": [
    "import pandas as pd\n",
    "import numpy as np\n",
    "import datetime\n",
    "\n",
    "%matplotlib inline"
   ]
  },
  {
   "cell_type": "markdown",
   "metadata": {},
   "source": [
    "## Advanced Operations with Timedeltas\n",
    "\n",
    "Continuing from Part 32, let's explore more operations with Timedeltas."
   ]
  },
  {
   "cell_type": "code",
   "execution_count": null,
   "metadata": {},
   "outputs": [],
   "source": [
    "# Create a Series of dates\n",
    "s = pd.Series(pd.date_range('2012-1-1', periods=3, freq='D'))\n",
    "s"
   ]
  },
  {
   "cell_type": "code",
   "execution_count": null,
   "metadata": {},
   "outputs": [],
   "source": [
    "# Create a Series of timedeltas by subtracting the first date\n",
    "y = s - s[0]\n",
    "y"
   ]
  },
  {
   "cell_type": "markdown",
   "metadata": {},
   "source": [
    "### Setting NaT in Timedeltas\n",
    "\n",
    "Elements can be set to NaT using np.nan analogously to datetimes:"
   ]
  },
  {
   "cell_type": "code",
   "execution_count": null,
   "metadata": {},
   "outputs": [],
   "source": [
    "# Set an element to NaT\n",
    "y[1] = np.nan\n",
    "y"
   ]
  },
  {
   "cell_type": "markdown",
   "metadata": {},
   "source": [
    "### Reversed Order Operations\n",
    "\n",
    "Operands can also appear in a reversed order (a singular object operated with a Series):"
   ]
  },
  {
   "cell_type": "code",
   "execution_count": null,
   "metadata": {},
   "outputs": [],
   "source": [
    "# Subtract a Series from a scalar\n",
    "s.max() - s"
   ]
  },
  {
   "cell_type": "code",
   "execution_count": null,
   "metadata": {},
   "outputs": [],
   "source": [
    "# Subtract a Series from a datetime\n",
    "datetime.datetime(2011, 1, 1, 3, 5) - s"
   ]
  },
  {
   "cell_type": "code",
   "execution_count": null,
   "metadata": {},
   "outputs": [],
   "source": [
    "# Add a timedelta to a Series\n",
    "datetime.timedelta(minutes=5) + s"
   ]
  },
  {
   "cell_type": "markdown",
   "metadata": {},
   "source": [
    "### Min, Max and Index Operations\n",
    "\n",
    "min, max and the corresponding idxmin, idxmax operations are supported on frames:"
   ]
  },
  {
   "cell_type": "code",
   "execution_count": null,
   "metadata": {},
   "outputs": [],
   "source": [
    "# Create two Series of timedeltas\n",
    "A = s - pd.Timestamp('20120101') - pd.Timedelta('00:05:05')\n",
    "B = s - pd.Series(pd.date_range('2012-1-2', periods=3, freq='D'))\n",
    "\n",
    "# Create a DataFrame with these Series\n",
    "df = pd.DataFrame({'A': A, 'B': B})\n",
    "df"
   ]
  },
  {
   "cell_type": "code",
   "execution_count": null,
   "metadata": {},
   "outputs": [],
   "source": [
    "# Find the minimum value in each column\n",
    "df.min()"
   ]
  },
  {
   "cell_type": "code",
   "execution_count": null,
   "metadata": {},
   "outputs": [],
   "source": [
    "# Find the minimum value in each row\n",
    "df.min(axis=1)"
   ]
  },
  {
   "cell_type": "code",
   "execution_count": null,
   "metadata": {},
   "outputs": [],
   "source": [
    "# Find the index of the minimum value in each column\n",
    "df.idxmin()"
   ]
  },
  {
   "cell_type": "code",
   "execution_count": null,
   "metadata": {},
   "outputs": [],
   "source": [
    "# Find the index of the maximum value in each column\n",
    "df.idxmax()"
   ]
  },
  {
   "cell_type": "markdown",
   "metadata": {},
   "source": [
    "min, max, idxmin, idxmax operations are supported on Series as well. A scalar result will be a Timedelta."
   ]
  },
  {
   "cell_type": "code",
   "execution_count": null,
   "metadata": {},
   "outputs": [],
   "source": [
    "# Find the maximum of the minimum values in each column\n",
    "df.min().max()"
   ]
  },
  {
   "cell_type": "code",
   "execution_count": null,
   "metadata": {},
   "outputs": [],
   "source": [
    "# Find the minimum of the minimum values in each row\n",
    "df.min(axis=1).min()"
   ]
  },
  {
   "cell_type": "code",
   "execution_count": null,
   "metadata": {},
   "outputs": [],
   "source": [
    "# Find the column name with the maximum of the minimum values\n",
    "df.min().idxmax()"
   ]
  },
  {
   "cell_type": "code",
   "execution_count": null,
   "metadata": {},
   "outputs": [],
   "source": [
    "# Find the row index with the minimum of the minimum values\n",
    "df.min(axis=1).idxmin()"
   ]
  },
  {
   "cell_type": "markdown",
   "metadata": {},
   "source": [
    "### Filling NaT Values\n",
    "\n",
    "You can fillna on timedeltas, passing a timedelta to get a particular value."
   ]
  },
  {
   "cell_type": "code",
   "execution_count": null,
   "metadata": {},
   "outputs": [],
   "source": [
    "# Create a Series with NaT values\n",
    "y = s - s.shift()\n",
    "y"
   ]
  },
  {
   "cell_type": "code",
   "execution_count": null,
   "metadata": {},
   "outputs": [],
   "source": [
    "# Fill NaT values with 0 days\n",
    "y.fillna(pd.Timedelta(0))"
   ]
  },
  {
   "cell_type": "code",
   "execution_count": null,
   "metadata": {},
   "outputs": [],
   "source": [
    "# Fill NaT values with 10 seconds\n",
    "y.fillna(pd.Timedelta(10, unit='s'))"
   ]
  },
  {
   "cell_type": "code",
   "execution_count": null,
   "metadata": {},
   "outputs": [],
   "source": [
    "# Fill NaT values with a negative timedelta\n",
    "y.fillna(pd.Timedelta('-1 days, 00:00:05'))"
   ]
  },
  {
   "cell_type": "markdown",
   "metadata": {},
   "source": [
    "### Negation, Multiplication, and Absolute Value\n",
    "\n",
    "You can also negate, multiply and use abs on Timedeltas:"
   ]
  },
  {
   "cell_type": "code",
   "execution_count": null,
   "metadata": {},
   "outputs": [],
   "source": [
    "# Create a negative timedelta\n",
    "td1 = pd.Timedelta('-1 days 2 hours 3 seconds')\n",
    "td1"
   ]
  },
  {
   "cell_type": "code",
   "execution_count": null,
   "metadata": {},
   "outputs": [],
   "source": [
    "# Multiply by -1\n",
    "-1 * td1"
   ]
  },
  {
   "cell_type": "code",
   "execution_count": null,
   "metadata": {},
   "outputs": [],
   "source": [
    "# Negate\n",
    "- td1"
   ]
  },
  {
   "cell_type": "code",
   "execution_count": null,
   "metadata": {},
   "outputs": [],
   "source": [
    "# Absolute value\n",
    "abs(td1)"
   ]
  },
  {
   "cell_type": "markdown",
   "metadata": {},
   "source": [
    "## Timedelta Reductions\n",
    "\n",
    "Numeric reduction operations for timedelta64[ns] will return Timedelta objects. As usual, NaT values are skipped during evaluation."
   ]
  },
  {
   "cell_type": "code",
   "execution_count": null,
   "metadata": {},
   "outputs": [],
   "source": [
    "# Create a Series with timedeltas and NaT\n",
    "y2 = pd.Series(pd.to_timedelta(['-1 days +00:00:05', 'nat',\n",
    "                               '-1 days +00:00:05', '1 days']))\n",
    "y2"
   ]
  },
  {
   "cell_type": "code",
   "execution_count": null,
   "metadata": {},
   "outputs": [],
   "source": [
    "# Calculate the mean\n",
    "y2.mean()"
   ]
  },
  {
   "cell_type": "code",
   "execution_count": null,
   "metadata": {},
   "outputs": [],
   "source": [
    "# Calculate the median\n",
    "y2.median()"
   ]
  },
  {
   "cell_type": "code",
   "execution_count": null,
   "metadata": {},
   "outputs": [],
   "source": [
    "# Calculate the 10th percentile\n",
    "y2.quantile(.1)"
   ]
  },
  {
   "cell_type": "markdown",
   "metadata": {},
   "source": [
    "## Pandas Options and Settings\n",
    "\n",
    "Pandas has an options system that lets you customize some aspects of its behavior, with display-related options being those the user is most likely to adjust."
   ]
  },
  {
   "cell_type": "markdown",
   "metadata": {},
   "source": [
    "### Overview\n",
    "\n",
    "Options have a full \"dotted-style\", case-insensitive name (e.g., display.max_rows). You can get/set options directly as attributes of the top-level options attribute."
   ]
  },
  {
   "cell_type": "code",
   "execution_count": null,
   "metadata": {},
   "outputs": [],
   "source": [
    "# Get the current value of display.max_rows\n",
    "pd.options.display.max_rows"
   ]
  },
  {
   "cell_type": "code",
   "execution_count": null,
   "metadata": {},
   "outputs": [],
   "source": [
    "# Set a new value\n",
    "pd.options.display.max_rows = 999\n",
    "pd.options.display.max_rows"
   ]
  },
  {
   "cell_type": "markdown",
   "metadata": {},
   "source": [
    "### Getting and Setting Options\n",
    "\n",
    "The API is composed of 5 relevant functions, available directly from the pandas namespace:\n",
    "- `get_option()` / `set_option()` - get/set the value of a single option.\n",
    "- `reset_option()` - reset one or more options to their default value.\n",
    "- `describe_option()` - print the descriptions of one or more options.\n",
    "- `option_context()` - execute a codeblock with a set of options that revert to prior settings after execution."
   ]
  },
  {
   "cell_type": "code",
   "execution_count": null,
   "metadata": {},
   "outputs": [],
   "source": [
    "# Get an option using get_option\n",
    "pd.get_option(\"display.max_rows\")"
   ]
  },
  {
   "cell_type": "code",
   "execution_count": null,
   "metadata": {},
   "outputs": [],
   "source": [
    "# Set an option using set_option\n",
    "pd.set_option(\"display.max_rows\", 101)\n",
    "pd.get_option(\"display.max_rows\")"
   ]
  },
  {
   "cell_type": "code",
   "execution_count": null,
   "metadata": {},
   "outputs": [],
   "source": [
    "# You can use a substring as long as it's unambiguous\n",
    "pd.set_option(\"max_r\", 102)\n",
    "pd.get_option(\"display.max_rows\")"
   ]
  },
  {
   "cell_type": "code",
   "execution_count": null,
   "metadata": {},
   "outputs": [],
   "source": [
    "# This will not work because it matches multiple option names\n",
    "try:\n",
    "    pd.get_option(\"column\")\n",
    "except KeyError as e:\n",
    "    print(e)"
   ]
  },
  {
   "cell_type": "code",
   "execution_count": null,
   "metadata": {},
   "outputs": [],
   "source": [
    "# Get and set a different option\n",
    "pd.get_option('mode.sim_interactive')"
   ]
  },
  {
   "cell_type": "code",
   "execution_count": null,
   "metadata": {},
   "outputs": [],
   "source": [
    "pd.set_option('mode.sim_interactive', True)\n",
    "pd.get_option('mode.sim_interactive')"
   ]
  },
  {
   "cell_type": "markdown",
   "metadata": {},
   "source": [
    "### Resetting Options\n",
    "\n",
    "All options have a default value, and you can use reset_option to revert to that default:"
   ]
  },
  {
   "cell_type": "code",
   "execution_count": null,
   "metadata": {},
   "outputs": [],
   "source": [
    "# Check current value\n",
    "pd.get_option(\"display.max_rows\")"
   ]
  },
  {
   "cell_type": "code",
   "execution_count": null,
   "metadata": {},
   "outputs": [],
   "source": [
    "# Set to a new value\n",
    "pd.set_option(\"display.max_rows\", 999)\n",
    "pd.get_option(\"display.max_rows\")"
   ]
  },
  {
   "cell_type": "code",
   "execution_count": null,
   "metadata": {},
   "outputs": [],
   "source": [
    "# Reset to default\n",
    "pd.reset_option(\"display.max_rows\")\n",
    "pd.get_option(\"display.max_rows\")"
   ]
  },
  {
   "cell_type": "markdown",
   "metadata": {},
   "source": [
    "## Conclusion\n",
    "\n",
    "In this notebook, we've explored:\n",
    "\n",
    "1. Advanced operations with Timedeltas, including:\n",
    "   - Setting NaT values\n",
    "   - Reversed order operations\n",
    "   - Min, max, and index operations\n",
    "   - Filling NaT values\n",
    "   - Negation, multiplication, and absolute value\n",
    "\n",
    "2. Timedelta reductions like mean, median, and quantile\n",
    "\n",
    "3. Pandas options and settings system, including:\n",
    "   - Getting and setting options\n",
    "   - Using the options API functions\n",
    "   - Resetting options to defaults\n",
    "\n",
    "These features provide powerful tools for working with time-related data and customizing pandas behavior."
   ]
  }
 ],
 "metadata": {
  "kernelspec": {
   "display_name": "Python 3",
   "language": "python",
   "name": "python3"
  },
  "language_info": {
   "codemirror_mode": {
    "name": "ipython",
    "version": 3
   },
   "file_extension": ".py",
   "mimetype": "text/x-python",
   "name": "python",
   "nbconvert_exporter": "python",
   "pygments_lexer": "ipython3",
   "version": "3.8.5"
  }
 },
 "nbformat": 4,
 "nbformat_minor": 4
}
