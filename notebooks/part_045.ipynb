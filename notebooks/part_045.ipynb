{
 "cells": [
  {
   "cell_type": "markdown",
   "metadata": {},
   "source": [
    "#### Pandas Series Methods - Part 45\n",
    "\n",
    "This notebook covers important Series methods in pandas, including `interpolate()`, `isin()`, `notna()`, `notnull()`, and `nsmallest()`."
   ]
  },
  {
   "cell_type": "code",
   "execution_count": 1,
   "metadata": {},
   "outputs": [],
   "source": [
    "import pandas as pd\n",
    "import numpy as np"
   ]
  },
  {
   "cell_type": "markdown",
   "metadata": {},
   "source": [
    "##### Series.interpolate()\n",
    "\n",
    "The `interpolate()` method fills NaN values in a Series or DataFrame using different interpolation methods."
   ]
  },
  {
   "cell_type": "code",
   "execution_count": 2,
   "metadata": {},
   "outputs": [
    {
     "name": "stdout",
     "output_type": "stream",
     "text": [
      "Original Series:\n",
      "0    0.0\n",
      "1    1.0\n",
      "2    NaN\n",
      "3    3.0\n",
      "dtype: float64\n",
      "\n",
      "Interpolated Series:\n",
      "0    0.0\n",
      "1    1.0\n",
      "2    2.0\n",
      "3    3.0\n",
      "dtype: float64\n"
     ]
    }
   ],
   "source": [
    "# Basic example with linear interpolation\n",
    "s = pd.Series([0, 1, np.nan, 3])\n",
    "print(\"Original Series:\")\n",
    "print(s)\n",
    "\n",
    "print(\"\\nInterpolated Series:\")\n",
    "print(s.interpolate())"
   ]
  },
  {
   "cell_type": "code",
   "execution_count": 3,
   "metadata": {},
   "outputs": [
    {
     "name": "stdout",
     "output_type": "stream",
     "text": [
      "Original Series:\n",
      "0              NaN\n",
      "1       single_one\n",
      "2              NaN\n",
      "3    fill_two_more\n",
      "4              NaN\n",
      "5              NaN\n",
      "6              NaN\n",
      "7             4.71\n",
      "8              NaN\n",
      "dtype: object\n",
      "\n",
      "Interpolated Series with pad method and limit=2:\n",
      "0              NaN\n",
      "1       single_one\n",
      "2       single_one\n",
      "3    fill_two_more\n",
      "4    fill_two_more\n",
      "5    fill_two_more\n",
      "6              NaN\n",
      "7             4.71\n",
      "8             4.71\n",
      "dtype: object\n"
     ]
    },
    {
     "name": "stderr",
     "output_type": "stream",
     "text": [
      "/var/folders/7y/fzwln1_93mn3js3wyk61_6xm0000gn/T/ipykernel_86918/658283873.py:9: FutureWarning: Series.interpolate with method=pad is deprecated and will raise in a future version. Use obj.ffill() or obj.bfill() instead.\n",
      "  print(s.interpolate(method='pad', limit=2))\n"
     ]
    }
   ],
   "source": [
    "# Pad (forward fill) with limit\n",
    "s = pd.Series([np.nan, \"single_one\", np.nan,\n",
    "              \"fill_two_more\", np.nan, np.nan, np.nan,\n",
    "              4.71, np.nan])\n",
    "print(\"Original Series:\")\n",
    "print(s)\n",
    "\n",
    "print(\"\\nInterpolated Series with pad method and limit=2:\")\n",
    "print(s.interpolate(method='pad', limit=2))"
   ]
  },
  {
   "cell_type": "code",
   "execution_count": 4,
   "metadata": {},
   "outputs": [
    {
     "name": "stdout",
     "output_type": "stream",
     "text": [
      "Original Series:\n",
      "0    0.0\n",
      "1    2.0\n",
      "2    NaN\n",
      "3    8.0\n",
      "dtype: float64\n",
      "\n",
      "Interpolated Series with polynomial method:\n",
      "0    0.000000\n",
      "1    2.000000\n",
      "2    4.666667\n",
      "3    8.000000\n",
      "dtype: float64\n"
     ]
    }
   ],
   "source": [
    "# Polynomial interpolation\n",
    "s = pd.Series([0, 2, np.nan, 8])\n",
    "print(\"Original Series:\")\n",
    "print(s)\n",
    "\n",
    "print(\"\\nInterpolated Series with polynomial method:\")\n",
    "print(s.interpolate(method='polynomial', order=2))"
   ]
  },
  {
   "cell_type": "code",
   "execution_count": 5,
   "metadata": {},
   "outputs": [
    {
     "name": "stdout",
     "output_type": "stream",
     "text": [
      "Original DataFrame:\n",
      "     a    b    c     d\n",
      "0  0.0  NaN -1.0   1.0\n",
      "1  NaN  2.0  NaN   NaN\n",
      "2  2.0  3.0  NaN   9.0\n",
      "3  NaN  4.0 -4.0  16.0\n",
      "\n",
      "Interpolated DataFrame (linear, forward direction, along axis=0):\n",
      "     a    b    c     d\n",
      "0  0.0  NaN -1.0   1.0\n",
      "1  1.0  2.0 -2.0   5.0\n",
      "2  2.0  3.0 -3.0   9.0\n",
      "3  2.0  4.0 -4.0  16.0\n"
     ]
    }
   ],
   "source": [
    "# Interpolation in a DataFrame\n",
    "df = pd.DataFrame([(0.0, np.nan, -1.0, 1.0),\n",
    "                   (np.nan, 2.0, np.nan, np.nan),\n",
    "                   (2.0, 3.0, np.nan, 9.0),\n",
    "                   (np.nan, 4.0, -4.0, 16.0)],\n",
    "                  columns=list('abcd'))\n",
    "print(\"Original DataFrame:\")\n",
    "print(df)\n",
    "\n",
    "print(\"\\nInterpolated DataFrame (linear, forward direction, along axis=0):\")\n",
    "print(df.interpolate(method='linear', limit_direction='forward', axis=0))"
   ]
  },
  {
   "cell_type": "code",
   "execution_count": 6,
   "metadata": {},
   "outputs": [
    {
     "name": "stdout",
     "output_type": "stream",
     "text": [
      "Original 'd' column:\n",
      "0     1.0\n",
      "1     NaN\n",
      "2     9.0\n",
      "3    16.0\n",
      "Name: d, dtype: float64\n",
      "\n",
      "Interpolated 'd' column with polynomial method:\n",
      "0     1.0\n",
      "1     4.0\n",
      "2     9.0\n",
      "3    16.0\n",
      "Name: d, dtype: float64\n"
     ]
    }
   ],
   "source": [
    "# Polynomial interpolation on a single column\n",
    "print(\"Original 'd' column:\")\n",
    "print(df['d'])\n",
    "\n",
    "print(\"\\nInterpolated 'd' column with polynomial method:\")\n",
    "print(df['d'].interpolate(method='polynomial', order=2))"
   ]
  },
  {
   "cell_type": "markdown",
   "metadata": {},
   "source": [
    "##### Series.isin()\n",
    "\n",
    "The `isin()` method checks whether values are contained in a Series. It returns a boolean Series showing whether each element matches an element in the passed sequence of values."
   ]
  },
  {
   "cell_type": "code",
   "execution_count": 7,
   "metadata": {},
   "outputs": [
    {
     "name": "stdout",
     "output_type": "stream",
     "text": [
      "Original Series:\n",
      "0         apple\n",
      "1        banana\n",
      "2        cherry\n",
      "3          date\n",
      "4    elderberry\n",
      "dtype: object\n",
      "\n",
      "Check if values are in ['apple', 'cherry', 'fig']:\n",
      "0     True\n",
      "1    False\n",
      "2     True\n",
      "3    False\n",
      "4    False\n",
      "dtype: bool\n"
     ]
    }
   ],
   "source": [
    "# Basic example\n",
    "s = pd.Series(['apple', 'banana', 'cherry', 'date', 'elderberry'])\n",
    "print(\"Original Series:\")\n",
    "print(s)\n",
    "\n",
    "print(\"\\nCheck if values are in ['apple', 'cherry', 'fig']:\")\n",
    "print(s.isin(['apple', 'cherry', 'fig']))"
   ]
  },
  {
   "cell_type": "code",
   "execution_count": 8,
   "metadata": {},
   "outputs": [
    {
     "name": "stdout",
     "output_type": "stream",
     "text": [
      "Filtered Series:\n",
      "0     apple\n",
      "2    cherry\n",
      "dtype: object\n"
     ]
    }
   ],
   "source": [
    "# Using isin() to filter a Series\n",
    "fruits = ['apple', 'cherry']\n",
    "filtered = s[s.isin(fruits)]\n",
    "print(\"Filtered Series:\")\n",
    "print(filtered)"
   ]
  },
  {
   "cell_type": "code",
   "execution_count": 9,
   "metadata": {},
   "outputs": [
    {
     "name": "stdout",
     "output_type": "stream",
     "text": [
      "Check if values are in a set:\n",
      "0     True\n",
      "1    False\n",
      "2     True\n",
      "3    False\n",
      "4    False\n",
      "dtype: bool\n"
     ]
    }
   ],
   "source": [
    "# Using isin() with a set (more efficient for large collections)\n",
    "fruits_set = {'apple', 'cherry', 'fig'}\n",
    "print(\"Check if values are in a set:\")\n",
    "print(s.isin(fruits_set))"
   ]
  },
  {
   "cell_type": "markdown",
   "metadata": {},
   "source": [
    "##### Series.notna() and Series.notnull()\n",
    "\n",
    "The `notna()` and `notnull()` methods detect existing (non-missing) values in a Series. They return a boolean Series indicating if the values are not NA."
   ]
  },
  {
   "cell_type": "code",
   "execution_count": 11,
   "metadata": {},
   "outputs": [
    {
     "name": "stdout",
     "output_type": "stream",
     "text": [
      "Original Series:\n",
      "0    5.0\n",
      "1    6.0\n",
      "2    NaN\n",
      "dtype: float64\n",
      "\n",
      "Using notna():\n",
      "0     True\n",
      "1     True\n",
      "2    False\n",
      "dtype: bool\n",
      "\n",
      "Using notnull() (alias of notna()):\n",
      "0     True\n",
      "1     True\n",
      "2    False\n",
      "dtype: bool\n"
     ]
    }
   ],
   "source": [
    "# Basic example\n",
    "s = pd.Series([5, 6, np.nan])\n",
    "print(\"Original Series:\")\n",
    "print(s)\n",
    "\n",
    "print(\"\\nUsing notna():\")\n",
    "print(s.notna())\n",
    "\n",
    "print(\"\\nUsing notnull() (alias of notna()):\")\n",
    "print(s.notnull())"
   ]
  },
  {
   "cell_type": "code",
   "execution_count": 12,
   "metadata": {},
   "outputs": [
    {
     "name": "stdout",
     "output_type": "stream",
     "text": [
      "Filtered Series (non-NA values only):\n",
      "0    5.0\n",
      "1    6.0\n",
      "dtype: float64\n"
     ]
    }
   ],
   "source": [
    "# Using notna() to filter a Series\n",
    "filtered = s[s.notna()]\n",
    "print(\"Filtered Series (non-NA values only):\")\n",
    "print(filtered)"
   ]
  },
  {
   "cell_type": "code",
   "execution_count": 14,
   "metadata": {},
   "outputs": [
    {
     "name": "stdout",
     "output_type": "stream",
     "text": [
      "Original DataFrame:\n",
      "   age       born    name        toy\n",
      "0  5.0        NaT  Alfred       None\n",
      "1  6.0 1939-05-27  Batman  Batmobile\n",
      "2  NaN 1940-04-25              Joker\n",
      "\n",
      "Using notna():\n",
      "     age   born  name    toy\n",
      "0   True  False  True  False\n",
      "1   True   True  True   True\n",
      "2  False   True  True   True\n"
     ]
    }
   ],
   "source": [
    "# Using notna() with a DataFrame\n",
    "df = pd.DataFrame({\n",
    "    'age': [5, 6, np.nan],\n",
    "    'born': [pd.NaT, pd.Timestamp('1939-05-27'), pd.Timestamp('1940-04-25')],\n",
    "    'name': ['Alfred', 'Batman', ''],\n",
    "    'toy': [None, 'Batmobile', 'Joker']\n",
    "})\n",
    "print(\"Original DataFrame:\")\n",
    "print(df)\n",
    "\n",
    "print(\"\\nUsing notna():\")\n",
    "print(df.notna())"
   ]
  },
  {
   "cell_type": "markdown",
   "metadata": {},
   "source": [
    "##### Series.nsmallest()\n",
    "\n",
    "The `nsmallest()` method returns the smallest n elements in a Series."
   ]
  },
  {
   "cell_type": "code",
   "execution_count": 15,
   "metadata": {},
   "outputs": [
    {
     "name": "stdout",
     "output_type": "stream",
     "text": [
      "Original Series:\n",
      "0    10\n",
      "1     3\n",
      "2     8\n",
      "3     5\n",
      "4     2\n",
      "5     7\n",
      "6     1\n",
      "7     9\n",
      "8     4\n",
      "9     6\n",
      "dtype: int64\n",
      "\n",
      "Smallest 3 elements:\n",
      "6    1\n",
      "4    2\n",
      "1    3\n",
      "dtype: int64\n"
     ]
    }
   ],
   "source": [
    "# Basic example\n",
    "s = pd.Series([10, 3, 8, 5, 2, 7, 1, 9, 4, 6])\n",
    "print(\"Original Series:\")\n",
    "print(s)\n",
    "\n",
    "print(\"\\nSmallest 3 elements:\")\n",
    "print(s.nsmallest(3))"
   ]
  },
  {
   "cell_type": "code",
   "execution_count": 16,
   "metadata": {},
   "outputs": [
    {
     "name": "stdout",
     "output_type": "stream",
     "text": [
      "Original Series with duplicates:\n",
      "0    3\n",
      "1    5\n",
      "2    2\n",
      "3    7\n",
      "4    2\n",
      "5    9\n",
      "6    1\n",
      "7    2\n",
      "8    6\n",
      "dtype: int64\n",
      "\n",
      "Smallest 3 elements (keep='first'):\n",
      "6    1\n",
      "2    2\n",
      "4    2\n",
      "dtype: int64\n",
      "\n",
      "Smallest 3 elements (keep='last'):\n",
      "6    1\n",
      "7    2\n",
      "4    2\n",
      "dtype: int64\n",
      "\n",
      "Smallest 3 elements (keep='all'):\n",
      "6    1\n",
      "2    2\n",
      "4    2\n",
      "7    2\n",
      "dtype: int64\n"
     ]
    }
   ],
   "source": [
    "# Handling duplicate values with different 'keep' options\n",
    "s = pd.Series([3, 5, 2, 7, 2, 9, 1, 2, 6])\n",
    "print(\"Original Series with duplicates:\")\n",
    "print(s)\n",
    "\n",
    "print(\"\\nSmallest 3 elements (keep='first'):\")\n",
    "print(s.nsmallest(3, keep='first'))\n",
    "\n",
    "print(\"\\nSmallest 3 elements (keep='last'):\")\n",
    "print(s.nsmallest(3, keep='last'))\n",
    "\n",
    "print(\"\\nSmallest 3 elements (keep='all'):\")\n",
    "print(s.nsmallest(3, keep='all'))"
   ]
  },
  {
   "cell_type": "markdown",
   "metadata": {},
   "source": [
    "##### Practical Examples\n",
    "\n",
    "Let's explore some practical examples of these methods."
   ]
  },
  {
   "cell_type": "markdown",
   "metadata": {},
   "source": [
    "### Example 1: Filling Missing Values in Time Series Data"
   ]
  },
  {
   "cell_type": "code",
   "execution_count": 17,
   "metadata": {},
   "outputs": [
    {
     "name": "stdout",
     "output_type": "stream",
     "text": [
      "Original Time Series:\n",
      "2023-01-01    10.0\n",
      "2023-01-02    11.0\n",
      "2023-01-03     NaN\n",
      "2023-01-04     NaN\n",
      "2023-01-05    14.0\n",
      "2023-01-06    15.0\n",
      "2023-01-07     NaN\n",
      "2023-01-08    17.0\n",
      "2023-01-09     NaN\n",
      "2023-01-10    19.0\n",
      "Freq: D, dtype: float64\n"
     ]
    }
   ],
   "source": [
    "# Create a time series with missing values\n",
    "dates = pd.date_range('2023-01-01', periods=10, freq='D')\n",
    "values = [10, 11, np.nan, np.nan, 14, 15, np.nan, 17, np.nan, 19]\n",
    "ts = pd.Series(values, index=dates)\n",
    "print(\"Original Time Series:\")\n",
    "print(ts)"
   ]
  },
  {
   "cell_type": "code",
   "execution_count": 18,
   "metadata": {},
   "outputs": [
    {
     "name": "stdout",
     "output_type": "stream",
     "text": [
      "Linear Interpolation:\n",
      "2023-01-01    10.0\n",
      "2023-01-02    11.0\n",
      "2023-01-03    12.0\n",
      "2023-01-04    13.0\n",
      "2023-01-05    14.0\n",
      "2023-01-06    15.0\n",
      "2023-01-07    16.0\n",
      "2023-01-08    17.0\n",
      "2023-01-09    18.0\n",
      "2023-01-10    19.0\n",
      "Freq: D, dtype: float64\n"
     ]
    }
   ],
   "source": [
    "# Linear interpolation\n",
    "ts_linear = ts.interpolate(method='linear')\n",
    "print(\"Linear Interpolation:\")\n",
    "print(ts_linear)"
   ]
  },
  {
   "cell_type": "code",
   "execution_count": 19,
   "metadata": {},
   "outputs": [
    {
     "name": "stdout",
     "output_type": "stream",
     "text": [
      "Polynomial Interpolation:\n",
      "2023-01-01    10.0\n",
      "2023-01-02    11.0\n",
      "2023-01-03    12.0\n",
      "2023-01-04    13.0\n",
      "2023-01-05    14.0\n",
      "2023-01-06    15.0\n",
      "2023-01-07    16.0\n",
      "2023-01-08    17.0\n",
      "2023-01-09    18.0\n",
      "2023-01-10    19.0\n",
      "Freq: D, dtype: float64\n"
     ]
    }
   ],
   "source": [
    "# Polynomial interpolation\n",
    "ts_poly = ts.interpolate(method='polynomial', order=2)\n",
    "print(\"Polynomial Interpolation:\")\n",
    "print(ts_poly)"
   ]
  },
  {
   "cell_type": "code",
   "execution_count": 20,
   "metadata": {},
   "outputs": [
    {
     "name": "stdout",
     "output_type": "stream",
     "text": [
      "Time-based Interpolation:\n",
      "2023-01-01    10.0\n",
      "2023-01-02    11.0\n",
      "2023-01-03    12.0\n",
      "2023-01-04    13.0\n",
      "2023-01-05    14.0\n",
      "2023-01-06    15.0\n",
      "2023-01-07    16.0\n",
      "2023-01-08    17.0\n",
      "2023-01-09    18.0\n",
      "2023-01-10    19.0\n",
      "Freq: D, dtype: float64\n"
     ]
    }
   ],
   "source": [
    "# Time-based interpolation (specific to time series)\n",
    "ts_time = ts.interpolate(method='time')\n",
    "print(\"Time-based Interpolation:\")\n",
    "print(ts_time)"
   ]
  },
  {
   "cell_type": "markdown",
   "metadata": {},
   "source": [
    "### Example 2: Filtering Data Based on Categories"
   ]
  },
  {
   "cell_type": "code",
   "execution_count": 21,
   "metadata": {},
   "outputs": [
    {
     "name": "stdout",
     "output_type": "stream",
     "text": [
      "Product Data:\n",
      "   product_id product_name     category  price\n",
      "0           1       Laptop  Electronics   1200\n",
      "1           2        Phone  Electronics    800\n",
      "2           3       Tablet  Electronics    500\n",
      "3           4      Monitor  Electronics    300\n",
      "4           5     Keyboard  Accessories     80\n",
      "5           6        Mouse  Accessories     50\n",
      "6           7   Headphones        Audio    150\n",
      "7           8      Speaker        Audio    200\n",
      "8           9       Camera  Electronics    600\n",
      "9          10      Printer       Office    250\n"
     ]
    }
   ],
   "source": [
    "# Create a DataFrame with product data\n",
    "products = pd.DataFrame({\n",
    "    'product_id': range(1, 11),\n",
    "    'product_name': ['Laptop', 'Phone', 'Tablet', 'Monitor', 'Keyboard', \n",
    "                     'Mouse', 'Headphones', 'Speaker', 'Camera', 'Printer'],\n",
    "    'category': ['Electronics', 'Electronics', 'Electronics', 'Electronics', 'Accessories',\n",
    "                'Accessories', 'Audio', 'Audio', 'Electronics', 'Office'],\n",
    "    'price': [1200, 800, 500, 300, 80, 50, 150, 200, 600, 250]\n",
    "})\n",
    "print(\"Product Data:\")\n",
    "print(products)"
   ]
  },
  {
   "cell_type": "code",
   "execution_count": 22,
   "metadata": {},
   "outputs": [
    {
     "name": "stdout",
     "output_type": "stream",
     "text": [
      "Filtered Products (Electronics and Audio only):\n",
      "   product_id product_name     category  price\n",
      "0           1       Laptop  Electronics   1200\n",
      "1           2        Phone  Electronics    800\n",
      "2           3       Tablet  Electronics    500\n",
      "3           4      Monitor  Electronics    300\n",
      "6           7   Headphones        Audio    150\n",
      "7           8      Speaker        Audio    200\n",
      "8           9       Camera  Electronics    600\n"
     ]
    }
   ],
   "source": [
    "# Filter products by category\n",
    "selected_categories = ['Electronics', 'Audio']\n",
    "filtered_products = products[products['category'].isin(selected_categories)]\n",
    "print(\"Filtered Products (Electronics and Audio only):\")\n",
    "print(filtered_products)"
   ]
  },
  {
   "cell_type": "code",
   "execution_count": 23,
   "metadata": {},
   "outputs": [
    {
     "name": "stdout",
     "output_type": "stream",
     "text": [
      "Filtered Products (excluding Laptop, Phone, and Tablet):\n",
      "   product_id product_name     category  price\n",
      "3           4      Monitor  Electronics    300\n",
      "4           5     Keyboard  Accessories     80\n",
      "5           6        Mouse  Accessories     50\n",
      "6           7   Headphones        Audio    150\n",
      "7           8      Speaker        Audio    200\n",
      "8           9       Camera  Electronics    600\n",
      "9          10      Printer       Office    250\n"
     ]
    }
   ],
   "source": [
    "# Filter products by name\n",
    "excluded_products = ['Laptop', 'Phone', 'Tablet']\n",
    "filtered_products = products[~products['product_name'].isin(excluded_products)]\n",
    "print(\"Filtered Products (excluding Laptop, Phone, and Tablet):\")\n",
    "print(filtered_products)"
   ]
  },
  {
   "cell_type": "markdown",
   "metadata": {},
   "source": [
    "### Example 3: Finding Outliers in Data"
   ]
  },
  {
   "cell_type": "code",
   "execution_count": 24,
   "metadata": {},
   "outputs": [
    {
     "name": "stdout",
     "output_type": "stream",
     "text": [
      "Summary Statistics:\n",
      "count    100.000000\n",
      "mean      98.442302\n",
      "std       13.622526\n",
      "min       60.703823\n",
      "25%       90.986415\n",
      "50%       98.095656\n",
      "75%      106.089281\n",
      "max      127.784173\n",
      "dtype: float64\n"
     ]
    }
   ],
   "source": [
    "# Create a Series with random data\n",
    "np.random.seed(42)\n",
    "data = pd.Series(np.random.normal(100, 15, 100))\n",
    "print(\"Summary Statistics:\")\n",
    "print(data.describe())"
   ]
  },
  {
   "cell_type": "code",
   "execution_count": 25,
   "metadata": {},
   "outputs": [
    {
     "name": "stdout",
     "output_type": "stream",
     "text": [
      "5 Smallest Values:\n",
      "74    60.703823\n",
      "79    70.186466\n",
      "37    70.604948\n",
      "13    71.300796\n",
      "49    73.554398\n",
      "dtype: float64\n"
     ]
    }
   ],
   "source": [
    "# Find the 5 smallest values (potential lower outliers)\n",
    "lower_outliers = data.nsmallest(5)\n",
    "print(\"5 Smallest Values:\")\n",
    "print(lower_outliers)"
   ]
  },
  {
   "cell_type": "code",
   "execution_count": 26,
   "metadata": {},
   "outputs": [
    {
     "name": "stdout",
     "output_type": "stream",
     "text": [
      "5 Largest Values:\n",
      "31    127.784173\n",
      "6     123.688192\n",
      "73    123.469655\n",
      "71    123.070548\n",
      "3     122.845448\n",
      "dtype: float64\n"
     ]
    }
   ],
   "source": [
    "# Find the 5 largest values (potential upper outliers)\n",
    "upper_outliers = data.nlargest(5)\n",
    "print(\"5 Largest Values:\")\n",
    "print(upper_outliers)"
   ]
  },
  {
   "cell_type": "code",
   "execution_count": 27,
   "metadata": {},
   "outputs": [
    {
     "name": "stdout",
     "output_type": "stream",
     "text": [
      "Lower bound: 68.33211618611159\n",
      "Upper bound: 128.74357953662252\n",
      "\n",
      "Outliers:\n",
      "74    60.703823\n",
      "dtype: float64\n"
     ]
    }
   ],
   "source": [
    "# Define outliers using IQR method\n",
    "Q1 = data.quantile(0.25)\n",
    "Q3 = data.quantile(0.75)\n",
    "IQR = Q3 - Q1\n",
    "\n",
    "lower_bound = Q1 - 1.5 * IQR\n",
    "upper_bound = Q3 + 1.5 * IQR\n",
    "\n",
    "print(f\"Lower bound: {lower_bound}\")\n",
    "print(f\"Upper bound: {upper_bound}\")\n",
    "\n",
    "# Find outliers\n",
    "outliers = data[(data < lower_bound) | (data > upper_bound)]\n",
    "print(\"\\nOutliers:\")\n",
    "print(outliers)"
   ]
  },
  {
   "cell_type": "markdown",
   "metadata": {},
   "source": [
    "##### Summary\n",
    "\n",
    "In this notebook, we've explored several important Series methods in pandas:\n",
    "\n",
    "1. **Series.interpolate()**: Fills NaN values using various interpolation methods.\n",
    "2. **Series.isin()**: Checks whether values are contained in a Series.\n",
    "3. **Series.notna()** and **Series.notnull()**: Detect existing (non-missing) values.\n",
    "4. **Series.nsmallest()**: Returns the smallest n elements in a Series.\n",
    "\n",
    "These methods are essential for data cleaning, filtering, and analysis in pandas."
   ]
  },
  {
   "cell_type": "markdown",
   "metadata": {},
   "source": []
  },
  {
   "cell_type": "markdown",
   "metadata": {},
   "source": []
  },
  {
   "cell_type": "markdown",
   "metadata": {},
   "source": []
  }
 ],
 "metadata": {
  "kernelspec": {
   "display_name": "venv",
   "language": "python",
   "name": "python3"
  },
  "language_info": {
   "codemirror_mode": {
    "name": "ipython",
    "version": 3
   },
   "file_extension": ".py",
   "mimetype": "text/x-python",
   "name": "python",
   "nbconvert_exporter": "python",
   "pygments_lexer": "ipython3",
   "version": "3.13.2"
  }
 },
 "nbformat": 4,
 "nbformat_minor": 4
}
