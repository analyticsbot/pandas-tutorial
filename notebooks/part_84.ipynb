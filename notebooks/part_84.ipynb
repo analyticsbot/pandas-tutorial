{
 "cells": [
  {
   "cell_type": "markdown",
   "metadata": {},
   "source": [
    "#### Pandas Part 84: Time-Based DateOffset Classes\n",
    "\n",
    "This notebook explores time-based DateOffset classes in pandas, including Hour and Minute."
   ]
  },
  {
   "cell_type": "code",
   "execution_count": null,
   "metadata": {},
   "outputs": [],
   "source": [
    "import pandas as pd\n",
    "import numpy as np\n",
    "from datetime import datetime, time, timedelta\n",
    "from pandas.tseries.offsets import (\n",
    "    Hour, Minute, Second, Milli, Micro, Nano\n",
    ")"
   ]
  },
  {
   "cell_type": "markdown",
   "metadata": {},
   "source": [
    "##### 1. Hour\n",
    "\n",
    "The `Hour` class is a DateOffset subclass representing an hourly offset."
   ]
  },
  {
   "cell_type": "code",
   "execution_count": null,
   "metadata": {},
   "outputs": [],
   "source": [
    "# Create an Hour offset\n",
    "hour = Hour()\n",
    "print(f\"Hour: {hour}\")\n",
    "\n",
    "# Apply to a datetime\n",
    "dt = datetime(2023, 1, 1, 12, 0)  # 12:00 PM\n",
    "print(f\"Original datetime: {dt}\")\n",
    "print(f\"After adding 1 hour: {dt + hour}\")\n",
    "\n",
    "# Create an Hour offset with n=3\n",
    "hour3 = Hour(n=3)\n",
    "print(f\"\\nHour(n=3): {hour3}\")\n",
    "print(f\"After adding 3 hours: {dt + hour3}\")\n",
    "\n",
    "# Create an Hour offset with negative n\n",
    "hour_neg = Hour(n=-2)\n",
    "print(f\"\\nHour(n=-2): {hour_neg}\")\n",
    "print(f\"After subtracting 2 hours: {dt + hour_neg}\")"
   ]
  },
  {
   "cell_type": "markdown",
   "metadata": {},
   "source": [
    "### Hour Properties and Methods"
   ]
  },
  {
   "cell_type": "code",
   "execution_count": null,
   "metadata": {},
   "outputs": [],
   "source": [
    "# Create an Hour offset\n",
    "hour = Hour(n=2)\n",
    "print(f\"Hour(n=2): {hour}\")\n",
    "\n",
    "# Get the delta (timedelta)\n",
    "print(f\"Delta: {hour.delta}\")\n",
    "\n",
    "# Get the frequency string\n",
    "print(f\"Frequency string: {hour.freqstr}\")\n",
    "\n",
    "# Get the name\n",
    "print(f\"Name: {hour.name}\")\n",
    "\n",
    "# Get the rule code\n",
    "print(f\"Rule code: {hour.rule_code}\")"
   ]
  },
  {
   "cell_type": "code",
   "execution_count": null,
   "metadata": {},
   "outputs": [],
   "source": [
    "# Roll forward and backward\n",
    "dt = datetime(2023, 1, 1, 12, 30)  # 12:30 PM\n",
    "print(f\"Original datetime: {dt}\")\n",
    "\n",
    "# Since Hour is not anchored (not tied to a specific time), rollforward and rollback return the original datetime\n",
    "print(f\"Roll forward: {hour.rollforward(dt)}\")\n",
    "print(f\"Roll back: {hour.rollback(dt)}\")\n",
    "\n",
    "# Check if the offset is anchored\n",
    "print(f\"\\nIs Hour anchored? {hour.is_anchored()}\")"
   ]
  },
  {
   "cell_type": "code",
   "execution_count": null,
   "metadata": {},
   "outputs": [],
   "source": [
    "# Apply to a DatetimeIndex\n",
    "dates = pd.DatetimeIndex(['2023-01-01 12:00', '2023-01-01 13:00', '2023-01-01 14:00'])\n",
    "print(f\"Original dates: {dates}\")\n",
    "print(f\"After applying Hour(n=2): {hour.apply_index(dates)}\")"
   ]
  },
  {
   "cell_type": "markdown",
   "metadata": {},
   "source": [
    "### Using Hour with date_range"
   ]
  },
  {
   "cell_type": "code",
   "execution_count": null,
   "metadata": {},
   "outputs": [],
   "source": [
    "# Create a date range with hourly frequency\n",
    "dates = pd.date_range(start='2023-01-01 00:00', periods=24, freq='H')\n",
    "print(f\"Date range with hourly frequency:\")\n",
    "for i, date in enumerate(dates):\n",
    "    if i % 4 == 0:  # Print every 4 hours to keep output manageable\n",
    "        print(f\"{date}\")\n",
    "\n",
    "# Create a date range with bi-hourly frequency\n",
    "dates = pd.date_range(start='2023-01-01 00:00', periods=12, freq='2H')\n",
    "print(f\"\\nDate range with bi-hourly frequency:\")\n",
    "for date in dates:\n",
    "    print(f\"{date}\")"
   ]
  },
  {
   "cell_type": "markdown",
   "metadata": {},
   "source": [
    "##### 2. Minute\n",
    "\n",
    "The `Minute` class is a DateOffset subclass representing a minute offset."
   ]
  },
  {
   "cell_type": "code",
   "execution_count": null,
   "metadata": {},
   "outputs": [],
   "source": [
    "# Create a Minute offset\n",
    "minute = Minute()\n",
    "print(f\"Minute: {minute}\")\n",
    "\n",
    "# Apply to a datetime\n",
    "dt = datetime(2023, 1, 1, 12, 0)  # 12:00 PM\n",
    "print(f\"Original datetime: {dt}\")\n",
    "print(f\"After adding 1 minute: {dt + minute}\")\n",
    "\n",
    "# Create a Minute offset with n=15\n",
    "minute15 = Minute(n=15)\n",
    "print(f\"\\nMinute(n=15): {minute15}\")\n",
    "print(f\"After adding 15 minutes: {dt + minute15}\")\n",
    "\n",
    "# Create a Minute offset with negative n\n",
    "minute_neg = Minute(n=-30)\n",
    "print(f\"\\nMinute(n=-30): {minute_neg}\")\n",
    "print(f\"After subtracting 30 minutes: {dt + minute_neg}\")"
   ]
  },
  {
   "cell_type": "markdown",
   "metadata": {},
   "source": [
    "### Minute Properties and Methods"
   ]
  },
  {
   "cell_type": "code",
   "execution_count": null,
   "metadata": {},
   "outputs": [],
   "source": [
    "# Create a Minute offset\n",
    "minute = Minute(n=5)\n",
    "print(f\"Minute(n=5): {minute}\")\n",
    "\n",
    "# Get the delta (timedelta)\n",
    "print(f\"Delta: {minute.delta}\")\n",
    "\n",
    "# Get the frequency string\n",
    "print(f\"Frequency string: {minute.freqstr}\")\n",
    "\n",
    "# Get the name\n",
    "print(f\"Name: {minute.name}\")\n",
    "\n",
    "# Get the rule code\n",
    "print(f\"Rule code: {minute.rule_code}\")"
   ]
  },
  {
   "cell_type": "code",
   "execution_count": null,
   "metadata": {},
   "outputs": [],
   "source": [
    "# Apply to a DatetimeIndex\n",
    "dates = pd.DatetimeIndex(['2023-01-01 12:00', '2023-01-01 12:05', '2023-01-01 12:10'])\n",
    "print(f\"Original dates: {dates}\")\n",
    "print(f\"After applying Minute(n=5): {minute.apply_index(dates)}\")"
   ]
  },
  {
   "cell_type": "markdown",
   "metadata": {},
   "source": [
    "### Using Minute with date_range"
   ]
  },
  {
   "cell_type": "code",
   "execution_count": null,
   "metadata": {},
   "outputs": [],
   "source": [
    "# Create a date range with minute frequency\n",
    "dates = pd.date_range(start='2023-01-01 12:00', periods=60, freq='T')  # T is alias for minute\n",
    "print(f\"Date range with minute frequency:\")\n",
    "for i, date in enumerate(dates):\n",
    "    if i % 10 == 0:  # Print every 10 minutes to keep output manageable\n",
    "        print(f\"{date}\")\n",
    "\n",
    "# Create a date range with 5-minute frequency\n",
    "dates = pd.date_range(start='2023-01-01 12:00', periods=12, freq='5T')\n",
    "print(f\"\\nDate range with 5-minute frequency:\")\n",
    "for date in dates:\n",
    "    print(f\"{date}\")"
   ]
  },
  {
   "cell_type": "markdown",
   "metadata": {},
   "source": [
    "##### 3. Second, Milli, Micro, and Nano\n",
    "\n",
    "Pandas also provides DateOffset classes for smaller time units: Second, Milli (millisecond), Micro (microsecond), and Nano (nanosecond)."
   ]
  },
  {
   "cell_type": "code",
   "execution_count": null,
   "metadata": {},
   "outputs": [],
   "source": [
    "# Create offsets for smaller time units\n",
    "second = Second()\n",
    "milli = Milli()\n",
    "micro = Micro()\n",
    "nano = Nano()\n",
    "print(f\"Second: {second}\")\n",
    "print(f\"Milli: {milli}\")\n",
    "print(f\"Micro: {micro}\")\n",
    "print(f\"Nano: {nano}\")\n",
    "\n",
    "# Apply to a datetime\n",
    "dt = datetime(2023, 1, 1, 12, 0, 0, 0)  # 12:00:00.000000\n",
    "print(f\"\\nOriginal datetime: {dt}\")\n",
    "print(f\"After adding 1 second: {dt + second}\")\n",
    "print(f\"After adding 1 millisecond: {dt + milli}\")\n",
    "print(f\"After adding 1 microsecond: {dt + micro}\")\n",
    "print(f\"After adding 1 nanosecond: {dt + nano}\")"
   ]
  },
  {
   "cell_type": "markdown",
   "metadata": {},
   "source": [
    "### Using Second with date_range"
   ]
  },
  {
   "cell_type": "code",
   "execution_count": null,
   "metadata": {},
   "outputs": [],
   "source": [
    "# Create a date range with second frequency\n",
    "dates = pd.date_range(start='2023-01-01 12:00:00', periods=60, freq='S')  # S is alias for second\n",
    "print(f\"Date range with second frequency:\")\n",
    "for i, date in enumerate(dates):\n",
    "    if i % 10 == 0:  # Print every 10 seconds to keep output manageable\n",
    "        print(f\"{date}\")\n",
    "\n",
    "# Create a date range with millisecond frequency\n",
    "dates = pd.date_range(start='2023-01-01 12:00:00', periods=10, freq='L')  # L is alias for millisecond\n",
    "print(f\"\\nDate range with millisecond frequency:\")\n",
    "for date in dates:\n",
    "    print(f\"{date}\")"
   ]
  },
  {
   "cell_type": "markdown",
   "metadata": {},
   "source": [
    "##### 4. Combining Time-Based DateOffset Classes\n",
    "\n",
    "You can combine different DateOffset classes to create complex time operations."
   ]
  },
  {
   "cell_type": "code",
   "execution_count": null,
   "metadata": {},
   "outputs": [],
   "source": [
    "# Combine Hour and Minute\n",
    "hour_plus_minute = Hour() + Minute(n=30)\n",
    "print(f\"Hour + Minute(n=30): {hour_plus_minute}\")\n",
    "\n",
    "# Apply to a datetime\n",
    "dt = datetime(2023, 1, 1, 12, 0)  # 12:00 PM\n",
    "print(f\"Original datetime: {dt}\")\n",
    "print(f\"After applying combined offset: {dt + hour_plus_minute}\")\n",
    "\n",
    "# Combine multiple time-based offsets\n",
    "complex_offset = Hour(n=2) + Minute(n=15) + Second(n=30)\n",
    "print(f\"\\nComplex offset: {complex_offset}\")\n",
    "print(f\"After applying complex offset: {dt + complex_offset}\")"
   ]
  },
  {
   "cell_type": "markdown",
   "metadata": {},
   "source": [
    "##### 5. Combining Time-Based and Calendar-Based DateOffset Classes\n",
    "\n",
    "You can also combine time-based DateOffset classes with calendar-based ones."
   ]
  },
  {
   "cell_type": "code",
   "execution_count": null,
   "metadata": {},
   "outputs": [],
   "source": [
    "from pandas.tseries.offsets import Day, MonthEnd\n",
    "\n",
    "# Combine Day and Hour\n",
    "day_plus_hour = Day() + Hour(n=12)\n",
    "print(f\"Day + Hour(n=12): {day_plus_hour}\")\n",
    "\n",
    "# Apply to a datetime\n",
    "dt = datetime(2023, 1, 1, 12, 0)  # 12:00 PM\n",
    "print(f\"Original datetime: {dt}\")\n",
    "print(f\"After applying combined offset: {dt + day_plus_hour}\")\n",
    "\n",
    "# Combine MonthEnd and Hour\n",
    "month_end_plus_hour = MonthEnd() + Hour(n=-1)\n",
    "print(f\"\\nMonthEnd + Hour(n=-1): {month_end_plus_hour}\")\n",
    "print(f\"After applying combined offset: {dt + month_end_plus_hour}\")"
   ]
  },
  {
   "cell_type": "markdown",
   "metadata": {},
   "source": [
    "##### 6. Using Time-Based DateOffset Classes with Time Series Data"
   ]
  },
  {
   "cell_type": "code",
   "execution_count": null,
   "metadata": {},
   "outputs": [],
   "source": [
    "# Create a time series with hourly frequency\n",
    "dates = pd.date_range(start='2023-01-01 00:00', periods=24, freq='H')\n",
    "values = np.random.randn(24)\n",
    "ts = pd.Series(values, index=dates)\n",
    "print(f\"Time series with hourly frequency:\")\n",
    "print(ts.head())\n",
    "\n",
    "# Resample to 4-hour frequency\n",
    "ts_4h = ts.resample('4H').mean()\n",
    "print(f\"\\nResampled to 4-hour frequency:\")\n",
    "print(ts_4h)\n",
    "\n",
    "# Shift the time series by 2 hours\n",
    "ts_shifted = ts.shift(freq='2H')\n",
    "print(f\"\\nShifted by 2 hours:\")\n",
    "print(ts_shifted.head())"
   ]
  }
 ],
 "metadata": {
  "kernelspec": {
   "display_name": "Python 3",
   "language": "python",
   "name": "python3"
  },
  "language_info": {
   "codemirror_mode": {
    "name": "ipython",
    "version": 3
   },
   "file_extension": ".py",
   "mimetype": "text/x-python",
   "name": "python",
   "nbconvert_exporter": "python",
   "pygments_lexer": "ipython3",
   "version": "3.8.5"
  }
 },
 "nbformat": 4,
 "nbformat_minor": 4
}