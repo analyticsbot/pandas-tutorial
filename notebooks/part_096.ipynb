{
 "cells": [
  {
   "cell_type": "markdown",
   "metadata": {},
   "source": [
    "#### Pandas Development and Testing - Part 96\n",
    "\n",
    "This notebook covers pandas testing practices, plotting backends, and Parquet storage format."
   ]
  },
  {
   "cell_type": "markdown",
   "metadata": {},
   "source": [
    "##### Test-Driven Development in Pandas\n",
    "\n",
    "Pandas strongly encourages test-driven development (TDD), which follows this process:\n",
    "\n",
    "1. Write an initially failing automated test case that defines a desired improvement or new function\n",
    "2. Produce the minimum amount of code to pass that test\n",
    "3. Refactor the code to meet quality standards\n",
    "\n",
    "Pandas uses pytest and the extensions in numpy.testing for its testing framework."
   ]
  },
  {
   "cell_type": "markdown",
   "metadata": {},
   "source": [
    "### Writing Tests\n",
    "\n",
    "All tests should go into the `tests` subdirectory of the specific package. Here's an example of a proper test:"
   ]
  },
  {
   "cell_type": "code",
   "execution_count": 1,
   "metadata": {},
   "outputs": [],
   "source": [
    "# Example of a test for the pivot function\n",
    "import pandas as pd\n",
    "from pandas._testing import assert_frame_equal\n",
    "\n",
    "def test_pivot():\n",
    "    data = {\n",
    "        'index': ['A', 'B', 'C', 'C', 'B', 'A'],\n",
    "        'columns': ['One', 'One', 'One', 'Two', 'Two', 'Two'],\n",
    "        'values': [1., 2., 3., 3., 2., 1.]\n",
    "    }\n",
    "    \n",
    "    frame = pd.DataFrame(data)\n",
    "    pivoted = frame.pivot(index='index', columns='columns', values='values')\n",
    "    \n",
    "    expected = pd.DataFrame({\n",
    "        'One': {'A': 1., 'B': 2., 'C': 3.},\n",
    "        'Two': {'A': 1., 'B': 2., 'C': 3.}\n",
    "    })\n",
    "    \n",
    "    assert_frame_equal(pivoted, expected)"
   ]
  },
  {
   "cell_type": "markdown",
   "metadata": {},
   "source": [
    "### Transitioning to pytest\n",
    "\n",
    "Pandas is moving from a class-based testing approach to a more functional style using pytest:"
   ]
  },
  {
   "cell_type": "code",
   "execution_count": 2,
   "metadata": {},
   "outputs": [],
   "source": [
    "# Old class-based style\n",
    "class TestReallyCoolFeature:\n",
    "    def test_something(self):\n",
    "        pass\n",
    "\n",
    "# New functional style with pytest\n",
    "def test_really_cool_feature():\n",
    "    pass"
   ]
  },
  {
   "cell_type": "markdown",
   "metadata": {},
   "source": [
    "### Using pytest Features\n",
    "\n",
    "Pytest offers several powerful features for testing:"
   ]
  },
  {
   "cell_type": "code",
   "execution_count": 4,
   "metadata": {},
   "outputs": [],
   "source": [
    "import pytest\n",
    "import pandas as pd\n",
    "import numpy as np\n",
    "\n",
    "# Using parametrize to test multiple cases\n",
    "@pytest.mark.parametrize(\n",
    "    \"test_input,expected\",\n",
    "    [\n",
    "        (pd.Series([1, 2, 3]), 6),\n",
    "        (pd.Series([10, 20, 30]), 60),\n",
    "        pytest.param(pd.Series([-1, -2, -3]), -6, marks=pytest.mark.xfail),\n",
    "    ]\n",
    ")\n",
    "def test_series_sum(test_input, expected):\n",
    "    assert test_input.sum() == expected\n",
    "\n",
    "# Using fixtures for object construction\n",
    "@pytest.fixture\n",
    "def sample_dataframe():\n",
    "    return pd.DataFrame({\n",
    "        'A': [1, 2, 3],\n",
    "        'B': ['a', 'b', 'c']\n",
    "    })\n",
    "\n",
    "def test_dataframe_shape(sample_dataframe):\n",
    "    assert sample_dataframe.shape == (3, 2)"
   ]
  },
  {
   "cell_type": "markdown",
   "metadata": {},
   "source": [
    "##### Plotting Backends\n",
    "\n",
    "Starting in pandas 0.25, you can use third-party plotting backends instead of the default Matplotlib backend:"
   ]
  },
  {
   "cell_type": "code",
   "execution_count": 5,
   "metadata": {},
   "outputs": [
    {
     "data": {
      "text/plain": [
       "<Axes: title={'center': 'Simple Bar Plot'}>"
      ]
     },
     "execution_count": 5,
     "metadata": {},
     "output_type": "execute_result"
    },
    {
     "data": {
      "image/png": "[encoded data removed]",
      "text/plain": [
       "<Figure size 640x480 with 1 Axes>"
      ]
     },
     "metadata": {},
     "output_type": "display_data"
    }
   ],
   "source": [
    "import pandas as pd\n",
    "\n",
    "# The default backend is matplotlib\n",
    "pd.set_option('plotting.backend', 'matplotlib')\n",
    "\n",
    "# Example of switching to a different backend (if installed)\n",
    "# pd.set_option('plotting.backend', 'plotly')\n",
    "\n",
    "# Create a simple plot with the current backend\n",
    "s = pd.Series([1, 2, 3, 4, 5])\n",
    "s.plot(kind='bar', title='Simple Bar Plot')"
   ]
  },
  {
   "cell_type": "markdown",
   "metadata": {},
   "source": [
    "### Implementing a Custom Plotting Backend\n",
    "\n",
    "Libraries can implement custom plotting backends by using entry points with the key `pandas_plotting_backends`. For example:"
   ]
  },
  {
   "cell_type": "markdown",
   "metadata": {},
   "source": [
    "```python\n",
    "# in setup.py\n",
    "setup(\n",
    "    ...,\n",
    "    entry_points={\n",
    "        \"pandas_plotting_backends\": [\n",
    "            \"matplotlib = pandas:plotting._matplotlib\",\n",
    "        ],\n",
    "    },\n",
    ")\n",
    "```"
   ]
  },
  {
   "cell_type": "markdown",
   "metadata": {},
   "source": [
    "##### Storing pandas DataFrames in Apache Parquet Format\n",
    "\n",
    "Apache Parquet is a columnar storage format that provides efficient storage and retrieval of data. Pandas can store DataFrames in Parquet format with metadata that allows for faithful reconstruction."
   ]
  },
  {
   "cell_type": "markdown",
   "metadata": {},
   "source": [
    "### Parquet Metadata Structure\n",
    "\n",
    "The metadata stored in Parquet files for pandas DataFrames includes:\n",
    "\n",
    "```json\n",
    "{\n",
    "  'index_columns': [<descr0>, <descr1>, ...],\n",
    "  'column_indexes': [<ci0>, <ci1>, ..., <ciN>],\n",
    "  'columns': [<c0>, <c1>, ...],\n",
    "  'pandas_version': $VERSION,\n",
    "  'creator': {\n",
    "    'library': $LIBRARY,\n",
    "    'version': $LIBRARY_VERSION\n",
    "  }\n",
    "}\n",
    "```\n",
    "\n",
    "Each column's metadata is stored as:\n",
    "\n",
    "```json\n",
    "{\n",
    "  'name': column_name,\n",
    "  'field_name': parquet_column_name,\n",
    "  'pandas_type': pandas_type,\n",
    "  'numpy_type': numpy_type,\n",
    "  'metadata': metadata\n",
    "}\n",
    "```"
   ]
  },
  {
   "cell_type": "markdown",
   "metadata": {},
   "source": [
    "### Index Metadata\n",
    "\n",
    "RangeIndex can be stored as metadata only, without requiring serialization:\n",
    "\n",
    "```python\n",
    "index = pd.RangeIndex(0, 10, 2)\n",
    "{\n",
    "  'kind': 'range',\n",
    "  'name': index.name,\n",
    "  'start': index.start,\n",
    "  'stop': index.stop,\n",
    "  'step': index.step\n",
    "}\n",
    "```\n",
    "\n",
    "Other index types must be serialized as data columns along with the DataFrame columns."
   ]
  },
  {
   "cell_type": "markdown",
   "metadata": {},
   "source": [
    "### Column Type Mapping\n",
    "\n",
    "The `pandas_type` field in the column metadata maps to these values:\n",
    "\n",
    "- Boolean: 'bool'\n",
    "- Integers: 'int8', 'int16', 'int32', 'int64', 'uint8', 'uint16', 'uint32', 'uint64'\n",
    "- Floats: 'float16', 'float32', 'float64'\n",
    "- Date and Time Types: 'datetime', 'datetimetz', 'timedelta'\n",
    "- String: 'unicode', 'bytes'\n",
    "- Categorical: 'categorical'"
   ]
  },
  {
   "cell_type": "markdown",
   "metadata": {},
   "source": [
    "### Example: Reading and Writing Parquet Files"
   ]
  },
  {
   "cell_type": "code",
   "execution_count": 6,
   "metadata": {},
   "outputs": [
    {
     "name": "stdout",
     "output_type": "stream",
     "text": [
      "Original DataFrame:\n",
      "   B    C      D          E    F\n",
      "A                               \n",
      "1  a  1.1   True 2021-01-01  cat\n",
      "2  b  2.2  False 2021-01-02  dog\n",
      "3  c  3.3   True 2021-01-03  cat\n",
      "4  d  4.4  False 2021-01-04  dog\n",
      "5  e  5.5   True 2021-01-05  cat\n"
     ]
    }
   ],
   "source": [
    "import pandas as pd\n",
    "import numpy as np\n",
    "\n",
    "# Create a sample DataFrame with different data types\n",
    "df = pd.DataFrame({\n",
    "    'A': [1, 2, 3, 4, 5],\n",
    "    'B': ['a', 'b', 'c', 'd', 'e'],\n",
    "    'C': [1.1, 2.2, 3.3, 4.4, 5.5],\n",
    "    'D': [True, False, True, False, True],\n",
    "    'E': pd.date_range('20210101', periods=5),\n",
    "    'F': pd.Categorical(['cat', 'dog', 'cat', 'dog', 'cat'])\n",
    "})\n",
    "\n",
    "# Set a custom index\n",
    "df.set_index('A', inplace=True)\n",
    "\n",
    "# Display the DataFrame\n",
    "print(\"Original DataFrame:\")\n",
    "print(df)\n",
    "\n",
    "# Write to Parquet format\n",
    "# df.to_parquet('example.parquet')\n",
    "\n",
    "# Read from Parquet format\n",
    "# df_read = pd.read_parquet('example.parquet')\n",
    "# print(\"\\nDataFrame read from Parquet:\")\n",
    "# print(df_read)\n",
    "\n",
    "# Note: The actual read/write operations are commented out\n",
    "# as they would create files in the filesystem"
   ]
  },
  {
   "cell_type": "code",
   "execution_count": null,
   "metadata": {},
   "outputs": [],
   "source": []
  },
  {
   "cell_type": "code",
   "execution_count": null,
   "metadata": {},
   "outputs": [],
   "source": []
  }
 ],
 "metadata": {
  "kernelspec": {
   "display_name": "venv",
   "language": "python",
   "name": "python3"
  },
  "language_info": {
   "codemirror_mode": {
    "name": "ipython",
    "version": 3
   },
   "file_extension": ".py",
   "mimetype": "text/x-python",
   "name": "python",
   "nbconvert_exporter": "python",
   "pygments_lexer": "ipython3",
   "version": "3.13.2"
  }
 },
 "nbformat": 4,
 "nbformat_minor": 4
}
