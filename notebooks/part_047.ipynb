{
 "cells": [
  {
   "cell_type": "markdown",
   "metadata": {},
   "source": [
    "#### Pandas Tutorial - Part 47\n",
    "\n",
    "This notebook covers various Series methods including:\n",
    "- Standard error of the mean with `sem()`\n",
    "- Setting axis labels with `set_axis()`\n",
    "- Shifting data with `shift()`"
   ]
  },
  {
   "cell_type": "code",
   "execution_count": 3,
   "metadata": {},
   "outputs": [],
   "source": [
    "import pandas as pd\n",
    "import numpy as np\n",
    "import matplotlib.pyplot as plt\n",
    "\n",
    "%matplotlib inline"
   ]
  },
  {
   "cell_type": "markdown",
   "metadata": {},
   "source": [
    "##### Standard Error of the Mean\n",
    "\n",
    "The `sem()` method calculates the standard error of the mean of a Series."
   ]
  },
  {
   "cell_type": "code",
   "execution_count": 4,
   "metadata": {},
   "outputs": [
    {
     "name": "stdout",
     "output_type": "stream",
     "text": [
      "Sample data:\n",
      "0     1\n",
      "1     2\n",
      "2     3\n",
      "3     4\n",
      "4     5\n",
      "5     6\n",
      "6     7\n",
      "7     8\n",
      "8     9\n",
      "9    10\n",
      "dtype: int64\n"
     ]
    }
   ],
   "source": [
    "# Create a Series with sample data\n",
    "s = pd.Series([1, 2, 3, 4, 5, 6, 7, 8, 9, 10])\n",
    "print(\"Sample data:\")\n",
    "print(s)"
   ]
  },
  {
   "cell_type": "code",
   "execution_count": 5,
   "metadata": {},
   "outputs": [
    {
     "name": "stdout",
     "output_type": "stream",
     "text": [
      "Mean: 5.5\n"
     ]
    }
   ],
   "source": [
    "# Calculate the mean\n",
    "mean = s.mean()\n",
    "print(f\"Mean: {mean}\")"
   ]
  },
  {
   "cell_type": "code",
   "execution_count": 6,
   "metadata": {},
   "outputs": [
    {
     "name": "stdout",
     "output_type": "stream",
     "text": [
      "Standard deviation: 3.0276503540974917\n"
     ]
    }
   ],
   "source": [
    "# Calculate the standard deviation\n",
    "std = s.std()\n",
    "print(f\"Standard deviation: {std}\")"
   ]
  },
  {
   "cell_type": "code",
   "execution_count": 7,
   "metadata": {},
   "outputs": [
    {
     "name": "stdout",
     "output_type": "stream",
     "text": [
      "Standard error of the mean: 0.9574271077563381\n"
     ]
    }
   ],
   "source": [
    "# Calculate the standard error of the mean\n",
    "sem = s.sem()\n",
    "print(f\"Standard error of the mean: {sem}\")"
   ]
  },
  {
   "cell_type": "code",
   "execution_count": 8,
   "metadata": {},
   "outputs": [
    {
     "name": "stdout",
     "output_type": "stream",
     "text": [
      "Manually calculated SEM: 0.9574271077563381\n"
     ]
    }
   ],
   "source": [
    "# Verify the calculation: SEM = std / sqrt(n)\n",
    "manual_sem = s.std() / np.sqrt(len(s))\n",
    "print(f\"Manually calculated SEM: {manual_sem}\")"
   ]
  },
  {
   "cell_type": "code",
   "execution_count": 9,
   "metadata": {},
   "outputs": [
    {
     "name": "stdout",
     "output_type": "stream",
     "text": [
      "Series with missing values:\n",
      "0     1.0\n",
      "1     2.0\n",
      "2     3.0\n",
      "3     NaN\n",
      "4     5.0\n",
      "5     6.0\n",
      "6     NaN\n",
      "7     8.0\n",
      "8     9.0\n",
      "9    10.0\n",
      "dtype: float64\n"
     ]
    }
   ],
   "source": [
    "# Create a Series with missing values\n",
    "s_with_nan = pd.Series([1, 2, 3, np.nan, 5, 6, np.nan, 8, 9, 10])\n",
    "print(\"Series with missing values:\")\n",
    "print(s_with_nan)"
   ]
  },
  {
   "cell_type": "code",
   "execution_count": 10,
   "metadata": {},
   "outputs": [
    {
     "name": "stdout",
     "output_type": "stream",
     "text": [
      "SEM with skipna=True: 1.1801936887041646\n"
     ]
    }
   ],
   "source": [
    "# Calculate SEM with skipna=True (default)\n",
    "sem_skipna = s_with_nan.sem()\n",
    "print(f\"SEM with skipna=True: {sem_skipna}\")"
   ]
  },
  {
   "cell_type": "code",
   "execution_count": 11,
   "metadata": {},
   "outputs": [
    {
     "name": "stdout",
     "output_type": "stream",
     "text": [
      "SEM with skipna=False: nan\n"
     ]
    }
   ],
   "source": [
    "# Calculate SEM with skipna=False\n",
    "sem_no_skipna = s_with_nan.sem(skipna=False)\n",
    "print(f\"SEM with skipna=False: {sem_no_skipna}\")"
   ]
  },
  {
   "cell_type": "code",
   "execution_count": 12,
   "metadata": {},
   "outputs": [
    {
     "name": "stdout",
     "output_type": "stream",
     "text": [
      "SEM with ddof=0: 0.9082951062292475\n",
      "SEM with ddof=1 (default): 0.9574271077563381\n",
      "SEM with ddof=2: 1.015504800579495\n"
     ]
    }
   ],
   "source": [
    "# Calculate SEM with different ddof values\n",
    "sem_ddof0 = s.sem(ddof=0)\n",
    "sem_ddof1 = s.sem(ddof=1)  # default\n",
    "sem_ddof2 = s.sem(ddof=2)\n",
    "\n",
    "print(f\"SEM with ddof=0: {sem_ddof0}\")\n",
    "print(f\"SEM with ddof=1 (default): {sem_ddof1}\")\n",
    "print(f\"SEM with ddof=2: {sem_ddof2}\")"
   ]
  },
  {
   "cell_type": "markdown",
   "metadata": {},
   "source": [
    "##### Setting Axis Labels\n",
    "\n",
    "The `set_axis()` method assigns desired labels to a given axis."
   ]
  },
  {
   "cell_type": "code",
   "execution_count": 13,
   "metadata": {},
   "outputs": [
    {
     "name": "stdout",
     "output_type": "stream",
     "text": [
      "Original Series:\n",
      "0    1\n",
      "1    2\n",
      "2    3\n",
      "dtype: int64\n"
     ]
    }
   ],
   "source": [
    "# Create a Series\n",
    "s = pd.Series([1, 2, 3])\n",
    "print(\"Original Series:\")\n",
    "print(s)"
   ]
  },
  {
   "cell_type": "code",
   "execution_count": 14,
   "metadata": {},
   "outputs": [
    {
     "name": "stdout",
     "output_type": "stream",
     "text": [
      "Series with new labels:\n",
      "a    1\n",
      "b    2\n",
      "c    3\n",
      "dtype: int64\n"
     ]
    }
   ],
   "source": [
    "# Set new axis labels\n",
    "s_new_labels = s.set_axis(['a', 'b', 'c'], axis=0)\n",
    "print(\"Series with new labels:\")\n",
    "print(s_new_labels)"
   ]
  },
  {
   "cell_type": "code",
   "execution_count": 15,
   "metadata": {},
   "outputs": [
    {
     "name": "stdout",
     "output_type": "stream",
     "text": [
      "Series after in-place label change:\n",
      "x    1\n",
      "y    2\n",
      "z    3\n",
      "dtype: int64\n"
     ]
    }
   ],
   "source": [
    "# Set new axis labels in-place\n",
    "s_inplace = s.copy()\n",
    "# Use the correct approach for in-place label change\n",
    "s_inplace.index = ['x', 'y', 'z']\n",
    "print(\"Series after in-place label change:\")\n",
    "print(s_inplace)"
   ]
  },
  {
   "cell_type": "code",
   "execution_count": 16,
   "metadata": {},
   "outputs": [
    {
     "name": "stdout",
     "output_type": "stream",
     "text": [
      "Original DataFrame:\n",
      "   A  B\n",
      "0  1  4\n",
      "1  2  5\n",
      "2  3  6\n"
     ]
    }
   ],
   "source": [
    "# Create a DataFrame\n",
    "df = pd.DataFrame({\"A\": [1, 2, 3], \"B\": [4, 5, 6]})\n",
    "print(\"Original DataFrame:\")\n",
    "print(df)"
   ]
  },
  {
   "cell_type": "code",
   "execution_count": 17,
   "metadata": {},
   "outputs": [
    {
     "name": "stdout",
     "output_type": "stream",
     "text": [
      "DataFrame with new row labels:\n",
      "   A  B\n",
      "a  1  4\n",
      "b  2  5\n",
      "c  3  6\n"
     ]
    }
   ],
   "source": [
    "# Change row labels\n",
    "df_row_labels = df.set_axis(['a', 'b', 'c'], axis='index')\n",
    "print(\"DataFrame with new row labels:\")\n",
    "print(df_row_labels)"
   ]
  },
  {
   "cell_type": "code",
   "execution_count": 18,
   "metadata": {},
   "outputs": [
    {
     "name": "stdout",
     "output_type": "stream",
     "text": [
      "DataFrame with new column labels:\n",
      "   I  II\n",
      "0  1   4\n",
      "1  2   5\n",
      "2  3   6\n"
     ]
    }
   ],
   "source": [
    "# Change column labels\n",
    "df_col_labels = df.set_axis(['I', 'II'], axis='columns')\n",
    "print(\"DataFrame with new column labels:\")\n",
    "print(df_col_labels)"
   ]
  },
  {
   "cell_type": "code",
   "execution_count": 20,
   "metadata": {},
   "outputs": [
    {
     "name": "stdout",
     "output_type": "stream",
     "text": [
      "DataFrame after in-place column label change:\n",
      "   X  Y\n",
      "0  1  4\n",
      "1  2  5\n",
      "2  3  6\n"
     ]
    }
   ],
   "source": [
    "# Change column labels in-place\n",
    "df_inplace = df.copy()\n",
    "# Use the correct approach for in-place column label change\n",
    "df_inplace.columns = ['X', 'Y']\n",
    "print(\"DataFrame after in-place column label change:\")\n",
    "print(df_inplace)"
   ]
  },
  {
   "cell_type": "markdown",
   "metadata": {},
   "source": [
    "##### Shifting Data\n",
    "\n",
    "The `shift()` method shifts the index by a desired number of periods."
   ]
  },
  {
   "cell_type": "code",
   "execution_count": 21,
   "metadata": {},
   "outputs": [
    {
     "name": "stdout",
     "output_type": "stream",
     "text": [
      "Original Series:\n",
      "0    1\n",
      "1    2\n",
      "2    3\n",
      "3    4\n",
      "4    5\n",
      "dtype: int64\n"
     ]
    }
   ],
   "source": [
    "# Create a Series\n",
    "s = pd.Series([1, 2, 3, 4, 5])\n",
    "print(\"Original Series:\")\n",
    "print(s)"
   ]
  },
  {
   "cell_type": "code",
   "execution_count": 22,
   "metadata": {},
   "outputs": [
    {
     "name": "stdout",
     "output_type": "stream",
     "text": [
      "Series shifted by 1 period:\n",
      "0    NaN\n",
      "1    1.0\n",
      "2    2.0\n",
      "3    3.0\n",
      "4    4.0\n",
      "dtype: float64\n"
     ]
    }
   ],
   "source": [
    "# Shift data by 1 period (default)\n",
    "s_shift1 = s.shift()\n",
    "print(\"Series shifted by 1 period:\")\n",
    "print(s_shift1)"
   ]
  },
  {
   "cell_type": "code",
   "execution_count": 23,
   "metadata": {},
   "outputs": [
    {
     "name": "stdout",
     "output_type": "stream",
     "text": [
      "Series shifted by 2 periods:\n",
      "0    NaN\n",
      "1    NaN\n",
      "2    1.0\n",
      "3    2.0\n",
      "4    3.0\n",
      "dtype: float64\n"
     ]
    }
   ],
   "source": [
    "# Shift data by 2 periods\n",
    "s_shift2 = s.shift(periods=2)\n",
    "print(\"Series shifted by 2 periods:\")\n",
    "print(s_shift2)"
   ]
  },
  {
   "cell_type": "code",
   "execution_count": 24,
   "metadata": {},
   "outputs": [
    {
     "name": "stdout",
     "output_type": "stream",
     "text": [
      "Series shifted backward by 1 period:\n",
      "0    2.0\n",
      "1    3.0\n",
      "2    4.0\n",
      "3    5.0\n",
      "4    NaN\n",
      "dtype: float64\n"
     ]
    }
   ],
   "source": [
    "# Shift data backward by 1 period\n",
    "s_shift_neg1 = s.shift(periods=-1)\n",
    "print(\"Series shifted backward by 1 period:\")\n",
    "print(s_shift_neg1)"
   ]
  },
  {
   "cell_type": "code",
   "execution_count": 25,
   "metadata": {},
   "outputs": [
    {
     "name": "stdout",
     "output_type": "stream",
     "text": [
      "Series shifted by 2 periods with fill_value=0:\n",
      "0    0\n",
      "1    0\n",
      "2    1\n",
      "3    2\n",
      "4    3\n",
      "dtype: int64\n"
     ]
    }
   ],
   "source": [
    "# Shift with a custom fill value\n",
    "s_shift_fill = s.shift(periods=2, fill_value=0)\n",
    "print(\"Series shifted by 2 periods with fill_value=0:\")\n",
    "print(s_shift_fill)"
   ]
  },
  {
   "cell_type": "code",
   "execution_count": 26,
   "metadata": {},
   "outputs": [
    {
     "name": "stdout",
     "output_type": "stream",
     "text": [
      "Series with datetime index:\n",
      "2023-01-01    1\n",
      "2023-01-02    2\n",
      "2023-01-03    3\n",
      "2023-01-04    4\n",
      "Freq: D, dtype: int64\n"
     ]
    }
   ],
   "source": [
    "# Create a Series with datetime index\n",
    "date_s = pd.Series([1, 2, 3, 4], index=pd.date_range('2023-01-01', periods=4))\n",
    "print(\"Series with datetime index:\")\n",
    "print(date_s)"
   ]
  },
  {
   "cell_type": "code",
   "execution_count": 27,
   "metadata": {},
   "outputs": [
    {
     "name": "stdout",
     "output_type": "stream",
     "text": [
      "Series shifted by 1 day:\n",
      "2023-01-02    1\n",
      "2023-01-03    2\n",
      "2023-01-04    3\n",
      "2023-01-05    4\n",
      "Freq: D, dtype: int64\n"
     ]
    }
   ],
   "source": [
    "# Shift with frequency\n",
    "date_s_freq = date_s.shift(periods=1, freq='D')\n",
    "print(\"Series shifted by 1 day:\")\n",
    "print(date_s_freq)"
   ]
  },
  {
   "cell_type": "code",
   "execution_count": 28,
   "metadata": {},
   "outputs": [
    {
     "name": "stdout",
     "output_type": "stream",
     "text": [
      "Series shifted by 2 days:\n",
      "2023-01-03    1\n",
      "2023-01-04    2\n",
      "2023-01-05    3\n",
      "2023-01-06    4\n",
      "Freq: D, dtype: int64\n",
      "\n",
      "Series shifted by 1 week:\n",
      "2023-01-08    1\n",
      "2023-01-08    2\n",
      "2023-01-08    3\n",
      "2023-01-08    4\n",
      "dtype: int64\n",
      "\n",
      "Series shifted by 1 month:\n",
      "2023-01-31    1\n",
      "2023-01-31    2\n",
      "2023-01-31    3\n",
      "2023-01-31    4\n",
      "dtype: int64\n"
     ]
    },
    {
     "name": "stderr",
     "output_type": "stream",
     "text": [
      "/var/folders/7y/fzwln1_93mn3js3wyk61_6xm0000gn/T/ipykernel_78421/2146950984.py:9: FutureWarning: 'M' is deprecated and will be removed in a future version, please use 'ME' instead.\n",
      "  print(date_s.shift(periods=1, freq='M'))\n"
     ]
    }
   ],
   "source": [
    "# Shift with different frequencies\n",
    "print(\"Series shifted by 2 days:\")\n",
    "print(date_s.shift(periods=2, freq='D'))\n",
    "\n",
    "print(\"\\nSeries shifted by 1 week:\")\n",
    "print(date_s.shift(periods=1, freq='W'))\n",
    "\n",
    "print(\"\\nSeries shifted by 1 month:\")\n",
    "print(date_s.shift(periods=1, freq='M'))"
   ]
  },
  {
   "cell_type": "code",
   "execution_count": 29,
   "metadata": {},
   "outputs": [
    {
     "name": "stdout",
     "output_type": "stream",
     "text": [
      "Original DataFrame:\n",
      "   A  B\n",
      "0  1  5\n",
      "1  2  6\n",
      "2  3  7\n",
      "3  4  8\n"
     ]
    }
   ],
   "source": [
    "# Create a DataFrame\n",
    "df = pd.DataFrame({'A': [1, 2, 3, 4], 'B': [5, 6, 7, 8]})\n",
    "print(\"Original DataFrame:\")\n",
    "print(df)"
   ]
  },
  {
   "cell_type": "code",
   "execution_count": 30,
   "metadata": {},
   "outputs": [
    {
     "name": "stdout",
     "output_type": "stream",
     "text": [
      "DataFrame with all columns shifted:\n",
      "     A    B\n",
      "0  NaN  NaN\n",
      "1  1.0  5.0\n",
      "2  2.0  6.0\n",
      "3  3.0  7.0\n"
     ]
    }
   ],
   "source": [
    "# Shift all columns\n",
    "df_shift = df.shift()\n",
    "print(\"DataFrame with all columns shifted:\")\n",
    "print(df_shift)"
   ]
  },
  {
   "cell_type": "code",
   "execution_count": 31,
   "metadata": {},
   "outputs": [
    {
     "name": "stdout",
     "output_type": "stream",
     "text": [
      "DataFrame with only column A shifted:\n",
      "     A  B\n",
      "0  NaN  5\n",
      "1  1.0  6\n",
      "2  2.0  7\n",
      "3  3.0  8\n"
     ]
    }
   ],
   "source": [
    "# Shift only one column\n",
    "df_col_shift = df.copy()\n",
    "df_col_shift['A'] = df_col_shift['A'].shift()\n",
    "print(\"DataFrame with only column A shifted:\")\n",
    "print(df_col_shift)"
   ]
  },
  {
   "cell_type": "markdown",
   "metadata": {},
   "source": [
    "##### Applications of Shifting Data\n",
    "\n",
    "Shifting data is particularly useful for time series analysis and calculating differences or percentage changes."
   ]
  },
  {
   "cell_type": "code",
   "execution_count": 32,
   "metadata": {},
   "outputs": [
    {
     "name": "stdout",
     "output_type": "stream",
     "text": [
      "Stock prices:\n",
      "2023-01-01    100\n",
      "2023-01-02    102\n",
      "2023-01-03    104\n",
      "2023-01-04    103\n",
      "2023-01-05    105\n",
      "2023-01-06    107\n",
      "2023-01-07    108\n",
      "Freq: D, dtype: int64\n"
     ]
    }
   ],
   "source": [
    "# Create a Series with stock prices\n",
    "stock_prices = pd.Series([100, 102, 104, 103, 105, 107, 108], \n",
    "                         index=pd.date_range('2023-01-01', periods=7))\n",
    "print(\"Stock prices:\")\n",
    "print(stock_prices)"
   ]
  },
  {
   "cell_type": "code",
   "execution_count": 33,
   "metadata": {},
   "outputs": [
    {
     "name": "stdout",
     "output_type": "stream",
     "text": [
      "Daily price difference:\n",
      "2023-01-01    NaN\n",
      "2023-01-02    2.0\n",
      "2023-01-03    2.0\n",
      "2023-01-04   -1.0\n",
      "2023-01-05    2.0\n",
      "2023-01-06    2.0\n",
      "2023-01-07    1.0\n",
      "Freq: D, dtype: float64\n"
     ]
    }
   ],
   "source": [
    "# Calculate daily price difference\n",
    "daily_diff = stock_prices - stock_prices.shift(1)\n",
    "print(\"Daily price difference:\")\n",
    "print(daily_diff)"
   ]
  },
  {
   "cell_type": "code",
   "execution_count": 34,
   "metadata": {},
   "outputs": [
    {
     "name": "stdout",
     "output_type": "stream",
     "text": [
      "Daily percentage change:\n",
      "2023-01-01         NaN\n",
      "2023-01-02    0.020000\n",
      "2023-01-03    0.019608\n",
      "2023-01-04   -0.009615\n",
      "2023-01-05    0.019417\n",
      "2023-01-06    0.019048\n",
      "2023-01-07    0.009346\n",
      "Freq: D, dtype: float64\n"
     ]
    }
   ],
   "source": [
    "# Calculate daily percentage change\n",
    "daily_pct_change = stock_prices.pct_change()\n",
    "print(\"Daily percentage change:\")\n",
    "print(daily_pct_change)"
   ]
  },
  {
   "cell_type": "code",
   "execution_count": 35,
   "metadata": {},
   "outputs": [
    {
     "name": "stdout",
     "output_type": "stream",
     "text": [
      "3-day moving average:\n",
      "2023-01-01           NaN\n",
      "2023-01-02           NaN\n",
      "2023-01-03    102.000000\n",
      "2023-01-04    103.000000\n",
      "2023-01-05    104.000000\n",
      "2023-01-06    105.000000\n",
      "2023-01-07    106.666667\n",
      "Freq: D, dtype: float64\n"
     ]
    }
   ],
   "source": [
    "# Calculate moving average\n",
    "def moving_average(data, window):\n",
    "    return data.rolling(window=window).mean()\n",
    "\n",
    "ma3 = moving_average(stock_prices, 3)\n",
    "print(\"3-day moving average:\")\n",
    "print(ma3)"
   ]
  },
  {
   "cell_type": "code",
   "execution_count": 36,
   "metadata": {},
   "outputs": [
    {
     "data": {
      "image/png": "[encoded data removed]",
      "text/plain": [
       "<Figure size 1000x600 with 1 Axes>"
      ]
     },
     "metadata": {},
     "output_type": "display_data"
    }
   ],
   "source": [
    "# Plot stock prices and moving average\n",
    "plt.figure(figsize=(10, 6))\n",
    "plt.plot(stock_prices.index, stock_prices, label='Stock Price')\n",
    "plt.plot(ma3.index, ma3, label='3-day MA')\n",
    "plt.title('Stock Price and Moving Average')\n",
    "plt.xlabel('Date')\n",
    "plt.ylabel('Price')\n",
    "plt.legend()\n",
    "plt.grid(True)\n",
    "plt.show()"
   ]
  },
  {
   "cell_type": "markdown",
   "metadata": {},
   "source": [
    "##### Conclusion\n",
    "\n",
    "In this notebook, we've explored various Series methods in pandas:\n",
    "\n",
    "1. Standard error of the mean with `sem()`, which calculates the standard error of the mean of a Series with options for handling missing values and degrees of freedom.\n",
    "2. Setting axis labels with `set_axis()`, which assigns new labels to a given axis in a Series or DataFrame.\n",
    "3. Shifting data with `shift()`, which shifts the index by a desired number of periods with options for custom fill values and frequency.\n",
    "\n",
    "We also explored practical applications of shifting data, such as calculating differences, percentage changes, and moving averages, which are particularly useful for time series analysis.\n",
    "\n",
    "These methods are essential tools for data manipulation and analysis in pandas, allowing for flexible and powerful operations on your data."
   ]
  },
  {
   "cell_type": "markdown",
   "metadata": {},
   "source": []
  }
 ],
 "metadata": {
  "kernelspec": {
   "display_name": "venv",
   "language": "python",
   "name": "python3"
  },
  "language_info": {
   "codemirror_mode": {
    "name": "ipython",
    "version": 3
   },
   "file_extension": ".py",
   "mimetype": "text/x-python",
   "name": "python",
   "nbconvert_exporter": "python",
   "pygments_lexer": "ipython3",
   "version": "3.13.2"
  }
 },
 "nbformat": 4,
 "nbformat_minor": 4
}
