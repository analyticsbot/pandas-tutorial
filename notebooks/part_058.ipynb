{
 "cells": [
  {
   "cell_type": "markdown",
   "metadata": {},
   "source": [
    "#### Pandas Tutorial - Part 58: DataFrame Methods (between_time, bfill, bool, boxplot, cummin, cumprod)\n",
    "\n",
    "This notebook covers several important DataFrame methods including:\n",
    "- `between_time()` - Select values between particular times of the day\n",
    "- `bfill()` - Backward fill missing values\n",
    "- `bool()` - Return the boolean value of a single element\n",
    "- `boxplot()` - Create box plots from DataFrame columns\n",
    "- `cummin()` - Return cumulative minimum over a DataFrame axis\n",
    "- `cumprod()` - Return cumulative product over a DataFrame axis"
   ]
  },
  {
   "cell_type": "code",
   "execution_count": null,
   "metadata": {},
   "outputs": [],
   "source": [
    "import pandas as pd\n",
    "import numpy as np\n",
    "import matplotlib.pyplot as plt\n",
    "\n",
    "# Set display options\n",
    "pd.set_option('display.max_columns', None)\n",
    "pd.set_option('display.expand_frame_repr', False)"
   ]
  },
  {
   "cell_type": "markdown",
   "metadata": {},
   "source": [
    "##### 1. DataFrame.between_time()\n",
    "\n",
    "The `between_time()` method selects values between particular times of the day (e.g., 9:00-9:30 AM)."
   ]
  },
  {
   "cell_type": "code",
   "execution_count": null,
   "metadata": {},
   "outputs": [],
   "source": [
    "# Create a DataFrame with DatetimeIndex\n",
    "i = pd.date_range('2018-04-09', periods=4, freq='1D20min')\n",
    "ts = pd.DataFrame({'A': [1, 2, 3, 4]}, index=i)\n",
    "print(\"DataFrame with DatetimeIndex:\")\n",
    "ts"
   ]
  },
  {
   "cell_type": "code",
   "execution_count": null,
   "metadata": {},
   "outputs": [],
   "source": [
    "# Select values between 0:15 and 0:45\n",
    "print(\"Values between 0:15 and 0:45:\")\n",
    "ts.between_time('0:15', '0:45')"
   ]
  },
  {
   "cell_type": "code",
   "execution_count": null,
   "metadata": {},
   "outputs": [],
   "source": [
    "# Select values NOT between 0:15 and 0:45 by reversing the order\n",
    "print(\"Values NOT between 0:15 and 0:45:\")\n",
    "ts.between_time('0:45', '0:15')"
   ]
  },
  {
   "cell_type": "code",
   "execution_count": null,
   "metadata": {},
   "outputs": [],
   "source": [
    "# Create a more detailed DataFrame with different times\n",
    "i = pd.date_range('2018-04-09', periods=24, freq='1H')\n",
    "ts2 = pd.DataFrame({'A': range(24)}, index=i)\n",
    "print(\"More detailed DataFrame (first 5 rows):\")\n",
    "ts2.head()"
   ]
  },
  {
   "cell_type": "code",
   "execution_count": null,
   "metadata": {},
   "outputs": [],
   "source": [
    "# Select values between 9:00 and 17:00 (business hours)\n",
    "print(\"Business hours (9:00-17:00):\")\n",
    "ts2.between_time('9:00', '17:00')"
   ]
  },
  {
   "cell_type": "code",
   "execution_count": null,
   "metadata": {},
   "outputs": [],
   "source": [
    "# Select values between 22:00 and 5:00 (night hours)\n",
    "print(\"Night hours (22:00-5:00):\")\n",
    "ts2.between_time('22:00', '5:00')"
   ]
  },
  {
   "cell_type": "markdown",
   "metadata": {},
   "source": [
    "##### 2. DataFrame.bfill()\n",
    "\n",
    "The `bfill()` method is a synonym for `fillna(method='bfill')` and fills missing values using the next valid observation."
   ]
  },
  {
   "cell_type": "code",
   "execution_count": null,
   "metadata": {},
   "outputs": [],
   "source": [
    "# Create a DataFrame with NaN values\n",
    "df = pd.DataFrame({\n",
    "    'A': [1, np.nan, 3, np.nan, 5],\n",
    "    'B': [np.nan, 2, np.nan, 4, np.nan]\n",
    "})\n",
    "print(\"Original DataFrame with NaN values:\")\n",
    "df"
   ]
  },
  {
   "cell_type": "code",
   "execution_count": null,
   "metadata": {},
   "outputs": [],
   "source": [
    "# Fill NaN values using backward fill (bfill)\n",
    "print(\"DataFrame after bfill():\")\n",
    "df.bfill()"
   ]
  },
  {
   "cell_type": "code",
   "execution_count": null,
   "metadata": {},
   "outputs": [],
   "source": [
    "# Compare with forward fill (ffill)\n",
    "print(\"DataFrame after ffill():\")\n",
    "df.ffill()"
   ]
  },
  {
   "cell_type": "code",
   "execution_count": null,
   "metadata": {},
   "outputs": [],
   "source": [
    "# Fill NaN values along columns (axis=1)\n",
    "print(\"DataFrame after bfill(axis=1):\")\n",
    "df.bfill(axis=1)"
   ]
  },
  {
   "cell_type": "code",
   "execution_count": null,
   "metadata": {},
   "outputs": [],
   "source": [
    "# Limit the number of consecutive fills\n",
    "df2 = pd.DataFrame({\n",
    "    'A': [1, np.nan, np.nan, np.nan, 5],\n",
    "    'B': [np.nan, 2, np.nan, np.nan, np.nan]\n",
    "})\n",
    "print(\"Original DataFrame with consecutive NaN values:\")\n",
    "print(df2)\n",
    "\n",
    "print(\"\\nDataFrame after bfill(limit=1):\")\n",
    "print(df2.bfill(limit=1))"
   ]
  },
  {
   "cell_type": "markdown",
   "metadata": {},
   "source": [
    "##### 3. DataFrame.bool()\n",
    "\n",
    "The `bool()` method returns the boolean value of a single element PandasObject. The object must contain exactly one element, and that element must be boolean."
   ]
  },
  {
   "cell_type": "code",
   "execution_count": null,
   "metadata": {},
   "outputs": [],
   "source": [
    "# Create a single-element DataFrame with a boolean value\n",
    "df_true = pd.DataFrame([True])\n",
    "print(\"Single-element DataFrame with True:\")\n",
    "df_true"
   ]
  },
  {
   "cell_type": "code",
   "execution_count": null,
   "metadata": {},
   "outputs": [],
   "source": [
    "# Get the boolean value\n",
    "print(\"Boolean value:\")\n",
    "bool_value = df_true.bool()\n",
    "print(bool_value)\n",
    "print(\"Type:\", type(bool_value))"
   ]
  },
  {
   "cell_type": "code",
   "execution_count": null,
   "metadata": {},
   "outputs": [],
   "source": [
    "# Create a single-element DataFrame with a False value\n",
    "df_false = pd.DataFrame([False])\n",
    "print(\"Single-element DataFrame with False:\")\n",
    "print(df_false)\n",
    "print(\"Boolean value:\", df_false.bool())"
   ]
  },
  {
   "cell_type": "code",
   "execution_count": null,
   "metadata": {},
   "outputs": [],
   "source": [
    "# This will raise a ValueError because the DataFrame has more than one element\n",
    "try:\n",
    "    df = pd.DataFrame([True, False])\n",
    "    df.bool()\n",
    "except ValueError as e:\n",
    "    print(f\"Error: {e}\")"
   ]
  },
  {
   "cell_type": "code",
   "execution_count": null,
   "metadata": {},
   "outputs": [],
   "source": [
    "# This will raise a ValueError because the element is not boolean\n",
    "try:\n",
    "    df = pd.DataFrame([1])\n",
    "    df.bool()\n",
    "except ValueError as e:\n",
    "    print(f\"Error: {e}\")"
   ]
  },
  {
   "cell_type": "markdown",
   "metadata": {},
   "source": [
    "##### 4. DataFrame.boxplot()\n",
    "\n",
    "The `boxplot()` method creates box plots from DataFrame columns, optionally grouped by some other columns."
   ]
  },
  {
   "cell_type": "code",
   "execution_count": null,
   "metadata": {},
   "outputs": [],
   "source": [
    "# Create a DataFrame for box plotting\n",
    "df = pd.DataFrame({\n",
    "    'A': np.random.normal(0, 1, 100),\n",
    "    'B': np.random.normal(1, 2, 100),\n",
    "    'C': np.random.normal(-1, 1.5, 100)\n",
    "})\n",
    "print(\"DataFrame for box plotting (first 5 rows):\")\n",
    "df.head()"
   ]
  },
  {
   "cell_type": "code",
   "execution_count": null,
   "metadata": {},
   "outputs": [],
   "source": [
    "# Create a basic box plot\n",
    "df.boxplot()\n",
    "plt.title('Basic Box Plot')\n",
    "plt.ylabel('Values')\n",
    "plt.show()"
   ]
  },
  {
   "cell_type": "code",
   "execution_count": null,
   "metadata": {},
   "outputs": [],
   "source": [
    "# Create a box plot for specific columns\n",
    "df.boxplot(column=['A', 'C'])\n",
    "plt.title('Box Plot for Columns A and C')\n",
    "plt.ylabel('Values')\n",
    "plt.show()"
   ]
  },
  {
   "cell_type": "code",
   "execution_count": null,
   "metadata": {},
   "outputs": [],
   "source": [
    "# Create a DataFrame with a categorical column\n",
    "df2 = pd.DataFrame({\n",
    "    'value': np.concatenate([np.random.normal(0, 1, 50), np.random.normal(2, 1, 50)]),\n",
    "    'group': np.repeat(['A', 'B'], 50)\n",
    "})\n",
    "print(\"DataFrame with categorical column (first 5 rows):\")\n",
    "df2.head()"
   ]
  },
  {
   "cell_type": "code",
   "execution_count": null,
   "metadata": {},
   "outputs": [],
   "source": [
    "# Create a box plot grouped by a categorical column\n",
    "df2.boxplot(column='value', by='group')\n",
    "plt.title('Box Plot Grouped by Category')\n",
    "plt.suptitle('')  # Remove the default suptitle\n",
    "plt.ylabel('Values')\n",
    "plt.show()"
   ]
  },
  {
   "cell_type": "code",
   "execution_count": null,
   "metadata": {},
   "outputs": [],
   "source": [
    "# Customize the box plot\n",
    "df.boxplot(grid=False, rot=45, fontsize=10, figsize=(10, 6))\n",
    "plt.title('Customized Box Plot')\n",
    "plt.ylabel('Values')\n",
    "plt.show()"
   ]
  },
  {
   "cell_type": "markdown",
   "metadata": {},
   "source": [
    "##### 5. DataFrame.cummin()\n",
    "\n",
    "The `cummin()` method returns the cumulative minimum over a DataFrame or Series axis."
   ]
  },
  {
   "cell_type": "code",
   "execution_count": null,
   "metadata": {},
   "outputs": [],
   "source": [
    "# Create a Series with some values\n",
    "s = pd.Series([2, np.nan, 5, -1, 0])\n",
    "print(\"Original Series:\")\n",
    "s"
   ]
  },
  {
   "cell_type": "code",
   "execution_count": null,
   "metadata": {},
   "outputs": [],
   "source": [
    "# Calculate cumulative minimum (by default, NA values are ignored)\n",
    "print(\"Cumulative minimum (skipna=True):\")\n",
    "s.cummin()"
   ]
  },
  {
   "cell_type": "code",
   "execution_count": null,
   "metadata": {},
   "outputs": [],
   "source": [
    "# Calculate cumulative minimum including NA values\n",
    "print(\"Cumulative minimum (skipna=False):\")\n",
    "s.cummin(skipna=False)"
   ]
  },
  {
   "cell_type": "code",
   "execution_count": null,
   "metadata": {},
   "outputs": [],
   "source": [
    "# Create a DataFrame with some values\n",
    "df = pd.DataFrame([\n",
    "    [2.0, 1.0],\n",
    "    [3.0, np.nan],\n",
    "    [1.0, 0.0]\n",
    "], columns=list('AB'))\n",
    "print(\"Original DataFrame:\")\n",
    "df"
   ]
  },
  {
   "cell_type": "code",
   "execution_count": null,
   "metadata": {},
   "outputs": [],
   "source": [
    "# Calculate cumulative minimum along index (rows)\n",
    "print(\"Cumulative minimum along index (axis=0):\")\n",
    "df.cummin()"
   ]
  },
  {
   "cell_type": "code",
   "execution_count": null,
   "metadata": {},
   "outputs": [],
   "source": [
    "# Calculate cumulative minimum along columns\n",
    "print(\"Cumulative minimum along columns (axis=1):\")\n",
    "df.cummin(axis=1)"
   ]
  },
  {
   "cell_type": "markdown",
   "metadata": {},
   "source": [
    "##### 6. DataFrame.cumprod()\n",
    "\n",
    "The `cumprod()` method returns the cumulative product over a DataFrame or Series axis."
   ]
  },
  {
   "cell_type": "code",
   "execution_count": null,
   "metadata": {},
   "outputs": [],
   "source": [
    "# Using the same Series as above\n",
    "print(\"Original Series:\")\n",
    "s"
   ]
  },
  {
   "cell_type": "code",
   "execution_count": null,
   "metadata": {},
   "outputs": [],
   "source": [
    "# Calculate cumulative product (by default, NA values are ignored)\n",
    "print(\"Cumulative product (skipna=True):\")\n",
    "s.cumprod()"
   ]
  },
  {
   "cell_type": "code",
   "execution_count": null,
   "metadata": {},
   "outputs": [],
   "source": [
    "# Calculate cumulative product including NA values\n",
    "print(\"Cumulative product (skipna=False):\")\n",
    "s.cumprod(skipna=False)"
   ]
  },
  {
   "cell_type": "code",
   "execution_count": null,
   "metadata": {},
   "outputs": [],
   "source": [
    "# Using the same DataFrame as above\n",
    "print(\"Original DataFrame:\")\n",
    "df"
   ]
  },
  {
   "cell_type": "code",
   "execution_count": null,
   "metadata": {},
   "outputs": [],
   "source": [
    "# Calculate cumulative product along index (rows)\n",
    "print(\"Cumulative product along index (axis=0):\")\n",
    "df.cumprod()"
   ]
  },
  {
   "cell_type": "code",
   "execution_count": null,
   "metadata": {},
   "outputs": [],
   "source": [
    "# Calculate cumulative product along columns\n",
    "print(\"Cumulative product along columns (axis=1):\")\n",
    "df.cumprod(axis=1)"
   ]
  },
  {
   "cell_type": "code",
   "execution_count": null,
   "metadata": {},
   "outputs": [],
   "source": [
    "# Create a DataFrame with positive and negative values\n",
    "df2 = pd.DataFrame({\n",
    "    'A': [1, 2, 3, 4],\n",
    "    'B': [1, -1, 1, -1]\n",
    "})\n",
    "print(\"DataFrame with positive and negative values:\")\n",
    "print(df2)\n",
    "\n",
    "print(\"\\nCumulative product:\")\n",
    "print(df2.cumprod())"
   ]
  },
  {
   "cell_type": "markdown",
   "metadata": {},
   "source": [
    "##### Summary\n",
    "\n",
    "In this notebook, we've explored several important DataFrame methods:\n",
    "\n",
    "1. **between_time()**: Selects values between specific times of day from a time-indexed DataFrame\n",
    "2. **bfill()**: Fills missing values using the next valid observation (backward fill)\n",
    "3. **bool()**: Returns the boolean value of a single-element DataFrame\n",
    "4. **boxplot()**: Creates box plots from DataFrame columns for visualizing data distributions\n",
    "5. **cummin()**: Returns the cumulative minimum over a DataFrame or Series axis\n",
    "6. **cumprod()**: Returns the cumulative product over a DataFrame or Series axis\n",
    "\n",
    "These methods are essential for time-based filtering, handling missing data, visualization, and calculating cumulative statistics in pandas."
   ]
  }
 ],
 "metadata": {
  "kernelspec": {
   "display_name": "Python 3",
   "language": "python",
   "name": "python3"
  },
  "language_info": {
   "codemirror_mode": {
    "name": "ipython",
    "version": 3
   },
   "file_extension": ".py",
   "mimetype": "text/x-python",
   "name": "python",
   "nbconvert_exporter": "python",
   "pygments_lexer": "ipython3",
   "version": "3.8.5"
  }
 },
 "nbformat": 4,
 "nbformat_minor": 4
}