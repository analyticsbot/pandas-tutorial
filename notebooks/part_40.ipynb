{
 "cells": [
  {
   "cell_type": "markdown",
   "metadata": {},
   "source": [
    "# Pandas General Functions - Part 40\n",
    "\n",
    "This notebook covers important general functions in pandas, including `get_dummies()`, `factorize()`, `period_range()`, `timedelta_range()`, and `infer_freq()`."
   ]
  },
  {
   "cell_type": "code",
   "execution_count": null,
   "metadata": {},
   "outputs": [],
   "source": [
    "import pandas as pd\n",
    "import numpy as np"
   ]
  },
  {
   "cell_type": "markdown",
   "metadata": {},
   "source": [
    "## pd.get_dummies()\n",
    "\n",
    "The `get_dummies()` function converts categorical variables into dummy/indicator variables (also known as one-hot encoding). This is particularly useful for preparing data for machine learning models."
   ]
  },
  {
   "cell_type": "code",
   "execution_count": null,
   "metadata": {},
   "outputs": [],
   "source": [
    "# Basic example with a Series\n",
    "s = pd.Series(list('abca'))\n",
    "pd.get_dummies(s)"
   ]
  },
  {
   "cell_type": "code",
   "execution_count": null,
   "metadata": {},
   "outputs": [],
   "source": [
    "# Handling NaN values\n",
    "s1 = ['a', 'b', np.nan]\n",
    "print(\"Without dummy_na:\")\n",
    "print(pd.get_dummies(s1))\n",
    "\n",
    "print(\"\\nWith dummy_na=True:\")\n",
    "print(pd.get_dummies(s1, dummy_na=True))"
   ]
  },
  {
   "cell_type": "code",
   "execution_count": null,
   "metadata": {},
   "outputs": [],
   "source": [
    "# Using with a DataFrame\n",
    "df = pd.DataFrame({\n",
    "    'A': ['a', 'b', 'a'], \n",
    "    'B': ['b', 'a', 'c'],\n",
    "    'C': [1, 2, 3]\n",
    "})\n",
    "\n",
    "# Using prefix to distinguish columns from different features\n",
    "pd.get_dummies(df, prefix=['col1', 'col2'])"
   ]
  },
  {
   "cell_type": "code",
   "execution_count": null,
   "metadata": {},
   "outputs": [],
   "source": [
    "# Using drop_first to avoid the dummy variable trap\n",
    "print(\"Original dummies:\")\n",
    "print(pd.get_dummies(pd.Series(list('abcaa'))))\n",
    "\n",
    "print(\"\\nWith drop_first=True:\")\n",
    "print(pd.get_dummies(pd.Series(list('abcaa')), drop_first=True))"
   ]
  },
  {
   "cell_type": "code",
   "execution_count": null,
   "metadata": {},
   "outputs": [],
   "source": [
    "# Specifying dtype\n",
    "pd.get_dummies(pd.Series(list('abc')), dtype=float)"
   ]
  },
  {
   "cell_type": "markdown",
   "metadata": {},
   "source": [
    "## pd.factorize()\n",
    "\n",
    "The `factorize()` function encodes the object as an enumerated type or categorical variable. It's useful for obtaining a numeric representation of an array when all that matters is identifying distinct values."
   ]
  },
  {
   "cell_type": "code",
   "execution_count": null,
   "metadata": {},
   "outputs": [],
   "source": [
    "# Basic example\n",
    "codes, uniques = pd.factorize(['b', 'b', 'a', 'c', 'b'])\n",
    "print(\"Codes:\")\n",
    "print(codes)\n",
    "print(\"\\nUniques:\")\n",
    "print(uniques)"
   ]
  },
  {
   "cell_type": "code",
   "execution_count": null,
   "metadata": {},
   "outputs": [],
   "source": [
    "# With sort=True\n",
    "codes, uniques = pd.factorize(['b', 'b', 'a', 'c', 'b'], sort=True)\n",
    "print(\"Codes (sorted):\")\n",
    "print(codes)\n",
    "print(\"\\nUniques (sorted):\")\n",
    "print(uniques)"
   ]
  },
  {
   "cell_type": "code",
   "execution_count": null,
   "metadata": {},
   "outputs": [],
   "source": [
    "# With Series\n",
    "s = pd.Series(['b', 'b', 'a', 'c', 'b'])\n",
    "codes, uniques = s.factorize()\n",
    "print(\"Codes:\")\n",
    "print(codes)\n",
    "print(\"\\nUniques:\")\n",
    "print(uniques)"
   ]
  },
  {
   "cell_type": "markdown",
   "metadata": {},
   "source": [
    "## pd.period_range()\n",
    "\n",
    "The `period_range()` function returns a fixed frequency `PeriodIndex`, which is useful for representing time spans like quarters, months, etc."
   ]
  },
  {
   "cell_type": "code",
   "execution_count": null,
   "metadata": {},
   "outputs": [],
   "source": [
    "# Basic example\n",
    "pd.period_range(start='2020-01-01', end='2020-12-31', freq='M')"
   ]
  },
  {
   "cell_type": "code",
   "execution_count": null,
   "metadata": {},
   "outputs": [],
   "source": [
    "# Using periods instead of end\n",
    "pd.period_range(start='2020-01-01', periods=12, freq='M')"
   ]
  },
  {
   "cell_type": "code",
   "execution_count": null,
   "metadata": {},
   "outputs": [],
   "source": [
    "# Using Period objects as endpoints\n",
    "pd.period_range(\n",
    "    start=pd.Period('2020Q1', freq='Q'),\n",
    "    end=pd.Period('2020Q4', freq='Q'), \n",
    "    freq='M'\n",
    ")"
   ]
  },
  {
   "cell_type": "markdown",
   "metadata": {},
   "source": [
    "## pd.timedelta_range()\n",
    "\n",
    "The `timedelta_range()` function returns a fixed frequency `TimedeltaIndex`, with day as the default frequency. This is useful for representing differences in time."
   ]
  },
  {
   "cell_type": "code",
   "execution_count": null,
   "metadata": {},
   "outputs": [],
   "source": [
    "# Basic example\n",
    "pd.timedelta_range(start='1 day', periods=4)"
   ]
  },
  {
   "cell_type": "code",
   "execution_count": null,
   "metadata": {},
   "outputs": [],
   "source": [
    "# Using closed parameter\n",
    "pd.timedelta_range(start='1 day', periods=4, closed='right')"
   ]
  },
  {
   "cell_type": "code",
   "execution_count": null,
   "metadata": {},
   "outputs": [],
   "source": [
    "# Using a different frequency\n",
    "pd.timedelta_range(start='1 day', end='2 days', freq='6H')"
   ]
  },
  {
   "cell_type": "code",
   "execution_count": null,
   "metadata": {},
   "outputs": [],
   "source": [
    "# Specifying start, end, and periods (linearly spaced)\n",
    "pd.timedelta_range(start='1 day', end='5 days', periods=4)"
   ]
  },
  {
   "cell_type": "markdown",
   "metadata": {},
   "source": [
    "## pd.infer_freq()\n",
    "\n",
    "The `infer_freq()` function infers the most likely frequency given the input index. This is useful when you have a datetime index but don't know its frequency."
   ]
  },
  {
   "cell_type": "code",
   "execution_count": null,
   "metadata": {},
   "outputs": [],
   "source": [
    "# Create a DatetimeIndex with daily frequency\n",
    "dates = pd.date_range('2020-01-01', periods=5, freq='D')\n",
    "print(\"Original index:\")\n",
    "print(dates)\n",
    "\n",
    "# Infer the frequency\n",
    "freq = pd.infer_freq(dates)\n",
    "print(f\"\\nInferred frequency: {freq}\")"
   ]
  },
  {
   "cell_type": "code",
   "execution_count": null,
   "metadata": {},
   "outputs": [],
   "source": [
    "# Create a DatetimeIndex with business day frequency\n",
    "dates = pd.date_range('2020-01-01', periods=5, freq='B')\n",
    "print(\"Original index:\")\n",
    "print(dates)\n",
    "\n",
    "# Infer the frequency\n",
    "freq = pd.infer_freq(dates)\n",
    "print(f\"\\nInferred frequency: {freq}\")"
   ]
  },
  {
   "cell_type": "code",
   "execution_count": null,
   "metadata": {},
   "outputs": [],
   "source": [
    "# Create a TimedeltaIndex\n",
    "deltas = pd.timedelta_range(start='1 day', periods=5, freq='2D')\n",
    "print(\"Original index:\")\n",
    "print(deltas)\n",
    "\n",
    "# Infer the frequency\n",
    "freq = pd.infer_freq(deltas)\n",
    "print(f\"\\nInferred frequency: {freq}\")"
   ]
  },
  {
   "cell_type": "markdown",
   "metadata": {},
   "source": [
    "## pd.interval_range()\n",
    "\n",
    "The `interval_range()` function returns a fixed frequency `IntervalIndex`. This is useful for binning data into intervals."
   ]
  },
  {
   "cell_type": "code",
   "execution_count": null,
   "metadata": {},
   "outputs": [],
   "source": [
    "# Basic example\n",
    "pd.interval_range(start=0, end=5)"
   ]
  },
  {
   "cell_type": "code",
   "execution_count": null,
   "metadata": {},
   "outputs": [],
   "source": [
    "# Using periods instead of end\n",
    "pd.interval_range(start=0, periods=5)"
   ]
  },
  {
   "cell_type": "code",
   "execution_count": null,
   "metadata": {},
   "outputs": [],
   "source": [
    "# Using a different frequency\n",
    "pd.interval_range(start=0, end=10, freq=2)"
   ]
  },
  {
   "cell_type": "code",
   "execution_count": null,
   "metadata": {},
   "outputs": [],
   "source": [
    "# Using closed parameter\n",
    "pd.interval_range(start=0, end=5, closed='left')"
   ]
  },
  {
   "cell_type": "markdown",
   "metadata": {},
   "source": [
    "## Practical Examples\n",
    "\n",
    "Let's explore some practical examples of these functions."
   ]
  },
  {
   "cell_type": "markdown",
   "metadata": {},
   "source": [
    "### Example 1: One-hot encoding for machine learning"
   ]
  },
  {
   "cell_type": "code",
   "execution_count": null,
   "metadata": {},
   "outputs": [],
   "source": [
    "# Create a sample dataset\n",
    "data = {\n",
    "    'id': range(1, 6),\n",
    "    'color': ['red', 'blue', 'green', 'red', 'blue'],\n",
    "    'size': ['S', 'M', 'L', 'XL', 'S'],\n",
    "    'price': [10.5, 15.0, 20.0, 25.5, 12.0]\n",
    "}\n",
    "\n",
    "df = pd.DataFrame(data)\n",
    "print(\"Original DataFrame:\")\n",
    "print(df)"
   ]
  },
  {
   "cell_type": "code",
   "execution_count": null,
   "metadata": {},
   "outputs": [],
   "source": [
    "# One-hot encode the categorical columns\n",
    "df_encoded = pd.get_dummies(df, columns=['color', 'size'], drop_first=True)\n",
    "print(\"Encoded DataFrame:\")\n",
    "print(df_encoded)"
   ]
  },
  {
   "cell_type": "markdown",
   "metadata": {},
   "source": [
    "### Example 2: Creating time-based features for time series analysis"
   ]
  },
  {
   "cell_type": "code",
   "execution_count": null,
   "metadata": {},
   "outputs": [],
   "source": [
    "# Create a sample time series dataset\n",
    "dates = pd.date_range('2020-01-01', periods=12, freq='M')\n",
    "values = np.random.randn(12).cumsum()\n",
    "ts = pd.Series(values, index=dates)\n",
    "print(\"Time Series:\")\n",
    "print(ts)"
   ]
  },
  {
   "cell_type": "code",
   "execution_count": null,
   "metadata": {},
   "outputs": [],
   "source": [
    "# Convert to DataFrame and add time-based features\n",
    "df_ts = ts.reset_index()\n",
    "df_ts.columns = ['date', 'value']\n",
    "\n",
    "# Extract time components\n",
    "df_ts['year'] = df_ts['date'].dt.year\n",
    "df_ts['month'] = df_ts['date'].dt.month\n",
    "df_ts['quarter'] = df_ts['date'].dt.quarter\n",
    "\n",
    "# One-hot encode month\n",
    "month_dummies = pd.get_dummies(df_ts['month'], prefix='month')\n",
    "df_ts = pd.concat([df_ts, month_dummies], axis=1)\n",
    "\n",
    "print(\"Time Series with Features:\")\n",
    "print(df_ts.head())"
   ]
  },
  {
   "cell_type": "markdown",
   "metadata": {},
   "source": [
    "### Example 3: Using factorize for label encoding"
   ]
  },
  {
   "cell_type": "code",
   "execution_count": null,
   "metadata": {},
   "outputs": [],
   "source": [
    "# Create a sample dataset with categorical variables\n",
    "data = {\n",
    "    'id': range(1, 8),\n",
    "    'category': ['A', 'B', 'C', 'A', 'B', 'A', 'D'],\n",
    "    'subcategory': ['X', 'Y', 'Z', 'X', 'Y', 'Z', 'X']\n",
    "}\n",
    "\n",
    "df = pd.DataFrame(data)\n",
    "print(\"Original DataFrame:\")\n",
    "print(df)"
   ]
  },
  {
   "cell_type": "code",
   "execution_count": null,
   "metadata": {},
   "outputs": [],
   "source": [
    "# Label encode the categorical columns\n",
    "df['category_code'], category_uniques = pd.factorize(df['category'])\n",
    "df['subcategory_code'], subcategory_uniques = pd.factorize(df['subcategory'])\n",
    "\n",
    "print(\"\\nEncoded DataFrame:\")\n",
    "print(df)\n",
    "\n",
    "print(\"\\nCategory Mapping:\")\n",
    "for i, cat in enumerate(category_uniques):\n",
    "    print(f\"{i}: {cat}\")\n",
    "\n",
    "print(\"\\nSubcategory Mapping:\")\n",
    "for i, subcat in enumerate(subcategory_uniques):\n",
    "    print(f\"{i}: {subcat}\")"
   ]
  },
  {
   "cell_type": "markdown",
   "metadata": {},
   "source": [
    "## Summary\n",
    "\n",
    "In this notebook, we've explored several important general functions in pandas:\n",
    "\n",
    "1. **pd.get_dummies()**: Converts categorical variables into dummy/indicator variables (one-hot encoding).\n",
    "2. **pd.factorize()**: Encodes objects as enumerated types, useful for label encoding.\n",
    "3. **pd.period_range()**: Creates a fixed frequency PeriodIndex for representing time spans.\n",
    "4. **pd.timedelta_range()**: Creates a fixed frequency TimedeltaIndex for representing time differences.\n",
    "5. **pd.infer_freq()**: Infers the frequency of a DatetimeIndex or TimedeltaIndex.\n",
    "6. **pd.interval_range()**: Creates a fixed frequency IntervalIndex for representing intervals.\n",
    "\n",
    "These functions are essential tools for data preprocessing, time series analysis, and feature engineering in pandas."
   ]
  }
 ],
 "metadata": {
  "kernelspec": {
   "display_name": "Python 3",
   "language": "python",
   "name": "python3"
  },
  "language_info": {
   "codemirror_mode": {
    "name": "ipython",
    "version": 3
   },
   "file_extension": ".py",
   "mimetype": "text/x-python",
   "name": "python",
   "nbconvert_exporter": "python",
   "pygments_lexer": "ipython3",
   "version": "3.8.5"
  }
 },
 "nbformat": 4,
 "nbformat_minor": 4
}
