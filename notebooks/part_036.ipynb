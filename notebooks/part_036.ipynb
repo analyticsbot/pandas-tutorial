{
 "cells": [
  {
   "cell_type": "markdown",
   "metadata": {},
   "source": [
    "#### Pandas Tutorial - Part 36\n",
    "\n",
    "This notebook covers:\n",
    "- More on NA values and NumPy differences\n",
    "- Thread-safety and byte-ordering issues\n",
    "- Pandas cookbook examples for time series operations"
   ]
  },
  {
   "cell_type": "code",
   "execution_count": 1,
   "metadata": {},
   "outputs": [],
   "source": [
    "import pandas as pd\n",
    "import numpy as np\n",
    "import matplotlib.pyplot as plt\n",
    "\n",
    "%matplotlib inline"
   ]
  },
  {
   "cell_type": "markdown",
   "metadata": {},
   "source": [
    "##### More on NA Values and NumPy Differences\n",
    "\n",
    "Continuing from Part 35, let's explore more about NA values in pandas and how pandas differs from NumPy."
   ]
  },
  {
   "cell_type": "markdown",
   "metadata": {},
   "source": [
    "### Why Not Make NumPy Like R?\n",
    "\n",
    "Many people have suggested that NumPy should emulate the NA support present in R. However, there are significant differences in the type hierarchies between NumPy and R:\n",
    "\n",
    "| Typeclass (NumPy) | Dtypes |\n",
    "|-------------------|--------|\n",
    "| numpy.floating | float16, float32, float64, float128 |\n",
    "| numpy.integer | int8, int16, int32, int64 |\n",
    "| numpy.unsignedinteger | uint8, uint16, uint32, uint64 |\n",
    "| numpy.object_ | object_ |\n",
    "| numpy.bool_ | bool_ |\n",
    "| numpy.character | string_, unicode_ |\n",
    "\n",
    "The R language, by contrast, only has a handful of built-in data types: integer, numeric (floating-point), character, and boolean. R implements NA types by reserving special bit patterns for each type to be used as the missing value.\n",
    "\n",
    "Pandas has chosen a more Pythonic approach by using NaN for floating-point and object arrays to denote NA, and promoting integer arrays to floating when NAs must be introduced."
   ]
  },
  {
   "cell_type": "markdown",
   "metadata": {},
   "source": [
    "### Differences with NumPy\n",
    "\n",
    "For Series and DataFrame objects, `var()` normalizes by N-1 to produce unbiased estimates of the sample variance, while NumPy's `var` normalizes by N, which measures the variance of the sample. Note that `cov()` normalizes by N-1 in both pandas and NumPy."
   ]
  },
  {
   "cell_type": "code",
   "execution_count": 2,
   "metadata": {},
   "outputs": [
    {
     "name": "stdout",
     "output_type": "stream",
     "text": [
      "Pandas var (normalized by N-1): 2.5\n",
      "NumPy var (normalized by N): 2.0\n",
      "NumPy var with ddof=1 (normalized by N-1): 2.5\n"
     ]
    }
   ],
   "source": [
    "# Create a sample Series\n",
    "s = pd.Series([1, 2, 3, 4, 5])\n",
    "\n",
    "# Compare variance calculation in pandas vs NumPy\n",
    "print(f\"Pandas var (normalized by N-1): {s.var()}\")\n",
    "print(f\"NumPy var (normalized by N): {np.var(s)}\")\n",
    "print(f\"NumPy var with ddof=1 (normalized by N-1): {np.var(s, ddof=1)}\")"
   ]
  },
  {
   "cell_type": "markdown",
   "metadata": {},
   "source": [
    "##### Thread-Safety\n",
    "\n",
    "As of pandas 1.0.5, pandas is not 100% thread safe. The known issues relate to the `copy()` method. If you are doing a lot of copying of DataFrame objects shared among threads, it's recommended to hold locks inside the threads where the data copying occurs."
   ]
  },
  {
   "cell_type": "markdown",
   "metadata": {},
   "source": [
    "##### Byte-Ordering Issues\n",
    "\n",
    "Occasionally you may have to deal with data that were created on a machine with a different byte order than the one on which you are running Python. A common symptom of this issue is an error like:\n",
    "\n",
    "```\n",
    "ValueError: Big-endian buffer not supported on little-endian compiler\n",
    "```\n",
    "\n",
    "To deal with this issue, you should convert the underlying NumPy array to the native system byte order before passing it to Series or DataFrame constructors."
   ]
  },
  {
   "cell_type": "code",
   "execution_count": 4,
   "metadata": {},
   "outputs": [
    {
     "name": "stdout",
     "output_type": "stream",
     "text": [
      "0    0\n",
      "1    1\n",
      "2    2\n",
      "3    3\n",
      "4    4\n",
      "5    5\n",
      "6    6\n",
      "7    7\n",
      "8    8\n",
      "9    9\n",
      "dtype: int32\n",
      "\n",
      "Original array dtype: >i4\n",
      "Converted array dtype: int32\n",
      "\n",
      "Alternative approach using np.array:\n",
      "Native array dtype: int32\n",
      "0    0\n",
      "1    1\n",
      "2    2\n",
      "3    3\n",
      "4    4\n",
      "5    5\n",
      "6    6\n",
      "7    7\n",
      "8    8\n",
      "9    9\n",
      "dtype: int32\n",
      "\n",
      "Both Series have the same values: True\n"
     ]
    }
   ],
   "source": [
    "import pandas as pd\n",
    "import numpy as np\n",
    "\n",
    "# Create a big-endian array\n",
    "x = np.array(list(range(10)), '>i4')  # big endian\n",
    "\n",
    "# Convert to native byte order using the recommended approach for NumPy 2.0+\n",
    "newx = x.byteswap().view(x.dtype.newbyteorder())  # force native byteorder\n",
    "\n",
    "# Now we can create a Series\n",
    "s = pd.Series(newx)\n",
    "print(s)\n",
    "\n",
    "# Let's also verify the byte order\n",
    "print(\"\\nOriginal array dtype:\", x.dtype)\n",
    "print(\"Converted array dtype:\", newx.dtype)\n",
    "\n",
    "# Alternative approach: create a copy with native byte order\n",
    "native_x = np.array(x, dtype=np.dtype('i4'))\n",
    "print(\"\\nAlternative approach using np.array:\")\n",
    "print(\"Native array dtype:\", native_x.dtype)\n",
    "s2 = pd.Series(native_x)\n",
    "print(s2)\n",
    "\n",
    "# Demonstrating that both Series have the same values\n",
    "print(\"\\nBoth Series have the same values:\", (s == s2).all())"
   ]
  },
  {
   "cell_type": "markdown",
   "metadata": {},
   "source": [
    "##### Pandas Cookbook: Time Series Operations\n",
    "\n",
    "The pandas cookbook provides many useful examples for working with time series data. Let's explore some of these examples."
   ]
  },
  {
   "cell_type": "markdown",
   "metadata": {},
   "source": [
    "### Rolling Apply with a DataFrame Returning a Scalar\n",
    "\n",
    "Let's implement a Volume Weighted Average Price (VWAP) calculation using rolling apply on multiple columns."
   ]
  },
  {
   "cell_type": "code",
   "execution_count": 5,
   "metadata": {},
   "outputs": [
    {
     "data": {
      "text/html": [
       "<div>\n",
       "<style scoped>\n",
       "    .dataframe tbody tr th:only-of-type {\n",
       "        vertical-align: middle;\n",
       "    }\n",
       "\n",
       "    .dataframe tbody tr th {\n",
       "        vertical-align: top;\n",
       "    }\n",
       "\n",
       "    .dataframe thead th {\n",
       "        text-align: right;\n",
       "    }\n",
       "</style>\n",
       "<table border=\"1\" class=\"dataframe\">\n",
       "  <thead>\n",
       "    <tr style=\"text-align: right;\">\n",
       "      <th></th>\n",
       "      <th>Open</th>\n",
       "      <th>Close</th>\n",
       "      <th>Volume</th>\n",
       "    </tr>\n",
       "  </thead>\n",
       "  <tbody>\n",
       "    <tr>\n",
       "      <th>2014-01-01</th>\n",
       "      <td>0.015854</td>\n",
       "      <td>1.883892</td>\n",
       "      <td>1752</td>\n",
       "    </tr>\n",
       "    <tr>\n",
       "      <th>2014-01-02</th>\n",
       "      <td>1.079826</td>\n",
       "      <td>1.565250</td>\n",
       "      <td>252</td>\n",
       "    </tr>\n",
       "    <tr>\n",
       "      <th>2014-01-03</th>\n",
       "      <td>-0.443082</td>\n",
       "      <td>-0.810684</td>\n",
       "      <td>1857</td>\n",
       "    </tr>\n",
       "    <tr>\n",
       "      <th>2014-01-04</th>\n",
       "      <td>0.315070</td>\n",
       "      <td>-0.592272</td>\n",
       "      <td>1283</td>\n",
       "    </tr>\n",
       "    <tr>\n",
       "      <th>2014-01-05</th>\n",
       "      <td>0.059883</td>\n",
       "      <td>-0.420461</td>\n",
       "      <td>1931</td>\n",
       "    </tr>\n",
       "  </tbody>\n",
       "</table>\n",
       "</div>"
      ],
      "text/plain": [
       "                Open     Close  Volume\n",
       "2014-01-01  0.015854  1.883892    1752\n",
       "2014-01-02  1.079826  1.565250     252\n",
       "2014-01-03 -0.443082 -0.810684    1857\n",
       "2014-01-04  0.315070 -0.592272    1283\n",
       "2014-01-05  0.059883 -0.420461    1931"
      ]
     },
     "execution_count": 5,
     "metadata": {},
     "output_type": "execute_result"
    }
   ],
   "source": [
    "# Create a sample DataFrame with price and volume data\n",
    "rng = pd.date_range(start='2014-01-01', periods=100)\n",
    "df = pd.DataFrame({\n",
    "    'Open': np.random.randn(len(rng)),\n",
    "    'Close': np.random.randn(len(rng)),\n",
    "    'Volume': np.random.randint(100, 2000, len(rng))\n",
    "}, index=rng)\n",
    "\n",
    "df.head()"
   ]
  },
  {
   "cell_type": "code",
   "execution_count": 6,
   "metadata": {},
   "outputs": [
    {
     "data": {
      "text/plain": [
       "2014-01-06    0.09\n",
       "2014-01-07   -0.53\n",
       "2014-01-08   -0.36\n",
       "2014-01-09   -0.18\n",
       "2014-01-10   -0.13\n",
       "2014-01-11   -0.30\n",
       "2014-01-12   -0.53\n",
       "2014-01-13   -0.82\n",
       "2014-01-14   -0.59\n",
       "2014-01-15   -0.59\n",
       "dtype: float64"
      ]
     },
     "execution_count": 6,
     "metadata": {},
     "output_type": "execute_result"
    }
   ],
   "source": [
    "# Define VWAP function\n",
    "def vwap(bars):\n",
    "    return ((bars.Close * bars.Volume).sum() / bars.Volume.sum())\n",
    "\n",
    "# Set window size\n",
    "window = 5\n",
    "\n",
    "# Calculate VWAP for each window\n",
    "s = pd.concat([\n",
    "    pd.Series(\n",
    "        vwap(df.iloc[i:i + window]),\n",
    "        index=[df.index[i + window]]\n",
    "    )\n",
    "    for i in range(len(df) - window)\n",
    "])\n",
    "\n",
    "# Display the results\n",
    "s.round(2).head(10)"
   ]
  },
  {
   "cell_type": "markdown",
   "metadata": {},
   "source": [
    "### Working with DatetimeIndex\n",
    "\n",
    "Let's explore some useful operations with DatetimeIndex."
   ]
  },
  {
   "cell_type": "markdown",
   "metadata": {},
   "source": [
    "#### Calculate the First Day of the Month for Each Entry in a DatetimeIndex"
   ]
  },
  {
   "cell_type": "code",
   "execution_count": 7,
   "metadata": {},
   "outputs": [
    {
     "data": {
      "text/plain": [
       "DatetimeIndex(['2000-01-01', '2000-01-02', '2000-01-03', '2000-01-04',\n",
       "               '2000-01-05'],\n",
       "              dtype='datetime64[ns]', freq='D')"
      ]
     },
     "execution_count": 7,
     "metadata": {},
     "output_type": "execute_result"
    }
   ],
   "source": [
    "# Create a sample DatetimeIndex\n",
    "dates = pd.date_range('2000-01-01', periods=5)\n",
    "dates"
   ]
  },
  {
   "cell_type": "code",
   "execution_count": 8,
   "metadata": {},
   "outputs": [
    {
     "data": {
      "text/plain": [
       "DatetimeIndex(['2000-01-01', '2000-01-01', '2000-01-01', '2000-01-01',\n",
       "               '2000-01-01'],\n",
       "              dtype='datetime64[ns]', freq=None)"
      ]
     },
     "execution_count": 8,
     "metadata": {},
     "output_type": "execute_result"
    }
   ],
   "source": [
    "# Convert to period with month frequency, then back to timestamp\n",
    "# This gives the first day of the month for each date\n",
    "dates.to_period(freq='M').to_timestamp()"
   ]
  },
  {
   "cell_type": "markdown",
   "metadata": {},
   "source": [
    "### Resampling Time Series Data\n",
    "\n",
    "Resampling is a common operation with time series data. Let's explore some examples."
   ]
  },
  {
   "cell_type": "code",
   "execution_count": 9,
   "metadata": {},
   "outputs": [
    {
     "name": "stderr",
     "output_type": "stream",
     "text": [
      "/var/folders/7y/fzwln1_93mn3js3wyk61_6xm0000gn/T/ipykernel_96123/865351560.py:6: FutureWarning: 'M' is deprecated and will be removed in a future version, please use 'ME' instead.\n",
      "  monthly = ts.resample('M').mean()\n"
     ]
    },
    {
     "data": {
      "text/plain": [
       "2000-01-31    0.426007\n",
       "2000-02-29    0.112003\n",
       "2000-03-31   -0.157816\n",
       "2000-04-30    0.077145\n",
       "2000-05-31   -0.185586\n",
       "Freq: ME, dtype: float64"
      ]
     },
     "execution_count": 9,
     "metadata": {},
     "output_type": "execute_result"
    }
   ],
   "source": [
    "# Create a sample time series\n",
    "ts = pd.Series(np.random.randn(1000), \n",
    "               index=pd.date_range('1/1/2000', periods=1000))\n",
    "\n",
    "# Resample to monthly frequency\n",
    "monthly = ts.resample('M').mean()\n",
    "monthly.head()"
   ]
  },
  {
   "cell_type": "code",
   "execution_count": 10,
   "metadata": {},
   "outputs": [
    {
     "name": "stderr",
     "output_type": "stream",
     "text": [
      "/var/folders/7y/fzwln1_93mn3js3wyk61_6xm0000gn/T/ipykernel_96123/3671015089.py:2: FutureWarning: 'BM' is deprecated and will be removed in a future version, please use 'BME' instead.\n",
      "  business_monthly = ts.resample('BM').mean()\n"
     ]
    },
    {
     "data": {
      "text/plain": [
       "2000-01-31    0.426007\n",
       "2000-02-29    0.112003\n",
       "2000-03-31   -0.157816\n",
       "2000-04-28    0.099344\n",
       "2000-05-31   -0.188498\n",
       "Freq: BME, dtype: float64"
      ]
     },
     "execution_count": 10,
     "metadata": {},
     "output_type": "execute_result"
    }
   ],
   "source": [
    "# Resample to business month end frequency\n",
    "business_monthly = ts.resample('BM').mean()\n",
    "business_monthly.head()"
   ]
  },
  {
   "cell_type": "code",
   "execution_count": 11,
   "metadata": {},
   "outputs": [
    {
     "data": {
      "image/png": "[encoded data removed]",
      "text/plain": [
       "<Figure size 1000x600 with 1 Axes>"
      ]
     },
     "metadata": {},
     "output_type": "display_data"
    }
   ],
   "source": [
    "# Plot the resampled time series\n",
    "fig, ax = plt.subplots(figsize=(10, 6))\n",
    "monthly.plot(ax=ax, label='Monthly')\n",
    "business_monthly.plot(ax=ax, label='Business Monthly')\n",
    "ax.legend()\n",
    "plt.title('Resampled Time Series')\n",
    "plt.show()"
   ]
  },
  {
   "cell_type": "markdown",
   "metadata": {},
   "source": [
    "### Merging Time Series Data\n",
    "\n",
    "Let's explore how to merge time series data in pandas."
   ]
  },
  {
   "cell_type": "code",
   "execution_count": 12,
   "metadata": {},
   "outputs": [
    {
     "name": "stdout",
     "output_type": "stream",
     "text": [
      "DataFrame 1:\n",
      "                   A         B         C\n",
      "2000-01-01  0.511241  0.259776  0.020557\n",
      "2000-01-02 -0.053225 -0.342340 -2.175508\n",
      "2000-01-03 -0.058469 -2.359112  0.258728\n",
      "2000-01-04 -0.865927  0.279483 -2.265766\n",
      "2000-01-05  1.052453  0.917737  0.609875\n",
      "2000-01-06  0.403685 -0.165157 -0.446022\n",
      "\n",
      "DataFrame 2:\n",
      "                   A         B         C\n",
      "2000-01-01  0.511241  0.259776  0.020557\n",
      "2000-01-02 -0.053225 -0.342340 -2.175508\n",
      "2000-01-03 -0.058469 -2.359112  0.258728\n",
      "2000-01-04 -0.865927  0.279483 -2.265766\n",
      "2000-01-05  1.052453  0.917737  0.609875\n",
      "2000-01-06  0.403685 -0.165157 -0.446022\n"
     ]
    }
   ],
   "source": [
    "# Create two DataFrames with overlapping index\n",
    "rng = pd.date_range('2000-01-01', periods=6)\n",
    "df1 = pd.DataFrame(np.random.randn(6, 3), index=rng, columns=['A', 'B', 'C'])\n",
    "df2 = df1.copy()\n",
    "\n",
    "# Display the DataFrames\n",
    "print(\"DataFrame 1:\")\n",
    "print(df1)\n",
    "print(\"\\nDataFrame 2:\")\n",
    "print(df2)"
   ]
  },
  {
   "cell_type": "code",
   "execution_count": 15,
   "metadata": {},
   "outputs": [
    {
     "data": {
      "text/html": [
       "<div>\n",
       "<style scoped>\n",
       "    .dataframe tbody tr th:only-of-type {\n",
       "        vertical-align: middle;\n",
       "    }\n",
       "\n",
       "    .dataframe tbody tr th {\n",
       "        vertical-align: top;\n",
       "    }\n",
       "\n",
       "    .dataframe thead th {\n",
       "        text-align: right;\n",
       "    }\n",
       "</style>\n",
       "<table border=\"1\" class=\"dataframe\">\n",
       "  <thead>\n",
       "    <tr style=\"text-align: right;\">\n",
       "      <th></th>\n",
       "      <th>A</th>\n",
       "      <th>B</th>\n",
       "      <th>C</th>\n",
       "    </tr>\n",
       "  </thead>\n",
       "  <tbody>\n",
       "    <tr>\n",
       "      <th>2000-01-01</th>\n",
       "      <td>0.511241</td>\n",
       "      <td>0.259776</td>\n",
       "      <td>0.020557</td>\n",
       "    </tr>\n",
       "    <tr>\n",
       "      <th>2000-01-02</th>\n",
       "      <td>-0.053225</td>\n",
       "      <td>-0.342340</td>\n",
       "      <td>-2.175508</td>\n",
       "    </tr>\n",
       "    <tr>\n",
       "      <th>2000-01-03</th>\n",
       "      <td>-0.058469</td>\n",
       "      <td>-2.359112</td>\n",
       "      <td>0.258728</td>\n",
       "    </tr>\n",
       "    <tr>\n",
       "      <th>2000-01-04</th>\n",
       "      <td>-0.865927</td>\n",
       "      <td>0.279483</td>\n",
       "      <td>-2.265766</td>\n",
       "    </tr>\n",
       "    <tr>\n",
       "      <th>2000-01-05</th>\n",
       "      <td>1.052453</td>\n",
       "      <td>0.917737</td>\n",
       "      <td>0.609875</td>\n",
       "    </tr>\n",
       "    <tr>\n",
       "      <th>2000-01-06</th>\n",
       "      <td>0.403685</td>\n",
       "      <td>-0.165157</td>\n",
       "      <td>-0.446022</td>\n",
       "    </tr>\n",
       "    <tr>\n",
       "      <th>2000-01-01</th>\n",
       "      <td>0.511241</td>\n",
       "      <td>0.259776</td>\n",
       "      <td>0.020557</td>\n",
       "    </tr>\n",
       "    <tr>\n",
       "      <th>2000-01-02</th>\n",
       "      <td>-0.053225</td>\n",
       "      <td>-0.342340</td>\n",
       "      <td>-2.175508</td>\n",
       "    </tr>\n",
       "    <tr>\n",
       "      <th>2000-01-03</th>\n",
       "      <td>-0.058469</td>\n",
       "      <td>-2.359112</td>\n",
       "      <td>0.258728</td>\n",
       "    </tr>\n",
       "    <tr>\n",
       "      <th>2000-01-04</th>\n",
       "      <td>-0.865927</td>\n",
       "      <td>0.279483</td>\n",
       "      <td>-2.265766</td>\n",
       "    </tr>\n",
       "    <tr>\n",
       "      <th>2000-01-05</th>\n",
       "      <td>1.052453</td>\n",
       "      <td>0.917737</td>\n",
       "      <td>0.609875</td>\n",
       "    </tr>\n",
       "    <tr>\n",
       "      <th>2000-01-06</th>\n",
       "      <td>0.403685</td>\n",
       "      <td>-0.165157</td>\n",
       "      <td>-0.446022</td>\n",
       "    </tr>\n",
       "  </tbody>\n",
       "</table>\n",
       "</div>"
      ],
      "text/plain": [
       "                   A         B         C\n",
       "2000-01-01  0.511241  0.259776  0.020557\n",
       "2000-01-02 -0.053225 -0.342340 -2.175508\n",
       "2000-01-03 -0.058469 -2.359112  0.258728\n",
       "2000-01-04 -0.865927  0.279483 -2.265766\n",
       "2000-01-05  1.052453  0.917737  0.609875\n",
       "2000-01-06  0.403685 -0.165157 -0.446022\n",
       "2000-01-01  0.511241  0.259776  0.020557\n",
       "2000-01-02 -0.053225 -0.342340 -2.175508\n",
       "2000-01-03 -0.058469 -2.359112  0.258728\n",
       "2000-01-04 -0.865927  0.279483 -2.265766\n",
       "2000-01-05  1.052453  0.917737  0.609875\n",
       "2000-01-06  0.403685 -0.165157 -0.446022"
      ]
     },
     "execution_count": 15,
     "metadata": {},
     "output_type": "execute_result"
    }
   ],
   "source": [
    "# Append the DataFrames\n",
    "appended = pd.concat([df1, df2])\n",
    "appended"
   ]
  },
  {
   "cell_type": "code",
   "execution_count": 16,
   "metadata": {},
   "outputs": [
    {
     "data": {
      "text/plain": [
       "np.True_"
      ]
     },
     "execution_count": 16,
     "metadata": {},
     "output_type": "execute_result"
    }
   ],
   "source": [
    "# Check for duplicate index values\n",
    "appended.index.duplicated().any()"
   ]
  },
  {
   "cell_type": "code",
   "execution_count": 17,
   "metadata": {},
   "outputs": [
    {
     "data": {
      "text/html": [
       "<div>\n",
       "<style scoped>\n",
       "    .dataframe tbody tr th:only-of-type {\n",
       "        vertical-align: middle;\n",
       "    }\n",
       "\n",
       "    .dataframe tbody tr th {\n",
       "        vertical-align: top;\n",
       "    }\n",
       "\n",
       "    .dataframe thead th {\n",
       "        text-align: right;\n",
       "    }\n",
       "</style>\n",
       "<table border=\"1\" class=\"dataframe\">\n",
       "  <thead>\n",
       "    <tr style=\"text-align: right;\">\n",
       "      <th></th>\n",
       "      <th>index</th>\n",
       "      <th>A</th>\n",
       "      <th>B</th>\n",
       "      <th>C</th>\n",
       "    </tr>\n",
       "  </thead>\n",
       "  <tbody>\n",
       "    <tr>\n",
       "      <th>0</th>\n",
       "      <td>2000-01-01</td>\n",
       "      <td>0.511241</td>\n",
       "      <td>0.259776</td>\n",
       "      <td>0.020557</td>\n",
       "    </tr>\n",
       "    <tr>\n",
       "      <th>1</th>\n",
       "      <td>2000-01-02</td>\n",
       "      <td>-0.053225</td>\n",
       "      <td>-0.342340</td>\n",
       "      <td>-2.175508</td>\n",
       "    </tr>\n",
       "    <tr>\n",
       "      <th>2</th>\n",
       "      <td>2000-01-03</td>\n",
       "      <td>-0.058469</td>\n",
       "      <td>-2.359112</td>\n",
       "      <td>0.258728</td>\n",
       "    </tr>\n",
       "    <tr>\n",
       "      <th>3</th>\n",
       "      <td>2000-01-04</td>\n",
       "      <td>-0.865927</td>\n",
       "      <td>0.279483</td>\n",
       "      <td>-2.265766</td>\n",
       "    </tr>\n",
       "    <tr>\n",
       "      <th>4</th>\n",
       "      <td>2000-01-05</td>\n",
       "      <td>1.052453</td>\n",
       "      <td>0.917737</td>\n",
       "      <td>0.609875</td>\n",
       "    </tr>\n",
       "  </tbody>\n",
       "</table>\n",
       "</div>"
      ],
      "text/plain": [
       "       index         A         B         C\n",
       "0 2000-01-01  0.511241  0.259776  0.020557\n",
       "1 2000-01-02 -0.053225 -0.342340 -2.175508\n",
       "2 2000-01-03 -0.058469 -2.359112  0.258728\n",
       "3 2000-01-04 -0.865927  0.279483 -2.265766\n",
       "4 2000-01-05  1.052453  0.917737  0.609875"
      ]
     },
     "execution_count": 17,
     "metadata": {},
     "output_type": "execute_result"
    }
   ],
   "source": [
    "# Reset the index to avoid duplicates\n",
    "appended_reset = appended.reset_index()\n",
    "appended_reset.head()"
   ]
  },
  {
   "cell_type": "markdown",
   "metadata": {},
   "source": [
    "##### Conclusion\n",
    "\n",
    "In this notebook, we've explored:\n",
    "\n",
    "1. More details about NA values in pandas and differences with NumPy, including:\n",
    "   - Why pandas chose a different approach than R for handling NA values\n",
    "   - Differences in variance calculation between pandas and NumPy\n",
    "\n",
    "2. Thread-safety considerations in pandas\n",
    "\n",
    "3. How to handle byte-ordering issues when working with data from different systems\n",
    "\n",
    "4. Practical examples from the pandas cookbook for time series operations, including:\n",
    "   - Rolling apply with a DataFrame returning a scalar (VWAP calculation)\n",
    "   - Working with DatetimeIndex to find the first day of the month\n",
    "   - Resampling time series data to different frequencies\n",
    "   - Merging time series data with overlapping indices\n",
    "\n",
    "These concepts and examples provide valuable tools for working with time series data in pandas."
   ]
  },
  {
   "cell_type": "markdown",
   "metadata": {},
   "source": []
  },
  {
   "cell_type": "markdown",
   "metadata": {},
   "source": []
  }
 ],
 "metadata": {
  "kernelspec": {
   "display_name": "venv",
   "language": "python",
   "name": "python3"
  },
  "language_info": {
   "codemirror_mode": {
    "name": "ipython",
    "version": 3
   },
   "file_extension": ".py",
   "mimetype": "text/x-python",
   "name": "python",
   "nbconvert_exporter": "python",
   "pygments_lexer": "ipython3",
   "version": "3.13.2"
  }
 },
 "nbformat": 4,
 "nbformat_minor": 4
}
