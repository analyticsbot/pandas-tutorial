{
 "cells": [
  {
   "cell_type": "markdown",
   "metadata": {},
   "source": [
    "#### Pandas Functions and Commands - Part 92\n",
    "\n",
    "This notebook documents pandas functions and commands with examples."
   ]
  },
  {
   "cell_type": "markdown",
   "metadata": {},
   "source": [
    "##### Configuration Options\n",
    "\n",
    "Key pandas configuration options:\n",
    "\n",
    "- **io.excel.xlsm.reader/writer**: Excel reader/writer engines for 'xlsm' files\n",
    "- **io.excel.xlsx.reader/writer**: Excel reader/writer engines for 'xlsx' files\n",
    "- **io.hdf.default_format**: Format settings for HDF files\n",
    "- **io.parquet.engine**: Parquet reader/writer engine options\n",
    "- **mode.chained_assignment**: Controls warnings for chained assignment\n",
    "- **mode.use_inf_as_na**: Controls how INF values are treated\n",
    "- **plotting.backend**: Sets the plotting backend"
   ]
  },
  {
   "cell_type": "code",
   "execution_count": 1,
   "metadata": {},
   "outputs": [],
   "source": [
    "import pandas as pd\n",
    "\n",
    "# View current settings\n",
    "pd.get_option('mode.chained_assignment')\n",
    "\n",
    "# Change a setting\n",
    "pd.set_option('display.max_rows', 100)\n",
    "\n",
    "# Reset a setting\n",
    "pd.reset_option('display.max_rows')"
   ]
  },
  {
   "cell_type": "markdown",
   "metadata": {},
   "source": [
    "##### pandas.reset_option\n",
    "\n",
    "```python\n",
    "pandas.reset_option(pat)\n",
    "```\n",
    "\n",
    "Reset one or more options to their default value. Pass \"all\" as argument to reset all options."
   ]
  },
  {
   "cell_type": "code",
   "execution_count": 2,
   "metadata": {},
   "outputs": [
    {
     "name": "stderr",
     "output_type": "stream",
     "text": [
      "/var/folders/7y/fzwln1_93mn3js3wyk61_6xm0000gn/T/ipykernel_93546/2243897160.py:5: FutureWarning: data_manager option is deprecated and will be removed in a future version. Only the BlockManager will be available.\n",
      "  pd.reset_option('all')\n",
      "/var/folders/7y/fzwln1_93mn3js3wyk61_6xm0000gn/T/ipykernel_93546/2243897160.py:5: FutureWarning: use_inf_as_na option is deprecated and will be removed in a future version. Convert inf values to NaN before operating instead.\n",
      "  pd.reset_option('all')\n"
     ]
    }
   ],
   "source": [
    "# Reset a specific option\n",
    "pd.reset_option('display.max_rows')\n",
    "\n",
    "# Reset all options\n",
    "pd.reset_option('all')"
   ]
  },
  {
   "cell_type": "markdown",
   "metadata": {},
   "source": [
    "##### Type Checking Functions\n",
    "\n",
    "Pandas provides a rich set of type checking functions in the `pandas.api.types` module:"
   ]
  },
  {
   "cell_type": "markdown",
   "metadata": {},
   "source": [
    "### is_bool_dtype\n",
    "\n",
    "Checks whether the provided array or dtype is of a boolean dtype."
   ]
  },
  {
   "cell_type": "code",
   "execution_count": 3,
   "metadata": {},
   "outputs": [
    {
     "name": "stdout",
     "output_type": "stream",
     "text": [
      "True\n",
      "True\n",
      "True\n",
      "False\n"
     ]
    }
   ],
   "source": [
    "import pandas as pd\n",
    "import numpy as np\n",
    "\n",
    "# Examples\n",
    "print(pd.api.types.is_bool_dtype(bool))\n",
    "print(pd.api.types.is_bool_dtype(np.bool))\n",
    "print(pd.api.types.is_bool_dtype(np.array([True, False])))\n",
    "print(pd.api.types.is_bool_dtype(pd.Series([1, 2])))"
   ]
  },
  {
   "cell_type": "markdown",
   "metadata": {},
   "source": [
    "### is_categorical_dtype\n",
    "\n",
    "Checks whether an array-like or dtype is of the Categorical dtype."
   ]
  },
  {
   "cell_type": "code",
   "execution_count": 4,
   "metadata": {},
   "outputs": [
    {
     "name": "stdout",
     "output_type": "stream",
     "text": [
      "False\n",
      "True\n",
      "True\n",
      "True\n"
     ]
    },
    {
     "name": "stderr",
     "output_type": "stream",
     "text": [
      "/var/folders/7y/fzwln1_93mn3js3wyk61_6xm0000gn/T/ipykernel_93546/1876505751.py:2: DeprecationWarning: is_categorical_dtype is deprecated and will be removed in a future version. Use isinstance(dtype, pd.CategoricalDtype) instead\n",
      "  print(pd.api.types.is_categorical_dtype(object))\n",
      "/var/folders/7y/fzwln1_93mn3js3wyk61_6xm0000gn/T/ipykernel_93546/1876505751.py:3: DeprecationWarning: is_categorical_dtype is deprecated and will be removed in a future version. Use isinstance(dtype, pd.CategoricalDtype) instead\n",
      "  print(pd.api.types.is_categorical_dtype(pd.CategoricalDtype()))\n",
      "/var/folders/7y/fzwln1_93mn3js3wyk61_6xm0000gn/T/ipykernel_93546/1876505751.py:4: DeprecationWarning: is_categorical_dtype is deprecated and will be removed in a future version. Use isinstance(dtype, pd.CategoricalDtype) instead\n",
      "  print(pd.api.types.is_categorical_dtype(pd.Categorical([1, 2, 3])))\n",
      "/var/folders/7y/fzwln1_93mn3js3wyk61_6xm0000gn/T/ipykernel_93546/1876505751.py:5: DeprecationWarning: is_categorical_dtype is deprecated and will be removed in a future version. Use isinstance(dtype, pd.CategoricalDtype) instead\n",
      "  print(pd.api.types.is_categorical_dtype(pd.CategoricalIndex([1, 2, 3])))\n"
     ]
    }
   ],
   "source": [
    "# Examples\n",
    "print(pd.api.types.is_categorical_dtype(object))\n",
    "print(pd.api.types.is_categorical_dtype(pd.CategoricalDtype()))\n",
    "print(pd.api.types.is_categorical_dtype(pd.Categorical([1, 2, 3])))\n",
    "print(pd.api.types.is_categorical_dtype(pd.CategoricalIndex([1, 2, 3])))"
   ]
  },
  {
   "cell_type": "markdown",
   "metadata": {},
   "source": [
    "### is_complex_dtype\n",
    "\n",
    "Checks whether the provided array or dtype is of a complex dtype."
   ]
  },
  {
   "cell_type": "code",
   "execution_count": 6,
   "metadata": {},
   "outputs": [
    {
     "name": "stdout",
     "output_type": "stream",
     "text": [
      "False\n",
      "True\n",
      "True\n",
      "True\n",
      "\n",
      "Is complex Series complex dtype? True\n",
      "Is complex array complex dtype? True\n",
      "\n",
      "Is int array complex dtype? False\n",
      "Is float Series complex dtype? False\n"
     ]
    }
   ],
   "source": [
    "import pandas as pd\n",
    "import numpy as np\n",
    "\n",
    "# Examples with correct complex type references\n",
    "print(pd.api.types.is_complex_dtype(str))\n",
    "print(pd.api.types.is_complex_dtype(complex))  # Use built-in complex instead of np.complex\n",
    "print(pd.api.types.is_complex_dtype(np.complex128))  # Or use np.complex128 for NumPy scalar type\n",
    "print(pd.api.types.is_complex_dtype(np.array([1 + 1j, 5])))\n",
    "\n",
    "# Additional examples to demonstrate complex dtype checking\n",
    "complex_series = pd.Series([1+2j, 3+4j, 5+6j])\n",
    "print(\"\\nIs complex Series complex dtype?\", pd.api.types.is_complex_dtype(complex_series))\n",
    "\n",
    "complex_array = np.array([1+2j, 3+4j])\n",
    "print(\"Is complex array complex dtype?\", pd.api.types.is_complex_dtype(complex_array))\n",
    "\n",
    "# Non-complex examples for comparison\n",
    "int_array = np.array([1, 2, 3])\n",
    "print(\"\\nIs int array complex dtype?\", pd.api.types.is_complex_dtype(int_array))\n",
    "\n",
    "float_series = pd.Series([1.1, 2.2, 3.3])\n",
    "print(\"Is float Series complex dtype?\", pd.api.types.is_complex_dtype(float_series))"
   ]
  },
  {
   "cell_type": "markdown",
   "metadata": {},
   "source": [
    "### is_datetime64_any_dtype\n",
    "\n",
    "Checks whether the provided array or dtype is of the datetime64 dtype."
   ]
  },
  {
   "cell_type": "code",
   "execution_count": 7,
   "metadata": {},
   "outputs": [
    {
     "name": "stdout",
     "output_type": "stream",
     "text": [
      "True\n",
      "True\n",
      "False\n"
     ]
    }
   ],
   "source": [
    "# Examples\n",
    "print(pd.api.types.is_datetime64_any_dtype(np.dtype('datetime64[ns]')))\n",
    "print(pd.api.types.is_datetime64_any_dtype(pd.Series(pd.date_range('20130101', periods=5))))\n",
    "print(pd.api.types.is_datetime64_any_dtype(pd.Series([1, 2])))"
   ]
  },
  {
   "cell_type": "markdown",
   "metadata": {},
   "source": [
    "### Additional Type-Checking Functions\n",
    "\n",
    "More useful type-checking functions:"
   ]
  },
  {
   "cell_type": "code",
   "execution_count": 8,
   "metadata": {},
   "outputs": [
    {
     "name": "stdout",
     "output_type": "stream",
     "text": [
      "is_timedelta64_dtype: True\n",
      "is_timedelta64_ns_dtype: True\n",
      "is_unsigned_integer_dtype: True\n",
      "is_sparse: True\n"
     ]
    },
    {
     "name": "stderr",
     "output_type": "stream",
     "text": [
      "/var/folders/7y/fzwln1_93mn3js3wyk61_6xm0000gn/T/ipykernel_93546/2579435713.py:10: DeprecationWarning: is_sparse is deprecated and will be removed in a future version. Check `isinstance(dtype, pd.SparseDtype)` instead.\n",
      "  print(\"is_sparse:\", pd.api.types.is_sparse(sparse_array))\n"
     ]
    }
   ],
   "source": [
    "# Create example data\n",
    "timedelta_series = pd.Series(pd.timedelta_range('1 day', periods=3))\n",
    "unsigned_array = np.array([1, 2, 3], dtype=np.uint8)\n",
    "sparse_array = pd.arrays.SparseArray([0, 0, 1, 0, 2])\n",
    "\n",
    "# Test the type checking functions\n",
    "print(\"is_timedelta64_dtype:\", pd.api.types.is_timedelta64_dtype(timedelta_series))\n",
    "print(\"is_timedelta64_ns_dtype:\", pd.api.types.is_timedelta64_ns_dtype(timedelta_series))\n",
    "print(\"is_unsigned_integer_dtype:\", pd.api.types.is_unsigned_integer_dtype(unsigned_array))\n",
    "print(\"is_sparse:\", pd.api.types.is_sparse(sparse_array))"
   ]
  },
  {
   "cell_type": "markdown",
   "metadata": {},
   "source": [
    "##### Practical Applications\n",
    "\n",
    "These type checking functions are particularly useful when:"
   ]
  },
  {
   "cell_type": "code",
   "execution_count": 9,
   "metadata": {},
   "outputs": [
    {
     "name": "stdout",
     "output_type": "stream",
     "text": [
      "numeric: 3.0\n",
      "dates: 4 days 00:00:00\n",
      "boolean: 0.6\n",
      "category: 3\n"
     ]
    }
   ],
   "source": [
    "# Function that performs different operations based on column type\n",
    "def process_column(series):\n",
    "    if pd.api.types.is_numeric_dtype(series):\n",
    "        return series.mean()\n",
    "    elif pd.api.types.is_datetime64_any_dtype(series):\n",
    "        return series.max() - series.min()\n",
    "    elif pd.api.types.is_bool_dtype(series):\n",
    "        return series.sum()\n",
    "    else:\n",
    "        return series.nunique()\n",
    "\n",
    "# Create a sample DataFrame\n",
    "df = pd.DataFrame({\n",
    "    'numeric': [1, 2, 3, 4, 5],\n",
    "    'dates': pd.date_range('20210101', periods=5),\n",
    "    'boolean': [True, False, True, True, False],\n",
    "    'category': pd.Categorical(['A', 'B', 'A', 'C', 'B'])\n",
    "})\n",
    "\n",
    "# Apply the function to each column\n",
    "for col in df.columns:\n",
    "    print(f\"{col}: {process_column(df[col])}\")"
   ]
  },
  {
   "cell_type": "code",
   "execution_count": null,
   "metadata": {},
   "outputs": [],
   "source": []
  },
  {
   "cell_type": "code",
   "execution_count": null,
   "metadata": {},
   "outputs": [],
   "source": []
  }
 ],
 "metadata": {
  "kernelspec": {
   "display_name": "venv",
   "language": "python",
   "name": "python3"
  },
  "language_info": {
   "codemirror_mode": {
    "name": "ipython",
    "version": 3
   },
   "file_extension": ".py",
   "mimetype": "text/x-python",
   "name": "python",
   "nbconvert_exporter": "python",
   "pygments_lexer": "ipython3",
   "version": "3.13.2"
  }
 },
 "nbformat": 4,
 "nbformat_minor": 4
}
