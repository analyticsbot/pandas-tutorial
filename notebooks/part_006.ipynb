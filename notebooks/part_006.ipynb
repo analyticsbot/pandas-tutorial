{
 "cells": [
  {
   "cell_type": "markdown",
   "metadata": {},
   "source": [
    "##### Data Manipulation and Types"
   ]
  },
  {
   "cell_type": "code",
   "execution_count": 1,
   "metadata": {},
   "outputs": [],
   "source": [
    "import pandas as pd\n",
    "import numpy as np"
   ]
  },
  {
   "cell_type": "markdown",
   "metadata": {},
   "source": [
    "##### Elementwise Functions\n",
    "Apply functions to individual elements"
   ]
  },
  {
   "cell_type": "code",
   "execution_count": 2,
   "metadata": {},
   "outputs": [
    {
     "name": "stdout",
     "output_type": "stream",
     "text": [
      "Sample DataFrame:\n",
      "    one   two  three\n",
      "a  1.39  1.77    NaN\n",
      "b  0.34  1.91  -0.05\n",
      "c  0.69  1.47   1.22\n",
      "d   NaN  0.27  -0.61\n"
     ]
    }
   ],
   "source": [
    "# Create sample DataFrame\n",
    "df = pd.DataFrame({\n",
    "    'one': [1.39, 0.34, 0.69, np.nan],\n",
    "    'two': [1.77, 1.91, 1.47, 0.27],\n",
    "    'three': [np.nan, -0.05, 1.22, -0.61]\n",
    "}, index=['a', 'b', 'c', 'd'])\n",
    "\n",
    "print(\"Sample DataFrame:\")\n",
    "print(df)"
   ]
  },
  {
   "cell_type": "code",
   "execution_count": 3,
   "metadata": {},
   "outputs": [
    {
     "name": "stdout",
     "output_type": "stream",
     "text": [
      "String lengths of 'one' column:\n",
      "a    4\n",
      "b    4\n",
      "c    4\n",
      "d    3\n",
      "Name: one, dtype: int64\n",
      "\n",
      "String lengths of all elements:\n",
      "   one  two  three\n",
      "a    4    4      3\n",
      "b    4    4      5\n",
      "c    4    4      4\n",
      "d    3    4      5\n"
     ]
    },
    {
     "name": "stderr",
     "output_type": "stream",
     "text": [
      "/var/folders/7y/fzwln1_93mn3js3wyk61_6xm0000gn/T/ipykernel_69237/126587565.py:9: FutureWarning: DataFrame.applymap has been deprecated. Use DataFrame.map instead.\n",
      "  print(df.applymap(get_str_length))\n"
     ]
    }
   ],
   "source": [
    "# Apply custom function to each element\n",
    "def get_str_length(x):\n",
    "    return len(str(x))\n",
    "\n",
    "print(\"String lengths of 'one' column:\")\n",
    "print(df['one'].map(get_str_length))\n",
    "\n",
    "print(\"\\nString lengths of all elements:\")\n",
    "print(df.applymap(get_str_length))"
   ]
  },
  {
   "cell_type": "code",
   "execution_count": 4,
   "metadata": {},
   "outputs": [
    {
     "name": "stdout",
     "output_type": "stream",
     "text": [
      "Original Series:\n",
      "a      six\n",
      "b    seven\n",
      "c      six\n",
      "d    seven\n",
      "e      six\n",
      "dtype: object\n",
      "\n",
      "Mapped values:\n",
      "a    6.0\n",
      "b    7.0\n",
      "c    6.0\n",
      "d    7.0\n",
      "e    6.0\n",
      "dtype: float64\n"
     ]
    }
   ],
   "source": [
    "# Map values using another Series\n",
    "s1 = pd.Series(['six', 'seven', 'six', 'seven', 'six'],\n",
    "               index=['a', 'b', 'c', 'd', 'e'])\n",
    "s2 = pd.Series({'six': 6., 'seven': 7.})\n",
    "\n",
    "print(\"Original Series:\")\n",
    "print(s1)\n",
    "print(\"\\nMapped values:\")\n",
    "print(s1.map(s2))"
   ]
  },
  {
   "cell_type": "markdown",
   "metadata": {},
   "source": [
    "##### Reindexing\n",
    "Conform data to match new labels"
   ]
  },
  {
   "cell_type": "code",
   "execution_count": 5,
   "metadata": {},
   "outputs": [
    {
     "name": "stdout",
     "output_type": "stream",
     "text": [
      "Original Series:\n",
      "a    0.293166\n",
      "b   -0.410848\n",
      "c   -0.067568\n",
      "d    0.320194\n",
      "e    0.640690\n",
      "dtype: float64\n",
      "\n",
      "Reindexed Series:\n",
      "e    0.640690\n",
      "b   -0.410848\n",
      "f         NaN\n",
      "d    0.320194\n",
      "dtype: float64\n"
     ]
    }
   ],
   "source": [
    "# Create sample Series\n",
    "s = pd.Series(np.random.randn(5), index=['a', 'b', 'c', 'd', 'e'])\n",
    "print(\"Original Series:\")\n",
    "print(s)\n",
    "\n",
    "print(\"\\nReindexed Series:\")\n",
    "print(s.reindex(['e', 'b', 'f', 'd']))"
   ]
  },
  {
   "cell_type": "code",
   "execution_count": 6,
   "metadata": {},
   "outputs": [
    {
     "name": "stdout",
     "output_type": "stream",
     "text": [
      "Original DataFrame:\n",
      "    one   two  three\n",
      "a  1.39  1.77    NaN\n",
      "b  0.34  1.91  -0.05\n",
      "c  0.69  1.47   1.22\n",
      "d   NaN  0.27  -0.61\n",
      "\n",
      "Reindexed DataFrame:\n",
      "   three   two   one\n",
      "c   1.22  1.47  0.69\n",
      "f    NaN   NaN   NaN\n",
      "b  -0.05  1.91  0.34\n"
     ]
    }
   ],
   "source": [
    "# Reindex DataFrame (both index and columns)\n",
    "print(\"Original DataFrame:\")\n",
    "print(df)\n",
    "\n",
    "print(\"\\nReindexed DataFrame:\")\n",
    "print(df.reindex(index=['c', 'f', 'b'], columns=['three', 'two', 'one']))"
   ]
  },
  {
   "cell_type": "markdown",
   "metadata": {},
   "source": [
    "##### Sorting\n",
    "Sort by values or index"
   ]
  },
  {
   "cell_type": "code",
   "execution_count": 7,
   "metadata": {},
   "outputs": [
    {
     "name": "stdout",
     "output_type": "stream",
     "text": [
      "DataFrame with MultiIndex columns:\n",
      "    a         b\n",
      "  one two three\n",
      "0   2   1     5\n",
      "1   1   2     3\n",
      "2   1   3     4\n",
      "3   1   4     2\n"
     ]
    }
   ],
   "source": [
    "# Create sample DataFrame with MultiIndex\n",
    "df_multi = pd.DataFrame({\n",
    "    ('a', 'one'): [2, 1, 1, 1],\n",
    "    ('a', 'two'): [1, 2, 3, 4],\n",
    "    ('b', 'three'): [5, 3, 4, 2]\n",
    "})\n",
    "\n",
    "print(\"DataFrame with MultiIndex columns:\")\n",
    "print(df_multi)"
   ]
  },
  {
   "cell_type": "code",
   "execution_count": 8,
   "metadata": {},
   "outputs": [
    {
     "name": "stdout",
     "output_type": "stream",
     "text": [
      "Sorted by ('a', 'two'):\n",
      "    a         b\n",
      "  one two three\n",
      "0   2   1     5\n",
      "1   1   2     3\n",
      "2   1   3     4\n",
      "3   1   4     2\n"
     ]
    }
   ],
   "source": [
    "# Sort by MultiIndex column\n",
    "print(\"Sorted by ('a', 'two'):\")\n",
    "print(df_multi.sort_values(by=('a', 'two')))"
   ]
  },
  {
   "cell_type": "markdown",
   "metadata": {},
   "source": [
    "##### Data Types\n",
    "Understanding pandas dtypes"
   ]
  },
  {
   "cell_type": "code",
   "execution_count": 9,
   "metadata": {},
   "outputs": [
    {
     "name": "stdout",
     "output_type": "stream",
     "text": [
      "DataFrame with different types:\n",
      "   integers  floats strings  booleans      dates\n",
      "0         1     1.1       a      True 2025-02-19\n",
      "1         2     2.2       b     False 2025-02-20\n",
      "2         3     3.3       c      True 2025-02-21\n",
      "\n",
      "Data types of each column:\n",
      "integers             int64\n",
      "floats             float64\n",
      "strings             object\n",
      "booleans              bool\n",
      "dates       datetime64[ns]\n",
      "dtype: object\n"
     ]
    }
   ],
   "source": [
    "# Create DataFrame with different types\n",
    "df_types = pd.DataFrame({\n",
    "    'integers': [1, 2, 3],\n",
    "    'floats': [1.1, 2.2, 3.3],\n",
    "    'strings': ['a', 'b', 'c'],\n",
    "    'booleans': [True, False, True],\n",
    "    'dates': pd.date_range('20250219', periods=3)\n",
    "})\n",
    "\n",
    "print(\"DataFrame with different types:\")\n",
    "print(df_types)\n",
    "print(\"\\nData types of each column:\")\n",
    "print(df_types.dtypes)"
   ]
  },
  {
   "cell_type": "code",
   "execution_count": 10,
   "metadata": {},
   "outputs": [
    {
     "name": "stdout",
     "output_type": "stream",
     "text": [
      "Categorical Series:\n",
      "0    a\n",
      "1    b\n",
      "2    a\n",
      "3    c\n",
      "dtype: category\n",
      "Categories (3, object): ['a', 'b', 'c']\n",
      "\n",
      "Categories:\n",
      "Index(['a', 'b', 'c'], dtype='object')\n"
     ]
    }
   ],
   "source": [
    "# Create Series with categorical data\n",
    "cat_series = pd.Series(['a', 'b', 'a', 'c'], dtype='category')\n",
    "print(\"Categorical Series:\")\n",
    "print(cat_series)\n",
    "print(\"\\nCategories:\")\n",
    "print(cat_series.cat.categories)"
   ]
  },
  {
   "cell_type": "code",
   "execution_count": 11,
   "metadata": {},
   "outputs": [
    {
     "name": "stdout",
     "output_type": "stream",
     "text": [
      "String Series:\n",
      "0     apple\n",
      "1    banana\n",
      "2    cherry\n",
      "dtype: string\n",
      "\n",
      "Uppercase:\n",
      "0     APPLE\n",
      "1    BANANA\n",
      "2    CHERRY\n",
      "dtype: string\n"
     ]
    }
   ],
   "source": [
    "# String operations with StringDtype\n",
    "str_series = pd.Series(['apple', 'banana', 'cherry'], dtype='string')\n",
    "print(\"String Series:\")\n",
    "print(str_series)\n",
    "print(\"\\nUppercase:\")\n",
    "print(str_series.str.upper())"
   ]
  }
 ],
 "metadata": {
  "kernelspec": {
   "display_name": "venv",
   "language": "python",
   "name": "python3"
  },
  "language_info": {
   "codemirror_mode": {
    "name": "ipython",
    "version": 3
   },
   "file_extension": ".py",
   "mimetype": "text/x-python",
   "name": "python",
   "nbconvert_exporter": "python",
   "pygments_lexer": "ipython3",
   "version": "3.13.2"
  }
 },
 "nbformat": 4,
 "nbformat_minor": 4
}
