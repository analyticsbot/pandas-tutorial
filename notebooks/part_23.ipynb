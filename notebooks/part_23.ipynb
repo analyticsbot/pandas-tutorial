{
 "cells": [
  {
   "cell_type": "markdown",
   "metadata": {},
   "source": [
    "#### Part 23: Working with Categorical Data in Pandas\n",
    "\n",
    "In this notebook, we'll explore:\n",
    "- Handling missing values (continued)\n",
    "- Working with categorical data\n",
    "- Accessing and manipulating categorical data\n",
    "\n",
    "##### Setup\n",
    "First, let's import the necessary libraries:"
   ]
  },
  {
   "cell_type": "code",
   "execution_count": null,
   "metadata": {},
   "outputs": [],
   "source": [
    "import pandas as pd\n",
    "import numpy as np"
   ]
  },
  {
   "cell_type": "markdown",
   "metadata": {},
   "source": [
    "##### 1. Handling Missing Values (Continued)\n",
    "\n",
    "### 1.1 Handling Missing Values in Boolean Arrays\n",
    "\n",
    "When working with boolean arrays that contain missing values, we need to be careful. Let's see what happens:"
   ]
  },
  {
   "cell_type": "code",
   "execution_count": null,
   "metadata": {},
   "outputs": [],
   "source": [
    "# Create a Series with random values\n",
    "s = pd.Series(np.random.randn(5), index=[0, 2, 4, 6, 7])\n",
    "print(\"Original Series:\")\n",
    "print(s)\n",
    "\n",
    "# Create a boolean Series\n",
    "bool_series = s > 0\n",
    "print(\"\\nBoolean Series:\")\n",
    "print(bool_series)\n",
    "print(\"Data type:\", bool_series.dtype)\n",
    "\n",
    "# Reindex the boolean Series to introduce missing values\n",
    "crit = bool_series.reindex(list(range(8)))\n",
    "print(\"\\nReindexed Boolean Series:\")\n",
    "print(crit)\n",
    "print(\"Data type:\", crit.dtype)"
   ]
  },
  {
   "cell_type": "markdown",
   "metadata": {},
   "source": [
    "If we try to use this boolean Series with NAs for indexing, we'll get an error:"
   ]
  },
  {
   "cell_type": "code",
   "execution_count": null,
   "metadata": {},
   "outputs": [],
   "source": [
    "# Reindex the original Series and fill missing values with 0\n",
    "reindexed = s.reindex(list(range(8))).fillna(0)\n",
    "print(\"Reindexed Series with filled NAs:\")\n",
    "print(reindexed)\n",
    "\n",
    "# Try to use the boolean Series with NAs for indexing\n",
    "try:\n",
    "    result = reindexed[crit]\n",
    "    print(result)\n",
    "except ValueError as e:\n",
    "    print(f\"Error: {e}\")"
   ]
  },
  {
   "cell_type": "markdown",
   "metadata": {},
   "source": [
    "However, we can fill the NAs in the boolean Series before using it for indexing:"
   ]
  },
  {
   "cell_type": "code",
   "execution_count": null,
   "metadata": {},
   "outputs": [],
   "source": [
    "# Fill NAs with False\n",
    "print(\"Using boolean Series with NAs filled with False:\")\n",
    "print(reindexed[crit.fillna(False)])\n",
    "\n",
    "# Fill NAs with True\n",
    "print(\"\\nUsing boolean Series with NAs filled with True:\")\n",
    "print(reindexed[crit.fillna(True)])"
   ]
  },
  {
   "cell_type": "markdown",
   "metadata": {},
   "source": [
    "### 1.2 Nullable Integer Data Type\n",
    "\n",
    "Pandas provides a nullable integer dtype, but you must explicitly request it when creating the series or column. Notice that we use a capital \"I\" in the dtype=\"Int64\":"
   ]
  },
  {
   "cell_type": "code",
   "execution_count": null,
   "metadata": {},
   "outputs": [],
   "source": [
    "# Create a Series with nullable integer dtype\n",
    "s = pd.Series([0, 1, np.nan, 3, 4], dtype=\"Int64\")\n",
    "s"
   ]
  },
  {
   "cell_type": "markdown",
   "metadata": {},
   "source": [
    "### 1.3 Experimental NA Scalar to Denote Missing Values\n",
    "\n",
    "Starting from pandas 1.0, an experimental `pd.NA` value (singleton) is available to represent scalar missing values. It is used in the nullable integer, boolean, and dedicated string data types as the missing value indicator."
   ]
  },
  {
   "cell_type": "code",
   "execution_count": null,
   "metadata": {},
   "outputs": [],
   "source": [
    "# Create a Series with nullable integer dtype\n",
    "s = pd.Series([1, 2, None], dtype=\"Int64\")\n",
    "print(s)\n",
    "\n",
    "# Check if the missing value is pd.NA\n",
    "print(f\"\\ns[2] = {s[2]}\")\n",
    "print(f\"s[2] is pd.NA: {s[2] is pd.NA}\")"
   ]
  },
  {
   "cell_type": "markdown",
   "metadata": {},
   "source": [
    "In general, missing values propagate in operations involving `pd.NA`. When one of the operands is unknown, the outcome of the operation is also unknown:"
   ]
  },
  {
   "cell_type": "code",
   "execution_count": null,
   "metadata": {},
   "outputs": [],
   "source": [
    "# Arithmetic operations with pd.NA\n",
    "print(f\"pd.NA + 1 = {pd.NA + 1}\")\n",
    "print(f\"pd.NA * 2 = {pd.NA * 2}\")\n",
    "print(f\"pd.NA ** 0 = {pd.NA ** 0}\")"
   ]
  },
  {
   "cell_type": "markdown",
   "metadata": {},
   "source": [
    "##### 2. Working with Categorical Data\n",
    "\n",
    "Categorical data in pandas is a type that corresponds to categorical variables in statistics. It can be used to save memory and improve performance when you have a limited set of possible values.\n",
    "\n",
    "### 2.1 Creating Categorical Data"
   ]
  },
  {
   "cell_type": "code",
   "execution_count": null,
   "metadata": {},
   "outputs": [],
   "source": [
    "# Create a categorical Series\n",
    "raw_cat = pd.Categorical([\"a\", \"a\", \"b\", \"b\"], categories=[\"a\", \"b\", \"c\"])\n",
    "print(\"Categorical Series:\")\n",
    "print(raw_cat)\n",
    "\n",
    "# Create a DataFrame with a categorical column\n",
    "df = pd.DataFrame({\"A\": raw_cat,\n",
    "                  \"B\": [\"c\", \"d\", \"c\", \"d\"],\n",
    "                  \"values\": [1, 2, 3, 4]})\n",
    "print(\"\\nDataFrame with categorical column:\")\n",
    "print(df)\n",
    "print(\"\\nData types:\")\n",
    "print(df.dtypes)"
   ]
  },
  {
   "cell_type": "markdown",
   "metadata": {},
   "source": [
    "### 2.2 Grouping with Categorical Data\n",
    "\n",
    "Categorical data can be used for grouping operations:"
   ]
  },
  {
   "cell_type": "code",
   "execution_count": null,
   "metadata": {},
   "outputs": [],
   "source": [
    "# Create a DataFrame with a categorical column\n",
    "cats = pd.Categorical([\"a\", \"b\", \"a\", \"c\"], categories=[\"a\", \"b\", \"c\", \"d\"])\n",
    "df = pd.DataFrame({\"cats\": cats, \"values\": [1, 2, 1, 4]})\n",
    "print(\"DataFrame:\")\n",
    "print(df)\n",
    "\n",
    "# Group by the categorical column\n",
    "print(\"\\nGroupby result:\")\n",
    "print(df.groupby(\"cats\").mean())"
   ]
  },
  {
   "cell_type": "markdown",
   "metadata": {},
   "source": [
    "We can also use multiple groupby columns, including categorical ones:"
   ]
  },
  {
   "cell_type": "code",
   "execution_count": null,
   "metadata": {},
   "outputs": [],
   "source": [
    "# Create a DataFrame with a categorical column\n",
    "cats2 = pd.Categorical([\"a\", \"a\", \"b\", \"b\"], categories=[\"a\", \"b\", \"c\"])\n",
    "df2 = pd.DataFrame({\"cats\": cats2,\n",
    "                   \"B\": [\"c\", \"d\", \"c\", \"d\"],\n",
    "                   \"values\": [1, 2, 3, 4]})\n",
    "print(\"DataFrame:\")\n",
    "print(df2)\n",
    "\n",
    "# Group by multiple columns\n",
    "print(\"\\nGroupby result:\")\n",
    "print(df2.groupby([\"cats\", \"B\"]).mean())"
   ]
  },
  {
   "cell_type": "markdown",
   "metadata": {},
   "source": [
    "### 2.3 Pivot Tables with Categorical Data"
   ]
  },
  {
   "cell_type": "code",
   "execution_count": null,
   "metadata": {},
   "outputs": [],
   "source": [
    "# Create a DataFrame with a categorical column\n",
    "raw_cat = pd.Categorical([\"a\", \"a\", \"b\", \"b\"], categories=[\"a\", \"b\", \"c\"])\n",
    "df = pd.DataFrame({\"A\": raw_cat,\n",
    "                  \"B\": [\"c\", \"d\", \"c\", \"d\"],\n",
    "                  \"values\": [1, 2, 3, 4]})\n",
    "print(\"DataFrame:\")\n",
    "print(df)\n",
    "\n",
    "# Create a pivot table\n",
    "print(\"\\nPivot table:\")\n",
    "print(pd.pivot_table(df, values='values', index=['A', 'B']))"
   ]
  },
  {
   "cell_type": "markdown",
   "metadata": {},
   "source": [
    "### 2.4 Data Munging with Categorical Data\n",
    "\n",
    "The optimized pandas data access methods `.loc`, `.iloc`, `.at`, and `.iat` work as normal with categorical data. The only difference is the return type (for getting) and that only values already in categories can be assigned."
   ]
  },
  {
   "cell_type": "code",
   "execution_count": null,
   "metadata": {},
   "outputs": [],
   "source": [
    "# Create a DataFrame with a categorical column\n",
    "idx = pd.Index([\"h\", \"i\", \"j\", \"k\", \"l\", \"m\", \"n\"])\n",
    "cats = pd.Series([\"a\", \"b\", \"b\", \"b\", \"c\", \"c\", \"c\"], dtype=\"category\", index=idx)\n",
    "values = [1, 2, 2, 2, 3, 4, 5]\n",
    "df = pd.DataFrame({\"cats\": cats, \"values\": values}, index=idx)\n",
    "print(\"DataFrame:\")\n",
    "print(df)\n",
    "\n",
    "# Slicing with .iloc\n",
    "print(\"\\nSlicing with .iloc:\")\n",
    "print(df.iloc[2:4, :])\n",
    "print(\"\\nData types after slicing:\")\n",
    "print(df.iloc[2:4, :].dtypes)\n",
    "\n",
    "# Slicing with .loc\n",
    "print(\"\\nSlicing with .loc:\")\n",
    "print(df.loc[\"h\":\"j\", \"cats\"])\n",
    "\n",
    "# Filtering\n",
    "print(\"\\nFiltering:\")\n",
    "print(df[df[\"cats\"] == \"b\"])"
   ]
  },
  {
   "cell_type": "markdown",
   "metadata": {},
   "source": [
    "If you take one single row, the resulting Series is of dtype object:"
   ]
  },
  {
   "cell_type": "code",
   "execution_count": null,
   "metadata": {},
   "outputs": [],
   "source": [
    "# Get a single row\n",
    "print(\"Single row:\")\n",
    "row_h = df.loc[\"h\", :]\n",
    "print(row_h)\n",
    "print(f\"Data type: {row_h.dtype}\")\n",
    "\n",
    "# Get a single value\n",
    "print(\"\\nSingle value:\")\n",
    "print(f\"df.iat[0, 0] = {df.iat[0, 0]}\")\n",
    "\n",
    "# Change category names\n",
    "df[\"cats\"].cat.categories = [\"x\", \"y\", \"z\"]\n",
    "print(\"\\nAfter changing category names:\")\n",
    "print(df)\n",
    "print(f\"df.at['h', 'cats'] = {df.at['h', 'cats']}\")"
   ]
  },
  {
   "cell_type": "markdown",
   "metadata": {},
   "source": [
    "To get a single value Series of type category, you need to pass in a list with a single value:"
   ]
  },
  {
   "cell_type": "code",
   "execution_count": null,
   "metadata": {},
   "outputs": [],
   "source": [
    "# Get a single value Series of type category\n",
    "print(\"Single value Series of type category:\")\n",
    "print(df.loc[[\"h\"], \"cats\"])"
   ]
  },
  {
   "cell_type": "markdown",
   "metadata": {},
   "source": [
    "### 2.5 String and Datetime Accessors\n",
    "\n",
    "The accessors `.dt` and `.str` will work if the `s.cat.categories` are of an appropriate type:"
   ]
  },
  {
   "cell_type": "code",
   "execution_count": null,
   "metadata": {},
   "outputs": [],
   "source": [
    "# Create a string Series and convert to category\n",
    "str_s = pd.Series(list('aabb'))\n",
    "str_cat = str_s.astype('category')\n",
    "print(\"Categorical string Series:\")\n",
    "print(str_cat)\n",
    "\n",
    "# Use string accessor\n",
    "print(\"\\nUsing .str accessor:\")\n",
    "print(str_cat.str.upper())"
   ]
  },
  {
   "cell_type": "markdown",
   "metadata": {},
   "source": [
    "##### Summary\n",
    "\n",
    "In this notebook, we've explored:\n",
    "\n",
    "1. Advanced handling of missing values in pandas, including:\n",
    "   - Working with missing values in boolean arrays\n",
    "   - Using the nullable integer data type\n",
    "   - Understanding the experimental `pd.NA` scalar\n",
    "\n",
    "2. Working with categorical data in pandas, including:\n",
    "   - Creating and manipulating categorical data\n",
    "   - Grouping and pivoting with categorical data\n",
    "   - Accessing categorical data with various methods\n",
    "   - Using string and datetime accessors with categorical data\n",
    "\n",
    "These techniques are essential for efficient data manipulation and analysis in pandas, especially when working with limited sets of possible values."
   ]
  }
 ],
 "metadata": {
  "kernelspec": {
   "display_name": "Python 3",
   "language": "python",
   "name": "python3"
  },
  "language_info": {
   "codemirror_mode": {
    "name": "ipython",
    "version": 3
   },
   "file_extension": ".py",
   "mimetype": "text/x-python",
   "name": "python",
   "nbconvert_exporter": "python",
   "pygments_lexer": "ipython3",
   "version": "3.8.5"
  }
 },
 "nbformat": 4,
 "nbformat_minor": 4
}