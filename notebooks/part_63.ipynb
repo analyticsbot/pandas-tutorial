{
 "cells": [
  {
   "cell_type": "markdown",
   "metadata": {},
   "source": [
    "# Pandas Tutorial - Part 63: DataFrame Methods (nsmallest, rank)\n",
    "\n",
    "This notebook covers two important DataFrame methods:\n",
    "- `nsmallest()` - Return the first n rows ordered by columns in ascending order\n",
    "- `rank()` - Compute numerical data ranks along the specified axis"
   ]
  },
  {
   "cell_type": "code",
   "execution_count": null,
   "metadata": {},
   "outputs": [],
   "source": [
    "import pandas as pd\n",
    "import numpy as np\n",
    "import matplotlib.pyplot as plt\n",
    "\n",
    "# Set display options\n",
    "pd.set_option('display.max_columns', None)\n",
    "pd.set_option('display.expand_frame_repr', False)"
   ]
  },
  {
   "cell_type": "markdown",
   "metadata": {},
   "source": [
    "## 1. DataFrame.nsmallest()\n",
    "\n",
    "The `nsmallest()` method returns the first n rows ordered by columns in ascending order. It's equivalent to `df.sort_values(columns, ascending=True).head(n)`, but more performant."
   ]
  },
  {
   "cell_type": "code",
   "execution_count": null,
   "metadata": {},
   "outputs": [],
   "source": [
    "# Create a DataFrame for countries\n",
    "df = pd.DataFrame({\n",
    "    'population': [59000000, 65000000, 434000, 434000, 434000, 337000, 11300, 11300, 11300],\n",
    "    'GDP': [1937894, 2583560, 12011, 4520, 12128, 17036, 182, 38, 311],\n",
    "    'alpha-2': [\"IT\", \"FR\", \"MT\", \"MV\", \"BN\", \"IS\", \"NR\", \"TV\", \"AI\"]\n",
    "}, index=[\"Italy\", \"France\", \"Malta\", \"Maldives\", \"Brunei\", \"Iceland\", \"Nauru\", \"Tuvalu\", \"Anguilla\"])\n",
    "\n",
    "print(\"Countries DataFrame:\")\n",
    "df"
   ]
  },
  {
   "cell_type": "code",
   "execution_count": null,
   "metadata": {},
   "outputs": [],
   "source": [
    "# Get the 3 smallest countries by population\n",
    "print(\"3 smallest countries by population:\")\n",
    "df.nsmallest(3, 'population')"
   ]
  },
  {
   "cell_type": "code",
   "execution_count": null,
   "metadata": {},
   "outputs": [],
   "source": [
    "# Get the 3 smallest countries by GDP\n",
    "print(\"3 smallest countries by GDP:\")\n",
    "df.nsmallest(3, 'GDP')"
   ]
  },
  {
   "cell_type": "code",
   "execution_count": null,
   "metadata": {},
   "outputs": [],
   "source": [
    "# Get the 3 smallest countries by multiple columns\n",
    "print(\"3 smallest countries by population and GDP:\")\n",
    "df.nsmallest(3, ['population', 'GDP'])"
   ]
  },
  {
   "cell_type": "code",
   "execution_count": null,
   "metadata": {},
   "outputs": [],
   "source": [
    "# Get the 3 smallest countries by GDP and population\n",
    "print(\"3 smallest countries by GDP and population:\")\n",
    "df.nsmallest(3, ['GDP', 'population'])"
   ]
  },
  {
   "cell_type": "code",
   "execution_count": null,
   "metadata": {},
   "outputs": [],
   "source": [
    "# Demonstrate the 'keep' parameter with duplicate values\n",
    "# Note that there are duplicate population values (434000 and 11300)\n",
    "\n",
    "# Keep='first' (default)\n",
    "print(\"nsmallest with keep='first' (default):\")\n",
    "df.nsmallest(3, 'population', keep='first')"
   ]
  },
  {
   "cell_type": "code",
   "execution_count": null,
   "metadata": {},
   "outputs": [],
   "source": [
    "# Keep='last'\n",
    "print(\"nsmallest with keep='last':\")\n",
    "df.nsmallest(3, 'population', keep='last')"
   ]
  },
  {
   "cell_type": "code",
   "execution_count": null,
   "metadata": {},
   "outputs": [],
   "source": [
    "# Keep='all'\n",
    "print(\"nsmallest with keep='all':\")\n",
    "df.nsmallest(3, 'population', keep='all')"
   ]
  },
  {
   "cell_type": "code",
   "execution_count": null,
   "metadata": {},
   "outputs": [],
   "source": [
    "# Create a Series\n",
    "s = pd.Series([3, 2, 1, 5, 4])\n",
    "print(\"Series:\")\n",
    "print(s)\n",
    "\n",
    "# Get the 3 smallest values\n",
    "print(\"\\n3 smallest values:\")\n",
    "print(s.nsmallest(3))"
   ]
  },
  {
   "cell_type": "code",
   "execution_count": null,
   "metadata": {},
   "outputs": [],
   "source": [
    "# Compare nsmallest with sort_values().head()\n",
    "print(\"Using nsmallest(3, 'GDP'):\")\n",
    "print(df.nsmallest(3, 'GDP'))\n",
    "\n",
    "print(\"\\nUsing sort_values('GDP').head(3):\")\n",
    "print(df.sort_values('GDP').head(3))"
   ]
  },
  {
   "cell_type": "markdown",
   "metadata": {},
   "source": [
    "## 2. DataFrame.rank()\n",
    "\n",
    "The `rank()` method computes numerical data ranks along the specified axis. By default, equal values are assigned a rank that is the average of the ranks of those values."
   ]
  },
  {
   "cell_type": "code",
   "execution_count": null,
   "metadata": {},
   "outputs": [],
   "source": [
    "# Create a DataFrame with some duplicate values and NaN\n",
    "df = pd.DataFrame(data={\n",
    "    'Animal': ['cat', 'penguin', 'dog', 'spider', 'snake'],\n",
    "    'Number_legs': [4, 2, 4, 8, np.nan]\n",
    "})\n",
    "\n",
    "print(\"Animals DataFrame:\")\n",
    "df"
   ]
  },
  {
   "cell_type": "code",
   "execution_count": null,
   "metadata": {},
   "outputs": [],
   "source": [
    "# Default rank (method='average')\n",
    "df['default_rank'] = df['Number_legs'].rank()\n",
    "print(\"Default rank (method='average'):\")\n",
    "df"
   ]
  },
  {
   "cell_type": "code",
   "execution_count": null,
   "metadata": {},
   "outputs": [],
   "source": [
    "# Rank with method='max'\n",
    "df['max_rank'] = df['Number_legs'].rank(method='max')\n",
    "print(\"Rank with method='max':\")\n",
    "df"
   ]
  },
  {
   "cell_type": "code",
   "execution_count": null,
   "metadata": {},
   "outputs": [],
   "source": [
    "# Rank with na_option='bottom'\n",
    "df['NA_bottom'] = df['Number_legs'].rank(na_option='bottom')\n",
    "print(\"Rank with na_option='bottom':\")\n",
    "df"
   ]
  },
  {
   "cell_type": "code",
   "execution_count": null,
   "metadata": {},
   "outputs": [],
   "source": [
    "# Rank with pct=True (percentile rank)\n",
    "df['pct_rank'] = df['Number_legs'].rank(pct=True)\n",
    "print(\"Rank with pct=True (percentile rank):\")\n",
    "df"
   ]
  },
  {
   "cell_type": "code",
   "execution_count": null,
   "metadata": {},
   "outputs": [],
   "source": [
    "# Create a DataFrame to demonstrate different ranking methods\n",
    "df_methods = pd.DataFrame({\n",
    "    'values': [1, 2, 2, 3, 3, 3, 4, 5]\n",
    "})\n",
    "\n",
    "print(\"DataFrame with duplicate values:\")\n",
    "df_methods"
   ]
  },
  {
   "cell_type": "code",
   "execution_count": null,
   "metadata": {},
   "outputs": [],
   "source": [
    "# Demonstrate all ranking methods\n",
    "methods = ['average', 'min', 'max', 'first', 'dense']\n",
    "\n",
    "for method in methods:\n",
    "    df_methods[f'rank_{method}'] = df_methods['values'].rank(method=method)\n",
    "\n",
    "print(\"Comparison of different ranking methods:\")\n",
    "df_methods"
   ]
  },
  {
   "cell_type": "code",
   "execution_count": null,
   "metadata": {},
   "outputs": [],
   "source": [
    "# Explanation of each method\n",
    "print(\"Explanation of ranking methods:\")\n",
    "print(\"- average: average rank of the group (default)\")\n",
    "print(\"- min: lowest rank in the group\")\n",
    "print(\"- max: highest rank in the group\")\n",
    "print(\"- first: ranks assigned in order they appear in the array\")\n",
    "print(\"- dense: like 'min', but rank always increases by 1 between groups\")"
   ]
  },
  {
   "cell_type": "code",
   "execution_count": null,
   "metadata": {},
   "outputs": [],
   "source": [
    "# Demonstrate ranking with ascending=False\n",
    "df_methods['rank_desc'] = df_methods['values'].rank(ascending=False)\n",
    "print(\"Ranking with ascending=False:\")\n",
    "df_methods[['values', 'rank_desc']]"
   ]
  },
  {
   "cell_type": "code",
   "execution_count": null,
   "metadata": {},
   "outputs": [],
   "source": [
    "# Demonstrate ranking along different axes in a DataFrame\n",
    "df_axis = pd.DataFrame({\n",
    "    'A': [1, 2, 3, 4],\n",
    "    'B': [5, 4, 3, 2],\n",
    "    'C': [3, 3, 2, 1]\n",
    "})\n",
    "\n",
    "print(\"DataFrame for axis demonstration:\")\n",
    "df_axis"
   ]
  },
  {
   "cell_type": "code",
   "execution_count": null,
   "metadata": {},
   "outputs": [],
   "source": [
    "# Rank along axis=0 (default, rank within each column)\n",
    "print(\"Rank along axis=0 (within each column):\")\n",
    "df_axis.rank(axis=0)"
   ]
  },
  {
   "cell_type": "code",
   "execution_count": null,
   "metadata": {},
   "outputs": [],
   "source": [
    "# Rank along axis=1 (rank within each row)\n",
    "print(\"Rank along axis=1 (within each row):\")\n",
    "df_axis.rank(axis=1)"
   ]
  },
  {
   "cell_type": "code",
   "execution_count": null,
   "metadata": {},
   "outputs": [],
   "source": [
    "# Create a DataFrame with mixed data types\n",
    "df_mixed = pd.DataFrame({\n",
    "    'numeric': [1, 2, 3, 4],\n",
    "    'string': ['a', 'b', 'c', 'd']\n",
    "})\n",
    "\n",
    "print(\"DataFrame with mixed data types:\")\n",
    "df_mixed"
   ]
  },
  {
   "cell_type": "code",
   "execution_count": null,
   "metadata": {},
   "outputs": [],
   "source": [
    "# Rank with numeric_only=True\n",
    "try:\n",
    "    print(\"Rank with numeric_only=True:\")\n",
    "    df_mixed.rank(numeric_only=True)\n",
    "except Exception as e:\n",
    "    print(f\"Error: {e}\")"
   ]
  },
  {
   "cell_type": "markdown",
   "metadata": {},
   "source": [
    "## Summary\n",
    "\n",
    "In this notebook, we've explored two important DataFrame methods:\n",
    "\n",
    "1. **nsmallest()**: Returns the first n rows ordered by columns in ascending order. This method is useful for quickly finding the smallest values in a DataFrame. It's equivalent to `df.sort_values(columns, ascending=True).head(n)`, but more performant. The `keep` parameter controls how to handle duplicate values.\n",
    "\n",
    "2. **rank()**: Computes numerical data ranks along the specified axis. This method offers several options for handling ties (equal values) through the `method` parameter:\n",
    "   - 'average': average rank of the group (default)\n",
    "   - 'min': lowest rank in the group\n",
    "   - 'max': highest rank in the group\n",
    "   - 'first': ranks assigned in order they appear in the array\n",
    "   - 'dense': like 'min', but rank always increases by 1 between groups\n",
    "   \n",
    "   Additional parameters include:\n",
    "   - `na_option`: How to handle NaN values ('keep', 'top', or 'bottom')\n",
    "   - `ascending`: Whether to rank in ascending order (default) or descending order\n",
    "   - `pct`: Whether to return percentile ranks\n",
    "\n",
    "These methods are valuable for data analysis, particularly when you need to identify the smallest values in a dataset or assign ranks to values for statistical analysis."
   ]
  }
 ],
 "metadata": {
  "kernelspec": {
   "display_name": "Python 3",
   "language": "python",
   "name": "python3"
  },
  "language_info": {
   "codemirror_mode": {
    "name": "ipython",
    "version": 3
   },
   "file_extension": ".py",
   "mimetype": "text/x-python",
   "name": "python",
   "nbconvert_exporter": "python",
   "pygments_lexer": "ipython3",
   "version": "3.8.5"
  }
 },
 "nbformat": 4,
 "nbformat_minor": 4
}
