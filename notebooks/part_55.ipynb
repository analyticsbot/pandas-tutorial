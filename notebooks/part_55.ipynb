{
 "cells": [
  {
   "cell_type": "markdown",
   "metadata": {},
   "source": [
    "#### Pandas Tutorial - Part 55\n",
    "\n",
    "This notebook covers various plotting methods in pandas including:\n",
    "- Box plots with `plot.box()`\n",
    "- Density plots with `plot.density()`\n",
    "- Line plots with `plot.line()`\n",
    "- Pie charts with `plot.pie()`"
   ]
  },
  {
   "cell_type": "code",
   "execution_count": null,
   "metadata": {},
   "outputs": [],
   "source": [
    "import pandas as pd\n",
    "import numpy as np\n",
    "import matplotlib.pyplot as plt\n",
    "\n",
    "%matplotlib inline"
   ]
  },
  {
   "cell_type": "markdown",
   "metadata": {},
   "source": [
    "##### Box Plots with `plot.box()`\n",
    "\n",
    "Box plots are a method for graphically depicting groups of numerical data through their quartiles. The box extends from the Q1 to Q3 quartile values of the data, with a line at the median (Q2). The whiskers extend from the edges of the box to show the range of the data."
   ]
  },
  {
   "cell_type": "code",
   "execution_count": null,
   "metadata": {},
   "outputs": [],
   "source": [
    "# Create a DataFrame with random data\n",
    "np.random.seed(42)  # For reproducibility\n",
    "data = np.random.randn(25, 4)\n",
    "df = pd.DataFrame(data, columns=list('ABCD'))\n",
    "print(\"DataFrame with random data:\")\n",
    "print(df.head())"
   ]
  },
  {
   "cell_type": "code",
   "execution_count": null,
   "metadata": {},
   "outputs": [],
   "source": [
    "# Create a basic box plot\n",
    "ax = df.plot.box(title='Box Plot of Random Data')\n",
    "plt.grid(axis='y', linestyle='--', alpha=0.7)\n",
    "plt.show()"
   ]
  },
  {
   "cell_type": "code",
   "execution_count": null,
   "metadata": {},
   "outputs": [],
   "source": [
    "# Create a box plot with custom colors\n",
    "ax = df.plot.box(\n",
    "    title='Box Plot with Custom Colors',\n",
    "    color=dict(boxes='skyblue', whiskers='darkblue', medians='red', caps='green')\n",
    ")\n",
    "plt.grid(axis='y', linestyle='--', alpha=0.7)\n",
    "plt.show()"
   ]
  },
  {
   "cell_type": "code",
   "execution_count": null,
   "metadata": {},
   "outputs": [],
   "source": [
    "# Create a box plot for a single Series\n",
    "ax = df['A'].plot.box(title='Box Plot of Series A')\n",
    "plt.grid(axis='y', linestyle='--', alpha=0.7)\n",
    "plt.show()"
   ]
  },
  {
   "cell_type": "code",
   "execution_count": null,
   "metadata": {},
   "outputs": [],
   "source": [
    "# Create a DataFrame with non-normal distributions\n",
    "df_skewed = pd.DataFrame({\n",
    "    'normal': np.random.normal(0, 1, 100),\n",
    "    'right_skewed': np.random.exponential(1, 100),\n",
    "    'left_skewed': -np.random.exponential(1, 100),\n",
    "    'bimodal': np.concatenate([np.random.normal(-2, 0.5, 50), np.random.normal(2, 0.5, 50)])\n",
    "})\n",
    "print(\"DataFrame with various distributions:\")\n",
    "print(df_skewed.describe())"
   ]
  },
  {
   "cell_type": "code",
   "execution_count": null,
   "metadata": {},
   "outputs": [],
   "source": [
    "# Create a box plot for different distributions\n",
    "ax = df_skewed.plot.box(\n",
    "    title='Box Plot of Different Distributions',\n",
    "    figsize=(10, 6)\n",
    ")\n",
    "plt.grid(axis='y', linestyle='--', alpha=0.7)\n",
    "plt.show()"
   ]
  },
  {
   "cell_type": "markdown",
   "metadata": {},
   "source": [
    "##### Density Plots with `plot.density()`\n",
    "\n",
    "Density plots (also known as Kernel Density Estimation plots) are a way to estimate the probability density function of a random variable. They use Gaussian kernels and include automatic bandwidth determination."
   ]
  },
  {
   "cell_type": "code",
   "execution_count": null,
   "metadata": {},
   "outputs": [],
   "source": [
    "# Create a Series with random data\n",
    "np.random.seed(42)  # For reproducibility\n",
    "s = pd.Series(np.random.normal(0, 1, 100))\n",
    "print(\"Series with random data:\")\n",
    "print(s.head())"
   ]
  },
  {
   "cell_type": "code",
   "execution_count": null,
   "metadata": {},
   "outputs": [],
   "source": [
    "# Create a basic density plot\n",
    "ax = s.plot.density(title='Density Plot of Normal Distribution')\n",
    "plt.grid(linestyle='--', alpha=0.7)\n",
    "plt.show()"
   ]
  },
  {
   "cell_type": "code",
   "execution_count": null,
   "metadata": {},
   "outputs": [],
   "source": [
    "# Create density plots for different distributions\n",
    "ax = df_skewed.plot.density(\n",
    "    title='Density Plots of Different Distributions',\n",
    "    figsize=(10, 6)\n",
    ")\n",
    "plt.grid(linestyle='--', alpha=0.7)\n",
    "plt.legend(title='Distribution')\n",
    "plt.show()"
   ]
  },
  {
   "cell_type": "code",
   "execution_count": null,
   "metadata": {},
   "outputs": [],
   "source": [
    "# Create a density plot with small bandwidth (potential over-fitting)\n",
    "ax = df_skewed['normal'].plot.density(\n",
    "    bw_method=0.1,\n",
    "    title='Density Plot with Small Bandwidth (0.1)',\n",
    "    color='red'\n",
    ")\n",
    "plt.grid(linestyle='--', alpha=0.7)\n",
    "plt.show()"
   ]
  },
  {
   "cell_type": "code",
   "execution_count": null,
   "metadata": {},
   "outputs": [],
   "source": [
    "# Create a density plot with large bandwidth (potential under-fitting)\n",
    "ax = df_skewed['normal'].plot.density(\n",
    "    bw_method=1.0,\n",
    "    title='Density Plot with Large Bandwidth (1.0)',\n",
    "    color='blue'\n",
    ")\n",
    "plt.grid(linestyle='--', alpha=0.7)\n",
    "plt.show()"
   ]
  },
  {
   "cell_type": "code",
   "execution_count": null,
   "metadata": {},
   "outputs": [],
   "source": [
    "# Create a density plot with custom evaluation points\n",
    "ax = df_skewed['normal'].plot.density(\n",
    "    ind=np.linspace(-4, 4, 20),  # 20 evaluation points between -4 and 4\n",
    "    title='Density Plot with Custom Evaluation Points',\n",
    "    color='green'\n",
    ")\n",
    "plt.grid(linestyle='--', alpha=0.7)\n",
    "plt.show()"
   ]
  },
  {
   "cell_type": "markdown",
   "metadata": {},
   "source": [
    "##### Line Plots with `plot.line()`\n",
    "\n",
    "Line plots are useful for visualizing trends over time or other continuous variables."
   ]
  },
  {
   "cell_type": "code",
   "execution_count": null,
   "metadata": {},
   "outputs": [],
   "source": [
    "# Create a simple Series\n",
    "s = pd.Series([1, 3, 2])\n",
    "print(\"Simple Series:\")\n",
    "print(s)"
   ]
  },
  {
   "cell_type": "code",
   "execution_count": null,
   "metadata": {},
   "outputs": [],
   "source": [
    "# Create a basic line plot\n",
    "ax = s.plot.line(title='Basic Line Plot')\n",
    "plt.grid(linestyle='--', alpha=0.7)\n",
    "plt.show()"
   ]
  },
  {
   "cell_type": "code",
   "execution_count": null,
   "metadata": {},
   "outputs": [],
   "source": [
    "# Create a DataFrame with animal populations over years\n",
    "df_animals = pd.DataFrame({\n",
    "    'pig': [20, 18, 489, 675, 1776],\n",
    "    'horse': [4, 25, 281, 600, 1900]\n",
    "}, index=[1990, 1997, 2003, 2009, 2014])\n",
    "print(\"Animal populations over years:\")\n",
    "print(df_animals)"
   ]
  },
  {
   "cell_type": "code",
   "execution_count": null,
   "metadata": {},
   "outputs": [],
   "source": [
    "# Create a line plot for the DataFrame\n",
    "ax = df_animals.plot.line(\n",
    "    title='Animal Populations Over Years',\n",
    "    figsize=(10, 6),\n",
    "    marker='o'\n",
    ")\n",
    "plt.xlabel('Year')\n",
    "plt.ylabel('Population')\n",
    "plt.grid(linestyle='--', alpha=0.7)\n",
    "plt.show()"
   ]
  },
  {
   "cell_type": "code",
   "execution_count": null,
   "metadata": {},
   "outputs": [],
   "source": [
    "# Create line plots as subplots\n",
    "axes = df_animals.plot.line(\n",
    "    subplots=True,\n",
    "    figsize=(10, 8),\n",
    "    marker='o',\n",
    "    layout=(2, 1)\n",
    ")\n",
    "axes[0].set_title('Pig Population Over Years')\n",
    "axes[0].set_ylabel('Population')\n",
    "axes[1].set_title('Horse Population Over Years')\n",
    "axes[1].set_ylabel('Population')\n",
    "axes[1].set_xlabel('Year')\n",
    "plt.tight_layout()\n",
    "plt.show()"
   ]
  },
  {
   "cell_type": "code",
   "execution_count": null,
   "metadata": {},
   "outputs": [],
   "source": [
    "# Create a line plot with one column vs. another\n",
    "ax = df_animals.plot.line(\n",
    "    x='pig',\n",
    "    y='horse',\n",
    "    title='Horse Population vs. Pig Population',\n",
    "    figsize=(8, 6),\n",
    "    marker='o',\n",
    "    color='purple'\n",
    ")\n",
    "plt.xlabel('Pig Population')\n",
    "plt.ylabel('Horse Population')\n",
    "plt.grid(linestyle='--', alpha=0.7)\n",
    "plt.show()"
   ]
  },
  {
   "cell_type": "markdown",
   "metadata": {},
   "source": [
    "##### Pie Charts with `plot.pie()`\n",
    "\n",
    "Pie charts are a proportional representation of the numerical data in a column."
   ]
  },
  {
   "cell_type": "code",
   "execution_count": null,
   "metadata": {},
   "outputs": [],
   "source": [
    "# Create a Series for a pie chart\n",
    "s = pd.Series([25, 35, 15, 25], index=['Apples', 'Bananas', 'Cherries', 'Dates'], name='Fruits')\n",
    "print(\"Series for pie chart:\")\n",
    "print(s)"
   ]
  },
  {
   "cell_type": "code",
   "execution_count": null,
   "metadata": {},
   "outputs": [],
   "source": [
    "# Create a basic pie chart\n",
    "ax = s.plot.pie(\n",
    "    title='Fruit Distribution',\n",
    "    figsize=(8, 8)\n",
    ")\n",
    "plt.show()"
   ]
  },
  {
   "cell_type": "code",
   "execution_count": null,
   "metadata": {},
   "outputs": [],
   "source": [
    "# Create a pie chart with custom colors and labels\n",
    "ax = s.plot.pie(\n",
    "    title='Fruit Distribution',\n",
    "    figsize=(8, 8),\n",
    "    colors=['red', 'yellow', 'purple', 'green'],\n",
    "    labels=['Apples (25%)', 'Bananas (35%)', 'Cherries (15%)', 'Dates (25%)'],\n",
    "    autopct='%.1f%%',\n",
    "    shadow=True,\n",
    "    explode=[0, 0.1, 0, 0]  # Explode the second slice (Bananas)\n",
    ")\n",
    "plt.show()"
   ]
  },
  {
   "cell_type": "code",
   "execution_count": null,
   "metadata": {},
   "outputs": [],
   "source": [
    "# Create a DataFrame for pie charts\n",
    "df_fruits = pd.DataFrame({\n",
    "    'Fruits': [25, 35, 15, 25],\n",
    "    'Vegetables': [20, 30, 25, 25]\n",
    "}, index=['Store 1', 'Store 2', 'Store 3', 'Store 4'])\n",
    "print(\"DataFrame for pie charts:\")\n",
    "print(df_fruits)"
   ]
  },
  {
   "cell_type": "code",
   "execution_count": null,
   "metadata": {},
   "outputs": [],
   "source": [
    "# Create pie charts as subplots\n",
    "axes = df_fruits.plot.pie(\n",
    "    subplots=True,\n",
    "    figsize=(12, 6),\n",
    "    autopct='%.1f%%',\n",
    "    layout=(1, 2)\n",
    ")\n",
    "axes[0].set_title('Fruit Distribution by Store')\n",
    "axes[1].set_title('Vegetable Distribution by Store')\n",
    "plt.tight_layout()\n",
    "plt.show()"
   ]
  },
  {
   "cell_type": "markdown",
   "metadata": {},
   "source": [
    "##### Conclusion\n",
    "\n",
    "In this notebook, we've explored various plotting methods in pandas:\n",
    "\n",
    "1. **Box Plots (`plot.box()`)**: Useful for visualizing the distribution of data through quartiles, identifying outliers, and comparing distributions across different groups.\n",
    "\n",
    "2. **Density Plots (`plot.density()`)**: Helpful for visualizing the distribution of continuous data, estimating probability density functions, and comparing different distributions.\n",
    "\n",
    "3. **Line Plots (`plot.line()`)**: Excellent for visualizing trends over time, relationships between variables, and continuous data series.\n",
    "\n",
    "4. **Pie Charts (`plot.pie()`)**: Good for showing proportional or percentage data, especially when the number of categories is small.\n",
    "\n",
    "These plotting methods are built on top of matplotlib and provide a convenient interface for visualizing pandas data structures. They offer a wide range of customization options and are essential tools for exploratory data analysis and data visualization in pandas."
   ]
  }
 ],
 "metadata": {
  "kernelspec": {
   "display_name": "Python 3",
   "language": "python",
   "name": "python3"
  },
  "language_info": {
   "codemirror_mode": {
    "name": "ipython",
    "version": 3
   },
   "file_extension": ".py",
   "mimetype": "text/x-python",
   "name": "python",
   "nbconvert_exporter": "python",
   "pygments_lexer": "ipython3",
   "version": "3.8.5"
  }
 },
 "nbformat": 4,
 "nbformat_minor": 4
}