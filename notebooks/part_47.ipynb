{
 "cells": [
  {
   "cell_type": "markdown",
   "metadata": {},
   "source": [
    "# Pandas Tutorial - Part 47\n",
    "\n",
    "This notebook covers various Series methods including:\n",
    "- Standard error of the mean with `sem()`\n",
    "- Setting axis labels with `set_axis()`\n",
    "- Shifting data with `shift()`"
   ]
  },
  {
   "cell_type": "code",
   "execution_count": null,
   "metadata": {},
   "outputs": [],
   "source": [
    "import pandas as pd\n",
    "import numpy as np\n",
    "import matplotlib.pyplot as plt\n",
    "\n",
    "%matplotlib inline"
   ]
  },
  {
   "cell_type": "markdown",
   "metadata": {},
   "source": [
    "## Standard Error of the Mean\n",
    "\n",
    "The `sem()` method calculates the standard error of the mean of a Series."
   ]
  },
  {
   "cell_type": "code",
   "execution_count": null,
   "metadata": {},
   "outputs": [],
   "source": [
    "# Create a Series with sample data\n",
    "s = pd.Series([1, 2, 3, 4, 5, 6, 7, 8, 9, 10])\n",
    "print(\"Sample data:\")\n",
    "print(s)"
   ]
  },
  {
   "cell_type": "code",
   "execution_count": null,
   "metadata": {},
   "outputs": [],
   "source": [
    "# Calculate the mean\n",
    "mean = s.mean()\n",
    "print(f\"Mean: {mean}\")"
   ]
  },
  {
   "cell_type": "code",
   "execution_count": null,
   "metadata": {},
   "outputs": [],
   "source": [
    "# Calculate the standard deviation\n",
    "std = s.std()\n",
    "print(f\"Standard deviation: {std}\")"
   ]
  },
  {
   "cell_type": "code",
   "execution_count": null,
   "metadata": {},
   "outputs": [],
   "source": [
    "# Calculate the standard error of the mean\n",
    "sem = s.sem()\n",
    "print(f\"Standard error of the mean: {sem}\")"
   ]
  },
  {
   "cell_type": "code",
   "execution_count": null,
   "metadata": {},
   "outputs": [],
   "source": [
    "# Verify the calculation: SEM = std / sqrt(n)\n",
    "manual_sem = s.std() / np.sqrt(len(s))\n",
    "print(f\"Manually calculated SEM: {manual_sem}\")"
   ]
  },
  {
   "cell_type": "code",
   "execution_count": null,
   "metadata": {},
   "outputs": [],
   "source": [
    "# Create a Series with missing values\n",
    "s_with_nan = pd.Series([1, 2, 3, np.nan, 5, 6, np.nan, 8, 9, 10])\n",
    "print(\"Series with missing values:\")\n",
    "print(s_with_nan)"
   ]
  },
  {
   "cell_type": "code",
   "execution_count": null,
   "metadata": {},
   "outputs": [],
   "source": [
    "# Calculate SEM with skipna=True (default)\n",
    "sem_skipna = s_with_nan.sem()\n",
    "print(f\"SEM with skipna=True: {sem_skipna}\")"
   ]
  },
  {
   "cell_type": "code",
   "execution_count": null,
   "metadata": {},
   "outputs": [],
   "source": [
    "# Calculate SEM with skipna=False\n",
    "sem_no_skipna = s_with_nan.sem(skipna=False)\n",
    "print(f\"SEM with skipna=False: {sem_no_skipna}\")"
   ]
  },
  {
   "cell_type": "code",
   "execution_count": null,
   "metadata": {},
   "outputs": [],
   "source": [
    "# Calculate SEM with different ddof values\n",
    "sem_ddof0 = s.sem(ddof=0)\n",
    "sem_ddof1 = s.sem(ddof=1)  # default\n",
    "sem_ddof2 = s.sem(ddof=2)\n",
    "\n",
    "print(f\"SEM with ddof=0: {sem_ddof0}\")\n",
    "print(f\"SEM with ddof=1 (default): {sem_ddof1}\")\n",
    "print(f\"SEM with ddof=2: {sem_ddof2}\")"
   ]
  },
  {
   "cell_type": "markdown",
   "metadata": {},
   "source": [
    "## Setting Axis Labels\n",
    "\n",
    "The `set_axis()` method assigns desired labels to a given axis."
   ]
  },
  {
   "cell_type": "code",
   "execution_count": null,
   "metadata": {},
   "outputs": [],
   "source": [
    "# Create a Series\n",
    "s = pd.Series([1, 2, 3])\n",
    "print(\"Original Series:\")\n",
    "print(s)"
   ]
  },
  {
   "cell_type": "code",
   "execution_count": null,
   "metadata": {},
   "outputs": [],
   "source": [
    "# Set new axis labels\n",
    "s_new_labels = s.set_axis(['a', 'b', 'c'], axis=0)\n",
    "print(\"Series with new labels:\")\n",
    "print(s_new_labels)"
   ]
  },
  {
   "cell_type": "code",
   "execution_count": null,
   "metadata": {},
   "outputs": [],
   "source": [
    "# Set new axis labels in-place\n",
    "s_inplace = s.copy()\n",
    "s_inplace.set_axis(['x', 'y', 'z'], axis=0, inplace=True)\n",
    "print(\"Series after in-place label change:\")\n",
    "print(s_inplace)"
   ]
  },
  {
   "cell_type": "code",
   "execution_count": null,
   "metadata": {},
   "outputs": [],
   "source": [
    "# Create a DataFrame\n",
    "df = pd.DataFrame({\"A\": [1, 2, 3], \"B\": [4, 5, 6]})\n",
    "print(\"Original DataFrame:\")\n",
    "print(df)"
   ]
  },
  {
   "cell_type": "code",
   "execution_count": null,
   "metadata": {},
   "outputs": [],
   "source": [
    "# Change row labels\n",
    "df_row_labels = df.set_axis(['a', 'b', 'c'], axis='index')\n",
    "print(\"DataFrame with new row labels:\")\n",
    "print(df_row_labels)"
   ]
  },
  {
   "cell_type": "code",
   "execution_count": null,
   "metadata": {},
   "outputs": [],
   "source": [
    "# Change column labels\n",
    "df_col_labels = df.set_axis(['I', 'II'], axis='columns')\n",
    "print(\"DataFrame with new column labels:\")\n",
    "print(df_col_labels)"
   ]
  },
  {
   "cell_type": "code",
   "execution_count": null,
   "metadata": {},
   "outputs": [],
   "source": [
    "# Change column labels in-place\n",
    "df_inplace = df.copy()\n",
    "df_inplace.set_axis(['X', 'Y'], axis='columns', inplace=True)\n",
    "print(\"DataFrame after in-place column label change:\")\n",
    "print(df_inplace)"
   ]
  },
  {
   "cell_type": "markdown",
   "metadata": {},
   "source": [
    "## Shifting Data\n",
    "\n",
    "The `shift()` method shifts the index by a desired number of periods."
   ]
  },
  {
   "cell_type": "code",
   "execution_count": null,
   "metadata": {},
   "outputs": [],
   "source": [
    "# Create a Series\n",
    "s = pd.Series([1, 2, 3, 4, 5])\n",
    "print(\"Original Series:\")\n",
    "print(s)"
   ]
  },
  {
   "cell_type": "code",
   "execution_count": null,
   "metadata": {},
   "outputs": [],
   "source": [
    "# Shift data by 1 period (default)\n",
    "s_shift1 = s.shift()\n",
    "print(\"Series shifted by 1 period:\")\n",
    "print(s_shift1)"
   ]
  },
  {
   "cell_type": "code",
   "execution_count": null,
   "metadata": {},
   "outputs": [],
   "source": [
    "# Shift data by 2 periods\n",
    "s_shift2 = s.shift(periods=2)\n",
    "print(\"Series shifted by 2 periods:\")\n",
    "print(s_shift2)"
   ]
  },
  {
   "cell_type": "code",
   "execution_count": null,
   "metadata": {},
   "outputs": [],
   "source": [
    "# Shift data backward by 1 period\n",
    "s_shift_neg1 = s.shift(periods=-1)\n",
    "print(\"Series shifted backward by 1 period:\")\n",
    "print(s_shift_neg1)"
   ]
  },
  {
   "cell_type": "code",
   "execution_count": null,
   "metadata": {},
   "outputs": [],
   "source": [
    "# Shift with a custom fill value\n",
    "s_shift_fill = s.shift(periods=2, fill_value=0)\n",
    "print(\"Series shifted by 2 periods with fill_value=0:\")\n",
    "print(s_shift_fill)"
   ]
  },
  {
   "cell_type": "code",
   "execution_count": null,
   "metadata": {},
   "outputs": [],
   "source": [
    "# Create a Series with datetime index\n",
    "date_s = pd.Series([1, 2, 3, 4], index=pd.date_range('2023-01-01', periods=4))\n",
    "print(\"Series with datetime index:\")\n",
    "print(date_s)"
   ]
  },
  {
   "cell_type": "code",
   "execution_count": null,
   "metadata": {},
   "outputs": [],
   "source": [
    "# Shift with frequency\n",
    "date_s_freq = date_s.shift(periods=1, freq='D')\n",
    "print(\"Series shifted by 1 day:\")\n",
    "print(date_s_freq)"
   ]
  },
  {
   "cell_type": "code",
   "execution_count": null,
   "metadata": {},
   "outputs": [],
   "source": [
    "# Shift with different frequencies\n",
    "print(\"Series shifted by 2 days:\")\n",
    "print(date_s.shift(periods=2, freq='D'))\n",
    "\n",
    "print(\"\\nSeries shifted by 1 week:\")\n",
    "print(date_s.shift(periods=1, freq='W'))\n",
    "\n",
    "print(\"\\nSeries shifted by 1 month:\")\n",
    "print(date_s.shift(periods=1, freq='M'))"
   ]
  },
  {
   "cell_type": "code",
   "execution_count": null,
   "metadata": {},
   "outputs": [],
   "source": [
    "# Create a DataFrame\n",
    "df = pd.DataFrame({'A': [1, 2, 3, 4], 'B': [5, 6, 7, 8]})\n",
    "print(\"Original DataFrame:\")\n",
    "print(df)"
   ]
  },
  {
   "cell_type": "code",
   "execution_count": null,
   "metadata": {},
   "outputs": [],
   "source": [
    "# Shift all columns\n",
    "df_shift = df.shift()\n",
    "print(\"DataFrame with all columns shifted:\")\n",
    "print(df_shift)"
   ]
  },
  {
   "cell_type": "code",
   "execution_count": null,
   "metadata": {},
   "outputs": [],
   "source": [
    "# Shift only one column\n",
    "df_col_shift = df.copy()\n",
    "df_col_shift['A'] = df_col_shift['A'].shift()\n",
    "print(\"DataFrame with only column A shifted:\")\n",
    "print(df_col_shift)"
   ]
  },
  {
   "cell_type": "markdown",
   "metadata": {},
   "source": [
    "## Applications of Shifting Data\n",
    "\n",
    "Shifting data is particularly useful for time series analysis and calculating differences or percentage changes."
   ]
  },
  {
   "cell_type": "code",
   "execution_count": null,
   "metadata": {},
   "outputs": [],
   "source": [
    "# Create a Series with stock prices\n",
    "stock_prices = pd.Series([100, 102, 104, 103, 105, 107, 108], \n",
    "                         index=pd.date_range('2023-01-01', periods=7))\n",
    "print(\"Stock prices:\")\n",
    "print(stock_prices)"
   ]
  },
  {
   "cell_type": "code",
   "execution_count": null,
   "metadata": {},
   "outputs": [],
   "source": [
    "# Calculate daily price difference\n",
    "daily_diff = stock_prices - stock_prices.shift(1)\n",
    "print(\"Daily price difference:\")\n",
    "print(daily_diff)"
   ]
  },
  {
   "cell_type": "code",
   "execution_count": null,
   "metadata": {},
   "outputs": [],
   "source": [
    "# Calculate daily percentage change\n",
    "daily_pct_change = stock_prices.pct_change()\n",
    "print(\"Daily percentage change:\")\n",
    "print(daily_pct_change)"
   ]
  },
  {
   "cell_type": "code",
   "execution_count": null,
   "metadata": {},
   "outputs": [],
   "source": [
    "# Calculate moving average\n",
    "def moving_average(data, window):\n",
    "    return data.rolling(window=window).mean()\n",
    "\n",
    "ma3 = moving_average(stock_prices, 3)\n",
    "print(\"3-day moving average:\")\n",
    "print(ma3)"
   ]
  },
  {
   "cell_type": "code",
   "execution_count": null,
   "metadata": {},
   "outputs": [],
   "source": [
    "# Plot stock prices and moving average\n",
    "plt.figure(figsize=(10, 6))\n",
    "plt.plot(stock_prices.index, stock_prices, label='Stock Price')\n",
    "plt.plot(ma3.index, ma3, label='3-day MA')\n",
    "plt.title('Stock Price and Moving Average')\n",
    "plt.xlabel('Date')\n",
    "plt.ylabel('Price')\n",
    "plt.legend()\n",
    "plt.grid(True)\n",
    "plt.show()"
   ]
  },
  {
   "cell_type": "markdown",
   "metadata": {},
   "source": [
    "## Conclusion\n",
    "\n",
    "In this notebook, we've explored various Series methods in pandas:\n",
    "\n",
    "1. Standard error of the mean with `sem()`, which calculates the standard error of the mean of a Series with options for handling missing values and degrees of freedom.\n",
    "2. Setting axis labels with `set_axis()`, which assigns new labels to a given axis in a Series or DataFrame.\n",
    "3. Shifting data with `shift()`, which shifts the index by a desired number of periods with options for custom fill values and frequency.\n",
    "\n",
    "We also explored practical applications of shifting data, such as calculating differences, percentage changes, and moving averages, which are particularly useful for time series analysis.\n",
    "\n",
    "These methods are essential tools for data manipulation and analysis in pandas, allowing for flexible and powerful operations on your data."
   ]
  }
 ],
 "metadata": {
  "kernelspec": {
   "display_name": "Python 3",
   "language": "python",
   "name": "python3"
  },
  "language_info": {
   "codemirror_mode": {
    "name": "ipython",
    "version": 3
   },
   "file_extension": ".py",
   "mimetype": "text/x-python",
   "name": "python",
   "nbconvert_exporter": "python",
   "pygments_lexer": "ipython3",
   "version": "3.8.5"
  }
 },
 "nbformat": 4,
 "nbformat_minor": 4
}
