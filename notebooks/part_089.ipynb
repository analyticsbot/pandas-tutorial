{
 "cells": [
  {
   "cell_type": "markdown",
   "metadata": {},
   "source": [
    "#### Pandas GroupBy and Resampling Methods - Part 89\n",
    "\n",
    "This notebook covers important methods for DataFrameGroupBy objects and Resampler objects, focusing on data manipulation and time series operations."
   ]
  },
  {
   "cell_type": "code",
   "execution_count": null,
   "metadata": {},
   "source": [
    "import pandas as pd\n",
    "import numpy as np\n",
    "import matplotlib.pyplot as plt"
   ]
  },
  {
   "cell_type": "markdown",
   "metadata": {},
   "source": [
    "##### DataFrame.diff() Method\n",
    "\n",
    "The `diff()` method calculates the difference between elements in a DataFrame or Series. It's useful for computing discrete differences, especially in time series data."
   ]
  },
  {
   "cell_type": "code",
   "execution_count": null,
   "metadata": {},
   "source": [
    "# Create a sample DataFrame\n",
    "df = pd.DataFrame({\n",
    "    'a': [1, 2, 3, 4, 5, 6],\n",
    "    'b': [1, 1, 2, 3, 5, 8],\n",
    "    'c': [1, 4, 9, 16, 25, 36]\n",
    "})\n",
    "print(\"Original DataFrame:\")\n",
    "print(df)"
   ]
  },
  {
   "cell_type": "code",
   "execution_count": null,
   "metadata": {},
   "source": [
    "# Calculate the difference with previous row (default)\n",
    "print(\"\\nDifference with previous row (default):\")\n",
    "print(df.diff())"
   ]
  },
  {
   "cell_type": "code",
   "execution_count": null,
   "metadata": {},
   "source": [
    "# Calculate the difference with 3rd previous row\n",
    "print(\"\\nDifference with 3rd previous row:\")\n",
    "print(df.diff(periods=3))"
   ]
  },
  {
   "cell_type": "code",
   "execution_count": null,
   "metadata": {},
   "source": [
    "# Calculate the difference with following row\n",
    "print(\"\\nDifference with following row:\")\n",
    "print(df.diff(periods=-1))"
   ]
  },
  {
   "cell_type": "markdown",
   "metadata": {},
   "source": [
    "##### DataFrameGroupBy Methods\n",
    "\n",
    "When you group data using `groupby()`, you get a DataFrameGroupBy object that provides various methods for manipulating and analyzing grouped data."
   ]
  },
  {
   "cell_type": "code",
   "execution_count": null,
   "metadata": {},
   "source": [
    "# Create a sample DataFrame with groups\n",
    "df_group = pd.DataFrame({\n",
    "    'A': ['foo', 'bar', 'foo', 'bar', 'foo', 'bar'],\n",
    "    'B': [1, 2, np.nan, np.nan, 5, 6],\n",
    "    'C': [np.nan, np.nan, 3, 4, 5, 6]\n",
    "})\n",
    "print(\"DataFrame with groups:\")\n",
    "print(df_group)"
   ]
  },
  {
   "cell_type": "code",
   "execution_count": null,
   "metadata": {},
   "source": [
    "# Group by column 'A'\n",
    "grouped = df_group.groupby('A')\n",
    "print(\"\\nGrouped by column 'A':\")\n",
    "for name, group in grouped:\n",
    "    print(f\"\\nGroup: {name}\")\n",
    "    print(group)"
   ]
  },
  {
   "cell_type": "markdown",
   "metadata": {},
   "source": [
    "### DataFrameGroupBy.ffill() - Forward Fill\n",
    "\n",
    "The `ffill()` method fills NA/NaN values by propagating the last valid observation forward within each group."
   ]
  },
  {
   "cell_type": "code",
   "execution_count": null,
   "metadata": {},
   "source": [
    "# Forward fill NA values within each group\n",
    "filled_ffill = grouped.ffill()\n",
    "print(\"Forward filled values within groups:\")\n",
    "print(filled_ffill)"
   ]
  },
  {
   "cell_type": "code",
   "execution_count": null,
   "metadata": {},
   "source": [
    "# Forward fill with limit\n",
    "filled_ffill_limit = grouped.ffill(limit=1)\n",
    "print(\"\\nForward filled values with limit=1:\")\n",
    "print(filled_ffill_limit)"
   ]
  },
  {
   "cell_type": "markdown",
   "metadata": {},
   "source": [
    "### DataFrameGroupBy.fillna() - Fill NA Values\n",
    "\n",
    "The `fillna()` method fills NA/NaN values using the specified method or value within each group."
   ]
  },
  {
   "cell_type": "code",
   "execution_count": null,
   "metadata": {},
   "source": [
    "# Fill NA values with a specific value\n",
    "filled_value = grouped.fillna(value=0)\n",
    "print(\"NA values filled with 0 within groups:\")\n",
    "print(filled_value)"
   ]
  },
  {
   "cell_type": "code",
   "execution_count": null,
   "metadata": {},
   "source": [
    "# Fill NA values using the 'backfill' method\n",
    "filled_bfill = grouped.fillna(method='bfill')\n",
    "print(\"\\nNA values filled using backfill within groups:\")\n",
    "print(filled_bfill)"
   ]
  },
  {
   "cell_type": "markdown",
   "metadata": {},
   "source": [
    "##### Resampling Methods\n",
    "\n",
    "Resampling is a time series-specific operation that allows you to change the frequency of your time series data. The `resample()` method returns a Resampler object that provides various methods for aggregating and transforming time series data."
   ]
  },
  {
   "cell_type": "code",
   "execution_count": null,
   "metadata": {},
   "source": [
    "# Create a sample time series\n",
    "dates = pd.date_range('20230101', periods=10, freq='D')\n",
    "ts = pd.Series(np.random.randn(10), index=dates)\n",
    "print(\"Original time series:\")\n",
    "print(ts)"
   ]
  },
  {
   "cell_type": "markdown",
   "metadata": {},
   "source": [
    "### Resampler.aggregate() / Resampler.agg() - Aggregate Resampled Data\n",
    "\n",
    "The `aggregate()` (or `agg()`) method allows you to apply one or more aggregation functions to the resampled data."
   ]
  },
  {
   "cell_type": "code",
   "execution_count": null,
   "metadata": {},
   "source": [
    "# Resample to 3-day frequency and calculate the sum\n",
    "resampled_sum = ts.resample('3D').agg(np.sum)\n",
    "print(\"\\nResampled to 3-day frequency (sum):\")\n",
    "print(resampled_sum)"
   ]
  },
  {
   "cell_type": "code",
   "execution_count": null,
   "metadata": {},
   "source": [
    "# Resample to 3-day frequency and apply multiple aggregation functions\n",
    "resampled_multi = ts.resample('3D').agg(['sum', 'mean', 'std', 'max'])\n",
    "print(\"\\nResampled to 3-day frequency (multiple aggregations):\")\n",
    "print(resampled_multi)"
   ]
  },
  {
   "cell_type": "code",
   "execution_count": null,
   "metadata": {},
   "source": [
    "# Resample to 3-day frequency and apply custom aggregations\n",
    "resampled_custom = ts.resample('3D').agg({\n",
    "    'result': lambda x: x.mean() / x.std() if x.std() != 0 else np.nan,\n",
    "    'total': np.sum\n",
    "})\n",
    "print(\"\\nResampled to 3-day frequency (custom aggregations):\")\n",
    "print(resampled_custom)"
   ]
  },
  {
   "cell_type": "markdown",
   "metadata": {},
   "source": [
    "### Resampler.transform() - Transform Resampled Data\n",
    "\n",
    "The `transform()` method applies a function to each group and returns a Series with the transformed values."
   ]
  },
  {
   "cell_type": "code",
   "execution_count": null,
   "metadata": {},
   "source": [
    "# Resample to 3-day frequency and standardize the values within each group\n",
    "resampled_transform = ts.resample('3D').transform(lambda x: (x - x.mean()) / x.std() if x.std() != 0 else 0)\n",
    "print(\"\\nResampled and standardized values:\")\n",
    "print(resampled_transform)"
   ]
  },
  {
   "cell_type": "markdown",
   "metadata": {},
   "source": [
    "### Resampler.pipe() - Chain Operations\n",
    "\n",
    "The `pipe()` method allows you to chain operations on a Resampler object, improving readability."
   ]
  },
  {
   "cell_type": "code",
   "execution_count": null,
   "metadata": {},
   "source": [
    "# Define custom functions\n",
    "def add_mean_column(df):\n",
    "    df['mean'] = df.mean(axis=1)\n",
    "    return df\n",
    "\n",
    "def add_std_column(df):\n",
    "    df['std'] = df.std(axis=1)\n",
    "    return df\n",
    "\n",
    "# Create a DataFrame with multiple time series\n",
    "df_ts = pd.DataFrame({\n",
    "    'A': np.random.randn(10),\n",
    "    'B': np.random.randn(10),\n",
    "    'C': np.random.randn(10)\n",
    "}, index=dates)\n",
    "print(\"DataFrame with multiple time series:\")\n",
    "print(df_ts)"
   ]
  },
  {
   "cell_type": "code",
   "execution_count": null,
   "metadata": {},
   "source": [
    "# Use pipe to chain operations\n",
    "result = (df_ts.resample('3D')\n",
    "          .mean()\n",
    "          .pipe(add_mean_column)\n",
    "          .pipe(add_std_column))\n",
    "print(\"\\nResampled and processed using pipe:\")\n",
    "print(result)"
   ]
  },
  {
   "cell_type": "markdown",
   "metadata": {},
   "source": [
    "##### Practical Example: Financial Time Series Analysis"
   ]
  },
  {
   "cell_type": "code",
   "execution_count": null,
   "metadata": {},
   "source": [
    "# Create a sample financial time series\n",
    "dates = pd.date_range('20230101', periods=30, freq='D')\n",
    "np.random.seed(42)  # For reproducibility\n",
    "stock_prices = pd.DataFrame({\n",
    "    'Stock A': 100 + np.cumsum(np.random.normal(0.1, 1, 30)),\n",
    "    'Stock B': 100 + np.cumsum(np.random.normal(0.05, 1.2, 30)),\n",
    "    'Stock C': 100 + np.cumsum(np.random.normal(0.2, 0.8, 30))\n",
    "}, index=dates)\n",
    "print(\"Stock prices:\")\n",
    "print(stock_prices.head())"
   ]
  },
  {
   "cell_type": "code",
   "execution_count": null,
   "metadata": {},
   "source": [
    "# Calculate daily returns\n",
    "daily_returns = stock_prices.pct_change().dropna()\n",
    "print(\"\\nDaily returns:\")\n",
    "print(daily_returns.head())"
   ]
  },
  {
   "cell_type": "code",
   "execution_count": null,
   "metadata": {},
   "source": [
    "# Resample to weekly frequency and calculate various statistics\n",
    "weekly_stats = daily_returns.resample('W').agg(['mean', 'std', 'min', 'max'])\n",
    "print(\"\\nWeekly return statistics:\")\n",
    "print(weekly_stats)"
   ]
  },
  {
   "cell_type": "code",
   "execution_count": null,
   "metadata": {},
   "source": [
    "# Calculate cumulative returns\n",
    "cumulative_returns = (1 + daily_returns).cumprod() - 1\n",
    "print(\"\\nCumulative returns:\")\n",
    "print(cumulative_returns.tail())"
   ]
  },
  {
   "cell_type": "code",
   "execution_count": null,
   "metadata": {},
   "source": [
    "# Visualize stock prices\n",
    "plt.figure(figsize=(12, 6))\n",
    "stock_prices.plot()\n",
    "plt.title('Stock Prices')\n",
    "plt.xlabel('Date')\n",
    "plt.ylabel('Price')\n",
    "plt.grid(True)\n",
    "plt.tight_layout()\n",
    "plt.show()"
   ]
  },
  {
   "cell_type": "code",
   "execution_count": null,
   "metadata": {},
   "source": [
    "# Visualize cumulative returns\n",
    "plt.figure(figsize=(12, 6))\n",
    "cumulative_returns.plot()\n",
    "plt.title('Cumulative Returns')\n",
    "plt.xlabel('Date')\n",
    "plt.ylabel('Cumulative Return')\n",
    "plt.grid(True)\n",
    "plt.tight_layout()\n",
    "plt.show()"
   ]
  },
  {
   "cell_type": "code",
   "execution_count": null,
   "metadata": {},
   "source": [
    "# Calculate rolling statistics\n",
    "rolling_mean = stock_prices.rolling(window=7).mean()\n",
    "rolling_std = stock_prices.rolling(window=7).std()\n",
    "\n",
    "# Visualize rolling statistics for Stock A\n",
    "plt.figure(figsize=(12, 6))\n",
    "plt.plot(stock_prices['Stock A'], label='Stock A')\n",
    "plt.plot(rolling_mean['Stock A'], label='7-day Moving Average')\n",
    "plt.fill_between(rolling_std.index, \n",
    "                 rolling_mean['Stock A'] - rolling_std['Stock A'],\n",
    "                 rolling_mean['Stock A'] + rolling_std['Stock A'],\n",
    "                 alpha=0.2)\n",
    "plt.title('Stock A with 7-day Moving Average and Standard Deviation')\n",
    "plt.xlabel('Date')\n",
    "plt.ylabel('Price')\n",
    "plt.legend()\n",
    "plt.grid(True)\n",
    "plt.tight_layout()\n",
    "plt.show()"
   ]
  }
 ],
 "metadata": {
  "kernelspec": {
   "display_name": "Python 3",
   "language": "python",
   "name": "python3"
  },
  "language_info": {
   "codemirror_mode": {
    "name": "ipython",
    "version": 3
   },
   "file_extension": ".py",
   "mimetype": "text/x-python",
   "name": "python",
   "nbconvert_exporter": "python",
   "pygments_lexer": "ipython3",
   "version": "3.8.5"
  }
 },
 "nbformat": 4,
 "nbformat_minor": 4
}