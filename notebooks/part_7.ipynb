{
 "cells": [
  {
   "cell_type": "markdown",
   "metadata": {},
   "source": [
    "##### Data Types and Column Operations"
   ]
  },
  {
   "cell_type": "code",
   "execution_count": null,
   "metadata": {},
   "outputs": [],
   "source": [
    "import pandas as pd\n",
    "import numpy as np"
   ]
  },
  {
   "cell_type": "markdown",
   "metadata": {},
   "source": [
    "##### Data Type Handling\n",
    "Working with different data types in pandas"
   ]
  },
  {
   "cell_type": "code",
   "execution_count": null,
   "metadata": {},
   "outputs": [],
   "source": [
    "# Create DataFrame with multiple types\n",
    "dft = pd.DataFrame({\n",
    "    'A': np.random.rand(3),\n",
    "    'B': 1,\n",
    "    'C': 'foo',\n",
    "    'D': pd.Timestamp('20010102'),\n",
    "    'E': pd.Series([1.0] * 3).astype('float32'),\n",
    "    'F': False,\n",
    "    'G': pd.Series([1] * 3, dtype='int8')\n",
    "})\n",
    "\n",
    "print(\"DataFrame with multiple types:\")\n",
    "print(dft)\n",
    "print(\"\\nData types of each column:\")\n",
    "print(dft.dtypes)"
   ]
  },
  {
   "cell_type": "code",
   "execution_count": null,
   "metadata": {},
   "outputs": [],
   "source": [
    "# Type coercion examples\n",
    "print(\"Integers coerced to floats:\")\n",
    "print(pd.Series([1, 2, 3, 4, 5, 6.]))\n",
    "\n",
    "print(\"\\nMixed types coerced to object:\")\n",
    "print(pd.Series([1, 2, 3, 6., 'foo']))"
   ]
  },
  {
   "cell_type": "code",
   "execution_count": null,
   "metadata": {},
   "outputs": [],
   "source": [
    "# Count of each dtype\n",
    "print(\"Count of each dtype:\")\n",
    "print(dft.dtypes.value_counts())"
   ]
  },
  {
   "cell_type": "markdown",
   "metadata": {},
   "source": [
    "##### Numeric Type Operations\n",
    "Working with different numeric types"
   ]
  },
  {
   "cell_type": "code",
   "execution_count": null,
   "metadata": {},
   "outputs": [],
   "source": [
    "# Create DataFrames with different numeric types\n",
    "df1 = pd.DataFrame(np.random.randn(8, 1), columns=['A'], dtype='float32')\n",
    "df2 = pd.DataFrame({\n",
    "    'A': pd.Series(np.random.randn(8), dtype='float16'),\n",
    "    'B': pd.Series(np.random.randn(8)),\n",
    "    'C': pd.Series(np.array(np.random.randn(8), dtype='uint8'))\n",
    "})\n",
    "\n",
    "print(\"DataFrame 1 (float32):\")\n",
    "print(df1)\n",
    "print(\"\\nDataFrame 2 (mixed types):\")\n",
    "print(df2)"
   ]
  },
  {
   "cell_type": "code",
   "execution_count": null,
   "metadata": {},
   "outputs": [],
   "source": [
    "# Upcasting example\n",
    "df3 = df1.reindex_like(df2).fillna(value=0.0) + df2\n",
    "print(\"Result of operation (note dtype changes):\")\n",
    "print(df3)\n",
    "print(\"\\nResulting dtypes:\")\n",
    "print(df3.dtypes)"
   ]
  },
  {
   "cell_type": "markdown",
   "metadata": {},
   "source": [
    "##### Column Operations\n",
    "Adding and manipulating columns"
   ]
  },
  {
   "cell_type": "code",
   "execution_count": null,
   "metadata": {},
   "outputs": [],
   "source": [
    "# Create sample DataFrame\n",
    "df = pd.DataFrame({\n",
    "    'one': pd.Series([1., 2., 3., np.nan]),\n",
    "    'flag': pd.Series([False, False, True, False]),\n",
    "    'foo': 'bar'\n",
    "}, index=['a', 'b', 'c', 'd'])\n",
    "\n",
    "print(\"Original DataFrame:\")\n",
    "print(df)"
   ]
  },
  {
   "cell_type": "code",
   "execution_count": null,
   "metadata": {},
   "outputs": [],
   "source": [
    "# Add truncated column\n",
    "df['one_trunc'] = df['one'][:2]\n",
    "print(\"After adding truncated column:\")\n",
    "print(df)"
   ]
  },
  {
   "cell_type": "code",
   "execution_count": null,
   "metadata": {},
   "outputs": [],
   "source": [
    "# Insert column at specific location\n",
    "df.insert(1, 'bar', df['one'])\n",
    "print(\"After inserting column:\")\n",
    "print(df)"
   ]
  },
  {
   "cell_type": "markdown",
   "metadata": {},
   "source": [
    "##### Column Assignment with assign()\n",
    "Creating new columns in method chains"
   ]
  },
  {
   "cell_type": "code",
   "execution_count": null,
   "metadata": {},
   "outputs": [],
   "source": [
    "# Load iris dataset\n",
    "iris = pd.read_csv('data/iris.data', names=['SepalLength', 'SepalWidth', \n",
    "                                            'PetalLength', 'PetalWidth', 'Name'])\n",
    "print(\"Iris dataset:\")\n",
    "print(iris.head())"
   ]
  },
  {
   "cell_type": "code",
   "execution_count": null,
   "metadata": {},
   "outputs": [],
   "source": [
    "# Add new column using assign\n",
    "print(\"With sepal ratio:\")\n",
    "print(iris.assign(\n",
    "    sepal_ratio=lambda x: x['SepalWidth'] / x['SepalLength']\n",
    ").head())"
   ]
  },
  {
   "cell_type": "code",
   "execution_count": null,
   "metadata": {},
   "outputs": [],
   "source": [
    "# Multiple assignments in chain\n",
    "result = (iris.query('SepalLength > 5')\n",
    "          .assign(\n",
    "              SepalRatio=lambda x: x.SepalWidth / x.SepalLength,\n",
    "              PetalRatio=lambda x: x.PetalWidth / x.PetalLength\n",
    "          ))\n",
    "\n",
    "print(\"Filtered data with ratios:\")\n",
    "print(result.head())"
   ]
  }
 ],
 "metadata": {
  "kernelspec": {
   "display_name": "Python 3",
   "language": "python",
   "name": "python3"
  },
  "language_info": {
   "codemirror_mode": {
    "name": "ipython",
    "version": 3
   },
   "file_extension": ".py",
   "mimetype": "text/x-python",
   "name": "python",
   "nbconvert_exporter": "python",
   "pygments_lexer": "ipython3",
   "version": "3.8.0"
  }
 },
 "nbformat": 4,
 "nbformat_minor": 4
}
