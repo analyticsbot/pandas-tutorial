{
 "cells": [
  {
   "cell_type": "markdown",
   "metadata": {},
   "source": [
    "#### Pandas Part 76: More Index Methods and IntervalIndex\n",
    "\n",
    "This notebook explores additional Index methods and the IntervalIndex class."
   ]
  },
  {
   "cell_type": "code",
   "execution_count": 1,
   "metadata": {},
   "outputs": [],
   "source": [
    "import pandas as pd\n",
    "import numpy as np"
   ]
  },
  {
   "cell_type": "markdown",
   "metadata": {},
   "source": [
    "##### 1. Additional Index Methods\n",
    "\n",
    "Let's explore more methods available on pandas Index objects."
   ]
  },
  {
   "cell_type": "markdown",
   "metadata": {},
   "source": [
    "### to_series Method\n",
    "\n",
    "The `to_series` method creates a Series with both index and values equal to the index keys."
   ]
  },
  {
   "cell_type": "code",
   "execution_count": 2,
   "metadata": {},
   "outputs": [
    {
     "name": "stdout",
     "output_type": "stream",
     "text": [
      "Index: Index(['a', 'b', 'c', 'd'], dtype='object')\n",
      "\n",
      "Series with default parameters:\n",
      "a    a\n",
      "b    b\n",
      "c    c\n",
      "d    d\n",
      "dtype: object\n",
      "\n",
      "Series with custom index:\n",
      "10    a\n",
      "20    b\n",
      "30    c\n",
      "40    d\n",
      "dtype: object\n",
      "\n",
      "Series with custom name:\n",
      "a    a\n",
      "b    b\n",
      "c    c\n",
      "d    d\n",
      "Name: letters, dtype: object\n"
     ]
    }
   ],
   "source": [
    "# Create an Index\n",
    "idx = pd.Index(['a', 'b', 'c', 'd'])\n",
    "print(f\"Index: {idx}\")\n",
    "\n",
    "# Convert to Series\n",
    "series = idx.to_series()\n",
    "print(\"\\nSeries with default parameters:\")\n",
    "print(series)\n",
    "\n",
    "# Convert to Series with custom index\n",
    "series = idx.to_series(index=[10, 20, 30, 40])\n",
    "print(\"\\nSeries with custom index:\")\n",
    "print(series)\n",
    "\n",
    "# Convert to Series with custom name\n",
    "series = idx.to_series(name='letters')\n",
    "print(\"\\nSeries with custom name:\")\n",
    "print(series)"
   ]
  },
  {
   "cell_type": "markdown",
   "metadata": {},
   "source": [
    "### tolist Method\n",
    "\n",
    "The `tolist` method returns a list of the values in the Index."
   ]
  },
  {
   "cell_type": "code",
   "execution_count": 3,
   "metadata": {},
   "outputs": [
    {
     "name": "stdout",
     "output_type": "stream",
     "text": [
      "String index to list: ['a', 'b', 'c'], type: <class 'str'>\n",
      "Integer index to list: [1, 2, 3], type: <class 'int'>\n",
      "Float index to list: [1.1, 2.2, 3.3], type: <class 'float'>\n",
      "Date index to list: [Timestamp('2023-01-01 00:00:00'), Timestamp('2023-01-02 00:00:00'), Timestamp('2023-01-03 00:00:00')], type: <class 'pandas._libs.tslibs.timestamps.Timestamp'>\n"
     ]
    }
   ],
   "source": [
    "# Create different types of indices\n",
    "str_idx = pd.Index(['a', 'b', 'c'])\n",
    "int_idx = pd.Index([1, 2, 3])\n",
    "float_idx = pd.Index([1.1, 2.2, 3.3])\n",
    "date_idx = pd.date_range('2023-01-01', periods=3)\n",
    "\n",
    "# Convert to lists\n",
    "str_list = str_idx.tolist()\n",
    "int_list = int_idx.tolist()\n",
    "float_list = float_idx.tolist()\n",
    "date_list = date_idx.tolist()\n",
    "\n",
    "print(f\"String index to list: {str_list}, type: {type(str_list[0])}\")\n",
    "print(f\"Integer index to list: {int_list}, type: {type(int_list[0])}\")\n",
    "print(f\"Float index to list: {float_list}, type: {type(float_list[0])}\")\n",
    "print(f\"Date index to list: {date_list}, type: {type(date_list[0])}\")"
   ]
  },
  {
   "cell_type": "markdown",
   "metadata": {},
   "source": [
    "### transpose Method\n",
    "\n",
    "The `transpose` method returns the transpose, which for an Index is just itself."
   ]
  },
  {
   "cell_type": "code",
   "execution_count": 4,
   "metadata": {},
   "outputs": [
    {
     "name": "stdout",
     "output_type": "stream",
     "text": [
      "Original index: Index(['a', 'b', 'c'], dtype='object')\n",
      "Transposed index: Index(['a', 'b', 'c'], dtype='object')\n",
      "Are they the same object? True\n"
     ]
    }
   ],
   "source": [
    "# Create an Index\n",
    "idx = pd.Index(['a', 'b', 'c'])\n",
    "print(f\"Original index: {idx}\")\n",
    "\n",
    "# Get the transpose\n",
    "transposed = idx.transpose()\n",
    "print(f\"Transposed index: {transposed}\")\n",
    "\n",
    "# Check if they are the same object\n",
    "print(f\"Are they the same object? {idx is transposed}\")"
   ]
  },
  {
   "cell_type": "markdown",
   "metadata": {},
   "source": [
    "### union Method\n",
    "\n",
    "The `union` method forms the union of two Index objects."
   ]
  },
  {
   "cell_type": "code",
   "execution_count": 5,
   "metadata": {},
   "outputs": [
    {
     "name": "stdout",
     "output_type": "stream",
     "text": [
      "idx1: Index([1, 2, 3, 4], dtype='int64')\n",
      "idx2: Index([3, 4, 5, 6], dtype='int64')\n",
      "\n",
      "Union: Index([1, 2, 3, 4, 5, 6], dtype='int64')\n"
     ]
    }
   ],
   "source": [
    "# Create two indices with matching dtypes\n",
    "idx1 = pd.Index([1, 2, 3, 4])\n",
    "idx2 = pd.Index([3, 4, 5, 6])\n",
    "print(f\"idx1: {idx1}\")\n",
    "print(f\"idx2: {idx2}\")\n",
    "\n",
    "# Find the union\n",
    "union = idx1.union(idx2)\n",
    "print(f\"\\nUnion: {union}\")"
   ]
  },
  {
   "cell_type": "code",
   "execution_count": 6,
   "metadata": {},
   "outputs": [
    {
     "name": "stdout",
     "output_type": "stream",
     "text": [
      "idx1: Index(['a', 'b', 'c', 'd'], dtype='object'), dtype: object\n",
      "idx2: Index([1, 2, 3, 4], dtype='int64'), dtype: int64\n",
      "\n",
      "Union: Index(['a', 'b', 'c', 'd', 1, 2, 3, 4], dtype='object')\n",
      "Union dtype: object\n"
     ]
    }
   ],
   "source": [
    "# Create two indices with mismatched dtypes\n",
    "idx1 = pd.Index(['a', 'b', 'c', 'd'])\n",
    "idx2 = pd.Index([1, 2, 3, 4])\n",
    "print(f\"idx1: {idx1}, dtype: {idx1.dtype}\")\n",
    "print(f\"idx2: {idx2}, dtype: {idx2.dtype}\")\n",
    "\n",
    "# Find the union\n",
    "union = idx1.union(idx2)\n",
    "print(f\"\\nUnion: {union}\")\n",
    "print(f\"Union dtype: {union.dtype}\")"
   ]
  },
  {
   "cell_type": "code",
   "execution_count": 7,
   "metadata": {},
   "outputs": [
    {
     "name": "stdout",
     "output_type": "stream",
     "text": [
      "idx1: Index([5, 3, 1, 4, 2], dtype='int64')\n",
      "idx2: Index([4, 3, 6, 5], dtype='int64')\n",
      "\n",
      "Union (sort=None): Index([1, 2, 3, 4, 5, 6], dtype='int64')\n",
      "Union (sort=False): Index([5, 3, 1, 4, 2, 6], dtype='int64')\n"
     ]
    }
   ],
   "source": [
    "# Union with sort parameter\n",
    "idx1 = pd.Index([5, 3, 1, 4, 2])\n",
    "idx2 = pd.Index([4, 3, 6, 5])\n",
    "print(f\"idx1: {idx1}\")\n",
    "print(f\"idx2: {idx2}\")\n",
    "\n",
    "# Default: sort=None\n",
    "union = idx1.union(idx2)\n",
    "print(f\"\\nUnion (sort=None): {union}\")\n",
    "\n",
    "# With sort=False\n",
    "union = idx1.union(idx2, sort=False)\n",
    "print(f\"Union (sort=False): {union}\")"
   ]
  },
  {
   "cell_type": "markdown",
   "metadata": {},
   "source": [
    "### unique Method\n",
    "\n",
    "The `unique` method returns unique values in the index in order of appearance."
   ]
  },
  {
   "cell_type": "code",
   "execution_count": 8,
   "metadata": {},
   "outputs": [
    {
     "name": "stdout",
     "output_type": "stream",
     "text": [
      "Index with duplicates: Index(['a', 'b', 'c', 'a', 'b', 'd'], dtype='object')\n",
      "\n",
      "Unique values: Index(['a', 'b', 'c', 'd'], dtype='object')\n"
     ]
    }
   ],
   "source": [
    "# Create an Index with duplicates\n",
    "idx = pd.Index(['a', 'b', 'c', 'a', 'b', 'd'])\n",
    "print(f\"Index with duplicates: {idx}\")\n",
    "\n",
    "# Get unique values\n",
    "unique_idx = idx.unique()\n",
    "print(f\"\\nUnique values: {unique_idx}\")"
   ]
  },
  {
   "cell_type": "markdown",
   "metadata": {},
   "source": [
    "##### 2. IntervalIndex\n",
    "\n",
    "The IntervalIndex is an Index of Interval objects, representing a range between two values."
   ]
  },
  {
   "cell_type": "markdown",
   "metadata": {},
   "source": [
    "### Creating IntervalIndex"
   ]
  },
  {
   "cell_type": "code",
   "execution_count": 9,
   "metadata": {},
   "outputs": [
    {
     "name": "stdout",
     "output_type": "stream",
     "text": [
      "IntervalIndex from list of Intervals: IntervalIndex([(0, 1], (1, 2], (2, 3]], dtype='interval[int64, right]')\n",
      "\n",
      "IntervalIndex from arrays: IntervalIndex([(0, 1], (1, 2], (2, 3]], dtype='interval[int64, right]')\n",
      "\n",
      "IntervalIndex from breaks: IntervalIndex([(0, 1], (1, 2], (2, 3]], dtype='interval[int64, right]')\n"
     ]
    }
   ],
   "source": [
    "# Create an IntervalIndex from a list of Interval objects\n",
    "intervals = [pd.Interval(0, 1), pd.Interval(1, 2), pd.Interval(2, 3)]\n",
    "interval_idx = pd.IntervalIndex(intervals)\n",
    "print(f\"IntervalIndex from list of Intervals: {interval_idx}\")\n",
    "\n",
    "# Create an IntervalIndex from arrays\n",
    "left = [0, 1, 2]\n",
    "right = [1, 2, 3]\n",
    "interval_idx = pd.IntervalIndex.from_arrays(left, right)\n",
    "print(f\"\\nIntervalIndex from arrays: {interval_idx}\")\n",
    "\n",
    "# Create an IntervalIndex from breaks\n",
    "breaks = [0, 1, 2, 3]\n",
    "interval_idx = pd.IntervalIndex.from_breaks(breaks)\n",
    "print(f\"\\nIntervalIndex from breaks: {interval_idx}\")"
   ]
  },
  {
   "cell_type": "markdown",
   "metadata": {},
   "source": [
    "### IntervalIndex Properties\n",
    "\n",
    "IntervalIndex provides various properties to access its components."
   ]
  },
  {
   "cell_type": "code",
   "execution_count": 10,
   "metadata": {},
   "outputs": [
    {
     "name": "stdout",
     "output_type": "stream",
     "text": [
      "IntervalIndex: IntervalIndex([(0, 1], (1, 2], (2, 3]], dtype='interval[int64, right]')\n",
      "\n",
      "Left endpoints: Index([0, 1, 2], dtype='int64')\n",
      "Right endpoints: Index([1, 2, 3], dtype='int64')\n",
      "Closed: right\n",
      "Midpoints: Index([0.5, 1.5, 2.5], dtype='float64')\n",
      "Lengths: Index([1, 1, 1], dtype='int64')\n"
     ]
    }
   ],
   "source": [
    "# Create an IntervalIndex\n",
    "interval_idx = pd.IntervalIndex.from_breaks([0, 1, 2, 3])\n",
    "print(f\"IntervalIndex: {interval_idx}\")\n",
    "\n",
    "# Get left endpoints\n",
    "left = interval_idx.left\n",
    "print(f\"\\nLeft endpoints: {left}\")\n",
    "\n",
    "# Get right endpoints\n",
    "right = interval_idx.right\n",
    "print(f\"Right endpoints: {right}\")\n",
    "\n",
    "# Get closed attribute\n",
    "closed = interval_idx.closed\n",
    "print(f\"Closed: {closed}\")\n",
    "\n",
    "# Get midpoints\n",
    "mid = interval_idx.mid\n",
    "print(f\"Midpoints: {mid}\")\n",
    "\n",
    "# Get lengths\n",
    "length = interval_idx.length\n",
    "print(f\"Lengths: {length}\")"
   ]
  },
  {
   "cell_type": "markdown",
   "metadata": {},
   "source": [
    "### is_empty Property\n",
    "\n",
    "The `is_empty` property indicates if an interval is empty, meaning it contains no points."
   ]
  },
  {
   "cell_type": "code",
   "execution_count": 12,
   "metadata": {},
   "outputs": [
    {
     "name": "stdout",
     "output_type": "stream",
     "text": [
      "right_intervals: IntervalIndex([(0, 1], (0, 0]], dtype='interval[int64, right]')\n",
      "is_empty: [False  True]\n",
      "\n",
      "left_intervals: IntervalIndex([[0, 0)], dtype='interval[int64, left]')\n",
      "is_empty: [ True]\n",
      "\n",
      "neither_intervals: IntervalIndex([(0, 0)], dtype='interval[int64, neither]')\n",
      "is_empty: [ True]\n",
      "\n",
      "both_intervals: IntervalIndex([[0, 0]], dtype='interval[int64, both]')\n",
      "is_empty: [False]\n"
     ]
    }
   ],
   "source": [
    "# Create separate IntervalIndex objects for each closed option\n",
    "right_intervals = pd.IntervalIndex([pd.Interval(0, 1, closed='right'), pd.Interval(0, 0, closed='right')])\n",
    "print(f\"right_intervals: {right_intervals}\")\n",
    "print(f\"is_empty: {right_intervals.is_empty}\")\n",
    "\n",
    "left_intervals = pd.IntervalIndex([pd.Interval(0, 0, closed='left')])\n",
    "print(f\"\\nleft_intervals: {left_intervals}\")\n",
    "print(f\"is_empty: {left_intervals.is_empty}\")\n",
    "\n",
    "neither_intervals = pd.IntervalIndex([pd.Interval(0, 0, closed='neither')])\n",
    "print(f\"\\nneither_intervals: {neither_intervals}\")\n",
    "print(f\"is_empty: {neither_intervals.is_empty}\")\n",
    "\n",
    "both_intervals = pd.IntervalIndex([pd.Interval(0, 0, closed='both')])\n",
    "print(f\"\\nboth_intervals: {both_intervals}\")\n",
    "print(f\"is_empty: {both_intervals.is_empty}\")"
   ]
  },
  {
   "cell_type": "code",
   "execution_count": 13,
   "metadata": {},
   "outputs": [
    {
     "name": "stdout",
     "output_type": "stream",
     "text": [
      "IntervalIndex with NaN: IntervalIndex([(0.0, 0.0), nan], dtype='interval[float64, neither]')\n",
      "is_empty: [ True False]\n"
     ]
    }
   ],
   "source": [
    "# IntervalIndex with NaN\n",
    "intervals = [pd.Interval(0, 0, closed='neither'), np.nan]\n",
    "interval_idx = pd.IntervalIndex(intervals)\n",
    "print(f\"IntervalIndex with NaN: {interval_idx}\")\n",
    "print(f\"is_empty: {interval_idx.is_empty}\")"
   ]
  },
  {
   "cell_type": "markdown",
   "metadata": {},
   "source": [
    "### is_non_overlapping_monotonic Property\n",
    "\n",
    "The `is_non_overlapping_monotonic` property returns True if the IntervalIndex is non-overlapping and monotonic."
   ]
  },
  {
   "cell_type": "code",
   "execution_count": 14,
   "metadata": {},
   "outputs": [
    {
     "name": "stdout",
     "output_type": "stream",
     "text": [
      "Non-overlapping monotonic IntervalIndex: IntervalIndex([(0, 1], (1, 2], (2, 3]], dtype='interval[int64, right]')\n",
      "is_non_overlapping_monotonic: True\n",
      "\n",
      "Overlapping IntervalIndex: IntervalIndex([(0, 2], (1, 3], (2, 4]], dtype='interval[int64, right]')\n",
      "is_non_overlapping_monotonic: False\n",
      "\n",
      "Non-monotonic IntervalIndex: IntervalIndex([(0, 1], (2, 3], (1, 2]], dtype='interval[int64, right]')\n",
      "is_non_overlapping_monotonic: False\n"
     ]
    }
   ],
   "source": [
    "# Create a non-overlapping monotonic IntervalIndex\n",
    "non_overlapping = pd.IntervalIndex.from_breaks([0, 1, 2, 3])\n",
    "print(f\"Non-overlapping monotonic IntervalIndex: {non_overlapping}\")\n",
    "print(f\"is_non_overlapping_monotonic: {non_overlapping.is_non_overlapping_monotonic}\")\n",
    "\n",
    "# Create an overlapping IntervalIndex\n",
    "overlapping = pd.IntervalIndex([\n",
    "    pd.Interval(0, 2),\n",
    "    pd.Interval(1, 3),\n",
    "    pd.Interval(2, 4)\n",
    "])\n",
    "print(f\"\\nOverlapping IntervalIndex: {overlapping}\")\n",
    "print(f\"is_non_overlapping_monotonic: {overlapping.is_non_overlapping_monotonic}\")\n",
    "\n",
    "# Create a non-monotonic IntervalIndex\n",
    "non_monotonic = pd.IntervalIndex([\n",
    "    pd.Interval(0, 1),\n",
    "    pd.Interval(2, 3),\n",
    "    pd.Interval(1, 2)\n",
    "])\n",
    "print(f\"\\nNon-monotonic IntervalIndex: {non_monotonic}\")\n",
    "print(f\"is_non_overlapping_monotonic: {non_monotonic.is_non_overlapping_monotonic}\")"
   ]
  },
  {
   "cell_type": "markdown",
   "metadata": {},
   "source": [
    "### is_overlapping Property\n",
    "\n",
    "The `is_overlapping` property returns True if the IntervalIndex has overlapping intervals."
   ]
  },
  {
   "cell_type": "code",
   "execution_count": 15,
   "metadata": {},
   "outputs": [
    {
     "name": "stdout",
     "output_type": "stream",
     "text": [
      "Non-overlapping IntervalIndex: IntervalIndex([(0, 1], (1, 2], (2, 3]], dtype='interval[int64, right]')\n",
      "is_overlapping: False\n",
      "\n",
      "Overlapping IntervalIndex: IntervalIndex([(0, 2], (1, 3], (2, 4]], dtype='interval[int64, right]')\n",
      "is_overlapping: True\n"
     ]
    }
   ],
   "source": [
    "# Create a non-overlapping IntervalIndex\n",
    "non_overlapping = pd.IntervalIndex.from_breaks([0, 1, 2, 3])\n",
    "print(f\"Non-overlapping IntervalIndex: {non_overlapping}\")\n",
    "print(f\"is_overlapping: {non_overlapping.is_overlapping}\")\n",
    "\n",
    "# Create an overlapping IntervalIndex\n",
    "overlapping = pd.IntervalIndex([\n",
    "    pd.Interval(0, 2),\n",
    "    pd.Interval(1, 3),\n",
    "    pd.Interval(2, 4)\n",
    "])\n",
    "print(f\"\\nOverlapping IntervalIndex: {overlapping}\")\n",
    "print(f\"is_overlapping: {overlapping.is_overlapping}\")"
   ]
  },
  {
   "cell_type": "code",
   "execution_count": 17,
   "metadata": {},
   "outputs": [
    {
     "name": "stdout",
     "output_type": "stream",
     "text": [
      "IntervalIndex with right-closed intervals: IntervalIndex([(0, 1], (1, 2]], dtype='interval[int64, right]')\n",
      "is_overlapping: False\n",
      "\n",
      "IntervalIndex with left-closed intervals: IntervalIndex([[0, 1), [1, 2)], dtype='interval[int64, left]')\n",
      "is_overlapping: False\n",
      "\n",
      "Manual check for overlapping with different closed options:\n",
      "Does (0, 1] overlap with [1, 2)? True\n",
      "Does [0, 1) overlap with (1, 2]? False\n"
     ]
    }
   ],
   "source": [
    "# Create IntervalIndex with all intervals closed on the right\n",
    "right_closed = pd.IntervalIndex([\n",
    "    pd.Interval(0, 1, closed='right'),\n",
    "    pd.Interval(1, 2, closed='right')\n",
    "])\n",
    "print(f\"IntervalIndex with right-closed intervals: {right_closed}\")\n",
    "print(f\"is_overlapping: {right_closed.is_overlapping}\")\n",
    "\n",
    "# Create IntervalIndex with all intervals closed on the left\n",
    "left_closed = pd.IntervalIndex([\n",
    "    pd.Interval(0, 1, closed='left'),\n",
    "    pd.Interval(1, 2, closed='left')\n",
    "])\n",
    "print(f\"\\nIntervalIndex with left-closed intervals: {left_closed}\")\n",
    "print(f\"is_overlapping: {left_closed.is_overlapping}\")\n",
    "\n",
    "# To demonstrate the concept of shared endpoints and overlapping:\n",
    "print(\"\\nManual check for overlapping with different closed options:\")\n",
    "interval1_right = pd.Interval(0, 1, closed='right')  # [0, 1)\n",
    "interval2_left = pd.Interval(1, 2, closed='left')    # [1, 2)\n",
    "print(f\"Does {interval1_right} overlap with {interval2_left}? {1 in interval1_right or 1 in interval2_left}\")\n",
    "\n",
    "interval1_left = pd.Interval(0, 1, closed='left')    # (0, 1]\n",
    "interval2_right = pd.Interval(1, 2, closed='right')  # (1, 2]\n",
    "print(f\"Does {interval1_left} overlap with {interval2_right}? {1 in interval1_left or 1 in interval2_right}\")"
   ]
  },
  {
   "cell_type": "code",
   "execution_count": null,
   "metadata": {},
   "outputs": [],
   "source": []
  },
  {
   "cell_type": "code",
   "execution_count": null,
   "metadata": {},
   "outputs": [],
   "source": []
  }
 ],
 "metadata": {
  "kernelspec": {
   "display_name": "venv",
   "language": "python",
   "name": "python3"
  },
  "language_info": {
   "codemirror_mode": {
    "name": "ipython",
    "version": 3
   },
   "file_extension": ".py",
   "mimetype": "text/x-python",
   "name": "python",
   "nbconvert_exporter": "python",
   "pygments_lexer": "ipython3",
   "version": "3.13.2"
  }
 },
 "nbformat": 4,
 "nbformat_minor": 4
}
