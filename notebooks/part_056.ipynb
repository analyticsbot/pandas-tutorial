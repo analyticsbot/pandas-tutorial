{
 "cells": [
  {
   "cell_type": "markdown",
   "metadata": {},
   "source": [
    "#### Pandas Tutorial - Part 56\n",
    "\n",
    "This notebook introduces the pandas DataFrame class and covers:\n",
    "- DataFrame constructor and basics\n",
    "- Converting Series to other formats\n",
    "- The `abs()` method for DataFrames"
   ]
  },
  {
   "cell_type": "code",
   "execution_count": 1,
   "metadata": {},
   "outputs": [],
   "source": [
    "import pandas as pd\n",
    "import numpy as np\n",
    "import matplotlib.pyplot as plt\n",
    "\n",
    "%matplotlib inline"
   ]
  },
  {
   "cell_type": "markdown",
   "metadata": {},
   "source": [
    "##### DataFrame Constructor and Basics\n",
    "\n",
    "A DataFrame is a two-dimensional, size-mutable, potentially heterogeneous tabular data structure with labeled axes (rows and columns). It can be thought of as a dict-like container for Series objects and is the primary pandas data structure."
   ]
  },
  {
   "cell_type": "code",
   "execution_count": 2,
   "metadata": {},
   "outputs": [
    {
     "name": "stdout",
     "output_type": "stream",
     "text": [
      "DataFrame from Series:\n",
      "   col1  col2\n",
      "a     1     4\n",
      "b     2     5\n",
      "c     3     6\n"
     ]
    }
   ],
   "source": [
    "# Create a DataFrame from a dictionary of Series\n",
    "s1 = pd.Series([1, 2, 3], index=['a', 'b', 'c'])\n",
    "s2 = pd.Series([4, 5, 6], index=['a', 'b', 'c'])\n",
    "df = pd.DataFrame({'col1': s1, 'col2': s2})\n",
    "print(\"DataFrame from Series:\")\n",
    "print(df)"
   ]
  },
  {
   "cell_type": "code",
   "execution_count": 3,
   "metadata": {},
   "outputs": [
    {
     "name": "stdout",
     "output_type": "stream",
     "text": [
      "\n",
      "DataFrame from dictionary:\n",
      "    name  age      city\n",
      "0   John   28  New York\n",
      "1   Anna   34     Paris\n",
      "2  Peter   29    Berlin\n",
      "3  Linda   42    London\n"
     ]
    }
   ],
   "source": [
    "# Create a DataFrame from a dictionary of lists\n",
    "data = {\n",
    "    'name': ['John', 'Anna', 'Peter', 'Linda'],\n",
    "    'age': [28, 34, 29, 42],\n",
    "    'city': ['New York', 'Paris', 'Berlin', 'London']\n",
    "}\n",
    "df_dict = pd.DataFrame(data)\n",
    "print(\"\\nDataFrame from dictionary:\")\n",
    "print(df_dict)"
   ]
  },
  {
   "cell_type": "code",
   "execution_count": 4,
   "metadata": {},
   "outputs": [
    {
     "name": "stdout",
     "output_type": "stream",
     "text": [
      "\n",
      "DataFrame from list of dictionaries:\n",
      "    name  age      city\n",
      "0   John   28  New York\n",
      "1   Anna   34     Paris\n",
      "2  Peter   29    Berlin\n",
      "3  Linda   42    London\n"
     ]
    }
   ],
   "source": [
    "# Create a DataFrame from a list of dictionaries\n",
    "data_list = [\n",
    "    {'name': 'John', 'age': 28, 'city': 'New York'},\n",
    "    {'name': 'Anna', 'age': 34, 'city': 'Paris'},\n",
    "    {'name': 'Peter', 'age': 29, 'city': 'Berlin'},\n",
    "    {'name': 'Linda', 'age': 42, 'city': 'London'}\n",
    "]\n",
    "df_list = pd.DataFrame(data_list)\n",
    "print(\"\\nDataFrame from list of dictionaries:\")\n",
    "print(df_list)"
   ]
  },
  {
   "cell_type": "code",
   "execution_count": 5,
   "metadata": {},
   "outputs": [
    {
     "name": "stdout",
     "output_type": "stream",
     "text": [
      "\n",
      "DataFrame from NumPy array:\n",
      "      A  B  C\n",
      "row1  1  2  3\n",
      "row2  4  5  6\n",
      "row3  7  8  9\n"
     ]
    }
   ],
   "source": [
    "# Create a DataFrame from a NumPy array\n",
    "arr = np.array([[1, 2, 3], [4, 5, 6], [7, 8, 9]])\n",
    "df_arr = pd.DataFrame(arr, columns=['A', 'B', 'C'], index=['row1', 'row2', 'row3'])\n",
    "print(\"\\nDataFrame from NumPy array:\")\n",
    "print(df_arr)"
   ]
  },
  {
   "cell_type": "code",
   "execution_count": 6,
   "metadata": {},
   "outputs": [
    {
     "name": "stdout",
     "output_type": "stream",
     "text": [
      "\n",
      "DataFrame with custom index and columns:\n",
      "       col1      col2\n",
      "A -1.848764  0.128514\n",
      "B  0.947324  0.337124\n",
      "C -0.258197 -0.137134\n"
     ]
    }
   ],
   "source": [
    "# Create a DataFrame with custom index and columns\n",
    "df_custom = pd.DataFrame(\n",
    "    data=np.random.randn(3, 2),  # 3 rows, 2 columns of random data\n",
    "    index=['A', 'B', 'C'],\n",
    "    columns=['col1', 'col2']\n",
    ")\n",
    "print(\"\\nDataFrame with custom index and columns:\")\n",
    "print(df_custom)"
   ]
  },
  {
   "cell_type": "code",
   "execution_count": 7,
   "metadata": {},
   "outputs": [
    {
     "name": "stdout",
     "output_type": "stream",
     "text": [
      "\n",
      "DataFrame with specific dtype:\n",
      "     A    B\n",
      "0  1.0  1.0\n",
      "1  2.0  2.0\n",
      "2  3.0  3.0\n",
      "\n",
      "DataFrame dtypes:\n",
      "A    float64\n",
      "B    float64\n",
      "dtype: object\n"
     ]
    }
   ],
   "source": [
    "# Create a DataFrame with a specific data type\n",
    "df_dtype = pd.DataFrame(\n",
    "    data={'A': [1, 2, 3], 'B': [1.0, 2.0, 3.0]},\n",
    "    dtype=np.float64\n",
    ")\n",
    "print(\"\\nDataFrame with specific dtype:\")\n",
    "print(df_dtype)\n",
    "print(\"\\nDataFrame dtypes:\")\n",
    "print(df_dtype.dtypes)"
   ]
  },
  {
   "cell_type": "code",
   "execution_count": 8,
   "metadata": {},
   "outputs": [
    {
     "name": "stdout",
     "output_type": "stream",
     "text": [
      "\n",
      "Planets DataFrame:\n",
      "         mass  radius\n",
      "Mercury  0.33  2439.7\n",
      "Venus    4.87  6051.8\n",
      "Earth    5.97  6378.1\n"
     ]
    }
   ],
   "source": [
    "# Create a DataFrame with planet data\n",
    "df_planets = pd.DataFrame(\n",
    "    {'mass': [0.330, 4.87, 5.97],\n",
    "     'radius': [2439.7, 6051.8, 6378.1]},\n",
    "    index=['Mercury', 'Venus', 'Earth']\n",
    ")\n",
    "print(\"\\nPlanets DataFrame:\")\n",
    "print(df_planets)"
   ]
  },
  {
   "cell_type": "markdown",
   "metadata": {},
   "source": [
    "##### Converting Series to Other Formats\n",
    "\n",
    "Pandas provides various methods to convert Series to other formats for data interchange and storage."
   ]
  },
  {
   "cell_type": "code",
   "execution_count": 9,
   "metadata": {},
   "outputs": [
    {
     "name": "stdout",
     "output_type": "stream",
     "text": [
      "Original Series:\n",
      "a    1\n",
      "b    2\n",
      "c    3\n",
      "d    4\n",
      "Name: example_series, dtype: int64\n"
     ]
    }
   ],
   "source": [
    "# Create a Series for conversion examples\n",
    "s = pd.Series([1, 2, 3, 4], index=['a', 'b', 'c', 'd'], name='example_series')\n",
    "print(\"Original Series:\")\n",
    "print(s)"
   ]
  },
  {
   "cell_type": "code",
   "execution_count": 10,
   "metadata": {},
   "outputs": [
    {
     "name": "stdout",
     "output_type": "stream",
     "text": [
      "\n",
      "Series to dictionary:\n",
      "{'a': 1, 'b': 2, 'c': 3, 'd': 4}\n"
     ]
    }
   ],
   "source": [
    "# Convert Series to dictionary\n",
    "s_dict = s.to_dict()\n",
    "print(\"\\nSeries to dictionary:\")\n",
    "print(s_dict)"
   ]
  },
  {
   "cell_type": "code",
   "execution_count": 11,
   "metadata": {},
   "outputs": [
    {
     "name": "stdout",
     "output_type": "stream",
     "text": [
      "\n",
      "Series to DataFrame:\n",
      "   example_series\n",
      "a               1\n",
      "b               2\n",
      "c               3\n",
      "d               4\n"
     ]
    }
   ],
   "source": [
    "# Convert Series to DataFrame\n",
    "s_frame = s.to_frame()\n",
    "print(\"\\nSeries to DataFrame:\")\n",
    "print(s_frame)"
   ]
  },
  {
   "cell_type": "code",
   "execution_count": 12,
   "metadata": {},
   "outputs": [
    {
     "name": "stdout",
     "output_type": "stream",
     "text": [
      "\n",
      "Series to DataFrame with custom name:\n",
      "   custom_name\n",
      "a            1\n",
      "b            2\n",
      "c            3\n",
      "d            4\n"
     ]
    }
   ],
   "source": [
    "# Convert Series to DataFrame with custom name\n",
    "s_frame_named = s.to_frame(name='custom_name')\n",
    "print(\"\\nSeries to DataFrame with custom name:\")\n",
    "print(s_frame_named)"
   ]
  },
  {
   "cell_type": "code",
   "execution_count": 13,
   "metadata": {},
   "outputs": [
    {
     "name": "stdout",
     "output_type": "stream",
     "text": [
      "\n",
      "Series to string:\n",
      "a    1\n",
      "b    2\n",
      "c    3\n",
      "d    4\n"
     ]
    }
   ],
   "source": [
    "# Convert Series to string\n",
    "s_string = s.to_string()\n",
    "print(\"\\nSeries to string:\")\n",
    "print(s_string)"
   ]
  },
  {
   "cell_type": "code",
   "execution_count": 14,
   "metadata": {},
   "outputs": [
    {
     "name": "stdout",
     "output_type": "stream",
     "text": [
      "\n",
      "Series to JSON:\n",
      "{\"a\":1,\"b\":2,\"c\":3,\"d\":4}\n"
     ]
    }
   ],
   "source": [
    "# Convert Series to JSON\n",
    "s_json = s.to_json()\n",
    "print(\"\\nSeries to JSON:\")\n",
    "print(s_json)"
   ]
  },
  {
   "cell_type": "code",
   "execution_count": 15,
   "metadata": {},
   "outputs": [
    {
     "name": "stdout",
     "output_type": "stream",
     "text": [
      "\n",
      "Series to CSV string:\n",
      ",example_series\n",
      "a,1\n",
      "b,2\n",
      "c,3\n",
      "d,4\n",
      "\n"
     ]
    }
   ],
   "source": [
    "# Convert Series to CSV string\n",
    "s_csv = s.to_csv()\n",
    "print(\"\\nSeries to CSV string:\")\n",
    "print(s_csv)"
   ]
  },
  {
   "cell_type": "code",
   "execution_count": 16,
   "metadata": {},
   "outputs": [
    {
     "name": "stdout",
     "output_type": "stream",
     "text": [
      "\n",
      "Markdown conversion requires the 'tabulate' package.\n"
     ]
    }
   ],
   "source": [
    "# Convert Series to Markdown\n",
    "try:\n",
    "    s_markdown = s.to_markdown()\n",
    "    print(\"\\nSeries to Markdown:\")\n",
    "    print(s_markdown)\n",
    "except ImportError:\n",
    "    print(\"\\nMarkdown conversion requires the 'tabulate' package.\")"
   ]
  },
  {
   "cell_type": "markdown",
   "metadata": {},
   "source": [
    "##### The `abs()` Method for DataFrames\n",
    "\n",
    "The `abs()` method returns a Series/DataFrame with the absolute numeric value of each element. This function only applies to elements that are all numeric."
   ]
  },
  {
   "cell_type": "code",
   "execution_count": 17,
   "metadata": {},
   "outputs": [
    {
     "name": "stdout",
     "output_type": "stream",
     "text": [
      "Series with negative values:\n",
      "0   -1.10\n",
      "1    2.00\n",
      "2   -3.33\n",
      "3    4.00\n",
      "dtype: float64\n"
     ]
    }
   ],
   "source": [
    "# Create a Series with negative values\n",
    "s_neg = pd.Series([-1.10, 2, -3.33, 4])\n",
    "print(\"Series with negative values:\")\n",
    "print(s_neg)"
   ]
  },
  {
   "cell_type": "code",
   "execution_count": 18,
   "metadata": {},
   "outputs": [
    {
     "name": "stdout",
     "output_type": "stream",
     "text": [
      "\n",
      "Absolute values:\n",
      "0    1.10\n",
      "1    2.00\n",
      "2    3.33\n",
      "3    4.00\n",
      "dtype: float64\n"
     ]
    }
   ],
   "source": [
    "# Apply abs() to Series\n",
    "s_abs = s_neg.abs()\n",
    "print(\"\\nAbsolute values:\")\n",
    "print(s_abs)"
   ]
  },
  {
   "cell_type": "code",
   "execution_count": 19,
   "metadata": {},
   "outputs": [
    {
     "name": "stdout",
     "output_type": "stream",
     "text": [
      "\n",
      "Series with complex numbers:\n",
      "0    1.2+1.0j\n",
      "dtype: complex128\n"
     ]
    }
   ],
   "source": [
    "# Create a Series with complex numbers\n",
    "s_complex = pd.Series([1.2 + 1j])\n",
    "print(\"\\nSeries with complex numbers:\")\n",
    "print(s_complex)"
   ]
  },
  {
   "cell_type": "code",
   "execution_count": 20,
   "metadata": {},
   "outputs": [
    {
     "name": "stdout",
     "output_type": "stream",
     "text": [
      "\n",
      "Absolute values of complex numbers:\n",
      "0    1.56205\n",
      "dtype: float64\n"
     ]
    }
   ],
   "source": [
    "# Apply abs() to Series with complex numbers\n",
    "s_complex_abs = s_complex.abs()\n",
    "print(\"\\nAbsolute values of complex numbers:\")\n",
    "print(s_complex_abs)"
   ]
  },
  {
   "cell_type": "code",
   "execution_count": 21,
   "metadata": {},
   "outputs": [
    {
     "name": "stdout",
     "output_type": "stream",
     "text": [
      "\n",
      "Series with Timedelta:\n",
      "0   1 days\n",
      "dtype: timedelta64[ns]\n"
     ]
    }
   ],
   "source": [
    "# Create a Series with Timedelta\n",
    "s_timedelta = pd.Series([pd.Timedelta('1 days')])\n",
    "print(\"\\nSeries with Timedelta:\")\n",
    "print(s_timedelta)"
   ]
  },
  {
   "cell_type": "code",
   "execution_count": 22,
   "metadata": {},
   "outputs": [
    {
     "name": "stdout",
     "output_type": "stream",
     "text": [
      "\n",
      "Absolute values of Timedelta:\n",
      "0   1 days\n",
      "dtype: timedelta64[ns]\n"
     ]
    }
   ],
   "source": [
    "# Apply abs() to Series with Timedelta\n",
    "s_timedelta_abs = s_timedelta.abs()\n",
    "print(\"\\nAbsolute values of Timedelta:\")\n",
    "print(s_timedelta_abs)"
   ]
  },
  {
   "cell_type": "code",
   "execution_count": 23,
   "metadata": {},
   "outputs": [
    {
     "name": "stdout",
     "output_type": "stream",
     "text": [
      "\n",
      "DataFrame with mixed values:\n",
      "   a   b    c\n",
      "0  4  10  100\n",
      "1  5  20   50\n",
      "2  6  30  -30\n",
      "3  7  40  -50\n"
     ]
    }
   ],
   "source": [
    "# Create a DataFrame with mixed positive and negative values\n",
    "df_mixed = pd.DataFrame({\n",
    "    'a': [4, 5, 6, 7],\n",
    "    'b': [10, 20, 30, 40],\n",
    "    'c': [100, 50, -30, -50]\n",
    "})\n",
    "print(\"\\nDataFrame with mixed values:\")\n",
    "print(df_mixed)"
   ]
  },
  {
   "cell_type": "code",
   "execution_count": 24,
   "metadata": {},
   "outputs": [
    {
     "name": "stdout",
     "output_type": "stream",
     "text": [
      "\n",
      "Absolute values of DataFrame:\n",
      "   a   b    c\n",
      "0  4  10  100\n",
      "1  5  20   50\n",
      "2  6  30   30\n",
      "3  7  40   50\n"
     ]
    }
   ],
   "source": [
    "# Apply abs() to DataFrame\n",
    "df_abs = df_mixed.abs()\n",
    "print(\"\\nAbsolute values of DataFrame:\")\n",
    "print(df_abs)"
   ]
  },
  {
   "cell_type": "code",
   "execution_count": 25,
   "metadata": {},
   "outputs": [
    {
     "name": "stdout",
     "output_type": "stream",
     "text": [
      "\n",
      "Rows with values in column 'c' closest to 20:\n",
      "   a   b    c\n",
      "1  5  20   50\n",
      "2  6  30  -30\n",
      "3  7  40  -50\n",
      "0  4  10  100\n"
     ]
    }
   ],
   "source": [
    "# Example: Find rows with values closest to a target value\n",
    "target_value = 20\n",
    "closest_rows = (df_mixed['c'] - target_value).abs().argsort()\n",
    "print(f\"\\nRows with values in column 'c' closest to {target_value}:\")\n",
    "print(df_mixed.iloc[closest_rows])"
   ]
  },
  {
   "cell_type": "markdown",
   "metadata": {},
   "source": [
    "##### Practical Example: Data Normalization and Scaling"
   ]
  },
  {
   "cell_type": "code",
   "execution_count": 26,
   "metadata": {},
   "outputs": [
    {
     "name": "stdout",
     "output_type": "stream",
     "text": [
      "Student test scores (with errors):\n",
      "   math  science  english\n",
      "0     2      -26      -13\n",
      "1    79      -13       57\n",
      "2    -8       16      -63\n",
      "3   -86       -1       29\n",
      "4     6        3       91\n",
      "5   -29       51       87\n",
      "6    88       30      -80\n",
      "7   -80       49       60\n",
      "8     2      -48      -43\n",
      "9    21      -99      -79\n"
     ]
    }
   ],
   "source": [
    "# Create a DataFrame with student test scores\n",
    "np.random.seed(42)  # For reproducibility\n",
    "scores = pd.DataFrame({\n",
    "    'math': np.random.randint(-100, 100, 10),\n",
    "    'science': np.random.randint(-100, 100, 10),\n",
    "    'english': np.random.randint(-100, 100, 10)\n",
    "})\n",
    "print(\"Student test scores (with errors):\")\n",
    "print(scores)"
   ]
  },
  {
   "cell_type": "code",
   "execution_count": 27,
   "metadata": {},
   "outputs": [
    {
     "name": "stdout",
     "output_type": "stream",
     "text": [
      "\n",
      "Corrected test scores:\n",
      "   math  science  english\n",
      "0     2       26       13\n",
      "1    79       13       57\n",
      "2     8       16       63\n",
      "3    86        1       29\n",
      "4     6        3       91\n",
      "5    29       51       87\n",
      "6    88       30       80\n",
      "7    80       49       60\n",
      "8     2       48       43\n",
      "9    21       99       79\n"
     ]
    }
   ],
   "source": [
    "# Correct the errors by taking absolute values\n",
    "corrected_scores = scores.abs()\n",
    "print(\"\\nCorrected test scores:\")\n",
    "print(corrected_scores)"
   ]
  },
  {
   "cell_type": "code",
   "execution_count": 28,
   "metadata": {},
   "outputs": [
    {
     "name": "stdout",
     "output_type": "stream",
     "text": [
      "\n",
      "Z-scores:\n",
      "       math   science   english\n",
      "0 -0.998991 -0.257690 -1.839178\n",
      "1  1.019967 -0.698477 -0.124690\n",
      "2 -0.841669 -0.596757  0.109104\n",
      "3  1.203509 -1.105356 -1.215728\n",
      "4 -0.894110 -1.037543  1.200142\n",
      "5 -0.291045  0.589976  1.044279\n",
      "6  1.255949 -0.122064  0.771520\n",
      "7  1.046187  0.522162 -0.007793\n",
      "8 -0.998991  0.488256 -0.670209\n",
      "9 -0.500806  2.217494  0.732554\n"
     ]
    }
   ],
   "source": [
    "# Calculate z-scores (standardization)\n",
    "z_scores = (corrected_scores - corrected_scores.mean()) / corrected_scores.std()\n",
    "print(\"\\nZ-scores:\")\n",
    "print(z_scores)"
   ]
  },
  {
   "cell_type": "code",
   "execution_count": 29,
   "metadata": {},
   "outputs": [
    {
     "name": "stdout",
     "output_type": "stream",
     "text": [
      "\n",
      "Min-max scaled scores:\n",
      "       math   science   english\n",
      "0  0.000000  0.255102  0.000000\n",
      "1  0.895349  0.122449  0.564103\n",
      "2  0.069767  0.153061  0.641026\n",
      "3  0.976744  0.000000  0.205128\n",
      "4  0.046512  0.020408  1.000000\n",
      "5  0.313953  0.510204  0.948718\n",
      "6  1.000000  0.295918  0.858974\n",
      "7  0.906977  0.489796  0.602564\n",
      "8  0.000000  0.479592  0.384615\n",
      "9  0.220930  1.000000  0.846154\n"
     ]
    }
   ],
   "source": [
    "# Min-max scaling to [0, 1]\n",
    "min_max_scaled = (corrected_scores - corrected_scores.min()) / (corrected_scores.max() - corrected_scores.min())\n",
    "print(\"\\nMin-max scaled scores:\")\n",
    "print(min_max_scaled)"
   ]
  },
  {
   "cell_type": "code",
   "execution_count": 30,
   "metadata": {},
   "outputs": [
    {
     "data": {
      "image/png": "[encoded data removed]",
      "text/plain": [
       "<Figure size 1000x1200 with 3 Axes>"
      ]
     },
     "metadata": {},
     "output_type": "display_data"
    }
   ],
   "source": [
    "# Visualize the original and scaled data\n",
    "fig, axes = plt.subplots(3, 1, figsize=(10, 12))\n",
    "\n",
    "corrected_scores.plot(kind='bar', ax=axes[0], title='Original Scores')\n",
    "axes[0].set_ylabel('Score')\n",
    "axes[0].grid(axis='y', linestyle='--', alpha=0.7)\n",
    "\n",
    "z_scores.plot(kind='bar', ax=axes[1], title='Z-Scores')\n",
    "axes[1].set_ylabel('Z-Score')\n",
    "axes[1].grid(axis='y', linestyle='--', alpha=0.7)\n",
    "\n",
    "min_max_scaled.plot(kind='bar', ax=axes[2], title='Min-Max Scaled Scores')\n",
    "axes[2].set_ylabel('Scaled Score')\n",
    "axes[2].grid(axis='y', linestyle='--', alpha=0.7)\n",
    "\n",
    "plt.tight_layout()\n",
    "plt.show()"
   ]
  },
  {
   "cell_type": "markdown",
   "metadata": {},
   "source": [
    "##### Conclusion\n",
    "\n",
    "In this notebook, we've explored:\n",
    "\n",
    "1. **DataFrame Constructor**: We've seen how to create DataFrames from various data sources, including dictionaries, lists, NumPy arrays, and Series objects. The DataFrame is the primary pandas data structure for working with tabular data.\n",
    "\n",
    "2. **Converting Series to Other Formats**: We've explored methods for converting Series to various formats, including dictionaries, DataFrames, strings, JSON, CSV, and Markdown, which are useful for data interchange and storage.\n",
    "\n",
    "3. **The `abs()` Method**: We've learned how to use the `abs()` method to get the absolute values of numeric elements in Series and DataFrames, which is useful for data cleaning, normalization, and analysis.\n",
    "\n",
    "4. **Practical Applications**: We've seen how these methods can be applied in real-world scenarios, such as data normalization, standardization, and finding values closest to a target.\n",
    "\n",
    "These tools and techniques are essential for data manipulation and analysis in pandas, providing a solid foundation for working with tabular data in Python."
   ]
  }
 ],
 "metadata": {
  "kernelspec": {
   "display_name": "venv",
   "language": "python",
   "name": "python3"
  },
  "language_info": {
   "codemirror_mode": {
    "name": "ipython",
    "version": 3
   },
   "file_extension": ".py",
   "mimetype": "text/x-python",
   "name": "python",
   "nbconvert_exporter": "python",
   "pygments_lexer": "ipython3",
   "version": "3.13.2"
  }
 },
 "nbformat": 4,
 "nbformat_minor": 4
}
