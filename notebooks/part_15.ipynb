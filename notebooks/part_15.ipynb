{
 "cells": [
  {
   "cell_type": "markdown",
   "metadata": {},
   "source": [
    "# Part 15: SAS, SPSS Formats and Random Sampling in Pandas\n",
    "\n",
    "In this notebook, we'll explore:\n",
    "- Working with SAS and SPSS file formats\n",
    "- Performance considerations in pandas\n",
    "- Random sampling from Series and DataFrames\n",
    "\n",
    "## Setup\n",
    "First, let's import the necessary libraries:"
   ]
  },
  {
   "cell_type": "code",
   "execution_count": null,
   "metadata": {},
   "outputs": [],
   "source": [
    "import pandas as pd\n",
    "import numpy as np\n",
    "import sqlite3\n",
    "import os"
   ]
  },
  {
   "cell_type": "markdown",
   "metadata": {},
   "source": [
    "## 1. SAS Formats\n",
    "\n",
    "The top-level function `read_sas()` can read (but not write) SAS xport (.XPT) and SAS7BDAT (.sas7bdat) format files."
   ]
  },
  {
   "cell_type": "code",
   "execution_count": null,
   "metadata": {},
   "outputs": [],
   "source": [
    "# Read a SAS7BDAT file (example - you would need an actual SAS file)\n",
    "'''\n",
    "df = pd.read_sas('sas_data.sas7bdat')\n",
    "'''"
   ]
  },
  {
   "cell_type": "code",
   "execution_count": null,
   "metadata": {},
   "outputs": [],
   "source": [
    "# Obtain an iterator and read an XPORT file 100,000 lines at a time\n",
    "'''\n",
    "def do_something(chunk):\n",
    "    pass\n",
    "\n",
    "rdr = pd.read_sas('sas_xport.xpt', chunk=100000)\n",
    "for chunk in rdr:\n",
    "    do_something(chunk)\n",
    "'''"
   ]
  },
  {
   "cell_type": "markdown",
   "metadata": {},
   "source": [
    "## 2. SPSS Formats\n",
    "\n",
    "The top-level function `read_spss()` can read (but not write) SPSS sav (.sav) and zsav (.zsav) format files."
   ]
  },
  {
   "cell_type": "code",
   "execution_count": null,
   "metadata": {},
   "outputs": [],
   "source": [
    "# Read an SPSS file (example - you would need an actual SPSS file)\n",
    "'''\n",
    "df = pd.read_spss('spss_data.sav')\n",
    "'''"
   ]
  },
  {
   "cell_type": "code",
   "execution_count": null,
   "metadata": {},
   "outputs": [],
   "source": [
    "# Extract a subset of columns and avoid converting categorical columns\n",
    "'''\n",
    "df = pd.read_spss('spss_data.sav', usecols=['foo', 'bar'],\n",
    "                  convert_categoricals=False)\n",
    "'''"
   ]
  },
  {
   "cell_type": "markdown",
   "metadata": {},
   "source": [
    "## 3. Performance Considerations\n",
    "\n",
    "Let's create a sample DataFrame for performance testing:"
   ]
  },
  {
   "cell_type": "code",
   "execution_count": null,
   "metadata": {},
   "outputs": [],
   "source": [
    "sz = 1000000\n",
    "df = pd.DataFrame({'A': np.random.randn(sz), 'B': [1] * sz})\n",
    "\n",
    "df.info()"
   ]
  },
  {
   "cell_type": "code",
   "execution_count": null,
   "metadata": {},
   "outputs": [],
   "source": [
    "# Example functions for testing IO performance\n",
    "def test_sql_write(df):\n",
    "    if os.path.exists('test.sql'):\n",
    "        os.remove('test.sql')\n",
    "    sql_db = sqlite3.connect('test.sql')\n",
    "    df.to_sql(name='test_table', con=sql_db)\n",
    "    sql_db.close()\n",
    "\n",
    "def test_sql_read():\n",
    "    sql_db = sqlite3.connect('test.sql')\n",
    "    pd.read_sql_query(\"select * from test_table\", sql_db)\n",
    "    sql_db.close()\n",
    "\n",
    "def test_hdf_fixed_write(df):\n",
    "    df.to_hdf('test_fixed.hdf', 'test', mode='w')"
   ]
  },
  {
   "cell_type": "markdown",
   "metadata": {},
   "source": [
    "## 4. Selecting Random Samples\n",
    "\n",
    "A random selection of rows or columns from a Series or DataFrame can be obtained with the `sample()` method. The method will sample rows by default, and accepts a specific number of rows/columns to return, or a fraction of rows."
   ]
  },
  {
   "cell_type": "code",
   "execution_count": null,
   "metadata": {},
   "outputs": [],
   "source": [
    "s = pd.Series([0, 1, 2, 3, 4, 5])\n",
    "\n",
    "# When no arguments are passed, returns 1 row\n",
    "s.sample()"
   ]
  },
  {
   "cell_type": "code",
   "execution_count": null,
   "metadata": {},
   "outputs": [],
   "source": [
    "# Specify a number of rows\n",
    "s.sample(n=3)"
   ]
  },
  {
   "cell_type": "code",
   "execution_count": null,
   "metadata": {},
   "outputs": [],
   "source": [
    "# Or a fraction of the rows\n",
    "s.sample(frac=0.5)"
   ]
  },
  {
   "cell_type": "markdown",
   "metadata": {},
   "source": [
    "### 4.1 Sampling with Replacement\n",
    "\n",
    "By default, `sample` will return each row at most once, but one can also sample with replacement using the `replace` option:"
   ]
  },
  {
   "cell_type": "code",
   "execution_count": null,
   "metadata": {},
   "outputs": [],
   "source": [
    "s = pd.Series([0, 1, 2, 3, 4, 5])\n",
    "\n",
    "# Without replacement (default)\n",
    "s.sample(n=6, replace=False)"
   ]
  },
  {
   "cell_type": "code",
   "execution_count": null,
   "metadata": {},
   "outputs": [],
   "source": [
    "# With replacement\n",
    "s.sample(n=6, replace=True)"
   ]
  },
  {
   "cell_type": "markdown",
   "metadata": {},
   "source": [
    "### 4.2 Sampling with Weights\n",
    "\n",
    "By default, each row has an equal probability of being selected, but if you want rows to have different probabilities, you can pass the sample function sampling weights as `weights`."
   ]
  },
  {
   "cell_type": "code",
   "execution_count": null,
   "metadata": {},
   "outputs": [],
   "source": [
    "s = pd.Series([0, 1, 2, 3, 4, 5])\n",
    "\n",
    "example_weights = [0, 0, 0.2, 0.2, 0.2, 0.4]\n",
    "\n",
    "s.sample(n=3, weights=example_weights)"
   ]
  },
  {
   "cell_type": "code",
   "execution_count": null,
   "metadata": {},
   "outputs": [],
   "source": [
    "# Weights will be re-normalized automatically\n",
    "example_weights2 = [0.5, 0, 0, 0, 0, 0]\n",
    "\n",
    "s.sample(n=1, weights=example_weights2)"
   ]
  },
  {
   "cell_type": "markdown",
   "metadata": {},
   "source": [
    "### 4.3 Using DataFrame Column as Weights\n",
    "\n",
    "When applied to a DataFrame, you can use a column of the DataFrame as sampling weights (provided you are sampling rows and not columns) by simply passing the name of the column as a string."
   ]
  },
  {
   "cell_type": "code",
   "execution_count": null,
   "metadata": {},
   "outputs": [],
   "source": [
    "df2 = pd.DataFrame({'col1': [9, 8, 7, 6],\n",
    "                   'weight_column': [0.5, 0.4, 0.1, 0]})\n",
    "\n",
    "df2.sample(n=3, weights='weight_column')"
   ]
  },
  {
   "cell_type": "markdown",
   "metadata": {},
   "source": [
    "### 4.4 Sampling Columns\n",
    "\n",
    "The `sample` method also allows users to sample columns instead of rows using the `axis` argument."
   ]
  },
  {
   "cell_type": "code",
   "execution_count": null,
   "metadata": {},
   "outputs": [],
   "source": [
    "df3 = pd.DataFrame({'col1': [1, 2, 3], 'col2': [2, 3, 4]})\n",
    "\n",
    "# Sample columns instead of rows\n",
    "df3.sample(n=1, axis=1)"
   ]
  }
 ],
 "metadata": {
  "kernelspec": {
   "display_name": "Python 3",
   "language": "python",
   "name": "python3"
  },
  "language_info": {
   "codemirror_mode": {
    "name": "ipython",
    "version": 3
   },
   "file_extension": ".py",
   "mimetype": "text/x-python",
   "name": "python",
   "nbconvert_exporter": "python",
   "pygments_lexer": "ipython3",
   "version": "3.8.5"
  }
 },
 "nbformat": 4,
 "nbformat_minor": 4
}
