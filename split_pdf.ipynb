{
 "cells": [
  {
   "cell_type": "code",
   "execution_count": 2,
   "metadata": {},
   "outputs": [
    {
     "name": "stdout",
     "output_type": "stream",
     "text": [
      "PDF split into 124 files in pandas_pdf\n"
     ]
    }
   ],
   "source": [
    "import PyPDF2\n",
    "import os\n",
    "\n",
    "def split_pdf(input_pdf, output_dir, chunk_size):\n",
    "    \"\"\"Splits a PDF into multiple files of approximately equal size.\n",
    "\n",
    "    Args:\n",
    "        input_pdf: Path to the input PDF file.\n",
    "        output_dir: Directory to save the output PDF files.\n",
    "        chunk_size: Number of pages per output file.\n",
    "    \"\"\"\n",
    "\n",
    "    try:\n",
    "        with open(input_pdf, 'rb') as pdf_file:\n",
    "            pdf_reader = PyPDF2.PdfReader(pdf_file)\n",
    "            num_pages = len(pdf_reader.pages)\n",
    "\n",
    "            if num_pages == 0:\n",
    "                print(\"Error: The PDF file is empty.\")\n",
    "                return\n",
    "\n",
    "            os.makedirs(output_dir, exist_ok=True)  # Create output directory if it doesn't exist\n",
    "\n",
    "            for i in range(0, num_pages, chunk_size):\n",
    "                pdf_writer = PyPDF2.PdfWriter()\n",
    "                start_page = i\n",
    "                end_page = min(i + chunk_size, num_pages)  # Handle the last chunk\n",
    "\n",
    "                for page_num in range(start_page, end_page):\n",
    "                    page = pdf_reader.pages[page_num]\n",
    "                    pdf_writer.add_page(page)\n",
    "\n",
    "                output_filename = os.path.join(output_dir, f\"part_{i // chunk_size + 1}.pdf\")\n",
    "                with open(output_filename, 'wb') as output_file:\n",
    "                    pdf_writer.write(output_file)\n",
    "\n",
    "        print(f\"PDF split into {num_pages // chunk_size + (1 if num_pages % chunk_size > 0 else 0)} files in {output_dir}\")\n",
    "\n",
    "    except FileNotFoundError:\n",
    "        print(f\"Error: Input PDF file '{input_pdf}' not found.\")\n",
    "    except PyPDF2.errors.PdfReadError:\n",
    "        print(f\"Error: Could not read PDF file '{input_pdf}'. It might be corrupted.\")\n",
    "    except Exception as e:\n",
    "        print(f\"An unexpected error occurred: {e}\")\n",
    "\n",
    "\n",
    "\n",
    "if __name__ == \"__main__\":\n",
    "    input_pdf_path = \"pandas.pdf\"  # Replace with your input PDF path\n",
    "    output_directory = \"pandas_pdf\"  # Directory to store split PDFs\n",
    "    pages_per_chunk = 25  # Number of pages per output PDF\n",
    "\n",
    "    split_pdf(input_pdf_path, output_directory, pages_per_chunk)"
   ]
  },
  {
   "cell_type": "code",
   "execution_count": null,
   "metadata": {},
   "outputs": [],
   "source": []
  }
 ],
 "metadata": {
  "kernelspec": {
   "display_name": "cv",
   "language": "python",
   "name": "python3"
  },
  "language_info": {
   "codemirror_mode": {
    "name": "ipython",
    "version": 3
   },
   "file_extension": ".py",
   "mimetype": "text/x-python",
   "name": "python",
   "nbconvert_exporter": "python",
   "pygments_lexer": "ipython3",
   "version": "3.10.13"
  }
 },
 "nbformat": 4,
 "nbformat_minor": 2
}
